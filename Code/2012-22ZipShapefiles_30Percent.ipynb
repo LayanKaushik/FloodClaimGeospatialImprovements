{
 "cells": [
  {
   "cell_type": "code",
   "execution_count": 1,
   "id": "37d665cb",
   "metadata": {
    "tags": []
   },
   "outputs": [],
   "source": [
    "import pandas as pd\n",
    "import numpy as np\n",
    "import matplotlib.pyplot as plt\n",
    "import pyarrow as pa\n",
    "import pyarrow.parquet as pq\n",
    "import geopandas as gpd\n",
    "import seaborn as sns\n",
    "\n",
    "#Packages\n",
    "import matplotlib.ticker as mtick\n",
    "from scipy import stats\n",
    "pd.set_option('display.max_columns', None)\n",
    "\n",
    "from scipy.stats import skew, kurtosis\n",
    "\n",
    "import pygris\n",
    "from shapely.geometry import Polygon\n",
    "\n",
    "import geopandas as gpd\n",
    "from shapely.geometry import Polygon\n",
    "from itertools import product\n",
    "import warnings\n",
    "warnings.filterwarnings(\"ignore\")\n",
    "\n",
    "import shapely"
   ]
  },
  {
   "cell_type": "code",
   "execution_count": 2,
   "id": "25474234",
   "metadata": {
    "tags": []
   },
   "outputs": [],
   "source": [
    "chunk_size = 50000  # adjust based on your system's capabilities\n",
    "chunks = [x for x in range(0, 300000, chunk_size)]\n",
    "\n",
    "gdf_list = []\n",
    "\n",
    "for start in chunks:\n",
    "    end = start + chunk_size\n",
    "    temp_df = pd.read_parquet(f\"C:/Users/Asus/Box/Flood Damage PredictionProject/Dataset/zipcode_geometry_{start}_{end}.parquet.gzip\")\n",
    "    gdf_read = gpd.GeoDataFrame(temp_df, geometry=temp_df['geometry'].apply(lambda x: shapely.wkt.loads(x)))\n",
    "    gdf_list.append(gdf_read)\n",
    "    \n",
    "# Concatenate all GeoDataFrames in the list into a single GeoDataFrame\n",
    "zipcode_df = pd.concat(gdf_list, ignore_index=True)"
   ]
  },
  {
   "cell_type": "code",
   "execution_count": 3,
   "id": "cbf9516f",
   "metadata": {
    "tags": []
   },
   "outputs": [
    {
     "data": {
      "text/html": [
       "<div>\n",
       "<style scoped>\n",
       "    .dataframe tbody tr th:only-of-type {\n",
       "        vertical-align: middle;\n",
       "    }\n",
       "\n",
       "    .dataframe tbody tr th {\n",
       "        vertical-align: top;\n",
       "    }\n",
       "\n",
       "    .dataframe thead th {\n",
       "        text-align: right;\n",
       "    }\n",
       "</style>\n",
       "<table border=\"1\" class=\"dataframe\">\n",
       "  <thead>\n",
       "    <tr style=\"text-align: right;\">\n",
       "      <th></th>\n",
       "      <th>ZIPcode</th>\n",
       "      <th>geometry</th>\n",
       "      <th>year</th>\n",
       "    </tr>\n",
       "  </thead>\n",
       "  <tbody>\n",
       "    <tr>\n",
       "      <th>0</th>\n",
       "      <td>99519</td>\n",
       "      <td>POLYGON ((-148.34155 70.25088, -148.34207 70.2...</td>\n",
       "      <td>2016</td>\n",
       "    </tr>\n",
       "    <tr>\n",
       "      <th>1</th>\n",
       "      <td>99519</td>\n",
       "      <td>POLYGON ((-148.34155 70.25088, -148.34207 70.2...</td>\n",
       "      <td>2015</td>\n",
       "    </tr>\n",
       "    <tr>\n",
       "      <th>2</th>\n",
       "      <td>99519</td>\n",
       "      <td>POLYGON ((-148.34155 70.25088, -148.34207 70.2...</td>\n",
       "      <td>2014</td>\n",
       "    </tr>\n",
       "    <tr>\n",
       "      <th>3</th>\n",
       "      <td>99519</td>\n",
       "      <td>POLYGON ((-148.49985 70.29307, -148.49996 70.2...</td>\n",
       "      <td>2012</td>\n",
       "    </tr>\n",
       "    <tr>\n",
       "      <th>4</th>\n",
       "      <td>99519</td>\n",
       "      <td>POLYGON ((-148.49985 70.29307, -148.49996 70.2...</td>\n",
       "      <td>2013</td>\n",
       "    </tr>\n",
       "  </tbody>\n",
       "</table>\n",
       "</div>"
      ],
      "text/plain": [
       "  ZIPcode                                           geometry  year\n",
       "0   99519  POLYGON ((-148.34155 70.25088, -148.34207 70.2...  2016\n",
       "1   99519  POLYGON ((-148.34155 70.25088, -148.34207 70.2...  2015\n",
       "2   99519  POLYGON ((-148.34155 70.25088, -148.34207 70.2...  2014\n",
       "3   99519  POLYGON ((-148.49985 70.29307, -148.49996 70.2...  2012\n",
       "4   99519  POLYGON ((-148.49985 70.29307, -148.49996 70.2...  2013"
      ]
     },
     "execution_count": 3,
     "metadata": {},
     "output_type": "execute_result"
    }
   ],
   "source": [
    "zipcode_df.head()"
   ]
  },
  {
   "cell_type": "code",
   "execution_count": 4,
   "id": "33da4c6c",
   "metadata": {
    "tags": []
   },
   "outputs": [],
   "source": [
    "# Assuming `zipcode_df` is your GeoDataFrame with the shapefiles\n",
    "#buffered_shapefiles_df = buffer_by_year_iterative(zipcode_df)"
   ]
  },
  {
   "cell_type": "code",
   "execution_count": 5,
   "id": "57cfc44c",
   "metadata": {
    "tags": []
   },
   "outputs": [],
   "source": [
    "import geopandas as gpd\n",
    "import pandas as pd\n",
    "\n",
    "def buffer_by_year_binary_search_2(zipcode_df, base_year=2022):\n",
    "    all_years_buffered = gpd.GeoDataFrame()\n",
    "    buffer_cache = {}  # Cache for storing last buffer values for each zipcode\n",
    "\n",
    "    base_year_gdf = zipcode_df[zipcode_df['year'] == base_year]\n",
    "\n",
    "    for year in range(base_year - 1, 2011, -1):\n",
    "        print(year)\n",
    "        df_buffered = base_year_gdf.copy()\n",
    "        df_buffered['year'] = year\n",
    "\n",
    "        buffered_geometries = []\n",
    "\n",
    "        for idx, row in base_year_gdf.iterrows():\n",
    "            geometry = row['geometry']\n",
    "            zipcode = row['ZIPcode']\n",
    "\n",
    "            if geometry is None:\n",
    "                buffered_geometries.append(None)\n",
    "                continue\n",
    "\n",
    "            buffer_percentage = (base_year - year) / 100.0\n",
    "            target_area = geometry.area * (1 + buffer_percentage * 3)\n",
    "            initial_guess = buffer_cache.get(zipcode, 0.00001)  # Use cached value if available\n",
    "            buffer_distance = initial_guess\n",
    "\n",
    "            buffered_geometry = geometry.buffer(buffer_distance)\n",
    "            if buffered_geometry.area >= target_area:\n",
    "                # If initial guess is too large, reduce it to find a lower bound\n",
    "                high = buffer_distance\n",
    "                while buffered_geometry.area >= target_area:\n",
    "                    buffer_distance /= 2\n",
    "                    buffered_geometry = geometry.buffer(buffer_distance)\n",
    "                low = buffer_distance\n",
    "            else:\n",
    "                # If initial guess is too small, increase it to find an upper bound\n",
    "                while buffered_geometry.area < target_area:\n",
    "                    buffer_distance *= 2\n",
    "                    buffered_geometry = geometry.buffer(buffer_distance)\n",
    "                low, high = buffer_distance / 2, buffer_distance\n",
    "\n",
    "            # Apply binary search between low and high\n",
    "            while high - low > 1e-6:\n",
    "                mid = (low + high) / 2\n",
    "                buffered_geometry = geometry.buffer(mid)\n",
    "                buffered_area = buffered_geometry.area\n",
    "\n",
    "                if buffered_area < target_area:\n",
    "                    low = mid\n",
    "                else:\n",
    "                    high = mid\n",
    "\n",
    "            final_buffered_geometry = geometry.buffer((low + high) / 2)\n",
    "            buffered_geometries.append(final_buffered_geometry)\n",
    "            buffer_cache[zipcode] = (low + high) / 2  # Update cache\n",
    "\n",
    "        df_buffered['geometry'] = gpd.GeoSeries(buffered_geometries, index=df_buffered.index)\n",
    "        all_years_buffered = pd.concat([all_years_buffered, df_buffered], ignore_index=True)\n",
    "\n",
    "    all_years_buffered = pd.concat([all_years_buffered, base_year_gdf], ignore_index=True)\n",
    "\n",
    "    return all_years_buffered\n"
   ]
  },
  {
   "cell_type": "code",
   "execution_count": null,
   "id": "5ea2fd44",
   "metadata": {
    "collapsed": true,
    "jupyter": {
     "outputs_hidden": true
    },
    "tags": []
   },
   "outputs": [
    {
     "name": "stdout",
     "output_type": "stream",
     "text": [
      "2021\n",
      "2020\n",
      "2019\n",
      "2018\n",
      "2017\n",
      "2016\n",
      "2015\n",
      "2014\n",
      "2013\n",
      "2012\n"
     ]
    }
   ],
   "source": [
    "# Convert the geometry column to WKT format\n",
    "buffered_shapefiles = buffer_by_year_binary_search_2( zipcode_df[zipcode_df['year'] == 2022])\n",
    "\n",
    "zipcode_shapefiles_12_22 = buffered_shapefiles"
   ]
  },
  {
   "cell_type": "code",
   "execution_count": null,
   "id": "718e0606",
   "metadata": {
    "tags": []
   },
   "outputs": [],
   "source": [
    "import geopandas as gpd\n",
    "\n",
    "# Assuming zipcode_df and zipcode_shapefiles_12_22 are already loaded as GeoDataFrame\n",
    "\n",
    "years = range(2012, 2023)  # From 2012 to 2022, inclusive\n",
    "\n",
    "# Identify ZIP codes that have an observation in 2022\n",
    "zipcodes_in_2022 = set(zipcode_df[zipcode_df['year'] == 2022]['ZIPcode'])\n",
    "\n",
    "average_coverage_per_year = {}\n",
    "\n",
    "for year in years:\n",
    "    print(year)\n",
    "    # Filter rows for the current year and only include ZIP codes with a 2022 observation\n",
    "    df_year = zipcode_df[(zipcode_df['year'] == year) & (zipcode_df['ZIPcode'].isin(zipcodes_in_2022))]\n",
    "\n",
    "    coverage_ratios = []\n",
    "\n",
    "    for _, row in df_year.iterrows():\n",
    "        # Get corresponding shapefile geometry using ZIPcode\n",
    "        shapefile_geom = zipcode_shapefiles_12_22[(zipcode_shapefiles_12_22['ZIPcode'] == row['ZIPcode']) & \n",
    "                                                  (zipcode_shapefiles_12_22['year'] == year)]['geometry'].iloc[0]\n",
    "\n",
    "        # Calculate intersection\n",
    "        intersection = row['geometry'].intersection(shapefile_geom)\n",
    "\n",
    "        # Calculate area of intersection and area of original geometry\n",
    "        intersection_area = intersection.area\n",
    "        original_area = row['geometry'].area\n",
    "\n",
    "        # Calculate coverage and add to the list\n",
    "        coverage = intersection_area / original_area if original_area > 0 else 0\n",
    "        coverage_ratios.append(coverage)\n",
    "\n",
    "    # Calculate average coverage for the year\n",
    "    average_coverage = sum(coverage_ratios) / len(coverage_ratios) if coverage_ratios else 0\n",
    "    average_coverage_per_year[year] = average_coverage\n",
    "\n",
    "# average_coverage_per_year now contains the average coverage per year\n",
    "print(average_coverage_per_year)"
   ]
  },
  {
   "cell_type": "code",
   "execution_count": null,
   "id": "b3bdbda1",
   "metadata": {
    "tags": []
   },
   "outputs": [],
   "source": [
    "import geopandas as gpd\n",
    "\n",
    "# Assuming zipcode_df is already loaded as a GeoDataFrame\n",
    "\n",
    "years = range(2012, 2023)  # From 2012 to 2022, inclusive\n",
    "\n",
    "# Identify ZIP codes that have an observation in 2022\n",
    "zipcodes_in_2022 = set(zipcode_df[zipcode_df['year'] == 2022]['ZIPcode'])\n",
    "\n",
    "average_coverage_per_year = {}\n",
    "\n",
    "for year in years:\n",
    "    print(year)\n",
    "    # Filter rows for the current year and only include ZIP codes with a 2022 observation\n",
    "    df_year = zipcode_df[(zipcode_df['year'] == year) & (zipcode_df['ZIPcode'].isin(zipcodes_in_2022))]\n",
    "\n",
    "    # Also filter the 2022 geometries\n",
    "    df_2022 = zipcode_df[zipcode_df['year'] == 2022]\n",
    "\n",
    "    coverage_ratios = []\n",
    "\n",
    "    for _, row in df_year.iterrows():\n",
    "        # Get the corresponding 2022 geometry for the ZIP code\n",
    "        shapefile_geom_2022 = df_2022[df_2022['ZIPcode'] == row['ZIPcode']]['geometry'].iloc[0]\n",
    "\n",
    "        # Calculate intersection with the 2022 geometry\n",
    "        intersection = row['geometry'].intersection(shapefile_geom_2022)\n",
    "\n",
    "        # Calculate area of intersection and area of original geometry\n",
    "        intersection_area = intersection.area\n",
    "        original_area = row['geometry'].area\n",
    "\n",
    "        # Calculate coverage and add to the list\n",
    "        coverage = intersection_area / original_area if original_area > 0 else 0\n",
    "        coverage_ratios.append(coverage)\n",
    "\n",
    "    # Calculate average coverage for the year\n",
    "    average_coverage = sum(coverage_ratios) / len(coverage_ratios) if coverage_ratios else 0\n",
    "    average_coverage_per_year[year] = average_coverage\n",
    "\n",
    "# average_coverage_per_year now contains the average coverage per year\n",
    "print(average_coverage_per_year)"
   ]
  },
  {
   "cell_type": "code",
   "execution_count": null,
   "id": "b58acee1-53fb-4396-ac65-2f674f0f2801",
   "metadata": {},
   "outputs": [],
   "source": []
  }
 ],
 "metadata": {
  "kernelspec": {
   "display_name": "Python 3 (ipykernel)",
   "language": "python",
   "name": "python3"
  },
  "language_info": {
   "codemirror_mode": {
    "name": "ipython",
    "version": 3
   },
   "file_extension": ".py",
   "mimetype": "text/x-python",
   "name": "python",
   "nbconvert_exporter": "python",
   "pygments_lexer": "ipython3",
   "version": "3.8.17"
  }
 },
 "nbformat": 4,
 "nbformat_minor": 5
}
