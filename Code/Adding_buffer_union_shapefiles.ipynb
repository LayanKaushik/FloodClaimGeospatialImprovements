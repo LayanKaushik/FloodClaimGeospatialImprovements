{
 "cells": [
  {
   "cell_type": "code",
   "execution_count": 1,
   "id": "4d0c4bb0-e0f0-469d-b07d-3de1f9d80d1f",
   "metadata": {
    "tags": []
   },
   "outputs": [],
   "source": [
    "import pandas as pd\n",
    "import numpy as np\n",
    "import matplotlib.pyplot as plt\n",
    "import pyarrow as pa\n",
    "import pyarrow.parquet as pq\n",
    "import geopandas as gpd\n",
    "import seaborn as sns\n",
    "\n",
    "#Packages\n",
    "import matplotlib.ticker as mtick\n",
    "from scipy import stats\n",
    "pd.set_option('display.max_columns', None)\n",
    "\n",
    "from scipy.stats import skew, kurtosis\n",
    "\n",
    "import pygris\n",
    "from shapely.geometry import Polygon\n",
    "\n",
    "import geopandas as gpd\n",
    "from shapely.geometry import Polygon\n",
    "from itertools import product\n",
    "import warnings\n",
    "warnings.filterwarnings(\"ignore\")\n",
    "\n",
    "import shapely\n",
    "from shapely.ops import unary_union"
   ]
  },
  {
   "cell_type": "code",
   "execution_count": 2,
   "id": "7638cdef-7297-4510-bc49-26cb99d9d0e6",
   "metadata": {
    "tags": []
   },
   "outputs": [],
   "source": [
    "chunk_size = 50000  # adjust based on your system's capabilities\n",
    "chunks = [x for x in range(0, 300000, chunk_size)]\n",
    "\n",
    "gdf_list = []\n",
    "\n",
    "for start in chunks:\n",
    "    end = start + chunk_size\n",
    "    temp_df = pd.read_parquet(f\"C:/Users/Asus/Box/Flood Damage PredictionProject/Dataset/zipcode_geometry_{start}_{end}.parquet.gzip\")\n",
    "    gdf_read = gpd.GeoDataFrame(temp_df, geometry=temp_df['geometry'].apply(lambda x: shapely.wkt.loads(x)))\n",
    "    gdf_list.append(gdf_read)\n",
    "    \n",
    "# Concatenate all GeoDataFrames in the list into a single GeoDataFrame\n",
    "zipcode_df = pd.concat(gdf_list, ignore_index=True)"
   ]
  },
  {
   "cell_type": "code",
   "execution_count": 3,
   "id": "e86bf3f1-2df8-4471-adb9-cf9621d45b39",
   "metadata": {},
   "outputs": [
    {
     "data": {
      "text/html": [
       "<div>\n",
       "<style scoped>\n",
       "    .dataframe tbody tr th:only-of-type {\n",
       "        vertical-align: middle;\n",
       "    }\n",
       "\n",
       "    .dataframe tbody tr th {\n",
       "        vertical-align: top;\n",
       "    }\n",
       "\n",
       "    .dataframe thead th {\n",
       "        text-align: right;\n",
       "    }\n",
       "</style>\n",
       "<table border=\"1\" class=\"dataframe\">\n",
       "  <thead>\n",
       "    <tr style=\"text-align: right;\">\n",
       "      <th></th>\n",
       "      <th>ZIPcode</th>\n",
       "      <th>geometry</th>\n",
       "      <th>year</th>\n",
       "    </tr>\n",
       "  </thead>\n",
       "  <tbody>\n",
       "    <tr>\n",
       "      <th>0</th>\n",
       "      <td>99519</td>\n",
       "      <td>POLYGON ((-148.34155 70.25088, -148.34207 70.2...</td>\n",
       "      <td>2016</td>\n",
       "    </tr>\n",
       "    <tr>\n",
       "      <th>1</th>\n",
       "      <td>99519</td>\n",
       "      <td>POLYGON ((-148.34155 70.25088, -148.34207 70.2...</td>\n",
       "      <td>2015</td>\n",
       "    </tr>\n",
       "    <tr>\n",
       "      <th>2</th>\n",
       "      <td>99519</td>\n",
       "      <td>POLYGON ((-148.34155 70.25088, -148.34207 70.2...</td>\n",
       "      <td>2014</td>\n",
       "    </tr>\n",
       "    <tr>\n",
       "      <th>3</th>\n",
       "      <td>99519</td>\n",
       "      <td>POLYGON ((-148.49985 70.29307, -148.49996 70.2...</td>\n",
       "      <td>2012</td>\n",
       "    </tr>\n",
       "    <tr>\n",
       "      <th>4</th>\n",
       "      <td>99519</td>\n",
       "      <td>POLYGON ((-148.49985 70.29307, -148.49996 70.2...</td>\n",
       "      <td>2013</td>\n",
       "    </tr>\n",
       "  </tbody>\n",
       "</table>\n",
       "</div>"
      ],
      "text/plain": [
       "  ZIPcode                                           geometry  year\n",
       "0   99519  POLYGON ((-148.34155 70.25088, -148.34207 70.2...  2016\n",
       "1   99519  POLYGON ((-148.34155 70.25088, -148.34207 70.2...  2015\n",
       "2   99519  POLYGON ((-148.34155 70.25088, -148.34207 70.2...  2014\n",
       "3   99519  POLYGON ((-148.49985 70.29307, -148.49996 70.2...  2012\n",
       "4   99519  POLYGON ((-148.49985 70.29307, -148.49996 70.2...  2013"
      ]
     },
     "execution_count": 3,
     "metadata": {},
     "output_type": "execute_result"
    }
   ],
   "source": [
    "zipcode_df.head()"
   ]
  },
  {
   "cell_type": "code",
   "execution_count": 4,
   "id": "9def6965-a22a-4673-9046-16f5ee788e8e",
   "metadata": {},
   "outputs": [],
   "source": [
    "def create_union_and_flag(df, year_1, year_2, new_year):\n",
    "    df_year_1 = df[df['year'] == year_1]\n",
    "    df_year_2 = df[df['year'] == year_2]\n",
    "\n",
    "    new_geometries = []\n",
    "\n",
    "    unique_zipcodes = set(df_year_1['ZIPcode']).union(df_year_2['ZIPcode'])\n",
    "\n",
    "    for zipcode in unique_zipcodes:\n",
    "        geom_year_1 = df_year_1.loc[df_year_1['ZIPcode'] == zipcode, 'geometry'].unary_union if zipcode in df_year_1['ZIPcode'].values else None\n",
    "        geom_year_2 = df_year_2.loc[df_year_2['ZIPcode'] == zipcode, 'geometry'].unary_union if zipcode in df_year_2['ZIPcode'].values else None\n",
    "\n",
    "        if geom_year_1 is not None and geom_year_2 is not None:\n",
    "            new_geometry = unary_union([geom_year_1, geom_year_2])\n",
    "            flag = None\n",
    "        elif geom_year_1 is not None:\n",
    "            new_geometry = geom_year_1\n",
    "            flag = f'only{year_1}'\n",
    "        elif geom_year_2 is not None:\n",
    "            new_geometry = geom_year_2\n",
    "            flag = f'only{year_2}'\n",
    "        else:\n",
    "            continue\n",
    "\n",
    "        new_geometries.append({'ZIPcode': zipcode, 'geometry': new_geometry, 'year': new_year, 'flag': flag})\n",
    "\n",
    "    return new_geometries"
   ]
  },
  {
   "cell_type": "code",
   "execution_count": 5,
   "id": "344c6efd-e5c1-45c2-90d0-9ed36fb0565a",
   "metadata": {
    "tags": []
   },
   "outputs": [],
   "source": [
    "# Apply the function for the year pairs 2000-2010 and 2010-2012\n",
    "new_geometries_2005 = create_union_and_flag(zipcode_df, 2000, 2010, 2005)\n",
    "new_geometries_2011 = create_union_and_flag(zipcode_df, 2010, 2012, 2011)\n",
    "\n",
    "# Convert the lists to GeoDataFrames\n",
    "new_geometries_2005_df = gpd.GeoDataFrame(new_geometries_2005)\n",
    "new_geometries_2011_df = gpd.GeoDataFrame(new_geometries_2011)\n",
    "\n",
    "# Concatenate these with the original dataframe\n",
    "zipcode_df_1 = pd.concat([new_geometries_2005_df, new_geometries_2011_df], ignore_index=True)\n",
    "\n",
    "# Make sure the dataframe is still a GeoDataFrame\n",
    "zipcode_df_1 = gpd.GeoDataFrame(zipcode_df_1)\n",
    "\n",
    "# # Set 'flag' to NaN for all rows except where 'year' is 2005 or 2011\n",
    "# zipcode_df['flag'] = zipcode_df.apply(lambda x: x[''] if x['year'] in [2005, 2011] else None, axis=1)"
   ]
  },
  {
   "cell_type": "code",
   "execution_count": 6,
   "id": "b234a698-4b59-49e8-ab56-e78846bb6e24",
   "metadata": {
    "tags": []
   },
   "outputs": [
    {
     "data": {
      "text/html": [
       "<div>\n",
       "<style scoped>\n",
       "    .dataframe tbody tr th:only-of-type {\n",
       "        vertical-align: middle;\n",
       "    }\n",
       "\n",
       "    .dataframe tbody tr th {\n",
       "        vertical-align: top;\n",
       "    }\n",
       "\n",
       "    .dataframe thead th {\n",
       "        text-align: right;\n",
       "    }\n",
       "</style>\n",
       "<table border=\"1\" class=\"dataframe\">\n",
       "  <thead>\n",
       "    <tr style=\"text-align: right;\">\n",
       "      <th></th>\n",
       "      <th>ZIPcode</th>\n",
       "      <th>geometry</th>\n",
       "      <th>year</th>\n",
       "      <th>flag</th>\n",
       "    </tr>\n",
       "  </thead>\n",
       "  <tbody>\n",
       "    <tr>\n",
       "      <th>0</th>\n",
       "      <td>53217</td>\n",
       "      <td>POLYGON ((-87.91548 43.12452, -87.91542 43.124...</td>\n",
       "      <td>2005</td>\n",
       "      <td>None</td>\n",
       "    </tr>\n",
       "    <tr>\n",
       "      <th>1</th>\n",
       "      <td>33908</td>\n",
       "      <td>MULTIPOLYGON (((-82.02614 26.49143, -82.02534 ...</td>\n",
       "      <td>2005</td>\n",
       "      <td>None</td>\n",
       "    </tr>\n",
       "    <tr>\n",
       "      <th>2</th>\n",
       "      <td>49015</td>\n",
       "      <td>POLYGON ((-85.18530 42.31185, -85.18479 42.311...</td>\n",
       "      <td>2005</td>\n",
       "      <td>None</td>\n",
       "    </tr>\n",
       "    <tr>\n",
       "      <th>3</th>\n",
       "      <td>46376</td>\n",
       "      <td>POLYGON ((-87.44839 41.17418, -87.44844 41.174...</td>\n",
       "      <td>2005</td>\n",
       "      <td>None</td>\n",
       "    </tr>\n",
       "    <tr>\n",
       "      <th>4</th>\n",
       "      <td>95562</td>\n",
       "      <td>POLYGON ((-124.14152 40.45114, -124.14155 40.4...</td>\n",
       "      <td>2005</td>\n",
       "      <td>None</td>\n",
       "    </tr>\n",
       "  </tbody>\n",
       "</table>\n",
       "</div>"
      ],
      "text/plain": [
       "  ZIPcode                                           geometry  year  flag\n",
       "0   53217  POLYGON ((-87.91548 43.12452, -87.91542 43.124...  2005  None\n",
       "1   33908  MULTIPOLYGON (((-82.02614 26.49143, -82.02534 ...  2005  None\n",
       "2   49015  POLYGON ((-85.18530 42.31185, -85.18479 42.311...  2005  None\n",
       "3   46376  POLYGON ((-87.44839 41.17418, -87.44844 41.174...  2005  None\n",
       "4   95562  POLYGON ((-124.14152 40.45114, -124.14155 40.4...  2005  None"
      ]
     },
     "execution_count": 6,
     "metadata": {},
     "output_type": "execute_result"
    }
   ],
   "source": [
    "zipcode_df_1[zipcode_df_1['year']==2005].head()"
   ]
  },
  {
   "cell_type": "code",
   "execution_count": null,
   "id": "2ca48322-1f0d-4c93-b4a9-2ebb4f8502cf",
   "metadata": {
    "tags": []
   },
   "outputs": [],
   "source": [
    "target_zipcode = '43611'\n",
    "target_years = [2000, 2005, 2010]\n",
    "\n",
    "fig, axes = plt.subplots(1, 3, figsize=(50, 45))\n",
    "\n",
    "for i, year in enumerate(target_years):\n",
    "    data = zipcode_df[(zipcode_df_1['ZIPcode'] == target_zipcode) & (zipcode_df_1['year'] == year)]\n",
    "\n",
    "    if not data.empty:\n",
    "        # Calculate the area using the geometry column\n",
    "        area = data['geometry'].area\n",
    "        print(f\"Plotting data for year {year} - Area: {area.iloc[0]}\")  # iloc[0] to get the area of the first (and presumably only) geometry\n",
    "        \n",
    "        # Plot the geometry\n",
    "        data.plot(ax=axes[i], color='lightblue', edgecolor='black')\n",
    "    else:\n",
    "        print(f\"No data for year {year}\")\n",
    "\n",
    "    axes[i].set_title(f'ZIP code: {target_zipcode} - Year: {year}')\n",
    "    axes[i].axis('off')\n",
    "\n",
    "plt.tight_layout()\n",
    "plt.show()"
   ]
  },
  {
   "cell_type": "code",
   "execution_count": null,
   "id": "6210d1ce-9579-45cd-8eff-27cd0edc4a12",
   "metadata": {
    "tags": []
   },
   "outputs": [],
   "source": [
    "target_zipcode = '43611'\n",
    "target_years = [2000, 2005, 2010]\n",
    "\n",
    "# Create a larger figure with 5 subplots (3 for individual years + 2 for overlays)\n",
    "fig, axes = plt.subplots(1, 5, figsize=(30, 5))\n",
    "\n",
    "# Plot each year's geometry in the first 3 subplots\n",
    "for i, year in enumerate(target_years):\n",
    "    data = zipcode_df[(zipcode_df_1['ZIPcode'] == target_zipcode) & (zipcode_df_1['year'] == year)]\n",
    "    if not data.empty:\n",
    "        # Calculate and print the area of the geometry\n",
    "        area = data['geometry'].area\n",
    "        print(f\"Plotting data for year {year} - Area: {area.iloc[0]}\")\n",
    "        # Plot the geometry\n",
    "        data.plot(ax=axes[i], color='lightblue', edgecolor='black')\n",
    "        axes[i].set_title(f'ZIP code: {target_zipcode} - Year: {year}')\n",
    "    else:\n",
    "        print(f\"No data for year {year}\")\n",
    "    axes[i].axis('off')\n",
    "\n",
    "# Overlay the 2005 geometry on the 2000 geometry\n",
    "data_2000 = zipcode_df[(zipcode_df['ZIPcode'] == target_zipcode) & (zipcode_df['year'] == 2000)]\n",
    "data_2005 = zipcode_df[(zipcode_df['ZIPcode'] == target_zipcode) & (zipcode_df['year'] == 2005)]\n",
    "if not data_2000.empty and not data_2005.empty:\n",
    "    data_2000.plot(ax=axes[3], color='lightblue', edgecolor='black', alpha=0.5)\n",
    "    data_2005.plot(ax=axes[3], color='red', edgecolor='black', alpha=0.5)\n",
    "    axes[3].set_title('2000 overlaid with 2005')\n",
    "\n",
    "# Overlay the 2005 geometry on the 2010 geometry\n",
    "data_2010 = zipcode_df[(zipcode_df['ZIPcode'] == target_zipcode) & (zipcode_df['year'] == 2010)]\n",
    "if not data_2005.empty and not data_2010.empty:\n",
    "    data_2010.plot(ax=axes[4], color='lightblue', edgecolor='black', alpha=0.5)\n",
    "    data_2005.plot(ax=axes[4], color='red', edgecolor='black', alpha=0.5)\n",
    "    axes[4].set_title('2005 overlaid with 2010')\n",
    "\n",
    "axes[3].axis('off')\n",
    "axes[4].axis('off')\n",
    "\n",
    "plt.tight_layout()\n",
    "plt.show()"
   ]
  },
  {
   "cell_type": "code",
   "execution_count": 7,
   "id": "ed5b4e97-cf99-4d20-bbb6-daed9b0765eb",
   "metadata": {
    "tags": []
   },
   "outputs": [
    {
     "data": {
      "text/plain": [
       "45220"
      ]
     },
     "execution_count": 7,
     "metadata": {},
     "output_type": "execute_result"
    }
   ],
   "source": [
    "zipcode_df_1.shape[0]"
   ]
  },
  {
   "cell_type": "code",
   "execution_count": 8,
   "id": "5d480ea3-288a-473e-94fc-b2b8b8dd675c",
   "metadata": {
    "tags": []
   },
   "outputs": [
    {
     "data": {
      "text/html": [
       "<div>\n",
       "<style scoped>\n",
       "    .dataframe tbody tr th:only-of-type {\n",
       "        vertical-align: middle;\n",
       "    }\n",
       "\n",
       "    .dataframe tbody tr th {\n",
       "        vertical-align: top;\n",
       "    }\n",
       "\n",
       "    .dataframe thead th {\n",
       "        text-align: right;\n",
       "    }\n",
       "</style>\n",
       "<table border=\"1\" class=\"dataframe\">\n",
       "  <thead>\n",
       "    <tr style=\"text-align: right;\">\n",
       "      <th></th>\n",
       "      <th>ZIPcode</th>\n",
       "      <th>geometry</th>\n",
       "      <th>year</th>\n",
       "      <th>flag</th>\n",
       "    </tr>\n",
       "  </thead>\n",
       "  <tbody>\n",
       "    <tr>\n",
       "      <th>0</th>\n",
       "      <td>53217</td>\n",
       "      <td>POLYGON ((-87.91548 43.12452, -87.91542 43.124...</td>\n",
       "      <td>2005</td>\n",
       "      <td>None</td>\n",
       "    </tr>\n",
       "    <tr>\n",
       "      <th>1</th>\n",
       "      <td>33908</td>\n",
       "      <td>MULTIPOLYGON (((-82.02614 26.49143, -82.02534 ...</td>\n",
       "      <td>2005</td>\n",
       "      <td>None</td>\n",
       "    </tr>\n",
       "    <tr>\n",
       "      <th>2</th>\n",
       "      <td>49015</td>\n",
       "      <td>POLYGON ((-85.18530 42.31185, -85.18479 42.311...</td>\n",
       "      <td>2005</td>\n",
       "      <td>None</td>\n",
       "    </tr>\n",
       "    <tr>\n",
       "      <th>3</th>\n",
       "      <td>46376</td>\n",
       "      <td>POLYGON ((-87.44839 41.17418, -87.44844 41.174...</td>\n",
       "      <td>2005</td>\n",
       "      <td>None</td>\n",
       "    </tr>\n",
       "    <tr>\n",
       "      <th>4</th>\n",
       "      <td>95562</td>\n",
       "      <td>POLYGON ((-124.14152 40.45114, -124.14155 40.4...</td>\n",
       "      <td>2005</td>\n",
       "      <td>None</td>\n",
       "    </tr>\n",
       "  </tbody>\n",
       "</table>\n",
       "</div>"
      ],
      "text/plain": [
       "  ZIPcode                                           geometry  year  flag\n",
       "0   53217  POLYGON ((-87.91548 43.12452, -87.91542 43.124...  2005  None\n",
       "1   33908  MULTIPOLYGON (((-82.02614 26.49143, -82.02534 ...  2005  None\n",
       "2   49015  POLYGON ((-85.18530 42.31185, -85.18479 42.311...  2005  None\n",
       "3   46376  POLYGON ((-87.44839 41.17418, -87.44844 41.174...  2005  None\n",
       "4   95562  POLYGON ((-124.14152 40.45114, -124.14155 40.4...  2005  None"
      ]
     },
     "execution_count": 8,
     "metadata": {},
     "output_type": "execute_result"
    }
   ],
   "source": [
    "zipcode_df_1.head()"
   ]
  },
  {
   "cell_type": "code",
   "execution_count": 9,
   "id": "423ed15f-35fb-434b-b42f-b6b705a5252c",
   "metadata": {
    "tags": []
   },
   "outputs": [],
   "source": [
    "chunk_size = 25000  # adjust based on your system's capabilities\n",
    "chunks = [x for x in range(0, len(zipcode_df_1), chunk_size)]\n",
    "\n",
    "for start in chunks:\n",
    "    end = start + chunk_size\n",
    "    temp_df = zipcode_df_1.iloc[start:end].copy()\n",
    "    temp_df['geometry'] = temp_df['geometry'].apply(lambda geom: geom.wkt)\n",
    "    temp_df.to_parquet(f\"C:/Users/Asus/Box/Flood Damage PredictionProject/Dataset/zipcode_geometry_2005_2011_union_{start}_{end}.parquet.gzip\", compression='gzip')"
   ]
  }
 ],
 "metadata": {
  "kernelspec": {
   "display_name": "Python 3 (ipykernel)",
   "language": "python",
   "name": "python3"
  },
  "language_info": {
   "codemirror_mode": {
    "name": "ipython",
    "version": 3
   },
   "file_extension": ".py",
   "mimetype": "text/x-python",
   "name": "python",
   "nbconvert_exporter": "python",
   "pygments_lexer": "ipython3",
   "version": "3.8.17"
  }
 },
 "nbformat": 4,
 "nbformat_minor": 5
}
