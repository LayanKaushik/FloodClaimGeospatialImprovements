{
 "cells": [
  {
   "cell_type": "code",
   "execution_count": 1,
   "id": "7e4407d8",
   "metadata": {},
   "outputs": [],
   "source": [
    "import pandas as pd\n",
    "import numpy as np\n",
    "import matplotlib.pyplot as plt\n",
    "import pyarrow as pa\n",
    "import pyarrow.parquet as pq\n",
    "import geopandas as gpd\n",
    "import seaborn as sns\n",
    "\n",
    "#Packages\n",
    "import pandas as pd\n",
    "import matplotlib.pyplot as plt\n",
    "import matplotlib.ticker as mtick\n",
    "import numpy as np\n",
    "from scipy import stats\n",
    "pd.set_option('display.max_columns', None)"
   ]
  },
  {
   "cell_type": "code",
   "execution_count": 2,
   "id": "075ddfb8",
   "metadata": {},
   "outputs": [],
   "source": [
    "df = pd.read_csv(r\"C:\\Users\\jorda\\OneDrive\\Documents\\FloodDamagePrediction\\Fema.csv.csv\", low_memory = False)"
   ]
  },
  {
   "cell_type": "code",
   "execution_count": 3,
   "id": "ab20b648",
   "metadata": {},
   "outputs": [],
   "source": [
    "# Calculate the proportion of observations with waterDepth <= n (1,2,3,4,5,6) per date and censusBlockGroupFips\n",
    "df['proportionLeqOne'] = df.groupby(['dateOfLoss', 'censusBlockGroupFips'])['waterDepth'].transform(\n",
    "    lambda x: (x <= 1).mean()\n",
    ")\n",
    "\n",
    "df['proportionLeqTwo'] = df.groupby(['dateOfLoss', 'censusBlockGroupFips'])['waterDepth'].transform(\n",
    "    lambda x: (x <= 2).mean()\n",
    ")\n",
    "\n",
    "df['proportionLeqThree'] = df.groupby(['dateOfLoss', 'censusBlockGroupFips'])['waterDepth'].transform(\n",
    "    lambda x: (x <= 3).mean()\n",
    ")\n",
    "\n",
    "df['proportionLeqFour'] = df.groupby(['dateOfLoss', 'censusBlockGroupFips'])['waterDepth'].transform(\n",
    "    lambda x: (x <= 4).mean()\n",
    ")\n",
    "\n",
    "df['proportionLeqFive'] = df.groupby(['dateOfLoss', 'censusBlockGroupFips'])['waterDepth'].transform(\n",
    "    lambda x: (x <= 5).mean()\n",
    ")\n",
    "\n",
    "df['proportionLeqSix'] = df.groupby(['dateOfLoss', 'censusBlockGroupFips'])['waterDepth'].transform(\n",
    "    lambda x: (x <= 6).mean()\n",
    ")"
   ]
  },
  {
   "cell_type": "code",
   "execution_count": 4,
   "id": "641a141f",
   "metadata": {},
   "outputs": [
    {
     "data": {
      "text/plain": [
       "0    1.000000\n",
       "1    0.928571\n",
       "2    0.888889\n",
       "3    1.000000\n",
       "4    1.000000\n",
       "Name: proportionLeqOne, dtype: float64"
      ]
     },
     "execution_count": 4,
     "metadata": {},
     "output_type": "execute_result"
    }
   ],
   "source": [
    "df['proportionLeqOne'].head()"
   ]
  },
  {
   "cell_type": "code",
   "execution_count": null,
   "id": "f6446ecc",
   "metadata": {},
   "outputs": [],
   "source": [
    "# Ensure that dateOfLoss is of datetime type\n",
    "df['dateOfLoss'] = pd.to_datetime(df['dateOfLoss'])\n",
    "\n",
    "# Define a function that, given a group dataframe and a date, \n",
    "# returns the median, 25th, 75th, and 90th percentile of waterDepth in the 3-day window centered on that date\n",
    "def get_stats_in_window(group_df, date):\n",
    "    mask = (group_df['dateOfLoss'] >= date - pd.Timedelta(days=1)) & (group_df['dateOfLoss'] <= date + pd.Timedelta(days=1))\n",
    "    selected_water_depths = group_df.loc[mask, 'waterDepth']\n",
    "    return {\n",
    "        'medWaterDepth': selected_water_depths.median(),\n",
    "        'p25WaterDepth': selected_water_depths.quantile(0.25),\n",
    "        'p75WaterDepth': selected_water_depths.quantile(0.75),\n",
    "        'p90WaterDepth': selected_water_depths.quantile(0.90)\n",
    "    }\n",
    "\n",
    "# Iterate over all groups and all dates, and calculate the statistics in the 3-day window\n",
    "for fips, group_df in df.groupby('censusBlockGroupFips'):\n",
    "    for date in group_df['dateOfLoss'].unique():  # using unique to avoid recalculating for same date\n",
    "        stat = get_stats_in_window(group_df, date)\n",
    "        mask = (df['censusBlockGroupFips'] == fips) & (df['dateOfLoss'] == date)\n",
    "        df.loc[mask, 'medWaterDepth'] = stat['medWaterDepth']\n",
    "        df.loc[mask, 'p25WaterDepth'] = stat['p25WaterDepth']\n",
    "        df.loc[mask, 'p75WaterDepth'] = stat['p75WaterDepth']\n",
    "        df.loc[mask, 'p90WaterDepth'] = stat['p90WaterDepth']\n",
    "\n"
   ]
  },
  {
   "cell_type": "code",
   "execution_count": null,
   "id": "159c4c5e",
   "metadata": {},
   "outputs": [],
   "source": [
    "#get new variable of difference between observed water depth and median and 90th quantile per 3 day window water depth grouped by census block\n",
    "\n",
    "df['diffMedWaterDepth'] = df['waterDepth'] - df['medWaterDepth']\n",
    "df['diff90WaterDepth'] = df['waterDepth'] - df['p90WaterDepth']\n"
   ]
  },
  {
   "cell_type": "code",
   "execution_count": null,
   "id": "af77abe6",
   "metadata": {},
   "outputs": [],
   "source": []
  }
 ],
 "metadata": {
  "kernelspec": {
   "display_name": "Python 3 (ipykernel)",
   "language": "python",
   "name": "python3"
  },
  "language_info": {
   "codemirror_mode": {
    "name": "ipython",
    "version": 3
   },
   "file_extension": ".py",
   "mimetype": "text/x-python",
   "name": "python",
   "nbconvert_exporter": "python",
   "pygments_lexer": "ipython3",
   "version": "3.9.13"
  }
 },
 "nbformat": 4,
 "nbformat_minor": 5
}
