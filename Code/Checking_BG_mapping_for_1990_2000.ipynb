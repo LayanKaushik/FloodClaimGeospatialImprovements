{
 "cells": [
  {
   "cell_type": "code",
   "execution_count": 1,
   "id": "5114eaa4-3823-46ac-973c-7a21703a76c0",
   "metadata": {
    "tags": []
   },
   "outputs": [],
   "source": [
    "import pandas as pd\n",
    "import numpy as np\n",
    "import matplotlib.pyplot as plt\n",
    "import pyarrow as pa\n",
    "import pyarrow.parquet as pq\n",
    "import geopandas as gpd\n",
    "import seaborn as sns\n",
    "\n",
    "#Packages\n",
    "import pandas as pd\n",
    "import matplotlib.pyplot as plt\n",
    "import matplotlib.ticker as mtick\n",
    "import numpy as np\n",
    "from scipy import stats\n",
    "pd.set_option('display.max_columns', None)\n",
    "\n",
    "from scipy.stats import skew, kurtosis\n",
    "\n",
    "import pygris\n",
    "import shapely"
   ]
  },
  {
   "cell_type": "code",
   "execution_count": 2,
   "id": "4fdef958-47be-4955-91fa-97d1a102f5c2",
   "metadata": {
    "tags": []
   },
   "outputs": [],
   "source": [
    "df = pd.read_parquet(\"C:/Users/Asus/Box/Flood Damage PredictionProject/Dataset/FimaNfipClaims.parquet.gzip\")"
   ]
  },
  {
   "cell_type": "code",
   "execution_count": 51,
   "id": "193f1a64-0427-4cd7-a918-10a751195028",
   "metadata": {
    "tags": []
   },
   "outputs": [
    {
     "data": {
      "text/plain": [
       "2584242"
      ]
     },
     "execution_count": 51,
     "metadata": {},
     "output_type": "execute_result"
    }
   ],
   "source": [
    "df.shape[0]"
   ]
  },
  {
   "cell_type": "code",
   "execution_count": 3,
   "id": "1dc52dad-e6da-48b3-b4f0-26b889b222db",
   "metadata": {
    "tags": []
   },
   "outputs": [],
   "source": [
    "df_copy = df.copy()"
   ]
  },
  {
   "cell_type": "code",
   "execution_count": 4,
   "id": "eeda6c8a-9f1b-4f12-bb73-5c7d77bebbf3",
   "metadata": {
    "tags": []
   },
   "outputs": [],
   "source": [
    "# Define bins and labels for yearOfLoss_1990_2021\n",
    "bins_1980_2021 = [df_copy['yearOfLoss'].min(), 2000, 2010, 2020, df_copy['yearOfLoss'].max() + 1]\n",
    "labels_1980_2021 = [1990, 2000, 2010, 2020]\n",
    "\n",
    "df_copy['yearOfLoss_1990_2021'] = pd.cut(df_copy['yearOfLoss'], bins=bins_1980_2021, labels=labels_1980_2021, right=False).astype(int)"
   ]
  },
  {
   "cell_type": "code",
   "execution_count": 3,
   "id": "4f6e5572-4a6a-445b-a2b4-d056a0487a97",
   "metadata": {
    "tags": []
   },
   "outputs": [],
   "source": [
    "df_geographic_unique = df[['state', 'reportedZipCode', 'countyCode', 'censusTract', 'censusBlockGroupFips', 'latitude', 'longitude', 'yearOfLoss']].drop_duplicates()"
   ]
  },
  {
   "cell_type": "code",
   "execution_count": 4,
   "id": "dd320442-e8a0-432b-a88c-db96e5de2d45",
   "metadata": {
    "tags": []
   },
   "outputs": [],
   "source": [
    "df_geographic_unique = df_geographic_unique.dropna(subset=['latitude', 'censusBlockGroupFips'])"
   ]
  },
  {
   "cell_type": "code",
   "execution_count": 5,
   "id": "3208a8e2-7d7c-46cb-8893-622bdbb2c0ec",
   "metadata": {
    "tags": []
   },
   "outputs": [],
   "source": [
    "df_geographic_unique['censusBlockGroupFips'] = [str(int(float(i))) for i in df_geographic_unique['censusBlockGroupFips']]\n",
    "df_geographic_unique['censusBlockGroupFips'] = [censusBG.zfill(12) for censusBG in df_geographic_unique['censusBlockGroupFips']]"
   ]
  },
  {
   "cell_type": "code",
   "execution_count": 6,
   "id": "8b058949-52b6-4492-af86-2be8815590c3",
   "metadata": {
    "tags": []
   },
   "outputs": [],
   "source": [
    "# Define bins and labels for yearOfLoss_1980_2020\n",
    "bins_1980_2020 = [df_geographic_unique['yearOfLoss'].min(), 1990, 2000, 2010, 2020, df_geographic_unique['yearOfLoss'].max() + 1]\n",
    "labels_1980_2020 = [1980, 1990, 2000, 2010, 2020]\n",
    "\n",
    "df_geographic_unique['yearOfLoss_1980_2020'] = pd.cut(df_geographic_unique['yearOfLoss'], bins=bins_1980_2020, labels=labels_1980_2020, right=False).astype(int)"
   ]
  },
  {
   "cell_type": "code",
   "execution_count": null,
   "id": "e6b4484d-9af3-4576-b03e-68869c756d07",
   "metadata": {
    "tags": []
   },
   "outputs": [],
   "source": [
    "# states = pygris.states()\n",
    "# states_list = sorted(states['STUSPS'].unique())"
   ]
  },
  {
   "cell_type": "code",
   "execution_count": null,
   "id": "5128f5a2-0ff3-49bb-8c80-1aac9caaf691",
   "metadata": {
    "tags": []
   },
   "outputs": [],
   "source": [
    "# BG_list_2000 = []\n",
    "\n",
    "# for i in states_list:\n",
    "#     BG_list_2000.append(pygris.block_groups(state = i, year = 2000))"
   ]
  },
  {
   "cell_type": "code",
   "execution_count": 7,
   "id": "f23c178d-f133-407e-9cf6-84978e6b5da0",
   "metadata": {
    "tags": []
   },
   "outputs": [
    {
     "name": "stdout",
     "output_type": "stream",
     "text": [
      "Using FIPS code '37' for input 'NC'\n"
     ]
    }
   ],
   "source": [
    "BG_list_df2000 = pygris.block_groups(state = 'NC', year = 2000)"
   ]
  },
  {
   "cell_type": "code",
   "execution_count": null,
   "id": "7b00fd82-df48-4100-b2ea-534f80892f99",
   "metadata": {
    "tags": []
   },
   "outputs": [],
   "source": [
    "# BG_list_1990 = []\n",
    "\n",
    "# for i in states_list:\n",
    "#     BG_list_1990.append(pygris.block_groups(state = i, year = 1990, cb = True))"
   ]
  },
  {
   "cell_type": "code",
   "execution_count": 8,
   "id": "60b1447c-8749-43ca-805f-9f2431188ea1",
   "metadata": {
    "tags": []
   },
   "outputs": [
    {
     "name": "stdout",
     "output_type": "stream",
     "text": [
      "Using FIPS code '37' for input 'NC'\n"
     ]
    }
   ],
   "source": [
    "BG_list_df1990 = pygris.block_groups(state = 'NC', year = 1990, cb = True)"
   ]
  },
  {
   "cell_type": "code",
   "execution_count": null,
   "id": "cd6b8993-5a9d-45db-985a-a92b0b2d2447",
   "metadata": {
    "tags": []
   },
   "outputs": [],
   "source": [
    "# BG_list_df2000 = pd.concat(BG_list_2000, ignore_index=True)\n",
    "# BG_list_df1990 = pd.concat(BG_list_1990, ignore_index=True)"
   ]
  },
  {
   "cell_type": "code",
   "execution_count": 9,
   "id": "a5364222-98a2-4557-9e30-702738537051",
   "metadata": {
    "tags": []
   },
   "outputs": [],
   "source": [
    "BG_list_df2000 = BG_list_df2000[['BKGPIDFP00', 'geometry']]\n",
    "BG_list_df2000['year'] = 2000\n",
    "\n",
    "BG_list_df2000 = BG_list_df2000.rename(columns={\"BKGPIDFP00\": \"GEOID\"})\n",
    "\n",
    "BG_list_df1990 = BG_list_df1990[['GEOID', 'geometry']]\n",
    "BG_list_df1990['year'] = 1990"
   ]
  },
  {
   "cell_type": "markdown",
   "id": "8b8f06bd-1b81-4cdc-b589-560c7f842980",
   "metadata": {},
   "source": [
    "#### Checking for 2000..."
   ]
  },
  {
   "cell_type": "code",
   "execution_count": null,
   "id": "2332124a-5b75-4fa8-b58e-17fa28394af9",
   "metadata": {
    "tags": []
   },
   "outputs": [],
   "source": [
    "# df_geographic_unique2000 = df_geographic_unique[df_geographic_unique['yearOfLoss_1980_2020']==2000]"
   ]
  },
  {
   "cell_type": "code",
   "execution_count": 10,
   "id": "aeab2c8b-e3e8-4c2a-8150-53e1620dad46",
   "metadata": {
    "tags": []
   },
   "outputs": [],
   "source": [
    "df_geographic_unique2000 = df_geographic_unique[(df_geographic_unique['yearOfLoss_1980_2020']==2000) & (df_geographic_unique['state']=='NC')]"
   ]
  },
  {
   "cell_type": "code",
   "execution_count": 11,
   "id": "029a47ab-442b-42dd-b41b-501410e66bdc",
   "metadata": {
    "tags": []
   },
   "outputs": [],
   "source": [
    "# Read the parquet file\n",
    "df_read = pd.read_parquet(\"C:/Users/Asus/Box/Flood Damage PredictionProject/Dataset/lat_long_geometry.parquet.gzip\")\n",
    "\n",
    "# Convert the WKT strings back to geometries\n",
    "lat_long_df = gpd.GeoDataFrame(df_read, geometry=df_read['geometry'].apply(lambda x: shapely.wkt.loads(x)))"
   ]
  },
  {
   "cell_type": "code",
   "execution_count": 12,
   "id": "23c411e4-c2f4-4bc0-aa93-a548606380da",
   "metadata": {
    "tags": []
   },
   "outputs": [],
   "source": [
    "lat_long_df.rename(columns={'geometry': 'geometry_lat_long'}, inplace=True)"
   ]
  },
  {
   "cell_type": "code",
   "execution_count": 13,
   "id": "c494707a-9f11-4f81-980e-1ed0949542de",
   "metadata": {
    "tags": []
   },
   "outputs": [
    {
     "name": "stderr",
     "output_type": "stream",
     "text": [
      "C:\\Users\\Asus\\AppData\\Local\\Temp\\ipykernel_30356\\408559743.py:5: SettingWithCopyWarning: \n",
      "A value is trying to be set on a copy of a slice from a DataFrame.\n",
      "Try using .loc[row_indexer,col_indexer] = value instead\n",
      "\n",
      "See the caveats in the documentation: https://pandas.pydata.org/pandas-docs/stable/user_guide/indexing.html#returning-a-view-versus-a-copy\n",
      "  df_geographic_unique2000['geometry_lat_long'] = df_geographic_unique2000.set_index(['latitude', 'longitude']).index.map(lat_long_df['geometry_lat_long'])\n"
     ]
    }
   ],
   "source": [
    "# Setting the multi-index on lat_long_df\n",
    "lat_long_df.set_index(['latitude', 'longitude'], inplace=True)\n",
    "\n",
    "# Mapping the values\n",
    "df_geographic_unique2000['geometry_lat_long'] = df_geographic_unique2000.set_index(['latitude', 'longitude']).index.map(lat_long_df['geometry_lat_long'])\n",
    "\n",
    "# Resetting the index of lat_long_df (optional, but good practice)\n",
    "lat_long_df.reset_index(inplace=True)"
   ]
  },
  {
   "cell_type": "code",
   "execution_count": 14,
   "id": "c1695793-0d3f-4d92-9d97-e34edc2b6fbe",
   "metadata": {
    "tags": []
   },
   "outputs": [],
   "source": [
    "import geopandas as gpd\n",
    "from shapely.geometry import Polygon\n",
    "from itertools import product\n",
    "import warnings\n",
    "warnings.filterwarnings(\"ignore\")"
   ]
  },
  {
   "cell_type": "code",
   "execution_count": 18,
   "id": "0d6297ea-e36b-4f08-bd10-433e5adced19",
   "metadata": {
    "tags": []
   },
   "outputs": [],
   "source": [
    "df_geographic_unique2000_lat_long = df_geographic_unique2000[['latitude', 'longitude', 'geometry_lat_long']].drop_duplicates()"
   ]
  },
  {
   "cell_type": "code",
   "execution_count": 20,
   "id": "3c056ea0-df17-4699-80a3-5c49f6b8d098",
   "metadata": {
    "tags": []
   },
   "outputs": [],
   "source": [
    "# Convert the DataFrame to a GeoDataFrame\n",
    "gdf = gpd.GeoDataFrame(BG_list_df2000, geometry='geometry')\n",
    "\n",
    "# Set the current CRS to WGS 84 (assuming your data is in latitude and longitude)\n",
    "gdf.crs = \"EPSG:4326\"\n",
    "\n",
    "# Project the GeoDataFrame to a suitable CRS (Web Mercator in this case)\n",
    "gdf_projected = gdf.to_crs(epsg=3857)\n",
    "\n",
    "# Compute the area for each geometry in square kilometers\n",
    "gdf_projected['area_km2'] = gdf_projected.geometry.area / 1e6\n",
    "\n",
    "# Filter out geometries with area less than 152.1611272703287 square kilometers\n",
    "filtered_gdf = gdf_projected[gdf_projected['area_km2'] >= 152.16]\n",
    "\n",
    "# If you want the filtered data in the original CRS, you can do the following:\n",
    "BG_list_df2000_filtered = filtered_gdf.to_crs(epsg=4326)"
   ]
  },
  {
   "cell_type": "code",
   "execution_count": 55,
   "id": "bf475777-82cc-4337-9bd7-5980f58b10ef",
   "metadata": {
    "tags": []
   },
   "outputs": [],
   "source": [
    "# Create an empty GeoDataFrame to store the intersection results\n",
    "new_unit_df2000 = gpd.GeoDataFrame(columns=['MATCHED_censusBlockGroupFips', 'latitude', 'longitude', 'geometry_BG',\n",
    "                                        'geometry_lat_long', 'new_geometry'])\n",
    "\n",
    "# Iterate through each row in BG_df_2000 and each row in lat_long_df to find intersections\n",
    "for idx_unit_data, row_unit_data in df_geographic_unique2000_lat_long.iterrows():\n",
    "    for idx_unit_shape, row_unit_shape in BG_list_df2000_filtered.iterrows():\n",
    "\n",
    "        bg_id2 = row_unit_shape['GEOID']\n",
    "        bg_geometry = row_unit_shape['geometry']\n",
    "        lat_long_geometry = row_unit_data['geometry_lat_long']\n",
    "        lat = row_unit_data['latitude']\n",
    "        long = row_unit_data['longitude']\n",
    "    \n",
    "        # Compute intersection geometry\n",
    "        intersection_geometry = bg_geometry.intersection(lat_long_geometry)\n",
    "        \n",
    "        intersection_gseries = gpd.GeoSeries([intersection_geometry], crs=\"EPSG:4326\")\n",
    "        intersection_gseries_projected = intersection_gseries.to_crs(epsg=3857)\n",
    "        area_m2 = intersection_gseries_projected.iloc[0].area\n",
    "        \n",
    "        if area_m2 / 1e6 >= 100.1611272703287:\n",
    "    \n",
    "            new_unit_df2000 = pd.concat([new_unit_df2000, pd.DataFrame({\n",
    "                'MATCHED_censusBlockGroupFips': [bg_id2],\n",
    "                'latitude': [lat],\n",
    "                'longitude': [long],\n",
    "                'geometry_BG': [bg_geometry],\n",
    "                'geometry_lat_long': [lat_long_geometry],\n",
    "                'new_geometry': [intersection_geometry]\n",
    "            })], ignore_index=True)"
   ]
  },
  {
   "cell_type": "code",
   "execution_count": 57,
   "id": "c74772ce-7761-42de-881b-66dc380465ea",
   "metadata": {
    "tags": []
   },
   "outputs": [
    {
     "data": {
      "text/plain": [
       "8"
      ]
     },
     "execution_count": 57,
     "metadata": {},
     "output_type": "execute_result"
    }
   ],
   "source": [
    "new_unit_df2000.shape[0]"
   ]
  },
  {
   "cell_type": "code",
   "execution_count": 58,
   "id": "387e057f-bc09-4cb3-9f9d-1b3940a375c3",
   "metadata": {},
   "outputs": [],
   "source": [
    "# Setting the multi-index on filtered_df\n",
    "new_unit_df2000.set_index(['latitude', 'longitude'], inplace=True)\n",
    "\n",
    "# Mapping values one by one\n",
    "df_geographic_unique2000['MATCHED_censusBlockGroupFips'] = df_geographic_unique2000.set_index(['latitude', 'longitude']).index.map(new_unit_df2000['MATCHED_censusBlockGroupFips'])\n",
    "df_geographic_unique2000['geometry_BG'] = df_geographic_unique2000.set_index(['latitude', 'longitude']).index.map(new_unit_df2000['geometry_BG'])\n",
    "df_geographic_unique2000['new_geometry'] = df_geographic_unique2000.set_index(['latitude', 'longitude']).index.map(new_unit_df2000['new_geometry'])\n",
    "\n",
    "# Assuming lat_long_df should be df_geographic_unique2000 based on context\n",
    "new_unit_df2000.reset_index(inplace=True)"
   ]
  },
  {
   "cell_type": "code",
   "execution_count": 59,
   "id": "45ae3442-bb78-462f-9d70-8b458c6d1c50",
   "metadata": {
    "collapsed": true,
    "jupyter": {
     "outputs_hidden": true
    },
    "tags": []
   },
   "outputs": [
    {
     "data": {
      "text/html": [
       "<div>\n",
       "<style scoped>\n",
       "    .dataframe tbody tr th:only-of-type {\n",
       "        vertical-align: middle;\n",
       "    }\n",
       "\n",
       "    .dataframe tbody tr th {\n",
       "        vertical-align: top;\n",
       "    }\n",
       "\n",
       "    .dataframe thead th {\n",
       "        text-align: right;\n",
       "    }\n",
       "</style>\n",
       "<table border=\"1\" class=\"dataframe\">\n",
       "  <thead>\n",
       "    <tr style=\"text-align: right;\">\n",
       "      <th></th>\n",
       "      <th>state</th>\n",
       "      <th>reportedZipCode</th>\n",
       "      <th>countyCode</th>\n",
       "      <th>censusTract</th>\n",
       "      <th>censusBlockGroupFips</th>\n",
       "      <th>latitude</th>\n",
       "      <th>longitude</th>\n",
       "      <th>yearOfLoss</th>\n",
       "      <th>yearOfLoss_1980_2020</th>\n",
       "      <th>geometry_lat_long</th>\n",
       "      <th>MATCHED_censusBlockGroupFips</th>\n",
       "      <th>geometry_BG</th>\n",
       "      <th>new_geometry</th>\n",
       "    </tr>\n",
       "  </thead>\n",
       "  <tbody>\n",
       "    <tr>\n",
       "      <th>31</th>\n",
       "      <td>NC</td>\n",
       "      <td>28646.0</td>\n",
       "      <td>37011.0</td>\n",
       "      <td>3.701193e+10</td>\n",
       "      <td>370119302003</td>\n",
       "      <td>36.0</td>\n",
       "      <td>-81.9</td>\n",
       "      <td>2004</td>\n",
       "      <td>2000</td>\n",
       "      <td>POLYGON ((-81.95000 35.95000, -81.85000 35.950...</td>\n",
       "      <td>NaN</td>\n",
       "      <td>NaN</td>\n",
       "      <td>NaN</td>\n",
       "    </tr>\n",
       "    <tr>\n",
       "      <th>90</th>\n",
       "      <td>NC</td>\n",
       "      <td>27920.0</td>\n",
       "      <td>37055.0</td>\n",
       "      <td>3.705597e+10</td>\n",
       "      <td>370559705022</td>\n",
       "      <td>35.3</td>\n",
       "      <td>-75.5</td>\n",
       "      <td>2003</td>\n",
       "      <td>2000</td>\n",
       "      <td>POLYGON ((-75.55000 35.25000, -75.45000 35.250...</td>\n",
       "      <td>NaN</td>\n",
       "      <td>NaN</td>\n",
       "      <td>NaN</td>\n",
       "    </tr>\n",
       "    <tr>\n",
       "      <th>185</th>\n",
       "      <td>NC</td>\n",
       "      <td>27949.0</td>\n",
       "      <td>37055.0</td>\n",
       "      <td>3.705597e+10</td>\n",
       "      <td>370559701022</td>\n",
       "      <td>36.1</td>\n",
       "      <td>-75.7</td>\n",
       "      <td>2003</td>\n",
       "      <td>2000</td>\n",
       "      <td>POLYGON ((-75.75000 36.05000, -75.65000 36.050...</td>\n",
       "      <td>NaN</td>\n",
       "      <td>NaN</td>\n",
       "      <td>NaN</td>\n",
       "    </tr>\n",
       "    <tr>\n",
       "      <th>235</th>\n",
       "      <td>NC</td>\n",
       "      <td>27927.0</td>\n",
       "      <td>37053.0</td>\n",
       "      <td>3.705311e+10</td>\n",
       "      <td>370531101012</td>\n",
       "      <td>36.4</td>\n",
       "      <td>-75.8</td>\n",
       "      <td>2006</td>\n",
       "      <td>2000</td>\n",
       "      <td>POLYGON ((-75.85000 36.35000, -75.75000 36.350...</td>\n",
       "      <td>NaN</td>\n",
       "      <td>NaN</td>\n",
       "      <td>NaN</td>\n",
       "    </tr>\n",
       "    <tr>\n",
       "      <th>256</th>\n",
       "      <td>NC</td>\n",
       "      <td>27909.0</td>\n",
       "      <td>37139.0</td>\n",
       "      <td>3.713996e+10</td>\n",
       "      <td>371399605021</td>\n",
       "      <td>36.3</td>\n",
       "      <td>-76.2</td>\n",
       "      <td>2006</td>\n",
       "      <td>2000</td>\n",
       "      <td>POLYGON ((-76.25000 36.25000, -76.15000 36.250...</td>\n",
       "      <td>NaN</td>\n",
       "      <td>NaN</td>\n",
       "      <td>NaN</td>\n",
       "    </tr>\n",
       "  </tbody>\n",
       "</table>\n",
       "</div>"
      ],
      "text/plain": [
       "    state  reportedZipCode  countyCode   censusTract censusBlockGroupFips  \\\n",
       "31     NC          28646.0     37011.0  3.701193e+10         370119302003   \n",
       "90     NC          27920.0     37055.0  3.705597e+10         370559705022   \n",
       "185    NC          27949.0     37055.0  3.705597e+10         370559701022   \n",
       "235    NC          27927.0     37053.0  3.705311e+10         370531101012   \n",
       "256    NC          27909.0     37139.0  3.713996e+10         371399605021   \n",
       "\n",
       "     latitude  longitude  yearOfLoss  yearOfLoss_1980_2020  \\\n",
       "31       36.0      -81.9        2004                  2000   \n",
       "90       35.3      -75.5        2003                  2000   \n",
       "185      36.1      -75.7        2003                  2000   \n",
       "235      36.4      -75.8        2006                  2000   \n",
       "256      36.3      -76.2        2006                  2000   \n",
       "\n",
       "                                     geometry_lat_long  \\\n",
       "31   POLYGON ((-81.95000 35.95000, -81.85000 35.950...   \n",
       "90   POLYGON ((-75.55000 35.25000, -75.45000 35.250...   \n",
       "185  POLYGON ((-75.75000 36.05000, -75.65000 36.050...   \n",
       "235  POLYGON ((-75.85000 36.35000, -75.75000 36.350...   \n",
       "256  POLYGON ((-76.25000 36.25000, -76.15000 36.250...   \n",
       "\n",
       "    MATCHED_censusBlockGroupFips geometry_BG new_geometry  \n",
       "31                           NaN         NaN          NaN  \n",
       "90                           NaN         NaN          NaN  \n",
       "185                          NaN         NaN          NaN  \n",
       "235                          NaN         NaN          NaN  \n",
       "256                          NaN         NaN          NaN  "
      ]
     },
     "execution_count": 59,
     "metadata": {},
     "output_type": "execute_result"
    }
   ],
   "source": [
    "df_geographic_unique2000.head()"
   ]
  },
  {
   "cell_type": "code",
   "execution_count": 61,
   "id": "20f4567a-dfa7-4d64-a94f-a93be37aa592",
   "metadata": {},
   "outputs": [],
   "source": [
    "filtered_df = df_geographic_unique2000[df_geographic_unique2000['MATCHED_censusBlockGroupFips'].notna()]"
   ]
  },
  {
   "cell_type": "code",
   "execution_count": 66,
   "id": "a70af814-27e0-4992-9276-b9fc74be6e4d",
   "metadata": {
    "collapsed": true,
    "jupyter": {
     "outputs_hidden": true
    },
    "tags": []
   },
   "outputs": [
    {
     "data": {
      "text/html": [
       "<div>\n",
       "<style scoped>\n",
       "    .dataframe tbody tr th:only-of-type {\n",
       "        vertical-align: middle;\n",
       "    }\n",
       "\n",
       "    .dataframe tbody tr th {\n",
       "        vertical-align: top;\n",
       "    }\n",
       "\n",
       "    .dataframe thead th {\n",
       "        text-align: right;\n",
       "    }\n",
       "</style>\n",
       "<table border=\"1\" class=\"dataframe\">\n",
       "  <thead>\n",
       "    <tr style=\"text-align: right;\">\n",
       "      <th></th>\n",
       "      <th>state</th>\n",
       "      <th>reportedZipCode</th>\n",
       "      <th>countyCode</th>\n",
       "      <th>censusTract</th>\n",
       "      <th>censusBlockGroupFips</th>\n",
       "      <th>latitude</th>\n",
       "      <th>longitude</th>\n",
       "      <th>yearOfLoss</th>\n",
       "      <th>yearOfLoss_1980_2020</th>\n",
       "      <th>geometry_lat_long</th>\n",
       "      <th>MATCHED_censusBlockGroupFips</th>\n",
       "      <th>geometry_BG</th>\n",
       "      <th>new_geometry</th>\n",
       "    </tr>\n",
       "  </thead>\n",
       "  <tbody>\n",
       "    <tr>\n",
       "      <th>5407</th>\n",
       "      <td>NC</td>\n",
       "      <td>27978.0</td>\n",
       "      <td>37055.0</td>\n",
       "      <td>3.705597e+10</td>\n",
       "      <td>370559705011</td>\n",
       "      <td>35.7</td>\n",
       "      <td>-75.7</td>\n",
       "      <td>2003</td>\n",
       "      <td>2000</td>\n",
       "      <td>POLYGON ((-75.75000 35.65000, -75.65000 35.650...</td>\n",
       "      <td>370559705004</td>\n",
       "      <td>POLYGON ((-75.59184199999999 35.758117, -75.59...</td>\n",
       "      <td>POLYGON ((-75.75 35.75, -75.65 35.75, -75.65 3...</td>\n",
       "    </tr>\n",
       "    <tr>\n",
       "      <th>14690</th>\n",
       "      <td>NC</td>\n",
       "      <td>27824.0</td>\n",
       "      <td>37095.0</td>\n",
       "      <td>3.709592e+10</td>\n",
       "      <td>370959201003</td>\n",
       "      <td>35.5</td>\n",
       "      <td>-76.0</td>\n",
       "      <td>2003</td>\n",
       "      <td>2000</td>\n",
       "      <td>POLYGON ((-76.05000 35.45000, -75.95000 35.450...</td>\n",
       "      <td>370959801001</td>\n",
       "      <td>POLYGON ((-76.211888 35.46288299999999, -76.21...</td>\n",
       "      <td>POLYGON ((-76.05 35.55, -75.95 35.55, -75.95 3...</td>\n",
       "    </tr>\n",
       "    <tr>\n",
       "      <th>241614</th>\n",
       "      <td>NC</td>\n",
       "      <td>27978.0</td>\n",
       "      <td>37055.0</td>\n",
       "      <td>3.705597e+10</td>\n",
       "      <td>370559705011</td>\n",
       "      <td>35.7</td>\n",
       "      <td>-75.7</td>\n",
       "      <td>2004</td>\n",
       "      <td>2000</td>\n",
       "      <td>POLYGON ((-75.75000 35.65000, -75.65000 35.650...</td>\n",
       "      <td>370559705004</td>\n",
       "      <td>POLYGON ((-75.59184199999999 35.758117, -75.59...</td>\n",
       "      <td>POLYGON ((-75.75 35.75, -75.65 35.75, -75.65 3...</td>\n",
       "    </tr>\n",
       "    <tr>\n",
       "      <th>403717</th>\n",
       "      <td>NC</td>\n",
       "      <td>27978.0</td>\n",
       "      <td>37055.0</td>\n",
       "      <td>3.705597e+10</td>\n",
       "      <td>370559705011</td>\n",
       "      <td>35.7</td>\n",
       "      <td>-75.7</td>\n",
       "      <td>2008</td>\n",
       "      <td>2000</td>\n",
       "      <td>POLYGON ((-75.75000 35.65000, -75.65000 35.650...</td>\n",
       "      <td>370559705004</td>\n",
       "      <td>POLYGON ((-75.59184199999999 35.758117, -75.59...</td>\n",
       "      <td>POLYGON ((-75.75 35.75, -75.65 35.75, -75.65 3...</td>\n",
       "    </tr>\n",
       "    <tr>\n",
       "      <th>403718</th>\n",
       "      <td>NC</td>\n",
       "      <td>27978.0</td>\n",
       "      <td>37055.0</td>\n",
       "      <td>3.705597e+10</td>\n",
       "      <td>370559705011</td>\n",
       "      <td>35.7</td>\n",
       "      <td>-75.7</td>\n",
       "      <td>2009</td>\n",
       "      <td>2000</td>\n",
       "      <td>POLYGON ((-75.75000 35.65000, -75.65000 35.650...</td>\n",
       "      <td>370559705004</td>\n",
       "      <td>POLYGON ((-75.59184199999999 35.758117, -75.59...</td>\n",
       "      <td>POLYGON ((-75.75 35.75, -75.65 35.75, -75.65 3...</td>\n",
       "    </tr>\n",
       "    <tr>\n",
       "      <th>550378</th>\n",
       "      <td>NC</td>\n",
       "      <td>27824.0</td>\n",
       "      <td>37095.0</td>\n",
       "      <td>3.709592e+10</td>\n",
       "      <td>370959201003</td>\n",
       "      <td>35.5</td>\n",
       "      <td>-76.0</td>\n",
       "      <td>2007</td>\n",
       "      <td>2000</td>\n",
       "      <td>POLYGON ((-76.05000 35.45000, -75.95000 35.450...</td>\n",
       "      <td>370959801001</td>\n",
       "      <td>POLYGON ((-76.211888 35.46288299999999, -76.21...</td>\n",
       "      <td>POLYGON ((-76.05 35.55, -75.95 35.55, -75.95 3...</td>\n",
       "    </tr>\n",
       "    <tr>\n",
       "      <th>554301</th>\n",
       "      <td>NC</td>\n",
       "      <td>27978.0</td>\n",
       "      <td>37055.0</td>\n",
       "      <td>3.705597e+10</td>\n",
       "      <td>370559705011</td>\n",
       "      <td>35.7</td>\n",
       "      <td>-75.8</td>\n",
       "      <td>2003</td>\n",
       "      <td>2000</td>\n",
       "      <td>POLYGON ((-75.85000 35.65000, -75.75000 35.650...</td>\n",
       "      <td>370559705004</td>\n",
       "      <td>POLYGON ((-75.59184199999999 35.758117, -75.59...</td>\n",
       "      <td>POLYGON ((-75.85 35.75, -75.75 35.75, -75.75 3...</td>\n",
       "    </tr>\n",
       "    <tr>\n",
       "      <th>624424</th>\n",
       "      <td>NC</td>\n",
       "      <td>27824.0</td>\n",
       "      <td>37095.0</td>\n",
       "      <td>3.709592e+10</td>\n",
       "      <td>370959201003</td>\n",
       "      <td>35.5</td>\n",
       "      <td>-76.1</td>\n",
       "      <td>2003</td>\n",
       "      <td>2000</td>\n",
       "      <td>POLYGON ((-76.15000 35.45000, -76.05000 35.450...</td>\n",
       "      <td>370959801001</td>\n",
       "      <td>POLYGON ((-76.211888 35.46288299999999, -76.21...</td>\n",
       "      <td>POLYGON ((-76.14999999999999 35.55, -76.05 35....</td>\n",
       "    </tr>\n",
       "    <tr>\n",
       "      <th>625303</th>\n",
       "      <td>NC</td>\n",
       "      <td>27824.0</td>\n",
       "      <td>37095.0</td>\n",
       "      <td>3.709592e+10</td>\n",
       "      <td>370959201003</td>\n",
       "      <td>35.5</td>\n",
       "      <td>-76.0</td>\n",
       "      <td>2004</td>\n",
       "      <td>2000</td>\n",
       "      <td>POLYGON ((-76.05000 35.45000, -75.95000 35.450...</td>\n",
       "      <td>370959801001</td>\n",
       "      <td>POLYGON ((-76.211888 35.46288299999999, -76.21...</td>\n",
       "      <td>POLYGON ((-76.05 35.55, -75.95 35.55, -75.95 3...</td>\n",
       "    </tr>\n",
       "    <tr>\n",
       "      <th>626412</th>\n",
       "      <td>NC</td>\n",
       "      <td>27824.0</td>\n",
       "      <td>37095.0</td>\n",
       "      <td>3.709592e+10</td>\n",
       "      <td>370959201003</td>\n",
       "      <td>35.6</td>\n",
       "      <td>-76.1</td>\n",
       "      <td>2003</td>\n",
       "      <td>2000</td>\n",
       "      <td>POLYGON ((-76.15000 35.55000, -76.05000 35.550...</td>\n",
       "      <td>370959801001</td>\n",
       "      <td>POLYGON ((-76.211888 35.46288299999999, -76.21...</td>\n",
       "      <td>POLYGON ((-76.14999999999999 35.65, -76.05 35....</td>\n",
       "    </tr>\n",
       "    <tr>\n",
       "      <th>626651</th>\n",
       "      <td>NC</td>\n",
       "      <td>27824.0</td>\n",
       "      <td>37095.0</td>\n",
       "      <td>3.709592e+10</td>\n",
       "      <td>370959201003</td>\n",
       "      <td>35.6</td>\n",
       "      <td>-76.0</td>\n",
       "      <td>2003</td>\n",
       "      <td>2000</td>\n",
       "      <td>POLYGON ((-76.05000 35.55000, -75.95000 35.550...</td>\n",
       "      <td>370959801001</td>\n",
       "      <td>POLYGON ((-76.211888 35.46288299999999, -76.21...</td>\n",
       "      <td>POLYGON ((-76.05 35.65, -75.95 35.65, -75.95 3...</td>\n",
       "    </tr>\n",
       "    <tr>\n",
       "      <th>627693</th>\n",
       "      <td>NC</td>\n",
       "      <td>27826.0</td>\n",
       "      <td>37095.0</td>\n",
       "      <td>3.709592e+10</td>\n",
       "      <td>370959201003</td>\n",
       "      <td>35.6</td>\n",
       "      <td>-76.1</td>\n",
       "      <td>2003</td>\n",
       "      <td>2000</td>\n",
       "      <td>POLYGON ((-76.15000 35.55000, -76.05000 35.550...</td>\n",
       "      <td>370959801001</td>\n",
       "      <td>POLYGON ((-76.211888 35.46288299999999, -76.21...</td>\n",
       "      <td>POLYGON ((-76.14999999999999 35.65, -76.05 35....</td>\n",
       "    </tr>\n",
       "    <tr>\n",
       "      <th>630871</th>\n",
       "      <td>NC</td>\n",
       "      <td>27824.0</td>\n",
       "      <td>37095.0</td>\n",
       "      <td>3.709592e+10</td>\n",
       "      <td>370959201003</td>\n",
       "      <td>35.5</td>\n",
       "      <td>-76.0</td>\n",
       "      <td>2009</td>\n",
       "      <td>2000</td>\n",
       "      <td>POLYGON ((-76.05000 35.45000, -75.95000 35.450...</td>\n",
       "      <td>370959801001</td>\n",
       "      <td>POLYGON ((-76.211888 35.46288299999999, -76.21...</td>\n",
       "      <td>POLYGON ((-76.05 35.55, -75.95 35.55, -75.95 3...</td>\n",
       "    </tr>\n",
       "    <tr>\n",
       "      <th>768881</th>\n",
       "      <td>NC</td>\n",
       "      <td>27824.0</td>\n",
       "      <td>37095.0</td>\n",
       "      <td>3.709592e+10</td>\n",
       "      <td>370959201003</td>\n",
       "      <td>35.5</td>\n",
       "      <td>-76.0</td>\n",
       "      <td>2006</td>\n",
       "      <td>2000</td>\n",
       "      <td>POLYGON ((-76.05000 35.45000, -75.95000 35.450...</td>\n",
       "      <td>370959801001</td>\n",
       "      <td>POLYGON ((-76.211888 35.46288299999999, -76.21...</td>\n",
       "      <td>POLYGON ((-76.05 35.55, -75.95 35.55, -75.95 3...</td>\n",
       "    </tr>\n",
       "    <tr>\n",
       "      <th>1718449</th>\n",
       "      <td>NC</td>\n",
       "      <td>27810.0</td>\n",
       "      <td>37095.0</td>\n",
       "      <td>3.709592e+10</td>\n",
       "      <td>370959201001</td>\n",
       "      <td>35.6</td>\n",
       "      <td>-76.4</td>\n",
       "      <td>2003</td>\n",
       "      <td>2000</td>\n",
       "      <td>POLYGON ((-76.45000 35.55000, -76.35000 35.550...</td>\n",
       "      <td>370959801002</td>\n",
       "      <td>POLYGON ((-76.53600399999999 35.58233699999999...</td>\n",
       "      <td>POLYGON ((-76.45 35.65, -76.35000000000001 35....</td>\n",
       "    </tr>\n",
       "    <tr>\n",
       "      <th>1721394</th>\n",
       "      <td>NC</td>\n",
       "      <td>NaN</td>\n",
       "      <td>37095.0</td>\n",
       "      <td>3.709592e+10</td>\n",
       "      <td>370959201003</td>\n",
       "      <td>35.5</td>\n",
       "      <td>-76.0</td>\n",
       "      <td>2003</td>\n",
       "      <td>2000</td>\n",
       "      <td>POLYGON ((-76.05000 35.45000, -75.95000 35.450...</td>\n",
       "      <td>370959801001</td>\n",
       "      <td>POLYGON ((-76.211888 35.46288299999999, -76.21...</td>\n",
       "      <td>POLYGON ((-76.05 35.55, -75.95 35.55, -75.95 3...</td>\n",
       "    </tr>\n",
       "    <tr>\n",
       "      <th>2364030</th>\n",
       "      <td>NC</td>\n",
       "      <td>27824.0</td>\n",
       "      <td>37095.0</td>\n",
       "      <td>3.709592e+10</td>\n",
       "      <td>370959201003</td>\n",
       "      <td>35.5</td>\n",
       "      <td>-76.0</td>\n",
       "      <td>2008</td>\n",
       "      <td>2000</td>\n",
       "      <td>POLYGON ((-76.05000 35.45000, -75.95000 35.450...</td>\n",
       "      <td>370959801001</td>\n",
       "      <td>POLYGON ((-76.211888 35.46288299999999, -76.21...</td>\n",
       "      <td>POLYGON ((-76.05 35.55, -75.95 35.55, -75.95 3...</td>\n",
       "    </tr>\n",
       "  </tbody>\n",
       "</table>\n",
       "</div>"
      ],
      "text/plain": [
       "        state  reportedZipCode  countyCode   censusTract censusBlockGroupFips  \\\n",
       "5407       NC          27978.0     37055.0  3.705597e+10         370559705011   \n",
       "14690      NC          27824.0     37095.0  3.709592e+10         370959201003   \n",
       "241614     NC          27978.0     37055.0  3.705597e+10         370559705011   \n",
       "403717     NC          27978.0     37055.0  3.705597e+10         370559705011   \n",
       "403718     NC          27978.0     37055.0  3.705597e+10         370559705011   \n",
       "550378     NC          27824.0     37095.0  3.709592e+10         370959201003   \n",
       "554301     NC          27978.0     37055.0  3.705597e+10         370559705011   \n",
       "624424     NC          27824.0     37095.0  3.709592e+10         370959201003   \n",
       "625303     NC          27824.0     37095.0  3.709592e+10         370959201003   \n",
       "626412     NC          27824.0     37095.0  3.709592e+10         370959201003   \n",
       "626651     NC          27824.0     37095.0  3.709592e+10         370959201003   \n",
       "627693     NC          27826.0     37095.0  3.709592e+10         370959201003   \n",
       "630871     NC          27824.0     37095.0  3.709592e+10         370959201003   \n",
       "768881     NC          27824.0     37095.0  3.709592e+10         370959201003   \n",
       "1718449    NC          27810.0     37095.0  3.709592e+10         370959201001   \n",
       "1721394    NC              NaN     37095.0  3.709592e+10         370959201003   \n",
       "2364030    NC          27824.0     37095.0  3.709592e+10         370959201003   \n",
       "\n",
       "         latitude  longitude  yearOfLoss  yearOfLoss_1980_2020  \\\n",
       "5407         35.7      -75.7        2003                  2000   \n",
       "14690        35.5      -76.0        2003                  2000   \n",
       "241614       35.7      -75.7        2004                  2000   \n",
       "403717       35.7      -75.7        2008                  2000   \n",
       "403718       35.7      -75.7        2009                  2000   \n",
       "550378       35.5      -76.0        2007                  2000   \n",
       "554301       35.7      -75.8        2003                  2000   \n",
       "624424       35.5      -76.1        2003                  2000   \n",
       "625303       35.5      -76.0        2004                  2000   \n",
       "626412       35.6      -76.1        2003                  2000   \n",
       "626651       35.6      -76.0        2003                  2000   \n",
       "627693       35.6      -76.1        2003                  2000   \n",
       "630871       35.5      -76.0        2009                  2000   \n",
       "768881       35.5      -76.0        2006                  2000   \n",
       "1718449      35.6      -76.4        2003                  2000   \n",
       "1721394      35.5      -76.0        2003                  2000   \n",
       "2364030      35.5      -76.0        2008                  2000   \n",
       "\n",
       "                                         geometry_lat_long  \\\n",
       "5407     POLYGON ((-75.75000 35.65000, -75.65000 35.650...   \n",
       "14690    POLYGON ((-76.05000 35.45000, -75.95000 35.450...   \n",
       "241614   POLYGON ((-75.75000 35.65000, -75.65000 35.650...   \n",
       "403717   POLYGON ((-75.75000 35.65000, -75.65000 35.650...   \n",
       "403718   POLYGON ((-75.75000 35.65000, -75.65000 35.650...   \n",
       "550378   POLYGON ((-76.05000 35.45000, -75.95000 35.450...   \n",
       "554301   POLYGON ((-75.85000 35.65000, -75.75000 35.650...   \n",
       "624424   POLYGON ((-76.15000 35.45000, -76.05000 35.450...   \n",
       "625303   POLYGON ((-76.05000 35.45000, -75.95000 35.450...   \n",
       "626412   POLYGON ((-76.15000 35.55000, -76.05000 35.550...   \n",
       "626651   POLYGON ((-76.05000 35.55000, -75.95000 35.550...   \n",
       "627693   POLYGON ((-76.15000 35.55000, -76.05000 35.550...   \n",
       "630871   POLYGON ((-76.05000 35.45000, -75.95000 35.450...   \n",
       "768881   POLYGON ((-76.05000 35.45000, -75.95000 35.450...   \n",
       "1718449  POLYGON ((-76.45000 35.55000, -76.35000 35.550...   \n",
       "1721394  POLYGON ((-76.05000 35.45000, -75.95000 35.450...   \n",
       "2364030  POLYGON ((-76.05000 35.45000, -75.95000 35.450...   \n",
       "\n",
       "        MATCHED_censusBlockGroupFips  \\\n",
       "5407                    370559705004   \n",
       "14690                   370959801001   \n",
       "241614                  370559705004   \n",
       "403717                  370559705004   \n",
       "403718                  370559705004   \n",
       "550378                  370959801001   \n",
       "554301                  370559705004   \n",
       "624424                  370959801001   \n",
       "625303                  370959801001   \n",
       "626412                  370959801001   \n",
       "626651                  370959801001   \n",
       "627693                  370959801001   \n",
       "630871                  370959801001   \n",
       "768881                  370959801001   \n",
       "1718449                 370959801002   \n",
       "1721394                 370959801001   \n",
       "2364030                 370959801001   \n",
       "\n",
       "                                               geometry_BG  \\\n",
       "5407     POLYGON ((-75.59184199999999 35.758117, -75.59...   \n",
       "14690    POLYGON ((-76.211888 35.46288299999999, -76.21...   \n",
       "241614   POLYGON ((-75.59184199999999 35.758117, -75.59...   \n",
       "403717   POLYGON ((-75.59184199999999 35.758117, -75.59...   \n",
       "403718   POLYGON ((-75.59184199999999 35.758117, -75.59...   \n",
       "550378   POLYGON ((-76.211888 35.46288299999999, -76.21...   \n",
       "554301   POLYGON ((-75.59184199999999 35.758117, -75.59...   \n",
       "624424   POLYGON ((-76.211888 35.46288299999999, -76.21...   \n",
       "625303   POLYGON ((-76.211888 35.46288299999999, -76.21...   \n",
       "626412   POLYGON ((-76.211888 35.46288299999999, -76.21...   \n",
       "626651   POLYGON ((-76.211888 35.46288299999999, -76.21...   \n",
       "627693   POLYGON ((-76.211888 35.46288299999999, -76.21...   \n",
       "630871   POLYGON ((-76.211888 35.46288299999999, -76.21...   \n",
       "768881   POLYGON ((-76.211888 35.46288299999999, -76.21...   \n",
       "1718449  POLYGON ((-76.53600399999999 35.58233699999999...   \n",
       "1721394  POLYGON ((-76.211888 35.46288299999999, -76.21...   \n",
       "2364030  POLYGON ((-76.211888 35.46288299999999, -76.21...   \n",
       "\n",
       "                                              new_geometry  \n",
       "5407     POLYGON ((-75.75 35.75, -75.65 35.75, -75.65 3...  \n",
       "14690    POLYGON ((-76.05 35.55, -75.95 35.55, -75.95 3...  \n",
       "241614   POLYGON ((-75.75 35.75, -75.65 35.75, -75.65 3...  \n",
       "403717   POLYGON ((-75.75 35.75, -75.65 35.75, -75.65 3...  \n",
       "403718   POLYGON ((-75.75 35.75, -75.65 35.75, -75.65 3...  \n",
       "550378   POLYGON ((-76.05 35.55, -75.95 35.55, -75.95 3...  \n",
       "554301   POLYGON ((-75.85 35.75, -75.75 35.75, -75.75 3...  \n",
       "624424   POLYGON ((-76.14999999999999 35.55, -76.05 35....  \n",
       "625303   POLYGON ((-76.05 35.55, -75.95 35.55, -75.95 3...  \n",
       "626412   POLYGON ((-76.14999999999999 35.65, -76.05 35....  \n",
       "626651   POLYGON ((-76.05 35.65, -75.95 35.65, -75.95 3...  \n",
       "627693   POLYGON ((-76.14999999999999 35.65, -76.05 35....  \n",
       "630871   POLYGON ((-76.05 35.55, -75.95 35.55, -75.95 3...  \n",
       "768881   POLYGON ((-76.05 35.55, -75.95 35.55, -75.95 3...  \n",
       "1718449  POLYGON ((-76.45 35.65, -76.35000000000001 35....  \n",
       "1721394  POLYGON ((-76.05 35.55, -75.95 35.55, -75.95 3...  \n",
       "2364030  POLYGON ((-76.05 35.55, -75.95 35.55, -75.95 3...  "
      ]
     },
     "execution_count": 66,
     "metadata": {},
     "output_type": "execute_result"
    }
   ],
   "source": [
    "filtered_df[filtered_df['censusBlockGroupFips']!=filtered_df['MATCHED_censusBlockGroupFips']]"
   ]
  },
  {
   "cell_type": "code",
   "execution_count": 67,
   "id": "14dd3b54-ca1a-4171-a879-95a3621ae85c",
   "metadata": {
    "tags": []
   },
   "outputs": [],
   "source": [
    "filtered_df.to_csv('C:/Users/Asus/Box/Flood Damage PredictionProject/Dataset/BG_analysis.csv')"
   ]
  },
  {
   "cell_type": "code",
   "execution_count": null,
   "id": "91150c45-7173-45bd-8536-54e3d66c32e4",
   "metadata": {},
   "outputs": [],
   "source": []
  },
  {
   "cell_type": "markdown",
   "id": "95a8ec61-3bc8-490a-a28d-55824951dedd",
   "metadata": {},
   "source": [
    "#### Checking for 1990"
   ]
  },
  {
   "cell_type": "code",
   "execution_count": null,
   "id": "6ce71823-0cc9-4e05-894b-d8d6d6de7ffb",
   "metadata": {},
   "outputs": [],
   "source": [
    "# df_geographic_unique1990 = df_geographic_unique[df_geographic_unique['yearOfLoss_1980_2020']==1990]"
   ]
  },
  {
   "cell_type": "code",
   "execution_count": null,
   "id": "7845d84d-1c48-4bbf-8e03-e3619632c625",
   "metadata": {},
   "outputs": [],
   "source": [
    "df_geographic_unique1990= df_geographic_unique[(df_geographic_unique['yearOfLoss_1980_2020']==1990) & (df_geographic_unique['state']=='NC')]"
   ]
  },
  {
   "cell_type": "code",
   "execution_count": null,
   "id": "4a10afff-3998-4435-bdba-0171d4758e0d",
   "metadata": {},
   "outputs": [],
   "source": [
    "# Setting the multi-index on lat_long_df\n",
    "lat_long_df.set_index(['latitude', 'longitude'], inplace=True)\n",
    "\n",
    "# Mapping the values\n",
    "df_geographic_unique1990['geometry_lat_long'] = df_geographic_unique1990.set_index(['latitude', 'longitude']).index.map(lat_long_df['geometry_lat_long'])\n",
    "\n",
    "# Resetting the index of lat_long_df (optional, but good practice)\n",
    "lat_long_df.reset_index(inplace=True)"
   ]
  },
  {
   "cell_type": "code",
   "execution_count": null,
   "id": "5ce786aa-a798-45af-b52e-ac7f72a5da52",
   "metadata": {},
   "outputs": [],
   "source": [
    "# Create an empty GeoDataFrame to store the intersection results\n",
    "new_unit_df1990 = gpd.GeoDataFrame(columns=['reportedZipCode', 'countyCode', 'censusTract',\n",
    "                                       'censusBlockGroupFips', 'MATCHED_censusBlockGroupFips', 'latitude', 'longitude', 'year', 'state', 'geometry_BG',\n",
    "                                        'geometry_lat_long', 'new_geometry'])\n",
    "\n",
    "# Iterate through each row in BG_df_2000 and each row in lat_long_df to find intersections\n",
    "for idx_unit_data, row_unit_data in df_geographic_unique2000.iterrows():\n",
    "    for idx_unit_shape, row_unit_shape in BG_list_df2000.iterrows():\n",
    "        year = row_unit_data['yearOfLoss']\n",
    "        year2 = row_unit_data['yearOfLoss_1980_2020']\n",
    "        bg_id = row_unit_data['censusBlockGroupFips']\n",
    "        bg_id2 = row_unit_shape['GEOID']\n",
    "        bg_geometry = row_unit_shape['geometry']\n",
    "        tract_id = row_unit_data['censusTract']\n",
    "        county_id = row_unit_data['countyCode']\n",
    "        state = row_unit_data['state']\n",
    "        lat_long_geometry = row_unit_data['geometry_lat_long']\n",
    "        lat = row_unit_data['latitude']\n",
    "        long = row_unit_data['longitude']\n",
    "        zipcode = row_unit_data['reportedZipCode']\n",
    "    \n",
    "        # Compute intersection geometry\n",
    "        intersection_geometry = bg_geometry.intersection(lat_long_geometry)\n",
    "    \n",
    "        new_unit_df1990 = pd.concat([new_unit_df1990, pd.DataFrame({\n",
    "            'reportedZipCode': [zipcode],\n",
    "            'countyCode': [county_id],\n",
    "            'censusTract': [tract_id],\n",
    "            'censusBlockGroupFips': [bg_id],\n",
    "            'MATCHED_censusBlockGroupFips': [bg_id2],\n",
    "            'latitude': [lat],\n",
    "            'longitude': [long],\n",
    "            'year': [year],\n",
    "            'decade': [year2],\n",
    "            'state': [state],\n",
    "            'geometry_BG': [bg_geometry],\n",
    "            'geometry_lat_long': [lat_long_geometry],\n",
    "            'new_geometry': [intersection_geometry]\n",
    "        })], ignore_index=True)"
   ]
  },
  {
   "cell_type": "markdown",
   "id": "dae06b56-4dd1-4ce8-8905-8e1df490f29f",
   "metadata": {},
   "source": [
    "## Checking if 2010 BG shapefiles match for the entire dataset"
   ]
  },
  {
   "cell_type": "code",
   "execution_count": 3,
   "id": "569f70bb-4e75-45aa-b332-abb56e4248af",
   "metadata": {},
   "outputs": [
    {
     "name": "stdout",
     "output_type": "stream",
     "text": [
      "Using the default year of 2021\n"
     ]
    }
   ],
   "source": [
    "states = pygris.states()\n",
    "states_list = sorted(states['STUSPS'].unique())"
   ]
  },
  {
   "cell_type": "code",
   "execution_count": 52,
   "id": "08108487-1b79-4925-a8fd-85e1846893db",
   "metadata": {
    "collapsed": true,
    "jupyter": {
     "outputs_hidden": true
    },
    "tags": []
   },
   "outputs": [
    {
     "name": "stdout",
     "output_type": "stream",
     "text": [
      "Using FIPS code '02' for input 'AK'\n",
      "Using FIPS code '01' for input 'AL'\n",
      "Using FIPS code '05' for input 'AR'\n",
      "Using FIPS code '60' for input 'AS'\n",
      "Using FIPS code '04' for input 'AZ'\n",
      "Using FIPS code '06' for input 'CA'\n",
      "Using FIPS code '08' for input 'CO'\n",
      "Using FIPS code '09' for input 'CT'\n",
      "Using FIPS code '11' for input 'DC'\n",
      "Using FIPS code '10' for input 'DE'\n",
      "Using FIPS code '12' for input 'FL'\n",
      "Using FIPS code '13' for input 'GA'\n",
      "Using FIPS code '66' for input 'GU'\n",
      "Using FIPS code '15' for input 'HI'\n",
      "Using FIPS code '19' for input 'IA'\n",
      "Using FIPS code '16' for input 'ID'\n",
      "Using FIPS code '17' for input 'IL'\n",
      "Using FIPS code '18' for input 'IN'\n",
      "Using FIPS code '20' for input 'KS'\n",
      "Using FIPS code '21' for input 'KY'\n",
      "Using FIPS code '22' for input 'LA'\n",
      "Using FIPS code '25' for input 'MA'\n",
      "Using FIPS code '24' for input 'MD'\n",
      "Using FIPS code '23' for input 'ME'\n",
      "Using FIPS code '26' for input 'MI'\n",
      "Using FIPS code '27' for input 'MN'\n",
      "Using FIPS code '29' for input 'MO'\n",
      "Using FIPS code '69' for input 'MP'\n",
      "Using FIPS code '28' for input 'MS'\n",
      "Using FIPS code '30' for input 'MT'\n",
      "Using FIPS code '37' for input 'NC'\n",
      "Using FIPS code '38' for input 'ND'\n",
      "Using FIPS code '31' for input 'NE'\n",
      "Using FIPS code '33' for input 'NH'\n",
      "Using FIPS code '34' for input 'NJ'\n",
      "Using FIPS code '35' for input 'NM'\n",
      "Using FIPS code '32' for input 'NV'\n",
      "Using FIPS code '36' for input 'NY'\n",
      "Using FIPS code '39' for input 'OH'\n",
      "Using FIPS code '40' for input 'OK'\n",
      "Using FIPS code '41' for input 'OR'\n",
      "Using FIPS code '42' for input 'PA'\n",
      "Using FIPS code '72' for input 'PR'\n",
      "Using FIPS code '44' for input 'RI'\n",
      "Using FIPS code '45' for input 'SC'\n",
      "Using FIPS code '46' for input 'SD'\n",
      "Using FIPS code '47' for input 'TN'\n",
      "Using FIPS code '48' for input 'TX'\n",
      "Using FIPS code '49' for input 'UT'\n",
      "Using FIPS code '51' for input 'VA'\n",
      "Using FIPS code '78' for input 'VI'\n",
      "Using FIPS code '50' for input 'VT'\n",
      "Using FIPS code '53' for input 'WA'\n",
      "Using FIPS code '55' for input 'WI'\n",
      "Using FIPS code '54' for input 'WV'\n",
      "Using FIPS code '56' for input 'WY'\n"
     ]
    }
   ],
   "source": [
    "BG_list_2010 = []\n",
    "\n",
    "for i in states_list:\n",
    "    BG_list_2010.append(pygris.block_groups(state = i, year = 2010))"
   ]
  },
  {
   "cell_type": "code",
   "execution_count": 53,
   "id": "6919fdec-50bf-41e8-ae34-e99ec4317614",
   "metadata": {
    "collapsed": true,
    "jupyter": {
     "outputs_hidden": true
    },
    "tags": []
   },
   "outputs": [
    {
     "name": "stdout",
     "output_type": "stream",
     "text": [
      "Using FIPS code '02' for input 'AK'\n",
      "Using FIPS code '01' for input 'AL'\n",
      "Using FIPS code '05' for input 'AR'\n",
      "Using FIPS code '60' for input 'AS'\n",
      "Using FIPS code '04' for input 'AZ'\n",
      "Using FIPS code '06' for input 'CA'\n",
      "Using FIPS code '08' for input 'CO'\n",
      "Using FIPS code '09' for input 'CT'\n",
      "Using FIPS code '11' for input 'DC'\n",
      "Using FIPS code '10' for input 'DE'\n",
      "Using FIPS code '12' for input 'FL'\n",
      "Using FIPS code '13' for input 'GA'\n",
      "Using FIPS code '66' for input 'GU'\n",
      "Using FIPS code '15' for input 'HI'\n",
      "Using FIPS code '19' for input 'IA'\n",
      "Using FIPS code '16' for input 'ID'\n",
      "Using FIPS code '17' for input 'IL'\n",
      "Using FIPS code '18' for input 'IN'\n",
      "Using FIPS code '20' for input 'KS'\n",
      "Using FIPS code '21' for input 'KY'\n",
      "Using FIPS code '22' for input 'LA'\n",
      "Using FIPS code '25' for input 'MA'\n",
      "Using FIPS code '24' for input 'MD'\n",
      "Using FIPS code '23' for input 'ME'\n",
      "Using FIPS code '26' for input 'MI'\n",
      "Using FIPS code '27' for input 'MN'\n",
      "Using FIPS code '29' for input 'MO'\n",
      "Using FIPS code '69' for input 'MP'\n",
      "Using FIPS code '28' for input 'MS'\n",
      "Using FIPS code '30' for input 'MT'\n",
      "Using FIPS code '37' for input 'NC'\n",
      "Using FIPS code '38' for input 'ND'\n",
      "Using FIPS code '31' for input 'NE'\n",
      "Using FIPS code '33' for input 'NH'\n",
      "Using FIPS code '34' for input 'NJ'\n",
      "Using FIPS code '35' for input 'NM'\n",
      "Using FIPS code '32' for input 'NV'\n",
      "Using FIPS code '36' for input 'NY'\n",
      "Using FIPS code '39' for input 'OH'\n",
      "Using FIPS code '40' for input 'OK'\n",
      "Using FIPS code '41' for input 'OR'\n",
      "Using FIPS code '42' for input 'PA'\n",
      "Using FIPS code '72' for input 'PR'\n",
      "Using FIPS code '44' for input 'RI'\n",
      "Using FIPS code '45' for input 'SC'\n",
      "Using FIPS code '46' for input 'SD'\n",
      "Using FIPS code '47' for input 'TN'\n",
      "Using FIPS code '48' for input 'TX'\n",
      "Using FIPS code '49' for input 'UT'\n",
      "Using FIPS code '51' for input 'VA'\n",
      "Using FIPS code '78' for input 'VI'\n",
      "Using FIPS code '50' for input 'VT'\n",
      "Using FIPS code '53' for input 'WA'\n",
      "Using FIPS code '55' for input 'WI'\n",
      "Using FIPS code '54' for input 'WV'\n",
      "Using FIPS code '56' for input 'WY'\n"
     ]
    }
   ],
   "source": [
    "BG_list_2011 = []\n",
    "\n",
    "for i in states_list:\n",
    "    BG_list_2011.append(pygris.block_groups(state = i, year = 2011))"
   ]
  },
  {
   "cell_type": "code",
   "execution_count": 54,
   "id": "996ef689-7da3-4d67-9955-0550dd594c45",
   "metadata": {
    "collapsed": true,
    "jupyter": {
     "outputs_hidden": true
    },
    "tags": []
   },
   "outputs": [
    {
     "name": "stdout",
     "output_type": "stream",
     "text": [
      "Using FIPS code '02' for input 'AK'\n",
      "Using FIPS code '01' for input 'AL'\n",
      "Using FIPS code '05' for input 'AR'\n",
      "Using FIPS code '60' for input 'AS'\n",
      "Using FIPS code '04' for input 'AZ'\n",
      "Using FIPS code '06' for input 'CA'\n",
      "Using FIPS code '08' for input 'CO'\n",
      "Using FIPS code '09' for input 'CT'\n",
      "Using FIPS code '11' for input 'DC'\n",
      "Using FIPS code '10' for input 'DE'\n",
      "Using FIPS code '12' for input 'FL'\n",
      "Using FIPS code '13' for input 'GA'\n",
      "Using FIPS code '66' for input 'GU'\n",
      "Using FIPS code '15' for input 'HI'\n",
      "Using FIPS code '19' for input 'IA'\n",
      "Using FIPS code '16' for input 'ID'\n",
      "Using FIPS code '17' for input 'IL'\n",
      "Using FIPS code '18' for input 'IN'\n",
      "Using FIPS code '20' for input 'KS'\n",
      "Using FIPS code '21' for input 'KY'\n",
      "Using FIPS code '22' for input 'LA'\n",
      "Using FIPS code '25' for input 'MA'\n",
      "Using FIPS code '24' for input 'MD'\n",
      "Using FIPS code '23' for input 'ME'\n",
      "Using FIPS code '26' for input 'MI'\n",
      "Using FIPS code '27' for input 'MN'\n",
      "Using FIPS code '29' for input 'MO'\n",
      "Using FIPS code '69' for input 'MP'\n",
      "Using FIPS code '28' for input 'MS'\n",
      "Using FIPS code '30' for input 'MT'\n",
      "Using FIPS code '37' for input 'NC'\n",
      "Using FIPS code '38' for input 'ND'\n",
      "Using FIPS code '31' for input 'NE'\n",
      "Using FIPS code '33' for input 'NH'\n",
      "Using FIPS code '34' for input 'NJ'\n",
      "Using FIPS code '35' for input 'NM'\n",
      "Using FIPS code '32' for input 'NV'\n",
      "Using FIPS code '36' for input 'NY'\n",
      "Using FIPS code '39' for input 'OH'\n",
      "Using FIPS code '40' for input 'OK'\n",
      "Using FIPS code '41' for input 'OR'\n",
      "Using FIPS code '42' for input 'PA'\n",
      "Using FIPS code '72' for input 'PR'\n",
      "Using FIPS code '44' for input 'RI'\n",
      "Using FIPS code '45' for input 'SC'\n",
      "Using FIPS code '46' for input 'SD'\n",
      "Using FIPS code '47' for input 'TN'\n",
      "Using FIPS code '48' for input 'TX'\n",
      "Using FIPS code '49' for input 'UT'\n",
      "Using FIPS code '51' for input 'VA'\n",
      "Using FIPS code '78' for input 'VI'\n",
      "Using FIPS code '50' for input 'VT'\n",
      "Using FIPS code '53' for input 'WA'\n",
      "Using FIPS code '55' for input 'WI'\n",
      "Using FIPS code '54' for input 'WV'\n",
      "Using FIPS code '56' for input 'WY'\n"
     ]
    }
   ],
   "source": [
    "BG_list_2012 = []\n",
    "\n",
    "for i in states_list:\n",
    "    BG_list_2012.append(pygris.block_groups(state = i, year = 2012))"
   ]
  },
  {
   "cell_type": "code",
   "execution_count": 55,
   "id": "1e899b48-e59b-4204-8b7d-5a424d61abcb",
   "metadata": {
    "collapsed": true,
    "jupyter": {
     "outputs_hidden": true
    },
    "tags": []
   },
   "outputs": [
    {
     "name": "stdout",
     "output_type": "stream",
     "text": [
      "Using FIPS code '02' for input 'AK'\n",
      "Using FIPS code '01' for input 'AL'\n",
      "Using FIPS code '05' for input 'AR'\n",
      "Using FIPS code '60' for input 'AS'\n",
      "Using FIPS code '04' for input 'AZ'\n",
      "Using FIPS code '06' for input 'CA'\n",
      "Using FIPS code '08' for input 'CO'\n",
      "Using FIPS code '09' for input 'CT'\n",
      "Using FIPS code '11' for input 'DC'\n",
      "Using FIPS code '10' for input 'DE'\n",
      "Using FIPS code '12' for input 'FL'\n",
      "Using FIPS code '13' for input 'GA'\n",
      "Using FIPS code '66' for input 'GU'\n",
      "Using FIPS code '15' for input 'HI'\n",
      "Using FIPS code '19' for input 'IA'\n",
      "Using FIPS code '16' for input 'ID'\n",
      "Using FIPS code '17' for input 'IL'\n",
      "Using FIPS code '18' for input 'IN'\n",
      "Using FIPS code '20' for input 'KS'\n",
      "Using FIPS code '21' for input 'KY'\n",
      "Using FIPS code '22' for input 'LA'\n",
      "Using FIPS code '25' for input 'MA'\n",
      "Using FIPS code '24' for input 'MD'\n",
      "Using FIPS code '23' for input 'ME'\n",
      "Using FIPS code '26' for input 'MI'\n",
      "Using FIPS code '27' for input 'MN'\n",
      "Using FIPS code '29' for input 'MO'\n",
      "Using FIPS code '69' for input 'MP'\n",
      "Using FIPS code '28' for input 'MS'\n",
      "Using FIPS code '30' for input 'MT'\n",
      "Using FIPS code '37' for input 'NC'\n",
      "Using FIPS code '38' for input 'ND'\n",
      "Using FIPS code '31' for input 'NE'\n",
      "Using FIPS code '33' for input 'NH'\n",
      "Using FIPS code '34' for input 'NJ'\n",
      "Using FIPS code '35' for input 'NM'\n",
      "Using FIPS code '32' for input 'NV'\n",
      "Using FIPS code '36' for input 'NY'\n",
      "Using FIPS code '39' for input 'OH'\n",
      "Using FIPS code '40' for input 'OK'\n",
      "Using FIPS code '41' for input 'OR'\n",
      "Using FIPS code '42' for input 'PA'\n",
      "Using FIPS code '72' for input 'PR'\n",
      "Using FIPS code '44' for input 'RI'\n",
      "Using FIPS code '45' for input 'SC'\n",
      "Using FIPS code '46' for input 'SD'\n",
      "Using FIPS code '47' for input 'TN'\n",
      "Using FIPS code '48' for input 'TX'\n",
      "Using FIPS code '49' for input 'UT'\n",
      "Using FIPS code '51' for input 'VA'\n",
      "Using FIPS code '78' for input 'VI'\n",
      "Using FIPS code '50' for input 'VT'\n",
      "Using FIPS code '53' for input 'WA'\n",
      "Using FIPS code '55' for input 'WI'\n",
      "Using FIPS code '54' for input 'WV'\n",
      "Using FIPS code '56' for input 'WY'\n"
     ]
    }
   ],
   "source": [
    "BG_list_2018 = []\n",
    "\n",
    "for i in states_list:\n",
    "    BG_list_2018.append(pygris.block_groups(state = i, year = 2018))"
   ]
  },
  {
   "cell_type": "code",
   "execution_count": 83,
   "id": "2c31acf4-24a1-48b1-893a-e05d3c419870",
   "metadata": {
    "tags": []
   },
   "outputs": [],
   "source": [
    "temp2018 = pd.concat(BG_list_2018, ignore_index=True)\n",
    "temp2012 = pd.concat(BG_list_2012, ignore_index=True)\n",
    "temp2011 = pd.concat(BG_list_2011, ignore_index=True)\n",
    "temp2010 = pd.concat(BG_list_2010, ignore_index=True)"
   ]
  },
  {
   "cell_type": "code",
   "execution_count": 84,
   "id": "0f386f57-7e66-451d-a9ee-650fa5eb369b",
   "metadata": {
    "tags": []
   },
   "outputs": [],
   "source": [
    "temp2018 = temp2018[['GEOID', 'geometry']]\n",
    "temp2018['year'] = 2010\n",
    "\n",
    "temp2012 = temp2012[['GEOID', 'geometry']]\n",
    "temp2012['year'] = 2010\n",
    "\n",
    "temp2011 = temp2011[['GEOID', 'geometry']]\n",
    "temp2011['year'] = 2010\n",
    "\n",
    "temp2010 = temp2010[['GEOID10', 'geometry']]\n",
    "temp2010['year'] = 2010\n",
    "\n",
    "temp2010 = temp2010.rename(columns={\"GEOID10\": \"GEOID\"})"
   ]
  },
  {
   "cell_type": "code",
   "execution_count": 159,
   "id": "1e8987dd-f9b4-404c-8692-f273d23ea419",
   "metadata": {
    "tags": []
   },
   "outputs": [],
   "source": [
    "list_censusBG_2 = []"
   ]
  },
  {
   "cell_type": "code",
   "execution_count": 172,
   "id": "047dd048-00b9-48b5-9f92-582d1030f620",
   "metadata": {
    "tags": []
   },
   "outputs": [],
   "source": [
    "list_censusBG = temp2018['GEOID'].dropna().drop_duplicates().astype(str).tolist()\n",
    "\n",
    "# add preceding 0 to make 4-digit zip codes into 5-digit\n",
    "list_censusBG = [censusBG.zfill(12) for censusBG in list_censusBG]"
   ]
  },
  {
   "cell_type": "code",
   "execution_count": 173,
   "id": "c5cb2577-dd21-42e4-904e-3fbf85e30884",
   "metadata": {
    "tags": []
   },
   "outputs": [
    {
     "data": {
      "text/plain": [
       "220740"
      ]
     },
     "execution_count": 173,
     "metadata": {},
     "output_type": "execute_result"
    }
   ],
   "source": [
    "len(list_censusBG)"
   ]
  },
  {
   "cell_type": "code",
   "execution_count": 174,
   "id": "b413ce3a-dca2-4429-ad92-b14aea03645f",
   "metadata": {
    "tags": []
   },
   "outputs": [],
   "source": [
    "list_censusBG_2 = list_censusBG_2 + list_censusBG"
   ]
  },
  {
   "cell_type": "code",
   "execution_count": 175,
   "id": "7f8b4afe-855c-43a4-8fb1-18189f991cf0",
   "metadata": {
    "tags": []
   },
   "outputs": [
    {
     "data": {
      "text/plain": [
       "441482"
      ]
     },
     "execution_count": 175,
     "metadata": {},
     "output_type": "execute_result"
    }
   ],
   "source": [
    "len(list_censusBG_2)"
   ]
  },
  {
   "cell_type": "code",
   "execution_count": 176,
   "id": "9fc87f3d-e501-4a90-a9c1-3141ebf3aace",
   "metadata": {
    "tags": []
   },
   "outputs": [],
   "source": [
    "list_censusBG_2 = list(set(list_censusBG_2))"
   ]
  },
  {
   "cell_type": "code",
   "execution_count": 177,
   "id": "e5f86241-31d8-4136-8842-2836c18c8c51",
   "metadata": {
    "tags": []
   },
   "outputs": [
    {
     "data": {
      "text/plain": [
       "220814"
      ]
     },
     "execution_count": 177,
     "metadata": {},
     "output_type": "execute_result"
    }
   ],
   "source": [
    "len(list_censusBG_2)"
   ]
  },
  {
   "cell_type": "code",
   "execution_count": 178,
   "id": "425633f6-716a-46cb-88a2-e2858053a66f",
   "metadata": {
    "tags": []
   },
   "outputs": [],
   "source": [
    "#CensusBG list for NC\n",
    "\n",
    "list_censusBG = df['censusBlockGroupFips'].dropna().drop_duplicates().tolist()\n",
    "\n",
    "list_censusBG = [str(int(float(i))) for i in list_censusBG]\n",
    "\n",
    "# add preceding 0 to make 4-digit zip codes into 5-digit\n",
    "list_censusBG = [censusBG.zfill(12) for censusBG in list_censusBG]"
   ]
  },
  {
   "cell_type": "code",
   "execution_count": 179,
   "id": "4ffa71c4-add3-4575-ade2-35f4cfdb0cd8",
   "metadata": {
    "tags": []
   },
   "outputs": [
    {
     "name": "stdout",
     "output_type": "stream",
     "text": [
      "Number of common BG: 105940\n"
     ]
    }
   ],
   "source": [
    "# Convert both lists to sets\n",
    "set_bg = set(list_censusBG)\n",
    "set_bg_2 = set(list_censusBG_2)\n",
    "\n",
    "# Find the intersection of the two sets\n",
    "common_bg = set_bg.intersection(set_bg_2)\n",
    "\n",
    "# Print the number of common zip codes\n",
    "print(\"Number of common BG:\", len(common_bg))"
   ]
  },
  {
   "cell_type": "code",
   "execution_count": 180,
   "id": "48be6bec-8cbc-4a6f-b6b9-8554d886682a",
   "metadata": {
    "tags": []
   },
   "outputs": [
    {
     "data": {
      "text/plain": [
       "0.9920776131702658"
      ]
     },
     "execution_count": 180,
     "metadata": {},
     "output_type": "execute_result"
    }
   ],
   "source": [
    "len(common_bg)/len(list_censusBG)"
   ]
  },
  {
   "cell_type": "code",
   "execution_count": 181,
   "id": "f44dd940-fed3-4038-9540-58920c5ff52a",
   "metadata": {
    "tags": []
   },
   "outputs": [
    {
     "data": {
      "text/plain": [
       "105940"
      ]
     },
     "execution_count": 181,
     "metadata": {},
     "output_type": "execute_result"
    }
   ],
   "source": [
    "len(common_bg)"
   ]
  },
  {
   "cell_type": "code",
   "execution_count": 182,
   "id": "c5ae7d07-5e4e-4805-827f-b7ba9041b585",
   "metadata": {
    "tags": []
   },
   "outputs": [
    {
     "data": {
      "text/plain": [
       "846"
      ]
     },
     "execution_count": 182,
     "metadata": {},
     "output_type": "execute_result"
    }
   ],
   "source": [
    "len(list_censusBG)-len(common_bg)"
   ]
  },
  {
   "cell_type": "code",
   "execution_count": 171,
   "id": "0df8fa44-4528-49a4-8163-42fc1af22a5f",
   "metadata": {
    "tags": []
   },
   "outputs": [],
   "source": [
    "list_2010_BG = common_bg"
   ]
  },
  {
   "cell_type": "code",
   "execution_count": 53,
   "id": "b89c6a2e-57a7-49e2-bf1f-8a29627f787c",
   "metadata": {
    "tags": []
   },
   "outputs": [],
   "source": [
    "df_copy = df.dropna(subset=['censusBlockGroupFips'])"
   ]
  },
  {
   "cell_type": "code",
   "execution_count": 55,
   "id": "9ec78cd8-453a-42ae-b298-84abb574d4d5",
   "metadata": {
    "collapsed": true,
    "jupyter": {
     "outputs_hidden": true
    },
    "tags": []
   },
   "outputs": [
    {
     "name": "stderr",
     "output_type": "stream",
     "text": [
      "C:\\Users\\Asus\\AppData\\Local\\Temp\\ipykernel_21236\\361452524.py:1: SettingWithCopyWarning: \n",
      "A value is trying to be set on a copy of a slice from a DataFrame.\n",
      "Try using .loc[row_indexer,col_indexer] = value instead\n",
      "\n",
      "See the caveats in the documentation: https://pandas.pydata.org/pandas-docs/stable/user_guide/indexing.html#returning-a-view-versus-a-copy\n",
      "  df_copy['censusBlockGroupFips'] = [str(int(float(i))) for i in df_copy['censusBlockGroupFips']]\n",
      "C:\\Users\\Asus\\AppData\\Local\\Temp\\ipykernel_21236\\361452524.py:2: SettingWithCopyWarning: \n",
      "A value is trying to be set on a copy of a slice from a DataFrame.\n",
      "Try using .loc[row_indexer,col_indexer] = value instead\n",
      "\n",
      "See the caveats in the documentation: https://pandas.pydata.org/pandas-docs/stable/user_guide/indexing.html#returning-a-view-versus-a-copy\n",
      "  df_copy['censusBlockGroupFips'] = [censusBG.zfill(12) for censusBG in df_copy['censusBlockGroupFips']]\n"
     ]
    }
   ],
   "source": [
    "df_copy['censusBlockGroupFips'] = [str(int(float(i))) for i in df_copy['censusBlockGroupFips']]\n",
    "df_copy['censusBlockGroupFips'] = [censusBG.zfill(12) for censusBG in df_copy['censusBlockGroupFips']]"
   ]
  },
  {
   "cell_type": "code",
   "execution_count": 74,
   "id": "b0d41ff6-8f97-49e1-8f1f-a3c19bc48ec2",
   "metadata": {
    "tags": []
   },
   "outputs": [],
   "source": [
    "df_test = df_copy[~df_copy['censusBlockGroupFips'].isin(common_bg)]"
   ]
  },
  {
   "cell_type": "code",
   "execution_count": 69,
   "id": "fbde69d6-6b7d-4038-b8e2-e28e627637fa",
   "metadata": {
    "tags": []
   },
   "outputs": [
    {
     "data": {
      "text/plain": [
       "2445442"
      ]
     },
     "execution_count": 69,
     "metadata": {},
     "output_type": "execute_result"
    }
   ],
   "source": [
    "df_copy[df_copy['censusBlockGroupFips'].isin(common_bg)].shape[0]"
   ]
  },
  {
   "cell_type": "code",
   "execution_count": 66,
   "id": "3e0f97cc-25ab-4aaf-bf30-f9a3662e5303",
   "metadata": {
    "tags": []
   },
   "outputs": [
    {
     "data": {
      "text/plain": [
       "189"
      ]
     },
     "execution_count": 66,
     "metadata": {},
     "output_type": "execute_result"
    }
   ],
   "source": [
    "df_copy[(~df_copy['censusBlockGroupFips'].isin(common_bg)) & (df_copy['state']=='NC')]"
   ]
  },
  {
   "cell_type": "code",
   "execution_count": 183,
   "id": "76a09f7d-e09f-4800-8360-90eed26ea085",
   "metadata": {
    "tags": []
   },
   "outputs": [],
   "source": [
    "BG_list_df2018 = temp2018[temp2018['GEOID'].isin(common_bg)]\n",
    "BG_list_df2012 = temp2012[temp2012['GEOID'].isin(common_bg)]\n",
    "BG_list_df2011 = temp2011[temp2011['GEOID'].isin(common_bg)]\n",
    "BG_list_df2010 = temp2010[temp2010['GEOID'].isin(common_bg)]"
   ]
  },
  {
   "cell_type": "code",
   "execution_count": 184,
   "id": "dbbeabe2-b9c3-4004-af91-92b83e57bdda",
   "metadata": {
    "tags": []
   },
   "outputs": [
    {
     "name": "stdout",
     "output_type": "stream",
     "text": [
      "105901\n",
      "105904\n",
      "105909\n",
      "105926\n"
     ]
    }
   ],
   "source": [
    "print(BG_list_df2018.shape[0])\n",
    "print(BG_list_df2012.shape[0])\n",
    "print(BG_list_df2011.shape[0])\n",
    "print(BG_list_df2010.shape[0])"
   ]
  },
  {
   "cell_type": "code",
   "execution_count": 185,
   "id": "16b3b009-aec4-402e-9618-c3055456c771",
   "metadata": {
    "tags": []
   },
   "outputs": [],
   "source": [
    "BG_df = pd.concat([BG_list_df2018, BG_list_df2010], ignore_index=True)"
   ]
  },
  {
   "cell_type": "code",
   "execution_count": 186,
   "id": "6eadde6c-4795-45a7-980a-e4f0d1ba9f97",
   "metadata": {
    "tags": []
   },
   "outputs": [],
   "source": [
    "BG_df2 = BG_df.drop_duplicates()"
   ]
  },
  {
   "cell_type": "code",
   "execution_count": 187,
   "id": "02f43d2a-4e81-483c-8875-ac016234c5f2",
   "metadata": {
    "tags": []
   },
   "outputs": [
    {
     "data": {
      "text/plain": [
       "211419"
      ]
     },
     "execution_count": 187,
     "metadata": {},
     "output_type": "execute_result"
    }
   ],
   "source": [
    "BG_df2.shape[0]"
   ]
  },
  {
   "cell_type": "code",
   "execution_count": 188,
   "id": "6e6c67f0-678e-4917-8029-d8fb3ea0d12e",
   "metadata": {
    "tags": []
   },
   "outputs": [],
   "source": [
    "BG_df2 = BG_df2.drop_duplicates(subset=['GEOID', 'year'])"
   ]
  },
  {
   "cell_type": "code",
   "execution_count": 189,
   "id": "83c1c790-1b2e-410b-ba2e-bf7c4c5f0fdd",
   "metadata": {
    "tags": []
   },
   "outputs": [
    {
     "data": {
      "text/plain": [
       "105940"
      ]
     },
     "execution_count": 189,
     "metadata": {},
     "output_type": "execute_result"
    }
   ],
   "source": [
    "BG_df2.shape[0]"
   ]
  },
  {
   "cell_type": "markdown",
   "id": "f716f81a-4bf8-4fd2-8774-7cf46457db1b",
   "metadata": {},
   "source": [
    "### Some checks..."
   ]
  },
  {
   "cell_type": "code",
   "execution_count": 199,
   "id": "ce1594cc-a119-4029-9ae0-58b0e0191f31",
   "metadata": {
    "tags": []
   },
   "outputs": [],
   "source": [
    "list_censusBG_check = BG_df2['GEOID'].dropna().drop_duplicates().astype(str).tolist()\n",
    "\n",
    "# add preceding 0 to make 4-digit zip codes into 5-digit\n",
    "list_censusBG_check = [censusBG.zfill(12) for censusBG in list_censusBG_check]"
   ]
  },
  {
   "cell_type": "code",
   "execution_count": 201,
   "id": "7966194a-48ab-4620-9ba1-8062120e2bea",
   "metadata": {
    "tags": []
   },
   "outputs": [],
   "source": [
    "#CensusBG list\n",
    "\n",
    "list_censusBG = df['censusBlockGroupFips'].dropna().drop_duplicates().tolist()\n",
    "\n",
    "list_censusBG = [str(int(float(i))) for i in list_censusBG]\n",
    "\n",
    "# add preceding 0 to make 4-digit zip codes into 5-digit\n",
    "list_censusBG = [censusBG.zfill(12) for censusBG in list_censusBG]"
   ]
  },
  {
   "cell_type": "code",
   "execution_count": 202,
   "id": "5132603d-abb6-495f-a610-835ee6850603",
   "metadata": {
    "tags": []
   },
   "outputs": [
    {
     "name": "stdout",
     "output_type": "stream",
     "text": [
      "Number of common BG: 105940\n"
     ]
    }
   ],
   "source": [
    "# Convert both lists to sets\n",
    "set_bg = set(list_censusBG)\n",
    "set_bg_2 = set(list_censusBG_2)\n",
    "\n",
    "# Find the intersection of the two sets\n",
    "common_bg = set_bg.intersection(set_bg_2)\n",
    "\n",
    "# Print the number of common zip codes\n",
    "print(\"Number of common BG:\", len(common_bg))"
   ]
  },
  {
   "cell_type": "code",
   "execution_count": 203,
   "id": "673ad23f-8e18-4bec-8e77-9c71477b44da",
   "metadata": {
    "tags": []
   },
   "outputs": [
    {
     "data": {
      "text/plain": [
       "846"
      ]
     },
     "execution_count": 203,
     "metadata": {},
     "output_type": "execute_result"
    }
   ],
   "source": [
    "len(list_censusBG)-len(common_bg)"
   ]
  },
  {
   "cell_type": "code",
   "execution_count": 207,
   "id": "a8b41263-4dfb-4d89-871a-1f795483d8bc",
   "metadata": {
    "tags": []
   },
   "outputs": [
    {
     "data": {
      "text/plain": [
       "0"
      ]
     },
     "execution_count": 207,
     "metadata": {},
     "output_type": "execute_result"
    }
   ],
   "source": [
    "sum(BG_df2['geometry_BG'].isna())"
   ]
  },
  {
   "cell_type": "markdown",
   "id": "cd31c142-c9f7-47e0-8bd2-f924ff15809a",
   "metadata": {},
   "source": [
    "### Post 2020 Match Analysis"
   ]
  },
  {
   "cell_type": "code",
   "execution_count": 70,
   "id": "c2e80682-75ff-49f8-8cb2-7e799152a5ad",
   "metadata": {
    "tags": []
   },
   "outputs": [],
   "source": [
    "df_2020 = df_copy[df_copy['yearOfLoss']>=2020]"
   ]
  },
  {
   "cell_type": "code",
   "execution_count": 73,
   "id": "782e88f2-4002-4e8f-a0cb-ac8d31008066",
   "metadata": {
    "collapsed": true,
    "jupyter": {
     "outputs_hidden": true
    },
    "tags": []
   },
   "outputs": [
    {
     "name": "stdout",
     "output_type": "stream",
     "text": [
      "Using FIPS code '02' for input 'AK'\n",
      "Using FIPS code '01' for input 'AL'\n",
      "Using FIPS code '05' for input 'AR'\n",
      "Using FIPS code '60' for input 'AS'\n",
      "Using FIPS code '04' for input 'AZ'\n",
      "Using FIPS code '06' for input 'CA'\n",
      "Using FIPS code '08' for input 'CO'\n",
      "Using FIPS code '09' for input 'CT'\n",
      "Using FIPS code '11' for input 'DC'\n",
      "Using FIPS code '10' for input 'DE'\n",
      "Using FIPS code '12' for input 'FL'\n",
      "Using FIPS code '13' for input 'GA'\n",
      "Using FIPS code '66' for input 'GU'\n",
      "Using FIPS code '15' for input 'HI'\n",
      "Using FIPS code '19' for input 'IA'\n",
      "Using FIPS code '16' for input 'ID'\n",
      "Using FIPS code '17' for input 'IL'\n",
      "Using FIPS code '18' for input 'IN'\n",
      "Using FIPS code '20' for input 'KS'\n",
      "Using FIPS code '21' for input 'KY'\n",
      "Using FIPS code '22' for input 'LA'\n",
      "Using FIPS code '25' for input 'MA'\n",
      "Using FIPS code '24' for input 'MD'\n",
      "Using FIPS code '23' for input 'ME'\n",
      "Using FIPS code '26' for input 'MI'\n",
      "Using FIPS code '27' for input 'MN'\n",
      "Using FIPS code '29' for input 'MO'\n",
      "Using FIPS code '69' for input 'MP'\n",
      "Using FIPS code '28' for input 'MS'\n",
      "Using FIPS code '30' for input 'MT'\n",
      "Using FIPS code '37' for input 'NC'\n",
      "Using FIPS code '38' for input 'ND'\n",
      "Using FIPS code '31' for input 'NE'\n",
      "Using FIPS code '33' for input 'NH'\n",
      "Using FIPS code '34' for input 'NJ'\n",
      "Using FIPS code '35' for input 'NM'\n",
      "Using FIPS code '32' for input 'NV'\n",
      "Using FIPS code '36' for input 'NY'\n",
      "Using FIPS code '39' for input 'OH'\n",
      "Using FIPS code '40' for input 'OK'\n",
      "Using FIPS code '41' for input 'OR'\n",
      "Using FIPS code '42' for input 'PA'\n",
      "Using FIPS code '72' for input 'PR'\n",
      "Using FIPS code '44' for input 'RI'\n",
      "Using FIPS code '45' for input 'SC'\n",
      "Using FIPS code '46' for input 'SD'\n",
      "Using FIPS code '47' for input 'TN'\n",
      "Using FIPS code '48' for input 'TX'\n",
      "Using FIPS code '49' for input 'UT'\n",
      "Using FIPS code '51' for input 'VA'\n",
      "Using FIPS code '78' for input 'VI'\n",
      "Using FIPS code '50' for input 'VT'\n",
      "Using FIPS code '53' for input 'WA'\n",
      "Using FIPS code '55' for input 'WI'\n",
      "Using FIPS code '54' for input 'WV'\n",
      "Using FIPS code '56' for input 'WY'\n"
     ]
    }
   ],
   "source": [
    "BG_list_2020 = []\n",
    "\n",
    "for i in states_list:\n",
    "    BG_list_2020.append(pygris.block_groups(state = i, year = 2020))"
   ]
  },
  {
   "cell_type": "code",
   "execution_count": 75,
   "id": "a8025d57-c58b-4f5e-9169-8c32f7643e7f",
   "metadata": {
    "tags": []
   },
   "outputs": [],
   "source": [
    "temp2020 = pd.concat(BG_list_2020, ignore_index=True)"
   ]
  },
  {
   "cell_type": "code",
   "execution_count": 106,
   "id": "c4b88a47-31f7-4b6c-9070-93808e7bd6a8",
   "metadata": {
    "tags": []
   },
   "outputs": [],
   "source": [
    "list_censusBG2 = temp2020['GEOID'].dropna().drop_duplicates().astype(str).tolist()\n",
    "\n",
    "# add preceding 0 to make 4-digit zip codes into 5-digit\n",
    "list_censusBG2 = [censusBG.zfill(12) for censusBG in list_censusBG2]"
   ]
  },
  {
   "cell_type": "code",
   "execution_count": 107,
   "id": "2220c52f-fc2e-4ee1-9933-66a4b52d3c45",
   "metadata": {
    "tags": []
   },
   "outputs": [
    {
     "data": {
      "text/plain": [
       "242747"
      ]
     },
     "execution_count": 107,
     "metadata": {},
     "output_type": "execute_result"
    }
   ],
   "source": [
    "len(list_censusBG2)"
   ]
  },
  {
   "cell_type": "code",
   "execution_count": 108,
   "id": "002eb021-b488-47aa-9f6e-b4fc5928be62",
   "metadata": {
    "tags": []
   },
   "outputs": [],
   "source": [
    "#CensusBG list for NC\n",
    "\n",
    "list_censusBG = df_2020['censusBlockGroupFips'].dropna().drop_duplicates().tolist()\n",
    "\n",
    "list_censusBG = [str(int(float(i))) for i in list_censusBG]\n",
    "\n",
    "# add preceding 0 to make 4-digit zip codes into 5-digit\n",
    "list_censusBG = [censusBG.zfill(12) for censusBG in list_censusBG]"
   ]
  },
  {
   "cell_type": "code",
   "execution_count": 109,
   "id": "c3e799d2-1536-46cd-bd1a-065e743eb3f6",
   "metadata": {
    "tags": []
   },
   "outputs": [
    {
     "name": "stdout",
     "output_type": "stream",
     "text": [
      "Number of common BG: 17900\n"
     ]
    }
   ],
   "source": [
    "# Convert both lists to sets\n",
    "set_bg = set(list_censusBG)\n",
    "set_bg_2 = set(list_censusBG2)\n",
    "\n",
    "# Find the intersection of the two sets\n",
    "common_bg = set_bg.intersection(set_bg_2)\n",
    "\n",
    "# Print the number of common zip codes\n",
    "print(\"Number of common BG:\", len(common_bg))"
   ]
  },
  {
   "cell_type": "code",
   "execution_count": 110,
   "id": "1bb91a74-ed68-485a-bddc-b6969f8f00ae",
   "metadata": {
    "tags": []
   },
   "outputs": [
    {
     "data": {
      "text/plain": [
       "0.7374448976228731"
      ]
     },
     "execution_count": 110,
     "metadata": {},
     "output_type": "execute_result"
    }
   ],
   "source": [
    "len(common_bg)/len(list_censusBG)"
   ]
  },
  {
   "cell_type": "code",
   "execution_count": 111,
   "id": "de4e3f9f-6a6d-4f75-8adf-8a8528e2e5b8",
   "metadata": {
    "tags": []
   },
   "outputs": [
    {
     "data": {
      "text/plain": [
       "17900"
      ]
     },
     "execution_count": 111,
     "metadata": {},
     "output_type": "execute_result"
    }
   ],
   "source": [
    "len(common_bg)"
   ]
  },
  {
   "cell_type": "code",
   "execution_count": 112,
   "id": "bc5646a8-c370-4968-9b19-302824ab3af6",
   "metadata": {
    "tags": []
   },
   "outputs": [
    {
     "data": {
      "text/plain": [
       "6373"
      ]
     },
     "execution_count": 112,
     "metadata": {},
     "output_type": "execute_result"
    }
   ],
   "source": [
    "len(list_censusBG)-len(common_bg)"
   ]
  },
  {
   "cell_type": "code",
   "execution_count": null,
   "id": "45d129e4-a609-4660-a982-764c5c6f3581",
   "metadata": {},
   "outputs": [],
   "source": [
    "## Of the remaining censusBlockGroupFips which didn't match in 2010 shapefile"
   ]
  },
  {
   "cell_type": "code",
   "execution_count": 113,
   "id": "0e71a883-e976-4e79-b090-6f3796e8f2b5",
   "metadata": {
    "tags": []
   },
   "outputs": [],
   "source": [
    "#CensusBG list for NC\n",
    "\n",
    "list_censusBG = df_test['censusBlockGroupFips'].dropna().drop_duplicates().tolist()\n",
    "\n",
    "list_censusBG = [str(int(float(i))) for i in list_censusBG]\n",
    "\n",
    "# add preceding 0 to make 4-digit zip codes into 5-digit\n",
    "list_censusBG = [censusBG.zfill(12) for censusBG in list_censusBG]"
   ]
  },
  {
   "cell_type": "code",
   "execution_count": 117,
   "id": "1c63791a-33d9-489a-af5d-12375fcfdbb5",
   "metadata": {
    "tags": []
   },
   "outputs": [
    {
     "name": "stdout",
     "output_type": "stream",
     "text": [
      "Number of common BG: 416\n"
     ]
    }
   ],
   "source": [
    "# Convert both lists to sets\n",
    "set_bg = set(list_censusBG)\n",
    "set_bg_2 = set(list_censusBG2)\n",
    "\n",
    "# Find the intersection of the two sets\n",
    "common_bg = set_bg.intersection(set_bg_2)\n",
    "\n",
    "# Print the number of common zip codes\n",
    "print(\"Number of common BG:\", len(common_bg))"
   ]
  },
  {
   "cell_type": "code",
   "execution_count": 118,
   "id": "0cc74ea1-0b18-4c3c-8182-8a277b4a7217",
   "metadata": {
    "tags": []
   },
   "outputs": [
    {
     "data": {
      "text/plain": [
       "0.491725768321513"
      ]
     },
     "execution_count": 118,
     "metadata": {},
     "output_type": "execute_result"
    }
   ],
   "source": [
    "len(common_bg)/len(list_censusBG)"
   ]
  },
  {
   "cell_type": "code",
   "execution_count": 119,
   "id": "f7154069-8f21-4179-a0ab-369801b2cefb",
   "metadata": {
    "tags": []
   },
   "outputs": [
    {
     "data": {
      "text/plain": [
       "416"
      ]
     },
     "execution_count": 119,
     "metadata": {},
     "output_type": "execute_result"
    }
   ],
   "source": [
    "len(common_bg)"
   ]
  },
  {
   "cell_type": "code",
   "execution_count": 120,
   "id": "fd0289bd-02b6-4f81-abf1-a4947183d32d",
   "metadata": {
    "tags": []
   },
   "outputs": [
    {
     "data": {
      "text/plain": [
       "430"
      ]
     },
     "execution_count": 120,
     "metadata": {},
     "output_type": "execute_result"
    }
   ],
   "source": [
    "len(list_censusBG)-len(common_bg)"
   ]
  },
  {
   "cell_type": "code",
   "execution_count": 121,
   "id": "c1b31316-a091-4cbd-93ff-a5ac7e909c17",
   "metadata": {
    "tags": []
   },
   "outputs": [
    {
     "data": {
      "text/html": [
       "<div>\n",
       "<style scoped>\n",
       "    .dataframe tbody tr th:only-of-type {\n",
       "        vertical-align: middle;\n",
       "    }\n",
       "\n",
       "    .dataframe tbody tr th {\n",
       "        vertical-align: top;\n",
       "    }\n",
       "\n",
       "    .dataframe thead th {\n",
       "        text-align: right;\n",
       "    }\n",
       "</style>\n",
       "<table border=\"1\" class=\"dataframe\">\n",
       "  <thead>\n",
       "    <tr style=\"text-align: right;\">\n",
       "      <th></th>\n",
       "      <th>agricultureStructureIndicator</th>\n",
       "      <th>asOfDate</th>\n",
       "      <th>basementEnclosureCrawlspaceType</th>\n",
       "      <th>policyCount</th>\n",
       "      <th>crsClassificationCode</th>\n",
       "      <th>dateOfLoss</th>\n",
       "      <th>elevatedBuildingIndicator</th>\n",
       "      <th>elevationCertificateIndicator</th>\n",
       "      <th>elevationDifference</th>\n",
       "      <th>baseFloodElevation</th>\n",
       "      <th>ratedFloodZone</th>\n",
       "      <th>houseWorship</th>\n",
       "      <th>locationOfContents</th>\n",
       "      <th>lowestAdjacentGrade</th>\n",
       "      <th>lowestFloorElevation</th>\n",
       "      <th>numberOfFloorsInTheInsuredBuilding</th>\n",
       "      <th>nonProfitIndicator</th>\n",
       "      <th>obstructionType</th>\n",
       "      <th>occupancyType</th>\n",
       "      <th>originalConstructionDate</th>\n",
       "      <th>originalNBDate</th>\n",
       "      <th>amountPaidOnBuildingClaim</th>\n",
       "      <th>amountPaidOnContentsClaim</th>\n",
       "      <th>amountPaidOnIncreasedCostOfComplianceClaim</th>\n",
       "      <th>postFIRMConstructionIndicator</th>\n",
       "      <th>rateMethod</th>\n",
       "      <th>smallBusinessIndicatorBuilding</th>\n",
       "      <th>totalBuildingInsuranceCoverage</th>\n",
       "      <th>totalContentsInsuranceCoverage</th>\n",
       "      <th>yearOfLoss</th>\n",
       "      <th>primaryResidenceIndicator</th>\n",
       "      <th>buildingDamageAmount</th>\n",
       "      <th>buildingDeductibleCode</th>\n",
       "      <th>netBuildingPaymentAmount</th>\n",
       "      <th>buildingPropertyValue</th>\n",
       "      <th>causeOfDamage</th>\n",
       "      <th>condominiumCoverageTypeCode</th>\n",
       "      <th>contentsDamageAmount</th>\n",
       "      <th>contentsDeductibleCode</th>\n",
       "      <th>netContentsPaymentAmount</th>\n",
       "      <th>contentsPropertyValue</th>\n",
       "      <th>disasterAssistanceCoverageRequired</th>\n",
       "      <th>eventDesignationNumber</th>\n",
       "      <th>ficoNumber</th>\n",
       "      <th>floodCharacteristicsIndicator</th>\n",
       "      <th>floodWaterDuration</th>\n",
       "      <th>floodproofedIndicator</th>\n",
       "      <th>floodEvent</th>\n",
       "      <th>iccCoverage</th>\n",
       "      <th>netIccPaymentAmount</th>\n",
       "      <th>nfipRatedCommunityNumber</th>\n",
       "      <th>nfipCommunityNumberCurrent</th>\n",
       "      <th>nfipCommunityName</th>\n",
       "      <th>nonPaymentReasonContents</th>\n",
       "      <th>nonPaymentReasonBuilding</th>\n",
       "      <th>numberOfUnits</th>\n",
       "      <th>buildingReplacementCost</th>\n",
       "      <th>contentsReplacementCost</th>\n",
       "      <th>replacementCostBasis</th>\n",
       "      <th>stateOwnedIndicator</th>\n",
       "      <th>waterDepth</th>\n",
       "      <th>floodZoneCurrent</th>\n",
       "      <th>buildingDescriptionCode</th>\n",
       "      <th>rentalPropertyIndicator</th>\n",
       "      <th>state</th>\n",
       "      <th>reportedCity</th>\n",
       "      <th>reportedZipCode</th>\n",
       "      <th>countyCode</th>\n",
       "      <th>censusTract</th>\n",
       "      <th>censusBlockGroupFips</th>\n",
       "      <th>latitude</th>\n",
       "      <th>longitude</th>\n",
       "      <th>id</th>\n",
       "    </tr>\n",
       "  </thead>\n",
       "  <tbody>\n",
       "    <tr>\n",
       "      <th>2169</th>\n",
       "      <td>0</td>\n",
       "      <td>2019-09-19T06:12:43.388Z</td>\n",
       "      <td>2.0</td>\n",
       "      <td>1</td>\n",
       "      <td>NaN</td>\n",
       "      <td>1996-09-05T00:00:00.000Z</td>\n",
       "      <td>1</td>\n",
       "      <td>nan</td>\n",
       "      <td>NaN</td>\n",
       "      <td>NaN</td>\n",
       "      <td>X</td>\n",
       "      <td>0</td>\n",
       "      <td>2.0</td>\n",
       "      <td>NaN</td>\n",
       "      <td>NaN</td>\n",
       "      <td>3.0</td>\n",
       "      <td>0</td>\n",
       "      <td>60.0</td>\n",
       "      <td>3.0</td>\n",
       "      <td>1984-01-01T00:00:00.000Z</td>\n",
       "      <td>1995-12-13T00:00:00.000Z</td>\n",
       "      <td>NaN</td>\n",
       "      <td>NaN</td>\n",
       "      <td>NaN</td>\n",
       "      <td>1</td>\n",
       "      <td>1</td>\n",
       "      <td>0</td>\n",
       "      <td>20000.0</td>\n",
       "      <td>15000.0</td>\n",
       "      <td>1996</td>\n",
       "      <td>0</td>\n",
       "      <td>NaN</td>\n",
       "      <td>0</td>\n",
       "      <td>0.00</td>\n",
       "      <td>NaN</td>\n",
       "      <td>1</td>\n",
       "      <td>U</td>\n",
       "      <td>NaN</td>\n",
       "      <td>0</td>\n",
       "      <td>0.0</td>\n",
       "      <td>NaN</td>\n",
       "      <td>0.0</td>\n",
       "      <td>None</td>\n",
       "      <td>592.0</td>\n",
       "      <td>NaN</td>\n",
       "      <td>0.0</td>\n",
       "      <td>0</td>\n",
       "      <td>Hurricane Fran</td>\n",
       "      <td>NaN</td>\n",
       "      <td>0.0</td>\n",
       "      <td>370170.0</td>\n",
       "      <td>None</td>\n",
       "      <td>KURE BEACH, TOWN OF</td>\n",
       "      <td>97.0</td>\n",
       "      <td>97.0</td>\n",
       "      <td>1.0</td>\n",
       "      <td>NaN</td>\n",
       "      <td>NaN</td>\n",
       "      <td>A</td>\n",
       "      <td>0</td>\n",
       "      <td>0.0</td>\n",
       "      <td>None</td>\n",
       "      <td>NaN</td>\n",
       "      <td>0</td>\n",
       "      <td>NC</td>\n",
       "      <td>Currently Unavailable</td>\n",
       "      <td>28449.0</td>\n",
       "      <td>37129.0</td>\n",
       "      <td>3.712901e+10</td>\n",
       "      <td>371290122004</td>\n",
       "      <td>34.0</td>\n",
       "      <td>-77.9</td>\n",
       "      <td>1fa7289a-b432-42ad-8af3-bba5bd65b697</td>\n",
       "    </tr>\n",
       "    <tr>\n",
       "      <th>17637</th>\n",
       "      <td>0</td>\n",
       "      <td>2020-01-22T16:55:53.194Z</td>\n",
       "      <td>NaN</td>\n",
       "      <td>1</td>\n",
       "      <td>6.0</td>\n",
       "      <td>2003-09-18T00:00:00.000Z</td>\n",
       "      <td>0</td>\n",
       "      <td>nan</td>\n",
       "      <td>NaN</td>\n",
       "      <td>NaN</td>\n",
       "      <td>X</td>\n",
       "      <td>0</td>\n",
       "      <td>NaN</td>\n",
       "      <td>NaN</td>\n",
       "      <td>NaN</td>\n",
       "      <td>2.0</td>\n",
       "      <td>0</td>\n",
       "      <td>NaN</td>\n",
       "      <td>1.0</td>\n",
       "      <td>1989-07-15T00:00:00.000Z</td>\n",
       "      <td>1993-02-03T00:00:00.000Z</td>\n",
       "      <td>4641.55</td>\n",
       "      <td>0.0</td>\n",
       "      <td>0.0</td>\n",
       "      <td>1</td>\n",
       "      <td>7</td>\n",
       "      <td>0</td>\n",
       "      <td>150000.0</td>\n",
       "      <td>38000.0</td>\n",
       "      <td>2003</td>\n",
       "      <td>1</td>\n",
       "      <td>5141.0</td>\n",
       "      <td>0</td>\n",
       "      <td>4641.55</td>\n",
       "      <td>139500.0</td>\n",
       "      <td>1</td>\n",
       "      <td>N</td>\n",
       "      <td>472.0</td>\n",
       "      <td>0</td>\n",
       "      <td>0.0</td>\n",
       "      <td>0.0</td>\n",
       "      <td>0.0</td>\n",
       "      <td>None</td>\n",
       "      <td>639.0</td>\n",
       "      <td>NaN</td>\n",
       "      <td>0.0</td>\n",
       "      <td>0</td>\n",
       "      <td>Hurricane Isabel</td>\n",
       "      <td>20000.0</td>\n",
       "      <td>0.0</td>\n",
       "      <td>370439.0</td>\n",
       "      <td>None</td>\n",
       "      <td>KITTY HAWK, TOWN OF</td>\n",
       "      <td>1.0</td>\n",
       "      <td>NaN</td>\n",
       "      <td>1.0</td>\n",
       "      <td>150000.0</td>\n",
       "      <td>0.0</td>\n",
       "      <td>A</td>\n",
       "      <td>0</td>\n",
       "      <td>0.0</td>\n",
       "      <td>None</td>\n",
       "      <td>NaN</td>\n",
       "      <td>0</td>\n",
       "      <td>NC</td>\n",
       "      <td>Currently Unavailable</td>\n",
       "      <td>27949.0</td>\n",
       "      <td>37055.0</td>\n",
       "      <td>3.705597e+10</td>\n",
       "      <td>370559701002</td>\n",
       "      <td>36.1</td>\n",
       "      <td>-75.7</td>\n",
       "      <td>074b8629-bd2f-4f9b-8228-f993529a57fb</td>\n",
       "    </tr>\n",
       "    <tr>\n",
       "      <th>91383</th>\n",
       "      <td>0</td>\n",
       "      <td>2020-01-22T16:55:53.194Z</td>\n",
       "      <td>NaN</td>\n",
       "      <td>10</td>\n",
       "      <td>8.0</td>\n",
       "      <td>1999-09-15T00:00:00.000Z</td>\n",
       "      <td>0</td>\n",
       "      <td>nan</td>\n",
       "      <td>3.0</td>\n",
       "      <td>14.0</td>\n",
       "      <td>AE</td>\n",
       "      <td>0</td>\n",
       "      <td>NaN</td>\n",
       "      <td>16.6</td>\n",
       "      <td>16.6</td>\n",
       "      <td>3.0</td>\n",
       "      <td>0</td>\n",
       "      <td>NaN</td>\n",
       "      <td>3.0</td>\n",
       "      <td>1985-07-01T00:00:00.000Z</td>\n",
       "      <td>1993-05-02T00:00:00.000Z</td>\n",
       "      <td>282.75</td>\n",
       "      <td>0.0</td>\n",
       "      <td>0.0</td>\n",
       "      <td>1</td>\n",
       "      <td>1</td>\n",
       "      <td>0</td>\n",
       "      <td>625000.0</td>\n",
       "      <td>0.0</td>\n",
       "      <td>1999</td>\n",
       "      <td>0</td>\n",
       "      <td>785.0</td>\n",
       "      <td>0</td>\n",
       "      <td>282.75</td>\n",
       "      <td>667800.0</td>\n",
       "      <td>4</td>\n",
       "      <td>H</td>\n",
       "      <td>NaN</td>\n",
       "      <td>None</td>\n",
       "      <td>0.0</td>\n",
       "      <td>NaN</td>\n",
       "      <td>0.0</td>\n",
       "      <td>None</td>\n",
       "      <td>626.0</td>\n",
       "      <td>NaN</td>\n",
       "      <td>0.0</td>\n",
       "      <td>0</td>\n",
       "      <td>Hurricane Floyd</td>\n",
       "      <td>15000.0</td>\n",
       "      <td>0.0</td>\n",
       "      <td>375357.0</td>\n",
       "      <td>375357</td>\n",
       "      <td>OCEAN ISLE BEACH, TOWN OF</td>\n",
       "      <td>NaN</td>\n",
       "      <td>NaN</td>\n",
       "      <td>10.0</td>\n",
       "      <td>718000.0</td>\n",
       "      <td>NaN</td>\n",
       "      <td>A</td>\n",
       "      <td>0</td>\n",
       "      <td>0.0</td>\n",
       "      <td>VE</td>\n",
       "      <td>1.0</td>\n",
       "      <td>0</td>\n",
       "      <td>NC</td>\n",
       "      <td>Currently Unavailable</td>\n",
       "      <td>28459.0</td>\n",
       "      <td>37019.0</td>\n",
       "      <td>3.701902e+10</td>\n",
       "      <td>370190205033</td>\n",
       "      <td>33.9</td>\n",
       "      <td>-78.5</td>\n",
       "      <td>b85f8c99-8673-46ac-8abe-b138c39134e6</td>\n",
       "    </tr>\n",
       "    <tr>\n",
       "      <th>91873</th>\n",
       "      <td>0</td>\n",
       "      <td>2019-09-19T13:45:58.425Z</td>\n",
       "      <td>NaN</td>\n",
       "      <td>1</td>\n",
       "      <td>NaN</td>\n",
       "      <td>1996-09-05T00:00:00.000Z</td>\n",
       "      <td>0</td>\n",
       "      <td>nan</td>\n",
       "      <td>NaN</td>\n",
       "      <td>NaN</td>\n",
       "      <td>X</td>\n",
       "      <td>0</td>\n",
       "      <td>NaN</td>\n",
       "      <td>NaN</td>\n",
       "      <td>NaN</td>\n",
       "      <td>1.0</td>\n",
       "      <td>0</td>\n",
       "      <td>10.0</td>\n",
       "      <td>3.0</td>\n",
       "      <td>1981-01-06T00:00:00.000Z</td>\n",
       "      <td>1994-03-19T00:00:00.000Z</td>\n",
       "      <td>9228.45</td>\n",
       "      <td>0.0</td>\n",
       "      <td>0.0</td>\n",
       "      <td>0</td>\n",
       "      <td>1</td>\n",
       "      <td>0</td>\n",
       "      <td>250000.0</td>\n",
       "      <td>0.0</td>\n",
       "      <td>1996</td>\n",
       "      <td>0</td>\n",
       "      <td>250000.0</td>\n",
       "      <td>1</td>\n",
       "      <td>9228.45</td>\n",
       "      <td>300000.0</td>\n",
       "      <td>1</td>\n",
       "      <td>N</td>\n",
       "      <td>100000.0</td>\n",
       "      <td>None</td>\n",
       "      <td>0.0</td>\n",
       "      <td>0.0</td>\n",
       "      <td>0.0</td>\n",
       "      <td>None</td>\n",
       "      <td>592.0</td>\n",
       "      <td>NaN</td>\n",
       "      <td>0.0</td>\n",
       "      <td>0</td>\n",
       "      <td>Hurricane Fran</td>\n",
       "      <td>NaN</td>\n",
       "      <td>0.0</td>\n",
       "      <td>370170.0</td>\n",
       "      <td>None</td>\n",
       "      <td>KURE BEACH, TOWN OF</td>\n",
       "      <td>NaN</td>\n",
       "      <td>NaN</td>\n",
       "      <td>1.0</td>\n",
       "      <td>300000.0</td>\n",
       "      <td>0.0</td>\n",
       "      <td>A</td>\n",
       "      <td>0</td>\n",
       "      <td>24.0</td>\n",
       "      <td>None</td>\n",
       "      <td>NaN</td>\n",
       "      <td>0</td>\n",
       "      <td>NC</td>\n",
       "      <td>Currently Unavailable</td>\n",
       "      <td>28449.0</td>\n",
       "      <td>37129.0</td>\n",
       "      <td>3.712901e+10</td>\n",
       "      <td>371290122004</td>\n",
       "      <td>34.0</td>\n",
       "      <td>-77.9</td>\n",
       "      <td>f2e6ee86-0db6-42cf-a726-903ececbdc9a</td>\n",
       "    </tr>\n",
       "    <tr>\n",
       "      <th>92010</th>\n",
       "      <td>0</td>\n",
       "      <td>2019-10-19T03:42:08.849Z</td>\n",
       "      <td>NaN</td>\n",
       "      <td>1</td>\n",
       "      <td>NaN</td>\n",
       "      <td>1996-07-12T00:00:00.000Z</td>\n",
       "      <td>0</td>\n",
       "      <td>nan</td>\n",
       "      <td>NaN</td>\n",
       "      <td>NaN</td>\n",
       "      <td>X</td>\n",
       "      <td>0</td>\n",
       "      <td>4.0</td>\n",
       "      <td>NaN</td>\n",
       "      <td>NaN</td>\n",
       "      <td>2.0</td>\n",
       "      <td>0</td>\n",
       "      <td>10.0</td>\n",
       "      <td>4.0</td>\n",
       "      <td>1981-01-06T00:00:00.000Z</td>\n",
       "      <td>1994-06-16T00:00:00.000Z</td>\n",
       "      <td>3780.55</td>\n",
       "      <td>0.0</td>\n",
       "      <td>0.0</td>\n",
       "      <td>0</td>\n",
       "      <td>1</td>\n",
       "      <td>0</td>\n",
       "      <td>200000.0</td>\n",
       "      <td>0.0</td>\n",
       "      <td>1996</td>\n",
       "      <td>0</td>\n",
       "      <td>4781.0</td>\n",
       "      <td>1</td>\n",
       "      <td>3780.55</td>\n",
       "      <td>273240.0</td>\n",
       "      <td>1</td>\n",
       "      <td>N</td>\n",
       "      <td>NaN</td>\n",
       "      <td>None</td>\n",
       "      <td>0.0</td>\n",
       "      <td>NaN</td>\n",
       "      <td>0.0</td>\n",
       "      <td>None</td>\n",
       "      <td>590.0</td>\n",
       "      <td>NaN</td>\n",
       "      <td>0.0</td>\n",
       "      <td>0</td>\n",
       "      <td>Hurricane Bertha</td>\n",
       "      <td>NaN</td>\n",
       "      <td>0.0</td>\n",
       "      <td>370170.0</td>\n",
       "      <td>None</td>\n",
       "      <td>KURE BEACH, TOWN OF</td>\n",
       "      <td>97.0</td>\n",
       "      <td>NaN</td>\n",
       "      <td>1.0</td>\n",
       "      <td>0.0</td>\n",
       "      <td>NaN</td>\n",
       "      <td>A</td>\n",
       "      <td>0</td>\n",
       "      <td>0.0</td>\n",
       "      <td>None</td>\n",
       "      <td>NaN</td>\n",
       "      <td>0</td>\n",
       "      <td>NC</td>\n",
       "      <td>Currently Unavailable</td>\n",
       "      <td>28449.0</td>\n",
       "      <td>37129.0</td>\n",
       "      <td>3.712901e+10</td>\n",
       "      <td>371290122004</td>\n",
       "      <td>34.0</td>\n",
       "      <td>-77.9</td>\n",
       "      <td>33afe57a-9966-41fd-8616-e2d34e0f795f</td>\n",
       "    </tr>\n",
       "  </tbody>\n",
       "</table>\n",
       "</div>"
      ],
      "text/plain": [
       "       agricultureStructureIndicator                  asOfDate  \\\n",
       "2169                               0  2019-09-19T06:12:43.388Z   \n",
       "17637                              0  2020-01-22T16:55:53.194Z   \n",
       "91383                              0  2020-01-22T16:55:53.194Z   \n",
       "91873                              0  2019-09-19T13:45:58.425Z   \n",
       "92010                              0  2019-10-19T03:42:08.849Z   \n",
       "\n",
       "       basementEnclosureCrawlspaceType  policyCount  crsClassificationCode  \\\n",
       "2169                               2.0            1                    NaN   \n",
       "17637                              NaN            1                    6.0   \n",
       "91383                              NaN           10                    8.0   \n",
       "91873                              NaN            1                    NaN   \n",
       "92010                              NaN            1                    NaN   \n",
       "\n",
       "                     dateOfLoss  elevatedBuildingIndicator  \\\n",
       "2169   1996-09-05T00:00:00.000Z                          1   \n",
       "17637  2003-09-18T00:00:00.000Z                          0   \n",
       "91383  1999-09-15T00:00:00.000Z                          0   \n",
       "91873  1996-09-05T00:00:00.000Z                          0   \n",
       "92010  1996-07-12T00:00:00.000Z                          0   \n",
       "\n",
       "      elevationCertificateIndicator  elevationDifference  baseFloodElevation  \\\n",
       "2169                            nan                  NaN                 NaN   \n",
       "17637                           nan                  NaN                 NaN   \n",
       "91383                           nan                  3.0                14.0   \n",
       "91873                           nan                  NaN                 NaN   \n",
       "92010                           nan                  NaN                 NaN   \n",
       "\n",
       "      ratedFloodZone  houseWorship  locationOfContents  lowestAdjacentGrade  \\\n",
       "2169               X             0                 2.0                  NaN   \n",
       "17637              X             0                 NaN                  NaN   \n",
       "91383             AE             0                 NaN                 16.6   \n",
       "91873              X             0                 NaN                  NaN   \n",
       "92010              X             0                 4.0                  NaN   \n",
       "\n",
       "       lowestFloorElevation  numberOfFloorsInTheInsuredBuilding  \\\n",
       "2169                    NaN                                 3.0   \n",
       "17637                   NaN                                 2.0   \n",
       "91383                  16.6                                 3.0   \n",
       "91873                   NaN                                 1.0   \n",
       "92010                   NaN                                 2.0   \n",
       "\n",
       "       nonProfitIndicator  obstructionType  occupancyType  \\\n",
       "2169                    0             60.0            3.0   \n",
       "17637                   0              NaN            1.0   \n",
       "91383                   0              NaN            3.0   \n",
       "91873                   0             10.0            3.0   \n",
       "92010                   0             10.0            4.0   \n",
       "\n",
       "       originalConstructionDate            originalNBDate  \\\n",
       "2169   1984-01-01T00:00:00.000Z  1995-12-13T00:00:00.000Z   \n",
       "17637  1989-07-15T00:00:00.000Z  1993-02-03T00:00:00.000Z   \n",
       "91383  1985-07-01T00:00:00.000Z  1993-05-02T00:00:00.000Z   \n",
       "91873  1981-01-06T00:00:00.000Z  1994-03-19T00:00:00.000Z   \n",
       "92010  1981-01-06T00:00:00.000Z  1994-06-16T00:00:00.000Z   \n",
       "\n",
       "       amountPaidOnBuildingClaim  amountPaidOnContentsClaim  \\\n",
       "2169                         NaN                        NaN   \n",
       "17637                    4641.55                        0.0   \n",
       "91383                     282.75                        0.0   \n",
       "91873                    9228.45                        0.0   \n",
       "92010                    3780.55                        0.0   \n",
       "\n",
       "       amountPaidOnIncreasedCostOfComplianceClaim  \\\n",
       "2169                                          NaN   \n",
       "17637                                         0.0   \n",
       "91383                                         0.0   \n",
       "91873                                         0.0   \n",
       "92010                                         0.0   \n",
       "\n",
       "       postFIRMConstructionIndicator rateMethod  \\\n",
       "2169                               1          1   \n",
       "17637                              1          7   \n",
       "91383                              1          1   \n",
       "91873                              0          1   \n",
       "92010                              0          1   \n",
       "\n",
       "       smallBusinessIndicatorBuilding  totalBuildingInsuranceCoverage  \\\n",
       "2169                                0                         20000.0   \n",
       "17637                               0                        150000.0   \n",
       "91383                               0                        625000.0   \n",
       "91873                               0                        250000.0   \n",
       "92010                               0                        200000.0   \n",
       "\n",
       "       totalContentsInsuranceCoverage  yearOfLoss  primaryResidenceIndicator  \\\n",
       "2169                          15000.0        1996                          0   \n",
       "17637                         38000.0        2003                          1   \n",
       "91383                             0.0        1999                          0   \n",
       "91873                             0.0        1996                          0   \n",
       "92010                             0.0        1996                          0   \n",
       "\n",
       "       buildingDamageAmount buildingDeductibleCode  netBuildingPaymentAmount  \\\n",
       "2169                    NaN                      0                      0.00   \n",
       "17637                5141.0                      0                   4641.55   \n",
       "91383                 785.0                      0                    282.75   \n",
       "91873              250000.0                      1                   9228.45   \n",
       "92010                4781.0                      1                   3780.55   \n",
       "\n",
       "       buildingPropertyValue causeOfDamage condominiumCoverageTypeCode  \\\n",
       "2169                     NaN             1                           U   \n",
       "17637               139500.0             1                           N   \n",
       "91383               667800.0             4                           H   \n",
       "91873               300000.0             1                           N   \n",
       "92010               273240.0             1                           N   \n",
       "\n",
       "       contentsDamageAmount contentsDeductibleCode  netContentsPaymentAmount  \\\n",
       "2169                    NaN                      0                       0.0   \n",
       "17637                 472.0                      0                       0.0   \n",
       "91383                   NaN                   None                       0.0   \n",
       "91873              100000.0                   None                       0.0   \n",
       "92010                   NaN                   None                       0.0   \n",
       "\n",
       "       contentsPropertyValue  disasterAssistanceCoverageRequired  \\\n",
       "2169                     NaN                                 0.0   \n",
       "17637                    0.0                                 0.0   \n",
       "91383                    NaN                                 0.0   \n",
       "91873                    0.0                                 0.0   \n",
       "92010                    NaN                                 0.0   \n",
       "\n",
       "      eventDesignationNumber  ficoNumber  floodCharacteristicsIndicator  \\\n",
       "2169                    None       592.0                            NaN   \n",
       "17637                   None       639.0                            NaN   \n",
       "91383                   None       626.0                            NaN   \n",
       "91873                   None       592.0                            NaN   \n",
       "92010                   None       590.0                            NaN   \n",
       "\n",
       "       floodWaterDuration  floodproofedIndicator        floodEvent  \\\n",
       "2169                  0.0                      0    Hurricane Fran   \n",
       "17637                 0.0                      0  Hurricane Isabel   \n",
       "91383                 0.0                      0   Hurricane Floyd   \n",
       "91873                 0.0                      0    Hurricane Fran   \n",
       "92010                 0.0                      0  Hurricane Bertha   \n",
       "\n",
       "       iccCoverage  netIccPaymentAmount  nfipRatedCommunityNumber  \\\n",
       "2169           NaN                  0.0                  370170.0   \n",
       "17637      20000.0                  0.0                  370439.0   \n",
       "91383      15000.0                  0.0                  375357.0   \n",
       "91873          NaN                  0.0                  370170.0   \n",
       "92010          NaN                  0.0                  370170.0   \n",
       "\n",
       "      nfipCommunityNumberCurrent          nfipCommunityName  \\\n",
       "2169                        None        KURE BEACH, TOWN OF   \n",
       "17637                       None        KITTY HAWK, TOWN OF   \n",
       "91383                     375357  OCEAN ISLE BEACH, TOWN OF   \n",
       "91873                       None        KURE BEACH, TOWN OF   \n",
       "92010                       None        KURE BEACH, TOWN OF   \n",
       "\n",
       "       nonPaymentReasonContents  nonPaymentReasonBuilding  numberOfUnits  \\\n",
       "2169                       97.0                      97.0            1.0   \n",
       "17637                       1.0                       NaN            1.0   \n",
       "91383                       NaN                       NaN           10.0   \n",
       "91873                       NaN                       NaN            1.0   \n",
       "92010                      97.0                       NaN            1.0   \n",
       "\n",
       "       buildingReplacementCost  contentsReplacementCost replacementCostBasis  \\\n",
       "2169                       NaN                      NaN                    A   \n",
       "17637                 150000.0                      0.0                    A   \n",
       "91383                 718000.0                      NaN                    A   \n",
       "91873                 300000.0                      0.0                    A   \n",
       "92010                      0.0                      NaN                    A   \n",
       "\n",
       "       stateOwnedIndicator  waterDepth floodZoneCurrent  \\\n",
       "2169                     0         0.0             None   \n",
       "17637                    0         0.0             None   \n",
       "91383                    0         0.0               VE   \n",
       "91873                    0        24.0             None   \n",
       "92010                    0         0.0             None   \n",
       "\n",
       "       buildingDescriptionCode  rentalPropertyIndicator state  \\\n",
       "2169                       NaN                        0    NC   \n",
       "17637                      NaN                        0    NC   \n",
       "91383                      1.0                        0    NC   \n",
       "91873                      NaN                        0    NC   \n",
       "92010                      NaN                        0    NC   \n",
       "\n",
       "                reportedCity  reportedZipCode  countyCode   censusTract  \\\n",
       "2169   Currently Unavailable          28449.0     37129.0  3.712901e+10   \n",
       "17637  Currently Unavailable          27949.0     37055.0  3.705597e+10   \n",
       "91383  Currently Unavailable          28459.0     37019.0  3.701902e+10   \n",
       "91873  Currently Unavailable          28449.0     37129.0  3.712901e+10   \n",
       "92010  Currently Unavailable          28449.0     37129.0  3.712901e+10   \n",
       "\n",
       "      censusBlockGroupFips  latitude  longitude  \\\n",
       "2169          371290122004      34.0      -77.9   \n",
       "17637         370559701002      36.1      -75.7   \n",
       "91383         370190205033      33.9      -78.5   \n",
       "91873         371290122004      34.0      -77.9   \n",
       "92010         371290122004      34.0      -77.9   \n",
       "\n",
       "                                         id  \n",
       "2169   1fa7289a-b432-42ad-8af3-bba5bd65b697  \n",
       "17637  074b8629-bd2f-4f9b-8228-f993529a57fb  \n",
       "91383  b85f8c99-8673-46ac-8abe-b138c39134e6  \n",
       "91873  f2e6ee86-0db6-42cf-a726-903ececbdc9a  \n",
       "92010  33afe57a-9966-41fd-8616-e2d34e0f795f  "
      ]
     },
     "execution_count": 121,
     "metadata": {},
     "output_type": "execute_result"
    }
   ],
   "source": [
    "df_test[df_test['state'].isin(['NC', 'WA'])].head()"
   ]
  },
  {
   "cell_type": "code",
   "execution_count": 129,
   "id": "f64d4e89-7e42-475b-92af-919e8c4be002",
   "metadata": {
    "tags": []
   },
   "outputs": [],
   "source": [
    "df_temp = df_test[df_test['censusBlockGroupFips'].isin(common_bg)]"
   ]
  },
  {
   "cell_type": "code",
   "execution_count": 130,
   "id": "3fc00013-40a5-4e14-8cfa-59d702a3b871",
   "metadata": {
    "tags": []
   },
   "outputs": [
    {
     "data": {
      "text/plain": [
       "2022    237\n",
       "2017    133\n",
       "2021     76\n",
       "2020     58\n",
       "2016     53\n",
       "2012     45\n",
       "2023     29\n",
       "2018     26\n",
       "2005     23\n",
       "2019     20\n",
       "2011     15\n",
       "2004     10\n",
       "2015      8\n",
       "2008      7\n",
       "2010      6\n",
       "2003      5\n",
       "2014      3\n",
       "2000      3\n",
       "1993      3\n",
       "2006      3\n",
       "1998      2\n",
       "1996      1\n",
       "1992      1\n",
       "1991      1\n",
       "1990      1\n",
       "1997      1\n",
       "1995      1\n",
       "2002      1\n",
       "2009      1\n",
       "2001      1\n",
       "2007      1\n",
       "Name: yearOfLoss, dtype: int64"
      ]
     },
     "execution_count": 130,
     "metadata": {},
     "output_type": "execute_result"
    }
   ],
   "source": [
    "df_temp['yearOfLoss'].value_counts()"
   ]
  },
  {
   "cell_type": "markdown",
   "id": "51f8e33b-9994-44d7-82d1-a109411bb921",
   "metadata": {},
   "source": [
    "### 6. censusBlockGroupFips"
   ]
  },
  {
   "cell_type": "code",
   "execution_count": 152,
   "id": "f1075a75-accc-4f7f-85f0-2b64a8ed7439",
   "metadata": {
    "tags": []
   },
   "outputs": [],
   "source": [
    "test = df[df['censusBlockGroupFips'].notna()]"
   ]
  },
  {
   "cell_type": "code",
   "execution_count": 153,
   "id": "991e2124-9b67-453c-8d72-e265ef0b645f",
   "metadata": {
    "tags": []
   },
   "outputs": [
    {
     "name": "stdout",
     "output_type": "stream",
     "text": [
      "Total observations available: 2447264\n",
      "Observations lost: 136978\n",
      "Percentage NA: 5.300509781978623\n",
      "Total unique censusBlockGroup: 106786\n"
     ]
    }
   ],
   "source": [
    "print('Total observations available:', test.shape[0])\n",
    "print('Observations lost:', df.shape[0]-test.shape[0])\n",
    "print('Percentage NA:', (df.shape[0]-test.shape[0])*100/df.shape[0])\n",
    "print('Total unique censusBlockGroup:', test.drop_duplicates(subset=['censusBlockGroupFips']).shape[0])"
   ]
  },
  {
   "cell_type": "markdown",
   "id": "7019aac0-f79b-417d-b02d-81203273cbbd",
   "metadata": {},
   "source": [
    "##### Now we can calculate for each decade how many of the census tract have shapefiles with geometry attribute."
   ]
  },
  {
   "cell_type": "code",
   "execution_count": 190,
   "id": "4a32ccdd-6d66-4348-9afd-156244ed5cda",
   "metadata": {
    "tags": []
   },
   "outputs": [],
   "source": [
    "df_geographic_unique = df[['censusBlockGroupFips', 'yearOfLoss']].drop_duplicates()\n",
    "df_geographic_unique = df_geographic_unique.dropna(subset=['censusBlockGroupFips'])"
   ]
  },
  {
   "cell_type": "code",
   "execution_count": 191,
   "id": "96361592-1923-4456-a2d4-a978a74398a8",
   "metadata": {
    "tags": []
   },
   "outputs": [],
   "source": [
    "df_geographic_unique['censusBlockGroupFips'] = [str(int(float(i))) for i in df_geographic_unique['censusBlockGroupFips']]\n",
    "df_geographic_unique['censusBlockGroupFips'] = [censusBG.zfill(12) for censusBG in df_geographic_unique['censusBlockGroupFips']]"
   ]
  },
  {
   "cell_type": "code",
   "execution_count": 192,
   "id": "9c2daab5-c2b6-4a7c-b455-97a822924598",
   "metadata": {
    "tags": []
   },
   "outputs": [],
   "source": [
    "# Define bins and labels for yearOfLoss_1990_2021\n",
    "bins_1990_2021 = [df_geographic_unique['yearOfLoss'].min(), 2000, 2010, 2020, df_geographic_unique['yearOfLoss'].max() + 1]\n",
    "labels_1990_2021 = [1990, 2000, 2010, 2020]\n",
    "\n",
    "df_geographic_unique['yearOfLoss_1990_2021'] = pd.cut(df_geographic_unique['yearOfLoss'], bins=bins_1990_2021, labels=labels_1990_2021, right=False).astype(int)\n",
    "\n",
    "df_geographic_unique = df_geographic_unique.drop(columns='yearOfLoss')"
   ]
  },
  {
   "cell_type": "code",
   "execution_count": 193,
   "id": "91dd2145-c537-4f2e-8f59-2966fef65a5c",
   "metadata": {
    "tags": []
   },
   "outputs": [],
   "source": [
    "df_geographic_unique = df_geographic_unique.drop_duplicates()"
   ]
  },
  {
   "cell_type": "code",
   "execution_count": 194,
   "id": "98abc0c6-df08-4cb0-bb84-5a74fc8f6a55",
   "metadata": {
    "tags": []
   },
   "outputs": [],
   "source": [
    "BG_df2.rename(columns={'geometry': 'geometry_BG'}, inplace=True)"
   ]
  },
  {
   "cell_type": "code",
   "execution_count": 195,
   "id": "61887fdd-2540-44af-8d24-2ce3244f7f5f",
   "metadata": {
    "tags": []
   },
   "outputs": [],
   "source": [
    "BG_df2.set_index(['GEOID'], inplace=True)\n",
    "df_geographic_unique['geometry_BG'] = df_geographic_unique.set_index(['censusBlockGroupFips']).index.map(BG_df2['geometry_BG'])\n",
    "\n",
    "# Find rows with NaN values \n",
    "na_rows = df_geographic_unique['geometry_BG'].isna()\n",
    "\n",
    "BG_df2.reset_index(inplace=True)"
   ]
  },
  {
   "cell_type": "code",
   "execution_count": 198,
   "id": "a7b591e4-dbec-48ec-a900-96f9fd621256",
   "metadata": {
    "tags": []
   },
   "outputs": [
    {
     "data": {
      "text/plain": [
       "1024"
      ]
     },
     "execution_count": 198,
     "metadata": {},
     "output_type": "execute_result"
    }
   ],
   "source": [
    "sum(na_rows)"
   ]
  },
  {
   "cell_type": "code",
   "execution_count": 211,
   "id": "258dbc68-b801-4de8-b694-84607bc5d7fa",
   "metadata": {
    "tags": []
   },
   "outputs": [
    {
     "name": "stdout",
     "output_type": "stream",
     "text": [
      "Total missing: 846\n",
      "Number of censusBlockGroupFips per decade without a matching geometry\n",
      "2000    311\n",
      "2010    266\n",
      "1990    224\n",
      "2020    223\n",
      "Name: yearOfLoss_1990_2021, dtype: int64\n"
     ]
    }
   ],
   "source": [
    "test = df_geographic_unique.loc[na_rows, ]\n",
    "print('Total missing:', test[['censusBlockGroupFips']].drop_duplicates().shape[0])\n",
    "print('Number of censusBlockGroupFips per decade without a matching geometry')\n",
    "print(test.drop_duplicates(subset=['censusBlockGroupFips', 'yearOfLoss_1990_2021'])['yearOfLoss_1990_2021'].value_counts())"
   ]
  },
  {
   "cell_type": "code",
   "execution_count": 205,
   "id": "fbc24f9e-9c26-4dbb-94d2-479d4b304f52",
   "metadata": {
    "collapsed": true,
    "jupyter": {
     "outputs_hidden": true
    },
    "tags": []
   },
   "outputs": [
    {
     "name": "stderr",
     "output_type": "stream",
     "text": [
      "C:\\Users\\Asus\\AppData\\Local\\Temp\\ipykernel_21236\\889359098.py:3: SettingWithCopyWarning: \n",
      "A value is trying to be set on a copy of a slice from a DataFrame.\n",
      "Try using .loc[row_indexer,col_indexer] = value instead\n",
      "\n",
      "See the caveats in the documentation: https://pandas.pydata.org/pandas-docs/stable/user_guide/indexing.html#returning-a-view-versus-a-copy\n",
      "  df_test['censusBlockGroupFips'] = [str(int(float(i))) for i in df_test['censusBlockGroupFips']]\n",
      "C:\\Users\\Asus\\AppData\\Local\\Temp\\ipykernel_21236\\889359098.py:4: SettingWithCopyWarning: \n",
      "A value is trying to be set on a copy of a slice from a DataFrame.\n",
      "Try using .loc[row_indexer,col_indexer] = value instead\n",
      "\n",
      "See the caveats in the documentation: https://pandas.pydata.org/pandas-docs/stable/user_guide/indexing.html#returning-a-view-versus-a-copy\n",
      "  df_test['censusBlockGroupFips'] = [censusBG.zfill(12) for censusBG in df_test['censusBlockGroupFips']]\n"
     ]
    }
   ],
   "source": [
    "df_test = df_copy[df_copy['censusBlockGroupFips'].notna()]\n",
    "\n",
    "df_test['censusBlockGroupFips'] = [str(int(float(i))) for i in df_test['censusBlockGroupFips']]\n",
    "df_test['censusBlockGroupFips'] = [censusBG.zfill(12) for censusBG in df_test['censusBlockGroupFips']]"
   ]
  },
  {
   "cell_type": "code",
   "execution_count": 206,
   "id": "21167a41-2280-4a9e-907a-2bdf2590b70a",
   "metadata": {
    "tags": []
   },
   "outputs": [
    {
     "name": "stdout",
     "output_type": "stream",
     "text": [
      "Value_counts of censusBlockGroupFips per decade:\n",
      " 1990    71925\n",
      "2010    61534\n",
      "2000    52227\n",
      "2020    24273\n",
      "Name: yearOfLoss_1990_2021, dtype: int64\n"
     ]
    }
   ],
   "source": [
    "print('Value_counts of censusBlockGroupFips per decade:\\n', df_test.drop_duplicates(subset=['censusBlockGroupFips', 'yearOfLoss_1990_2021'])['yearOfLoss_1990_2021'].value_counts())"
   ]
  },
  {
   "cell_type": "code",
   "execution_count": 207,
   "id": "fab95be9-efbd-4883-bf6d-3931a559f194",
   "metadata": {
    "tags": []
   },
   "outputs": [
    {
     "name": "stdout",
     "output_type": "stream",
     "text": [
      "There are 1822 rows in df_copy with the same censusBlockGroupFips and yearOfLoss_1990_2021 as in test.\n"
     ]
    }
   ],
   "source": [
    "test.set_index(['censusBlockGroupFips', 'yearOfLoss_1990_2021'], inplace=True)\n",
    "df_test.set_index(['censusBlockGroupFips', 'yearOfLoss_1990_2021'], inplace=True)\n",
    "\n",
    "# Select rows of df_copy that have indices found in test\n",
    "matching_rows = df_test.loc[df_test.index.isin(test.index)]\n",
    "\n",
    "matching_rows.reset_index(inplace=True)\n",
    "test.reset_index(inplace=True)\n",
    "df_test.reset_index(inplace=True)\n",
    "\n",
    "print(f\"There are {matching_rows.shape[0]} rows in df_copy with the same censusBlockGroupFips and yearOfLoss_1990_2021 as in test.\")"
   ]
  },
  {
   "cell_type": "code",
   "execution_count": 208,
   "id": "0fea6700-2333-4fb3-9606-e09c7bb06e80",
   "metadata": {
    "tags": []
   },
   "outputs": [
    {
     "data": {
      "text/plain": [
       "2000    547\n",
       "1990    451\n",
       "2010    424\n",
       "2020    400\n",
       "Name: yearOfLoss_1990_2021, dtype: int64"
      ]
     },
     "execution_count": 208,
     "metadata": {},
     "output_type": "execute_result"
    }
   ],
   "source": [
    "matching_rows['yearOfLoss_1990_2021'].value_counts()"
   ]
  },
  {
   "cell_type": "markdown",
   "id": "542a0b06-bcd6-405c-989d-c02321fae2a0",
   "metadata": {},
   "source": [
    "### Match Rate using 2020 shapefiles on the entire dataset..."
   ]
  },
  {
   "cell_type": "code",
   "execution_count": 5,
   "id": "fe74dca8-fe85-4d6e-94e9-66beb5e2f13c",
   "metadata": {
    "tags": []
   },
   "outputs": [
    {
     "name": "stdout",
     "output_type": "stream",
     "text": [
      "Using the default year of 2021\n"
     ]
    }
   ],
   "source": [
    "states = pygris.states()\n",
    "states_list = sorted(states['STUSPS'].unique())"
   ]
  },
  {
   "cell_type": "code",
   "execution_count": 6,
   "id": "69a45ee5-bd5d-4b2c-94d6-2b3e009194c8",
   "metadata": {
    "collapsed": true,
    "jupyter": {
     "outputs_hidden": true
    },
    "tags": []
   },
   "outputs": [
    {
     "name": "stdout",
     "output_type": "stream",
     "text": [
      "Using FIPS code '02' for input 'AK'\n",
      "Using FIPS code '01' for input 'AL'\n",
      "Using FIPS code '05' for input 'AR'\n",
      "Using FIPS code '60' for input 'AS'\n",
      "Using FIPS code '04' for input 'AZ'\n",
      "Using FIPS code '06' for input 'CA'\n",
      "Using FIPS code '08' for input 'CO'\n",
      "Using FIPS code '09' for input 'CT'\n",
      "Using FIPS code '11' for input 'DC'\n",
      "Using FIPS code '10' for input 'DE'\n",
      "Using FIPS code '12' for input 'FL'\n",
      "Using FIPS code '13' for input 'GA'\n",
      "Using FIPS code '66' for input 'GU'\n",
      "Using FIPS code '15' for input 'HI'\n",
      "Using FIPS code '19' for input 'IA'\n",
      "Using FIPS code '16' for input 'ID'\n",
      "Using FIPS code '17' for input 'IL'\n",
      "Using FIPS code '18' for input 'IN'\n",
      "Using FIPS code '20' for input 'KS'\n",
      "Using FIPS code '21' for input 'KY'\n",
      "Using FIPS code '22' for input 'LA'\n",
      "Using FIPS code '25' for input 'MA'\n",
      "Using FIPS code '24' for input 'MD'\n",
      "Using FIPS code '23' for input 'ME'\n",
      "Using FIPS code '26' for input 'MI'\n",
      "Using FIPS code '27' for input 'MN'\n",
      "Using FIPS code '29' for input 'MO'\n",
      "Using FIPS code '69' for input 'MP'\n",
      "Using FIPS code '28' for input 'MS'\n",
      "Using FIPS code '30' for input 'MT'\n",
      "Using FIPS code '37' for input 'NC'\n",
      "Using FIPS code '38' for input 'ND'\n",
      "Using FIPS code '31' for input 'NE'\n",
      "Using FIPS code '33' for input 'NH'\n",
      "Using FIPS code '34' for input 'NJ'\n",
      "Using FIPS code '35' for input 'NM'\n",
      "Using FIPS code '32' for input 'NV'\n",
      "Using FIPS code '36' for input 'NY'\n",
      "Using FIPS code '39' for input 'OH'\n",
      "Using FIPS code '40' for input 'OK'\n",
      "Using FIPS code '41' for input 'OR'\n",
      "Using FIPS code '42' for input 'PA'\n",
      "Using FIPS code '72' for input 'PR'\n",
      "Using FIPS code '44' for input 'RI'\n",
      "Using FIPS code '45' for input 'SC'\n",
      "Using FIPS code '46' for input 'SD'\n",
      "Using FIPS code '47' for input 'TN'\n",
      "Using FIPS code '48' for input 'TX'\n",
      "Using FIPS code '49' for input 'UT'\n",
      "Using FIPS code '51' for input 'VA'\n",
      "Using FIPS code '78' for input 'VI'\n",
      "Using FIPS code '50' for input 'VT'\n",
      "Using FIPS code '53' for input 'WA'\n",
      "Using FIPS code '55' for input 'WI'\n",
      "Using FIPS code '54' for input 'WV'\n",
      "Using FIPS code '56' for input 'WY'\n"
     ]
    }
   ],
   "source": [
    "BG_list_2020 = []\n",
    "\n",
    "for i in states_list:\n",
    "    BG_list_2020.append(pygris.block_groups(state = i, year = 2020))"
   ]
  },
  {
   "cell_type": "code",
   "execution_count": 7,
   "id": "653d0cbc-27c5-4bb3-8bbe-fe76c056f0ce",
   "metadata": {
    "collapsed": true,
    "jupyter": {
     "outputs_hidden": true
    },
    "tags": []
   },
   "outputs": [
    {
     "name": "stdout",
     "output_type": "stream",
     "text": [
      "Using FIPS code '02' for input 'AK'\n",
      "Using FIPS code '01' for input 'AL'\n",
      "Using FIPS code '05' for input 'AR'\n",
      "Using FIPS code '60' for input 'AS'\n",
      "Using FIPS code '04' for input 'AZ'\n",
      "Using FIPS code '06' for input 'CA'\n",
      "Using FIPS code '08' for input 'CO'\n",
      "Using FIPS code '09' for input 'CT'\n",
      "Using FIPS code '11' for input 'DC'\n",
      "Using FIPS code '10' for input 'DE'\n",
      "Using FIPS code '12' for input 'FL'\n",
      "Using FIPS code '13' for input 'GA'\n",
      "Using FIPS code '66' for input 'GU'\n",
      "Using FIPS code '15' for input 'HI'\n",
      "Using FIPS code '19' for input 'IA'\n",
      "Using FIPS code '16' for input 'ID'\n",
      "Using FIPS code '17' for input 'IL'\n",
      "Using FIPS code '18' for input 'IN'\n",
      "Using FIPS code '20' for input 'KS'\n",
      "Using FIPS code '21' for input 'KY'\n",
      "Using FIPS code '22' for input 'LA'\n",
      "Using FIPS code '25' for input 'MA'\n",
      "Using FIPS code '24' for input 'MD'\n",
      "Using FIPS code '23' for input 'ME'\n",
      "Using FIPS code '26' for input 'MI'\n",
      "Using FIPS code '27' for input 'MN'\n",
      "Using FIPS code '29' for input 'MO'\n",
      "Using FIPS code '69' for input 'MP'\n",
      "Using FIPS code '28' for input 'MS'\n",
      "Using FIPS code '30' for input 'MT'\n",
      "Using FIPS code '37' for input 'NC'\n",
      "Using FIPS code '38' for input 'ND'\n",
      "Using FIPS code '31' for input 'NE'\n",
      "Using FIPS code '33' for input 'NH'\n",
      "Using FIPS code '34' for input 'NJ'\n",
      "Using FIPS code '35' for input 'NM'\n",
      "Using FIPS code '32' for input 'NV'\n",
      "Using FIPS code '36' for input 'NY'\n",
      "Using FIPS code '39' for input 'OH'\n",
      "Using FIPS code '40' for input 'OK'\n",
      "Using FIPS code '41' for input 'OR'\n",
      "Using FIPS code '42' for input 'PA'\n",
      "Using FIPS code '72' for input 'PR'\n",
      "Using FIPS code '44' for input 'RI'\n",
      "Using FIPS code '45' for input 'SC'\n",
      "Using FIPS code '46' for input 'SD'\n",
      "Using FIPS code '47' for input 'TN'\n",
      "Using FIPS code '48' for input 'TX'\n",
      "Using FIPS code '49' for input 'UT'\n",
      "Using FIPS code '51' for input 'VA'\n",
      "Using FIPS code '78' for input 'VI'\n",
      "Using FIPS code '50' for input 'VT'\n",
      "Using FIPS code '53' for input 'WA'\n",
      "Using FIPS code '55' for input 'WI'\n",
      "Using FIPS code '54' for input 'WV'\n",
      "Using FIPS code '56' for input 'WY'\n"
     ]
    }
   ],
   "source": [
    "BG_list_2022 = []\n",
    "\n",
    "for i in states_list:\n",
    "    BG_list_2022.append(pygris.block_groups(state = i, year = 2022))"
   ]
  },
  {
   "cell_type": "code",
   "execution_count": 8,
   "id": "7cc58ba9-6fb8-49ab-823a-d87bb0ef4143",
   "metadata": {
    "tags": []
   },
   "outputs": [],
   "source": [
    "temp2020 = pd.concat(BG_list_2020, ignore_index=True)\n",
    "temp2022 = pd.concat(BG_list_2022, ignore_index=True)"
   ]
  },
  {
   "cell_type": "code",
   "execution_count": 9,
   "id": "88db42d2-ba20-45e8-be9b-0ceb604b9236",
   "metadata": {
    "tags": []
   },
   "outputs": [],
   "source": [
    "temp2020 = temp2020[['GEOID', 'geometry']]\n",
    "temp2020['year'] = 2020\n",
    "\n",
    "temp2022 = temp2022[['GEOID', 'geometry']]\n",
    "temp2022['year'] = 2020"
   ]
  },
  {
   "cell_type": "code",
   "execution_count": 10,
   "id": "519a4c7d-9205-4da1-aa2a-9966fcb14523",
   "metadata": {
    "tags": []
   },
   "outputs": [],
   "source": [
    "list_censusBG_2 = []"
   ]
  },
  {
   "cell_type": "code",
   "execution_count": 22,
   "id": "e49a97f2-2539-4c5b-9a3e-6c3cc4f0d699",
   "metadata": {
    "tags": []
   },
   "outputs": [],
   "source": [
    "list_censusBG = temp2022['GEOID'].dropna().drop_duplicates().astype(str).tolist()\n",
    "\n",
    "# add preceding 0 to make 4-digit zip codes into 5-digit\n",
    "list_censusBG = [censusBG.zfill(12) for censusBG in list_censusBG]"
   ]
  },
  {
   "cell_type": "code",
   "execution_count": 23,
   "id": "10a51de8-618f-4661-a5ec-09b635d5169e",
   "metadata": {
    "tags": []
   },
   "outputs": [
    {
     "data": {
      "text/plain": [
       "242748"
      ]
     },
     "execution_count": 23,
     "metadata": {},
     "output_type": "execute_result"
    }
   ],
   "source": [
    "len(list_censusBG)"
   ]
  },
  {
   "cell_type": "code",
   "execution_count": 24,
   "id": "f932d591-583e-48d7-ba09-d3ee3c8ba294",
   "metadata": {
    "tags": []
   },
   "outputs": [],
   "source": [
    "list_censusBG_2 = list_censusBG_2 + list_censusBG"
   ]
  },
  {
   "cell_type": "code",
   "execution_count": 25,
   "id": "8e1075ba-26ce-40b6-8880-8af05e4c991e",
   "metadata": {
    "tags": []
   },
   "outputs": [
    {
     "data": {
      "text/plain": [
       "485495"
      ]
     },
     "execution_count": 25,
     "metadata": {},
     "output_type": "execute_result"
    }
   ],
   "source": [
    "len(list_censusBG_2)"
   ]
  },
  {
   "cell_type": "code",
   "execution_count": 26,
   "id": "ec23b07d-5eb9-4376-b7c6-b3556176c1c9",
   "metadata": {
    "tags": []
   },
   "outputs": [],
   "source": [
    "list_censusBG_2 = list(set(list_censusBG_2))"
   ]
  },
  {
   "cell_type": "code",
   "execution_count": 27,
   "id": "b30cd0c0-2e8e-4c45-9504-d059d1269c87",
   "metadata": {
    "tags": []
   },
   "outputs": [
    {
     "data": {
      "text/plain": [
       "245464"
      ]
     },
     "execution_count": 27,
     "metadata": {},
     "output_type": "execute_result"
    }
   ],
   "source": [
    "len(list_censusBG_2)"
   ]
  },
  {
   "cell_type": "code",
   "execution_count": 28,
   "id": "66827ba5-03a8-4d80-b1db-f7fb68d196bf",
   "metadata": {
    "tags": []
   },
   "outputs": [],
   "source": [
    "#CensusBG list for NC\n",
    "\n",
    "list_censusBG = df['censusBlockGroupFips'].dropna().drop_duplicates().tolist()\n",
    "\n",
    "list_censusBG = [str(int(float(i))) for i in list_censusBG]\n",
    "\n",
    "# add preceding 0 to make 4-digit zip codes into 5-digit\n",
    "list_censusBG = [censusBG.zfill(12) for censusBG in list_censusBG]"
   ]
  },
  {
   "cell_type": "code",
   "execution_count": 29,
   "id": "714d944b-b071-442f-b8a7-0f0502d1d07c",
   "metadata": {
    "tags": []
   },
   "outputs": [
    {
     "name": "stdout",
     "output_type": "stream",
     "text": [
      "Number of common BG: 82259\n"
     ]
    }
   ],
   "source": [
    "# Convert both lists to sets\n",
    "set_bg = set(list_censusBG)\n",
    "set_bg_2 = set(list_censusBG_2)\n",
    "\n",
    "# Find the intersection of the two sets\n",
    "common_bg = set_bg.intersection(set_bg_2)\n",
    "\n",
    "# Print the number of common zip codes\n",
    "print(\"Number of common BG:\", len(common_bg))"
   ]
  },
  {
   "cell_type": "code",
   "execution_count": 30,
   "id": "ac87e247-9418-4109-a3bb-a4bec9024fb0",
   "metadata": {
    "tags": []
   },
   "outputs": [
    {
     "data": {
      "text/plain": [
       "0.770316333601783"
      ]
     },
     "execution_count": 30,
     "metadata": {},
     "output_type": "execute_result"
    }
   ],
   "source": [
    "len(common_bg)/len(list_censusBG)"
   ]
  },
  {
   "cell_type": "code",
   "execution_count": 31,
   "id": "6edab948-9af1-4a5a-8738-60ba55d7f3b7",
   "metadata": {
    "tags": []
   },
   "outputs": [
    {
     "data": {
      "text/plain": [
       "82259"
      ]
     },
     "execution_count": 31,
     "metadata": {},
     "output_type": "execute_result"
    }
   ],
   "source": [
    "len(common_bg)"
   ]
  },
  {
   "cell_type": "code",
   "execution_count": 32,
   "id": "5abb5915-face-438b-a5d5-61f3452baa48",
   "metadata": {
    "tags": []
   },
   "outputs": [
    {
     "data": {
      "text/plain": [
       "24527"
      ]
     },
     "execution_count": 32,
     "metadata": {},
     "output_type": "execute_result"
    }
   ],
   "source": [
    "len(list_censusBG)-len(common_bg)"
   ]
  },
  {
   "cell_type": "code",
   "execution_count": 33,
   "id": "aa81ded4-b46b-4d23-9ebc-f08feb4a5fd2",
   "metadata": {
    "tags": []
   },
   "outputs": [],
   "source": [
    "BG_list_df2022 = temp2022[temp2022['GEOID'].isin(common_bg)]\n",
    "BG_list_df2020 = temp2020[temp2020['GEOID'].isin(common_bg)]"
   ]
  },
  {
   "cell_type": "code",
   "execution_count": 34,
   "id": "84fcf5d1-4c7b-4101-bec1-7bd083157751",
   "metadata": {
    "tags": []
   },
   "outputs": [
    {
     "name": "stdout",
     "output_type": "stream",
     "text": [
      "80815\n",
      "82259\n"
     ]
    }
   ],
   "source": [
    "print(BG_list_df2022.shape[0])\n",
    "print(BG_list_df2020.shape[0])"
   ]
  },
  {
   "cell_type": "code",
   "execution_count": 218,
   "id": "45ce4922-ad08-4fd5-8831-89d03d5131cc",
   "metadata": {
    "tags": []
   },
   "outputs": [],
   "source": [
    "BG_df = pd.concat([BG_list_df2020], ignore_index=True)"
   ]
  },
  {
   "cell_type": "code",
   "execution_count": 219,
   "id": "3d70a39c-e67b-4222-803e-df0a969b0ef5",
   "metadata": {
    "tags": []
   },
   "outputs": [],
   "source": [
    "BG_df = BG_df.drop_duplicates(subset=['GEOID', 'year'])"
   ]
  },
  {
   "cell_type": "code",
   "execution_count": 61,
   "id": "933bec86-8ab9-40f0-9c03-a6d0fb5e7b3a",
   "metadata": {
    "tags": []
   },
   "outputs": [],
   "source": [
    "list_2020_BG = common_bg"
   ]
  },
  {
   "cell_type": "markdown",
   "id": "ac833b2c-1be2-4c46-8498-92bffdc9c7f8",
   "metadata": {},
   "source": [
    "### censusBlockGroupFips"
   ]
  },
  {
   "cell_type": "code",
   "execution_count": 212,
   "id": "c9b0bd28-d964-41af-81e0-1ca33ec3b181",
   "metadata": {
    "tags": []
   },
   "outputs": [],
   "source": [
    "test = df[df['censusBlockGroupFips'].notna()]"
   ]
  },
  {
   "cell_type": "code",
   "execution_count": 213,
   "id": "e54bcf8c-fd2e-4c51-9b6a-a06fd2d0eeaf",
   "metadata": {
    "tags": []
   },
   "outputs": [
    {
     "name": "stdout",
     "output_type": "stream",
     "text": [
      "Total observations available: 2447264\n",
      "Observations lost: 136978\n",
      "Percentage NA: 5.300509781978623\n",
      "Total unique censusBlockGroup: 106786\n"
     ]
    }
   ],
   "source": [
    "print('Total observations available:', test.shape[0])\n",
    "print('Observations lost:', df.shape[0]-test.shape[0])\n",
    "print('Percentage NA:', (df.shape[0]-test.shape[0])*100/df.shape[0])\n",
    "print('Total unique censusBlockGroup:', test.drop_duplicates(subset=['censusBlockGroupFips']).shape[0])"
   ]
  },
  {
   "cell_type": "code",
   "execution_count": 214,
   "id": "253b92d3-d20c-4f5c-add7-0fa891e46cf1",
   "metadata": {
    "tags": []
   },
   "outputs": [],
   "source": [
    "df_geographic_unique = df[['censusBlockGroupFips', 'yearOfLoss']].drop_duplicates()\n",
    "df_geographic_unique = df_geographic_unique.dropna(subset=['censusBlockGroupFips'])"
   ]
  },
  {
   "cell_type": "code",
   "execution_count": 215,
   "id": "4b883173-4057-44d3-ae1c-c5abd63f626d",
   "metadata": {
    "tags": []
   },
   "outputs": [],
   "source": [
    "df_geographic_unique['censusBlockGroupFips'] = [str(int(float(i))) for i in df_geographic_unique['censusBlockGroupFips']]\n",
    "df_geographic_unique['censusBlockGroupFips'] = [censusBG.zfill(12) for censusBG in df_geographic_unique['censusBlockGroupFips']]"
   ]
  },
  {
   "cell_type": "code",
   "execution_count": 216,
   "id": "06eb5fe6-9508-4449-ae59-6ef0b16c8caf",
   "metadata": {
    "tags": []
   },
   "outputs": [],
   "source": [
    "# Define bins and labels for yearOfLoss_1990_2021\n",
    "bins_1990_2021 = [df_geographic_unique['yearOfLoss'].min(), 2000, 2010, 2020, df_geographic_unique['yearOfLoss'].max() + 1]\n",
    "labels_1990_2021 = [1990, 2000, 2010, 2020]\n",
    "\n",
    "df_geographic_unique['yearOfLoss_1990_2021'] = pd.cut(df_geographic_unique['yearOfLoss'], bins=bins_1990_2021, labels=labels_1990_2021, right=False).astype(int)\n",
    "\n",
    "df_geographic_unique = df_geographic_unique.drop(columns='yearOfLoss')"
   ]
  },
  {
   "cell_type": "code",
   "execution_count": 217,
   "id": "d73570af-d0c8-4831-98cc-7d3e0ee3126c",
   "metadata": {
    "tags": []
   },
   "outputs": [],
   "source": [
    "df_geographic_unique = df_geographic_unique.drop_duplicates()"
   ]
  },
  {
   "cell_type": "code",
   "execution_count": 220,
   "id": "092c9b37-a0a9-4bbe-8cd0-adcb188c459e",
   "metadata": {
    "tags": []
   },
   "outputs": [],
   "source": [
    "BG_df.rename(columns={'geometry': 'geometry_BG'}, inplace=True)"
   ]
  },
  {
   "cell_type": "code",
   "execution_count": 221,
   "id": "27e0bb76-9596-4a49-9923-f9634e9ffb7c",
   "metadata": {
    "tags": []
   },
   "outputs": [],
   "source": [
    "BG_df.set_index(['GEOID'], inplace=True)\n",
    "df_geographic_unique['geometry_BG'] = df_geographic_unique.set_index(['censusBlockGroupFips']).index.map(BG_df['geometry_BG'])\n",
    "\n",
    "# Find rows with NaN values \n",
    "na_rows = df_geographic_unique['geometry_BG'].isna()\n",
    "\n",
    "BG_df.reset_index(inplace=True)"
   ]
  },
  {
   "cell_type": "code",
   "execution_count": 222,
   "id": "14ee5cd3-6a04-4b00-862b-6c2766cc83f7",
   "metadata": {
    "tags": []
   },
   "outputs": [
    {
     "name": "stdout",
     "output_type": "stream",
     "text": [
      "Total missing: 24527\n",
      "Number of censusBlockGroupFips per decade without a matching geometry\n",
      "1990    15737\n",
      "2010    15055\n",
      "2000    13126\n",
      "2020     6373\n",
      "Name: yearOfLoss_1990_2021, dtype: int64\n"
     ]
    }
   ],
   "source": [
    "test = df_geographic_unique.loc[na_rows, ]\n",
    "print('Total missing:', test[['censusBlockGroupFips']].drop_duplicates().shape[0])\n",
    "print('Number of censusBlockGroupFips per decade without a matching geometry')\n",
    "print(test.drop_duplicates(subset=['censusBlockGroupFips', 'yearOfLoss_1990_2021'])['yearOfLoss_1990_2021'].value_counts())"
   ]
  },
  {
   "cell_type": "code",
   "execution_count": 47,
   "id": "4443217a-a0d6-43bf-9ddc-9adb274b2d50",
   "metadata": {
    "collapsed": true,
    "jupyter": {
     "outputs_hidden": true
    },
    "tags": []
   },
   "outputs": [
    {
     "name": "stderr",
     "output_type": "stream",
     "text": [
      "C:\\Users\\Asus\\AppData\\Local\\Temp\\ipykernel_10632\\889359098.py:3: SettingWithCopyWarning: \n",
      "A value is trying to be set on a copy of a slice from a DataFrame.\n",
      "Try using .loc[row_indexer,col_indexer] = value instead\n",
      "\n",
      "See the caveats in the documentation: https://pandas.pydata.org/pandas-docs/stable/user_guide/indexing.html#returning-a-view-versus-a-copy\n",
      "  df_test['censusBlockGroupFips'] = [str(int(float(i))) for i in df_test['censusBlockGroupFips']]\n",
      "C:\\Users\\Asus\\AppData\\Local\\Temp\\ipykernel_10632\\889359098.py:4: SettingWithCopyWarning: \n",
      "A value is trying to be set on a copy of a slice from a DataFrame.\n",
      "Try using .loc[row_indexer,col_indexer] = value instead\n",
      "\n",
      "See the caveats in the documentation: https://pandas.pydata.org/pandas-docs/stable/user_guide/indexing.html#returning-a-view-versus-a-copy\n",
      "  df_test['censusBlockGroupFips'] = [censusBG.zfill(12) for censusBG in df_test['censusBlockGroupFips']]\n"
     ]
    }
   ],
   "source": [
    "df_test = df_copy[df_copy['censusBlockGroupFips'].notna()]\n",
    "\n",
    "df_test['censusBlockGroupFips'] = [str(int(float(i))) for i in df_test['censusBlockGroupFips']]\n",
    "df_test['censusBlockGroupFips'] = [censusBG.zfill(12) for censusBG in df_test['censusBlockGroupFips']]"
   ]
  },
  {
   "cell_type": "code",
   "execution_count": 48,
   "id": "a239b7bd-0a8a-451d-a483-9e5753689fe4",
   "metadata": {
    "tags": []
   },
   "outputs": [
    {
     "name": "stdout",
     "output_type": "stream",
     "text": [
      "Value_counts of censusBlockGroupFips per decade:\n",
      " 1990    71925\n",
      "2010    61534\n",
      "2000    52227\n",
      "2020    24273\n",
      "Name: yearOfLoss_1990_2021, dtype: int64\n"
     ]
    }
   ],
   "source": [
    "print('Value_counts of censusBlockGroupFips per decade:\\n', df_test.drop_duplicates(subset=['censusBlockGroupFips', 'yearOfLoss_1990_2021'])['yearOfLoss_1990_2021'].value_counts())"
   ]
  },
  {
   "cell_type": "code",
   "execution_count": 49,
   "id": "10ef5857-ed56-479e-8b5a-4fc077e391e4",
   "metadata": {
    "tags": []
   },
   "outputs": [
    {
     "name": "stdout",
     "output_type": "stream",
     "text": [
      "There are 678942 rows in df_copy with the same censusBlockGroupFips and yearOfLoss_1990_2021 as in test.\n"
     ]
    }
   ],
   "source": [
    "test.set_index(['censusBlockGroupFips', 'yearOfLoss_1990_2021'], inplace=True)\n",
    "df_test.set_index(['censusBlockGroupFips', 'yearOfLoss_1990_2021'], inplace=True)\n",
    "\n",
    "# Select rows of df_copy that have indices found in test\n",
    "matching_rows = df_test.loc[df_test.index.isin(test.index)]\n",
    "\n",
    "matching_rows.reset_index(inplace=True)\n",
    "test.reset_index(inplace=True)\n",
    "df_test.reset_index(inplace=True)\n",
    "\n",
    "print(f\"There are {matching_rows.shape[0]} rows in df_copy with the same censusBlockGroupFips and yearOfLoss_1990_2021 as in test.\")"
   ]
  },
  {
   "cell_type": "code",
   "execution_count": 50,
   "id": "df06993d-a47e-4058-8ada-7a16a10585f7",
   "metadata": {
    "tags": []
   },
   "outputs": [
    {
     "data": {
      "text/plain": [
       "1990    229625\n",
       "2000    219100\n",
       "2010    185362\n",
       "2020     44855\n",
       "Name: yearOfLoss_1990_2021, dtype: int64"
      ]
     },
     "execution_count": 50,
     "metadata": {},
     "output_type": "execute_result"
    }
   ],
   "source": [
    "matching_rows['yearOfLoss_1990_2021'].value_counts()"
   ]
  },
  {
   "cell_type": "markdown",
   "id": "2a950d6d-c062-44ee-acbf-ffa20079d195",
   "metadata": {},
   "source": [
    "### Post 2020, using 2020 shapefiles, checking how yearwise match rate is"
   ]
  },
  {
   "cell_type": "code",
   "execution_count": 70,
   "id": "224767d8-f63b-4a1a-9adc-6af4f2f7ca71",
   "metadata": {
    "tags": []
   },
   "outputs": [],
   "source": [
    "df_2020 = df_copy[df_copy['yearOfLoss']>=2020]"
   ]
  },
  {
   "cell_type": "code",
   "execution_count": 73,
   "id": "50af7afd-b6e1-4fbb-a147-63c22dd7f97c",
   "metadata": {
    "tags": []
   },
   "outputs": [],
   "source": [
    "df_2020 = df_2020[df_2020['censusBlockGroupFips'].notna()]\n",
    "df_2020['censusBlockGroupFips'] = [str(int(float(i))) for i in df_2020['censusBlockGroupFips']]\n",
    "df_2020['censusBlockGroupFips'] = [censusBG.zfill(12) for censusBG in df_2020['censusBlockGroupFips']]"
   ]
  },
  {
   "cell_type": "code",
   "execution_count": 75,
   "id": "599ca88c-a01e-4573-aad6-761a053b3288",
   "metadata": {
    "tags": []
   },
   "outputs": [],
   "source": [
    "#CensusBG list for NC\n",
    "\n",
    "list_censusBG = df_2020['censusBlockGroupFips'].dropna().drop_duplicates().tolist()\n",
    "\n",
    "list_censusBG = [str(int(float(i))) for i in list_censusBG]\n",
    "\n",
    "# add preceding 0 to make 4-digit zip codes into 5-digit\n",
    "list_censusBG = [censusBG.zfill(12) for censusBG in list_censusBG]"
   ]
  },
  {
   "cell_type": "code",
   "execution_count": 76,
   "id": "3665065e-399a-4dc0-8407-b6028cc75b9b",
   "metadata": {
    "tags": []
   },
   "outputs": [
    {
     "name": "stdout",
     "output_type": "stream",
     "text": [
      "Number of common BG: 17900\n"
     ]
    }
   ],
   "source": [
    "# Convert both lists to sets\n",
    "set_bg = set(list_censusBG)\n",
    "set_bg_2 = set(list_2020_BG)\n",
    "\n",
    "# Find the intersection of the two sets\n",
    "common_bg = set_bg.intersection(set_bg_2)\n",
    "\n",
    "# Print the number of common zip codes\n",
    "print(\"Number of common BG:\", len(common_bg))"
   ]
  },
  {
   "cell_type": "code",
   "execution_count": 82,
   "id": "f30f859f-6c70-4c6a-a864-9c408c8a51f2",
   "metadata": {
    "tags": []
   },
   "outputs": [
    {
     "data": {
      "text/plain": [
       "2022    18305\n",
       "2021    13181\n",
       "2020    12653\n",
       "2023      716\n",
       "Name: yearOfLoss, dtype: int64"
      ]
     },
     "execution_count": 82,
     "metadata": {},
     "output_type": "execute_result"
    }
   ],
   "source": [
    "df_2020[~df_2020['censusBlockGroupFips'].isin(common_bg)]['yearOfLoss'].value_counts()"
   ]
  },
  {
   "cell_type": "markdown",
   "id": "a137b096-1150-40d7-a850-c0c84a113c46",
   "metadata": {},
   "source": [
    "### Post 2020, using 2010 shapefiles, checking how yearwise match rate is"
   ]
  },
  {
   "cell_type": "code",
   "execution_count": 132,
   "id": "713c013f-ca6d-4179-9851-207ed9072744",
   "metadata": {
    "tags": []
   },
   "outputs": [],
   "source": [
    "#CensusBG list for NC\n",
    "\n",
    "list_censusBG = df_2020['censusBlockGroupFips'].dropna().drop_duplicates().tolist()\n",
    "\n",
    "list_censusBG = [str(int(float(i))) for i in list_censusBG]\n",
    "\n",
    "# add preceding 0 to make 4-digit zip codes into 5-digit\n",
    "list_censusBG = [censusBG.zfill(12) for censusBG in list_censusBG]"
   ]
  },
  {
   "cell_type": "code",
   "execution_count": 133,
   "id": "ceac1a4c-4ed2-4c0a-b66c-c23eb0582ccc",
   "metadata": {
    "tags": []
   },
   "outputs": [
    {
     "name": "stdout",
     "output_type": "stream",
     "text": [
      "Number of common BG: 24050\n"
     ]
    }
   ],
   "source": [
    "# Convert both lists to sets\n",
    "set_bg = set(list_censusBG)\n",
    "set_bg_2 = set(list_2010_BG)\n",
    "\n",
    "# Find the intersection of the two sets\n",
    "common_bg = set_bg.intersection(set_bg_2)\n",
    "\n",
    "# Print the number of common zip codes\n",
    "print(\"Number of common BG:\", len(common_bg))"
   ]
  },
  {
   "cell_type": "code",
   "execution_count": 135,
   "id": "7d1db273-185f-4b07-9ddc-208a11fbf94a",
   "metadata": {
    "tags": []
   },
   "outputs": [
    {
     "data": {
      "text/plain": [
       "2022    0.401749\n",
       "2021    0.163881\n",
       "2020    0.176635\n",
       "2023    1.238787\n",
       "Name: yearOfLoss, dtype: float64"
      ]
     },
     "execution_count": 135,
     "metadata": {},
     "output_type": "execute_result"
    }
   ],
   "source": [
    "(df_2020[~df_2020['censusBlockGroupFips'].isin(common_bg)]['yearOfLoss'].value_counts()/df_2020['yearOfLoss'].value_counts())*100"
   ]
  },
  {
   "cell_type": "markdown",
   "id": "f6bfc99b-32ce-4500-ba92-2738deff4c5a",
   "metadata": {},
   "source": [
    "### Among the census blockgroups that matched with 2020 shapefile, how many of those have the same id in 2010 TIGER shapefile.."
   ]
  },
  {
   "cell_type": "code",
   "execution_count": 139,
   "id": "11c66856-907c-4ea7-8776-1d99fdf6c753",
   "metadata": {
    "tags": []
   },
   "outputs": [],
   "source": [
    "non_common_list  = list_2020_BG - list_2010_BG"
   ]
  },
  {
   "cell_type": "code",
   "execution_count": 140,
   "id": "2e0be5bf-26f1-4e7a-bb34-c885b8c0b5f6",
   "metadata": {
    "collapsed": true,
    "jupyter": {
     "outputs_hidden": true
    },
    "tags": []
   },
   "outputs": [
    {
     "name": "stderr",
     "output_type": "stream",
     "text": [
      "C:\\Users\\Asus\\AppData\\Local\\Temp\\ipykernel_10632\\380571103.py:2: SettingWithCopyWarning: \n",
      "A value is trying to be set on a copy of a slice from a DataFrame.\n",
      "Try using .loc[row_indexer,col_indexer] = value instead\n",
      "\n",
      "See the caveats in the documentation: https://pandas.pydata.org/pandas-docs/stable/user_guide/indexing.html#returning-a-view-versus-a-copy\n",
      "  df_copy_2['censusBlockGroupFips'] = [str(int(float(i))) for i in df_copy_2['censusBlockGroupFips']]\n",
      "C:\\Users\\Asus\\AppData\\Local\\Temp\\ipykernel_10632\\380571103.py:3: SettingWithCopyWarning: \n",
      "A value is trying to be set on a copy of a slice from a DataFrame.\n",
      "Try using .loc[row_indexer,col_indexer] = value instead\n",
      "\n",
      "See the caveats in the documentation: https://pandas.pydata.org/pandas-docs/stable/user_guide/indexing.html#returning-a-view-versus-a-copy\n",
      "  df_copy_2['censusBlockGroupFips'] = [censusBG.zfill(12) for censusBG in df_copy_2['censusBlockGroupFips']]\n"
     ]
    }
   ],
   "source": [
    "df_copy_2 = df_copy[df_copy['censusBlockGroupFips'].notna()]\n",
    "df_copy_2['censusBlockGroupFips'] = [str(int(float(i))) for i in df_copy_2['censusBlockGroupFips']]\n",
    "df_copy_2['censusBlockGroupFips'] = [censusBG.zfill(12) for censusBG in df_copy_2['censusBlockGroupFips']]"
   ]
  },
  {
   "cell_type": "code",
   "execution_count": 144,
   "id": "f70f21ac-ad09-44be-8b17-f64dc501d118",
   "metadata": {
    "tags": []
   },
   "outputs": [
    {
     "data": {
      "text/plain": [
       "416"
      ]
     },
     "execution_count": 144,
     "metadata": {},
     "output_type": "execute_result"
    }
   ],
   "source": [
    "len(non_common_list)"
   ]
  },
  {
   "cell_type": "code",
   "execution_count": 142,
   "id": "71f66cbe-8d3c-46c2-9179-950f0b83ea99",
   "metadata": {
    "tags": []
   },
   "outputs": [
    {
     "data": {
      "text/plain": [
       "775"
      ]
     },
     "execution_count": 142,
     "metadata": {},
     "output_type": "execute_result"
    }
   ],
   "source": [
    "df_copy_2[df_copy_2['censusBlockGroupFips'].isin(non_common_list)].shape[0]"
   ]
  },
  {
   "cell_type": "code",
   "execution_count": 143,
   "id": "a1d40d8c-06f6-463c-9e6e-a7f583ef4199",
   "metadata": {
    "tags": []
   },
   "outputs": [
    {
     "data": {
      "text/plain": [
       "2022    237\n",
       "2017    133\n",
       "2021     76\n",
       "2020     58\n",
       "2016     53\n",
       "2012     45\n",
       "2023     29\n",
       "2018     26\n",
       "2005     23\n",
       "2019     20\n",
       "2011     15\n",
       "2004     10\n",
       "2015      8\n",
       "2008      7\n",
       "2010      6\n",
       "2003      5\n",
       "2014      3\n",
       "2000      3\n",
       "1993      3\n",
       "2006      3\n",
       "1998      2\n",
       "1996      1\n",
       "1992      1\n",
       "1991      1\n",
       "1990      1\n",
       "1997      1\n",
       "1995      1\n",
       "2002      1\n",
       "2009      1\n",
       "2001      1\n",
       "2007      1\n",
       "Name: yearOfLoss, dtype: int64"
      ]
     },
     "execution_count": 143,
     "metadata": {},
     "output_type": "execute_result"
    }
   ],
   "source": [
    "df_copy_2[df_copy_2['censusBlockGroupFips'].isin(non_common_list)]['yearOfLoss'].value_counts()"
   ]
  },
  {
   "cell_type": "code",
   "execution_count": 224,
   "id": "2328bc84-47a5-4c52-9cd8-b39fbcc08407",
   "metadata": {
    "tags": []
   },
   "outputs": [],
   "source": [
    "test_non_common = df_copy_2[df_copy_2['censusBlockGroupFips'].isin(non_common_list)]"
   ]
  },
  {
   "cell_type": "code",
   "execution_count": 231,
   "id": "1bbd0e7c-61b3-4293-96fd-aed49afcb61f",
   "metadata": {
    "tags": []
   },
   "outputs": [
    {
     "data": {
      "text/plain": [
       "'2019-09-19T13:45:58.425Z'"
      ]
     },
     "execution_count": 231,
     "metadata": {},
     "output_type": "execute_result"
    }
   ],
   "source": [
    "min(test_non_common['asOfDate'])"
   ]
  },
  {
   "cell_type": "code",
   "execution_count": 232,
   "id": "3186ca0d-794c-43cd-8b1b-6793e5aee3f4",
   "metadata": {
    "tags": []
   },
   "outputs": [
    {
     "data": {
      "text/html": [
       "<div>\n",
       "<style scoped>\n",
       "    .dataframe tbody tr th:only-of-type {\n",
       "        vertical-align: middle;\n",
       "    }\n",
       "\n",
       "    .dataframe tbody tr th {\n",
       "        vertical-align: top;\n",
       "    }\n",
       "\n",
       "    .dataframe thead th {\n",
       "        text-align: right;\n",
       "    }\n",
       "</style>\n",
       "<table border=\"1\" class=\"dataframe\">\n",
       "  <thead>\n",
       "    <tr style=\"text-align: right;\">\n",
       "      <th></th>\n",
       "      <th>agricultureStructureIndicator</th>\n",
       "      <th>asOfDate</th>\n",
       "      <th>basementEnclosureCrawlspaceType</th>\n",
       "      <th>policyCount</th>\n",
       "      <th>crsClassificationCode</th>\n",
       "      <th>dateOfLoss</th>\n",
       "      <th>elevatedBuildingIndicator</th>\n",
       "      <th>elevationCertificateIndicator</th>\n",
       "      <th>elevationDifference</th>\n",
       "      <th>baseFloodElevation</th>\n",
       "      <th>ratedFloodZone</th>\n",
       "      <th>houseWorship</th>\n",
       "      <th>locationOfContents</th>\n",
       "      <th>lowestAdjacentGrade</th>\n",
       "      <th>lowestFloorElevation</th>\n",
       "      <th>numberOfFloorsInTheInsuredBuilding</th>\n",
       "      <th>nonProfitIndicator</th>\n",
       "      <th>obstructionType</th>\n",
       "      <th>occupancyType</th>\n",
       "      <th>originalConstructionDate</th>\n",
       "      <th>originalNBDate</th>\n",
       "      <th>amountPaidOnBuildingClaim</th>\n",
       "      <th>amountPaidOnContentsClaim</th>\n",
       "      <th>amountPaidOnIncreasedCostOfComplianceClaim</th>\n",
       "      <th>postFIRMConstructionIndicator</th>\n",
       "      <th>rateMethod</th>\n",
       "      <th>smallBusinessIndicatorBuilding</th>\n",
       "      <th>totalBuildingInsuranceCoverage</th>\n",
       "      <th>totalContentsInsuranceCoverage</th>\n",
       "      <th>yearOfLoss</th>\n",
       "      <th>primaryResidenceIndicator</th>\n",
       "      <th>buildingDamageAmount</th>\n",
       "      <th>buildingDeductibleCode</th>\n",
       "      <th>netBuildingPaymentAmount</th>\n",
       "      <th>buildingPropertyValue</th>\n",
       "      <th>causeOfDamage</th>\n",
       "      <th>condominiumCoverageTypeCode</th>\n",
       "      <th>contentsDamageAmount</th>\n",
       "      <th>contentsDeductibleCode</th>\n",
       "      <th>netContentsPaymentAmount</th>\n",
       "      <th>contentsPropertyValue</th>\n",
       "      <th>disasterAssistanceCoverageRequired</th>\n",
       "      <th>eventDesignationNumber</th>\n",
       "      <th>ficoNumber</th>\n",
       "      <th>floodCharacteristicsIndicator</th>\n",
       "      <th>floodWaterDuration</th>\n",
       "      <th>floodproofedIndicator</th>\n",
       "      <th>floodEvent</th>\n",
       "      <th>iccCoverage</th>\n",
       "      <th>netIccPaymentAmount</th>\n",
       "      <th>nfipRatedCommunityNumber</th>\n",
       "      <th>nfipCommunityNumberCurrent</th>\n",
       "      <th>nfipCommunityName</th>\n",
       "      <th>nonPaymentReasonContents</th>\n",
       "      <th>nonPaymentReasonBuilding</th>\n",
       "      <th>numberOfUnits</th>\n",
       "      <th>buildingReplacementCost</th>\n",
       "      <th>contentsReplacementCost</th>\n",
       "      <th>replacementCostBasis</th>\n",
       "      <th>stateOwnedIndicator</th>\n",
       "      <th>waterDepth</th>\n",
       "      <th>floodZoneCurrent</th>\n",
       "      <th>buildingDescriptionCode</th>\n",
       "      <th>rentalPropertyIndicator</th>\n",
       "      <th>state</th>\n",
       "      <th>reportedCity</th>\n",
       "      <th>reportedZipCode</th>\n",
       "      <th>countyCode</th>\n",
       "      <th>censusTract</th>\n",
       "      <th>censusBlockGroupFips</th>\n",
       "      <th>latitude</th>\n",
       "      <th>longitude</th>\n",
       "      <th>id</th>\n",
       "      <th>yearOfLoss_1990_2021</th>\n",
       "    </tr>\n",
       "  </thead>\n",
       "  <tbody>\n",
       "    <tr>\n",
       "      <th>799</th>\n",
       "      <td>0</td>\n",
       "      <td>2022-11-11T11:43:52.917Z</td>\n",
       "      <td>1.0</td>\n",
       "      <td>1</td>\n",
       "      <td>NaN</td>\n",
       "      <td>2011-06-25T00:00:00.000Z</td>\n",
       "      <td>0</td>\n",
       "      <td>nan</td>\n",
       "      <td>NaN</td>\n",
       "      <td>NaN</td>\n",
       "      <td>X</td>\n",
       "      <td>0</td>\n",
       "      <td>2.0</td>\n",
       "      <td>NaN</td>\n",
       "      <td>NaN</td>\n",
       "      <td>2.0</td>\n",
       "      <td>0</td>\n",
       "      <td>NaN</td>\n",
       "      <td>1.0</td>\n",
       "      <td>2007-01-01T00:00:00.000Z</td>\n",
       "      <td>2011-03-25T00:00:00.000Z</td>\n",
       "      <td>13863.35</td>\n",
       "      <td>0.00</td>\n",
       "      <td>0.0</td>\n",
       "      <td>1</td>\n",
       "      <td>7</td>\n",
       "      <td>0</td>\n",
       "      <td>250000.0</td>\n",
       "      <td>100000.0</td>\n",
       "      <td>2011</td>\n",
       "      <td>1</td>\n",
       "      <td>13269.0</td>\n",
       "      <td>1</td>\n",
       "      <td>13863.35</td>\n",
       "      <td>234086.0</td>\n",
       "      <td>2</td>\n",
       "      <td>N</td>\n",
       "      <td>384.0</td>\n",
       "      <td>1</td>\n",
       "      <td>0.00</td>\n",
       "      <td>0.0</td>\n",
       "      <td>0.0</td>\n",
       "      <td>None</td>\n",
       "      <td>269.0</td>\n",
       "      <td>NaN</td>\n",
       "      <td>0.0</td>\n",
       "      <td>0</td>\n",
       "      <td>Late spring storms</td>\n",
       "      <td>30000.0</td>\n",
       "      <td>0.0</td>\n",
       "      <td>460242.0</td>\n",
       "      <td>460242</td>\n",
       "      <td>UNION COUNTY*</td>\n",
       "      <td>1.0</td>\n",
       "      <td>NaN</td>\n",
       "      <td>1.0</td>\n",
       "      <td>262116.0</td>\n",
       "      <td>0.0</td>\n",
       "      <td>R</td>\n",
       "      <td>0</td>\n",
       "      <td>2.0</td>\n",
       "      <td>X</td>\n",
       "      <td>1.0</td>\n",
       "      <td>0</td>\n",
       "      <td>SD</td>\n",
       "      <td>Currently Unavailable</td>\n",
       "      <td>57049.0</td>\n",
       "      <td>46127.0</td>\n",
       "      <td>4.612702e+10</td>\n",
       "      <td>461270203012</td>\n",
       "      <td>42.5</td>\n",
       "      <td>-96.5</td>\n",
       "      <td>80f94523-7dc7-4b70-b9c8-fdea8d794b24</td>\n",
       "      <td>2010</td>\n",
       "    </tr>\n",
       "    <tr>\n",
       "      <th>876</th>\n",
       "      <td>0</td>\n",
       "      <td>2022-12-30T15:07:53.713Z</td>\n",
       "      <td>NaN</td>\n",
       "      <td>1</td>\n",
       "      <td>NaN</td>\n",
       "      <td>2005-08-29T00:00:00.000Z</td>\n",
       "      <td>0</td>\n",
       "      <td>nan</td>\n",
       "      <td>NaN</td>\n",
       "      <td>NaN</td>\n",
       "      <td>AE</td>\n",
       "      <td>0</td>\n",
       "      <td>3.0</td>\n",
       "      <td>NaN</td>\n",
       "      <td>NaN</td>\n",
       "      <td>1.0</td>\n",
       "      <td>0</td>\n",
       "      <td>NaN</td>\n",
       "      <td>2.0</td>\n",
       "      <td>1970-01-01T00:00:00.000Z</td>\n",
       "      <td>1990-06-08T00:00:00.000Z</td>\n",
       "      <td>NaN</td>\n",
       "      <td>NaN</td>\n",
       "      <td>NaN</td>\n",
       "      <td>0</td>\n",
       "      <td>1</td>\n",
       "      <td>0</td>\n",
       "      <td>71700.0</td>\n",
       "      <td>0.0</td>\n",
       "      <td>2005</td>\n",
       "      <td>0</td>\n",
       "      <td>NaN</td>\n",
       "      <td>1</td>\n",
       "      <td>0.00</td>\n",
       "      <td>NaN</td>\n",
       "      <td>1</td>\n",
       "      <td>N</td>\n",
       "      <td>NaN</td>\n",
       "      <td>0</td>\n",
       "      <td>0.00</td>\n",
       "      <td>NaN</td>\n",
       "      <td>0.0</td>\n",
       "      <td>None</td>\n",
       "      <td>654.0</td>\n",
       "      <td>NaN</td>\n",
       "      <td>0.0</td>\n",
       "      <td>0</td>\n",
       "      <td>Hurricane Katrina</td>\n",
       "      <td>30000.0</td>\n",
       "      <td>0.0</td>\n",
       "      <td>220139.0</td>\n",
       "      <td>220139</td>\n",
       "      <td>PLAQUEMINES PARISH*</td>\n",
       "      <td>NaN</td>\n",
       "      <td>98.0</td>\n",
       "      <td>1.0</td>\n",
       "      <td>NaN</td>\n",
       "      <td>NaN</td>\n",
       "      <td>A</td>\n",
       "      <td>0</td>\n",
       "      <td>0.0</td>\n",
       "      <td>AE</td>\n",
       "      <td>1.0</td>\n",
       "      <td>0</td>\n",
       "      <td>LA</td>\n",
       "      <td>Currently Unavailable</td>\n",
       "      <td>70037.0</td>\n",
       "      <td>22075.0</td>\n",
       "      <td>2.207505e+10</td>\n",
       "      <td>220750502021</td>\n",
       "      <td>29.9</td>\n",
       "      <td>-90.0</td>\n",
       "      <td>8ef9e023-8d72-4cd8-898f-5389f2990456</td>\n",
       "      <td>2000</td>\n",
       "    </tr>\n",
       "    <tr>\n",
       "      <th>5795</th>\n",
       "      <td>0</td>\n",
       "      <td>2022-11-18T18:55:09.397Z</td>\n",
       "      <td>NaN</td>\n",
       "      <td>1</td>\n",
       "      <td>5.0</td>\n",
       "      <td>2017-08-29T00:00:00.000Z</td>\n",
       "      <td>0</td>\n",
       "      <td>nan</td>\n",
       "      <td>NaN</td>\n",
       "      <td>NaN</td>\n",
       "      <td>X</td>\n",
       "      <td>0</td>\n",
       "      <td>NaN</td>\n",
       "      <td>NaN</td>\n",
       "      <td>NaN</td>\n",
       "      <td>1.0</td>\n",
       "      <td>0</td>\n",
       "      <td>NaN</td>\n",
       "      <td>1.0</td>\n",
       "      <td>2006-07-01T00:00:00.000Z</td>\n",
       "      <td>2013-03-27T00:00:00.000Z</td>\n",
       "      <td>200000.00</td>\n",
       "      <td>56023.16</td>\n",
       "      <td>0.0</td>\n",
       "      <td>1</td>\n",
       "      <td>7</td>\n",
       "      <td>0</td>\n",
       "      <td>200000.0</td>\n",
       "      <td>80000.0</td>\n",
       "      <td>2017</td>\n",
       "      <td>1</td>\n",
       "      <td>231381.0</td>\n",
       "      <td>F</td>\n",
       "      <td>200000.00</td>\n",
       "      <td>667662.0</td>\n",
       "      <td>2</td>\n",
       "      <td>N</td>\n",
       "      <td>57273.0</td>\n",
       "      <td>F</td>\n",
       "      <td>56023.16</td>\n",
       "      <td>80000.0</td>\n",
       "      <td>0.0</td>\n",
       "      <td>None</td>\n",
       "      <td>682.0</td>\n",
       "      <td>NaN</td>\n",
       "      <td>0.0</td>\n",
       "      <td>0</td>\n",
       "      <td>Hurricane Harvey</td>\n",
       "      <td>30000.0</td>\n",
       "      <td>0.0</td>\n",
       "      <td>480296.0</td>\n",
       "      <td>480296</td>\n",
       "      <td>HOUSTON, CITY OF</td>\n",
       "      <td>NaN</td>\n",
       "      <td>NaN</td>\n",
       "      <td>1.0</td>\n",
       "      <td>699655.0</td>\n",
       "      <td>0.0</td>\n",
       "      <td>A</td>\n",
       "      <td>0</td>\n",
       "      <td>1.0</td>\n",
       "      <td>X</td>\n",
       "      <td>1.0</td>\n",
       "      <td>0</td>\n",
       "      <td>TX</td>\n",
       "      <td>Currently Unavailable</td>\n",
       "      <td>77345.0</td>\n",
       "      <td>48201.0</td>\n",
       "      <td>4.820125e+10</td>\n",
       "      <td>482012509024</td>\n",
       "      <td>30.0</td>\n",
       "      <td>-95.1</td>\n",
       "      <td>bec9d646-f589-409f-beae-d9551839377f</td>\n",
       "      <td>2010</td>\n",
       "    </tr>\n",
       "    <tr>\n",
       "      <th>7008</th>\n",
       "      <td>0</td>\n",
       "      <td>2022-12-01T15:18:56.655Z</td>\n",
       "      <td>NaN</td>\n",
       "      <td>1</td>\n",
       "      <td>NaN</td>\n",
       "      <td>2008-09-13T00:00:00.000Z</td>\n",
       "      <td>1</td>\n",
       "      <td>nan</td>\n",
       "      <td>-9.0</td>\n",
       "      <td>16.0</td>\n",
       "      <td>V20</td>\n",
       "      <td>0</td>\n",
       "      <td>7.0</td>\n",
       "      <td>7.0</td>\n",
       "      <td>7.0</td>\n",
       "      <td>3.0</td>\n",
       "      <td>0</td>\n",
       "      <td>24.0</td>\n",
       "      <td>1.0</td>\n",
       "      <td>1986-01-01T00:00:00.000Z</td>\n",
       "      <td>1988-03-01T00:00:00.000Z</td>\n",
       "      <td>19287.59</td>\n",
       "      <td>0.00</td>\n",
       "      <td>0.0</td>\n",
       "      <td>1</td>\n",
       "      <td>2</td>\n",
       "      <td>0</td>\n",
       "      <td>250000.0</td>\n",
       "      <td>97800.0</td>\n",
       "      <td>2008</td>\n",
       "      <td>0</td>\n",
       "      <td>9944.0</td>\n",
       "      <td>0</td>\n",
       "      <td>9444.43</td>\n",
       "      <td>354000.0</td>\n",
       "      <td>1</td>\n",
       "      <td>N</td>\n",
       "      <td>NaN</td>\n",
       "      <td>0</td>\n",
       "      <td>0.00</td>\n",
       "      <td>NaN</td>\n",
       "      <td>0.0</td>\n",
       "      <td>None</td>\n",
       "      <td>668.0</td>\n",
       "      <td>NaN</td>\n",
       "      <td>0.0</td>\n",
       "      <td>0</td>\n",
       "      <td>Hurricane Ike</td>\n",
       "      <td>30000.0</td>\n",
       "      <td>0.0</td>\n",
       "      <td>485469.0</td>\n",
       "      <td>485469</td>\n",
       "      <td>GALVESTON, CITY OF</td>\n",
       "      <td>97.0</td>\n",
       "      <td>NaN</td>\n",
       "      <td>0.0</td>\n",
       "      <td>426000.0</td>\n",
       "      <td>NaN</td>\n",
       "      <td>A</td>\n",
       "      <td>0</td>\n",
       "      <td>7.0</td>\n",
       "      <td>VE</td>\n",
       "      <td>1.0</td>\n",
       "      <td>0</td>\n",
       "      <td>TX</td>\n",
       "      <td>Currently Unavailable</td>\n",
       "      <td>77554.0</td>\n",
       "      <td>48167.0</td>\n",
       "      <td>4.816773e+10</td>\n",
       "      <td>481677261021</td>\n",
       "      <td>29.2</td>\n",
       "      <td>-95.0</td>\n",
       "      <td>caa3b0bc-d4fb-42f1-8c4f-fc0eeae69f56</td>\n",
       "      <td>2000</td>\n",
       "    </tr>\n",
       "    <tr>\n",
       "      <th>7747</th>\n",
       "      <td>0</td>\n",
       "      <td>2022-11-15T13:35:49.296Z</td>\n",
       "      <td>4.0</td>\n",
       "      <td>1</td>\n",
       "      <td>6.0</td>\n",
       "      <td>2012-10-31T00:00:00.000Z</td>\n",
       "      <td>0</td>\n",
       "      <td>nan</td>\n",
       "      <td>-3.0</td>\n",
       "      <td>6.7</td>\n",
       "      <td>AE</td>\n",
       "      <td>0</td>\n",
       "      <td>NaN</td>\n",
       "      <td>4.8</td>\n",
       "      <td>3.5</td>\n",
       "      <td>3.0</td>\n",
       "      <td>0</td>\n",
       "      <td>80.0</td>\n",
       "      <td>1.0</td>\n",
       "      <td>1989-01-01T00:00:00.000Z</td>\n",
       "      <td>1998-03-27T00:00:00.000Z</td>\n",
       "      <td>10676.90</td>\n",
       "      <td>0.00</td>\n",
       "      <td>0.0</td>\n",
       "      <td>1</td>\n",
       "      <td>2</td>\n",
       "      <td>0</td>\n",
       "      <td>250000.0</td>\n",
       "      <td>26300.0</td>\n",
       "      <td>2012</td>\n",
       "      <td>1</td>\n",
       "      <td>10459.0</td>\n",
       "      <td>1</td>\n",
       "      <td>10676.90</td>\n",
       "      <td>254849.0</td>\n",
       "      <td>1</td>\n",
       "      <td>N</td>\n",
       "      <td>749.0</td>\n",
       "      <td>1</td>\n",
       "      <td>0.00</td>\n",
       "      <td>0.0</td>\n",
       "      <td>0.0</td>\n",
       "      <td>None</td>\n",
       "      <td>305.0</td>\n",
       "      <td>NaN</td>\n",
       "      <td>0.0</td>\n",
       "      <td>0</td>\n",
       "      <td>Hurricane Sandy</td>\n",
       "      <td>30000.0</td>\n",
       "      <td>0.0</td>\n",
       "      <td>340393.0</td>\n",
       "      <td>340393</td>\n",
       "      <td>STAFFORD, TOWNSHIP OF</td>\n",
       "      <td>1.0</td>\n",
       "      <td>NaN</td>\n",
       "      <td>1.0</td>\n",
       "      <td>292086.0</td>\n",
       "      <td>0.0</td>\n",
       "      <td>R</td>\n",
       "      <td>0</td>\n",
       "      <td>0.0</td>\n",
       "      <td>VE</td>\n",
       "      <td>1.0</td>\n",
       "      <td>0</td>\n",
       "      <td>NJ</td>\n",
       "      <td>Currently Unavailable</td>\n",
       "      <td>8050.0</td>\n",
       "      <td>34029.0</td>\n",
       "      <td>3.402974e+10</td>\n",
       "      <td>340297351052</td>\n",
       "      <td>39.7</td>\n",
       "      <td>-74.2</td>\n",
       "      <td>b2358930-1f97-4fbf-aed2-be82333c8c51</td>\n",
       "      <td>2010</td>\n",
       "    </tr>\n",
       "  </tbody>\n",
       "</table>\n",
       "</div>"
      ],
      "text/plain": [
       "      agricultureStructureIndicator                  asOfDate  \\\n",
       "799                               0  2022-11-11T11:43:52.917Z   \n",
       "876                               0  2022-12-30T15:07:53.713Z   \n",
       "5795                              0  2022-11-18T18:55:09.397Z   \n",
       "7008                              0  2022-12-01T15:18:56.655Z   \n",
       "7747                              0  2022-11-15T13:35:49.296Z   \n",
       "\n",
       "      basementEnclosureCrawlspaceType  policyCount  crsClassificationCode  \\\n",
       "799                               1.0            1                    NaN   \n",
       "876                               NaN            1                    NaN   \n",
       "5795                              NaN            1                    5.0   \n",
       "7008                              NaN            1                    NaN   \n",
       "7747                              4.0            1                    6.0   \n",
       "\n",
       "                    dateOfLoss  elevatedBuildingIndicator  \\\n",
       "799   2011-06-25T00:00:00.000Z                          0   \n",
       "876   2005-08-29T00:00:00.000Z                          0   \n",
       "5795  2017-08-29T00:00:00.000Z                          0   \n",
       "7008  2008-09-13T00:00:00.000Z                          1   \n",
       "7747  2012-10-31T00:00:00.000Z                          0   \n",
       "\n",
       "     elevationCertificateIndicator  elevationDifference  baseFloodElevation  \\\n",
       "799                            nan                  NaN                 NaN   \n",
       "876                            nan                  NaN                 NaN   \n",
       "5795                           nan                  NaN                 NaN   \n",
       "7008                           nan                 -9.0                16.0   \n",
       "7747                           nan                 -3.0                 6.7   \n",
       "\n",
       "     ratedFloodZone  houseWorship  locationOfContents  lowestAdjacentGrade  \\\n",
       "799               X             0                 2.0                  NaN   \n",
       "876              AE             0                 3.0                  NaN   \n",
       "5795              X             0                 NaN                  NaN   \n",
       "7008            V20             0                 7.0                  7.0   \n",
       "7747             AE             0                 NaN                  4.8   \n",
       "\n",
       "      lowestFloorElevation  numberOfFloorsInTheInsuredBuilding  \\\n",
       "799                    NaN                                 2.0   \n",
       "876                    NaN                                 1.0   \n",
       "5795                   NaN                                 1.0   \n",
       "7008                   7.0                                 3.0   \n",
       "7747                   3.5                                 3.0   \n",
       "\n",
       "      nonProfitIndicator  obstructionType  occupancyType  \\\n",
       "799                    0              NaN            1.0   \n",
       "876                    0              NaN            2.0   \n",
       "5795                   0              NaN            1.0   \n",
       "7008                   0             24.0            1.0   \n",
       "7747                   0             80.0            1.0   \n",
       "\n",
       "      originalConstructionDate            originalNBDate  \\\n",
       "799   2007-01-01T00:00:00.000Z  2011-03-25T00:00:00.000Z   \n",
       "876   1970-01-01T00:00:00.000Z  1990-06-08T00:00:00.000Z   \n",
       "5795  2006-07-01T00:00:00.000Z  2013-03-27T00:00:00.000Z   \n",
       "7008  1986-01-01T00:00:00.000Z  1988-03-01T00:00:00.000Z   \n",
       "7747  1989-01-01T00:00:00.000Z  1998-03-27T00:00:00.000Z   \n",
       "\n",
       "      amountPaidOnBuildingClaim  amountPaidOnContentsClaim  \\\n",
       "799                    13863.35                       0.00   \n",
       "876                         NaN                        NaN   \n",
       "5795                  200000.00                   56023.16   \n",
       "7008                   19287.59                       0.00   \n",
       "7747                   10676.90                       0.00   \n",
       "\n",
       "      amountPaidOnIncreasedCostOfComplianceClaim  \\\n",
       "799                                          0.0   \n",
       "876                                          NaN   \n",
       "5795                                         0.0   \n",
       "7008                                         0.0   \n",
       "7747                                         0.0   \n",
       "\n",
       "      postFIRMConstructionIndicator rateMethod  \\\n",
       "799                               1          7   \n",
       "876                               0          1   \n",
       "5795                              1          7   \n",
       "7008                              1          2   \n",
       "7747                              1          2   \n",
       "\n",
       "      smallBusinessIndicatorBuilding  totalBuildingInsuranceCoverage  \\\n",
       "799                                0                        250000.0   \n",
       "876                                0                         71700.0   \n",
       "5795                               0                        200000.0   \n",
       "7008                               0                        250000.0   \n",
       "7747                               0                        250000.0   \n",
       "\n",
       "      totalContentsInsuranceCoverage  yearOfLoss  primaryResidenceIndicator  \\\n",
       "799                         100000.0        2011                          1   \n",
       "876                              0.0        2005                          0   \n",
       "5795                         80000.0        2017                          1   \n",
       "7008                         97800.0        2008                          0   \n",
       "7747                         26300.0        2012                          1   \n",
       "\n",
       "      buildingDamageAmount buildingDeductibleCode  netBuildingPaymentAmount  \\\n",
       "799                13269.0                      1                  13863.35   \n",
       "876                    NaN                      1                      0.00   \n",
       "5795              231381.0                      F                 200000.00   \n",
       "7008                9944.0                      0                   9444.43   \n",
       "7747               10459.0                      1                  10676.90   \n",
       "\n",
       "      buildingPropertyValue causeOfDamage condominiumCoverageTypeCode  \\\n",
       "799                234086.0             2                           N   \n",
       "876                     NaN             1                           N   \n",
       "5795               667662.0             2                           N   \n",
       "7008               354000.0             1                           N   \n",
       "7747               254849.0             1                           N   \n",
       "\n",
       "      contentsDamageAmount contentsDeductibleCode  netContentsPaymentAmount  \\\n",
       "799                  384.0                      1                      0.00   \n",
       "876                    NaN                      0                      0.00   \n",
       "5795               57273.0                      F                  56023.16   \n",
       "7008                   NaN                      0                      0.00   \n",
       "7747                 749.0                      1                      0.00   \n",
       "\n",
       "      contentsPropertyValue  disasterAssistanceCoverageRequired  \\\n",
       "799                     0.0                                 0.0   \n",
       "876                     NaN                                 0.0   \n",
       "5795                80000.0                                 0.0   \n",
       "7008                    NaN                                 0.0   \n",
       "7747                    0.0                                 0.0   \n",
       "\n",
       "     eventDesignationNumber  ficoNumber  floodCharacteristicsIndicator  \\\n",
       "799                    None       269.0                            NaN   \n",
       "876                    None       654.0                            NaN   \n",
       "5795                   None       682.0                            NaN   \n",
       "7008                   None       668.0                            NaN   \n",
       "7747                   None       305.0                            NaN   \n",
       "\n",
       "      floodWaterDuration  floodproofedIndicator          floodEvent  \\\n",
       "799                  0.0                      0  Late spring storms   \n",
       "876                  0.0                      0   Hurricane Katrina   \n",
       "5795                 0.0                      0    Hurricane Harvey   \n",
       "7008                 0.0                      0       Hurricane Ike   \n",
       "7747                 0.0                      0     Hurricane Sandy   \n",
       "\n",
       "      iccCoverage  netIccPaymentAmount  nfipRatedCommunityNumber  \\\n",
       "799       30000.0                  0.0                  460242.0   \n",
       "876       30000.0                  0.0                  220139.0   \n",
       "5795      30000.0                  0.0                  480296.0   \n",
       "7008      30000.0                  0.0                  485469.0   \n",
       "7747      30000.0                  0.0                  340393.0   \n",
       "\n",
       "     nfipCommunityNumberCurrent      nfipCommunityName  \\\n",
       "799                      460242          UNION COUNTY*   \n",
       "876                      220139    PLAQUEMINES PARISH*   \n",
       "5795                     480296       HOUSTON, CITY OF   \n",
       "7008                     485469     GALVESTON, CITY OF   \n",
       "7747                     340393  STAFFORD, TOWNSHIP OF   \n",
       "\n",
       "      nonPaymentReasonContents  nonPaymentReasonBuilding  numberOfUnits  \\\n",
       "799                        1.0                       NaN            1.0   \n",
       "876                        NaN                      98.0            1.0   \n",
       "5795                       NaN                       NaN            1.0   \n",
       "7008                      97.0                       NaN            0.0   \n",
       "7747                       1.0                       NaN            1.0   \n",
       "\n",
       "      buildingReplacementCost  contentsReplacementCost replacementCostBasis  \\\n",
       "799                  262116.0                      0.0                    R   \n",
       "876                       NaN                      NaN                    A   \n",
       "5795                 699655.0                      0.0                    A   \n",
       "7008                 426000.0                      NaN                    A   \n",
       "7747                 292086.0                      0.0                    R   \n",
       "\n",
       "      stateOwnedIndicator  waterDepth floodZoneCurrent  \\\n",
       "799                     0         2.0                X   \n",
       "876                     0         0.0               AE   \n",
       "5795                    0         1.0                X   \n",
       "7008                    0         7.0               VE   \n",
       "7747                    0         0.0               VE   \n",
       "\n",
       "      buildingDescriptionCode  rentalPropertyIndicator state  \\\n",
       "799                       1.0                        0    SD   \n",
       "876                       1.0                        0    LA   \n",
       "5795                      1.0                        0    TX   \n",
       "7008                      1.0                        0    TX   \n",
       "7747                      1.0                        0    NJ   \n",
       "\n",
       "               reportedCity  reportedZipCode  countyCode   censusTract  \\\n",
       "799   Currently Unavailable          57049.0     46127.0  4.612702e+10   \n",
       "876   Currently Unavailable          70037.0     22075.0  2.207505e+10   \n",
       "5795  Currently Unavailable          77345.0     48201.0  4.820125e+10   \n",
       "7008  Currently Unavailable          77554.0     48167.0  4.816773e+10   \n",
       "7747  Currently Unavailable           8050.0     34029.0  3.402974e+10   \n",
       "\n",
       "     censusBlockGroupFips  latitude  longitude  \\\n",
       "799          461270203012      42.5      -96.5   \n",
       "876          220750502021      29.9      -90.0   \n",
       "5795         482012509024      30.0      -95.1   \n",
       "7008         481677261021      29.2      -95.0   \n",
       "7747         340297351052      39.7      -74.2   \n",
       "\n",
       "                                        id  yearOfLoss_1990_2021  \n",
       "799   80f94523-7dc7-4b70-b9c8-fdea8d794b24                  2010  \n",
       "876   8ef9e023-8d72-4cd8-898f-5389f2990456                  2000  \n",
       "5795  bec9d646-f589-409f-beae-d9551839377f                  2010  \n",
       "7008  caa3b0bc-d4fb-42f1-8c4f-fc0eeae69f56                  2000  \n",
       "7747  b2358930-1f97-4fbf-aed2-be82333c8c51                  2010  "
      ]
     },
     "execution_count": 232,
     "metadata": {},
     "output_type": "execute_result"
    }
   ],
   "source": [
    "test_non_common.head()"
   ]
  },
  {
   "cell_type": "code",
   "execution_count": null,
   "id": "7a1e246c-b8ac-4731-868b-8c33bed18ff1",
   "metadata": {},
   "outputs": [],
   "source": []
  }
 ],
 "metadata": {
  "kernelspec": {
   "display_name": "Python 3 (ipykernel)",
   "language": "python",
   "name": "python3"
  },
  "language_info": {
   "codemirror_mode": {
    "name": "ipython",
    "version": 3
   },
   "file_extension": ".py",
   "mimetype": "text/x-python",
   "name": "python",
   "nbconvert_exporter": "python",
   "pygments_lexer": "ipython3",
   "version": "3.8.17"
  }
 },
 "nbformat": 4,
 "nbformat_minor": 5
}
