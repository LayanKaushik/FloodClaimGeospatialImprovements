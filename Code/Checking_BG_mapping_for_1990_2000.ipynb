{
 "cells": [
  {
   "cell_type": "code",
   "execution_count": null,
   "id": "5114eaa4-3823-46ac-973c-7a21703a76c0",
   "metadata": {
    "tags": []
   },
   "outputs": [],
   "source": [
    "import pandas as pd\n",
    "import numpy as np\n",
    "import matplotlib.pyplot as plt\n",
    "import pyarrow as pa\n",
    "import pyarrow.parquet as pq\n",
    "import geopandas as gpd\n",
    "import seaborn as sns\n",
    "\n",
    "#Packages\n",
    "import pandas as pd\n",
    "import matplotlib.pyplot as plt\n",
    "import matplotlib.ticker as mtick\n",
    "import numpy as np\n",
    "from scipy import stats\n",
    "pd.set_option('display.max_columns', None)\n",
    "\n",
    "from scipy.stats import skew, kurtosis\n",
    "\n",
    "import pygris\n",
    "import shapely"
   ]
  },
  {
   "cell_type": "code",
   "execution_count": null,
   "id": "4fdef958-47be-4955-91fa-97d1a102f5c2",
   "metadata": {
    "tags": []
   },
   "outputs": [],
   "source": [
    "df = pd.read_parquet(\"C:/Users/Asus/Box/Flood Damage PredictionProject/Dataset/FimaNfipClaims.parquet.gzip\")"
   ]
  },
  {
   "cell_type": "code",
   "execution_count": null,
   "id": "4f6e5572-4a6a-445b-a2b4-d056a0487a97",
   "metadata": {
    "tags": []
   },
   "outputs": [],
   "source": [
    "df_geographic_unique = df[['state', 'reportedZipCode', 'countyCode', 'censusTract', 'censusBlockGroupFips', 'latitude', 'longitude', 'yearOfLoss']].drop_duplicates()"
   ]
  },
  {
   "cell_type": "code",
   "execution_count": null,
   "id": "dd320442-e8a0-432b-a88c-db96e5de2d45",
   "metadata": {
    "tags": []
   },
   "outputs": [],
   "source": [
    "df_geographic_unique = df_geographic_unique.dropna(subset=['latitude', 'censusBlockGroupFips'])"
   ]
  },
  {
   "cell_type": "code",
   "execution_count": null,
   "id": "3208a8e2-7d7c-46cb-8893-622bdbb2c0ec",
   "metadata": {
    "tags": []
   },
   "outputs": [],
   "source": [
    "df_geographic_unique['censusBlockGroupFips'] = [str(int(float(i))) for i in df_geographic_unique['censusBlockGroupFips']]\n",
    "df_geographic_unique['censusBlockGroupFips'] = [censusBG.zfill(12) for censusBG in df_geographic_unique['censusBlockGroupFips']]"
   ]
  },
  {
   "cell_type": "code",
   "execution_count": null,
   "id": "8b058949-52b6-4492-af86-2be8815590c3",
   "metadata": {
    "tags": []
   },
   "outputs": [],
   "source": [
    "# Define bins and labels for yearOfLoss_1980_2020\n",
    "bins_1980_2020 = [df_geographic_unique['yearOfLoss'].min(), 1990, 2000, 2010, 2020, df_geographic_unique['yearOfLoss'].max() + 1]\n",
    "labels_1980_2020 = [1980, 1990, 2000, 2010, 2020]\n",
    "\n",
    "df_geographic_unique['yearOfLoss_1980_2020'] = pd.cut(df_geographic_unique['yearOfLoss'], bins=bins_1980_2020, labels=labels_1980_2020, right=False).astype(int)"
   ]
  },
  {
   "cell_type": "code",
   "execution_count": null,
   "id": "e6b4484d-9af3-4576-b03e-68869c756d07",
   "metadata": {
    "tags": []
   },
   "outputs": [],
   "source": [
    "# states = pygris.states()\n",
    "# states_list = sorted(states['STUSPS'].unique())"
   ]
  },
  {
   "cell_type": "code",
   "execution_count": null,
   "id": "5128f5a2-0ff3-49bb-8c80-1aac9caaf691",
   "metadata": {
    "tags": []
   },
   "outputs": [],
   "source": [
    "# BG_list_2000 = []\n",
    "\n",
    "# for i in states_list:\n",
    "#     BG_list_2000.append(pygris.block_groups(state = i, year = 2000))"
   ]
  },
  {
   "cell_type": "code",
   "execution_count": null,
   "id": "f23c178d-f133-407e-9cf6-84978e6b5da0",
   "metadata": {
    "tags": []
   },
   "outputs": [],
   "source": [
    "BG_list_df2000 = pygris.block_groups(state = 'NC', year = 2000)"
   ]
  },
  {
   "cell_type": "code",
   "execution_count": null,
   "id": "7b00fd82-df48-4100-b2ea-534f80892f99",
   "metadata": {
    "tags": []
   },
   "outputs": [],
   "source": [
    "# BG_list_1990 = []\n",
    "\n",
    "# for i in states_list:\n",
    "#     BG_list_1990.append(pygris.block_groups(state = i, year = 1990, cb = True))"
   ]
  },
  {
   "cell_type": "code",
   "execution_count": null,
   "id": "60b1447c-8749-43ca-805f-9f2431188ea1",
   "metadata": {
    "tags": []
   },
   "outputs": [],
   "source": [
    "BG_list_df1990 = pygris.block_groups(state = 'NC', year = 1990, cb = True)"
   ]
  },
  {
   "cell_type": "code",
   "execution_count": null,
   "id": "cd6b8993-5a9d-45db-985a-a92b0b2d2447",
   "metadata": {
    "tags": []
   },
   "outputs": [],
   "source": [
    "# BG_list_df2000 = pd.concat(BG_list_2000, ignore_index=True)\n",
    "# BG_list_df1990 = pd.concat(BG_list_1990, ignore_index=True)"
   ]
  },
  {
   "cell_type": "code",
   "execution_count": null,
   "id": "a5364222-98a2-4557-9e30-702738537051",
   "metadata": {
    "tags": []
   },
   "outputs": [],
   "source": [
    "BG_list_df2000 = BG_list_df2000[['BKGPIDFP00', 'geometry']]\n",
    "BG_list_df2000['year'] = 2000\n",
    "\n",
    "BG_list_df2000 = BG_list_df2000.rename(columns={\"BKGPIDFP00\": \"GEOID\"})\n",
    "\n",
    "BG_list_df1990 = BG_list_df1990[['GEOID', 'geometry']]\n",
    "BG_list_df1990['year'] = 1990"
   ]
  },
  {
   "cell_type": "markdown",
   "id": "8b8f06bd-1b81-4cdc-b589-560c7f842980",
   "metadata": {},
   "source": [
    "#### Checking for 2000..."
   ]
  },
  {
   "cell_type": "code",
   "execution_count": null,
   "id": "2332124a-5b75-4fa8-b58e-17fa28394af9",
   "metadata": {
    "tags": []
   },
   "outputs": [],
   "source": [
    "# df_geographic_unique2000 = df_geographic_unique[df_geographic_unique['yearOfLoss_1980_2020']==2000]"
   ]
  },
  {
   "cell_type": "code",
   "execution_count": null,
   "id": "aeab2c8b-e3e8-4c2a-8150-53e1620dad46",
   "metadata": {
    "tags": []
   },
   "outputs": [],
   "source": [
    "df_geographic_unique2000 = df_geographic_unique[(df_geographic_unique['yearOfLoss_1980_2020']==2000) & (df_geographic_unique['state']=='NC')]"
   ]
  },
  {
   "cell_type": "code",
   "execution_count": null,
   "id": "029a47ab-442b-42dd-b41b-501410e66bdc",
   "metadata": {
    "tags": []
   },
   "outputs": [],
   "source": [
    "# Read the parquet file\n",
    "df_read = pd.read_parquet(\"C:/Users/Asus/Box/Flood Damage PredictionProject/Dataset/lat_long_geometry.parquet.gzip\")\n",
    "\n",
    "# Convert the WKT strings back to geometries\n",
    "lat_long_df = gpd.GeoDataFrame(df_read, geometry=df_read['geometry'].apply(lambda x: shapely.wkt.loads(x)))"
   ]
  },
  {
   "cell_type": "code",
   "execution_count": null,
   "id": "23c411e4-c2f4-4bc0-aa93-a548606380da",
   "metadata": {
    "tags": []
   },
   "outputs": [],
   "source": [
    "lat_long_df.rename(columns={'geometry': 'geometry_lat_long'}, inplace=True)"
   ]
  },
  {
   "cell_type": "code",
   "execution_count": null,
   "id": "c494707a-9f11-4f81-980e-1ed0949542de",
   "metadata": {
    "tags": []
   },
   "outputs": [],
   "source": [
    "# Setting the multi-index on lat_long_df\n",
    "lat_long_df.set_index(['latitude', 'longitude'], inplace=True)\n",
    "\n",
    "# Mapping the values\n",
    "df_geographic_unique2000['geometry_lat_long'] = df_geographic_unique2000.set_index(['latitude', 'longitude']).index.map(lat_long_df['geometry_lat_long'])\n",
    "\n",
    "# Resetting the index of lat_long_df (optional, but good practice)\n",
    "lat_long_df.reset_index(inplace=True)"
   ]
  },
  {
   "cell_type": "code",
   "execution_count": null,
   "id": "c1695793-0d3f-4d92-9d97-e34edc2b6fbe",
   "metadata": {
    "tags": []
   },
   "outputs": [],
   "source": [
    "import geopandas as gpd\n",
    "from shapely.geometry import Polygon\n",
    "from itertools import product\n",
    "import warnings\n",
    "warnings.filterwarnings(\"ignore\")"
   ]
  },
  {
   "cell_type": "code",
   "execution_count": null,
   "id": "bf475777-82cc-4337-9bd7-5980f58b10ef",
   "metadata": {
    "tags": []
   },
   "outputs": [],
   "source": [
    "# Create an empty GeoDataFrame to store the intersection results\n",
    "new_unit_df2000 = gpd.GeoDataFrame(columns=['reportedZipCode', 'countyCode', 'censusTract',\n",
    "                                       'censusBlockGroupFips', 'MATCHED_censusBlockGroupFips', 'latitude', 'longitude', 'year', 'state', 'geometry_BG',\n",
    "                                        'geometry_lat_long', 'new_geometry'])\n",
    "\n",
    "# Iterate through each row in BG_df_2000 and each row in lat_long_df to find intersections\n",
    "for idx_unit_data, row_unit_data in df_geographic_unique2000.iterrows():\n",
    "    for idx_unit_shape, row_unit_shape in BG_list_df2000.iterrows():\n",
    "        year = row_unit_data['yearOfLoss']\n",
    "        year2 = row_unit_data['yearOfLoss_1980_2020']\n",
    "        bg_id = row_unit_data['censusBlockGroupFips']\n",
    "        bg_id2 = row_unit_shape['GEOID']\n",
    "        bg_geometry = row_unit_shape['geometry']\n",
    "        tract_id = row_unit_data['censusTract']\n",
    "        county_id = row_unit_data['countyCode']\n",
    "        state = row_unit_data['state']\n",
    "        lat_long_geometry = row_unit_data['geometry_lat_long']\n",
    "        lat = row_unit_data['latitude']\n",
    "        long = row_unit_data['longitude']\n",
    "        zipcode = row_unit_data['reportedZipCode']\n",
    "    \n",
    "        # Compute intersection geometry\n",
    "        intersection_geometry = bg_geometry.intersection(lat_long_geometry)\n",
    "    \n",
    "        new_unit_df2000 = pd.concat([new_unit_df2000, pd.DataFrame({\n",
    "            'reportedZipCode': [zipcode],\n",
    "            'countyCode': [county_id],\n",
    "            'censusTract': [tract_id],\n",
    "            'censusBlockGroupFips': [bg_id],\n",
    "            'MATCHED_censusBlockGroupFips': [bg_id2],\n",
    "            'latitude': [lat],\n",
    "            'longitude': [long],\n",
    "            'year': [year],\n",
    "            'decade': [year2],\n",
    "            'state': [state],\n",
    "            'geometry_BG': [bg_geometry],\n",
    "            'geometry_lat_long': [lat_long_geometry],\n",
    "            'new_geometry': [intersection_geometry]\n",
    "        })], ignore_index=True)"
   ]
  },
  {
   "cell_type": "code",
   "execution_count": null,
   "id": "efd59ac5-5275-4f50-b98d-e1eceaf6b937",
   "metadata": {
    "tags": []
   },
   "outputs": [],
   "source": [
    "new_unit_df2000"
   ]
  },
  {
   "cell_type": "code",
   "execution_count": null,
   "id": "387e057f-bc09-4cb3-9f9d-1b3940a375c3",
   "metadata": {},
   "outputs": [],
   "source": []
  },
  {
   "cell_type": "code",
   "execution_count": null,
   "id": "45ae3442-bb78-462f-9d70-8b458c6d1c50",
   "metadata": {},
   "outputs": [],
   "source": []
  },
  {
   "cell_type": "code",
   "execution_count": null,
   "id": "20f4567a-dfa7-4d64-a94f-a93be37aa592",
   "metadata": {},
   "outputs": [],
   "source": []
  },
  {
   "cell_type": "code",
   "execution_count": null,
   "id": "c02b0c9a-f55d-4efd-97fd-38a830524c7c",
   "metadata": {},
   "outputs": [],
   "source": []
  },
  {
   "cell_type": "code",
   "execution_count": null,
   "id": "91150c45-7173-45bd-8536-54e3d66c32e4",
   "metadata": {},
   "outputs": [],
   "source": []
  },
  {
   "cell_type": "markdown",
   "id": "95a8ec61-3bc8-490a-a28d-55824951dedd",
   "metadata": {},
   "source": [
    "#### Checking for 1990"
   ]
  },
  {
   "cell_type": "code",
   "execution_count": null,
   "id": "6ce71823-0cc9-4e05-894b-d8d6d6de7ffb",
   "metadata": {},
   "outputs": [],
   "source": [
    "# df_geographic_unique1990 = df_geographic_unique[df_geographic_unique['yearOfLoss_1980_2020']==1990]"
   ]
  },
  {
   "cell_type": "code",
   "execution_count": null,
   "id": "7845d84d-1c48-4bbf-8e03-e3619632c625",
   "metadata": {},
   "outputs": [],
   "source": [
    "df_geographic_unique1990= df_geographic_unique[(df_geographic_unique['yearOfLoss_1980_2020']==1990) & (df_geographic_unique['state']=='NC')]"
   ]
  },
  {
   "cell_type": "code",
   "execution_count": null,
   "id": "4a10afff-3998-4435-bdba-0171d4758e0d",
   "metadata": {},
   "outputs": [],
   "source": [
    "# Setting the multi-index on lat_long_df\n",
    "lat_long_df.set_index(['latitude', 'longitude'], inplace=True)\n",
    "\n",
    "# Mapping the values\n",
    "df_geographic_unique1990['geometry_lat_long'] = df_geographic_unique1990.set_index(['latitude', 'longitude']).index.map(lat_long_df['geometry_lat_long'])\n",
    "\n",
    "# Resetting the index of lat_long_df (optional, but good practice)\n",
    "lat_long_df.reset_index(inplace=True)"
   ]
  },
  {
   "cell_type": "code",
   "execution_count": null,
   "id": "5ce786aa-a798-45af-b52e-ac7f72a5da52",
   "metadata": {},
   "outputs": [],
   "source": [
    "# Create an empty GeoDataFrame to store the intersection results\n",
    "new_unit_df1990 = gpd.GeoDataFrame(columns=['reportedZipCode', 'countyCode', 'censusTract',\n",
    "                                       'censusBlockGroupFips', 'MATCHED_censusBlockGroupFips', 'latitude', 'longitude', 'year', 'state', 'geometry_BG',\n",
    "                                        'geometry_lat_long', 'new_geometry'])\n",
    "\n",
    "# Iterate through each row in BG_df_2000 and each row in lat_long_df to find intersections\n",
    "for idx_unit_data, row_unit_data in df_geographic_unique2000.iterrows():\n",
    "    for idx_unit_shape, row_unit_shape in BG_list_df2000.iterrows():\n",
    "        year = row_unit_data['yearOfLoss']\n",
    "        year2 = row_unit_data['yearOfLoss_1980_2020']\n",
    "        bg_id = row_unit_data['censusBlockGroupFips']\n",
    "        bg_id2 = row_unit_shape['GEOID']\n",
    "        bg_geometry = row_unit_shape['geometry']\n",
    "        tract_id = row_unit_data['censusTract']\n",
    "        county_id = row_unit_data['countyCode']\n",
    "        state = row_unit_data['state']\n",
    "        lat_long_geometry = row_unit_data['geometry_lat_long']\n",
    "        lat = row_unit_data['latitude']\n",
    "        long = row_unit_data['longitude']\n",
    "        zipcode = row_unit_data['reportedZipCode']\n",
    "    \n",
    "        # Compute intersection geometry\n",
    "        intersection_geometry = bg_geometry.intersection(lat_long_geometry)\n",
    "    \n",
    "        new_unit_df1990 = pd.concat([new_unit_df1990, pd.DataFrame({\n",
    "            'reportedZipCode': [zipcode],\n",
    "            'countyCode': [county_id],\n",
    "            'censusTract': [tract_id],\n",
    "            'censusBlockGroupFips': [bg_id],\n",
    "            'MATCHED_censusBlockGroupFips': [bg_id2],\n",
    "            'latitude': [lat],\n",
    "            'longitude': [long],\n",
    "            'year': [year],\n",
    "            'decade': [year2],\n",
    "            'state': [state],\n",
    "            'geometry_BG': [bg_geometry],\n",
    "            'geometry_lat_long': [lat_long_geometry],\n",
    "            'new_geometry': [intersection_geometry]\n",
    "        })], ignore_index=True)"
   ]
  },
  {
   "cell_type": "code",
   "execution_count": null,
   "id": "7acb96f5-8994-46d5-b44a-fdcc5d48b6b0",
   "metadata": {},
   "outputs": [],
   "source": []
  },
  {
   "cell_type": "code",
   "execution_count": null,
   "id": "569f70bb-4e75-45aa-b332-abb56e4248af",
   "metadata": {},
   "outputs": [],
   "source": []
  }
 ],
 "metadata": {
  "kernelspec": {
   "display_name": "Python 3 (ipykernel)",
   "language": "python",
   "name": "python3"
  },
  "language_info": {
   "codemirror_mode": {
    "name": "ipython",
    "version": 3
   },
   "file_extension": ".py",
   "mimetype": "text/x-python",
   "name": "python",
   "nbconvert_exporter": "python",
   "pygments_lexer": "ipython3",
   "version": "3.8.17"
  }
 },
 "nbformat": 4,
 "nbformat_minor": 5
}
