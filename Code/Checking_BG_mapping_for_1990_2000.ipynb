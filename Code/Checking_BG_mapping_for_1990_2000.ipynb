{
 "cells": [
  {
   "cell_type": "code",
   "execution_count": 1,
   "id": "5114eaa4-3823-46ac-973c-7a21703a76c0",
   "metadata": {
    "tags": []
   },
   "outputs": [],
   "source": [
    "import pandas as pd\n",
    "import numpy as np\n",
    "import matplotlib.pyplot as plt\n",
    "import pyarrow as pa\n",
    "import pyarrow.parquet as pq\n",
    "import geopandas as gpd\n",
    "import seaborn as sns\n",
    "\n",
    "#Packages\n",
    "import pandas as pd\n",
    "import matplotlib.pyplot as plt\n",
    "import matplotlib.ticker as mtick\n",
    "import numpy as np\n",
    "from scipy import stats\n",
    "pd.set_option('display.max_columns', None)\n",
    "\n",
    "from scipy.stats import skew, kurtosis\n",
    "\n",
    "import pygris\n",
    "import shapely"
   ]
  },
  {
   "cell_type": "code",
   "execution_count": 2,
   "id": "4fdef958-47be-4955-91fa-97d1a102f5c2",
   "metadata": {
    "tags": []
   },
   "outputs": [],
   "source": [
    "df = pd.read_parquet(\"C:/Users/Asus/Box/Flood Damage PredictionProject/Dataset/FimaNfipClaims.parquet.gzip\")"
   ]
  },
  {
   "cell_type": "code",
   "execution_count": 3,
   "id": "4f6e5572-4a6a-445b-a2b4-d056a0487a97",
   "metadata": {
    "tags": []
   },
   "outputs": [],
   "source": [
    "df_geographic_unique = df[['state', 'reportedZipCode', 'countyCode', 'censusTract', 'censusBlockGroupFips', 'latitude', 'longitude', 'yearOfLoss']].drop_duplicates()"
   ]
  },
  {
   "cell_type": "code",
   "execution_count": 4,
   "id": "dd320442-e8a0-432b-a88c-db96e5de2d45",
   "metadata": {
    "tags": []
   },
   "outputs": [],
   "source": [
    "df_geographic_unique = df_geographic_unique.dropna(subset=['latitude', 'censusBlockGroupFips'])"
   ]
  },
  {
   "cell_type": "code",
   "execution_count": 5,
   "id": "3208a8e2-7d7c-46cb-8893-622bdbb2c0ec",
   "metadata": {
    "tags": []
   },
   "outputs": [],
   "source": [
    "df_geographic_unique['censusBlockGroupFips'] = [str(int(float(i))) for i in df_geographic_unique['censusBlockGroupFips']]\n",
    "df_geographic_unique['censusBlockGroupFips'] = [censusBG.zfill(12) for censusBG in df_geographic_unique['censusBlockGroupFips']]"
   ]
  },
  {
   "cell_type": "code",
   "execution_count": 6,
   "id": "8b058949-52b6-4492-af86-2be8815590c3",
   "metadata": {
    "tags": []
   },
   "outputs": [],
   "source": [
    "# Define bins and labels for yearOfLoss_1980_2020\n",
    "bins_1980_2020 = [df_geographic_unique['yearOfLoss'].min(), 1990, 2000, 2010, 2020, df_geographic_unique['yearOfLoss'].max() + 1]\n",
    "labels_1980_2020 = [1980, 1990, 2000, 2010, 2020]\n",
    "\n",
    "df_geographic_unique['yearOfLoss_1980_2020'] = pd.cut(df_geographic_unique['yearOfLoss'], bins=bins_1980_2020, labels=labels_1980_2020, right=False).astype(int)"
   ]
  },
  {
   "cell_type": "code",
   "execution_count": null,
   "id": "e6b4484d-9af3-4576-b03e-68869c756d07",
   "metadata": {
    "tags": []
   },
   "outputs": [],
   "source": [
    "# states = pygris.states()\n",
    "# states_list = sorted(states['STUSPS'].unique())"
   ]
  },
  {
   "cell_type": "code",
   "execution_count": null,
   "id": "5128f5a2-0ff3-49bb-8c80-1aac9caaf691",
   "metadata": {
    "tags": []
   },
   "outputs": [],
   "source": [
    "# BG_list_2000 = []\n",
    "\n",
    "# for i in states_list:\n",
    "#     BG_list_2000.append(pygris.block_groups(state = i, year = 2000))"
   ]
  },
  {
   "cell_type": "code",
   "execution_count": 7,
   "id": "f23c178d-f133-407e-9cf6-84978e6b5da0",
   "metadata": {
    "tags": []
   },
   "outputs": [
    {
     "name": "stdout",
     "output_type": "stream",
     "text": [
      "Using FIPS code '37' for input 'NC'\n"
     ]
    }
   ],
   "source": [
    "BG_list_df2000 = pygris.block_groups(state = 'NC', year = 2000)"
   ]
  },
  {
   "cell_type": "code",
   "execution_count": null,
   "id": "7b00fd82-df48-4100-b2ea-534f80892f99",
   "metadata": {
    "tags": []
   },
   "outputs": [],
   "source": [
    "# BG_list_1990 = []\n",
    "\n",
    "# for i in states_list:\n",
    "#     BG_list_1990.append(pygris.block_groups(state = i, year = 1990, cb = True))"
   ]
  },
  {
   "cell_type": "code",
   "execution_count": 8,
   "id": "60b1447c-8749-43ca-805f-9f2431188ea1",
   "metadata": {
    "tags": []
   },
   "outputs": [
    {
     "name": "stdout",
     "output_type": "stream",
     "text": [
      "Using FIPS code '37' for input 'NC'\n"
     ]
    }
   ],
   "source": [
    "BG_list_df1990 = pygris.block_groups(state = 'NC', year = 1990, cb = True)"
   ]
  },
  {
   "cell_type": "code",
   "execution_count": null,
   "id": "cd6b8993-5a9d-45db-985a-a92b0b2d2447",
   "metadata": {
    "tags": []
   },
   "outputs": [],
   "source": [
    "# BG_list_df2000 = pd.concat(BG_list_2000, ignore_index=True)\n",
    "# BG_list_df1990 = pd.concat(BG_list_1990, ignore_index=True)"
   ]
  },
  {
   "cell_type": "code",
   "execution_count": 9,
   "id": "a5364222-98a2-4557-9e30-702738537051",
   "metadata": {
    "tags": []
   },
   "outputs": [],
   "source": [
    "BG_list_df2000 = BG_list_df2000[['BKGPIDFP00', 'geometry']]\n",
    "BG_list_df2000['year'] = 2000\n",
    "\n",
    "BG_list_df2000 = BG_list_df2000.rename(columns={\"BKGPIDFP00\": \"GEOID\"})\n",
    "\n",
    "BG_list_df1990 = BG_list_df1990[['GEOID', 'geometry']]\n",
    "BG_list_df1990['year'] = 1990"
   ]
  },
  {
   "cell_type": "markdown",
   "id": "8b8f06bd-1b81-4cdc-b589-560c7f842980",
   "metadata": {},
   "source": [
    "#### Checking for 2000..."
   ]
  },
  {
   "cell_type": "code",
   "execution_count": null,
   "id": "2332124a-5b75-4fa8-b58e-17fa28394af9",
   "metadata": {
    "tags": []
   },
   "outputs": [],
   "source": [
    "# df_geographic_unique2000 = df_geographic_unique[df_geographic_unique['yearOfLoss_1980_2020']==2000]"
   ]
  },
  {
   "cell_type": "code",
   "execution_count": 10,
   "id": "aeab2c8b-e3e8-4c2a-8150-53e1620dad46",
   "metadata": {
    "tags": []
   },
   "outputs": [],
   "source": [
    "df_geographic_unique2000 = df_geographic_unique[(df_geographic_unique['yearOfLoss_1980_2020']==2000) & (df_geographic_unique['state']=='NC')]"
   ]
  },
  {
   "cell_type": "code",
   "execution_count": 11,
   "id": "029a47ab-442b-42dd-b41b-501410e66bdc",
   "metadata": {
    "tags": []
   },
   "outputs": [],
   "source": [
    "# Read the parquet file\n",
    "df_read = pd.read_parquet(\"C:/Users/Asus/Box/Flood Damage PredictionProject/Dataset/lat_long_geometry.parquet.gzip\")\n",
    "\n",
    "# Convert the WKT strings back to geometries\n",
    "lat_long_df = gpd.GeoDataFrame(df_read, geometry=df_read['geometry'].apply(lambda x: shapely.wkt.loads(x)))"
   ]
  },
  {
   "cell_type": "code",
   "execution_count": 12,
   "id": "23c411e4-c2f4-4bc0-aa93-a548606380da",
   "metadata": {
    "tags": []
   },
   "outputs": [],
   "source": [
    "lat_long_df.rename(columns={'geometry': 'geometry_lat_long'}, inplace=True)"
   ]
  },
  {
   "cell_type": "code",
   "execution_count": 13,
   "id": "c494707a-9f11-4f81-980e-1ed0949542de",
   "metadata": {
    "tags": []
   },
   "outputs": [
    {
     "name": "stderr",
     "output_type": "stream",
     "text": [
      "C:\\Users\\Asus\\AppData\\Local\\Temp\\ipykernel_30356\\408559743.py:5: SettingWithCopyWarning: \n",
      "A value is trying to be set on a copy of a slice from a DataFrame.\n",
      "Try using .loc[row_indexer,col_indexer] = value instead\n",
      "\n",
      "See the caveats in the documentation: https://pandas.pydata.org/pandas-docs/stable/user_guide/indexing.html#returning-a-view-versus-a-copy\n",
      "  df_geographic_unique2000['geometry_lat_long'] = df_geographic_unique2000.set_index(['latitude', 'longitude']).index.map(lat_long_df['geometry_lat_long'])\n"
     ]
    }
   ],
   "source": [
    "# Setting the multi-index on lat_long_df\n",
    "lat_long_df.set_index(['latitude', 'longitude'], inplace=True)\n",
    "\n",
    "# Mapping the values\n",
    "df_geographic_unique2000['geometry_lat_long'] = df_geographic_unique2000.set_index(['latitude', 'longitude']).index.map(lat_long_df['geometry_lat_long'])\n",
    "\n",
    "# Resetting the index of lat_long_df (optional, but good practice)\n",
    "lat_long_df.reset_index(inplace=True)"
   ]
  },
  {
   "cell_type": "code",
   "execution_count": 14,
   "id": "c1695793-0d3f-4d92-9d97-e34edc2b6fbe",
   "metadata": {
    "tags": []
   },
   "outputs": [],
   "source": [
    "import geopandas as gpd\n",
    "from shapely.geometry import Polygon\n",
    "from itertools import product\n",
    "import warnings\n",
    "warnings.filterwarnings(\"ignore\")"
   ]
  },
  {
   "cell_type": "code",
   "execution_count": 18,
   "id": "0d6297ea-e36b-4f08-bd10-433e5adced19",
   "metadata": {
    "tags": []
   },
   "outputs": [],
   "source": [
    "df_geographic_unique2000_lat_long = df_geographic_unique2000[['latitude', 'longitude', 'geometry_lat_long']].drop_duplicates()"
   ]
  },
  {
   "cell_type": "code",
   "execution_count": 20,
   "id": "3c056ea0-df17-4699-80a3-5c49f6b8d098",
   "metadata": {
    "tags": []
   },
   "outputs": [],
   "source": [
    "# Convert the DataFrame to a GeoDataFrame\n",
    "gdf = gpd.GeoDataFrame(BG_list_df2000, geometry='geometry')\n",
    "\n",
    "# Set the current CRS to WGS 84 (assuming your data is in latitude and longitude)\n",
    "gdf.crs = \"EPSG:4326\"\n",
    "\n",
    "# Project the GeoDataFrame to a suitable CRS (Web Mercator in this case)\n",
    "gdf_projected = gdf.to_crs(epsg=3857)\n",
    "\n",
    "# Compute the area for each geometry in square kilometers\n",
    "gdf_projected['area_km2'] = gdf_projected.geometry.area / 1e6\n",
    "\n",
    "# Filter out geometries with area less than 152.1611272703287 square kilometers\n",
    "filtered_gdf = gdf_projected[gdf_projected['area_km2'] >= 152.16]\n",
    "\n",
    "# If you want the filtered data in the original CRS, you can do the following:\n",
    "BG_list_df2000_filtered = filtered_gdf.to_crs(epsg=4326)"
   ]
  },
  {
   "cell_type": "code",
   "execution_count": 55,
   "id": "bf475777-82cc-4337-9bd7-5980f58b10ef",
   "metadata": {
    "tags": []
   },
   "outputs": [],
   "source": [
    "# Create an empty GeoDataFrame to store the intersection results\n",
    "new_unit_df2000 = gpd.GeoDataFrame(columns=['MATCHED_censusBlockGroupFips', 'latitude', 'longitude', 'geometry_BG',\n",
    "                                        'geometry_lat_long', 'new_geometry'])\n",
    "\n",
    "# Iterate through each row in BG_df_2000 and each row in lat_long_df to find intersections\n",
    "for idx_unit_data, row_unit_data in df_geographic_unique2000_lat_long.iterrows():\n",
    "    for idx_unit_shape, row_unit_shape in BG_list_df2000_filtered.iterrows():\n",
    "\n",
    "        bg_id2 = row_unit_shape['GEOID']\n",
    "        bg_geometry = row_unit_shape['geometry']\n",
    "        lat_long_geometry = row_unit_data['geometry_lat_long']\n",
    "        lat = row_unit_data['latitude']\n",
    "        long = row_unit_data['longitude']\n",
    "    \n",
    "        # Compute intersection geometry\n",
    "        intersection_geometry = bg_geometry.intersection(lat_long_geometry)\n",
    "        \n",
    "        intersection_gseries = gpd.GeoSeries([intersection_geometry], crs=\"EPSG:4326\")\n",
    "        intersection_gseries_projected = intersection_gseries.to_crs(epsg=3857)\n",
    "        area_m2 = intersection_gseries_projected.iloc[0].area\n",
    "        \n",
    "        if area_m2 / 1e6 >= 100.1611272703287:\n",
    "    \n",
    "            new_unit_df2000 = pd.concat([new_unit_df2000, pd.DataFrame({\n",
    "                'MATCHED_censusBlockGroupFips': [bg_id2],\n",
    "                'latitude': [lat],\n",
    "                'longitude': [long],\n",
    "                'geometry_BG': [bg_geometry],\n",
    "                'geometry_lat_long': [lat_long_geometry],\n",
    "                'new_geometry': [intersection_geometry]\n",
    "            })], ignore_index=True)"
   ]
  },
  {
   "cell_type": "code",
   "execution_count": 57,
   "id": "c74772ce-7761-42de-881b-66dc380465ea",
   "metadata": {
    "tags": []
   },
   "outputs": [
    {
     "data": {
      "text/plain": [
       "8"
      ]
     },
     "execution_count": 57,
     "metadata": {},
     "output_type": "execute_result"
    }
   ],
   "source": [
    "new_unit_df2000.shape[0]"
   ]
  },
  {
   "cell_type": "code",
   "execution_count": 58,
   "id": "387e057f-bc09-4cb3-9f9d-1b3940a375c3",
   "metadata": {},
   "outputs": [],
   "source": [
    "# Setting the multi-index on filtered_df\n",
    "new_unit_df2000.set_index(['latitude', 'longitude'], inplace=True)\n",
    "\n",
    "# Mapping values one by one\n",
    "df_geographic_unique2000['MATCHED_censusBlockGroupFips'] = df_geographic_unique2000.set_index(['latitude', 'longitude']).index.map(new_unit_df2000['MATCHED_censusBlockGroupFips'])\n",
    "df_geographic_unique2000['geometry_BG'] = df_geographic_unique2000.set_index(['latitude', 'longitude']).index.map(new_unit_df2000['geometry_BG'])\n",
    "df_geographic_unique2000['new_geometry'] = df_geographic_unique2000.set_index(['latitude', 'longitude']).index.map(new_unit_df2000['new_geometry'])\n",
    "\n",
    "# Assuming lat_long_df should be df_geographic_unique2000 based on context\n",
    "new_unit_df2000.reset_index(inplace=True)"
   ]
  },
  {
   "cell_type": "code",
   "execution_count": 59,
   "id": "45ae3442-bb78-462f-9d70-8b458c6d1c50",
   "metadata": {},
   "outputs": [
    {
     "data": {
      "text/html": [
       "<div>\n",
       "<style scoped>\n",
       "    .dataframe tbody tr th:only-of-type {\n",
       "        vertical-align: middle;\n",
       "    }\n",
       "\n",
       "    .dataframe tbody tr th {\n",
       "        vertical-align: top;\n",
       "    }\n",
       "\n",
       "    .dataframe thead th {\n",
       "        text-align: right;\n",
       "    }\n",
       "</style>\n",
       "<table border=\"1\" class=\"dataframe\">\n",
       "  <thead>\n",
       "    <tr style=\"text-align: right;\">\n",
       "      <th></th>\n",
       "      <th>state</th>\n",
       "      <th>reportedZipCode</th>\n",
       "      <th>countyCode</th>\n",
       "      <th>censusTract</th>\n",
       "      <th>censusBlockGroupFips</th>\n",
       "      <th>latitude</th>\n",
       "      <th>longitude</th>\n",
       "      <th>yearOfLoss</th>\n",
       "      <th>yearOfLoss_1980_2020</th>\n",
       "      <th>geometry_lat_long</th>\n",
       "      <th>MATCHED_censusBlockGroupFips</th>\n",
       "      <th>geometry_BG</th>\n",
       "      <th>new_geometry</th>\n",
       "    </tr>\n",
       "  </thead>\n",
       "  <tbody>\n",
       "    <tr>\n",
       "      <th>31</th>\n",
       "      <td>NC</td>\n",
       "      <td>28646.0</td>\n",
       "      <td>37011.0</td>\n",
       "      <td>3.701193e+10</td>\n",
       "      <td>370119302003</td>\n",
       "      <td>36.0</td>\n",
       "      <td>-81.9</td>\n",
       "      <td>2004</td>\n",
       "      <td>2000</td>\n",
       "      <td>POLYGON ((-81.95000 35.95000, -81.85000 35.950...</td>\n",
       "      <td>NaN</td>\n",
       "      <td>NaN</td>\n",
       "      <td>NaN</td>\n",
       "    </tr>\n",
       "    <tr>\n",
       "      <th>90</th>\n",
       "      <td>NC</td>\n",
       "      <td>27920.0</td>\n",
       "      <td>37055.0</td>\n",
       "      <td>3.705597e+10</td>\n",
       "      <td>370559705022</td>\n",
       "      <td>35.3</td>\n",
       "      <td>-75.5</td>\n",
       "      <td>2003</td>\n",
       "      <td>2000</td>\n",
       "      <td>POLYGON ((-75.55000 35.25000, -75.45000 35.250...</td>\n",
       "      <td>NaN</td>\n",
       "      <td>NaN</td>\n",
       "      <td>NaN</td>\n",
       "    </tr>\n",
       "    <tr>\n",
       "      <th>185</th>\n",
       "      <td>NC</td>\n",
       "      <td>27949.0</td>\n",
       "      <td>37055.0</td>\n",
       "      <td>3.705597e+10</td>\n",
       "      <td>370559701022</td>\n",
       "      <td>36.1</td>\n",
       "      <td>-75.7</td>\n",
       "      <td>2003</td>\n",
       "      <td>2000</td>\n",
       "      <td>POLYGON ((-75.75000 36.05000, -75.65000 36.050...</td>\n",
       "      <td>NaN</td>\n",
       "      <td>NaN</td>\n",
       "      <td>NaN</td>\n",
       "    </tr>\n",
       "    <tr>\n",
       "      <th>235</th>\n",
       "      <td>NC</td>\n",
       "      <td>27927.0</td>\n",
       "      <td>37053.0</td>\n",
       "      <td>3.705311e+10</td>\n",
       "      <td>370531101012</td>\n",
       "      <td>36.4</td>\n",
       "      <td>-75.8</td>\n",
       "      <td>2006</td>\n",
       "      <td>2000</td>\n",
       "      <td>POLYGON ((-75.85000 36.35000, -75.75000 36.350...</td>\n",
       "      <td>NaN</td>\n",
       "      <td>NaN</td>\n",
       "      <td>NaN</td>\n",
       "    </tr>\n",
       "    <tr>\n",
       "      <th>256</th>\n",
       "      <td>NC</td>\n",
       "      <td>27909.0</td>\n",
       "      <td>37139.0</td>\n",
       "      <td>3.713996e+10</td>\n",
       "      <td>371399605021</td>\n",
       "      <td>36.3</td>\n",
       "      <td>-76.2</td>\n",
       "      <td>2006</td>\n",
       "      <td>2000</td>\n",
       "      <td>POLYGON ((-76.25000 36.25000, -76.15000 36.250...</td>\n",
       "      <td>NaN</td>\n",
       "      <td>NaN</td>\n",
       "      <td>NaN</td>\n",
       "    </tr>\n",
       "  </tbody>\n",
       "</table>\n",
       "</div>"
      ],
      "text/plain": [
       "    state  reportedZipCode  countyCode   censusTract censusBlockGroupFips  \\\n",
       "31     NC          28646.0     37011.0  3.701193e+10         370119302003   \n",
       "90     NC          27920.0     37055.0  3.705597e+10         370559705022   \n",
       "185    NC          27949.0     37055.0  3.705597e+10         370559701022   \n",
       "235    NC          27927.0     37053.0  3.705311e+10         370531101012   \n",
       "256    NC          27909.0     37139.0  3.713996e+10         371399605021   \n",
       "\n",
       "     latitude  longitude  yearOfLoss  yearOfLoss_1980_2020  \\\n",
       "31       36.0      -81.9        2004                  2000   \n",
       "90       35.3      -75.5        2003                  2000   \n",
       "185      36.1      -75.7        2003                  2000   \n",
       "235      36.4      -75.8        2006                  2000   \n",
       "256      36.3      -76.2        2006                  2000   \n",
       "\n",
       "                                     geometry_lat_long  \\\n",
       "31   POLYGON ((-81.95000 35.95000, -81.85000 35.950...   \n",
       "90   POLYGON ((-75.55000 35.25000, -75.45000 35.250...   \n",
       "185  POLYGON ((-75.75000 36.05000, -75.65000 36.050...   \n",
       "235  POLYGON ((-75.85000 36.35000, -75.75000 36.350...   \n",
       "256  POLYGON ((-76.25000 36.25000, -76.15000 36.250...   \n",
       "\n",
       "    MATCHED_censusBlockGroupFips geometry_BG new_geometry  \n",
       "31                           NaN         NaN          NaN  \n",
       "90                           NaN         NaN          NaN  \n",
       "185                          NaN         NaN          NaN  \n",
       "235                          NaN         NaN          NaN  \n",
       "256                          NaN         NaN          NaN  "
      ]
     },
     "execution_count": 59,
     "metadata": {},
     "output_type": "execute_result"
    }
   ],
   "source": [
    "df_geographic_unique2000.head()"
   ]
  },
  {
   "cell_type": "code",
   "execution_count": 61,
   "id": "20f4567a-dfa7-4d64-a94f-a93be37aa592",
   "metadata": {},
   "outputs": [],
   "source": [
    "filtered_df = df_geographic_unique2000[df_geographic_unique2000['MATCHED_censusBlockGroupFips'].notna()]"
   ]
  },
  {
   "cell_type": "code",
   "execution_count": 66,
   "id": "a70af814-27e0-4992-9276-b9fc74be6e4d",
   "metadata": {
    "tags": []
   },
   "outputs": [
    {
     "data": {
      "text/html": [
       "<div>\n",
       "<style scoped>\n",
       "    .dataframe tbody tr th:only-of-type {\n",
       "        vertical-align: middle;\n",
       "    }\n",
       "\n",
       "    .dataframe tbody tr th {\n",
       "        vertical-align: top;\n",
       "    }\n",
       "\n",
       "    .dataframe thead th {\n",
       "        text-align: right;\n",
       "    }\n",
       "</style>\n",
       "<table border=\"1\" class=\"dataframe\">\n",
       "  <thead>\n",
       "    <tr style=\"text-align: right;\">\n",
       "      <th></th>\n",
       "      <th>state</th>\n",
       "      <th>reportedZipCode</th>\n",
       "      <th>countyCode</th>\n",
       "      <th>censusTract</th>\n",
       "      <th>censusBlockGroupFips</th>\n",
       "      <th>latitude</th>\n",
       "      <th>longitude</th>\n",
       "      <th>yearOfLoss</th>\n",
       "      <th>yearOfLoss_1980_2020</th>\n",
       "      <th>geometry_lat_long</th>\n",
       "      <th>MATCHED_censusBlockGroupFips</th>\n",
       "      <th>geometry_BG</th>\n",
       "      <th>new_geometry</th>\n",
       "    </tr>\n",
       "  </thead>\n",
       "  <tbody>\n",
       "    <tr>\n",
       "      <th>5407</th>\n",
       "      <td>NC</td>\n",
       "      <td>27978.0</td>\n",
       "      <td>37055.0</td>\n",
       "      <td>3.705597e+10</td>\n",
       "      <td>370559705011</td>\n",
       "      <td>35.7</td>\n",
       "      <td>-75.7</td>\n",
       "      <td>2003</td>\n",
       "      <td>2000</td>\n",
       "      <td>POLYGON ((-75.75000 35.65000, -75.65000 35.650...</td>\n",
       "      <td>370559705004</td>\n",
       "      <td>POLYGON ((-75.59184199999999 35.758117, -75.59...</td>\n",
       "      <td>POLYGON ((-75.75 35.75, -75.65 35.75, -75.65 3...</td>\n",
       "    </tr>\n",
       "    <tr>\n",
       "      <th>14690</th>\n",
       "      <td>NC</td>\n",
       "      <td>27824.0</td>\n",
       "      <td>37095.0</td>\n",
       "      <td>3.709592e+10</td>\n",
       "      <td>370959201003</td>\n",
       "      <td>35.5</td>\n",
       "      <td>-76.0</td>\n",
       "      <td>2003</td>\n",
       "      <td>2000</td>\n",
       "      <td>POLYGON ((-76.05000 35.45000, -75.95000 35.450...</td>\n",
       "      <td>370959801001</td>\n",
       "      <td>POLYGON ((-76.211888 35.46288299999999, -76.21...</td>\n",
       "      <td>POLYGON ((-76.05 35.55, -75.95 35.55, -75.95 3...</td>\n",
       "    </tr>\n",
       "    <tr>\n",
       "      <th>241614</th>\n",
       "      <td>NC</td>\n",
       "      <td>27978.0</td>\n",
       "      <td>37055.0</td>\n",
       "      <td>3.705597e+10</td>\n",
       "      <td>370559705011</td>\n",
       "      <td>35.7</td>\n",
       "      <td>-75.7</td>\n",
       "      <td>2004</td>\n",
       "      <td>2000</td>\n",
       "      <td>POLYGON ((-75.75000 35.65000, -75.65000 35.650...</td>\n",
       "      <td>370559705004</td>\n",
       "      <td>POLYGON ((-75.59184199999999 35.758117, -75.59...</td>\n",
       "      <td>POLYGON ((-75.75 35.75, -75.65 35.75, -75.65 3...</td>\n",
       "    </tr>\n",
       "    <tr>\n",
       "      <th>403717</th>\n",
       "      <td>NC</td>\n",
       "      <td>27978.0</td>\n",
       "      <td>37055.0</td>\n",
       "      <td>3.705597e+10</td>\n",
       "      <td>370559705011</td>\n",
       "      <td>35.7</td>\n",
       "      <td>-75.7</td>\n",
       "      <td>2008</td>\n",
       "      <td>2000</td>\n",
       "      <td>POLYGON ((-75.75000 35.65000, -75.65000 35.650...</td>\n",
       "      <td>370559705004</td>\n",
       "      <td>POLYGON ((-75.59184199999999 35.758117, -75.59...</td>\n",
       "      <td>POLYGON ((-75.75 35.75, -75.65 35.75, -75.65 3...</td>\n",
       "    </tr>\n",
       "    <tr>\n",
       "      <th>403718</th>\n",
       "      <td>NC</td>\n",
       "      <td>27978.0</td>\n",
       "      <td>37055.0</td>\n",
       "      <td>3.705597e+10</td>\n",
       "      <td>370559705011</td>\n",
       "      <td>35.7</td>\n",
       "      <td>-75.7</td>\n",
       "      <td>2009</td>\n",
       "      <td>2000</td>\n",
       "      <td>POLYGON ((-75.75000 35.65000, -75.65000 35.650...</td>\n",
       "      <td>370559705004</td>\n",
       "      <td>POLYGON ((-75.59184199999999 35.758117, -75.59...</td>\n",
       "      <td>POLYGON ((-75.75 35.75, -75.65 35.75, -75.65 3...</td>\n",
       "    </tr>\n",
       "    <tr>\n",
       "      <th>550378</th>\n",
       "      <td>NC</td>\n",
       "      <td>27824.0</td>\n",
       "      <td>37095.0</td>\n",
       "      <td>3.709592e+10</td>\n",
       "      <td>370959201003</td>\n",
       "      <td>35.5</td>\n",
       "      <td>-76.0</td>\n",
       "      <td>2007</td>\n",
       "      <td>2000</td>\n",
       "      <td>POLYGON ((-76.05000 35.45000, -75.95000 35.450...</td>\n",
       "      <td>370959801001</td>\n",
       "      <td>POLYGON ((-76.211888 35.46288299999999, -76.21...</td>\n",
       "      <td>POLYGON ((-76.05 35.55, -75.95 35.55, -75.95 3...</td>\n",
       "    </tr>\n",
       "    <tr>\n",
       "      <th>554301</th>\n",
       "      <td>NC</td>\n",
       "      <td>27978.0</td>\n",
       "      <td>37055.0</td>\n",
       "      <td>3.705597e+10</td>\n",
       "      <td>370559705011</td>\n",
       "      <td>35.7</td>\n",
       "      <td>-75.8</td>\n",
       "      <td>2003</td>\n",
       "      <td>2000</td>\n",
       "      <td>POLYGON ((-75.85000 35.65000, -75.75000 35.650...</td>\n",
       "      <td>370559705004</td>\n",
       "      <td>POLYGON ((-75.59184199999999 35.758117, -75.59...</td>\n",
       "      <td>POLYGON ((-75.85 35.75, -75.75 35.75, -75.75 3...</td>\n",
       "    </tr>\n",
       "    <tr>\n",
       "      <th>624424</th>\n",
       "      <td>NC</td>\n",
       "      <td>27824.0</td>\n",
       "      <td>37095.0</td>\n",
       "      <td>3.709592e+10</td>\n",
       "      <td>370959201003</td>\n",
       "      <td>35.5</td>\n",
       "      <td>-76.1</td>\n",
       "      <td>2003</td>\n",
       "      <td>2000</td>\n",
       "      <td>POLYGON ((-76.15000 35.45000, -76.05000 35.450...</td>\n",
       "      <td>370959801001</td>\n",
       "      <td>POLYGON ((-76.211888 35.46288299999999, -76.21...</td>\n",
       "      <td>POLYGON ((-76.14999999999999 35.55, -76.05 35....</td>\n",
       "    </tr>\n",
       "    <tr>\n",
       "      <th>625303</th>\n",
       "      <td>NC</td>\n",
       "      <td>27824.0</td>\n",
       "      <td>37095.0</td>\n",
       "      <td>3.709592e+10</td>\n",
       "      <td>370959201003</td>\n",
       "      <td>35.5</td>\n",
       "      <td>-76.0</td>\n",
       "      <td>2004</td>\n",
       "      <td>2000</td>\n",
       "      <td>POLYGON ((-76.05000 35.45000, -75.95000 35.450...</td>\n",
       "      <td>370959801001</td>\n",
       "      <td>POLYGON ((-76.211888 35.46288299999999, -76.21...</td>\n",
       "      <td>POLYGON ((-76.05 35.55, -75.95 35.55, -75.95 3...</td>\n",
       "    </tr>\n",
       "    <tr>\n",
       "      <th>626412</th>\n",
       "      <td>NC</td>\n",
       "      <td>27824.0</td>\n",
       "      <td>37095.0</td>\n",
       "      <td>3.709592e+10</td>\n",
       "      <td>370959201003</td>\n",
       "      <td>35.6</td>\n",
       "      <td>-76.1</td>\n",
       "      <td>2003</td>\n",
       "      <td>2000</td>\n",
       "      <td>POLYGON ((-76.15000 35.55000, -76.05000 35.550...</td>\n",
       "      <td>370959801001</td>\n",
       "      <td>POLYGON ((-76.211888 35.46288299999999, -76.21...</td>\n",
       "      <td>POLYGON ((-76.14999999999999 35.65, -76.05 35....</td>\n",
       "    </tr>\n",
       "    <tr>\n",
       "      <th>626651</th>\n",
       "      <td>NC</td>\n",
       "      <td>27824.0</td>\n",
       "      <td>37095.0</td>\n",
       "      <td>3.709592e+10</td>\n",
       "      <td>370959201003</td>\n",
       "      <td>35.6</td>\n",
       "      <td>-76.0</td>\n",
       "      <td>2003</td>\n",
       "      <td>2000</td>\n",
       "      <td>POLYGON ((-76.05000 35.55000, -75.95000 35.550...</td>\n",
       "      <td>370959801001</td>\n",
       "      <td>POLYGON ((-76.211888 35.46288299999999, -76.21...</td>\n",
       "      <td>POLYGON ((-76.05 35.65, -75.95 35.65, -75.95 3...</td>\n",
       "    </tr>\n",
       "    <tr>\n",
       "      <th>627693</th>\n",
       "      <td>NC</td>\n",
       "      <td>27826.0</td>\n",
       "      <td>37095.0</td>\n",
       "      <td>3.709592e+10</td>\n",
       "      <td>370959201003</td>\n",
       "      <td>35.6</td>\n",
       "      <td>-76.1</td>\n",
       "      <td>2003</td>\n",
       "      <td>2000</td>\n",
       "      <td>POLYGON ((-76.15000 35.55000, -76.05000 35.550...</td>\n",
       "      <td>370959801001</td>\n",
       "      <td>POLYGON ((-76.211888 35.46288299999999, -76.21...</td>\n",
       "      <td>POLYGON ((-76.14999999999999 35.65, -76.05 35....</td>\n",
       "    </tr>\n",
       "    <tr>\n",
       "      <th>630871</th>\n",
       "      <td>NC</td>\n",
       "      <td>27824.0</td>\n",
       "      <td>37095.0</td>\n",
       "      <td>3.709592e+10</td>\n",
       "      <td>370959201003</td>\n",
       "      <td>35.5</td>\n",
       "      <td>-76.0</td>\n",
       "      <td>2009</td>\n",
       "      <td>2000</td>\n",
       "      <td>POLYGON ((-76.05000 35.45000, -75.95000 35.450...</td>\n",
       "      <td>370959801001</td>\n",
       "      <td>POLYGON ((-76.211888 35.46288299999999, -76.21...</td>\n",
       "      <td>POLYGON ((-76.05 35.55, -75.95 35.55, -75.95 3...</td>\n",
       "    </tr>\n",
       "    <tr>\n",
       "      <th>768881</th>\n",
       "      <td>NC</td>\n",
       "      <td>27824.0</td>\n",
       "      <td>37095.0</td>\n",
       "      <td>3.709592e+10</td>\n",
       "      <td>370959201003</td>\n",
       "      <td>35.5</td>\n",
       "      <td>-76.0</td>\n",
       "      <td>2006</td>\n",
       "      <td>2000</td>\n",
       "      <td>POLYGON ((-76.05000 35.45000, -75.95000 35.450...</td>\n",
       "      <td>370959801001</td>\n",
       "      <td>POLYGON ((-76.211888 35.46288299999999, -76.21...</td>\n",
       "      <td>POLYGON ((-76.05 35.55, -75.95 35.55, -75.95 3...</td>\n",
       "    </tr>\n",
       "    <tr>\n",
       "      <th>1718449</th>\n",
       "      <td>NC</td>\n",
       "      <td>27810.0</td>\n",
       "      <td>37095.0</td>\n",
       "      <td>3.709592e+10</td>\n",
       "      <td>370959201001</td>\n",
       "      <td>35.6</td>\n",
       "      <td>-76.4</td>\n",
       "      <td>2003</td>\n",
       "      <td>2000</td>\n",
       "      <td>POLYGON ((-76.45000 35.55000, -76.35000 35.550...</td>\n",
       "      <td>370959801002</td>\n",
       "      <td>POLYGON ((-76.53600399999999 35.58233699999999...</td>\n",
       "      <td>POLYGON ((-76.45 35.65, -76.35000000000001 35....</td>\n",
       "    </tr>\n",
       "    <tr>\n",
       "      <th>1721394</th>\n",
       "      <td>NC</td>\n",
       "      <td>NaN</td>\n",
       "      <td>37095.0</td>\n",
       "      <td>3.709592e+10</td>\n",
       "      <td>370959201003</td>\n",
       "      <td>35.5</td>\n",
       "      <td>-76.0</td>\n",
       "      <td>2003</td>\n",
       "      <td>2000</td>\n",
       "      <td>POLYGON ((-76.05000 35.45000, -75.95000 35.450...</td>\n",
       "      <td>370959801001</td>\n",
       "      <td>POLYGON ((-76.211888 35.46288299999999, -76.21...</td>\n",
       "      <td>POLYGON ((-76.05 35.55, -75.95 35.55, -75.95 3...</td>\n",
       "    </tr>\n",
       "    <tr>\n",
       "      <th>2364030</th>\n",
       "      <td>NC</td>\n",
       "      <td>27824.0</td>\n",
       "      <td>37095.0</td>\n",
       "      <td>3.709592e+10</td>\n",
       "      <td>370959201003</td>\n",
       "      <td>35.5</td>\n",
       "      <td>-76.0</td>\n",
       "      <td>2008</td>\n",
       "      <td>2000</td>\n",
       "      <td>POLYGON ((-76.05000 35.45000, -75.95000 35.450...</td>\n",
       "      <td>370959801001</td>\n",
       "      <td>POLYGON ((-76.211888 35.46288299999999, -76.21...</td>\n",
       "      <td>POLYGON ((-76.05 35.55, -75.95 35.55, -75.95 3...</td>\n",
       "    </tr>\n",
       "  </tbody>\n",
       "</table>\n",
       "</div>"
      ],
      "text/plain": [
       "        state  reportedZipCode  countyCode   censusTract censusBlockGroupFips  \\\n",
       "5407       NC          27978.0     37055.0  3.705597e+10         370559705011   \n",
       "14690      NC          27824.0     37095.0  3.709592e+10         370959201003   \n",
       "241614     NC          27978.0     37055.0  3.705597e+10         370559705011   \n",
       "403717     NC          27978.0     37055.0  3.705597e+10         370559705011   \n",
       "403718     NC          27978.0     37055.0  3.705597e+10         370559705011   \n",
       "550378     NC          27824.0     37095.0  3.709592e+10         370959201003   \n",
       "554301     NC          27978.0     37055.0  3.705597e+10         370559705011   \n",
       "624424     NC          27824.0     37095.0  3.709592e+10         370959201003   \n",
       "625303     NC          27824.0     37095.0  3.709592e+10         370959201003   \n",
       "626412     NC          27824.0     37095.0  3.709592e+10         370959201003   \n",
       "626651     NC          27824.0     37095.0  3.709592e+10         370959201003   \n",
       "627693     NC          27826.0     37095.0  3.709592e+10         370959201003   \n",
       "630871     NC          27824.0     37095.0  3.709592e+10         370959201003   \n",
       "768881     NC          27824.0     37095.0  3.709592e+10         370959201003   \n",
       "1718449    NC          27810.0     37095.0  3.709592e+10         370959201001   \n",
       "1721394    NC              NaN     37095.0  3.709592e+10         370959201003   \n",
       "2364030    NC          27824.0     37095.0  3.709592e+10         370959201003   \n",
       "\n",
       "         latitude  longitude  yearOfLoss  yearOfLoss_1980_2020  \\\n",
       "5407         35.7      -75.7        2003                  2000   \n",
       "14690        35.5      -76.0        2003                  2000   \n",
       "241614       35.7      -75.7        2004                  2000   \n",
       "403717       35.7      -75.7        2008                  2000   \n",
       "403718       35.7      -75.7        2009                  2000   \n",
       "550378       35.5      -76.0        2007                  2000   \n",
       "554301       35.7      -75.8        2003                  2000   \n",
       "624424       35.5      -76.1        2003                  2000   \n",
       "625303       35.5      -76.0        2004                  2000   \n",
       "626412       35.6      -76.1        2003                  2000   \n",
       "626651       35.6      -76.0        2003                  2000   \n",
       "627693       35.6      -76.1        2003                  2000   \n",
       "630871       35.5      -76.0        2009                  2000   \n",
       "768881       35.5      -76.0        2006                  2000   \n",
       "1718449      35.6      -76.4        2003                  2000   \n",
       "1721394      35.5      -76.0        2003                  2000   \n",
       "2364030      35.5      -76.0        2008                  2000   \n",
       "\n",
       "                                         geometry_lat_long  \\\n",
       "5407     POLYGON ((-75.75000 35.65000, -75.65000 35.650...   \n",
       "14690    POLYGON ((-76.05000 35.45000, -75.95000 35.450...   \n",
       "241614   POLYGON ((-75.75000 35.65000, -75.65000 35.650...   \n",
       "403717   POLYGON ((-75.75000 35.65000, -75.65000 35.650...   \n",
       "403718   POLYGON ((-75.75000 35.65000, -75.65000 35.650...   \n",
       "550378   POLYGON ((-76.05000 35.45000, -75.95000 35.450...   \n",
       "554301   POLYGON ((-75.85000 35.65000, -75.75000 35.650...   \n",
       "624424   POLYGON ((-76.15000 35.45000, -76.05000 35.450...   \n",
       "625303   POLYGON ((-76.05000 35.45000, -75.95000 35.450...   \n",
       "626412   POLYGON ((-76.15000 35.55000, -76.05000 35.550...   \n",
       "626651   POLYGON ((-76.05000 35.55000, -75.95000 35.550...   \n",
       "627693   POLYGON ((-76.15000 35.55000, -76.05000 35.550...   \n",
       "630871   POLYGON ((-76.05000 35.45000, -75.95000 35.450...   \n",
       "768881   POLYGON ((-76.05000 35.45000, -75.95000 35.450...   \n",
       "1718449  POLYGON ((-76.45000 35.55000, -76.35000 35.550...   \n",
       "1721394  POLYGON ((-76.05000 35.45000, -75.95000 35.450...   \n",
       "2364030  POLYGON ((-76.05000 35.45000, -75.95000 35.450...   \n",
       "\n",
       "        MATCHED_censusBlockGroupFips  \\\n",
       "5407                    370559705004   \n",
       "14690                   370959801001   \n",
       "241614                  370559705004   \n",
       "403717                  370559705004   \n",
       "403718                  370559705004   \n",
       "550378                  370959801001   \n",
       "554301                  370559705004   \n",
       "624424                  370959801001   \n",
       "625303                  370959801001   \n",
       "626412                  370959801001   \n",
       "626651                  370959801001   \n",
       "627693                  370959801001   \n",
       "630871                  370959801001   \n",
       "768881                  370959801001   \n",
       "1718449                 370959801002   \n",
       "1721394                 370959801001   \n",
       "2364030                 370959801001   \n",
       "\n",
       "                                               geometry_BG  \\\n",
       "5407     POLYGON ((-75.59184199999999 35.758117, -75.59...   \n",
       "14690    POLYGON ((-76.211888 35.46288299999999, -76.21...   \n",
       "241614   POLYGON ((-75.59184199999999 35.758117, -75.59...   \n",
       "403717   POLYGON ((-75.59184199999999 35.758117, -75.59...   \n",
       "403718   POLYGON ((-75.59184199999999 35.758117, -75.59...   \n",
       "550378   POLYGON ((-76.211888 35.46288299999999, -76.21...   \n",
       "554301   POLYGON ((-75.59184199999999 35.758117, -75.59...   \n",
       "624424   POLYGON ((-76.211888 35.46288299999999, -76.21...   \n",
       "625303   POLYGON ((-76.211888 35.46288299999999, -76.21...   \n",
       "626412   POLYGON ((-76.211888 35.46288299999999, -76.21...   \n",
       "626651   POLYGON ((-76.211888 35.46288299999999, -76.21...   \n",
       "627693   POLYGON ((-76.211888 35.46288299999999, -76.21...   \n",
       "630871   POLYGON ((-76.211888 35.46288299999999, -76.21...   \n",
       "768881   POLYGON ((-76.211888 35.46288299999999, -76.21...   \n",
       "1718449  POLYGON ((-76.53600399999999 35.58233699999999...   \n",
       "1721394  POLYGON ((-76.211888 35.46288299999999, -76.21...   \n",
       "2364030  POLYGON ((-76.211888 35.46288299999999, -76.21...   \n",
       "\n",
       "                                              new_geometry  \n",
       "5407     POLYGON ((-75.75 35.75, -75.65 35.75, -75.65 3...  \n",
       "14690    POLYGON ((-76.05 35.55, -75.95 35.55, -75.95 3...  \n",
       "241614   POLYGON ((-75.75 35.75, -75.65 35.75, -75.65 3...  \n",
       "403717   POLYGON ((-75.75 35.75, -75.65 35.75, -75.65 3...  \n",
       "403718   POLYGON ((-75.75 35.75, -75.65 35.75, -75.65 3...  \n",
       "550378   POLYGON ((-76.05 35.55, -75.95 35.55, -75.95 3...  \n",
       "554301   POLYGON ((-75.85 35.75, -75.75 35.75, -75.75 3...  \n",
       "624424   POLYGON ((-76.14999999999999 35.55, -76.05 35....  \n",
       "625303   POLYGON ((-76.05 35.55, -75.95 35.55, -75.95 3...  \n",
       "626412   POLYGON ((-76.14999999999999 35.65, -76.05 35....  \n",
       "626651   POLYGON ((-76.05 35.65, -75.95 35.65, -75.95 3...  \n",
       "627693   POLYGON ((-76.14999999999999 35.65, -76.05 35....  \n",
       "630871   POLYGON ((-76.05 35.55, -75.95 35.55, -75.95 3...  \n",
       "768881   POLYGON ((-76.05 35.55, -75.95 35.55, -75.95 3...  \n",
       "1718449  POLYGON ((-76.45 35.65, -76.35000000000001 35....  \n",
       "1721394  POLYGON ((-76.05 35.55, -75.95 35.55, -75.95 3...  \n",
       "2364030  POLYGON ((-76.05 35.55, -75.95 35.55, -75.95 3...  "
      ]
     },
     "execution_count": 66,
     "metadata": {},
     "output_type": "execute_result"
    }
   ],
   "source": [
    "filtered_df[filtered_df['censusBlockGroupFips']!=filtered_df['MATCHED_censusBlockGroupFips']]"
   ]
  },
  {
   "cell_type": "code",
   "execution_count": 67,
   "id": "14dd3b54-ca1a-4171-a879-95a3621ae85c",
   "metadata": {
    "tags": []
   },
   "outputs": [],
   "source": [
    "filtered_df.to_csv('C:/Users/Asus/Box/Flood Damage PredictionProject/Dataset/BG_analysis.csv')"
   ]
  },
  {
   "cell_type": "code",
   "execution_count": null,
   "id": "91150c45-7173-45bd-8536-54e3d66c32e4",
   "metadata": {},
   "outputs": [],
   "source": []
  },
  {
   "cell_type": "markdown",
   "id": "95a8ec61-3bc8-490a-a28d-55824951dedd",
   "metadata": {},
   "source": [
    "#### Checking for 1990"
   ]
  },
  {
   "cell_type": "code",
   "execution_count": null,
   "id": "6ce71823-0cc9-4e05-894b-d8d6d6de7ffb",
   "metadata": {},
   "outputs": [],
   "source": [
    "# df_geographic_unique1990 = df_geographic_unique[df_geographic_unique['yearOfLoss_1980_2020']==1990]"
   ]
  },
  {
   "cell_type": "code",
   "execution_count": null,
   "id": "7845d84d-1c48-4bbf-8e03-e3619632c625",
   "metadata": {},
   "outputs": [],
   "source": [
    "df_geographic_unique1990= df_geographic_unique[(df_geographic_unique['yearOfLoss_1980_2020']==1990) & (df_geographic_unique['state']=='NC')]"
   ]
  },
  {
   "cell_type": "code",
   "execution_count": null,
   "id": "4a10afff-3998-4435-bdba-0171d4758e0d",
   "metadata": {},
   "outputs": [],
   "source": [
    "# Setting the multi-index on lat_long_df\n",
    "lat_long_df.set_index(['latitude', 'longitude'], inplace=True)\n",
    "\n",
    "# Mapping the values\n",
    "df_geographic_unique1990['geometry_lat_long'] = df_geographic_unique1990.set_index(['latitude', 'longitude']).index.map(lat_long_df['geometry_lat_long'])\n",
    "\n",
    "# Resetting the index of lat_long_df (optional, but good practice)\n",
    "lat_long_df.reset_index(inplace=True)"
   ]
  },
  {
   "cell_type": "code",
   "execution_count": null,
   "id": "5ce786aa-a798-45af-b52e-ac7f72a5da52",
   "metadata": {},
   "outputs": [],
   "source": [
    "# Create an empty GeoDataFrame to store the intersection results\n",
    "new_unit_df1990 = gpd.GeoDataFrame(columns=['reportedZipCode', 'countyCode', 'censusTract',\n",
    "                                       'censusBlockGroupFips', 'MATCHED_censusBlockGroupFips', 'latitude', 'longitude', 'year', 'state', 'geometry_BG',\n",
    "                                        'geometry_lat_long', 'new_geometry'])\n",
    "\n",
    "# Iterate through each row in BG_df_2000 and each row in lat_long_df to find intersections\n",
    "for idx_unit_data, row_unit_data in df_geographic_unique2000.iterrows():\n",
    "    for idx_unit_shape, row_unit_shape in BG_list_df2000.iterrows():\n",
    "        year = row_unit_data['yearOfLoss']\n",
    "        year2 = row_unit_data['yearOfLoss_1980_2020']\n",
    "        bg_id = row_unit_data['censusBlockGroupFips']\n",
    "        bg_id2 = row_unit_shape['GEOID']\n",
    "        bg_geometry = row_unit_shape['geometry']\n",
    "        tract_id = row_unit_data['censusTract']\n",
    "        county_id = row_unit_data['countyCode']\n",
    "        state = row_unit_data['state']\n",
    "        lat_long_geometry = row_unit_data['geometry_lat_long']\n",
    "        lat = row_unit_data['latitude']\n",
    "        long = row_unit_data['longitude']\n",
    "        zipcode = row_unit_data['reportedZipCode']\n",
    "    \n",
    "        # Compute intersection geometry\n",
    "        intersection_geometry = bg_geometry.intersection(lat_long_geometry)\n",
    "    \n",
    "        new_unit_df1990 = pd.concat([new_unit_df1990, pd.DataFrame({\n",
    "            'reportedZipCode': [zipcode],\n",
    "            'countyCode': [county_id],\n",
    "            'censusTract': [tract_id],\n",
    "            'censusBlockGroupFips': [bg_id],\n",
    "            'MATCHED_censusBlockGroupFips': [bg_id2],\n",
    "            'latitude': [lat],\n",
    "            'longitude': [long],\n",
    "            'year': [year],\n",
    "            'decade': [year2],\n",
    "            'state': [state],\n",
    "            'geometry_BG': [bg_geometry],\n",
    "            'geometry_lat_long': [lat_long_geometry],\n",
    "            'new_geometry': [intersection_geometry]\n",
    "        })], ignore_index=True)"
   ]
  },
  {
   "cell_type": "code",
   "execution_count": null,
   "id": "7acb96f5-8994-46d5-b44a-fdcc5d48b6b0",
   "metadata": {},
   "outputs": [],
   "source": []
  },
  {
   "cell_type": "code",
   "execution_count": null,
   "id": "569f70bb-4e75-45aa-b332-abb56e4248af",
   "metadata": {},
   "outputs": [],
   "source": []
  }
 ],
 "metadata": {
  "kernelspec": {
   "display_name": "Python 3 (ipykernel)",
   "language": "python",
   "name": "python3"
  },
  "language_info": {
   "codemirror_mode": {
    "name": "ipython",
    "version": 3
   },
   "file_extension": ".py",
   "mimetype": "text/x-python",
   "name": "python",
   "nbconvert_exporter": "python",
   "pygments_lexer": "ipython3",
   "version": "3.8.17"
  }
 },
 "nbformat": 4,
 "nbformat_minor": 5
}
