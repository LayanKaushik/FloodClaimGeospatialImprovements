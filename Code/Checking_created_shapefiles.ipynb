{
 "cells": [
  {
   "cell_type": "code",
   "execution_count": 1,
   "id": "38c6b76f-3d83-479e-a35e-3579dd6a507b",
   "metadata": {
    "tags": []
   },
   "outputs": [],
   "source": [
    "import pandas as pd\n",
    "import numpy as np\n",
    "import matplotlib.pyplot as plt\n",
    "import pyarrow as pa\n",
    "import pyarrow.parquet as pq\n",
    "import geopandas as gpd\n",
    "import seaborn as sns\n",
    "\n",
    "#Packages\n",
    "import pandas as pd\n",
    "import matplotlib.pyplot as plt\n",
    "import matplotlib.ticker as mtick\n",
    "import numpy as np\n",
    "from scipy import stats\n",
    "pd.set_option('display.max_columns', None)\n",
    "\n",
    "from scipy.stats import skew, kurtosis\n",
    "\n",
    "import pygris\n",
    "import shapely"
   ]
  },
  {
   "cell_type": "code",
   "execution_count": 2,
   "id": "df80c61c-eaa6-458b-a891-52919c4bf4f5",
   "metadata": {
    "tags": []
   },
   "outputs": [],
   "source": [
    "df = pd.read_parquet(\"C:/Users/Asus/Box/Flood Damage PredictionProject/Dataset/FimaNfipClaims.parquet.gzip\")"
   ]
  },
  {
   "cell_type": "code",
   "execution_count": 43,
   "id": "d979a1f2-d151-47cf-bc2f-48d667967e8c",
   "metadata": {
    "tags": []
   },
   "outputs": [],
   "source": [
    "df_2000 = df[df['yearOfLoss']>2000]"
   ]
  },
  {
   "cell_type": "code",
   "execution_count": 44,
   "id": "efcfb43d-67c5-4a5c-86d6-efd270904e4c",
   "metadata": {
    "tags": []
   },
   "outputs": [],
   "source": [
    "#Zipcode list\n",
    "\n",
    "list_zipcode = df_2000['reportedZipCode'].dropna().drop_duplicates().astype(int).astype(str).tolist()\n",
    "\n",
    "# add preceding 0 to make 4-digit zip codes into 5-digit\n",
    "list_zipcode = [zipcode.zfill(5) for zipcode in list_zipcode]"
   ]
  },
  {
   "cell_type": "code",
   "execution_count": 5,
   "id": "ab29413f-7327-4d96-808e-8d05de9c7eb3",
   "metadata": {
    "tags": []
   },
   "outputs": [],
   "source": [
    "#CensusBG list\n",
    "\n",
    "list_censusBG = df['censusBlockGroupFips'].dropna().drop_duplicates().tolist()\n",
    "\n",
    "list_censusBG = [str(int(float(i))) for i in list_censusBG]\n",
    "\n",
    "# add preceding 0 to make 4-digit zip codes into 5-digit\n",
    "list_censusBG = [censusBG.zfill(12) for censusBG in list_censusBG]"
   ]
  },
  {
   "cell_type": "markdown",
   "id": "2bd09923-9cf3-44d3-864d-bd6ec79c4a1f",
   "metadata": {},
   "source": [
    "## BlockGroup shapefile analysis"
   ]
  },
  {
   "cell_type": "code",
   "execution_count": 6,
   "id": "e8bed775-d9f7-4355-bd48-fdae4939f4cc",
   "metadata": {
    "tags": []
   },
   "outputs": [],
   "source": [
    "chunk_size = 25000  # adjust based on your system's capabilities\n",
    "chunks = [x for x in range(0, 400000, chunk_size)]\n",
    "\n",
    "gdf_list = []\n",
    "\n",
    "for start in chunks:\n",
    "    end = start + chunk_size\n",
    "    temp_df = pd.read_parquet(f\"C:/Users/Asus/Box/Flood Damage PredictionProject/Dataset/BG_geometry_{start}_{end}.parquet.gzip\")\n",
    "    gdf_read = gpd.GeoDataFrame(temp_df, geometry=temp_df['geometry'].apply(lambda x: shapely.wkt.loads(x)))\n",
    "    gdf_list.append(gdf_read)\n",
    "\n",
    "# Concatenate all GeoDataFrames in the list into a single GeoDataFrame\n",
    "merged_gdf = pd.concat(gdf_list, ignore_index=True)"
   ]
  },
  {
   "cell_type": "code",
   "execution_count": 7,
   "id": "1055294c-7485-49e1-9046-42f36ac244b0",
   "metadata": {
    "tags": []
   },
   "outputs": [
    {
     "data": {
      "text/html": [
       "<div>\n",
       "<style scoped>\n",
       "    .dataframe tbody tr th:only-of-type {\n",
       "        vertical-align: middle;\n",
       "    }\n",
       "\n",
       "    .dataframe tbody tr th {\n",
       "        vertical-align: top;\n",
       "    }\n",
       "\n",
       "    .dataframe thead th {\n",
       "        text-align: right;\n",
       "    }\n",
       "</style>\n",
       "<table border=\"1\" class=\"dataframe\">\n",
       "  <thead>\n",
       "    <tr style=\"text-align: right;\">\n",
       "      <th></th>\n",
       "      <th>GEOID</th>\n",
       "      <th>geometry</th>\n",
       "      <th>year</th>\n",
       "    </tr>\n",
       "  </thead>\n",
       "  <tbody>\n",
       "    <tr>\n",
       "      <th>0</th>\n",
       "      <td>020900009002</td>\n",
       "      <td>POLYGON ((-147.96856 64.77841, -147.96852 64.7...</td>\n",
       "      <td>2021</td>\n",
       "    </tr>\n",
       "    <tr>\n",
       "      <th>1</th>\n",
       "      <td>021300002002</td>\n",
       "      <td>POLYGON ((-131.70187 55.38841, -131.70029 55.3...</td>\n",
       "      <td>2021</td>\n",
       "    </tr>\n",
       "    <tr>\n",
       "      <th>2</th>\n",
       "      <td>020200021003</td>\n",
       "      <td>POLYGON ((-149.92843 61.18308, -149.92817 61.1...</td>\n",
       "      <td>2021</td>\n",
       "    </tr>\n",
       "    <tr>\n",
       "      <th>3</th>\n",
       "      <td>020200017022</td>\n",
       "      <td>POLYGON ((-149.76341 61.19541, -149.76341 61.1...</td>\n",
       "      <td>2021</td>\n",
       "    </tr>\n",
       "    <tr>\n",
       "      <th>4</th>\n",
       "      <td>021300003003</td>\n",
       "      <td>POLYGON ((-131.64374 55.33651, -131.64326 55.3...</td>\n",
       "      <td>2021</td>\n",
       "    </tr>\n",
       "  </tbody>\n",
       "</table>\n",
       "</div>"
      ],
      "text/plain": [
       "          GEOID                                           geometry  year\n",
       "0  020900009002  POLYGON ((-147.96856 64.77841, -147.96852 64.7...  2021\n",
       "1  021300002002  POLYGON ((-131.70187 55.38841, -131.70029 55.3...  2021\n",
       "2  020200021003  POLYGON ((-149.92843 61.18308, -149.92817 61.1...  2021\n",
       "3  020200017022  POLYGON ((-149.76341 61.19541, -149.76341 61.1...  2021\n",
       "4  021300003003  POLYGON ((-131.64374 55.33651, -131.64326 55.3...  2021"
      ]
     },
     "execution_count": 7,
     "metadata": {},
     "output_type": "execute_result"
    }
   ],
   "source": [
    "merged_gdf.head()"
   ]
  },
  {
   "cell_type": "code",
   "execution_count": 8,
   "id": "e18aa04e-a9d1-470f-92fe-ac2b116f877e",
   "metadata": {
    "tags": []
   },
   "outputs": [],
   "source": [
    "df_test = merged_gdf['GEOID'].value_counts().reset_index()\n",
    "df_test.columns = ['GEOID', 'count']"
   ]
  },
  {
   "cell_type": "code",
   "execution_count": 9,
   "id": "33468d0f-de52-4ddb-b923-35260afe0b63",
   "metadata": {
    "tags": []
   },
   "outputs": [
    {
     "data": {
      "text/plain": [
       "GEOID    37\n",
       "count    37\n",
       "dtype: int64"
      ]
     },
     "execution_count": 9,
     "metadata": {},
     "output_type": "execute_result"
    }
   ],
   "source": [
    "df_test[df_test['count'] >= 6].count()"
   ]
  },
  {
   "cell_type": "code",
   "execution_count": 10,
   "id": "1af63c20-f80f-45df-9eea-a5f62fd93d0e",
   "metadata": {
    "tags": []
   },
   "outputs": [
    {
     "data": {
      "text/html": [
       "<div>\n",
       "<style scoped>\n",
       "    .dataframe tbody tr th:only-of-type {\n",
       "        vertical-align: middle;\n",
       "    }\n",
       "\n",
       "    .dataframe tbody tr th {\n",
       "        vertical-align: top;\n",
       "    }\n",
       "\n",
       "    .dataframe thead th {\n",
       "        text-align: right;\n",
       "    }\n",
       "</style>\n",
       "<table border=\"1\" class=\"dataframe\">\n",
       "  <thead>\n",
       "    <tr style=\"text-align: right;\">\n",
       "      <th></th>\n",
       "      <th>GEOID</th>\n",
       "      <th>count</th>\n",
       "    </tr>\n",
       "  </thead>\n",
       "  <tbody>\n",
       "    <tr>\n",
       "      <th>0</th>\n",
       "      <td>780309604001</td>\n",
       "      <td>7</td>\n",
       "    </tr>\n",
       "    <tr>\n",
       "      <th>1</th>\n",
       "      <td>130390102003</td>\n",
       "      <td>7</td>\n",
       "    </tr>\n",
       "    <tr>\n",
       "      <th>2</th>\n",
       "      <td>530299718001</td>\n",
       "      <td>7</td>\n",
       "    </tr>\n",
       "    <tr>\n",
       "      <th>3</th>\n",
       "      <td>780309605004</td>\n",
       "      <td>7</td>\n",
       "    </tr>\n",
       "    <tr>\n",
       "      <th>4</th>\n",
       "      <td>530579501001</td>\n",
       "      <td>7</td>\n",
       "    </tr>\n",
       "    <tr>\n",
       "      <th>...</th>\n",
       "      <td>...</td>\n",
       "      <td>...</td>\n",
       "    </tr>\n",
       "    <tr>\n",
       "      <th>106776</th>\n",
       "      <td>060470009032</td>\n",
       "      <td>1</td>\n",
       "    </tr>\n",
       "    <tr>\n",
       "      <th>106777</th>\n",
       "      <td>060470016031</td>\n",
       "      <td>1</td>\n",
       "    </tr>\n",
       "    <tr>\n",
       "      <th>106778</th>\n",
       "      <td>060650418033</td>\n",
       "      <td>1</td>\n",
       "    </tr>\n",
       "    <tr>\n",
       "      <th>106779</th>\n",
       "      <td>060371438011</td>\n",
       "      <td>1</td>\n",
       "    </tr>\n",
       "    <tr>\n",
       "      <th>106780</th>\n",
       "      <td>120850003005</td>\n",
       "      <td>1</td>\n",
       "    </tr>\n",
       "  </tbody>\n",
       "</table>\n",
       "<p>106781 rows × 2 columns</p>\n",
       "</div>"
      ],
      "text/plain": [
       "               GEOID  count\n",
       "0       780309604001      7\n",
       "1       130390102003      7\n",
       "2       530299718001      7\n",
       "3       780309605004      7\n",
       "4       530579501001      7\n",
       "...              ...    ...\n",
       "106776  060470009032      1\n",
       "106777  060470016031      1\n",
       "106778  060650418033      1\n",
       "106779  060371438011      1\n",
       "106780  120850003005      1\n",
       "\n",
       "[106781 rows x 2 columns]"
      ]
     },
     "execution_count": 10,
     "metadata": {},
     "output_type": "execute_result"
    }
   ],
   "source": [
    "df_test"
   ]
  },
  {
   "cell_type": "code",
   "execution_count": 105,
   "id": "17ddc682-43d8-4523-8264-e58871eca44b",
   "metadata": {
    "tags": []
   },
   "outputs": [],
   "source": [
    "list_censusBG_3 = merged_gdf['GEOID'].dropna().drop_duplicates().tolist()"
   ]
  },
  {
   "cell_type": "code",
   "execution_count": 104,
   "id": "d18ee41b-ab9a-4000-82d4-ecbff3fea40f",
   "metadata": {},
   "outputs": [],
   "source": [
    "#CensusBG list for NC\n",
    "\n",
    "list_censusBG = df['censusBlockGroupFips'].dropna().drop_duplicates().tolist()\n",
    "\n",
    "list_censusBG = [str(int(float(i))) for i in list_censusBG]\n",
    "\n",
    "# add preceding 0 to make 11-digit BG ids into 12-digits\n",
    "list_censusBG = [censusBG.zfill(12) for censusBG in list_censusBG]"
   ]
  },
  {
   "cell_type": "code",
   "execution_count": 106,
   "id": "a6e668ce-887d-46a6-8760-904c79cb6469",
   "metadata": {},
   "outputs": [
    {
     "name": "stdout",
     "output_type": "stream",
     "text": [
      "Number of common BG: 106781\n"
     ]
    }
   ],
   "source": [
    "# Convert both lists to sets\n",
    "set_bg = set(list_censusBG)\n",
    "set_bg_2 = set(list_censusBG_3)\n",
    "\n",
    "# Find the intersection of the two sets\n",
    "common_bg = set_bg.intersection(set_bg_2)\n",
    "\n",
    "# Print the number of common zip codes\n",
    "print(\"Number of common BG:\", len(common_bg))"
   ]
  },
  {
   "cell_type": "code",
   "execution_count": 107,
   "id": "ba564fab-a918-4982-8546-c8c1321ac43d",
   "metadata": {},
   "outputs": [
    {
     "data": {
      "text/plain": [
       "0.999953177382803"
      ]
     },
     "execution_count": 107,
     "metadata": {},
     "output_type": "execute_result"
    }
   ],
   "source": [
    "len(common_bg)/len(list_censusBG)"
   ]
  },
  {
   "cell_type": "code",
   "execution_count": 112,
   "id": "e626b13a-a828-4079-87d1-034b858bb62a",
   "metadata": {
    "tags": []
   },
   "outputs": [
    {
     "name": "stdout",
     "output_type": "stream",
     "text": [
      "CensusBG values not in common: ['420034961020', '360594169000', '390230000000', '120853819005', '482013428000']\n"
     ]
    }
   ],
   "source": [
    "# Assuming you have defined list_censusBG and common_bg\n",
    "list_BG_not_found = set(list_censusBG) - common_bg\n",
    "list_BG_not_found = list(list_BG_not_found)\n",
    "\n",
    "print(\"CensusBG values not in common:\", list_BG_not_found)"
   ]
  },
  {
   "cell_type": "code",
   "execution_count": 122,
   "id": "249647fa-141d-485d-840e-995fe6939b13",
   "metadata": {
    "tags": []
   },
   "outputs": [],
   "source": [
    "df_BG_not_found = df[['censusBlockGroupFips', 'id']]"
   ]
  },
  {
   "cell_type": "code",
   "execution_count": 125,
   "id": "cad661c1-536b-4455-b9e7-920a472578c6",
   "metadata": {
    "tags": []
   },
   "outputs": [
    {
     "name": "stderr",
     "output_type": "stream",
     "text": [
      "C:\\Users\\Asus\\AppData\\Local\\Temp\\ipykernel_17020\\905567320.py:4: SettingWithCopyWarning: \n",
      "A value is trying to be set on a copy of a slice from a DataFrame.\n",
      "Try using .loc[row_indexer,col_indexer] = value instead\n",
      "\n",
      "See the caveats in the documentation: https://pandas.pydata.org/pandas-docs/stable/user_guide/indexing.html#returning-a-view-versus-a-copy\n",
      "  df_cleaned['censusBlockGroupFips'] = [str(int(float(i))) for i in df_cleaned['censusBlockGroupFips']]\n",
      "C:\\Users\\Asus\\AppData\\Local\\Temp\\ipykernel_17020\\905567320.py:5: SettingWithCopyWarning: \n",
      "A value is trying to be set on a copy of a slice from a DataFrame.\n",
      "Try using .loc[row_indexer,col_indexer] = value instead\n",
      "\n",
      "See the caveats in the documentation: https://pandas.pydata.org/pandas-docs/stable/user_guide/indexing.html#returning-a-view-versus-a-copy\n",
      "  df_cleaned['censusBlockGroupFips'] = [censusBG.zfill(12) for censusBG in df_cleaned['censusBlockGroupFips']]\n"
     ]
    }
   ],
   "source": [
    "df_cleaned = df_BG_not_found.dropna(subset=['censusBlockGroupFips'])\n",
    "\n",
    "# Now you can proceed with the remaining operations on df_cleaned\n",
    "df_cleaned['censusBlockGroupFips'] = [str(int(float(i))) for i in df_cleaned['censusBlockGroupFips']]\n",
    "df_cleaned['censusBlockGroupFips'] = [censusBG.zfill(12) for censusBG in df_cleaned['censusBlockGroupFips']]"
   ]
  },
  {
   "cell_type": "code",
   "execution_count": 126,
   "id": "0c16c5aa-7089-45ce-a5fb-602639bed0a6",
   "metadata": {
    "tags": []
   },
   "outputs": [
    {
     "data": {
      "text/plain": [
       "8"
      ]
     },
     "execution_count": 126,
     "metadata": {},
     "output_type": "execute_result"
    }
   ],
   "source": [
    "df_cleaned[df_cleaned['censusBlockGroupFips'].isin(list_BG_not_found)].shape[0]"
   ]
  },
  {
   "cell_type": "markdown",
   "id": "a2fbea23-07cb-40a3-9b61-5041e776b714",
   "metadata": {},
   "source": [
    "## Zipcode shapefile analysis (until 2000)"
   ]
  },
  {
   "cell_type": "code",
   "execution_count": 11,
   "id": "a046ad13-c7d0-4795-917e-97eff3b0cb49",
   "metadata": {
    "tags": []
   },
   "outputs": [],
   "source": [
    "chunk_size = 25000  # adjust based on your system's capabilities\n",
    "chunks = [x for x in range(0, 100000, chunk_size)]\n",
    "\n",
    "gdf_list = []\n",
    "\n",
    "for start in chunks:\n",
    "    end = start + chunk_size\n",
    "    temp_df = pd.read_parquet(f\"C:/Users/Asus/Box/Flood Damage PredictionProject/Dataset/zipcode_geometry_{start}_{end}.parquet.gzip\")\n",
    "    gdf_read = gpd.GeoDataFrame(temp_df, geometry=temp_df['geometry'].apply(lambda x: shapely.wkt.loads(x)))\n",
    "    gdf_list.append(gdf_read)\n",
    "    \n",
    "# Concatenate all GeoDataFrames in the list into a single GeoDataFrame\n",
    "merged_gdf_zipcode = pd.concat(gdf_list, ignore_index=True)"
   ]
  },
  {
   "cell_type": "code",
   "execution_count": 12,
   "id": "f9c6b620-9df6-4b65-8850-0e9017f02451",
   "metadata": {
    "tags": []
   },
   "outputs": [
    {
     "data": {
      "text/plain": [
       "90165"
      ]
     },
     "execution_count": 12,
     "metadata": {},
     "output_type": "execute_result"
    }
   ],
   "source": [
    "merged_gdf_zipcode.shape[0]"
   ]
  },
  {
   "cell_type": "code",
   "execution_count": 13,
   "id": "cf143440-611d-4c0d-9248-6d32c972a7bb",
   "metadata": {
    "tags": []
   },
   "outputs": [
    {
     "data": {
      "text/html": [
       "<div>\n",
       "<style scoped>\n",
       "    .dataframe tbody tr th:only-of-type {\n",
       "        vertical-align: middle;\n",
       "    }\n",
       "\n",
       "    .dataframe tbody tr th {\n",
       "        vertical-align: top;\n",
       "    }\n",
       "\n",
       "    .dataframe thead th {\n",
       "        text-align: right;\n",
       "    }\n",
       "</style>\n",
       "<table border=\"1\" class=\"dataframe\">\n",
       "  <thead>\n",
       "    <tr style=\"text-align: right;\">\n",
       "      <th></th>\n",
       "      <th>ZIPcode</th>\n",
       "      <th>geometry</th>\n",
       "      <th>year</th>\n",
       "    </tr>\n",
       "  </thead>\n",
       "  <tbody>\n",
       "    <tr>\n",
       "      <th>0</th>\n",
       "      <td>38739</td>\n",
       "      <td>MULTIPOLYGON (((-90.49925 34.05322, -90.49972 ...</td>\n",
       "      <td>2000</td>\n",
       "    </tr>\n",
       "    <tr>\n",
       "      <th>1</th>\n",
       "      <td>38767</td>\n",
       "      <td>POLYGON ((-90.76477 34.11951, -90.76698 34.119...</td>\n",
       "      <td>2000</td>\n",
       "    </tr>\n",
       "    <tr>\n",
       "      <th>2</th>\n",
       "      <td>38669</td>\n",
       "      <td>POLYGON ((-90.74081 34.18456, -90.74115 34.184...</td>\n",
       "      <td>2000</td>\n",
       "    </tr>\n",
       "    <tr>\n",
       "      <th>3</th>\n",
       "      <td>38630</td>\n",
       "      <td>MULTIPOLYGON (((-90.67205 34.25956, -90.67216 ...</td>\n",
       "      <td>2000</td>\n",
       "    </tr>\n",
       "    <tr>\n",
       "      <th>4</th>\n",
       "      <td>38639</td>\n",
       "      <td>POLYGON ((-90.45646 34.31975, -90.45676 34.319...</td>\n",
       "      <td>2000</td>\n",
       "    </tr>\n",
       "  </tbody>\n",
       "</table>\n",
       "</div>"
      ],
      "text/plain": [
       "  ZIPcode                                           geometry  year\n",
       "0   38739  MULTIPOLYGON (((-90.49925 34.05322, -90.49972 ...  2000\n",
       "1   38767  POLYGON ((-90.76477 34.11951, -90.76698 34.119...  2000\n",
       "2   38669  POLYGON ((-90.74081 34.18456, -90.74115 34.184...  2000\n",
       "3   38630  MULTIPOLYGON (((-90.67205 34.25956, -90.67216 ...  2000\n",
       "4   38639  POLYGON ((-90.45646 34.31975, -90.45676 34.319...  2000"
      ]
     },
     "execution_count": 13,
     "metadata": {},
     "output_type": "execute_result"
    }
   ],
   "source": [
    "merged_gdf_zipcode.head()"
   ]
  },
  {
   "cell_type": "code",
   "execution_count": 45,
   "id": "3cc8bcec-40a9-4561-b6ac-7c2f245db114",
   "metadata": {
    "tags": []
   },
   "outputs": [],
   "source": [
    "list_zip = merged_gdf_zipcode['ZIPcode'].dropna().drop_duplicates().astype(int).astype(str).tolist()\n",
    "\n",
    "list_zip = [zipcode.zfill(5) for zipcode in list_zip]"
   ]
  },
  {
   "cell_type": "code",
   "execution_count": 46,
   "id": "c4eccc5f-670e-4973-ab87-ea55fc79bad8",
   "metadata": {},
   "outputs": [],
   "source": [
    "list_zip_1 = list(set(list_zip))"
   ]
  },
  {
   "cell_type": "code",
   "execution_count": 47,
   "id": "f7200b66-b9a7-4d5b-95ed-f09aef7be00a",
   "metadata": {},
   "outputs": [
    {
     "name": "stdout",
     "output_type": "stream",
     "text": [
      "Number of common zip codes: 20236\n"
     ]
    }
   ],
   "source": [
    "set_zipcode = set(list_zipcode)\n",
    "set_zipcode_3 = set(list_zip_1)\n",
    "\n",
    "# Find the intersection of the two sets\n",
    "common_zipcodes = set_zipcode.intersection(set_zipcode_3)\n",
    "\n",
    "# Print the number of common zip codes\n",
    "print(\"Number of common zip codes:\", len(common_zipcodes))"
   ]
  },
  {
   "cell_type": "code",
   "execution_count": 48,
   "id": "070fe5fb-fb29-4bb3-aae2-9d2d6f070f74",
   "metadata": {
    "tags": []
   },
   "outputs": [
    {
     "data": {
      "text/plain": [
       "22849"
      ]
     },
     "execution_count": 48,
     "metadata": {},
     "output_type": "execute_result"
    }
   ],
   "source": [
    "len(set_zipcode_3)"
   ]
  },
  {
   "cell_type": "code",
   "execution_count": 49,
   "id": "38a09d20-35f6-4d92-9383-885a91b2e5a7",
   "metadata": {
    "tags": []
   },
   "outputs": [
    {
     "data": {
      "text/plain": [
       "21161"
      ]
     },
     "execution_count": 49,
     "metadata": {},
     "output_type": "execute_result"
    }
   ],
   "source": [
    "len(set_zipcode)"
   ]
  },
  {
   "cell_type": "code",
   "execution_count": 95,
   "id": "73867e95-a172-45b2-8020-035a4aac3714",
   "metadata": {
    "tags": []
   },
   "outputs": [
    {
     "data": {
      "text/plain": [
       "0.043712489957941525"
      ]
     },
     "execution_count": 95,
     "metadata": {},
     "output_type": "execute_result"
    }
   ],
   "source": [
    "1-len(common_zipcodes)/len(set_zipcode)"
   ]
  },
  {
   "cell_type": "code",
   "execution_count": 52,
   "id": "9f4efcec-f61e-491f-9445-3adc0e57c6ec",
   "metadata": {
    "tags": []
   },
   "outputs": [],
   "source": [
    "# Find the difference between set_zipcode and common_zipcodes\n",
    "zipcodes_not_in_common = set_zipcode - common_zipcodes\n",
    "\n",
    "# Convert the result back to a list\n",
    "list_zipcodes_not_in_common = list(zipcodes_not_in_common)"
   ]
  },
  {
   "cell_type": "code",
   "execution_count": 96,
   "id": "b77e8a06-ebe4-4073-96e1-607088a0541e",
   "metadata": {
    "tags": []
   },
   "outputs": [],
   "source": [
    "# Convert the list of zipcodes to a set for faster membership checking\n",
    "set_zipcodes_not_in_common = set(list_zipcodes_not_in_common)\n",
    "\n",
    "df_test = df_2000[['reportedZipCode', 'yearOfLoss']]"
   ]
  },
  {
   "cell_type": "code",
   "execution_count": 97,
   "id": "2e3fe537-ca49-4025-a813-2819ca6be721",
   "metadata": {
    "tags": []
   },
   "outputs": [
    {
     "name": "stderr",
     "output_type": "stream",
     "text": [
      "C:\\Users\\Asus\\AppData\\Local\\Temp\\ipykernel_17020\\957450463.py:1: SettingWithCopyWarning: \n",
      "A value is trying to be set on a copy of a slice from a DataFrame.\n",
      "Try using .loc[row_indexer,col_indexer] = value instead\n",
      "\n",
      "See the caveats in the documentation: https://pandas.pydata.org/pandas-docs/stable/user_guide/indexing.html#returning-a-view-versus-a-copy\n",
      "  df_test['reportedZipCode'] = df_test['reportedZipCode'].dropna().astype(int).astype(str)\n"
     ]
    }
   ],
   "source": [
    "df_test['reportedZipCode'] = df_test['reportedZipCode'].dropna().astype(int).astype(str)"
   ]
  },
  {
   "cell_type": "code",
   "execution_count": 100,
   "id": "8c136fa0-e704-460d-a41c-7722338d9473",
   "metadata": {
    "tags": []
   },
   "outputs": [],
   "source": [
    "year_list = df_test[df_test['reportedZipCode'].isin(zipcodes_not_in_common)]['yearOfLoss'].unique()"
   ]
  },
  {
   "cell_type": "code",
   "execution_count": 102,
   "id": "c50aa6ed-942e-43ae-a9dc-83548b367e62",
   "metadata": {
    "tags": []
   },
   "outputs": [
    {
     "data": {
      "text/plain": [
       "array([2005, 2012, 2004, 2003, 2006, 2011, 2013, 2009, 2017, 2008, 2001,\n",
       "       2015, 2016, 2018, 2002, 2007, 2010, 2014, 2019, 2020, 2021, 2022,\n",
       "       2023], dtype=int64)"
      ]
     },
     "execution_count": 102,
     "metadata": {},
     "output_type": "execute_result"
    }
   ],
   "source": [
    "year_list"
   ]
  },
  {
   "cell_type": "code",
   "execution_count": null,
   "id": "6074442a-392b-4a9e-9b98-e9285c917fe2",
   "metadata": {},
   "outputs": [],
   "source": []
  }
 ],
 "metadata": {
  "kernelspec": {
   "display_name": "Python 3 (ipykernel)",
   "language": "python",
   "name": "python3"
  },
  "language_info": {
   "codemirror_mode": {
    "name": "ipython",
    "version": 3
   },
   "file_extension": ".py",
   "mimetype": "text/x-python",
   "name": "python",
   "nbconvert_exporter": "python",
   "pygments_lexer": "ipython3",
   "version": "3.8.17"
  }
 },
 "nbformat": 4,
 "nbformat_minor": 5
}
