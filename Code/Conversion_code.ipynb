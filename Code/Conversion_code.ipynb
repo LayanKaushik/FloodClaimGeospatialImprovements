{
 "cells": [
  {
   "cell_type": "code",
   "execution_count": 1,
   "id": "2f4b7d3c-c18c-4444-86e8-47d49976bdbc",
   "metadata": {
    "tags": []
   },
   "outputs": [],
   "source": [
    "import pandas as pd\n",
    "import numpy as np\n",
    "import matplotlib.pyplot as plt\n",
    "import pyarrow as pa\n",
    "import pyarrow.parquet as pq\n",
    "import geopandas as gpd\n",
    "import seaborn as sns\n",
    "\n",
    "#Packages\n",
    "import matplotlib.ticker as mtick\n",
    "from scipy import stats\n",
    "pd.set_option('display.max_columns', None)\n",
    "\n",
    "from scipy.stats import skew, kurtosis\n",
    "\n",
    "import pygris\n",
    "from shapely.geometry import Polygon\n",
    "\n",
    "import geopandas as gpd\n",
    "from shapely.geometry import Polygon\n",
    "from itertools import product\n",
    "import warnings\n",
    "warnings.filterwarnings(\"ignore\")\n",
    "\n",
    "import shapely\n",
    "from shapely.ops import unary_union\n",
    "import os"
   ]
  },
  {
   "cell_type": "code",
   "execution_count": 17,
   "id": "166e0787-dc18-421d-b478-8544639cdb3e",
   "metadata": {},
   "outputs": [],
   "source": [
    "def convert_shp_to_parquet(shp_file_path, parquet_file_path):\n",
    "    # Read the shapefile\n",
    "    gdf = gpd.read_file(shp_file_path)\n",
    "\n",
    "    # Convert the GeoDataFrame to DataFrame\n",
    "    df = pd.DataFrame(gdf)\n",
    "    \n",
    "    df['geometry'] = df['geometry'].apply(lambda geom: geom.wkt)\n",
    "\n",
    "    df.to_parquet(parquet_file_path, compression='gzip')"
   ]
  },
  {
   "cell_type": "code",
   "execution_count": 18,
   "id": "dbc8e5da-37a1-4c50-9831-d21c5b6e385f",
   "metadata": {
    "tags": []
   },
   "outputs": [
    {
     "name": "stdout",
     "output_type": "stream",
     "text": [
      "C:/Users/Asus/Box/Flood Damage PredictionProject/Dataset/90_99_ZipShapefiles/zipcode_shapefiles_90_99_0_20000\n",
      "zipcode_shapefiles_90_99_0_20000.cpg\n",
      "zipcode_shapefiles_90_99_0_20000.dbf\n",
      "zipcode_shapefiles_90_99_0_20000.shp\n",
      "zipcode_shapefiles_90_99_0_20000.shx\n",
      "C:/Users/Asus/Box/Flood Damage PredictionProject/Dataset/90_99_ZipShapefiles/zipcode_shapefiles_90_99_100000_120000\n",
      "zipcode_shapefiles_90_99_100000_120000.cpg\n",
      "zipcode_shapefiles_90_99_100000_120000.dbf\n",
      "zipcode_shapefiles_90_99_100000_120000.shp\n",
      "zipcode_shapefiles_90_99_100000_120000.shx\n",
      "C:/Users/Asus/Box/Flood Damage PredictionProject/Dataset/90_99_ZipShapefiles/zipcode_shapefiles_90_99_120000_140000\n",
      "zipcode_shapefiles_90_99_120000_140000.cpg\n",
      "zipcode_shapefiles_90_99_120000_140000.dbf\n",
      "zipcode_shapefiles_90_99_120000_140000.shp\n",
      "zipcode_shapefiles_90_99_120000_140000.shx\n",
      "C:/Users/Asus/Box/Flood Damage PredictionProject/Dataset/90_99_ZipShapefiles/zipcode_shapefiles_90_99_140000_160000\n",
      "zipcode_shapefiles_90_99_140000_160000.cpg\n",
      "zipcode_shapefiles_90_99_140000_160000.dbf\n",
      "zipcode_shapefiles_90_99_140000_160000.shp\n",
      "zipcode_shapefiles_90_99_140000_160000.shx\n",
      "C:/Users/Asus/Box/Flood Damage PredictionProject/Dataset/90_99_ZipShapefiles/zipcode_shapefiles_90_99_160000_180000\n",
      "zipcode_shapefiles_90_99_160000_180000.cpg\n",
      "zipcode_shapefiles_90_99_160000_180000.dbf\n",
      "zipcode_shapefiles_90_99_160000_180000.shp\n",
      "zipcode_shapefiles_90_99_160000_180000.shx\n",
      "C:/Users/Asus/Box/Flood Damage PredictionProject/Dataset/90_99_ZipShapefiles/zipcode_shapefiles_90_99_180000_200000\n",
      "zipcode_shapefiles_90_99_180000_200000.cpg\n",
      "zipcode_shapefiles_90_99_180000_200000.dbf\n",
      "zipcode_shapefiles_90_99_180000_200000.shp\n",
      "zipcode_shapefiles_90_99_180000_200000.shx\n",
      "C:/Users/Asus/Box/Flood Damage PredictionProject/Dataset/90_99_ZipShapefiles/zipcode_shapefiles_90_99_200000_220000\n",
      "zipcode_shapefiles_90_99_200000_220000.cpg\n",
      "zipcode_shapefiles_90_99_200000_220000.dbf\n",
      "zipcode_shapefiles_90_99_200000_220000.shp\n",
      "zipcode_shapefiles_90_99_200000_220000.shx\n",
      "C:/Users/Asus/Box/Flood Damage PredictionProject/Dataset/90_99_ZipShapefiles/zipcode_shapefiles_90_99_20000_40000\n",
      "zipcode_shapefiles_90_99_20000_40000.cpg\n",
      "zipcode_shapefiles_90_99_20000_40000.dbf\n",
      "zipcode_shapefiles_90_99_20000_40000.shp\n",
      "zipcode_shapefiles_90_99_20000_40000.shx\n",
      "C:/Users/Asus/Box/Flood Damage PredictionProject/Dataset/90_99_ZipShapefiles/zipcode_shapefiles_90_99_220000_240000\n",
      "zipcode_shapefiles_90_99_220000_240000.cpg\n",
      "zipcode_shapefiles_90_99_220000_240000.dbf\n",
      "zipcode_shapefiles_90_99_220000_240000.shp\n",
      "zipcode_shapefiles_90_99_220000_240000.shx\n",
      "C:/Users/Asus/Box/Flood Damage PredictionProject/Dataset/90_99_ZipShapefiles/zipcode_shapefiles_90_99_240000_260000\n",
      "zipcode_shapefiles_90_99_240000_260000.cpg\n",
      "zipcode_shapefiles_90_99_240000_260000.dbf\n",
      "zipcode_shapefiles_90_99_240000_260000.shp\n",
      "zipcode_shapefiles_90_99_240000_260000.shx\n",
      "C:/Users/Asus/Box/Flood Damage PredictionProject/Dataset/90_99_ZipShapefiles/zipcode_shapefiles_90_99_40000_60000\n",
      "zipcode_shapefiles_90_99_40000_60000.cpg\n",
      "zipcode_shapefiles_90_99_40000_60000.dbf\n",
      "zipcode_shapefiles_90_99_40000_60000.shp\n",
      "zipcode_shapefiles_90_99_40000_60000.shx\n",
      "C:/Users/Asus/Box/Flood Damage PredictionProject/Dataset/90_99_ZipShapefiles/zipcode_shapefiles_90_99_60000_80000\n",
      "zipcode_shapefiles_90_99_60000_80000.cpg\n",
      "zipcode_shapefiles_90_99_60000_80000.dbf\n",
      "zipcode_shapefiles_90_99_60000_80000.shp\n",
      "zipcode_shapefiles_90_99_60000_80000.shx\n",
      "C:/Users/Asus/Box/Flood Damage PredictionProject/Dataset/90_99_ZipShapefiles/zipcode_shapefiles_90_99_80000_100000\n",
      "zipcode_shapefiles_90_99_80000_100000.cpg\n",
      "zipcode_shapefiles_90_99_80000_100000.dbf\n",
      "zipcode_shapefiles_90_99_80000_100000.shp\n",
      "zipcode_shapefiles_90_99_80000_100000.shx\n"
     ]
    }
   ],
   "source": [
    "shapefile_directory = \"C:/Users/Asus/Box/Flood Damage PredictionProject/Dataset/90_99_ZipShapefiles/\"\n",
    "parquet_directory = \"E:/Dataset/\"\n",
    "\n",
    "# Iterate over each shapefile in the directory and convert it\n",
    "for subdir in os.listdir(shapefile_directory):\n",
    "    subdir_path = os.path.join(shapefile_directory, subdir)\n",
    "    print(subdir_path)\n",
    "    for filename in os.listdir(subdir_path):\n",
    "        print(filename)\n",
    "        if filename.endswith(\".shp\"):\n",
    "            shp_file_path = os.path.join(subdir_path, filename)\n",
    "            parquet_file_name = filename.replace(\".shp\", \".parquet.gzip\")\n",
    "            parquet_file_path = os.path.join(parquet_directory, parquet_file_name)\n",
    "            convert_shp_to_parquet(shp_file_path, parquet_file_path)"
   ]
  },
  {
   "cell_type": "markdown",
   "id": "63ba2155-2301-4e94-9c87-a829fd29a912",
   "metadata": {},
   "source": [
    "##### Checking if both the files output the same"
   ]
  },
  {
   "cell_type": "code",
   "execution_count": 9,
   "id": "eaec7fd0-26a4-4815-8ec3-355e6fc880e2",
   "metadata": {
    "tags": []
   },
   "outputs": [],
   "source": [
    "gdf_shp = gpd.read_file('C:/Users/Asus/Box/Flood Damage PredictionProject/Dataset/90_99_ZipShapefiles/zipcode_shapefiles_90_99_20000_40000/zipcode_shapefiles_90_99_20000_40000.shp')"
   ]
  },
  {
   "cell_type": "code",
   "execution_count": 10,
   "id": "73cfdd27-e02a-4240-b707-eb4c8b7fc491",
   "metadata": {
    "tags": []
   },
   "outputs": [],
   "source": [
    "df_read = pd.read_parquet(\"E:/Dataset/zipcode_shapefiles_90_99_20000_40000.parquet.gzip\")\n",
    "\n",
    "gdf_parquet = gpd.GeoDataFrame(df_read, geometry=df_read['geometry'].apply(lambda x: shapely.wkt.loads(x)))"
   ]
  },
  {
   "cell_type": "code",
   "execution_count": 11,
   "id": "5e4ab3a0-7d7f-44c8-bfdb-8840645ea8ac",
   "metadata": {
    "tags": []
   },
   "outputs": [
    {
     "data": {
      "text/plain": [
       "True"
      ]
     },
     "execution_count": 11,
     "metadata": {},
     "output_type": "execute_result"
    }
   ],
   "source": [
    "gdf_shp.equals(gdf_parquet)"
   ]
  },
  {
   "cell_type": "code",
   "execution_count": 12,
   "id": "87c003b3-b40c-4276-ab93-6c996b00bce9",
   "metadata": {
    "tags": []
   },
   "outputs": [
    {
     "data": {
      "text/plain": [
       "True"
      ]
     },
     "execution_count": 12,
     "metadata": {},
     "output_type": "execute_result"
    }
   ],
   "source": [
    "gdf_shp.drop('geometry', axis=1).equals(gdf_parquet.drop('geometry', axis=1))"
   ]
  },
  {
   "cell_type": "code",
   "execution_count": 13,
   "id": "a6378434-09e8-4641-8d22-c420831a97a2",
   "metadata": {
    "tags": []
   },
   "outputs": [
    {
     "data": {
      "text/plain": [
       "True"
      ]
     },
     "execution_count": 13,
     "metadata": {},
     "output_type": "execute_result"
    }
   ],
   "source": [
    "gdf_shp['geometry'].geom_almost_equals(gdf_parquet['geometry'], decimal=6).all()"
   ]
  }
 ],
 "metadata": {
  "kernelspec": {
   "display_name": "Python 3 (ipykernel)",
   "language": "python",
   "name": "python3"
  },
  "language_info": {
   "codemirror_mode": {
    "name": "ipython",
    "version": 3
   },
   "file_extension": ".py",
   "mimetype": "text/x-python",
   "name": "python",
   "nbconvert_exporter": "python",
   "pygments_lexer": "ipython3",
   "version": "3.8.17"
  }
 },
 "nbformat": 4,
 "nbformat_minor": 5
}
