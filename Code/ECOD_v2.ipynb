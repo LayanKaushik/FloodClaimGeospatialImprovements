{
 "cells": [
  {
   "cell_type": "code",
   "execution_count": 59,
   "id": "54292d14",
   "metadata": {},
   "outputs": [],
   "source": [
    "import numpy as np\n",
    "import pandas as pd\n",
    "import matplotlib.pyplot as plt\n",
    "from sklearn.ensemble import IsolationForest\n",
    "\n",
    "\n",
    "import pandas as pd\n",
    "import numpy as np\n",
    "import matplotlib.pyplot as plt\n",
    "import pyarrow as pa\n",
    "import pyarrow.parquet as pq\n",
    "import geopandas as gpd\n",
    "import seaborn as sns\n",
    "\n",
    "#Packages\n",
    "import pandas as pd\n",
    "import matplotlib.pyplot as plt\n",
    "import matplotlib.ticker as mtick\n",
    "import numpy as np\n",
    "from scipy import stats\n",
    "pd.set_option('display.max_columns', None)"
   ]
  },
  {
   "cell_type": "code",
   "execution_count": 60,
   "id": "954d6920",
   "metadata": {},
   "outputs": [],
   "source": [
    "df = pd.read_csv('filtered_csv_for_6ft_w_statistics.csv', low_memory = False)\n",
    "df = df.drop(df.columns[0], axis=1)\n",
    "\n",
    "df[(df['buildingPropertyValue'] >= 10000) & (df['buildingPropertyValue'] < 10000000)]\n",
    "\n",
    "\n",
    "df = df[df['medWaterDepth'] < 20]\n",
    "\n",
    "\n",
    "df['bool95'] = df['proportionLeqOne'] >= .95\n",
    "df['bool90'] = df['proportionLeqOne'] >= .9\n",
    "df['bool80'] = df['proportionLeqOne'] >= .8\n",
    "df['bool75'] = df['proportionLeqOne'] >= .75\n",
    "df['bool50'] = df['proportionLeqOne'] >= .5\n",
    "\n"
   ]
  },
  {
   "cell_type": "code",
   "execution_count": 61,
   "id": "51457198",
   "metadata": {},
   "outputs": [],
   "source": [
    "\n",
    "\n",
    "# Assuming 'df' is your DataFrame and 'elevationDifference' is the column name\n",
    "\n",
    "# Step 1: Impute missing values with mean imputation\n",
    "mean_imputation = df['elevationDifference'].mean()\n",
    "df['elevationDifference'] = df['elevationDifference'].fillna(mean_imputation)\n",
    "\n",
    "# Step 2: Remove outliers\n",
    "z_scores = np.abs((df['elevationDifference'] - df['elevationDifference'].mean()) / df['elevationDifference'].std())\n",
    "threshold = 3  # Adjust the threshold as needed\n",
    "df = df[z_scores <= threshold]\n",
    "\n",
    "# Step 3: Create categorical bins\n",
    "num_bins = 10\n",
    "df['elevationDifference_category'] = pd.cut(df['elevationDifference'], bins=num_bins, labels=False)\n",
    "\n",
    "# Optional: Rename the categories to meaningful labels\n",
    "category_labels = ['Category 1', 'Category 2', 'Category 3', 'Category 4', 'Category 5',\n",
    "                   'Category 6', 'Category 7', 'Category 8', 'Category 9', 'Category 10']\n",
    "df['elevationDifference_category'] = df['elevationDifference_category'].map(lambda x: category_labels[x])\n",
    "\n"
   ]
  },
  {
   "cell_type": "code",
   "execution_count": 62,
   "id": "7fbca05e",
   "metadata": {},
   "outputs": [],
   "source": [
    "desired_variables = ['floodEvent', 'ratedFloodZone', \n",
    "                     'causeOfDamage', 'yearOfLoss', 'state', 'yearOfLoss',  'relativeDamage',\n",
    "                     'AgeofBuildinguntilflood',\n",
    "                     'postFIRMConstructionIndicator', 'elevatedBuildingIndicator', 'occupancyType' , 'floodproofedIndicator', 'rateMethod', 'proportionLeqOne', \n",
    "                     'bool75', 'bool50', 'bool80', 'bool90',   'elevationDifference_category', 'medWaterDepth']\n",
    "\n",
    "df_new = df[desired_variables]\n",
    "\n"
   ]
  },
  {
   "cell_type": "code",
   "execution_count": 63,
   "id": "be958470",
   "metadata": {},
   "outputs": [],
   "source": [
    "# Specify the variables to one-hot encode\n",
    "variables_to_encode = ['floodEvent','floodEvent', 'ratedFloodZone', \n",
    "                       'causeOfDamage', 'state', 'yearOfLoss', 'occupancyType', 'floodproofedIndicator', 'rateMethod',  'elevationDifference_category']\n",
    "\n",
    "#variables excluding: smallBusinessIndicatorBuilding', 'buildingDamageAmount', ,'stateOwnedIndicator', 'rateMethod', 'rentalPropertyIndicator' , floodWaterDuration \n",
    "#, 'p75WaterDepth',  'p90WaterDepth','diff90WaterDepth' 'proportionLeqTwo',\n",
    "      # 'proportionLeqThree', 'proportionLeqFour', 'proportionLeqFive',\n",
    "      # 'proportionLeqSix','p25WaterDepth', 'originalConstructionDateYear',  'diffMedWaterDepth', 'medWaterDepth'\n",
    "\n",
    "# Perform one-hot encoding\n",
    "df_encoded = pd.get_dummies(df_new, columns=variables_to_encode)\n",
    "\n",
    "# Include the non-one-hot encoded variables from the original dataframe\n",
    "variables_to_include = ['AgeofBuildinguntilflood',   'postFIRMConstructionIndicator', 'elevatedBuildingIndicator', 'relativeDamage', 'proportionLeqOne',  'bool75', 'bool50', 'bool80', 'bool90', 'medWaterDepth']\n",
    "df_encoded[variables_to_include] = df[variables_to_include]"
   ]
  },
  {
   "cell_type": "code",
   "execution_count": 64,
   "id": "44ee331f",
   "metadata": {},
   "outputs": [],
   "source": [
    "from sklearn.preprocessing import StandardScaler\n",
    "\n",
    "# Specify the variables to normalize\n",
    "variables_to_normalize = ['AgeofBuildinguntilflood', 'relativeDamage', 'proportionLeqOne',  'medWaterDepth']\n",
    "\n",
    "# Create a scaler object\n",
    "scaler = StandardScaler()\n",
    "\n",
    "# Normalize the variables\n",
    "df_encoded[variables_to_normalize] = scaler.fit_transform(df_encoded[variables_to_normalize])"
   ]
  },
  {
   "cell_type": "code",
   "execution_count": 65,
   "id": "7338854a",
   "metadata": {},
   "outputs": [
    {
     "data": {
      "text/plain": [
       "ECOD(contamination=0.1, n_jobs=1)"
      ]
     },
     "execution_count": 65,
     "metadata": {},
     "output_type": "execute_result"
    }
   ],
   "source": [
    "from pyod.models.ecod import ECOD\n",
    "\n",
    "\n",
    "clf = ECOD(contamination = .1)\n",
    "clf.fit(df_encoded)"
   ]
  },
  {
   "cell_type": "code",
   "execution_count": 66,
   "id": "fe0f9bef",
   "metadata": {},
   "outputs": [],
   "source": [
    " y_train_pred = clf.labels_ "
   ]
  },
  {
   "cell_type": "code",
   "execution_count": 67,
   "id": "31597f60",
   "metadata": {},
   "outputs": [
    {
     "data": {
      "text/plain": [
       "3411"
      ]
     },
     "execution_count": 67,
     "metadata": {},
     "output_type": "execute_result"
    }
   ],
   "source": [
    "sum(y_train_pred)"
   ]
  },
  {
   "cell_type": "code",
   "execution_count": 68,
   "id": "2ca75e48",
   "metadata": {},
   "outputs": [
    {
     "data": {
      "text/plain": [
       "34106"
      ]
     },
     "execution_count": 68,
     "metadata": {},
     "output_type": "execute_result"
    }
   ],
   "source": [
    "len(y_train_pred)"
   ]
  },
  {
   "cell_type": "code",
   "execution_count": 69,
   "id": "16f4c606",
   "metadata": {},
   "outputs": [],
   "source": [
    "mask = y_train_pred == 1\n",
    "\n",
    "# Apply the mask to filter the DataFrame\n",
    "filtered_df = df[mask]"
   ]
  },
  {
   "cell_type": "code",
   "execution_count": 70,
   "id": "00ca1df8",
   "metadata": {},
   "outputs": [
    {
     "data": {
      "text/plain": [
       "0.1950858842982434"
      ]
     },
     "execution_count": 70,
     "metadata": {},
     "output_type": "execute_result"
    }
   ],
   "source": [
    "filtered_df['relativeDamage'].mean()"
   ]
  },
  {
   "cell_type": "code",
   "execution_count": 71,
   "id": "41289023",
   "metadata": {},
   "outputs": [
    {
     "data": {
      "text/plain": [
       "0.5163731632220445"
      ]
     },
     "execution_count": 71,
     "metadata": {},
     "output_type": "execute_result"
    }
   ],
   "source": [
    "filtered_df['proportionLeqOne'].mean()"
   ]
  },
  {
   "cell_type": "code",
   "execution_count": 72,
   "id": "2cc97686",
   "metadata": {
    "scrolled": true
   },
   "outputs": [
    {
     "data": {
      "text/plain": [
       "325932.6352975667"
      ]
     },
     "execution_count": 72,
     "metadata": {},
     "output_type": "execute_result"
    }
   ],
   "source": [
    "filtered_df['buildingPropertyValue'].mean()"
   ]
  },
  {
   "cell_type": "code",
   "execution_count": 73,
   "id": "da8e04d2",
   "metadata": {},
   "outputs": [],
   "source": [
    "dfIso = pd.read_csv('IsolationForestAnomalies_2.csv')"
   ]
  },
  {
   "cell_type": "code",
   "execution_count": 74,
   "id": "a5aa6861",
   "metadata": {},
   "outputs": [],
   "source": [
    "merged_df = dfIso.merge(filtered_df, on='id', how='inner')"
   ]
  },
  {
   "cell_type": "code",
   "execution_count": 75,
   "id": "09763136",
   "metadata": {
    "scrolled": true
   },
   "outputs": [
    {
     "data": {
      "text/plain": [
       "1676"
      ]
     },
     "execution_count": 75,
     "metadata": {},
     "output_type": "execute_result"
    }
   ],
   "source": [
    "len(merged_df)"
   ]
  },
  {
   "cell_type": "code",
   "execution_count": 76,
   "id": "acd7f697",
   "metadata": {},
   "outputs": [
    {
     "data": {
      "text/plain": [
       "0.4913515098211668"
      ]
     },
     "execution_count": 76,
     "metadata": {},
     "output_type": "execute_result"
    }
   ],
   "source": [
    "1676/3411"
   ]
  },
  {
   "cell_type": "code",
   "execution_count": 77,
   "id": "aead4ab6",
   "metadata": {},
   "outputs": [
    {
     "data": {
      "text/plain": [
       "0.18412919721279086"
      ]
     },
     "execution_count": 77,
     "metadata": {},
     "output_type": "execute_result"
    }
   ],
   "source": [
    "merged_df['relativeDamage_x'].mean()"
   ]
  },
  {
   "cell_type": "code",
   "execution_count": 78,
   "id": "281cb24d",
   "metadata": {},
   "outputs": [
    {
     "data": {
      "text/plain": [
       "0.6180344478216819"
      ]
     },
     "execution_count": 78,
     "metadata": {},
     "output_type": "execute_result"
    }
   ],
   "source": [
    "merged_df['proportionLeqOne_x'].median()"
   ]
  },
  {
   "cell_type": "code",
   "execution_count": 79,
   "id": "1eb1c863",
   "metadata": {
    "scrolled": false
   },
   "outputs": [
    {
     "data": {
      "text/plain": [
       "990"
      ]
     },
     "execution_count": 79,
     "metadata": {},
     "output_type": "execute_result"
    }
   ],
   "source": [
    "sum(merged_df['proportionLeqOne_x'] >= .52)"
   ]
  },
  {
   "cell_type": "code",
   "execution_count": 80,
   "id": "b993805a",
   "metadata": {
    "scrolled": true
   },
   "outputs": [
    {
     "data": {
      "text/plain": [
       "321018.8311455847"
      ]
     },
     "execution_count": 80,
     "metadata": {},
     "output_type": "execute_result"
    }
   ],
   "source": [
    "merged_df['buildingPropertyValue_x'].mean()"
   ]
  },
  {
   "cell_type": "code",
   "execution_count": 81,
   "id": "7bd6b107",
   "metadata": {},
   "outputs": [
    {
     "data": {
      "text/plain": [
       "205"
      ]
     },
     "execution_count": 81,
     "metadata": {},
     "output_type": "execute_result"
    }
   ],
   "source": [
    "sum(merged_df['proportionLeqOne_x'] <.2 )"
   ]
  },
  {
   "cell_type": "code",
   "execution_count": 82,
   "id": "aca4c20d",
   "metadata": {},
   "outputs": [
    {
     "data": {
      "text/plain": [
       "278954.3163295221"
      ]
     },
     "execution_count": 82,
     "metadata": {},
     "output_type": "execute_result"
    }
   ],
   "source": [
    "dfIso['buildingPropertyValue'].mean()"
   ]
  },
  {
   "cell_type": "code",
   "execution_count": 83,
   "id": "6b0af001",
   "metadata": {},
   "outputs": [
    {
     "data": {
      "text/plain": [
       "0.22527113202229906"
      ]
     },
     "execution_count": 83,
     "metadata": {},
     "output_type": "execute_result"
    }
   ],
   "source": [
    "filtered_df[filtered_df['buildingPropertyValue'] <= 200000]['relativeDamage'].mean()"
   ]
  },
  {
   "cell_type": "code",
   "execution_count": 84,
   "id": "69595852",
   "metadata": {},
   "outputs": [
    {
     "data": {
      "image/png": "[encoded data removed]",
      "text/plain": [
       "<Figure size 640x480 with 1 Axes>"
      ]
     },
     "metadata": {},
     "output_type": "display_data"
    }
   ],
   "source": [
    "\n",
    "# Define the number of bins and the bin edges\n",
    "num_bins = 5\n",
    "bin_edges = pd.cut(merged_df['proportionLeqOne_x'], bins=num_bins)\n",
    "\n",
    "# Group the data by the bins\n",
    "grouped_data = merged_df.groupby(bin_edges)\n",
    "\n",
    "# Create a figure and axis for the boxplots\n",
    "fig, ax = plt.subplots()\n",
    "\n",
    "# Create a list to store the positions of each boxplot\n",
    "positions = []\n",
    "\n",
    "# Store the labels for the bins\n",
    "bin_labels = []\n",
    "\n",
    "# Iterate over the groups and create boxplots\n",
    "for i, (group, data) in enumerate(grouped_data):\n",
    "    positions.append(i+1)\n",
    "    # count the number of observations in the bin\n",
    "    num_observations = len(data)\n",
    "    # create the label for the bin\n",
    "    bin_label = f'{group.left:.1f} to {group.right:.1f}'\n",
    "    bin_labels.append(bin_label)\n",
    "    ax.boxplot(data['relativeDamage_x'], positions=[i+1])\n",
    "    \n",
    "    # Annotate number of observations at the very top of the figure\n",
    "    ax.text(i+1, 1.05, f'n={num_observations}', ha='center', transform=ax.get_xaxis_transform())\n",
    "\n",
    "# Set the x-axis labels\n",
    "ax.set_xticks(positions)\n",
    "ax.set_xticklabels(bin_labels)\n",
    "\n",
    "# Set the x-axis label\n",
    "ax.set_xlabel('Bins of proportionLeqOne')\n",
    "\n",
    "# Set the y-axis label\n",
    "ax.set_ylabel('Relative Damage')\n",
    "\n",
    "\n",
    "# Show the plot\n",
    "plt.show()\n"
   ]
  },
  {
   "cell_type": "code",
   "execution_count": 97,
   "id": "ee3b0d37",
   "metadata": {},
   "outputs": [
    {
     "data": {
      "text/plain": [
       "PCA(contamination=0.1, copy=True, iterated_power='auto', n_components=None,\n",
       "  n_selected_components=None, random_state=None, standardization=True,\n",
       "  svd_solver='auto', tol=0.0, weighted=True, whiten=False)"
      ]
     },
     "execution_count": 97,
     "metadata": {},
     "output_type": "execute_result"
    }
   ],
   "source": [
    "from pyod.models.hbos import HBOS\n",
    "\n",
    "\n",
    "clf = PCA(contamination = .1)\n",
    "clf.fit(df_encoded)\n",
    "\n"
   ]
  },
  {
   "cell_type": "code",
   "execution_count": 98,
   "id": "a21cca6b",
   "metadata": {},
   "outputs": [],
   "source": [
    "y_train_pred = clf.labels_ \n",
    "mask = y_train_pred == 1\n",
    "\n",
    "# Apply the mask to filter the DataFrame\n",
    "filtered_pca = df[mask]"
   ]
  },
  {
   "cell_type": "code",
   "execution_count": 99,
   "id": "fc35ffea",
   "metadata": {},
   "outputs": [
    {
     "data": {
      "text/plain": [
       "0.25470766353141316"
      ]
     },
     "execution_count": 99,
     "metadata": {},
     "output_type": "execute_result"
    }
   ],
   "source": [
    "filtered_pca['relativeDamage'].mean()"
   ]
  },
  {
   "cell_type": "code",
   "execution_count": 100,
   "id": "9987be30",
   "metadata": {},
   "outputs": [
    {
     "data": {
      "text/plain": [
       "0.3558847677974418"
      ]
     },
     "execution_count": 100,
     "metadata": {},
     "output_type": "execute_result"
    }
   ],
   "source": [
    "filtered_pca['proportionLeqOne'].mean()"
   ]
  },
  {
   "cell_type": "code",
   "execution_count": 101,
   "id": "c7187a49",
   "metadata": {},
   "outputs": [
    {
     "data": {
      "text/plain": [
       "202759.9744942832"
      ]
     },
     "execution_count": 101,
     "metadata": {},
     "output_type": "execute_result"
    }
   ],
   "source": [
    "filtered_pca['buildingPropertyValue'].mean()"
   ]
  },
  {
   "cell_type": "code",
   "execution_count": 102,
   "id": "8be21b0e",
   "metadata": {},
   "outputs": [
    {
     "data": {
      "image/png": "[encoded data removed]",
      "text/plain": [
       "<Figure size 640x480 with 1 Axes>"
      ]
     },
     "metadata": {},
     "output_type": "display_data"
    }
   ],
   "source": [
    "\n",
    "# Define the number of bins and the bin edges\n",
    "num_bins = 5\n",
    "bin_edges = pd.cut(filtered_pca['proportionLeqOne'], bins=num_bins)\n",
    "\n",
    "# Group the data by the bins\n",
    "grouped_data = filtered_pca.groupby(bin_edges)\n",
    "\n",
    "# Create a figure and axis for the boxplots\n",
    "fig, ax = plt.subplots()\n",
    "\n",
    "# Create a list to store the positions of each boxplot\n",
    "positions = []\n",
    "\n",
    "# Store the labels for the bins\n",
    "bin_labels = []\n",
    "\n",
    "# Iterate over the groups and create boxplots\n",
    "for i, (group, data) in enumerate(grouped_data):\n",
    "    positions.append(i+1)\n",
    "    # count the number of observations in the bin\n",
    "    num_observations = len(data)\n",
    "    # create the label for the bin\n",
    "    bin_label = f'{group.left:.1f} to {group.right:.1f}'\n",
    "    bin_labels.append(bin_label)\n",
    "    ax.boxplot(data['relativeDamage'], positions=[i+1])\n",
    "    \n",
    "    # Annotate number of observations at the very top of the figure\n",
    "    ax.text(i+1, 1.05, f'n={num_observations}', ha='center', transform=ax.get_xaxis_transform())\n",
    "\n",
    "# Set the x-axis labels\n",
    "ax.set_xticks(positions)\n",
    "ax.set_xticklabels(bin_labels)\n",
    "\n",
    "# Set the x-axis label\n",
    "ax.set_xlabel('Bins of proportionLeqOne')\n",
    "\n",
    "# Set the y-axis label\n",
    "ax.set_ylabel('Relative Damage')\n",
    "\n",
    "\n",
    "# Show the plot\n",
    "plt.show()"
   ]
  },
  {
   "cell_type": "code",
   "execution_count": null,
   "id": "d86b33ca",
   "metadata": {},
   "outputs": [],
   "source": []
  },
  {
   "cell_type": "code",
   "execution_count": null,
   "id": "88a03b9f",
   "metadata": {},
   "outputs": [],
   "source": []
  },
  {
   "cell_type": "code",
   "execution_count": null,
   "id": "7290c3b3",
   "metadata": {},
   "outputs": [],
   "source": []
  },
  {
   "cell_type": "code",
   "execution_count": null,
   "id": "391e9c2a",
   "metadata": {},
   "outputs": [],
   "source": []
  },
  {
   "cell_type": "code",
   "execution_count": null,
   "id": "2a473936",
   "metadata": {},
   "outputs": [],
   "source": []
  },
  {
   "cell_type": "code",
   "execution_count": null,
   "id": "8b48465c",
   "metadata": {},
   "outputs": [],
   "source": []
  },
  {
   "cell_type": "code",
   "execution_count": null,
   "id": "4913d7dd",
   "metadata": {},
   "outputs": [],
   "source": []
  },
  {
   "cell_type": "code",
   "execution_count": null,
   "id": "bb5a3717",
   "metadata": {},
   "outputs": [],
   "source": []
  },
  {
   "cell_type": "code",
   "execution_count": null,
   "id": "8d5242c9",
   "metadata": {},
   "outputs": [],
   "source": []
  },
  {
   "cell_type": "code",
   "execution_count": null,
   "id": "36ee6357",
   "metadata": {},
   "outputs": [],
   "source": []
  },
  {
   "cell_type": "code",
   "execution_count": null,
   "id": "4f498d99",
   "metadata": {},
   "outputs": [],
   "source": []
  },
  {
   "cell_type": "code",
   "execution_count": null,
   "id": "e8649e60",
   "metadata": {},
   "outputs": [],
   "source": []
  }
 ],
 "metadata": {
  "kernelspec": {
   "display_name": "Python 3 (ipykernel)",
   "language": "python",
   "name": "python3"
  },
  "language_info": {
   "codemirror_mode": {
    "name": "ipython",
    "version": 3
   },
   "file_extension": ".py",
   "mimetype": "text/x-python",
   "name": "python",
   "nbconvert_exporter": "python",
   "pygments_lexer": "ipython3",
   "version": "3.8.16"
  }
 },
 "nbformat": 4,
 "nbformat_minor": 5
}
