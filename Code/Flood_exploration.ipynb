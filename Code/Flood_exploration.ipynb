{
 "cells": [
  {
   "cell_type": "code",
   "execution_count": 11,
   "metadata": {},
   "outputs": [],
   "source": [
    "#Packages\n",
    "import pandas as pd\n",
    "import matplotlib.pyplot as plt\n",
    "import numpy as np\n",
    "from scipy import stats\n",
    "pd.set_option('display.max_columns', None)"
   ]
  },
  {
   "cell_type": "markdown",
   "metadata": {},
   "source": [
    "Loading in Dataset..."
   ]
  },
  {
   "cell_type": "code",
   "execution_count": 6,
   "metadata": {},
   "outputs": [],
   "source": [
    "df = pd.read_parquet('C:/Users/Asus/Box/Flood Damage PredictionProject/Dataset/FimaNfipClaims.parquet.gzip')"
   ]
  },
  {
   "cell_type": "code",
   "execution_count": 12,
   "metadata": {},
   "outputs": [
    {
     "data": {
      "text/html": [
       "<div>\n",
       "<style scoped>\n",
       "    .dataframe tbody tr th:only-of-type {\n",
       "        vertical-align: middle;\n",
       "    }\n",
       "\n",
       "    .dataframe tbody tr th {\n",
       "        vertical-align: top;\n",
       "    }\n",
       "\n",
       "    .dataframe thead th {\n",
       "        text-align: right;\n",
       "    }\n",
       "</style>\n",
       "<table border=\"1\" class=\"dataframe\">\n",
       "  <thead>\n",
       "    <tr style=\"text-align: right;\">\n",
       "      <th></th>\n",
       "      <th>agricultureStructureIndicator</th>\n",
       "      <th>asOfDate</th>\n",
       "      <th>basementEnclosureCrawlspaceType</th>\n",
       "      <th>policyCount</th>\n",
       "      <th>crsClassificationCode</th>\n",
       "      <th>dateOfLoss</th>\n",
       "      <th>elevatedBuildingIndicator</th>\n",
       "      <th>elevationCertificateIndicator</th>\n",
       "      <th>elevationDifference</th>\n",
       "      <th>baseFloodElevation</th>\n",
       "      <th>ratedFloodZone</th>\n",
       "      <th>houseWorship</th>\n",
       "      <th>locationOfContents</th>\n",
       "      <th>lowestAdjacentGrade</th>\n",
       "      <th>lowestFloorElevation</th>\n",
       "      <th>numberOfFloorsInTheInsuredBuilding</th>\n",
       "      <th>nonProfitIndicator</th>\n",
       "      <th>obstructionType</th>\n",
       "      <th>occupancyType</th>\n",
       "      <th>originalConstructionDate</th>\n",
       "      <th>originalNBDate</th>\n",
       "      <th>amountPaidOnBuildingClaim</th>\n",
       "      <th>amountPaidOnContentsClaim</th>\n",
       "      <th>amountPaidOnIncreasedCostOfComplianceClaim</th>\n",
       "      <th>postFIRMConstructionIndicator</th>\n",
       "      <th>rateMethod</th>\n",
       "      <th>smallBusinessIndicatorBuilding</th>\n",
       "      <th>totalBuildingInsuranceCoverage</th>\n",
       "      <th>totalContentsInsuranceCoverage</th>\n",
       "      <th>yearOfLoss</th>\n",
       "      <th>primaryResidenceIndicator</th>\n",
       "      <th>buildingDamageAmount</th>\n",
       "      <th>buildingDeductibleCode</th>\n",
       "      <th>netBuildingPaymentAmount</th>\n",
       "      <th>buildingPropertyValue</th>\n",
       "      <th>causeOfDamage</th>\n",
       "      <th>condominiumCoverageTypeCode</th>\n",
       "      <th>contentsDamageAmount</th>\n",
       "      <th>contentsDeductibleCode</th>\n",
       "      <th>netContentsPaymentAmount</th>\n",
       "      <th>contentsPropertyValue</th>\n",
       "      <th>disasterAssistanceCoverageRequired</th>\n",
       "      <th>eventDesignationNumber</th>\n",
       "      <th>ficoNumber</th>\n",
       "      <th>floodCharacteristicsIndicator</th>\n",
       "      <th>floodWaterDuration</th>\n",
       "      <th>floodproofedIndicator</th>\n",
       "      <th>floodEvent</th>\n",
       "      <th>iccCoverage</th>\n",
       "      <th>netIccPaymentAmount</th>\n",
       "      <th>nfipRatedCommunityNumber</th>\n",
       "      <th>nfipCommunityNumberCurrent</th>\n",
       "      <th>nfipCommunityName</th>\n",
       "      <th>nonPaymentReasonContents</th>\n",
       "      <th>nonPaymentReasonBuilding</th>\n",
       "      <th>numberOfUnits</th>\n",
       "      <th>buildingReplacementCost</th>\n",
       "      <th>contentsReplacementCost</th>\n",
       "      <th>replacementCostBasis</th>\n",
       "      <th>stateOwnedIndicator</th>\n",
       "      <th>waterDepth</th>\n",
       "      <th>floodZoneCurrent</th>\n",
       "      <th>buildingDescriptionCode</th>\n",
       "      <th>rentalPropertyIndicator</th>\n",
       "      <th>state</th>\n",
       "      <th>reportedCity</th>\n",
       "      <th>reportedZipCode</th>\n",
       "      <th>countyCode</th>\n",
       "      <th>censusTract</th>\n",
       "      <th>censusBlockGroupFips</th>\n",
       "      <th>latitude</th>\n",
       "      <th>longitude</th>\n",
       "      <th>id</th>\n",
       "    </tr>\n",
       "  </thead>\n",
       "  <tbody>\n",
       "    <tr>\n",
       "      <th>0</th>\n",
       "      <td>0</td>\n",
       "      <td>2020-01-22T16:55:53.194Z</td>\n",
       "      <td>NaN</td>\n",
       "      <td>1</td>\n",
       "      <td>8.0</td>\n",
       "      <td>1998-02-07T00:00:00.000Z</td>\n",
       "      <td>0</td>\n",
       "      <td>nan</td>\n",
       "      <td>NaN</td>\n",
       "      <td>NaN</td>\n",
       "      <td>X</td>\n",
       "      <td>0</td>\n",
       "      <td>NaN</td>\n",
       "      <td>NaN</td>\n",
       "      <td>NaN</td>\n",
       "      <td>4.0</td>\n",
       "      <td>0</td>\n",
       "      <td>10.0</td>\n",
       "      <td>1.0</td>\n",
       "      <td>1963-01-01T00:00:00.000Z</td>\n",
       "      <td>1997-01-11T00:00:00.000Z</td>\n",
       "      <td>NaN</td>\n",
       "      <td>NaN</td>\n",
       "      <td>NaN</td>\n",
       "      <td>0</td>\n",
       "      <td>7</td>\n",
       "      <td>0</td>\n",
       "      <td>200000.0</td>\n",
       "      <td>50000.0</td>\n",
       "      <td>1998</td>\n",
       "      <td>0</td>\n",
       "      <td>382.0</td>\n",
       "      <td>0</td>\n",
       "      <td>0.00</td>\n",
       "      <td>937.0</td>\n",
       "      <td>1</td>\n",
       "      <td>N</td>\n",
       "      <td>NaN</td>\n",
       "      <td>0</td>\n",
       "      <td>0.0</td>\n",
       "      <td>NaN</td>\n",
       "      <td>0.0</td>\n",
       "      <td>None</td>\n",
       "      <td>612.0</td>\n",
       "      <td>NaN</td>\n",
       "      <td>0.0</td>\n",
       "      <td>0</td>\n",
       "      <td>Pineapple Express - Southern</td>\n",
       "      <td>15000.0</td>\n",
       "      <td>0.0</td>\n",
       "      <td>60294.0</td>\n",
       "      <td>None</td>\n",
       "      <td>OCEANSIDE, CITY OF</td>\n",
       "      <td>97.0</td>\n",
       "      <td>1.0</td>\n",
       "      <td>1.0</td>\n",
       "      <td>937.0</td>\n",
       "      <td>NaN</td>\n",
       "      <td>A</td>\n",
       "      <td>0</td>\n",
       "      <td>0.0</td>\n",
       "      <td>None</td>\n",
       "      <td>NaN</td>\n",
       "      <td>0</td>\n",
       "      <td>CA</td>\n",
       "      <td>Currently Unavailable</td>\n",
       "      <td>92056.0</td>\n",
       "      <td>6073.0</td>\n",
       "      <td>6.073019e+09</td>\n",
       "      <td>6.073019e+10</td>\n",
       "      <td>33.2</td>\n",
       "      <td>-117.3</td>\n",
       "      <td>23dcb0d8-3e61-45bf-899f-b951946ce2ff</td>\n",
       "    </tr>\n",
       "    <tr>\n",
       "      <th>1</th>\n",
       "      <td>0</td>\n",
       "      <td>2020-01-22T16:55:53.194Z</td>\n",
       "      <td>NaN</td>\n",
       "      <td>1</td>\n",
       "      <td>8.0</td>\n",
       "      <td>2005-08-29T00:00:00.000Z</td>\n",
       "      <td>0</td>\n",
       "      <td>nan</td>\n",
       "      <td>NaN</td>\n",
       "      <td>NaN</td>\n",
       "      <td>X</td>\n",
       "      <td>0</td>\n",
       "      <td>NaN</td>\n",
       "      <td>NaN</td>\n",
       "      <td>NaN</td>\n",
       "      <td>2.0</td>\n",
       "      <td>0</td>\n",
       "      <td>NaN</td>\n",
       "      <td>1.0</td>\n",
       "      <td>1967-07-01T00:00:00.000Z</td>\n",
       "      <td>1990-07-12T00:00:00.000Z</td>\n",
       "      <td>NaN</td>\n",
       "      <td>NaN</td>\n",
       "      <td>NaN</td>\n",
       "      <td>0</td>\n",
       "      <td>7</td>\n",
       "      <td>0</td>\n",
       "      <td>100000.0</td>\n",
       "      <td>40000.0</td>\n",
       "      <td>2005</td>\n",
       "      <td>1</td>\n",
       "      <td>NaN</td>\n",
       "      <td>0</td>\n",
       "      <td>0.00</td>\n",
       "      <td>NaN</td>\n",
       "      <td>1</td>\n",
       "      <td>N</td>\n",
       "      <td>NaN</td>\n",
       "      <td>0</td>\n",
       "      <td>0.0</td>\n",
       "      <td>NaN</td>\n",
       "      <td>0.0</td>\n",
       "      <td>None</td>\n",
       "      <td>654.0</td>\n",
       "      <td>NaN</td>\n",
       "      <td>0.0</td>\n",
       "      <td>0</td>\n",
       "      <td>Hurricane Katrina</td>\n",
       "      <td>30000.0</td>\n",
       "      <td>0.0</td>\n",
       "      <td>225203.0</td>\n",
       "      <td>None</td>\n",
       "      <td>NEW ORLEANS/ORLEANS PARISH*</td>\n",
       "      <td>6.0</td>\n",
       "      <td>6.0</td>\n",
       "      <td>1.0</td>\n",
       "      <td>NaN</td>\n",
       "      <td>NaN</td>\n",
       "      <td>A</td>\n",
       "      <td>0</td>\n",
       "      <td>0.0</td>\n",
       "      <td>None</td>\n",
       "      <td>NaN</td>\n",
       "      <td>0</td>\n",
       "      <td>LA</td>\n",
       "      <td>Currently Unavailable</td>\n",
       "      <td>70131.0</td>\n",
       "      <td>22071.0</td>\n",
       "      <td>2.207100e+10</td>\n",
       "      <td>2.207100e+11</td>\n",
       "      <td>29.9</td>\n",
       "      <td>-90.0</td>\n",
       "      <td>55783cdd-ccbd-4b19-930b-072def248507</td>\n",
       "    </tr>\n",
       "    <tr>\n",
       "      <th>2</th>\n",
       "      <td>0</td>\n",
       "      <td>2020-01-22T16:55:53.194Z</td>\n",
       "      <td>NaN</td>\n",
       "      <td>1</td>\n",
       "      <td>9.0</td>\n",
       "      <td>1998-09-28T00:00:00.000Z</td>\n",
       "      <td>0</td>\n",
       "      <td>nan</td>\n",
       "      <td>NaN</td>\n",
       "      <td>NaN</td>\n",
       "      <td>X</td>\n",
       "      <td>0</td>\n",
       "      <td>NaN</td>\n",
       "      <td>NaN</td>\n",
       "      <td>NaN</td>\n",
       "      <td>1.0</td>\n",
       "      <td>0</td>\n",
       "      <td>10.0</td>\n",
       "      <td>1.0</td>\n",
       "      <td>1972-01-01T00:00:00.000Z</td>\n",
       "      <td>1997-07-24T00:00:00.000Z</td>\n",
       "      <td>8813.21</td>\n",
       "      <td>1720.0</td>\n",
       "      <td>0.0</td>\n",
       "      <td>0</td>\n",
       "      <td>1</td>\n",
       "      <td>0</td>\n",
       "      <td>100000.0</td>\n",
       "      <td>50000.0</td>\n",
       "      <td>1998</td>\n",
       "      <td>1</td>\n",
       "      <td>9313.0</td>\n",
       "      <td>0</td>\n",
       "      <td>8813.21</td>\n",
       "      <td>80000.0</td>\n",
       "      <td>1</td>\n",
       "      <td>N</td>\n",
       "      <td>2220.0</td>\n",
       "      <td>0</td>\n",
       "      <td>1720.0</td>\n",
       "      <td>0.0</td>\n",
       "      <td>0.0</td>\n",
       "      <td>None</td>\n",
       "      <td>133.0</td>\n",
       "      <td>NaN</td>\n",
       "      <td>0.0</td>\n",
       "      <td>0</td>\n",
       "      <td>Hurricane Georges (Panhandle)</td>\n",
       "      <td>15000.0</td>\n",
       "      <td>0.0</td>\n",
       "      <td>120274.0</td>\n",
       "      <td>None</td>\n",
       "      <td>SANTA ROSA COUNTY *</td>\n",
       "      <td>NaN</td>\n",
       "      <td>NaN</td>\n",
       "      <td>1.0</td>\n",
       "      <td>100000.0</td>\n",
       "      <td>0.0</td>\n",
       "      <td>A</td>\n",
       "      <td>0</td>\n",
       "      <td>0.0</td>\n",
       "      <td>None</td>\n",
       "      <td>NaN</td>\n",
       "      <td>0</td>\n",
       "      <td>FL</td>\n",
       "      <td>Currently Unavailable</td>\n",
       "      <td>32566.0</td>\n",
       "      <td>12113.0</td>\n",
       "      <td>1.211301e+10</td>\n",
       "      <td>1.211301e+11</td>\n",
       "      <td>30.4</td>\n",
       "      <td>-86.9</td>\n",
       "      <td>bfb5922b-1b21-4882-b1d4-b3825ff53e37</td>\n",
       "    </tr>\n",
       "    <tr>\n",
       "      <th>3</th>\n",
       "      <td>0</td>\n",
       "      <td>2019-09-19T13:45:58.425Z</td>\n",
       "      <td>1.0</td>\n",
       "      <td>1</td>\n",
       "      <td>9.0</td>\n",
       "      <td>1994-10-07T00:00:00.000Z</td>\n",
       "      <td>0</td>\n",
       "      <td>nan</td>\n",
       "      <td>NaN</td>\n",
       "      <td>NaN</td>\n",
       "      <td>X</td>\n",
       "      <td>0</td>\n",
       "      <td>NaN</td>\n",
       "      <td>NaN</td>\n",
       "      <td>NaN</td>\n",
       "      <td>2.0</td>\n",
       "      <td>0</td>\n",
       "      <td>10.0</td>\n",
       "      <td>1.0</td>\n",
       "      <td>1960-01-01T00:00:00.000Z</td>\n",
       "      <td>1993-10-01T00:00:00.000Z</td>\n",
       "      <td>2906.00</td>\n",
       "      <td>0.0</td>\n",
       "      <td>0.0</td>\n",
       "      <td>0</td>\n",
       "      <td>7</td>\n",
       "      <td>0</td>\n",
       "      <td>100000.0</td>\n",
       "      <td>25000.0</td>\n",
       "      <td>1994</td>\n",
       "      <td>0</td>\n",
       "      <td>4428.0</td>\n",
       "      <td>0</td>\n",
       "      <td>2906.00</td>\n",
       "      <td>100000.0</td>\n",
       "      <td>1</td>\n",
       "      <td>N</td>\n",
       "      <td>NaN</td>\n",
       "      <td>0</td>\n",
       "      <td>0.0</td>\n",
       "      <td>NaN</td>\n",
       "      <td>0.0</td>\n",
       "      <td>None</td>\n",
       "      <td>NaN</td>\n",
       "      <td>NaN</td>\n",
       "      <td>0.0</td>\n",
       "      <td>0</td>\n",
       "      <td>None</td>\n",
       "      <td>NaN</td>\n",
       "      <td>0.0</td>\n",
       "      <td>450026.0</td>\n",
       "      <td>None</td>\n",
       "      <td>BEAUFORT, CITY OF</td>\n",
       "      <td>97.0</td>\n",
       "      <td>NaN</td>\n",
       "      <td>1.0</td>\n",
       "      <td>0.0</td>\n",
       "      <td>NaN</td>\n",
       "      <td>A</td>\n",
       "      <td>0</td>\n",
       "      <td>0.0</td>\n",
       "      <td>None</td>\n",
       "      <td>NaN</td>\n",
       "      <td>0</td>\n",
       "      <td>SC</td>\n",
       "      <td>Currently Unavailable</td>\n",
       "      <td>29902.0</td>\n",
       "      <td>45013.0</td>\n",
       "      <td>4.501300e+10</td>\n",
       "      <td>4.501300e+11</td>\n",
       "      <td>32.4</td>\n",
       "      <td>-80.7</td>\n",
       "      <td>c1cf6e00-1e6d-4493-93fc-eb430ef15495</td>\n",
       "    </tr>\n",
       "    <tr>\n",
       "      <th>4</th>\n",
       "      <td>0</td>\n",
       "      <td>2019-09-19T13:45:58.425Z</td>\n",
       "      <td>NaN</td>\n",
       "      <td>1</td>\n",
       "      <td>8.0</td>\n",
       "      <td>1996-03-11T00:00:00.000Z</td>\n",
       "      <td>0</td>\n",
       "      <td>nan</td>\n",
       "      <td>NaN</td>\n",
       "      <td>NaN</td>\n",
       "      <td>X</td>\n",
       "      <td>0</td>\n",
       "      <td>NaN</td>\n",
       "      <td>NaN</td>\n",
       "      <td>NaN</td>\n",
       "      <td>1.0</td>\n",
       "      <td>0</td>\n",
       "      <td>NaN</td>\n",
       "      <td>1.0</td>\n",
       "      <td>1988-01-01T00:00:00.000Z</td>\n",
       "      <td>1996-01-11T00:00:00.000Z</td>\n",
       "      <td>3875.53</td>\n",
       "      <td>1545.0</td>\n",
       "      <td>0.0</td>\n",
       "      <td>1</td>\n",
       "      <td>7</td>\n",
       "      <td>0</td>\n",
       "      <td>100000.0</td>\n",
       "      <td>25000.0</td>\n",
       "      <td>1996</td>\n",
       "      <td>1</td>\n",
       "      <td>5252.0</td>\n",
       "      <td>0</td>\n",
       "      <td>3875.53</td>\n",
       "      <td>100000.0</td>\n",
       "      <td>1</td>\n",
       "      <td>N</td>\n",
       "      <td>3115.0</td>\n",
       "      <td>0</td>\n",
       "      <td>1545.0</td>\n",
       "      <td>0.0</td>\n",
       "      <td>0.0</td>\n",
       "      <td>None</td>\n",
       "      <td>NaN</td>\n",
       "      <td>NaN</td>\n",
       "      <td>0.0</td>\n",
       "      <td>0</td>\n",
       "      <td>None</td>\n",
       "      <td>NaN</td>\n",
       "      <td>0.0</td>\n",
       "      <td>125092.0</td>\n",
       "      <td>None</td>\n",
       "      <td>BREVARD COUNTY *</td>\n",
       "      <td>NaN</td>\n",
       "      <td>NaN</td>\n",
       "      <td>1.0</td>\n",
       "      <td>0.0</td>\n",
       "      <td>0.0</td>\n",
       "      <td>A</td>\n",
       "      <td>0</td>\n",
       "      <td>0.0</td>\n",
       "      <td>None</td>\n",
       "      <td>1.0</td>\n",
       "      <td>0</td>\n",
       "      <td>FL</td>\n",
       "      <td>Currently Unavailable</td>\n",
       "      <td>32940.0</td>\n",
       "      <td>12009.0</td>\n",
       "      <td>1.200906e+10</td>\n",
       "      <td>1.200906e+11</td>\n",
       "      <td>28.3</td>\n",
       "      <td>-80.7</td>\n",
       "      <td>cad8334c-13f2-4837-bdcf-e09591197ff7</td>\n",
       "    </tr>\n",
       "  </tbody>\n",
       "</table>\n",
       "</div>"
      ],
      "text/plain": [
       "   agricultureStructureIndicator                  asOfDate  \\\n",
       "0                              0  2020-01-22T16:55:53.194Z   \n",
       "1                              0  2020-01-22T16:55:53.194Z   \n",
       "2                              0  2020-01-22T16:55:53.194Z   \n",
       "3                              0  2019-09-19T13:45:58.425Z   \n",
       "4                              0  2019-09-19T13:45:58.425Z   \n",
       "\n",
       "   basementEnclosureCrawlspaceType  policyCount  crsClassificationCode  \\\n",
       "0                              NaN            1                    8.0   \n",
       "1                              NaN            1                    8.0   \n",
       "2                              NaN            1                    9.0   \n",
       "3                              1.0            1                    9.0   \n",
       "4                              NaN            1                    8.0   \n",
       "\n",
       "                 dateOfLoss  elevatedBuildingIndicator  \\\n",
       "0  1998-02-07T00:00:00.000Z                          0   \n",
       "1  2005-08-29T00:00:00.000Z                          0   \n",
       "2  1998-09-28T00:00:00.000Z                          0   \n",
       "3  1994-10-07T00:00:00.000Z                          0   \n",
       "4  1996-03-11T00:00:00.000Z                          0   \n",
       "\n",
       "  elevationCertificateIndicator  elevationDifference  baseFloodElevation  \\\n",
       "0                           nan                  NaN                 NaN   \n",
       "1                           nan                  NaN                 NaN   \n",
       "2                           nan                  NaN                 NaN   \n",
       "3                           nan                  NaN                 NaN   \n",
       "4                           nan                  NaN                 NaN   \n",
       "\n",
       "  ratedFloodZone  houseWorship  locationOfContents  lowestAdjacentGrade  \\\n",
       "0              X             0                 NaN                  NaN   \n",
       "1              X             0                 NaN                  NaN   \n",
       "2              X             0                 NaN                  NaN   \n",
       "3              X             0                 NaN                  NaN   \n",
       "4              X             0                 NaN                  NaN   \n",
       "\n",
       "   lowestFloorElevation  numberOfFloorsInTheInsuredBuilding  \\\n",
       "0                   NaN                                 4.0   \n",
       "1                   NaN                                 2.0   \n",
       "2                   NaN                                 1.0   \n",
       "3                   NaN                                 2.0   \n",
       "4                   NaN                                 1.0   \n",
       "\n",
       "   nonProfitIndicator  obstructionType  occupancyType  \\\n",
       "0                   0             10.0            1.0   \n",
       "1                   0              NaN            1.0   \n",
       "2                   0             10.0            1.0   \n",
       "3                   0             10.0            1.0   \n",
       "4                   0              NaN            1.0   \n",
       "\n",
       "   originalConstructionDate            originalNBDate  \\\n",
       "0  1963-01-01T00:00:00.000Z  1997-01-11T00:00:00.000Z   \n",
       "1  1967-07-01T00:00:00.000Z  1990-07-12T00:00:00.000Z   \n",
       "2  1972-01-01T00:00:00.000Z  1997-07-24T00:00:00.000Z   \n",
       "3  1960-01-01T00:00:00.000Z  1993-10-01T00:00:00.000Z   \n",
       "4  1988-01-01T00:00:00.000Z  1996-01-11T00:00:00.000Z   \n",
       "\n",
       "   amountPaidOnBuildingClaim  amountPaidOnContentsClaim  \\\n",
       "0                        NaN                        NaN   \n",
       "1                        NaN                        NaN   \n",
       "2                    8813.21                     1720.0   \n",
       "3                    2906.00                        0.0   \n",
       "4                    3875.53                     1545.0   \n",
       "\n",
       "   amountPaidOnIncreasedCostOfComplianceClaim  postFIRMConstructionIndicator  \\\n",
       "0                                         NaN                              0   \n",
       "1                                         NaN                              0   \n",
       "2                                         0.0                              0   \n",
       "3                                         0.0                              0   \n",
       "4                                         0.0                              1   \n",
       "\n",
       "  rateMethod  smallBusinessIndicatorBuilding  totalBuildingInsuranceCoverage  \\\n",
       "0          7                               0                        200000.0   \n",
       "1          7                               0                        100000.0   \n",
       "2          1                               0                        100000.0   \n",
       "3          7                               0                        100000.0   \n",
       "4          7                               0                        100000.0   \n",
       "\n",
       "   totalContentsInsuranceCoverage  yearOfLoss  primaryResidenceIndicator  \\\n",
       "0                         50000.0        1998                          0   \n",
       "1                         40000.0        2005                          1   \n",
       "2                         50000.0        1998                          1   \n",
       "3                         25000.0        1994                          0   \n",
       "4                         25000.0        1996                          1   \n",
       "\n",
       "   buildingDamageAmount buildingDeductibleCode  netBuildingPaymentAmount  \\\n",
       "0                 382.0                      0                      0.00   \n",
       "1                   NaN                      0                      0.00   \n",
       "2                9313.0                      0                   8813.21   \n",
       "3                4428.0                      0                   2906.00   \n",
       "4                5252.0                      0                   3875.53   \n",
       "\n",
       "   buildingPropertyValue causeOfDamage condominiumCoverageTypeCode  \\\n",
       "0                  937.0             1                           N   \n",
       "1                    NaN             1                           N   \n",
       "2                80000.0             1                           N   \n",
       "3               100000.0             1                           N   \n",
       "4               100000.0             1                           N   \n",
       "\n",
       "   contentsDamageAmount contentsDeductibleCode  netContentsPaymentAmount  \\\n",
       "0                   NaN                      0                       0.0   \n",
       "1                   NaN                      0                       0.0   \n",
       "2                2220.0                      0                    1720.0   \n",
       "3                   NaN                      0                       0.0   \n",
       "4                3115.0                      0                    1545.0   \n",
       "\n",
       "   contentsPropertyValue  disasterAssistanceCoverageRequired  \\\n",
       "0                    NaN                                 0.0   \n",
       "1                    NaN                                 0.0   \n",
       "2                    0.0                                 0.0   \n",
       "3                    NaN                                 0.0   \n",
       "4                    0.0                                 0.0   \n",
       "\n",
       "  eventDesignationNumber  ficoNumber  floodCharacteristicsIndicator  \\\n",
       "0                   None       612.0                            NaN   \n",
       "1                   None       654.0                            NaN   \n",
       "2                   None       133.0                            NaN   \n",
       "3                   None         NaN                            NaN   \n",
       "4                   None         NaN                            NaN   \n",
       "\n",
       "   floodWaterDuration  floodproofedIndicator                     floodEvent  \\\n",
       "0                 0.0                      0   Pineapple Express - Southern   \n",
       "1                 0.0                      0              Hurricane Katrina   \n",
       "2                 0.0                      0  Hurricane Georges (Panhandle)   \n",
       "3                 0.0                      0                           None   \n",
       "4                 0.0                      0                           None   \n",
       "\n",
       "   iccCoverage  netIccPaymentAmount  nfipRatedCommunityNumber  \\\n",
       "0      15000.0                  0.0                   60294.0   \n",
       "1      30000.0                  0.0                  225203.0   \n",
       "2      15000.0                  0.0                  120274.0   \n",
       "3          NaN                  0.0                  450026.0   \n",
       "4          NaN                  0.0                  125092.0   \n",
       "\n",
       "  nfipCommunityNumberCurrent            nfipCommunityName  \\\n",
       "0                       None           OCEANSIDE, CITY OF   \n",
       "1                       None  NEW ORLEANS/ORLEANS PARISH*   \n",
       "2                       None          SANTA ROSA COUNTY *   \n",
       "3                       None            BEAUFORT, CITY OF   \n",
       "4                       None             BREVARD COUNTY *   \n",
       "\n",
       "   nonPaymentReasonContents  nonPaymentReasonBuilding  numberOfUnits  \\\n",
       "0                      97.0                       1.0            1.0   \n",
       "1                       6.0                       6.0            1.0   \n",
       "2                       NaN                       NaN            1.0   \n",
       "3                      97.0                       NaN            1.0   \n",
       "4                       NaN                       NaN            1.0   \n",
       "\n",
       "   buildingReplacementCost  contentsReplacementCost replacementCostBasis  \\\n",
       "0                    937.0                      NaN                    A   \n",
       "1                      NaN                      NaN                    A   \n",
       "2                 100000.0                      0.0                    A   \n",
       "3                      0.0                      NaN                    A   \n",
       "4                      0.0                      0.0                    A   \n",
       "\n",
       "   stateOwnedIndicator  waterDepth floodZoneCurrent  buildingDescriptionCode  \\\n",
       "0                    0         0.0             None                      NaN   \n",
       "1                    0         0.0             None                      NaN   \n",
       "2                    0         0.0             None                      NaN   \n",
       "3                    0         0.0             None                      NaN   \n",
       "4                    0         0.0             None                      1.0   \n",
       "\n",
       "   rentalPropertyIndicator state           reportedCity  reportedZipCode  \\\n",
       "0                        0    CA  Currently Unavailable          92056.0   \n",
       "1                        0    LA  Currently Unavailable          70131.0   \n",
       "2                        0    FL  Currently Unavailable          32566.0   \n",
       "3                        0    SC  Currently Unavailable          29902.0   \n",
       "4                        0    FL  Currently Unavailable          32940.0   \n",
       "\n",
       "   countyCode   censusTract  censusBlockGroupFips  latitude  longitude  \\\n",
       "0      6073.0  6.073019e+09          6.073019e+10      33.2     -117.3   \n",
       "1     22071.0  2.207100e+10          2.207100e+11      29.9      -90.0   \n",
       "2     12113.0  1.211301e+10          1.211301e+11      30.4      -86.9   \n",
       "3     45013.0  4.501300e+10          4.501300e+11      32.4      -80.7   \n",
       "4     12009.0  1.200906e+10          1.200906e+11      28.3      -80.7   \n",
       "\n",
       "                                     id  \n",
       "0  23dcb0d8-3e61-45bf-899f-b951946ce2ff  \n",
       "1  55783cdd-ccbd-4b19-930b-072def248507  \n",
       "2  bfb5922b-1b21-4882-b1d4-b3825ff53e37  \n",
       "3  c1cf6e00-1e6d-4493-93fc-eb430ef15495  \n",
       "4  cad8334c-13f2-4837-bdcf-e09591197ff7  "
      ]
     },
     "execution_count": 12,
     "metadata": {},
     "output_type": "execute_result"
    }
   ],
   "source": [
    "df.head()"
   ]
  },
  {
   "cell_type": "code",
   "execution_count": 7,
   "metadata": {},
   "outputs": [
    {
     "data": {
      "text/plain": [
       "Index(['agricultureStructureIndicator', 'asOfDate',\n",
       "       'basementEnclosureCrawlspaceType', 'policyCount',\n",
       "       'crsClassificationCode', 'dateOfLoss', 'elevatedBuildingIndicator',\n",
       "       'elevationCertificateIndicator', 'elevationDifference',\n",
       "       'baseFloodElevation', 'ratedFloodZone', 'houseWorship',\n",
       "       'locationOfContents', 'lowestAdjacentGrade', 'lowestFloorElevation',\n",
       "       'numberOfFloorsInTheInsuredBuilding', 'nonProfitIndicator',\n",
       "       'obstructionType', 'occupancyType', 'originalConstructionDate',\n",
       "       'originalNBDate', 'amountPaidOnBuildingClaim',\n",
       "       'amountPaidOnContentsClaim',\n",
       "       'amountPaidOnIncreasedCostOfComplianceClaim',\n",
       "       'postFIRMConstructionIndicator', 'rateMethod',\n",
       "       'smallBusinessIndicatorBuilding', 'totalBuildingInsuranceCoverage',\n",
       "       'totalContentsInsuranceCoverage', 'yearOfLoss',\n",
       "       'primaryResidenceIndicator', 'buildingDamageAmount',\n",
       "       'buildingDeductibleCode', 'netBuildingPaymentAmount',\n",
       "       'buildingPropertyValue', 'causeOfDamage', 'condominiumCoverageTypeCode',\n",
       "       'contentsDamageAmount', 'contentsDeductibleCode',\n",
       "       'netContentsPaymentAmount', 'contentsPropertyValue',\n",
       "       'disasterAssistanceCoverageRequired', 'eventDesignationNumber',\n",
       "       'ficoNumber', 'floodCharacteristicsIndicator', 'floodWaterDuration',\n",
       "       'floodproofedIndicator', 'floodEvent', 'iccCoverage',\n",
       "       'netIccPaymentAmount', 'nfipRatedCommunityNumber',\n",
       "       'nfipCommunityNumberCurrent', 'nfipCommunityName',\n",
       "       'nonPaymentReasonContents', 'nonPaymentReasonBuilding', 'numberOfUnits',\n",
       "       'buildingReplacementCost', 'contentsReplacementCost',\n",
       "       'replacementCostBasis', 'stateOwnedIndicator', 'waterDepth',\n",
       "       'floodZoneCurrent', 'buildingDescriptionCode',\n",
       "       'rentalPropertyIndicator', 'state', 'reportedCity', 'reportedZipCode',\n",
       "       'countyCode', 'censusTract', 'censusBlockGroupFips', 'latitude',\n",
       "       'longitude', 'id'],\n",
       "      dtype='object')"
      ]
     },
     "execution_count": 7,
     "metadata": {},
     "output_type": "execute_result"
    }
   ],
   "source": [
    "df.columns"
   ]
  },
  {
   "cell_type": "markdown",
   "metadata": {},
   "source": [
    "WaterDepth Outliers"
   ]
  },
  {
   "cell_type": "code",
   "execution_count": 8,
   "metadata": {},
   "outputs": [
    {
     "data": {
      "text/plain": [
       "count    2.366780e+06\n",
       "mean     4.233036e+00\n",
       "std      1.622507e+01\n",
       "min     -9.990000e+02\n",
       "25%      0.000000e+00\n",
       "50%      1.000000e+00\n",
       "75%      2.000000e+00\n",
       "max      9.990000e+02\n",
       "Name: waterDepth, dtype: float64"
      ]
     },
     "execution_count": 8,
     "metadata": {},
     "output_type": "execute_result"
    }
   ],
   "source": [
    "df['waterDepth'].describe()"
   ]
  },
  {
   "cell_type": "code",
   "execution_count": 9,
   "metadata": {},
   "outputs": [
    {
     "data": {
      "text/plain": [
       "count                      2584242\n",
       "unique                      417287\n",
       "top       2020-01-22T16:55:53.194Z\n",
       "freq                       1114229\n",
       "Name: asOfDate, dtype: object"
      ]
     },
     "execution_count": 9,
     "metadata": {},
     "output_type": "execute_result"
    }
   ],
   "source": [
    "df['asOfDate'].describe()"
   ]
  },
  {
   "cell_type": "code",
   "execution_count": 13,
   "metadata": {},
   "outputs": [
    {
     "name": "stdout",
     "output_type": "stream",
     "text": [
      "First Date of Loss: 1978-01-01T00:00:00.000Z\n",
      "Last Date of Loss: 2023-04-12T00:00:00.000Z\n"
     ]
    }
   ],
   "source": [
    "print(\"First Date of Loss:\", df['dateOfLoss'].min())\n",
    "print(\"Last Date of Loss:\", df['dateOfLoss'].max())"
   ]
  },
  {
   "cell_type": "code",
   "execution_count": 14,
   "metadata": {},
   "outputs": [
    {
     "data": {
      "text/plain": [
       "2584242"
      ]
     },
     "execution_count": 14,
     "metadata": {},
     "output_type": "execute_result"
    }
   ],
   "source": [
    "len(df)"
   ]
  },
  {
   "cell_type": "code",
   "execution_count": null,
   "metadata": {},
   "outputs": [
    {
     "data": {
      "image/png": "[encoded data removed]",
      "text/plain": [
       "<Figure size 640x480 with 1 Axes>"
      ]
     },
     "metadata": {},
     "output_type": "display_data"
    }
   ],
   "source": [
    "frequency = df['waterDepth'].value_counts()\n",
    "\n",
    "# Sort the frequency distribution by the water depth values\n",
    "frequency_sorted = frequency.sort_index()\n",
    "\n",
    "# Plot the frequency distribution as a bar graph\n",
    "plt.bar(frequency_sorted.index, frequency_sorted.values)\n",
    "\n",
    "# Add labels and title to the graph\n",
    "plt.xlabel('Water Depth')\n",
    "plt.ylabel('Frequency')\n",
    "plt.title('Frequency Distribution of Water Depth')\n",
    "\n",
    "# Display the graph\n",
    "plt.show()"
   ]
  },
  {
   "cell_type": "code",
   "execution_count": null,
   "metadata": {},
   "outputs": [
    {
     "data": {
      "image/png": "[encoded data removed]",
      "text/plain": [
       "<Figure size 640x480 with 1 Axes>"
      ]
     },
     "metadata": {},
     "output_type": "display_data"
    },
    {
     "name": "stdout",
     "output_type": "stream",
     "text": [
      "Number of Outliers Removed: 17009\n",
      "Number of Observations Retained: 2349771\n"
     ]
    }
   ],
   "source": [
    "# Access the 'waterDepth' column from the DataFrame\n",
    "water_depth = df['waterDepth']\n",
    "\n",
    "# Calculate the lower and upper quantiles to remove the top and bottom 5 percent of values\n",
    "lower_quantile = water_depth.quantile(0.005)\n",
    "upper_quantile = water_depth.quantile(0.995)\n",
    "\n",
    "# Identify the outliers\n",
    "outliers = water_depth[(water_depth < lower_quantile) | (water_depth > upper_quantile)]\n",
    "\n",
    "# Exclude the outliers and keep the non-outlier observations\n",
    "water_depth_retained = water_depth[(water_depth >= lower_quantile) & (water_depth <= upper_quantile)]\n",
    "\n",
    "# Count the number of outliers removed\n",
    "num_outliers_removed = len(outliers)\n",
    "num_observations_retained = len(water_depth_retained)\n",
    "\n",
    "# Create a frequency distribution of the water depth values without outliers\n",
    "frequency = water_depth_retained.value_counts()\n",
    "\n",
    "# Sort the frequency distribution by the water depth values\n",
    "frequency_sorted = frequency.sort_index()\n",
    "\n",
    "# Plot the frequency distribution as a bar graph\n",
    "plt.bar(frequency_sorted.index, frequency_sorted.values)\n",
    "\n",
    "# Add labels and title to the graph\n",
    "plt.xlabel('Water Depth')\n",
    "plt.ylabel('Frequency')\n",
    "plt.title('Frequency Distribution of Water Depth (Middle 99%)')\n",
    "\n",
    "# Display the graph\n",
    "plt.show()\n",
    "\n",
    "# Print the number of outliers removed and the number of observations retained\n",
    "print(\"Number of Outliers Removed:\", num_outliers_removed)\n",
    "print(\"Number of Observations Retained:\", num_observations_retained)"
   ]
  },
  {
   "cell_type": "markdown",
   "metadata": {},
   "source": [
    "Looking into Named floods..."
   ]
  },
  {
   "cell_type": "code",
   "execution_count": null,
   "metadata": {},
   "outputs": [
    {
     "data": {
      "text/plain": [
       "Flooding                             357614\n",
       "Hurricane Katrina                    208348\n",
       "Hurricane Sandy                      144847\n",
       "Hurricane Harvey                      92394\n",
       "Hurricane Irene                       73685\n",
       "                                      ...  \n",
       "Tennessee Flash Flooding                  5\n",
       "Colorado Burn Scar Flash Flooding         3\n",
       "Las Vegas Flash Flooding                  2\n",
       "Arizona Burn Scar Flash Flooding          1\n",
       "Death Valley Flash Floods                 1\n",
       "Name: floodEvent, Length: 151, dtype: int64"
      ]
     },
     "execution_count": 8,
     "metadata": {},
     "output_type": "execute_result"
    }
   ],
   "source": [
    "df['floodEvent'].describe()\n",
    "df['floodEvent'].value_counts()"
   ]
  },
  {
   "cell_type": "code",
   "execution_count": null,
   "metadata": {},
   "outputs": [
    {
     "name": "stdout",
     "output_type": "stream",
     "text": [
      "2584242\n",
      "746138\n",
      "1532525\n",
      "584636\n"
     ]
    }
   ],
   "source": [
    "print(len(df))\n",
    "print(df['floodEvent'].isna().sum())\n",
    "print(df['contentsDamageAmount'].isna().sum())\n",
    "print(df['buildingDamageAmount'].isna().sum())"
   ]
  },
  {
   "cell_type": "code",
   "execution_count": null,
   "metadata": {},
   "outputs": [
    {
     "data": {
      "text/plain": [
       "count    8.104270e+05\n",
       "mean     2.039461e+04\n",
       "std      6.248279e+04\n",
       "min      0.000000e+00\n",
       "25%      2.090000e+03\n",
       "50%      7.556000e+03\n",
       "75%      2.302850e+04\n",
       "max      9.805102e+06\n",
       "Name: contentsDamageAmount, dtype: float64"
      ]
     },
     "execution_count": 10,
     "metadata": {},
     "output_type": "execute_result"
    }
   ],
   "source": [
    "subset_df = df[df['floodEvent'].notna()]\n",
    "subset_df['contentsDamageAmount'].describe()"
   ]
  },
  {
   "cell_type": "code",
   "execution_count": null,
   "metadata": {},
   "outputs": [
    {
     "data": {
      "image/png": "[encoded data removed]",
      "text/plain": [
       "<Figure size 1000x600 with 1 Axes>"
      ]
     },
     "metadata": {},
     "output_type": "display_data"
    }
   ],
   "source": [
    "plt.figure(figsize=(10,6))\n",
    "plt.scatter(subset_df['waterDepth'], subset_df['contentsDamageAmount'])\n",
    "plt.xlabel('waterDepth')\n",
    "plt.ylabel('contentsDamageAmount')\n",
    "plt.title('Water Depth vs Contents Damage Amount')\n",
    "plt.show()"
   ]
  },
  {
   "cell_type": "code",
   "execution_count": null,
   "metadata": {},
   "outputs": [
    {
     "data": {
      "image/png": "[encoded data removed]",
      "text/plain": [
       "<Figure size 1000x600 with 1 Axes>"
      ]
     },
     "metadata": {},
     "output_type": "display_data"
    }
   ],
   "source": [
    "plt.figure(figsize=(10,6))\n",
    "plt.scatter(subset_df['waterDepth'], subset_df['buildingDamageAmount'])\n",
    "plt.xlabel('waterDepth')\n",
    "plt.ylabel('buildingDamageAmount')\n",
    "plt.title('Water Depth vs Building Damage Amount')\n",
    "plt.show()"
   ]
  },
  {
   "cell_type": "markdown",
   "metadata": {},
   "source": [
    "New insights into US flood vulnerability FIG 1:"
   ]
  },
  {
   "cell_type": "markdown",
   "metadata": {},
   "source": [
    "Fig 1 looks at 'Relative Damage (%)'. Lets find a way to get that variable..."
   ]
  },
  {
   "cell_type": "code",
   "execution_count": null,
   "metadata": {},
   "outputs": [
    {
     "name": "stdout",
     "output_type": "stream",
     "text": [
      "Number of times 'buildingDamageAmount' is greater than 'buildingPropertyValue': 7337\n",
      "Number of times 'netBuildingPaymentAmount' is greater than 'buildingPropertyValue': 12972\n",
      "Number of times 'totalBuildingInsuranceCoverage' is greater than 'buildingPropertyValue': 817865\n"
     ]
    }
   ],
   "source": [
    "# Assuming you have a DataFrame named 'df' with columns 'buildingDamageAmount' and 'buildingPropertyValue'\n",
    "count_greater = (df['buildingDamageAmount'] > df['buildingPropertyValue']).sum()\n",
    "count_greater1 = (df['netBuildingPaymentAmount'] > df['buildingPropertyValue']).sum()\n",
    "count_greater2 = (df['totalBuildingInsuranceCoverage'] > df['buildingPropertyValue']).sum()\n",
    "\n",
    "print(\"Number of times 'buildingDamageAmount' is greater than 'buildingPropertyValue':\", count_greater)\n",
    "print(\"Number of times 'netBuildingPaymentAmount' is greater than 'buildingPropertyValue':\", count_greater1)\n",
    "print(\"Number of times 'totalBuildingInsuranceCoverage' is greater than 'buildingPropertyValue':\", count_greater2)"
   ]
  },
  {
   "cell_type": "code",
   "execution_count": null,
   "metadata": {},
   "outputs": [
    {
     "name": "stdout",
     "output_type": "stream",
     "text": [
      "count    1.999606e+06\n",
      "mean     3.588269e+04\n",
      "std      8.194523e+05\n",
      "min      0.000000e+00\n",
      "25%      3.413000e+03\n",
      "50%      1.106800e+04\n",
      "75%      3.962200e+04\n",
      "max      9.277000e+08\n",
      "Name: buildingDamageAmount, dtype: float64\n",
      "count    1.999606e+06\n",
      "mean     7.268628e+06\n",
      "std      2.017628e+08\n",
      "min      0.000000e+00\n",
      "25%      6.007425e+04\n",
      "50%      1.086610e+05\n",
      "75%      1.871620e+05\n",
      "max      9.950000e+09\n",
      "Name: buildingPropertyValue, dtype: float64\n"
     ]
    }
   ],
   "source": [
    "print(df['buildingDamageAmount'].describe())\n",
    "print(df['buildingPropertyValue'].describe())"
   ]
  },
  {
   "cell_type": "code",
   "execution_count": null,
   "metadata": {},
   "outputs": [],
   "source": [
    "df['relativeDamage'] = df['buildingDamageAmount']/df['buildingPropertyValue']"
   ]
  },
  {
   "cell_type": "code",
   "execution_count": null,
   "metadata": {},
   "outputs": [
    {
     "data": {
      "text/plain": [
       "count    1.988928e+06\n",
       "mean              inf\n",
       "std               NaN\n",
       "min      0.000000e+00\n",
       "25%      3.613412e-02\n",
       "50%      1.164329e-01\n",
       "75%      3.655940e-01\n",
       "max               inf\n",
       "Name: relativeDamage, dtype: float64"
      ]
     },
     "execution_count": 22,
     "metadata": {},
     "output_type": "execute_result"
    }
   ],
   "source": [
    "df['relativeDamage'].describe()"
   ]
  },
  {
   "cell_type": "markdown",
   "metadata": {},
   "source": [
    "Fig 1 only looks at 1 story no basement homes..."
   ]
  },
  {
   "cell_type": "code",
   "execution_count": null,
   "metadata": {},
   "outputs": [
    {
     "name": "stdout",
     "output_type": "stream",
     "text": [
      "2.0    279605\n",
      "0.0    227277\n",
      "1.0    215825\n",
      "4.0     43136\n",
      "Name: basementEnclosureCrawlspaceType, dtype: int64\n",
      "1.0    1320981\n",
      "2.0     803877\n",
      "3.0     365468\n",
      "5.0      38977\n",
      "4.0      36733\n",
      "6.0        961\n",
      "Name: numberOfFloorsInTheInsuredBuilding, dtype: int64\n"
     ]
    }
   ],
   "source": [
    "print(df['basementEnclosureCrawlspaceType'].value_counts())\n",
    "print(df['numberOfFloorsInTheInsuredBuilding'].value_counts())"
   ]
  },
  {
   "cell_type": "code",
   "execution_count": null,
   "metadata": {},
   "outputs": [
    {
     "name": "stdout",
     "output_type": "stream",
     "text": [
      "1299601\n"
     ]
    }
   ],
   "source": [
    "print(len(df[df['waterDepth'] > 0]))\n",
    "\n"
   ]
  },
  {
   "cell_type": "code",
   "execution_count": 154,
   "metadata": {},
   "outputs": [],
   "source": [
    "df['basementEnclosureCrawlspaceType'].describe() # 0 - None; 1 - Finished Basement/Enclosure; 2 - Unfinished Basement/Enclosure; 3 - Crawlspace; 4 - Subgrade Crawlspace\n",
    "df['numberOfFloorsInTheInsuredBuilding'].describe() # 1 = One floor; 2= Two floors; 3 = Three or more floors; 4 = Split-level; 5 = Manufactured (mobile) home or travel trailer on foundation; 6 = Townhouse/Rowhouse with three or more floors\n",
    "fig1_df = df[((df['occupancyType'] == 1) | (df['occupancyType'] == 2) | (df['occupancyType'] == 3) | (df['occupancyType'] == 11) | (df['occupancyType'] == 12) | (df['occupancyType'] == 13) | (df['occupancyType'] == 14) | (df['occupancyType'] == 15) | (df['occupancyType'] == 16)) & (df['numberOfFloorsInTheInsuredBuilding'] == 1) & (df['waterDepth'] >=0)]\n"
   ]
  },
  {
   "cell_type": "code",
   "execution_count": 155,
   "metadata": {},
   "outputs": [
    {
     "data": {
      "text/plain": [
       "1067441"
      ]
     },
     "execution_count": 155,
     "metadata": {},
     "output_type": "execute_result"
    }
   ],
   "source": [
    "len(fig1_df)"
   ]
  },
  {
   "cell_type": "code",
   "execution_count": 156,
   "metadata": {},
   "outputs": [
    {
     "data": {
      "text/plain": [
       "847686"
      ]
     },
     "execution_count": 156,
     "metadata": {},
     "output_type": "execute_result"
    }
   ],
   "source": [
    "len(fig1_df[fig1_df['dateOfLoss'] < '2015-01-01'])"
   ]
  },
  {
   "cell_type": "code",
   "execution_count": null,
   "metadata": {},
   "outputs": [
    {
     "name": "stdout",
     "output_type": "stream",
     "text": [
      "1002126\n",
      "count    7.714710e+05\n",
      "mean     3.738480e+04\n",
      "std      3.210483e+05\n",
      "min      0.000000e+00\n",
      "25%      3.662000e+03\n",
      "50%      1.326200e+04\n",
      "75%      5.015300e+04\n",
      "max      1.471300e+08\n",
      "Name: buildingDamageAmount, dtype: float64\n",
      "count    7.714710e+05\n",
      "mean     5.559307e+06\n",
      "std      1.788271e+08\n",
      "min      0.000000e+00\n",
      "25%      5.341050e+04\n",
      "50%      9.424200e+04\n",
      "75%      1.535400e+05\n",
      "max      9.784320e+09\n",
      "Name: buildingPropertyValue, dtype: float64\n",
      "230655\n",
      "8819\n"
     ]
    }
   ],
   "source": [
    "print(len(fig1_df))\n",
    "print(fig1_df['buildingDamageAmount'].describe())\n",
    "print(fig1_df['buildingPropertyValue'].describe())\n",
    "print(fig1_df['buildingPropertyValue'].isna().sum())\n",
    "print((fig1_df['buildingPropertyValue'] == 0).sum())"
   ]
  },
  {
   "cell_type": "markdown",
   "metadata": {},
   "source": [
    "Fig 1 without dealing with inch feet problem..."
   ]
  },
  {
   "cell_type": "code",
   "execution_count": null,
   "metadata": {},
   "outputs": [
    {
     "name": "stderr",
     "output_type": "stream",
     "text": [
      "c:\\Users\\USER\\AppData\\Local\\Programs\\Python\\Python311\\Lib\\site-packages\\numpy\\lib\\function_base.py:4529: RuntimeWarning: invalid value encountered in multiply\n",
      "  lerp_interpolation = asanyarray(add(a, diff_b_a * t, out=out))\n",
      "c:\\Users\\USER\\AppData\\Local\\Programs\\Python\\Python311\\Lib\\site-packages\\matplotlib\\cbook\\__init__.py:1257: RuntimeWarning: invalid value encountered in less_equal\n",
      "  wiskhi = x[x <= hival]\n",
      "c:\\Users\\USER\\AppData\\Local\\Programs\\Python\\Python311\\Lib\\site-packages\\matplotlib\\cbook\\__init__.py:1264: RuntimeWarning: invalid value encountered in greater_equal\n",
      "  wisklo = x[x >= loval]\n",
      "c:\\Users\\USER\\AppData\\Local\\Programs\\Python\\Python311\\Lib\\site-packages\\matplotlib\\cbook\\__init__.py:1273: RuntimeWarning: invalid value encountered in greater\n",
      "  x[x > stats['whishi']],\n",
      "c:\\Users\\USER\\AppData\\Local\\Programs\\Python\\Python311\\Lib\\site-packages\\numpy\\lib\\function_base.py:4530: RuntimeWarning: invalid value encountered in subtract\n",
      "  subtract(b, diff_b_a * (1 - t), out=lerp_interpolation, where=t >= 0.5)\n",
      "c:\\Users\\USER\\AppData\\Local\\Programs\\Python\\Python311\\Lib\\site-packages\\numpy\\lib\\function_base.py:4527: RuntimeWarning: invalid value encountered in subtract\n",
      "  diff_b_a = subtract(b, a)\n",
      "c:\\Users\\USER\\AppData\\Local\\Programs\\Python\\Python311\\Lib\\site-packages\\matplotlib\\cbook\\__init__.py:1272: RuntimeWarning: invalid value encountered in less\n",
      "  x[x < stats['whislo']],\n"
     ]
    },
    {
     "data": {
      "image/png": "[encoded data removed]",
      "text/plain": [
       "<Figure size 1000x600 with 1 Axes>"
      ]
     },
     "metadata": {},
     "output_type": "display_data"
    }
   ],
   "source": [
    "# Convert waterDepth from inches to feet and round to nearest foot\n",
    "fig1_df = fig1_df.copy()\n",
    "fig1_df['waterDepth_feet'] = (fig1_df['waterDepth'] / 12).round(0)\n",
    "\n",
    "# Create boxplots\n",
    "fig, ax = plt.subplots(figsize=(10,6))\n",
    "\n",
    "fig1_df.boxplot(column='relativeDamage', by='waterDepth_feet', ax=ax)\n",
    "\n",
    "plt.title('Relative Damage by Water Depth in Feet')\n",
    "plt.suptitle('')  # Suppress default title\n",
    "plt.xlabel('Water Depth (feet)')\n",
    "plt.ylabel('Relative Damage')\n",
    "\n",
    "plt.show()"
   ]
  },
  {
   "cell_type": "markdown",
   "metadata": {},
   "source": [
    "Now to deal with the inch and feet record issue..."
   ]
  },
  {
   "cell_type": "code",
   "execution_count": null,
   "metadata": {},
   "outputs": [],
   "source": [
    "#Visual inspection\n",
    "# Convert asOfDate to datetime if not already\n",
    "df['asOfDate'] = pd.to_datetime(df['asOfDate'])\n",
    "\n",
    "plt.figure(figsize=(10,6))\n",
    "plt.scatter(df['asOfDate'], df['waterDepth'])\n",
    "plt.title('Water Depth Over Time')\n",
    "plt.xlabel('Date')\n",
    "plt.ylabel('Water Depth')\n",
    "plt.show()\n"
   ]
  }
 ],
 "metadata": {
  "kernelspec": {
   "display_name": "Python 3 (ipykernel)",
   "language": "python",
   "name": "python3"
  },
  "language_info": {
   "codemirror_mode": {
    "name": "ipython",
    "version": 3
   },
   "file_extension": ".py",
   "mimetype": "text/x-python",
   "name": "python",
   "nbconvert_exporter": "python",
   "pygments_lexer": "ipython3",
   "version": "3.8.16"
  }
 },
 "nbformat": 4,
 "nbformat_minor": 2
}
