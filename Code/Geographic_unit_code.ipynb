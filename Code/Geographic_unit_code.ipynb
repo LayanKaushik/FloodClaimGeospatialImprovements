{
 "cells": [
  {
   "cell_type": "code",
   "execution_count": 1,
   "id": "794001f1",
   "metadata": {
    "tags": []
   },
   "outputs": [],
   "source": [
    "import pandas as pd\n",
    "import numpy as np\n",
    "import matplotlib.pyplot as plt\n",
    "import pyarrow as pa\n",
    "import pyarrow.parquet as pq\n",
    "import geopandas as gpd\n",
    "import seaborn as sns\n",
    "\n",
    "#Packages\n",
    "import pandas as pd\n",
    "import matplotlib.pyplot as plt\n",
    "import matplotlib.ticker as mtick\n",
    "import numpy as np\n",
    "from scipy import stats\n",
    "pd.set_option('display.max_columns', None)\n",
    "\n",
    "from scipy.stats import skew, kurtosis\n",
    "\n",
    "import pygris\n",
    "import shapely"
   ]
  },
  {
   "cell_type": "code",
   "execution_count": null,
   "id": "356e66c6",
   "metadata": {},
   "outputs": [],
   "source": [
    "# rm(list=ls()) \n",
    "\n",
    "# library(devtools)\n",
    "\n",
    "\n",
    "# library(choroplethrZip)\n",
    "# library(tidyverse)\n",
    "\n",
    "# https://github.com/arilamstein/choroplethrZip"
   ]
  },
  {
   "cell_type": "code",
   "execution_count": 2,
   "id": "43ad2a4a",
   "metadata": {
    "tags": []
   },
   "outputs": [],
   "source": [
    "df = pd.read_parquet(\"C:/Users/Asus/Box/Flood Damage PredictionProject/Dataset/FimaNfipClaims.parquet.gzip\")"
   ]
  },
  {
   "cell_type": "code",
   "execution_count": 11,
   "id": "7519d180-0d39-415e-b534-1aba187c0b61",
   "metadata": {
    "tags": []
   },
   "outputs": [],
   "source": [
    "df_copy = df.copy()"
   ]
  },
  {
   "cell_type": "code",
   "execution_count": 11,
   "id": "0e6ab71d-15ba-4dec-a026-a55987fd8f98",
   "metadata": {
    "tags": []
   },
   "outputs": [],
   "source": [
    "df_copy = df.copy()\n",
    "df_copy['censusBlockGroupFips'] = df_copy['censusBlockGroupFips'].fillna(0)\n",
    "df_copy['censusBlockGroupFips'] = [str(int(float(i))) for i in df_copy['censusBlockGroupFips']]\n",
    "df_copy['censusBlockGroupFips'] = [censusBG.zfill(12) for censusBG in df_copy['censusBlockGroupFips']]"
   ]
  },
  {
   "cell_type": "code",
   "execution_count": 12,
   "id": "6a15291c-f7e9-449a-9f08-aba49bc3c83e",
   "metadata": {
    "tags": []
   },
   "outputs": [],
   "source": [
    "df_copy['censusTract'] = df_copy['censusTract'].fillna(0)\n",
    "df_copy['censusTract'] = [str(int(float(i))) for i in df_copy['censusTract']]\n",
    "df_copy['censusTract'] = [censusBG.zfill(11) for censusBG in df_copy['censusTract']]"
   ]
  },
  {
   "cell_type": "code",
   "execution_count": 14,
   "id": "38e3235c-4e3a-4dad-b3e9-44eb3cb45f6f",
   "metadata": {
    "tags": []
   },
   "outputs": [],
   "source": [
    "df_copy['countyCode'] = df_copy['countyCode'].fillna(0)\n",
    "df_copy['countyCode'] = [str(int(float(i))) for i in df_copy['countyCode']]\n",
    "df_copy['countyCode'] = [censusBG.zfill(5) for censusBG in df_copy['countyCode']]"
   ]
  },
  {
   "cell_type": "code",
   "execution_count": 15,
   "id": "3116198a-a951-4c3f-9b6c-5e0f21d38c88",
   "metadata": {
    "tags": []
   },
   "outputs": [
    {
     "data": {
      "text/html": [
       "<div>\n",
       "<style scoped>\n",
       "    .dataframe tbody tr th:only-of-type {\n",
       "        vertical-align: middle;\n",
       "    }\n",
       "\n",
       "    .dataframe tbody tr th {\n",
       "        vertical-align: top;\n",
       "    }\n",
       "\n",
       "    .dataframe thead th {\n",
       "        text-align: right;\n",
       "    }\n",
       "</style>\n",
       "<table border=\"1\" class=\"dataframe\">\n",
       "  <thead>\n",
       "    <tr style=\"text-align: right;\">\n",
       "      <th></th>\n",
       "      <th>agricultureStructureIndicator</th>\n",
       "      <th>asOfDate</th>\n",
       "      <th>basementEnclosureCrawlspaceType</th>\n",
       "      <th>policyCount</th>\n",
       "      <th>crsClassificationCode</th>\n",
       "      <th>dateOfLoss</th>\n",
       "      <th>elevatedBuildingIndicator</th>\n",
       "      <th>elevationCertificateIndicator</th>\n",
       "      <th>elevationDifference</th>\n",
       "      <th>baseFloodElevation</th>\n",
       "      <th>ratedFloodZone</th>\n",
       "      <th>houseWorship</th>\n",
       "      <th>locationOfContents</th>\n",
       "      <th>lowestAdjacentGrade</th>\n",
       "      <th>lowestFloorElevation</th>\n",
       "      <th>numberOfFloorsInTheInsuredBuilding</th>\n",
       "      <th>nonProfitIndicator</th>\n",
       "      <th>obstructionType</th>\n",
       "      <th>occupancyType</th>\n",
       "      <th>originalConstructionDate</th>\n",
       "      <th>originalNBDate</th>\n",
       "      <th>amountPaidOnBuildingClaim</th>\n",
       "      <th>amountPaidOnContentsClaim</th>\n",
       "      <th>amountPaidOnIncreasedCostOfComplianceClaim</th>\n",
       "      <th>postFIRMConstructionIndicator</th>\n",
       "      <th>rateMethod</th>\n",
       "      <th>smallBusinessIndicatorBuilding</th>\n",
       "      <th>totalBuildingInsuranceCoverage</th>\n",
       "      <th>totalContentsInsuranceCoverage</th>\n",
       "      <th>yearOfLoss</th>\n",
       "      <th>primaryResidenceIndicator</th>\n",
       "      <th>buildingDamageAmount</th>\n",
       "      <th>buildingDeductibleCode</th>\n",
       "      <th>netBuildingPaymentAmount</th>\n",
       "      <th>buildingPropertyValue</th>\n",
       "      <th>causeOfDamage</th>\n",
       "      <th>condominiumCoverageTypeCode</th>\n",
       "      <th>contentsDamageAmount</th>\n",
       "      <th>contentsDeductibleCode</th>\n",
       "      <th>netContentsPaymentAmount</th>\n",
       "      <th>contentsPropertyValue</th>\n",
       "      <th>disasterAssistanceCoverageRequired</th>\n",
       "      <th>eventDesignationNumber</th>\n",
       "      <th>ficoNumber</th>\n",
       "      <th>floodCharacteristicsIndicator</th>\n",
       "      <th>floodWaterDuration</th>\n",
       "      <th>floodproofedIndicator</th>\n",
       "      <th>floodEvent</th>\n",
       "      <th>iccCoverage</th>\n",
       "      <th>netIccPaymentAmount</th>\n",
       "      <th>nfipRatedCommunityNumber</th>\n",
       "      <th>nfipCommunityNumberCurrent</th>\n",
       "      <th>nfipCommunityName</th>\n",
       "      <th>nonPaymentReasonContents</th>\n",
       "      <th>nonPaymentReasonBuilding</th>\n",
       "      <th>numberOfUnits</th>\n",
       "      <th>buildingReplacementCost</th>\n",
       "      <th>contentsReplacementCost</th>\n",
       "      <th>replacementCostBasis</th>\n",
       "      <th>stateOwnedIndicator</th>\n",
       "      <th>waterDepth</th>\n",
       "      <th>floodZoneCurrent</th>\n",
       "      <th>buildingDescriptionCode</th>\n",
       "      <th>rentalPropertyIndicator</th>\n",
       "      <th>state</th>\n",
       "      <th>reportedCity</th>\n",
       "      <th>reportedZipCode</th>\n",
       "      <th>countyCode</th>\n",
       "      <th>censusTract</th>\n",
       "      <th>censusBlockGroupFips</th>\n",
       "      <th>latitude</th>\n",
       "      <th>longitude</th>\n",
       "      <th>id</th>\n",
       "    </tr>\n",
       "  </thead>\n",
       "  <tbody>\n",
       "    <tr>\n",
       "      <th>0</th>\n",
       "      <td>0</td>\n",
       "      <td>2020-01-22T16:55:53.194Z</td>\n",
       "      <td>NaN</td>\n",
       "      <td>1</td>\n",
       "      <td>8.0</td>\n",
       "      <td>1998-02-07T00:00:00.000Z</td>\n",
       "      <td>0</td>\n",
       "      <td>nan</td>\n",
       "      <td>NaN</td>\n",
       "      <td>NaN</td>\n",
       "      <td>X</td>\n",
       "      <td>0</td>\n",
       "      <td>NaN</td>\n",
       "      <td>NaN</td>\n",
       "      <td>NaN</td>\n",
       "      <td>4.0</td>\n",
       "      <td>0</td>\n",
       "      <td>10.0</td>\n",
       "      <td>1.0</td>\n",
       "      <td>1963-01-01T00:00:00.000Z</td>\n",
       "      <td>1997-01-11T00:00:00.000Z</td>\n",
       "      <td>NaN</td>\n",
       "      <td>NaN</td>\n",
       "      <td>NaN</td>\n",
       "      <td>0</td>\n",
       "      <td>7</td>\n",
       "      <td>0</td>\n",
       "      <td>200000.0</td>\n",
       "      <td>50000.0</td>\n",
       "      <td>1998</td>\n",
       "      <td>0</td>\n",
       "      <td>382.0</td>\n",
       "      <td>0</td>\n",
       "      <td>0.00</td>\n",
       "      <td>937.0</td>\n",
       "      <td>1</td>\n",
       "      <td>N</td>\n",
       "      <td>NaN</td>\n",
       "      <td>0</td>\n",
       "      <td>0.0</td>\n",
       "      <td>NaN</td>\n",
       "      <td>0.0</td>\n",
       "      <td>None</td>\n",
       "      <td>612.0</td>\n",
       "      <td>NaN</td>\n",
       "      <td>0.0</td>\n",
       "      <td>0</td>\n",
       "      <td>Pineapple Express - Southern</td>\n",
       "      <td>15000.0</td>\n",
       "      <td>0.0</td>\n",
       "      <td>60294.0</td>\n",
       "      <td>None</td>\n",
       "      <td>OCEANSIDE, CITY OF</td>\n",
       "      <td>97.0</td>\n",
       "      <td>1.0</td>\n",
       "      <td>1.0</td>\n",
       "      <td>937.0</td>\n",
       "      <td>NaN</td>\n",
       "      <td>A</td>\n",
       "      <td>0</td>\n",
       "      <td>0.0</td>\n",
       "      <td>None</td>\n",
       "      <td>NaN</td>\n",
       "      <td>0</td>\n",
       "      <td>CA</td>\n",
       "      <td>Currently Unavailable</td>\n",
       "      <td>92056.0</td>\n",
       "      <td>06073</td>\n",
       "      <td>06073018512</td>\n",
       "      <td>060730185123</td>\n",
       "      <td>33.2</td>\n",
       "      <td>-117.3</td>\n",
       "      <td>23dcb0d8-3e61-45bf-899f-b951946ce2ff</td>\n",
       "    </tr>\n",
       "    <tr>\n",
       "      <th>1</th>\n",
       "      <td>0</td>\n",
       "      <td>2020-01-22T16:55:53.194Z</td>\n",
       "      <td>NaN</td>\n",
       "      <td>1</td>\n",
       "      <td>8.0</td>\n",
       "      <td>2005-08-29T00:00:00.000Z</td>\n",
       "      <td>0</td>\n",
       "      <td>nan</td>\n",
       "      <td>NaN</td>\n",
       "      <td>NaN</td>\n",
       "      <td>X</td>\n",
       "      <td>0</td>\n",
       "      <td>NaN</td>\n",
       "      <td>NaN</td>\n",
       "      <td>NaN</td>\n",
       "      <td>2.0</td>\n",
       "      <td>0</td>\n",
       "      <td>NaN</td>\n",
       "      <td>1.0</td>\n",
       "      <td>1967-07-01T00:00:00.000Z</td>\n",
       "      <td>1990-07-12T00:00:00.000Z</td>\n",
       "      <td>NaN</td>\n",
       "      <td>NaN</td>\n",
       "      <td>NaN</td>\n",
       "      <td>0</td>\n",
       "      <td>7</td>\n",
       "      <td>0</td>\n",
       "      <td>100000.0</td>\n",
       "      <td>40000.0</td>\n",
       "      <td>2005</td>\n",
       "      <td>1</td>\n",
       "      <td>NaN</td>\n",
       "      <td>0</td>\n",
       "      <td>0.00</td>\n",
       "      <td>NaN</td>\n",
       "      <td>1</td>\n",
       "      <td>N</td>\n",
       "      <td>NaN</td>\n",
       "      <td>0</td>\n",
       "      <td>0.0</td>\n",
       "      <td>NaN</td>\n",
       "      <td>0.0</td>\n",
       "      <td>None</td>\n",
       "      <td>654.0</td>\n",
       "      <td>NaN</td>\n",
       "      <td>0.0</td>\n",
       "      <td>0</td>\n",
       "      <td>Hurricane Katrina</td>\n",
       "      <td>30000.0</td>\n",
       "      <td>0.0</td>\n",
       "      <td>225203.0</td>\n",
       "      <td>None</td>\n",
       "      <td>NEW ORLEANS/ORLEANS PARISH*</td>\n",
       "      <td>6.0</td>\n",
       "      <td>6.0</td>\n",
       "      <td>1.0</td>\n",
       "      <td>NaN</td>\n",
       "      <td>NaN</td>\n",
       "      <td>A</td>\n",
       "      <td>0</td>\n",
       "      <td>0.0</td>\n",
       "      <td>None</td>\n",
       "      <td>NaN</td>\n",
       "      <td>0</td>\n",
       "      <td>LA</td>\n",
       "      <td>Currently Unavailable</td>\n",
       "      <td>70131.0</td>\n",
       "      <td>22071</td>\n",
       "      <td>22071000616</td>\n",
       "      <td>220710006163</td>\n",
       "      <td>29.9</td>\n",
       "      <td>-90.0</td>\n",
       "      <td>55783cdd-ccbd-4b19-930b-072def248507</td>\n",
       "    </tr>\n",
       "    <tr>\n",
       "      <th>2</th>\n",
       "      <td>0</td>\n",
       "      <td>2020-01-22T16:55:53.194Z</td>\n",
       "      <td>NaN</td>\n",
       "      <td>1</td>\n",
       "      <td>9.0</td>\n",
       "      <td>1998-09-28T00:00:00.000Z</td>\n",
       "      <td>0</td>\n",
       "      <td>nan</td>\n",
       "      <td>NaN</td>\n",
       "      <td>NaN</td>\n",
       "      <td>X</td>\n",
       "      <td>0</td>\n",
       "      <td>NaN</td>\n",
       "      <td>NaN</td>\n",
       "      <td>NaN</td>\n",
       "      <td>1.0</td>\n",
       "      <td>0</td>\n",
       "      <td>10.0</td>\n",
       "      <td>1.0</td>\n",
       "      <td>1972-01-01T00:00:00.000Z</td>\n",
       "      <td>1997-07-24T00:00:00.000Z</td>\n",
       "      <td>8813.21</td>\n",
       "      <td>1720.0</td>\n",
       "      <td>0.0</td>\n",
       "      <td>0</td>\n",
       "      <td>1</td>\n",
       "      <td>0</td>\n",
       "      <td>100000.0</td>\n",
       "      <td>50000.0</td>\n",
       "      <td>1998</td>\n",
       "      <td>1</td>\n",
       "      <td>9313.0</td>\n",
       "      <td>0</td>\n",
       "      <td>8813.21</td>\n",
       "      <td>80000.0</td>\n",
       "      <td>1</td>\n",
       "      <td>N</td>\n",
       "      <td>2220.0</td>\n",
       "      <td>0</td>\n",
       "      <td>1720.0</td>\n",
       "      <td>0.0</td>\n",
       "      <td>0.0</td>\n",
       "      <td>None</td>\n",
       "      <td>133.0</td>\n",
       "      <td>NaN</td>\n",
       "      <td>0.0</td>\n",
       "      <td>0</td>\n",
       "      <td>Hurricane Georges (Panhandle)</td>\n",
       "      <td>15000.0</td>\n",
       "      <td>0.0</td>\n",
       "      <td>120274.0</td>\n",
       "      <td>None</td>\n",
       "      <td>SANTA ROSA COUNTY *</td>\n",
       "      <td>NaN</td>\n",
       "      <td>NaN</td>\n",
       "      <td>1.0</td>\n",
       "      <td>100000.0</td>\n",
       "      <td>0.0</td>\n",
       "      <td>A</td>\n",
       "      <td>0</td>\n",
       "      <td>0.0</td>\n",
       "      <td>None</td>\n",
       "      <td>NaN</td>\n",
       "      <td>0</td>\n",
       "      <td>FL</td>\n",
       "      <td>Currently Unavailable</td>\n",
       "      <td>32566.0</td>\n",
       "      <td>12113</td>\n",
       "      <td>12113010815</td>\n",
       "      <td>121130108152</td>\n",
       "      <td>30.4</td>\n",
       "      <td>-86.9</td>\n",
       "      <td>bfb5922b-1b21-4882-b1d4-b3825ff53e37</td>\n",
       "    </tr>\n",
       "    <tr>\n",
       "      <th>3</th>\n",
       "      <td>0</td>\n",
       "      <td>2019-09-19T13:45:58.425Z</td>\n",
       "      <td>1.0</td>\n",
       "      <td>1</td>\n",
       "      <td>9.0</td>\n",
       "      <td>1994-10-07T00:00:00.000Z</td>\n",
       "      <td>0</td>\n",
       "      <td>nan</td>\n",
       "      <td>NaN</td>\n",
       "      <td>NaN</td>\n",
       "      <td>X</td>\n",
       "      <td>0</td>\n",
       "      <td>NaN</td>\n",
       "      <td>NaN</td>\n",
       "      <td>NaN</td>\n",
       "      <td>2.0</td>\n",
       "      <td>0</td>\n",
       "      <td>10.0</td>\n",
       "      <td>1.0</td>\n",
       "      <td>1960-01-01T00:00:00.000Z</td>\n",
       "      <td>1993-10-01T00:00:00.000Z</td>\n",
       "      <td>2906.00</td>\n",
       "      <td>0.0</td>\n",
       "      <td>0.0</td>\n",
       "      <td>0</td>\n",
       "      <td>7</td>\n",
       "      <td>0</td>\n",
       "      <td>100000.0</td>\n",
       "      <td>25000.0</td>\n",
       "      <td>1994</td>\n",
       "      <td>0</td>\n",
       "      <td>4428.0</td>\n",
       "      <td>0</td>\n",
       "      <td>2906.00</td>\n",
       "      <td>100000.0</td>\n",
       "      <td>1</td>\n",
       "      <td>N</td>\n",
       "      <td>NaN</td>\n",
       "      <td>0</td>\n",
       "      <td>0.0</td>\n",
       "      <td>NaN</td>\n",
       "      <td>0.0</td>\n",
       "      <td>None</td>\n",
       "      <td>NaN</td>\n",
       "      <td>NaN</td>\n",
       "      <td>0.0</td>\n",
       "      <td>0</td>\n",
       "      <td>None</td>\n",
       "      <td>NaN</td>\n",
       "      <td>0.0</td>\n",
       "      <td>450026.0</td>\n",
       "      <td>None</td>\n",
       "      <td>BEAUFORT, CITY OF</td>\n",
       "      <td>97.0</td>\n",
       "      <td>NaN</td>\n",
       "      <td>1.0</td>\n",
       "      <td>0.0</td>\n",
       "      <td>NaN</td>\n",
       "      <td>A</td>\n",
       "      <td>0</td>\n",
       "      <td>0.0</td>\n",
       "      <td>None</td>\n",
       "      <td>NaN</td>\n",
       "      <td>0</td>\n",
       "      <td>SC</td>\n",
       "      <td>Currently Unavailable</td>\n",
       "      <td>29902.0</td>\n",
       "      <td>45013</td>\n",
       "      <td>45013000700</td>\n",
       "      <td>450130007002</td>\n",
       "      <td>32.4</td>\n",
       "      <td>-80.7</td>\n",
       "      <td>c1cf6e00-1e6d-4493-93fc-eb430ef15495</td>\n",
       "    </tr>\n",
       "    <tr>\n",
       "      <th>4</th>\n",
       "      <td>0</td>\n",
       "      <td>2019-09-19T13:45:58.425Z</td>\n",
       "      <td>NaN</td>\n",
       "      <td>1</td>\n",
       "      <td>8.0</td>\n",
       "      <td>1996-03-11T00:00:00.000Z</td>\n",
       "      <td>0</td>\n",
       "      <td>nan</td>\n",
       "      <td>NaN</td>\n",
       "      <td>NaN</td>\n",
       "      <td>X</td>\n",
       "      <td>0</td>\n",
       "      <td>NaN</td>\n",
       "      <td>NaN</td>\n",
       "      <td>NaN</td>\n",
       "      <td>1.0</td>\n",
       "      <td>0</td>\n",
       "      <td>NaN</td>\n",
       "      <td>1.0</td>\n",
       "      <td>1988-01-01T00:00:00.000Z</td>\n",
       "      <td>1996-01-11T00:00:00.000Z</td>\n",
       "      <td>3875.53</td>\n",
       "      <td>1545.0</td>\n",
       "      <td>0.0</td>\n",
       "      <td>1</td>\n",
       "      <td>7</td>\n",
       "      <td>0</td>\n",
       "      <td>100000.0</td>\n",
       "      <td>25000.0</td>\n",
       "      <td>1996</td>\n",
       "      <td>1</td>\n",
       "      <td>5252.0</td>\n",
       "      <td>0</td>\n",
       "      <td>3875.53</td>\n",
       "      <td>100000.0</td>\n",
       "      <td>1</td>\n",
       "      <td>N</td>\n",
       "      <td>3115.0</td>\n",
       "      <td>0</td>\n",
       "      <td>1545.0</td>\n",
       "      <td>0.0</td>\n",
       "      <td>0.0</td>\n",
       "      <td>None</td>\n",
       "      <td>NaN</td>\n",
       "      <td>NaN</td>\n",
       "      <td>0.0</td>\n",
       "      <td>0</td>\n",
       "      <td>None</td>\n",
       "      <td>NaN</td>\n",
       "      <td>0.0</td>\n",
       "      <td>125092.0</td>\n",
       "      <td>None</td>\n",
       "      <td>BREVARD COUNTY *</td>\n",
       "      <td>NaN</td>\n",
       "      <td>NaN</td>\n",
       "      <td>1.0</td>\n",
       "      <td>0.0</td>\n",
       "      <td>0.0</td>\n",
       "      <td>A</td>\n",
       "      <td>0</td>\n",
       "      <td>0.0</td>\n",
       "      <td>None</td>\n",
       "      <td>1.0</td>\n",
       "      <td>0</td>\n",
       "      <td>FL</td>\n",
       "      <td>Currently Unavailable</td>\n",
       "      <td>32940.0</td>\n",
       "      <td>12009</td>\n",
       "      <td>12009063107</td>\n",
       "      <td>120090631073</td>\n",
       "      <td>28.3</td>\n",
       "      <td>-80.7</td>\n",
       "      <td>cad8334c-13f2-4837-bdcf-e09591197ff7</td>\n",
       "    </tr>\n",
       "  </tbody>\n",
       "</table>\n",
       "</div>"
      ],
      "text/plain": [
       "   agricultureStructureIndicator                  asOfDate  \\\n",
       "0                              0  2020-01-22T16:55:53.194Z   \n",
       "1                              0  2020-01-22T16:55:53.194Z   \n",
       "2                              0  2020-01-22T16:55:53.194Z   \n",
       "3                              0  2019-09-19T13:45:58.425Z   \n",
       "4                              0  2019-09-19T13:45:58.425Z   \n",
       "\n",
       "   basementEnclosureCrawlspaceType  policyCount  crsClassificationCode  \\\n",
       "0                              NaN            1                    8.0   \n",
       "1                              NaN            1                    8.0   \n",
       "2                              NaN            1                    9.0   \n",
       "3                              1.0            1                    9.0   \n",
       "4                              NaN            1                    8.0   \n",
       "\n",
       "                 dateOfLoss  elevatedBuildingIndicator  \\\n",
       "0  1998-02-07T00:00:00.000Z                          0   \n",
       "1  2005-08-29T00:00:00.000Z                          0   \n",
       "2  1998-09-28T00:00:00.000Z                          0   \n",
       "3  1994-10-07T00:00:00.000Z                          0   \n",
       "4  1996-03-11T00:00:00.000Z                          0   \n",
       "\n",
       "  elevationCertificateIndicator  elevationDifference  baseFloodElevation  \\\n",
       "0                           nan                  NaN                 NaN   \n",
       "1                           nan                  NaN                 NaN   \n",
       "2                           nan                  NaN                 NaN   \n",
       "3                           nan                  NaN                 NaN   \n",
       "4                           nan                  NaN                 NaN   \n",
       "\n",
       "  ratedFloodZone  houseWorship  locationOfContents  lowestAdjacentGrade  \\\n",
       "0              X             0                 NaN                  NaN   \n",
       "1              X             0                 NaN                  NaN   \n",
       "2              X             0                 NaN                  NaN   \n",
       "3              X             0                 NaN                  NaN   \n",
       "4              X             0                 NaN                  NaN   \n",
       "\n",
       "   lowestFloorElevation  numberOfFloorsInTheInsuredBuilding  \\\n",
       "0                   NaN                                 4.0   \n",
       "1                   NaN                                 2.0   \n",
       "2                   NaN                                 1.0   \n",
       "3                   NaN                                 2.0   \n",
       "4                   NaN                                 1.0   \n",
       "\n",
       "   nonProfitIndicator  obstructionType  occupancyType  \\\n",
       "0                   0             10.0            1.0   \n",
       "1                   0              NaN            1.0   \n",
       "2                   0             10.0            1.0   \n",
       "3                   0             10.0            1.0   \n",
       "4                   0              NaN            1.0   \n",
       "\n",
       "   originalConstructionDate            originalNBDate  \\\n",
       "0  1963-01-01T00:00:00.000Z  1997-01-11T00:00:00.000Z   \n",
       "1  1967-07-01T00:00:00.000Z  1990-07-12T00:00:00.000Z   \n",
       "2  1972-01-01T00:00:00.000Z  1997-07-24T00:00:00.000Z   \n",
       "3  1960-01-01T00:00:00.000Z  1993-10-01T00:00:00.000Z   \n",
       "4  1988-01-01T00:00:00.000Z  1996-01-11T00:00:00.000Z   \n",
       "\n",
       "   amountPaidOnBuildingClaim  amountPaidOnContentsClaim  \\\n",
       "0                        NaN                        NaN   \n",
       "1                        NaN                        NaN   \n",
       "2                    8813.21                     1720.0   \n",
       "3                    2906.00                        0.0   \n",
       "4                    3875.53                     1545.0   \n",
       "\n",
       "   amountPaidOnIncreasedCostOfComplianceClaim  postFIRMConstructionIndicator  \\\n",
       "0                                         NaN                              0   \n",
       "1                                         NaN                              0   \n",
       "2                                         0.0                              0   \n",
       "3                                         0.0                              0   \n",
       "4                                         0.0                              1   \n",
       "\n",
       "  rateMethod  smallBusinessIndicatorBuilding  totalBuildingInsuranceCoverage  \\\n",
       "0          7                               0                        200000.0   \n",
       "1          7                               0                        100000.0   \n",
       "2          1                               0                        100000.0   \n",
       "3          7                               0                        100000.0   \n",
       "4          7                               0                        100000.0   \n",
       "\n",
       "   totalContentsInsuranceCoverage  yearOfLoss  primaryResidenceIndicator  \\\n",
       "0                         50000.0        1998                          0   \n",
       "1                         40000.0        2005                          1   \n",
       "2                         50000.0        1998                          1   \n",
       "3                         25000.0        1994                          0   \n",
       "4                         25000.0        1996                          1   \n",
       "\n",
       "   buildingDamageAmount buildingDeductibleCode  netBuildingPaymentAmount  \\\n",
       "0                 382.0                      0                      0.00   \n",
       "1                   NaN                      0                      0.00   \n",
       "2                9313.0                      0                   8813.21   \n",
       "3                4428.0                      0                   2906.00   \n",
       "4                5252.0                      0                   3875.53   \n",
       "\n",
       "   buildingPropertyValue causeOfDamage condominiumCoverageTypeCode  \\\n",
       "0                  937.0             1                           N   \n",
       "1                    NaN             1                           N   \n",
       "2                80000.0             1                           N   \n",
       "3               100000.0             1                           N   \n",
       "4               100000.0             1                           N   \n",
       "\n",
       "   contentsDamageAmount contentsDeductibleCode  netContentsPaymentAmount  \\\n",
       "0                   NaN                      0                       0.0   \n",
       "1                   NaN                      0                       0.0   \n",
       "2                2220.0                      0                    1720.0   \n",
       "3                   NaN                      0                       0.0   \n",
       "4                3115.0                      0                    1545.0   \n",
       "\n",
       "   contentsPropertyValue  disasterAssistanceCoverageRequired  \\\n",
       "0                    NaN                                 0.0   \n",
       "1                    NaN                                 0.0   \n",
       "2                    0.0                                 0.0   \n",
       "3                    NaN                                 0.0   \n",
       "4                    0.0                                 0.0   \n",
       "\n",
       "  eventDesignationNumber  ficoNumber  floodCharacteristicsIndicator  \\\n",
       "0                   None       612.0                            NaN   \n",
       "1                   None       654.0                            NaN   \n",
       "2                   None       133.0                            NaN   \n",
       "3                   None         NaN                            NaN   \n",
       "4                   None         NaN                            NaN   \n",
       "\n",
       "   floodWaterDuration  floodproofedIndicator                     floodEvent  \\\n",
       "0                 0.0                      0   Pineapple Express - Southern   \n",
       "1                 0.0                      0              Hurricane Katrina   \n",
       "2                 0.0                      0  Hurricane Georges (Panhandle)   \n",
       "3                 0.0                      0                           None   \n",
       "4                 0.0                      0                           None   \n",
       "\n",
       "   iccCoverage  netIccPaymentAmount  nfipRatedCommunityNumber  \\\n",
       "0      15000.0                  0.0                   60294.0   \n",
       "1      30000.0                  0.0                  225203.0   \n",
       "2      15000.0                  0.0                  120274.0   \n",
       "3          NaN                  0.0                  450026.0   \n",
       "4          NaN                  0.0                  125092.0   \n",
       "\n",
       "  nfipCommunityNumberCurrent            nfipCommunityName  \\\n",
       "0                       None           OCEANSIDE, CITY OF   \n",
       "1                       None  NEW ORLEANS/ORLEANS PARISH*   \n",
       "2                       None          SANTA ROSA COUNTY *   \n",
       "3                       None            BEAUFORT, CITY OF   \n",
       "4                       None             BREVARD COUNTY *   \n",
       "\n",
       "   nonPaymentReasonContents  nonPaymentReasonBuilding  numberOfUnits  \\\n",
       "0                      97.0                       1.0            1.0   \n",
       "1                       6.0                       6.0            1.0   \n",
       "2                       NaN                       NaN            1.0   \n",
       "3                      97.0                       NaN            1.0   \n",
       "4                       NaN                       NaN            1.0   \n",
       "\n",
       "   buildingReplacementCost  contentsReplacementCost replacementCostBasis  \\\n",
       "0                    937.0                      NaN                    A   \n",
       "1                      NaN                      NaN                    A   \n",
       "2                 100000.0                      0.0                    A   \n",
       "3                      0.0                      NaN                    A   \n",
       "4                      0.0                      0.0                    A   \n",
       "\n",
       "   stateOwnedIndicator  waterDepth floodZoneCurrent  buildingDescriptionCode  \\\n",
       "0                    0         0.0             None                      NaN   \n",
       "1                    0         0.0             None                      NaN   \n",
       "2                    0         0.0             None                      NaN   \n",
       "3                    0         0.0             None                      NaN   \n",
       "4                    0         0.0             None                      1.0   \n",
       "\n",
       "   rentalPropertyIndicator state           reportedCity  reportedZipCode  \\\n",
       "0                        0    CA  Currently Unavailable          92056.0   \n",
       "1                        0    LA  Currently Unavailable          70131.0   \n",
       "2                        0    FL  Currently Unavailable          32566.0   \n",
       "3                        0    SC  Currently Unavailable          29902.0   \n",
       "4                        0    FL  Currently Unavailable          32940.0   \n",
       "\n",
       "  countyCode  censusTract censusBlockGroupFips  latitude  longitude  \\\n",
       "0      06073  06073018512         060730185123      33.2     -117.3   \n",
       "1      22071  22071000616         220710006163      29.9      -90.0   \n",
       "2      12113  12113010815         121130108152      30.4      -86.9   \n",
       "3      45013  45013000700         450130007002      32.4      -80.7   \n",
       "4      12009  12009063107         120090631073      28.3      -80.7   \n",
       "\n",
       "                                     id  \n",
       "0  23dcb0d8-3e61-45bf-899f-b951946ce2ff  \n",
       "1  55783cdd-ccbd-4b19-930b-072def248507  \n",
       "2  bfb5922b-1b21-4882-b1d4-b3825ff53e37  \n",
       "3  c1cf6e00-1e6d-4493-93fc-eb430ef15495  \n",
       "4  cad8334c-13f2-4837-bdcf-e09591197ff7  "
      ]
     },
     "execution_count": 15,
     "metadata": {},
     "output_type": "execute_result"
    }
   ],
   "source": [
    "df_copy.head()"
   ]
  },
  {
   "cell_type": "code",
   "execution_count": 18,
   "id": "f7c75931-1baa-4190-8e5c-fa9ac2393697",
   "metadata": {
    "tags": []
   },
   "outputs": [],
   "source": [
    "list_BG = ['420034961020', '360594169000', '390230000000', '120853819005', '482013428000']"
   ]
  },
  {
   "cell_type": "code",
   "execution_count": 124,
   "id": "4392a8ea-6c1d-49ac-b95c-a22dafa25b2e",
   "metadata": {
    "tags": []
   },
   "outputs": [],
   "source": [
    "list_Tract = ['12085381900', '39023000000']"
   ]
  },
  {
   "cell_type": "code",
   "execution_count": 125,
   "id": "0e0652f9-43eb-4d12-9ab1-2fb930f80271",
   "metadata": {
    "tags": []
   },
   "outputs": [],
   "source": [
    "test = df_copy[df_copy['censusTract'].isin(list_Tract)]"
   ]
  },
  {
   "cell_type": "code",
   "execution_count": 126,
   "id": "aca0a6bd-b124-4415-837e-de007c0d10f4",
   "metadata": {
    "tags": []
   },
   "outputs": [
    {
     "data": {
      "text/html": [
       "<div>\n",
       "<style scoped>\n",
       "    .dataframe tbody tr th:only-of-type {\n",
       "        vertical-align: middle;\n",
       "    }\n",
       "\n",
       "    .dataframe tbody tr th {\n",
       "        vertical-align: top;\n",
       "    }\n",
       "\n",
       "    .dataframe thead th {\n",
       "        text-align: right;\n",
       "    }\n",
       "</style>\n",
       "<table border=\"1\" class=\"dataframe\">\n",
       "  <thead>\n",
       "    <tr style=\"text-align: right;\">\n",
       "      <th></th>\n",
       "      <th>agricultureStructureIndicator</th>\n",
       "      <th>asOfDate</th>\n",
       "      <th>basementEnclosureCrawlspaceType</th>\n",
       "      <th>policyCount</th>\n",
       "      <th>crsClassificationCode</th>\n",
       "      <th>dateOfLoss</th>\n",
       "      <th>elevatedBuildingIndicator</th>\n",
       "      <th>elevationCertificateIndicator</th>\n",
       "      <th>elevationDifference</th>\n",
       "      <th>baseFloodElevation</th>\n",
       "      <th>ratedFloodZone</th>\n",
       "      <th>houseWorship</th>\n",
       "      <th>locationOfContents</th>\n",
       "      <th>lowestAdjacentGrade</th>\n",
       "      <th>lowestFloorElevation</th>\n",
       "      <th>numberOfFloorsInTheInsuredBuilding</th>\n",
       "      <th>nonProfitIndicator</th>\n",
       "      <th>obstructionType</th>\n",
       "      <th>occupancyType</th>\n",
       "      <th>originalConstructionDate</th>\n",
       "      <th>originalNBDate</th>\n",
       "      <th>amountPaidOnBuildingClaim</th>\n",
       "      <th>amountPaidOnContentsClaim</th>\n",
       "      <th>amountPaidOnIncreasedCostOfComplianceClaim</th>\n",
       "      <th>postFIRMConstructionIndicator</th>\n",
       "      <th>rateMethod</th>\n",
       "      <th>smallBusinessIndicatorBuilding</th>\n",
       "      <th>totalBuildingInsuranceCoverage</th>\n",
       "      <th>totalContentsInsuranceCoverage</th>\n",
       "      <th>yearOfLoss</th>\n",
       "      <th>primaryResidenceIndicator</th>\n",
       "      <th>buildingDamageAmount</th>\n",
       "      <th>buildingDeductibleCode</th>\n",
       "      <th>netBuildingPaymentAmount</th>\n",
       "      <th>buildingPropertyValue</th>\n",
       "      <th>causeOfDamage</th>\n",
       "      <th>condominiumCoverageTypeCode</th>\n",
       "      <th>contentsDamageAmount</th>\n",
       "      <th>contentsDeductibleCode</th>\n",
       "      <th>netContentsPaymentAmount</th>\n",
       "      <th>contentsPropertyValue</th>\n",
       "      <th>disasterAssistanceCoverageRequired</th>\n",
       "      <th>eventDesignationNumber</th>\n",
       "      <th>ficoNumber</th>\n",
       "      <th>floodCharacteristicsIndicator</th>\n",
       "      <th>floodWaterDuration</th>\n",
       "      <th>floodproofedIndicator</th>\n",
       "      <th>floodEvent</th>\n",
       "      <th>iccCoverage</th>\n",
       "      <th>netIccPaymentAmount</th>\n",
       "      <th>nfipRatedCommunityNumber</th>\n",
       "      <th>nfipCommunityNumberCurrent</th>\n",
       "      <th>nfipCommunityName</th>\n",
       "      <th>nonPaymentReasonContents</th>\n",
       "      <th>nonPaymentReasonBuilding</th>\n",
       "      <th>numberOfUnits</th>\n",
       "      <th>buildingReplacementCost</th>\n",
       "      <th>contentsReplacementCost</th>\n",
       "      <th>replacementCostBasis</th>\n",
       "      <th>stateOwnedIndicator</th>\n",
       "      <th>waterDepth</th>\n",
       "      <th>floodZoneCurrent</th>\n",
       "      <th>buildingDescriptionCode</th>\n",
       "      <th>rentalPropertyIndicator</th>\n",
       "      <th>state</th>\n",
       "      <th>reportedCity</th>\n",
       "      <th>reportedZipCode</th>\n",
       "      <th>countyCode</th>\n",
       "      <th>censusTract</th>\n",
       "      <th>censusBlockGroupFips</th>\n",
       "      <th>latitude</th>\n",
       "      <th>longitude</th>\n",
       "      <th>id</th>\n",
       "    </tr>\n",
       "  </thead>\n",
       "  <tbody>\n",
       "    <tr>\n",
       "      <th>589026</th>\n",
       "      <td>0</td>\n",
       "      <td>2020-01-22T16:55:53.194Z</td>\n",
       "      <td>NaN</td>\n",
       "      <td>1</td>\n",
       "      <td>8.0</td>\n",
       "      <td>2004-09-05T00:00:00.000Z</td>\n",
       "      <td>1</td>\n",
       "      <td>nan</td>\n",
       "      <td>1.0</td>\n",
       "      <td>7.0</td>\n",
       "      <td>AE</td>\n",
       "      <td>0</td>\n",
       "      <td>3.0</td>\n",
       "      <td>5.8</td>\n",
       "      <td>7.9</td>\n",
       "      <td>1.0</td>\n",
       "      <td>0</td>\n",
       "      <td>10.0</td>\n",
       "      <td>1.0</td>\n",
       "      <td>1988-06-06T00:00:00.000Z</td>\n",
       "      <td>2004-04-22T00:00:00.000Z</td>\n",
       "      <td>NaN</td>\n",
       "      <td>NaN</td>\n",
       "      <td>NaN</td>\n",
       "      <td>1</td>\n",
       "      <td>1</td>\n",
       "      <td>0</td>\n",
       "      <td>250000.0</td>\n",
       "      <td>100000.0</td>\n",
       "      <td>2004</td>\n",
       "      <td>1</td>\n",
       "      <td>NaN</td>\n",
       "      <td>0</td>\n",
       "      <td>0.00</td>\n",
       "      <td>NaN</td>\n",
       "      <td>None</td>\n",
       "      <td>N</td>\n",
       "      <td>NaN</td>\n",
       "      <td>0</td>\n",
       "      <td>0.0</td>\n",
       "      <td>NaN</td>\n",
       "      <td>0.0</td>\n",
       "      <td>None</td>\n",
       "      <td>641.0</td>\n",
       "      <td>NaN</td>\n",
       "      <td>0.0</td>\n",
       "      <td>0</td>\n",
       "      <td>Hurricane Frances</td>\n",
       "      <td>30000.0</td>\n",
       "      <td>0.0</td>\n",
       "      <td>120285.0</td>\n",
       "      <td>None</td>\n",
       "      <td>ST. LUCIE COUNTY *</td>\n",
       "      <td>6.0</td>\n",
       "      <td>6.0</td>\n",
       "      <td>1.0</td>\n",
       "      <td>NaN</td>\n",
       "      <td>NaN</td>\n",
       "      <td>None</td>\n",
       "      <td>0</td>\n",
       "      <td>0.0</td>\n",
       "      <td>None</td>\n",
       "      <td>1.0</td>\n",
       "      <td>0</td>\n",
       "      <td>FL</td>\n",
       "      <td>Currently Unavailable</td>\n",
       "      <td>34994.0</td>\n",
       "      <td>12085</td>\n",
       "      <td>12085381900</td>\n",
       "      <td>120853819005</td>\n",
       "      <td>27.2</td>\n",
       "      <td>-80.3</td>\n",
       "      <td>a8f6669c-9265-4977-a061-71661eea84fd</td>\n",
       "    </tr>\n",
       "    <tr>\n",
       "      <th>589027</th>\n",
       "      <td>0</td>\n",
       "      <td>2020-01-22T16:55:53.194Z</td>\n",
       "      <td>NaN</td>\n",
       "      <td>1</td>\n",
       "      <td>8.0</td>\n",
       "      <td>2004-09-26T00:00:00.000Z</td>\n",
       "      <td>1</td>\n",
       "      <td>nan</td>\n",
       "      <td>1.0</td>\n",
       "      <td>7.0</td>\n",
       "      <td>AE</td>\n",
       "      <td>0</td>\n",
       "      <td>3.0</td>\n",
       "      <td>5.8</td>\n",
       "      <td>7.9</td>\n",
       "      <td>1.0</td>\n",
       "      <td>0</td>\n",
       "      <td>10.0</td>\n",
       "      <td>1.0</td>\n",
       "      <td>1988-06-06T00:00:00.000Z</td>\n",
       "      <td>2004-04-22T00:00:00.000Z</td>\n",
       "      <td>2880.00</td>\n",
       "      <td>0.0</td>\n",
       "      <td>0.0</td>\n",
       "      <td>1</td>\n",
       "      <td>1</td>\n",
       "      <td>0</td>\n",
       "      <td>250000.0</td>\n",
       "      <td>100000.0</td>\n",
       "      <td>2004</td>\n",
       "      <td>1</td>\n",
       "      <td>3380.0</td>\n",
       "      <td>0</td>\n",
       "      <td>2880.00</td>\n",
       "      <td>255400.0</td>\n",
       "      <td>1</td>\n",
       "      <td>N</td>\n",
       "      <td>NaN</td>\n",
       "      <td>0</td>\n",
       "      <td>0.0</td>\n",
       "      <td>NaN</td>\n",
       "      <td>0.0</td>\n",
       "      <td>None</td>\n",
       "      <td>646.0</td>\n",
       "      <td>NaN</td>\n",
       "      <td>0.0</td>\n",
       "      <td>0</td>\n",
       "      <td>Hurricane Jeanne</td>\n",
       "      <td>30000.0</td>\n",
       "      <td>0.0</td>\n",
       "      <td>120285.0</td>\n",
       "      <td>None</td>\n",
       "      <td>ST. LUCIE COUNTY *</td>\n",
       "      <td>20.0</td>\n",
       "      <td>NaN</td>\n",
       "      <td>1.0</td>\n",
       "      <td>319250.0</td>\n",
       "      <td>NaN</td>\n",
       "      <td>R</td>\n",
       "      <td>0</td>\n",
       "      <td>1.0</td>\n",
       "      <td>None</td>\n",
       "      <td>1.0</td>\n",
       "      <td>0</td>\n",
       "      <td>FL</td>\n",
       "      <td>Currently Unavailable</td>\n",
       "      <td>34994.0</td>\n",
       "      <td>12085</td>\n",
       "      <td>12085381900</td>\n",
       "      <td>120853819005</td>\n",
       "      <td>27.2</td>\n",
       "      <td>-80.3</td>\n",
       "      <td>58afac69-c56c-4542-bd1f-6ea3e1b3ba48</td>\n",
       "    </tr>\n",
       "    <tr>\n",
       "      <th>639311</th>\n",
       "      <td>0</td>\n",
       "      <td>2020-01-22T16:55:53.194Z</td>\n",
       "      <td>2.0</td>\n",
       "      <td>1</td>\n",
       "      <td>NaN</td>\n",
       "      <td>2014-05-21T00:00:00.000Z</td>\n",
       "      <td>0</td>\n",
       "      <td>nan</td>\n",
       "      <td>NaN</td>\n",
       "      <td>NaN</td>\n",
       "      <td>AE</td>\n",
       "      <td>0</td>\n",
       "      <td>NaN</td>\n",
       "      <td>NaN</td>\n",
       "      <td>NaN</td>\n",
       "      <td>2.0</td>\n",
       "      <td>0</td>\n",
       "      <td>NaN</td>\n",
       "      <td>1.0</td>\n",
       "      <td>1954-01-01T00:00:00.000Z</td>\n",
       "      <td>2013-04-23T00:00:00.000Z</td>\n",
       "      <td>NaN</td>\n",
       "      <td>NaN</td>\n",
       "      <td>NaN</td>\n",
       "      <td>0</td>\n",
       "      <td>1</td>\n",
       "      <td>0</td>\n",
       "      <td>162000.0</td>\n",
       "      <td>0.0</td>\n",
       "      <td>2014</td>\n",
       "      <td>0</td>\n",
       "      <td>1935.0</td>\n",
       "      <td>5</td>\n",
       "      <td>0.00</td>\n",
       "      <td>124259.0</td>\n",
       "      <td>4</td>\n",
       "      <td>N</td>\n",
       "      <td>NaN</td>\n",
       "      <td>0</td>\n",
       "      <td>0.0</td>\n",
       "      <td>NaN</td>\n",
       "      <td>0.0</td>\n",
       "      <td>None</td>\n",
       "      <td>NaN</td>\n",
       "      <td>NaN</td>\n",
       "      <td>0.0</td>\n",
       "      <td>0</td>\n",
       "      <td>None</td>\n",
       "      <td>30000.0</td>\n",
       "      <td>0.0</td>\n",
       "      <td>390732.0</td>\n",
       "      <td>None</td>\n",
       "      <td>CLARK COUNTY*</td>\n",
       "      <td>NaN</td>\n",
       "      <td>1.0</td>\n",
       "      <td>1.0</td>\n",
       "      <td>191168.0</td>\n",
       "      <td>NaN</td>\n",
       "      <td>R</td>\n",
       "      <td>0</td>\n",
       "      <td>6.0</td>\n",
       "      <td>None</td>\n",
       "      <td>1.0</td>\n",
       "      <td>0</td>\n",
       "      <td>OH</td>\n",
       "      <td>Currently Unavailable</td>\n",
       "      <td>45324.0</td>\n",
       "      <td>39023</td>\n",
       "      <td>39023000000</td>\n",
       "      <td>390230000000</td>\n",
       "      <td>39.9</td>\n",
       "      <td>-84.0</td>\n",
       "      <td>ef7315f4-61fc-43fd-b45c-e7a58f50e78a</td>\n",
       "    </tr>\n",
       "    <tr>\n",
       "      <th>1165874</th>\n",
       "      <td>0</td>\n",
       "      <td>2020-01-22T16:55:53.194Z</td>\n",
       "      <td>NaN</td>\n",
       "      <td>1</td>\n",
       "      <td>8.0</td>\n",
       "      <td>2004-09-25T00:00:00.000Z</td>\n",
       "      <td>1</td>\n",
       "      <td>nan</td>\n",
       "      <td>2.0</td>\n",
       "      <td>100.0</td>\n",
       "      <td>AE</td>\n",
       "      <td>0</td>\n",
       "      <td>4.0</td>\n",
       "      <td>NaN</td>\n",
       "      <td>102.0</td>\n",
       "      <td>2.0</td>\n",
       "      <td>0</td>\n",
       "      <td>10.0</td>\n",
       "      <td>1.0</td>\n",
       "      <td>1981-06-16T00:00:00.000Z</td>\n",
       "      <td>2002-10-26T00:00:00.000Z</td>\n",
       "      <td>4356.41</td>\n",
       "      <td>0.0</td>\n",
       "      <td>0.0</td>\n",
       "      <td>0</td>\n",
       "      <td>1</td>\n",
       "      <td>0</td>\n",
       "      <td>250000.0</td>\n",
       "      <td>100000.0</td>\n",
       "      <td>2004</td>\n",
       "      <td>1</td>\n",
       "      <td>4857.0</td>\n",
       "      <td>0</td>\n",
       "      <td>4356.41</td>\n",
       "      <td>461199.0</td>\n",
       "      <td>1</td>\n",
       "      <td>N</td>\n",
       "      <td>NaN</td>\n",
       "      <td>0</td>\n",
       "      <td>0.0</td>\n",
       "      <td>NaN</td>\n",
       "      <td>0.0</td>\n",
       "      <td>None</td>\n",
       "      <td>646.0</td>\n",
       "      <td>NaN</td>\n",
       "      <td>0.0</td>\n",
       "      <td>0</td>\n",
       "      <td>Hurricane Jeanne</td>\n",
       "      <td>30000.0</td>\n",
       "      <td>0.0</td>\n",
       "      <td>120285.0</td>\n",
       "      <td>None</td>\n",
       "      <td>ST. LUCIE COUNTY *</td>\n",
       "      <td>20.0</td>\n",
       "      <td>NaN</td>\n",
       "      <td>1.0</td>\n",
       "      <td>524090.0</td>\n",
       "      <td>NaN</td>\n",
       "      <td>R</td>\n",
       "      <td>0</td>\n",
       "      <td>3.0</td>\n",
       "      <td>None</td>\n",
       "      <td>1.0</td>\n",
       "      <td>0</td>\n",
       "      <td>FL</td>\n",
       "      <td>Currently Unavailable</td>\n",
       "      <td>34994.0</td>\n",
       "      <td>12085</td>\n",
       "      <td>12085381900</td>\n",
       "      <td>120853819005</td>\n",
       "      <td>27.2</td>\n",
       "      <td>-80.3</td>\n",
       "      <td>e433289f-cdad-44f6-8664-7c760ede986f</td>\n",
       "    </tr>\n",
       "    <tr>\n",
       "      <th>1188485</th>\n",
       "      <td>0</td>\n",
       "      <td>2020-01-22T16:55:53.194Z</td>\n",
       "      <td>NaN</td>\n",
       "      <td>1</td>\n",
       "      <td>8.0</td>\n",
       "      <td>2004-09-26T00:00:00.000Z</td>\n",
       "      <td>0</td>\n",
       "      <td>nan</td>\n",
       "      <td>2.0</td>\n",
       "      <td>7.0</td>\n",
       "      <td>AE</td>\n",
       "      <td>0</td>\n",
       "      <td>4.0</td>\n",
       "      <td>8.7</td>\n",
       "      <td>9.3</td>\n",
       "      <td>2.0</td>\n",
       "      <td>0</td>\n",
       "      <td>NaN</td>\n",
       "      <td>1.0</td>\n",
       "      <td>2001-02-01T00:00:00.000Z</td>\n",
       "      <td>2001-03-14T00:00:00.000Z</td>\n",
       "      <td>10362.40</td>\n",
       "      <td>0.0</td>\n",
       "      <td>0.0</td>\n",
       "      <td>1</td>\n",
       "      <td>1</td>\n",
       "      <td>0</td>\n",
       "      <td>250000.0</td>\n",
       "      <td>100000.0</td>\n",
       "      <td>2004</td>\n",
       "      <td>1</td>\n",
       "      <td>10862.0</td>\n",
       "      <td>0</td>\n",
       "      <td>10362.40</td>\n",
       "      <td>250000.0</td>\n",
       "      <td>0</td>\n",
       "      <td>N</td>\n",
       "      <td>NaN</td>\n",
       "      <td>0</td>\n",
       "      <td>0.0</td>\n",
       "      <td>NaN</td>\n",
       "      <td>0.0</td>\n",
       "      <td>None</td>\n",
       "      <td>646.0</td>\n",
       "      <td>NaN</td>\n",
       "      <td>0.0</td>\n",
       "      <td>0</td>\n",
       "      <td>Hurricane Jeanne</td>\n",
       "      <td>30000.0</td>\n",
       "      <td>0.0</td>\n",
       "      <td>120285.0</td>\n",
       "      <td>None</td>\n",
       "      <td>ST. LUCIE COUNTY *</td>\n",
       "      <td>97.0</td>\n",
       "      <td>NaN</td>\n",
       "      <td>1.0</td>\n",
       "      <td>250000.0</td>\n",
       "      <td>NaN</td>\n",
       "      <td>A</td>\n",
       "      <td>0</td>\n",
       "      <td>0.0</td>\n",
       "      <td>None</td>\n",
       "      <td>1.0</td>\n",
       "      <td>0</td>\n",
       "      <td>FL</td>\n",
       "      <td>Currently Unavailable</td>\n",
       "      <td>34994.0</td>\n",
       "      <td>12085</td>\n",
       "      <td>12085381900</td>\n",
       "      <td>120853819005</td>\n",
       "      <td>27.2</td>\n",
       "      <td>-80.3</td>\n",
       "      <td>d775860b-6277-46e0-9c67-6ff30a6b6e81</td>\n",
       "    </tr>\n",
       "  </tbody>\n",
       "</table>\n",
       "</div>"
      ],
      "text/plain": [
       "         agricultureStructureIndicator                  asOfDate  \\\n",
       "589026                               0  2020-01-22T16:55:53.194Z   \n",
       "589027                               0  2020-01-22T16:55:53.194Z   \n",
       "639311                               0  2020-01-22T16:55:53.194Z   \n",
       "1165874                              0  2020-01-22T16:55:53.194Z   \n",
       "1188485                              0  2020-01-22T16:55:53.194Z   \n",
       "\n",
       "         basementEnclosureCrawlspaceType  policyCount  crsClassificationCode  \\\n",
       "589026                               NaN            1                    8.0   \n",
       "589027                               NaN            1                    8.0   \n",
       "639311                               2.0            1                    NaN   \n",
       "1165874                              NaN            1                    8.0   \n",
       "1188485                              NaN            1                    8.0   \n",
       "\n",
       "                       dateOfLoss  elevatedBuildingIndicator  \\\n",
       "589026   2004-09-05T00:00:00.000Z                          1   \n",
       "589027   2004-09-26T00:00:00.000Z                          1   \n",
       "639311   2014-05-21T00:00:00.000Z                          0   \n",
       "1165874  2004-09-25T00:00:00.000Z                          1   \n",
       "1188485  2004-09-26T00:00:00.000Z                          0   \n",
       "\n",
       "        elevationCertificateIndicator  elevationDifference  \\\n",
       "589026                            nan                  1.0   \n",
       "589027                            nan                  1.0   \n",
       "639311                            nan                  NaN   \n",
       "1165874                           nan                  2.0   \n",
       "1188485                           nan                  2.0   \n",
       "\n",
       "         baseFloodElevation ratedFloodZone  houseWorship  locationOfContents  \\\n",
       "589026                  7.0             AE             0                 3.0   \n",
       "589027                  7.0             AE             0                 3.0   \n",
       "639311                  NaN             AE             0                 NaN   \n",
       "1165874               100.0             AE             0                 4.0   \n",
       "1188485                 7.0             AE             0                 4.0   \n",
       "\n",
       "         lowestAdjacentGrade  lowestFloorElevation  \\\n",
       "589026                   5.8                   7.9   \n",
       "589027                   5.8                   7.9   \n",
       "639311                   NaN                   NaN   \n",
       "1165874                  NaN                 102.0   \n",
       "1188485                  8.7                   9.3   \n",
       "\n",
       "         numberOfFloorsInTheInsuredBuilding  nonProfitIndicator  \\\n",
       "589026                                  1.0                   0   \n",
       "589027                                  1.0                   0   \n",
       "639311                                  2.0                   0   \n",
       "1165874                                 2.0                   0   \n",
       "1188485                                 2.0                   0   \n",
       "\n",
       "         obstructionType  occupancyType  originalConstructionDate  \\\n",
       "589026              10.0            1.0  1988-06-06T00:00:00.000Z   \n",
       "589027              10.0            1.0  1988-06-06T00:00:00.000Z   \n",
       "639311               NaN            1.0  1954-01-01T00:00:00.000Z   \n",
       "1165874             10.0            1.0  1981-06-16T00:00:00.000Z   \n",
       "1188485              NaN            1.0  2001-02-01T00:00:00.000Z   \n",
       "\n",
       "                   originalNBDate  amountPaidOnBuildingClaim  \\\n",
       "589026   2004-04-22T00:00:00.000Z                        NaN   \n",
       "589027   2004-04-22T00:00:00.000Z                    2880.00   \n",
       "639311   2013-04-23T00:00:00.000Z                        NaN   \n",
       "1165874  2002-10-26T00:00:00.000Z                    4356.41   \n",
       "1188485  2001-03-14T00:00:00.000Z                   10362.40   \n",
       "\n",
       "         amountPaidOnContentsClaim  \\\n",
       "589026                         NaN   \n",
       "589027                         0.0   \n",
       "639311                         NaN   \n",
       "1165874                        0.0   \n",
       "1188485                        0.0   \n",
       "\n",
       "         amountPaidOnIncreasedCostOfComplianceClaim  \\\n",
       "589026                                          NaN   \n",
       "589027                                          0.0   \n",
       "639311                                          NaN   \n",
       "1165874                                         0.0   \n",
       "1188485                                         0.0   \n",
       "\n",
       "         postFIRMConstructionIndicator rateMethod  \\\n",
       "589026                               1          1   \n",
       "589027                               1          1   \n",
       "639311                               0          1   \n",
       "1165874                              0          1   \n",
       "1188485                              1          1   \n",
       "\n",
       "         smallBusinessIndicatorBuilding  totalBuildingInsuranceCoverage  \\\n",
       "589026                                0                        250000.0   \n",
       "589027                                0                        250000.0   \n",
       "639311                                0                        162000.0   \n",
       "1165874                               0                        250000.0   \n",
       "1188485                               0                        250000.0   \n",
       "\n",
       "         totalContentsInsuranceCoverage  yearOfLoss  \\\n",
       "589026                         100000.0        2004   \n",
       "589027                         100000.0        2004   \n",
       "639311                              0.0        2014   \n",
       "1165874                        100000.0        2004   \n",
       "1188485                        100000.0        2004   \n",
       "\n",
       "         primaryResidenceIndicator  buildingDamageAmount  \\\n",
       "589026                           1                   NaN   \n",
       "589027                           1                3380.0   \n",
       "639311                           0                1935.0   \n",
       "1165874                          1                4857.0   \n",
       "1188485                          1               10862.0   \n",
       "\n",
       "        buildingDeductibleCode  netBuildingPaymentAmount  \\\n",
       "589026                       0                      0.00   \n",
       "589027                       0                   2880.00   \n",
       "639311                       5                      0.00   \n",
       "1165874                      0                   4356.41   \n",
       "1188485                      0                  10362.40   \n",
       "\n",
       "         buildingPropertyValue causeOfDamage condominiumCoverageTypeCode  \\\n",
       "589026                     NaN          None                           N   \n",
       "589027                255400.0             1                           N   \n",
       "639311                124259.0             4                           N   \n",
       "1165874               461199.0             1                           N   \n",
       "1188485               250000.0             0                           N   \n",
       "\n",
       "         contentsDamageAmount contentsDeductibleCode  \\\n",
       "589026                    NaN                      0   \n",
       "589027                    NaN                      0   \n",
       "639311                    NaN                      0   \n",
       "1165874                   NaN                      0   \n",
       "1188485                   NaN                      0   \n",
       "\n",
       "         netContentsPaymentAmount  contentsPropertyValue  \\\n",
       "589026                        0.0                    NaN   \n",
       "589027                        0.0                    NaN   \n",
       "639311                        0.0                    NaN   \n",
       "1165874                       0.0                    NaN   \n",
       "1188485                       0.0                    NaN   \n",
       "\n",
       "         disasterAssistanceCoverageRequired eventDesignationNumber  \\\n",
       "589026                                  0.0                   None   \n",
       "589027                                  0.0                   None   \n",
       "639311                                  0.0                   None   \n",
       "1165874                                 0.0                   None   \n",
       "1188485                                 0.0                   None   \n",
       "\n",
       "         ficoNumber  floodCharacteristicsIndicator  floodWaterDuration  \\\n",
       "589026        641.0                            NaN                 0.0   \n",
       "589027        646.0                            NaN                 0.0   \n",
       "639311          NaN                            NaN                 0.0   \n",
       "1165874       646.0                            NaN                 0.0   \n",
       "1188485       646.0                            NaN                 0.0   \n",
       "\n",
       "         floodproofedIndicator         floodEvent  iccCoverage  \\\n",
       "589026                       0  Hurricane Frances      30000.0   \n",
       "589027                       0   Hurricane Jeanne      30000.0   \n",
       "639311                       0               None      30000.0   \n",
       "1165874                      0   Hurricane Jeanne      30000.0   \n",
       "1188485                      0   Hurricane Jeanne      30000.0   \n",
       "\n",
       "         netIccPaymentAmount  nfipRatedCommunityNumber  \\\n",
       "589026                   0.0                  120285.0   \n",
       "589027                   0.0                  120285.0   \n",
       "639311                   0.0                  390732.0   \n",
       "1165874                  0.0                  120285.0   \n",
       "1188485                  0.0                  120285.0   \n",
       "\n",
       "        nfipCommunityNumberCurrent   nfipCommunityName  \\\n",
       "589026                        None  ST. LUCIE COUNTY *   \n",
       "589027                        None  ST. LUCIE COUNTY *   \n",
       "639311                        None       CLARK COUNTY*   \n",
       "1165874                       None  ST. LUCIE COUNTY *   \n",
       "1188485                       None  ST. LUCIE COUNTY *   \n",
       "\n",
       "         nonPaymentReasonContents  nonPaymentReasonBuilding  numberOfUnits  \\\n",
       "589026                        6.0                       6.0            1.0   \n",
       "589027                       20.0                       NaN            1.0   \n",
       "639311                        NaN                       1.0            1.0   \n",
       "1165874                      20.0                       NaN            1.0   \n",
       "1188485                      97.0                       NaN            1.0   \n",
       "\n",
       "         buildingReplacementCost  contentsReplacementCost  \\\n",
       "589026                       NaN                      NaN   \n",
       "589027                  319250.0                      NaN   \n",
       "639311                  191168.0                      NaN   \n",
       "1165874                 524090.0                      NaN   \n",
       "1188485                 250000.0                      NaN   \n",
       "\n",
       "        replacementCostBasis  stateOwnedIndicator  waterDepth  \\\n",
       "589026                  None                    0         0.0   \n",
       "589027                     R                    0         1.0   \n",
       "639311                     R                    0         6.0   \n",
       "1165874                    R                    0         3.0   \n",
       "1188485                    A                    0         0.0   \n",
       "\n",
       "        floodZoneCurrent  buildingDescriptionCode  rentalPropertyIndicator  \\\n",
       "589026              None                      1.0                        0   \n",
       "589027              None                      1.0                        0   \n",
       "639311              None                      1.0                        0   \n",
       "1165874             None                      1.0                        0   \n",
       "1188485             None                      1.0                        0   \n",
       "\n",
       "        state           reportedCity  reportedZipCode countyCode  censusTract  \\\n",
       "589026     FL  Currently Unavailable          34994.0      12085  12085381900   \n",
       "589027     FL  Currently Unavailable          34994.0      12085  12085381900   \n",
       "639311     OH  Currently Unavailable          45324.0      39023  39023000000   \n",
       "1165874    FL  Currently Unavailable          34994.0      12085  12085381900   \n",
       "1188485    FL  Currently Unavailable          34994.0      12085  12085381900   \n",
       "\n",
       "        censusBlockGroupFips  latitude  longitude  \\\n",
       "589026          120853819005      27.2      -80.3   \n",
       "589027          120853819005      27.2      -80.3   \n",
       "639311          390230000000      39.9      -84.0   \n",
       "1165874         120853819005      27.2      -80.3   \n",
       "1188485         120853819005      27.2      -80.3   \n",
       "\n",
       "                                           id  \n",
       "589026   a8f6669c-9265-4977-a061-71661eea84fd  \n",
       "589027   58afac69-c56c-4542-bd1f-6ea3e1b3ba48  \n",
       "639311   ef7315f4-61fc-43fd-b45c-e7a58f50e78a  \n",
       "1165874  e433289f-cdad-44f6-8664-7c760ede986f  \n",
       "1188485  d775860b-6277-46e0-9c67-6ff30a6b6e81  "
      ]
     },
     "execution_count": 126,
     "metadata": {},
     "output_type": "execute_result"
    }
   ],
   "source": [
    "test"
   ]
  },
  {
   "cell_type": "code",
   "execution_count": null,
   "id": "2c98c17c-c336-466d-9b36-42cd6c7d1378",
   "metadata": {},
   "outputs": [],
   "source": []
  },
  {
   "cell_type": "code",
   "execution_count": 3,
   "id": "d19aa2b2",
   "metadata": {
    "tags": []
   },
   "outputs": [
    {
     "data": {
      "text/html": [
       "<div>\n",
       "<style scoped>\n",
       "    .dataframe tbody tr th:only-of-type {\n",
       "        vertical-align: middle;\n",
       "    }\n",
       "\n",
       "    .dataframe tbody tr th {\n",
       "        vertical-align: top;\n",
       "    }\n",
       "\n",
       "    .dataframe thead th {\n",
       "        text-align: right;\n",
       "    }\n",
       "</style>\n",
       "<table border=\"1\" class=\"dataframe\">\n",
       "  <thead>\n",
       "    <tr style=\"text-align: right;\">\n",
       "      <th></th>\n",
       "      <th>agricultureStructureIndicator</th>\n",
       "      <th>asOfDate</th>\n",
       "      <th>basementEnclosureCrawlspaceType</th>\n",
       "      <th>policyCount</th>\n",
       "      <th>crsClassificationCode</th>\n",
       "      <th>dateOfLoss</th>\n",
       "      <th>elevatedBuildingIndicator</th>\n",
       "      <th>elevationCertificateIndicator</th>\n",
       "      <th>elevationDifference</th>\n",
       "      <th>baseFloodElevation</th>\n",
       "      <th>ratedFloodZone</th>\n",
       "      <th>houseWorship</th>\n",
       "      <th>locationOfContents</th>\n",
       "      <th>lowestAdjacentGrade</th>\n",
       "      <th>lowestFloorElevation</th>\n",
       "      <th>numberOfFloorsInTheInsuredBuilding</th>\n",
       "      <th>nonProfitIndicator</th>\n",
       "      <th>obstructionType</th>\n",
       "      <th>occupancyType</th>\n",
       "      <th>originalConstructionDate</th>\n",
       "      <th>originalNBDate</th>\n",
       "      <th>amountPaidOnBuildingClaim</th>\n",
       "      <th>amountPaidOnContentsClaim</th>\n",
       "      <th>amountPaidOnIncreasedCostOfComplianceClaim</th>\n",
       "      <th>postFIRMConstructionIndicator</th>\n",
       "      <th>rateMethod</th>\n",
       "      <th>smallBusinessIndicatorBuilding</th>\n",
       "      <th>totalBuildingInsuranceCoverage</th>\n",
       "      <th>totalContentsInsuranceCoverage</th>\n",
       "      <th>yearOfLoss</th>\n",
       "      <th>primaryResidenceIndicator</th>\n",
       "      <th>buildingDamageAmount</th>\n",
       "      <th>buildingDeductibleCode</th>\n",
       "      <th>netBuildingPaymentAmount</th>\n",
       "      <th>buildingPropertyValue</th>\n",
       "      <th>causeOfDamage</th>\n",
       "      <th>condominiumCoverageTypeCode</th>\n",
       "      <th>contentsDamageAmount</th>\n",
       "      <th>contentsDeductibleCode</th>\n",
       "      <th>netContentsPaymentAmount</th>\n",
       "      <th>contentsPropertyValue</th>\n",
       "      <th>disasterAssistanceCoverageRequired</th>\n",
       "      <th>eventDesignationNumber</th>\n",
       "      <th>ficoNumber</th>\n",
       "      <th>floodCharacteristicsIndicator</th>\n",
       "      <th>floodWaterDuration</th>\n",
       "      <th>floodproofedIndicator</th>\n",
       "      <th>floodEvent</th>\n",
       "      <th>iccCoverage</th>\n",
       "      <th>netIccPaymentAmount</th>\n",
       "      <th>nfipRatedCommunityNumber</th>\n",
       "      <th>nfipCommunityNumberCurrent</th>\n",
       "      <th>nfipCommunityName</th>\n",
       "      <th>nonPaymentReasonContents</th>\n",
       "      <th>nonPaymentReasonBuilding</th>\n",
       "      <th>numberOfUnits</th>\n",
       "      <th>buildingReplacementCost</th>\n",
       "      <th>contentsReplacementCost</th>\n",
       "      <th>replacementCostBasis</th>\n",
       "      <th>stateOwnedIndicator</th>\n",
       "      <th>waterDepth</th>\n",
       "      <th>floodZoneCurrent</th>\n",
       "      <th>buildingDescriptionCode</th>\n",
       "      <th>rentalPropertyIndicator</th>\n",
       "      <th>state</th>\n",
       "      <th>reportedCity</th>\n",
       "      <th>reportedZipCode</th>\n",
       "      <th>countyCode</th>\n",
       "      <th>censusTract</th>\n",
       "      <th>censusBlockGroupFips</th>\n",
       "      <th>latitude</th>\n",
       "      <th>longitude</th>\n",
       "      <th>id</th>\n",
       "    </tr>\n",
       "  </thead>\n",
       "  <tbody>\n",
       "    <tr>\n",
       "      <th>0</th>\n",
       "      <td>0</td>\n",
       "      <td>2020-01-22T16:55:53.194Z</td>\n",
       "      <td>NaN</td>\n",
       "      <td>1</td>\n",
       "      <td>8.0</td>\n",
       "      <td>1998-02-07T00:00:00.000Z</td>\n",
       "      <td>0</td>\n",
       "      <td>nan</td>\n",
       "      <td>NaN</td>\n",
       "      <td>NaN</td>\n",
       "      <td>X</td>\n",
       "      <td>0</td>\n",
       "      <td>NaN</td>\n",
       "      <td>NaN</td>\n",
       "      <td>NaN</td>\n",
       "      <td>4.0</td>\n",
       "      <td>0</td>\n",
       "      <td>10.0</td>\n",
       "      <td>1.0</td>\n",
       "      <td>1963-01-01T00:00:00.000Z</td>\n",
       "      <td>1997-01-11T00:00:00.000Z</td>\n",
       "      <td>NaN</td>\n",
       "      <td>NaN</td>\n",
       "      <td>NaN</td>\n",
       "      <td>0</td>\n",
       "      <td>7</td>\n",
       "      <td>0</td>\n",
       "      <td>200000.0</td>\n",
       "      <td>50000.0</td>\n",
       "      <td>1998</td>\n",
       "      <td>0</td>\n",
       "      <td>382.0</td>\n",
       "      <td>0</td>\n",
       "      <td>0.00</td>\n",
       "      <td>937.0</td>\n",
       "      <td>1</td>\n",
       "      <td>N</td>\n",
       "      <td>NaN</td>\n",
       "      <td>0</td>\n",
       "      <td>0.0</td>\n",
       "      <td>NaN</td>\n",
       "      <td>0.0</td>\n",
       "      <td>None</td>\n",
       "      <td>612.0</td>\n",
       "      <td>NaN</td>\n",
       "      <td>0.0</td>\n",
       "      <td>0</td>\n",
       "      <td>Pineapple Express - Southern</td>\n",
       "      <td>15000.0</td>\n",
       "      <td>0.0</td>\n",
       "      <td>60294.0</td>\n",
       "      <td>None</td>\n",
       "      <td>OCEANSIDE, CITY OF</td>\n",
       "      <td>97.0</td>\n",
       "      <td>1.0</td>\n",
       "      <td>1.0</td>\n",
       "      <td>937.0</td>\n",
       "      <td>NaN</td>\n",
       "      <td>A</td>\n",
       "      <td>0</td>\n",
       "      <td>0.0</td>\n",
       "      <td>None</td>\n",
       "      <td>NaN</td>\n",
       "      <td>0</td>\n",
       "      <td>CA</td>\n",
       "      <td>Currently Unavailable</td>\n",
       "      <td>92056.0</td>\n",
       "      <td>6073.0</td>\n",
       "      <td>6.073019e+09</td>\n",
       "      <td>6.073019e+10</td>\n",
       "      <td>33.2</td>\n",
       "      <td>-117.3</td>\n",
       "      <td>23dcb0d8-3e61-45bf-899f-b951946ce2ff</td>\n",
       "    </tr>\n",
       "    <tr>\n",
       "      <th>1</th>\n",
       "      <td>0</td>\n",
       "      <td>2020-01-22T16:55:53.194Z</td>\n",
       "      <td>NaN</td>\n",
       "      <td>1</td>\n",
       "      <td>8.0</td>\n",
       "      <td>2005-08-29T00:00:00.000Z</td>\n",
       "      <td>0</td>\n",
       "      <td>nan</td>\n",
       "      <td>NaN</td>\n",
       "      <td>NaN</td>\n",
       "      <td>X</td>\n",
       "      <td>0</td>\n",
       "      <td>NaN</td>\n",
       "      <td>NaN</td>\n",
       "      <td>NaN</td>\n",
       "      <td>2.0</td>\n",
       "      <td>0</td>\n",
       "      <td>NaN</td>\n",
       "      <td>1.0</td>\n",
       "      <td>1967-07-01T00:00:00.000Z</td>\n",
       "      <td>1990-07-12T00:00:00.000Z</td>\n",
       "      <td>NaN</td>\n",
       "      <td>NaN</td>\n",
       "      <td>NaN</td>\n",
       "      <td>0</td>\n",
       "      <td>7</td>\n",
       "      <td>0</td>\n",
       "      <td>100000.0</td>\n",
       "      <td>40000.0</td>\n",
       "      <td>2005</td>\n",
       "      <td>1</td>\n",
       "      <td>NaN</td>\n",
       "      <td>0</td>\n",
       "      <td>0.00</td>\n",
       "      <td>NaN</td>\n",
       "      <td>1</td>\n",
       "      <td>N</td>\n",
       "      <td>NaN</td>\n",
       "      <td>0</td>\n",
       "      <td>0.0</td>\n",
       "      <td>NaN</td>\n",
       "      <td>0.0</td>\n",
       "      <td>None</td>\n",
       "      <td>654.0</td>\n",
       "      <td>NaN</td>\n",
       "      <td>0.0</td>\n",
       "      <td>0</td>\n",
       "      <td>Hurricane Katrina</td>\n",
       "      <td>30000.0</td>\n",
       "      <td>0.0</td>\n",
       "      <td>225203.0</td>\n",
       "      <td>None</td>\n",
       "      <td>NEW ORLEANS/ORLEANS PARISH*</td>\n",
       "      <td>6.0</td>\n",
       "      <td>6.0</td>\n",
       "      <td>1.0</td>\n",
       "      <td>NaN</td>\n",
       "      <td>NaN</td>\n",
       "      <td>A</td>\n",
       "      <td>0</td>\n",
       "      <td>0.0</td>\n",
       "      <td>None</td>\n",
       "      <td>NaN</td>\n",
       "      <td>0</td>\n",
       "      <td>LA</td>\n",
       "      <td>Currently Unavailable</td>\n",
       "      <td>70131.0</td>\n",
       "      <td>22071.0</td>\n",
       "      <td>2.207100e+10</td>\n",
       "      <td>2.207100e+11</td>\n",
       "      <td>29.9</td>\n",
       "      <td>-90.0</td>\n",
       "      <td>55783cdd-ccbd-4b19-930b-072def248507</td>\n",
       "    </tr>\n",
       "    <tr>\n",
       "      <th>2</th>\n",
       "      <td>0</td>\n",
       "      <td>2020-01-22T16:55:53.194Z</td>\n",
       "      <td>NaN</td>\n",
       "      <td>1</td>\n",
       "      <td>9.0</td>\n",
       "      <td>1998-09-28T00:00:00.000Z</td>\n",
       "      <td>0</td>\n",
       "      <td>nan</td>\n",
       "      <td>NaN</td>\n",
       "      <td>NaN</td>\n",
       "      <td>X</td>\n",
       "      <td>0</td>\n",
       "      <td>NaN</td>\n",
       "      <td>NaN</td>\n",
       "      <td>NaN</td>\n",
       "      <td>1.0</td>\n",
       "      <td>0</td>\n",
       "      <td>10.0</td>\n",
       "      <td>1.0</td>\n",
       "      <td>1972-01-01T00:00:00.000Z</td>\n",
       "      <td>1997-07-24T00:00:00.000Z</td>\n",
       "      <td>8813.21</td>\n",
       "      <td>1720.0</td>\n",
       "      <td>0.0</td>\n",
       "      <td>0</td>\n",
       "      <td>1</td>\n",
       "      <td>0</td>\n",
       "      <td>100000.0</td>\n",
       "      <td>50000.0</td>\n",
       "      <td>1998</td>\n",
       "      <td>1</td>\n",
       "      <td>9313.0</td>\n",
       "      <td>0</td>\n",
       "      <td>8813.21</td>\n",
       "      <td>80000.0</td>\n",
       "      <td>1</td>\n",
       "      <td>N</td>\n",
       "      <td>2220.0</td>\n",
       "      <td>0</td>\n",
       "      <td>1720.0</td>\n",
       "      <td>0.0</td>\n",
       "      <td>0.0</td>\n",
       "      <td>None</td>\n",
       "      <td>133.0</td>\n",
       "      <td>NaN</td>\n",
       "      <td>0.0</td>\n",
       "      <td>0</td>\n",
       "      <td>Hurricane Georges (Panhandle)</td>\n",
       "      <td>15000.0</td>\n",
       "      <td>0.0</td>\n",
       "      <td>120274.0</td>\n",
       "      <td>None</td>\n",
       "      <td>SANTA ROSA COUNTY *</td>\n",
       "      <td>NaN</td>\n",
       "      <td>NaN</td>\n",
       "      <td>1.0</td>\n",
       "      <td>100000.0</td>\n",
       "      <td>0.0</td>\n",
       "      <td>A</td>\n",
       "      <td>0</td>\n",
       "      <td>0.0</td>\n",
       "      <td>None</td>\n",
       "      <td>NaN</td>\n",
       "      <td>0</td>\n",
       "      <td>FL</td>\n",
       "      <td>Currently Unavailable</td>\n",
       "      <td>32566.0</td>\n",
       "      <td>12113.0</td>\n",
       "      <td>1.211301e+10</td>\n",
       "      <td>1.211301e+11</td>\n",
       "      <td>30.4</td>\n",
       "      <td>-86.9</td>\n",
       "      <td>bfb5922b-1b21-4882-b1d4-b3825ff53e37</td>\n",
       "    </tr>\n",
       "    <tr>\n",
       "      <th>3</th>\n",
       "      <td>0</td>\n",
       "      <td>2019-09-19T13:45:58.425Z</td>\n",
       "      <td>1.0</td>\n",
       "      <td>1</td>\n",
       "      <td>9.0</td>\n",
       "      <td>1994-10-07T00:00:00.000Z</td>\n",
       "      <td>0</td>\n",
       "      <td>nan</td>\n",
       "      <td>NaN</td>\n",
       "      <td>NaN</td>\n",
       "      <td>X</td>\n",
       "      <td>0</td>\n",
       "      <td>NaN</td>\n",
       "      <td>NaN</td>\n",
       "      <td>NaN</td>\n",
       "      <td>2.0</td>\n",
       "      <td>0</td>\n",
       "      <td>10.0</td>\n",
       "      <td>1.0</td>\n",
       "      <td>1960-01-01T00:00:00.000Z</td>\n",
       "      <td>1993-10-01T00:00:00.000Z</td>\n",
       "      <td>2906.00</td>\n",
       "      <td>0.0</td>\n",
       "      <td>0.0</td>\n",
       "      <td>0</td>\n",
       "      <td>7</td>\n",
       "      <td>0</td>\n",
       "      <td>100000.0</td>\n",
       "      <td>25000.0</td>\n",
       "      <td>1994</td>\n",
       "      <td>0</td>\n",
       "      <td>4428.0</td>\n",
       "      <td>0</td>\n",
       "      <td>2906.00</td>\n",
       "      <td>100000.0</td>\n",
       "      <td>1</td>\n",
       "      <td>N</td>\n",
       "      <td>NaN</td>\n",
       "      <td>0</td>\n",
       "      <td>0.0</td>\n",
       "      <td>NaN</td>\n",
       "      <td>0.0</td>\n",
       "      <td>None</td>\n",
       "      <td>NaN</td>\n",
       "      <td>NaN</td>\n",
       "      <td>0.0</td>\n",
       "      <td>0</td>\n",
       "      <td>None</td>\n",
       "      <td>NaN</td>\n",
       "      <td>0.0</td>\n",
       "      <td>450026.0</td>\n",
       "      <td>None</td>\n",
       "      <td>BEAUFORT, CITY OF</td>\n",
       "      <td>97.0</td>\n",
       "      <td>NaN</td>\n",
       "      <td>1.0</td>\n",
       "      <td>0.0</td>\n",
       "      <td>NaN</td>\n",
       "      <td>A</td>\n",
       "      <td>0</td>\n",
       "      <td>0.0</td>\n",
       "      <td>None</td>\n",
       "      <td>NaN</td>\n",
       "      <td>0</td>\n",
       "      <td>SC</td>\n",
       "      <td>Currently Unavailable</td>\n",
       "      <td>29902.0</td>\n",
       "      <td>45013.0</td>\n",
       "      <td>4.501300e+10</td>\n",
       "      <td>4.501300e+11</td>\n",
       "      <td>32.4</td>\n",
       "      <td>-80.7</td>\n",
       "      <td>c1cf6e00-1e6d-4493-93fc-eb430ef15495</td>\n",
       "    </tr>\n",
       "    <tr>\n",
       "      <th>4</th>\n",
       "      <td>0</td>\n",
       "      <td>2019-09-19T13:45:58.425Z</td>\n",
       "      <td>NaN</td>\n",
       "      <td>1</td>\n",
       "      <td>8.0</td>\n",
       "      <td>1996-03-11T00:00:00.000Z</td>\n",
       "      <td>0</td>\n",
       "      <td>nan</td>\n",
       "      <td>NaN</td>\n",
       "      <td>NaN</td>\n",
       "      <td>X</td>\n",
       "      <td>0</td>\n",
       "      <td>NaN</td>\n",
       "      <td>NaN</td>\n",
       "      <td>NaN</td>\n",
       "      <td>1.0</td>\n",
       "      <td>0</td>\n",
       "      <td>NaN</td>\n",
       "      <td>1.0</td>\n",
       "      <td>1988-01-01T00:00:00.000Z</td>\n",
       "      <td>1996-01-11T00:00:00.000Z</td>\n",
       "      <td>3875.53</td>\n",
       "      <td>1545.0</td>\n",
       "      <td>0.0</td>\n",
       "      <td>1</td>\n",
       "      <td>7</td>\n",
       "      <td>0</td>\n",
       "      <td>100000.0</td>\n",
       "      <td>25000.0</td>\n",
       "      <td>1996</td>\n",
       "      <td>1</td>\n",
       "      <td>5252.0</td>\n",
       "      <td>0</td>\n",
       "      <td>3875.53</td>\n",
       "      <td>100000.0</td>\n",
       "      <td>1</td>\n",
       "      <td>N</td>\n",
       "      <td>3115.0</td>\n",
       "      <td>0</td>\n",
       "      <td>1545.0</td>\n",
       "      <td>0.0</td>\n",
       "      <td>0.0</td>\n",
       "      <td>None</td>\n",
       "      <td>NaN</td>\n",
       "      <td>NaN</td>\n",
       "      <td>0.0</td>\n",
       "      <td>0</td>\n",
       "      <td>None</td>\n",
       "      <td>NaN</td>\n",
       "      <td>0.0</td>\n",
       "      <td>125092.0</td>\n",
       "      <td>None</td>\n",
       "      <td>BREVARD COUNTY *</td>\n",
       "      <td>NaN</td>\n",
       "      <td>NaN</td>\n",
       "      <td>1.0</td>\n",
       "      <td>0.0</td>\n",
       "      <td>0.0</td>\n",
       "      <td>A</td>\n",
       "      <td>0</td>\n",
       "      <td>0.0</td>\n",
       "      <td>None</td>\n",
       "      <td>1.0</td>\n",
       "      <td>0</td>\n",
       "      <td>FL</td>\n",
       "      <td>Currently Unavailable</td>\n",
       "      <td>32940.0</td>\n",
       "      <td>12009.0</td>\n",
       "      <td>1.200906e+10</td>\n",
       "      <td>1.200906e+11</td>\n",
       "      <td>28.3</td>\n",
       "      <td>-80.7</td>\n",
       "      <td>cad8334c-13f2-4837-bdcf-e09591197ff7</td>\n",
       "    </tr>\n",
       "  </tbody>\n",
       "</table>\n",
       "</div>"
      ],
      "text/plain": [
       "   agricultureStructureIndicator                  asOfDate  \\\n",
       "0                              0  2020-01-22T16:55:53.194Z   \n",
       "1                              0  2020-01-22T16:55:53.194Z   \n",
       "2                              0  2020-01-22T16:55:53.194Z   \n",
       "3                              0  2019-09-19T13:45:58.425Z   \n",
       "4                              0  2019-09-19T13:45:58.425Z   \n",
       "\n",
       "   basementEnclosureCrawlspaceType  policyCount  crsClassificationCode  \\\n",
       "0                              NaN            1                    8.0   \n",
       "1                              NaN            1                    8.0   \n",
       "2                              NaN            1                    9.0   \n",
       "3                              1.0            1                    9.0   \n",
       "4                              NaN            1                    8.0   \n",
       "\n",
       "                 dateOfLoss  elevatedBuildingIndicator  \\\n",
       "0  1998-02-07T00:00:00.000Z                          0   \n",
       "1  2005-08-29T00:00:00.000Z                          0   \n",
       "2  1998-09-28T00:00:00.000Z                          0   \n",
       "3  1994-10-07T00:00:00.000Z                          0   \n",
       "4  1996-03-11T00:00:00.000Z                          0   \n",
       "\n",
       "  elevationCertificateIndicator  elevationDifference  baseFloodElevation  \\\n",
       "0                           nan                  NaN                 NaN   \n",
       "1                           nan                  NaN                 NaN   \n",
       "2                           nan                  NaN                 NaN   \n",
       "3                           nan                  NaN                 NaN   \n",
       "4                           nan                  NaN                 NaN   \n",
       "\n",
       "  ratedFloodZone  houseWorship  locationOfContents  lowestAdjacentGrade  \\\n",
       "0              X             0                 NaN                  NaN   \n",
       "1              X             0                 NaN                  NaN   \n",
       "2              X             0                 NaN                  NaN   \n",
       "3              X             0                 NaN                  NaN   \n",
       "4              X             0                 NaN                  NaN   \n",
       "\n",
       "   lowestFloorElevation  numberOfFloorsInTheInsuredBuilding  \\\n",
       "0                   NaN                                 4.0   \n",
       "1                   NaN                                 2.0   \n",
       "2                   NaN                                 1.0   \n",
       "3                   NaN                                 2.0   \n",
       "4                   NaN                                 1.0   \n",
       "\n",
       "   nonProfitIndicator  obstructionType  occupancyType  \\\n",
       "0                   0             10.0            1.0   \n",
       "1                   0              NaN            1.0   \n",
       "2                   0             10.0            1.0   \n",
       "3                   0             10.0            1.0   \n",
       "4                   0              NaN            1.0   \n",
       "\n",
       "   originalConstructionDate            originalNBDate  \\\n",
       "0  1963-01-01T00:00:00.000Z  1997-01-11T00:00:00.000Z   \n",
       "1  1967-07-01T00:00:00.000Z  1990-07-12T00:00:00.000Z   \n",
       "2  1972-01-01T00:00:00.000Z  1997-07-24T00:00:00.000Z   \n",
       "3  1960-01-01T00:00:00.000Z  1993-10-01T00:00:00.000Z   \n",
       "4  1988-01-01T00:00:00.000Z  1996-01-11T00:00:00.000Z   \n",
       "\n",
       "   amountPaidOnBuildingClaim  amountPaidOnContentsClaim  \\\n",
       "0                        NaN                        NaN   \n",
       "1                        NaN                        NaN   \n",
       "2                    8813.21                     1720.0   \n",
       "3                    2906.00                        0.0   \n",
       "4                    3875.53                     1545.0   \n",
       "\n",
       "   amountPaidOnIncreasedCostOfComplianceClaim  postFIRMConstructionIndicator  \\\n",
       "0                                         NaN                              0   \n",
       "1                                         NaN                              0   \n",
       "2                                         0.0                              0   \n",
       "3                                         0.0                              0   \n",
       "4                                         0.0                              1   \n",
       "\n",
       "  rateMethod  smallBusinessIndicatorBuilding  totalBuildingInsuranceCoverage  \\\n",
       "0          7                               0                        200000.0   \n",
       "1          7                               0                        100000.0   \n",
       "2          1                               0                        100000.0   \n",
       "3          7                               0                        100000.0   \n",
       "4          7                               0                        100000.0   \n",
       "\n",
       "   totalContentsInsuranceCoverage  yearOfLoss  primaryResidenceIndicator  \\\n",
       "0                         50000.0        1998                          0   \n",
       "1                         40000.0        2005                          1   \n",
       "2                         50000.0        1998                          1   \n",
       "3                         25000.0        1994                          0   \n",
       "4                         25000.0        1996                          1   \n",
       "\n",
       "   buildingDamageAmount buildingDeductibleCode  netBuildingPaymentAmount  \\\n",
       "0                 382.0                      0                      0.00   \n",
       "1                   NaN                      0                      0.00   \n",
       "2                9313.0                      0                   8813.21   \n",
       "3                4428.0                      0                   2906.00   \n",
       "4                5252.0                      0                   3875.53   \n",
       "\n",
       "   buildingPropertyValue causeOfDamage condominiumCoverageTypeCode  \\\n",
       "0                  937.0             1                           N   \n",
       "1                    NaN             1                           N   \n",
       "2                80000.0             1                           N   \n",
       "3               100000.0             1                           N   \n",
       "4               100000.0             1                           N   \n",
       "\n",
       "   contentsDamageAmount contentsDeductibleCode  netContentsPaymentAmount  \\\n",
       "0                   NaN                      0                       0.0   \n",
       "1                   NaN                      0                       0.0   \n",
       "2                2220.0                      0                    1720.0   \n",
       "3                   NaN                      0                       0.0   \n",
       "4                3115.0                      0                    1545.0   \n",
       "\n",
       "   contentsPropertyValue  disasterAssistanceCoverageRequired  \\\n",
       "0                    NaN                                 0.0   \n",
       "1                    NaN                                 0.0   \n",
       "2                    0.0                                 0.0   \n",
       "3                    NaN                                 0.0   \n",
       "4                    0.0                                 0.0   \n",
       "\n",
       "  eventDesignationNumber  ficoNumber  floodCharacteristicsIndicator  \\\n",
       "0                   None       612.0                            NaN   \n",
       "1                   None       654.0                            NaN   \n",
       "2                   None       133.0                            NaN   \n",
       "3                   None         NaN                            NaN   \n",
       "4                   None         NaN                            NaN   \n",
       "\n",
       "   floodWaterDuration  floodproofedIndicator                     floodEvent  \\\n",
       "0                 0.0                      0   Pineapple Express - Southern   \n",
       "1                 0.0                      0              Hurricane Katrina   \n",
       "2                 0.0                      0  Hurricane Georges (Panhandle)   \n",
       "3                 0.0                      0                           None   \n",
       "4                 0.0                      0                           None   \n",
       "\n",
       "   iccCoverage  netIccPaymentAmount  nfipRatedCommunityNumber  \\\n",
       "0      15000.0                  0.0                   60294.0   \n",
       "1      30000.0                  0.0                  225203.0   \n",
       "2      15000.0                  0.0                  120274.0   \n",
       "3          NaN                  0.0                  450026.0   \n",
       "4          NaN                  0.0                  125092.0   \n",
       "\n",
       "  nfipCommunityNumberCurrent            nfipCommunityName  \\\n",
       "0                       None           OCEANSIDE, CITY OF   \n",
       "1                       None  NEW ORLEANS/ORLEANS PARISH*   \n",
       "2                       None          SANTA ROSA COUNTY *   \n",
       "3                       None            BEAUFORT, CITY OF   \n",
       "4                       None             BREVARD COUNTY *   \n",
       "\n",
       "   nonPaymentReasonContents  nonPaymentReasonBuilding  numberOfUnits  \\\n",
       "0                      97.0                       1.0            1.0   \n",
       "1                       6.0                       6.0            1.0   \n",
       "2                       NaN                       NaN            1.0   \n",
       "3                      97.0                       NaN            1.0   \n",
       "4                       NaN                       NaN            1.0   \n",
       "\n",
       "   buildingReplacementCost  contentsReplacementCost replacementCostBasis  \\\n",
       "0                    937.0                      NaN                    A   \n",
       "1                      NaN                      NaN                    A   \n",
       "2                 100000.0                      0.0                    A   \n",
       "3                      0.0                      NaN                    A   \n",
       "4                      0.0                      0.0                    A   \n",
       "\n",
       "   stateOwnedIndicator  waterDepth floodZoneCurrent  buildingDescriptionCode  \\\n",
       "0                    0         0.0             None                      NaN   \n",
       "1                    0         0.0             None                      NaN   \n",
       "2                    0         0.0             None                      NaN   \n",
       "3                    0         0.0             None                      NaN   \n",
       "4                    0         0.0             None                      1.0   \n",
       "\n",
       "   rentalPropertyIndicator state           reportedCity  reportedZipCode  \\\n",
       "0                        0    CA  Currently Unavailable          92056.0   \n",
       "1                        0    LA  Currently Unavailable          70131.0   \n",
       "2                        0    FL  Currently Unavailable          32566.0   \n",
       "3                        0    SC  Currently Unavailable          29902.0   \n",
       "4                        0    FL  Currently Unavailable          32940.0   \n",
       "\n",
       "   countyCode   censusTract  censusBlockGroupFips  latitude  longitude  \\\n",
       "0      6073.0  6.073019e+09          6.073019e+10      33.2     -117.3   \n",
       "1     22071.0  2.207100e+10          2.207100e+11      29.9      -90.0   \n",
       "2     12113.0  1.211301e+10          1.211301e+11      30.4      -86.9   \n",
       "3     45013.0  4.501300e+10          4.501300e+11      32.4      -80.7   \n",
       "4     12009.0  1.200906e+10          1.200906e+11      28.3      -80.7   \n",
       "\n",
       "                                     id  \n",
       "0  23dcb0d8-3e61-45bf-899f-b951946ce2ff  \n",
       "1  55783cdd-ccbd-4b19-930b-072def248507  \n",
       "2  bfb5922b-1b21-4882-b1d4-b3825ff53e37  \n",
       "3  c1cf6e00-1e6d-4493-93fc-eb430ef15495  \n",
       "4  cad8334c-13f2-4837-bdcf-e09591197ff7  "
      ]
     },
     "execution_count": 3,
     "metadata": {},
     "output_type": "execute_result"
    }
   ],
   "source": [
    "df.head()"
   ]
  },
  {
   "cell_type": "code",
   "execution_count": 43,
   "id": "92d5d7e2-0a2c-4ade-a8fb-f2022a0787c7",
   "metadata": {
    "tags": []
   },
   "outputs": [
    {
     "data": {
      "text/plain": [
       "2584242"
      ]
     },
     "execution_count": 43,
     "metadata": {},
     "output_type": "execute_result"
    }
   ],
   "source": [
    "df.shape[0]"
   ]
  },
  {
   "cell_type": "code",
   "execution_count": 4,
   "id": "0bccdca8",
   "metadata": {
    "tags": []
   },
   "outputs": [
    {
     "data": {
      "text/plain": [
       "dtype('float64')"
      ]
     },
     "execution_count": 4,
     "metadata": {},
     "output_type": "execute_result"
    }
   ],
   "source": [
    "df['reportedZipCode'].dtypes"
   ]
  },
  {
   "cell_type": "code",
   "execution_count": 21,
   "id": "72c85dd1-1e97-44b0-aaf6-d8b1cf69e47a",
   "metadata": {
    "tags": []
   },
   "outputs": [
    {
     "data": {
      "text/plain": [
       "0.0"
      ]
     },
     "execution_count": 21,
     "metadata": {},
     "output_type": "execute_result"
    }
   ],
   "source": [
    "(df['state'].isna().sum() / df.shape[0])*100"
   ]
  },
  {
   "cell_type": "code",
   "execution_count": 3,
   "id": "98fe4475",
   "metadata": {
    "tags": []
   },
   "outputs": [
    {
     "data": {
      "text/plain": [
       "2.1602852983582808"
      ]
     },
     "execution_count": 3,
     "metadata": {},
     "output_type": "execute_result"
    }
   ],
   "source": [
    "(df['reportedZipCode'].isna().sum() / df.shape[0])*100"
   ]
  },
  {
   "cell_type": "code",
   "execution_count": 20,
   "id": "1ed755d8-9766-4382-b374-394cfb804227",
   "metadata": {
    "tags": []
   },
   "outputs": [
    {
     "data": {
      "text/plain": [
       "55827"
      ]
     },
     "execution_count": 20,
     "metadata": {},
     "output_type": "execute_result"
    }
   ],
   "source": [
    "df['reportedZipCode'].isna().sum()"
   ]
  },
  {
   "cell_type": "code",
   "execution_count": 4,
   "id": "da7eb2a5",
   "metadata": {
    "tags": []
   },
   "outputs": [
    {
     "data": {
      "text/plain": [
       "5.300509781978622"
      ]
     },
     "execution_count": 4,
     "metadata": {},
     "output_type": "execute_result"
    }
   ],
   "source": [
    "(df['censusBlockGroupFips'].isna().sum() / df.shape[0])*100"
   ]
  },
  {
   "cell_type": "code",
   "execution_count": 27,
   "id": "0d6da576-c3e0-4d08-a578-f88dd934dc98",
   "metadata": {
    "tags": []
   },
   "outputs": [
    {
     "data": {
      "text/plain": [
       "1.003011e+10    5119\n",
       "4.816773e+11    3884\n",
       "3.705597e+11    3816\n",
       "1.097007e+10    3749\n",
       "4.816772e+11    3268\n",
       "                ... \n",
       "2.714103e+11       1\n",
       "5.033020e+10       1\n",
       "6.073019e+10       1\n",
       "6.001410e+10       1\n",
       "4.811302e+11       1\n",
       "Name: censusBlockGroupFips, Length: 106786, dtype: int64"
      ]
     },
     "execution_count": 27,
     "metadata": {},
     "output_type": "execute_result"
    }
   ],
   "source": [
    "df['censusBlockGroupFips'].value_counts()"
   ]
  },
  {
   "cell_type": "code",
   "execution_count": 22,
   "id": "718ccc96-72f6-4732-9272-1a1000101ee9",
   "metadata": {
    "tags": []
   },
   "outputs": [
    {
     "data": {
      "text/plain": [
       "136978"
      ]
     },
     "execution_count": 22,
     "metadata": {},
     "output_type": "execute_result"
    }
   ],
   "source": [
    "df['censusBlockGroupFips'].isna().sum()"
   ]
  },
  {
   "cell_type": "code",
   "execution_count": 7,
   "id": "a2b5cab5-7c55-457b-8072-062e1074edbf",
   "metadata": {
    "tags": []
   },
   "outputs": [
    {
     "data": {
      "text/plain": [
       "2.5122260221759416"
      ]
     },
     "execution_count": 7,
     "metadata": {},
     "output_type": "execute_result"
    }
   ],
   "source": [
    "(df['countyCode'].isna().sum() / df.shape[0])*100"
   ]
  },
  {
   "cell_type": "code",
   "execution_count": 28,
   "id": "252699bc-4a9a-4819-8824-80db70a79a47",
   "metadata": {
    "tags": []
   },
   "outputs": [
    {
     "data": {
      "text/plain": [
       "48201.0    168854\n",
       "22051.0    134210\n",
       "22071.0    126774\n",
       "12086.0     60739\n",
       "48167.0     59777\n",
       "            ...  \n",
       "48169.0         1\n",
       "16085.0         1\n",
       "48105.0         1\n",
       "1111.0          1\n",
       "48305.0         1\n",
       "Name: countyCode, Length: 2924, dtype: int64"
      ]
     },
     "execution_count": 28,
     "metadata": {},
     "output_type": "execute_result"
    }
   ],
   "source": [
    "df['countyCode'].value_counts()"
   ]
  },
  {
   "cell_type": "code",
   "execution_count": 23,
   "id": "7c7b02cd-0d42-4013-ad45-7efb515e42c5",
   "metadata": {
    "tags": []
   },
   "outputs": [
    {
     "data": {
      "text/plain": [
       "64922"
      ]
     },
     "execution_count": 23,
     "metadata": {},
     "output_type": "execute_result"
    }
   ],
   "source": [
    "df['countyCode'].isna().sum()"
   ]
  },
  {
   "cell_type": "code",
   "execution_count": 8,
   "id": "78358dba-15ca-4637-afc7-18c5a3f2b6ba",
   "metadata": {
    "tags": []
   },
   "outputs": [
    {
     "data": {
      "text/plain": [
       "5.300509781978622"
      ]
     },
     "execution_count": 8,
     "metadata": {},
     "output_type": "execute_result"
    }
   ],
   "source": [
    "(df['censusTract'].isna().sum() / df.shape[0])*100"
   ]
  },
  {
   "cell_type": "code",
   "execution_count": 29,
   "id": "6e6170da-b8bf-4cba-9d9f-53eeae7361cf",
   "metadata": {
    "tags": []
   },
   "outputs": [
    {
     "data": {
      "text/plain": [
       "3.705597e+10    7303\n",
       "4.816773e+10    6855\n",
       "1.203300e+10    6438\n",
       "3.402974e+10    5642\n",
       "1.003011e+09    5520\n",
       "                ... \n",
       "4.019004e+09       1\n",
       "4.019002e+09       1\n",
       "6.111003e+09       1\n",
       "6.089013e+09       1\n",
       "4.811302e+10       1\n",
       "Name: censusTract, Length: 53268, dtype: int64"
      ]
     },
     "execution_count": 29,
     "metadata": {},
     "output_type": "execute_result"
    }
   ],
   "source": [
    "df['censusTract'].value_counts()"
   ]
  },
  {
   "cell_type": "code",
   "execution_count": 25,
   "id": "1821cbdc-7aeb-4648-b327-1e98276af1fa",
   "metadata": {
    "tags": []
   },
   "outputs": [
    {
     "data": {
      "text/plain": [
       "136978"
      ]
     },
     "execution_count": 25,
     "metadata": {},
     "output_type": "execute_result"
    }
   ],
   "source": [
    "df['censusTract'].isna().sum()"
   ]
  },
  {
   "cell_type": "code",
   "execution_count": 5,
   "id": "11dc8587",
   "metadata": {
    "tags": []
   },
   "outputs": [
    {
     "data": {
      "text/plain": [
       "1.53782037440766"
      ]
     },
     "execution_count": 5,
     "metadata": {},
     "output_type": "execute_result"
    }
   ],
   "source": [
    "(df['latitude'].isna().sum() / df.shape[0])*100"
   ]
  },
  {
   "cell_type": "code",
   "execution_count": 6,
   "id": "feef13e8",
   "metadata": {
    "tags": []
   },
   "outputs": [
    {
     "data": {
      "text/plain": [
       "1.53782037440766"
      ]
     },
     "execution_count": 6,
     "metadata": {},
     "output_type": "execute_result"
    }
   ],
   "source": [
    "(df['longitude'].isna().sum() / df.shape[0])*100"
   ]
  },
  {
   "cell_type": "code",
   "execution_count": 44,
   "id": "a1fc7747-7c45-4976-b58e-f09aa7c0343e",
   "metadata": {
    "tags": []
   },
   "outputs": [
    {
     "data": {
      "text/plain": [
       "25128"
      ]
     },
     "execution_count": 44,
     "metadata": {},
     "output_type": "execute_result"
    }
   ],
   "source": [
    "len(list(df[['latitude', 'longitude']].drop_duplicates().itertuples(index=False, name=None)))"
   ]
  },
  {
   "cell_type": "code",
   "execution_count": 24,
   "id": "0d793025-a71c-49d0-a1c0-9527edc67cea",
   "metadata": {
    "tags": []
   },
   "outputs": [
    {
     "data": {
      "text/plain": [
       "39741"
      ]
     },
     "execution_count": 24,
     "metadata": {},
     "output_type": "execute_result"
    }
   ],
   "source": [
    "df['latitude'].isna().sum()"
   ]
  },
  {
   "cell_type": "code",
   "execution_count": 42,
   "id": "6347c20e-8e78-40a3-bf0f-f9568bf06e7c",
   "metadata": {
    "tags": []
   },
   "outputs": [
    {
     "data": {
      "text/plain": [
       "177895"
      ]
     },
     "execution_count": 42,
     "metadata": {},
     "output_type": "execute_result"
    }
   ],
   "source": [
    "df[['reportedZipCode','censusBlockGroupFips','latitude', 'longitude']].drop_duplicates().shape[0]"
   ]
  },
  {
   "cell_type": "code",
   "execution_count": 39,
   "id": "981c6788-4a72-4726-bf48-39ecafd3f6ef",
   "metadata": {
    "tags": []
   },
   "outputs": [],
   "source": [
    "missing_all_three = df['censusBlockGroupFips'].isna() | df['latitude'].isna()\n",
    "\n",
    "# To get the number of such rows\n",
    "num_missing_all_three = missing_all_three.sum()\n",
    "\n",
    "# To get the proportion of such rows\n",
    "proportion_missing_all_three = num_missing_all_three / df.shape[0]"
   ]
  },
  {
   "cell_type": "code",
   "execution_count": 36,
   "id": "fadde2da",
   "metadata": {
    "tags": []
   },
   "outputs": [],
   "source": [
    "missing_all_three = df['reportedZipCode'].isna() | df['censusBlockGroupFips'].isna() | df['latitude'].isna()\n",
    "\n",
    "# To get the number of such rows\n",
    "num_missing_all_three = missing_all_three.sum()\n",
    "\n",
    "# To get the proportion of such rows\n",
    "proportion_missing_all_three = num_missing_all_three / df.shape[0]"
   ]
  },
  {
   "cell_type": "code",
   "execution_count": 35,
   "id": "3a334f6b",
   "metadata": {
    "tags": []
   },
   "outputs": [
    {
     "data": {
      "text/plain": [
       "5.300509781978622"
      ]
     },
     "execution_count": 35,
     "metadata": {},
     "output_type": "execute_result"
    }
   ],
   "source": [
    "proportion_missing_all_three*100"
   ]
  },
  {
   "cell_type": "code",
   "execution_count": 40,
   "id": "2a6505a9-5661-4133-9e26-23570e190d90",
   "metadata": {
    "tags": []
   },
   "outputs": [
    {
     "data": {
      "text/plain": [
       "136978"
      ]
     },
     "execution_count": 40,
     "metadata": {},
     "output_type": "execute_result"
    }
   ],
   "source": [
    "num_missing_all_three"
   ]
  },
  {
   "cell_type": "code",
   "execution_count": 37,
   "id": "d7f54c3f-1cf5-4911-9505-e9e85a542a3b",
   "metadata": {
    "tags": []
   },
   "outputs": [
    {
     "data": {
      "text/plain": [
       "6.149075821846406"
      ]
     },
     "execution_count": 37,
     "metadata": {},
     "output_type": "execute_result"
    }
   ],
   "source": [
    "proportion_missing_all_three*100"
   ]
  },
  {
   "cell_type": "code",
   "execution_count": 38,
   "id": "1a08f702-2b4d-49c2-8394-279867d39c0f",
   "metadata": {
    "tags": []
   },
   "outputs": [
    {
     "data": {
      "text/plain": [
       "158907"
      ]
     },
     "execution_count": 38,
     "metadata": {},
     "output_type": "execute_result"
    }
   ],
   "source": [
    "num_missing_all_three"
   ]
  },
  {
   "cell_type": "code",
   "execution_count": 11,
   "id": "f520d208",
   "metadata": {
    "tags": []
   },
   "outputs": [],
   "source": [
    "#Zipcode list\n",
    "\n",
    "list_zipcode = df['reportedZipCode'].dropna().drop_duplicates().astype(int).astype(str).tolist()\n",
    "\n",
    "# add preceding 0 to make 4-digit zip codes into 5-digit\n",
    "list_zipcode = [zipcode.zfill(5) for zipcode in list_zipcode]\n",
    "\n",
    "# temp = pd.DataFrame(list_censusBG, columns=['ZipCode'])\n",
    "\n",
    "# temp.to_csv('C:/Users/Asus/Box/Flood Damage PredictionProject/Dataset/ZipCode.csv', index=False)"
   ]
  },
  {
   "cell_type": "code",
   "execution_count": 12,
   "id": "facc1783",
   "metadata": {
    "tags": []
   },
   "outputs": [],
   "source": [
    "#CensusBG list\n",
    "\n",
    "list_censusBG = df['censusBlockGroupFips'].dropna().drop_duplicates().tolist()\n",
    "\n",
    "list_censusBG = [str(int(float(i))) for i in list_censusBG]\n",
    "\n",
    "# add preceding 0 to make 4-digit zip codes into 5-digit\n",
    "list_censusBG = [censusBG.zfill(12) for censusBG in list_censusBG]\n",
    "\n",
    "# temp = pd.DataFrame(list_censusBG, columns=['censusBG'])\n",
    "\n",
    "# temp.to_csv('C:/Users/Asus/Box/Flood Damage PredictionProject/Dataset/censusBG.csv', index=False)"
   ]
  },
  {
   "cell_type": "code",
   "execution_count": 13,
   "id": "daf246aa",
   "metadata": {
    "tags": []
   },
   "outputs": [],
   "source": [
    "#lat long df\n",
    "\n",
    "df_lat_long = df[['latitude', 'longitude']].dropna().drop_duplicates()"
   ]
  },
  {
   "cell_type": "markdown",
   "id": "4720ecae",
   "metadata": {},
   "source": [
    "## Using pygris"
   ]
  },
  {
   "cell_type": "code",
   "execution_count": null,
   "id": "f70899db",
   "metadata": {
    "tags": []
   },
   "outputs": [],
   "source": [
    "years = [2000, 2010, 2012, 2013, 2014, 2015, 2016, 2017, 2018, 2019, 2020, 2021]"
   ]
  },
  {
   "cell_type": "code",
   "execution_count": null,
   "id": "7ff69865-075e-414a-a523-1ae83a884f2b",
   "metadata": {
    "tags": []
   },
   "outputs": [],
   "source": [
    "# zip_codes_list = pygris.zctas(year=2000)"
   ]
  },
  {
   "cell_type": "code",
   "execution_count": null,
   "id": "130d3e03-2940-40d9-971a-3801592fa741",
   "metadata": {
    "tags": []
   },
   "outputs": [],
   "source": [
    "# zip_codes_list.head()"
   ]
  },
  {
   "cell_type": "code",
   "execution_count": null,
   "id": "cc8ab9fa-7a98-418a-aaa7-d73747a328de",
   "metadata": {
    "tags": []
   },
   "outputs": [],
   "source": [
    "# zip_codes_list.shape[0]"
   ]
  },
  {
   "cell_type": "code",
   "execution_count": 3,
   "id": "8c4f9a42-e803-49c6-a3b3-3a7781e3ae1e",
   "metadata": {
    "tags": []
   },
   "outputs": [],
   "source": [
    "# years = [2000, 2010, 2012, 2013, 2014, 2015, 2016, 2017, 2018, 2019, 2020, 2021]\n",
    "\n",
    "years = [2010, 2012, 2020, 2021]\n",
    "\n",
    "yearly_data = {}\n",
    "\n",
    "for i in years:\n",
    "    yearly_data[i] = pygris.zctas(year=i)"
   ]
  },
  {
   "cell_type": "code",
   "execution_count": null,
   "id": "f34d8c79-b3bf-4077-ab5b-2f47e668b5a9",
   "metadata": {
    "tags": []
   },
   "outputs": [],
   "source": [
    "# temp = pygris.zctas(year=2000)"
   ]
  },
  {
   "cell_type": "code",
   "execution_count": 4,
   "id": "ca606e36-368f-451e-a129-3c104a13aaa3",
   "metadata": {
    "tags": []
   },
   "outputs": [],
   "source": [
    "temp0 = pd.DataFrame(yearly_data[2010])"
   ]
  },
  {
   "cell_type": "code",
   "execution_count": 12,
   "id": "bf300c99-882b-4fb1-ad7c-ad5490bad00f",
   "metadata": {
    "tags": []
   },
   "outputs": [
    {
     "data": {
      "text/plain": [
       "True"
      ]
     },
     "execution_count": 12,
     "metadata": {},
     "output_type": "execute_result"
    }
   ],
   "source": [
    "#Checking if all states found in our dataset are in the US Census Bureau TIGER/Line and cartographic boundary shapefiles\n",
    "\n",
    "unique_states = temp0['ZCTA5CE10'].unique()\n",
    "state_STUSPS_unique = temp1['ZCTA5CE10'].unique()\n",
    "\n",
    "np.all(np.isin(unique_states, state_STUSPS_unique))"
   ]
  },
  {
   "cell_type": "code",
   "execution_count": 5,
   "id": "efb75c7d-3ee1-4cb2-919b-fce193658930",
   "metadata": {
    "tags": []
   },
   "outputs": [],
   "source": [
    "temp1 = pd.DataFrame(yearly_data[2012])"
   ]
  },
  {
   "cell_type": "code",
   "execution_count": 6,
   "id": "12089664-64ee-4868-b741-561ab1e1d4eb",
   "metadata": {
    "tags": []
   },
   "outputs": [],
   "source": [
    "temp2 = pd.DataFrame(yearly_data[2020])"
   ]
  },
  {
   "cell_type": "code",
   "execution_count": 7,
   "id": "56f41876-8699-4b5a-b4bc-3d523ca42e98",
   "metadata": {
    "tags": []
   },
   "outputs": [],
   "source": [
    "temp = pd.DataFrame(yearly_data[2021])"
   ]
  },
  {
   "cell_type": "code",
   "execution_count": 9,
   "id": "ca3426da-3748-4e5f-9b35-976157c80ea8",
   "metadata": {
    "tags": []
   },
   "outputs": [
    {
     "name": "stdout",
     "output_type": "stream",
     "text": [
      "33120\n",
      "33144\n",
      "33791\n",
      "33791\n",
      "  ZCTA5CE10 GEOID10 CLASSFP10 MTFCC10 FUNCSTAT10    ALAND10  AWATER10  \\\n",
      "0     04757   04757        B5   G6350          S  334700805   3663844   \n",
      "1     04758   04758        B5   G6350          S   91006829    191946   \n",
      "2     04760   04760        B5   G6350          S  259787771    547534   \n",
      "3     04975   04975        B5   G6350          S     142318         0   \n",
      "4     04976   04976        B5   G6350          S  257908035   4722278   \n",
      "\n",
      "    INTPTLAT10    INTPTLON10  \\\n",
      "0  +46.6676144  -068.1686355   \n",
      "1  +46.5592719  -067.8532254   \n",
      "2  +46.3393412  -067.9548745   \n",
      "3  +44.6253540  -069.5883338   \n",
      "4  +44.7892800  -069.6676898   \n",
      "\n",
      "                                            geometry  \n",
      "0  POLYGON ((-68.08095 46.56746, -68.08236 46.567...  \n",
      "1  POLYGON ((-67.90650 46.52526, -67.90677 46.533...  \n",
      "2  POLYGON ((-67.85272 46.37207, -67.84753 46.372...  \n",
      "3  POLYGON ((-69.58945 44.62188, -69.58938 44.622...  \n",
      "4  POLYGON ((-69.73503 44.78785, -69.73388 44.787...  \n",
      "  ZCTA5CE10 GEOID10 CLASSFP10 MTFCC10 FUNCSTAT10    ALAND10  AWATER10  \\\n",
      "0     96704   96704        B5   G6350          S  738040353  57244562   \n",
      "1     96710   96710        B5   G6350          S   99135285   1769037   \n",
      "2     96719   96719        B5   G6350          S   52878407    147154   \n",
      "3     96720   96720        B5   G6350          S  775786894  17977651   \n",
      "4     96725   96725        B5   G6350          S  203065914     17386   \n",
      "\n",
      "    INTPTLAT10    INTPTLON10  \\\n",
      "0  +19.3372713  -155.8376054   \n",
      "1  +19.8423834  -155.2476619   \n",
      "2  +20.2343637  -155.8359408   \n",
      "3  +19.6598098  -155.2324728   \n",
      "4  +19.6264878  -155.9103359   \n",
      "\n",
      "                                            geometry  \n",
      "0  POLYGON ((-155.87928 19.44696, -155.87932 19.4...  \n",
      "1  POLYGON ((-155.33391 19.82034, -155.33335 19.8...  \n",
      "2  POLYGON ((-155.84213 20.19851, -155.84213 20.1...  \n",
      "3  POLYGON ((-155.11198 19.76854, -155.11186 19.7...  \n",
      "4  POLYGON ((-155.97001 19.67995, -155.97017 19.6...  \n",
      "  ZCTA5CE20 GEOID20 CLASSFP20 MTFCC20 FUNCSTAT20    ALAND20  AWATER20  \\\n",
      "0     35592   35592        B5   G6350          S  298552385    235989   \n",
      "1     35616   35616        B5   G6350          S  559506992  41870756   \n",
      "2     35621   35621        B5   G6350          S  117838488    409438   \n",
      "3     35651   35651        B5   G6350          S  104521045    574316   \n",
      "4     36010   36010        B5   G6350          S  335675180    236811   \n",
      "\n",
      "    INTPTLAT20    INTPTLON20  \\\n",
      "0  +33.7427261  -088.0973903   \n",
      "1  +34.7395036  -088.0193814   \n",
      "2  +34.3350314  -086.7270557   \n",
      "3  +34.4609087  -087.4801507   \n",
      "4  +31.6598950  -085.8128958   \n",
      "\n",
      "                                            geometry  \n",
      "0  POLYGON ((-88.24735 33.65390, -88.24713 33.654...  \n",
      "1  POLYGON ((-88.13997 34.58184, -88.13995 34.582...  \n",
      "2  POLYGON ((-86.81659 34.34960, -86.81649 34.349...  \n",
      "3  POLYGON ((-87.53087 34.42492, -87.53082 34.429...  \n",
      "4  POLYGON ((-85.95712 31.67744, -85.95676 31.677...  \n",
      "  ZCTA5CE20 GEOID20 CLASSFP20 MTFCC20 FUNCSTAT20  ALAND20  AWATER20  \\\n",
      "0     47236   47236        B5   G6350          S  1029067         0   \n",
      "1     47870   47870        B5   G6350          S     8830         0   \n",
      "2     47851   47851        B5   G6350          S    53547         0   \n",
      "3     47337   47337        B5   G6350          S   303089         0   \n",
      "4     47435   47435        B5   G6350          S    13302         0   \n",
      "\n",
      "    INTPTLAT20    INTPTLON20  \\\n",
      "0  +39.1517426  -085.7252769   \n",
      "1  +39.3701518  -087.4735141   \n",
      "2  +39.5735818  -087.2459626   \n",
      "3  +39.8027537  -085.4372850   \n",
      "4  +39.2657557  -086.2951577   \n",
      "\n",
      "                                            geometry  \n",
      "0  POLYGON ((-85.73410 39.15597, -85.72749 39.156...  \n",
      "1  POLYGON ((-87.47414 39.37016, -87.47409 39.370...  \n",
      "2  POLYGON ((-87.24770 39.57431, -87.24770 39.574...  \n",
      "3  POLYGON ((-85.44357 39.80328, -85.44346 39.803...  \n",
      "4  POLYGON ((-86.29592 39.26547, -86.29592 39.266...  \n"
     ]
    }
   ],
   "source": [
    "print(temp0.shape[0])\n",
    "print(temp1.shape[0])\n",
    "print(temp2.shape[0])\n",
    "print(temp.shape[0])\n",
    "\n",
    "\n",
    "print(temp0.head())\n",
    "print(temp1.head())\n",
    "print(temp2.head())\n",
    "print(temp.head())"
   ]
  },
  {
   "cell_type": "code",
   "execution_count": null,
   "id": "880cdd67-28bd-4791-bd64-9d88c320df04",
   "metadata": {
    "tags": []
   },
   "outputs": [],
   "source": [
    "temp.head()"
   ]
  },
  {
   "cell_type": "code",
   "execution_count": null,
   "id": "74b3ef89-653a-4a80-9feb-78e3e8d3873e",
   "metadata": {
    "tags": []
   },
   "outputs": [],
   "source": [
    "temp = temp[['ZCTA5CE20', 'geometry']]"
   ]
  },
  {
   "cell_type": "code",
   "execution_count": null,
   "id": "fd14c8bc-7291-4f07-85cc-e1143a74e625",
   "metadata": {
    "tags": []
   },
   "outputs": [],
   "source": [
    "temp = temp.rename(columns={\"ZCTA5CE20\": \"ZIPcode\"})\n",
    "temp['year'] = 2021\n",
    "temp"
   ]
  },
  {
   "cell_type": "code",
   "execution_count": null,
   "id": "c42d1771-060c-4c92-9cd8-38ccaa37a492",
   "metadata": {
    "tags": []
   },
   "outputs": [],
   "source": [
    "list_zipcode_temp = temp['ZIPcode'].dropna().drop_duplicates().astype(str).tolist()\n",
    "\n",
    "# add preceding 0 to make 4-digit zip codes into 5-digit\n",
    "list_zipcode_temp = [zipcode.zfill(5) for zipcode in list_zipcode_temp]"
   ]
  },
  {
   "cell_type": "code",
   "execution_count": null,
   "id": "7ae1f028-411b-4592-9e6b-650e68a3619b",
   "metadata": {
    "tags": []
   },
   "outputs": [],
   "source": [
    "len(list_zipcode_temp)"
   ]
  },
  {
   "cell_type": "code",
   "execution_count": null,
   "id": "681284cc-2863-461c-8072-cc4be17d16cc",
   "metadata": {
    "tags": []
   },
   "outputs": [],
   "source": [
    "list_zipcode_3 = list_zipcode_3 + list_zipcode_temp"
   ]
  },
  {
   "cell_type": "code",
   "execution_count": null,
   "id": "27c52e02-9ee4-4c38-a3e7-f209bd0fa09d",
   "metadata": {
    "tags": []
   },
   "outputs": [],
   "source": [
    "len(list_zipcode_3)"
   ]
  },
  {
   "cell_type": "code",
   "execution_count": null,
   "id": "18a82319-1e4f-4e83-bc46-86743301421f",
   "metadata": {
    "tags": []
   },
   "outputs": [],
   "source": [
    "list_zipcode_3 = list(set(list_zipcode_3))"
   ]
  },
  {
   "cell_type": "code",
   "execution_count": null,
   "id": "59cf03ed-684d-430c-b018-201e83dddd1c",
   "metadata": {
    "tags": []
   },
   "outputs": [],
   "source": [
    "len(list_zipcode_3)"
   ]
  },
  {
   "cell_type": "code",
   "execution_count": null,
   "id": "0e5d7ea8-f7ba-4800-8181-158d045845d6",
   "metadata": {
    "tags": []
   },
   "outputs": [],
   "source": [
    "set_zipcode = set(list_zipcode)\n",
    "set_zipcode_3 = set(list_zipcode_3)\n",
    "\n",
    "# Find the intersection of the two sets\n",
    "common_zipcodes = set_zipcode.intersection(set_zipcode_3)\n",
    "\n",
    "# Print the number of common zip codes\n",
    "print(\"Number of common zip codes:\", len(common_zipcodes))"
   ]
  },
  {
   "cell_type": "code",
   "execution_count": null,
   "id": "0b8e233a-74a7-4207-8387-acf35e43ec58",
   "metadata": {
    "tags": []
   },
   "outputs": [],
   "source": [
    "len(common_zipcodes)/len(list_zipcode)"
   ]
  },
  {
   "cell_type": "code",
   "execution_count": null,
   "id": "964bf84b-4973-464c-838d-377aa3fb057a",
   "metadata": {
    "tags": []
   },
   "outputs": [],
   "source": [
    "zip_code_df2000 = temp[temp['ZIPcode'].isin(common_zipcodes)]"
   ]
  },
  {
   "cell_type": "code",
   "execution_count": null,
   "id": "08913ba4-5df5-4720-afb3-a35d608c65ec",
   "metadata": {
    "tags": []
   },
   "outputs": [],
   "source": [
    "zip_code_df2000.head()"
   ]
  },
  {
   "cell_type": "code",
   "execution_count": null,
   "id": "9145ea6e-8c46-4a02-a800-0d2a90719b6a",
   "metadata": {
    "tags": []
   },
   "outputs": [],
   "source": [
    "zip_code_df2010 = temp[temp['ZIPcode'].isin(common_zipcodes)]"
   ]
  },
  {
   "cell_type": "code",
   "execution_count": null,
   "id": "34f1331b-5583-48d4-a26e-6fa7afe9689e",
   "metadata": {
    "tags": []
   },
   "outputs": [],
   "source": [
    "zip_code_df2010.head()"
   ]
  },
  {
   "cell_type": "code",
   "execution_count": null,
   "id": "bf81b121-7406-4d4b-b0d8-a6ed81798df2",
   "metadata": {
    "tags": []
   },
   "outputs": [],
   "source": [
    "zip_code_df2012 = temp[temp['ZIPcode'].isin(common_zipcodes)]"
   ]
  },
  {
   "cell_type": "code",
   "execution_count": null,
   "id": "4ff19572-4035-4dd8-88b6-6c6ef3e1eb60",
   "metadata": {
    "tags": []
   },
   "outputs": [],
   "source": [
    "zip_code_df2012.head()"
   ]
  },
  {
   "cell_type": "code",
   "execution_count": null,
   "id": "b96bb93e-34ed-4ada-b31f-548bf56ee6f4",
   "metadata": {
    "tags": []
   },
   "outputs": [],
   "source": [
    "zip_code_df2020 = temp[temp['ZIPcode'].isin(common_zipcodes)]"
   ]
  },
  {
   "cell_type": "code",
   "execution_count": null,
   "id": "f4803561-ff71-4548-a266-df7be21ca9eb",
   "metadata": {
    "tags": []
   },
   "outputs": [],
   "source": [
    "zip_code_df2020.head()"
   ]
  },
  {
   "cell_type": "code",
   "execution_count": null,
   "id": "58201799-16d0-4481-94ba-59135da7645f",
   "metadata": {
    "tags": []
   },
   "outputs": [],
   "source": [
    "zip_code_df2021 = temp[temp['ZIPcode'].isin(common_zipcodes)]"
   ]
  },
  {
   "cell_type": "code",
   "execution_count": null,
   "id": "5c820a52-d455-44d8-809d-220434fa5b1d",
   "metadata": {
    "tags": []
   },
   "outputs": [],
   "source": [
    "zip_code_df2021.head()"
   ]
  },
  {
   "cell_type": "code",
   "execution_count": null,
   "id": "d5aa9ffe-1335-42c2-b596-437f0cf39d31",
   "metadata": {
    "tags": []
   },
   "outputs": [],
   "source": [
    "zip_code_df = pd.concat([zip_code_df2000, zip_code_df2010, zip_code_df2012, zip_code_df2020, zip_code_df2021], ignore_index=True)"
   ]
  },
  {
   "cell_type": "code",
   "execution_count": null,
   "id": "068ef901-7ff2-4a16-8a23-58468672dc24",
   "metadata": {
    "tags": []
   },
   "outputs": [],
   "source": [
    "zip_code_df = zip_code_df.drop_duplicates(subset=['ZIPcode', 'geometry'])"
   ]
  },
  {
   "cell_type": "code",
   "execution_count": null,
   "id": "0435dc7d-99ec-42a6-8b53-f41df86981c2",
   "metadata": {
    "tags": []
   },
   "outputs": [],
   "source": [
    "zip_code_df.shape[0]"
   ]
  },
  {
   "cell_type": "code",
   "execution_count": null,
   "id": "ebe50e9d-e5f4-41bc-9f98-1795fa82e5c9",
   "metadata": {
    "tags": []
   },
   "outputs": [],
   "source": [
    "zip_code_df.head()"
   ]
  },
  {
   "cell_type": "code",
   "execution_count": null,
   "id": "70722afd-74cf-44f9-901a-e11fe4fd4217",
   "metadata": {
    "tags": []
   },
   "outputs": [],
   "source": [
    "# Convert the geometry column to WKT format\n",
    "zip_code_df['geometry'] = zip_code_df['geometry'].apply(lambda geom: geom.wkt)"
   ]
  },
  {
   "cell_type": "code",
   "execution_count": null,
   "id": "e6b04537-1f6e-4465-910c-85ec12ce9286",
   "metadata": {
    "tags": []
   },
   "outputs": [],
   "source": [
    "chunk_size = 25000  # adjust based on your system's capabilities\n",
    "chunks = [x for x in range(0, len(zip_code_df), chunk_size)]\n",
    "\n",
    "for start in chunks:\n",
    "    end = start + chunk_size\n",
    "    temp_df = zip_code_df.iloc[start:end].copy()\n",
    "    # temp_df['geometry'] = temp_df['geometry'].apply(lambda geom: geom.wkt)\n",
    "    temp_df.to_parquet(f\"C:/Users/Asus/Box/Flood Damage PredictionProject/Dataset/zipcode_geometry_{start}_{end}.parquet.gzip\", compression='gzip')"
   ]
  },
  {
   "cell_type": "code",
   "execution_count": 2,
   "id": "94f5977f-7f01-4d20-9a43-481f72e0fe1c",
   "metadata": {
    "tags": []
   },
   "outputs": [],
   "source": [
    "# Read the parquet file\n",
    "df_read = pd.read_parquet(\"C:/Users/Asus/Box/Flood Damage PredictionProject/Dataset/zipcode_geometry_0_25000.parquet.gzip\")\n",
    "\n",
    "# Convert the WKT strings back to geometries\n",
    "gdf_read = gpd.GeoDataFrame(df_read, geometry=df_read['geometry'].apply(lambda x: shapely.wkt.loads(x)))"
   ]
  },
  {
   "cell_type": "code",
   "execution_count": 3,
   "id": "8eb124fe-daf8-48ba-aaed-a3741fcd2457",
   "metadata": {
    "tags": []
   },
   "outputs": [
    {
     "data": {
      "text/html": [
       "<div>\n",
       "<style scoped>\n",
       "    .dataframe tbody tr th:only-of-type {\n",
       "        vertical-align: middle;\n",
       "    }\n",
       "\n",
       "    .dataframe tbody tr th {\n",
       "        vertical-align: top;\n",
       "    }\n",
       "\n",
       "    .dataframe thead th {\n",
       "        text-align: right;\n",
       "    }\n",
       "</style>\n",
       "<table border=\"1\" class=\"dataframe\">\n",
       "  <thead>\n",
       "    <tr style=\"text-align: right;\">\n",
       "      <th></th>\n",
       "      <th>ZIPcode</th>\n",
       "      <th>geometry</th>\n",
       "      <th>year</th>\n",
       "    </tr>\n",
       "  </thead>\n",
       "  <tbody>\n",
       "    <tr>\n",
       "      <th>0</th>\n",
       "      <td>38739</td>\n",
       "      <td>MULTIPOLYGON (((-90.499253 34.053217, -90.4997...</td>\n",
       "      <td>2000</td>\n",
       "    </tr>\n",
       "    <tr>\n",
       "      <th>1</th>\n",
       "      <td>38767</td>\n",
       "      <td>POLYGON ((-90.76477 34.119506, -90.766978 34.1...</td>\n",
       "      <td>2000</td>\n",
       "    </tr>\n",
       "    <tr>\n",
       "      <th>2</th>\n",
       "      <td>38669</td>\n",
       "      <td>POLYGON ((-90.74080599999999 34.184565, -90.74...</td>\n",
       "      <td>2000</td>\n",
       "    </tr>\n",
       "    <tr>\n",
       "      <th>3</th>\n",
       "      <td>38630</td>\n",
       "      <td>MULTIPOLYGON (((-90.67204699999999 34.259564, ...</td>\n",
       "      <td>2000</td>\n",
       "    </tr>\n",
       "    <tr>\n",
       "      <th>4</th>\n",
       "      <td>38639</td>\n",
       "      <td>POLYGON ((-90.456458 34.31975, -90.456758 34.3...</td>\n",
       "      <td>2000</td>\n",
       "    </tr>\n",
       "  </tbody>\n",
       "</table>\n",
       "</div>"
      ],
      "text/plain": [
       "  ZIPcode                                           geometry  year\n",
       "0   38739  MULTIPOLYGON (((-90.499253 34.053217, -90.4997...  2000\n",
       "1   38767  POLYGON ((-90.76477 34.119506, -90.766978 34.1...  2000\n",
       "2   38669  POLYGON ((-90.74080599999999 34.184565, -90.74...  2000\n",
       "3   38630  MULTIPOLYGON (((-90.67204699999999 34.259564, ...  2000\n",
       "4   38639  POLYGON ((-90.456458 34.31975, -90.456758 34.3...  2000"
      ]
     },
     "execution_count": 3,
     "metadata": {},
     "output_type": "execute_result"
    }
   ],
   "source": [
    "df_read.head()"
   ]
  },
  {
   "cell_type": "code",
   "execution_count": 5,
   "id": "80b78697-d88e-40a5-ac02-af0de1ac137d",
   "metadata": {
    "tags": []
   },
   "outputs": [
    {
     "name": "stdout",
     "output_type": "stream",
     "text": [
      "POLYGON ((2 1, 1 1, 1 2, 2 2, 2 1))\n"
     ]
    }
   ],
   "source": [
    "# import geopandas as gpd\n",
    "# from shapely.wkt import loads\n",
    "\n",
    "# # Assuming you have a DataFrame df with columns 'unit' and 'geometry'\n",
    "# # Example:\n",
    "# #    unit  |  geometry\n",
    "# #   -------|-----------\n",
    "# #    unit1 |  geom1\n",
    "# #    unit2 |  geom2\n",
    "# #    unit3 |  geom3\n",
    "\n",
    "# # Here's a hypothetical dataset for demonstration\n",
    "# data = {\n",
    "#     'unit': ['unit1', 'unit2', 'unit3'],\n",
    "#     'geometry': ['POLYGON ((0 0, 0 2, 2 2, 2 0, 0 0))',\n",
    "#                 'POLYGON ((1 1, 1 3, 3 3, 3 1, 1 1))',\n",
    "#                 'POLYGON ((0.5 0.5, 0.5 2.5, 2.5 2.5, 2.5 0.5, 0.5 0.5))']\n",
    "# }\n",
    "\n",
    "# # Convert string representations of geometries to actual Shapely geometry objects\n",
    "# data['geometry'] = [loads(geom) for geom in data['geometry']]\n",
    "\n",
    "# df = gpd.GeoDataFrame(data, geometry='geometry')\n",
    "\n",
    "# # Get the intersection of the three geometries\n",
    "# intersection_geom = df['geometry'].iloc[0]\n",
    "# for geom in df['geometry'].iloc[1:]:\n",
    "#     intersection_geom = intersection_geom.intersection(geom)\n",
    "\n",
    "# print(intersection_geom)"
   ]
  },
  {
   "cell_type": "code",
   "execution_count": null,
   "id": "68c27f5c-02b6-4477-a98c-75a90bd19ebb",
   "metadata": {
    "tags": []
   },
   "outputs": [],
   "source": [
    "# Drop duplicates\n",
    "zip_code_df = zip_code_df.drop_duplicates(subset=['ZIPcode'])"
   ]
  },
  {
   "cell_type": "code",
   "execution_count": null,
   "id": "5a2217f4-6aab-4cdf-a353-662a0853fac9",
   "metadata": {},
   "outputs": [],
   "source": []
  },
  {
   "cell_type": "code",
   "execution_count": null,
   "id": "46b814cf",
   "metadata": {
    "tags": []
   },
   "outputs": [],
   "source": [
    "list_zipcode_2 = zip_codes_list['ZCTA5CE20'].dropna().drop_duplicates().astype(str).tolist()\n",
    "\n",
    "# add preceding 0 to make 4-digit zip codes into 5-digit\n",
    "list_zipcode_2 = [zipcode.zfill(5) for zipcode in list_zipcode_2]"
   ]
  },
  {
   "cell_type": "code",
   "execution_count": null,
   "id": "c3d0cafc",
   "metadata": {
    "tags": []
   },
   "outputs": [],
   "source": [
    "# Convert both lists to sets\n",
    "set_zipcode = set(list_zipcode)\n",
    "set_zipcode_2 = set(list_zipcode_2)\n",
    "\n",
    "# Find the intersection of the two sets\n",
    "common_zipcodes = set_zipcode.intersection(set_zipcode_2)\n",
    "\n",
    "# Print the number of common zip codes\n",
    "print(\"Number of common zip codes:\", len(common_zipcodes))"
   ]
  },
  {
   "cell_type": "code",
   "execution_count": null,
   "id": "dbe78cda",
   "metadata": {
    "tags": []
   },
   "outputs": [],
   "source": [
    "len(common_zipcodes)/len(list_zipcode)"
   ]
  },
  {
   "cell_type": "code",
   "execution_count": 14,
   "id": "483faee5",
   "metadata": {
    "tags": []
   },
   "outputs": [
    {
     "name": "stdout",
     "output_type": "stream",
     "text": [
      "Using the default year of 2021\n"
     ]
    }
   ],
   "source": [
    "states = pygris.states()\n",
    "states_list = sorted(states['STUSPS'].unique())"
   ]
  },
  {
   "cell_type": "code",
   "execution_count": null,
   "id": "34d3e84e-b7f4-4941-8628-8e2be02f80fa",
   "metadata": {
    "tags": []
   },
   "outputs": [],
   "source": [
    "zip_codes_list['ZCTA5CE20'] = zip_codes_list['ZCTA5CE20'].astype(str)\n",
    "\n",
    "filtered_df = zip_codes_list[zip_codes_list['ZCTA5CE20'].isin(list_zipcode)]"
   ]
  },
  {
   "cell_type": "code",
   "execution_count": null,
   "id": "51f097f5-3e4c-4e85-854a-a3ea2f0bb91c",
   "metadata": {
    "tags": []
   },
   "outputs": [],
   "source": [
    "filtered_df.head()"
   ]
  },
  {
   "cell_type": "code",
   "execution_count": null,
   "id": "271294e0-7bb2-4248-9c73-249eac7cfa41",
   "metadata": {
    "tags": []
   },
   "outputs": [],
   "source": [
    "years2 = [1990, 2000, 2010, 2012, 2013, 2014, 2015, 2016, 2017, 2018, 2019, 2020, 2021]"
   ]
  },
  {
   "cell_type": "code",
   "execution_count": 15,
   "id": "caf1386b-3315-4649-a588-a417c4d5cc09",
   "metadata": {
    "collapsed": true,
    "jupyter": {
     "outputs_hidden": true
    },
    "tags": []
   },
   "outputs": [
    {
     "name": "stdout",
     "output_type": "stream",
     "text": [
      "Using FIPS code '02' for input 'AK'\n",
      "Using FIPS code '01' for input 'AL'\n",
      "Using FIPS code '05' for input 'AR'\n",
      "Using FIPS code '60' for input 'AS'\n",
      "Using FIPS code '04' for input 'AZ'\n",
      "Using FIPS code '06' for input 'CA'\n",
      "Using FIPS code '08' for input 'CO'\n",
      "Using FIPS code '09' for input 'CT'\n",
      "Using FIPS code '11' for input 'DC'\n",
      "Using FIPS code '10' for input 'DE'\n",
      "Using FIPS code '12' for input 'FL'\n",
      "Using FIPS code '13' for input 'GA'\n",
      "Using FIPS code '66' for input 'GU'\n",
      "Using FIPS code '15' for input 'HI'\n",
      "Using FIPS code '19' for input 'IA'\n",
      "Using FIPS code '16' for input 'ID'\n",
      "Using FIPS code '17' for input 'IL'\n",
      "Using FIPS code '18' for input 'IN'\n",
      "Using FIPS code '20' for input 'KS'\n",
      "Using FIPS code '21' for input 'KY'\n",
      "Using FIPS code '22' for input 'LA'\n",
      "Using FIPS code '25' for input 'MA'\n",
      "Using FIPS code '24' for input 'MD'\n",
      "Using FIPS code '23' for input 'ME'\n",
      "Using FIPS code '26' for input 'MI'\n",
      "Using FIPS code '27' for input 'MN'\n",
      "Using FIPS code '29' for input 'MO'\n",
      "Using FIPS code '69' for input 'MP'\n",
      "Using FIPS code '28' for input 'MS'\n",
      "Using FIPS code '30' for input 'MT'\n",
      "Using FIPS code '37' for input 'NC'\n",
      "Using FIPS code '38' for input 'ND'\n",
      "Using FIPS code '31' for input 'NE'\n",
      "Using FIPS code '33' for input 'NH'\n",
      "Using FIPS code '34' for input 'NJ'\n",
      "Using FIPS code '35' for input 'NM'\n",
      "Using FIPS code '32' for input 'NV'\n",
      "Using FIPS code '36' for input 'NY'\n",
      "Using FIPS code '39' for input 'OH'\n",
      "Using FIPS code '40' for input 'OK'\n",
      "Using FIPS code '41' for input 'OR'\n",
      "Using FIPS code '42' for input 'PA'\n",
      "Using FIPS code '72' for input 'PR'\n",
      "Using FIPS code '44' for input 'RI'\n",
      "Using FIPS code '45' for input 'SC'\n",
      "Using FIPS code '46' for input 'SD'\n",
      "Using FIPS code '47' for input 'TN'\n",
      "Using FIPS code '48' for input 'TX'\n",
      "Using FIPS code '49' for input 'UT'\n",
      "Using FIPS code '51' for input 'VA'\n",
      "Using FIPS code '78' for input 'VI'\n",
      "Using FIPS code '50' for input 'VT'\n",
      "Using FIPS code '53' for input 'WA'\n",
      "Using FIPS code '55' for input 'WI'\n",
      "Using FIPS code '54' for input 'WV'\n",
      "Using FIPS code '56' for input 'WY'\n"
     ]
    }
   ],
   "source": [
    "BG_list = []\n",
    "\n",
    "for i in states_list:\n",
    "    BG_list.append(pygris.block_groups(state = i, year = 2021))"
   ]
  },
  {
   "cell_type": "code",
   "execution_count": 16,
   "id": "6fb1046f-e03c-4b13-89bf-4bd15c765482",
   "metadata": {
    "collapsed": true,
    "jupyter": {
     "outputs_hidden": true
    },
    "tags": []
   },
   "outputs": [
    {
     "name": "stdout",
     "output_type": "stream",
     "text": [
      "Using FIPS code '02' for input 'AK'\n",
      "Using FIPS code '01' for input 'AL'\n",
      "Using FIPS code '05' for input 'AR'\n",
      "Using FIPS code '60' for input 'AS'\n",
      "Using FIPS code '04' for input 'AZ'\n",
      "Using FIPS code '06' for input 'CA'\n",
      "Using FIPS code '08' for input 'CO'\n",
      "Using FIPS code '09' for input 'CT'\n",
      "Using FIPS code '11' for input 'DC'\n",
      "Using FIPS code '10' for input 'DE'\n",
      "Using FIPS code '12' for input 'FL'\n",
      "Using FIPS code '13' for input 'GA'\n",
      "Using FIPS code '66' for input 'GU'\n",
      "Using FIPS code '15' for input 'HI'\n",
      "Using FIPS code '19' for input 'IA'\n",
      "Using FIPS code '16' for input 'ID'\n",
      "Using FIPS code '17' for input 'IL'\n",
      "Using FIPS code '18' for input 'IN'\n",
      "Using FIPS code '20' for input 'KS'\n",
      "Using FIPS code '21' for input 'KY'\n",
      "Using FIPS code '22' for input 'LA'\n",
      "Using FIPS code '25' for input 'MA'\n",
      "Using FIPS code '24' for input 'MD'\n",
      "Using FIPS code '23' for input 'ME'\n",
      "Using FIPS code '26' for input 'MI'\n",
      "Using FIPS code '27' for input 'MN'\n",
      "Using FIPS code '29' for input 'MO'\n",
      "Using FIPS code '69' for input 'MP'\n",
      "Using FIPS code '28' for input 'MS'\n",
      "Using FIPS code '30' for input 'MT'\n",
      "Using FIPS code '37' for input 'NC'\n",
      "Using FIPS code '38' for input 'ND'\n",
      "Using FIPS code '31' for input 'NE'\n",
      "Using FIPS code '33' for input 'NH'\n",
      "Using FIPS code '34' for input 'NJ'\n",
      "Using FIPS code '35' for input 'NM'\n",
      "Using FIPS code '32' for input 'NV'\n",
      "Using FIPS code '36' for input 'NY'\n",
      "Using FIPS code '39' for input 'OH'\n",
      "Using FIPS code '40' for input 'OK'\n",
      "Using FIPS code '41' for input 'OR'\n",
      "Using FIPS code '42' for input 'PA'\n",
      "Using FIPS code '72' for input 'PR'\n",
      "Using FIPS code '44' for input 'RI'\n",
      "Using FIPS code '45' for input 'SC'\n",
      "Using FIPS code '46' for input 'SD'\n",
      "Using FIPS code '47' for input 'TN'\n",
      "Using FIPS code '48' for input 'TX'\n",
      "Using FIPS code '49' for input 'UT'\n",
      "Using FIPS code '51' for input 'VA'\n",
      "Using FIPS code '78' for input 'VI'\n",
      "Using FIPS code '50' for input 'VT'\n",
      "Using FIPS code '53' for input 'WA'\n",
      "Using FIPS code '55' for input 'WI'\n",
      "Using FIPS code '54' for input 'WV'\n",
      "Using FIPS code '56' for input 'WY'\n"
     ]
    }
   ],
   "source": [
    "BG_list_2012 = []\n",
    "\n",
    "for i in states_list:\n",
    "    BG_list_2012.append(pygris.block_groups(state = i, year = 2012))"
   ]
  },
  {
   "cell_type": "code",
   "execution_count": 17,
   "id": "9c9db1ea-a8c2-43ad-bef0-4df7bbfa557f",
   "metadata": {
    "collapsed": true,
    "jupyter": {
     "outputs_hidden": true
    },
    "tags": []
   },
   "outputs": [
    {
     "name": "stdout",
     "output_type": "stream",
     "text": [
      "Using FIPS code '02' for input 'AK'\n",
      "Using FIPS code '01' for input 'AL'\n",
      "Using FIPS code '05' for input 'AR'\n",
      "Using FIPS code '60' for input 'AS'\n",
      "Using FIPS code '04' for input 'AZ'\n",
      "Using FIPS code '06' for input 'CA'\n",
      "Using FIPS code '08' for input 'CO'\n",
      "Using FIPS code '09' for input 'CT'\n",
      "Using FIPS code '11' for input 'DC'\n",
      "Using FIPS code '10' for input 'DE'\n",
      "Using FIPS code '12' for input 'FL'\n",
      "Using FIPS code '13' for input 'GA'\n",
      "Using FIPS code '66' for input 'GU'\n",
      "Using FIPS code '15' for input 'HI'\n",
      "Using FIPS code '19' for input 'IA'\n",
      "Using FIPS code '16' for input 'ID'\n",
      "Using FIPS code '17' for input 'IL'\n",
      "Using FIPS code '18' for input 'IN'\n",
      "Using FIPS code '20' for input 'KS'\n",
      "Using FIPS code '21' for input 'KY'\n",
      "Using FIPS code '22' for input 'LA'\n",
      "Using FIPS code '25' for input 'MA'\n",
      "Using FIPS code '24' for input 'MD'\n",
      "Using FIPS code '23' for input 'ME'\n",
      "Using FIPS code '26' for input 'MI'\n",
      "Using FIPS code '27' for input 'MN'\n",
      "Using FIPS code '29' for input 'MO'\n",
      "Using FIPS code '69' for input 'MP'\n",
      "Using FIPS code '28' for input 'MS'\n",
      "Using FIPS code '30' for input 'MT'\n",
      "Using FIPS code '37' for input 'NC'\n",
      "Using FIPS code '38' for input 'ND'\n",
      "Using FIPS code '31' for input 'NE'\n",
      "Using FIPS code '33' for input 'NH'\n",
      "Using FIPS code '34' for input 'NJ'\n",
      "Using FIPS code '35' for input 'NM'\n",
      "Using FIPS code '32' for input 'NV'\n",
      "Using FIPS code '36' for input 'NY'\n",
      "Using FIPS code '39' for input 'OH'\n",
      "Using FIPS code '40' for input 'OK'\n",
      "Using FIPS code '41' for input 'OR'\n",
      "Using FIPS code '42' for input 'PA'\n",
      "Using FIPS code '72' for input 'PR'\n",
      "Using FIPS code '44' for input 'RI'\n",
      "Using FIPS code '45' for input 'SC'\n",
      "Using FIPS code '46' for input 'SD'\n",
      "Using FIPS code '47' for input 'TN'\n",
      "Using FIPS code '48' for input 'TX'\n",
      "Using FIPS code '49' for input 'UT'\n",
      "Using FIPS code '51' for input 'VA'\n",
      "Using FIPS code '78' for input 'VI'\n",
      "Using FIPS code '50' for input 'VT'\n",
      "Using FIPS code '53' for input 'WA'\n",
      "Using FIPS code '55' for input 'WI'\n",
      "Using FIPS code '54' for input 'WV'\n",
      "Using FIPS code '56' for input 'WY'\n"
     ]
    }
   ],
   "source": [
    "BG_list_2010 = []\n",
    "\n",
    "for i in states_list:\n",
    "    BG_list_2010.append(pygris.block_groups(state = i, year = 2010))"
   ]
  },
  {
   "cell_type": "code",
   "execution_count": 18,
   "id": "b356267f",
   "metadata": {
    "collapsed": true,
    "jupyter": {
     "outputs_hidden": true
    },
    "tags": []
   },
   "outputs": [
    {
     "name": "stdout",
     "output_type": "stream",
     "text": [
      "Using FIPS code '02' for input 'AK'\n",
      "Using FIPS code '01' for input 'AL'\n",
      "Using FIPS code '05' for input 'AR'\n",
      "Using FIPS code '60' for input 'AS'\n",
      "Using FIPS code '04' for input 'AZ'\n",
      "Using FIPS code '06' for input 'CA'\n",
      "Using FIPS code '08' for input 'CO'\n",
      "Using FIPS code '09' for input 'CT'\n",
      "Using FIPS code '11' for input 'DC'\n",
      "Using FIPS code '10' for input 'DE'\n",
      "Using FIPS code '12' for input 'FL'\n",
      "Using FIPS code '13' for input 'GA'\n",
      "Using FIPS code '66' for input 'GU'\n",
      "Using FIPS code '15' for input 'HI'\n",
      "Using FIPS code '19' for input 'IA'\n",
      "Using FIPS code '16' for input 'ID'\n",
      "Using FIPS code '17' for input 'IL'\n",
      "Using FIPS code '18' for input 'IN'\n",
      "Using FIPS code '20' for input 'KS'\n",
      "Using FIPS code '21' for input 'KY'\n",
      "Using FIPS code '22' for input 'LA'\n",
      "Using FIPS code '25' for input 'MA'\n",
      "Using FIPS code '24' for input 'MD'\n",
      "Using FIPS code '23' for input 'ME'\n",
      "Using FIPS code '26' for input 'MI'\n",
      "Using FIPS code '27' for input 'MN'\n",
      "Using FIPS code '29' for input 'MO'\n",
      "Using FIPS code '69' for input 'MP'\n",
      "Using FIPS code '28' for input 'MS'\n",
      "Using FIPS code '30' for input 'MT'\n",
      "Using FIPS code '37' for input 'NC'\n",
      "Using FIPS code '38' for input 'ND'\n",
      "Using FIPS code '31' for input 'NE'\n",
      "Using FIPS code '33' for input 'NH'\n",
      "Using FIPS code '34' for input 'NJ'\n",
      "Using FIPS code '35' for input 'NM'\n",
      "Using FIPS code '32' for input 'NV'\n",
      "Using FIPS code '36' for input 'NY'\n",
      "Using FIPS code '39' for input 'OH'\n",
      "Using FIPS code '40' for input 'OK'\n",
      "Using FIPS code '41' for input 'OR'\n",
      "Using FIPS code '42' for input 'PA'\n",
      "Using FIPS code '72' for input 'PR'\n",
      "Using FIPS code '44' for input 'RI'\n",
      "Using FIPS code '45' for input 'SC'\n",
      "Using FIPS code '46' for input 'SD'\n",
      "Using FIPS code '47' for input 'TN'\n",
      "Using FIPS code '48' for input 'TX'\n",
      "Using FIPS code '49' for input 'UT'\n",
      "Using FIPS code '51' for input 'VA'\n",
      "Using FIPS code '78' for input 'VI'\n",
      "Using FIPS code '50' for input 'VT'\n",
      "Using FIPS code '53' for input 'WA'\n",
      "Using FIPS code '55' for input 'WI'\n",
      "Using FIPS code '54' for input 'WV'\n",
      "Using FIPS code '56' for input 'WY'\n"
     ]
    }
   ],
   "source": [
    "BG_list_2000 = []\n",
    "\n",
    "for i in states_list:\n",
    "    BG_list_2000.append(pygris.block_groups(state = i, year = 2000))"
   ]
  },
  {
   "cell_type": "code",
   "execution_count": 20,
   "id": "8b77dd98-fea7-4123-8057-0669a39e280b",
   "metadata": {
    "collapsed": true,
    "jupyter": {
     "outputs_hidden": true
    },
    "tags": []
   },
   "outputs": [
    {
     "name": "stdout",
     "output_type": "stream",
     "text": [
      "Using FIPS code '02' for input 'AK'\n",
      "Using FIPS code '01' for input 'AL'\n",
      "Using FIPS code '05' for input 'AR'\n",
      "Using FIPS code '60' for input 'AS'\n",
      "Using FIPS code '04' for input 'AZ'\n",
      "Using FIPS code '06' for input 'CA'\n",
      "Using FIPS code '08' for input 'CO'\n",
      "Using FIPS code '09' for input 'CT'\n",
      "Using FIPS code '11' for input 'DC'\n",
      "Using FIPS code '10' for input 'DE'\n",
      "Using FIPS code '12' for input 'FL'\n",
      "Using FIPS code '13' for input 'GA'\n",
      "Using FIPS code '66' for input 'GU'\n",
      "Using FIPS code '15' for input 'HI'\n",
      "Using FIPS code '19' for input 'IA'\n",
      "Using FIPS code '16' for input 'ID'\n",
      "Using FIPS code '17' for input 'IL'\n",
      "Using FIPS code '18' for input 'IN'\n",
      "Using FIPS code '20' for input 'KS'\n",
      "Using FIPS code '21' for input 'KY'\n",
      "Using FIPS code '22' for input 'LA'\n",
      "Using FIPS code '25' for input 'MA'\n",
      "Using FIPS code '24' for input 'MD'\n",
      "Using FIPS code '23' for input 'ME'\n",
      "Using FIPS code '26' for input 'MI'\n",
      "Using FIPS code '27' for input 'MN'\n",
      "Using FIPS code '29' for input 'MO'\n",
      "Using FIPS code '69' for input 'MP'\n",
      "Using FIPS code '28' for input 'MS'\n",
      "Using FIPS code '30' for input 'MT'\n",
      "Using FIPS code '37' for input 'NC'\n",
      "Using FIPS code '38' for input 'ND'\n",
      "Using FIPS code '31' for input 'NE'\n",
      "Using FIPS code '33' for input 'NH'\n",
      "Using FIPS code '34' for input 'NJ'\n",
      "Using FIPS code '35' for input 'NM'\n",
      "Using FIPS code '32' for input 'NV'\n",
      "Using FIPS code '36' for input 'NY'\n",
      "Using FIPS code '39' for input 'OH'\n",
      "Using FIPS code '40' for input 'OK'\n",
      "Using FIPS code '41' for input 'OR'\n",
      "Using FIPS code '42' for input 'PA'\n",
      "Using FIPS code '72' for input 'PR'\n",
      "Using FIPS code '44' for input 'RI'\n",
      "Using FIPS code '45' for input 'SC'\n",
      "Using FIPS code '46' for input 'SD'\n",
      "Using FIPS code '47' for input 'TN'\n",
      "Using FIPS code '48' for input 'TX'\n",
      "Using FIPS code '49' for input 'UT'\n",
      "Using FIPS code '51' for input 'VA'\n",
      "Using FIPS code '78' for input 'VI'\n",
      "Using FIPS code '50' for input 'VT'\n",
      "Using FIPS code '53' for input 'WA'\n",
      "Using FIPS code '55' for input 'WI'\n",
      "Using FIPS code '54' for input 'WV'\n",
      "Using FIPS code '56' for input 'WY'\n"
     ]
    }
   ],
   "source": [
    "BG_list_1990 = []\n",
    "\n",
    "for i in states_list:\n",
    "    BG_list_1990.append(pygris.block_groups(state = i, year = 1990, cb = True))"
   ]
  },
  {
   "cell_type": "code",
   "execution_count": 147,
   "id": "4305df31-ac20-4aa3-b23c-826933c1b207",
   "metadata": {
    "tags": []
   },
   "outputs": [],
   "source": [
    "temp = pd.concat(BG_list_1990, ignore_index=True)"
   ]
  },
  {
   "cell_type": "code",
   "execution_count": 148,
   "id": "c225a6c4-8894-4630-9819-4fe3335ab19c",
   "metadata": {
    "collapsed": true,
    "jupyter": {
     "outputs_hidden": true
    },
    "tags": []
   },
   "outputs": [
    {
     "data": {
      "text/html": [
       "<div>\n",
       "<style scoped>\n",
       "    .dataframe tbody tr th:only-of-type {\n",
       "        vertical-align: middle;\n",
       "    }\n",
       "\n",
       "    .dataframe tbody tr th {\n",
       "        vertical-align: top;\n",
       "    }\n",
       "\n",
       "    .dataframe thead th {\n",
       "        text-align: right;\n",
       "    }\n",
       "</style>\n",
       "<table border=\"1\" class=\"dataframe\">\n",
       "  <thead>\n",
       "    <tr style=\"text-align: right;\">\n",
       "      <th></th>\n",
       "      <th>AREA</th>\n",
       "      <th>PERIMETER</th>\n",
       "      <th>BG02_D90_</th>\n",
       "      <th>BG02_D90_I</th>\n",
       "      <th>POLY_</th>\n",
       "      <th>SUBCLASS</th>\n",
       "      <th>SUBCLASS_</th>\n",
       "      <th>RINGS_OK</th>\n",
       "      <th>RINGS_NOK</th>\n",
       "      <th>ST</th>\n",
       "      <th>CO</th>\n",
       "      <th>TRACT</th>\n",
       "      <th>BG</th>\n",
       "      <th>GEOID</th>\n",
       "      <th>AREALAND</th>\n",
       "      <th>AREAWAT</th>\n",
       "      <th>AREATOT</th>\n",
       "      <th>NAME</th>\n",
       "      <th>geometry</th>\n",
       "      <th>BG01_D90_</th>\n",
       "      <th>BG01_D90_I</th>\n",
       "      <th>BG05_D90_</th>\n",
       "      <th>BG05_D90_I</th>\n",
       "      <th>BG60_D90_</th>\n",
       "      <th>BG60_D90_I</th>\n",
       "      <th>BG04_D90_</th>\n",
       "      <th>BG04_D90_I</th>\n",
       "      <th>BG06_D90_</th>\n",
       "      <th>BG06_D90_I</th>\n",
       "      <th>BG08_D90_</th>\n",
       "      <th>BG08_D90_I</th>\n",
       "      <th>BG09_D90_</th>\n",
       "      <th>BG09_D90_I</th>\n",
       "      <th>BG11_D90_</th>\n",
       "      <th>BG11_D90_I</th>\n",
       "      <th>BG10_D90_</th>\n",
       "      <th>BG10_D90_I</th>\n",
       "      <th>BG12_D90_</th>\n",
       "      <th>BG12_D90_I</th>\n",
       "      <th>BG13_D90_</th>\n",
       "      <th>BG13_D90_I</th>\n",
       "      <th>BG66_D90_</th>\n",
       "      <th>BG66_D90_I</th>\n",
       "      <th>BG15_D90_</th>\n",
       "      <th>BG15_D90_I</th>\n",
       "      <th>BG19_D90_</th>\n",
       "      <th>BG19_D90_I</th>\n",
       "      <th>BG16_D90_</th>\n",
       "      <th>BG16_D90_I</th>\n",
       "      <th>BG17_D90_</th>\n",
       "      <th>BG17_D90_I</th>\n",
       "      <th>BG18_D90_</th>\n",
       "      <th>BG18_D90_I</th>\n",
       "      <th>BG20_D90_</th>\n",
       "      <th>BG20_D90_I</th>\n",
       "      <th>BG21_D90_</th>\n",
       "      <th>BG21_D90_I</th>\n",
       "      <th>BG22_D90_</th>\n",
       "      <th>BG22_D90_I</th>\n",
       "      <th>BG25_D90_</th>\n",
       "      <th>BG25_D90_I</th>\n",
       "      <th>BG24_D90_</th>\n",
       "      <th>BG24_D90_I</th>\n",
       "      <th>BG23_D90_</th>\n",
       "      <th>BG23_D90_I</th>\n",
       "      <th>BG26_D90_</th>\n",
       "      <th>BG26_D90_I</th>\n",
       "      <th>BG27_D90_</th>\n",
       "      <th>BG27_D90_I</th>\n",
       "      <th>BG29_D90_</th>\n",
       "      <th>BG29_D90_I</th>\n",
       "      <th>BG69_D90_</th>\n",
       "      <th>BG69_D90_I</th>\n",
       "      <th>BG28_D90_</th>\n",
       "      <th>BG28_D90_I</th>\n",
       "      <th>BG30_D90_</th>\n",
       "      <th>BG30_D90_I</th>\n",
       "      <th>BG37_D90_</th>\n",
       "      <th>BG37_D90_I</th>\n",
       "      <th>BG38_D90_</th>\n",
       "      <th>BG38_D90_I</th>\n",
       "      <th>BG31_D90_</th>\n",
       "      <th>BG31_D90_I</th>\n",
       "      <th>BG33_D90_</th>\n",
       "      <th>BG33_D90_I</th>\n",
       "      <th>BG34_D90_</th>\n",
       "      <th>BG34_D90_I</th>\n",
       "      <th>BG35_D90_</th>\n",
       "      <th>BG35_D90_I</th>\n",
       "      <th>BG32_D90_</th>\n",
       "      <th>BG32_D90_I</th>\n",
       "      <th>BG36_D90_</th>\n",
       "      <th>BG36_D90_I</th>\n",
       "      <th>BG39_D90_</th>\n",
       "      <th>BG39_D90_I</th>\n",
       "      <th>BG40_D90_</th>\n",
       "      <th>BG40_D90_I</th>\n",
       "      <th>BG41_D90_</th>\n",
       "      <th>BG41_D90_I</th>\n",
       "      <th>BG42_D90_</th>\n",
       "      <th>BG42_D90_I</th>\n",
       "      <th>BG72_D90_</th>\n",
       "      <th>BG72_D90_I</th>\n",
       "      <th>BG44_D90_</th>\n",
       "      <th>BG44_D90_I</th>\n",
       "      <th>BG45_D90_</th>\n",
       "      <th>BG45_D90_I</th>\n",
       "      <th>BG46_D90_</th>\n",
       "      <th>BG46_D90_I</th>\n",
       "      <th>BG47_D90_</th>\n",
       "      <th>BG47_D90_I</th>\n",
       "      <th>BG48_D90_</th>\n",
       "      <th>BG48_D90_I</th>\n",
       "      <th>BG49_D90_</th>\n",
       "      <th>BG49_D90_I</th>\n",
       "      <th>BG51_D90_</th>\n",
       "      <th>BG51_D90_I</th>\n",
       "      <th>BG78_D90_</th>\n",
       "      <th>BG78_D90_I</th>\n",
       "      <th>BG50_D90_</th>\n",
       "      <th>BG50_D90_I</th>\n",
       "      <th>BG53_D90_</th>\n",
       "      <th>BG53_D90_I</th>\n",
       "      <th>BG55_D90_</th>\n",
       "      <th>BG55_D90_I</th>\n",
       "      <th>BG54_D90_</th>\n",
       "      <th>BG54_D90_I</th>\n",
       "      <th>BG56_D90_</th>\n",
       "      <th>BG56_D90_I</th>\n",
       "    </tr>\n",
       "  </thead>\n",
       "  <tbody>\n",
       "    <tr>\n",
       "      <th>0</th>\n",
       "      <td>0.030489</td>\n",
       "      <td>0.947504</td>\n",
       "      <td>2.0</td>\n",
       "      <td>1.0</td>\n",
       "      <td>2</td>\n",
       "      <td>BG_02SUB</td>\n",
       "      <td>1</td>\n",
       "      <td>1</td>\n",
       "      <td>0</td>\n",
       "      <td>02</td>\n",
       "      <td>185</td>\n",
       "      <td>950100</td>\n",
       "      <td>1</td>\n",
       "      <td>021859501001</td>\n",
       "      <td>110.099</td>\n",
       "      <td>277.052</td>\n",
       "      <td>387.151</td>\n",
       "      <td>BG 1</td>\n",
       "      <td>POLYGON ((-156.77553 71.29742, -156.77612 71.2...</td>\n",
       "      <td>NaN</td>\n",
       "      <td>NaN</td>\n",
       "      <td>NaN</td>\n",
       "      <td>NaN</td>\n",
       "      <td>NaN</td>\n",
       "      <td>NaN</td>\n",
       "      <td>NaN</td>\n",
       "      <td>NaN</td>\n",
       "      <td>NaN</td>\n",
       "      <td>NaN</td>\n",
       "      <td>NaN</td>\n",
       "      <td>NaN</td>\n",
       "      <td>NaN</td>\n",
       "      <td>NaN</td>\n",
       "      <td>NaN</td>\n",
       "      <td>NaN</td>\n",
       "      <td>NaN</td>\n",
       "      <td>NaN</td>\n",
       "      <td>NaN</td>\n",
       "      <td>NaN</td>\n",
       "      <td>NaN</td>\n",
       "      <td>NaN</td>\n",
       "      <td>NaN</td>\n",
       "      <td>NaN</td>\n",
       "      <td>NaN</td>\n",
       "      <td>NaN</td>\n",
       "      <td>NaN</td>\n",
       "      <td>NaN</td>\n",
       "      <td>NaN</td>\n",
       "      <td>NaN</td>\n",
       "      <td>NaN</td>\n",
       "      <td>NaN</td>\n",
       "      <td>NaN</td>\n",
       "      <td>NaN</td>\n",
       "      <td>NaN</td>\n",
       "      <td>NaN</td>\n",
       "      <td>NaN</td>\n",
       "      <td>NaN</td>\n",
       "      <td>NaN</td>\n",
       "      <td>NaN</td>\n",
       "      <td>NaN</td>\n",
       "      <td>NaN</td>\n",
       "      <td>NaN</td>\n",
       "      <td>NaN</td>\n",
       "      <td>NaN</td>\n",
       "      <td>NaN</td>\n",
       "      <td>NaN</td>\n",
       "      <td>NaN</td>\n",
       "      <td>NaN</td>\n",
       "      <td>NaN</td>\n",
       "      <td>NaN</td>\n",
       "      <td>NaN</td>\n",
       "      <td>NaN</td>\n",
       "      <td>NaN</td>\n",
       "      <td>NaN</td>\n",
       "      <td>NaN</td>\n",
       "      <td>NaN</td>\n",
       "      <td>NaN</td>\n",
       "      <td>NaN</td>\n",
       "      <td>NaN</td>\n",
       "      <td>NaN</td>\n",
       "      <td>NaN</td>\n",
       "      <td>NaN</td>\n",
       "      <td>NaN</td>\n",
       "      <td>NaN</td>\n",
       "      <td>NaN</td>\n",
       "      <td>NaN</td>\n",
       "      <td>NaN</td>\n",
       "      <td>NaN</td>\n",
       "      <td>NaN</td>\n",
       "      <td>NaN</td>\n",
       "      <td>NaN</td>\n",
       "      <td>NaN</td>\n",
       "      <td>NaN</td>\n",
       "      <td>NaN</td>\n",
       "      <td>NaN</td>\n",
       "      <td>NaN</td>\n",
       "      <td>NaN</td>\n",
       "      <td>NaN</td>\n",
       "      <td>NaN</td>\n",
       "      <td>NaN</td>\n",
       "      <td>NaN</td>\n",
       "      <td>NaN</td>\n",
       "      <td>NaN</td>\n",
       "      <td>NaN</td>\n",
       "      <td>NaN</td>\n",
       "      <td>NaN</td>\n",
       "      <td>NaN</td>\n",
       "      <td>NaN</td>\n",
       "      <td>NaN</td>\n",
       "      <td>NaN</td>\n",
       "      <td>NaN</td>\n",
       "      <td>NaN</td>\n",
       "      <td>NaN</td>\n",
       "      <td>NaN</td>\n",
       "      <td>NaN</td>\n",
       "      <td>NaN</td>\n",
       "      <td>NaN</td>\n",
       "      <td>NaN</td>\n",
       "      <td>NaN</td>\n",
       "      <td>NaN</td>\n",
       "      <td>NaN</td>\n",
       "      <td>NaN</td>\n",
       "      <td>NaN</td>\n",
       "      <td>NaN</td>\n",
       "      <td>NaN</td>\n",
       "      <td>NaN</td>\n",
       "      <td>NaN</td>\n",
       "      <td>NaN</td>\n",
       "      <td>NaN</td>\n",
       "    </tr>\n",
       "    <tr>\n",
       "      <th>1</th>\n",
       "      <td>0.036164</td>\n",
       "      <td>0.936381</td>\n",
       "      <td>3.0</td>\n",
       "      <td>2.0</td>\n",
       "      <td>3</td>\n",
       "      <td>BG_02SUB</td>\n",
       "      <td>2</td>\n",
       "      <td>1</td>\n",
       "      <td>0</td>\n",
       "      <td>02</td>\n",
       "      <td>185</td>\n",
       "      <td>950100</td>\n",
       "      <td>3</td>\n",
       "      <td>021859501003</td>\n",
       "      <td>140.170</td>\n",
       "      <td>96.286</td>\n",
       "      <td>236.456</td>\n",
       "      <td>BG 3</td>\n",
       "      <td>POLYGON ((-156.80670 71.28787, -156.80565 71.2...</td>\n",
       "      <td>NaN</td>\n",
       "      <td>NaN</td>\n",
       "      <td>NaN</td>\n",
       "      <td>NaN</td>\n",
       "      <td>NaN</td>\n",
       "      <td>NaN</td>\n",
       "      <td>NaN</td>\n",
       "      <td>NaN</td>\n",
       "      <td>NaN</td>\n",
       "      <td>NaN</td>\n",
       "      <td>NaN</td>\n",
       "      <td>NaN</td>\n",
       "      <td>NaN</td>\n",
       "      <td>NaN</td>\n",
       "      <td>NaN</td>\n",
       "      <td>NaN</td>\n",
       "      <td>NaN</td>\n",
       "      <td>NaN</td>\n",
       "      <td>NaN</td>\n",
       "      <td>NaN</td>\n",
       "      <td>NaN</td>\n",
       "      <td>NaN</td>\n",
       "      <td>NaN</td>\n",
       "      <td>NaN</td>\n",
       "      <td>NaN</td>\n",
       "      <td>NaN</td>\n",
       "      <td>NaN</td>\n",
       "      <td>NaN</td>\n",
       "      <td>NaN</td>\n",
       "      <td>NaN</td>\n",
       "      <td>NaN</td>\n",
       "      <td>NaN</td>\n",
       "      <td>NaN</td>\n",
       "      <td>NaN</td>\n",
       "      <td>NaN</td>\n",
       "      <td>NaN</td>\n",
       "      <td>NaN</td>\n",
       "      <td>NaN</td>\n",
       "      <td>NaN</td>\n",
       "      <td>NaN</td>\n",
       "      <td>NaN</td>\n",
       "      <td>NaN</td>\n",
       "      <td>NaN</td>\n",
       "      <td>NaN</td>\n",
       "      <td>NaN</td>\n",
       "      <td>NaN</td>\n",
       "      <td>NaN</td>\n",
       "      <td>NaN</td>\n",
       "      <td>NaN</td>\n",
       "      <td>NaN</td>\n",
       "      <td>NaN</td>\n",
       "      <td>NaN</td>\n",
       "      <td>NaN</td>\n",
       "      <td>NaN</td>\n",
       "      <td>NaN</td>\n",
       "      <td>NaN</td>\n",
       "      <td>NaN</td>\n",
       "      <td>NaN</td>\n",
       "      <td>NaN</td>\n",
       "      <td>NaN</td>\n",
       "      <td>NaN</td>\n",
       "      <td>NaN</td>\n",
       "      <td>NaN</td>\n",
       "      <td>NaN</td>\n",
       "      <td>NaN</td>\n",
       "      <td>NaN</td>\n",
       "      <td>NaN</td>\n",
       "      <td>NaN</td>\n",
       "      <td>NaN</td>\n",
       "      <td>NaN</td>\n",
       "      <td>NaN</td>\n",
       "      <td>NaN</td>\n",
       "      <td>NaN</td>\n",
       "      <td>NaN</td>\n",
       "      <td>NaN</td>\n",
       "      <td>NaN</td>\n",
       "      <td>NaN</td>\n",
       "      <td>NaN</td>\n",
       "      <td>NaN</td>\n",
       "      <td>NaN</td>\n",
       "      <td>NaN</td>\n",
       "      <td>NaN</td>\n",
       "      <td>NaN</td>\n",
       "      <td>NaN</td>\n",
       "      <td>NaN</td>\n",
       "      <td>NaN</td>\n",
       "      <td>NaN</td>\n",
       "      <td>NaN</td>\n",
       "      <td>NaN</td>\n",
       "      <td>NaN</td>\n",
       "      <td>NaN</td>\n",
       "      <td>NaN</td>\n",
       "      <td>NaN</td>\n",
       "      <td>NaN</td>\n",
       "      <td>NaN</td>\n",
       "      <td>NaN</td>\n",
       "      <td>NaN</td>\n",
       "      <td>NaN</td>\n",
       "      <td>NaN</td>\n",
       "      <td>NaN</td>\n",
       "      <td>NaN</td>\n",
       "      <td>NaN</td>\n",
       "      <td>NaN</td>\n",
       "      <td>NaN</td>\n",
       "      <td>NaN</td>\n",
       "      <td>NaN</td>\n",
       "      <td>NaN</td>\n",
       "      <td>NaN</td>\n",
       "      <td>NaN</td>\n",
       "      <td>NaN</td>\n",
       "    </tr>\n",
       "    <tr>\n",
       "      <th>2</th>\n",
       "      <td>0.000117</td>\n",
       "      <td>0.072402</td>\n",
       "      <td>4.0</td>\n",
       "      <td>3.0</td>\n",
       "      <td>4</td>\n",
       "      <td>BG_02SUB</td>\n",
       "      <td>3</td>\n",
       "      <td>1</td>\n",
       "      <td>0</td>\n",
       "      <td>02</td>\n",
       "      <td>185</td>\n",
       "      <td>950100</td>\n",
       "      <td>2</td>\n",
       "      <td>021859501002</td>\n",
       "      <td>0.458</td>\n",
       "      <td>7.978</td>\n",
       "      <td>8.436</td>\n",
       "      <td>BG 2</td>\n",
       "      <td>POLYGON ((-156.77553 71.29742, -156.78188 71.2...</td>\n",
       "      <td>NaN</td>\n",
       "      <td>NaN</td>\n",
       "      <td>NaN</td>\n",
       "      <td>NaN</td>\n",
       "      <td>NaN</td>\n",
       "      <td>NaN</td>\n",
       "      <td>NaN</td>\n",
       "      <td>NaN</td>\n",
       "      <td>NaN</td>\n",
       "      <td>NaN</td>\n",
       "      <td>NaN</td>\n",
       "      <td>NaN</td>\n",
       "      <td>NaN</td>\n",
       "      <td>NaN</td>\n",
       "      <td>NaN</td>\n",
       "      <td>NaN</td>\n",
       "      <td>NaN</td>\n",
       "      <td>NaN</td>\n",
       "      <td>NaN</td>\n",
       "      <td>NaN</td>\n",
       "      <td>NaN</td>\n",
       "      <td>NaN</td>\n",
       "      <td>NaN</td>\n",
       "      <td>NaN</td>\n",
       "      <td>NaN</td>\n",
       "      <td>NaN</td>\n",
       "      <td>NaN</td>\n",
       "      <td>NaN</td>\n",
       "      <td>NaN</td>\n",
       "      <td>NaN</td>\n",
       "      <td>NaN</td>\n",
       "      <td>NaN</td>\n",
       "      <td>NaN</td>\n",
       "      <td>NaN</td>\n",
       "      <td>NaN</td>\n",
       "      <td>NaN</td>\n",
       "      <td>NaN</td>\n",
       "      <td>NaN</td>\n",
       "      <td>NaN</td>\n",
       "      <td>NaN</td>\n",
       "      <td>NaN</td>\n",
       "      <td>NaN</td>\n",
       "      <td>NaN</td>\n",
       "      <td>NaN</td>\n",
       "      <td>NaN</td>\n",
       "      <td>NaN</td>\n",
       "      <td>NaN</td>\n",
       "      <td>NaN</td>\n",
       "      <td>NaN</td>\n",
       "      <td>NaN</td>\n",
       "      <td>NaN</td>\n",
       "      <td>NaN</td>\n",
       "      <td>NaN</td>\n",
       "      <td>NaN</td>\n",
       "      <td>NaN</td>\n",
       "      <td>NaN</td>\n",
       "      <td>NaN</td>\n",
       "      <td>NaN</td>\n",
       "      <td>NaN</td>\n",
       "      <td>NaN</td>\n",
       "      <td>NaN</td>\n",
       "      <td>NaN</td>\n",
       "      <td>NaN</td>\n",
       "      <td>NaN</td>\n",
       "      <td>NaN</td>\n",
       "      <td>NaN</td>\n",
       "      <td>NaN</td>\n",
       "      <td>NaN</td>\n",
       "      <td>NaN</td>\n",
       "      <td>NaN</td>\n",
       "      <td>NaN</td>\n",
       "      <td>NaN</td>\n",
       "      <td>NaN</td>\n",
       "      <td>NaN</td>\n",
       "      <td>NaN</td>\n",
       "      <td>NaN</td>\n",
       "      <td>NaN</td>\n",
       "      <td>NaN</td>\n",
       "      <td>NaN</td>\n",
       "      <td>NaN</td>\n",
       "      <td>NaN</td>\n",
       "      <td>NaN</td>\n",
       "      <td>NaN</td>\n",
       "      <td>NaN</td>\n",
       "      <td>NaN</td>\n",
       "      <td>NaN</td>\n",
       "      <td>NaN</td>\n",
       "      <td>NaN</td>\n",
       "      <td>NaN</td>\n",
       "      <td>NaN</td>\n",
       "      <td>NaN</td>\n",
       "      <td>NaN</td>\n",
       "      <td>NaN</td>\n",
       "      <td>NaN</td>\n",
       "      <td>NaN</td>\n",
       "      <td>NaN</td>\n",
       "      <td>NaN</td>\n",
       "      <td>NaN</td>\n",
       "      <td>NaN</td>\n",
       "      <td>NaN</td>\n",
       "      <td>NaN</td>\n",
       "      <td>NaN</td>\n",
       "      <td>NaN</td>\n",
       "      <td>NaN</td>\n",
       "      <td>NaN</td>\n",
       "      <td>NaN</td>\n",
       "      <td>NaN</td>\n",
       "      <td>NaN</td>\n",
       "      <td>NaN</td>\n",
       "      <td>NaN</td>\n",
       "    </tr>\n",
       "    <tr>\n",
       "      <th>3</th>\n",
       "      <td>11.554386</td>\n",
       "      <td>28.048671</td>\n",
       "      <td>5.0</td>\n",
       "      <td>4.0</td>\n",
       "      <td>5</td>\n",
       "      <td>BG_02SUB</td>\n",
       "      <td>4</td>\n",
       "      <td>1</td>\n",
       "      <td>0</td>\n",
       "      <td>02</td>\n",
       "      <td>185</td>\n",
       "      <td>950200</td>\n",
       "      <td>2</td>\n",
       "      <td>021859502002</td>\n",
       "      <td>48124.400</td>\n",
       "      <td>4663.000</td>\n",
       "      <td>52787.400</td>\n",
       "      <td>BG 2</td>\n",
       "      <td>POLYGON ((-156.38962 71.27306, -156.35948 71.2...</td>\n",
       "      <td>NaN</td>\n",
       "      <td>NaN</td>\n",
       "      <td>NaN</td>\n",
       "      <td>NaN</td>\n",
       "      <td>NaN</td>\n",
       "      <td>NaN</td>\n",
       "      <td>NaN</td>\n",
       "      <td>NaN</td>\n",
       "      <td>NaN</td>\n",
       "      <td>NaN</td>\n",
       "      <td>NaN</td>\n",
       "      <td>NaN</td>\n",
       "      <td>NaN</td>\n",
       "      <td>NaN</td>\n",
       "      <td>NaN</td>\n",
       "      <td>NaN</td>\n",
       "      <td>NaN</td>\n",
       "      <td>NaN</td>\n",
       "      <td>NaN</td>\n",
       "      <td>NaN</td>\n",
       "      <td>NaN</td>\n",
       "      <td>NaN</td>\n",
       "      <td>NaN</td>\n",
       "      <td>NaN</td>\n",
       "      <td>NaN</td>\n",
       "      <td>NaN</td>\n",
       "      <td>NaN</td>\n",
       "      <td>NaN</td>\n",
       "      <td>NaN</td>\n",
       "      <td>NaN</td>\n",
       "      <td>NaN</td>\n",
       "      <td>NaN</td>\n",
       "      <td>NaN</td>\n",
       "      <td>NaN</td>\n",
       "      <td>NaN</td>\n",
       "      <td>NaN</td>\n",
       "      <td>NaN</td>\n",
       "      <td>NaN</td>\n",
       "      <td>NaN</td>\n",
       "      <td>NaN</td>\n",
       "      <td>NaN</td>\n",
       "      <td>NaN</td>\n",
       "      <td>NaN</td>\n",
       "      <td>NaN</td>\n",
       "      <td>NaN</td>\n",
       "      <td>NaN</td>\n",
       "      <td>NaN</td>\n",
       "      <td>NaN</td>\n",
       "      <td>NaN</td>\n",
       "      <td>NaN</td>\n",
       "      <td>NaN</td>\n",
       "      <td>NaN</td>\n",
       "      <td>NaN</td>\n",
       "      <td>NaN</td>\n",
       "      <td>NaN</td>\n",
       "      <td>NaN</td>\n",
       "      <td>NaN</td>\n",
       "      <td>NaN</td>\n",
       "      <td>NaN</td>\n",
       "      <td>NaN</td>\n",
       "      <td>NaN</td>\n",
       "      <td>NaN</td>\n",
       "      <td>NaN</td>\n",
       "      <td>NaN</td>\n",
       "      <td>NaN</td>\n",
       "      <td>NaN</td>\n",
       "      <td>NaN</td>\n",
       "      <td>NaN</td>\n",
       "      <td>NaN</td>\n",
       "      <td>NaN</td>\n",
       "      <td>NaN</td>\n",
       "      <td>NaN</td>\n",
       "      <td>NaN</td>\n",
       "      <td>NaN</td>\n",
       "      <td>NaN</td>\n",
       "      <td>NaN</td>\n",
       "      <td>NaN</td>\n",
       "      <td>NaN</td>\n",
       "      <td>NaN</td>\n",
       "      <td>NaN</td>\n",
       "      <td>NaN</td>\n",
       "      <td>NaN</td>\n",
       "      <td>NaN</td>\n",
       "      <td>NaN</td>\n",
       "      <td>NaN</td>\n",
       "      <td>NaN</td>\n",
       "      <td>NaN</td>\n",
       "      <td>NaN</td>\n",
       "      <td>NaN</td>\n",
       "      <td>NaN</td>\n",
       "      <td>NaN</td>\n",
       "      <td>NaN</td>\n",
       "      <td>NaN</td>\n",
       "      <td>NaN</td>\n",
       "      <td>NaN</td>\n",
       "      <td>NaN</td>\n",
       "      <td>NaN</td>\n",
       "      <td>NaN</td>\n",
       "      <td>NaN</td>\n",
       "      <td>NaN</td>\n",
       "      <td>NaN</td>\n",
       "      <td>NaN</td>\n",
       "      <td>NaN</td>\n",
       "      <td>NaN</td>\n",
       "      <td>NaN</td>\n",
       "      <td>NaN</td>\n",
       "      <td>NaN</td>\n",
       "      <td>NaN</td>\n",
       "      <td>NaN</td>\n",
       "      <td>NaN</td>\n",
       "    </tr>\n",
       "    <tr>\n",
       "      <th>4</th>\n",
       "      <td>5.685307</td>\n",
       "      <td>18.542956</td>\n",
       "      <td>6.0</td>\n",
       "      <td>5.0</td>\n",
       "      <td>6</td>\n",
       "      <td>BG_02SUB</td>\n",
       "      <td>5</td>\n",
       "      <td>1</td>\n",
       "      <td>0</td>\n",
       "      <td>02</td>\n",
       "      <td>185</td>\n",
       "      <td>950200</td>\n",
       "      <td>1</td>\n",
       "      <td>021859502001</td>\n",
       "      <td>22923.700</td>\n",
       "      <td>2743.200</td>\n",
       "      <td>25666.900</td>\n",
       "      <td>BG 1</td>\n",
       "      <td>POLYGON ((-154.31142 70.82173, -154.27104 70.8...</td>\n",
       "      <td>NaN</td>\n",
       "      <td>NaN</td>\n",
       "      <td>NaN</td>\n",
       "      <td>NaN</td>\n",
       "      <td>NaN</td>\n",
       "      <td>NaN</td>\n",
       "      <td>NaN</td>\n",
       "      <td>NaN</td>\n",
       "      <td>NaN</td>\n",
       "      <td>NaN</td>\n",
       "      <td>NaN</td>\n",
       "      <td>NaN</td>\n",
       "      <td>NaN</td>\n",
       "      <td>NaN</td>\n",
       "      <td>NaN</td>\n",
       "      <td>NaN</td>\n",
       "      <td>NaN</td>\n",
       "      <td>NaN</td>\n",
       "      <td>NaN</td>\n",
       "      <td>NaN</td>\n",
       "      <td>NaN</td>\n",
       "      <td>NaN</td>\n",
       "      <td>NaN</td>\n",
       "      <td>NaN</td>\n",
       "      <td>NaN</td>\n",
       "      <td>NaN</td>\n",
       "      <td>NaN</td>\n",
       "      <td>NaN</td>\n",
       "      <td>NaN</td>\n",
       "      <td>NaN</td>\n",
       "      <td>NaN</td>\n",
       "      <td>NaN</td>\n",
       "      <td>NaN</td>\n",
       "      <td>NaN</td>\n",
       "      <td>NaN</td>\n",
       "      <td>NaN</td>\n",
       "      <td>NaN</td>\n",
       "      <td>NaN</td>\n",
       "      <td>NaN</td>\n",
       "      <td>NaN</td>\n",
       "      <td>NaN</td>\n",
       "      <td>NaN</td>\n",
       "      <td>NaN</td>\n",
       "      <td>NaN</td>\n",
       "      <td>NaN</td>\n",
       "      <td>NaN</td>\n",
       "      <td>NaN</td>\n",
       "      <td>NaN</td>\n",
       "      <td>NaN</td>\n",
       "      <td>NaN</td>\n",
       "      <td>NaN</td>\n",
       "      <td>NaN</td>\n",
       "      <td>NaN</td>\n",
       "      <td>NaN</td>\n",
       "      <td>NaN</td>\n",
       "      <td>NaN</td>\n",
       "      <td>NaN</td>\n",
       "      <td>NaN</td>\n",
       "      <td>NaN</td>\n",
       "      <td>NaN</td>\n",
       "      <td>NaN</td>\n",
       "      <td>NaN</td>\n",
       "      <td>NaN</td>\n",
       "      <td>NaN</td>\n",
       "      <td>NaN</td>\n",
       "      <td>NaN</td>\n",
       "      <td>NaN</td>\n",
       "      <td>NaN</td>\n",
       "      <td>NaN</td>\n",
       "      <td>NaN</td>\n",
       "      <td>NaN</td>\n",
       "      <td>NaN</td>\n",
       "      <td>NaN</td>\n",
       "      <td>NaN</td>\n",
       "      <td>NaN</td>\n",
       "      <td>NaN</td>\n",
       "      <td>NaN</td>\n",
       "      <td>NaN</td>\n",
       "      <td>NaN</td>\n",
       "      <td>NaN</td>\n",
       "      <td>NaN</td>\n",
       "      <td>NaN</td>\n",
       "      <td>NaN</td>\n",
       "      <td>NaN</td>\n",
       "      <td>NaN</td>\n",
       "      <td>NaN</td>\n",
       "      <td>NaN</td>\n",
       "      <td>NaN</td>\n",
       "      <td>NaN</td>\n",
       "      <td>NaN</td>\n",
       "      <td>NaN</td>\n",
       "      <td>NaN</td>\n",
       "      <td>NaN</td>\n",
       "      <td>NaN</td>\n",
       "      <td>NaN</td>\n",
       "      <td>NaN</td>\n",
       "      <td>NaN</td>\n",
       "      <td>NaN</td>\n",
       "      <td>NaN</td>\n",
       "      <td>NaN</td>\n",
       "      <td>NaN</td>\n",
       "      <td>NaN</td>\n",
       "      <td>NaN</td>\n",
       "      <td>NaN</td>\n",
       "      <td>NaN</td>\n",
       "      <td>NaN</td>\n",
       "      <td>NaN</td>\n",
       "      <td>NaN</td>\n",
       "      <td>NaN</td>\n",
       "      <td>NaN</td>\n",
       "    </tr>\n",
       "  </tbody>\n",
       "</table>\n",
       "</div>"
      ],
      "text/plain": [
       "        AREA  PERIMETER  BG02_D90_  BG02_D90_I  POLY_  SUBCLASS  SUBCLASS_  \\\n",
       "0   0.030489   0.947504        2.0         1.0      2  BG_02SUB          1   \n",
       "1   0.036164   0.936381        3.0         2.0      3  BG_02SUB          2   \n",
       "2   0.000117   0.072402        4.0         3.0      4  BG_02SUB          3   \n",
       "3  11.554386  28.048671        5.0         4.0      5  BG_02SUB          4   \n",
       "4   5.685307  18.542956        6.0         5.0      6  BG_02SUB          5   \n",
       "\n",
       "   RINGS_OK  RINGS_NOK  ST   CO   TRACT BG         GEOID   AREALAND   AREAWAT  \\\n",
       "0         1          0  02  185  950100  1  021859501001    110.099   277.052   \n",
       "1         1          0  02  185  950100  3  021859501003    140.170    96.286   \n",
       "2         1          0  02  185  950100  2  021859501002      0.458     7.978   \n",
       "3         1          0  02  185  950200  2  021859502002  48124.400  4663.000   \n",
       "4         1          0  02  185  950200  1  021859502001  22923.700  2743.200   \n",
       "\n",
       "     AREATOT  NAME                                           geometry  \\\n",
       "0    387.151  BG 1  POLYGON ((-156.77553 71.29742, -156.77612 71.2...   \n",
       "1    236.456  BG 3  POLYGON ((-156.80670 71.28787, -156.80565 71.2...   \n",
       "2      8.436  BG 2  POLYGON ((-156.77553 71.29742, -156.78188 71.2...   \n",
       "3  52787.400  BG 2  POLYGON ((-156.38962 71.27306, -156.35948 71.2...   \n",
       "4  25666.900  BG 1  POLYGON ((-154.31142 70.82173, -154.27104 70.8...   \n",
       "\n",
       "   BG01_D90_  BG01_D90_I  BG05_D90_  BG05_D90_I  BG60_D90_  BG60_D90_I  \\\n",
       "0        NaN         NaN        NaN         NaN        NaN         NaN   \n",
       "1        NaN         NaN        NaN         NaN        NaN         NaN   \n",
       "2        NaN         NaN        NaN         NaN        NaN         NaN   \n",
       "3        NaN         NaN        NaN         NaN        NaN         NaN   \n",
       "4        NaN         NaN        NaN         NaN        NaN         NaN   \n",
       "\n",
       "   BG04_D90_  BG04_D90_I  BG06_D90_  BG06_D90_I  BG08_D90_  BG08_D90_I  \\\n",
       "0        NaN         NaN        NaN         NaN        NaN         NaN   \n",
       "1        NaN         NaN        NaN         NaN        NaN         NaN   \n",
       "2        NaN         NaN        NaN         NaN        NaN         NaN   \n",
       "3        NaN         NaN        NaN         NaN        NaN         NaN   \n",
       "4        NaN         NaN        NaN         NaN        NaN         NaN   \n",
       "\n",
       "   BG09_D90_  BG09_D90_I  BG11_D90_  BG11_D90_I  BG10_D90_  BG10_D90_I  \\\n",
       "0        NaN         NaN        NaN         NaN        NaN         NaN   \n",
       "1        NaN         NaN        NaN         NaN        NaN         NaN   \n",
       "2        NaN         NaN        NaN         NaN        NaN         NaN   \n",
       "3        NaN         NaN        NaN         NaN        NaN         NaN   \n",
       "4        NaN         NaN        NaN         NaN        NaN         NaN   \n",
       "\n",
       "   BG12_D90_  BG12_D90_I  BG13_D90_  BG13_D90_I  BG66_D90_  BG66_D90_I  \\\n",
       "0        NaN         NaN        NaN         NaN        NaN         NaN   \n",
       "1        NaN         NaN        NaN         NaN        NaN         NaN   \n",
       "2        NaN         NaN        NaN         NaN        NaN         NaN   \n",
       "3        NaN         NaN        NaN         NaN        NaN         NaN   \n",
       "4        NaN         NaN        NaN         NaN        NaN         NaN   \n",
       "\n",
       "   BG15_D90_  BG15_D90_I  BG19_D90_  BG19_D90_I  BG16_D90_  BG16_D90_I  \\\n",
       "0        NaN         NaN        NaN         NaN        NaN         NaN   \n",
       "1        NaN         NaN        NaN         NaN        NaN         NaN   \n",
       "2        NaN         NaN        NaN         NaN        NaN         NaN   \n",
       "3        NaN         NaN        NaN         NaN        NaN         NaN   \n",
       "4        NaN         NaN        NaN         NaN        NaN         NaN   \n",
       "\n",
       "   BG17_D90_  BG17_D90_I  BG18_D90_  BG18_D90_I  BG20_D90_  BG20_D90_I  \\\n",
       "0        NaN         NaN        NaN         NaN        NaN         NaN   \n",
       "1        NaN         NaN        NaN         NaN        NaN         NaN   \n",
       "2        NaN         NaN        NaN         NaN        NaN         NaN   \n",
       "3        NaN         NaN        NaN         NaN        NaN         NaN   \n",
       "4        NaN         NaN        NaN         NaN        NaN         NaN   \n",
       "\n",
       "   BG21_D90_  BG21_D90_I  BG22_D90_  BG22_D90_I  BG25_D90_  BG25_D90_I  \\\n",
       "0        NaN         NaN        NaN         NaN        NaN         NaN   \n",
       "1        NaN         NaN        NaN         NaN        NaN         NaN   \n",
       "2        NaN         NaN        NaN         NaN        NaN         NaN   \n",
       "3        NaN         NaN        NaN         NaN        NaN         NaN   \n",
       "4        NaN         NaN        NaN         NaN        NaN         NaN   \n",
       "\n",
       "   BG24_D90_  BG24_D90_I  BG23_D90_  BG23_D90_I  BG26_D90_  BG26_D90_I  \\\n",
       "0        NaN         NaN        NaN         NaN        NaN         NaN   \n",
       "1        NaN         NaN        NaN         NaN        NaN         NaN   \n",
       "2        NaN         NaN        NaN         NaN        NaN         NaN   \n",
       "3        NaN         NaN        NaN         NaN        NaN         NaN   \n",
       "4        NaN         NaN        NaN         NaN        NaN         NaN   \n",
       "\n",
       "   BG27_D90_  BG27_D90_I  BG29_D90_  BG29_D90_I  BG69_D90_  BG69_D90_I  \\\n",
       "0        NaN         NaN        NaN         NaN        NaN         NaN   \n",
       "1        NaN         NaN        NaN         NaN        NaN         NaN   \n",
       "2        NaN         NaN        NaN         NaN        NaN         NaN   \n",
       "3        NaN         NaN        NaN         NaN        NaN         NaN   \n",
       "4        NaN         NaN        NaN         NaN        NaN         NaN   \n",
       "\n",
       "   BG28_D90_  BG28_D90_I  BG30_D90_  BG30_D90_I  BG37_D90_  BG37_D90_I  \\\n",
       "0        NaN         NaN        NaN         NaN        NaN         NaN   \n",
       "1        NaN         NaN        NaN         NaN        NaN         NaN   \n",
       "2        NaN         NaN        NaN         NaN        NaN         NaN   \n",
       "3        NaN         NaN        NaN         NaN        NaN         NaN   \n",
       "4        NaN         NaN        NaN         NaN        NaN         NaN   \n",
       "\n",
       "   BG38_D90_  BG38_D90_I  BG31_D90_  BG31_D90_I  BG33_D90_  BG33_D90_I  \\\n",
       "0        NaN         NaN        NaN         NaN        NaN         NaN   \n",
       "1        NaN         NaN        NaN         NaN        NaN         NaN   \n",
       "2        NaN         NaN        NaN         NaN        NaN         NaN   \n",
       "3        NaN         NaN        NaN         NaN        NaN         NaN   \n",
       "4        NaN         NaN        NaN         NaN        NaN         NaN   \n",
       "\n",
       "   BG34_D90_  BG34_D90_I  BG35_D90_  BG35_D90_I  BG32_D90_  BG32_D90_I  \\\n",
       "0        NaN         NaN        NaN         NaN        NaN         NaN   \n",
       "1        NaN         NaN        NaN         NaN        NaN         NaN   \n",
       "2        NaN         NaN        NaN         NaN        NaN         NaN   \n",
       "3        NaN         NaN        NaN         NaN        NaN         NaN   \n",
       "4        NaN         NaN        NaN         NaN        NaN         NaN   \n",
       "\n",
       "   BG36_D90_  BG36_D90_I  BG39_D90_  BG39_D90_I  BG40_D90_  BG40_D90_I  \\\n",
       "0        NaN         NaN        NaN         NaN        NaN         NaN   \n",
       "1        NaN         NaN        NaN         NaN        NaN         NaN   \n",
       "2        NaN         NaN        NaN         NaN        NaN         NaN   \n",
       "3        NaN         NaN        NaN         NaN        NaN         NaN   \n",
       "4        NaN         NaN        NaN         NaN        NaN         NaN   \n",
       "\n",
       "   BG41_D90_  BG41_D90_I  BG42_D90_  BG42_D90_I  BG72_D90_  BG72_D90_I  \\\n",
       "0        NaN         NaN        NaN         NaN        NaN         NaN   \n",
       "1        NaN         NaN        NaN         NaN        NaN         NaN   \n",
       "2        NaN         NaN        NaN         NaN        NaN         NaN   \n",
       "3        NaN         NaN        NaN         NaN        NaN         NaN   \n",
       "4        NaN         NaN        NaN         NaN        NaN         NaN   \n",
       "\n",
       "   BG44_D90_  BG44_D90_I  BG45_D90_  BG45_D90_I  BG46_D90_  BG46_D90_I  \\\n",
       "0        NaN         NaN        NaN         NaN        NaN         NaN   \n",
       "1        NaN         NaN        NaN         NaN        NaN         NaN   \n",
       "2        NaN         NaN        NaN         NaN        NaN         NaN   \n",
       "3        NaN         NaN        NaN         NaN        NaN         NaN   \n",
       "4        NaN         NaN        NaN         NaN        NaN         NaN   \n",
       "\n",
       "   BG47_D90_  BG47_D90_I  BG48_D90_  BG48_D90_I  BG49_D90_  BG49_D90_I  \\\n",
       "0        NaN         NaN        NaN         NaN        NaN         NaN   \n",
       "1        NaN         NaN        NaN         NaN        NaN         NaN   \n",
       "2        NaN         NaN        NaN         NaN        NaN         NaN   \n",
       "3        NaN         NaN        NaN         NaN        NaN         NaN   \n",
       "4        NaN         NaN        NaN         NaN        NaN         NaN   \n",
       "\n",
       "   BG51_D90_  BG51_D90_I  BG78_D90_  BG78_D90_I  BG50_D90_  BG50_D90_I  \\\n",
       "0        NaN         NaN        NaN         NaN        NaN         NaN   \n",
       "1        NaN         NaN        NaN         NaN        NaN         NaN   \n",
       "2        NaN         NaN        NaN         NaN        NaN         NaN   \n",
       "3        NaN         NaN        NaN         NaN        NaN         NaN   \n",
       "4        NaN         NaN        NaN         NaN        NaN         NaN   \n",
       "\n",
       "   BG53_D90_  BG53_D90_I  BG55_D90_  BG55_D90_I  BG54_D90_  BG54_D90_I  \\\n",
       "0        NaN         NaN        NaN         NaN        NaN         NaN   \n",
       "1        NaN         NaN        NaN         NaN        NaN         NaN   \n",
       "2        NaN         NaN        NaN         NaN        NaN         NaN   \n",
       "3        NaN         NaN        NaN         NaN        NaN         NaN   \n",
       "4        NaN         NaN        NaN         NaN        NaN         NaN   \n",
       "\n",
       "   BG56_D90_  BG56_D90_I  \n",
       "0        NaN         NaN  \n",
       "1        NaN         NaN  \n",
       "2        NaN         NaN  \n",
       "3        NaN         NaN  \n",
       "4        NaN         NaN  "
      ]
     },
     "execution_count": 148,
     "metadata": {},
     "output_type": "execute_result"
    }
   ],
   "source": [
    "temp.head()"
   ]
  },
  {
   "cell_type": "code",
   "execution_count": 149,
   "id": "486eeda9-f9a8-45ee-9f58-a423d9de41c0",
   "metadata": {
    "tags": []
   },
   "outputs": [],
   "source": [
    "temp = temp[['GEOID', 'geometry']]\n",
    "temp['year'] = 1990\n",
    "\n",
    "temp = temp.rename(columns={\"GEOID\": \"GEOID\"})"
   ]
  },
  {
   "cell_type": "code",
   "execution_count": 150,
   "id": "ec3e4e6b-ea80-4fc8-b3a7-f446ee3b543f",
   "metadata": {
    "tags": []
   },
   "outputs": [],
   "source": [
    "list_censusBG_2 = temp['GEOID'].dropna().drop_duplicates().astype(str).tolist()\n",
    "\n",
    "# add preceding 0 to make 4-digit zip codes into 5-digit\n",
    "list_censusBG_2 = [censusBG.zfill(12) for censusBG in list_censusBG_2]"
   ]
  },
  {
   "cell_type": "code",
   "execution_count": 151,
   "id": "0cc490c4-23a0-4a80-b240-73a7e39a1bc0",
   "metadata": {
    "tags": []
   },
   "outputs": [
    {
     "data": {
      "text/plain": [
       "228588"
      ]
     },
     "execution_count": 151,
     "metadata": {},
     "output_type": "execute_result"
    }
   ],
   "source": [
    "len(list_censusBG_2)"
   ]
  },
  {
   "cell_type": "code",
   "execution_count": 152,
   "id": "ec8de85b-d37c-4bfe-914b-c57613bd2b49",
   "metadata": {
    "tags": []
   },
   "outputs": [],
   "source": [
    "list_censusBG_3 = list_censusBG_3 + list_censusBG_2 "
   ]
  },
  {
   "cell_type": "code",
   "execution_count": 153,
   "id": "61f8cd12-fc8a-4bea-a494-92ad9c0fcd91",
   "metadata": {
    "tags": []
   },
   "outputs": [
    {
     "data": {
      "text/plain": [
       "577465"
      ]
     },
     "execution_count": 153,
     "metadata": {},
     "output_type": "execute_result"
    }
   ],
   "source": [
    "len(list_censusBG_3)"
   ]
  },
  {
   "cell_type": "code",
   "execution_count": 154,
   "id": "18c35561-9613-485f-bb9f-37160fd94052",
   "metadata": {
    "tags": []
   },
   "outputs": [],
   "source": [
    "list_censusBG_3 = list(set(list_censusBG_3))"
   ]
  },
  {
   "cell_type": "code",
   "execution_count": 155,
   "id": "e2d973c9-4d22-44ae-a445-0b74b57f663e",
   "metadata": {
    "tags": []
   },
   "outputs": [
    {
     "data": {
      "text/plain": [
       "410788"
      ]
     },
     "execution_count": 155,
     "metadata": {},
     "output_type": "execute_result"
    }
   ],
   "source": [
    "len(list_censusBG_3)"
   ]
  },
  {
   "cell_type": "code",
   "execution_count": 156,
   "id": "2f305fd0-870a-44f7-8296-3ebde8208ce9",
   "metadata": {
    "tags": []
   },
   "outputs": [],
   "source": [
    "#CensusBG list for NC\n",
    "\n",
    "list_censusBG = df['censusBlockGroupFips'].dropna().drop_duplicates().tolist()\n",
    "\n",
    "list_censusBG = [str(int(float(i))) for i in list_censusBG]\n",
    "\n",
    "# add preceding 0 to make 4-digit zip codes into 5-digit\n",
    "list_censusBG = [censusBG.zfill(12) for censusBG in list_censusBG]"
   ]
  },
  {
   "cell_type": "code",
   "execution_count": 157,
   "id": "18904e74-84d1-4770-b9fc-6bd1ec3a59e4",
   "metadata": {
    "tags": []
   },
   "outputs": [
    {
     "name": "stdout",
     "output_type": "stream",
     "text": [
      "Number of common BG: 106781\n"
     ]
    }
   ],
   "source": [
    "# Convert both lists to sets\n",
    "set_bg = set(list_censusBG)\n",
    "set_bg_2 = set(list_censusBG_3)\n",
    "\n",
    "# Find the intersection of the two sets\n",
    "common_bg = set_bg.intersection(set_bg_2)\n",
    "\n",
    "# Print the number of common zip codes\n",
    "print(\"Number of common BG:\", len(common_bg))"
   ]
  },
  {
   "cell_type": "code",
   "execution_count": 158,
   "id": "dd1623a3-c84a-40f7-a0ac-a32e53b5892f",
   "metadata": {
    "tags": []
   },
   "outputs": [
    {
     "data": {
      "text/plain": [
       "0.999953177382803"
      ]
     },
     "execution_count": 158,
     "metadata": {},
     "output_type": "execute_result"
    }
   ],
   "source": [
    "len(common_bg)/len(list_censusBG)"
   ]
  },
  {
   "cell_type": "code",
   "execution_count": 159,
   "id": "fc6bb294-07e5-4ab9-9c7c-a4f33d71d166",
   "metadata": {
    "tags": []
   },
   "outputs": [
    {
     "data": {
      "text/plain": [
       "106781"
      ]
     },
     "execution_count": 159,
     "metadata": {},
     "output_type": "execute_result"
    }
   ],
   "source": [
    "len(common_bg)"
   ]
  },
  {
   "cell_type": "code",
   "execution_count": 65,
   "id": "6b1c65e2-640a-4973-a805-1b9909217d33",
   "metadata": {
    "tags": []
   },
   "outputs": [],
   "source": [
    "BG_list_df2021 = temp[temp['GEOID'].isin(common_bg)]"
   ]
  },
  {
   "cell_type": "code",
   "execution_count": 66,
   "id": "1d972fcc-4996-45cf-93d4-9f4d654b6b99",
   "metadata": {
    "tags": []
   },
   "outputs": [
    {
     "data": {
      "text/html": [
       "<div>\n",
       "<style scoped>\n",
       "    .dataframe tbody tr th:only-of-type {\n",
       "        vertical-align: middle;\n",
       "    }\n",
       "\n",
       "    .dataframe tbody tr th {\n",
       "        vertical-align: top;\n",
       "    }\n",
       "\n",
       "    .dataframe thead th {\n",
       "        text-align: right;\n",
       "    }\n",
       "</style>\n",
       "<table border=\"1\" class=\"dataframe\">\n",
       "  <thead>\n",
       "    <tr style=\"text-align: right;\">\n",
       "      <th></th>\n",
       "      <th>GEOID</th>\n",
       "      <th>geometry</th>\n",
       "      <th>year</th>\n",
       "    </tr>\n",
       "  </thead>\n",
       "  <tbody>\n",
       "    <tr>\n",
       "      <th>9</th>\n",
       "      <td>020900009002</td>\n",
       "      <td>POLYGON ((-147.96856 64.77841, -147.96852 64.7...</td>\n",
       "      <td>2021</td>\n",
       "    </tr>\n",
       "    <tr>\n",
       "      <th>12</th>\n",
       "      <td>021300002002</td>\n",
       "      <td>POLYGON ((-131.70187 55.38841, -131.70029 55.3...</td>\n",
       "      <td>2021</td>\n",
       "    </tr>\n",
       "    <tr>\n",
       "      <th>16</th>\n",
       "      <td>020200021003</td>\n",
       "      <td>POLYGON ((-149.92843 61.18308, -149.92817 61.1...</td>\n",
       "      <td>2021</td>\n",
       "    </tr>\n",
       "    <tr>\n",
       "      <th>21</th>\n",
       "      <td>020200017022</td>\n",
       "      <td>POLYGON ((-149.76341 61.19541, -149.76341 61.1...</td>\n",
       "      <td>2021</td>\n",
       "    </tr>\n",
       "    <tr>\n",
       "      <th>44</th>\n",
       "      <td>021300003003</td>\n",
       "      <td>POLYGON ((-131.64374 55.33651, -131.64326 55.3...</td>\n",
       "      <td>2021</td>\n",
       "    </tr>\n",
       "  </tbody>\n",
       "</table>\n",
       "</div>"
      ],
      "text/plain": [
       "           GEOID                                           geometry  year\n",
       "9   020900009002  POLYGON ((-147.96856 64.77841, -147.96852 64.7...  2021\n",
       "12  021300002002  POLYGON ((-131.70187 55.38841, -131.70029 55.3...  2021\n",
       "16  020200021003  POLYGON ((-149.92843 61.18308, -149.92817 61.1...  2021\n",
       "21  020200017022  POLYGON ((-149.76341 61.19541, -149.76341 61.1...  2021\n",
       "44  021300003003  POLYGON ((-131.64374 55.33651, -131.64326 55.3...  2021"
      ]
     },
     "execution_count": 66,
     "metadata": {},
     "output_type": "execute_result"
    }
   ],
   "source": [
    "BG_list_df2021.head()"
   ]
  },
  {
   "cell_type": "code",
   "execution_count": 80,
   "id": "0195448d-3421-4f7c-97b5-1dd29ee65aa1",
   "metadata": {
    "tags": []
   },
   "outputs": [],
   "source": [
    "BG_list_df2012 = temp[temp['GEOID'].isin(common_bg)]"
   ]
  },
  {
   "cell_type": "code",
   "execution_count": 81,
   "id": "df99284b-822f-4e29-b1c0-2856d1187cd8",
   "metadata": {
    "tags": []
   },
   "outputs": [
    {
     "data": {
      "text/html": [
       "<div>\n",
       "<style scoped>\n",
       "    .dataframe tbody tr th:only-of-type {\n",
       "        vertical-align: middle;\n",
       "    }\n",
       "\n",
       "    .dataframe tbody tr th {\n",
       "        vertical-align: top;\n",
       "    }\n",
       "\n",
       "    .dataframe thead th {\n",
       "        text-align: right;\n",
       "    }\n",
       "</style>\n",
       "<table border=\"1\" class=\"dataframe\">\n",
       "  <thead>\n",
       "    <tr style=\"text-align: right;\">\n",
       "      <th></th>\n",
       "      <th>GEOID</th>\n",
       "      <th>geometry</th>\n",
       "      <th>year</th>\n",
       "    </tr>\n",
       "  </thead>\n",
       "  <tbody>\n",
       "    <tr>\n",
       "      <th>3</th>\n",
       "      <td>021850002002</td>\n",
       "      <td>POLYGON ((-159.27452 69.26329, -159.27510 69.2...</td>\n",
       "      <td>2012</td>\n",
       "    </tr>\n",
       "    <tr>\n",
       "      <th>8</th>\n",
       "      <td>021800002002</td>\n",
       "      <td>POLYGON ((-166.21494 64.43020, -166.27196 64.4...</td>\n",
       "      <td>2012</td>\n",
       "    </tr>\n",
       "    <tr>\n",
       "      <th>9</th>\n",
       "      <td>021800002003</td>\n",
       "      <td>POLYGON ((-165.40501 64.49672, -165.40866 64.4...</td>\n",
       "      <td>2012</td>\n",
       "    </tr>\n",
       "    <tr>\n",
       "      <th>11</th>\n",
       "      <td>021800001001</td>\n",
       "      <td>MULTIPOLYGON (((-168.97190 65.68877, -168.9717...</td>\n",
       "      <td>2012</td>\n",
       "    </tr>\n",
       "    <tr>\n",
       "      <th>17</th>\n",
       "      <td>021800002004</td>\n",
       "      <td>POLYGON ((-165.38872 64.49445, -165.39153 64.4...</td>\n",
       "      <td>2012</td>\n",
       "    </tr>\n",
       "  </tbody>\n",
       "</table>\n",
       "</div>"
      ],
      "text/plain": [
       "           GEOID                                           geometry  year\n",
       "3   021850002002  POLYGON ((-159.27452 69.26329, -159.27510 69.2...  2012\n",
       "8   021800002002  POLYGON ((-166.21494 64.43020, -166.27196 64.4...  2012\n",
       "9   021800002003  POLYGON ((-165.40501 64.49672, -165.40866 64.4...  2012\n",
       "11  021800001001  MULTIPOLYGON (((-168.97190 65.68877, -168.9717...  2012\n",
       "17  021800002004  POLYGON ((-165.38872 64.49445, -165.39153 64.4...  2012"
      ]
     },
     "execution_count": 81,
     "metadata": {},
     "output_type": "execute_result"
    }
   ],
   "source": [
    "BG_list_df2012.head()"
   ]
  },
  {
   "cell_type": "code",
   "execution_count": 130,
   "id": "63d372ff-dc65-4e67-8790-960728da6c25",
   "metadata": {
    "tags": []
   },
   "outputs": [],
   "source": [
    "BG_list_df2010 = temp[temp['GEOID'].isin(common_bg)]"
   ]
  },
  {
   "cell_type": "code",
   "execution_count": 131,
   "id": "cc9ad7d7-8857-4081-b7be-51e7267bdb13",
   "metadata": {
    "tags": []
   },
   "outputs": [
    {
     "data": {
      "text/html": [
       "<div>\n",
       "<style scoped>\n",
       "    .dataframe tbody tr th:only-of-type {\n",
       "        vertical-align: middle;\n",
       "    }\n",
       "\n",
       "    .dataframe tbody tr th {\n",
       "        vertical-align: top;\n",
       "    }\n",
       "\n",
       "    .dataframe thead th {\n",
       "        text-align: right;\n",
       "    }\n",
       "</style>\n",
       "<table border=\"1\" class=\"dataframe\">\n",
       "  <thead>\n",
       "    <tr style=\"text-align: right;\">\n",
       "      <th></th>\n",
       "      <th>GEOID</th>\n",
       "      <th>geometry</th>\n",
       "      <th>year</th>\n",
       "    </tr>\n",
       "  </thead>\n",
       "  <tbody>\n",
       "    <tr>\n",
       "      <th>9</th>\n",
       "      <td>022700001001</td>\n",
       "      <td>POLYGON ((-162.54863 62.63832, -162.54863 62.6...</td>\n",
       "      <td>2010</td>\n",
       "    </tr>\n",
       "    <tr>\n",
       "      <th>14</th>\n",
       "      <td>021850002002</td>\n",
       "      <td>POLYGON ((-156.91484 69.63572, -156.91575 69.6...</td>\n",
       "      <td>2010</td>\n",
       "    </tr>\n",
       "    <tr>\n",
       "      <th>28</th>\n",
       "      <td>021300002002</td>\n",
       "      <td>POLYGON ((-131.68335 55.35728, -131.68358 55.3...</td>\n",
       "      <td>2010</td>\n",
       "    </tr>\n",
       "    <tr>\n",
       "      <th>36</th>\n",
       "      <td>021300003003</td>\n",
       "      <td>POLYGON ((-131.63674 55.34341, -131.63663 55.3...</td>\n",
       "      <td>2010</td>\n",
       "    </tr>\n",
       "    <tr>\n",
       "      <th>59</th>\n",
       "      <td>021880002004</td>\n",
       "      <td>POLYGON ((-162.50725 66.69428, -162.58721 66.7...</td>\n",
       "      <td>2010</td>\n",
       "    </tr>\n",
       "  </tbody>\n",
       "</table>\n",
       "</div>"
      ],
      "text/plain": [
       "           GEOID                                           geometry  year\n",
       "9   022700001001  POLYGON ((-162.54863 62.63832, -162.54863 62.6...  2010\n",
       "14  021850002002  POLYGON ((-156.91484 69.63572, -156.91575 69.6...  2010\n",
       "28  021300002002  POLYGON ((-131.68335 55.35728, -131.68358 55.3...  2010\n",
       "36  021300003003  POLYGON ((-131.63674 55.34341, -131.63663 55.3...  2010\n",
       "59  021880002004  POLYGON ((-162.50725 66.69428, -162.58721 66.7...  2010"
      ]
     },
     "execution_count": 131,
     "metadata": {},
     "output_type": "execute_result"
    }
   ],
   "source": [
    "BG_list_df2010.head()"
   ]
  },
  {
   "cell_type": "code",
   "execution_count": 145,
   "id": "72c2dccf-0f0b-4649-b285-17a909a4629e",
   "metadata": {
    "tags": []
   },
   "outputs": [],
   "source": [
    "BG_list_df2000 = temp[temp['GEOID'].isin(common_bg)]"
   ]
  },
  {
   "cell_type": "code",
   "execution_count": 146,
   "id": "09aded2f-c175-4fe8-9897-acd11b84667c",
   "metadata": {
    "tags": []
   },
   "outputs": [
    {
     "data": {
      "text/html": [
       "<div>\n",
       "<style scoped>\n",
       "    .dataframe tbody tr th:only-of-type {\n",
       "        vertical-align: middle;\n",
       "    }\n",
       "\n",
       "    .dataframe tbody tr th {\n",
       "        vertical-align: top;\n",
       "    }\n",
       "\n",
       "    .dataframe thead th {\n",
       "        text-align: right;\n",
       "    }\n",
       "</style>\n",
       "<table border=\"1\" class=\"dataframe\">\n",
       "  <thead>\n",
       "    <tr style=\"text-align: right;\">\n",
       "      <th></th>\n",
       "      <th>GEOID</th>\n",
       "      <th>geometry</th>\n",
       "      <th>year</th>\n",
       "    </tr>\n",
       "  </thead>\n",
       "  <tbody>\n",
       "    <tr>\n",
       "      <th>18</th>\n",
       "      <td>022700001001</td>\n",
       "      <td>POLYGON ((-162.54863 62.63832, -162.54863 62.6...</td>\n",
       "      <td>2000</td>\n",
       "    </tr>\n",
       "    <tr>\n",
       "      <th>23</th>\n",
       "      <td>021850002002</td>\n",
       "      <td>POLYGON ((-156.91484 69.63572, -156.91575 69.6...</td>\n",
       "      <td>2000</td>\n",
       "    </tr>\n",
       "    <tr>\n",
       "      <th>36</th>\n",
       "      <td>021300003003</td>\n",
       "      <td>POLYGON ((-131.63674 55.34341, -131.63663 55.3...</td>\n",
       "      <td>2000</td>\n",
       "    </tr>\n",
       "    <tr>\n",
       "      <th>37</th>\n",
       "      <td>021300002002</td>\n",
       "      <td>POLYGON ((-131.68489 55.35622, -131.68469 55.3...</td>\n",
       "      <td>2000</td>\n",
       "    </tr>\n",
       "    <tr>\n",
       "      <th>64</th>\n",
       "      <td>021880002004</td>\n",
       "      <td>POLYGON ((-162.50725 66.69428, -162.58721 66.7...</td>\n",
       "      <td>2000</td>\n",
       "    </tr>\n",
       "  </tbody>\n",
       "</table>\n",
       "</div>"
      ],
      "text/plain": [
       "           GEOID                                           geometry  year\n",
       "18  022700001001  POLYGON ((-162.54863 62.63832, -162.54863 62.6...  2000\n",
       "23  021850002002  POLYGON ((-156.91484 69.63572, -156.91575 69.6...  2000\n",
       "36  021300003003  POLYGON ((-131.63674 55.34341, -131.63663 55.3...  2000\n",
       "37  021300002002  POLYGON ((-131.68489 55.35622, -131.68469 55.3...  2000\n",
       "64  021880002004  POLYGON ((-162.50725 66.69428, -162.58721 66.7...  2000"
      ]
     },
     "execution_count": 146,
     "metadata": {},
     "output_type": "execute_result"
    }
   ],
   "source": [
    "BG_list_df2000.head()"
   ]
  },
  {
   "cell_type": "code",
   "execution_count": 160,
   "id": "82d718d8-7906-4a6c-9380-dd471165c07e",
   "metadata": {
    "tags": []
   },
   "outputs": [],
   "source": [
    "BG_list_df1990 = temp[temp['GEOID'].isin(common_bg)]"
   ]
  },
  {
   "cell_type": "code",
   "execution_count": 161,
   "id": "7badd5b1-9964-48bc-adaa-bd0ddcd3b486",
   "metadata": {
    "tags": []
   },
   "outputs": [
    {
     "data": {
      "text/html": [
       "<div>\n",
       "<style scoped>\n",
       "    .dataframe tbody tr th:only-of-type {\n",
       "        vertical-align: middle;\n",
       "    }\n",
       "\n",
       "    .dataframe tbody tr th {\n",
       "        vertical-align: top;\n",
       "    }\n",
       "\n",
       "    .dataframe thead th {\n",
       "        text-align: right;\n",
       "    }\n",
       "</style>\n",
       "<table border=\"1\" class=\"dataframe\">\n",
       "  <thead>\n",
       "    <tr style=\"text-align: right;\">\n",
       "      <th></th>\n",
       "      <th>GEOID</th>\n",
       "      <th>geometry</th>\n",
       "      <th>year</th>\n",
       "    </tr>\n",
       "  </thead>\n",
       "  <tbody>\n",
       "    <tr>\n",
       "      <th>86</th>\n",
       "      <td>020900019001</td>\n",
       "      <td>POLYGON ((-145.94246 65.20531, -145.89345 65.2...</td>\n",
       "      <td>1990</td>\n",
       "    </tr>\n",
       "    <tr>\n",
       "      <th>89</th>\n",
       "      <td>020900017002</td>\n",
       "      <td>POLYGON ((-144.05807 64.68399, -144.04901 64.6...</td>\n",
       "      <td>1990</td>\n",
       "    </tr>\n",
       "    <tr>\n",
       "      <th>91</th>\n",
       "      <td>020900019002</td>\n",
       "      <td>POLYGON ((-146.96365 65.05630, -146.96227 65.0...</td>\n",
       "      <td>1990</td>\n",
       "    </tr>\n",
       "    <tr>\n",
       "      <th>96</th>\n",
       "      <td>020900019003</td>\n",
       "      <td>POLYGON ((-147.54175 64.97759, -147.52670 64.9...</td>\n",
       "      <td>1990</td>\n",
       "    </tr>\n",
       "    <tr>\n",
       "      <th>98</th>\n",
       "      <td>020900012001</td>\n",
       "      <td>POLYGON ((-147.63380 64.94161, -147.63335 64.9...</td>\n",
       "      <td>1990</td>\n",
       "    </tr>\n",
       "  </tbody>\n",
       "</table>\n",
       "</div>"
      ],
      "text/plain": [
       "           GEOID                                           geometry  year\n",
       "86  020900019001  POLYGON ((-145.94246 65.20531, -145.89345 65.2...  1990\n",
       "89  020900017002  POLYGON ((-144.05807 64.68399, -144.04901 64.6...  1990\n",
       "91  020900019002  POLYGON ((-146.96365 65.05630, -146.96227 65.0...  1990\n",
       "96  020900019003  POLYGON ((-147.54175 64.97759, -147.52670 64.9...  1990\n",
       "98  020900012001  POLYGON ((-147.63380 64.94161, -147.63335 64.9...  1990"
      ]
     },
     "execution_count": 161,
     "metadata": {},
     "output_type": "execute_result"
    }
   ],
   "source": [
    "BG_list_df1990.head()"
   ]
  },
  {
   "cell_type": "code",
   "execution_count": 162,
   "id": "3a665990-ce8a-4dde-b75b-9c554f636c8a",
   "metadata": {
    "tags": []
   },
   "outputs": [
    {
     "name": "stderr",
     "output_type": "stream",
     "text": [
      "C:\\Users\\Asus\\anaconda3\\lib\\site-packages\\geopandas\\array.py:1486: UserWarning: CRS not set for some of the concatenation inputs. Setting output's CRS as NAD83 (the single non-null crs provided).\n",
      "  warnings.warn(\n"
     ]
    }
   ],
   "source": [
    "BG_df = pd.concat([BG_list_df2021, BG_list_df2012, BG_list_df2010, BG_list_df2000, BG_list_df1990], ignore_index=True)"
   ]
  },
  {
   "cell_type": "code",
   "execution_count": 164,
   "id": "38d70c00-a11a-4de2-b807-e8be7d1f6426",
   "metadata": {
    "tags": []
   },
   "outputs": [],
   "source": [
    "BG_df = BG_df.drop_duplicates(subset=['GEOID', 'geometry'])"
   ]
  },
  {
   "cell_type": "code",
   "execution_count": 165,
   "id": "40d37c4e-1248-42f7-9726-15762e5a19c2",
   "metadata": {
    "tags": []
   },
   "outputs": [
    {
     "data": {
      "text/plain": [
       "386324"
      ]
     },
     "execution_count": 165,
     "metadata": {},
     "output_type": "execute_result"
    }
   ],
   "source": [
    "BG_df.shape[0]"
   ]
  },
  {
   "cell_type": "code",
   "execution_count": 168,
   "id": "ab25df05-b742-4802-b655-024ee92772eb",
   "metadata": {
    "tags": []
   },
   "outputs": [
    {
     "data": {
      "text/html": [
       "<div>\n",
       "<style scoped>\n",
       "    .dataframe tbody tr th:only-of-type {\n",
       "        vertical-align: middle;\n",
       "    }\n",
       "\n",
       "    .dataframe tbody tr th {\n",
       "        vertical-align: top;\n",
       "    }\n",
       "\n",
       "    .dataframe thead th {\n",
       "        text-align: right;\n",
       "    }\n",
       "</style>\n",
       "<table border=\"1\" class=\"dataframe\">\n",
       "  <thead>\n",
       "    <tr style=\"text-align: right;\">\n",
       "      <th></th>\n",
       "      <th>GEOID</th>\n",
       "      <th>geometry</th>\n",
       "      <th>year</th>\n",
       "    </tr>\n",
       "  </thead>\n",
       "  <tbody>\n",
       "    <tr>\n",
       "      <th>78435</th>\n",
       "      <td>780309604001</td>\n",
       "      <td>MULTIPOLYGON (((-64.90133 18.38485, -64.90108 ...</td>\n",
       "      <td>2021</td>\n",
       "    </tr>\n",
       "    <tr>\n",
       "      <th>183374</th>\n",
       "      <td>780309604001</td>\n",
       "      <td>MULTIPOLYGON (((-64.90133 18.38485, -64.90108 ...</td>\n",
       "      <td>2012</td>\n",
       "    </tr>\n",
       "    <tr>\n",
       "      <th>289336</th>\n",
       "      <td>780309604001</td>\n",
       "      <td>MULTIPOLYGON (((-64.90968 18.41509, -64.90960 ...</td>\n",
       "      <td>2010</td>\n",
       "    </tr>\n",
       "    <tr>\n",
       "      <th>363747</th>\n",
       "      <td>780309604001</td>\n",
       "      <td>MULTIPOLYGON (((-64.90835 18.41266, -64.90824 ...</td>\n",
       "      <td>2000</td>\n",
       "    </tr>\n",
       "    <tr>\n",
       "      <th>421802</th>\n",
       "      <td>780309604001</td>\n",
       "      <td>POLYGON ((-64.90532 18.40828, -64.90935 18.410...</td>\n",
       "      <td>1990</td>\n",
       "    </tr>\n",
       "    <tr>\n",
       "      <th>421803</th>\n",
       "      <td>780309604001</td>\n",
       "      <td>POLYGON ((-64.90747 18.38966, -64.90890 18.390...</td>\n",
       "      <td>1990</td>\n",
       "    </tr>\n",
       "    <tr>\n",
       "      <th>421806</th>\n",
       "      <td>780309604001</td>\n",
       "      <td>POLYGON ((-64.90944 18.36029, -64.91244 18.361...</td>\n",
       "      <td>1990</td>\n",
       "    </tr>\n",
       "  </tbody>\n",
       "</table>\n",
       "</div>"
      ],
      "text/plain": [
       "               GEOID                                           geometry  year\n",
       "78435   780309604001  MULTIPOLYGON (((-64.90133 18.38485, -64.90108 ...  2021\n",
       "183374  780309604001  MULTIPOLYGON (((-64.90133 18.38485, -64.90108 ...  2012\n",
       "289336  780309604001  MULTIPOLYGON (((-64.90968 18.41509, -64.90960 ...  2010\n",
       "363747  780309604001  MULTIPOLYGON (((-64.90835 18.41266, -64.90824 ...  2000\n",
       "421802  780309604001  POLYGON ((-64.90532 18.40828, -64.90935 18.410...  1990\n",
       "421803  780309604001  POLYGON ((-64.90747 18.38966, -64.90890 18.390...  1990\n",
       "421806  780309604001  POLYGON ((-64.90944 18.36029, -64.91244 18.361...  1990"
      ]
     },
     "execution_count": 168,
     "metadata": {},
     "output_type": "execute_result"
    }
   ],
   "source": [
    "BG_df[BG_df['GEOID'] == '780309604001']"
   ]
  },
  {
   "cell_type": "code",
   "execution_count": 167,
   "id": "4d468bfe-d06b-4587-bedf-6cca1a5f4254",
   "metadata": {
    "tags": []
   },
   "outputs": [
    {
     "data": {
      "text/plain": [
       "780309604001    7\n",
       "130390102003    7\n",
       "530299718001    7\n",
       "780309605004    7\n",
       "530579501001    7\n",
       "               ..\n",
       "060470009032    1\n",
       "060470016031    1\n",
       "060650418033    1\n",
       "060371438011    1\n",
       "120850003005    1\n",
       "Name: GEOID, Length: 106781, dtype: int64"
      ]
     },
     "execution_count": 167,
     "metadata": {},
     "output_type": "execute_result"
    }
   ],
   "source": [
    "BG_df['GEOID'].value_counts()"
   ]
  },
  {
   "cell_type": "code",
   "execution_count": 169,
   "id": "9191a849-7a8c-40c2-b787-373768b75e3a",
   "metadata": {
    "collapsed": true,
    "jupyter": {
     "outputs_hidden": true
    },
    "tags": []
   },
   "outputs": [
    {
     "name": "stderr",
     "output_type": "stream",
     "text": [
      "C:\\Users\\Asus\\anaconda3\\lib\\site-packages\\geopandas\\geodataframe.py:1537: UserWarning: Geometry column does not contain geometry.\n",
      "  warnings.warn(\"Geometry column does not contain geometry.\")\n",
      "C:\\Users\\Asus\\anaconda3\\lib\\site-packages\\geopandas\\geodataframe.py:1537: UserWarning: Geometry column does not contain geometry.\n",
      "  warnings.warn(\"Geometry column does not contain geometry.\")\n",
      "C:\\Users\\Asus\\anaconda3\\lib\\site-packages\\geopandas\\geodataframe.py:1537: UserWarning: Geometry column does not contain geometry.\n",
      "  warnings.warn(\"Geometry column does not contain geometry.\")\n",
      "C:\\Users\\Asus\\anaconda3\\lib\\site-packages\\geopandas\\geodataframe.py:1537: UserWarning: Geometry column does not contain geometry.\n",
      "  warnings.warn(\"Geometry column does not contain geometry.\")\n",
      "C:\\Users\\Asus\\anaconda3\\lib\\site-packages\\geopandas\\geodataframe.py:1537: UserWarning: Geometry column does not contain geometry.\n",
      "  warnings.warn(\"Geometry column does not contain geometry.\")\n",
      "C:\\Users\\Asus\\anaconda3\\lib\\site-packages\\geopandas\\geodataframe.py:1537: UserWarning: Geometry column does not contain geometry.\n",
      "  warnings.warn(\"Geometry column does not contain geometry.\")\n",
      "C:\\Users\\Asus\\anaconda3\\lib\\site-packages\\geopandas\\geodataframe.py:1537: UserWarning: Geometry column does not contain geometry.\n",
      "  warnings.warn(\"Geometry column does not contain geometry.\")\n",
      "C:\\Users\\Asus\\anaconda3\\lib\\site-packages\\geopandas\\geodataframe.py:1537: UserWarning: Geometry column does not contain geometry.\n",
      "  warnings.warn(\"Geometry column does not contain geometry.\")\n",
      "C:\\Users\\Asus\\anaconda3\\lib\\site-packages\\geopandas\\geodataframe.py:1537: UserWarning: Geometry column does not contain geometry.\n",
      "  warnings.warn(\"Geometry column does not contain geometry.\")\n",
      "C:\\Users\\Asus\\anaconda3\\lib\\site-packages\\geopandas\\geodataframe.py:1537: UserWarning: Geometry column does not contain geometry.\n",
      "  warnings.warn(\"Geometry column does not contain geometry.\")\n",
      "C:\\Users\\Asus\\anaconda3\\lib\\site-packages\\geopandas\\geodataframe.py:1537: UserWarning: Geometry column does not contain geometry.\n",
      "  warnings.warn(\"Geometry column does not contain geometry.\")\n",
      "C:\\Users\\Asus\\anaconda3\\lib\\site-packages\\geopandas\\geodataframe.py:1537: UserWarning: Geometry column does not contain geometry.\n",
      "  warnings.warn(\"Geometry column does not contain geometry.\")\n",
      "C:\\Users\\Asus\\anaconda3\\lib\\site-packages\\geopandas\\geodataframe.py:1537: UserWarning: Geometry column does not contain geometry.\n",
      "  warnings.warn(\"Geometry column does not contain geometry.\")\n",
      "C:\\Users\\Asus\\anaconda3\\lib\\site-packages\\geopandas\\geodataframe.py:1537: UserWarning: Geometry column does not contain geometry.\n",
      "  warnings.warn(\"Geometry column does not contain geometry.\")\n",
      "C:\\Users\\Asus\\anaconda3\\lib\\site-packages\\geopandas\\geodataframe.py:1537: UserWarning: Geometry column does not contain geometry.\n",
      "  warnings.warn(\"Geometry column does not contain geometry.\")\n",
      "C:\\Users\\Asus\\anaconda3\\lib\\site-packages\\geopandas\\geodataframe.py:1537: UserWarning: Geometry column does not contain geometry.\n",
      "  warnings.warn(\"Geometry column does not contain geometry.\")\n"
     ]
    }
   ],
   "source": [
    "chunk_size = 25000  # adjust based on your system's capabilities\n",
    "chunks = [x for x in range(0, len(BG_df), chunk_size)]\n",
    "\n",
    "for start in chunks:\n",
    "    end = start + chunk_size\n",
    "    temp_df = BG_df.iloc[start:end].copy()\n",
    "    temp_df['geometry'] = temp_df['geometry'].apply(lambda geom: geom.wkt)\n",
    "    temp_df.to_parquet(f\"C:/Users/Asus/Box/Flood Damage PredictionProject/Dataset/BG_geometry_{start}_{end}.parquet.gzip\", compression='gzip')"
   ]
  },
  {
   "cell_type": "code",
   "execution_count": 4,
   "id": "a31bc73d-23a7-4935-b9b4-ec285d7980de",
   "metadata": {},
   "outputs": [],
   "source": [
    "chunk_size = 25000  # adjust based on your system's capabilities\n",
    "chunks = [x for x in range(0, 400000, chunk_size)]\n",
    "\n",
    "gdf_list = []\n",
    "\n",
    "for start in chunks:\n",
    "    end = start + chunk_size\n",
    "    temp_df = pd.read_parquet(f\"C:/Users/Asus/Box/Flood Damage PredictionProject/Dataset/BG_geometry_{start}_{end}.parquet.gzip\")\n",
    "    gdf_read = gpd.GeoDataFrame(temp_df, geometry=temp_df['geometry'].apply(lambda x: shapely.wkt.loads(x)))\n",
    "    gdf_list.append(gdf_read)\n",
    "\n",
    "# Concatenate all GeoDataFrames in the list into a single GeoDataFrame\n",
    "merged_gdf = pd.concat(gdf_list, ignore_index=True)"
   ]
  },
  {
   "cell_type": "code",
   "execution_count": 5,
   "id": "d55d0de4-5fa6-437f-ac6b-d39aa14f85f0",
   "metadata": {},
   "outputs": [
    {
     "data": {
      "text/html": [
       "<div>\n",
       "<style scoped>\n",
       "    .dataframe tbody tr th:only-of-type {\n",
       "        vertical-align: middle;\n",
       "    }\n",
       "\n",
       "    .dataframe tbody tr th {\n",
       "        vertical-align: top;\n",
       "    }\n",
       "\n",
       "    .dataframe thead th {\n",
       "        text-align: right;\n",
       "    }\n",
       "</style>\n",
       "<table border=\"1\" class=\"dataframe\">\n",
       "  <thead>\n",
       "    <tr style=\"text-align: right;\">\n",
       "      <th></th>\n",
       "      <th>GEOID</th>\n",
       "      <th>geometry</th>\n",
       "      <th>year</th>\n",
       "    </tr>\n",
       "  </thead>\n",
       "  <tbody>\n",
       "    <tr>\n",
       "      <th>0</th>\n",
       "      <td>020900009002</td>\n",
       "      <td>POLYGON ((-147.96856 64.77841, -147.96852 64.7...</td>\n",
       "      <td>2021</td>\n",
       "    </tr>\n",
       "    <tr>\n",
       "      <th>1</th>\n",
       "      <td>021300002002</td>\n",
       "      <td>POLYGON ((-131.70187 55.38841, -131.70029 55.3...</td>\n",
       "      <td>2021</td>\n",
       "    </tr>\n",
       "    <tr>\n",
       "      <th>2</th>\n",
       "      <td>020200021003</td>\n",
       "      <td>POLYGON ((-149.92843 61.18308, -149.92817 61.1...</td>\n",
       "      <td>2021</td>\n",
       "    </tr>\n",
       "    <tr>\n",
       "      <th>3</th>\n",
       "      <td>020200017022</td>\n",
       "      <td>POLYGON ((-149.76341 61.19541, -149.76341 61.1...</td>\n",
       "      <td>2021</td>\n",
       "    </tr>\n",
       "    <tr>\n",
       "      <th>4</th>\n",
       "      <td>021300003003</td>\n",
       "      <td>POLYGON ((-131.64374 55.33651, -131.64326 55.3...</td>\n",
       "      <td>2021</td>\n",
       "    </tr>\n",
       "  </tbody>\n",
       "</table>\n",
       "</div>"
      ],
      "text/plain": [
       "          GEOID                                           geometry  year\n",
       "0  020900009002  POLYGON ((-147.96856 64.77841, -147.96852 64.7...  2021\n",
       "1  021300002002  POLYGON ((-131.70187 55.38841, -131.70029 55.3...  2021\n",
       "2  020200021003  POLYGON ((-149.92843 61.18308, -149.92817 61.1...  2021\n",
       "3  020200017022  POLYGON ((-149.76341 61.19541, -149.76341 61.1...  2021\n",
       "4  021300003003  POLYGON ((-131.64374 55.33651, -131.64326 55.3...  2021"
      ]
     },
     "execution_count": 5,
     "metadata": {},
     "output_type": "execute_result"
    }
   ],
   "source": [
    "merged_gdf.head()"
   ]
  },
  {
   "cell_type": "code",
   "execution_count": 6,
   "id": "2c10cd9b-7f1d-459e-a6ed-4dbf5ab224ad",
   "metadata": {
    "tags": []
   },
   "outputs": [
    {
     "data": {
      "text/plain": [
       "020900009002    1\n",
       "250214173001    1\n",
       "250010139002    1\n",
       "250010139003    1\n",
       "250010139004    1\n",
       "               ..\n",
       "120860039121    1\n",
       "120860003063    1\n",
       "120860003062    1\n",
       "120860090431    1\n",
       "361031116022    1\n",
       "Name: GEOID, Length: 50000, dtype: int64"
      ]
     },
     "execution_count": 6,
     "metadata": {},
     "output_type": "execute_result"
    }
   ],
   "source": [
    "merged_gdf['GEOID'].value_counts()"
   ]
  },
  {
   "cell_type": "code",
   "execution_count": null,
   "id": "324f1846-3b7f-425a-b0bb-7b3219c69d75",
   "metadata": {},
   "outputs": [],
   "source": []
  },
  {
   "cell_type": "code",
   "execution_count": null,
   "id": "8530696f-e939-40c2-9741-2d26c7db3048",
   "metadata": {},
   "outputs": [],
   "source": []
  },
  {
   "cell_type": "code",
   "execution_count": null,
   "id": "e7cf63af-31bc-4f08-8bd6-37b3f27b7295",
   "metadata": {},
   "outputs": [],
   "source": []
  },
  {
   "cell_type": "code",
   "execution_count": null,
   "id": "739d55ab",
   "metadata": {
    "tags": []
   },
   "outputs": [],
   "source": [
    "BG_df = pd.concat(BG_list, ignore_index=True)"
   ]
  },
  {
   "cell_type": "code",
   "execution_count": null,
   "id": "83ace4bc",
   "metadata": {
    "tags": []
   },
   "outputs": [],
   "source": [
    "BG_df.head()"
   ]
  },
  {
   "cell_type": "code",
   "execution_count": null,
   "id": "3231b2ed",
   "metadata": {
    "tags": []
   },
   "outputs": [],
   "source": [
    "list_censusBG_2 = BG_df['GEOID'].dropna().drop_duplicates().astype(str).tolist()\n",
    "\n",
    "# add preceding 0 to make 4-digit zip codes into 5-digit\n",
    "list_censusBG_2 = [censusBG.zfill(12) for censusBG in list_censusBG_2]"
   ]
  },
  {
   "cell_type": "code",
   "execution_count": null,
   "id": "c69ebadd-8b79-4047-a0aa-115e2b4b688e",
   "metadata": {
    "tags": []
   },
   "outputs": [],
   "source": [
    "len(list_censusBG_2)"
   ]
  },
  {
   "cell_type": "code",
   "execution_count": null,
   "id": "d0d8222e-ad5e-43ec-92d0-be8eabdb18e6",
   "metadata": {
    "tags": []
   },
   "outputs": [],
   "source": [
    "list_censusBG_3 = list_censusBG_3 + list_censusBG_2 "
   ]
  },
  {
   "cell_type": "code",
   "execution_count": null,
   "id": "989897aa-9d1f-4360-b03f-8e165fa13377",
   "metadata": {
    "tags": []
   },
   "outputs": [],
   "source": [
    "len(list_censusBG_3)"
   ]
  },
  {
   "cell_type": "code",
   "execution_count": null,
   "id": "65a12883-78b2-4128-a0e7-cf6a54864876",
   "metadata": {
    "tags": []
   },
   "outputs": [],
   "source": [
    "list_censusBG_3 = list(set(list_censusBG_3))"
   ]
  },
  {
   "cell_type": "code",
   "execution_count": null,
   "id": "cc450bd1",
   "metadata": {
    "tags": []
   },
   "outputs": [],
   "source": [
    "len(list_censusBG_3)"
   ]
  },
  {
   "cell_type": "code",
   "execution_count": null,
   "id": "676071ee",
   "metadata": {
    "tags": []
   },
   "outputs": [],
   "source": [
    "#CensusBG list for NC\n",
    "\n",
    "list_censusBG = df['censusBlockGroupFips'].dropna().drop_duplicates().tolist()\n",
    "\n",
    "list_censusBG = [str(int(float(i))) for i in list_censusBG]\n",
    "\n",
    "# add preceding 0 to make 4-digit zip codes into 5-digit\n",
    "list_censusBG = [censusBG.zfill(12) for censusBG in list_censusBG]"
   ]
  },
  {
   "cell_type": "code",
   "execution_count": null,
   "id": "35b7b809",
   "metadata": {
    "tags": []
   },
   "outputs": [],
   "source": [
    "# Convert both lists to sets\n",
    "set_bg = set(list_censusBG)\n",
    "set_bg_2 = set(list_censusBG_3)\n",
    "\n",
    "# Find the intersection of the two sets\n",
    "common_bg = set_bg.intersection(set_bg_2)\n",
    "\n",
    "# Print the number of common zip codes\n",
    "print(\"Number of common BG:\", len(common_bg))"
   ]
  },
  {
   "cell_type": "code",
   "execution_count": null,
   "id": "7b87cdab",
   "metadata": {
    "tags": []
   },
   "outputs": [],
   "source": [
    "len(common_bg)/len(list_censusBG)"
   ]
  },
  {
   "cell_type": "code",
   "execution_count": null,
   "id": "abc86fe8",
   "metadata": {
    "tags": []
   },
   "outputs": [],
   "source": [
    "len(common_bg)"
   ]
  },
  {
   "cell_type": "code",
   "execution_count": null,
   "id": "418cf043",
   "metadata": {
    "tags": []
   },
   "outputs": [],
   "source": [
    "len(list_censusBG)"
   ]
  },
  {
   "cell_type": "code",
   "execution_count": null,
   "id": "d1ddbfd3",
   "metadata": {},
   "outputs": [],
   "source": []
  },
  {
   "cell_type": "markdown",
   "id": "e19c323c-3b80-4f0e-a72f-bbe05087f460",
   "metadata": {},
   "source": [
    "## Census Tract"
   ]
  },
  {
   "cell_type": "code",
   "execution_count": 4,
   "id": "49527eaa-c07e-4ce6-b38a-a0cc8826c1a1",
   "metadata": {
    "tags": []
   },
   "outputs": [
    {
     "name": "stdout",
     "output_type": "stream",
     "text": [
      "Using the default year of 2021\n"
     ]
    }
   ],
   "source": [
    "states = pygris.states()\n",
    "states_list = sorted(states['STUSPS'].unique())"
   ]
  },
  {
   "cell_type": "code",
   "execution_count": 6,
   "id": "65dbd24b-f931-47c9-bc83-4cc7625db954",
   "metadata": {
    "collapsed": true,
    "jupyter": {
     "outputs_hidden": true
    },
    "tags": []
   },
   "outputs": [
    {
     "name": "stdout",
     "output_type": "stream",
     "text": [
      "Using FIPS code '02' for input 'AK'\n",
      "Using FIPS code '01' for input 'AL'\n",
      "Using FIPS code '05' for input 'AR'\n",
      "Using FIPS code '60' for input 'AS'\n",
      "Using FIPS code '04' for input 'AZ'\n",
      "Using FIPS code '06' for input 'CA'\n",
      "Using FIPS code '08' for input 'CO'\n",
      "Using FIPS code '09' for input 'CT'\n",
      "Using FIPS code '11' for input 'DC'\n",
      "Using FIPS code '10' for input 'DE'\n",
      "Using FIPS code '12' for input 'FL'\n",
      "Using FIPS code '13' for input 'GA'\n",
      "Using FIPS code '66' for input 'GU'\n",
      "Using FIPS code '15' for input 'HI'\n",
      "Using FIPS code '19' for input 'IA'\n",
      "Using FIPS code '16' for input 'ID'\n",
      "Using FIPS code '17' for input 'IL'\n",
      "Using FIPS code '18' for input 'IN'\n",
      "Using FIPS code '20' for input 'KS'\n",
      "Using FIPS code '21' for input 'KY'\n",
      "Using FIPS code '22' for input 'LA'\n",
      "Using FIPS code '25' for input 'MA'\n",
      "Using FIPS code '24' for input 'MD'\n",
      "Using FIPS code '23' for input 'ME'\n",
      "Using FIPS code '26' for input 'MI'\n",
      "Using FIPS code '27' for input 'MN'\n",
      "Using FIPS code '29' for input 'MO'\n",
      "Using FIPS code '69' for input 'MP'\n",
      "Using FIPS code '28' for input 'MS'\n",
      "Using FIPS code '30' for input 'MT'\n",
      "Using FIPS code '37' for input 'NC'\n",
      "Using FIPS code '38' for input 'ND'\n",
      "Using FIPS code '31' for input 'NE'\n",
      "Using FIPS code '33' for input 'NH'\n",
      "Using FIPS code '34' for input 'NJ'\n",
      "Using FIPS code '35' for input 'NM'\n",
      "Using FIPS code '32' for input 'NV'\n",
      "Using FIPS code '36' for input 'NY'\n",
      "Using FIPS code '39' for input 'OH'\n",
      "Using FIPS code '40' for input 'OK'\n",
      "Using FIPS code '41' for input 'OR'\n",
      "Using FIPS code '42' for input 'PA'\n",
      "Using FIPS code '72' for input 'PR'\n",
      "Using FIPS code '44' for input 'RI'\n",
      "Using FIPS code '45' for input 'SC'\n",
      "Using FIPS code '46' for input 'SD'\n",
      "Using FIPS code '47' for input 'TN'\n",
      "Using FIPS code '48' for input 'TX'\n",
      "Using FIPS code '49' for input 'UT'\n",
      "Using FIPS code '51' for input 'VA'\n",
      "Using FIPS code '78' for input 'VI'\n",
      "Using FIPS code '50' for input 'VT'\n",
      "Using FIPS code '53' for input 'WA'\n",
      "Using FIPS code '55' for input 'WI'\n",
      "Using FIPS code '54' for input 'WV'\n",
      "Using FIPS code '56' for input 'WY'\n"
     ]
    }
   ],
   "source": [
    "Tracts_list_2000 = []\n",
    "\n",
    "for i in states_list:\n",
    "    Tracts_list_2000.append(pygris.tracts(state = i, year = 2000))"
   ]
  },
  {
   "cell_type": "code",
   "execution_count": 7,
   "id": "24f1089d-2191-4a17-840c-a97a2918071d",
   "metadata": {
    "collapsed": true,
    "jupyter": {
     "outputs_hidden": true
    },
    "tags": []
   },
   "outputs": [
    {
     "name": "stdout",
     "output_type": "stream",
     "text": [
      "Using FIPS code '02' for input 'AK'\n",
      "Using FIPS code '01' for input 'AL'\n",
      "Using FIPS code '05' for input 'AR'\n",
      "Using FIPS code '60' for input 'AS'\n",
      "Using FIPS code '04' for input 'AZ'\n",
      "Using FIPS code '06' for input 'CA'\n",
      "Using FIPS code '08' for input 'CO'\n",
      "Using FIPS code '09' for input 'CT'\n",
      "Using FIPS code '11' for input 'DC'\n",
      "Using FIPS code '10' for input 'DE'\n",
      "Using FIPS code '12' for input 'FL'\n",
      "Using FIPS code '13' for input 'GA'\n",
      "Using FIPS code '66' for input 'GU'\n",
      "Using FIPS code '15' for input 'HI'\n",
      "Using FIPS code '19' for input 'IA'\n",
      "Using FIPS code '16' for input 'ID'\n",
      "Using FIPS code '17' for input 'IL'\n",
      "Using FIPS code '18' for input 'IN'\n",
      "Using FIPS code '20' for input 'KS'\n",
      "Using FIPS code '21' for input 'KY'\n",
      "Using FIPS code '22' for input 'LA'\n",
      "Using FIPS code '25' for input 'MA'\n",
      "Using FIPS code '24' for input 'MD'\n",
      "Using FIPS code '23' for input 'ME'\n",
      "Using FIPS code '26' for input 'MI'\n",
      "Using FIPS code '27' for input 'MN'\n",
      "Using FIPS code '29' for input 'MO'\n",
      "Using FIPS code '69' for input 'MP'\n",
      "Using FIPS code '28' for input 'MS'\n",
      "Using FIPS code '30' for input 'MT'\n",
      "Using FIPS code '37' for input 'NC'\n",
      "Using FIPS code '38' for input 'ND'\n",
      "Using FIPS code '31' for input 'NE'\n",
      "Using FIPS code '33' for input 'NH'\n",
      "Using FIPS code '34' for input 'NJ'\n",
      "Using FIPS code '35' for input 'NM'\n",
      "Using FIPS code '32' for input 'NV'\n",
      "Using FIPS code '36' for input 'NY'\n",
      "Using FIPS code '39' for input 'OH'\n",
      "Using FIPS code '40' for input 'OK'\n",
      "Using FIPS code '41' for input 'OR'\n",
      "Using FIPS code '42' for input 'PA'\n",
      "Using FIPS code '72' for input 'PR'\n",
      "Using FIPS code '44' for input 'RI'\n",
      "Using FIPS code '45' for input 'SC'\n",
      "Using FIPS code '46' for input 'SD'\n",
      "Using FIPS code '47' for input 'TN'\n",
      "Using FIPS code '48' for input 'TX'\n",
      "Using FIPS code '49' for input 'UT'\n",
      "Using FIPS code '51' for input 'VA'\n",
      "Using FIPS code '78' for input 'VI'\n",
      "Using FIPS code '50' for input 'VT'\n",
      "Using FIPS code '53' for input 'WA'\n",
      "Using FIPS code '55' for input 'WI'\n",
      "Using FIPS code '54' for input 'WV'\n",
      "Using FIPS code '56' for input 'WY'\n"
     ]
    }
   ],
   "source": [
    "Tracts_list_2010 = []\n",
    "\n",
    "for i in states_list:\n",
    "    Tracts_list_2010.append(pygris.tracts(state = i, year = 2010))"
   ]
  },
  {
   "cell_type": "code",
   "execution_count": 8,
   "id": "a504a350-1e37-4d5b-abc7-554ab9361826",
   "metadata": {
    "collapsed": true,
    "jupyter": {
     "outputs_hidden": true
    },
    "tags": []
   },
   "outputs": [
    {
     "name": "stdout",
     "output_type": "stream",
     "text": [
      "Using FIPS code '02' for input 'AK'\n",
      "Using FIPS code '01' for input 'AL'\n",
      "Using FIPS code '05' for input 'AR'\n",
      "Using FIPS code '60' for input 'AS'\n",
      "Using FIPS code '04' for input 'AZ'\n",
      "Using FIPS code '06' for input 'CA'\n",
      "Using FIPS code '08' for input 'CO'\n",
      "Using FIPS code '09' for input 'CT'\n",
      "Using FIPS code '11' for input 'DC'\n",
      "Using FIPS code '10' for input 'DE'\n",
      "Using FIPS code '12' for input 'FL'\n",
      "Using FIPS code '13' for input 'GA'\n",
      "Using FIPS code '66' for input 'GU'\n",
      "Using FIPS code '15' for input 'HI'\n",
      "Using FIPS code '19' for input 'IA'\n",
      "Using FIPS code '16' for input 'ID'\n",
      "Using FIPS code '17' for input 'IL'\n",
      "Using FIPS code '18' for input 'IN'\n",
      "Using FIPS code '20' for input 'KS'\n",
      "Using FIPS code '21' for input 'KY'\n",
      "Using FIPS code '22' for input 'LA'\n",
      "Using FIPS code '25' for input 'MA'\n",
      "Using FIPS code '24' for input 'MD'\n",
      "Using FIPS code '23' for input 'ME'\n",
      "Using FIPS code '26' for input 'MI'\n",
      "Using FIPS code '27' for input 'MN'\n",
      "Using FIPS code '29' for input 'MO'\n",
      "Using FIPS code '69' for input 'MP'\n",
      "Using FIPS code '28' for input 'MS'\n",
      "Using FIPS code '30' for input 'MT'\n",
      "Using FIPS code '37' for input 'NC'\n",
      "Using FIPS code '38' for input 'ND'\n",
      "Using FIPS code '31' for input 'NE'\n",
      "Using FIPS code '33' for input 'NH'\n",
      "Using FIPS code '34' for input 'NJ'\n",
      "Using FIPS code '35' for input 'NM'\n",
      "Using FIPS code '32' for input 'NV'\n",
      "Using FIPS code '36' for input 'NY'\n",
      "Using FIPS code '39' for input 'OH'\n",
      "Using FIPS code '40' for input 'OK'\n",
      "Using FIPS code '41' for input 'OR'\n",
      "Using FIPS code '42' for input 'PA'\n",
      "Using FIPS code '72' for input 'PR'\n",
      "Using FIPS code '44' for input 'RI'\n",
      "Using FIPS code '45' for input 'SC'\n",
      "Using FIPS code '46' for input 'SD'\n",
      "Using FIPS code '47' for input 'TN'\n",
      "Using FIPS code '48' for input 'TX'\n",
      "Using FIPS code '49' for input 'UT'\n",
      "Using FIPS code '51' for input 'VA'\n",
      "Using FIPS code '78' for input 'VI'\n",
      "Using FIPS code '50' for input 'VT'\n",
      "Using FIPS code '53' for input 'WA'\n",
      "Using FIPS code '55' for input 'WI'\n",
      "Using FIPS code '54' for input 'WV'\n",
      "Using FIPS code '56' for input 'WY'\n"
     ]
    }
   ],
   "source": [
    "Tracts_list_2012 = []\n",
    "\n",
    "for i in states_list:\n",
    "    Tracts_list_2012.append(pygris.tracts(state = i, year = 2012))"
   ]
  },
  {
   "cell_type": "code",
   "execution_count": 9,
   "id": "8bde044d-9e13-4a37-a19f-201dd8e453ec",
   "metadata": {
    "collapsed": true,
    "jupyter": {
     "outputs_hidden": true
    },
    "tags": []
   },
   "outputs": [
    {
     "name": "stdout",
     "output_type": "stream",
     "text": [
      "Using FIPS code '02' for input 'AK'\n",
      "Using FIPS code '01' for input 'AL'\n",
      "Using FIPS code '05' for input 'AR'\n",
      "Using FIPS code '60' for input 'AS'\n",
      "Using FIPS code '04' for input 'AZ'\n",
      "Using FIPS code '06' for input 'CA'\n",
      "Using FIPS code '08' for input 'CO'\n",
      "Using FIPS code '09' for input 'CT'\n",
      "Using FIPS code '11' for input 'DC'\n",
      "Using FIPS code '10' for input 'DE'\n",
      "Using FIPS code '12' for input 'FL'\n",
      "Using FIPS code '13' for input 'GA'\n",
      "Using FIPS code '66' for input 'GU'\n",
      "Using FIPS code '15' for input 'HI'\n",
      "Using FIPS code '19' for input 'IA'\n",
      "Using FIPS code '16' for input 'ID'\n",
      "Using FIPS code '17' for input 'IL'\n",
      "Using FIPS code '18' for input 'IN'\n",
      "Using FIPS code '20' for input 'KS'\n",
      "Using FIPS code '21' for input 'KY'\n",
      "Using FIPS code '22' for input 'LA'\n",
      "Using FIPS code '25' for input 'MA'\n",
      "Using FIPS code '24' for input 'MD'\n",
      "Using FIPS code '23' for input 'ME'\n",
      "Using FIPS code '26' for input 'MI'\n",
      "Using FIPS code '27' for input 'MN'\n",
      "Using FIPS code '29' for input 'MO'\n",
      "Using FIPS code '69' for input 'MP'\n",
      "Using FIPS code '28' for input 'MS'\n",
      "Using FIPS code '30' for input 'MT'\n",
      "Using FIPS code '37' for input 'NC'\n",
      "Using FIPS code '38' for input 'ND'\n",
      "Using FIPS code '31' for input 'NE'\n",
      "Using FIPS code '33' for input 'NH'\n",
      "Using FIPS code '34' for input 'NJ'\n",
      "Using FIPS code '35' for input 'NM'\n",
      "Using FIPS code '32' for input 'NV'\n",
      "Using FIPS code '36' for input 'NY'\n",
      "Using FIPS code '39' for input 'OH'\n",
      "Using FIPS code '40' for input 'OK'\n",
      "Using FIPS code '41' for input 'OR'\n",
      "Using FIPS code '42' for input 'PA'\n",
      "Using FIPS code '72' for input 'PR'\n",
      "Using FIPS code '44' for input 'RI'\n",
      "Using FIPS code '45' for input 'SC'\n",
      "Using FIPS code '46' for input 'SD'\n",
      "Using FIPS code '47' for input 'TN'\n",
      "Using FIPS code '48' for input 'TX'\n",
      "Using FIPS code '49' for input 'UT'\n",
      "Using FIPS code '51' for input 'VA'\n",
      "Using FIPS code '78' for input 'VI'\n",
      "Using FIPS code '50' for input 'VT'\n",
      "Using FIPS code '53' for input 'WA'\n",
      "Using FIPS code '55' for input 'WI'\n",
      "Using FIPS code '54' for input 'WV'\n",
      "Using FIPS code '56' for input 'WY'\n"
     ]
    }
   ],
   "source": [
    "Tracts_list_2021 = []\n",
    "\n",
    "for i in states_list:\n",
    "    Tracts_list_2021.append(pygris.tracts(state = i, year = 2021))"
   ]
  },
  {
   "cell_type": "code",
   "execution_count": 103,
   "id": "7b5d8bb6-48ee-404c-b844-9a165a0ea770",
   "metadata": {
    "tags": []
   },
   "outputs": [],
   "source": [
    "temp = pd.concat(Tracts_list_2010, ignore_index=True)"
   ]
  },
  {
   "cell_type": "code",
   "execution_count": 104,
   "id": "4b7f573c-0ea0-461e-b194-da921cbc06aa",
   "metadata": {
    "tags": []
   },
   "outputs": [
    {
     "data": {
      "text/plain": [
       "74134"
      ]
     },
     "execution_count": 104,
     "metadata": {},
     "output_type": "execute_result"
    }
   ],
   "source": [
    "temp.shape[0]"
   ]
  },
  {
   "cell_type": "code",
   "execution_count": 105,
   "id": "538f67db-5705-484d-861a-836469c16da5",
   "metadata": {
    "tags": []
   },
   "outputs": [
    {
     "data": {
      "text/html": [
       "<div>\n",
       "<style scoped>\n",
       "    .dataframe tbody tr th:only-of-type {\n",
       "        vertical-align: middle;\n",
       "    }\n",
       "\n",
       "    .dataframe tbody tr th {\n",
       "        vertical-align: top;\n",
       "    }\n",
       "\n",
       "    .dataframe thead th {\n",
       "        text-align: right;\n",
       "    }\n",
       "</style>\n",
       "<table border=\"1\" class=\"dataframe\">\n",
       "  <thead>\n",
       "    <tr style=\"text-align: right;\">\n",
       "      <th></th>\n",
       "      <th>STATEFP10</th>\n",
       "      <th>COUNTYFP10</th>\n",
       "      <th>TRACTCE10</th>\n",
       "      <th>GEOID10</th>\n",
       "      <th>NAME10</th>\n",
       "      <th>NAMELSAD10</th>\n",
       "      <th>MTFCC10</th>\n",
       "      <th>FUNCSTAT10</th>\n",
       "      <th>ALAND10</th>\n",
       "      <th>AWATER10</th>\n",
       "      <th>INTPTLAT10</th>\n",
       "      <th>INTPTLON10</th>\n",
       "      <th>geometry</th>\n",
       "    </tr>\n",
       "  </thead>\n",
       "  <tbody>\n",
       "    <tr>\n",
       "      <th>0</th>\n",
       "      <td>02</td>\n",
       "      <td>013</td>\n",
       "      <td>000100</td>\n",
       "      <td>02013000100</td>\n",
       "      <td>1</td>\n",
       "      <td>Census Tract 1</td>\n",
       "      <td>G5020</td>\n",
       "      <td>S</td>\n",
       "      <td>18083148800</td>\n",
       "      <td>20792209033</td>\n",
       "      <td>+55.2437223</td>\n",
       "      <td>-161.9507485</td>\n",
       "      <td>MULTIPOLYGON (((-163.03943 55.45072, -163.0331...</td>\n",
       "    </tr>\n",
       "    <tr>\n",
       "      <th>1</th>\n",
       "      <td>02</td>\n",
       "      <td>016</td>\n",
       "      <td>000200</td>\n",
       "      <td>02016000200</td>\n",
       "      <td>2</td>\n",
       "      <td>Census Tract 2</td>\n",
       "      <td>G5020</td>\n",
       "      <td>S</td>\n",
       "      <td>2823450385</td>\n",
       "      <td>3101987499</td>\n",
       "      <td>+53.6212015</td>\n",
       "      <td>-166.7712414</td>\n",
       "      <td>POLYGON ((-167.78148 53.37779, -167.77670 53.3...</td>\n",
       "    </tr>\n",
       "    <tr>\n",
       "      <th>2</th>\n",
       "      <td>02</td>\n",
       "      <td>016</td>\n",
       "      <td>000100</td>\n",
       "      <td>02016000100</td>\n",
       "      <td>1</td>\n",
       "      <td>Census Tract 1</td>\n",
       "      <td>G5020</td>\n",
       "      <td>S</td>\n",
       "      <td>8547312240</td>\n",
       "      <td>22088656025</td>\n",
       "      <td>+51.9594469</td>\n",
       "      <td>+178.3388130</td>\n",
       "      <td>MULTIPOLYGON (((173.40338 52.77756, 173.40573 ...</td>\n",
       "    </tr>\n",
       "    <tr>\n",
       "      <th>3</th>\n",
       "      <td>02</td>\n",
       "      <td>240</td>\n",
       "      <td>000100</td>\n",
       "      <td>02240000100</td>\n",
       "      <td>1</td>\n",
       "      <td>Census Tract 1</td>\n",
       "      <td>G5020</td>\n",
       "      <td>S</td>\n",
       "      <td>46844168733</td>\n",
       "      <td>375928532</td>\n",
       "      <td>+63.8450778</td>\n",
       "      <td>-142.6414889</td>\n",
       "      <td>POLYGON ((-141.27597 65.73931, -141.27506 65.7...</td>\n",
       "    </tr>\n",
       "    <tr>\n",
       "      <th>4</th>\n",
       "      <td>02</td>\n",
       "      <td>240</td>\n",
       "      <td>000400</td>\n",
       "      <td>02240000400</td>\n",
       "      <td>4</td>\n",
       "      <td>Census Tract 4</td>\n",
       "      <td>G5020</td>\n",
       "      <td>S</td>\n",
       "      <td>17306746551</td>\n",
       "      <td>376866714</td>\n",
       "      <td>+63.9373904</td>\n",
       "      <td>-145.4203250</td>\n",
       "      <td>POLYGON ((-145.03421 63.33270, -145.03152 63.3...</td>\n",
       "    </tr>\n",
       "  </tbody>\n",
       "</table>\n",
       "</div>"
      ],
      "text/plain": [
       "  STATEFP10 COUNTYFP10 TRACTCE10      GEOID10 NAME10      NAMELSAD10 MTFCC10  \\\n",
       "0        02        013    000100  02013000100      1  Census Tract 1   G5020   \n",
       "1        02        016    000200  02016000200      2  Census Tract 2   G5020   \n",
       "2        02        016    000100  02016000100      1  Census Tract 1   G5020   \n",
       "3        02        240    000100  02240000100      1  Census Tract 1   G5020   \n",
       "4        02        240    000400  02240000400      4  Census Tract 4   G5020   \n",
       "\n",
       "  FUNCSTAT10      ALAND10     AWATER10   INTPTLAT10    INTPTLON10  \\\n",
       "0          S  18083148800  20792209033  +55.2437223  -161.9507485   \n",
       "1          S   2823450385   3101987499  +53.6212015  -166.7712414   \n",
       "2          S   8547312240  22088656025  +51.9594469  +178.3388130   \n",
       "3          S  46844168733    375928532  +63.8450778  -142.6414889   \n",
       "4          S  17306746551    376866714  +63.9373904  -145.4203250   \n",
       "\n",
       "                                            geometry  \n",
       "0  MULTIPOLYGON (((-163.03943 55.45072, -163.0331...  \n",
       "1  POLYGON ((-167.78148 53.37779, -167.77670 53.3...  \n",
       "2  MULTIPOLYGON (((173.40338 52.77756, 173.40573 ...  \n",
       "3  POLYGON ((-141.27597 65.73931, -141.27506 65.7...  \n",
       "4  POLYGON ((-145.03421 63.33270, -145.03152 63.3...  "
      ]
     },
     "execution_count": 105,
     "metadata": {},
     "output_type": "execute_result"
    }
   ],
   "source": [
    "temp.head()"
   ]
  },
  {
   "cell_type": "code",
   "execution_count": 106,
   "id": "657b64ed-520e-4872-840d-2102a3411fce",
   "metadata": {
    "tags": []
   },
   "outputs": [],
   "source": [
    "temp = temp[['GEOID10', 'geometry']]\n",
    "temp['year'] = 2010\n",
    "\n",
    "temp = temp.rename(columns={\"GEOID10\": \"censusTractID\"})"
   ]
  },
  {
   "cell_type": "code",
   "execution_count": 107,
   "id": "ab04c587-f9b3-4351-863e-cf95176b2b94",
   "metadata": {
    "tags": []
   },
   "outputs": [],
   "source": [
    "list_censustract_2 = temp['censusTractID'].dropna().drop_duplicates().astype(str).tolist()\n",
    "\n",
    "# add preceding 0 to make 4-digit zip codes into 5-digit\n",
    "list_censustract_2 = [censustract.zfill(11) for censustract in list_censustract_2]"
   ]
  },
  {
   "cell_type": "code",
   "execution_count": 108,
   "id": "d5afc374-c026-43c3-97f4-fdc8f4794b4d",
   "metadata": {
    "tags": []
   },
   "outputs": [
    {
     "data": {
      "text/plain": [
       "74134"
      ]
     },
     "execution_count": 108,
     "metadata": {},
     "output_type": "execute_result"
    }
   ],
   "source": [
    "len(list_censustract_2)"
   ]
  },
  {
   "cell_type": "code",
   "execution_count": 109,
   "id": "df2008a0-8483-4de4-80f0-eff3916b1118",
   "metadata": {
    "tags": []
   },
   "outputs": [],
   "source": [
    "list_censustract_3 = list_censustract_3 + list_censustract_2"
   ]
  },
  {
   "cell_type": "code",
   "execution_count": 110,
   "id": "fe685802-9bd6-467f-836b-51b59bd1bcf5",
   "metadata": {
    "tags": []
   },
   "outputs": [
    {
     "data": {
      "text/plain": [
       "185045"
      ]
     },
     "execution_count": 110,
     "metadata": {},
     "output_type": "execute_result"
    }
   ],
   "source": [
    "len(list_censustract_3)"
   ]
  },
  {
   "cell_type": "code",
   "execution_count": 111,
   "id": "3b5d8fed-f809-494a-811f-44b2b6724941",
   "metadata": {
    "tags": []
   },
   "outputs": [],
   "source": [
    "list_censustract_3 = list(set(list_censustract_3))"
   ]
  },
  {
   "cell_type": "code",
   "execution_count": 112,
   "id": "3f64a255-43dd-4ba4-9656-82a3f975a2df",
   "metadata": {
    "tags": []
   },
   "outputs": [],
   "source": [
    "#CensusBG list for NC\n",
    "\n",
    "list_censustract = df['censusTract'].dropna().drop_duplicates().tolist()\n",
    "\n",
    "list_censustract = [str(int(float(i))) for i in list_censustract]\n",
    "\n",
    "# add preceding 0 to make 4-digit zip codes into 5-digit\n",
    "list_censustract = [censustract.zfill(11) for censustract in list_censustract]"
   ]
  },
  {
   "cell_type": "code",
   "execution_count": 113,
   "id": "20221b05-e7fc-4919-9425-3d5d032415e1",
   "metadata": {
    "tags": []
   },
   "outputs": [
    {
     "name": "stdout",
     "output_type": "stream",
     "text": [
      "Number of common Tract: 53266\n"
     ]
    }
   ],
   "source": [
    "# Convert both lists to sets\n",
    "set_tract = set(list_censustract)\n",
    "set_tract_2 = set(list_censustract_3)\n",
    "\n",
    "# Find the intersection of the two sets\n",
    "common_tract = set_tract.intersection(set_tract_2)\n",
    "\n",
    "# Print the number of common zip codes\n",
    "print(\"Number of common Tract:\", len(common_tract))"
   ]
  },
  {
   "cell_type": "code",
   "execution_count": 114,
   "id": "7aa79dd0-a8ad-4b22-9b17-b52a6907ee6f",
   "metadata": {
    "tags": []
   },
   "outputs": [
    {
     "data": {
      "text/plain": [
       "0.9999624540061576"
      ]
     },
     "execution_count": 114,
     "metadata": {},
     "output_type": "execute_result"
    }
   ],
   "source": [
    "len(common_tract)/len(set_tract)"
   ]
  },
  {
   "cell_type": "code",
   "execution_count": 122,
   "id": "6f4f078d-c47f-4027-92be-74624e0d12b4",
   "metadata": {
    "tags": []
   },
   "outputs": [],
   "source": [
    "not_common = set_tract - common_tract"
   ]
  },
  {
   "cell_type": "code",
   "execution_count": 123,
   "id": "f77d9587-dc89-4180-9661-0d0355de2c2a",
   "metadata": {
    "tags": []
   },
   "outputs": [
    {
     "data": {
      "text/plain": [
       "{'12085381900', '39023000000'}"
      ]
     },
     "execution_count": 123,
     "metadata": {},
     "output_type": "execute_result"
    }
   ],
   "source": [
    "not_common"
   ]
  },
  {
   "cell_type": "code",
   "execution_count": 115,
   "id": "5c9ca6ed-170d-4ea0-bde4-f619f89fa854",
   "metadata": {
    "tags": []
   },
   "outputs": [
    {
     "data": {
      "text/plain": [
       "53266"
      ]
     },
     "execution_count": 115,
     "metadata": {},
     "output_type": "execute_result"
    }
   ],
   "source": [
    "len(common_tract)"
   ]
  },
  {
   "cell_type": "code",
   "execution_count": 101,
   "id": "611f4f77-c62a-4d15-be38-2785423205e6",
   "metadata": {
    "tags": []
   },
   "outputs": [],
   "source": [
    "Tract_list_df2021 = temp[temp['censusTractID'].isin(common_tract)]"
   ]
  },
  {
   "cell_type": "code",
   "execution_count": 102,
   "id": "f0184234-5e45-46c5-b1f8-8bbda94e16c1",
   "metadata": {
    "tags": []
   },
   "outputs": [
    {
     "data": {
      "text/html": [
       "<div>\n",
       "<style scoped>\n",
       "    .dataframe tbody tr th:only-of-type {\n",
       "        vertical-align: middle;\n",
       "    }\n",
       "\n",
       "    .dataframe tbody tr th {\n",
       "        vertical-align: top;\n",
       "    }\n",
       "\n",
       "    .dataframe thead th {\n",
       "        text-align: right;\n",
       "    }\n",
       "</style>\n",
       "<table border=\"1\" class=\"dataframe\">\n",
       "  <thead>\n",
       "    <tr style=\"text-align: right;\">\n",
       "      <th></th>\n",
       "      <th>censusTractID</th>\n",
       "      <th>geometry</th>\n",
       "      <th>year</th>\n",
       "    </tr>\n",
       "  </thead>\n",
       "  <tbody>\n",
       "    <tr>\n",
       "      <th>0</th>\n",
       "      <td>02170000401</td>\n",
       "      <td>POLYGON ((-149.90377 61.64462, -149.90377 61.6...</td>\n",
       "      <td>2021</td>\n",
       "    </tr>\n",
       "    <tr>\n",
       "      <th>1</th>\n",
       "      <td>02170001201</td>\n",
       "      <td>POLYGON ((-149.18369 61.54960, -149.18353 61.5...</td>\n",
       "      <td>2021</td>\n",
       "    </tr>\n",
       "    <tr>\n",
       "      <th>2</th>\n",
       "      <td>02170000706</td>\n",
       "      <td>POLYGON ((-149.64638 61.68147, -149.64545 61.6...</td>\n",
       "      <td>2021</td>\n",
       "    </tr>\n",
       "    <tr>\n",
       "      <th>6</th>\n",
       "      <td>02020000801</td>\n",
       "      <td>POLYGON ((-149.80844 61.22090, -149.80844 61.2...</td>\n",
       "      <td>2021</td>\n",
       "    </tr>\n",
       "    <tr>\n",
       "      <th>7</th>\n",
       "      <td>02020000802</td>\n",
       "      <td>POLYGON ((-149.80841 61.20804, -149.80834 61.2...</td>\n",
       "      <td>2021</td>\n",
       "    </tr>\n",
       "  </tbody>\n",
       "</table>\n",
       "</div>"
      ],
      "text/plain": [
       "  censusTractID                                           geometry  year\n",
       "0   02170000401  POLYGON ((-149.90377 61.64462, -149.90377 61.6...  2021\n",
       "1   02170001201  POLYGON ((-149.18369 61.54960, -149.18353 61.5...  2021\n",
       "2   02170000706  POLYGON ((-149.64638 61.68147, -149.64545 61.6...  2021\n",
       "6   02020000801  POLYGON ((-149.80844 61.22090, -149.80844 61.2...  2021\n",
       "7   02020000802  POLYGON ((-149.80841 61.20804, -149.80834 61.2...  2021"
      ]
     },
     "execution_count": 102,
     "metadata": {},
     "output_type": "execute_result"
    }
   ],
   "source": [
    "Tract_list_df2021.head()"
   ]
  },
  {
   "cell_type": "code",
   "execution_count": 86,
   "id": "9548261f-8cb0-4cfe-9661-f7742cfd72e3",
   "metadata": {
    "tags": []
   },
   "outputs": [],
   "source": [
    "Tract_list_df2012 = temp[temp['censusTractID'].isin(common_tract)]"
   ]
  },
  {
   "cell_type": "code",
   "execution_count": 87,
   "id": "ff4b4f56-c659-497f-865c-de03ec9839f9",
   "metadata": {
    "tags": []
   },
   "outputs": [
    {
     "data": {
      "text/html": [
       "<div>\n",
       "<style scoped>\n",
       "    .dataframe tbody tr th:only-of-type {\n",
       "        vertical-align: middle;\n",
       "    }\n",
       "\n",
       "    .dataframe tbody tr th {\n",
       "        vertical-align: top;\n",
       "    }\n",
       "\n",
       "    .dataframe thead th {\n",
       "        text-align: right;\n",
       "    }\n",
       "</style>\n",
       "<table border=\"1\" class=\"dataframe\">\n",
       "  <thead>\n",
       "    <tr style=\"text-align: right;\">\n",
       "      <th></th>\n",
       "      <th>censusTractID</th>\n",
       "      <th>geometry</th>\n",
       "      <th>year</th>\n",
       "    </tr>\n",
       "  </thead>\n",
       "  <tbody>\n",
       "    <tr>\n",
       "      <th>5</th>\n",
       "      <td>02270000100</td>\n",
       "      <td>POLYGON ((-161.23819 63.01323, -161.23051 63.0...</td>\n",
       "      <td>2012</td>\n",
       "    </tr>\n",
       "    <tr>\n",
       "      <th>10</th>\n",
       "      <td>02185000200</td>\n",
       "      <td>POLYGON ((-142.97194 68.49387, -143.06366 68.4...</td>\n",
       "      <td>2012</td>\n",
       "    </tr>\n",
       "    <tr>\n",
       "      <th>20</th>\n",
       "      <td>02188000200</td>\n",
       "      <td>POLYGON ((-162.10626 66.41120, -162.20245 66.4...</td>\n",
       "      <td>2012</td>\n",
       "    </tr>\n",
       "    <tr>\n",
       "      <th>23</th>\n",
       "      <td>02130000200</td>\n",
       "      <td>POLYGON ((-131.70093 55.36190, -131.69853 55.3...</td>\n",
       "      <td>2012</td>\n",
       "    </tr>\n",
       "    <tr>\n",
       "      <th>24</th>\n",
       "      <td>02130000300</td>\n",
       "      <td>POLYGON ((-131.65115 55.34818, -131.65163 55.3...</td>\n",
       "      <td>2012</td>\n",
       "    </tr>\n",
       "  </tbody>\n",
       "</table>\n",
       "</div>"
      ],
      "text/plain": [
       "   censusTractID                                           geometry  year\n",
       "5    02270000100  POLYGON ((-161.23819 63.01323, -161.23051 63.0...  2012\n",
       "10   02185000200  POLYGON ((-142.97194 68.49387, -143.06366 68.4...  2012\n",
       "20   02188000200  POLYGON ((-162.10626 66.41120, -162.20245 66.4...  2012\n",
       "23   02130000200  POLYGON ((-131.70093 55.36190, -131.69853 55.3...  2012\n",
       "24   02130000300  POLYGON ((-131.65115 55.34818, -131.65163 55.3...  2012"
      ]
     },
     "execution_count": 87,
     "metadata": {},
     "output_type": "execute_result"
    }
   ],
   "source": [
    "Tract_list_df2012.head()"
   ]
  },
  {
   "cell_type": "code",
   "execution_count": 116,
   "id": "12a93c90-0c2e-4fb3-9cbe-ab1fcfe88628",
   "metadata": {
    "tags": []
   },
   "outputs": [],
   "source": [
    "Tract_list_df2010 = temp[temp['censusTractID'].isin(common_tract)]"
   ]
  },
  {
   "cell_type": "code",
   "execution_count": 117,
   "id": "2f9a780d-c2c6-4d5e-8774-0a0b2dc7375b",
   "metadata": {
    "tags": []
   },
   "outputs": [
    {
     "data": {
      "text/html": [
       "<div>\n",
       "<style scoped>\n",
       "    .dataframe tbody tr th:only-of-type {\n",
       "        vertical-align: middle;\n",
       "    }\n",
       "\n",
       "    .dataframe tbody tr th {\n",
       "        vertical-align: top;\n",
       "    }\n",
       "\n",
       "    .dataframe thead th {\n",
       "        text-align: right;\n",
       "    }\n",
       "</style>\n",
       "<table border=\"1\" class=\"dataframe\">\n",
       "  <thead>\n",
       "    <tr style=\"text-align: right;\">\n",
       "      <th></th>\n",
       "      <th>censusTractID</th>\n",
       "      <th>geometry</th>\n",
       "      <th>year</th>\n",
       "    </tr>\n",
       "  </thead>\n",
       "  <tbody>\n",
       "    <tr>\n",
       "      <th>5</th>\n",
       "      <td>02270000100</td>\n",
       "      <td>POLYGON ((-161.23819 63.01323, -161.23051 63.0...</td>\n",
       "      <td>2010</td>\n",
       "    </tr>\n",
       "    <tr>\n",
       "      <th>10</th>\n",
       "      <td>02185000200</td>\n",
       "      <td>POLYGON ((-142.97194 68.49387, -143.06366 68.4...</td>\n",
       "      <td>2010</td>\n",
       "    </tr>\n",
       "    <tr>\n",
       "      <th>20</th>\n",
       "      <td>02188000200</td>\n",
       "      <td>POLYGON ((-162.10626 66.41120, -162.20245 66.4...</td>\n",
       "      <td>2010</td>\n",
       "    </tr>\n",
       "    <tr>\n",
       "      <th>23</th>\n",
       "      <td>02130000200</td>\n",
       "      <td>POLYGON ((-131.70093 55.36190, -131.69853 55.3...</td>\n",
       "      <td>2010</td>\n",
       "    </tr>\n",
       "    <tr>\n",
       "      <th>24</th>\n",
       "      <td>02130000300</td>\n",
       "      <td>POLYGON ((-131.65115 55.34818, -131.65163 55.3...</td>\n",
       "      <td>2010</td>\n",
       "    </tr>\n",
       "  </tbody>\n",
       "</table>\n",
       "</div>"
      ],
      "text/plain": [
       "   censusTractID                                           geometry  year\n",
       "5    02270000100  POLYGON ((-161.23819 63.01323, -161.23051 63.0...  2010\n",
       "10   02185000200  POLYGON ((-142.97194 68.49387, -143.06366 68.4...  2010\n",
       "20   02188000200  POLYGON ((-162.10626 66.41120, -162.20245 66.4...  2010\n",
       "23   02130000200  POLYGON ((-131.70093 55.36190, -131.69853 55.3...  2010\n",
       "24   02130000300  POLYGON ((-131.65115 55.34818, -131.65163 55.3...  2010"
      ]
     },
     "execution_count": 117,
     "metadata": {},
     "output_type": "execute_result"
    }
   ],
   "source": [
    "Tract_list_df2010.head()"
   ]
  },
  {
   "cell_type": "code",
   "execution_count": 54,
   "id": "750de11b-66d5-401a-a4c5-fa44a079a218",
   "metadata": {
    "tags": []
   },
   "outputs": [],
   "source": [
    "Tract_list_df2000 = temp[temp['censusTractID'].isin(common_tract)]"
   ]
  },
  {
   "cell_type": "code",
   "execution_count": 55,
   "id": "824978ea-fbb1-45c1-81ab-fae56f803f29",
   "metadata": {
    "tags": []
   },
   "outputs": [
    {
     "data": {
      "text/html": [
       "<div>\n",
       "<style scoped>\n",
       "    .dataframe tbody tr th:only-of-type {\n",
       "        vertical-align: middle;\n",
       "    }\n",
       "\n",
       "    .dataframe tbody tr th {\n",
       "        vertical-align: top;\n",
       "    }\n",
       "\n",
       "    .dataframe thead th {\n",
       "        text-align: right;\n",
       "    }\n",
       "</style>\n",
       "<table border=\"1\" class=\"dataframe\">\n",
       "  <thead>\n",
       "    <tr style=\"text-align: right;\">\n",
       "      <th></th>\n",
       "      <th>censusTractID</th>\n",
       "      <th>geometry</th>\n",
       "      <th>year</th>\n",
       "    </tr>\n",
       "  </thead>\n",
       "  <tbody>\n",
       "    <tr>\n",
       "      <th>6</th>\n",
       "      <td>02270000100</td>\n",
       "      <td>POLYGON ((-161.23819 63.01323, -161.23051 63.0...</td>\n",
       "      <td>2000</td>\n",
       "    </tr>\n",
       "    <tr>\n",
       "      <th>12</th>\n",
       "      <td>02185000200</td>\n",
       "      <td>POLYGON ((-142.97194 68.49387, -143.06366 68.4...</td>\n",
       "      <td>2000</td>\n",
       "    </tr>\n",
       "    <tr>\n",
       "      <th>17</th>\n",
       "      <td>02220000100</td>\n",
       "      <td>POLYGON ((-134.66630 56.16761, -134.66650 56.1...</td>\n",
       "      <td>2000</td>\n",
       "    </tr>\n",
       "    <tr>\n",
       "      <th>23</th>\n",
       "      <td>02188000200</td>\n",
       "      <td>POLYGON ((-162.10626 66.41120, -162.20245 66.4...</td>\n",
       "      <td>2000</td>\n",
       "    </tr>\n",
       "    <tr>\n",
       "      <th>26</th>\n",
       "      <td>02130000200</td>\n",
       "      <td>POLYGON ((-131.70093 55.36190, -131.69853 55.3...</td>\n",
       "      <td>2000</td>\n",
       "    </tr>\n",
       "  </tbody>\n",
       "</table>\n",
       "</div>"
      ],
      "text/plain": [
       "   censusTractID                                           geometry  year\n",
       "6    02270000100  POLYGON ((-161.23819 63.01323, -161.23051 63.0...  2000\n",
       "12   02185000200  POLYGON ((-142.97194 68.49387, -143.06366 68.4...  2000\n",
       "17   02220000100  POLYGON ((-134.66630 56.16761, -134.66650 56.1...  2000\n",
       "23   02188000200  POLYGON ((-162.10626 66.41120, -162.20245 66.4...  2000\n",
       "26   02130000200  POLYGON ((-131.70093 55.36190, -131.69853 55.3...  2000"
      ]
     },
     "execution_count": 55,
     "metadata": {},
     "output_type": "execute_result"
    }
   ],
   "source": [
    "Tract_list_df2000.head()"
   ]
  },
  {
   "cell_type": "code",
   "execution_count": 127,
   "id": "5532ff55-608f-4ec7-b233-21418b1c1eae",
   "metadata": {
    "tags": []
   },
   "outputs": [],
   "source": [
    "Tract_df = pd.concat([Tract_list_df2021, Tract_list_df2012, Tract_list_df2010, Tract_list_df2000], ignore_index=True)"
   ]
  },
  {
   "cell_type": "code",
   "execution_count": 128,
   "id": "176cf1ef-f943-468e-b648-1ee5b703fed5",
   "metadata": {
    "tags": []
   },
   "outputs": [
    {
     "data": {
      "text/plain": [
       "36005009800    4\n",
       "35049001102    4\n",
       "35001003731    4\n",
       "35001001400    4\n",
       "35039000500    4\n",
       "              ..\n",
       "48339693202    1\n",
       "12131950609    1\n",
       "48339692007    1\n",
       "22103040805    1\n",
       "54089950600    1\n",
       "Name: censusTractID, Length: 53266, dtype: int64"
      ]
     },
     "execution_count": 128,
     "metadata": {},
     "output_type": "execute_result"
    }
   ],
   "source": [
    "Tract_df['censusTractID'].value_counts()"
   ]
  },
  {
   "cell_type": "code",
   "execution_count": 229,
   "id": "367e4cb8-ac6d-4b16-bff4-ab848c517a0a",
   "metadata": {
    "tags": []
   },
   "outputs": [
    {
     "name": "stderr",
     "output_type": "stream",
     "text": [
      "C:\\Users\\Asus\\anaconda3\\lib\\site-packages\\geopandas\\geodataframe.py:1537: UserWarning: Geometry column does not contain geometry.\n",
      "  warnings.warn(\"Geometry column does not contain geometry.\")\n"
     ]
    }
   ],
   "source": [
    "Tract_df['geometry'] = Tract_df['geometry'].apply(lambda geom: geom.wkt)\n",
    "\n",
    "Tract_df.to_parquet(f\"C:/Users/Asus/Box/Flood Damage PredictionProject/Dataset/Tract_geometry.parquet.gzip\", compression='gzip')"
   ]
  },
  {
   "cell_type": "markdown",
   "id": "6f099aa1-0123-4474-a2d7-83b8f0ccfcea",
   "metadata": {},
   "source": [
    "## County"
   ]
  },
  {
   "cell_type": "code",
   "execution_count": 17,
   "id": "3b476734-9709-4c02-b75d-56d5887764f7",
   "metadata": {
    "tags": []
   },
   "outputs": [],
   "source": [
    "years = [1990, 2000, 2010, 2012, 2021]\n",
    "\n",
    "yearly_data = {}\n",
    "\n",
    "for i in years:\n",
    "    if i == 1990:\n",
    "        yearly_data[i] = pygris.counties(year=i, cb = True)\n",
    "    else:\n",
    "        yearly_data[i] = pygris.counties(year=i)"
   ]
  },
  {
   "cell_type": "code",
   "execution_count": 204,
   "id": "5f217ebb-0d9f-419d-98ff-8725356a91dc",
   "metadata": {
    "tags": []
   },
   "outputs": [],
   "source": [
    "temp = pd.DataFrame(yearly_data[2021])"
   ]
  },
  {
   "cell_type": "code",
   "execution_count": 205,
   "id": "70d3ef55-16fa-498a-baab-19295f7dc367",
   "metadata": {
    "tags": []
   },
   "outputs": [
    {
     "data": {
      "text/plain": [
       "3234"
      ]
     },
     "execution_count": 205,
     "metadata": {},
     "output_type": "execute_result"
    }
   ],
   "source": [
    "temp.shape[0]"
   ]
  },
  {
   "cell_type": "code",
   "execution_count": 206,
   "id": "dfb293ce-ee98-4ae7-8b16-77c96ed5756a",
   "metadata": {
    "tags": []
   },
   "outputs": [
    {
     "data": {
      "text/html": [
       "<div>\n",
       "<style scoped>\n",
       "    .dataframe tbody tr th:only-of-type {\n",
       "        vertical-align: middle;\n",
       "    }\n",
       "\n",
       "    .dataframe tbody tr th {\n",
       "        vertical-align: top;\n",
       "    }\n",
       "\n",
       "    .dataframe thead th {\n",
       "        text-align: right;\n",
       "    }\n",
       "</style>\n",
       "<table border=\"1\" class=\"dataframe\">\n",
       "  <thead>\n",
       "    <tr style=\"text-align: right;\">\n",
       "      <th></th>\n",
       "      <th>STATEFP</th>\n",
       "      <th>COUNTYFP</th>\n",
       "      <th>COUNTYNS</th>\n",
       "      <th>GEOID</th>\n",
       "      <th>NAME</th>\n",
       "      <th>NAMELSAD</th>\n",
       "      <th>LSAD</th>\n",
       "      <th>CLASSFP</th>\n",
       "      <th>MTFCC</th>\n",
       "      <th>CSAFP</th>\n",
       "      <th>CBSAFP</th>\n",
       "      <th>METDIVFP</th>\n",
       "      <th>FUNCSTAT</th>\n",
       "      <th>ALAND</th>\n",
       "      <th>AWATER</th>\n",
       "      <th>INTPTLAT</th>\n",
       "      <th>INTPTLON</th>\n",
       "      <th>geometry</th>\n",
       "    </tr>\n",
       "  </thead>\n",
       "  <tbody>\n",
       "    <tr>\n",
       "      <th>0</th>\n",
       "      <td>31</td>\n",
       "      <td>039</td>\n",
       "      <td>00835841</td>\n",
       "      <td>31039</td>\n",
       "      <td>Cuming</td>\n",
       "      <td>Cuming County</td>\n",
       "      <td>06</td>\n",
       "      <td>H1</td>\n",
       "      <td>G4020</td>\n",
       "      <td>NaN</td>\n",
       "      <td>NaN</td>\n",
       "      <td>NaN</td>\n",
       "      <td>A</td>\n",
       "      <td>1477645345</td>\n",
       "      <td>10690204</td>\n",
       "      <td>+41.9158651</td>\n",
       "      <td>-096.7885168</td>\n",
       "      <td>POLYGON ((-96.55515 41.91587, -96.55515 41.914...</td>\n",
       "    </tr>\n",
       "    <tr>\n",
       "      <th>1</th>\n",
       "      <td>53</td>\n",
       "      <td>069</td>\n",
       "      <td>01513275</td>\n",
       "      <td>53069</td>\n",
       "      <td>Wahkiakum</td>\n",
       "      <td>Wahkiakum County</td>\n",
       "      <td>06</td>\n",
       "      <td>H1</td>\n",
       "      <td>G4020</td>\n",
       "      <td>NaN</td>\n",
       "      <td>NaN</td>\n",
       "      <td>NaN</td>\n",
       "      <td>A</td>\n",
       "      <td>680976231</td>\n",
       "      <td>61568965</td>\n",
       "      <td>+46.2946377</td>\n",
       "      <td>-123.4244583</td>\n",
       "      <td>POLYGON ((-123.49077 46.38358, -123.48813 46.3...</td>\n",
       "    </tr>\n",
       "    <tr>\n",
       "      <th>2</th>\n",
       "      <td>35</td>\n",
       "      <td>011</td>\n",
       "      <td>00933054</td>\n",
       "      <td>35011</td>\n",
       "      <td>De Baca</td>\n",
       "      <td>De Baca County</td>\n",
       "      <td>06</td>\n",
       "      <td>H1</td>\n",
       "      <td>G4020</td>\n",
       "      <td>NaN</td>\n",
       "      <td>NaN</td>\n",
       "      <td>NaN</td>\n",
       "      <td>A</td>\n",
       "      <td>6016818946</td>\n",
       "      <td>29090018</td>\n",
       "      <td>+34.3592729</td>\n",
       "      <td>-104.3686961</td>\n",
       "      <td>POLYGON ((-104.38368 34.69213, -104.37658 34.6...</td>\n",
       "    </tr>\n",
       "    <tr>\n",
       "      <th>3</th>\n",
       "      <td>31</td>\n",
       "      <td>109</td>\n",
       "      <td>00835876</td>\n",
       "      <td>31109</td>\n",
       "      <td>Lancaster</td>\n",
       "      <td>Lancaster County</td>\n",
       "      <td>06</td>\n",
       "      <td>H1</td>\n",
       "      <td>G4020</td>\n",
       "      <td>339</td>\n",
       "      <td>30700</td>\n",
       "      <td>NaN</td>\n",
       "      <td>A</td>\n",
       "      <td>2169272970</td>\n",
       "      <td>22847034</td>\n",
       "      <td>+40.7835474</td>\n",
       "      <td>-096.6886584</td>\n",
       "      <td>POLYGON ((-96.68140 41.04566, -96.68139 41.045...</td>\n",
       "    </tr>\n",
       "    <tr>\n",
       "      <th>4</th>\n",
       "      <td>31</td>\n",
       "      <td>129</td>\n",
       "      <td>00835886</td>\n",
       "      <td>31129</td>\n",
       "      <td>Nuckolls</td>\n",
       "      <td>Nuckolls County</td>\n",
       "      <td>06</td>\n",
       "      <td>H1</td>\n",
       "      <td>G4020</td>\n",
       "      <td>NaN</td>\n",
       "      <td>NaN</td>\n",
       "      <td>NaN</td>\n",
       "      <td>A</td>\n",
       "      <td>1489645185</td>\n",
       "      <td>1718484</td>\n",
       "      <td>+40.1764918</td>\n",
       "      <td>-098.0468422</td>\n",
       "      <td>POLYGON ((-98.04802 40.35066, -98.04674 40.350...</td>\n",
       "    </tr>\n",
       "  </tbody>\n",
       "</table>\n",
       "</div>"
      ],
      "text/plain": [
       "  STATEFP COUNTYFP  COUNTYNS  GEOID       NAME          NAMELSAD LSAD CLASSFP  \\\n",
       "0      31      039  00835841  31039     Cuming     Cuming County   06      H1   \n",
       "1      53      069  01513275  53069  Wahkiakum  Wahkiakum County   06      H1   \n",
       "2      35      011  00933054  35011    De Baca    De Baca County   06      H1   \n",
       "3      31      109  00835876  31109  Lancaster  Lancaster County   06      H1   \n",
       "4      31      129  00835886  31129   Nuckolls   Nuckolls County   06      H1   \n",
       "\n",
       "   MTFCC CSAFP CBSAFP METDIVFP FUNCSTAT       ALAND    AWATER     INTPTLAT  \\\n",
       "0  G4020   NaN    NaN      NaN        A  1477645345  10690204  +41.9158651   \n",
       "1  G4020   NaN    NaN      NaN        A   680976231  61568965  +46.2946377   \n",
       "2  G4020   NaN    NaN      NaN        A  6016818946  29090018  +34.3592729   \n",
       "3  G4020   339  30700      NaN        A  2169272970  22847034  +40.7835474   \n",
       "4  G4020   NaN    NaN      NaN        A  1489645185   1718484  +40.1764918   \n",
       "\n",
       "       INTPTLON                                           geometry  \n",
       "0  -096.7885168  POLYGON ((-96.55515 41.91587, -96.55515 41.914...  \n",
       "1  -123.4244583  POLYGON ((-123.49077 46.38358, -123.48813 46.3...  \n",
       "2  -104.3686961  POLYGON ((-104.38368 34.69213, -104.37658 34.6...  \n",
       "3  -096.6886584  POLYGON ((-96.68140 41.04566, -96.68139 41.045...  \n",
       "4  -098.0468422  POLYGON ((-98.04802 40.35066, -98.04674 40.350...  "
      ]
     },
     "execution_count": 206,
     "metadata": {},
     "output_type": "execute_result"
    }
   ],
   "source": [
    "temp.head()"
   ]
  },
  {
   "cell_type": "code",
   "execution_count": 207,
   "id": "458f5b66-b0a8-451b-8a15-8fae13ea6473",
   "metadata": {
    "tags": []
   },
   "outputs": [],
   "source": [
    "temp = temp[['GEOID', 'geometry']]\n",
    "temp['year'] = 2021\n",
    "\n",
    "temp = temp.rename(columns={\"GEOID\": \"CountyID\"})"
   ]
  },
  {
   "cell_type": "code",
   "execution_count": 208,
   "id": "ff9e8e3a-ea19-4b80-aa82-d7c34457b4de",
   "metadata": {
    "tags": []
   },
   "outputs": [],
   "source": [
    "list_county_2 = temp['CountyID'].dropna().drop_duplicates().astype(str).tolist()\n",
    "\n",
    "# add preceding 0 to make 4-digit zip codes into 5-digit\n",
    "list_county_2 = [county.zfill(5) for county in list_county_2]"
   ]
  },
  {
   "cell_type": "code",
   "execution_count": 209,
   "id": "5833ac25-e3ca-4a95-8651-1cde14e3c857",
   "metadata": {
    "tags": []
   },
   "outputs": [
    {
     "data": {
      "text/plain": [
       "3234"
      ]
     },
     "execution_count": 209,
     "metadata": {},
     "output_type": "execute_result"
    }
   ],
   "source": [
    "len(list_county_2)"
   ]
  },
  {
   "cell_type": "code",
   "execution_count": 210,
   "id": "19979991-6582-4d00-aa50-b06b532ddcfc",
   "metadata": {
    "tags": []
   },
   "outputs": [],
   "source": [
    "list_county_3 = list_county_3 + list_county_2"
   ]
  },
  {
   "cell_type": "code",
   "execution_count": 211,
   "id": "5ccb9d38-08a7-4241-b209-9ef24d864b2c",
   "metadata": {
    "tags": []
   },
   "outputs": [
    {
     "data": {
      "text/plain": [
       "6476"
      ]
     },
     "execution_count": 211,
     "metadata": {},
     "output_type": "execute_result"
    }
   ],
   "source": [
    "len(list_county_3)"
   ]
  },
  {
   "cell_type": "code",
   "execution_count": 212,
   "id": "35421880-fa71-4662-8aaa-655162264720",
   "metadata": {
    "tags": []
   },
   "outputs": [],
   "source": [
    "list_county_3 = list(set(list_county_3))"
   ]
  },
  {
   "cell_type": "code",
   "execution_count": 213,
   "id": "05cc32b3-a88c-4296-a778-85bec662cea4",
   "metadata": {
    "tags": []
   },
   "outputs": [],
   "source": [
    "#CensusBG list for NC\n",
    "\n",
    "list_county = df['countyCode'].dropna().drop_duplicates().tolist()\n",
    "\n",
    "list_county = [str(int(float(i))) for i in list_county]\n",
    "\n",
    "# add preceding 0 to make 4-digit zip codes into 5-digit\n",
    "list_county = [county.zfill(5) for county in list_county]"
   ]
  },
  {
   "cell_type": "code",
   "execution_count": 214,
   "id": "a6aca40d-0741-40ae-af6b-224e9e8e07aa",
   "metadata": {
    "tags": []
   },
   "outputs": [
    {
     "name": "stdout",
     "output_type": "stream",
     "text": [
      "Number of common Tract: 2924\n"
     ]
    }
   ],
   "source": [
    "# Convert both lists to sets\n",
    "set_county = set(list_county)\n",
    "set_county_2 = set(list_county_3)\n",
    "\n",
    "# Find the intersection of the two sets\n",
    "common_county = set_county.intersection(set_county_2)\n",
    "\n",
    "# Print the number of common zip codes\n",
    "print(\"Number of common Tract:\", len(common_county))"
   ]
  },
  {
   "cell_type": "code",
   "execution_count": 215,
   "id": "8413f846-924c-4767-a208-cfcdad3d4000",
   "metadata": {
    "tags": []
   },
   "outputs": [
    {
     "data": {
      "text/plain": [
       "1.0"
      ]
     },
     "execution_count": 215,
     "metadata": {},
     "output_type": "execute_result"
    }
   ],
   "source": [
    "len(common_county)/len(set_county)"
   ]
  },
  {
   "cell_type": "code",
   "execution_count": 216,
   "id": "b21f459f-591e-4a5e-863f-a1e4e31a9ebb",
   "metadata": {
    "tags": []
   },
   "outputs": [
    {
     "data": {
      "text/plain": [
       "2924"
      ]
     },
     "execution_count": 216,
     "metadata": {},
     "output_type": "execute_result"
    }
   ],
   "source": [
    "len(common_county)"
   ]
  },
  {
   "cell_type": "code",
   "execution_count": 217,
   "id": "40327c7b-ac0a-4f4d-b356-c1f2dce6a900",
   "metadata": {
    "tags": []
   },
   "outputs": [],
   "source": [
    "County_list_df2021 = temp[temp['CountyID'].isin(common_county)]"
   ]
  },
  {
   "cell_type": "code",
   "execution_count": 218,
   "id": "30657824-854c-4178-ae3c-0903fdf54a2e",
   "metadata": {
    "tags": []
   },
   "outputs": [
    {
     "data": {
      "text/html": [
       "<div>\n",
       "<style scoped>\n",
       "    .dataframe tbody tr th:only-of-type {\n",
       "        vertical-align: middle;\n",
       "    }\n",
       "\n",
       "    .dataframe tbody tr th {\n",
       "        vertical-align: top;\n",
       "    }\n",
       "\n",
       "    .dataframe thead th {\n",
       "        text-align: right;\n",
       "    }\n",
       "</style>\n",
       "<table border=\"1\" class=\"dataframe\">\n",
       "  <thead>\n",
       "    <tr style=\"text-align: right;\">\n",
       "      <th></th>\n",
       "      <th>CountyID</th>\n",
       "      <th>geometry</th>\n",
       "      <th>year</th>\n",
       "    </tr>\n",
       "  </thead>\n",
       "  <tbody>\n",
       "    <tr>\n",
       "      <th>0</th>\n",
       "      <td>31039</td>\n",
       "      <td>POLYGON ((-96.55515 41.91587, -96.55515 41.914...</td>\n",
       "      <td>2021</td>\n",
       "    </tr>\n",
       "    <tr>\n",
       "      <th>1</th>\n",
       "      <td>53069</td>\n",
       "      <td>POLYGON ((-123.49077 46.38358, -123.48813 46.3...</td>\n",
       "      <td>2021</td>\n",
       "    </tr>\n",
       "    <tr>\n",
       "      <th>3</th>\n",
       "      <td>31109</td>\n",
       "      <td>POLYGON ((-96.68140 41.04566, -96.68139 41.045...</td>\n",
       "      <td>2021</td>\n",
       "    </tr>\n",
       "    <tr>\n",
       "      <th>4</th>\n",
       "      <td>31129</td>\n",
       "      <td>POLYGON ((-98.04802 40.35066, -98.04674 40.350...</td>\n",
       "      <td>2021</td>\n",
       "    </tr>\n",
       "    <tr>\n",
       "      <th>5</th>\n",
       "      <td>72085</td>\n",
       "      <td>POLYGON ((-65.85703 18.16468, -65.85733 18.164...</td>\n",
       "      <td>2021</td>\n",
       "    </tr>\n",
       "  </tbody>\n",
       "</table>\n",
       "</div>"
      ],
      "text/plain": [
       "  CountyID                                           geometry  year\n",
       "0    31039  POLYGON ((-96.55515 41.91587, -96.55515 41.914...  2021\n",
       "1    53069  POLYGON ((-123.49077 46.38358, -123.48813 46.3...  2021\n",
       "3    31109  POLYGON ((-96.68140 41.04566, -96.68139 41.045...  2021\n",
       "4    31129  POLYGON ((-98.04802 40.35066, -98.04674 40.350...  2021\n",
       "5    72085  POLYGON ((-65.85703 18.16468, -65.85733 18.164...  2021"
      ]
     },
     "execution_count": 218,
     "metadata": {},
     "output_type": "execute_result"
    }
   ],
   "source": [
    "County_list_df2021.head()"
   ]
  },
  {
   "cell_type": "code",
   "execution_count": 202,
   "id": "be486811-45e3-4617-af50-d145ecf06d8d",
   "metadata": {
    "tags": []
   },
   "outputs": [],
   "source": [
    "County_list_df2012 = temp[temp['CountyID'].isin(common_county)]"
   ]
  },
  {
   "cell_type": "code",
   "execution_count": 203,
   "id": "7018cf35-a7b8-4723-bbf5-5c54332d5231",
   "metadata": {
    "tags": []
   },
   "outputs": [
    {
     "data": {
      "text/html": [
       "<div>\n",
       "<style scoped>\n",
       "    .dataframe tbody tr th:only-of-type {\n",
       "        vertical-align: middle;\n",
       "    }\n",
       "\n",
       "    .dataframe tbody tr th {\n",
       "        vertical-align: top;\n",
       "    }\n",
       "\n",
       "    .dataframe thead th {\n",
       "        text-align: right;\n",
       "    }\n",
       "</style>\n",
       "<table border=\"1\" class=\"dataframe\">\n",
       "  <thead>\n",
       "    <tr style=\"text-align: right;\">\n",
       "      <th></th>\n",
       "      <th>CountyID</th>\n",
       "      <th>geometry</th>\n",
       "      <th>year</th>\n",
       "    </tr>\n",
       "  </thead>\n",
       "  <tbody>\n",
       "    <tr>\n",
       "      <th>0</th>\n",
       "      <td>15001</td>\n",
       "      <td>POLYGON ((-155.96346 19.08207, -155.96649 19.0...</td>\n",
       "      <td>2012</td>\n",
       "    </tr>\n",
       "    <tr>\n",
       "      <th>1</th>\n",
       "      <td>05027</td>\n",
       "      <td>POLYGON ((-93.49052 33.01846, -93.49052 33.018...</td>\n",
       "      <td>2012</td>\n",
       "    </tr>\n",
       "    <tr>\n",
       "      <th>2</th>\n",
       "      <td>38011</td>\n",
       "      <td>POLYGON ((-104.04579 46.11943, -104.04579 46.1...</td>\n",
       "      <td>2012</td>\n",
       "    </tr>\n",
       "    <tr>\n",
       "      <th>3</th>\n",
       "      <td>36031</td>\n",
       "      <td>POLYGON ((-73.90969 44.42970, -73.89728 44.430...</td>\n",
       "      <td>2012</td>\n",
       "    </tr>\n",
       "    <tr>\n",
       "      <th>4</th>\n",
       "      <td>35007</td>\n",
       "      <td>POLYGON ((-104.88900 36.26114, -104.90147 36.2...</td>\n",
       "      <td>2012</td>\n",
       "    </tr>\n",
       "  </tbody>\n",
       "</table>\n",
       "</div>"
      ],
      "text/plain": [
       "  CountyID                                           geometry  year\n",
       "0    15001  POLYGON ((-155.96346 19.08207, -155.96649 19.0...  2012\n",
       "1    05027  POLYGON ((-93.49052 33.01846, -93.49052 33.018...  2012\n",
       "2    38011  POLYGON ((-104.04579 46.11943, -104.04579 46.1...  2012\n",
       "3    36031  POLYGON ((-73.90969 44.42970, -73.89728 44.430...  2012\n",
       "4    35007  POLYGON ((-104.88900 36.26114, -104.90147 36.2...  2012"
      ]
     },
     "execution_count": 203,
     "metadata": {},
     "output_type": "execute_result"
    }
   ],
   "source": [
    "County_list_df2012.head()"
   ]
  },
  {
   "cell_type": "code",
   "execution_count": 186,
   "id": "d6ff74a2-f941-416f-bce8-e74a852b4c0c",
   "metadata": {
    "tags": []
   },
   "outputs": [],
   "source": [
    "County_list_df2010 = temp[temp['CountyID'].isin(common_county)]"
   ]
  },
  {
   "cell_type": "code",
   "execution_count": 187,
   "id": "d0078656-5ba3-4725-9fc7-5465dec8059a",
   "metadata": {
    "tags": []
   },
   "outputs": [
    {
     "data": {
      "text/html": [
       "<div>\n",
       "<style scoped>\n",
       "    .dataframe tbody tr th:only-of-type {\n",
       "        vertical-align: middle;\n",
       "    }\n",
       "\n",
       "    .dataframe tbody tr th {\n",
       "        vertical-align: top;\n",
       "    }\n",
       "\n",
       "    .dataframe thead th {\n",
       "        text-align: right;\n",
       "    }\n",
       "</style>\n",
       "<table border=\"1\" class=\"dataframe\">\n",
       "  <thead>\n",
       "    <tr style=\"text-align: right;\">\n",
       "      <th></th>\n",
       "      <th>CountyID</th>\n",
       "      <th>geometry</th>\n",
       "      <th>year</th>\n",
       "    </tr>\n",
       "  </thead>\n",
       "  <tbody>\n",
       "    <tr>\n",
       "      <th>2</th>\n",
       "      <td>28107</td>\n",
       "      <td>POLYGON ((-90.13476 34.22603, -90.13476 34.226...</td>\n",
       "      <td>2010</td>\n",
       "    </tr>\n",
       "    <tr>\n",
       "      <th>3</th>\n",
       "      <td>28101</td>\n",
       "      <td>POLYGON ((-89.13497 32.57697, -89.13466 32.576...</td>\n",
       "      <td>2010</td>\n",
       "    </tr>\n",
       "    <tr>\n",
       "      <th>4</th>\n",
       "      <td>28027</td>\n",
       "      <td>POLYGON ((-90.59063 33.98690, -90.59473 33.986...</td>\n",
       "      <td>2010</td>\n",
       "    </tr>\n",
       "    <tr>\n",
       "      <th>5</th>\n",
       "      <td>22065</td>\n",
       "      <td>MULTIPOLYGON (((-91.03511 32.12035, -91.03621 ...</td>\n",
       "      <td>2010</td>\n",
       "    </tr>\n",
       "    <tr>\n",
       "      <th>6</th>\n",
       "      <td>51540</td>\n",
       "      <td>POLYGON ((-78.47071 38.04872, -78.47033 38.048...</td>\n",
       "      <td>2010</td>\n",
       "    </tr>\n",
       "  </tbody>\n",
       "</table>\n",
       "</div>"
      ],
      "text/plain": [
       "  CountyID                                           geometry  year\n",
       "2    28107  POLYGON ((-90.13476 34.22603, -90.13476 34.226...  2010\n",
       "3    28101  POLYGON ((-89.13497 32.57697, -89.13466 32.576...  2010\n",
       "4    28027  POLYGON ((-90.59063 33.98690, -90.59473 33.986...  2010\n",
       "5    22065  MULTIPOLYGON (((-91.03511 32.12035, -91.03621 ...  2010\n",
       "6    51540  POLYGON ((-78.47071 38.04872, -78.47033 38.048...  2010"
      ]
     },
     "execution_count": 187,
     "metadata": {},
     "output_type": "execute_result"
    }
   ],
   "source": [
    "County_list_df2010.head()"
   ]
  },
  {
   "cell_type": "code",
   "execution_count": 171,
   "id": "19dccc13-5600-434b-86c1-44905400fd15",
   "metadata": {
    "tags": []
   },
   "outputs": [],
   "source": [
    "County_list_df2000 = temp[temp['CountyID'].isin(common_county)]"
   ]
  },
  {
   "cell_type": "code",
   "execution_count": 172,
   "id": "0a7159ae-0f5f-40f9-a7ed-a4e729a80a41",
   "metadata": {
    "tags": []
   },
   "outputs": [
    {
     "data": {
      "text/html": [
       "<div>\n",
       "<style scoped>\n",
       "    .dataframe tbody tr th:only-of-type {\n",
       "        vertical-align: middle;\n",
       "    }\n",
       "\n",
       "    .dataframe tbody tr th {\n",
       "        vertical-align: top;\n",
       "    }\n",
       "\n",
       "    .dataframe thead th {\n",
       "        text-align: right;\n",
       "    }\n",
       "</style>\n",
       "<table border=\"1\" class=\"dataframe\">\n",
       "  <thead>\n",
       "    <tr style=\"text-align: right;\">\n",
       "      <th></th>\n",
       "      <th>CountyID</th>\n",
       "      <th>geometry</th>\n",
       "      <th>year</th>\n",
       "    </tr>\n",
       "  </thead>\n",
       "  <tbody>\n",
       "    <tr>\n",
       "      <th>2</th>\n",
       "      <td>28101</td>\n",
       "      <td>POLYGON ((-89.13497 32.57697, -89.13466 32.576...</td>\n",
       "      <td>2000</td>\n",
       "    </tr>\n",
       "    <tr>\n",
       "      <th>3</th>\n",
       "      <td>28027</td>\n",
       "      <td>POLYGON ((-90.59063 33.98690, -90.59473 33.986...</td>\n",
       "      <td>2000</td>\n",
       "    </tr>\n",
       "    <tr>\n",
       "      <th>4</th>\n",
       "      <td>22065</td>\n",
       "      <td>MULTIPOLYGON (((-91.03511 32.12035, -91.03621 ...</td>\n",
       "      <td>2000</td>\n",
       "    </tr>\n",
       "    <tr>\n",
       "      <th>5</th>\n",
       "      <td>51003</td>\n",
       "      <td>POLYGON ((-78.76043 37.91433, -78.76247 37.917...</td>\n",
       "      <td>2000</td>\n",
       "    </tr>\n",
       "    <tr>\n",
       "      <th>6</th>\n",
       "      <td>51540</td>\n",
       "      <td>POLYGON ((-78.45448 38.05383, -78.45428 38.053...</td>\n",
       "      <td>2000</td>\n",
       "    </tr>\n",
       "  </tbody>\n",
       "</table>\n",
       "</div>"
      ],
      "text/plain": [
       "  CountyID                                           geometry  year\n",
       "2    28101  POLYGON ((-89.13497 32.57697, -89.13466 32.576...  2000\n",
       "3    28027  POLYGON ((-90.59063 33.98690, -90.59473 33.986...  2000\n",
       "4    22065  MULTIPOLYGON (((-91.03511 32.12035, -91.03621 ...  2000\n",
       "5    51003  POLYGON ((-78.76043 37.91433, -78.76247 37.917...  2000\n",
       "6    51540  POLYGON ((-78.45448 38.05383, -78.45428 38.053...  2000"
      ]
     },
     "execution_count": 172,
     "metadata": {},
     "output_type": "execute_result"
    }
   ],
   "source": [
    "County_list_df2000.head()"
   ]
  },
  {
   "cell_type": "code",
   "execution_count": 156,
   "id": "83240db2-a75a-4237-aebb-29be609129e0",
   "metadata": {
    "tags": []
   },
   "outputs": [],
   "source": [
    "County_list_df1990 = temp[temp['CountyID'].isin(common_county)]"
   ]
  },
  {
   "cell_type": "code",
   "execution_count": 157,
   "id": "4fad0f41-6afd-48be-b51b-eb3ff07fa91e",
   "metadata": {
    "tags": []
   },
   "outputs": [
    {
     "data": {
      "text/html": [
       "<div>\n",
       "<style scoped>\n",
       "    .dataframe tbody tr th:only-of-type {\n",
       "        vertical-align: middle;\n",
       "    }\n",
       "\n",
       "    .dataframe tbody tr th {\n",
       "        vertical-align: top;\n",
       "    }\n",
       "\n",
       "    .dataframe thead th {\n",
       "        text-align: right;\n",
       "    }\n",
       "</style>\n",
       "<table border=\"1\" class=\"dataframe\">\n",
       "  <thead>\n",
       "    <tr style=\"text-align: right;\">\n",
       "      <th></th>\n",
       "      <th>CountyID</th>\n",
       "      <th>geometry</th>\n",
       "      <th>year</th>\n",
       "    </tr>\n",
       "  </thead>\n",
       "  <tbody>\n",
       "    <tr>\n",
       "      <th>0</th>\n",
       "      <td>02185</td>\n",
       "      <td>POLYGON ((-141.06357 69.55614, -141.00000 69.4...</td>\n",
       "      <td>1990</td>\n",
       "    </tr>\n",
       "    <tr>\n",
       "      <th>1</th>\n",
       "      <td>02290</td>\n",
       "      <td>POLYGON ((-141.00000 68.42812, -141.00000 68.3...</td>\n",
       "      <td>1990</td>\n",
       "    </tr>\n",
       "    <tr>\n",
       "      <th>2</th>\n",
       "      <td>02188</td>\n",
       "      <td>POLYGON ((-155.30855 68.00710, -155.31758 67.8...</td>\n",
       "      <td>1990</td>\n",
       "    </tr>\n",
       "    <tr>\n",
       "      <th>3</th>\n",
       "      <td>02180</td>\n",
       "      <td>POLYGON ((-164.39871 66.58172, -164.38963 66.5...</td>\n",
       "      <td>1990</td>\n",
       "    </tr>\n",
       "    <tr>\n",
       "      <th>4</th>\n",
       "      <td>02180</td>\n",
       "      <td>POLYGON ((-166.13272 66.21559, -166.16594 66.2...</td>\n",
       "      <td>1990</td>\n",
       "    </tr>\n",
       "  </tbody>\n",
       "</table>\n",
       "</div>"
      ],
      "text/plain": [
       "  CountyID                                           geometry  year\n",
       "0    02185  POLYGON ((-141.06357 69.55614, -141.00000 69.4...  1990\n",
       "1    02290  POLYGON ((-141.00000 68.42812, -141.00000 68.3...  1990\n",
       "2    02188  POLYGON ((-155.30855 68.00710, -155.31758 67.8...  1990\n",
       "3    02180  POLYGON ((-164.39871 66.58172, -164.38963 66.5...  1990\n",
       "4    02180  POLYGON ((-166.13272 66.21559, -166.16594 66.2...  1990"
      ]
     },
     "execution_count": 157,
     "metadata": {},
     "output_type": "execute_result"
    }
   ],
   "source": [
    "County_list_df1990.head()"
   ]
  },
  {
   "cell_type": "code",
   "execution_count": 219,
   "id": "3baaecfe-1fd2-4f92-91cd-ac0971b83ceb",
   "metadata": {
    "tags": []
   },
   "outputs": [
    {
     "name": "stderr",
     "output_type": "stream",
     "text": [
      "C:\\Users\\Asus\\anaconda3\\lib\\site-packages\\geopandas\\array.py:1486: UserWarning: CRS not set for some of the concatenation inputs. Setting output's CRS as NAD83 (the single non-null crs provided).\n",
      "  warnings.warn(\n"
     ]
    }
   ],
   "source": [
    "County_df = pd.concat([County_list_df2021, County_list_df2012, County_list_df2010, County_list_df2000, County_list_df1990], ignore_index=True)"
   ]
  },
  {
   "cell_type": "code",
   "execution_count": 224,
   "id": "f2951236-1589-4615-a1fd-483a743a890a",
   "metadata": {
    "tags": []
   },
   "outputs": [],
   "source": [
    "County_df = County_df.drop_duplicates()"
   ]
  },
  {
   "cell_type": "code",
   "execution_count": 225,
   "id": "8acebca2-01ab-41af-8245-9985957a74b9",
   "metadata": {
    "tags": []
   },
   "outputs": [
    {
     "data": {
      "text/plain": [
       "31039    5\n",
       "20193    5\n",
       "19035    5\n",
       "05145    5\n",
       "28083    5\n",
       "        ..\n",
       "78030    2\n",
       "78020    2\n",
       "60010    2\n",
       "66010    2\n",
       "78010    2\n",
       "Name: CountyID, Length: 2924, dtype: int64"
      ]
     },
     "execution_count": 225,
     "metadata": {},
     "output_type": "execute_result"
    }
   ],
   "source": [
    "County_df['CountyID'].value_counts()"
   ]
  },
  {
   "cell_type": "code",
   "execution_count": 228,
   "id": "aa64162b-5117-40d5-bc7b-5ce6b16a0206",
   "metadata": {
    "tags": []
   },
   "outputs": [],
   "source": [
    "County_df['geometry'] = County_df['geometry'].apply(lambda geom: geom.wkt)\n",
    "\n",
    "County_df.to_parquet(f\"C:/Users/Asus/Box/Flood Damage PredictionProject/Dataset/County_geometry.parquet.gzip\", compression='gzip')"
   ]
  },
  {
   "cell_type": "markdown",
   "id": "dfb83cc0",
   "metadata": {},
   "source": [
    "## Using Shapefiles"
   ]
  },
  {
   "cell_type": "code",
   "execution_count": null,
   "id": "e9033ca0",
   "metadata": {},
   "outputs": [],
   "source": [
    "# Read the shapefile\n",
    "shapefile_path = 'C:/Users/Asus/Box/Flood Damage PredictionProject/Shapefiles/tl_rd22_us_zcta520/tl_rd22_us_zcta520.shp'  # Replace with the path to your shapefile\n",
    "map_df = gpd.read_file(shapefile_path)"
   ]
  },
  {
   "cell_type": "code",
   "execution_count": null,
   "id": "2ed2da4d",
   "metadata": {},
   "outputs": [],
   "source": [
    "map_df.head()"
   ]
  },
  {
   "cell_type": "code",
   "execution_count": null,
   "id": "7dfb83b4",
   "metadata": {},
   "outputs": [],
   "source": [
    "list_zipcode_2 = map_df['ZCTA5CE20'].dropna().drop_duplicates().astype(str).tolist()\n",
    "\n",
    "# add preceding 0 to make 4-digit zip codes into 5-digit\n",
    "list_zipcode_2 = [zipcode.zfill(5) for zipcode in list_zipcode]"
   ]
  },
  {
   "cell_type": "code",
   "execution_count": null,
   "id": "b1686438",
   "metadata": {},
   "outputs": [],
   "source": [
    "# Convert both lists to sets\n",
    "set_zipcode = set(list_zipcode)\n",
    "set_zipcode_2 = set(list_zipcode_2)\n",
    "\n",
    "# Find the intersection of the two sets\n",
    "common_zipcodes = set_zipcode.intersection(set_zipcode_2)\n",
    "\n",
    "# Print the number of common zip codes\n",
    "print(\"Number of common zip codes:\", len(common_zipcodes))"
   ]
  },
  {
   "cell_type": "code",
   "execution_count": null,
   "id": "d6cbc5c3",
   "metadata": {},
   "outputs": [],
   "source": [
    "len(common_zipcodes)/len(list_zipcode)"
   ]
  },
  {
   "cell_type": "code",
   "execution_count": null,
   "id": "656356d6",
   "metadata": {},
   "outputs": [],
   "source": []
  },
  {
   "cell_type": "code",
   "execution_count": null,
   "id": "f4f4d348-9eee-43fa-a952-265ccd5aba8c",
   "metadata": {},
   "outputs": [],
   "source": []
  },
  {
   "cell_type": "code",
   "execution_count": null,
   "id": "e0fe6545-429d-4467-979a-befdfd4e8fd4",
   "metadata": {},
   "outputs": [],
   "source": []
  },
  {
   "cell_type": "markdown",
   "id": "7b4c1444-f826-48ff-be9f-5054982105d4",
   "metadata": {},
   "source": [
    "## State"
   ]
  },
  {
   "cell_type": "code",
   "execution_count": 2,
   "id": "5fb60be7-47b4-43dc-b579-4a38dad513bd",
   "metadata": {
    "tags": []
   },
   "outputs": [
    {
     "name": "stdout",
     "output_type": "stream",
     "text": [
      "Using the default year of 2021\n"
     ]
    }
   ],
   "source": [
    "states = pygris.states()"
   ]
  },
  {
   "cell_type": "code",
   "execution_count": 4,
   "id": "8cf0f722-cd48-4d84-8efe-daf10cf65166",
   "metadata": {
    "tags": []
   },
   "outputs": [],
   "source": [
    "state_df = states[['STUSPS', 'NAME', 'geometry']]"
   ]
  },
  {
   "cell_type": "code",
   "execution_count": 7,
   "id": "b61482d9-b207-4e52-aa3e-ad39ff73e664",
   "metadata": {
    "tags": []
   },
   "outputs": [],
   "source": [
    "state_df = state_df[state_df['STUSPS'] == 'NC']"
   ]
  },
  {
   "cell_type": "code",
   "execution_count": 8,
   "id": "de164964-6c1c-4320-a710-8b948b4ca251",
   "metadata": {
    "tags": []
   },
   "outputs": [
    {
     "data": {
      "text/html": [
       "<div>\n",
       "<style scoped>\n",
       "    .dataframe tbody tr th:only-of-type {\n",
       "        vertical-align: middle;\n",
       "    }\n",
       "\n",
       "    .dataframe tbody tr th {\n",
       "        vertical-align: top;\n",
       "    }\n",
       "\n",
       "    .dataframe thead th {\n",
       "        text-align: right;\n",
       "    }\n",
       "</style>\n",
       "<table border=\"1\" class=\"dataframe\">\n",
       "  <thead>\n",
       "    <tr style=\"text-align: right;\">\n",
       "      <th></th>\n",
       "      <th>STUSPS</th>\n",
       "      <th>NAME</th>\n",
       "      <th>geometry</th>\n",
       "    </tr>\n",
       "  </thead>\n",
       "  <tbody>\n",
       "    <tr>\n",
       "      <th>54</th>\n",
       "      <td>NC</td>\n",
       "      <td>North Carolina</td>\n",
       "      <td>MULTIPOLYGON (((-75.72681 35.93584, -75.71827 ...</td>\n",
       "    </tr>\n",
       "  </tbody>\n",
       "</table>\n",
       "</div>"
      ],
      "text/plain": [
       "   STUSPS            NAME                                           geometry\n",
       "54     NC  North Carolina  MULTIPOLYGON (((-75.72681 35.93584, -75.71827 ..."
      ]
     },
     "execution_count": 8,
     "metadata": {},
     "output_type": "execute_result"
    }
   ],
   "source": [
    "state_df"
   ]
  },
  {
   "cell_type": "code",
   "execution_count": 13,
   "id": "4f0eae91-d524-4932-b02e-6af6459f8d29",
   "metadata": {
    "tags": []
   },
   "outputs": [
    {
     "data": {
      "image/png": "[encoded data removed]",
      "text/plain": [
       "<Figure size 1000x1000 with 1 Axes>"
      ]
     },
     "metadata": {},
     "output_type": "display_data"
    }
   ],
   "source": [
    "# Convert the DataFrame to a GeoDataFrame\n",
    "gdf = gpd.GeoDataFrame(state_df, geometry='geometry')\n",
    "\n",
    "# Plot using the 'viridis' colormap\n",
    "gdf.plot(edgecolor=\"black\", cmap='twilight', figsize=(10, 10))\n",
    "\n",
    "plt.xlabel('Longitude')\n",
    "plt.ylabel('Latitude')\n",
    "plt.title('NC Boundary')\n",
    "\n",
    "plt.show()"
   ]
  },
  {
   "cell_type": "code",
   "execution_count": null,
   "id": "ee39ff5c-8e0d-4378-837d-6cf3991e7eb4",
   "metadata": {},
   "outputs": [],
   "source": []
  }
 ],
 "metadata": {
  "kernelspec": {
   "display_name": "Python 3 (ipykernel)",
   "language": "python",
   "name": "python3"
  },
  "language_info": {
   "codemirror_mode": {
    "name": "ipython",
    "version": 3
   },
   "file_extension": ".py",
   "mimetype": "text/x-python",
   "name": "python",
   "nbconvert_exporter": "python",
   "pygments_lexer": "ipython3",
   "version": "3.8.17"
  }
 },
 "nbformat": 4,
 "nbformat_minor": 5
}
