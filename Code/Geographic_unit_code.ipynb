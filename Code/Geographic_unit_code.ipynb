{
 "cells": [
  {
   "cell_type": "code",
   "execution_count": 1,
   "id": "794001f1",
   "metadata": {
    "tags": []
   },
   "outputs": [],
   "source": [
    "import pandas as pd\n",
    "import numpy as np\n",
    "import matplotlib.pyplot as plt\n",
    "import pyarrow as pa\n",
    "import pyarrow.parquet as pq\n",
    "import geopandas as gpd\n",
    "import seaborn as sns\n",
    "\n",
    "#Packages\n",
    "import pandas as pd\n",
    "import matplotlib.pyplot as plt\n",
    "import matplotlib.ticker as mtick\n",
    "import numpy as np\n",
    "from scipy import stats\n",
    "pd.set_option('display.max_columns', None)\n",
    "\n",
    "from scipy.stats import skew, kurtosis\n",
    "\n",
    "import pygris\n",
    "import shapely"
   ]
  },
  {
   "cell_type": "code",
   "execution_count": null,
   "id": "356e66c6",
   "metadata": {},
   "outputs": [],
   "source": [
    "# rm(list=ls()) \n",
    "\n",
    "# library(devtools)\n",
    "\n",
    "\n",
    "# library(choroplethrZip)\n",
    "# library(tidyverse)\n",
    "\n",
    "# https://github.com/arilamstein/choroplethrZip"
   ]
  },
  {
   "cell_type": "code",
   "execution_count": 2,
   "id": "43ad2a4a",
   "metadata": {
    "tags": []
   },
   "outputs": [],
   "source": [
    "df = pd.read_parquet(\"C:/Users/Asus/Box/Flood Damage PredictionProject/Dataset/FimaNfipClaims.parquet.gzip\")"
   ]
  },
  {
   "cell_type": "code",
   "execution_count": 3,
   "id": "d19aa2b2",
   "metadata": {
    "tags": []
   },
   "outputs": [
    {
     "data": {
      "text/html": [
       "<div>\n",
       "<style scoped>\n",
       "    .dataframe tbody tr th:only-of-type {\n",
       "        vertical-align: middle;\n",
       "    }\n",
       "\n",
       "    .dataframe tbody tr th {\n",
       "        vertical-align: top;\n",
       "    }\n",
       "\n",
       "    .dataframe thead th {\n",
       "        text-align: right;\n",
       "    }\n",
       "</style>\n",
       "<table border=\"1\" class=\"dataframe\">\n",
       "  <thead>\n",
       "    <tr style=\"text-align: right;\">\n",
       "      <th></th>\n",
       "      <th>agricultureStructureIndicator</th>\n",
       "      <th>asOfDate</th>\n",
       "      <th>basementEnclosureCrawlspaceType</th>\n",
       "      <th>policyCount</th>\n",
       "      <th>crsClassificationCode</th>\n",
       "      <th>dateOfLoss</th>\n",
       "      <th>elevatedBuildingIndicator</th>\n",
       "      <th>elevationCertificateIndicator</th>\n",
       "      <th>elevationDifference</th>\n",
       "      <th>baseFloodElevation</th>\n",
       "      <th>ratedFloodZone</th>\n",
       "      <th>houseWorship</th>\n",
       "      <th>locationOfContents</th>\n",
       "      <th>lowestAdjacentGrade</th>\n",
       "      <th>lowestFloorElevation</th>\n",
       "      <th>numberOfFloorsInTheInsuredBuilding</th>\n",
       "      <th>nonProfitIndicator</th>\n",
       "      <th>obstructionType</th>\n",
       "      <th>occupancyType</th>\n",
       "      <th>originalConstructionDate</th>\n",
       "      <th>originalNBDate</th>\n",
       "      <th>amountPaidOnBuildingClaim</th>\n",
       "      <th>amountPaidOnContentsClaim</th>\n",
       "      <th>amountPaidOnIncreasedCostOfComplianceClaim</th>\n",
       "      <th>postFIRMConstructionIndicator</th>\n",
       "      <th>rateMethod</th>\n",
       "      <th>smallBusinessIndicatorBuilding</th>\n",
       "      <th>totalBuildingInsuranceCoverage</th>\n",
       "      <th>totalContentsInsuranceCoverage</th>\n",
       "      <th>yearOfLoss</th>\n",
       "      <th>primaryResidenceIndicator</th>\n",
       "      <th>buildingDamageAmount</th>\n",
       "      <th>buildingDeductibleCode</th>\n",
       "      <th>netBuildingPaymentAmount</th>\n",
       "      <th>buildingPropertyValue</th>\n",
       "      <th>causeOfDamage</th>\n",
       "      <th>condominiumCoverageTypeCode</th>\n",
       "      <th>contentsDamageAmount</th>\n",
       "      <th>contentsDeductibleCode</th>\n",
       "      <th>netContentsPaymentAmount</th>\n",
       "      <th>contentsPropertyValue</th>\n",
       "      <th>disasterAssistanceCoverageRequired</th>\n",
       "      <th>eventDesignationNumber</th>\n",
       "      <th>ficoNumber</th>\n",
       "      <th>floodCharacteristicsIndicator</th>\n",
       "      <th>floodWaterDuration</th>\n",
       "      <th>floodproofedIndicator</th>\n",
       "      <th>floodEvent</th>\n",
       "      <th>iccCoverage</th>\n",
       "      <th>netIccPaymentAmount</th>\n",
       "      <th>nfipRatedCommunityNumber</th>\n",
       "      <th>nfipCommunityNumberCurrent</th>\n",
       "      <th>nfipCommunityName</th>\n",
       "      <th>nonPaymentReasonContents</th>\n",
       "      <th>nonPaymentReasonBuilding</th>\n",
       "      <th>numberOfUnits</th>\n",
       "      <th>buildingReplacementCost</th>\n",
       "      <th>contentsReplacementCost</th>\n",
       "      <th>replacementCostBasis</th>\n",
       "      <th>stateOwnedIndicator</th>\n",
       "      <th>waterDepth</th>\n",
       "      <th>floodZoneCurrent</th>\n",
       "      <th>buildingDescriptionCode</th>\n",
       "      <th>rentalPropertyIndicator</th>\n",
       "      <th>state</th>\n",
       "      <th>reportedCity</th>\n",
       "      <th>reportedZipCode</th>\n",
       "      <th>countyCode</th>\n",
       "      <th>censusTract</th>\n",
       "      <th>censusBlockGroupFips</th>\n",
       "      <th>latitude</th>\n",
       "      <th>longitude</th>\n",
       "      <th>id</th>\n",
       "    </tr>\n",
       "  </thead>\n",
       "  <tbody>\n",
       "    <tr>\n",
       "      <th>0</th>\n",
       "      <td>0</td>\n",
       "      <td>2020-01-22T16:55:53.194Z</td>\n",
       "      <td>NaN</td>\n",
       "      <td>1</td>\n",
       "      <td>8.0</td>\n",
       "      <td>1998-02-07T00:00:00.000Z</td>\n",
       "      <td>0</td>\n",
       "      <td>nan</td>\n",
       "      <td>NaN</td>\n",
       "      <td>NaN</td>\n",
       "      <td>X</td>\n",
       "      <td>0</td>\n",
       "      <td>NaN</td>\n",
       "      <td>NaN</td>\n",
       "      <td>NaN</td>\n",
       "      <td>4.0</td>\n",
       "      <td>0</td>\n",
       "      <td>10.0</td>\n",
       "      <td>1.0</td>\n",
       "      <td>1963-01-01T00:00:00.000Z</td>\n",
       "      <td>1997-01-11T00:00:00.000Z</td>\n",
       "      <td>NaN</td>\n",
       "      <td>NaN</td>\n",
       "      <td>NaN</td>\n",
       "      <td>0</td>\n",
       "      <td>7</td>\n",
       "      <td>0</td>\n",
       "      <td>200000.0</td>\n",
       "      <td>50000.0</td>\n",
       "      <td>1998</td>\n",
       "      <td>0</td>\n",
       "      <td>382.0</td>\n",
       "      <td>0</td>\n",
       "      <td>0.00</td>\n",
       "      <td>937.0</td>\n",
       "      <td>1</td>\n",
       "      <td>N</td>\n",
       "      <td>NaN</td>\n",
       "      <td>0</td>\n",
       "      <td>0.0</td>\n",
       "      <td>NaN</td>\n",
       "      <td>0.0</td>\n",
       "      <td>None</td>\n",
       "      <td>612.0</td>\n",
       "      <td>NaN</td>\n",
       "      <td>0.0</td>\n",
       "      <td>0</td>\n",
       "      <td>Pineapple Express - Southern</td>\n",
       "      <td>15000.0</td>\n",
       "      <td>0.0</td>\n",
       "      <td>60294.0</td>\n",
       "      <td>None</td>\n",
       "      <td>OCEANSIDE, CITY OF</td>\n",
       "      <td>97.0</td>\n",
       "      <td>1.0</td>\n",
       "      <td>1.0</td>\n",
       "      <td>937.0</td>\n",
       "      <td>NaN</td>\n",
       "      <td>A</td>\n",
       "      <td>0</td>\n",
       "      <td>0.0</td>\n",
       "      <td>None</td>\n",
       "      <td>NaN</td>\n",
       "      <td>0</td>\n",
       "      <td>CA</td>\n",
       "      <td>Currently Unavailable</td>\n",
       "      <td>92056.0</td>\n",
       "      <td>6073.0</td>\n",
       "      <td>6.073019e+09</td>\n",
       "      <td>6.073019e+10</td>\n",
       "      <td>33.2</td>\n",
       "      <td>-117.3</td>\n",
       "      <td>23dcb0d8-3e61-45bf-899f-b951946ce2ff</td>\n",
       "    </tr>\n",
       "    <tr>\n",
       "      <th>1</th>\n",
       "      <td>0</td>\n",
       "      <td>2020-01-22T16:55:53.194Z</td>\n",
       "      <td>NaN</td>\n",
       "      <td>1</td>\n",
       "      <td>8.0</td>\n",
       "      <td>2005-08-29T00:00:00.000Z</td>\n",
       "      <td>0</td>\n",
       "      <td>nan</td>\n",
       "      <td>NaN</td>\n",
       "      <td>NaN</td>\n",
       "      <td>X</td>\n",
       "      <td>0</td>\n",
       "      <td>NaN</td>\n",
       "      <td>NaN</td>\n",
       "      <td>NaN</td>\n",
       "      <td>2.0</td>\n",
       "      <td>0</td>\n",
       "      <td>NaN</td>\n",
       "      <td>1.0</td>\n",
       "      <td>1967-07-01T00:00:00.000Z</td>\n",
       "      <td>1990-07-12T00:00:00.000Z</td>\n",
       "      <td>NaN</td>\n",
       "      <td>NaN</td>\n",
       "      <td>NaN</td>\n",
       "      <td>0</td>\n",
       "      <td>7</td>\n",
       "      <td>0</td>\n",
       "      <td>100000.0</td>\n",
       "      <td>40000.0</td>\n",
       "      <td>2005</td>\n",
       "      <td>1</td>\n",
       "      <td>NaN</td>\n",
       "      <td>0</td>\n",
       "      <td>0.00</td>\n",
       "      <td>NaN</td>\n",
       "      <td>1</td>\n",
       "      <td>N</td>\n",
       "      <td>NaN</td>\n",
       "      <td>0</td>\n",
       "      <td>0.0</td>\n",
       "      <td>NaN</td>\n",
       "      <td>0.0</td>\n",
       "      <td>None</td>\n",
       "      <td>654.0</td>\n",
       "      <td>NaN</td>\n",
       "      <td>0.0</td>\n",
       "      <td>0</td>\n",
       "      <td>Hurricane Katrina</td>\n",
       "      <td>30000.0</td>\n",
       "      <td>0.0</td>\n",
       "      <td>225203.0</td>\n",
       "      <td>None</td>\n",
       "      <td>NEW ORLEANS/ORLEANS PARISH*</td>\n",
       "      <td>6.0</td>\n",
       "      <td>6.0</td>\n",
       "      <td>1.0</td>\n",
       "      <td>NaN</td>\n",
       "      <td>NaN</td>\n",
       "      <td>A</td>\n",
       "      <td>0</td>\n",
       "      <td>0.0</td>\n",
       "      <td>None</td>\n",
       "      <td>NaN</td>\n",
       "      <td>0</td>\n",
       "      <td>LA</td>\n",
       "      <td>Currently Unavailable</td>\n",
       "      <td>70131.0</td>\n",
       "      <td>22071.0</td>\n",
       "      <td>2.207100e+10</td>\n",
       "      <td>2.207100e+11</td>\n",
       "      <td>29.9</td>\n",
       "      <td>-90.0</td>\n",
       "      <td>55783cdd-ccbd-4b19-930b-072def248507</td>\n",
       "    </tr>\n",
       "    <tr>\n",
       "      <th>2</th>\n",
       "      <td>0</td>\n",
       "      <td>2020-01-22T16:55:53.194Z</td>\n",
       "      <td>NaN</td>\n",
       "      <td>1</td>\n",
       "      <td>9.0</td>\n",
       "      <td>1998-09-28T00:00:00.000Z</td>\n",
       "      <td>0</td>\n",
       "      <td>nan</td>\n",
       "      <td>NaN</td>\n",
       "      <td>NaN</td>\n",
       "      <td>X</td>\n",
       "      <td>0</td>\n",
       "      <td>NaN</td>\n",
       "      <td>NaN</td>\n",
       "      <td>NaN</td>\n",
       "      <td>1.0</td>\n",
       "      <td>0</td>\n",
       "      <td>10.0</td>\n",
       "      <td>1.0</td>\n",
       "      <td>1972-01-01T00:00:00.000Z</td>\n",
       "      <td>1997-07-24T00:00:00.000Z</td>\n",
       "      <td>8813.21</td>\n",
       "      <td>1720.0</td>\n",
       "      <td>0.0</td>\n",
       "      <td>0</td>\n",
       "      <td>1</td>\n",
       "      <td>0</td>\n",
       "      <td>100000.0</td>\n",
       "      <td>50000.0</td>\n",
       "      <td>1998</td>\n",
       "      <td>1</td>\n",
       "      <td>9313.0</td>\n",
       "      <td>0</td>\n",
       "      <td>8813.21</td>\n",
       "      <td>80000.0</td>\n",
       "      <td>1</td>\n",
       "      <td>N</td>\n",
       "      <td>2220.0</td>\n",
       "      <td>0</td>\n",
       "      <td>1720.0</td>\n",
       "      <td>0.0</td>\n",
       "      <td>0.0</td>\n",
       "      <td>None</td>\n",
       "      <td>133.0</td>\n",
       "      <td>NaN</td>\n",
       "      <td>0.0</td>\n",
       "      <td>0</td>\n",
       "      <td>Hurricane Georges (Panhandle)</td>\n",
       "      <td>15000.0</td>\n",
       "      <td>0.0</td>\n",
       "      <td>120274.0</td>\n",
       "      <td>None</td>\n",
       "      <td>SANTA ROSA COUNTY *</td>\n",
       "      <td>NaN</td>\n",
       "      <td>NaN</td>\n",
       "      <td>1.0</td>\n",
       "      <td>100000.0</td>\n",
       "      <td>0.0</td>\n",
       "      <td>A</td>\n",
       "      <td>0</td>\n",
       "      <td>0.0</td>\n",
       "      <td>None</td>\n",
       "      <td>NaN</td>\n",
       "      <td>0</td>\n",
       "      <td>FL</td>\n",
       "      <td>Currently Unavailable</td>\n",
       "      <td>32566.0</td>\n",
       "      <td>12113.0</td>\n",
       "      <td>1.211301e+10</td>\n",
       "      <td>1.211301e+11</td>\n",
       "      <td>30.4</td>\n",
       "      <td>-86.9</td>\n",
       "      <td>bfb5922b-1b21-4882-b1d4-b3825ff53e37</td>\n",
       "    </tr>\n",
       "    <tr>\n",
       "      <th>3</th>\n",
       "      <td>0</td>\n",
       "      <td>2019-09-19T13:45:58.425Z</td>\n",
       "      <td>1.0</td>\n",
       "      <td>1</td>\n",
       "      <td>9.0</td>\n",
       "      <td>1994-10-07T00:00:00.000Z</td>\n",
       "      <td>0</td>\n",
       "      <td>nan</td>\n",
       "      <td>NaN</td>\n",
       "      <td>NaN</td>\n",
       "      <td>X</td>\n",
       "      <td>0</td>\n",
       "      <td>NaN</td>\n",
       "      <td>NaN</td>\n",
       "      <td>NaN</td>\n",
       "      <td>2.0</td>\n",
       "      <td>0</td>\n",
       "      <td>10.0</td>\n",
       "      <td>1.0</td>\n",
       "      <td>1960-01-01T00:00:00.000Z</td>\n",
       "      <td>1993-10-01T00:00:00.000Z</td>\n",
       "      <td>2906.00</td>\n",
       "      <td>0.0</td>\n",
       "      <td>0.0</td>\n",
       "      <td>0</td>\n",
       "      <td>7</td>\n",
       "      <td>0</td>\n",
       "      <td>100000.0</td>\n",
       "      <td>25000.0</td>\n",
       "      <td>1994</td>\n",
       "      <td>0</td>\n",
       "      <td>4428.0</td>\n",
       "      <td>0</td>\n",
       "      <td>2906.00</td>\n",
       "      <td>100000.0</td>\n",
       "      <td>1</td>\n",
       "      <td>N</td>\n",
       "      <td>NaN</td>\n",
       "      <td>0</td>\n",
       "      <td>0.0</td>\n",
       "      <td>NaN</td>\n",
       "      <td>0.0</td>\n",
       "      <td>None</td>\n",
       "      <td>NaN</td>\n",
       "      <td>NaN</td>\n",
       "      <td>0.0</td>\n",
       "      <td>0</td>\n",
       "      <td>None</td>\n",
       "      <td>NaN</td>\n",
       "      <td>0.0</td>\n",
       "      <td>450026.0</td>\n",
       "      <td>None</td>\n",
       "      <td>BEAUFORT, CITY OF</td>\n",
       "      <td>97.0</td>\n",
       "      <td>NaN</td>\n",
       "      <td>1.0</td>\n",
       "      <td>0.0</td>\n",
       "      <td>NaN</td>\n",
       "      <td>A</td>\n",
       "      <td>0</td>\n",
       "      <td>0.0</td>\n",
       "      <td>None</td>\n",
       "      <td>NaN</td>\n",
       "      <td>0</td>\n",
       "      <td>SC</td>\n",
       "      <td>Currently Unavailable</td>\n",
       "      <td>29902.0</td>\n",
       "      <td>45013.0</td>\n",
       "      <td>4.501300e+10</td>\n",
       "      <td>4.501300e+11</td>\n",
       "      <td>32.4</td>\n",
       "      <td>-80.7</td>\n",
       "      <td>c1cf6e00-1e6d-4493-93fc-eb430ef15495</td>\n",
       "    </tr>\n",
       "    <tr>\n",
       "      <th>4</th>\n",
       "      <td>0</td>\n",
       "      <td>2019-09-19T13:45:58.425Z</td>\n",
       "      <td>NaN</td>\n",
       "      <td>1</td>\n",
       "      <td>8.0</td>\n",
       "      <td>1996-03-11T00:00:00.000Z</td>\n",
       "      <td>0</td>\n",
       "      <td>nan</td>\n",
       "      <td>NaN</td>\n",
       "      <td>NaN</td>\n",
       "      <td>X</td>\n",
       "      <td>0</td>\n",
       "      <td>NaN</td>\n",
       "      <td>NaN</td>\n",
       "      <td>NaN</td>\n",
       "      <td>1.0</td>\n",
       "      <td>0</td>\n",
       "      <td>NaN</td>\n",
       "      <td>1.0</td>\n",
       "      <td>1988-01-01T00:00:00.000Z</td>\n",
       "      <td>1996-01-11T00:00:00.000Z</td>\n",
       "      <td>3875.53</td>\n",
       "      <td>1545.0</td>\n",
       "      <td>0.0</td>\n",
       "      <td>1</td>\n",
       "      <td>7</td>\n",
       "      <td>0</td>\n",
       "      <td>100000.0</td>\n",
       "      <td>25000.0</td>\n",
       "      <td>1996</td>\n",
       "      <td>1</td>\n",
       "      <td>5252.0</td>\n",
       "      <td>0</td>\n",
       "      <td>3875.53</td>\n",
       "      <td>100000.0</td>\n",
       "      <td>1</td>\n",
       "      <td>N</td>\n",
       "      <td>3115.0</td>\n",
       "      <td>0</td>\n",
       "      <td>1545.0</td>\n",
       "      <td>0.0</td>\n",
       "      <td>0.0</td>\n",
       "      <td>None</td>\n",
       "      <td>NaN</td>\n",
       "      <td>NaN</td>\n",
       "      <td>0.0</td>\n",
       "      <td>0</td>\n",
       "      <td>None</td>\n",
       "      <td>NaN</td>\n",
       "      <td>0.0</td>\n",
       "      <td>125092.0</td>\n",
       "      <td>None</td>\n",
       "      <td>BREVARD COUNTY *</td>\n",
       "      <td>NaN</td>\n",
       "      <td>NaN</td>\n",
       "      <td>1.0</td>\n",
       "      <td>0.0</td>\n",
       "      <td>0.0</td>\n",
       "      <td>A</td>\n",
       "      <td>0</td>\n",
       "      <td>0.0</td>\n",
       "      <td>None</td>\n",
       "      <td>1.0</td>\n",
       "      <td>0</td>\n",
       "      <td>FL</td>\n",
       "      <td>Currently Unavailable</td>\n",
       "      <td>32940.0</td>\n",
       "      <td>12009.0</td>\n",
       "      <td>1.200906e+10</td>\n",
       "      <td>1.200906e+11</td>\n",
       "      <td>28.3</td>\n",
       "      <td>-80.7</td>\n",
       "      <td>cad8334c-13f2-4837-bdcf-e09591197ff7</td>\n",
       "    </tr>\n",
       "  </tbody>\n",
       "</table>\n",
       "</div>"
      ],
      "text/plain": [
       "   agricultureStructureIndicator                  asOfDate  \\\n",
       "0                              0  2020-01-22T16:55:53.194Z   \n",
       "1                              0  2020-01-22T16:55:53.194Z   \n",
       "2                              0  2020-01-22T16:55:53.194Z   \n",
       "3                              0  2019-09-19T13:45:58.425Z   \n",
       "4                              0  2019-09-19T13:45:58.425Z   \n",
       "\n",
       "   basementEnclosureCrawlspaceType  policyCount  crsClassificationCode  \\\n",
       "0                              NaN            1                    8.0   \n",
       "1                              NaN            1                    8.0   \n",
       "2                              NaN            1                    9.0   \n",
       "3                              1.0            1                    9.0   \n",
       "4                              NaN            1                    8.0   \n",
       "\n",
       "                 dateOfLoss  elevatedBuildingIndicator  \\\n",
       "0  1998-02-07T00:00:00.000Z                          0   \n",
       "1  2005-08-29T00:00:00.000Z                          0   \n",
       "2  1998-09-28T00:00:00.000Z                          0   \n",
       "3  1994-10-07T00:00:00.000Z                          0   \n",
       "4  1996-03-11T00:00:00.000Z                          0   \n",
       "\n",
       "  elevationCertificateIndicator  elevationDifference  baseFloodElevation  \\\n",
       "0                           nan                  NaN                 NaN   \n",
       "1                           nan                  NaN                 NaN   \n",
       "2                           nan                  NaN                 NaN   \n",
       "3                           nan                  NaN                 NaN   \n",
       "4                           nan                  NaN                 NaN   \n",
       "\n",
       "  ratedFloodZone  houseWorship  locationOfContents  lowestAdjacentGrade  \\\n",
       "0              X             0                 NaN                  NaN   \n",
       "1              X             0                 NaN                  NaN   \n",
       "2              X             0                 NaN                  NaN   \n",
       "3              X             0                 NaN                  NaN   \n",
       "4              X             0                 NaN                  NaN   \n",
       "\n",
       "   lowestFloorElevation  numberOfFloorsInTheInsuredBuilding  \\\n",
       "0                   NaN                                 4.0   \n",
       "1                   NaN                                 2.0   \n",
       "2                   NaN                                 1.0   \n",
       "3                   NaN                                 2.0   \n",
       "4                   NaN                                 1.0   \n",
       "\n",
       "   nonProfitIndicator  obstructionType  occupancyType  \\\n",
       "0                   0             10.0            1.0   \n",
       "1                   0              NaN            1.0   \n",
       "2                   0             10.0            1.0   \n",
       "3                   0             10.0            1.0   \n",
       "4                   0              NaN            1.0   \n",
       "\n",
       "   originalConstructionDate            originalNBDate  \\\n",
       "0  1963-01-01T00:00:00.000Z  1997-01-11T00:00:00.000Z   \n",
       "1  1967-07-01T00:00:00.000Z  1990-07-12T00:00:00.000Z   \n",
       "2  1972-01-01T00:00:00.000Z  1997-07-24T00:00:00.000Z   \n",
       "3  1960-01-01T00:00:00.000Z  1993-10-01T00:00:00.000Z   \n",
       "4  1988-01-01T00:00:00.000Z  1996-01-11T00:00:00.000Z   \n",
       "\n",
       "   amountPaidOnBuildingClaim  amountPaidOnContentsClaim  \\\n",
       "0                        NaN                        NaN   \n",
       "1                        NaN                        NaN   \n",
       "2                    8813.21                     1720.0   \n",
       "3                    2906.00                        0.0   \n",
       "4                    3875.53                     1545.0   \n",
       "\n",
       "   amountPaidOnIncreasedCostOfComplianceClaim  postFIRMConstructionIndicator  \\\n",
       "0                                         NaN                              0   \n",
       "1                                         NaN                              0   \n",
       "2                                         0.0                              0   \n",
       "3                                         0.0                              0   \n",
       "4                                         0.0                              1   \n",
       "\n",
       "  rateMethod  smallBusinessIndicatorBuilding  totalBuildingInsuranceCoverage  \\\n",
       "0          7                               0                        200000.0   \n",
       "1          7                               0                        100000.0   \n",
       "2          1                               0                        100000.0   \n",
       "3          7                               0                        100000.0   \n",
       "4          7                               0                        100000.0   \n",
       "\n",
       "   totalContentsInsuranceCoverage  yearOfLoss  primaryResidenceIndicator  \\\n",
       "0                         50000.0        1998                          0   \n",
       "1                         40000.0        2005                          1   \n",
       "2                         50000.0        1998                          1   \n",
       "3                         25000.0        1994                          0   \n",
       "4                         25000.0        1996                          1   \n",
       "\n",
       "   buildingDamageAmount buildingDeductibleCode  netBuildingPaymentAmount  \\\n",
       "0                 382.0                      0                      0.00   \n",
       "1                   NaN                      0                      0.00   \n",
       "2                9313.0                      0                   8813.21   \n",
       "3                4428.0                      0                   2906.00   \n",
       "4                5252.0                      0                   3875.53   \n",
       "\n",
       "   buildingPropertyValue causeOfDamage condominiumCoverageTypeCode  \\\n",
       "0                  937.0             1                           N   \n",
       "1                    NaN             1                           N   \n",
       "2                80000.0             1                           N   \n",
       "3               100000.0             1                           N   \n",
       "4               100000.0             1                           N   \n",
       "\n",
       "   contentsDamageAmount contentsDeductibleCode  netContentsPaymentAmount  \\\n",
       "0                   NaN                      0                       0.0   \n",
       "1                   NaN                      0                       0.0   \n",
       "2                2220.0                      0                    1720.0   \n",
       "3                   NaN                      0                       0.0   \n",
       "4                3115.0                      0                    1545.0   \n",
       "\n",
       "   contentsPropertyValue  disasterAssistanceCoverageRequired  \\\n",
       "0                    NaN                                 0.0   \n",
       "1                    NaN                                 0.0   \n",
       "2                    0.0                                 0.0   \n",
       "3                    NaN                                 0.0   \n",
       "4                    0.0                                 0.0   \n",
       "\n",
       "  eventDesignationNumber  ficoNumber  floodCharacteristicsIndicator  \\\n",
       "0                   None       612.0                            NaN   \n",
       "1                   None       654.0                            NaN   \n",
       "2                   None       133.0                            NaN   \n",
       "3                   None         NaN                            NaN   \n",
       "4                   None         NaN                            NaN   \n",
       "\n",
       "   floodWaterDuration  floodproofedIndicator                     floodEvent  \\\n",
       "0                 0.0                      0   Pineapple Express - Southern   \n",
       "1                 0.0                      0              Hurricane Katrina   \n",
       "2                 0.0                      0  Hurricane Georges (Panhandle)   \n",
       "3                 0.0                      0                           None   \n",
       "4                 0.0                      0                           None   \n",
       "\n",
       "   iccCoverage  netIccPaymentAmount  nfipRatedCommunityNumber  \\\n",
       "0      15000.0                  0.0                   60294.0   \n",
       "1      30000.0                  0.0                  225203.0   \n",
       "2      15000.0                  0.0                  120274.0   \n",
       "3          NaN                  0.0                  450026.0   \n",
       "4          NaN                  0.0                  125092.0   \n",
       "\n",
       "  nfipCommunityNumberCurrent            nfipCommunityName  \\\n",
       "0                       None           OCEANSIDE, CITY OF   \n",
       "1                       None  NEW ORLEANS/ORLEANS PARISH*   \n",
       "2                       None          SANTA ROSA COUNTY *   \n",
       "3                       None            BEAUFORT, CITY OF   \n",
       "4                       None             BREVARD COUNTY *   \n",
       "\n",
       "   nonPaymentReasonContents  nonPaymentReasonBuilding  numberOfUnits  \\\n",
       "0                      97.0                       1.0            1.0   \n",
       "1                       6.0                       6.0            1.0   \n",
       "2                       NaN                       NaN            1.0   \n",
       "3                      97.0                       NaN            1.0   \n",
       "4                       NaN                       NaN            1.0   \n",
       "\n",
       "   buildingReplacementCost  contentsReplacementCost replacementCostBasis  \\\n",
       "0                    937.0                      NaN                    A   \n",
       "1                      NaN                      NaN                    A   \n",
       "2                 100000.0                      0.0                    A   \n",
       "3                      0.0                      NaN                    A   \n",
       "4                      0.0                      0.0                    A   \n",
       "\n",
       "   stateOwnedIndicator  waterDepth floodZoneCurrent  buildingDescriptionCode  \\\n",
       "0                    0         0.0             None                      NaN   \n",
       "1                    0         0.0             None                      NaN   \n",
       "2                    0         0.0             None                      NaN   \n",
       "3                    0         0.0             None                      NaN   \n",
       "4                    0         0.0             None                      1.0   \n",
       "\n",
       "   rentalPropertyIndicator state           reportedCity  reportedZipCode  \\\n",
       "0                        0    CA  Currently Unavailable          92056.0   \n",
       "1                        0    LA  Currently Unavailable          70131.0   \n",
       "2                        0    FL  Currently Unavailable          32566.0   \n",
       "3                        0    SC  Currently Unavailable          29902.0   \n",
       "4                        0    FL  Currently Unavailable          32940.0   \n",
       "\n",
       "   countyCode   censusTract  censusBlockGroupFips  latitude  longitude  \\\n",
       "0      6073.0  6.073019e+09          6.073019e+10      33.2     -117.3   \n",
       "1     22071.0  2.207100e+10          2.207100e+11      29.9      -90.0   \n",
       "2     12113.0  1.211301e+10          1.211301e+11      30.4      -86.9   \n",
       "3     45013.0  4.501300e+10          4.501300e+11      32.4      -80.7   \n",
       "4     12009.0  1.200906e+10          1.200906e+11      28.3      -80.7   \n",
       "\n",
       "                                     id  \n",
       "0  23dcb0d8-3e61-45bf-899f-b951946ce2ff  \n",
       "1  55783cdd-ccbd-4b19-930b-072def248507  \n",
       "2  bfb5922b-1b21-4882-b1d4-b3825ff53e37  \n",
       "3  c1cf6e00-1e6d-4493-93fc-eb430ef15495  \n",
       "4  cad8334c-13f2-4837-bdcf-e09591197ff7  "
      ]
     },
     "execution_count": 3,
     "metadata": {},
     "output_type": "execute_result"
    }
   ],
   "source": [
    "df.head()"
   ]
  },
  {
   "cell_type": "code",
   "execution_count": 4,
   "id": "0bccdca8",
   "metadata": {
    "tags": []
   },
   "outputs": [
    {
     "data": {
      "text/plain": [
       "dtype('float64')"
      ]
     },
     "execution_count": 4,
     "metadata": {},
     "output_type": "execute_result"
    }
   ],
   "source": [
    "df['reportedZipCode'].dtypes"
   ]
  },
  {
   "cell_type": "code",
   "execution_count": 5,
   "id": "98fe4475",
   "metadata": {
    "tags": []
   },
   "outputs": [
    {
     "data": {
      "text/plain": [
       "0.021602852983582808"
      ]
     },
     "execution_count": 5,
     "metadata": {},
     "output_type": "execute_result"
    }
   ],
   "source": [
    "df['reportedZipCode'].isna().sum() / df.shape[0]"
   ]
  },
  {
   "cell_type": "code",
   "execution_count": 6,
   "id": "da7eb2a5",
   "metadata": {
    "tags": []
   },
   "outputs": [
    {
     "data": {
      "text/plain": [
       "0.053005097819786226"
      ]
     },
     "execution_count": 6,
     "metadata": {},
     "output_type": "execute_result"
    }
   ],
   "source": [
    "df['censusBlockGroupFips'].isna().sum() / df.shape[0]"
   ]
  },
  {
   "cell_type": "code",
   "execution_count": 7,
   "id": "11dc8587",
   "metadata": {
    "tags": []
   },
   "outputs": [
    {
     "data": {
      "text/plain": [
       "0.015378203744076599"
      ]
     },
     "execution_count": 7,
     "metadata": {},
     "output_type": "execute_result"
    }
   ],
   "source": [
    "df['latitude'].isna().sum() / df.shape[0]"
   ]
  },
  {
   "cell_type": "code",
   "execution_count": 8,
   "id": "feef13e8",
   "metadata": {
    "tags": []
   },
   "outputs": [
    {
     "data": {
      "text/plain": [
       "0.015378203744076599"
      ]
     },
     "execution_count": 8,
     "metadata": {},
     "output_type": "execute_result"
    }
   ],
   "source": [
    "df['longitude'].isna().sum() / df.shape[0]"
   ]
  },
  {
   "cell_type": "code",
   "execution_count": 9,
   "id": "fadde2da",
   "metadata": {
    "tags": []
   },
   "outputs": [],
   "source": [
    "missing_all_three = df['reportedZipCode'].isna() | df['censusBlockGroupFips'].isna() | df['latitude'].isna()\n",
    "\n",
    "# To get the number of such rows\n",
    "num_missing_all_three = missing_all_three.sum()\n",
    "\n",
    "# To get the proportion of such rows\n",
    "proportion_missing_all_three = num_missing_all_three / df.shape[0]"
   ]
  },
  {
   "cell_type": "code",
   "execution_count": 10,
   "id": "3a334f6b",
   "metadata": {
    "tags": []
   },
   "outputs": [
    {
     "data": {
      "text/plain": [
       "6.149075821846406"
      ]
     },
     "execution_count": 10,
     "metadata": {},
     "output_type": "execute_result"
    }
   ],
   "source": [
    "proportion_missing_all_three*100"
   ]
  },
  {
   "cell_type": "code",
   "execution_count": 11,
   "id": "f520d208",
   "metadata": {
    "tags": []
   },
   "outputs": [],
   "source": [
    "#Zipcode list\n",
    "\n",
    "list_zipcode = df['reportedZipCode'].dropna().drop_duplicates().astype(int).astype(str).tolist()\n",
    "\n",
    "# add preceding 0 to make 4-digit zip codes into 5-digit\n",
    "list_zipcode = [zipcode.zfill(5) for zipcode in list_zipcode]\n",
    "\n",
    "# temp = pd.DataFrame(list_censusBG, columns=['ZipCode'])\n",
    "\n",
    "# temp.to_csv('C:/Users/Asus/Box/Flood Damage PredictionProject/Dataset/ZipCode.csv', index=False)"
   ]
  },
  {
   "cell_type": "code",
   "execution_count": 12,
   "id": "facc1783",
   "metadata": {
    "tags": []
   },
   "outputs": [],
   "source": [
    "#CensusBG list\n",
    "\n",
    "list_censusBG = df['censusBlockGroupFips'].dropna().drop_duplicates().tolist()\n",
    "\n",
    "list_censusBG = [str(int(float(i))) for i in list_censusBG]\n",
    "\n",
    "# add preceding 0 to make 4-digit zip codes into 5-digit\n",
    "list_censusBG = [censusBG.zfill(12) for censusBG in list_censusBG]\n",
    "\n",
    "# temp = pd.DataFrame(list_censusBG, columns=['censusBG'])\n",
    "\n",
    "# temp.to_csv('C:/Users/Asus/Box/Flood Damage PredictionProject/Dataset/censusBG.csv', index=False)"
   ]
  },
  {
   "cell_type": "code",
   "execution_count": 13,
   "id": "daf246aa",
   "metadata": {
    "tags": []
   },
   "outputs": [],
   "source": [
    "#lat long df\n",
    "\n",
    "df_lat_long = df[['latitude', 'longitude']].dropna().drop_duplicates()"
   ]
  },
  {
   "cell_type": "markdown",
   "id": "4720ecae",
   "metadata": {},
   "source": [
    "## Using pygris"
   ]
  },
  {
   "cell_type": "code",
   "execution_count": null,
   "id": "f70899db",
   "metadata": {
    "tags": []
   },
   "outputs": [],
   "source": [
    "years = [2000, 2010, 2012, 2013, 2014, 2015, 2016, 2017, 2018, 2019, 2020, 2021]"
   ]
  },
  {
   "cell_type": "code",
   "execution_count": null,
   "id": "7ff69865-075e-414a-a523-1ae83a884f2b",
   "metadata": {
    "tags": []
   },
   "outputs": [],
   "source": [
    "# zip_codes_list = pygris.zctas(year=2000)"
   ]
  },
  {
   "cell_type": "code",
   "execution_count": null,
   "id": "130d3e03-2940-40d9-971a-3801592fa741",
   "metadata": {
    "tags": []
   },
   "outputs": [],
   "source": [
    "# zip_codes_list.head()"
   ]
  },
  {
   "cell_type": "code",
   "execution_count": null,
   "id": "cc8ab9fa-7a98-418a-aaa7-d73747a328de",
   "metadata": {
    "tags": []
   },
   "outputs": [],
   "source": [
    "# zip_codes_list.shape[0]"
   ]
  },
  {
   "cell_type": "code",
   "execution_count": null,
   "id": "8c4f9a42-e803-49c6-a3b3-3a7781e3ae1e",
   "metadata": {
    "tags": []
   },
   "outputs": [],
   "source": [
    "# years = [2000, 2010, 2012, 2013, 2014, 2015, 2016, 2017, 2018, 2019, 2020, 2021]\n",
    "\n",
    "years = [2000, 2010, 2012, 2013, 2014, 2015, 2016, 2017, 2018, 2019, 2020, 2021]\n",
    "\n",
    "yearly_data = {}\n",
    "\n",
    "for i in years:\n",
    "    yearly_data[i] = pygris.zctas(year=i)"
   ]
  },
  {
   "cell_type": "code",
   "execution_count": null,
   "id": "f34d8c79-b3bf-4077-ab5b-2f47e668b5a9",
   "metadata": {
    "tags": []
   },
   "outputs": [],
   "source": [
    "# temp = pygris.zctas(year=2000)"
   ]
  },
  {
   "cell_type": "code",
   "execution_count": null,
   "id": "56f41876-8699-4b5a-b4bc-3d523ca42e98",
   "metadata": {
    "tags": []
   },
   "outputs": [],
   "source": [
    "temp = pd.DataFrame(yearly_data[2021])"
   ]
  },
  {
   "cell_type": "code",
   "execution_count": null,
   "id": "880cdd67-28bd-4791-bd64-9d88c320df04",
   "metadata": {
    "tags": []
   },
   "outputs": [],
   "source": [
    "temp.head()"
   ]
  },
  {
   "cell_type": "code",
   "execution_count": null,
   "id": "74b3ef89-653a-4a80-9feb-78e3e8d3873e",
   "metadata": {
    "tags": []
   },
   "outputs": [],
   "source": [
    "temp = temp[['ZCTA5CE20', 'geometry']]"
   ]
  },
  {
   "cell_type": "code",
   "execution_count": null,
   "id": "fd14c8bc-7291-4f07-85cc-e1143a74e625",
   "metadata": {
    "tags": []
   },
   "outputs": [],
   "source": [
    "temp = temp.rename(columns={\"ZCTA5CE20\": \"ZIPcode\"})\n",
    "temp['year'] = 2021\n",
    "temp"
   ]
  },
  {
   "cell_type": "code",
   "execution_count": null,
   "id": "c42d1771-060c-4c92-9cd8-38ccaa37a492",
   "metadata": {
    "tags": []
   },
   "outputs": [],
   "source": [
    "list_zipcode_temp = temp['ZIPcode'].dropna().drop_duplicates().astype(str).tolist()\n",
    "\n",
    "# add preceding 0 to make 4-digit zip codes into 5-digit\n",
    "list_zipcode_temp = [zipcode.zfill(5) for zipcode in list_zipcode_temp]"
   ]
  },
  {
   "cell_type": "code",
   "execution_count": null,
   "id": "7ae1f028-411b-4592-9e6b-650e68a3619b",
   "metadata": {
    "tags": []
   },
   "outputs": [],
   "source": [
    "len(list_zipcode_temp)"
   ]
  },
  {
   "cell_type": "code",
   "execution_count": null,
   "id": "681284cc-2863-461c-8072-cc4be17d16cc",
   "metadata": {
    "tags": []
   },
   "outputs": [],
   "source": [
    "list_zipcode_3 = list_zipcode_3 + list_zipcode_temp"
   ]
  },
  {
   "cell_type": "code",
   "execution_count": null,
   "id": "27c52e02-9ee4-4c38-a3e7-f209bd0fa09d",
   "metadata": {
    "tags": []
   },
   "outputs": [],
   "source": [
    "len(list_zipcode_3)"
   ]
  },
  {
   "cell_type": "code",
   "execution_count": null,
   "id": "18a82319-1e4f-4e83-bc46-86743301421f",
   "metadata": {
    "tags": []
   },
   "outputs": [],
   "source": [
    "list_zipcode_3 = list(set(list_zipcode_3))"
   ]
  },
  {
   "cell_type": "code",
   "execution_count": null,
   "id": "59cf03ed-684d-430c-b018-201e83dddd1c",
   "metadata": {
    "tags": []
   },
   "outputs": [],
   "source": [
    "len(list_zipcode_3)"
   ]
  },
  {
   "cell_type": "code",
   "execution_count": null,
   "id": "0e5d7ea8-f7ba-4800-8181-158d045845d6",
   "metadata": {
    "tags": []
   },
   "outputs": [],
   "source": [
    "set_zipcode = set(list_zipcode)\n",
    "set_zipcode_3 = set(list_zipcode_3)\n",
    "\n",
    "# Find the intersection of the two sets\n",
    "common_zipcodes = set_zipcode.intersection(set_zipcode_3)\n",
    "\n",
    "# Print the number of common zip codes\n",
    "print(\"Number of common zip codes:\", len(common_zipcodes))"
   ]
  },
  {
   "cell_type": "code",
   "execution_count": null,
   "id": "0b8e233a-74a7-4207-8387-acf35e43ec58",
   "metadata": {
    "tags": []
   },
   "outputs": [],
   "source": [
    "len(common_zipcodes)/len(list_zipcode)"
   ]
  },
  {
   "cell_type": "code",
   "execution_count": null,
   "id": "964bf84b-4973-464c-838d-377aa3fb057a",
   "metadata": {
    "tags": []
   },
   "outputs": [],
   "source": [
    "zip_code_df2000 = temp[temp['ZIPcode'].isin(common_zipcodes)]"
   ]
  },
  {
   "cell_type": "code",
   "execution_count": null,
   "id": "08913ba4-5df5-4720-afb3-a35d608c65ec",
   "metadata": {
    "tags": []
   },
   "outputs": [],
   "source": [
    "zip_code_df2000.head()"
   ]
  },
  {
   "cell_type": "code",
   "execution_count": null,
   "id": "9145ea6e-8c46-4a02-a800-0d2a90719b6a",
   "metadata": {
    "tags": []
   },
   "outputs": [],
   "source": [
    "zip_code_df2010 = temp[temp['ZIPcode'].isin(common_zipcodes)]"
   ]
  },
  {
   "cell_type": "code",
   "execution_count": null,
   "id": "34f1331b-5583-48d4-a26e-6fa7afe9689e",
   "metadata": {
    "tags": []
   },
   "outputs": [],
   "source": [
    "zip_code_df2010.head()"
   ]
  },
  {
   "cell_type": "code",
   "execution_count": null,
   "id": "bf81b121-7406-4d4b-b0d8-a6ed81798df2",
   "metadata": {
    "tags": []
   },
   "outputs": [],
   "source": [
    "zip_code_df2012 = temp[temp['ZIPcode'].isin(common_zipcodes)]"
   ]
  },
  {
   "cell_type": "code",
   "execution_count": null,
   "id": "4ff19572-4035-4dd8-88b6-6c6ef3e1eb60",
   "metadata": {
    "tags": []
   },
   "outputs": [],
   "source": [
    "zip_code_df2012.head()"
   ]
  },
  {
   "cell_type": "code",
   "execution_count": null,
   "id": "b96bb93e-34ed-4ada-b31f-548bf56ee6f4",
   "metadata": {
    "tags": []
   },
   "outputs": [],
   "source": [
    "zip_code_df2020 = temp[temp['ZIPcode'].isin(common_zipcodes)]"
   ]
  },
  {
   "cell_type": "code",
   "execution_count": null,
   "id": "f4803561-ff71-4548-a266-df7be21ca9eb",
   "metadata": {
    "tags": []
   },
   "outputs": [],
   "source": [
    "zip_code_df2020.head()"
   ]
  },
  {
   "cell_type": "code",
   "execution_count": null,
   "id": "58201799-16d0-4481-94ba-59135da7645f",
   "metadata": {
    "tags": []
   },
   "outputs": [],
   "source": [
    "zip_code_df2021 = temp[temp['ZIPcode'].isin(common_zipcodes)]"
   ]
  },
  {
   "cell_type": "code",
   "execution_count": null,
   "id": "5c820a52-d455-44d8-809d-220434fa5b1d",
   "metadata": {
    "tags": []
   },
   "outputs": [],
   "source": [
    "zip_code_df2021.head()"
   ]
  },
  {
   "cell_type": "code",
   "execution_count": null,
   "id": "d5aa9ffe-1335-42c2-b596-437f0cf39d31",
   "metadata": {
    "tags": []
   },
   "outputs": [],
   "source": [
    "zip_code_df = pd.concat([zip_code_df2000, zip_code_df2010, zip_code_df2012, zip_code_df2020, zip_code_df2021], ignore_index=True)"
   ]
  },
  {
   "cell_type": "code",
   "execution_count": null,
   "id": "068ef901-7ff2-4a16-8a23-58468672dc24",
   "metadata": {
    "tags": []
   },
   "outputs": [],
   "source": [
    "zip_code_df = zip_code_df.drop_duplicates(subset=['ZIPcode', 'geometry'])"
   ]
  },
  {
   "cell_type": "code",
   "execution_count": null,
   "id": "0435dc7d-99ec-42a6-8b53-f41df86981c2",
   "metadata": {
    "tags": []
   },
   "outputs": [],
   "source": [
    "zip_code_df.shape[0]"
   ]
  },
  {
   "cell_type": "code",
   "execution_count": null,
   "id": "ebe50e9d-e5f4-41bc-9f98-1795fa82e5c9",
   "metadata": {
    "tags": []
   },
   "outputs": [],
   "source": [
    "zip_code_df.head()"
   ]
  },
  {
   "cell_type": "code",
   "execution_count": null,
   "id": "70722afd-74cf-44f9-901a-e11fe4fd4217",
   "metadata": {
    "tags": []
   },
   "outputs": [],
   "source": [
    "# Convert the geometry column to WKT format\n",
    "zip_code_df['geometry'] = zip_code_df['geometry'].apply(lambda geom: geom.wkt)"
   ]
  },
  {
   "cell_type": "code",
   "execution_count": null,
   "id": "e6b04537-1f6e-4465-910c-85ec12ce9286",
   "metadata": {
    "tags": []
   },
   "outputs": [],
   "source": [
    "chunk_size = 25000  # adjust based on your system's capabilities\n",
    "chunks = [x for x in range(0, len(zip_code_df), chunk_size)]\n",
    "\n",
    "for start in chunks:\n",
    "    end = start + chunk_size\n",
    "    temp_df = zip_code_df.iloc[start:end].copy()\n",
    "    # temp_df['geometry'] = temp_df['geometry'].apply(lambda geom: geom.wkt)\n",
    "    temp_df.to_parquet(f\"C:/Users/Asus/Box/Flood Damage PredictionProject/Dataset/zipcode_geometry_{start}_{end}.parquet.gzip\", compression='gzip')"
   ]
  },
  {
   "cell_type": "code",
   "execution_count": 2,
   "id": "94f5977f-7f01-4d20-9a43-481f72e0fe1c",
   "metadata": {
    "tags": []
   },
   "outputs": [],
   "source": [
    "# Read the parquet file\n",
    "df_read = pd.read_parquet(\"C:/Users/Asus/Box/Flood Damage PredictionProject/Dataset/zipcode_geometry_0_25000.parquet.gzip\")\n",
    "\n",
    "# Convert the WKT strings back to geometries\n",
    "gdf_read = gpd.GeoDataFrame(df_read, geometry=df_read['geometry'].apply(lambda x: shapely.wkt.loads(x)))"
   ]
  },
  {
   "cell_type": "code",
   "execution_count": 3,
   "id": "8eb124fe-daf8-48ba-aaed-a3741fcd2457",
   "metadata": {
    "tags": []
   },
   "outputs": [
    {
     "data": {
      "text/html": [
       "<div>\n",
       "<style scoped>\n",
       "    .dataframe tbody tr th:only-of-type {\n",
       "        vertical-align: middle;\n",
       "    }\n",
       "\n",
       "    .dataframe tbody tr th {\n",
       "        vertical-align: top;\n",
       "    }\n",
       "\n",
       "    .dataframe thead th {\n",
       "        text-align: right;\n",
       "    }\n",
       "</style>\n",
       "<table border=\"1\" class=\"dataframe\">\n",
       "  <thead>\n",
       "    <tr style=\"text-align: right;\">\n",
       "      <th></th>\n",
       "      <th>ZIPcode</th>\n",
       "      <th>geometry</th>\n",
       "      <th>year</th>\n",
       "    </tr>\n",
       "  </thead>\n",
       "  <tbody>\n",
       "    <tr>\n",
       "      <th>0</th>\n",
       "      <td>38739</td>\n",
       "      <td>MULTIPOLYGON (((-90.499253 34.053217, -90.4997...</td>\n",
       "      <td>2000</td>\n",
       "    </tr>\n",
       "    <tr>\n",
       "      <th>1</th>\n",
       "      <td>38767</td>\n",
       "      <td>POLYGON ((-90.76477 34.119506, -90.766978 34.1...</td>\n",
       "      <td>2000</td>\n",
       "    </tr>\n",
       "    <tr>\n",
       "      <th>2</th>\n",
       "      <td>38669</td>\n",
       "      <td>POLYGON ((-90.74080599999999 34.184565, -90.74...</td>\n",
       "      <td>2000</td>\n",
       "    </tr>\n",
       "    <tr>\n",
       "      <th>3</th>\n",
       "      <td>38630</td>\n",
       "      <td>MULTIPOLYGON (((-90.67204699999999 34.259564, ...</td>\n",
       "      <td>2000</td>\n",
       "    </tr>\n",
       "    <tr>\n",
       "      <th>4</th>\n",
       "      <td>38639</td>\n",
       "      <td>POLYGON ((-90.456458 34.31975, -90.456758 34.3...</td>\n",
       "      <td>2000</td>\n",
       "    </tr>\n",
       "  </tbody>\n",
       "</table>\n",
       "</div>"
      ],
      "text/plain": [
       "  ZIPcode                                           geometry  year\n",
       "0   38739  MULTIPOLYGON (((-90.499253 34.053217, -90.4997...  2000\n",
       "1   38767  POLYGON ((-90.76477 34.119506, -90.766978 34.1...  2000\n",
       "2   38669  POLYGON ((-90.74080599999999 34.184565, -90.74...  2000\n",
       "3   38630  MULTIPOLYGON (((-90.67204699999999 34.259564, ...  2000\n",
       "4   38639  POLYGON ((-90.456458 34.31975, -90.456758 34.3...  2000"
      ]
     },
     "execution_count": 3,
     "metadata": {},
     "output_type": "execute_result"
    }
   ],
   "source": [
    "df_read.head()"
   ]
  },
  {
   "cell_type": "code",
   "execution_count": 5,
   "id": "80b78697-d88e-40a5-ac02-af0de1ac137d",
   "metadata": {
    "tags": []
   },
   "outputs": [
    {
     "name": "stdout",
     "output_type": "stream",
     "text": [
      "POLYGON ((2 1, 1 1, 1 2, 2 2, 2 1))\n"
     ]
    }
   ],
   "source": [
    "import geopandas as gpd\n",
    "from shapely.wkt import loads\n",
    "\n",
    "# Assuming you have a DataFrame df with columns 'unit' and 'geometry'\n",
    "# Example:\n",
    "#    unit  |  geometry\n",
    "#   -------|-----------\n",
    "#    unit1 |  geom1\n",
    "#    unit2 |  geom2\n",
    "#    unit3 |  geom3\n",
    "\n",
    "# Here's a hypothetical dataset for demonstration\n",
    "data = {\n",
    "    'unit': ['unit1', 'unit2', 'unit3'],\n",
    "    'geometry': ['POLYGON ((0 0, 0 2, 2 2, 2 0, 0 0))',\n",
    "                'POLYGON ((1 1, 1 3, 3 3, 3 1, 1 1))',\n",
    "                'POLYGON ((0.5 0.5, 0.5 2.5, 2.5 2.5, 2.5 0.5, 0.5 0.5))']\n",
    "}\n",
    "\n",
    "# Convert string representations of geometries to actual Shapely geometry objects\n",
    "data['geometry'] = [loads(geom) for geom in data['geometry']]\n",
    "\n",
    "df = gpd.GeoDataFrame(data, geometry='geometry')\n",
    "\n",
    "# Get the intersection of the three geometries\n",
    "intersection_geom = df['geometry'].iloc[0]\n",
    "for geom in df['geometry'].iloc[1:]:\n",
    "    intersection_geom = intersection_geom.intersection(geom)\n",
    "\n",
    "print(intersection_geom)"
   ]
  },
  {
   "cell_type": "code",
   "execution_count": null,
   "id": "68c27f5c-02b6-4477-a98c-75a90bd19ebb",
   "metadata": {
    "tags": []
   },
   "outputs": [],
   "source": [
    "# Drop duplicates\n",
    "zip_code_df = zip_code_df.drop_duplicates(subset=['ZIPcode'])"
   ]
  },
  {
   "cell_type": "code",
   "execution_count": null,
   "id": "5a2217f4-6aab-4cdf-a353-662a0853fac9",
   "metadata": {},
   "outputs": [],
   "source": []
  },
  {
   "cell_type": "code",
   "execution_count": null,
   "id": "46b814cf",
   "metadata": {
    "tags": []
   },
   "outputs": [],
   "source": [
    "list_zipcode_2 = zip_codes_list['ZCTA5CE20'].dropna().drop_duplicates().astype(str).tolist()\n",
    "\n",
    "# add preceding 0 to make 4-digit zip codes into 5-digit\n",
    "list_zipcode_2 = [zipcode.zfill(5) for zipcode in list_zipcode_2]"
   ]
  },
  {
   "cell_type": "code",
   "execution_count": null,
   "id": "c3d0cafc",
   "metadata": {
    "tags": []
   },
   "outputs": [],
   "source": [
    "# Convert both lists to sets\n",
    "set_zipcode = set(list_zipcode)\n",
    "set_zipcode_2 = set(list_zipcode_2)\n",
    "\n",
    "# Find the intersection of the two sets\n",
    "common_zipcodes = set_zipcode.intersection(set_zipcode_2)\n",
    "\n",
    "# Print the number of common zip codes\n",
    "print(\"Number of common zip codes:\", len(common_zipcodes))"
   ]
  },
  {
   "cell_type": "code",
   "execution_count": null,
   "id": "dbe78cda",
   "metadata": {
    "tags": []
   },
   "outputs": [],
   "source": [
    "len(common_zipcodes)/len(list_zipcode)"
   ]
  },
  {
   "cell_type": "code",
   "execution_count": 14,
   "id": "483faee5",
   "metadata": {
    "tags": []
   },
   "outputs": [
    {
     "name": "stdout",
     "output_type": "stream",
     "text": [
      "Using the default year of 2021\n"
     ]
    }
   ],
   "source": [
    "states = pygris.states()\n",
    "states_list = sorted(states['STUSPS'].unique())"
   ]
  },
  {
   "cell_type": "code",
   "execution_count": null,
   "id": "34d3e84e-b7f4-4941-8628-8e2be02f80fa",
   "metadata": {
    "tags": []
   },
   "outputs": [],
   "source": [
    "zip_codes_list['ZCTA5CE20'] = zip_codes_list['ZCTA5CE20'].astype(str)\n",
    "\n",
    "filtered_df = zip_codes_list[zip_codes_list['ZCTA5CE20'].isin(list_zipcode)]"
   ]
  },
  {
   "cell_type": "code",
   "execution_count": null,
   "id": "51f097f5-3e4c-4e85-854a-a3ea2f0bb91c",
   "metadata": {
    "tags": []
   },
   "outputs": [],
   "source": [
    "filtered_df.head()"
   ]
  },
  {
   "cell_type": "code",
   "execution_count": null,
   "id": "271294e0-7bb2-4248-9c73-249eac7cfa41",
   "metadata": {
    "tags": []
   },
   "outputs": [],
   "source": [
    "years2 = [1990, 2000, 2010, 2012, 2013, 2014, 2015, 2016, 2017, 2018, 2019, 2020, 2021]"
   ]
  },
  {
   "cell_type": "code",
   "execution_count": 15,
   "id": "caf1386b-3315-4649-a588-a417c4d5cc09",
   "metadata": {
    "collapsed": true,
    "jupyter": {
     "outputs_hidden": true
    },
    "tags": []
   },
   "outputs": [
    {
     "name": "stdout",
     "output_type": "stream",
     "text": [
      "Using FIPS code '02' for input 'AK'\n",
      "Using FIPS code '01' for input 'AL'\n",
      "Using FIPS code '05' for input 'AR'\n",
      "Using FIPS code '60' for input 'AS'\n",
      "Using FIPS code '04' for input 'AZ'\n",
      "Using FIPS code '06' for input 'CA'\n",
      "Using FIPS code '08' for input 'CO'\n",
      "Using FIPS code '09' for input 'CT'\n",
      "Using FIPS code '11' for input 'DC'\n",
      "Using FIPS code '10' for input 'DE'\n",
      "Using FIPS code '12' for input 'FL'\n",
      "Using FIPS code '13' for input 'GA'\n",
      "Using FIPS code '66' for input 'GU'\n",
      "Using FIPS code '15' for input 'HI'\n",
      "Using FIPS code '19' for input 'IA'\n",
      "Using FIPS code '16' for input 'ID'\n",
      "Using FIPS code '17' for input 'IL'\n",
      "Using FIPS code '18' for input 'IN'\n",
      "Using FIPS code '20' for input 'KS'\n",
      "Using FIPS code '21' for input 'KY'\n",
      "Using FIPS code '22' for input 'LA'\n",
      "Using FIPS code '25' for input 'MA'\n",
      "Using FIPS code '24' for input 'MD'\n",
      "Using FIPS code '23' for input 'ME'\n",
      "Using FIPS code '26' for input 'MI'\n",
      "Using FIPS code '27' for input 'MN'\n",
      "Using FIPS code '29' for input 'MO'\n",
      "Using FIPS code '69' for input 'MP'\n",
      "Using FIPS code '28' for input 'MS'\n",
      "Using FIPS code '30' for input 'MT'\n",
      "Using FIPS code '37' for input 'NC'\n",
      "Using FIPS code '38' for input 'ND'\n",
      "Using FIPS code '31' for input 'NE'\n",
      "Using FIPS code '33' for input 'NH'\n",
      "Using FIPS code '34' for input 'NJ'\n",
      "Using FIPS code '35' for input 'NM'\n",
      "Using FIPS code '32' for input 'NV'\n",
      "Using FIPS code '36' for input 'NY'\n",
      "Using FIPS code '39' for input 'OH'\n",
      "Using FIPS code '40' for input 'OK'\n",
      "Using FIPS code '41' for input 'OR'\n",
      "Using FIPS code '42' for input 'PA'\n",
      "Using FIPS code '72' for input 'PR'\n",
      "Using FIPS code '44' for input 'RI'\n",
      "Using FIPS code '45' for input 'SC'\n",
      "Using FIPS code '46' for input 'SD'\n",
      "Using FIPS code '47' for input 'TN'\n",
      "Using FIPS code '48' for input 'TX'\n",
      "Using FIPS code '49' for input 'UT'\n",
      "Using FIPS code '51' for input 'VA'\n",
      "Using FIPS code '78' for input 'VI'\n",
      "Using FIPS code '50' for input 'VT'\n",
      "Using FIPS code '53' for input 'WA'\n",
      "Using FIPS code '55' for input 'WI'\n",
      "Using FIPS code '54' for input 'WV'\n",
      "Using FIPS code '56' for input 'WY'\n"
     ]
    }
   ],
   "source": [
    "BG_list = []\n",
    "\n",
    "for i in states_list:\n",
    "    BG_list.append(pygris.block_groups(state = i, year = 2021))"
   ]
  },
  {
   "cell_type": "code",
   "execution_count": 16,
   "id": "6fb1046f-e03c-4b13-89bf-4bd15c765482",
   "metadata": {
    "collapsed": true,
    "jupyter": {
     "outputs_hidden": true
    },
    "tags": []
   },
   "outputs": [
    {
     "name": "stdout",
     "output_type": "stream",
     "text": [
      "Using FIPS code '02' for input 'AK'\n",
      "Using FIPS code '01' for input 'AL'\n",
      "Using FIPS code '05' for input 'AR'\n",
      "Using FIPS code '60' for input 'AS'\n",
      "Using FIPS code '04' for input 'AZ'\n",
      "Using FIPS code '06' for input 'CA'\n",
      "Using FIPS code '08' for input 'CO'\n",
      "Using FIPS code '09' for input 'CT'\n",
      "Using FIPS code '11' for input 'DC'\n",
      "Using FIPS code '10' for input 'DE'\n",
      "Using FIPS code '12' for input 'FL'\n",
      "Using FIPS code '13' for input 'GA'\n",
      "Using FIPS code '66' for input 'GU'\n",
      "Using FIPS code '15' for input 'HI'\n",
      "Using FIPS code '19' for input 'IA'\n",
      "Using FIPS code '16' for input 'ID'\n",
      "Using FIPS code '17' for input 'IL'\n",
      "Using FIPS code '18' for input 'IN'\n",
      "Using FIPS code '20' for input 'KS'\n",
      "Using FIPS code '21' for input 'KY'\n",
      "Using FIPS code '22' for input 'LA'\n",
      "Using FIPS code '25' for input 'MA'\n",
      "Using FIPS code '24' for input 'MD'\n",
      "Using FIPS code '23' for input 'ME'\n",
      "Using FIPS code '26' for input 'MI'\n",
      "Using FIPS code '27' for input 'MN'\n",
      "Using FIPS code '29' for input 'MO'\n",
      "Using FIPS code '69' for input 'MP'\n",
      "Using FIPS code '28' for input 'MS'\n",
      "Using FIPS code '30' for input 'MT'\n",
      "Using FIPS code '37' for input 'NC'\n",
      "Using FIPS code '38' for input 'ND'\n",
      "Using FIPS code '31' for input 'NE'\n",
      "Using FIPS code '33' for input 'NH'\n",
      "Using FIPS code '34' for input 'NJ'\n",
      "Using FIPS code '35' for input 'NM'\n",
      "Using FIPS code '32' for input 'NV'\n",
      "Using FIPS code '36' for input 'NY'\n",
      "Using FIPS code '39' for input 'OH'\n",
      "Using FIPS code '40' for input 'OK'\n",
      "Using FIPS code '41' for input 'OR'\n",
      "Using FIPS code '42' for input 'PA'\n",
      "Using FIPS code '72' for input 'PR'\n",
      "Using FIPS code '44' for input 'RI'\n",
      "Using FIPS code '45' for input 'SC'\n",
      "Using FIPS code '46' for input 'SD'\n",
      "Using FIPS code '47' for input 'TN'\n",
      "Using FIPS code '48' for input 'TX'\n",
      "Using FIPS code '49' for input 'UT'\n",
      "Using FIPS code '51' for input 'VA'\n",
      "Using FIPS code '78' for input 'VI'\n",
      "Using FIPS code '50' for input 'VT'\n",
      "Using FIPS code '53' for input 'WA'\n",
      "Using FIPS code '55' for input 'WI'\n",
      "Using FIPS code '54' for input 'WV'\n",
      "Using FIPS code '56' for input 'WY'\n"
     ]
    }
   ],
   "source": [
    "BG_list_2012 = []\n",
    "\n",
    "for i in states_list:\n",
    "    BG_list_2012.append(pygris.block_groups(state = i, year = 2012))"
   ]
  },
  {
   "cell_type": "code",
   "execution_count": 17,
   "id": "9c9db1ea-a8c2-43ad-bef0-4df7bbfa557f",
   "metadata": {
    "collapsed": true,
    "jupyter": {
     "outputs_hidden": true
    },
    "tags": []
   },
   "outputs": [
    {
     "name": "stdout",
     "output_type": "stream",
     "text": [
      "Using FIPS code '02' for input 'AK'\n",
      "Using FIPS code '01' for input 'AL'\n",
      "Using FIPS code '05' for input 'AR'\n",
      "Using FIPS code '60' for input 'AS'\n",
      "Using FIPS code '04' for input 'AZ'\n",
      "Using FIPS code '06' for input 'CA'\n",
      "Using FIPS code '08' for input 'CO'\n",
      "Using FIPS code '09' for input 'CT'\n",
      "Using FIPS code '11' for input 'DC'\n",
      "Using FIPS code '10' for input 'DE'\n",
      "Using FIPS code '12' for input 'FL'\n",
      "Using FIPS code '13' for input 'GA'\n",
      "Using FIPS code '66' for input 'GU'\n",
      "Using FIPS code '15' for input 'HI'\n",
      "Using FIPS code '19' for input 'IA'\n",
      "Using FIPS code '16' for input 'ID'\n",
      "Using FIPS code '17' for input 'IL'\n",
      "Using FIPS code '18' for input 'IN'\n",
      "Using FIPS code '20' for input 'KS'\n",
      "Using FIPS code '21' for input 'KY'\n",
      "Using FIPS code '22' for input 'LA'\n",
      "Using FIPS code '25' for input 'MA'\n",
      "Using FIPS code '24' for input 'MD'\n",
      "Using FIPS code '23' for input 'ME'\n",
      "Using FIPS code '26' for input 'MI'\n",
      "Using FIPS code '27' for input 'MN'\n",
      "Using FIPS code '29' for input 'MO'\n",
      "Using FIPS code '69' for input 'MP'\n",
      "Using FIPS code '28' for input 'MS'\n",
      "Using FIPS code '30' for input 'MT'\n",
      "Using FIPS code '37' for input 'NC'\n",
      "Using FIPS code '38' for input 'ND'\n",
      "Using FIPS code '31' for input 'NE'\n",
      "Using FIPS code '33' for input 'NH'\n",
      "Using FIPS code '34' for input 'NJ'\n",
      "Using FIPS code '35' for input 'NM'\n",
      "Using FIPS code '32' for input 'NV'\n",
      "Using FIPS code '36' for input 'NY'\n",
      "Using FIPS code '39' for input 'OH'\n",
      "Using FIPS code '40' for input 'OK'\n",
      "Using FIPS code '41' for input 'OR'\n",
      "Using FIPS code '42' for input 'PA'\n",
      "Using FIPS code '72' for input 'PR'\n",
      "Using FIPS code '44' for input 'RI'\n",
      "Using FIPS code '45' for input 'SC'\n",
      "Using FIPS code '46' for input 'SD'\n",
      "Using FIPS code '47' for input 'TN'\n",
      "Using FIPS code '48' for input 'TX'\n",
      "Using FIPS code '49' for input 'UT'\n",
      "Using FIPS code '51' for input 'VA'\n",
      "Using FIPS code '78' for input 'VI'\n",
      "Using FIPS code '50' for input 'VT'\n",
      "Using FIPS code '53' for input 'WA'\n",
      "Using FIPS code '55' for input 'WI'\n",
      "Using FIPS code '54' for input 'WV'\n",
      "Using FIPS code '56' for input 'WY'\n"
     ]
    }
   ],
   "source": [
    "BG_list_2010 = []\n",
    "\n",
    "for i in states_list:\n",
    "    BG_list_2010.append(pygris.block_groups(state = i, year = 2010))"
   ]
  },
  {
   "cell_type": "code",
   "execution_count": 18,
   "id": "b356267f",
   "metadata": {
    "collapsed": true,
    "jupyter": {
     "outputs_hidden": true
    },
    "tags": []
   },
   "outputs": [
    {
     "name": "stdout",
     "output_type": "stream",
     "text": [
      "Using FIPS code '02' for input 'AK'\n",
      "Using FIPS code '01' for input 'AL'\n",
      "Using FIPS code '05' for input 'AR'\n",
      "Using FIPS code '60' for input 'AS'\n",
      "Using FIPS code '04' for input 'AZ'\n",
      "Using FIPS code '06' for input 'CA'\n",
      "Using FIPS code '08' for input 'CO'\n",
      "Using FIPS code '09' for input 'CT'\n",
      "Using FIPS code '11' for input 'DC'\n",
      "Using FIPS code '10' for input 'DE'\n",
      "Using FIPS code '12' for input 'FL'\n",
      "Using FIPS code '13' for input 'GA'\n",
      "Using FIPS code '66' for input 'GU'\n",
      "Using FIPS code '15' for input 'HI'\n",
      "Using FIPS code '19' for input 'IA'\n",
      "Using FIPS code '16' for input 'ID'\n",
      "Using FIPS code '17' for input 'IL'\n",
      "Using FIPS code '18' for input 'IN'\n",
      "Using FIPS code '20' for input 'KS'\n",
      "Using FIPS code '21' for input 'KY'\n",
      "Using FIPS code '22' for input 'LA'\n",
      "Using FIPS code '25' for input 'MA'\n",
      "Using FIPS code '24' for input 'MD'\n",
      "Using FIPS code '23' for input 'ME'\n",
      "Using FIPS code '26' for input 'MI'\n",
      "Using FIPS code '27' for input 'MN'\n",
      "Using FIPS code '29' for input 'MO'\n",
      "Using FIPS code '69' for input 'MP'\n",
      "Using FIPS code '28' for input 'MS'\n",
      "Using FIPS code '30' for input 'MT'\n",
      "Using FIPS code '37' for input 'NC'\n",
      "Using FIPS code '38' for input 'ND'\n",
      "Using FIPS code '31' for input 'NE'\n",
      "Using FIPS code '33' for input 'NH'\n",
      "Using FIPS code '34' for input 'NJ'\n",
      "Using FIPS code '35' for input 'NM'\n",
      "Using FIPS code '32' for input 'NV'\n",
      "Using FIPS code '36' for input 'NY'\n",
      "Using FIPS code '39' for input 'OH'\n",
      "Using FIPS code '40' for input 'OK'\n",
      "Using FIPS code '41' for input 'OR'\n",
      "Using FIPS code '42' for input 'PA'\n",
      "Using FIPS code '72' for input 'PR'\n",
      "Using FIPS code '44' for input 'RI'\n",
      "Using FIPS code '45' for input 'SC'\n",
      "Using FIPS code '46' for input 'SD'\n",
      "Using FIPS code '47' for input 'TN'\n",
      "Using FIPS code '48' for input 'TX'\n",
      "Using FIPS code '49' for input 'UT'\n",
      "Using FIPS code '51' for input 'VA'\n",
      "Using FIPS code '78' for input 'VI'\n",
      "Using FIPS code '50' for input 'VT'\n",
      "Using FIPS code '53' for input 'WA'\n",
      "Using FIPS code '55' for input 'WI'\n",
      "Using FIPS code '54' for input 'WV'\n",
      "Using FIPS code '56' for input 'WY'\n"
     ]
    }
   ],
   "source": [
    "BG_list_2000 = []\n",
    "\n",
    "for i in states_list:\n",
    "    BG_list_2000.append(pygris.block_groups(state = i, year = 2000))"
   ]
  },
  {
   "cell_type": "code",
   "execution_count": 20,
   "id": "8b77dd98-fea7-4123-8057-0669a39e280b",
   "metadata": {
    "collapsed": true,
    "jupyter": {
     "outputs_hidden": true
    },
    "tags": []
   },
   "outputs": [
    {
     "name": "stdout",
     "output_type": "stream",
     "text": [
      "Using FIPS code '02' for input 'AK'\n",
      "Using FIPS code '01' for input 'AL'\n",
      "Using FIPS code '05' for input 'AR'\n",
      "Using FIPS code '60' for input 'AS'\n",
      "Using FIPS code '04' for input 'AZ'\n",
      "Using FIPS code '06' for input 'CA'\n",
      "Using FIPS code '08' for input 'CO'\n",
      "Using FIPS code '09' for input 'CT'\n",
      "Using FIPS code '11' for input 'DC'\n",
      "Using FIPS code '10' for input 'DE'\n",
      "Using FIPS code '12' for input 'FL'\n",
      "Using FIPS code '13' for input 'GA'\n",
      "Using FIPS code '66' for input 'GU'\n",
      "Using FIPS code '15' for input 'HI'\n",
      "Using FIPS code '19' for input 'IA'\n",
      "Using FIPS code '16' for input 'ID'\n",
      "Using FIPS code '17' for input 'IL'\n",
      "Using FIPS code '18' for input 'IN'\n",
      "Using FIPS code '20' for input 'KS'\n",
      "Using FIPS code '21' for input 'KY'\n",
      "Using FIPS code '22' for input 'LA'\n",
      "Using FIPS code '25' for input 'MA'\n",
      "Using FIPS code '24' for input 'MD'\n",
      "Using FIPS code '23' for input 'ME'\n",
      "Using FIPS code '26' for input 'MI'\n",
      "Using FIPS code '27' for input 'MN'\n",
      "Using FIPS code '29' for input 'MO'\n",
      "Using FIPS code '69' for input 'MP'\n",
      "Using FIPS code '28' for input 'MS'\n",
      "Using FIPS code '30' for input 'MT'\n",
      "Using FIPS code '37' for input 'NC'\n",
      "Using FIPS code '38' for input 'ND'\n",
      "Using FIPS code '31' for input 'NE'\n",
      "Using FIPS code '33' for input 'NH'\n",
      "Using FIPS code '34' for input 'NJ'\n",
      "Using FIPS code '35' for input 'NM'\n",
      "Using FIPS code '32' for input 'NV'\n",
      "Using FIPS code '36' for input 'NY'\n",
      "Using FIPS code '39' for input 'OH'\n",
      "Using FIPS code '40' for input 'OK'\n",
      "Using FIPS code '41' for input 'OR'\n",
      "Using FIPS code '42' for input 'PA'\n",
      "Using FIPS code '72' for input 'PR'\n",
      "Using FIPS code '44' for input 'RI'\n",
      "Using FIPS code '45' for input 'SC'\n",
      "Using FIPS code '46' for input 'SD'\n",
      "Using FIPS code '47' for input 'TN'\n",
      "Using FIPS code '48' for input 'TX'\n",
      "Using FIPS code '49' for input 'UT'\n",
      "Using FIPS code '51' for input 'VA'\n",
      "Using FIPS code '78' for input 'VI'\n",
      "Using FIPS code '50' for input 'VT'\n",
      "Using FIPS code '53' for input 'WA'\n",
      "Using FIPS code '55' for input 'WI'\n",
      "Using FIPS code '54' for input 'WV'\n",
      "Using FIPS code '56' for input 'WY'\n"
     ]
    }
   ],
   "source": [
    "BG_list_1990 = []\n",
    "\n",
    "for i in states_list:\n",
    "    BG_list_1990.append(pygris.block_groups(state = i, year = 1990, cb = True))"
   ]
  },
  {
   "cell_type": "code",
   "execution_count": 147,
   "id": "4305df31-ac20-4aa3-b23c-826933c1b207",
   "metadata": {
    "tags": []
   },
   "outputs": [],
   "source": [
    "temp = pd.concat(BG_list_1990, ignore_index=True)"
   ]
  },
  {
   "cell_type": "code",
   "execution_count": 148,
   "id": "c225a6c4-8894-4630-9819-4fe3335ab19c",
   "metadata": {
    "collapsed": true,
    "jupyter": {
     "outputs_hidden": true
    },
    "tags": []
   },
   "outputs": [
    {
     "data": {
      "text/html": [
       "<div>\n",
       "<style scoped>\n",
       "    .dataframe tbody tr th:only-of-type {\n",
       "        vertical-align: middle;\n",
       "    }\n",
       "\n",
       "    .dataframe tbody tr th {\n",
       "        vertical-align: top;\n",
       "    }\n",
       "\n",
       "    .dataframe thead th {\n",
       "        text-align: right;\n",
       "    }\n",
       "</style>\n",
       "<table border=\"1\" class=\"dataframe\">\n",
       "  <thead>\n",
       "    <tr style=\"text-align: right;\">\n",
       "      <th></th>\n",
       "      <th>AREA</th>\n",
       "      <th>PERIMETER</th>\n",
       "      <th>BG02_D90_</th>\n",
       "      <th>BG02_D90_I</th>\n",
       "      <th>POLY_</th>\n",
       "      <th>SUBCLASS</th>\n",
       "      <th>SUBCLASS_</th>\n",
       "      <th>RINGS_OK</th>\n",
       "      <th>RINGS_NOK</th>\n",
       "      <th>ST</th>\n",
       "      <th>CO</th>\n",
       "      <th>TRACT</th>\n",
       "      <th>BG</th>\n",
       "      <th>GEOID</th>\n",
       "      <th>AREALAND</th>\n",
       "      <th>AREAWAT</th>\n",
       "      <th>AREATOT</th>\n",
       "      <th>NAME</th>\n",
       "      <th>geometry</th>\n",
       "      <th>BG01_D90_</th>\n",
       "      <th>BG01_D90_I</th>\n",
       "      <th>BG05_D90_</th>\n",
       "      <th>BG05_D90_I</th>\n",
       "      <th>BG60_D90_</th>\n",
       "      <th>BG60_D90_I</th>\n",
       "      <th>BG04_D90_</th>\n",
       "      <th>BG04_D90_I</th>\n",
       "      <th>BG06_D90_</th>\n",
       "      <th>BG06_D90_I</th>\n",
       "      <th>BG08_D90_</th>\n",
       "      <th>BG08_D90_I</th>\n",
       "      <th>BG09_D90_</th>\n",
       "      <th>BG09_D90_I</th>\n",
       "      <th>BG11_D90_</th>\n",
       "      <th>BG11_D90_I</th>\n",
       "      <th>BG10_D90_</th>\n",
       "      <th>BG10_D90_I</th>\n",
       "      <th>BG12_D90_</th>\n",
       "      <th>BG12_D90_I</th>\n",
       "      <th>BG13_D90_</th>\n",
       "      <th>BG13_D90_I</th>\n",
       "      <th>BG66_D90_</th>\n",
       "      <th>BG66_D90_I</th>\n",
       "      <th>BG15_D90_</th>\n",
       "      <th>BG15_D90_I</th>\n",
       "      <th>BG19_D90_</th>\n",
       "      <th>BG19_D90_I</th>\n",
       "      <th>BG16_D90_</th>\n",
       "      <th>BG16_D90_I</th>\n",
       "      <th>BG17_D90_</th>\n",
       "      <th>BG17_D90_I</th>\n",
       "      <th>BG18_D90_</th>\n",
       "      <th>BG18_D90_I</th>\n",
       "      <th>BG20_D90_</th>\n",
       "      <th>BG20_D90_I</th>\n",
       "      <th>BG21_D90_</th>\n",
       "      <th>BG21_D90_I</th>\n",
       "      <th>BG22_D90_</th>\n",
       "      <th>BG22_D90_I</th>\n",
       "      <th>BG25_D90_</th>\n",
       "      <th>BG25_D90_I</th>\n",
       "      <th>BG24_D90_</th>\n",
       "      <th>BG24_D90_I</th>\n",
       "      <th>BG23_D90_</th>\n",
       "      <th>BG23_D90_I</th>\n",
       "      <th>BG26_D90_</th>\n",
       "      <th>BG26_D90_I</th>\n",
       "      <th>BG27_D90_</th>\n",
       "      <th>BG27_D90_I</th>\n",
       "      <th>BG29_D90_</th>\n",
       "      <th>BG29_D90_I</th>\n",
       "      <th>BG69_D90_</th>\n",
       "      <th>BG69_D90_I</th>\n",
       "      <th>BG28_D90_</th>\n",
       "      <th>BG28_D90_I</th>\n",
       "      <th>BG30_D90_</th>\n",
       "      <th>BG30_D90_I</th>\n",
       "      <th>BG37_D90_</th>\n",
       "      <th>BG37_D90_I</th>\n",
       "      <th>BG38_D90_</th>\n",
       "      <th>BG38_D90_I</th>\n",
       "      <th>BG31_D90_</th>\n",
       "      <th>BG31_D90_I</th>\n",
       "      <th>BG33_D90_</th>\n",
       "      <th>BG33_D90_I</th>\n",
       "      <th>BG34_D90_</th>\n",
       "      <th>BG34_D90_I</th>\n",
       "      <th>BG35_D90_</th>\n",
       "      <th>BG35_D90_I</th>\n",
       "      <th>BG32_D90_</th>\n",
       "      <th>BG32_D90_I</th>\n",
       "      <th>BG36_D90_</th>\n",
       "      <th>BG36_D90_I</th>\n",
       "      <th>BG39_D90_</th>\n",
       "      <th>BG39_D90_I</th>\n",
       "      <th>BG40_D90_</th>\n",
       "      <th>BG40_D90_I</th>\n",
       "      <th>BG41_D90_</th>\n",
       "      <th>BG41_D90_I</th>\n",
       "      <th>BG42_D90_</th>\n",
       "      <th>BG42_D90_I</th>\n",
       "      <th>BG72_D90_</th>\n",
       "      <th>BG72_D90_I</th>\n",
       "      <th>BG44_D90_</th>\n",
       "      <th>BG44_D90_I</th>\n",
       "      <th>BG45_D90_</th>\n",
       "      <th>BG45_D90_I</th>\n",
       "      <th>BG46_D90_</th>\n",
       "      <th>BG46_D90_I</th>\n",
       "      <th>BG47_D90_</th>\n",
       "      <th>BG47_D90_I</th>\n",
       "      <th>BG48_D90_</th>\n",
       "      <th>BG48_D90_I</th>\n",
       "      <th>BG49_D90_</th>\n",
       "      <th>BG49_D90_I</th>\n",
       "      <th>BG51_D90_</th>\n",
       "      <th>BG51_D90_I</th>\n",
       "      <th>BG78_D90_</th>\n",
       "      <th>BG78_D90_I</th>\n",
       "      <th>BG50_D90_</th>\n",
       "      <th>BG50_D90_I</th>\n",
       "      <th>BG53_D90_</th>\n",
       "      <th>BG53_D90_I</th>\n",
       "      <th>BG55_D90_</th>\n",
       "      <th>BG55_D90_I</th>\n",
       "      <th>BG54_D90_</th>\n",
       "      <th>BG54_D90_I</th>\n",
       "      <th>BG56_D90_</th>\n",
       "      <th>BG56_D90_I</th>\n",
       "    </tr>\n",
       "  </thead>\n",
       "  <tbody>\n",
       "    <tr>\n",
       "      <th>0</th>\n",
       "      <td>0.030489</td>\n",
       "      <td>0.947504</td>\n",
       "      <td>2.0</td>\n",
       "      <td>1.0</td>\n",
       "      <td>2</td>\n",
       "      <td>BG_02SUB</td>\n",
       "      <td>1</td>\n",
       "      <td>1</td>\n",
       "      <td>0</td>\n",
       "      <td>02</td>\n",
       "      <td>185</td>\n",
       "      <td>950100</td>\n",
       "      <td>1</td>\n",
       "      <td>021859501001</td>\n",
       "      <td>110.099</td>\n",
       "      <td>277.052</td>\n",
       "      <td>387.151</td>\n",
       "      <td>BG 1</td>\n",
       "      <td>POLYGON ((-156.77553 71.29742, -156.77612 71.2...</td>\n",
       "      <td>NaN</td>\n",
       "      <td>NaN</td>\n",
       "      <td>NaN</td>\n",
       "      <td>NaN</td>\n",
       "      <td>NaN</td>\n",
       "      <td>NaN</td>\n",
       "      <td>NaN</td>\n",
       "      <td>NaN</td>\n",
       "      <td>NaN</td>\n",
       "      <td>NaN</td>\n",
       "      <td>NaN</td>\n",
       "      <td>NaN</td>\n",
       "      <td>NaN</td>\n",
       "      <td>NaN</td>\n",
       "      <td>NaN</td>\n",
       "      <td>NaN</td>\n",
       "      <td>NaN</td>\n",
       "      <td>NaN</td>\n",
       "      <td>NaN</td>\n",
       "      <td>NaN</td>\n",
       "      <td>NaN</td>\n",
       "      <td>NaN</td>\n",
       "      <td>NaN</td>\n",
       "      <td>NaN</td>\n",
       "      <td>NaN</td>\n",
       "      <td>NaN</td>\n",
       "      <td>NaN</td>\n",
       "      <td>NaN</td>\n",
       "      <td>NaN</td>\n",
       "      <td>NaN</td>\n",
       "      <td>NaN</td>\n",
       "      <td>NaN</td>\n",
       "      <td>NaN</td>\n",
       "      <td>NaN</td>\n",
       "      <td>NaN</td>\n",
       "      <td>NaN</td>\n",
       "      <td>NaN</td>\n",
       "      <td>NaN</td>\n",
       "      <td>NaN</td>\n",
       "      <td>NaN</td>\n",
       "      <td>NaN</td>\n",
       "      <td>NaN</td>\n",
       "      <td>NaN</td>\n",
       "      <td>NaN</td>\n",
       "      <td>NaN</td>\n",
       "      <td>NaN</td>\n",
       "      <td>NaN</td>\n",
       "      <td>NaN</td>\n",
       "      <td>NaN</td>\n",
       "      <td>NaN</td>\n",
       "      <td>NaN</td>\n",
       "      <td>NaN</td>\n",
       "      <td>NaN</td>\n",
       "      <td>NaN</td>\n",
       "      <td>NaN</td>\n",
       "      <td>NaN</td>\n",
       "      <td>NaN</td>\n",
       "      <td>NaN</td>\n",
       "      <td>NaN</td>\n",
       "      <td>NaN</td>\n",
       "      <td>NaN</td>\n",
       "      <td>NaN</td>\n",
       "      <td>NaN</td>\n",
       "      <td>NaN</td>\n",
       "      <td>NaN</td>\n",
       "      <td>NaN</td>\n",
       "      <td>NaN</td>\n",
       "      <td>NaN</td>\n",
       "      <td>NaN</td>\n",
       "      <td>NaN</td>\n",
       "      <td>NaN</td>\n",
       "      <td>NaN</td>\n",
       "      <td>NaN</td>\n",
       "      <td>NaN</td>\n",
       "      <td>NaN</td>\n",
       "      <td>NaN</td>\n",
       "      <td>NaN</td>\n",
       "      <td>NaN</td>\n",
       "      <td>NaN</td>\n",
       "      <td>NaN</td>\n",
       "      <td>NaN</td>\n",
       "      <td>NaN</td>\n",
       "      <td>NaN</td>\n",
       "      <td>NaN</td>\n",
       "      <td>NaN</td>\n",
       "      <td>NaN</td>\n",
       "      <td>NaN</td>\n",
       "      <td>NaN</td>\n",
       "      <td>NaN</td>\n",
       "      <td>NaN</td>\n",
       "      <td>NaN</td>\n",
       "      <td>NaN</td>\n",
       "      <td>NaN</td>\n",
       "      <td>NaN</td>\n",
       "      <td>NaN</td>\n",
       "      <td>NaN</td>\n",
       "      <td>NaN</td>\n",
       "      <td>NaN</td>\n",
       "      <td>NaN</td>\n",
       "      <td>NaN</td>\n",
       "      <td>NaN</td>\n",
       "      <td>NaN</td>\n",
       "      <td>NaN</td>\n",
       "      <td>NaN</td>\n",
       "      <td>NaN</td>\n",
       "      <td>NaN</td>\n",
       "      <td>NaN</td>\n",
       "      <td>NaN</td>\n",
       "      <td>NaN</td>\n",
       "      <td>NaN</td>\n",
       "    </tr>\n",
       "    <tr>\n",
       "      <th>1</th>\n",
       "      <td>0.036164</td>\n",
       "      <td>0.936381</td>\n",
       "      <td>3.0</td>\n",
       "      <td>2.0</td>\n",
       "      <td>3</td>\n",
       "      <td>BG_02SUB</td>\n",
       "      <td>2</td>\n",
       "      <td>1</td>\n",
       "      <td>0</td>\n",
       "      <td>02</td>\n",
       "      <td>185</td>\n",
       "      <td>950100</td>\n",
       "      <td>3</td>\n",
       "      <td>021859501003</td>\n",
       "      <td>140.170</td>\n",
       "      <td>96.286</td>\n",
       "      <td>236.456</td>\n",
       "      <td>BG 3</td>\n",
       "      <td>POLYGON ((-156.80670 71.28787, -156.80565 71.2...</td>\n",
       "      <td>NaN</td>\n",
       "      <td>NaN</td>\n",
       "      <td>NaN</td>\n",
       "      <td>NaN</td>\n",
       "      <td>NaN</td>\n",
       "      <td>NaN</td>\n",
       "      <td>NaN</td>\n",
       "      <td>NaN</td>\n",
       "      <td>NaN</td>\n",
       "      <td>NaN</td>\n",
       "      <td>NaN</td>\n",
       "      <td>NaN</td>\n",
       "      <td>NaN</td>\n",
       "      <td>NaN</td>\n",
       "      <td>NaN</td>\n",
       "      <td>NaN</td>\n",
       "      <td>NaN</td>\n",
       "      <td>NaN</td>\n",
       "      <td>NaN</td>\n",
       "      <td>NaN</td>\n",
       "      <td>NaN</td>\n",
       "      <td>NaN</td>\n",
       "      <td>NaN</td>\n",
       "      <td>NaN</td>\n",
       "      <td>NaN</td>\n",
       "      <td>NaN</td>\n",
       "      <td>NaN</td>\n",
       "      <td>NaN</td>\n",
       "      <td>NaN</td>\n",
       "      <td>NaN</td>\n",
       "      <td>NaN</td>\n",
       "      <td>NaN</td>\n",
       "      <td>NaN</td>\n",
       "      <td>NaN</td>\n",
       "      <td>NaN</td>\n",
       "      <td>NaN</td>\n",
       "      <td>NaN</td>\n",
       "      <td>NaN</td>\n",
       "      <td>NaN</td>\n",
       "      <td>NaN</td>\n",
       "      <td>NaN</td>\n",
       "      <td>NaN</td>\n",
       "      <td>NaN</td>\n",
       "      <td>NaN</td>\n",
       "      <td>NaN</td>\n",
       "      <td>NaN</td>\n",
       "      <td>NaN</td>\n",
       "      <td>NaN</td>\n",
       "      <td>NaN</td>\n",
       "      <td>NaN</td>\n",
       "      <td>NaN</td>\n",
       "      <td>NaN</td>\n",
       "      <td>NaN</td>\n",
       "      <td>NaN</td>\n",
       "      <td>NaN</td>\n",
       "      <td>NaN</td>\n",
       "      <td>NaN</td>\n",
       "      <td>NaN</td>\n",
       "      <td>NaN</td>\n",
       "      <td>NaN</td>\n",
       "      <td>NaN</td>\n",
       "      <td>NaN</td>\n",
       "      <td>NaN</td>\n",
       "      <td>NaN</td>\n",
       "      <td>NaN</td>\n",
       "      <td>NaN</td>\n",
       "      <td>NaN</td>\n",
       "      <td>NaN</td>\n",
       "      <td>NaN</td>\n",
       "      <td>NaN</td>\n",
       "      <td>NaN</td>\n",
       "      <td>NaN</td>\n",
       "      <td>NaN</td>\n",
       "      <td>NaN</td>\n",
       "      <td>NaN</td>\n",
       "      <td>NaN</td>\n",
       "      <td>NaN</td>\n",
       "      <td>NaN</td>\n",
       "      <td>NaN</td>\n",
       "      <td>NaN</td>\n",
       "      <td>NaN</td>\n",
       "      <td>NaN</td>\n",
       "      <td>NaN</td>\n",
       "      <td>NaN</td>\n",
       "      <td>NaN</td>\n",
       "      <td>NaN</td>\n",
       "      <td>NaN</td>\n",
       "      <td>NaN</td>\n",
       "      <td>NaN</td>\n",
       "      <td>NaN</td>\n",
       "      <td>NaN</td>\n",
       "      <td>NaN</td>\n",
       "      <td>NaN</td>\n",
       "      <td>NaN</td>\n",
       "      <td>NaN</td>\n",
       "      <td>NaN</td>\n",
       "      <td>NaN</td>\n",
       "      <td>NaN</td>\n",
       "      <td>NaN</td>\n",
       "      <td>NaN</td>\n",
       "      <td>NaN</td>\n",
       "      <td>NaN</td>\n",
       "      <td>NaN</td>\n",
       "      <td>NaN</td>\n",
       "      <td>NaN</td>\n",
       "      <td>NaN</td>\n",
       "      <td>NaN</td>\n",
       "      <td>NaN</td>\n",
       "      <td>NaN</td>\n",
       "      <td>NaN</td>\n",
       "    </tr>\n",
       "    <tr>\n",
       "      <th>2</th>\n",
       "      <td>0.000117</td>\n",
       "      <td>0.072402</td>\n",
       "      <td>4.0</td>\n",
       "      <td>3.0</td>\n",
       "      <td>4</td>\n",
       "      <td>BG_02SUB</td>\n",
       "      <td>3</td>\n",
       "      <td>1</td>\n",
       "      <td>0</td>\n",
       "      <td>02</td>\n",
       "      <td>185</td>\n",
       "      <td>950100</td>\n",
       "      <td>2</td>\n",
       "      <td>021859501002</td>\n",
       "      <td>0.458</td>\n",
       "      <td>7.978</td>\n",
       "      <td>8.436</td>\n",
       "      <td>BG 2</td>\n",
       "      <td>POLYGON ((-156.77553 71.29742, -156.78188 71.2...</td>\n",
       "      <td>NaN</td>\n",
       "      <td>NaN</td>\n",
       "      <td>NaN</td>\n",
       "      <td>NaN</td>\n",
       "      <td>NaN</td>\n",
       "      <td>NaN</td>\n",
       "      <td>NaN</td>\n",
       "      <td>NaN</td>\n",
       "      <td>NaN</td>\n",
       "      <td>NaN</td>\n",
       "      <td>NaN</td>\n",
       "      <td>NaN</td>\n",
       "      <td>NaN</td>\n",
       "      <td>NaN</td>\n",
       "      <td>NaN</td>\n",
       "      <td>NaN</td>\n",
       "      <td>NaN</td>\n",
       "      <td>NaN</td>\n",
       "      <td>NaN</td>\n",
       "      <td>NaN</td>\n",
       "      <td>NaN</td>\n",
       "      <td>NaN</td>\n",
       "      <td>NaN</td>\n",
       "      <td>NaN</td>\n",
       "      <td>NaN</td>\n",
       "      <td>NaN</td>\n",
       "      <td>NaN</td>\n",
       "      <td>NaN</td>\n",
       "      <td>NaN</td>\n",
       "      <td>NaN</td>\n",
       "      <td>NaN</td>\n",
       "      <td>NaN</td>\n",
       "      <td>NaN</td>\n",
       "      <td>NaN</td>\n",
       "      <td>NaN</td>\n",
       "      <td>NaN</td>\n",
       "      <td>NaN</td>\n",
       "      <td>NaN</td>\n",
       "      <td>NaN</td>\n",
       "      <td>NaN</td>\n",
       "      <td>NaN</td>\n",
       "      <td>NaN</td>\n",
       "      <td>NaN</td>\n",
       "      <td>NaN</td>\n",
       "      <td>NaN</td>\n",
       "      <td>NaN</td>\n",
       "      <td>NaN</td>\n",
       "      <td>NaN</td>\n",
       "      <td>NaN</td>\n",
       "      <td>NaN</td>\n",
       "      <td>NaN</td>\n",
       "      <td>NaN</td>\n",
       "      <td>NaN</td>\n",
       "      <td>NaN</td>\n",
       "      <td>NaN</td>\n",
       "      <td>NaN</td>\n",
       "      <td>NaN</td>\n",
       "      <td>NaN</td>\n",
       "      <td>NaN</td>\n",
       "      <td>NaN</td>\n",
       "      <td>NaN</td>\n",
       "      <td>NaN</td>\n",
       "      <td>NaN</td>\n",
       "      <td>NaN</td>\n",
       "      <td>NaN</td>\n",
       "      <td>NaN</td>\n",
       "      <td>NaN</td>\n",
       "      <td>NaN</td>\n",
       "      <td>NaN</td>\n",
       "      <td>NaN</td>\n",
       "      <td>NaN</td>\n",
       "      <td>NaN</td>\n",
       "      <td>NaN</td>\n",
       "      <td>NaN</td>\n",
       "      <td>NaN</td>\n",
       "      <td>NaN</td>\n",
       "      <td>NaN</td>\n",
       "      <td>NaN</td>\n",
       "      <td>NaN</td>\n",
       "      <td>NaN</td>\n",
       "      <td>NaN</td>\n",
       "      <td>NaN</td>\n",
       "      <td>NaN</td>\n",
       "      <td>NaN</td>\n",
       "      <td>NaN</td>\n",
       "      <td>NaN</td>\n",
       "      <td>NaN</td>\n",
       "      <td>NaN</td>\n",
       "      <td>NaN</td>\n",
       "      <td>NaN</td>\n",
       "      <td>NaN</td>\n",
       "      <td>NaN</td>\n",
       "      <td>NaN</td>\n",
       "      <td>NaN</td>\n",
       "      <td>NaN</td>\n",
       "      <td>NaN</td>\n",
       "      <td>NaN</td>\n",
       "      <td>NaN</td>\n",
       "      <td>NaN</td>\n",
       "      <td>NaN</td>\n",
       "      <td>NaN</td>\n",
       "      <td>NaN</td>\n",
       "      <td>NaN</td>\n",
       "      <td>NaN</td>\n",
       "      <td>NaN</td>\n",
       "      <td>NaN</td>\n",
       "      <td>NaN</td>\n",
       "      <td>NaN</td>\n",
       "      <td>NaN</td>\n",
       "      <td>NaN</td>\n",
       "    </tr>\n",
       "    <tr>\n",
       "      <th>3</th>\n",
       "      <td>11.554386</td>\n",
       "      <td>28.048671</td>\n",
       "      <td>5.0</td>\n",
       "      <td>4.0</td>\n",
       "      <td>5</td>\n",
       "      <td>BG_02SUB</td>\n",
       "      <td>4</td>\n",
       "      <td>1</td>\n",
       "      <td>0</td>\n",
       "      <td>02</td>\n",
       "      <td>185</td>\n",
       "      <td>950200</td>\n",
       "      <td>2</td>\n",
       "      <td>021859502002</td>\n",
       "      <td>48124.400</td>\n",
       "      <td>4663.000</td>\n",
       "      <td>52787.400</td>\n",
       "      <td>BG 2</td>\n",
       "      <td>POLYGON ((-156.38962 71.27306, -156.35948 71.2...</td>\n",
       "      <td>NaN</td>\n",
       "      <td>NaN</td>\n",
       "      <td>NaN</td>\n",
       "      <td>NaN</td>\n",
       "      <td>NaN</td>\n",
       "      <td>NaN</td>\n",
       "      <td>NaN</td>\n",
       "      <td>NaN</td>\n",
       "      <td>NaN</td>\n",
       "      <td>NaN</td>\n",
       "      <td>NaN</td>\n",
       "      <td>NaN</td>\n",
       "      <td>NaN</td>\n",
       "      <td>NaN</td>\n",
       "      <td>NaN</td>\n",
       "      <td>NaN</td>\n",
       "      <td>NaN</td>\n",
       "      <td>NaN</td>\n",
       "      <td>NaN</td>\n",
       "      <td>NaN</td>\n",
       "      <td>NaN</td>\n",
       "      <td>NaN</td>\n",
       "      <td>NaN</td>\n",
       "      <td>NaN</td>\n",
       "      <td>NaN</td>\n",
       "      <td>NaN</td>\n",
       "      <td>NaN</td>\n",
       "      <td>NaN</td>\n",
       "      <td>NaN</td>\n",
       "      <td>NaN</td>\n",
       "      <td>NaN</td>\n",
       "      <td>NaN</td>\n",
       "      <td>NaN</td>\n",
       "      <td>NaN</td>\n",
       "      <td>NaN</td>\n",
       "      <td>NaN</td>\n",
       "      <td>NaN</td>\n",
       "      <td>NaN</td>\n",
       "      <td>NaN</td>\n",
       "      <td>NaN</td>\n",
       "      <td>NaN</td>\n",
       "      <td>NaN</td>\n",
       "      <td>NaN</td>\n",
       "      <td>NaN</td>\n",
       "      <td>NaN</td>\n",
       "      <td>NaN</td>\n",
       "      <td>NaN</td>\n",
       "      <td>NaN</td>\n",
       "      <td>NaN</td>\n",
       "      <td>NaN</td>\n",
       "      <td>NaN</td>\n",
       "      <td>NaN</td>\n",
       "      <td>NaN</td>\n",
       "      <td>NaN</td>\n",
       "      <td>NaN</td>\n",
       "      <td>NaN</td>\n",
       "      <td>NaN</td>\n",
       "      <td>NaN</td>\n",
       "      <td>NaN</td>\n",
       "      <td>NaN</td>\n",
       "      <td>NaN</td>\n",
       "      <td>NaN</td>\n",
       "      <td>NaN</td>\n",
       "      <td>NaN</td>\n",
       "      <td>NaN</td>\n",
       "      <td>NaN</td>\n",
       "      <td>NaN</td>\n",
       "      <td>NaN</td>\n",
       "      <td>NaN</td>\n",
       "      <td>NaN</td>\n",
       "      <td>NaN</td>\n",
       "      <td>NaN</td>\n",
       "      <td>NaN</td>\n",
       "      <td>NaN</td>\n",
       "      <td>NaN</td>\n",
       "      <td>NaN</td>\n",
       "      <td>NaN</td>\n",
       "      <td>NaN</td>\n",
       "      <td>NaN</td>\n",
       "      <td>NaN</td>\n",
       "      <td>NaN</td>\n",
       "      <td>NaN</td>\n",
       "      <td>NaN</td>\n",
       "      <td>NaN</td>\n",
       "      <td>NaN</td>\n",
       "      <td>NaN</td>\n",
       "      <td>NaN</td>\n",
       "      <td>NaN</td>\n",
       "      <td>NaN</td>\n",
       "      <td>NaN</td>\n",
       "      <td>NaN</td>\n",
       "      <td>NaN</td>\n",
       "      <td>NaN</td>\n",
       "      <td>NaN</td>\n",
       "      <td>NaN</td>\n",
       "      <td>NaN</td>\n",
       "      <td>NaN</td>\n",
       "      <td>NaN</td>\n",
       "      <td>NaN</td>\n",
       "      <td>NaN</td>\n",
       "      <td>NaN</td>\n",
       "      <td>NaN</td>\n",
       "      <td>NaN</td>\n",
       "      <td>NaN</td>\n",
       "      <td>NaN</td>\n",
       "      <td>NaN</td>\n",
       "      <td>NaN</td>\n",
       "      <td>NaN</td>\n",
       "      <td>NaN</td>\n",
       "      <td>NaN</td>\n",
       "    </tr>\n",
       "    <tr>\n",
       "      <th>4</th>\n",
       "      <td>5.685307</td>\n",
       "      <td>18.542956</td>\n",
       "      <td>6.0</td>\n",
       "      <td>5.0</td>\n",
       "      <td>6</td>\n",
       "      <td>BG_02SUB</td>\n",
       "      <td>5</td>\n",
       "      <td>1</td>\n",
       "      <td>0</td>\n",
       "      <td>02</td>\n",
       "      <td>185</td>\n",
       "      <td>950200</td>\n",
       "      <td>1</td>\n",
       "      <td>021859502001</td>\n",
       "      <td>22923.700</td>\n",
       "      <td>2743.200</td>\n",
       "      <td>25666.900</td>\n",
       "      <td>BG 1</td>\n",
       "      <td>POLYGON ((-154.31142 70.82173, -154.27104 70.8...</td>\n",
       "      <td>NaN</td>\n",
       "      <td>NaN</td>\n",
       "      <td>NaN</td>\n",
       "      <td>NaN</td>\n",
       "      <td>NaN</td>\n",
       "      <td>NaN</td>\n",
       "      <td>NaN</td>\n",
       "      <td>NaN</td>\n",
       "      <td>NaN</td>\n",
       "      <td>NaN</td>\n",
       "      <td>NaN</td>\n",
       "      <td>NaN</td>\n",
       "      <td>NaN</td>\n",
       "      <td>NaN</td>\n",
       "      <td>NaN</td>\n",
       "      <td>NaN</td>\n",
       "      <td>NaN</td>\n",
       "      <td>NaN</td>\n",
       "      <td>NaN</td>\n",
       "      <td>NaN</td>\n",
       "      <td>NaN</td>\n",
       "      <td>NaN</td>\n",
       "      <td>NaN</td>\n",
       "      <td>NaN</td>\n",
       "      <td>NaN</td>\n",
       "      <td>NaN</td>\n",
       "      <td>NaN</td>\n",
       "      <td>NaN</td>\n",
       "      <td>NaN</td>\n",
       "      <td>NaN</td>\n",
       "      <td>NaN</td>\n",
       "      <td>NaN</td>\n",
       "      <td>NaN</td>\n",
       "      <td>NaN</td>\n",
       "      <td>NaN</td>\n",
       "      <td>NaN</td>\n",
       "      <td>NaN</td>\n",
       "      <td>NaN</td>\n",
       "      <td>NaN</td>\n",
       "      <td>NaN</td>\n",
       "      <td>NaN</td>\n",
       "      <td>NaN</td>\n",
       "      <td>NaN</td>\n",
       "      <td>NaN</td>\n",
       "      <td>NaN</td>\n",
       "      <td>NaN</td>\n",
       "      <td>NaN</td>\n",
       "      <td>NaN</td>\n",
       "      <td>NaN</td>\n",
       "      <td>NaN</td>\n",
       "      <td>NaN</td>\n",
       "      <td>NaN</td>\n",
       "      <td>NaN</td>\n",
       "      <td>NaN</td>\n",
       "      <td>NaN</td>\n",
       "      <td>NaN</td>\n",
       "      <td>NaN</td>\n",
       "      <td>NaN</td>\n",
       "      <td>NaN</td>\n",
       "      <td>NaN</td>\n",
       "      <td>NaN</td>\n",
       "      <td>NaN</td>\n",
       "      <td>NaN</td>\n",
       "      <td>NaN</td>\n",
       "      <td>NaN</td>\n",
       "      <td>NaN</td>\n",
       "      <td>NaN</td>\n",
       "      <td>NaN</td>\n",
       "      <td>NaN</td>\n",
       "      <td>NaN</td>\n",
       "      <td>NaN</td>\n",
       "      <td>NaN</td>\n",
       "      <td>NaN</td>\n",
       "      <td>NaN</td>\n",
       "      <td>NaN</td>\n",
       "      <td>NaN</td>\n",
       "      <td>NaN</td>\n",
       "      <td>NaN</td>\n",
       "      <td>NaN</td>\n",
       "      <td>NaN</td>\n",
       "      <td>NaN</td>\n",
       "      <td>NaN</td>\n",
       "      <td>NaN</td>\n",
       "      <td>NaN</td>\n",
       "      <td>NaN</td>\n",
       "      <td>NaN</td>\n",
       "      <td>NaN</td>\n",
       "      <td>NaN</td>\n",
       "      <td>NaN</td>\n",
       "      <td>NaN</td>\n",
       "      <td>NaN</td>\n",
       "      <td>NaN</td>\n",
       "      <td>NaN</td>\n",
       "      <td>NaN</td>\n",
       "      <td>NaN</td>\n",
       "      <td>NaN</td>\n",
       "      <td>NaN</td>\n",
       "      <td>NaN</td>\n",
       "      <td>NaN</td>\n",
       "      <td>NaN</td>\n",
       "      <td>NaN</td>\n",
       "      <td>NaN</td>\n",
       "      <td>NaN</td>\n",
       "      <td>NaN</td>\n",
       "      <td>NaN</td>\n",
       "      <td>NaN</td>\n",
       "      <td>NaN</td>\n",
       "      <td>NaN</td>\n",
       "      <td>NaN</td>\n",
       "      <td>NaN</td>\n",
       "    </tr>\n",
       "  </tbody>\n",
       "</table>\n",
       "</div>"
      ],
      "text/plain": [
       "        AREA  PERIMETER  BG02_D90_  BG02_D90_I  POLY_  SUBCLASS  SUBCLASS_  \\\n",
       "0   0.030489   0.947504        2.0         1.0      2  BG_02SUB          1   \n",
       "1   0.036164   0.936381        3.0         2.0      3  BG_02SUB          2   \n",
       "2   0.000117   0.072402        4.0         3.0      4  BG_02SUB          3   \n",
       "3  11.554386  28.048671        5.0         4.0      5  BG_02SUB          4   \n",
       "4   5.685307  18.542956        6.0         5.0      6  BG_02SUB          5   \n",
       "\n",
       "   RINGS_OK  RINGS_NOK  ST   CO   TRACT BG         GEOID   AREALAND   AREAWAT  \\\n",
       "0         1          0  02  185  950100  1  021859501001    110.099   277.052   \n",
       "1         1          0  02  185  950100  3  021859501003    140.170    96.286   \n",
       "2         1          0  02  185  950100  2  021859501002      0.458     7.978   \n",
       "3         1          0  02  185  950200  2  021859502002  48124.400  4663.000   \n",
       "4         1          0  02  185  950200  1  021859502001  22923.700  2743.200   \n",
       "\n",
       "     AREATOT  NAME                                           geometry  \\\n",
       "0    387.151  BG 1  POLYGON ((-156.77553 71.29742, -156.77612 71.2...   \n",
       "1    236.456  BG 3  POLYGON ((-156.80670 71.28787, -156.80565 71.2...   \n",
       "2      8.436  BG 2  POLYGON ((-156.77553 71.29742, -156.78188 71.2...   \n",
       "3  52787.400  BG 2  POLYGON ((-156.38962 71.27306, -156.35948 71.2...   \n",
       "4  25666.900  BG 1  POLYGON ((-154.31142 70.82173, -154.27104 70.8...   \n",
       "\n",
       "   BG01_D90_  BG01_D90_I  BG05_D90_  BG05_D90_I  BG60_D90_  BG60_D90_I  \\\n",
       "0        NaN         NaN        NaN         NaN        NaN         NaN   \n",
       "1        NaN         NaN        NaN         NaN        NaN         NaN   \n",
       "2        NaN         NaN        NaN         NaN        NaN         NaN   \n",
       "3        NaN         NaN        NaN         NaN        NaN         NaN   \n",
       "4        NaN         NaN        NaN         NaN        NaN         NaN   \n",
       "\n",
       "   BG04_D90_  BG04_D90_I  BG06_D90_  BG06_D90_I  BG08_D90_  BG08_D90_I  \\\n",
       "0        NaN         NaN        NaN         NaN        NaN         NaN   \n",
       "1        NaN         NaN        NaN         NaN        NaN         NaN   \n",
       "2        NaN         NaN        NaN         NaN        NaN         NaN   \n",
       "3        NaN         NaN        NaN         NaN        NaN         NaN   \n",
       "4        NaN         NaN        NaN         NaN        NaN         NaN   \n",
       "\n",
       "   BG09_D90_  BG09_D90_I  BG11_D90_  BG11_D90_I  BG10_D90_  BG10_D90_I  \\\n",
       "0        NaN         NaN        NaN         NaN        NaN         NaN   \n",
       "1        NaN         NaN        NaN         NaN        NaN         NaN   \n",
       "2        NaN         NaN        NaN         NaN        NaN         NaN   \n",
       "3        NaN         NaN        NaN         NaN        NaN         NaN   \n",
       "4        NaN         NaN        NaN         NaN        NaN         NaN   \n",
       "\n",
       "   BG12_D90_  BG12_D90_I  BG13_D90_  BG13_D90_I  BG66_D90_  BG66_D90_I  \\\n",
       "0        NaN         NaN        NaN         NaN        NaN         NaN   \n",
       "1        NaN         NaN        NaN         NaN        NaN         NaN   \n",
       "2        NaN         NaN        NaN         NaN        NaN         NaN   \n",
       "3        NaN         NaN        NaN         NaN        NaN         NaN   \n",
       "4        NaN         NaN        NaN         NaN        NaN         NaN   \n",
       "\n",
       "   BG15_D90_  BG15_D90_I  BG19_D90_  BG19_D90_I  BG16_D90_  BG16_D90_I  \\\n",
       "0        NaN         NaN        NaN         NaN        NaN         NaN   \n",
       "1        NaN         NaN        NaN         NaN        NaN         NaN   \n",
       "2        NaN         NaN        NaN         NaN        NaN         NaN   \n",
       "3        NaN         NaN        NaN         NaN        NaN         NaN   \n",
       "4        NaN         NaN        NaN         NaN        NaN         NaN   \n",
       "\n",
       "   BG17_D90_  BG17_D90_I  BG18_D90_  BG18_D90_I  BG20_D90_  BG20_D90_I  \\\n",
       "0        NaN         NaN        NaN         NaN        NaN         NaN   \n",
       "1        NaN         NaN        NaN         NaN        NaN         NaN   \n",
       "2        NaN         NaN        NaN         NaN        NaN         NaN   \n",
       "3        NaN         NaN        NaN         NaN        NaN         NaN   \n",
       "4        NaN         NaN        NaN         NaN        NaN         NaN   \n",
       "\n",
       "   BG21_D90_  BG21_D90_I  BG22_D90_  BG22_D90_I  BG25_D90_  BG25_D90_I  \\\n",
       "0        NaN         NaN        NaN         NaN        NaN         NaN   \n",
       "1        NaN         NaN        NaN         NaN        NaN         NaN   \n",
       "2        NaN         NaN        NaN         NaN        NaN         NaN   \n",
       "3        NaN         NaN        NaN         NaN        NaN         NaN   \n",
       "4        NaN         NaN        NaN         NaN        NaN         NaN   \n",
       "\n",
       "   BG24_D90_  BG24_D90_I  BG23_D90_  BG23_D90_I  BG26_D90_  BG26_D90_I  \\\n",
       "0        NaN         NaN        NaN         NaN        NaN         NaN   \n",
       "1        NaN         NaN        NaN         NaN        NaN         NaN   \n",
       "2        NaN         NaN        NaN         NaN        NaN         NaN   \n",
       "3        NaN         NaN        NaN         NaN        NaN         NaN   \n",
       "4        NaN         NaN        NaN         NaN        NaN         NaN   \n",
       "\n",
       "   BG27_D90_  BG27_D90_I  BG29_D90_  BG29_D90_I  BG69_D90_  BG69_D90_I  \\\n",
       "0        NaN         NaN        NaN         NaN        NaN         NaN   \n",
       "1        NaN         NaN        NaN         NaN        NaN         NaN   \n",
       "2        NaN         NaN        NaN         NaN        NaN         NaN   \n",
       "3        NaN         NaN        NaN         NaN        NaN         NaN   \n",
       "4        NaN         NaN        NaN         NaN        NaN         NaN   \n",
       "\n",
       "   BG28_D90_  BG28_D90_I  BG30_D90_  BG30_D90_I  BG37_D90_  BG37_D90_I  \\\n",
       "0        NaN         NaN        NaN         NaN        NaN         NaN   \n",
       "1        NaN         NaN        NaN         NaN        NaN         NaN   \n",
       "2        NaN         NaN        NaN         NaN        NaN         NaN   \n",
       "3        NaN         NaN        NaN         NaN        NaN         NaN   \n",
       "4        NaN         NaN        NaN         NaN        NaN         NaN   \n",
       "\n",
       "   BG38_D90_  BG38_D90_I  BG31_D90_  BG31_D90_I  BG33_D90_  BG33_D90_I  \\\n",
       "0        NaN         NaN        NaN         NaN        NaN         NaN   \n",
       "1        NaN         NaN        NaN         NaN        NaN         NaN   \n",
       "2        NaN         NaN        NaN         NaN        NaN         NaN   \n",
       "3        NaN         NaN        NaN         NaN        NaN         NaN   \n",
       "4        NaN         NaN        NaN         NaN        NaN         NaN   \n",
       "\n",
       "   BG34_D90_  BG34_D90_I  BG35_D90_  BG35_D90_I  BG32_D90_  BG32_D90_I  \\\n",
       "0        NaN         NaN        NaN         NaN        NaN         NaN   \n",
       "1        NaN         NaN        NaN         NaN        NaN         NaN   \n",
       "2        NaN         NaN        NaN         NaN        NaN         NaN   \n",
       "3        NaN         NaN        NaN         NaN        NaN         NaN   \n",
       "4        NaN         NaN        NaN         NaN        NaN         NaN   \n",
       "\n",
       "   BG36_D90_  BG36_D90_I  BG39_D90_  BG39_D90_I  BG40_D90_  BG40_D90_I  \\\n",
       "0        NaN         NaN        NaN         NaN        NaN         NaN   \n",
       "1        NaN         NaN        NaN         NaN        NaN         NaN   \n",
       "2        NaN         NaN        NaN         NaN        NaN         NaN   \n",
       "3        NaN         NaN        NaN         NaN        NaN         NaN   \n",
       "4        NaN         NaN        NaN         NaN        NaN         NaN   \n",
       "\n",
       "   BG41_D90_  BG41_D90_I  BG42_D90_  BG42_D90_I  BG72_D90_  BG72_D90_I  \\\n",
       "0        NaN         NaN        NaN         NaN        NaN         NaN   \n",
       "1        NaN         NaN        NaN         NaN        NaN         NaN   \n",
       "2        NaN         NaN        NaN         NaN        NaN         NaN   \n",
       "3        NaN         NaN        NaN         NaN        NaN         NaN   \n",
       "4        NaN         NaN        NaN         NaN        NaN         NaN   \n",
       "\n",
       "   BG44_D90_  BG44_D90_I  BG45_D90_  BG45_D90_I  BG46_D90_  BG46_D90_I  \\\n",
       "0        NaN         NaN        NaN         NaN        NaN         NaN   \n",
       "1        NaN         NaN        NaN         NaN        NaN         NaN   \n",
       "2        NaN         NaN        NaN         NaN        NaN         NaN   \n",
       "3        NaN         NaN        NaN         NaN        NaN         NaN   \n",
       "4        NaN         NaN        NaN         NaN        NaN         NaN   \n",
       "\n",
       "   BG47_D90_  BG47_D90_I  BG48_D90_  BG48_D90_I  BG49_D90_  BG49_D90_I  \\\n",
       "0        NaN         NaN        NaN         NaN        NaN         NaN   \n",
       "1        NaN         NaN        NaN         NaN        NaN         NaN   \n",
       "2        NaN         NaN        NaN         NaN        NaN         NaN   \n",
       "3        NaN         NaN        NaN         NaN        NaN         NaN   \n",
       "4        NaN         NaN        NaN         NaN        NaN         NaN   \n",
       "\n",
       "   BG51_D90_  BG51_D90_I  BG78_D90_  BG78_D90_I  BG50_D90_  BG50_D90_I  \\\n",
       "0        NaN         NaN        NaN         NaN        NaN         NaN   \n",
       "1        NaN         NaN        NaN         NaN        NaN         NaN   \n",
       "2        NaN         NaN        NaN         NaN        NaN         NaN   \n",
       "3        NaN         NaN        NaN         NaN        NaN         NaN   \n",
       "4        NaN         NaN        NaN         NaN        NaN         NaN   \n",
       "\n",
       "   BG53_D90_  BG53_D90_I  BG55_D90_  BG55_D90_I  BG54_D90_  BG54_D90_I  \\\n",
       "0        NaN         NaN        NaN         NaN        NaN         NaN   \n",
       "1        NaN         NaN        NaN         NaN        NaN         NaN   \n",
       "2        NaN         NaN        NaN         NaN        NaN         NaN   \n",
       "3        NaN         NaN        NaN         NaN        NaN         NaN   \n",
       "4        NaN         NaN        NaN         NaN        NaN         NaN   \n",
       "\n",
       "   BG56_D90_  BG56_D90_I  \n",
       "0        NaN         NaN  \n",
       "1        NaN         NaN  \n",
       "2        NaN         NaN  \n",
       "3        NaN         NaN  \n",
       "4        NaN         NaN  "
      ]
     },
     "execution_count": 148,
     "metadata": {},
     "output_type": "execute_result"
    }
   ],
   "source": [
    "temp.head()"
   ]
  },
  {
   "cell_type": "code",
   "execution_count": 149,
   "id": "486eeda9-f9a8-45ee-9f58-a423d9de41c0",
   "metadata": {
    "tags": []
   },
   "outputs": [],
   "source": [
    "temp = temp[['GEOID', 'geometry']]\n",
    "temp['year'] = 1990\n",
    "\n",
    "temp = temp.rename(columns={\"GEOID\": \"GEOID\"})"
   ]
  },
  {
   "cell_type": "code",
   "execution_count": 150,
   "id": "ec3e4e6b-ea80-4fc8-b3a7-f446ee3b543f",
   "metadata": {
    "tags": []
   },
   "outputs": [],
   "source": [
    "list_censusBG_2 = temp['GEOID'].dropna().drop_duplicates().astype(str).tolist()\n",
    "\n",
    "# add preceding 0 to make 4-digit zip codes into 5-digit\n",
    "list_censusBG_2 = [censusBG.zfill(12) for censusBG in list_censusBG_2]"
   ]
  },
  {
   "cell_type": "code",
   "execution_count": 151,
   "id": "0cc490c4-23a0-4a80-b240-73a7e39a1bc0",
   "metadata": {
    "tags": []
   },
   "outputs": [
    {
     "data": {
      "text/plain": [
       "228588"
      ]
     },
     "execution_count": 151,
     "metadata": {},
     "output_type": "execute_result"
    }
   ],
   "source": [
    "len(list_censusBG_2)"
   ]
  },
  {
   "cell_type": "code",
   "execution_count": 152,
   "id": "ec8de85b-d37c-4bfe-914b-c57613bd2b49",
   "metadata": {
    "tags": []
   },
   "outputs": [],
   "source": [
    "list_censusBG_3 = list_censusBG_3 + list_censusBG_2 "
   ]
  },
  {
   "cell_type": "code",
   "execution_count": 153,
   "id": "61f8cd12-fc8a-4bea-a494-92ad9c0fcd91",
   "metadata": {
    "tags": []
   },
   "outputs": [
    {
     "data": {
      "text/plain": [
       "577465"
      ]
     },
     "execution_count": 153,
     "metadata": {},
     "output_type": "execute_result"
    }
   ],
   "source": [
    "len(list_censusBG_3)"
   ]
  },
  {
   "cell_type": "code",
   "execution_count": 154,
   "id": "18c35561-9613-485f-bb9f-37160fd94052",
   "metadata": {
    "tags": []
   },
   "outputs": [],
   "source": [
    "list_censusBG_3 = list(set(list_censusBG_3))"
   ]
  },
  {
   "cell_type": "code",
   "execution_count": 155,
   "id": "e2d973c9-4d22-44ae-a445-0b74b57f663e",
   "metadata": {
    "tags": []
   },
   "outputs": [
    {
     "data": {
      "text/plain": [
       "410788"
      ]
     },
     "execution_count": 155,
     "metadata": {},
     "output_type": "execute_result"
    }
   ],
   "source": [
    "len(list_censusBG_3)"
   ]
  },
  {
   "cell_type": "code",
   "execution_count": 156,
   "id": "2f305fd0-870a-44f7-8296-3ebde8208ce9",
   "metadata": {
    "tags": []
   },
   "outputs": [],
   "source": [
    "#CensusBG list for NC\n",
    "\n",
    "list_censusBG = df['censusBlockGroupFips'].dropna().drop_duplicates().tolist()\n",
    "\n",
    "list_censusBG = [str(int(float(i))) for i in list_censusBG]\n",
    "\n",
    "# add preceding 0 to make 4-digit zip codes into 5-digit\n",
    "list_censusBG = [censusBG.zfill(12) for censusBG in list_censusBG]"
   ]
  },
  {
   "cell_type": "code",
   "execution_count": 157,
   "id": "18904e74-84d1-4770-b9fc-6bd1ec3a59e4",
   "metadata": {
    "tags": []
   },
   "outputs": [
    {
     "name": "stdout",
     "output_type": "stream",
     "text": [
      "Number of common BG: 106781\n"
     ]
    }
   ],
   "source": [
    "# Convert both lists to sets\n",
    "set_bg = set(list_censusBG)\n",
    "set_bg_2 = set(list_censusBG_3)\n",
    "\n",
    "# Find the intersection of the two sets\n",
    "common_bg = set_bg.intersection(set_bg_2)\n",
    "\n",
    "# Print the number of common zip codes\n",
    "print(\"Number of common BG:\", len(common_bg))"
   ]
  },
  {
   "cell_type": "code",
   "execution_count": 158,
   "id": "dd1623a3-c84a-40f7-a0ac-a32e53b5892f",
   "metadata": {
    "tags": []
   },
   "outputs": [
    {
     "data": {
      "text/plain": [
       "0.999953177382803"
      ]
     },
     "execution_count": 158,
     "metadata": {},
     "output_type": "execute_result"
    }
   ],
   "source": [
    "len(common_bg)/len(list_censusBG)"
   ]
  },
  {
   "cell_type": "code",
   "execution_count": 159,
   "id": "fc6bb294-07e5-4ab9-9c7c-a4f33d71d166",
   "metadata": {
    "tags": []
   },
   "outputs": [
    {
     "data": {
      "text/plain": [
       "106781"
      ]
     },
     "execution_count": 159,
     "metadata": {},
     "output_type": "execute_result"
    }
   ],
   "source": [
    "len(common_bg)"
   ]
  },
  {
   "cell_type": "code",
   "execution_count": 65,
   "id": "6b1c65e2-640a-4973-a805-1b9909217d33",
   "metadata": {
    "tags": []
   },
   "outputs": [],
   "source": [
    "BG_list_df2021 = temp[temp['GEOID'].isin(common_bg)]"
   ]
  },
  {
   "cell_type": "code",
   "execution_count": 66,
   "id": "1d972fcc-4996-45cf-93d4-9f4d654b6b99",
   "metadata": {
    "tags": []
   },
   "outputs": [
    {
     "data": {
      "text/html": [
       "<div>\n",
       "<style scoped>\n",
       "    .dataframe tbody tr th:only-of-type {\n",
       "        vertical-align: middle;\n",
       "    }\n",
       "\n",
       "    .dataframe tbody tr th {\n",
       "        vertical-align: top;\n",
       "    }\n",
       "\n",
       "    .dataframe thead th {\n",
       "        text-align: right;\n",
       "    }\n",
       "</style>\n",
       "<table border=\"1\" class=\"dataframe\">\n",
       "  <thead>\n",
       "    <tr style=\"text-align: right;\">\n",
       "      <th></th>\n",
       "      <th>GEOID</th>\n",
       "      <th>geometry</th>\n",
       "      <th>year</th>\n",
       "    </tr>\n",
       "  </thead>\n",
       "  <tbody>\n",
       "    <tr>\n",
       "      <th>9</th>\n",
       "      <td>020900009002</td>\n",
       "      <td>POLYGON ((-147.96856 64.77841, -147.96852 64.7...</td>\n",
       "      <td>2021</td>\n",
       "    </tr>\n",
       "    <tr>\n",
       "      <th>12</th>\n",
       "      <td>021300002002</td>\n",
       "      <td>POLYGON ((-131.70187 55.38841, -131.70029 55.3...</td>\n",
       "      <td>2021</td>\n",
       "    </tr>\n",
       "    <tr>\n",
       "      <th>16</th>\n",
       "      <td>020200021003</td>\n",
       "      <td>POLYGON ((-149.92843 61.18308, -149.92817 61.1...</td>\n",
       "      <td>2021</td>\n",
       "    </tr>\n",
       "    <tr>\n",
       "      <th>21</th>\n",
       "      <td>020200017022</td>\n",
       "      <td>POLYGON ((-149.76341 61.19541, -149.76341 61.1...</td>\n",
       "      <td>2021</td>\n",
       "    </tr>\n",
       "    <tr>\n",
       "      <th>44</th>\n",
       "      <td>021300003003</td>\n",
       "      <td>POLYGON ((-131.64374 55.33651, -131.64326 55.3...</td>\n",
       "      <td>2021</td>\n",
       "    </tr>\n",
       "  </tbody>\n",
       "</table>\n",
       "</div>"
      ],
      "text/plain": [
       "           GEOID                                           geometry  year\n",
       "9   020900009002  POLYGON ((-147.96856 64.77841, -147.96852 64.7...  2021\n",
       "12  021300002002  POLYGON ((-131.70187 55.38841, -131.70029 55.3...  2021\n",
       "16  020200021003  POLYGON ((-149.92843 61.18308, -149.92817 61.1...  2021\n",
       "21  020200017022  POLYGON ((-149.76341 61.19541, -149.76341 61.1...  2021\n",
       "44  021300003003  POLYGON ((-131.64374 55.33651, -131.64326 55.3...  2021"
      ]
     },
     "execution_count": 66,
     "metadata": {},
     "output_type": "execute_result"
    }
   ],
   "source": [
    "BG_list_df2021.head()"
   ]
  },
  {
   "cell_type": "code",
   "execution_count": 80,
   "id": "0195448d-3421-4f7c-97b5-1dd29ee65aa1",
   "metadata": {
    "tags": []
   },
   "outputs": [],
   "source": [
    "BG_list_df2012 = temp[temp['GEOID'].isin(common_bg)]"
   ]
  },
  {
   "cell_type": "code",
   "execution_count": 81,
   "id": "df99284b-822f-4e29-b1c0-2856d1187cd8",
   "metadata": {
    "tags": []
   },
   "outputs": [
    {
     "data": {
      "text/html": [
       "<div>\n",
       "<style scoped>\n",
       "    .dataframe tbody tr th:only-of-type {\n",
       "        vertical-align: middle;\n",
       "    }\n",
       "\n",
       "    .dataframe tbody tr th {\n",
       "        vertical-align: top;\n",
       "    }\n",
       "\n",
       "    .dataframe thead th {\n",
       "        text-align: right;\n",
       "    }\n",
       "</style>\n",
       "<table border=\"1\" class=\"dataframe\">\n",
       "  <thead>\n",
       "    <tr style=\"text-align: right;\">\n",
       "      <th></th>\n",
       "      <th>GEOID</th>\n",
       "      <th>geometry</th>\n",
       "      <th>year</th>\n",
       "    </tr>\n",
       "  </thead>\n",
       "  <tbody>\n",
       "    <tr>\n",
       "      <th>3</th>\n",
       "      <td>021850002002</td>\n",
       "      <td>POLYGON ((-159.27452 69.26329, -159.27510 69.2...</td>\n",
       "      <td>2012</td>\n",
       "    </tr>\n",
       "    <tr>\n",
       "      <th>8</th>\n",
       "      <td>021800002002</td>\n",
       "      <td>POLYGON ((-166.21494 64.43020, -166.27196 64.4...</td>\n",
       "      <td>2012</td>\n",
       "    </tr>\n",
       "    <tr>\n",
       "      <th>9</th>\n",
       "      <td>021800002003</td>\n",
       "      <td>POLYGON ((-165.40501 64.49672, -165.40866 64.4...</td>\n",
       "      <td>2012</td>\n",
       "    </tr>\n",
       "    <tr>\n",
       "      <th>11</th>\n",
       "      <td>021800001001</td>\n",
       "      <td>MULTIPOLYGON (((-168.97190 65.68877, -168.9717...</td>\n",
       "      <td>2012</td>\n",
       "    </tr>\n",
       "    <tr>\n",
       "      <th>17</th>\n",
       "      <td>021800002004</td>\n",
       "      <td>POLYGON ((-165.38872 64.49445, -165.39153 64.4...</td>\n",
       "      <td>2012</td>\n",
       "    </tr>\n",
       "  </tbody>\n",
       "</table>\n",
       "</div>"
      ],
      "text/plain": [
       "           GEOID                                           geometry  year\n",
       "3   021850002002  POLYGON ((-159.27452 69.26329, -159.27510 69.2...  2012\n",
       "8   021800002002  POLYGON ((-166.21494 64.43020, -166.27196 64.4...  2012\n",
       "9   021800002003  POLYGON ((-165.40501 64.49672, -165.40866 64.4...  2012\n",
       "11  021800001001  MULTIPOLYGON (((-168.97190 65.68877, -168.9717...  2012\n",
       "17  021800002004  POLYGON ((-165.38872 64.49445, -165.39153 64.4...  2012"
      ]
     },
     "execution_count": 81,
     "metadata": {},
     "output_type": "execute_result"
    }
   ],
   "source": [
    "BG_list_df2012.head()"
   ]
  },
  {
   "cell_type": "code",
   "execution_count": 130,
   "id": "63d372ff-dc65-4e67-8790-960728da6c25",
   "metadata": {
    "tags": []
   },
   "outputs": [],
   "source": [
    "BG_list_df2010 = temp[temp['GEOID'].isin(common_bg)]"
   ]
  },
  {
   "cell_type": "code",
   "execution_count": 131,
   "id": "cc9ad7d7-8857-4081-b7be-51e7267bdb13",
   "metadata": {
    "tags": []
   },
   "outputs": [
    {
     "data": {
      "text/html": [
       "<div>\n",
       "<style scoped>\n",
       "    .dataframe tbody tr th:only-of-type {\n",
       "        vertical-align: middle;\n",
       "    }\n",
       "\n",
       "    .dataframe tbody tr th {\n",
       "        vertical-align: top;\n",
       "    }\n",
       "\n",
       "    .dataframe thead th {\n",
       "        text-align: right;\n",
       "    }\n",
       "</style>\n",
       "<table border=\"1\" class=\"dataframe\">\n",
       "  <thead>\n",
       "    <tr style=\"text-align: right;\">\n",
       "      <th></th>\n",
       "      <th>GEOID</th>\n",
       "      <th>geometry</th>\n",
       "      <th>year</th>\n",
       "    </tr>\n",
       "  </thead>\n",
       "  <tbody>\n",
       "    <tr>\n",
       "      <th>9</th>\n",
       "      <td>022700001001</td>\n",
       "      <td>POLYGON ((-162.54863 62.63832, -162.54863 62.6...</td>\n",
       "      <td>2010</td>\n",
       "    </tr>\n",
       "    <tr>\n",
       "      <th>14</th>\n",
       "      <td>021850002002</td>\n",
       "      <td>POLYGON ((-156.91484 69.63572, -156.91575 69.6...</td>\n",
       "      <td>2010</td>\n",
       "    </tr>\n",
       "    <tr>\n",
       "      <th>28</th>\n",
       "      <td>021300002002</td>\n",
       "      <td>POLYGON ((-131.68335 55.35728, -131.68358 55.3...</td>\n",
       "      <td>2010</td>\n",
       "    </tr>\n",
       "    <tr>\n",
       "      <th>36</th>\n",
       "      <td>021300003003</td>\n",
       "      <td>POLYGON ((-131.63674 55.34341, -131.63663 55.3...</td>\n",
       "      <td>2010</td>\n",
       "    </tr>\n",
       "    <tr>\n",
       "      <th>59</th>\n",
       "      <td>021880002004</td>\n",
       "      <td>POLYGON ((-162.50725 66.69428, -162.58721 66.7...</td>\n",
       "      <td>2010</td>\n",
       "    </tr>\n",
       "  </tbody>\n",
       "</table>\n",
       "</div>"
      ],
      "text/plain": [
       "           GEOID                                           geometry  year\n",
       "9   022700001001  POLYGON ((-162.54863 62.63832, -162.54863 62.6...  2010\n",
       "14  021850002002  POLYGON ((-156.91484 69.63572, -156.91575 69.6...  2010\n",
       "28  021300002002  POLYGON ((-131.68335 55.35728, -131.68358 55.3...  2010\n",
       "36  021300003003  POLYGON ((-131.63674 55.34341, -131.63663 55.3...  2010\n",
       "59  021880002004  POLYGON ((-162.50725 66.69428, -162.58721 66.7...  2010"
      ]
     },
     "execution_count": 131,
     "metadata": {},
     "output_type": "execute_result"
    }
   ],
   "source": [
    "BG_list_df2010.head()"
   ]
  },
  {
   "cell_type": "code",
   "execution_count": 145,
   "id": "72c2dccf-0f0b-4649-b285-17a909a4629e",
   "metadata": {
    "tags": []
   },
   "outputs": [],
   "source": [
    "BG_list_df2000 = temp[temp['GEOID'].isin(common_bg)]"
   ]
  },
  {
   "cell_type": "code",
   "execution_count": 146,
   "id": "09aded2f-c175-4fe8-9897-acd11b84667c",
   "metadata": {
    "tags": []
   },
   "outputs": [
    {
     "data": {
      "text/html": [
       "<div>\n",
       "<style scoped>\n",
       "    .dataframe tbody tr th:only-of-type {\n",
       "        vertical-align: middle;\n",
       "    }\n",
       "\n",
       "    .dataframe tbody tr th {\n",
       "        vertical-align: top;\n",
       "    }\n",
       "\n",
       "    .dataframe thead th {\n",
       "        text-align: right;\n",
       "    }\n",
       "</style>\n",
       "<table border=\"1\" class=\"dataframe\">\n",
       "  <thead>\n",
       "    <tr style=\"text-align: right;\">\n",
       "      <th></th>\n",
       "      <th>GEOID</th>\n",
       "      <th>geometry</th>\n",
       "      <th>year</th>\n",
       "    </tr>\n",
       "  </thead>\n",
       "  <tbody>\n",
       "    <tr>\n",
       "      <th>18</th>\n",
       "      <td>022700001001</td>\n",
       "      <td>POLYGON ((-162.54863 62.63832, -162.54863 62.6...</td>\n",
       "      <td>2000</td>\n",
       "    </tr>\n",
       "    <tr>\n",
       "      <th>23</th>\n",
       "      <td>021850002002</td>\n",
       "      <td>POLYGON ((-156.91484 69.63572, -156.91575 69.6...</td>\n",
       "      <td>2000</td>\n",
       "    </tr>\n",
       "    <tr>\n",
       "      <th>36</th>\n",
       "      <td>021300003003</td>\n",
       "      <td>POLYGON ((-131.63674 55.34341, -131.63663 55.3...</td>\n",
       "      <td>2000</td>\n",
       "    </tr>\n",
       "    <tr>\n",
       "      <th>37</th>\n",
       "      <td>021300002002</td>\n",
       "      <td>POLYGON ((-131.68489 55.35622, -131.68469 55.3...</td>\n",
       "      <td>2000</td>\n",
       "    </tr>\n",
       "    <tr>\n",
       "      <th>64</th>\n",
       "      <td>021880002004</td>\n",
       "      <td>POLYGON ((-162.50725 66.69428, -162.58721 66.7...</td>\n",
       "      <td>2000</td>\n",
       "    </tr>\n",
       "  </tbody>\n",
       "</table>\n",
       "</div>"
      ],
      "text/plain": [
       "           GEOID                                           geometry  year\n",
       "18  022700001001  POLYGON ((-162.54863 62.63832, -162.54863 62.6...  2000\n",
       "23  021850002002  POLYGON ((-156.91484 69.63572, -156.91575 69.6...  2000\n",
       "36  021300003003  POLYGON ((-131.63674 55.34341, -131.63663 55.3...  2000\n",
       "37  021300002002  POLYGON ((-131.68489 55.35622, -131.68469 55.3...  2000\n",
       "64  021880002004  POLYGON ((-162.50725 66.69428, -162.58721 66.7...  2000"
      ]
     },
     "execution_count": 146,
     "metadata": {},
     "output_type": "execute_result"
    }
   ],
   "source": [
    "BG_list_df2000.head()"
   ]
  },
  {
   "cell_type": "code",
   "execution_count": 160,
   "id": "82d718d8-7906-4a6c-9380-dd471165c07e",
   "metadata": {
    "tags": []
   },
   "outputs": [],
   "source": [
    "BG_list_df1990 = temp[temp['GEOID'].isin(common_bg)]"
   ]
  },
  {
   "cell_type": "code",
   "execution_count": 161,
   "id": "7badd5b1-9964-48bc-adaa-bd0ddcd3b486",
   "metadata": {
    "tags": []
   },
   "outputs": [
    {
     "data": {
      "text/html": [
       "<div>\n",
       "<style scoped>\n",
       "    .dataframe tbody tr th:only-of-type {\n",
       "        vertical-align: middle;\n",
       "    }\n",
       "\n",
       "    .dataframe tbody tr th {\n",
       "        vertical-align: top;\n",
       "    }\n",
       "\n",
       "    .dataframe thead th {\n",
       "        text-align: right;\n",
       "    }\n",
       "</style>\n",
       "<table border=\"1\" class=\"dataframe\">\n",
       "  <thead>\n",
       "    <tr style=\"text-align: right;\">\n",
       "      <th></th>\n",
       "      <th>GEOID</th>\n",
       "      <th>geometry</th>\n",
       "      <th>year</th>\n",
       "    </tr>\n",
       "  </thead>\n",
       "  <tbody>\n",
       "    <tr>\n",
       "      <th>86</th>\n",
       "      <td>020900019001</td>\n",
       "      <td>POLYGON ((-145.94246 65.20531, -145.89345 65.2...</td>\n",
       "      <td>1990</td>\n",
       "    </tr>\n",
       "    <tr>\n",
       "      <th>89</th>\n",
       "      <td>020900017002</td>\n",
       "      <td>POLYGON ((-144.05807 64.68399, -144.04901 64.6...</td>\n",
       "      <td>1990</td>\n",
       "    </tr>\n",
       "    <tr>\n",
       "      <th>91</th>\n",
       "      <td>020900019002</td>\n",
       "      <td>POLYGON ((-146.96365 65.05630, -146.96227 65.0...</td>\n",
       "      <td>1990</td>\n",
       "    </tr>\n",
       "    <tr>\n",
       "      <th>96</th>\n",
       "      <td>020900019003</td>\n",
       "      <td>POLYGON ((-147.54175 64.97759, -147.52670 64.9...</td>\n",
       "      <td>1990</td>\n",
       "    </tr>\n",
       "    <tr>\n",
       "      <th>98</th>\n",
       "      <td>020900012001</td>\n",
       "      <td>POLYGON ((-147.63380 64.94161, -147.63335 64.9...</td>\n",
       "      <td>1990</td>\n",
       "    </tr>\n",
       "  </tbody>\n",
       "</table>\n",
       "</div>"
      ],
      "text/plain": [
       "           GEOID                                           geometry  year\n",
       "86  020900019001  POLYGON ((-145.94246 65.20531, -145.89345 65.2...  1990\n",
       "89  020900017002  POLYGON ((-144.05807 64.68399, -144.04901 64.6...  1990\n",
       "91  020900019002  POLYGON ((-146.96365 65.05630, -146.96227 65.0...  1990\n",
       "96  020900019003  POLYGON ((-147.54175 64.97759, -147.52670 64.9...  1990\n",
       "98  020900012001  POLYGON ((-147.63380 64.94161, -147.63335 64.9...  1990"
      ]
     },
     "execution_count": 161,
     "metadata": {},
     "output_type": "execute_result"
    }
   ],
   "source": [
    "BG_list_df1990.head()"
   ]
  },
  {
   "cell_type": "code",
   "execution_count": 162,
   "id": "3a665990-ce8a-4dde-b75b-9c554f636c8a",
   "metadata": {
    "tags": []
   },
   "outputs": [
    {
     "name": "stderr",
     "output_type": "stream",
     "text": [
      "C:\\Users\\Asus\\anaconda3\\lib\\site-packages\\geopandas\\array.py:1486: UserWarning: CRS not set for some of the concatenation inputs. Setting output's CRS as NAD83 (the single non-null crs provided).\n",
      "  warnings.warn(\n"
     ]
    }
   ],
   "source": [
    "BG_df = pd.concat([BG_list_df2021, BG_list_df2012, BG_list_df2010, BG_list_df2000, BG_list_df1990], ignore_index=True)"
   ]
  },
  {
   "cell_type": "code",
   "execution_count": 164,
   "id": "38d70c00-a11a-4de2-b807-e8be7d1f6426",
   "metadata": {
    "tags": []
   },
   "outputs": [],
   "source": [
    "BG_df = BG_df.drop_duplicates(subset=['GEOID', 'geometry'])"
   ]
  },
  {
   "cell_type": "code",
   "execution_count": 165,
   "id": "40d37c4e-1248-42f7-9726-15762e5a19c2",
   "metadata": {
    "tags": []
   },
   "outputs": [
    {
     "data": {
      "text/plain": [
       "386324"
      ]
     },
     "execution_count": 165,
     "metadata": {},
     "output_type": "execute_result"
    }
   ],
   "source": [
    "BG_df.shape[0]"
   ]
  },
  {
   "cell_type": "code",
   "execution_count": 168,
   "id": "ab25df05-b742-4802-b655-024ee92772eb",
   "metadata": {
    "tags": []
   },
   "outputs": [
    {
     "data": {
      "text/html": [
       "<div>\n",
       "<style scoped>\n",
       "    .dataframe tbody tr th:only-of-type {\n",
       "        vertical-align: middle;\n",
       "    }\n",
       "\n",
       "    .dataframe tbody tr th {\n",
       "        vertical-align: top;\n",
       "    }\n",
       "\n",
       "    .dataframe thead th {\n",
       "        text-align: right;\n",
       "    }\n",
       "</style>\n",
       "<table border=\"1\" class=\"dataframe\">\n",
       "  <thead>\n",
       "    <tr style=\"text-align: right;\">\n",
       "      <th></th>\n",
       "      <th>GEOID</th>\n",
       "      <th>geometry</th>\n",
       "      <th>year</th>\n",
       "    </tr>\n",
       "  </thead>\n",
       "  <tbody>\n",
       "    <tr>\n",
       "      <th>78435</th>\n",
       "      <td>780309604001</td>\n",
       "      <td>MULTIPOLYGON (((-64.90133 18.38485, -64.90108 ...</td>\n",
       "      <td>2021</td>\n",
       "    </tr>\n",
       "    <tr>\n",
       "      <th>183374</th>\n",
       "      <td>780309604001</td>\n",
       "      <td>MULTIPOLYGON (((-64.90133 18.38485, -64.90108 ...</td>\n",
       "      <td>2012</td>\n",
       "    </tr>\n",
       "    <tr>\n",
       "      <th>289336</th>\n",
       "      <td>780309604001</td>\n",
       "      <td>MULTIPOLYGON (((-64.90968 18.41509, -64.90960 ...</td>\n",
       "      <td>2010</td>\n",
       "    </tr>\n",
       "    <tr>\n",
       "      <th>363747</th>\n",
       "      <td>780309604001</td>\n",
       "      <td>MULTIPOLYGON (((-64.90835 18.41266, -64.90824 ...</td>\n",
       "      <td>2000</td>\n",
       "    </tr>\n",
       "    <tr>\n",
       "      <th>421802</th>\n",
       "      <td>780309604001</td>\n",
       "      <td>POLYGON ((-64.90532 18.40828, -64.90935 18.410...</td>\n",
       "      <td>1990</td>\n",
       "    </tr>\n",
       "    <tr>\n",
       "      <th>421803</th>\n",
       "      <td>780309604001</td>\n",
       "      <td>POLYGON ((-64.90747 18.38966, -64.90890 18.390...</td>\n",
       "      <td>1990</td>\n",
       "    </tr>\n",
       "    <tr>\n",
       "      <th>421806</th>\n",
       "      <td>780309604001</td>\n",
       "      <td>POLYGON ((-64.90944 18.36029, -64.91244 18.361...</td>\n",
       "      <td>1990</td>\n",
       "    </tr>\n",
       "  </tbody>\n",
       "</table>\n",
       "</div>"
      ],
      "text/plain": [
       "               GEOID                                           geometry  year\n",
       "78435   780309604001  MULTIPOLYGON (((-64.90133 18.38485, -64.90108 ...  2021\n",
       "183374  780309604001  MULTIPOLYGON (((-64.90133 18.38485, -64.90108 ...  2012\n",
       "289336  780309604001  MULTIPOLYGON (((-64.90968 18.41509, -64.90960 ...  2010\n",
       "363747  780309604001  MULTIPOLYGON (((-64.90835 18.41266, -64.90824 ...  2000\n",
       "421802  780309604001  POLYGON ((-64.90532 18.40828, -64.90935 18.410...  1990\n",
       "421803  780309604001  POLYGON ((-64.90747 18.38966, -64.90890 18.390...  1990\n",
       "421806  780309604001  POLYGON ((-64.90944 18.36029, -64.91244 18.361...  1990"
      ]
     },
     "execution_count": 168,
     "metadata": {},
     "output_type": "execute_result"
    }
   ],
   "source": [
    "BG_df[BG_df['GEOID'] == '780309604001']"
   ]
  },
  {
   "cell_type": "code",
   "execution_count": 167,
   "id": "4d468bfe-d06b-4587-bedf-6cca1a5f4254",
   "metadata": {
    "tags": []
   },
   "outputs": [
    {
     "data": {
      "text/plain": [
       "780309604001    7\n",
       "130390102003    7\n",
       "530299718001    7\n",
       "780309605004    7\n",
       "530579501001    7\n",
       "               ..\n",
       "060470009032    1\n",
       "060470016031    1\n",
       "060650418033    1\n",
       "060371438011    1\n",
       "120850003005    1\n",
       "Name: GEOID, Length: 106781, dtype: int64"
      ]
     },
     "execution_count": 167,
     "metadata": {},
     "output_type": "execute_result"
    }
   ],
   "source": [
    "BG_df['GEOID'].value_counts()"
   ]
  },
  {
   "cell_type": "code",
   "execution_count": 169,
   "id": "9191a849-7a8c-40c2-b787-373768b75e3a",
   "metadata": {
    "tags": []
   },
   "outputs": [
    {
     "name": "stderr",
     "output_type": "stream",
     "text": [
      "C:\\Users\\Asus\\anaconda3\\lib\\site-packages\\geopandas\\geodataframe.py:1537: UserWarning: Geometry column does not contain geometry.\n",
      "  warnings.warn(\"Geometry column does not contain geometry.\")\n",
      "C:\\Users\\Asus\\anaconda3\\lib\\site-packages\\geopandas\\geodataframe.py:1537: UserWarning: Geometry column does not contain geometry.\n",
      "  warnings.warn(\"Geometry column does not contain geometry.\")\n",
      "C:\\Users\\Asus\\anaconda3\\lib\\site-packages\\geopandas\\geodataframe.py:1537: UserWarning: Geometry column does not contain geometry.\n",
      "  warnings.warn(\"Geometry column does not contain geometry.\")\n",
      "C:\\Users\\Asus\\anaconda3\\lib\\site-packages\\geopandas\\geodataframe.py:1537: UserWarning: Geometry column does not contain geometry.\n",
      "  warnings.warn(\"Geometry column does not contain geometry.\")\n",
      "C:\\Users\\Asus\\anaconda3\\lib\\site-packages\\geopandas\\geodataframe.py:1537: UserWarning: Geometry column does not contain geometry.\n",
      "  warnings.warn(\"Geometry column does not contain geometry.\")\n",
      "C:\\Users\\Asus\\anaconda3\\lib\\site-packages\\geopandas\\geodataframe.py:1537: UserWarning: Geometry column does not contain geometry.\n",
      "  warnings.warn(\"Geometry column does not contain geometry.\")\n",
      "C:\\Users\\Asus\\anaconda3\\lib\\site-packages\\geopandas\\geodataframe.py:1537: UserWarning: Geometry column does not contain geometry.\n",
      "  warnings.warn(\"Geometry column does not contain geometry.\")\n",
      "C:\\Users\\Asus\\anaconda3\\lib\\site-packages\\geopandas\\geodataframe.py:1537: UserWarning: Geometry column does not contain geometry.\n",
      "  warnings.warn(\"Geometry column does not contain geometry.\")\n",
      "C:\\Users\\Asus\\anaconda3\\lib\\site-packages\\geopandas\\geodataframe.py:1537: UserWarning: Geometry column does not contain geometry.\n",
      "  warnings.warn(\"Geometry column does not contain geometry.\")\n",
      "C:\\Users\\Asus\\anaconda3\\lib\\site-packages\\geopandas\\geodataframe.py:1537: UserWarning: Geometry column does not contain geometry.\n",
      "  warnings.warn(\"Geometry column does not contain geometry.\")\n",
      "C:\\Users\\Asus\\anaconda3\\lib\\site-packages\\geopandas\\geodataframe.py:1537: UserWarning: Geometry column does not contain geometry.\n",
      "  warnings.warn(\"Geometry column does not contain geometry.\")\n",
      "C:\\Users\\Asus\\anaconda3\\lib\\site-packages\\geopandas\\geodataframe.py:1537: UserWarning: Geometry column does not contain geometry.\n",
      "  warnings.warn(\"Geometry column does not contain geometry.\")\n",
      "C:\\Users\\Asus\\anaconda3\\lib\\site-packages\\geopandas\\geodataframe.py:1537: UserWarning: Geometry column does not contain geometry.\n",
      "  warnings.warn(\"Geometry column does not contain geometry.\")\n",
      "C:\\Users\\Asus\\anaconda3\\lib\\site-packages\\geopandas\\geodataframe.py:1537: UserWarning: Geometry column does not contain geometry.\n",
      "  warnings.warn(\"Geometry column does not contain geometry.\")\n",
      "C:\\Users\\Asus\\anaconda3\\lib\\site-packages\\geopandas\\geodataframe.py:1537: UserWarning: Geometry column does not contain geometry.\n",
      "  warnings.warn(\"Geometry column does not contain geometry.\")\n",
      "C:\\Users\\Asus\\anaconda3\\lib\\site-packages\\geopandas\\geodataframe.py:1537: UserWarning: Geometry column does not contain geometry.\n",
      "  warnings.warn(\"Geometry column does not contain geometry.\")\n"
     ]
    }
   ],
   "source": [
    "chunk_size = 25000  # adjust based on your system's capabilities\n",
    "chunks = [x for x in range(0, len(BG_df), chunk_size)]\n",
    "\n",
    "for start in chunks:\n",
    "    end = start + chunk_size\n",
    "    temp_df = BG_df.iloc[start:end].copy()\n",
    "    temp_df['geometry'] = temp_df['geometry'].apply(lambda geom: geom.wkt)\n",
    "    temp_df.to_parquet(f\"C:/Users/Asus/Box/Flood Damage PredictionProject/Dataset/BG_geometry_{start}_{end}.parquet.gzip\", compression='gzip')"
   ]
  },
  {
   "cell_type": "code",
   "execution_count": null,
   "id": "a31bc73d-23a7-4935-b9b4-ec285d7980de",
   "metadata": {},
   "outputs": [],
   "source": []
  },
  {
   "cell_type": "code",
   "execution_count": null,
   "id": "d55d0de4-5fa6-437f-ac6b-d39aa14f85f0",
   "metadata": {},
   "outputs": [],
   "source": []
  },
  {
   "cell_type": "code",
   "execution_count": null,
   "id": "739d55ab",
   "metadata": {
    "tags": []
   },
   "outputs": [],
   "source": [
    "BG_df = pd.concat(BG_list, ignore_index=True)"
   ]
  },
  {
   "cell_type": "code",
   "execution_count": null,
   "id": "83ace4bc",
   "metadata": {
    "tags": []
   },
   "outputs": [],
   "source": [
    "BG_df.head()"
   ]
  },
  {
   "cell_type": "code",
   "execution_count": null,
   "id": "3231b2ed",
   "metadata": {
    "tags": []
   },
   "outputs": [],
   "source": [
    "list_censusBG_2 = BG_df['GEOID'].dropna().drop_duplicates().astype(str).tolist()\n",
    "\n",
    "# add preceding 0 to make 4-digit zip codes into 5-digit\n",
    "list_censusBG_2 = [censusBG.zfill(12) for censusBG in list_censusBG_2]"
   ]
  },
  {
   "cell_type": "code",
   "execution_count": null,
   "id": "c69ebadd-8b79-4047-a0aa-115e2b4b688e",
   "metadata": {
    "tags": []
   },
   "outputs": [],
   "source": [
    "len(list_censusBG_2)"
   ]
  },
  {
   "cell_type": "code",
   "execution_count": null,
   "id": "d0d8222e-ad5e-43ec-92d0-be8eabdb18e6",
   "metadata": {
    "tags": []
   },
   "outputs": [],
   "source": [
    "list_censusBG_3 = list_censusBG_3 + list_censusBG_2 "
   ]
  },
  {
   "cell_type": "code",
   "execution_count": null,
   "id": "989897aa-9d1f-4360-b03f-8e165fa13377",
   "metadata": {
    "tags": []
   },
   "outputs": [],
   "source": [
    "len(list_censusBG_3)"
   ]
  },
  {
   "cell_type": "code",
   "execution_count": null,
   "id": "65a12883-78b2-4128-a0e7-cf6a54864876",
   "metadata": {
    "tags": []
   },
   "outputs": [],
   "source": [
    "list_censusBG_3 = list(set(list_censusBG_3))"
   ]
  },
  {
   "cell_type": "code",
   "execution_count": null,
   "id": "cc450bd1",
   "metadata": {
    "tags": []
   },
   "outputs": [],
   "source": [
    "len(list_censusBG_3)"
   ]
  },
  {
   "cell_type": "code",
   "execution_count": null,
   "id": "676071ee",
   "metadata": {
    "tags": []
   },
   "outputs": [],
   "source": [
    "#CensusBG list for NC\n",
    "\n",
    "list_censusBG = df['censusBlockGroupFips'].dropna().drop_duplicates().tolist()\n",
    "\n",
    "list_censusBG = [str(int(float(i))) for i in list_censusBG]\n",
    "\n",
    "# add preceding 0 to make 4-digit zip codes into 5-digit\n",
    "list_censusBG = [censusBG.zfill(12) for censusBG in list_censusBG]"
   ]
  },
  {
   "cell_type": "code",
   "execution_count": null,
   "id": "35b7b809",
   "metadata": {
    "tags": []
   },
   "outputs": [],
   "source": [
    "# Convert both lists to sets\n",
    "set_bg = set(list_censusBG)\n",
    "set_bg_2 = set(list_censusBG_3)\n",
    "\n",
    "# Find the intersection of the two sets\n",
    "common_bg = set_bg.intersection(set_bg_2)\n",
    "\n",
    "# Print the number of common zip codes\n",
    "print(\"Number of common BG:\", len(common_bg))"
   ]
  },
  {
   "cell_type": "code",
   "execution_count": null,
   "id": "7b87cdab",
   "metadata": {
    "tags": []
   },
   "outputs": [],
   "source": [
    "len(common_bg)/len(list_censusBG)"
   ]
  },
  {
   "cell_type": "code",
   "execution_count": null,
   "id": "abc86fe8",
   "metadata": {
    "tags": []
   },
   "outputs": [],
   "source": [
    "len(common_bg)"
   ]
  },
  {
   "cell_type": "code",
   "execution_count": null,
   "id": "418cf043",
   "metadata": {
    "tags": []
   },
   "outputs": [],
   "source": [
    "len(list_censusBG)"
   ]
  },
  {
   "cell_type": "code",
   "execution_count": null,
   "id": "d1ddbfd3",
   "metadata": {},
   "outputs": [],
   "source": []
  },
  {
   "cell_type": "markdown",
   "id": "dfb83cc0",
   "metadata": {},
   "source": [
    "## Using Shapefiles"
   ]
  },
  {
   "cell_type": "code",
   "execution_count": null,
   "id": "e9033ca0",
   "metadata": {},
   "outputs": [],
   "source": [
    "# Read the shapefile\n",
    "shapefile_path = 'C:/Users/Asus/Box/Flood Damage PredictionProject/Shapefiles/tl_rd22_us_zcta520/tl_rd22_us_zcta520.shp'  # Replace with the path to your shapefile\n",
    "map_df = gpd.read_file(shapefile_path)"
   ]
  },
  {
   "cell_type": "code",
   "execution_count": null,
   "id": "2ed2da4d",
   "metadata": {},
   "outputs": [],
   "source": [
    "map_df.head()"
   ]
  },
  {
   "cell_type": "code",
   "execution_count": null,
   "id": "7dfb83b4",
   "metadata": {},
   "outputs": [],
   "source": [
    "list_zipcode_2 = map_df['ZCTA5CE20'].dropna().drop_duplicates().astype(str).tolist()\n",
    "\n",
    "# add preceding 0 to make 4-digit zip codes into 5-digit\n",
    "list_zipcode_2 = [zipcode.zfill(5) for zipcode in list_zipcode]"
   ]
  },
  {
   "cell_type": "code",
   "execution_count": null,
   "id": "b1686438",
   "metadata": {},
   "outputs": [],
   "source": [
    "# Convert both lists to sets\n",
    "set_zipcode = set(list_zipcode)\n",
    "set_zipcode_2 = set(list_zipcode_2)\n",
    "\n",
    "# Find the intersection of the two sets\n",
    "common_zipcodes = set_zipcode.intersection(set_zipcode_2)\n",
    "\n",
    "# Print the number of common zip codes\n",
    "print(\"Number of common zip codes:\", len(common_zipcodes))"
   ]
  },
  {
   "cell_type": "code",
   "execution_count": null,
   "id": "d6cbc5c3",
   "metadata": {},
   "outputs": [],
   "source": [
    "len(common_zipcodes)/len(list_zipcode)"
   ]
  },
  {
   "cell_type": "code",
   "execution_count": null,
   "id": "656356d6",
   "metadata": {},
   "outputs": [],
   "source": []
  }
 ],
 "metadata": {
  "kernelspec": {
   "display_name": "Python 3 (ipykernel)",
   "language": "python",
   "name": "python3"
  },
  "language_info": {
   "codemirror_mode": {
    "name": "ipython",
    "version": 3
   },
   "file_extension": ".py",
   "mimetype": "text/x-python",
   "name": "python",
   "nbconvert_exporter": "python",
   "pygments_lexer": "ipython3",
   "version": "3.8.17"
  }
 },
 "nbformat": 4,
 "nbformat_minor": 5
}
