{
 "cells": [
  {
   "cell_type": "code",
   "execution_count": 1,
   "id": "794001f1",
   "metadata": {
    "tags": []
   },
   "outputs": [],
   "source": [
    "import pandas as pd\n",
    "import numpy as np\n",
    "import matplotlib.pyplot as plt\n",
    "import pyarrow as pa\n",
    "import pyarrow.parquet as pq\n",
    "import geopandas as gpd\n",
    "import seaborn as sns\n",
    "\n",
    "#Packages\n",
    "import pandas as pd\n",
    "import matplotlib.pyplot as plt\n",
    "import matplotlib.ticker as mtick\n",
    "import numpy as np\n",
    "from scipy import stats\n",
    "pd.set_option('display.max_columns', None)\n",
    "\n",
    "from scipy.stats import skew, kurtosis\n",
    "\n",
    "import pygris\n",
    "import shapely"
   ]
  },
  {
   "cell_type": "code",
   "execution_count": null,
   "id": "356e66c6",
   "metadata": {},
   "outputs": [],
   "source": [
    "# rm(list=ls()) \n",
    "\n",
    "# library(devtools)\n",
    "\n",
    "\n",
    "# library(choroplethrZip)\n",
    "# library(tidyverse)\n",
    "\n",
    "# https://github.com/arilamstein/choroplethrZip"
   ]
  },
  {
   "cell_type": "code",
   "execution_count": null,
   "id": "43ad2a4a",
   "metadata": {
    "tags": []
   },
   "outputs": [],
   "source": [
    "df = pd.read_parquet(\"C:/Users/Asus/Box/Flood Damage PredictionProject/Dataset/FimaNfipClaims.parquet.gzip\")"
   ]
  },
  {
   "cell_type": "code",
   "execution_count": null,
   "id": "d19aa2b2",
   "metadata": {
    "tags": []
   },
   "outputs": [],
   "source": [
    "df.head()"
   ]
  },
  {
   "cell_type": "code",
   "execution_count": null,
   "id": "0bccdca8",
   "metadata": {
    "tags": []
   },
   "outputs": [],
   "source": [
    "df['reportedZipCode'].dtypes"
   ]
  },
  {
   "cell_type": "code",
   "execution_count": null,
   "id": "98fe4475",
   "metadata": {
    "tags": []
   },
   "outputs": [],
   "source": [
    "df['reportedZipCode'].isna().sum() / df.shape[0]"
   ]
  },
  {
   "cell_type": "code",
   "execution_count": null,
   "id": "da7eb2a5",
   "metadata": {
    "tags": []
   },
   "outputs": [],
   "source": [
    "df['censusBlockGroupFips'].isna().sum() / df.shape[0]"
   ]
  },
  {
   "cell_type": "code",
   "execution_count": null,
   "id": "11dc8587",
   "metadata": {
    "tags": []
   },
   "outputs": [],
   "source": [
    "df['latitude'].isna().sum() / df.shape[0]"
   ]
  },
  {
   "cell_type": "code",
   "execution_count": null,
   "id": "feef13e8",
   "metadata": {
    "tags": []
   },
   "outputs": [],
   "source": [
    "df['longitude'].isna().sum() / df.shape[0]"
   ]
  },
  {
   "cell_type": "code",
   "execution_count": null,
   "id": "fadde2da",
   "metadata": {
    "tags": []
   },
   "outputs": [],
   "source": [
    "missing_all_three = df['reportedZipCode'].isna() | df['censusBlockGroupFips'].isna() | df['latitude'].isna()\n",
    "\n",
    "# To get the number of such rows\n",
    "num_missing_all_three = missing_all_three.sum()\n",
    "\n",
    "# To get the proportion of such rows\n",
    "proportion_missing_all_three = num_missing_all_three / df.shape[0]"
   ]
  },
  {
   "cell_type": "code",
   "execution_count": null,
   "id": "3a334f6b",
   "metadata": {
    "tags": []
   },
   "outputs": [],
   "source": [
    "proportion_missing_all_three*100"
   ]
  },
  {
   "cell_type": "code",
   "execution_count": null,
   "id": "f520d208",
   "metadata": {
    "tags": []
   },
   "outputs": [],
   "source": [
    "#Zipcode list\n",
    "\n",
    "list_zipcode = df['reportedZipCode'].dropna().drop_duplicates().astype(int).astype(str).tolist()\n",
    "\n",
    "# add preceding 0 to make 4-digit zip codes into 5-digit\n",
    "list_zipcode = [zipcode.zfill(5) for zipcode in list_zipcode]\n",
    "\n",
    "# temp = pd.DataFrame(list_censusBG, columns=['ZipCode'])\n",
    "\n",
    "# temp.to_csv('C:/Users/Asus/Box/Flood Damage PredictionProject/Dataset/ZipCode.csv', index=False)"
   ]
  },
  {
   "cell_type": "code",
   "execution_count": null,
   "id": "facc1783",
   "metadata": {
    "tags": []
   },
   "outputs": [],
   "source": [
    "#CensusBG list\n",
    "\n",
    "list_censusBG = df['censusBlockGroupFips'].dropna().drop_duplicates().tolist()\n",
    "\n",
    "list_censusBG = [str(int(float(i))) for i in list_censusBG]\n",
    "\n",
    "# add preceding 0 to make 4-digit zip codes into 5-digit\n",
    "list_censusBG = [censusBG.zfill(12) for censusBG in list_censusBG]\n",
    "\n",
    "# temp = pd.DataFrame(list_censusBG, columns=['censusBG'])\n",
    "\n",
    "# temp.to_csv('C:/Users/Asus/Box/Flood Damage PredictionProject/Dataset/censusBG.csv', index=False)"
   ]
  },
  {
   "cell_type": "code",
   "execution_count": null,
   "id": "daf246aa",
   "metadata": {
    "tags": []
   },
   "outputs": [],
   "source": [
    "#lat long df\n",
    "\n",
    "df_lat_long = df[['latitude', 'longitude']].dropna().drop_duplicates()"
   ]
  },
  {
   "cell_type": "markdown",
   "id": "4720ecae",
   "metadata": {},
   "source": [
    "## Using pygris"
   ]
  },
  {
   "cell_type": "code",
   "execution_count": null,
   "id": "f70899db",
   "metadata": {
    "tags": []
   },
   "outputs": [],
   "source": [
    "years = [2000, 2010, 2012, 2013, 2014, 2015, 2016, 2017, 2018, 2019, 2020, 2021]"
   ]
  },
  {
   "cell_type": "code",
   "execution_count": null,
   "id": "7ff69865-075e-414a-a523-1ae83a884f2b",
   "metadata": {
    "tags": []
   },
   "outputs": [],
   "source": [
    "# zip_codes_list = pygris.zctas(year=2000)"
   ]
  },
  {
   "cell_type": "code",
   "execution_count": null,
   "id": "130d3e03-2940-40d9-971a-3801592fa741",
   "metadata": {
    "tags": []
   },
   "outputs": [],
   "source": [
    "# zip_codes_list.head()"
   ]
  },
  {
   "cell_type": "code",
   "execution_count": null,
   "id": "cc8ab9fa-7a98-418a-aaa7-d73747a328de",
   "metadata": {
    "tags": []
   },
   "outputs": [],
   "source": [
    "# zip_codes_list.shape[0]"
   ]
  },
  {
   "cell_type": "code",
   "execution_count": null,
   "id": "8c4f9a42-e803-49c6-a3b3-3a7781e3ae1e",
   "metadata": {
    "tags": []
   },
   "outputs": [],
   "source": [
    "# years = [2000, 2010, 2012, 2013, 2014, 2015, 2016, 2017, 2018, 2019, 2020, 2021]\n",
    "\n",
    "years = [2000, 2010, 2012, 2013, 2014, 2015, 2016, 2017, 2018, 2019, 2020, 2021]\n",
    "\n",
    "yearly_data = {}\n",
    "\n",
    "for i in years:\n",
    "    yearly_data[i] = pygris.zctas(year=i)"
   ]
  },
  {
   "cell_type": "code",
   "execution_count": null,
   "id": "f34d8c79-b3bf-4077-ab5b-2f47e668b5a9",
   "metadata": {
    "tags": []
   },
   "outputs": [],
   "source": [
    "# temp = pygris.zctas(year=2000)"
   ]
  },
  {
   "cell_type": "code",
   "execution_count": null,
   "id": "56f41876-8699-4b5a-b4bc-3d523ca42e98",
   "metadata": {
    "tags": []
   },
   "outputs": [],
   "source": [
    "temp = pd.DataFrame(yearly_data[2021])"
   ]
  },
  {
   "cell_type": "code",
   "execution_count": null,
   "id": "880cdd67-28bd-4791-bd64-9d88c320df04",
   "metadata": {
    "tags": []
   },
   "outputs": [],
   "source": [
    "temp.head()"
   ]
  },
  {
   "cell_type": "code",
   "execution_count": null,
   "id": "74b3ef89-653a-4a80-9feb-78e3e8d3873e",
   "metadata": {
    "tags": []
   },
   "outputs": [],
   "source": [
    "temp = temp[['ZCTA5CE20', 'geometry']]"
   ]
  },
  {
   "cell_type": "code",
   "execution_count": null,
   "id": "fd14c8bc-7291-4f07-85cc-e1143a74e625",
   "metadata": {
    "tags": []
   },
   "outputs": [],
   "source": [
    "temp = temp.rename(columns={\"ZCTA5CE20\": \"ZIPcode\"})\n",
    "temp['year'] = 2021\n",
    "temp"
   ]
  },
  {
   "cell_type": "code",
   "execution_count": null,
   "id": "c42d1771-060c-4c92-9cd8-38ccaa37a492",
   "metadata": {
    "tags": []
   },
   "outputs": [],
   "source": [
    "list_zipcode_temp = temp['ZIPcode'].dropna().drop_duplicates().astype(str).tolist()\n",
    "\n",
    "# add preceding 0 to make 4-digit zip codes into 5-digit\n",
    "list_zipcode_temp = [zipcode.zfill(5) for zipcode in list_zipcode_temp]"
   ]
  },
  {
   "cell_type": "code",
   "execution_count": null,
   "id": "7ae1f028-411b-4592-9e6b-650e68a3619b",
   "metadata": {
    "tags": []
   },
   "outputs": [],
   "source": [
    "len(list_zipcode_temp)"
   ]
  },
  {
   "cell_type": "code",
   "execution_count": null,
   "id": "681284cc-2863-461c-8072-cc4be17d16cc",
   "metadata": {
    "tags": []
   },
   "outputs": [],
   "source": [
    "list_zipcode_3 = list_zipcode_3 + list_zipcode_temp"
   ]
  },
  {
   "cell_type": "code",
   "execution_count": null,
   "id": "27c52e02-9ee4-4c38-a3e7-f209bd0fa09d",
   "metadata": {
    "tags": []
   },
   "outputs": [],
   "source": [
    "len(list_zipcode_3)"
   ]
  },
  {
   "cell_type": "code",
   "execution_count": null,
   "id": "18a82319-1e4f-4e83-bc46-86743301421f",
   "metadata": {
    "tags": []
   },
   "outputs": [],
   "source": [
    "list_zipcode_3 = list(set(list_zipcode_3))"
   ]
  },
  {
   "cell_type": "code",
   "execution_count": null,
   "id": "59cf03ed-684d-430c-b018-201e83dddd1c",
   "metadata": {
    "tags": []
   },
   "outputs": [],
   "source": [
    "len(list_zipcode_3)"
   ]
  },
  {
   "cell_type": "code",
   "execution_count": null,
   "id": "0e5d7ea8-f7ba-4800-8181-158d045845d6",
   "metadata": {
    "tags": []
   },
   "outputs": [],
   "source": [
    "set_zipcode = set(list_zipcode)\n",
    "set_zipcode_3 = set(list_zipcode_3)\n",
    "\n",
    "# Find the intersection of the two sets\n",
    "common_zipcodes = set_zipcode.intersection(set_zipcode_3)\n",
    "\n",
    "# Print the number of common zip codes\n",
    "print(\"Number of common zip codes:\", len(common_zipcodes))"
   ]
  },
  {
   "cell_type": "code",
   "execution_count": null,
   "id": "0b8e233a-74a7-4207-8387-acf35e43ec58",
   "metadata": {
    "tags": []
   },
   "outputs": [],
   "source": [
    "len(common_zipcodes)/len(list_zipcode)"
   ]
  },
  {
   "cell_type": "code",
   "execution_count": null,
   "id": "964bf84b-4973-464c-838d-377aa3fb057a",
   "metadata": {
    "tags": []
   },
   "outputs": [],
   "source": [
    "zip_code_df2000 = temp[temp['ZIPcode'].isin(common_zipcodes)]"
   ]
  },
  {
   "cell_type": "code",
   "execution_count": null,
   "id": "08913ba4-5df5-4720-afb3-a35d608c65ec",
   "metadata": {
    "tags": []
   },
   "outputs": [],
   "source": [
    "zip_code_df2000.head()"
   ]
  },
  {
   "cell_type": "code",
   "execution_count": null,
   "id": "9145ea6e-8c46-4a02-a800-0d2a90719b6a",
   "metadata": {
    "tags": []
   },
   "outputs": [],
   "source": [
    "zip_code_df2010 = temp[temp['ZIPcode'].isin(common_zipcodes)]"
   ]
  },
  {
   "cell_type": "code",
   "execution_count": null,
   "id": "34f1331b-5583-48d4-a26e-6fa7afe9689e",
   "metadata": {
    "tags": []
   },
   "outputs": [],
   "source": [
    "zip_code_df2010.head()"
   ]
  },
  {
   "cell_type": "code",
   "execution_count": null,
   "id": "bf81b121-7406-4d4b-b0d8-a6ed81798df2",
   "metadata": {
    "tags": []
   },
   "outputs": [],
   "source": [
    "zip_code_df2012 = temp[temp['ZIPcode'].isin(common_zipcodes)]"
   ]
  },
  {
   "cell_type": "code",
   "execution_count": null,
   "id": "4ff19572-4035-4dd8-88b6-6c6ef3e1eb60",
   "metadata": {
    "tags": []
   },
   "outputs": [],
   "source": [
    "zip_code_df2012.head()"
   ]
  },
  {
   "cell_type": "code",
   "execution_count": null,
   "id": "b96bb93e-34ed-4ada-b31f-548bf56ee6f4",
   "metadata": {
    "tags": []
   },
   "outputs": [],
   "source": [
    "zip_code_df2020 = temp[temp['ZIPcode'].isin(common_zipcodes)]"
   ]
  },
  {
   "cell_type": "code",
   "execution_count": null,
   "id": "f4803561-ff71-4548-a266-df7be21ca9eb",
   "metadata": {
    "tags": []
   },
   "outputs": [],
   "source": [
    "zip_code_df2020.head()"
   ]
  },
  {
   "cell_type": "code",
   "execution_count": null,
   "id": "58201799-16d0-4481-94ba-59135da7645f",
   "metadata": {
    "tags": []
   },
   "outputs": [],
   "source": [
    "zip_code_df2021 = temp[temp['ZIPcode'].isin(common_zipcodes)]"
   ]
  },
  {
   "cell_type": "code",
   "execution_count": null,
   "id": "5c820a52-d455-44d8-809d-220434fa5b1d",
   "metadata": {
    "tags": []
   },
   "outputs": [],
   "source": [
    "zip_code_df2021.head()"
   ]
  },
  {
   "cell_type": "code",
   "execution_count": null,
   "id": "d5aa9ffe-1335-42c2-b596-437f0cf39d31",
   "metadata": {
    "tags": []
   },
   "outputs": [],
   "source": [
    "zip_code_df = pd.concat([zip_code_df2000, zip_code_df2010, zip_code_df2012, zip_code_df2020, zip_code_df2021], ignore_index=True)"
   ]
  },
  {
   "cell_type": "code",
   "execution_count": null,
   "id": "068ef901-7ff2-4a16-8a23-58468672dc24",
   "metadata": {
    "tags": []
   },
   "outputs": [],
   "source": [
    "zip_code_df = zip_code_df.drop_duplicates(subset=['ZIPcode', 'geometry'])"
   ]
  },
  {
   "cell_type": "code",
   "execution_count": null,
   "id": "0435dc7d-99ec-42a6-8b53-f41df86981c2",
   "metadata": {
    "tags": []
   },
   "outputs": [],
   "source": [
    "zip_code_df.shape[0]"
   ]
  },
  {
   "cell_type": "code",
   "execution_count": null,
   "id": "ebe50e9d-e5f4-41bc-9f98-1795fa82e5c9",
   "metadata": {
    "tags": []
   },
   "outputs": [],
   "source": [
    "zip_code_df.head()"
   ]
  },
  {
   "cell_type": "code",
   "execution_count": null,
   "id": "70722afd-74cf-44f9-901a-e11fe4fd4217",
   "metadata": {
    "tags": []
   },
   "outputs": [],
   "source": [
    "# Convert the geometry column to WKT format\n",
    "zip_code_df['geometry'] = zip_code_df['geometry'].apply(lambda geom: geom.wkt)"
   ]
  },
  {
   "cell_type": "code",
   "execution_count": null,
   "id": "e6b04537-1f6e-4465-910c-85ec12ce9286",
   "metadata": {
    "tags": []
   },
   "outputs": [],
   "source": [
    "chunk_size = 25000  # adjust based on your system's capabilities\n",
    "chunks = [x for x in range(0, len(zip_code_df), chunk_size)]\n",
    "\n",
    "for start in chunks:\n",
    "    end = start + chunk_size\n",
    "    temp_df = zip_code_df.iloc[start:end].copy()\n",
    "    # temp_df['geometry'] = temp_df['geometry'].apply(lambda geom: geom.wkt)\n",
    "    temp_df.to_parquet(f\"C:/Users/Asus/Box/Flood Damage PredictionProject/Dataset/zipcode_geometry_{start}_{end}.parquet.gzip\", compression='gzip')"
   ]
  },
  {
   "cell_type": "code",
   "execution_count": 2,
   "id": "94f5977f-7f01-4d20-9a43-481f72e0fe1c",
   "metadata": {
    "tags": []
   },
   "outputs": [],
   "source": [
    "# Read the parquet file\n",
    "df_read = pd.read_parquet(\"C:/Users/Asus/Box/Flood Damage PredictionProject/Dataset/zipcode_geometry_0_25000.parquet.gzip\")\n",
    "\n",
    "# Convert the WKT strings back to geometries\n",
    "gdf_read = gpd.GeoDataFrame(df_read, geometry=df_read['geometry'].apply(lambda x: shapely.wkt.loads(x)))"
   ]
  },
  {
   "cell_type": "code",
   "execution_count": 3,
   "id": "8eb124fe-daf8-48ba-aaed-a3741fcd2457",
   "metadata": {
    "tags": []
   },
   "outputs": [
    {
     "data": {
      "text/html": [
       "<div>\n",
       "<style scoped>\n",
       "    .dataframe tbody tr th:only-of-type {\n",
       "        vertical-align: middle;\n",
       "    }\n",
       "\n",
       "    .dataframe tbody tr th {\n",
       "        vertical-align: top;\n",
       "    }\n",
       "\n",
       "    .dataframe thead th {\n",
       "        text-align: right;\n",
       "    }\n",
       "</style>\n",
       "<table border=\"1\" class=\"dataframe\">\n",
       "  <thead>\n",
       "    <tr style=\"text-align: right;\">\n",
       "      <th></th>\n",
       "      <th>ZIPcode</th>\n",
       "      <th>geometry</th>\n",
       "      <th>year</th>\n",
       "    </tr>\n",
       "  </thead>\n",
       "  <tbody>\n",
       "    <tr>\n",
       "      <th>0</th>\n",
       "      <td>38739</td>\n",
       "      <td>MULTIPOLYGON (((-90.499253 34.053217, -90.4997...</td>\n",
       "      <td>2000</td>\n",
       "    </tr>\n",
       "    <tr>\n",
       "      <th>1</th>\n",
       "      <td>38767</td>\n",
       "      <td>POLYGON ((-90.76477 34.119506, -90.766978 34.1...</td>\n",
       "      <td>2000</td>\n",
       "    </tr>\n",
       "    <tr>\n",
       "      <th>2</th>\n",
       "      <td>38669</td>\n",
       "      <td>POLYGON ((-90.74080599999999 34.184565, -90.74...</td>\n",
       "      <td>2000</td>\n",
       "    </tr>\n",
       "    <tr>\n",
       "      <th>3</th>\n",
       "      <td>38630</td>\n",
       "      <td>MULTIPOLYGON (((-90.67204699999999 34.259564, ...</td>\n",
       "      <td>2000</td>\n",
       "    </tr>\n",
       "    <tr>\n",
       "      <th>4</th>\n",
       "      <td>38639</td>\n",
       "      <td>POLYGON ((-90.456458 34.31975, -90.456758 34.3...</td>\n",
       "      <td>2000</td>\n",
       "    </tr>\n",
       "  </tbody>\n",
       "</table>\n",
       "</div>"
      ],
      "text/plain": [
       "  ZIPcode                                           geometry  year\n",
       "0   38739  MULTIPOLYGON (((-90.499253 34.053217, -90.4997...  2000\n",
       "1   38767  POLYGON ((-90.76477 34.119506, -90.766978 34.1...  2000\n",
       "2   38669  POLYGON ((-90.74080599999999 34.184565, -90.74...  2000\n",
       "3   38630  MULTIPOLYGON (((-90.67204699999999 34.259564, ...  2000\n",
       "4   38639  POLYGON ((-90.456458 34.31975, -90.456758 34.3...  2000"
      ]
     },
     "execution_count": 3,
     "metadata": {},
     "output_type": "execute_result"
    }
   ],
   "source": [
    "df_read.head()"
   ]
  },
  {
   "cell_type": "code",
   "execution_count": 5,
   "id": "80b78697-d88e-40a5-ac02-af0de1ac137d",
   "metadata": {
    "tags": []
   },
   "outputs": [
    {
     "name": "stdout",
     "output_type": "stream",
     "text": [
      "POLYGON ((2 1, 1 1, 1 2, 2 2, 2 1))\n"
     ]
    }
   ],
   "source": [
    "import geopandas as gpd\n",
    "from shapely.wkt import loads\n",
    "\n",
    "# Assuming you have a DataFrame df with columns 'unit' and 'geometry'\n",
    "# Example:\n",
    "#    unit  |  geometry\n",
    "#   -------|-----------\n",
    "#    unit1 |  geom1\n",
    "#    unit2 |  geom2\n",
    "#    unit3 |  geom3\n",
    "\n",
    "# Here's a hypothetical dataset for demonstration\n",
    "data = {\n",
    "    'unit': ['unit1', 'unit2', 'unit3'],\n",
    "    'geometry': ['POLYGON ((0 0, 0 2, 2 2, 2 0, 0 0))',\n",
    "                'POLYGON ((1 1, 1 3, 3 3, 3 1, 1 1))',\n",
    "                'POLYGON ((0.5 0.5, 0.5 2.5, 2.5 2.5, 2.5 0.5, 0.5 0.5))']\n",
    "}\n",
    "\n",
    "# Convert string representations of geometries to actual Shapely geometry objects\n",
    "data['geometry'] = [loads(geom) for geom in data['geometry']]\n",
    "\n",
    "df = gpd.GeoDataFrame(data, geometry='geometry')\n",
    "\n",
    "# Get the intersection of the three geometries\n",
    "intersection_geom = df['geometry'].iloc[0]\n",
    "for geom in df['geometry'].iloc[1:]:\n",
    "    intersection_geom = intersection_geom.intersection(geom)\n",
    "\n",
    "print(intersection_geom)"
   ]
  },
  {
   "cell_type": "code",
   "execution_count": null,
   "id": "68c27f5c-02b6-4477-a98c-75a90bd19ebb",
   "metadata": {
    "tags": []
   },
   "outputs": [],
   "source": [
    "# Drop duplicates\n",
    "zip_code_df = zip_code_df.drop_duplicates(subset=['ZIPcode'])"
   ]
  },
  {
   "cell_type": "code",
   "execution_count": null,
   "id": "5a2217f4-6aab-4cdf-a353-662a0853fac9",
   "metadata": {},
   "outputs": [],
   "source": []
  },
  {
   "cell_type": "code",
   "execution_count": null,
   "id": "46b814cf",
   "metadata": {
    "tags": []
   },
   "outputs": [],
   "source": [
    "list_zipcode_2 = zip_codes_list['ZCTA5CE20'].dropna().drop_duplicates().astype(str).tolist()\n",
    "\n",
    "# add preceding 0 to make 4-digit zip codes into 5-digit\n",
    "list_zipcode_2 = [zipcode.zfill(5) for zipcode in list_zipcode_2]"
   ]
  },
  {
   "cell_type": "code",
   "execution_count": null,
   "id": "c3d0cafc",
   "metadata": {
    "tags": []
   },
   "outputs": [],
   "source": [
    "# Convert both lists to sets\n",
    "set_zipcode = set(list_zipcode)\n",
    "set_zipcode_2 = set(list_zipcode_2)\n",
    "\n",
    "# Find the intersection of the two sets\n",
    "common_zipcodes = set_zipcode.intersection(set_zipcode_2)\n",
    "\n",
    "# Print the number of common zip codes\n",
    "print(\"Number of common zip codes:\", len(common_zipcodes))"
   ]
  },
  {
   "cell_type": "code",
   "execution_count": null,
   "id": "dbe78cda",
   "metadata": {
    "tags": []
   },
   "outputs": [],
   "source": [
    "len(common_zipcodes)/len(list_zipcode)"
   ]
  },
  {
   "cell_type": "code",
   "execution_count": null,
   "id": "483faee5",
   "metadata": {
    "tags": []
   },
   "outputs": [],
   "source": [
    "states = pygris.states()\n",
    "states_list = sorted(states['STUSPS'].unique())"
   ]
  },
  {
   "cell_type": "code",
   "execution_count": null,
   "id": "34d3e84e-b7f4-4941-8628-8e2be02f80fa",
   "metadata": {
    "tags": []
   },
   "outputs": [],
   "source": [
    "zip_codes_list['ZCTA5CE20'] = zip_codes_list['ZCTA5CE20'].astype(str)\n",
    "\n",
    "filtered_df = zip_codes_list[zip_codes_list['ZCTA5CE20'].isin(list_zipcode)]"
   ]
  },
  {
   "cell_type": "code",
   "execution_count": null,
   "id": "51f097f5-3e4c-4e85-854a-a3ea2f0bb91c",
   "metadata": {
    "tags": []
   },
   "outputs": [],
   "source": [
    "filtered_df.head()"
   ]
  },
  {
   "cell_type": "code",
   "execution_count": null,
   "id": "271294e0-7bb2-4248-9c73-249eac7cfa41",
   "metadata": {
    "tags": []
   },
   "outputs": [],
   "source": [
    "years2 = [1990, 2000, 2010, 2012, 2013, 2014, 2015, 2016, 2017, 2018, 2019, 2020, 2021]"
   ]
  },
  {
   "cell_type": "code",
   "execution_count": null,
   "id": "caf1386b-3315-4649-a588-a417c4d5cc09",
   "metadata": {
    "tags": []
   },
   "outputs": [],
   "source": [
    "BG_list = []\n",
    "\n",
    "for i in states_list:\n",
    "    BG_list.append(pygris.block_groups(state = i, year = 2021))"
   ]
  },
  {
   "cell_type": "code",
   "execution_count": null,
   "id": "9c9db1ea-a8c2-43ad-bef0-4df7bbfa557f",
   "metadata": {},
   "outputs": [],
   "source": [
    "BG_list = []\n",
    "\n",
    "for i in states_list:\n",
    "    BG_list.append(pygris.block_groups(state = i, year = 2010))"
   ]
  },
  {
   "cell_type": "code",
   "execution_count": null,
   "id": "b356267f",
   "metadata": {
    "tags": []
   },
   "outputs": [],
   "source": [
    "BG_list = []\n",
    "\n",
    "for i in states_list:\n",
    "    BG_list.append(pygris.block_groups(state = i, year = 2000))"
   ]
  },
  {
   "cell_type": "code",
   "execution_count": null,
   "id": "8b77dd98-fea7-4123-8057-0669a39e280b",
   "metadata": {},
   "outputs": [],
   "source": [
    "BG_list = []\n",
    "\n",
    "for i in states_list:\n",
    "    BG_list.append(pygris.block_groups(state = i, year = 1990))"
   ]
  },
  {
   "cell_type": "code",
   "execution_count": null,
   "id": "739d55ab",
   "metadata": {
    "tags": []
   },
   "outputs": [],
   "source": [
    "BG_df = pd.concat(BG_list, ignore_index=True)"
   ]
  },
  {
   "cell_type": "code",
   "execution_count": null,
   "id": "83ace4bc",
   "metadata": {
    "tags": []
   },
   "outputs": [],
   "source": [
    "BG_df.head()"
   ]
  },
  {
   "cell_type": "code",
   "execution_count": null,
   "id": "3231b2ed",
   "metadata": {
    "tags": []
   },
   "outputs": [],
   "source": [
    "list_censusBG_2 = BG_df['GEOID'].dropna().drop_duplicates().astype(str).tolist()\n",
    "\n",
    "# add preceding 0 to make 4-digit zip codes into 5-digit\n",
    "list_censusBG_2 = [censusBG.zfill(12) for censusBG in list_censusBG_2]"
   ]
  },
  {
   "cell_type": "code",
   "execution_count": null,
   "id": "c69ebadd-8b79-4047-a0aa-115e2b4b688e",
   "metadata": {
    "tags": []
   },
   "outputs": [],
   "source": [
    "len(list_censusBG_2)"
   ]
  },
  {
   "cell_type": "code",
   "execution_count": null,
   "id": "d0d8222e-ad5e-43ec-92d0-be8eabdb18e6",
   "metadata": {
    "tags": []
   },
   "outputs": [],
   "source": [
    "list_censusBG_3 = list_censusBG_3 + list_censusBG_2 "
   ]
  },
  {
   "cell_type": "code",
   "execution_count": null,
   "id": "989897aa-9d1f-4360-b03f-8e165fa13377",
   "metadata": {
    "tags": []
   },
   "outputs": [],
   "source": [
    "len(list_censusBG_3)"
   ]
  },
  {
   "cell_type": "code",
   "execution_count": null,
   "id": "65a12883-78b2-4128-a0e7-cf6a54864876",
   "metadata": {
    "tags": []
   },
   "outputs": [],
   "source": [
    "list_censusBG_3 = list(set(list_censusBG_3))"
   ]
  },
  {
   "cell_type": "code",
   "execution_count": null,
   "id": "cc450bd1",
   "metadata": {
    "tags": []
   },
   "outputs": [],
   "source": [
    "len(list_censusBG_3)"
   ]
  },
  {
   "cell_type": "code",
   "execution_count": null,
   "id": "676071ee",
   "metadata": {
    "tags": []
   },
   "outputs": [],
   "source": [
    "#CensusBG list for NC\n",
    "\n",
    "list_censusBG = df['censusBlockGroupFips'].dropna().drop_duplicates().tolist()\n",
    "\n",
    "list_censusBG = [str(int(float(i))) for i in list_censusBG]\n",
    "\n",
    "# add preceding 0 to make 4-digit zip codes into 5-digit\n",
    "list_censusBG = [censusBG.zfill(12) for censusBG in list_censusBG]"
   ]
  },
  {
   "cell_type": "code",
   "execution_count": null,
   "id": "35b7b809",
   "metadata": {
    "tags": []
   },
   "outputs": [],
   "source": [
    "# Convert both lists to sets\n",
    "set_bg = set(list_censusBG)\n",
    "set_bg_2 = set(list_censusBG_3)\n",
    "\n",
    "# Find the intersection of the two sets\n",
    "common_bg = set_bg.intersection(set_bg_2)\n",
    "\n",
    "# Print the number of common zip codes\n",
    "print(\"Number of common BG:\", len(common_bg))"
   ]
  },
  {
   "cell_type": "code",
   "execution_count": null,
   "id": "7b87cdab",
   "metadata": {
    "tags": []
   },
   "outputs": [],
   "source": [
    "len(common_bg)/len(list_censusBG)"
   ]
  },
  {
   "cell_type": "code",
   "execution_count": null,
   "id": "abc86fe8",
   "metadata": {
    "tags": []
   },
   "outputs": [],
   "source": [
    "len(common_bg)"
   ]
  },
  {
   "cell_type": "code",
   "execution_count": null,
   "id": "418cf043",
   "metadata": {
    "tags": []
   },
   "outputs": [],
   "source": [
    "len(list_censusBG)"
   ]
  },
  {
   "cell_type": "code",
   "execution_count": null,
   "id": "d1ddbfd3",
   "metadata": {},
   "outputs": [],
   "source": []
  },
  {
   "cell_type": "markdown",
   "id": "dfb83cc0",
   "metadata": {},
   "source": [
    "## Using Shapefiles"
   ]
  },
  {
   "cell_type": "code",
   "execution_count": null,
   "id": "e9033ca0",
   "metadata": {},
   "outputs": [],
   "source": [
    "# Read the shapefile\n",
    "shapefile_path = 'C:/Users/Asus/Box/Flood Damage PredictionProject/Shapefiles/tl_rd22_us_zcta520/tl_rd22_us_zcta520.shp'  # Replace with the path to your shapefile\n",
    "map_df = gpd.read_file(shapefile_path)"
   ]
  },
  {
   "cell_type": "code",
   "execution_count": null,
   "id": "2ed2da4d",
   "metadata": {},
   "outputs": [],
   "source": [
    "map_df.head()"
   ]
  },
  {
   "cell_type": "code",
   "execution_count": null,
   "id": "7dfb83b4",
   "metadata": {},
   "outputs": [],
   "source": [
    "list_zipcode_2 = map_df['ZCTA5CE20'].dropna().drop_duplicates().astype(str).tolist()\n",
    "\n",
    "# add preceding 0 to make 4-digit zip codes into 5-digit\n",
    "list_zipcode_2 = [zipcode.zfill(5) for zipcode in list_zipcode]"
   ]
  },
  {
   "cell_type": "code",
   "execution_count": null,
   "id": "b1686438",
   "metadata": {},
   "outputs": [],
   "source": [
    "# Convert both lists to sets\n",
    "set_zipcode = set(list_zipcode)\n",
    "set_zipcode_2 = set(list_zipcode_2)\n",
    "\n",
    "# Find the intersection of the two sets\n",
    "common_zipcodes = set_zipcode.intersection(set_zipcode_2)\n",
    "\n",
    "# Print the number of common zip codes\n",
    "print(\"Number of common zip codes:\", len(common_zipcodes))"
   ]
  },
  {
   "cell_type": "code",
   "execution_count": null,
   "id": "d6cbc5c3",
   "metadata": {},
   "outputs": [],
   "source": [
    "len(common_zipcodes)/len(list_zipcode)"
   ]
  },
  {
   "cell_type": "code",
   "execution_count": null,
   "id": "656356d6",
   "metadata": {},
   "outputs": [],
   "source": []
  }
 ],
 "metadata": {
  "kernelspec": {
   "display_name": "Python 3 (ipykernel)",
   "language": "python",
   "name": "python3"
  },
  "language_info": {
   "codemirror_mode": {
    "name": "ipython",
    "version": 3
   },
   "file_extension": ".py",
   "mimetype": "text/x-python",
   "name": "python",
   "nbconvert_exporter": "python",
   "pygments_lexer": "ipython3",
   "version": "3.8.17"
  }
 },
 "nbformat": 4,
 "nbformat_minor": 5
}
