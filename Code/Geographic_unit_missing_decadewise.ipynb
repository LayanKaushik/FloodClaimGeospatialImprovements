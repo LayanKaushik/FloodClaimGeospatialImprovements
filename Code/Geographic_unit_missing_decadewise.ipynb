{
 "cells": [
  {
   "cell_type": "code",
   "execution_count": 1,
   "id": "c1e9bb7f-3cea-4e0c-b3f2-32356b38e20f",
   "metadata": {
    "tags": []
   },
   "outputs": [],
   "source": [
    "import pandas as pd\n",
    "import numpy as np\n",
    "import matplotlib.pyplot as plt\n",
    "import pyarrow as pa\n",
    "import pyarrow.parquet as pq\n",
    "import geopandas as gpd\n",
    "import seaborn as sns\n",
    "\n",
    "#Packages\n",
    "import matplotlib.ticker as mtick\n",
    "from scipy import stats\n",
    "pd.set_option('display.max_columns', None)\n",
    "\n",
    "from scipy.stats import skew, kurtosis\n",
    "\n",
    "import pygris\n",
    "from shapely.geometry import Polygon\n",
    "\n",
    "import shapely"
   ]
  },
  {
   "cell_type": "code",
   "execution_count": 2,
   "id": "b0375217-f734-4a21-98bf-239c3a79e412",
   "metadata": {
    "tags": []
   },
   "outputs": [],
   "source": [
    "df = pd.read_parquet(\"C:/Users/Asus/Box/Flood Damage PredictionProject/Dataset/FimaNfipClaims.parquet.gzip\")"
   ]
  },
  {
   "cell_type": "code",
   "execution_count": 3,
   "id": "4fa24eb1-3d4a-45e0-9746-d12b2138298c",
   "metadata": {
    "tags": []
   },
   "outputs": [
    {
     "data": {
      "text/plain": [
       "2597460"
      ]
     },
     "execution_count": 3,
     "metadata": {},
     "output_type": "execute_result"
    }
   ],
   "source": [
    "df.shape[0]"
   ]
  },
  {
   "cell_type": "code",
   "execution_count": 4,
   "id": "b7d4c6a6-e7ca-499c-9371-396c23baebb0",
   "metadata": {
    "tags": []
   },
   "outputs": [],
   "source": [
    "df_copy = df.copy()"
   ]
  },
  {
   "cell_type": "code",
   "execution_count": 5,
   "id": "4029a366-6779-47c9-bf78-20d247e56998",
   "metadata": {
    "tags": []
   },
   "outputs": [],
   "source": [
    "# Define bins and labels for yearOfLoss_1990_2021\n",
    "bins_1980_2021 = [df_copy['yearOfLoss'].min(), 2000, 2010, 2020, df_copy['yearOfLoss'].max() + 1]\n",
    "labels_1980_2021 = [1990, 2000, 2010, 2020]\n",
    "\n",
    "df_copy['yearOfLoss_1990_2021'] = pd.cut(df_copy['yearOfLoss'], bins=bins_1980_2021, labels=labels_1980_2021, right=False).astype(int)"
   ]
  },
  {
   "cell_type": "code",
   "execution_count": 6,
   "id": "eff6a1c0-b52f-4895-a98c-8a5aca22eab0",
   "metadata": {
    "tags": []
   },
   "outputs": [
    {
     "data": {
      "text/plain": [
       "1990    1040310\n",
       "2000     705871\n",
       "2010     696576\n",
       "2020     154703\n",
       "Name: yearOfLoss_1990_2021, dtype: int64"
      ]
     },
     "execution_count": 6,
     "metadata": {},
     "output_type": "execute_result"
    }
   ],
   "source": [
    "df_copy['yearOfLoss_1990_2021'].value_counts()"
   ]
  },
  {
   "cell_type": "markdown",
   "id": "323742e3-47bf-425d-b2be-5130f1cf4851",
   "metadata": {},
   "source": [
    "# Checking for missing shapefiles after dropping NA of the mentioned geographic unit.."
   ]
  },
  {
   "cell_type": "markdown",
   "id": "30414f84-a149-472b-9b56-61c6d4e29dbf",
   "metadata": {},
   "source": [
    "##### The units are: ['state',  'latitude', 'longitude', 'reportedZipCode', 'countyCode', 'censusTract', 'censusBlockGroupFips']"
   ]
  },
  {
   "cell_type": "markdown",
   "id": "4ac1a612-672c-40fe-a8b2-8ce8a8c90e4d",
   "metadata": {},
   "source": [
    "### 1. State"
   ]
  },
  {
   "cell_type": "markdown",
   "id": "0dee847b-6b04-4d6a-ae5a-54fc28336002",
   "metadata": {},
   "source": [
    "#### We are assuming that the geometries of state didn't change for our dataset (According to Wikipedia article (https://en.wikipedia.org/wiki/Territorial_evolution_of_the_United_States) all the changes to US map are either outside the mainland or too small to map. No missing shapefile for states."
   ]
  },
  {
   "cell_type": "markdown",
   "id": "61d681bf-f36b-4da4-aa40-cc46eda302cb",
   "metadata": {},
   "source": [
    "### 2. Latitude/Longitude"
   ]
  },
  {
   "cell_type": "code",
   "execution_count": null,
   "id": "c3d333bc-e2f3-4685-8a5f-44091fe99259",
   "metadata": {
    "tags": []
   },
   "outputs": [],
   "source": [
    "test = df_copy[df_copy['latitude'].notna() & df_copy['longitude'].notna()]"
   ]
  },
  {
   "cell_type": "code",
   "execution_count": null,
   "id": "4d8657c2-8263-479b-8d13-03f404ee50a5",
   "metadata": {
    "tags": []
   },
   "outputs": [],
   "source": [
    "print('Total observations available:', test.shape[0])\n",
    "print('Observations lost:', df.shape[0]-test.shape[0])\n",
    "print('Percentage NA:', (df.shape[0]-test.shape[0])*100/df.shape[0])\n",
    "print('Total unique combinations of lat/long:', test.drop_duplicates(subset=['latitude', 'longitude']).shape[0])"
   ]
  },
  {
   "cell_type": "code",
   "execution_count": null,
   "id": "fa1470ad-da5c-4b2e-9d4b-5d6293b23d09",
   "metadata": {
    "tags": []
   },
   "outputs": [],
   "source": [
    "print('Value_counts of combinations of lat/long per decade:\\n', test.drop_duplicates(subset=['latitude', 'longitude', 'yearOfLoss_1990_2021'])['yearOfLoss_1990_2021'].value_counts())"
   ]
  },
  {
   "cell_type": "markdown",
   "id": "4008f942-7b78-41a1-8733-66648d65e581",
   "metadata": {},
   "source": [
    "#### Since latitude and longitude doesn't change over time, we are able to generate all the respective geometries`"
   ]
  },
  {
   "cell_type": "markdown",
   "id": "b08c0073-eb60-4d96-9937-16589f90763b",
   "metadata": {},
   "source": [
    "### 3. reportedZipCode"
   ]
  },
  {
   "cell_type": "code",
   "execution_count": 7,
   "id": "7bf1bf21-d838-4b51-82d7-60916465013b",
   "metadata": {
    "tags": []
   },
   "outputs": [],
   "source": [
    "test = df[df['reportedZipCode'].notna()]"
   ]
  },
  {
   "cell_type": "code",
   "execution_count": 8,
   "id": "662cb7b0-ad79-417a-8f23-34bbdc51e93c",
   "metadata": {
    "tags": []
   },
   "outputs": [
    {
     "name": "stdout",
     "output_type": "stream",
     "text": [
      "Total observations available: 2541633\n",
      "Observations lost: 55827\n",
      "Percentage NA: 2.1492920006467857\n",
      "Total unique zipcodes: 25994\n"
     ]
    }
   ],
   "source": [
    "print('Total observations available:', test.shape[0])\n",
    "print('Observations lost:', df.shape[0]-test.shape[0])\n",
    "print('Percentage NA:', (df.shape[0]-test.shape[0])*100/df.shape[0])\n",
    "print('Total unique zipcodes:', test.drop_duplicates(subset=['reportedZipCode']).shape[0])"
   ]
  },
  {
   "cell_type": "markdown",
   "id": "672f8a93-8e60-4cbb-a6e3-43cc1f4b6ae8",
   "metadata": {},
   "source": [
    "##### Now we can calculate for each decade how many of the zipcodes have shapefiles with geometry attribute. For zipcodes we only have shapefiles available post 2000 (inclusive) in open source."
   ]
  },
  {
   "cell_type": "code",
   "execution_count": 9,
   "id": "e1eec43d-e56d-487e-aa67-827c6e55afba",
   "metadata": {
    "tags": []
   },
   "outputs": [],
   "source": [
    "# Read shapefile of zipcode\n",
    "\n",
    "chunk_size = 50000\n",
    "chunks = [x for x in range(0, 300000, chunk_size)]\n",
    "gdf_list = []\n",
    "\n",
    "for start in chunks:\n",
    "    end = start + chunk_size\n",
    "    temp_df = pd.read_parquet(f\"C:/Users/Asus/Box/Flood Damage PredictionProject/Dataset/zipcode_geometry_{start}_{end}.parquet.gzip\")\n",
    "    gdf_read = gpd.GeoDataFrame(temp_df, geometry=temp_df['geometry'].apply(lambda x: shapely.wkt.loads(x)))\n",
    "    gdf_list.append(gdf_read)\n",
    "\n",
    "gdf1 = pd.concat(gdf_list, ignore_index=True)\n",
    "\n",
    "df2 = pd.read_parquet(f\"C:/Users/Asus/Box/Flood Damage PredictionProject/Dataset/zipcode_geometry_2011_union.parquet.gzip\")\n",
    "df2 = df2.drop(columns='flag')\n",
    "\n",
    "gdf2 = gpd.GeoDataFrame(df2, geometry=df2['geometry'].apply(shapely.wkt.loads))\n",
    "\n",
    "zipcode_df = pd.concat([gdf1, gdf2], ignore_index=True)\n",
    "zipcode_df.rename(columns={'geometry': 'geometry_zipcode'}, inplace=True)"
   ]
  },
  {
   "cell_type": "code",
   "execution_count": 12,
   "id": "006d24e8-0560-4e05-b0ff-c4cc71974377",
   "metadata": {},
   "outputs": [],
   "source": [
    "zipcode_df21 = zipcode_df\n",
    "zipcode_df21['year_test'] = zipcode_df21['year'].apply(lambda x: 2000 if x == 2000 else (2010 if 2010 <= x <= 2019 else 2020))\n",
    "zipcode_df21 = zipcode_df21.drop(columns=['year'])\n",
    "zipcode_df3 = zipcode_df[zipcode_df['year'] == 2010]"
   ]
  },
  {
   "cell_type": "code",
   "execution_count": 15,
   "id": "442ab3a4-10c3-4c93-8e75-604ed116f9f0",
   "metadata": {},
   "outputs": [],
   "source": [
    "zipcode_df2 = zipcode_df21.drop_duplicates(subset=['ZIPcode', 'year_test'])"
   ]
  },
  {
   "cell_type": "code",
   "execution_count": 17,
   "id": "ac14a510-c5b9-4582-885a-b4eb8c7ab19c",
   "metadata": {
    "tags": []
   },
   "outputs": [],
   "source": [
    "df_geographic_unique = df[['reportedZipCode', 'yearOfLoss']].drop_duplicates()\n",
    "df_geographic_unique = df_geographic_unique.dropna(subset=['reportedZipCode'])"
   ]
  },
  {
   "cell_type": "code",
   "execution_count": 18,
   "id": "4bf523d3-25ad-41f7-8bce-07b89a22b755",
   "metadata": {
    "tags": []
   },
   "outputs": [],
   "source": [
    "df_geographic_unique['reportedZipCode'] = df_geographic_unique['reportedZipCode'].dropna().astype(int).astype(str)\n",
    "df_geographic_unique['reportedZipCode'] = [zipcode.zfill(5) for zipcode in df_geographic_unique['reportedZipCode']]"
   ]
  },
  {
   "cell_type": "code",
   "execution_count": 19,
   "id": "99ddb726-1627-43e7-b7d4-38dbb0c9b349",
   "metadata": {
    "tags": []
   },
   "outputs": [],
   "source": [
    "# Define bins and labels for yearOfLoss_1990_2021\n",
    "bins_1990_2021 = [df_geographic_unique['yearOfLoss'].min(), 2000, 2010, 2020, df_geographic_unique['yearOfLoss'].max() + 1]\n",
    "labels_1990_2021 = [1990, 2000, 2010, 2020]\n",
    "\n",
    "df_geographic_unique['yearOfLoss_1990_2021'] = pd.cut(df_geographic_unique['yearOfLoss'], bins=bins_1990_2021, labels=labels_1990_2021, right=False).astype(int)\n",
    "\n",
    "df_geographic_unique = df_geographic_unique.drop(columns='yearOfLoss')"
   ]
  },
  {
   "cell_type": "code",
   "execution_count": 20,
   "id": "c4cbd159-7a6a-429a-a7a8-2beac2810756",
   "metadata": {},
   "outputs": [],
   "source": [
    "df_geographic_unique = df_geographic_unique.drop_duplicates()"
   ]
  },
  {
   "cell_type": "code",
   "execution_count": 21,
   "id": "c350d59c-8101-467c-8595-1ddd4f06bde1",
   "metadata": {
    "tags": []
   },
   "outputs": [],
   "source": [
    "# Filter for post 2000 since we don't have shapefiles pre 2000 for zipcodes\n",
    "df_geographic_unique = df_geographic_unique[df_geographic_unique['yearOfLoss_1990_2021']!=1990]"
   ]
  },
  {
   "cell_type": "code",
   "execution_count": 22,
   "id": "771a1177-f8db-4393-a46f-38a3370d330c",
   "metadata": {},
   "outputs": [
    {
     "data": {
      "text/html": [
       "<div>\n",
       "<style scoped>\n",
       "    .dataframe tbody tr th:only-of-type {\n",
       "        vertical-align: middle;\n",
       "    }\n",
       "\n",
       "    .dataframe tbody tr th {\n",
       "        vertical-align: top;\n",
       "    }\n",
       "\n",
       "    .dataframe thead th {\n",
       "        text-align: right;\n",
       "    }\n",
       "</style>\n",
       "<table border=\"1\" class=\"dataframe\">\n",
       "  <thead>\n",
       "    <tr style=\"text-align: right;\">\n",
       "      <th></th>\n",
       "      <th>ZIPcode</th>\n",
       "      <th>geometry_zipcode</th>\n",
       "      <th>year_test</th>\n",
       "    </tr>\n",
       "  </thead>\n",
       "  <tbody>\n",
       "    <tr>\n",
       "      <th>0</th>\n",
       "      <td>99519</td>\n",
       "      <td>POLYGON ((-148.34155 70.25088, -148.34207 70.2...</td>\n",
       "      <td>2010</td>\n",
       "    </tr>\n",
       "    <tr>\n",
       "      <th>9</th>\n",
       "      <td>99557</td>\n",
       "      <td>POLYGON ((-159.72031 61.57485, -159.71881 61.5...</td>\n",
       "      <td>2020</td>\n",
       "    </tr>\n",
       "    <tr>\n",
       "      <th>12</th>\n",
       "      <td>99557</td>\n",
       "      <td>POLYGON ((-160.76967 61.18977, -160.76881 61.1...</td>\n",
       "      <td>2010</td>\n",
       "    </tr>\n",
       "    <tr>\n",
       "      <th>21</th>\n",
       "      <td>99740</td>\n",
       "      <td>POLYGON ((-145.55167 68.14857, -145.54375 68.1...</td>\n",
       "      <td>2010</td>\n",
       "    </tr>\n",
       "    <tr>\n",
       "      <th>30</th>\n",
       "      <td>99740</td>\n",
       "      <td>POLYGON ((-145.76995 67.55872, -145.76961 67.5...</td>\n",
       "      <td>2020</td>\n",
       "    </tr>\n",
       "  </tbody>\n",
       "</table>\n",
       "</div>"
      ],
      "text/plain": [
       "   ZIPcode                                   geometry_zipcode  year_test\n",
       "0    99519  POLYGON ((-148.34155 70.25088, -148.34207 70.2...       2010\n",
       "9    99557  POLYGON ((-159.72031 61.57485, -159.71881 61.5...       2020\n",
       "12   99557  POLYGON ((-160.76967 61.18977, -160.76881 61.1...       2010\n",
       "21   99740  POLYGON ((-145.55167 68.14857, -145.54375 68.1...       2010\n",
       "30   99740  POLYGON ((-145.76995 67.55872, -145.76961 67.5...       2020"
      ]
     },
     "execution_count": 22,
     "metadata": {},
     "output_type": "execute_result"
    }
   ],
   "source": [
    "zipcode_df2.head()"
   ]
  },
  {
   "cell_type": "code",
   "execution_count": 23,
   "id": "e370f8d5-036f-462a-991e-bde4396e7136",
   "metadata": {},
   "outputs": [],
   "source": [
    "# Initial mapping with multi-index\n",
    "zipcode_df2.set_index(['ZIPcode', 'year_test'], inplace=True)\n",
    "df_geographic_unique['geometry_zipcode'] = df_geographic_unique.set_index(['reportedZipCode','yearOfLoss_1990_2021']).index.map(zipcode_df2['geometry_zipcode'])\n",
    "\n",
    "# Find rows with NaN values \n",
    "na_rows = df_geographic_unique['geometry_zipcode'].isna()\n",
    "\n",
    "zipcode_df2.reset_index(inplace=True)"
   ]
  },
  {
   "cell_type": "code",
   "execution_count": 26,
   "id": "3c187e52-aa39-43d1-b6b6-27347c3bde8c",
   "metadata": {
    "tags": []
   },
   "outputs": [],
   "source": [
    "# Initial mapping with multi-index\n",
    "zipcode_df3.set_index(['ZIPcode'], inplace=True)\n",
    "df_geographic_unique['geometry_zipcode'] = df_geographic_unique.set_index(['reportedZipCode']).index.map(zipcode_df3['geometry_zipcode'])\n",
    "\n",
    "# Find rows with NaN values \n",
    "na_rows = df_geographic_unique['geometry_zipcode'].isna()\n",
    "\n",
    "zipcode_df3.reset_index(inplace=True)"
   ]
  },
  {
   "cell_type": "code",
   "execution_count": 27,
   "id": "b1265850-5f7d-4a86-a924-8e9ff0894ff8",
   "metadata": {
    "tags": []
   },
   "outputs": [
    {
     "name": "stdout",
     "output_type": "stream",
     "text": [
      "Total missing: 1200\n",
      "Number of reportedZipCode per decade without a matching geometry\n",
      "2000    892\n",
      "2010    528\n",
      "2020    129\n",
      "Name: yearOfLoss_1990_2021, dtype: int64\n"
     ]
    }
   ],
   "source": [
    "test = df_geographic_unique.loc[na_rows, ]\n",
    "print('Total missing:', test[['reportedZipCode']].drop_duplicates().shape[0])\n",
    "print('Number of reportedZipCode per decade without a matching geometry')\n",
    "print(test.drop_duplicates(subset=['reportedZipCode', 'yearOfLoss_1990_2021'])['yearOfLoss_1990_2021'].value_counts())"
   ]
  },
  {
   "cell_type": "code",
   "execution_count": 25,
   "id": "5181b791-bfc1-410b-8b47-11666e3d213c",
   "metadata": {
    "tags": []
   },
   "outputs": [
    {
     "name": "stderr",
     "output_type": "stream",
     "text": [
      "C:\\Users\\Asus\\AppData\\Local\\Temp\\ipykernel_1528\\4112593955.py:3: SettingWithCopyWarning: \n",
      "A value is trying to be set on a copy of a slice from a DataFrame.\n",
      "Try using .loc[row_indexer,col_indexer] = value instead\n",
      "\n",
      "See the caveats in the documentation: https://pandas.pydata.org/pandas-docs/stable/user_guide/indexing.html#returning-a-view-versus-a-copy\n",
      "  df_test['reportedZipCode'] = df_test['reportedZipCode'].dropna().astype(int).astype(str)\n",
      "C:\\Users\\Asus\\AppData\\Local\\Temp\\ipykernel_1528\\4112593955.py:4: SettingWithCopyWarning: \n",
      "A value is trying to be set on a copy of a slice from a DataFrame.\n",
      "Try using .loc[row_indexer,col_indexer] = value instead\n",
      "\n",
      "See the caveats in the documentation: https://pandas.pydata.org/pandas-docs/stable/user_guide/indexing.html#returning-a-view-versus-a-copy\n",
      "  df_test['reportedZipCode'] = [zipcode.zfill(5) for zipcode in df_test['reportedZipCode']]\n"
     ]
    }
   ],
   "source": [
    "df_test = df_copy[df_copy['reportedZipCode'].notna()]\n",
    "\n",
    "df_test['reportedZipCode'] = df_test['reportedZipCode'].dropna().astype(int).astype(str)\n",
    "df_test['reportedZipCode'] = [zipcode.zfill(5) for zipcode in df_test['reportedZipCode']]"
   ]
  },
  {
   "cell_type": "code",
   "execution_count": 48,
   "id": "c502e06b-2541-422e-a426-d20ff52808db",
   "metadata": {
    "tags": []
   },
   "outputs": [
    {
     "name": "stdout",
     "output_type": "stream",
     "text": [
      "Value_counts of reportedZipCode per decade:\n",
      " 1990    20965\n",
      "2010    17449\n",
      "2000    16263\n",
      "2020     9421\n",
      "Name: yearOfLoss_1990_2021, dtype: int64\n"
     ]
    }
   ],
   "source": [
    "print('Value_counts of reportedZipCode per decade:\\n', df_test.drop_duplicates(subset=['reportedZipCode', 'yearOfLoss_1990_2021'])['yearOfLoss_1990_2021'].value_counts())"
   ]
  },
  {
   "cell_type": "code",
   "execution_count": 49,
   "id": "319789c8-a7b9-423c-9682-f48517b01377",
   "metadata": {
    "tags": []
   },
   "outputs": [
    {
     "name": "stdout",
     "output_type": "stream",
     "text": [
      "There are 6861 rows in df_copy with the same reportedZipCode and yearOfLoss_1990_2021 as in test.\n"
     ]
    }
   ],
   "source": [
    "test.set_index(['reportedZipCode', 'yearOfLoss_1990_2021'], inplace=True)\n",
    "df_test.set_index(['reportedZipCode', 'yearOfLoss_1990_2021'], inplace=True)\n",
    "\n",
    "# Select rows of df_copy that have indices found in test\n",
    "matching_rows = df_test.loc[df_test.index.isin(test.index)]\n",
    "\n",
    "matching_rows.reset_index(inplace=True)\n",
    "test.reset_index(inplace=True)\n",
    "df_test.reset_index(inplace=True)\n",
    "\n",
    "print(f\"There are {matching_rows.shape[0]} rows in df_copy with the same reportedZipCode and yearOfLoss_1990_2021 as in test.\")"
   ]
  },
  {
   "cell_type": "code",
   "execution_count": 50,
   "id": "d076a266-ce64-4a3a-86e2-a89d447e6ffe",
   "metadata": {
    "tags": []
   },
   "outputs": [
    {
     "data": {
      "text/plain": [
       "2000    3744\n",
       "2010    2681\n",
       "2020     436\n",
       "Name: yearOfLoss_1990_2021, dtype: int64"
      ]
     },
     "execution_count": 50,
     "metadata": {},
     "output_type": "execute_result"
    }
   ],
   "source": [
    "matching_rows['yearOfLoss_1990_2021'].value_counts()"
   ]
  },
  {
   "cell_type": "code",
   "execution_count": 22,
   "id": "00e49372-c5bf-437f-9d7f-d5e6bcbad749",
   "metadata": {
    "tags": []
   },
   "outputs": [
    {
     "data": {
      "text/plain": [
       "1040310"
      ]
     },
     "execution_count": 22,
     "metadata": {},
     "output_type": "execute_result"
    }
   ],
   "source": [
    "df_copy[df_copy['yearOfLoss_1990_2021']==1990].shape[0]"
   ]
  },
  {
   "cell_type": "markdown",
   "id": "a7e20950-ab99-40f3-8c62-fd43313702e8",
   "metadata": {},
   "source": [
    "### 4. countyCode"
   ]
  },
  {
   "cell_type": "code",
   "execution_count": 54,
   "id": "f02fdb80-bb3e-4188-b46a-7304fceaf72d",
   "metadata": {
    "tags": []
   },
   "outputs": [],
   "source": [
    "test = df[df['countyCode'].notna()]"
   ]
  },
  {
   "cell_type": "code",
   "execution_count": 55,
   "id": "e71a8bf9-9694-4482-b8f7-f345296d0512",
   "metadata": {
    "tags": []
   },
   "outputs": [
    {
     "name": "stdout",
     "output_type": "stream",
     "text": [
      "Total observations available: 2519320\n",
      "Observations lost: 64922\n",
      "Percentage NA: 2.5122260221759416\n",
      "Total unique countyCode: 2924\n"
     ]
    }
   ],
   "source": [
    "print('Total observations available:', test.shape[0])\n",
    "print('Observations lost:', df.shape[0]-test.shape[0])\n",
    "print('Percentage NA:', (df.shape[0]-test.shape[0])*100/df.shape[0])\n",
    "print('Total unique countyCode:', test.drop_duplicates(subset=['countyCode']).shape[0])"
   ]
  },
  {
   "cell_type": "markdown",
   "id": "6734c4c1-777f-484f-a795-fa31b14442e3",
   "metadata": {},
   "source": [
    "##### Now we can calculate for each decade how many of the county code have shapefiles with geometry attribute."
   ]
  },
  {
   "cell_type": "code",
   "execution_count": 61,
   "id": "a65ab9f9-8980-475f-a2d2-a1ad897f26be",
   "metadata": {
    "tags": []
   },
   "outputs": [],
   "source": [
    "# Read shapefile of county code\n",
    "df_read = pd.read_parquet(\"C:/Users/Asus/Box/Flood Damage PredictionProject/Dataset/County_geometry.parquet.gzip\")\n",
    "\n",
    "# Convert the WKT strings back to geometries\n",
    "County_df = gpd.GeoDataFrame(df_read, geometry=df_read['geometry'].apply(lambda x: shapely.wkt.loads(x)))\n",
    "\n",
    "County_df['year'] = County_df['year'].replace({2012: 2010, 2021: 2020})\n",
    "County_df = County_df.drop_duplicates(subset=['CountyID', 'year'])"
   ]
  },
  {
   "cell_type": "code",
   "execution_count": 63,
   "id": "82cdbb3a-1c2e-4a31-9678-8944135ef9b6",
   "metadata": {
    "tags": []
   },
   "outputs": [],
   "source": [
    "df_geographic_unique = df[['countyCode', 'yearOfLoss']].drop_duplicates()\n",
    "df_geographic_unique = df_geographic_unique.dropna(subset=['countyCode'])"
   ]
  },
  {
   "cell_type": "code",
   "execution_count": 64,
   "id": "1c7e03c8-655a-4789-8959-c96e3c29fd52",
   "metadata": {
    "tags": []
   },
   "outputs": [],
   "source": [
    "df_geographic_unique['countyCode'] = [str(int(float(i))) for i in df_geographic_unique['countyCode']]\n",
    "df_geographic_unique['countyCode'] = [censuscounty.zfill(5) for censuscounty in df_geographic_unique['countyCode']]"
   ]
  },
  {
   "cell_type": "code",
   "execution_count": 65,
   "id": "9ac7f47d-ab94-44bd-b087-cc39f9a705ba",
   "metadata": {
    "tags": []
   },
   "outputs": [],
   "source": [
    "# Define bins and labels for yearOfLoss_1990_2021\n",
    "bins_1990_2021 = [df_geographic_unique['yearOfLoss'].min(), 2000, 2010, 2020, df_geographic_unique['yearOfLoss'].max() + 1]\n",
    "labels_1990_2021 = [1990, 2000, 2010, 2020]\n",
    "\n",
    "df_geographic_unique['yearOfLoss_1990_2021'] = pd.cut(df_geographic_unique['yearOfLoss'], bins=bins_1990_2021, labels=labels_1990_2021, right=False).astype(int)\n",
    "\n",
    "df_geographic_unique = df_geographic_unique.drop(columns='yearOfLoss')"
   ]
  },
  {
   "cell_type": "code",
   "execution_count": 66,
   "id": "c866b0ac-e9a0-45af-8328-c31b7eaa507c",
   "metadata": {
    "tags": []
   },
   "outputs": [],
   "source": [
    "df_geographic_unique = df_geographic_unique.drop_duplicates()"
   ]
  },
  {
   "cell_type": "code",
   "execution_count": 67,
   "id": "0e048559-ca8f-4a99-b365-0ce5d76a185c",
   "metadata": {
    "tags": []
   },
   "outputs": [],
   "source": [
    "County_df.rename(columns={'geometry': 'geometry_county'}, inplace=True)"
   ]
  },
  {
   "cell_type": "code",
   "execution_count": 33,
   "id": "4ffa5e69-c4b1-4ca8-8bd2-25a3f3de9ac9",
   "metadata": {
    "tags": []
   },
   "outputs": [],
   "source": [
    "# County_df.set_index(['CountyID', 'year'], inplace=True)\n",
    "# df_geographic_unique['geometry_county'] = df_geographic_unique.set_index(['countyCode', 'yearOfLoss_1990_2021']).index.map(County_df['geometry_county'])\n",
    "\n",
    "# # Find rows with NaN values\n",
    "# na_rows = df_geographic_unique['geometry_county'].isna()\n",
    "\n",
    "# County_df.reset_index(inplace=True)"
   ]
  },
  {
   "cell_type": "code",
   "execution_count": 70,
   "id": "e6713f44-e62f-4547-ab2d-c4e29447db24",
   "metadata": {
    "tags": []
   },
   "outputs": [],
   "source": [
    "County_df = County_df[County_df['year'] == 2020]\n",
    "\n",
    "County_df.set_index(['CountyID'], inplace=True)\n",
    "df_geographic_unique['geometry_county'] = df_geographic_unique.set_index(['countyCode']).index.map(County_df['geometry_county'])\n",
    "\n",
    "# Find rows with NaN values\n",
    "na_rows = df_geographic_unique['geometry_county'].isna()\n",
    "\n",
    "County_df.reset_index(inplace=True)"
   ]
  },
  {
   "cell_type": "code",
   "execution_count": 71,
   "id": "690e8285-b8e1-490d-a12c-9dd1c4388fe7",
   "metadata": {
    "tags": []
   },
   "outputs": [
    {
     "name": "stdout",
     "output_type": "stream",
     "text": [
      "Total missing: 2\n",
      "Number of County per decade without a matching geometry\n",
      "2000    2\n",
      "2010    1\n",
      "1990    1\n",
      "Name: yearOfLoss_1990_2021, dtype: int64\n"
     ]
    }
   ],
   "source": [
    "test = df_geographic_unique.loc[na_rows, ]\n",
    "print('Total missing:', test[['countyCode']].drop_duplicates().shape[0])\n",
    "print('Number of County per decade without a matching geometry')\n",
    "print(test.drop_duplicates(subset=['countyCode', 'yearOfLoss_1990_2021'])['yearOfLoss_1990_2021'].value_counts())"
   ]
  },
  {
   "cell_type": "code",
   "execution_count": 72,
   "id": "bd8bbea1-7b2c-4272-bc49-e53c4707613d",
   "metadata": {
    "tags": []
   },
   "outputs": [
    {
     "name": "stderr",
     "output_type": "stream",
     "text": [
      "C:\\Users\\Asus\\AppData\\Local\\Temp\\ipykernel_22352\\4268490343.py:3: SettingWithCopyWarning: \n",
      "A value is trying to be set on a copy of a slice from a DataFrame.\n",
      "Try using .loc[row_indexer,col_indexer] = value instead\n",
      "\n",
      "See the caveats in the documentation: https://pandas.pydata.org/pandas-docs/stable/user_guide/indexing.html#returning-a-view-versus-a-copy\n",
      "  df_test['countyCode'] = [str(int(float(i))) for i in df_test['countyCode']]\n",
      "C:\\Users\\Asus\\AppData\\Local\\Temp\\ipykernel_22352\\4268490343.py:4: SettingWithCopyWarning: \n",
      "A value is trying to be set on a copy of a slice from a DataFrame.\n",
      "Try using .loc[row_indexer,col_indexer] = value instead\n",
      "\n",
      "See the caveats in the documentation: https://pandas.pydata.org/pandas-docs/stable/user_guide/indexing.html#returning-a-view-versus-a-copy\n",
      "  df_test['countyCode'] = [censuscounty.zfill(5) for censuscounty in df_test['countyCode']]\n"
     ]
    }
   ],
   "source": [
    "df_test = df_copy[df_copy['countyCode'].notna()]\n",
    "\n",
    "df_test['countyCode'] = [str(int(float(i))) for i in df_test['countyCode']]\n",
    "df_test['countyCode'] = [censuscounty.zfill(5) for censuscounty in df_test['countyCode']]"
   ]
  },
  {
   "cell_type": "code",
   "execution_count": 73,
   "id": "21cb800f-e77d-4e1e-abb7-e925573248b0",
   "metadata": {
    "tags": []
   },
   "outputs": [
    {
     "name": "stdout",
     "output_type": "stream",
     "text": [
      "Value_counts of county per decade:\n",
      " 1990    2683\n",
      "2010    2667\n",
      "2000    2503\n",
      "2020    1854\n",
      "Name: yearOfLoss_1990_2021, dtype: int64\n"
     ]
    }
   ],
   "source": [
    "print('Value_counts of county per decade:\\n', df_test.drop_duplicates(subset=['countyCode', 'yearOfLoss_1990_2021'])['yearOfLoss_1990_2021'].value_counts())"
   ]
  },
  {
   "cell_type": "code",
   "execution_count": 74,
   "id": "85778bc8-3d15-4f53-ac82-887dbae159a1",
   "metadata": {
    "tags": []
   },
   "outputs": [
    {
     "name": "stdout",
     "output_type": "stream",
     "text": [
      "There are 10 rows in df_copy with the same countyCode and yearOfLoss_1990_2021 as in test.\n"
     ]
    }
   ],
   "source": [
    "test.set_index(['countyCode', 'yearOfLoss_1990_2021'], inplace=True)\n",
    "df_test.set_index(['countyCode', 'yearOfLoss_1990_2021'], inplace=True)\n",
    "\n",
    "# Select rows of df_copy that have indices found in test\n",
    "matching_rows = df_test.loc[df_test.index.isin(test.index)]\n",
    "\n",
    "matching_rows.reset_index(inplace=True)\n",
    "test.reset_index(inplace=True)\n",
    "df_test.reset_index(inplace=True)\n",
    "\n",
    "print(f\"There are {matching_rows.shape[0]} rows in df_copy with the same countyCode and yearOfLoss_1990_2021 as in test.\")"
   ]
  },
  {
   "cell_type": "code",
   "execution_count": 75,
   "id": "c77b337c-9f93-40eb-99ff-9c0944612165",
   "metadata": {
    "tags": []
   },
   "outputs": [
    {
     "data": {
      "text/plain": [
       "2000    6\n",
       "1990    3\n",
       "2010    1\n",
       "Name: yearOfLoss_1990_2021, dtype: int64"
      ]
     },
     "execution_count": 75,
     "metadata": {},
     "output_type": "execute_result"
    }
   ],
   "source": [
    "matching_rows['yearOfLoss_1990_2021'].value_counts()"
   ]
  },
  {
   "cell_type": "markdown",
   "id": "0a47c738-9ec8-4b11-8ca7-031148cde7d3",
   "metadata": {},
   "source": [
    "### 5. censusTract"
   ]
  },
  {
   "cell_type": "code",
   "execution_count": 13,
   "id": "e79a87d7-3f2d-4862-b859-3e518a84e632",
   "metadata": {
    "tags": []
   },
   "outputs": [],
   "source": [
    "test = df[df['censusTract'].notna()]"
   ]
  },
  {
   "cell_type": "code",
   "execution_count": 14,
   "id": "8bec1d38-8d6e-46ef-919b-815ecbc2800c",
   "metadata": {
    "tags": []
   },
   "outputs": [
    {
     "name": "stdout",
     "output_type": "stream",
     "text": [
      "Total observations available: 2459669\n",
      "Observations lost: 137791\n",
      "Percentage NA: 5.3048362631185855\n",
      "Total unique censusTract: 53468\n"
     ]
    }
   ],
   "source": [
    "print('Total observations available:', test.shape[0])\n",
    "print('Observations lost:', df.shape[0]-test.shape[0])\n",
    "print('Percentage NA:', (df.shape[0]-test.shape[0])*100/df.shape[0])\n",
    "print('Total unique censusTract:', test.drop_duplicates(subset=['censusTract']).shape[0])"
   ]
  },
  {
   "cell_type": "markdown",
   "id": "184aff2e-2d99-4ee6-b4b4-815598252cee",
   "metadata": {},
   "source": [
    "##### Now we can calculate for each decade how many of the census tract have shapefiles with geometry attribute."
   ]
  },
  {
   "cell_type": "code",
   "execution_count": 17,
   "id": "c2cb3bdc-31a7-4573-8b21-78404a6bea8f",
   "metadata": {
    "tags": []
   },
   "outputs": [],
   "source": [
    "# Read shapefile of census tract code\n",
    "chunk_size = 30000 \n",
    "chunks = [x for x in range(0, 60000, chunk_size)]\n",
    "\n",
    "gdf_list = []\n",
    "\n",
    "for start in chunks:\n",
    "    end = start + chunk_size\n",
    "    temp_df = pd.read_parquet(f\"C:/Users/Asus/Box/Flood Damage PredictionProject/Dataset/Tract_geometry_{start}_{end}.parquet.gzip\")\n",
    "    gdf_read = gpd.GeoDataFrame(temp_df, geometry=temp_df['geometry'].apply(lambda x: shapely.wkt.loads(x)))\n",
    "    gdf_list.append(gdf_read)\n",
    "\n",
    "# Concatenate all GeoDataFrames in the list into a single GeoDataFrame\n",
    "Tract_df= pd.concat(gdf_list, ignore_index=True)"
   ]
  },
  {
   "cell_type": "code",
   "execution_count": 18,
   "id": "45a66e1a-208b-4616-af07-0f53b92a2c8f",
   "metadata": {
    "tags": []
   },
   "outputs": [],
   "source": [
    "df_geographic_unique = df[['censusTract', 'yearOfLoss']].drop_duplicates()\n",
    "df_geographic_unique = df_geographic_unique.dropna(subset=['censusTract'])"
   ]
  },
  {
   "cell_type": "code",
   "execution_count": 19,
   "id": "bf18a3ff-da65-4138-8eba-89889513237f",
   "metadata": {
    "tags": []
   },
   "outputs": [],
   "source": [
    "df_geographic_unique['censusTract'] = [str(int(float(i))) for i in df_geographic_unique['censusTract']]\n",
    "df_geographic_unique['censusTract'] = [censusBG.zfill(11) for censusBG in df_geographic_unique['censusTract']]"
   ]
  },
  {
   "cell_type": "code",
   "execution_count": 20,
   "id": "c3c5bb63-85be-4ec2-aff1-9c90c0e5c534",
   "metadata": {
    "tags": []
   },
   "outputs": [],
   "source": [
    "# Define bins and labels for yearOfLoss_1990_2021\n",
    "bins_1990_2021 = [df_geographic_unique['yearOfLoss'].min(), 2000, 2010, 2020, df_geographic_unique['yearOfLoss'].max() + 1]\n",
    "labels_1990_2021 = [1990, 2000, 2010, 2020]\n",
    "\n",
    "df_geographic_unique['yearOfLoss_1990_2021'] = pd.cut(df_geographic_unique['yearOfLoss'], bins=bins_1990_2021, labels=labels_1990_2021, right=False).astype(int)\n",
    "\n",
    "df_geographic_unique = df_geographic_unique.drop(columns='yearOfLoss')"
   ]
  },
  {
   "cell_type": "code",
   "execution_count": 21,
   "id": "7d38ae92-aa77-4bb4-bf57-7c53a773e38d",
   "metadata": {},
   "outputs": [],
   "source": [
    "df_geographic_unique = df_geographic_unique.drop_duplicates()"
   ]
  },
  {
   "cell_type": "code",
   "execution_count": 22,
   "id": "200dd0e3-c8ff-4454-862e-0439acd87671",
   "metadata": {
    "tags": []
   },
   "outputs": [],
   "source": [
    "Tract_df.rename(columns={'geometry': 'geometry_tract'}, inplace=True)"
   ]
  },
  {
   "cell_type": "code",
   "execution_count": 29,
   "id": "8e379a9e-ab1f-47b2-b43b-68095f0363c8",
   "metadata": {
    "tags": []
   },
   "outputs": [],
   "source": [
    "Tract_df.set_index(['censusTractID'], inplace=True)\n",
    "df_geographic_unique['geometry_tract'] = df_geographic_unique.set_index(['censusTract']).index.map(Tract_df['geometry_tract'])\n",
    "\n",
    "# Find rows with NaN values\n",
    "na_rows = df_geographic_unique['geometry_tract'].isna()\n",
    "\n",
    "Tract_df.reset_index(inplace=True)"
   ]
  },
  {
   "cell_type": "code",
   "execution_count": 30,
   "id": "b8c518b7-5c9b-47dd-bf2e-c9683e374dc9",
   "metadata": {
    "tags": []
   },
   "outputs": [
    {
     "name": "stdout",
     "output_type": "stream",
     "text": [
      "Total missing: 676\n",
      "Number of Tract per decade without a matching geometry\n",
      "2020    243\n",
      "2000    229\n",
      "2010    199\n",
      "1990    162\n",
      "Name: yearOfLoss_1990_2021, dtype: int64\n"
     ]
    }
   ],
   "source": [
    "test = df_geographic_unique.loc[na_rows, ]\n",
    "print('Total missing:', test[['censusTract']].drop_duplicates().shape[0])\n",
    "print('Number of Tract per decade without a matching geometry')\n",
    "print(test.drop_duplicates(subset=['censusTract', 'yearOfLoss_1990_2021'])['yearOfLoss_1990_2021'].value_counts())"
   ]
  },
  {
   "cell_type": "code",
   "execution_count": 31,
   "id": "5d8ad4ad-0f55-4797-8f62-c1be3d9c00ac",
   "metadata": {
    "tags": []
   },
   "outputs": [
    {
     "name": "stderr",
     "output_type": "stream",
     "text": [
      "C:\\Users\\Asus\\AppData\\Local\\Temp\\ipykernel_16764\\1454221983.py:3: SettingWithCopyWarning: \n",
      "A value is trying to be set on a copy of a slice from a DataFrame.\n",
      "Try using .loc[row_indexer,col_indexer] = value instead\n",
      "\n",
      "See the caveats in the documentation: https://pandas.pydata.org/pandas-docs/stable/user_guide/indexing.html#returning-a-view-versus-a-copy\n",
      "  df_test['censusTract'] = [str(int(float(i))) for i in df_test['censusTract']]\n",
      "C:\\Users\\Asus\\AppData\\Local\\Temp\\ipykernel_16764\\1454221983.py:4: SettingWithCopyWarning: \n",
      "A value is trying to be set on a copy of a slice from a DataFrame.\n",
      "Try using .loc[row_indexer,col_indexer] = value instead\n",
      "\n",
      "See the caveats in the documentation: https://pandas.pydata.org/pandas-docs/stable/user_guide/indexing.html#returning-a-view-versus-a-copy\n",
      "  df_test['censusTract'] = [censusBG.zfill(11) for censusBG in df_test['censusTract']]\n"
     ]
    }
   ],
   "source": [
    "df_test = df_copy[df_copy['censusTract'].notna()]\n",
    "\n",
    "df_test['censusTract'] = [str(int(float(i))) for i in df_test['censusTract']]\n",
    "df_test['censusTract'] = [censusBG.zfill(11) for censusBG in df_test['censusTract']]"
   ]
  },
  {
   "cell_type": "code",
   "execution_count": 32,
   "id": "bcf31457-38b1-42d7-9546-0e1067e5b124",
   "metadata": {
    "tags": []
   },
   "outputs": [
    {
     "name": "stdout",
     "output_type": "stream",
     "text": [
      "Value_counts of censusTract per decade:\n",
      " 1990    39777\n",
      "2010    35769\n",
      "2000    30830\n",
      "2020    17763\n",
      "Name: yearOfLoss_1990_2021, dtype: int64\n"
     ]
    }
   ],
   "source": [
    "print('Value_counts of censusTract per decade:\\n', df_test.drop_duplicates(subset=['censusTract', 'yearOfLoss_1990_2021'])['yearOfLoss_1990_2021'].value_counts())"
   ]
  },
  {
   "cell_type": "code",
   "execution_count": 33,
   "id": "3a974dc6-39da-43e9-9cff-3b1b11c4fd0a",
   "metadata": {
    "tags": []
   },
   "outputs": [
    {
     "name": "stdout",
     "output_type": "stream",
     "text": [
      "There are 1726 rows in df_copy with the same censusTract and yearOfLoss_1990_2021 as in test.\n"
     ]
    }
   ],
   "source": [
    "test.set_index(['censusTract', 'yearOfLoss_1990_2021'], inplace=True)\n",
    "df_test.set_index(['censusTract', 'yearOfLoss_1990_2021'], inplace=True)\n",
    "\n",
    "# Select rows of df_copy that have indices found in test\n",
    "matching_rows = df_test.loc[df_test.index.isin(test.index)]\n",
    "\n",
    "matching_rows.reset_index(inplace=True)\n",
    "test.reset_index(inplace=True)\n",
    "df_test.reset_index(inplace=True)\n",
    "\n",
    "print(f\"There are {matching_rows.shape[0]} rows in df_copy with the same censusTract and yearOfLoss_1990_2021 as in test.\")"
   ]
  },
  {
   "cell_type": "code",
   "execution_count": 34,
   "id": "497b9cf1-03e7-40e0-b777-2507956e9e0f",
   "metadata": {
    "tags": []
   },
   "outputs": [
    {
     "data": {
      "text/plain": [
       "2020    505\n",
       "2000    481\n",
       "1990    391\n",
       "2010    349\n",
       "Name: yearOfLoss_1990_2021, dtype: int64"
      ]
     },
     "execution_count": 34,
     "metadata": {},
     "output_type": "execute_result"
    }
   ],
   "source": [
    "matching_rows['yearOfLoss_1990_2021'].value_counts()"
   ]
  },
  {
   "cell_type": "markdown",
   "id": "757efd67-a5b9-4522-85dc-377538783e34",
   "metadata": {},
   "source": [
    "### 6. censusBlockGroupFips"
   ]
  },
  {
   "cell_type": "code",
   "execution_count": 7,
   "id": "f90abf13-a79e-4570-a9ea-1ca6859470bc",
   "metadata": {
    "tags": []
   },
   "outputs": [],
   "source": [
    "test = df[df['censusBlockGroupFips'].notna()]"
   ]
  },
  {
   "cell_type": "code",
   "execution_count": 8,
   "id": "66d99191-2602-4ea5-bcba-d4643b67a087",
   "metadata": {
    "tags": []
   },
   "outputs": [
    {
     "name": "stdout",
     "output_type": "stream",
     "text": [
      "Total observations available: 2447264\n",
      "Observations lost: 136978\n",
      "Percentage NA: 5.300509781978623\n",
      "Total unique censusBlockGroup: 106786\n"
     ]
    }
   ],
   "source": [
    "print('Total observations available:', test.shape[0])\n",
    "print('Observations lost:', df.shape[0]-test.shape[0])\n",
    "print('Percentage NA:', (df.shape[0]-test.shape[0])*100/df.shape[0])\n",
    "print('Total unique censusBlockGroup:', test.drop_duplicates(subset=['censusBlockGroupFips']).shape[0])"
   ]
  },
  {
   "cell_type": "markdown",
   "id": "df48aba6-5fc5-4160-be6a-c5333d3502a9",
   "metadata": {},
   "source": [
    "##### Now we can calculate for each decade how many of the census tract have shapefiles with geometry attribute."
   ]
  },
  {
   "cell_type": "code",
   "execution_count": 9,
   "id": "a665d639-deb8-42a3-a619-92617007b171",
   "metadata": {
    "tags": []
   },
   "outputs": [],
   "source": [
    "chunk_size = 40000 \n",
    "chunks = [x for x in range(0, 320000, chunk_size)]\n",
    "\n",
    "gdf_list = []\n",
    "\n",
    "for start in chunks:\n",
    "    end = start + chunk_size\n",
    "    temp_df = pd.read_parquet(f\"C:/Users/Asus/Box/Flood Damage PredictionProject/Dataset/BG_geometry_{start}_{end}.parquet.gzip\")\n",
    "    gdf_read = gpd.GeoDataFrame(temp_df, geometry=temp_df['geometry'].apply(lambda x: shapely.wkt.loads(x)))\n",
    "    gdf_list.append(gdf_read)\n",
    "\n",
    "# Concatenate all GeoDataFrames in the list into a single GeoDataFrame\n",
    "BG_df= pd.concat(gdf_list, ignore_index=True)"
   ]
  },
  {
   "cell_type": "code",
   "execution_count": 10,
   "id": "ae0ce3ff-4281-4619-a357-d3ba809e1ede",
   "metadata": {
    "tags": []
   },
   "outputs": [],
   "source": [
    "df_geographic_unique = df[['censusBlockGroupFips', 'yearOfLoss']].drop_duplicates()\n",
    "df_geographic_unique = df_geographic_unique.dropna(subset=['censusBlockGroupFips'])"
   ]
  },
  {
   "cell_type": "code",
   "execution_count": 11,
   "id": "37048735-b092-4951-85c8-e4118bce0bb1",
   "metadata": {
    "tags": []
   },
   "outputs": [],
   "source": [
    "df_geographic_unique['censusBlockGroupFips'] = [str(int(float(i))) for i in df_geographic_unique['censusBlockGroupFips']]\n",
    "df_geographic_unique['censusBlockGroupFips'] = [censusBG.zfill(12) for censusBG in df_geographic_unique['censusBlockGroupFips']]"
   ]
  },
  {
   "cell_type": "code",
   "execution_count": 12,
   "id": "85254d36-92cb-476a-8a8b-54a828d7a25f",
   "metadata": {
    "tags": []
   },
   "outputs": [],
   "source": [
    "# Define bins and labels for yearOfLoss_1990_2021\n",
    "bins_1990_2021 = [df_geographic_unique['yearOfLoss'].min(), 2000, 2010, 2020, df_geographic_unique['yearOfLoss'].max() + 1]\n",
    "labels_1990_2021 = [1990, 2000, 2010, 2020]\n",
    "\n",
    "df_geographic_unique['yearOfLoss_1990_2021'] = pd.cut(df_geographic_unique['yearOfLoss'], bins=bins_1990_2021, labels=labels_1990_2021, right=False).astype(int)\n",
    "\n",
    "df_geographic_unique = df_geographic_unique.drop(columns='yearOfLoss')"
   ]
  },
  {
   "cell_type": "code",
   "execution_count": 13,
   "id": "f42c437d-7b71-4e32-9e29-b51308e42179",
   "metadata": {
    "tags": []
   },
   "outputs": [],
   "source": [
    "df_geographic_unique = df_geographic_unique.drop_duplicates()"
   ]
  },
  {
   "cell_type": "code",
   "execution_count": 14,
   "id": "93544472-3552-40ab-82b0-91d67d241384",
   "metadata": {
    "tags": []
   },
   "outputs": [],
   "source": [
    "BG_df.rename(columns={'geometry': 'geometry_BG'}, inplace=True)"
   ]
  },
  {
   "cell_type": "code",
   "execution_count": 15,
   "id": "6715e5e7-ae7a-443f-8f2c-53373afd25b9",
   "metadata": {
    "tags": []
   },
   "outputs": [],
   "source": [
    "BG_df.set_index(['GEOID', 'year'], inplace=True)\n",
    "df_geographic_unique['geometry_BG'] = df_geographic_unique.set_index(['censusBlockGroupFips', 'yearOfLoss_1990_2021']).index.map(BG_df['geometry_BG'])\n",
    "\n",
    "# Find rows with NaN values \n",
    "na_rows = df_geographic_unique['geometry_BG'].isna()\n",
    "\n",
    "BG_df.reset_index(inplace=True)"
   ]
  },
  {
   "cell_type": "code",
   "execution_count": 16,
   "id": "6c14e65b-bab7-472e-adcc-f1a183b1ea70",
   "metadata": {
    "tags": []
   },
   "outputs": [
    {
     "name": "stdout",
     "output_type": "stream",
     "text": [
      "Total missing: 41487\n",
      "Number of censusBlockGroupFips per decade without a matching geometry\n",
      "1990    31615\n",
      "2000    17045\n",
      "2020     6373\n",
      "2010      266\n",
      "Name: yearOfLoss_1990_2021, dtype: int64\n"
     ]
    }
   ],
   "source": [
    "test = df_geographic_unique.loc[na_rows, ]\n",
    "print('Total missing:', test[['censusBlockGroupFips']].drop_duplicates().shape[0])\n",
    "print('Number of censusBlockGroupFips per decade without a matching geometry')\n",
    "print(test.drop_duplicates(subset=['censusBlockGroupFips', 'yearOfLoss_1990_2021'])['yearOfLoss_1990_2021'].value_counts())"
   ]
  },
  {
   "cell_type": "code",
   "execution_count": 17,
   "id": "e040ff48-f11e-4eb1-a1db-22d7b9e83dcc",
   "metadata": {
    "collapsed": true,
    "jupyter": {
     "outputs_hidden": true
    },
    "tags": []
   },
   "outputs": [
    {
     "name": "stderr",
     "output_type": "stream",
     "text": [
      "C:\\Users\\Asus\\AppData\\Local\\Temp\\ipykernel_4248\\889359098.py:3: SettingWithCopyWarning: \n",
      "A value is trying to be set on a copy of a slice from a DataFrame.\n",
      "Try using .loc[row_indexer,col_indexer] = value instead\n",
      "\n",
      "See the caveats in the documentation: https://pandas.pydata.org/pandas-docs/stable/user_guide/indexing.html#returning-a-view-versus-a-copy\n",
      "  df_test['censusBlockGroupFips'] = [str(int(float(i))) for i in df_test['censusBlockGroupFips']]\n",
      "C:\\Users\\Asus\\AppData\\Local\\Temp\\ipykernel_4248\\889359098.py:4: SettingWithCopyWarning: \n",
      "A value is trying to be set on a copy of a slice from a DataFrame.\n",
      "Try using .loc[row_indexer,col_indexer] = value instead\n",
      "\n",
      "See the caveats in the documentation: https://pandas.pydata.org/pandas-docs/stable/user_guide/indexing.html#returning-a-view-versus-a-copy\n",
      "  df_test['censusBlockGroupFips'] = [censusBG.zfill(12) for censusBG in df_test['censusBlockGroupFips']]\n"
     ]
    }
   ],
   "source": [
    "df_test = df_copy[df_copy['censusBlockGroupFips'].notna()]\n",
    "\n",
    "df_test['censusBlockGroupFips'] = [str(int(float(i))) for i in df_test['censusBlockGroupFips']]\n",
    "df_test['censusBlockGroupFips'] = [censusBG.zfill(12) for censusBG in df_test['censusBlockGroupFips']]"
   ]
  },
  {
   "cell_type": "code",
   "execution_count": 18,
   "id": "c30e0c80-4172-4f6e-b242-62fcfd6d3f66",
   "metadata": {
    "tags": []
   },
   "outputs": [
    {
     "name": "stdout",
     "output_type": "stream",
     "text": [
      "Value_counts of censusBlockGroupFips per decade:\n",
      " 1990    71925\n",
      "2010    61534\n",
      "2000    52227\n",
      "2020    24273\n",
      "Name: yearOfLoss_1990_2021, dtype: int64\n"
     ]
    }
   ],
   "source": [
    "print('Value_counts of censusBlockGroupFips per decade:\\n', df_test.drop_duplicates(subset=['censusBlockGroupFips', 'yearOfLoss_1990_2021'])['yearOfLoss_1990_2021'].value_counts())"
   ]
  },
  {
   "cell_type": "code",
   "execution_count": 19,
   "id": "49af3f09-2a40-45f5-806c-6c753046da03",
   "metadata": {
    "tags": []
   },
   "outputs": [
    {
     "name": "stdout",
     "output_type": "stream",
     "text": [
      "There are 682098 rows in df_copy with the same censusBlockGroupFips and yearOfLoss_1990_2021 as in test.\n"
     ]
    }
   ],
   "source": [
    "test.set_index(['censusBlockGroupFips', 'yearOfLoss_1990_2021'], inplace=True)\n",
    "df_test.set_index(['censusBlockGroupFips', 'yearOfLoss_1990_2021'], inplace=True)\n",
    "\n",
    "# Select rows of df_copy that have indices found in test\n",
    "matching_rows = df_test.loc[df_test.index.isin(test.index)]\n",
    "\n",
    "matching_rows.reset_index(inplace=True)\n",
    "test.reset_index(inplace=True)\n",
    "df_test.reset_index(inplace=True)\n",
    "\n",
    "print(f\"There are {matching_rows.shape[0]} rows in df_copy with the same censusBlockGroupFips and yearOfLoss_1990_2021 as in test.\")"
   ]
  },
  {
   "cell_type": "code",
   "execution_count": 20,
   "id": "d26f0e6e-1bf6-4d27-8a06-0f2e6d086f40",
   "metadata": {
    "tags": []
   },
   "outputs": [
    {
     "data": {
      "text/plain": [
       "1990    438104\n",
       "2000    198715\n",
       "2020     44855\n",
       "2010       424\n",
       "Name: yearOfLoss_1990_2021, dtype: int64"
      ]
     },
     "execution_count": 20,
     "metadata": {},
     "output_type": "execute_result"
    }
   ],
   "source": [
    "matching_rows['yearOfLoss_1990_2021'].value_counts()"
   ]
  }
 ],
 "metadata": {
  "kernelspec": {
   "display_name": "Python 3 (ipykernel)",
   "language": "python",
   "name": "python3"
  },
  "language_info": {
   "codemirror_mode": {
    "name": "ipython",
    "version": 3
   },
   "file_extension": ".py",
   "mimetype": "text/x-python",
   "name": "python",
   "nbconvert_exporter": "python",
   "pygments_lexer": "ipython3",
   "version": "3.8.17"
  }
 },
 "nbformat": 4,
 "nbformat_minor": 5
}
