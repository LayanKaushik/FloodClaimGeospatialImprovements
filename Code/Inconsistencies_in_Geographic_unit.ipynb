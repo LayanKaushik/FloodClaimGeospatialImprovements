{
 "cells": [
  {
   "cell_type": "code",
   "execution_count": 1,
   "id": "71dfb328-4441-46b1-95e5-fa68679bede6",
   "metadata": {
    "tags": []
   },
   "outputs": [],
   "source": [
    "import pandas as pd\n",
    "import numpy as np\n",
    "import matplotlib.pyplot as plt\n",
    "import pyarrow as pa\n",
    "import pyarrow.parquet as pq\n",
    "import geopandas as gpd\n",
    "import seaborn as sns\n",
    "\n",
    "#Packages\n",
    "import pandas as pd\n",
    "import matplotlib.pyplot as plt\n",
    "import matplotlib.ticker as mtick\n",
    "import numpy as np\n",
    "from scipy import stats\n",
    "pd.set_option('display.max_columns', None)\n",
    "\n",
    "from scipy.stats import skew, kurtosis\n",
    "\n",
    "import pygris\n",
    "from shapely.geometry import Polygon\n",
    "\n",
    "import shapely"
   ]
  },
  {
   "cell_type": "code",
   "execution_count": 2,
   "id": "a6966571-568c-42dd-9531-8822b2ac50b9",
   "metadata": {
    "tags": []
   },
   "outputs": [],
   "source": [
    "df = pd.read_parquet(\"C:/Users/Asus/Box/Flood Damage PredictionProject/Dataset/FimaNfipClaims.parquet.gzip\")"
   ]
  },
  {
   "cell_type": "code",
   "execution_count": 187,
   "id": "bf958929-b437-4ec7-b7b0-d1df0609e65d",
   "metadata": {
    "tags": []
   },
   "outputs": [],
   "source": [
    "df_geographic_unique = df[['state', 'reportedZipCode', 'countyCode', 'censusTract', 'censusBlockGroupFips', 'latitude', 'longitude', 'yearOfLoss']].drop_duplicates()"
   ]
  },
  {
   "cell_type": "code",
   "execution_count": 188,
   "id": "e35267e8-0c2d-4054-bd83-ffd9e734a3cb",
   "metadata": {
    "tags": []
   },
   "outputs": [],
   "source": [
    "df_geographic_unique = df_geographic_unique.dropna(subset=['censusBlockGroupFips'])"
   ]
  },
  {
   "cell_type": "code",
   "execution_count": 189,
   "id": "5df87aae-997f-4e54-a167-4dc4b7c3b3ff",
   "metadata": {
    "tags": []
   },
   "outputs": [],
   "source": [
    "# df_geographic_unique['reportedZipCode'] = df_geographic_unique['reportedZipCode'].dropna().astype(int).astype(str)\n",
    "# df_geographic_unique['reportedZipCode'] = [zipcode.zfill(5) for zipcode in df_geographic_unique['reportedZipCode']]\n",
    "\n",
    "df_geographic_unique['censusBlockGroupFips'] = [str(int(float(i))) for i in df_geographic_unique['censusBlockGroupFips']]\n",
    "df_geographic_unique['censusBlockGroupFips'] = [censusBG.zfill(12) for censusBG in df_geographic_unique['censusBlockGroupFips']]\n",
    "\n",
    "# df_geographic_unique['countyCode'] = [str(int(float(i))) for i in df_geographic_unique['countyCode']]\n",
    "# df_geographic_unique['countyCode'] = [censusBG.zfill(5) for censusBG in df_geographic_unique['countyCode']]\n",
    "\n",
    "# df_geographic_unique['censusTract'] = [str(int(float(i))) for i in df_geographic_unique['censusTract']]\n",
    "# df_geographic_unique['censusTract'] = [censusBG.zfill(11) for censusBG in df_geographic_unique['censusTract']]"
   ]
  },
  {
   "cell_type": "code",
   "execution_count": 192,
   "id": "2736cf90-af6f-4fcc-8f68-42529db84bf3",
   "metadata": {
    "tags": []
   },
   "outputs": [],
   "source": [
    "# Define bins and labels for yearOfLoss_2000_2021\n",
    "bins_2000_2021 = [df_geographic_unique['yearOfLoss'].min(), 2010, 2020, df_geographic_unique['yearOfLoss'].max() + 1]\n",
    "labels_2000_2021 = [2000, 2010, 2020]\n",
    "\n",
    "df_geographic_unique['yearOfLoss_2000_2021'] = pd.cut(df_geographic_unique['yearOfLoss'], bins=bins_2000_2021, labels=labels_2000_2021, right=False).astype(int)\n",
    "\n",
    "# Define bins and labels for yearOfLoss_1990_2021\n",
    "bins_1990_2021 = [df_geographic_unique['yearOfLoss'].min(), 2000, 2010, 2020, df_geographic_unique['yearOfLoss'].max() + 1]\n",
    "labels_1990_2021 = [1990, 2000, 2010, 2020]\n",
    "\n",
    "df_geographic_unique['yearOfLoss_1990_2021'] = pd.cut(df_geographic_unique['yearOfLoss'], bins=bins_1990_2021, labels=labels_1990_2021, right=False).astype(int)\n",
    "\n",
    "df_geographic_unique = df_geographic_unique.drop(columns='yearOfLoss')"
   ]
  },
  {
   "cell_type": "code",
   "execution_count": 193,
   "id": "1a99da85-17d6-4acf-850f-972b290a5b32",
   "metadata": {
    "tags": []
   },
   "outputs": [
    {
     "data": {
      "text/html": [
       "<div>\n",
       "<style scoped>\n",
       "    .dataframe tbody tr th:only-of-type {\n",
       "        vertical-align: middle;\n",
       "    }\n",
       "\n",
       "    .dataframe tbody tr th {\n",
       "        vertical-align: top;\n",
       "    }\n",
       "\n",
       "    .dataframe thead th {\n",
       "        text-align: right;\n",
       "    }\n",
       "</style>\n",
       "<table border=\"1\" class=\"dataframe\">\n",
       "  <thead>\n",
       "    <tr style=\"text-align: right;\">\n",
       "      <th></th>\n",
       "      <th>state</th>\n",
       "      <th>reportedZipCode</th>\n",
       "      <th>countyCode</th>\n",
       "      <th>censusTract</th>\n",
       "      <th>censusBlockGroupFips</th>\n",
       "      <th>latitude</th>\n",
       "      <th>longitude</th>\n",
       "      <th>corrected_state_lat_long</th>\n",
       "      <th>yearOfLoss_2000_2021</th>\n",
       "      <th>yearOfLoss_1990_2021</th>\n",
       "    </tr>\n",
       "  </thead>\n",
       "  <tbody>\n",
       "    <tr>\n",
       "      <th>0</th>\n",
       "      <td>CA</td>\n",
       "      <td>92056.0</td>\n",
       "      <td>6073.0</td>\n",
       "      <td>6.073019e+09</td>\n",
       "      <td>060730185123</td>\n",
       "      <td>33.2</td>\n",
       "      <td>-117.3</td>\n",
       "      <td>CA</td>\n",
       "      <td>2000</td>\n",
       "      <td>1990</td>\n",
       "    </tr>\n",
       "    <tr>\n",
       "      <th>1</th>\n",
       "      <td>LA</td>\n",
       "      <td>70131.0</td>\n",
       "      <td>22071.0</td>\n",
       "      <td>2.207100e+10</td>\n",
       "      <td>220710006163</td>\n",
       "      <td>29.9</td>\n",
       "      <td>-90.0</td>\n",
       "      <td>LA</td>\n",
       "      <td>2000</td>\n",
       "      <td>2000</td>\n",
       "    </tr>\n",
       "    <tr>\n",
       "      <th>2</th>\n",
       "      <td>FL</td>\n",
       "      <td>32566.0</td>\n",
       "      <td>12113.0</td>\n",
       "      <td>1.211301e+10</td>\n",
       "      <td>121130108152</td>\n",
       "      <td>30.4</td>\n",
       "      <td>-86.9</td>\n",
       "      <td>FL</td>\n",
       "      <td>2000</td>\n",
       "      <td>1990</td>\n",
       "    </tr>\n",
       "    <tr>\n",
       "      <th>3</th>\n",
       "      <td>SC</td>\n",
       "      <td>29902.0</td>\n",
       "      <td>45013.0</td>\n",
       "      <td>4.501300e+10</td>\n",
       "      <td>450130007002</td>\n",
       "      <td>32.4</td>\n",
       "      <td>-80.7</td>\n",
       "      <td>SC</td>\n",
       "      <td>2000</td>\n",
       "      <td>1990</td>\n",
       "    </tr>\n",
       "    <tr>\n",
       "      <th>4</th>\n",
       "      <td>FL</td>\n",
       "      <td>32940.0</td>\n",
       "      <td>12009.0</td>\n",
       "      <td>1.200906e+10</td>\n",
       "      <td>120090631073</td>\n",
       "      <td>28.3</td>\n",
       "      <td>-80.7</td>\n",
       "      <td>FL</td>\n",
       "      <td>2000</td>\n",
       "      <td>1990</td>\n",
       "    </tr>\n",
       "  </tbody>\n",
       "</table>\n",
       "</div>"
      ],
      "text/plain": [
       "  state  reportedZipCode  countyCode   censusTract censusBlockGroupFips  \\\n",
       "0    CA          92056.0      6073.0  6.073019e+09         060730185123   \n",
       "1    LA          70131.0     22071.0  2.207100e+10         220710006163   \n",
       "2    FL          32566.0     12113.0  1.211301e+10         121130108152   \n",
       "3    SC          29902.0     45013.0  4.501300e+10         450130007002   \n",
       "4    FL          32940.0     12009.0  1.200906e+10         120090631073   \n",
       "\n",
       "   latitude  longitude corrected_state_lat_long  yearOfLoss_2000_2021  \\\n",
       "0      33.2     -117.3                       CA                  2000   \n",
       "1      29.9      -90.0                       LA                  2000   \n",
       "2      30.4      -86.9                       FL                  2000   \n",
       "3      32.4      -80.7                       SC                  2000   \n",
       "4      28.3      -80.7                       FL                  2000   \n",
       "\n",
       "   yearOfLoss_1990_2021  \n",
       "0                  1990  \n",
       "1                  2000  \n",
       "2                  1990  \n",
       "3                  1990  \n",
       "4                  1990  "
      ]
     },
     "execution_count": 193,
     "metadata": {},
     "output_type": "execute_result"
    }
   ],
   "source": [
    "df_geographic_unique.head()"
   ]
  },
  {
   "cell_type": "markdown",
   "id": "cb09ee45-ff8b-4aa1-a9d0-05d5732f785c",
   "metadata": {},
   "source": [
    "## Read shapefiles"
   ]
  },
  {
   "cell_type": "code",
   "execution_count": 8,
   "id": "c081d3eb-d90d-4e7d-aff8-cc93e50c14c3",
   "metadata": {
    "tags": []
   },
   "outputs": [
    {
     "name": "stdout",
     "output_type": "stream",
     "text": [
      "Using the default year of 2021\n"
     ]
    }
   ],
   "source": [
    "states = pygris.states()\n",
    "\n",
    "state_df = states[['STUSPS', 'NAME', 'geometry']]"
   ]
  },
  {
   "cell_type": "code",
   "execution_count": 9,
   "id": "cdc5f1b5-1af9-44c8-bdd2-cfd21c345695",
   "metadata": {
    "tags": []
   },
   "outputs": [
    {
     "data": {
      "text/plain": [
       "True"
      ]
     },
     "execution_count": 9,
     "metadata": {},
     "output_type": "execute_result"
    }
   ],
   "source": [
    "#Checking if all states found in our dataset are in the US Census Bureau TIGER/Line and cartographic boundary shapefiles\n",
    "\n",
    "unique_states = df_geographic_unique['state'].unique()\n",
    "state_STUSPS_unique = state_df['STUSPS'].unique()\n",
    "\n",
    "np.all(np.isin(unique_states, state_STUSPS_unique))"
   ]
  },
  {
   "cell_type": "code",
   "execution_count": 10,
   "id": "7a4424a5-b6f5-4e02-bcad-59ac07315aaa",
   "metadata": {
    "tags": []
   },
   "outputs": [],
   "source": [
    "# Read the parquet file\n",
    "df_read = pd.read_parquet(\"C:/Users/Asus/Box/Flood Damage PredictionProject/Dataset/lat_long_geometry.parquet.gzip\")\n",
    "\n",
    "# Convert the WKT strings back to geometries\n",
    "lat_long_df = gpd.GeoDataFrame(df_read, geometry=df_read['geometry'].apply(lambda x: shapely.wkt.loads(x)))"
   ]
  },
  {
   "cell_type": "code",
   "execution_count": 11,
   "id": "73326128-7e5e-42a6-b6a8-8416cd52d3f2",
   "metadata": {
    "tags": []
   },
   "outputs": [],
   "source": [
    "chunk_size = 25000  # adjust based on your system's capabilities\n",
    "chunks = [x for x in range(0, 400000, chunk_size)]\n",
    "\n",
    "gdf_list = []\n",
    "\n",
    "for start in chunks:\n",
    "    end = start + chunk_size\n",
    "    temp_df = pd.read_parquet(f\"C:/Users/Asus/Box/Flood Damage PredictionProject/Dataset/BG_geometry_{start}_{end}.parquet.gzip\")\n",
    "    gdf_read = gpd.GeoDataFrame(temp_df, geometry=temp_df['geometry'].apply(lambda x: shapely.wkt.loads(x)))\n",
    "    gdf_list.append(gdf_read)\n",
    "\n",
    "# Concatenate all GeoDataFrames in the list into a single GeoDataFrame\n",
    "BG_df = pd.concat(gdf_list, ignore_index=True)\n",
    "\n",
    "BG_df['year'] = BG_df['year'].replace({2012: 2010, 2021: 2020})\n",
    "BG_df = BG_df.drop_duplicates(subset=['GEOID', 'year'])"
   ]
  },
  {
   "cell_type": "code",
   "execution_count": 12,
   "id": "d6d0c44b-aa61-4397-83c9-8b9821177ee7",
   "metadata": {
    "tags": []
   },
   "outputs": [],
   "source": [
    "chunk_size = 25000  # adjust based on your system's capabilities\n",
    "chunks = [x for x in range(0, 100000, chunk_size)]\n",
    "\n",
    "gdf_list = []\n",
    "\n",
    "for start in chunks:\n",
    "    end = start + chunk_size\n",
    "    temp_df = pd.read_parquet(f\"C:/Users/Asus/Box/Flood Damage PredictionProject/Dataset/zipcode_geometry_{start}_{end}.parquet.gzip\")\n",
    "    gdf_read = gpd.GeoDataFrame(temp_df, geometry=temp_df['geometry'].apply(lambda x: shapely.wkt.loads(x)))\n",
    "    gdf_list.append(gdf_read)\n",
    "    \n",
    "# Concatenate all GeoDataFrames in the list into a single GeoDataFrame\n",
    "zipcode_df = pd.concat(gdf_list, ignore_index=True)\n",
    "\n",
    "zipcode_df['year'] = zipcode_df['year'].replace({2012: 2010, 2021: 2020})\n",
    "zipcode_df = zipcode_df.drop_duplicates(subset=['ZIPcode', 'year'])"
   ]
  },
  {
   "cell_type": "code",
   "execution_count": 13,
   "id": "dfe9c788-308b-4f53-961e-b2e33beab719",
   "metadata": {
    "tags": []
   },
   "outputs": [],
   "source": [
    "# Read the parquet file\n",
    "df_read = pd.read_parquet(\"C:/Users/Asus/Box/Flood Damage PredictionProject/Dataset/County_geometry.parquet.gzip\")\n",
    "\n",
    "# Convert the WKT strings back to geometries\n",
    "County_df = gpd.GeoDataFrame(df_read, geometry=df_read['geometry'].apply(lambda x: shapely.wkt.loads(x)))\n",
    "\n",
    "County_df['year'] = County_df['year'].replace({2012: 2010, 2021: 2020})\n",
    "County_df = County_df.drop_duplicates(subset=['CountyID', 'year'])"
   ]
  },
  {
   "cell_type": "code",
   "execution_count": 14,
   "id": "b3ce3880-d5b7-49de-929e-ac6a967d177b",
   "metadata": {
    "tags": []
   },
   "outputs": [],
   "source": [
    "# Read the parquet file\n",
    "df_read = pd.read_parquet(\"C:/Users/Asus/Box/Flood Damage PredictionProject/Dataset/Tract_geometry.parquet.gzip\")\n",
    "\n",
    "# Convert the WKT strings back to geometries\n",
    "Tract_df = gpd.GeoDataFrame(df_read, geometry=df_read['geometry'].apply(lambda x: shapely.wkt.loads(x)))\n",
    "Tract_df['year'] = Tract_df['year'].replace({2012: 2010, 2021: 2020})\n",
    "Tract_df = Tract_df.drop_duplicates(subset=['censusTractID', 'year'])"
   ]
  },
  {
   "cell_type": "markdown",
   "id": "ab7d5267-d86f-4224-9783-7ff3158ed375",
   "metadata": {},
   "source": [
    "## Create centroid"
   ]
  },
  {
   "cell_type": "code",
   "execution_count": 15,
   "id": "7e5c980b-dd9d-47e1-ba1e-7c575cf4985c",
   "metadata": {
    "tags": []
   },
   "outputs": [],
   "source": [
    "# 1. Calculate centroids\n",
    "\n",
    "lat_long_df['centroid_lat_long'] = lat_long_df['geometry'].centroid\n",
    "\n",
    "BG_df['centroid_BG'] = BG_df['geometry'].centroid\n",
    "\n",
    "zipcode_df['centroid_zipcode'] = zipcode_df['geometry'].centroid\n",
    "\n",
    "County_df['centroid_county'] = County_df['geometry'].centroid\n",
    "\n",
    "Tract_df['centroid_tract'] = Tract_df['geometry'].centroid"
   ]
  },
  {
   "cell_type": "markdown",
   "id": "3d3b1d56-79aa-4b87-b250-ed1ef332d3dd",
   "metadata": {},
   "source": [
    "##  Spatial join: for each centroid, determine which state it intersects (either falls within or on the boundary)"
   ]
  },
  {
   "cell_type": "code",
   "execution_count": 16,
   "id": "04ad673d-09d8-47d6-a3e3-95a9ea81386f",
   "metadata": {
    "tags": []
   },
   "outputs": [],
   "source": [
    "# 2. Spatial join: for each centroid, determine which state it intersects (either falls within or on the boundary)\n",
    "\n",
    "lat_long_df.set_geometry('centroid_lat_long', inplace=True)\n",
    "lat_long_df.crs = \"EPSG:4269\"\n",
    "\n",
    "lat_long_df = lat_long_df.to_crs(state_df.crs)\n",
    "\n",
    "joined = gpd.sjoin(lat_long_df, state_df, predicate='within')\n",
    "\n",
    "# 3. Create the 'corrected_state' column using the 'STUSPS' column from the join operation\n",
    "lat_long_df['corrected_state_lat_long'] = joined['STUSPS']\n",
    "lat_long_df['corrected_state_lat_long'] = lat_long_df['corrected_state_lat_long'].fillna('Not_within_any_state')\n",
    "\n",
    "#-------------\n",
    "\n",
    "BG_df.set_geometry('centroid_BG', inplace=True)\n",
    "BG_df.crs = \"EPSG:4269\"\n",
    "\n",
    "BG_df = BG_df.to_crs(state_df.crs)\n",
    "\n",
    "joined = gpd.sjoin(BG_df.set_geometry('centroid_BG'), state_df, predicate='within')\n",
    "\n",
    "BG_df['corrected_state_BG'] = joined['STUSPS']\n",
    "BG_df['corrected_state_BG'] = BG_df['corrected_state_BG'].fillna('Not_within_any_state')\n",
    "\n",
    "#-------------\n",
    "\n",
    "zipcode_df.set_geometry('centroid_zipcode', inplace=True)\n",
    "zipcode_df.crs = \"EPSG:4269\"\n",
    "\n",
    "zipcode_df = zipcode_df.to_crs(state_df.crs)\n",
    "\n",
    "joined = gpd.sjoin(zipcode_df.set_geometry('centroid_zipcode'), state_df, predicate='within')\n",
    "\n",
    "zipcode_df['corrected_state_zipcode'] = joined['STUSPS']\n",
    "zipcode_df['corrected_state_zipcode'] = zipcode_df['corrected_state_zipcode'].fillna('Not_within_any_state')\n",
    "\n",
    "#-------------\n",
    "\n",
    "County_df.set_geometry('centroid_county', inplace=True)\n",
    "County_df.crs = \"EPSG:4269\"\n",
    "\n",
    "County_df = County_df.to_crs(state_df.crs)\n",
    "\n",
    "joined = gpd.sjoin(County_df.set_geometry('centroid_county'), state_df, predicate='within')\n",
    "\n",
    "County_df['corrected_state_county'] = joined['STUSPS']\n",
    "County_df['corrected_state_county'] = County_df['corrected_state_county'].fillna('Not_within_any_state')\n",
    "\n",
    "#-------------\n",
    "\n",
    "Tract_df.set_geometry('centroid_tract', inplace=True)\n",
    "Tract_df.crs = \"EPSG:4269\"\n",
    "\n",
    "Tract_df = Tract_df.to_crs(state_df.crs)\n",
    "\n",
    "joined = gpd.sjoin(Tract_df.set_geometry('centroid_tract'), state_df, predicate='within')\n",
    "\n",
    "Tract_df['corrected_state_tract'] = joined['STUSPS']\n",
    "Tract_df['corrected_state_tract'] = Tract_df['corrected_state_tract'].fillna('Not_within_any_state')"
   ]
  },
  {
   "cell_type": "markdown",
   "id": "f7703871-2951-430c-87db-c5e71543cbb9",
   "metadata": {},
   "source": [
    "## Combining with the original dataframe"
   ]
  },
  {
   "cell_type": "code",
   "execution_count": 194,
   "id": "f44f266f-3174-459c-b5a5-ef6a52574254",
   "metadata": {
    "tags": []
   },
   "outputs": [],
   "source": [
    "# Setting the multi-index on lat_long_df\n",
    "lat_long_df.set_index(['latitude', 'longitude'], inplace=True)\n",
    "\n",
    "# Mapping the values\n",
    "df_geographic_unique['corrected_state_lat_long'] = df_geographic_unique.set_index(['latitude', 'longitude']).index.map(lat_long_df['corrected_state_lat_long'])\n",
    "\n",
    "# Resetting the index of lat_long_df (optional, but good practice)\n",
    "lat_long_df.reset_index(inplace=True)"
   ]
  },
  {
   "cell_type": "code",
   "execution_count": 198,
   "id": "914a74c5-f497-401b-a6bf-6ff43cfd4353",
   "metadata": {
    "tags": []
   },
   "outputs": [],
   "source": [
    "# Initial mapping with multi-index\n",
    "BG_df.set_index(['GEOID', 'year'], inplace=True)\n",
    "df_geographic_unique['corrected_state_BG'] = df_geographic_unique.set_index(['censusBlockGroupFips', 'yearOfLoss_1990_2021']).index.map(BG_df['corrected_state_BG'])\n",
    "\n",
    "# Find rows with NaN values in 'corrected_state_BG'\n",
    "na_rows = df_geographic_unique['corrected_state_BG'].isna()\n",
    "\n",
    "# Reset index of BG_df\n",
    "df_single_index = BG_df.reset_index()\n",
    "\n",
    "# Sort by 'year' in descending order\n",
    "df_single_index = df_single_index.sort_values(by='year', ascending=False)\n",
    "\n",
    "# Drop duplicates based on the 'GEOID' column. Keep the first occurrence.\n",
    "df_single_index = df_single_index.drop_duplicates(subset='GEOID', keep='first')\n",
    "\n",
    "# Map these rows using only the 'GEOID'\n",
    "df_geographic_unique.loc[na_rows, 'corrected_state_BG'] = df_geographic_unique.loc[na_rows, 'censusBlockGroupFips'].map(df_single_index.set_index('GEOID')['corrected_state_BG'])\n",
    "\n",
    "# Resetting the index of BG_df (return to multi-index)\n",
    "BG_df.reset_index(inplace=True)"
   ]
  },
  {
   "cell_type": "code",
   "execution_count": 19,
   "id": "9c92ac88-263d-4f1b-a0a1-fb35e5b69efb",
   "metadata": {
    "tags": []
   },
   "outputs": [],
   "source": [
    "# Initial mapping with multi-index\n",
    "zipcode_df.set_index(['ZIPcode', 'year'], inplace=True)\n",
    "df_geographic_unique['corrected_state_zipcode'] = df_geographic_unique.set_index(['reportedZipCode', 'yearOfLoss_2000_2021']).index.map(zipcode_df['corrected_state_zipcode'])\n",
    "\n",
    "# Find rows with NaN values in 'corrected_state'\n",
    "na_rows = df_geographic_unique['corrected_state_zipcode'].isna()\n",
    "\n",
    "# Reset index\n",
    "df_single_index = zipcode_df.reset_index()\n",
    "\n",
    "# Sort by 'year' in descending order\n",
    "df_single_index = df_single_index.sort_values(by='year', ascending=False)\n",
    "\n",
    "# Drop duplicates based on the 'ZIPcode' column. Keep the first occurrence.\n",
    "df_single_index = df_single_index.drop_duplicates(subset='ZIPcode', keep='first')\n",
    "\n",
    "# Map these rows using only the 'ZIPcode'\n",
    "df_geographic_unique.loc[na_rows, 'corrected_state_zipcode'] = df_geographic_unique.loc[na_rows, 'reportedZipCode'].map(df_single_index.set_index('ZIPcode')['corrected_state_zipcode'])\n",
    "\n",
    "# Resetting the index (return to multi-index)\n",
    "zipcode_df.reset_index(inplace=True)"
   ]
  },
  {
   "cell_type": "code",
   "execution_count": 20,
   "id": "8f5a6100-8b81-4277-afcf-a12e93971cc3",
   "metadata": {
    "tags": []
   },
   "outputs": [],
   "source": [
    "# Initial mapping with multi-index\n",
    "County_df.set_index(['CountyID', 'year'], inplace=True)\n",
    "df_geographic_unique['corrected_state_county'] = df_geographic_unique.set_index(['countyCode', 'yearOfLoss_1990_2021']).index.map(County_df['corrected_state_county'])\n",
    "\n",
    "# Find rows with NaN values in 'corrected_state'\n",
    "na_rows = df_geographic_unique['corrected_state_county'].isna()\n",
    "\n",
    "# Reset index\n",
    "df_single_index = County_df.reset_index()\n",
    "\n",
    "# Sort by 'year' in descending order\n",
    "df_single_index = df_single_index.sort_values(by='year', ascending=False)\n",
    "\n",
    "# Drop duplicates based on the 'CountyID' column. Keep the first occurrence.\n",
    "df_single_index = df_single_index.drop_duplicates(subset='CountyID', keep='first')\n",
    "\n",
    "# Map these rows using only the 'CountyID'\n",
    "df_geographic_unique.loc[na_rows, 'corrected_state_county'] = df_geographic_unique.loc[na_rows, 'countyCode'].map(df_single_index.set_index('CountyID')['corrected_state_county'])\n",
    "\n",
    "# Resetting the index (return to multi-index)\n",
    "County_df.reset_index(inplace=True)"
   ]
  },
  {
   "cell_type": "code",
   "execution_count": 21,
   "id": "63ac7a64-db3c-4df6-8b11-5bd6240512cf",
   "metadata": {
    "tags": []
   },
   "outputs": [],
   "source": [
    "# Initial mapping with multi-index\n",
    "Tract_df.set_index(['censusTractID', 'year'], inplace=True)\n",
    "df_geographic_unique['corrected_state_tract'] = df_geographic_unique.set_index(['censusTract', 'yearOfLoss_2000_2021']).index.map(Tract_df['corrected_state_tract'])\n",
    "\n",
    "# Find rows with NaN values in 'corrected_state'\n",
    "na_rows = df_geographic_unique['corrected_state_tract'].isna()\n",
    "\n",
    "# Reset index\n",
    "df_single_index = Tract_df.reset_index()\n",
    "\n",
    "# Sort by 'year' in descending order\n",
    "df_single_index = df_single_index.sort_values(by='year', ascending=False)\n",
    "\n",
    "# Drop duplicates based on the 'CountyID' column. Keep the first occurrence.\n",
    "df_single_index = df_single_index.drop_duplicates(subset='censusTractID', keep='first')\n",
    "\n",
    "# Map these rows using only the 'CountyID'\n",
    "df_geographic_unique.loc[na_rows, 'corrected_state_tract'] = df_geographic_unique.loc[na_rows, 'censusTract'].map(df_single_index.set_index('censusTractID')['corrected_state_tract'])\n",
    "\n",
    "# Resetting the index (return to multi-index)\n",
    "Tract_df.reset_index(inplace=True)"
   ]
  },
  {
   "cell_type": "code",
   "execution_count": 22,
   "id": "991971d4-1b5a-4444-a2f4-357c6bf8de3b",
   "metadata": {
    "tags": []
   },
   "outputs": [
    {
     "data": {
      "text/html": [
       "<div>\n",
       "<style scoped>\n",
       "    .dataframe tbody tr th:only-of-type {\n",
       "        vertical-align: middle;\n",
       "    }\n",
       "\n",
       "    .dataframe tbody tr th {\n",
       "        vertical-align: top;\n",
       "    }\n",
       "\n",
       "    .dataframe thead th {\n",
       "        text-align: right;\n",
       "    }\n",
       "</style>\n",
       "<table border=\"1\" class=\"dataframe\">\n",
       "  <thead>\n",
       "    <tr style=\"text-align: right;\">\n",
       "      <th></th>\n",
       "      <th>state</th>\n",
       "      <th>reportedZipCode</th>\n",
       "      <th>countyCode</th>\n",
       "      <th>censusTract</th>\n",
       "      <th>censusBlockGroupFips</th>\n",
       "      <th>latitude</th>\n",
       "      <th>longitude</th>\n",
       "      <th>yearOfLoss_2000_2021</th>\n",
       "      <th>yearOfLoss_1990_2021</th>\n",
       "      <th>corrected_state_lat_long</th>\n",
       "      <th>corrected_state_BG</th>\n",
       "      <th>corrected_state_zipcode</th>\n",
       "      <th>corrected_state_county</th>\n",
       "      <th>corrected_state_tract</th>\n",
       "    </tr>\n",
       "  </thead>\n",
       "  <tbody>\n",
       "    <tr>\n",
       "      <th>0</th>\n",
       "      <td>CA</td>\n",
       "      <td>92056</td>\n",
       "      <td>06073</td>\n",
       "      <td>06073018512</td>\n",
       "      <td>060730185123</td>\n",
       "      <td>33.2</td>\n",
       "      <td>-117.3</td>\n",
       "      <td>2000</td>\n",
       "      <td>1990</td>\n",
       "      <td>CA</td>\n",
       "      <td>CA</td>\n",
       "      <td>CA</td>\n",
       "      <td>CA</td>\n",
       "      <td>CA</td>\n",
       "    </tr>\n",
       "    <tr>\n",
       "      <th>1</th>\n",
       "      <td>LA</td>\n",
       "      <td>70131</td>\n",
       "      <td>22071</td>\n",
       "      <td>22071000616</td>\n",
       "      <td>220710006163</td>\n",
       "      <td>29.9</td>\n",
       "      <td>-90.0</td>\n",
       "      <td>2000</td>\n",
       "      <td>2000</td>\n",
       "      <td>LA</td>\n",
       "      <td>LA</td>\n",
       "      <td>LA</td>\n",
       "      <td>LA</td>\n",
       "      <td>LA</td>\n",
       "    </tr>\n",
       "    <tr>\n",
       "      <th>2</th>\n",
       "      <td>FL</td>\n",
       "      <td>32566</td>\n",
       "      <td>12113</td>\n",
       "      <td>12113010815</td>\n",
       "      <td>121130108152</td>\n",
       "      <td>30.4</td>\n",
       "      <td>-86.9</td>\n",
       "      <td>2000</td>\n",
       "      <td>1990</td>\n",
       "      <td>FL</td>\n",
       "      <td>FL</td>\n",
       "      <td>FL</td>\n",
       "      <td>FL</td>\n",
       "      <td>FL</td>\n",
       "    </tr>\n",
       "    <tr>\n",
       "      <th>3</th>\n",
       "      <td>SC</td>\n",
       "      <td>29902</td>\n",
       "      <td>45013</td>\n",
       "      <td>45013000700</td>\n",
       "      <td>450130007002</td>\n",
       "      <td>32.4</td>\n",
       "      <td>-80.7</td>\n",
       "      <td>2000</td>\n",
       "      <td>1990</td>\n",
       "      <td>SC</td>\n",
       "      <td>SC</td>\n",
       "      <td>SC</td>\n",
       "      <td>SC</td>\n",
       "      <td>SC</td>\n",
       "    </tr>\n",
       "    <tr>\n",
       "      <th>4</th>\n",
       "      <td>FL</td>\n",
       "      <td>32940</td>\n",
       "      <td>12009</td>\n",
       "      <td>12009063107</td>\n",
       "      <td>120090631073</td>\n",
       "      <td>28.3</td>\n",
       "      <td>-80.7</td>\n",
       "      <td>2000</td>\n",
       "      <td>1990</td>\n",
       "      <td>FL</td>\n",
       "      <td>FL</td>\n",
       "      <td>FL</td>\n",
       "      <td>FL</td>\n",
       "      <td>FL</td>\n",
       "    </tr>\n",
       "    <tr>\n",
       "      <th>...</th>\n",
       "      <td>...</td>\n",
       "      <td>...</td>\n",
       "      <td>...</td>\n",
       "      <td>...</td>\n",
       "      <td>...</td>\n",
       "      <td>...</td>\n",
       "      <td>...</td>\n",
       "      <td>...</td>\n",
       "      <td>...</td>\n",
       "      <td>...</td>\n",
       "      <td>...</td>\n",
       "      <td>...</td>\n",
       "      <td>...</td>\n",
       "      <td>...</td>\n",
       "    </tr>\n",
       "    <tr>\n",
       "      <th>2584234</th>\n",
       "      <td>MI</td>\n",
       "      <td>49306</td>\n",
       "      <td>26081</td>\n",
       "      <td>26081011001</td>\n",
       "      <td>260810110013</td>\n",
       "      <td>43.1</td>\n",
       "      <td>-85.6</td>\n",
       "      <td>2020</td>\n",
       "      <td>2020</td>\n",
       "      <td>MI</td>\n",
       "      <td>MI</td>\n",
       "      <td>MI</td>\n",
       "      <td>MI</td>\n",
       "      <td>MI</td>\n",
       "    </tr>\n",
       "    <tr>\n",
       "      <th>2584235</th>\n",
       "      <td>MI</td>\n",
       "      <td>49073</td>\n",
       "      <td>26015</td>\n",
       "      <td>26015010100</td>\n",
       "      <td>260150101004</td>\n",
       "      <td>42.6</td>\n",
       "      <td>-85.2</td>\n",
       "      <td>2020</td>\n",
       "      <td>2020</td>\n",
       "      <td>MI</td>\n",
       "      <td>MI</td>\n",
       "      <td>MI</td>\n",
       "      <td>MI</td>\n",
       "      <td>MI</td>\n",
       "    </tr>\n",
       "    <tr>\n",
       "      <th>2584236</th>\n",
       "      <td>ND</td>\n",
       "      <td>58801</td>\n",
       "      <td>38105</td>\n",
       "      <td>38105953500</td>\n",
       "      <td>381059535001</td>\n",
       "      <td>48.4</td>\n",
       "      <td>-103.7</td>\n",
       "      <td>2020</td>\n",
       "      <td>2020</td>\n",
       "      <td>ND</td>\n",
       "      <td>ND</td>\n",
       "      <td>ND</td>\n",
       "      <td>ND</td>\n",
       "      <td>ND</td>\n",
       "    </tr>\n",
       "    <tr>\n",
       "      <th>2584238</th>\n",
       "      <td>TX</td>\n",
       "      <td>75211</td>\n",
       "      <td>48113</td>\n",
       "      <td>48113021200</td>\n",
       "      <td>481130212001</td>\n",
       "      <td>32.7</td>\n",
       "      <td>-96.9</td>\n",
       "      <td>2020</td>\n",
       "      <td>2020</td>\n",
       "      <td>TX</td>\n",
       "      <td>TX</td>\n",
       "      <td>TX</td>\n",
       "      <td>TX</td>\n",
       "      <td>TX</td>\n",
       "    </tr>\n",
       "    <tr>\n",
       "      <th>2584239</th>\n",
       "      <td>FL</td>\n",
       "      <td>33024</td>\n",
       "      <td>12011</td>\n",
       "      <td>12011091202</td>\n",
       "      <td>120110912021</td>\n",
       "      <td>26.0</td>\n",
       "      <td>-80.2</td>\n",
       "      <td>2020</td>\n",
       "      <td>2020</td>\n",
       "      <td>FL</td>\n",
       "      <td>FL</td>\n",
       "      <td>FL</td>\n",
       "      <td>FL</td>\n",
       "      <td>FL</td>\n",
       "    </tr>\n",
       "  </tbody>\n",
       "</table>\n",
       "<p>522921 rows × 14 columns</p>\n",
       "</div>"
      ],
      "text/plain": [
       "        state reportedZipCode countyCode  censusTract censusBlockGroupFips  \\\n",
       "0          CA           92056      06073  06073018512         060730185123   \n",
       "1          LA           70131      22071  22071000616         220710006163   \n",
       "2          FL           32566      12113  12113010815         121130108152   \n",
       "3          SC           29902      45013  45013000700         450130007002   \n",
       "4          FL           32940      12009  12009063107         120090631073   \n",
       "...       ...             ...        ...          ...                  ...   \n",
       "2584234    MI           49306      26081  26081011001         260810110013   \n",
       "2584235    MI           49073      26015  26015010100         260150101004   \n",
       "2584236    ND           58801      38105  38105953500         381059535001   \n",
       "2584238    TX           75211      48113  48113021200         481130212001   \n",
       "2584239    FL           33024      12011  12011091202         120110912021   \n",
       "\n",
       "         latitude  longitude  yearOfLoss_2000_2021  yearOfLoss_1990_2021  \\\n",
       "0            33.2     -117.3                  2000                  1990   \n",
       "1            29.9      -90.0                  2000                  2000   \n",
       "2            30.4      -86.9                  2000                  1990   \n",
       "3            32.4      -80.7                  2000                  1990   \n",
       "4            28.3      -80.7                  2000                  1990   \n",
       "...           ...        ...                   ...                   ...   \n",
       "2584234      43.1      -85.6                  2020                  2020   \n",
       "2584235      42.6      -85.2                  2020                  2020   \n",
       "2584236      48.4     -103.7                  2020                  2020   \n",
       "2584238      32.7      -96.9                  2020                  2020   \n",
       "2584239      26.0      -80.2                  2020                  2020   \n",
       "\n",
       "        corrected_state_lat_long corrected_state_BG corrected_state_zipcode  \\\n",
       "0                             CA                 CA                      CA   \n",
       "1                             LA                 LA                      LA   \n",
       "2                             FL                 FL                      FL   \n",
       "3                             SC                 SC                      SC   \n",
       "4                             FL                 FL                      FL   \n",
       "...                          ...                ...                     ...   \n",
       "2584234                       MI                 MI                      MI   \n",
       "2584235                       MI                 MI                      MI   \n",
       "2584236                       ND                 ND                      ND   \n",
       "2584238                       TX                 TX                      TX   \n",
       "2584239                       FL                 FL                      FL   \n",
       "\n",
       "        corrected_state_county corrected_state_tract  \n",
       "0                           CA                    CA  \n",
       "1                           LA                    LA  \n",
       "2                           FL                    FL  \n",
       "3                           SC                    SC  \n",
       "4                           FL                    FL  \n",
       "...                        ...                   ...  \n",
       "2584234                     MI                    MI  \n",
       "2584235                     MI                    MI  \n",
       "2584236                     ND                    ND  \n",
       "2584238                     TX                    TX  \n",
       "2584239                     FL                    FL  \n",
       "\n",
       "[522921 rows x 14 columns]"
      ]
     },
     "execution_count": 22,
     "metadata": {},
     "output_type": "execute_result"
    }
   ],
   "source": [
    "df_geographic_unique"
   ]
  },
  {
   "cell_type": "markdown",
   "id": "8717a8fe-dc8a-4600-b881-78c263a21cfc",
   "metadata": {},
   "source": [
    "## Finding Mismatches and tagging those"
   ]
  },
  {
   "cell_type": "code",
   "execution_count": 199,
   "id": "c5a4191c-7e49-47fd-91de-3dc4eb45c3c2",
   "metadata": {
    "tags": []
   },
   "outputs": [],
   "source": [
    "df_copy = df.copy()"
   ]
  },
  {
   "cell_type": "code",
   "execution_count": 200,
   "id": "07e7bf27-fe47-40bf-a930-40f1911af49c",
   "metadata": {
    "tags": []
   },
   "outputs": [],
   "source": [
    "# df_copy = df_copy.dropna(subset=['censusBlockGroupFips', 'reportedZipCode', 'countyCode'])\n",
    "df_copy = df_copy.dropna(subset=['censusBlockGroupFips'])"
   ]
  },
  {
   "cell_type": "code",
   "execution_count": 201,
   "id": "56390e7e-c0a2-4f94-8b1c-724b36aacf9d",
   "metadata": {
    "tags": []
   },
   "outputs": [],
   "source": [
    "# df_copy['reportedZipCode'] = df_copy['reportedZipCode'].dropna().astype(int).astype(str)\n",
    "# df_copy['reportedZipCode'] = [zipcode.zfill(5) for zipcode in df_copy['reportedZipCode']]\n",
    "\n",
    "df_copy['censusBlockGroupFips'] = [str(int(float(i))) for i in df_copy['censusBlockGroupFips']]\n",
    "df_copy['censusBlockGroupFips'] = [censusBG.zfill(12) for censusBG in df_copy['censusBlockGroupFips']]\n",
    "\n",
    "# df_copy['countyCode'] = [str(int(float(i))) for i in df_copy['countyCode']]\n",
    "# df_copy['countyCode'] = [censusBG.zfill(5) for censusBG in df_copy['countyCode']]\n",
    "\n",
    "# df_copy['censusTract'] = [str(int(float(i))) for i in df_copy['censusTract']]\n",
    "# df_copy['censusTract'] = [censusBG.zfill(11) for censusBG in df_copy['censusTract']]"
   ]
  },
  {
   "cell_type": "markdown",
   "id": "88b0acfa-bf78-47ac-9ab6-255e31799395",
   "metadata": {},
   "source": [
    "#### LAT LONG Analysis"
   ]
  },
  {
   "cell_type": "code",
   "execution_count": 202,
   "id": "931287ab-0574-4385-a446-8f43f45bfbb3",
   "metadata": {
    "tags": []
   },
   "outputs": [],
   "source": [
    "# Filter out rows where 'state' is not equal to 'corrected_state'\n",
    "mismatched_df_latlong = df_geographic_unique[df_geographic_unique['state'] != df_geographic_unique['corrected_state_lat_long']]"
   ]
  },
  {
   "cell_type": "code",
   "execution_count": 203,
   "id": "f41e7395-44c9-43bb-afac-da5ed06e87dd",
   "metadata": {
    "tags": []
   },
   "outputs": [
    {
     "data": {
      "text/html": [
       "<div>\n",
       "<style scoped>\n",
       "    .dataframe tbody tr th:only-of-type {\n",
       "        vertical-align: middle;\n",
       "    }\n",
       "\n",
       "    .dataframe tbody tr th {\n",
       "        vertical-align: top;\n",
       "    }\n",
       "\n",
       "    .dataframe thead th {\n",
       "        text-align: right;\n",
       "    }\n",
       "</style>\n",
       "<table border=\"1\" class=\"dataframe\">\n",
       "  <thead>\n",
       "    <tr style=\"text-align: right;\">\n",
       "      <th></th>\n",
       "      <th>state</th>\n",
       "      <th>reportedZipCode</th>\n",
       "      <th>countyCode</th>\n",
       "      <th>censusTract</th>\n",
       "      <th>censusBlockGroupFips</th>\n",
       "      <th>latitude</th>\n",
       "      <th>longitude</th>\n",
       "      <th>corrected_state_lat_long</th>\n",
       "      <th>yearOfLoss_2000_2021</th>\n",
       "      <th>yearOfLoss_1990_2021</th>\n",
       "      <th>corrected_state_BG</th>\n",
       "    </tr>\n",
       "  </thead>\n",
       "  <tbody>\n",
       "    <tr>\n",
       "      <th>7</th>\n",
       "      <td>HI</td>\n",
       "      <td>96792.0</td>\n",
       "      <td>15003.0</td>\n",
       "      <td>1.500301e+10</td>\n",
       "      <td>150030097031</td>\n",
       "      <td>21.4</td>\n",
       "      <td>-158.2</td>\n",
       "      <td>Not_within_any_state</td>\n",
       "      <td>2000</td>\n",
       "      <td>1990</td>\n",
       "      <td>Not_within_any_state</td>\n",
       "    </tr>\n",
       "    <tr>\n",
       "      <th>21</th>\n",
       "      <td>SC</td>\n",
       "      <td>29577.0</td>\n",
       "      <td>45051.0</td>\n",
       "      <td>4.505105e+10</td>\n",
       "      <td>450510505002</td>\n",
       "      <td>33.7</td>\n",
       "      <td>-78.8</td>\n",
       "      <td>Not_within_any_state</td>\n",
       "      <td>2000</td>\n",
       "      <td>1990</td>\n",
       "      <td>SC</td>\n",
       "    </tr>\n",
       "    <tr>\n",
       "      <th>26</th>\n",
       "      <td>FL</td>\n",
       "      <td>32507.0</td>\n",
       "      <td>12033.0</td>\n",
       "      <td>1.203300e+10</td>\n",
       "      <td>120330026031</td>\n",
       "      <td>30.3</td>\n",
       "      <td>-87.4</td>\n",
       "      <td>Not_within_any_state</td>\n",
       "      <td>2000</td>\n",
       "      <td>1990</td>\n",
       "      <td>FL</td>\n",
       "    </tr>\n",
       "    <tr>\n",
       "      <th>46</th>\n",
       "      <td>FL</td>\n",
       "      <td>32507.0</td>\n",
       "      <td>12033.0</td>\n",
       "      <td>1.203300e+10</td>\n",
       "      <td>120330026032</td>\n",
       "      <td>30.3</td>\n",
       "      <td>-87.4</td>\n",
       "      <td>Not_within_any_state</td>\n",
       "      <td>2000</td>\n",
       "      <td>2000</td>\n",
       "      <td>FL</td>\n",
       "    </tr>\n",
       "    <tr>\n",
       "      <th>50</th>\n",
       "      <td>FL</td>\n",
       "      <td>32931.0</td>\n",
       "      <td>12009.0</td>\n",
       "      <td>1.200907e+10</td>\n",
       "      <td>120090683002</td>\n",
       "      <td>28.3</td>\n",
       "      <td>-80.6</td>\n",
       "      <td>Not_within_any_state</td>\n",
       "      <td>2000</td>\n",
       "      <td>1990</td>\n",
       "      <td>FL</td>\n",
       "    </tr>\n",
       "    <tr>\n",
       "      <th>...</th>\n",
       "      <td>...</td>\n",
       "      <td>...</td>\n",
       "      <td>...</td>\n",
       "      <td>...</td>\n",
       "      <td>...</td>\n",
       "      <td>...</td>\n",
       "      <td>...</td>\n",
       "      <td>...</td>\n",
       "      <td>...</td>\n",
       "      <td>...</td>\n",
       "      <td>...</td>\n",
       "    </tr>\n",
       "    <tr>\n",
       "      <th>2584136</th>\n",
       "      <td>WA</td>\n",
       "      <td>98332.0</td>\n",
       "      <td>53053.0</td>\n",
       "      <td>5.305307e+10</td>\n",
       "      <td>530530725041</td>\n",
       "      <td>47.3</td>\n",
       "      <td>-122.7</td>\n",
       "      <td>Not_within_any_state</td>\n",
       "      <td>2020</td>\n",
       "      <td>2020</td>\n",
       "      <td>WA</td>\n",
       "    </tr>\n",
       "    <tr>\n",
       "      <th>2584187</th>\n",
       "      <td>GA</td>\n",
       "      <td>31833.0</td>\n",
       "      <td>13285.0</td>\n",
       "      <td>1.328596e+10</td>\n",
       "      <td>132859610002</td>\n",
       "      <td>32.9</td>\n",
       "      <td>-85.2</td>\n",
       "      <td>AL</td>\n",
       "      <td>2020</td>\n",
       "      <td>2020</td>\n",
       "      <td>GA</td>\n",
       "    </tr>\n",
       "    <tr>\n",
       "      <th>2584200</th>\n",
       "      <td>NC</td>\n",
       "      <td>27954.0</td>\n",
       "      <td>37055.0</td>\n",
       "      <td>3.705597e+10</td>\n",
       "      <td>370559706021</td>\n",
       "      <td>35.9</td>\n",
       "      <td>-75.7</td>\n",
       "      <td>Not_within_any_state</td>\n",
       "      <td>2020</td>\n",
       "      <td>2020</td>\n",
       "      <td>NC</td>\n",
       "    </tr>\n",
       "    <tr>\n",
       "      <th>2584203</th>\n",
       "      <td>FL</td>\n",
       "      <td>33190.0</td>\n",
       "      <td>12086.0</td>\n",
       "      <td>1.208601e+10</td>\n",
       "      <td>120860106121</td>\n",
       "      <td>25.6</td>\n",
       "      <td>-80.3</td>\n",
       "      <td>Not_within_any_state</td>\n",
       "      <td>2020</td>\n",
       "      <td>2020</td>\n",
       "      <td>FL</td>\n",
       "    </tr>\n",
       "    <tr>\n",
       "      <th>2584208</th>\n",
       "      <td>WA</td>\n",
       "      <td>98535.0</td>\n",
       "      <td>53027.0</td>\n",
       "      <td>5.302700e+10</td>\n",
       "      <td>530270002005</td>\n",
       "      <td>47.1</td>\n",
       "      <td>-124.2</td>\n",
       "      <td>Not_within_any_state</td>\n",
       "      <td>2020</td>\n",
       "      <td>2020</td>\n",
       "      <td>WA</td>\n",
       "    </tr>\n",
       "  </tbody>\n",
       "</table>\n",
       "<p>51008 rows × 11 columns</p>\n",
       "</div>"
      ],
      "text/plain": [
       "        state  reportedZipCode  countyCode   censusTract censusBlockGroupFips  \\\n",
       "7          HI          96792.0     15003.0  1.500301e+10         150030097031   \n",
       "21         SC          29577.0     45051.0  4.505105e+10         450510505002   \n",
       "26         FL          32507.0     12033.0  1.203300e+10         120330026031   \n",
       "46         FL          32507.0     12033.0  1.203300e+10         120330026032   \n",
       "50         FL          32931.0     12009.0  1.200907e+10         120090683002   \n",
       "...       ...              ...         ...           ...                  ...   \n",
       "2584136    WA          98332.0     53053.0  5.305307e+10         530530725041   \n",
       "2584187    GA          31833.0     13285.0  1.328596e+10         132859610002   \n",
       "2584200    NC          27954.0     37055.0  3.705597e+10         370559706021   \n",
       "2584203    FL          33190.0     12086.0  1.208601e+10         120860106121   \n",
       "2584208    WA          98535.0     53027.0  5.302700e+10         530270002005   \n",
       "\n",
       "         latitude  longitude corrected_state_lat_long  yearOfLoss_2000_2021  \\\n",
       "7            21.4     -158.2     Not_within_any_state                  2000   \n",
       "21           33.7      -78.8     Not_within_any_state                  2000   \n",
       "26           30.3      -87.4     Not_within_any_state                  2000   \n",
       "46           30.3      -87.4     Not_within_any_state                  2000   \n",
       "50           28.3      -80.6     Not_within_any_state                  2000   \n",
       "...           ...        ...                      ...                   ...   \n",
       "2584136      47.3     -122.7     Not_within_any_state                  2020   \n",
       "2584187      32.9      -85.2                       AL                  2020   \n",
       "2584200      35.9      -75.7     Not_within_any_state                  2020   \n",
       "2584203      25.6      -80.3     Not_within_any_state                  2020   \n",
       "2584208      47.1     -124.2     Not_within_any_state                  2020   \n",
       "\n",
       "         yearOfLoss_1990_2021    corrected_state_BG  \n",
       "7                        1990  Not_within_any_state  \n",
       "21                       1990                    SC  \n",
       "26                       1990                    FL  \n",
       "46                       2000                    FL  \n",
       "50                       1990                    FL  \n",
       "...                       ...                   ...  \n",
       "2584136                  2020                    WA  \n",
       "2584187                  2020                    GA  \n",
       "2584200                  2020                    NC  \n",
       "2584203                  2020                    FL  \n",
       "2584208                  2020                    WA  \n",
       "\n",
       "[51008 rows x 11 columns]"
      ]
     },
     "execution_count": 203,
     "metadata": {},
     "output_type": "execute_result"
    }
   ],
   "source": [
    "mismatched_df_latlong"
   ]
  },
  {
   "cell_type": "code",
   "execution_count": 204,
   "id": "3d3275b8-e40e-4ed5-aaea-3b50c89c4460",
   "metadata": {
    "tags": []
   },
   "outputs": [],
   "source": [
    "mismatched_df_latlong_unique = mismatched_df_latlong[['latitude', 'longitude', 'state', 'corrected_state_lat_long']].drop_duplicates()"
   ]
  },
  {
   "cell_type": "code",
   "execution_count": 205,
   "id": "846b4b6a-d4da-4436-a940-fe5ee7612bf0",
   "metadata": {
    "tags": []
   },
   "outputs": [
    {
     "data": {
      "text/plain": [
       "1079"
      ]
     },
     "execution_count": 205,
     "metadata": {},
     "output_type": "execute_result"
    }
   ],
   "source": [
    "mismatched_df_latlong_unique[mismatched_df_latlong_unique['corrected_state_lat_long']=='Not_within_any_state'].shape[0]"
   ]
  },
  {
   "cell_type": "code",
   "execution_count": 206,
   "id": "beca9776-1d03-41eb-9e15-4e6fddea7695",
   "metadata": {
    "tags": []
   },
   "outputs": [
    {
     "data": {
      "text/plain": [
       "3510"
      ]
     },
     "execution_count": 206,
     "metadata": {},
     "output_type": "execute_result"
    }
   ],
   "source": [
    "mismatched_df_latlong_unique.shape[0]"
   ]
  },
  {
   "cell_type": "code",
   "execution_count": 211,
   "id": "6ce66f82-6007-4f54-a15a-574adff57c6f",
   "metadata": {
    "tags": []
   },
   "outputs": [],
   "source": [
    "# Setting the multi-index on lat_long_df\n",
    "lat_long_df.set_index(['latitude', 'longitude'], inplace=True)\n",
    "\n",
    "# Mapping the values\n",
    "mismatched_df_latlong_unique['geometry_lat_long'] = mismatched_df_latlong_unique.set_index(['latitude', 'longitude']).index.map(lat_long_df['geometry_lat_long'])\n",
    "\n",
    "# Resetting the index of lat_long_df (optional, but good practice)\n",
    "lat_long_df.reset_index(inplace=True)"
   ]
  },
  {
   "cell_type": "code",
   "execution_count": 212,
   "id": "563f9cce-9923-4890-a52e-6c48e9ebce53",
   "metadata": {
    "tags": []
   },
   "outputs": [
    {
     "data": {
      "text/html": [
       "<div>\n",
       "<style scoped>\n",
       "    .dataframe tbody tr th:only-of-type {\n",
       "        vertical-align: middle;\n",
       "    }\n",
       "\n",
       "    .dataframe tbody tr th {\n",
       "        vertical-align: top;\n",
       "    }\n",
       "\n",
       "    .dataframe thead th {\n",
       "        text-align: right;\n",
       "    }\n",
       "</style>\n",
       "<table border=\"1\" class=\"dataframe\">\n",
       "  <thead>\n",
       "    <tr style=\"text-align: right;\">\n",
       "      <th></th>\n",
       "      <th>latitude</th>\n",
       "      <th>longitude</th>\n",
       "      <th>state</th>\n",
       "      <th>corrected_state_lat_long</th>\n",
       "      <th>geometry_lat_long</th>\n",
       "    </tr>\n",
       "  </thead>\n",
       "  <tbody>\n",
       "    <tr>\n",
       "      <th>7</th>\n",
       "      <td>21.4</td>\n",
       "      <td>-158.2</td>\n",
       "      <td>HI</td>\n",
       "      <td>Not_within_any_state</td>\n",
       "      <td>POLYGON ((-158.25000 21.35000, -158.15000 21.3...</td>\n",
       "    </tr>\n",
       "    <tr>\n",
       "      <th>21</th>\n",
       "      <td>33.7</td>\n",
       "      <td>-78.8</td>\n",
       "      <td>SC</td>\n",
       "      <td>Not_within_any_state</td>\n",
       "      <td>POLYGON ((-78.85000 33.65000, -78.75000 33.650...</td>\n",
       "    </tr>\n",
       "    <tr>\n",
       "      <th>26</th>\n",
       "      <td>30.3</td>\n",
       "      <td>-87.4</td>\n",
       "      <td>FL</td>\n",
       "      <td>Not_within_any_state</td>\n",
       "      <td>POLYGON ((-87.45000 30.25000, -87.35000 30.250...</td>\n",
       "    </tr>\n",
       "    <tr>\n",
       "      <th>50</th>\n",
       "      <td>28.3</td>\n",
       "      <td>-80.6</td>\n",
       "      <td>FL</td>\n",
       "      <td>Not_within_any_state</td>\n",
       "      <td>POLYGON ((-80.65000 28.25000, -80.55000 28.250...</td>\n",
       "    </tr>\n",
       "    <tr>\n",
       "      <th>53</th>\n",
       "      <td>25.0</td>\n",
       "      <td>-80.5</td>\n",
       "      <td>FL</td>\n",
       "      <td>Not_within_any_state</td>\n",
       "      <td>POLYGON ((-80.55000 24.95000, -80.45000 24.950...</td>\n",
       "    </tr>\n",
       "    <tr>\n",
       "      <th>...</th>\n",
       "      <td>...</td>\n",
       "      <td>...</td>\n",
       "      <td>...</td>\n",
       "      <td>...</td>\n",
       "      <td>...</td>\n",
       "    </tr>\n",
       "    <tr>\n",
       "      <th>2524851</th>\n",
       "      <td>45.0</td>\n",
       "      <td>-109.1</td>\n",
       "      <td>MT</td>\n",
       "      <td>WY</td>\n",
       "      <td>POLYGON ((-109.15000 44.95000, -109.05000 44.9...</td>\n",
       "    </tr>\n",
       "    <tr>\n",
       "      <th>2524852</th>\n",
       "      <td>45.0</td>\n",
       "      <td>-110.0</td>\n",
       "      <td>MT</td>\n",
       "      <td>WY</td>\n",
       "      <td>POLYGON ((-110.05000 44.95000, -109.95000 44.9...</td>\n",
       "    </tr>\n",
       "    <tr>\n",
       "      <th>2571888</th>\n",
       "      <td>30.6</td>\n",
       "      <td>-83.2</td>\n",
       "      <td>GA</td>\n",
       "      <td>FL</td>\n",
       "      <td>POLYGON ((-83.25000 30.55000, -83.15000 30.550...</td>\n",
       "    </tr>\n",
       "    <tr>\n",
       "      <th>2582083</th>\n",
       "      <td>41.7</td>\n",
       "      <td>-124.2</td>\n",
       "      <td>CA</td>\n",
       "      <td>Not_within_any_state</td>\n",
       "      <td>POLYGON ((-124.25000 41.65000, -124.15000 41.6...</td>\n",
       "    </tr>\n",
       "    <tr>\n",
       "      <th>2583732</th>\n",
       "      <td>34.1</td>\n",
       "      <td>-98.6</td>\n",
       "      <td>OK</td>\n",
       "      <td>TX</td>\n",
       "      <td>POLYGON ((-98.65000 34.05000, -98.55000 34.050...</td>\n",
       "    </tr>\n",
       "  </tbody>\n",
       "</table>\n",
       "<p>3510 rows × 5 columns</p>\n",
       "</div>"
      ],
      "text/plain": [
       "         latitude  longitude state corrected_state_lat_long  \\\n",
       "7            21.4     -158.2    HI     Not_within_any_state   \n",
       "21           33.7      -78.8    SC     Not_within_any_state   \n",
       "26           30.3      -87.4    FL     Not_within_any_state   \n",
       "50           28.3      -80.6    FL     Not_within_any_state   \n",
       "53           25.0      -80.5    FL     Not_within_any_state   \n",
       "...           ...        ...   ...                      ...   \n",
       "2524851      45.0     -109.1    MT                       WY   \n",
       "2524852      45.0     -110.0    MT                       WY   \n",
       "2571888      30.6      -83.2    GA                       FL   \n",
       "2582083      41.7     -124.2    CA     Not_within_any_state   \n",
       "2583732      34.1      -98.6    OK                       TX   \n",
       "\n",
       "                                         geometry_lat_long  \n",
       "7        POLYGON ((-158.25000 21.35000, -158.15000 21.3...  \n",
       "21       POLYGON ((-78.85000 33.65000, -78.75000 33.650...  \n",
       "26       POLYGON ((-87.45000 30.25000, -87.35000 30.250...  \n",
       "50       POLYGON ((-80.65000 28.25000, -80.55000 28.250...  \n",
       "53       POLYGON ((-80.55000 24.95000, -80.45000 24.950...  \n",
       "...                                                    ...  \n",
       "2524851  POLYGON ((-109.15000 44.95000, -109.05000 44.9...  \n",
       "2524852  POLYGON ((-110.05000 44.95000, -109.95000 44.9...  \n",
       "2571888  POLYGON ((-83.25000 30.55000, -83.15000 30.550...  \n",
       "2582083  POLYGON ((-124.25000 41.65000, -124.15000 41.6...  \n",
       "2583732  POLYGON ((-98.65000 34.05000, -98.55000 34.050...  \n",
       "\n",
       "[3510 rows x 5 columns]"
      ]
     },
     "execution_count": 212,
     "metadata": {},
     "output_type": "execute_result"
    }
   ],
   "source": [
    "mismatched_df_latlong_unique"
   ]
  },
  {
   "cell_type": "code",
   "execution_count": 213,
   "id": "8d95a3d9-9bfe-4607-a2e1-4b4c46761337",
   "metadata": {
    "tags": []
   },
   "outputs": [
    {
     "data": {
      "text/plain": [
       "array(['HI', 'SC', 'FL', 'CT', 'MA', 'VA', 'NC', 'TX', 'NJ', 'MS', 'WA',\n",
       "       'CA', 'MD', 'AL', 'NH', 'NY', 'ME', 'RI', 'GA', 'IL', 'MI', 'OR',\n",
       "       'LA', 'MN', 'DE', 'WI', 'AK', 'PA', 'OH', 'VI', 'PR', 'UN', 'AZ',\n",
       "       'IN', 'ND', 'WV', 'GU', 'MO', 'CO', 'MT'], dtype=object)"
      ]
     },
     "execution_count": 213,
     "metadata": {},
     "output_type": "execute_result"
    }
   ],
   "source": [
    "mismatched_df_latlong_unique[(mismatched_df_latlong_unique['corrected_state_lat_long']=='Not_within_any_state') & (mismatched_df_latlong_unique['corrected_state_lat_long'].notna())]['state'].unique()"
   ]
  },
  {
   "cell_type": "code",
   "execution_count": 214,
   "id": "024fc4fc-24e5-4ed6-8220-7bd38fcfd6ba",
   "metadata": {
    "tags": []
   },
   "outputs": [
    {
     "data": {
      "text/html": [
       "<div>\n",
       "<style scoped>\n",
       "    .dataframe tbody tr th:only-of-type {\n",
       "        vertical-align: middle;\n",
       "    }\n",
       "\n",
       "    .dataframe tbody tr th {\n",
       "        vertical-align: top;\n",
       "    }\n",
       "\n",
       "    .dataframe thead th {\n",
       "        text-align: right;\n",
       "    }\n",
       "</style>\n",
       "<table border=\"1\" class=\"dataframe\">\n",
       "  <thead>\n",
       "    <tr style=\"text-align: right;\">\n",
       "      <th></th>\n",
       "      <th>latitude</th>\n",
       "      <th>longitude</th>\n",
       "      <th>state</th>\n",
       "      <th>corrected_state_lat_long</th>\n",
       "      <th>geometry_lat_long</th>\n",
       "    </tr>\n",
       "  </thead>\n",
       "  <tbody>\n",
       "    <tr>\n",
       "      <th>95</th>\n",
       "      <td>38.9</td>\n",
       "      <td>-77.1</td>\n",
       "      <td>MD</td>\n",
       "      <td>VA</td>\n",
       "      <td>POLYGON ((-77.15000 38.85000, -77.05000 38.850...</td>\n",
       "    </tr>\n",
       "    <tr>\n",
       "      <th>150</th>\n",
       "      <td>30.3</td>\n",
       "      <td>-87.5</td>\n",
       "      <td>FL</td>\n",
       "      <td>AL</td>\n",
       "      <td>POLYGON ((-87.55000 30.25000, -87.45000 30.250...</td>\n",
       "    </tr>\n",
       "    <tr>\n",
       "      <th>240</th>\n",
       "      <td>36.6</td>\n",
       "      <td>-82.3</td>\n",
       "      <td>TN</td>\n",
       "      <td>VA</td>\n",
       "      <td>POLYGON ((-82.35000 36.55000, -82.25000 36.550...</td>\n",
       "    </tr>\n",
       "    <tr>\n",
       "      <th>274</th>\n",
       "      <td>30.4</td>\n",
       "      <td>-87.4</td>\n",
       "      <td>AL</td>\n",
       "      <td>FL</td>\n",
       "      <td>POLYGON ((-87.45000 30.35000, -87.35000 30.350...</td>\n",
       "    </tr>\n",
       "    <tr>\n",
       "      <th>1108</th>\n",
       "      <td>47.9</td>\n",
       "      <td>-97.0</td>\n",
       "      <td>ND</td>\n",
       "      <td>MN</td>\n",
       "      <td>POLYGON ((-97.05000 47.85000, -96.95000 47.850...</td>\n",
       "    </tr>\n",
       "    <tr>\n",
       "      <th>...</th>\n",
       "      <td>...</td>\n",
       "      <td>...</td>\n",
       "      <td>...</td>\n",
       "      <td>...</td>\n",
       "      <td>...</td>\n",
       "    </tr>\n",
       "    <tr>\n",
       "      <th>2524743</th>\n",
       "      <td>18.1</td>\n",
       "      <td>-67.1</td>\n",
       "      <td>OK</td>\n",
       "      <td>PR</td>\n",
       "      <td>POLYGON ((-67.15000 18.05000, -67.05000 18.050...</td>\n",
       "    </tr>\n",
       "    <tr>\n",
       "      <th>2524851</th>\n",
       "      <td>45.0</td>\n",
       "      <td>-109.1</td>\n",
       "      <td>MT</td>\n",
       "      <td>WY</td>\n",
       "      <td>POLYGON ((-109.15000 44.95000, -109.05000 44.9...</td>\n",
       "    </tr>\n",
       "    <tr>\n",
       "      <th>2524852</th>\n",
       "      <td>45.0</td>\n",
       "      <td>-110.0</td>\n",
       "      <td>MT</td>\n",
       "      <td>WY</td>\n",
       "      <td>POLYGON ((-110.05000 44.95000, -109.95000 44.9...</td>\n",
       "    </tr>\n",
       "    <tr>\n",
       "      <th>2571888</th>\n",
       "      <td>30.6</td>\n",
       "      <td>-83.2</td>\n",
       "      <td>GA</td>\n",
       "      <td>FL</td>\n",
       "      <td>POLYGON ((-83.25000 30.55000, -83.15000 30.550...</td>\n",
       "    </tr>\n",
       "    <tr>\n",
       "      <th>2583732</th>\n",
       "      <td>34.1</td>\n",
       "      <td>-98.6</td>\n",
       "      <td>OK</td>\n",
       "      <td>TX</td>\n",
       "      <td>POLYGON ((-98.65000 34.05000, -98.55000 34.050...</td>\n",
       "    </tr>\n",
       "  </tbody>\n",
       "</table>\n",
       "<p>2431 rows × 5 columns</p>\n",
       "</div>"
      ],
      "text/plain": [
       "         latitude  longitude state corrected_state_lat_long  \\\n",
       "95           38.9      -77.1    MD                       VA   \n",
       "150          30.3      -87.5    FL                       AL   \n",
       "240          36.6      -82.3    TN                       VA   \n",
       "274          30.4      -87.4    AL                       FL   \n",
       "1108         47.9      -97.0    ND                       MN   \n",
       "...           ...        ...   ...                      ...   \n",
       "2524743      18.1      -67.1    OK                       PR   \n",
       "2524851      45.0     -109.1    MT                       WY   \n",
       "2524852      45.0     -110.0    MT                       WY   \n",
       "2571888      30.6      -83.2    GA                       FL   \n",
       "2583732      34.1      -98.6    OK                       TX   \n",
       "\n",
       "                                         geometry_lat_long  \n",
       "95       POLYGON ((-77.15000 38.85000, -77.05000 38.850...  \n",
       "150      POLYGON ((-87.55000 30.25000, -87.45000 30.250...  \n",
       "240      POLYGON ((-82.35000 36.55000, -82.25000 36.550...  \n",
       "274      POLYGON ((-87.45000 30.35000, -87.35000 30.350...  \n",
       "1108     POLYGON ((-97.05000 47.85000, -96.95000 47.850...  \n",
       "...                                                    ...  \n",
       "2524743  POLYGON ((-67.15000 18.05000, -67.05000 18.050...  \n",
       "2524851  POLYGON ((-109.15000 44.95000, -109.05000 44.9...  \n",
       "2524852  POLYGON ((-110.05000 44.95000, -109.95000 44.9...  \n",
       "2571888  POLYGON ((-83.25000 30.55000, -83.15000 30.550...  \n",
       "2583732  POLYGON ((-98.65000 34.05000, -98.55000 34.050...  \n",
       "\n",
       "[2431 rows x 5 columns]"
      ]
     },
     "execution_count": 214,
     "metadata": {},
     "output_type": "execute_result"
    }
   ],
   "source": [
    "mismatched_df_latlong_unique[(mismatched_df_latlong_unique['corrected_state_lat_long']!='Not_within_any_state') & (mismatched_df_latlong_unique['corrected_state_lat_long'].notna())]"
   ]
  },
  {
   "cell_type": "code",
   "execution_count": 215,
   "id": "3af5bb97-447f-4046-91e3-57b3b5a4fbcb",
   "metadata": {
    "tags": []
   },
   "outputs": [
    {
     "data": {
      "image/png": "[encoded data removed]",
      "text/plain": [
       "<Figure size 1000x1000 with 1 Axes>"
      ]
     },
     "metadata": {},
     "output_type": "display_data"
    }
   ],
   "source": [
    "gdf = mismatched_df_latlong_unique[mismatched_df_latlong_unique['corrected_state_lat_long']=='Not_within_any_state']\n",
    "\n",
    "# Only keep the necessary columns\n",
    "gdf = gdf[['latitude', 'longitude', 'geometry_lat_long']]\n",
    "\n",
    "gdf = gdf[gdf['longitude'] < 0]\n",
    "\n",
    "gdf = gpd.GeoDataFrame(gdf, geometry='geometry_lat_long')\n",
    "\n",
    "# Set the current CRS to WGS 84 (assuming your data is in latitude and longitude)\n",
    "gdf.crs = \"EPSG:4326\"\n",
    "\n",
    "# Project the GeoDataFrame to a suitable CRS (using Web Mercator here for demonstration)\n",
    "gdf_projected = gdf.to_crs(epsg=3857)\n",
    "\n",
    "# Plot using the 'viridis' colormap\n",
    "gdf.plot(edgecolor=\"black\", cmap='Reds', figsize=(10, 10))\n",
    "\n",
    "plt.xlabel('Longitude')\n",
    "plt.ylabel('Latitude')\n",
    "plt.title('Not_within_any_state Visualization')\n",
    "\n",
    "plt.show()"
   ]
  },
  {
   "cell_type": "code",
   "execution_count": 217,
   "id": "b8bac77b-5393-4173-b6c4-86c0984f72fe",
   "metadata": {
    "tags": []
   },
   "outputs": [
    {
     "data": {
      "image/png": "[encoded data removed]",
      "text/plain": [
       "<Figure size 1000x1000 with 1 Axes>"
      ]
     },
     "metadata": {},
     "output_type": "display_data"
    }
   ],
   "source": [
    "# gdf = mismatched_df_latlong_unique[(mismatched_df_latlong_unique['corrected_state_lat_long']!='Not_within_any_state')\n",
    "#                                   & (mismatched_df_latlong_unique['corrected_state_lat_long']!='FL')]\n",
    "\n",
    "# ['HI', 'SC', 'FL', 'CT', 'MA', 'VA', 'NC', 'TX', 'NJ', 'MS', 'WA',\n",
    "       # 'CA', 'MD', 'AL', 'NH', 'NY', 'ME', 'RI', 'GA', 'IL', 'MI', 'OR',\n",
    "       # 'LA', 'MN', 'DE', 'WI', 'AK', 'PA', 'OH', 'VI', 'PR', 'UN', 'AZ',\n",
    "       # 'IN', 'ND', 'WV', 'GU', 'MO', 'CO', 'MT']\n",
    "\n",
    "gdf = mismatched_df_latlong_unique[(mismatched_df_latlong_unique['state']=='NC')]\n",
    "\n",
    "# Only keep the necessary columns\n",
    "gdf = gdf[['latitude', 'longitude', 'geometry_lat_long']]\n",
    "\n",
    "gdf = gpd.GeoDataFrame(gdf, geometry='geometry_lat_long')\n",
    "\n",
    "# Set the current CRS to WGS 84 (assuming your data is in latitude and longitude)\n",
    "gdf.crs = \"EPSG:4326\"\n",
    "\n",
    "# Project the GeoDataFrame to a suitable CRS (using Web Mercator here for demonstration)\n",
    "gdf_projected = gdf.to_crs(epsg=3857)\n",
    "\n",
    "# Plot using the 'viridis' colormap\n",
    "gdf.plot(edgecolor=\"black\", cmap='Reds', figsize=(10, 10))\n",
    "\n",
    "plt.xlabel('Longitude')\n",
    "plt.ylabel('Latitude')\n",
    "plt.title('FL Visualization')\n",
    "\n",
    "plt.show()"
   ]
  },
  {
   "cell_type": "code",
   "execution_count": 77,
   "id": "1c00c089-767c-49c5-a986-08f934420755",
   "metadata": {
    "tags": []
   },
   "outputs": [],
   "source": [
    "list_df_lat_long = list(mismatched_df_latlong[['latitude', 'longitude']].drop_duplicates().itertuples(index=False, name=None))"
   ]
  },
  {
   "cell_type": "code",
   "execution_count": 78,
   "id": "429c0f75-b41e-4a5c-9db7-561a7a086718",
   "metadata": {
    "tags": []
   },
   "outputs": [
    {
     "data": {
      "text/plain": [
       "399288"
      ]
     },
     "execution_count": 78,
     "metadata": {},
     "output_type": "execute_result"
    }
   ],
   "source": [
    "# Filter df_copy based on the list of tuples and get the number of rows\n",
    "df_copy[df_copy.set_index(['latitude', 'longitude']).index.isin(list_df_lat_long)].shape[0]"
   ]
  },
  {
   "cell_type": "code",
   "execution_count": 101,
   "id": "c2e8ed7b-7b06-41fd-9dbe-b8037fed5c77",
   "metadata": {
    "tags": []
   },
   "outputs": [],
   "source": [
    "list_df_lat_long = list(lat_long_df[['latitude', 'longitude']].drop_duplicates().itertuples(index=False, name=None))"
   ]
  },
  {
   "cell_type": "code",
   "execution_count": 103,
   "id": "cabd5980-da58-4a98-ab7e-f858ddbb8fc5",
   "metadata": {
    "tags": []
   },
   "outputs": [
    {
     "data": {
      "text/plain": [
       "25127"
      ]
     },
     "execution_count": 103,
     "metadata": {},
     "output_type": "execute_result"
    }
   ],
   "source": [
    "len(list_df_lat_long)"
   ]
  },
  {
   "cell_type": "markdown",
   "id": "b8078d58-e552-4292-ae2b-3cc3cbb5517e",
   "metadata": {},
   "source": [
    "#### BG"
   ]
  },
  {
   "cell_type": "code",
   "execution_count": 112,
   "id": "ecf05d6b-0eb0-4fdc-ac04-6c9ea0bf2109",
   "metadata": {},
   "outputs": [],
   "source": [
    "# Filter out rows where 'state' is not equal to 'corrected_state'\n",
    "mismatched_df_BG= df_geographic_unique[df_geographic_unique['state'] != df_geographic_unique['corrected_state_BG']]"
   ]
  },
  {
   "cell_type": "code",
   "execution_count": 113,
   "id": "f9add477-6d49-4241-8abc-9da5a32d9078",
   "metadata": {
    "tags": []
   },
   "outputs": [],
   "source": [
    "mismatched_df_BG_unique = mismatched_df_BG[['censusBlockGroupFips', 'yearOfLoss_1990_2021', 'state', 'corrected_state_BG']].drop_duplicates()"
   ]
  },
  {
   "cell_type": "code",
   "execution_count": 115,
   "id": "995d67fa-5a18-485d-81ef-b4b15fc32bb9",
   "metadata": {
    "tags": []
   },
   "outputs": [
    {
     "data": {
      "text/plain": [
       "2144"
      ]
     },
     "execution_count": 115,
     "metadata": {},
     "output_type": "execute_result"
    }
   ],
   "source": [
    "mismatched_df_BG_unique[mismatched_df_BG_unique['corrected_state_BG']=='Not_within_any_state'].shape[0]"
   ]
  },
  {
   "cell_type": "code",
   "execution_count": 116,
   "id": "a03a40ea-581e-4545-afb2-3c9a76b0c311",
   "metadata": {
    "tags": []
   },
   "outputs": [
    {
     "data": {
      "text/plain": [
       "2187"
      ]
     },
     "execution_count": 116,
     "metadata": {},
     "output_type": "execute_result"
    }
   ],
   "source": [
    "mismatched_df_BG_unique.shape[0]"
   ]
  },
  {
   "cell_type": "code",
   "execution_count": 117,
   "id": "f3b1db56-d7d3-4804-a852-bb37b1fae820",
   "metadata": {
    "tags": []
   },
   "outputs": [],
   "source": [
    "# Initial mapping with multi-index\n",
    "BG_df.set_index(['GEOID', 'year'], inplace=True)\n",
    "mismatched_df_BG_unique['geometry_BG'] = mismatched_df_BG_unique.set_index(['censusBlockGroupFips', 'yearOfLoss_1990_2021']).index.map(BG_df['geometry_BG'])\n",
    "\n",
    "# Find rows with NaN values in 'corrected_state_BG'\n",
    "na_rows = mismatched_df_BG_unique['geometry_BG'].isna()\n",
    "\n",
    "# Reset index of BG_df\n",
    "df_single_index = BG_df.reset_index()\n",
    "\n",
    "# Sort by 'year' in descending order\n",
    "df_single_index = df_single_index.sort_values(by='year', ascending=False)\n",
    "\n",
    "# Drop duplicates based on the 'GEOID' column. Keep the first occurrence.\n",
    "df_single_index = df_single_index.drop_duplicates(subset='GEOID', keep='first')\n",
    "\n",
    "# Map these rows using only the 'GEOID'\n",
    "mismatched_df_BG_unique.loc[na_rows, 'geometry_BG'] = mismatched_df_BG_unique.loc[na_rows, 'censusBlockGroupFips'].map(df_single_index.set_index('GEOID')['geometry_BG'])\n",
    "\n",
    "# Resetting the index of BG_df (return to multi-index)\n",
    "BG_df.reset_index(inplace=True)"
   ]
  },
  {
   "cell_type": "code",
   "execution_count": 127,
   "id": "28cb0fd2-1bf4-4e81-8754-8df3112e8a96",
   "metadata": {
    "tags": []
   },
   "outputs": [
    {
     "data": {
      "text/html": [
       "<div>\n",
       "<style scoped>\n",
       "    .dataframe tbody tr th:only-of-type {\n",
       "        vertical-align: middle;\n",
       "    }\n",
       "\n",
       "    .dataframe tbody tr th {\n",
       "        vertical-align: top;\n",
       "    }\n",
       "\n",
       "    .dataframe thead th {\n",
       "        text-align: right;\n",
       "    }\n",
       "</style>\n",
       "<table border=\"1\" class=\"dataframe\">\n",
       "  <thead>\n",
       "    <tr style=\"text-align: right;\">\n",
       "      <th></th>\n",
       "      <th>censusBlockGroupFips</th>\n",
       "      <th>yearOfLoss_1990_2021</th>\n",
       "      <th>state</th>\n",
       "      <th>corrected_state_BG</th>\n",
       "      <th>geometry_BG</th>\n",
       "    </tr>\n",
       "  </thead>\n",
       "  <tbody>\n",
       "    <tr>\n",
       "      <th>1108</th>\n",
       "      <td>380350111001</td>\n",
       "      <td>1990</td>\n",
       "      <td>ND</td>\n",
       "      <td>MN</td>\n",
       "      <td>POLYGON ((-97.02360 47.89810, -97.02460 47.895...</td>\n",
       "    </tr>\n",
       "    <tr>\n",
       "      <th>12896</th>\n",
       "      <td>380350111001</td>\n",
       "      <td>2010</td>\n",
       "      <td>ND</td>\n",
       "      <td>MN</td>\n",
       "      <td>POLYGON ((-97.02907 47.86074, -97.02910 47.864...</td>\n",
       "    </tr>\n",
       "    <tr>\n",
       "      <th>19506</th>\n",
       "      <td>270270205003</td>\n",
       "      <td>1990</td>\n",
       "      <td>MN</td>\n",
       "      <td>ND</td>\n",
       "      <td>POLYGON ((-96.77720 46.85850, -96.77331 46.856...</td>\n",
       "    </tr>\n",
       "    <tr>\n",
       "      <th>22362</th>\n",
       "      <td>380350109001</td>\n",
       "      <td>1990</td>\n",
       "      <td>ND</td>\n",
       "      <td>MN</td>\n",
       "      <td>POLYGON ((-97.02650 47.91410, -97.02190 47.913...</td>\n",
       "    </tr>\n",
       "    <tr>\n",
       "      <th>50851</th>\n",
       "      <td>200430203003</td>\n",
       "      <td>2010</td>\n",
       "      <td>KS</td>\n",
       "      <td>MO</td>\n",
       "      <td>POLYGON ((-94.94448 39.75997, -94.94446 39.760...</td>\n",
       "    </tr>\n",
       "    <tr>\n",
       "      <th>85047</th>\n",
       "      <td>380170009011</td>\n",
       "      <td>1990</td>\n",
       "      <td>ND</td>\n",
       "      <td>MN</td>\n",
       "      <td>POLYGON ((-96.78870 46.86170, -96.78360 46.861...</td>\n",
       "    </tr>\n",
       "    <tr>\n",
       "      <th>85227</th>\n",
       "      <td>271190201003</td>\n",
       "      <td>1990</td>\n",
       "      <td>MN</td>\n",
       "      <td>ND</td>\n",
       "      <td>POLYGON ((-97.03620 47.94180, -97.03271 47.934...</td>\n",
       "    </tr>\n",
       "    <tr>\n",
       "      <th>116858</th>\n",
       "      <td>390610266002</td>\n",
       "      <td>1990</td>\n",
       "      <td>OH</td>\n",
       "      <td>KY</td>\n",
       "      <td>POLYGON ((-84.50130 39.10337, -84.50062 39.103...</td>\n",
       "    </tr>\n",
       "    <tr>\n",
       "      <th>156412</th>\n",
       "      <td>390610266001</td>\n",
       "      <td>2010</td>\n",
       "      <td>OH</td>\n",
       "      <td>KY</td>\n",
       "      <td>POLYGON ((-84.50062 39.10349, -84.50052 39.103...</td>\n",
       "    </tr>\n",
       "    <tr>\n",
       "      <th>194426</th>\n",
       "      <td>390610104001</td>\n",
       "      <td>2010</td>\n",
       "      <td>OH</td>\n",
       "      <td>KY</td>\n",
       "      <td>POLYGON ((-84.69661 39.11284, -84.69515 39.113...</td>\n",
       "    </tr>\n",
       "    <tr>\n",
       "      <th>200865</th>\n",
       "      <td>170338805001</td>\n",
       "      <td>2000</td>\n",
       "      <td>IL</td>\n",
       "      <td>IN</td>\n",
       "      <td>POLYGON ((-87.61594 39.04688, -87.61593 39.047...</td>\n",
       "    </tr>\n",
       "    <tr>\n",
       "      <th>239222</th>\n",
       "      <td>421039501041</td>\n",
       "      <td>2000</td>\n",
       "      <td>PA</td>\n",
       "      <td>NJ</td>\n",
       "      <td>POLYGON ((-74.78205 41.34078, -74.78172 41.340...</td>\n",
       "    </tr>\n",
       "    <tr>\n",
       "      <th>266183</th>\n",
       "      <td>310550005001</td>\n",
       "      <td>2010</td>\n",
       "      <td>NE</td>\n",
       "      <td>IA</td>\n",
       "      <td>POLYGON ((-95.93709 41.26900, -95.93708 41.269...</td>\n",
       "    </tr>\n",
       "    <tr>\n",
       "      <th>344475</th>\n",
       "      <td>380170002011</td>\n",
       "      <td>2000</td>\n",
       "      <td>ND</td>\n",
       "      <td>MN</td>\n",
       "      <td>POLYGON ((-96.79399 46.92773, -96.79399 46.928...</td>\n",
       "    </tr>\n",
       "    <tr>\n",
       "      <th>454455</th>\n",
       "      <td>360710023002</td>\n",
       "      <td>1990</td>\n",
       "      <td>NY</td>\n",
       "      <td>PA</td>\n",
       "      <td>POLYGON ((-74.69890 41.37859, -74.68697 41.364...</td>\n",
       "    </tr>\n",
       "    <tr>\n",
       "      <th>512437</th>\n",
       "      <td>390610266002</td>\n",
       "      <td>2000</td>\n",
       "      <td>OH</td>\n",
       "      <td>KY</td>\n",
       "      <td>POLYGON ((-84.50130 39.10337, -84.50062 39.103...</td>\n",
       "    </tr>\n",
       "    <tr>\n",
       "      <th>597681</th>\n",
       "      <td>050930113001</td>\n",
       "      <td>1990</td>\n",
       "      <td>AR</td>\n",
       "      <td>TN</td>\n",
       "      <td>POLYGON ((-90.08967 35.51996, -90.09001 35.509...</td>\n",
       "    </tr>\n",
       "    <tr>\n",
       "      <th>651471</th>\n",
       "      <td>380350109001</td>\n",
       "      <td>2000</td>\n",
       "      <td>ND</td>\n",
       "      <td>MN</td>\n",
       "      <td>POLYGON ((-97.02159 47.91449, -97.02139 47.914...</td>\n",
       "    </tr>\n",
       "    <tr>\n",
       "      <th>660103</th>\n",
       "      <td>170338805001</td>\n",
       "      <td>2010</td>\n",
       "      <td>IL</td>\n",
       "      <td>IN</td>\n",
       "      <td>POLYGON ((-87.61593 39.04710, -87.61569 39.047...</td>\n",
       "    </tr>\n",
       "    <tr>\n",
       "      <th>663458</th>\n",
       "      <td>380170009011</td>\n",
       "      <td>2010</td>\n",
       "      <td>ND</td>\n",
       "      <td>MN</td>\n",
       "      <td>POLYGON ((-96.79053 46.85191, -96.79052 46.852...</td>\n",
       "    </tr>\n",
       "    <tr>\n",
       "      <th>692806</th>\n",
       "      <td>421039501041</td>\n",
       "      <td>1990</td>\n",
       "      <td>PA</td>\n",
       "      <td>NJ</td>\n",
       "      <td>POLYGON ((-74.78205 41.34078, -74.78172 41.340...</td>\n",
       "    </tr>\n",
       "    <tr>\n",
       "      <th>871902</th>\n",
       "      <td>471670401001</td>\n",
       "      <td>2000</td>\n",
       "      <td>TN</td>\n",
       "      <td>AR</td>\n",
       "      <td>MULTIPOLYGON (((-89.95225 35.51079, -89.95243 ...</td>\n",
       "    </tr>\n",
       "    <tr>\n",
       "      <th>973058</th>\n",
       "      <td>540039711022</td>\n",
       "      <td>2010</td>\n",
       "      <td>WV</td>\n",
       "      <td>MD</td>\n",
       "      <td>POLYGON ((-77.94468 39.61666, -77.94455 39.616...</td>\n",
       "    </tr>\n",
       "    <tr>\n",
       "      <th>1005744</th>\n",
       "      <td>380170002011</td>\n",
       "      <td>2010</td>\n",
       "      <td>ND</td>\n",
       "      <td>MN</td>\n",
       "      <td>POLYGON ((-96.79399 46.92773, -96.79399 46.928...</td>\n",
       "    </tr>\n",
       "    <tr>\n",
       "      <th>1163601</th>\n",
       "      <td>240317058003</td>\n",
       "      <td>2010</td>\n",
       "      <td>MD</td>\n",
       "      <td>VA</td>\n",
       "      <td>POLYGON ((-77.17945 38.96963, -77.17933 38.970...</td>\n",
       "    </tr>\n",
       "    <tr>\n",
       "      <th>1232304</th>\n",
       "      <td>191670704003</td>\n",
       "      <td>2010</td>\n",
       "      <td>IA</td>\n",
       "      <td>SD</td>\n",
       "      <td>POLYGON ((-96.51891 42.98432, -96.51885 42.984...</td>\n",
       "    </tr>\n",
       "    <tr>\n",
       "      <th>1237770</th>\n",
       "      <td>540690002004</td>\n",
       "      <td>1990</td>\n",
       "      <td>WV</td>\n",
       "      <td>OH</td>\n",
       "      <td>POLYGON ((-80.70251 40.11610, -80.70180 40.108...</td>\n",
       "    </tr>\n",
       "    <tr>\n",
       "      <th>1304566</th>\n",
       "      <td>380170002011</td>\n",
       "      <td>1990</td>\n",
       "      <td>ND</td>\n",
       "      <td>MN</td>\n",
       "      <td>POLYGON ((-96.79399 46.92773, -96.79399 46.928...</td>\n",
       "    </tr>\n",
       "    <tr>\n",
       "      <th>1398919</th>\n",
       "      <td>540039711022</td>\n",
       "      <td>1990</td>\n",
       "      <td>WV</td>\n",
       "      <td>MD</td>\n",
       "      <td>POLYGON ((-77.94468 39.61666, -77.94455 39.616...</td>\n",
       "    </tr>\n",
       "    <tr>\n",
       "      <th>1566894</th>\n",
       "      <td>390610104002</td>\n",
       "      <td>1990</td>\n",
       "      <td>OH</td>\n",
       "      <td>KY</td>\n",
       "      <td>POLYGON ((-84.68060 39.10700, -84.67870 39.103...</td>\n",
       "    </tr>\n",
       "    <tr>\n",
       "      <th>1882962</th>\n",
       "      <td>200430203003</td>\n",
       "      <td>1990</td>\n",
       "      <td>KS</td>\n",
       "      <td>MO</td>\n",
       "      <td>POLYGON ((-94.93024 39.78778, -94.93045 39.787...</td>\n",
       "    </tr>\n",
       "    <tr>\n",
       "      <th>2028787</th>\n",
       "      <td>390610204015</td>\n",
       "      <td>1990</td>\n",
       "      <td>OH</td>\n",
       "      <td>KY</td>\n",
       "      <td>POLYGON ((-84.74890 39.15040, -84.74510 39.151...</td>\n",
       "    </tr>\n",
       "    <tr>\n",
       "      <th>2136300</th>\n",
       "      <td>340410309003</td>\n",
       "      <td>1990</td>\n",
       "      <td>NJ</td>\n",
       "      <td>PA</td>\n",
       "      <td>POLYGON ((-75.17609 40.68143, -75.17097 40.677...</td>\n",
       "    </tr>\n",
       "    <tr>\n",
       "      <th>2141606</th>\n",
       "      <td>240317058003</td>\n",
       "      <td>1990</td>\n",
       "      <td>MD</td>\n",
       "      <td>VA</td>\n",
       "      <td>POLYGON ((-77.14860 38.97110, -77.13640 38.962...</td>\n",
       "    </tr>\n",
       "    <tr>\n",
       "      <th>2187262</th>\n",
       "      <td>040270109141</td>\n",
       "      <td>1990</td>\n",
       "      <td>AZ</td>\n",
       "      <td>CA</td>\n",
       "      <td>POLYGON ((-114.53243 32.77864, -114.53185 32.7...</td>\n",
       "    </tr>\n",
       "    <tr>\n",
       "      <th>2444788</th>\n",
       "      <td>040270109141</td>\n",
       "      <td>2020</td>\n",
       "      <td>AZ</td>\n",
       "      <td>CA</td>\n",
       "      <td>POLYGON ((-114.53243 32.77864, -114.53185 32.7...</td>\n",
       "    </tr>\n",
       "    <tr>\n",
       "      <th>2476591</th>\n",
       "      <td>390610266002</td>\n",
       "      <td>2020</td>\n",
       "      <td>OH</td>\n",
       "      <td>KY</td>\n",
       "      <td>POLYGON ((-84.50130 39.10337, -84.50062 39.103...</td>\n",
       "    </tr>\n",
       "    <tr>\n",
       "      <th>2508333</th>\n",
       "      <td>250056401005</td>\n",
       "      <td>2020</td>\n",
       "      <td>MA</td>\n",
       "      <td>RI</td>\n",
       "      <td>POLYGON ((-71.16210 41.66576, -71.16190 41.666...</td>\n",
       "    </tr>\n",
       "  </tbody>\n",
       "</table>\n",
       "</div>"
      ],
      "text/plain": [
       "        censusBlockGroupFips  yearOfLoss_1990_2021 state corrected_state_BG  \\\n",
       "1108            380350111001                  1990    ND                 MN   \n",
       "12896           380350111001                  2010    ND                 MN   \n",
       "19506           270270205003                  1990    MN                 ND   \n",
       "22362           380350109001                  1990    ND                 MN   \n",
       "50851           200430203003                  2010    KS                 MO   \n",
       "85047           380170009011                  1990    ND                 MN   \n",
       "85227           271190201003                  1990    MN                 ND   \n",
       "116858          390610266002                  1990    OH                 KY   \n",
       "156412          390610266001                  2010    OH                 KY   \n",
       "194426          390610104001                  2010    OH                 KY   \n",
       "200865          170338805001                  2000    IL                 IN   \n",
       "239222          421039501041                  2000    PA                 NJ   \n",
       "266183          310550005001                  2010    NE                 IA   \n",
       "344475          380170002011                  2000    ND                 MN   \n",
       "454455          360710023002                  1990    NY                 PA   \n",
       "512437          390610266002                  2000    OH                 KY   \n",
       "597681          050930113001                  1990    AR                 TN   \n",
       "651471          380350109001                  2000    ND                 MN   \n",
       "660103          170338805001                  2010    IL                 IN   \n",
       "663458          380170009011                  2010    ND                 MN   \n",
       "692806          421039501041                  1990    PA                 NJ   \n",
       "871902          471670401001                  2000    TN                 AR   \n",
       "973058          540039711022                  2010    WV                 MD   \n",
       "1005744         380170002011                  2010    ND                 MN   \n",
       "1163601         240317058003                  2010    MD                 VA   \n",
       "1232304         191670704003                  2010    IA                 SD   \n",
       "1237770         540690002004                  1990    WV                 OH   \n",
       "1304566         380170002011                  1990    ND                 MN   \n",
       "1398919         540039711022                  1990    WV                 MD   \n",
       "1566894         390610104002                  1990    OH                 KY   \n",
       "1882962         200430203003                  1990    KS                 MO   \n",
       "2028787         390610204015                  1990    OH                 KY   \n",
       "2136300         340410309003                  1990    NJ                 PA   \n",
       "2141606         240317058003                  1990    MD                 VA   \n",
       "2187262         040270109141                  1990    AZ                 CA   \n",
       "2444788         040270109141                  2020    AZ                 CA   \n",
       "2476591         390610266002                  2020    OH                 KY   \n",
       "2508333         250056401005                  2020    MA                 RI   \n",
       "\n",
       "                                               geometry_BG  \n",
       "1108     POLYGON ((-97.02360 47.89810, -97.02460 47.895...  \n",
       "12896    POLYGON ((-97.02907 47.86074, -97.02910 47.864...  \n",
       "19506    POLYGON ((-96.77720 46.85850, -96.77331 46.856...  \n",
       "22362    POLYGON ((-97.02650 47.91410, -97.02190 47.913...  \n",
       "50851    POLYGON ((-94.94448 39.75997, -94.94446 39.760...  \n",
       "85047    POLYGON ((-96.78870 46.86170, -96.78360 46.861...  \n",
       "85227    POLYGON ((-97.03620 47.94180, -97.03271 47.934...  \n",
       "116858   POLYGON ((-84.50130 39.10337, -84.50062 39.103...  \n",
       "156412   POLYGON ((-84.50062 39.10349, -84.50052 39.103...  \n",
       "194426   POLYGON ((-84.69661 39.11284, -84.69515 39.113...  \n",
       "200865   POLYGON ((-87.61594 39.04688, -87.61593 39.047...  \n",
       "239222   POLYGON ((-74.78205 41.34078, -74.78172 41.340...  \n",
       "266183   POLYGON ((-95.93709 41.26900, -95.93708 41.269...  \n",
       "344475   POLYGON ((-96.79399 46.92773, -96.79399 46.928...  \n",
       "454455   POLYGON ((-74.69890 41.37859, -74.68697 41.364...  \n",
       "512437   POLYGON ((-84.50130 39.10337, -84.50062 39.103...  \n",
       "597681   POLYGON ((-90.08967 35.51996, -90.09001 35.509...  \n",
       "651471   POLYGON ((-97.02159 47.91449, -97.02139 47.914...  \n",
       "660103   POLYGON ((-87.61593 39.04710, -87.61569 39.047...  \n",
       "663458   POLYGON ((-96.79053 46.85191, -96.79052 46.852...  \n",
       "692806   POLYGON ((-74.78205 41.34078, -74.78172 41.340...  \n",
       "871902   MULTIPOLYGON (((-89.95225 35.51079, -89.95243 ...  \n",
       "973058   POLYGON ((-77.94468 39.61666, -77.94455 39.616...  \n",
       "1005744  POLYGON ((-96.79399 46.92773, -96.79399 46.928...  \n",
       "1163601  POLYGON ((-77.17945 38.96963, -77.17933 38.970...  \n",
       "1232304  POLYGON ((-96.51891 42.98432, -96.51885 42.984...  \n",
       "1237770  POLYGON ((-80.70251 40.11610, -80.70180 40.108...  \n",
       "1304566  POLYGON ((-96.79399 46.92773, -96.79399 46.928...  \n",
       "1398919  POLYGON ((-77.94468 39.61666, -77.94455 39.616...  \n",
       "1566894  POLYGON ((-84.68060 39.10700, -84.67870 39.103...  \n",
       "1882962  POLYGON ((-94.93024 39.78778, -94.93045 39.787...  \n",
       "2028787  POLYGON ((-84.74890 39.15040, -84.74510 39.151...  \n",
       "2136300  POLYGON ((-75.17609 40.68143, -75.17097 40.677...  \n",
       "2141606  POLYGON ((-77.14860 38.97110, -77.13640 38.962...  \n",
       "2187262  POLYGON ((-114.53243 32.77864, -114.53185 32.7...  \n",
       "2444788  POLYGON ((-114.53243 32.77864, -114.53185 32.7...  \n",
       "2476591  POLYGON ((-84.50130 39.10337, -84.50062 39.103...  \n",
       "2508333  POLYGON ((-71.16210 41.66576, -71.16190 41.666...  "
      ]
     },
     "execution_count": 127,
     "metadata": {},
     "output_type": "execute_result"
    }
   ],
   "source": [
    "mismatched_df_BG_unique[(mismatched_df_BG_unique['corrected_state_BG']!='Not_within_any_state') & (mismatched_df_BG_unique['corrected_state_BG'].notna())]"
   ]
  },
  {
   "cell_type": "code",
   "execution_count": 131,
   "id": "2700f484-c36c-47d1-839d-4926b117de3d",
   "metadata": {
    "tags": []
   },
   "outputs": [
    {
     "data": {
      "image/png": "[encoded data removed]",
      "text/plain": [
       "<Figure size 1000x1000 with 1 Axes>"
      ]
     },
     "metadata": {},
     "output_type": "display_data"
    }
   ],
   "source": [
    "gdf = mismatched_df_BG_unique[mismatched_df_BG_unique['corrected_state_BG']=='NJ']\n",
    "\n",
    "# Only keep the necessary columns\n",
    "gdf = gdf[['censusBlockGroupFips', 'geometry_BG']]\n",
    "\n",
    "gdf = gpd.GeoDataFrame(gdf, geometry='geometry_BG')\n",
    "\n",
    "centroids = gdf.geometry.centroid\n",
    "\n",
    "gdf = gdf[centroids.x < 0]\n",
    "\n",
    "# Set the current CRS to WGS 84 (assuming your data is in latitude and longitude)\n",
    "gdf.crs = \"EPSG:4326\"\n",
    "\n",
    "# Project the GeoDataFrame to a suitable CRS (using Web Mercator here for demonstration)\n",
    "gdf_projected = gdf.to_crs(epsg=3857)\n",
    "\n",
    "# Plot using the 'viridis' colormap\n",
    "gdf.plot(edgecolor=\"black\", cmap='Reds', figsize=(10, 10))\n",
    "\n",
    "plt.xlabel('Longitude')\n",
    "plt.ylabel('Latitude')\n",
    "plt.title('Not_within_any_state Visualization')\n",
    "\n",
    "plt.show()"
   ]
  },
  {
   "cell_type": "code",
   "execution_count": 128,
   "id": "648377b1-46bb-425b-984c-31ec17ae8cc0",
   "metadata": {
    "tags": []
   },
   "outputs": [
    {
     "data": {
      "image/png": "[encoded data removed]",
      "text/plain": [
       "<Figure size 1000x1000 with 1 Axes>"
      ]
     },
     "metadata": {},
     "output_type": "display_data"
    }
   ],
   "source": [
    "gdf = mismatched_df_BG_unique[mismatched_df_BG_unique['corrected_state_BG']=='MN']\n",
    "\n",
    "# Only keep the necessary columns\n",
    "gdf = gdf[['censusBlockGroupFips', 'geometry_BG']]\n",
    "\n",
    "gdf = gpd.GeoDataFrame(gdf, geometry='geometry_BG')\n",
    "\n",
    "# Set the current CRS to WGS 84 (assuming your data is in latitude and longitude)\n",
    "gdf.crs = \"EPSG:4326\"\n",
    "\n",
    "# Project the GeoDataFrame to a suitable CRS (using Web Mercator here for demonstration)\n",
    "gdf_projected = gdf.to_crs(epsg=3857)\n",
    "\n",
    "# Plot using the 'viridis' colormap\n",
    "gdf.plot(edgecolor=\"black\", cmap='Reds', figsize=(10, 10))\n",
    "\n",
    "plt.xlabel('Longitude')\n",
    "plt.ylabel('Latitude')\n",
    "plt.title('Not_within_any_state Visualization')\n",
    "\n",
    "plt.show()"
   ]
  },
  {
   "cell_type": "code",
   "execution_count": 31,
   "id": "5ef6a817-6fcd-4780-82f4-d38cb55ffe53",
   "metadata": {},
   "outputs": [],
   "source": [
    "list_df_BG = mismatched_df_BG['censusBlockGroupFips'].drop_duplicates().to_list()"
   ]
  },
  {
   "cell_type": "code",
   "execution_count": 32,
   "id": "0fd83bab-0275-489d-a5e1-08f9a6146102",
   "metadata": {},
   "outputs": [
    {
     "data": {
      "text/plain": [
       "155976"
      ]
     },
     "execution_count": 32,
     "metadata": {},
     "output_type": "execute_result"
    }
   ],
   "source": [
    "df_copy[df_copy['censusBlockGroupFips'].isin(list_df_BG)].shape[0]"
   ]
  },
  {
   "cell_type": "code",
   "execution_count": 43,
   "id": "77d09d94-3f91-4413-b4c7-8840b9cbd34c",
   "metadata": {
    "tags": []
   },
   "outputs": [],
   "source": [
    "list_df_BG_check = BG_df['GEOID'].drop_duplicates().to_list()"
   ]
  },
  {
   "cell_type": "code",
   "execution_count": 45,
   "id": "7580af26-89cc-4c92-811f-5407c835203c",
   "metadata": {
    "tags": []
   },
   "outputs": [
    {
     "data": {
      "text/plain": [
       "106781"
      ]
     },
     "execution_count": 45,
     "metadata": {},
     "output_type": "execute_result"
    }
   ],
   "source": [
    "len(list_df_BG_check)"
   ]
  },
  {
   "cell_type": "code",
   "execution_count": 50,
   "id": "a71358f7-5cb9-4c2b-b60a-a1bfe568be18",
   "metadata": {
    "tags": []
   },
   "outputs": [],
   "source": [
    "new_list = df_copy['censusBlockGroupFips'].unique().tolist()"
   ]
  },
  {
   "cell_type": "code",
   "execution_count": 51,
   "id": "e6d61196-8381-49f6-9d37-9762b7ba2c0d",
   "metadata": {
    "tags": []
   },
   "outputs": [
    {
     "data": {
      "text/plain": [
       "106786"
      ]
     },
     "execution_count": 51,
     "metadata": {},
     "output_type": "execute_result"
    }
   ],
   "source": [
    "len(new_list)"
   ]
  },
  {
   "cell_type": "code",
   "execution_count": 55,
   "id": "0792e1e3-7a8c-42df-9d0c-c269e053e05e",
   "metadata": {
    "tags": []
   },
   "outputs": [],
   "source": [
    "set_df_BG_check = set(list_df_BG_check)\n",
    "filtered_list = [item for item in new_list if item not in set_df_BG_check]"
   ]
  },
  {
   "cell_type": "code",
   "execution_count": 56,
   "id": "e6c64028-4e4e-416e-8bc4-b7bc656c62dd",
   "metadata": {
    "tags": []
   },
   "outputs": [
    {
     "name": "stdout",
     "output_type": "stream",
     "text": [
      "106781\n"
     ]
    }
   ],
   "source": [
    "intersection = set(new_list).intersection(set(list_df_BG_check))\n",
    "print(len(intersection))"
   ]
  },
  {
   "cell_type": "code",
   "execution_count": 57,
   "id": "aaf8c07d-aab7-49e3-b529-d07357649e5a",
   "metadata": {
    "tags": []
   },
   "outputs": [
    {
     "data": {
      "text/plain": [
       "5"
      ]
     },
     "execution_count": 57,
     "metadata": {},
     "output_type": "execute_result"
    }
   ],
   "source": [
    "len(set(filtered_list))"
   ]
  },
  {
   "cell_type": "code",
   "execution_count": 58,
   "id": "e599f2b7-6d50-48c5-aa79-b8511728a466",
   "metadata": {
    "tags": []
   },
   "outputs": [
    {
     "data": {
      "text/plain": [
       "2447256"
      ]
     },
     "execution_count": 58,
     "metadata": {},
     "output_type": "execute_result"
    }
   ],
   "source": [
    "df_copy[df_copy['censusBlockGroupFips'].isin(list_df_BG_check)].shape[0]"
   ]
  },
  {
   "cell_type": "code",
   "execution_count": 59,
   "id": "e4c408da-966d-4425-8009-c708175b9136",
   "metadata": {
    "tags": []
   },
   "outputs": [
    {
     "data": {
      "text/plain": [
       "2447264"
      ]
     },
     "execution_count": 59,
     "metadata": {},
     "output_type": "execute_result"
    }
   ],
   "source": [
    "df_copy.shape[0]"
   ]
  },
  {
   "cell_type": "code",
   "execution_count": 54,
   "id": "4cb6fb96-1cb4-40f9-aed5-ea06fb859e31",
   "metadata": {
    "tags": []
   },
   "outputs": [
    {
     "data": {
      "text/plain": [
       "0.004682261719701084"
      ]
     },
     "execution_count": 54,
     "metadata": {},
     "output_type": "execute_result"
    }
   ],
   "source": [
    "(5/106786)*100"
   ]
  },
  {
   "cell_type": "code",
   "execution_count": 63,
   "id": "4b8fa856-8f38-4851-a2b7-1e8fe6129ebb",
   "metadata": {
    "tags": []
   },
   "outputs": [
    {
     "data": {
      "text/plain": [
       "8"
      ]
     },
     "execution_count": 63,
     "metadata": {},
     "output_type": "execute_result"
    }
   ],
   "source": [
    "(2447264-2447256)"
   ]
  },
  {
   "cell_type": "markdown",
   "id": "a1d98caf-36a5-4363-a514-5b0d796f5ca4",
   "metadata": {},
   "source": [
    "#### Zipcode"
   ]
  },
  {
   "cell_type": "code",
   "execution_count": 33,
   "id": "3c83f2cd-7186-4c99-b26a-61e47b9ea6f4",
   "metadata": {},
   "outputs": [],
   "source": [
    "# Filter out rows where 'state' is not equal to 'corrected_state'\n",
    "mismatched_df_ZipCode= df_geographic_unique[df_geographic_unique['state'] != df_geographic_unique['corrected_state_zipcode']]"
   ]
  },
  {
   "cell_type": "code",
   "execution_count": 34,
   "id": "b8c9a08e-39a8-491b-a191-7ee2f3fe40eb",
   "metadata": {},
   "outputs": [],
   "source": [
    "list_df_ZipCode = mismatched_df_ZipCode['reportedZipCode'].drop_duplicates().to_list()"
   ]
  },
  {
   "cell_type": "code",
   "execution_count": 35,
   "id": "b1d22b83-1012-4f2a-af22-a94d9d5f7999",
   "metadata": {},
   "outputs": [
    {
     "data": {
      "text/plain": [
       "106296"
      ]
     },
     "execution_count": 35,
     "metadata": {},
     "output_type": "execute_result"
    }
   ],
   "source": [
    "df_copy[df_copy['reportedZipCode'].isin(list_df_ZipCode)].shape[0]"
   ]
  },
  {
   "cell_type": "code",
   "execution_count": 32,
   "id": "45cb764e-0c6d-426f-8504-a24cc75c030c",
   "metadata": {
    "tags": []
   },
   "outputs": [],
   "source": [
    "list_df_ZipCode_check = zipcode_df['ZIPcode'].drop_duplicates().to_list()"
   ]
  },
  {
   "cell_type": "code",
   "execution_count": 33,
   "id": "ec3065d4-2fa0-4474-907c-d14ea52ad5a7",
   "metadata": {
    "tags": []
   },
   "outputs": [
    {
     "data": {
      "text/plain": [
       "22849"
      ]
     },
     "execution_count": 33,
     "metadata": {},
     "output_type": "execute_result"
    }
   ],
   "source": [
    "len(list_df_ZipCode_check)"
   ]
  },
  {
   "cell_type": "code",
   "execution_count": 30,
   "id": "764f586c-dc51-4bd3-96a3-de9f1fd03bdd",
   "metadata": {
    "tags": []
   },
   "outputs": [],
   "source": [
    "new_list = df_copy['reportedZipCode'].unique().tolist()"
   ]
  },
  {
   "cell_type": "code",
   "execution_count": 31,
   "id": "f7215780-a64e-4f1c-8a52-ca58b4efa685",
   "metadata": {
    "tags": []
   },
   "outputs": [
    {
     "data": {
      "text/plain": [
       "25952"
      ]
     },
     "execution_count": 31,
     "metadata": {},
     "output_type": "execute_result"
    }
   ],
   "source": [
    "len(new_list)"
   ]
  },
  {
   "cell_type": "code",
   "execution_count": 34,
   "id": "a1a2589b-d37c-4b5b-839d-7b8c5499a4af",
   "metadata": {
    "tags": []
   },
   "outputs": [],
   "source": [
    "set_df_ZipCode_check = set(list_df_ZipCode_check)\n",
    "filtered_list = [item for item in new_list if item not in set_df_ZipCode_check]"
   ]
  },
  {
   "cell_type": "code",
   "execution_count": 35,
   "id": "d76d2a3b-4a94-475b-9ecd-26fb31417fac",
   "metadata": {
    "tags": []
   },
   "outputs": [
    {
     "name": "stdout",
     "output_type": "stream",
     "text": [
      "22849\n"
     ]
    }
   ],
   "source": [
    "intersection = set(new_list).intersection(set(list_df_ZipCode_check))\n",
    "print(len(intersection))"
   ]
  },
  {
   "cell_type": "code",
   "execution_count": 36,
   "id": "e74f5b23-32a5-43ec-83a7-5dffad7e0654",
   "metadata": {
    "tags": []
   },
   "outputs": [
    {
     "data": {
      "text/plain": [
       "3103"
      ]
     },
     "execution_count": 36,
     "metadata": {},
     "output_type": "execute_result"
    }
   ],
   "source": [
    "len(set(filtered_list))"
   ]
  },
  {
   "cell_type": "code",
   "execution_count": 38,
   "id": "ffa34b96-6f16-4749-9753-1269bad3abe6",
   "metadata": {
    "tags": []
   },
   "outputs": [
    {
     "data": {
      "text/plain": [
       "2504360"
      ]
     },
     "execution_count": 38,
     "metadata": {},
     "output_type": "execute_result"
    }
   ],
   "source": [
    "df_copy[df_copy['reportedZipCode'].isin(list_df_ZipCode_check)].shape[0]"
   ]
  },
  {
   "cell_type": "code",
   "execution_count": 39,
   "id": "a92c9312-d54b-443b-9b4b-f7d3285d9130",
   "metadata": {
    "tags": []
   },
   "outputs": [
    {
     "data": {
      "text/plain": [
       "2528415"
      ]
     },
     "execution_count": 39,
     "metadata": {},
     "output_type": "execute_result"
    }
   ],
   "source": [
    "df_copy.shape[0]"
   ]
  },
  {
   "cell_type": "code",
   "execution_count": 42,
   "id": "d613a8c2-50cf-4c67-8ad1-e5e554ecdea5",
   "metadata": {
    "tags": []
   },
   "outputs": [
    {
     "data": {
      "text/plain": [
       "0.009513865405797703"
      ]
     },
     "execution_count": 42,
     "metadata": {},
     "output_type": "execute_result"
    }
   ],
   "source": [
    "24055/2528415"
   ]
  },
  {
   "cell_type": "code",
   "execution_count": 37,
   "id": "81797789-cc8a-4171-a111-9143f0590e71",
   "metadata": {
    "tags": []
   },
   "outputs": [
    {
     "data": {
      "text/plain": [
       "0.11956689272503082"
      ]
     },
     "execution_count": 37,
     "metadata": {},
     "output_type": "execute_result"
    }
   ],
   "source": [
    "3103/25952"
   ]
  },
  {
   "cell_type": "markdown",
   "id": "4a9b3491-47f4-4c8a-ac9c-eb109a442fd2",
   "metadata": {},
   "source": [
    "#### County"
   ]
  },
  {
   "cell_type": "code",
   "execution_count": 36,
   "id": "15c3781d-5995-4166-9c74-714d9003e0de",
   "metadata": {},
   "outputs": [],
   "source": [
    "# Filter out rows where 'state' is not equal to 'corrected_state'\n",
    "mismatched_df_County= df_geographic_unique[df_geographic_unique['state'] != df_geographic_unique['corrected_state_county']]"
   ]
  },
  {
   "cell_type": "code",
   "execution_count": 37,
   "id": "eb7cd7f7-3cde-441f-9a86-9395a4db9e9e",
   "metadata": {},
   "outputs": [],
   "source": [
    "list_df_County = mismatched_df_County['countyCode'].drop_duplicates().to_list()"
   ]
  },
  {
   "cell_type": "code",
   "execution_count": 38,
   "id": "af6bd17f-88da-4c75-81cf-e28e205ee98f",
   "metadata": {},
   "outputs": [
    {
     "data": {
      "text/plain": [
       "161952"
      ]
     },
     "execution_count": 38,
     "metadata": {},
     "output_type": "execute_result"
    }
   ],
   "source": [
    "df_copy[df_copy['countyCode'].isin(list_df_County)].shape[0]"
   ]
  },
  {
   "cell_type": "code",
   "execution_count": 70,
   "id": "f6a93bf5-dbb9-4ec1-ab6c-e56f56b18aa9",
   "metadata": {
    "tags": []
   },
   "outputs": [],
   "source": [
    "list_df_County_check = County_df['CountyID'].drop_duplicates().to_list()"
   ]
  },
  {
   "cell_type": "code",
   "execution_count": 71,
   "id": "6a620a81-1fcf-4ec5-982e-1c34fe2e2748",
   "metadata": {
    "tags": []
   },
   "outputs": [
    {
     "data": {
      "text/plain": [
       "2924"
      ]
     },
     "execution_count": 71,
     "metadata": {},
     "output_type": "execute_result"
    }
   ],
   "source": [
    "len(list_df_County_check)"
   ]
  },
  {
   "cell_type": "code",
   "execution_count": 73,
   "id": "ddd09840-f37b-4759-a101-bd066f57a2e4",
   "metadata": {
    "tags": []
   },
   "outputs": [],
   "source": [
    "new_list = df_copy['countyCode'].unique().tolist()"
   ]
  },
  {
   "cell_type": "code",
   "execution_count": 74,
   "id": "e1a4fd59-aaa7-4027-8d3f-631e582b163b",
   "metadata": {
    "tags": []
   },
   "outputs": [
    {
     "data": {
      "text/plain": [
       "2924"
      ]
     },
     "execution_count": 74,
     "metadata": {},
     "output_type": "execute_result"
    }
   ],
   "source": [
    "len(new_list)"
   ]
  },
  {
   "cell_type": "code",
   "execution_count": 75,
   "id": "cb944f19-2c47-4f1d-afc8-3adf3edce053",
   "metadata": {
    "tags": []
   },
   "outputs": [],
   "source": [
    "set_df_County_check = set(list_df_County_check)\n",
    "filtered_list = [item for item in new_list if item not in set_df_County_check]"
   ]
  },
  {
   "cell_type": "code",
   "execution_count": 76,
   "id": "63a1fcbd-1fe3-45b7-b401-8d97c2ffeacd",
   "metadata": {
    "tags": []
   },
   "outputs": [
    {
     "name": "stdout",
     "output_type": "stream",
     "text": [
      "2924\n"
     ]
    }
   ],
   "source": [
    "intersection = set(new_list).intersection(set(set_df_County_check))\n",
    "print(len(intersection))"
   ]
  },
  {
   "cell_type": "code",
   "execution_count": 77,
   "id": "17f67a6c-e30f-4747-b838-72f9a60110a2",
   "metadata": {
    "tags": []
   },
   "outputs": [
    {
     "data": {
      "text/plain": [
       "0"
      ]
     },
     "execution_count": 77,
     "metadata": {},
     "output_type": "execute_result"
    }
   ],
   "source": [
    "len(set(filtered_list))"
   ]
  },
  {
   "cell_type": "code",
   "execution_count": 79,
   "id": "f6eb5d6e-d979-4618-99c2-b16390ca860e",
   "metadata": {
    "tags": []
   },
   "outputs": [
    {
     "data": {
      "text/plain": [
       "2519320"
      ]
     },
     "execution_count": 79,
     "metadata": {},
     "output_type": "execute_result"
    }
   ],
   "source": [
    "df_copy[df_copy['countyCode'].isin(list_df_County_check)].shape[0]"
   ]
  },
  {
   "cell_type": "code",
   "execution_count": 80,
   "id": "0866d3dc-2f47-4e23-9148-90441a58c0b5",
   "metadata": {
    "tags": []
   },
   "outputs": [
    {
     "data": {
      "text/plain": [
       "2519320"
      ]
     },
     "execution_count": 80,
     "metadata": {},
     "output_type": "execute_result"
    }
   ],
   "source": [
    "df_copy.shape[0]"
   ]
  },
  {
   "cell_type": "markdown",
   "id": "e768f3c7-1375-4d54-b3e1-ea600366e6cb",
   "metadata": {},
   "source": [
    "#### Tracts"
   ]
  },
  {
   "cell_type": "code",
   "execution_count": 39,
   "id": "ce3bc426-bf01-4362-8d63-07fe58b8f782",
   "metadata": {},
   "outputs": [],
   "source": [
    "# Filter out rows where 'state' is not equal to 'corrected_state'\n",
    "mismatched_df_Tract= df_geographic_unique[df_geographic_unique['state'] != df_geographic_unique['corrected_state_tract']]"
   ]
  },
  {
   "cell_type": "code",
   "execution_count": 40,
   "id": "f1a528af-df92-4f81-ad4f-d1973c693011",
   "metadata": {
    "tags": []
   },
   "outputs": [],
   "source": [
    "list_df_Tract = mismatched_df_Tract['censusTract'].drop_duplicates().to_list()"
   ]
  },
  {
   "cell_type": "code",
   "execution_count": 41,
   "id": "fe791df1-09d4-41c6-b8a0-6051cad54f1a",
   "metadata": {
    "tags": []
   },
   "outputs": [
    {
     "data": {
      "text/plain": [
       "173363"
      ]
     },
     "execution_count": 41,
     "metadata": {},
     "output_type": "execute_result"
    }
   ],
   "source": [
    "df_copy[df_copy['censusTract'].isin(list_df_Tract)].shape[0]"
   ]
  },
  {
   "cell_type": "code",
   "execution_count": 86,
   "id": "899ddd8e-ffde-46f8-98fd-c0b3cdd1332a",
   "metadata": {},
   "outputs": [],
   "source": [
    "list_df_Tract_check = Tract_df['censusTractID'].drop_duplicates().to_list()"
   ]
  },
  {
   "cell_type": "code",
   "execution_count": 87,
   "id": "8eb4dd64-1cfa-4e1f-b06f-79ea62ee4478",
   "metadata": {},
   "outputs": [
    {
     "data": {
      "text/plain": [
       "53266"
      ]
     },
     "execution_count": 87,
     "metadata": {},
     "output_type": "execute_result"
    }
   ],
   "source": [
    "len(list_df_Tract_check)"
   ]
  },
  {
   "cell_type": "code",
   "execution_count": 88,
   "id": "0623f7e2-125d-49f8-8fe1-6a2f3d2652c6",
   "metadata": {},
   "outputs": [],
   "source": [
    "new_list = df_copy['censusTract'].unique().tolist()"
   ]
  },
  {
   "cell_type": "code",
   "execution_count": 89,
   "id": "4b668e6c-07eb-4717-9e5c-d5d90bfa1f0b",
   "metadata": {},
   "outputs": [
    {
     "data": {
      "text/plain": [
       "53268"
      ]
     },
     "execution_count": 89,
     "metadata": {},
     "output_type": "execute_result"
    }
   ],
   "source": [
    "len(new_list)"
   ]
  },
  {
   "cell_type": "code",
   "execution_count": 90,
   "id": "49c8bd35-07ce-4c0d-a6f0-f2c1f4c3b12b",
   "metadata": {},
   "outputs": [],
   "source": [
    "set_df_Tract_check = set(list_df_Tract_check)\n",
    "filtered_list = [item for item in new_list if item not in set_df_Tract_check]"
   ]
  },
  {
   "cell_type": "code",
   "execution_count": 91,
   "id": "85c993c5-bd35-4e75-870d-5a63ba64ffd8",
   "metadata": {
    "tags": []
   },
   "outputs": [
    {
     "name": "stdout",
     "output_type": "stream",
     "text": [
      "53266\n"
     ]
    }
   ],
   "source": [
    "intersection = set(new_list).intersection(set(set_df_Tract_check))\n",
    "print(len(intersection))"
   ]
  },
  {
   "cell_type": "code",
   "execution_count": 92,
   "id": "30799524-75e5-4194-9384-8449c565a6a7",
   "metadata": {
    "tags": []
   },
   "outputs": [
    {
     "data": {
      "text/plain": [
       "2"
      ]
     },
     "execution_count": 92,
     "metadata": {},
     "output_type": "execute_result"
    }
   ],
   "source": [
    "len(set(filtered_list))"
   ]
  },
  {
   "cell_type": "code",
   "execution_count": 93,
   "id": "a3725153-171b-44b0-8f12-86c289307e0e",
   "metadata": {
    "tags": []
   },
   "outputs": [
    {
     "data": {
      "text/plain": [
       "2447259"
      ]
     },
     "execution_count": 93,
     "metadata": {},
     "output_type": "execute_result"
    }
   ],
   "source": [
    "df_copy[df_copy['censusTract'].isin(list_df_Tract_check)].shape[0]"
   ]
  },
  {
   "cell_type": "code",
   "execution_count": 94,
   "id": "97768a8b-6aa4-42d2-b757-06cf7e9524a2",
   "metadata": {},
   "outputs": [
    {
     "data": {
      "text/plain": [
       "2447264"
      ]
     },
     "execution_count": 94,
     "metadata": {},
     "output_type": "execute_result"
    }
   ],
   "source": [
    "df_copy.shape[0]"
   ]
  },
  {
   "cell_type": "code",
   "execution_count": 97,
   "id": "43034489-e9bf-4b30-b5ca-31706310f272",
   "metadata": {
    "tags": []
   },
   "outputs": [
    {
     "data": {
      "text/plain": [
       "0.00020430979248662996"
      ]
     },
     "execution_count": 97,
     "metadata": {},
     "output_type": "execute_result"
    }
   ],
   "source": [
    "(5/2447264)*100"
   ]
  },
  {
   "cell_type": "code",
   "execution_count": 98,
   "id": "cb06808d-8230-4b41-817e-80dd19f3d418",
   "metadata": {},
   "outputs": [
    {
     "data": {
      "text/plain": [
       "136978"
      ]
     },
     "execution_count": 98,
     "metadata": {},
     "output_type": "execute_result"
    }
   ],
   "source": [
    "2584242-2447264"
   ]
  },
  {
   "cell_type": "markdown",
   "id": "b94eedd0-3421-4076-82af-5bdac54655e3",
   "metadata": {},
   "source": [
    "## Geometry for NC"
   ]
  },
  {
   "cell_type": "code",
   "execution_count": 149,
   "id": "ee713797-3214-4a9e-b2f4-6f0125722ea9",
   "metadata": {
    "tags": []
   },
   "outputs": [],
   "source": [
    "lat_long_df.rename(columns={'geometry': 'geometry_lat_long'}, inplace=True)"
   ]
  },
  {
   "cell_type": "code",
   "execution_count": 150,
   "id": "0397905c-aa3e-4ce0-b25a-1f3975e753f4",
   "metadata": {
    "tags": []
   },
   "outputs": [],
   "source": [
    "# Setting the multi-index on lat_long_df\n",
    "lat_long_df.set_index(['latitude', 'longitude'], inplace=True)\n",
    "\n",
    "# Mapping the values\n",
    "df_geographic_unique['geometry_lat_long'] = df_geographic_unique.set_index(['latitude', 'longitude']).index.map(lat_long_df['geometry_lat_long'])\n",
    "\n",
    "# Resetting the index of lat_long_df (optional, but good practice)\n",
    "lat_long_df.reset_index(inplace=True)"
   ]
  },
  {
   "cell_type": "code",
   "execution_count": 151,
   "id": "1dd1a59c-5339-41b2-9675-bf60cd4a1427",
   "metadata": {
    "tags": []
   },
   "outputs": [],
   "source": [
    "BG_df.rename(columns={'geometry': 'geometry_BG'}, inplace=True)"
   ]
  },
  {
   "cell_type": "code",
   "execution_count": 152,
   "id": "93e937fb-2b83-49de-8a2b-b9fb7ace9fbb",
   "metadata": {
    "tags": []
   },
   "outputs": [],
   "source": [
    "# Initial mapping with multi-index\n",
    "BG_df.set_index(['GEOID', 'year'], inplace=True)\n",
    "df_geographic_unique['geometry_BG'] = df_geographic_unique.set_index(['censusBlockGroupFips', 'yearOfLoss_1990_2021']).index.map(BG_df['geometry_BG'])\n",
    "\n",
    "# Find rows with NaN values in 'corrected_state_BG'\n",
    "na_rows = df_geographic_unique['geometry_BG'].isna()\n",
    "\n",
    "# Reset index of BG_df\n",
    "df_single_index = BG_df.reset_index()\n",
    "\n",
    "# Sort by 'year' in descending order\n",
    "df_single_index = df_single_index.sort_values(by='year', ascending=False)\n",
    "\n",
    "# Drop duplicates based on the 'GEOID' column. Keep the first occurrence.\n",
    "df_single_index = df_single_index.drop_duplicates(subset='GEOID', keep='first')\n",
    "\n",
    "# Map these rows using only the 'GEOID'\n",
    "df_geographic_unique.loc[na_rows, 'geometry_BG'] = df_geographic_unique.loc[na_rows, 'censusBlockGroupFips'].map(df_single_index.set_index('GEOID')['geometry_BG'])\n",
    "\n",
    "# Resetting the index of BG_df (return to multi-index)\n",
    "BG_df.reset_index(inplace=True)"
   ]
  },
  {
   "cell_type": "code",
   "execution_count": 154,
   "id": "7ec2d4b7-c82d-4d41-9e5a-e4f037191fed",
   "metadata": {
    "tags": []
   },
   "outputs": [],
   "source": [
    "zipcode_df.rename(columns={'geometry': 'geometry_zipcode'}, inplace=True)"
   ]
  },
  {
   "cell_type": "code",
   "execution_count": 155,
   "id": "6837ec05-b6b2-41bf-988f-86d5d9c4b82e",
   "metadata": {
    "tags": []
   },
   "outputs": [],
   "source": [
    "# Initial mapping with multi-index\n",
    "zipcode_df.set_index(['ZIPcode', 'year'], inplace=True)\n",
    "df_geographic_unique['geometry_zipcode'] = df_geographic_unique.set_index(['reportedZipCode', 'yearOfLoss_2000_2021']).index.map(zipcode_df['geometry_zipcode'])\n",
    "\n",
    "# Find rows with NaN values in 'corrected_state_BG'\n",
    "na_rows = df_geographic_unique['geometry_zipcode'].isna()\n",
    "\n",
    "# Reset index of BG_df\n",
    "df_single_index = zipcode_df.reset_index()\n",
    "\n",
    "# Sort by 'year' in descending order\n",
    "df_single_index = df_single_index.sort_values(by='year', ascending=False)\n",
    "\n",
    "# Drop duplicates based on the 'GEOID' column. Keep the first occurrence.\n",
    "df_single_index = df_single_index.drop_duplicates(subset='ZIPcode', keep='first')\n",
    "\n",
    "# Map these rows using only the 'GEOID'\n",
    "df_geographic_unique.loc[na_rows, 'geometry_zipcode'] = df_geographic_unique.loc[na_rows, 'reportedZipCode'].map(df_single_index.set_index('ZIPcode')['geometry_zipcode'])\n",
    "\n",
    "# Resetting the index of BG_df (return to multi-index)\n",
    "zipcode_df.reset_index(inplace=True)"
   ]
  },
  {
   "cell_type": "code",
   "execution_count": 153,
   "id": "7420d2d4-a009-4a9e-a55f-546485b19fed",
   "metadata": {
    "tags": []
   },
   "outputs": [],
   "source": [
    "import geopandas as gpd\n",
    "from shapely.geometry import Polygon\n",
    "from itertools import product\n",
    "import warnings\n",
    "warnings.filterwarnings(\"ignore\")"
   ]
  },
  {
   "cell_type": "code",
   "execution_count": 156,
   "id": "f1058a64-0987-4c8c-a34b-e77de79324e0",
   "metadata": {
    "tags": []
   },
   "outputs": [],
   "source": [
    "visualize_NC_1 = df_geographic_unique[(df_geographic_unique['state'] == 'NC')]\n",
    "visualize_NC_1 = visualize_NC_1[['state', 'reportedZipCode', 'censusBlockGroupFips', 'latitude', 'longitude', 'yearOfLoss_1990_2021', 'geometry_lat_long', 'geometry_BG', 'geometry_zipcode']]"
   ]
  },
  {
   "cell_type": "code",
   "execution_count": 157,
   "id": "6cf99104-478d-48e3-8aac-f6980b1c06de",
   "metadata": {
    "tags": []
   },
   "outputs": [
    {
     "data": {
      "text/html": [
       "<div>\n",
       "<style scoped>\n",
       "    .dataframe tbody tr th:only-of-type {\n",
       "        vertical-align: middle;\n",
       "    }\n",
       "\n",
       "    .dataframe tbody tr th {\n",
       "        vertical-align: top;\n",
       "    }\n",
       "\n",
       "    .dataframe thead th {\n",
       "        text-align: right;\n",
       "    }\n",
       "</style>\n",
       "<table border=\"1\" class=\"dataframe\">\n",
       "  <thead>\n",
       "    <tr style=\"text-align: right;\">\n",
       "      <th></th>\n",
       "      <th>state</th>\n",
       "      <th>reportedZipCode</th>\n",
       "      <th>censusBlockGroupFips</th>\n",
       "      <th>latitude</th>\n",
       "      <th>longitude</th>\n",
       "      <th>yearOfLoss_1990_2021</th>\n",
       "      <th>geometry_lat_long</th>\n",
       "      <th>geometry_BG</th>\n",
       "      <th>geometry_zipcode</th>\n",
       "    </tr>\n",
       "  </thead>\n",
       "  <tbody>\n",
       "    <tr>\n",
       "      <th>25</th>\n",
       "      <td>NC</td>\n",
       "      <td>28557</td>\n",
       "      <td>370319706051</td>\n",
       "      <td>34.7</td>\n",
       "      <td>-76.8</td>\n",
       "      <td>1990</td>\n",
       "      <td>POLYGON ((-76.85000 34.65000, -76.75000 34.650...</td>\n",
       "      <td>POLYGON ((-76.80839 34.73407, -76.80643 34.734...</td>\n",
       "      <td>MULTIPOLYGON (((-76.68726 34.74715, -76.68729 ...</td>\n",
       "    </tr>\n",
       "    <tr>\n",
       "      <th>31</th>\n",
       "      <td>NC</td>\n",
       "      <td>28646</td>\n",
       "      <td>370119302003</td>\n",
       "      <td>36.0</td>\n",
       "      <td>-81.9</td>\n",
       "      <td>2000</td>\n",
       "      <td>POLYGON ((-81.95000 35.95000, -81.85000 35.950...</td>\n",
       "      <td>POLYGON ((-81.92090 36.06335, -81.92060 36.063...</td>\n",
       "      <td>MULTIPOLYGON (((-81.85616 36.08761, -81.85614 ...</td>\n",
       "    </tr>\n",
       "    <tr>\n",
       "      <th>90</th>\n",
       "      <td>NC</td>\n",
       "      <td>27920</td>\n",
       "      <td>370559705022</td>\n",
       "      <td>35.3</td>\n",
       "      <td>-75.5</td>\n",
       "      <td>2000</td>\n",
       "      <td>POLYGON ((-75.55000 35.25000, -75.45000 35.250...</td>\n",
       "      <td>POLYGON ((-75.75293 35.19666, -75.75154 35.196...</td>\n",
       "      <td>MULTIPOLYGON (((-75.70849 35.20897, -75.70855 ...</td>\n",
       "    </tr>\n",
       "    <tr>\n",
       "      <th>92</th>\n",
       "      <td>NC</td>\n",
       "      <td>28480</td>\n",
       "      <td>371290118003</td>\n",
       "      <td>34.2</td>\n",
       "      <td>-77.8</td>\n",
       "      <td>1990</td>\n",
       "      <td>POLYGON ((-77.85000 34.15000, -77.75000 34.150...</td>\n",
       "      <td>POLYGON ((-77.81240 34.21731, -77.79851 34.209...</td>\n",
       "      <td>MULTIPOLYGON (((-77.80679 34.22079, -77.80642 ...</td>\n",
       "    </tr>\n",
       "    <tr>\n",
       "      <th>94</th>\n",
       "      <td>NC</td>\n",
       "      <td>28480</td>\n",
       "      <td>371290118003</td>\n",
       "      <td>34.2</td>\n",
       "      <td>-77.8</td>\n",
       "      <td>1990</td>\n",
       "      <td>POLYGON ((-77.85000 34.15000, -77.75000 34.150...</td>\n",
       "      <td>POLYGON ((-77.81240 34.21731, -77.79851 34.209...</td>\n",
       "      <td>MULTIPOLYGON (((-77.80679 34.22079, -77.80642 ...</td>\n",
       "    </tr>\n",
       "  </tbody>\n",
       "</table>\n",
       "</div>"
      ],
      "text/plain": [
       "   state reportedZipCode censusBlockGroupFips  latitude  longitude  \\\n",
       "25    NC           28557         370319706051      34.7      -76.8   \n",
       "31    NC           28646         370119302003      36.0      -81.9   \n",
       "90    NC           27920         370559705022      35.3      -75.5   \n",
       "92    NC           28480         371290118003      34.2      -77.8   \n",
       "94    NC           28480         371290118003      34.2      -77.8   \n",
       "\n",
       "    yearOfLoss_1990_2021                                  geometry_lat_long  \\\n",
       "25                  1990  POLYGON ((-76.85000 34.65000, -76.75000 34.650...   \n",
       "31                  2000  POLYGON ((-81.95000 35.95000, -81.85000 35.950...   \n",
       "90                  2000  POLYGON ((-75.55000 35.25000, -75.45000 35.250...   \n",
       "92                  1990  POLYGON ((-77.85000 34.15000, -77.75000 34.150...   \n",
       "94                  1990  POLYGON ((-77.85000 34.15000, -77.75000 34.150...   \n",
       "\n",
       "                                          geometry_BG  \\\n",
       "25  POLYGON ((-76.80839 34.73407, -76.80643 34.734...   \n",
       "31  POLYGON ((-81.92090 36.06335, -81.92060 36.063...   \n",
       "90  POLYGON ((-75.75293 35.19666, -75.75154 35.196...   \n",
       "92  POLYGON ((-77.81240 34.21731, -77.79851 34.209...   \n",
       "94  POLYGON ((-77.81240 34.21731, -77.79851 34.209...   \n",
       "\n",
       "                                     geometry_zipcode  \n",
       "25  MULTIPOLYGON (((-76.68726 34.74715, -76.68729 ...  \n",
       "31  MULTIPOLYGON (((-81.85616 36.08761, -81.85614 ...  \n",
       "90  MULTIPOLYGON (((-75.70849 35.20897, -75.70855 ...  \n",
       "92  MULTIPOLYGON (((-77.80679 34.22079, -77.80642 ...  \n",
       "94  MULTIPOLYGON (((-77.80679 34.22079, -77.80642 ...  "
      ]
     },
     "execution_count": 157,
     "metadata": {},
     "output_type": "execute_result"
    }
   ],
   "source": [
    "visualize_NC_1.head()"
   ]
  },
  {
   "cell_type": "code",
   "execution_count": 183,
   "id": "b4916bb6-b490-4f19-ba78-7367ce7a829d",
   "metadata": {
    "tags": []
   },
   "outputs": [],
   "source": [
    "# Create an empty GeoDataFrame to store the intersection results\n",
    "new_unit_df = gpd.GeoDataFrame(columns=['geographic_unit_id', 'censusBlockGroupFips', 'latitude', 'longitude', 'geometry', 'year', 'state'])\n",
    "\n",
    "# Iterate through each row in BG_df_1990 and each row in lat_long_df to find intersections\n",
    "for idx_unit, row_unit in visualize_NC_1.iterrows():\n",
    "    year = row_unit['yearOfLoss_1990_2021']\n",
    "    bg_id = row_unit['censusBlockGroupFips']\n",
    "    bg_geometry = row_unit['geometry_BG']\n",
    "    state = row_unit['state']\n",
    "    lat_long_geometry = row_unit['geometry_lat_long']\n",
    "    lat = row_unit['latitude']\n",
    "    long = row_unit['longitude']\n",
    "    \n",
    "    # Compute intersection geometry\n",
    "\n",
    "    intersection_geometry = bg_geometry.intersection(lat_long_geometry)\n",
    "\n",
    "    # Check if the intersection result is valid\n",
    "    if not intersection_geometry.is_empty:\n",
    "        # Create a unique ID for the intersection using the year and indices\n",
    "        geographic_unit_id = f\"{year}_{bg_id}_{int(abs(lat) * 10)}_{int(abs(long) * 10)}\"\n",
    "\n",
    "        # Append intersection information to a list\n",
    "        new_unit_df = pd.concat([new_unit_df, pd.DataFrame({\n",
    "            'geographic_unit_id': [geographic_unit_id],\n",
    "            'censusBlockGroupFips': [bg_id],\n",
    "            'latitude': [lat],\n",
    "            'longitude': [long],\n",
    "            'geometry': [intersection_geometry],\n",
    "            'year': [year],\n",
    "            'state': [state]\n",
    "        })], ignore_index=True)"
   ]
  },
  {
   "cell_type": "code",
   "execution_count": 178,
   "id": "5e123c92-607c-45f3-a2ce-4b363c40e1b2",
   "metadata": {
    "tags": []
   },
   "outputs": [],
   "source": [
    "# Create an empty GeoDataFrame to store the intersection results\n",
    "new_unit_df = gpd.GeoDataFrame(columns=['geographic_unit_id', 'ZipCode', 'censusBlockGroupFips', 'latitude', 'longitude', 'geometry', 'year', 'state'])\n",
    "\n",
    "# Iterate through each row in BG_df_1990 and each row in lat_long_df to find intersections\n",
    "for idx_unit, row_unit in visualize_NC_1.iterrows():\n",
    "    year = row_unit['yearOfLoss_1990_2021']\n",
    "    bg_id = row_unit['censusBlockGroupFips']\n",
    "    bg_geometry = row_unit['geometry_BG']\n",
    "    state = row_unit['state']\n",
    "    lat_long_geometry = row_unit['geometry_lat_long']\n",
    "    lat = row_unit['latitude']\n",
    "    long = row_unit['longitude']\n",
    "    zipcode_geometry = row_unit['geometry_zipcode']\n",
    "    zipcode = row_unit['reportedZipCode']\n",
    "    \n",
    "    # Compute intersection geometry\n",
    "    intersection_geometry = bg_geometry.intersection(lat_long_geometry).intersection(zipcode_geometry)\n",
    "\n",
    "    # Check if intersection_geometry is not None and if the intersection result is valid\n",
    "    if intersection_geometry is not None and not intersection_geometry.is_empty:\n",
    "        # Create a unique ID for the intersection using the year and indices\n",
    "        geographic_unit_id = f\"{year}_{zipcode}_{bg_id}_{int(abs(lat) * 10)}_{int(abs(long) * 10)}\"\n",
    "\n",
    "        # Append intersection information to a list\n",
    "        new_unit_df = pd.concat([new_unit_df, pd.DataFrame({\n",
    "            'geographic_unit_id': [geographic_unit_id],\n",
    "            'ZipCode': [zipcode],\n",
    "            'censusBlockGroupFips': [bg_id],\n",
    "            'latitude': [lat],\n",
    "            'longitude': [long],\n",
    "            'geometry': [intersection_geometry],\n",
    "            'year': [year],\n",
    "            'state': [state]\n",
    "        })], ignore_index=True)\n"
   ]
  },
  {
   "cell_type": "code",
   "execution_count": 184,
   "id": "5fbc6f80-c030-4ca0-95ed-c4906bd9ac6a",
   "metadata": {
    "tags": []
   },
   "outputs": [],
   "source": [
    "# gdf = gpd.GeoDataFrame(new_unit_df, geometry='geometry')\n",
    "\n",
    "# # Set the current CRS to WGS 84 (assuming your data is in latitude and longitude)\n",
    "# gdf.crs = \"EPSG:4326\"\n",
    "# gdf_projected = gdf.to_crs(epsg=3857)\n",
    "\n",
    "new_unit_df.set_crs(epsg=4326, inplace=True)\n",
    "\n",
    "new_unit_df['average_area_km2'] = new_unit_df['geometry'].to_crs(epsg=3857).area / 1e6"
   ]
  },
  {
   "cell_type": "code",
   "execution_count": null,
   "id": "e34d9ee3-0f2b-4ad1-a875-f111a1b23176",
   "metadata": {},
   "outputs": [],
   "source": [
    "# Compute the average area in square meters\n",
    "average_area_m2 = gdf_projected.geometry.area.mean()\n",
    "# Convert the area from square meters to square kilometers\n",
    "average_area_km2 = average_area_m2 / 1e6"
   ]
  },
  {
   "cell_type": "code",
   "execution_count": 176,
   "id": "c8d944af-1563-459a-99f4-1f063faf027d",
   "metadata": {
    "tags": []
   },
   "outputs": [
    {
     "data": {
      "text/plain": [
       "1413"
      ]
     },
     "execution_count": 176,
     "metadata": {},
     "output_type": "execute_result"
    }
   ],
   "source": [
    "new_unit_df[new_unit_df['average_area_km2']<1].shape[0]"
   ]
  },
  {
   "cell_type": "code",
   "execution_count": 185,
   "id": "f7a6a89c-1f9c-4ff4-9a0f-6169a01757ca",
   "metadata": {
    "tags": []
   },
   "outputs": [
    {
     "data": {
      "text/plain": [
       "6.493460590888252"
      ]
     },
     "execution_count": 185,
     "metadata": {},
     "output_type": "execute_result"
    }
   ],
   "source": [
    "new_unit_df['geometry'].to_crs(epsg=3857).area.median() / 1e6"
   ]
  },
  {
   "cell_type": "code",
   "execution_count": 186,
   "id": "eef8e84b-db26-4520-add1-faa4328b6b56",
   "metadata": {
    "tags": []
   },
   "outputs": [
    {
     "data": {
      "text/plain": [
       "17.86315454890525"
      ]
     },
     "execution_count": 186,
     "metadata": {},
     "output_type": "execute_result"
    }
   ],
   "source": [
    "new_unit_df['geometry'].to_crs(epsg=3857).area.mean() / 1e6"
   ]
  },
  {
   "cell_type": "code",
   "execution_count": 171,
   "id": "0527c634-561e-442d-ab0d-148c6d73b333",
   "metadata": {
    "tags": []
   },
   "outputs": [
    {
     "data": {
      "text/plain": [
       "15587"
      ]
     },
     "execution_count": 171,
     "metadata": {},
     "output_type": "execute_result"
    }
   ],
   "source": [
    "new_unit_df.shape[0]"
   ]
  },
  {
   "cell_type": "code",
   "execution_count": 163,
   "id": "d45b4e31-ef82-400d-ae61-2902d5b0b780",
   "metadata": {
    "tags": []
   },
   "outputs": [
    {
     "data": {
      "text/html": [
       "<div>\n",
       "<style scoped>\n",
       "    .dataframe tbody tr th:only-of-type {\n",
       "        vertical-align: middle;\n",
       "    }\n",
       "\n",
       "    .dataframe tbody tr th {\n",
       "        vertical-align: top;\n",
       "    }\n",
       "\n",
       "    .dataframe thead th {\n",
       "        text-align: right;\n",
       "    }\n",
       "</style>\n",
       "<table border=\"1\" class=\"dataframe\">\n",
       "  <thead>\n",
       "    <tr style=\"text-align: right;\">\n",
       "      <th></th>\n",
       "      <th>geographic_unit_id</th>\n",
       "      <th>censusBlockGroupFips</th>\n",
       "      <th>latitude</th>\n",
       "      <th>longitude</th>\n",
       "      <th>geometry</th>\n",
       "      <th>year</th>\n",
       "      <th>state</th>\n",
       "      <th>average_area_m2</th>\n",
       "    </tr>\n",
       "  </thead>\n",
       "  <tbody>\n",
       "    <tr>\n",
       "      <th>0</th>\n",
       "      <td>1990_370319706051_347_768</td>\n",
       "      <td>370319706051</td>\n",
       "      <td>34.7</td>\n",
       "      <td>-76.8</td>\n",
       "      <td>POLYGON ((-76.80643 34.73404, -76.80577 34.734...</td>\n",
       "      <td>1990</td>\n",
       "      <td>NC</td>\n",
       "      <td>0.000342</td>\n",
       "    </tr>\n",
       "    <tr>\n",
       "      <th>1</th>\n",
       "      <td>2000_370119302003_360_819</td>\n",
       "      <td>370119302003</td>\n",
       "      <td>36.0</td>\n",
       "      <td>-81.9</td>\n",
       "      <td>POLYGON ((-81.88472 36.04976, -81.88473 36.049...</td>\n",
       "      <td>2000</td>\n",
       "      <td>NC</td>\n",
       "      <td>0.000520</td>\n",
       "    </tr>\n",
       "    <tr>\n",
       "      <th>2</th>\n",
       "      <td>1990_371290118003_342_778</td>\n",
       "      <td>371290118003</td>\n",
       "      <td>34.2</td>\n",
       "      <td>-77.8</td>\n",
       "      <td>POLYGON ((-77.79851 34.20940, -77.80213 34.205...</td>\n",
       "      <td>1990</td>\n",
       "      <td>NC</td>\n",
       "      <td>0.000043</td>\n",
       "    </tr>\n",
       "    <tr>\n",
       "      <th>3</th>\n",
       "      <td>1990_371290118003_342_778</td>\n",
       "      <td>371290118003</td>\n",
       "      <td>34.2</td>\n",
       "      <td>-77.8</td>\n",
       "      <td>POLYGON ((-77.79851 34.20940, -77.80213 34.205...</td>\n",
       "      <td>1990</td>\n",
       "      <td>NC</td>\n",
       "      <td>0.000043</td>\n",
       "    </tr>\n",
       "    <tr>\n",
       "      <th>4</th>\n",
       "      <td>2010_370319706042_347_768</td>\n",
       "      <td>370319706042</td>\n",
       "      <td>34.7</td>\n",
       "      <td>-76.8</td>\n",
       "      <td>POLYGON ((-76.84660 34.73050, -76.84625 34.730...</td>\n",
       "      <td>2010</td>\n",
       "      <td>NC</td>\n",
       "      <td>0.000431</td>\n",
       "    </tr>\n",
       "    <tr>\n",
       "      <th>...</th>\n",
       "      <td>...</td>\n",
       "      <td>...</td>\n",
       "      <td>...</td>\n",
       "      <td>...</td>\n",
       "      <td>...</td>\n",
       "      <td>...</td>\n",
       "      <td>...</td>\n",
       "      <td>...</td>\n",
       "    </tr>\n",
       "    <tr>\n",
       "      <th>15582</th>\n",
       "      <td>2020_370210022052_355_825</td>\n",
       "      <td>370210022052</td>\n",
       "      <td>35.5</td>\n",
       "      <td>-82.5</td>\n",
       "      <td>POLYGON ((-82.51773 35.48078, -82.51737 35.480...</td>\n",
       "      <td>2020</td>\n",
       "      <td>NC</td>\n",
       "      <td>0.000327</td>\n",
       "    </tr>\n",
       "    <tr>\n",
       "      <th>15583</th>\n",
       "      <td>2020_370190205121_339_785</td>\n",
       "      <td>370190205121</td>\n",
       "      <td>33.9</td>\n",
       "      <td>-78.5</td>\n",
       "      <td>POLYGON ((-78.54014 33.87584, -78.53984 33.875...</td>\n",
       "      <td>2020</td>\n",
       "      <td>NC</td>\n",
       "      <td>0.001235</td>\n",
       "    </tr>\n",
       "    <tr>\n",
       "      <th>15584</th>\n",
       "      <td>2020_370710319001_353_812</td>\n",
       "      <td>370710319001</td>\n",
       "      <td>35.3</td>\n",
       "      <td>-81.2</td>\n",
       "      <td>POLYGON ((-81.19237 35.27270, -81.19190 35.272...</td>\n",
       "      <td>2020</td>\n",
       "      <td>NC</td>\n",
       "      <td>0.000050</td>\n",
       "    </tr>\n",
       "    <tr>\n",
       "      <th>15585</th>\n",
       "      <td>2020_371190019122_352_807</td>\n",
       "      <td>371190019122</td>\n",
       "      <td>35.2</td>\n",
       "      <td>-80.7</td>\n",
       "      <td>POLYGON ((-80.73489 35.21157, -80.73463 35.211...</td>\n",
       "      <td>2020</td>\n",
       "      <td>NC</td>\n",
       "      <td>0.000090</td>\n",
       "    </tr>\n",
       "    <tr>\n",
       "      <th>15586</th>\n",
       "      <td>2020_370559706021_359_757</td>\n",
       "      <td>370559706021</td>\n",
       "      <td>35.9</td>\n",
       "      <td>-75.7</td>\n",
       "      <td>POLYGON ((-75.67993 35.88216, -75.67833 35.882...</td>\n",
       "      <td>2020</td>\n",
       "      <td>NC</td>\n",
       "      <td>0.000751</td>\n",
       "    </tr>\n",
       "  </tbody>\n",
       "</table>\n",
       "<p>15587 rows × 8 columns</p>\n",
       "</div>"
      ],
      "text/plain": [
       "              geographic_unit_id censusBlockGroupFips  latitude  longitude  \\\n",
       "0      1990_370319706051_347_768         370319706051      34.7      -76.8   \n",
       "1      2000_370119302003_360_819         370119302003      36.0      -81.9   \n",
       "2      1990_371290118003_342_778         371290118003      34.2      -77.8   \n",
       "3      1990_371290118003_342_778         371290118003      34.2      -77.8   \n",
       "4      2010_370319706042_347_768         370319706042      34.7      -76.8   \n",
       "...                          ...                  ...       ...        ...   \n",
       "15582  2020_370210022052_355_825         370210022052      35.5      -82.5   \n",
       "15583  2020_370190205121_339_785         370190205121      33.9      -78.5   \n",
       "15584  2020_370710319001_353_812         370710319001      35.3      -81.2   \n",
       "15585  2020_371190019122_352_807         371190019122      35.2      -80.7   \n",
       "15586  2020_370559706021_359_757         370559706021      35.9      -75.7   \n",
       "\n",
       "                                                geometry  year state  \\\n",
       "0      POLYGON ((-76.80643 34.73404, -76.80577 34.734...  1990    NC   \n",
       "1      POLYGON ((-81.88472 36.04976, -81.88473 36.049...  2000    NC   \n",
       "2      POLYGON ((-77.79851 34.20940, -77.80213 34.205...  1990    NC   \n",
       "3      POLYGON ((-77.79851 34.20940, -77.80213 34.205...  1990    NC   \n",
       "4      POLYGON ((-76.84660 34.73050, -76.84625 34.730...  2010    NC   \n",
       "...                                                  ...   ...   ...   \n",
       "15582  POLYGON ((-82.51773 35.48078, -82.51737 35.480...  2020    NC   \n",
       "15583  POLYGON ((-78.54014 33.87584, -78.53984 33.875...  2020    NC   \n",
       "15584  POLYGON ((-81.19237 35.27270, -81.19190 35.272...  2020    NC   \n",
       "15585  POLYGON ((-80.73489 35.21157, -80.73463 35.211...  2020    NC   \n",
       "15586  POLYGON ((-75.67993 35.88216, -75.67833 35.882...  2020    NC   \n",
       "\n",
       "       average_area_m2  \n",
       "0             0.000342  \n",
       "1             0.000520  \n",
       "2             0.000043  \n",
       "3             0.000043  \n",
       "4             0.000431  \n",
       "...                ...  \n",
       "15582         0.000327  \n",
       "15583         0.001235  \n",
       "15584         0.000050  \n",
       "15585         0.000090  \n",
       "15586         0.000751  \n",
       "\n",
       "[15587 rows x 8 columns]"
      ]
     },
     "execution_count": 163,
     "metadata": {},
     "output_type": "execute_result"
    }
   ],
   "source": [
    "gdf = gpd.GeoDataFrame(visualize_NC, geometry='geometry')\n",
    "\n",
    "# Set the current CRS to WGS 84 (assuming your data is in latitude and longitude)\n",
    "gdf.crs = \"EPSG:4326\"\n",
    "\n",
    "# Project the GeoDataFrame to a suitable CRS (using Web Mercator here for demonstration)\n",
    "gdf_projected = gdf.to_crs(epsg=3857)\n",
    "\n",
    "# Compute the average area in square meters\n",
    "average_area_m2 = gdf_projected.geometry.area.mean()\n",
    "# Convert the area from square meters to square kilometers\n",
    "average_area_km2 = average_area_m2 / 1e6"
   ]
  },
  {
   "cell_type": "code",
   "execution_count": 167,
   "id": "479745bb-a0bd-4716-90bd-73733e44f421",
   "metadata": {
    "tags": []
   },
   "outputs": [
    {
     "data": {
      "text/plain": [
       "5865"
      ]
     },
     "execution_count": 167,
     "metadata": {},
     "output_type": "execute_result"
    }
   ],
   "source": [
    "visualize_NC.shape[0]"
   ]
  },
  {
   "cell_type": "code",
   "execution_count": 203,
   "id": "586d2bff-7f66-4948-94ce-238055b8abb0",
   "metadata": {
    "tags": []
   },
   "outputs": [
    {
     "name": "stdout",
     "output_type": "stream",
     "text": [
      "Average Area: 16.937971877223628 square kilometers\n"
     ]
    },
    {
     "data": {
      "image/png": "[encoded data removed]",
      "text/plain": [
       "<Figure size 1000x1000 with 1 Axes>"
      ]
     },
     "metadata": {},
     "output_type": "display_data"
    }
   ],
   "source": [
    "visualize_NC = new_unit_df[(new_unit_df['state'] == 'NC') & (new_unit_df['year'] == 2010)]\n",
    "\n",
    "# centroids = visualize_NC.geometry.centroid\n",
    "\n",
    "# # Filter the rows where the y-coordinate (latitude) of the centroid is greater than 42\n",
    "# visualize_NC = visualize_NC[centroids.y < 37]\n",
    "# Convert the DataFrame to a GeoDataFrame\n",
    "gdf = gpd.GeoDataFrame(visualize_NC, geometry='geometry')\n",
    "\n",
    "# Set the current CRS to WGS 84 (assuming your data is in latitude and longitude)\n",
    "gdf.crs = \"EPSG:4326\"\n",
    "\n",
    "# Project the GeoDataFrame to a suitable CRS (using Web Mercator here for demonstration)\n",
    "gdf_projected = gdf.to_crs(epsg=3857)\n",
    "\n",
    "# Compute the average area in square meters\n",
    "average_area_m2 = gdf_projected.geometry.area.mean()\n",
    "# Convert the area from square meters to square kilometers\n",
    "average_area_km2 = average_area_m2 / 1e6\n",
    "print(f\"Average Area: {average_area_km2} square kilometers\")\n",
    "\n",
    "# Plot using the 'viridis' colormap\n",
    "gdf.plot(edgecolor=\"black\", cmap='Reds', figsize=(10, 10))\n",
    "\n",
    "plt.xlabel('Longitude')\n",
    "plt.ylabel('Latitude')\n",
    "plt.title('NC Boundary: Using New Geographic unit geometries for 2010')\n",
    "\n",
    "plt.show()"
   ]
  },
  {
   "cell_type": "code",
   "execution_count": null,
   "id": "f2c59620-7ca1-4fca-8416-a79e305a5e92",
   "metadata": {
    "tags": []
   },
   "outputs": [],
   "source": [
    "new_unit_df"
   ]
  },
  {
   "cell_type": "code",
   "execution_count": 206,
   "id": "c081942a-cbce-432e-8b77-ce64b8f73b3d",
   "metadata": {},
   "outputs": [
    {
     "data": {
      "text/plain": [
       "0"
      ]
     },
     "execution_count": 206,
     "metadata": {},
     "output_type": "execute_result"
    }
   ],
   "source": [
    "sum(visualize_NC['geometry'].is_empty)"
   ]
  },
  {
   "cell_type": "code",
   "execution_count": 217,
   "id": "d76a8854-ae8d-4438-a9d9-5277b04561bd",
   "metadata": {},
   "outputs": [
    {
     "name": "stdout",
     "output_type": "stream",
     "text": [
      "Average Area: 22.199438765735216 square kilometers\n"
     ]
    },
    {
     "data": {
      "image/png": "[encoded data removed]",
      "text/plain": [
       "<Figure size 1000x1000 with 1 Axes>"
      ]
     },
     "metadata": {},
     "output_type": "display_data"
    }
   ],
   "source": [
    "visualize_NC = new_unit_df[(new_unit_df['state'] == 'NC') & (new_unit_df['year'] == 2010)]\n",
    "\n",
    "# centroids = visualize_NC.geometry.centroid\n",
    "\n",
    "# # Filter the rows where the y-coordinate (latitude) of the centroid is greater than 42\n",
    "# visualize_NC = visualize_NC[centroids.y < 37]\n",
    "# Convert the DataFrame to a GeoDataFrame\n",
    "gdf = gpd.GeoDataFrame(visualize_NC, geometry='geometry')\n",
    "\n",
    "# Set the current CRS to WGS 84 (assuming your data is in latitude and longitude)\n",
    "gdf.crs = \"EPSG:4326\"\n",
    "\n",
    "# Project the GeoDataFrame to a suitable CRS (using Web Mercator here for demonstration)\n",
    "gdf_projected = gdf.to_crs(epsg=3857)\n",
    "\n",
    "# Compute the average area in square meters\n",
    "average_area_m2 = gdf_projected.geometry.area.mean()\n",
    "# Convert the area from square meters to square kilometers\n",
    "average_area_km2 = average_area_m2 / 1e6\n",
    "print(f\"Average Area: {average_area_km2} square kilometers\")\n",
    "\n",
    "# Plot using the 'viridis' colormap\n",
    "gdf.plot(edgecolor=\"black\", cmap='Reds', figsize=(10, 10))\n",
    "\n",
    "plt.xlabel('Longitude')\n",
    "plt.ylabel('Latitude')\n",
    "plt.title('NC Boundary: Using New Geographic unit geometries for 2010')\n",
    "\n",
    "plt.show()"
   ]
  },
  {
   "cell_type": "code",
   "execution_count": null,
   "id": "10e96458-4cad-4810-9814-09388d3b4025",
   "metadata": {},
   "outputs": [],
   "source": []
  },
  {
   "cell_type": "code",
   "execution_count": null,
   "id": "07787f3b-d0e2-4bff-8168-03237af9e76e",
   "metadata": {},
   "outputs": [],
   "source": []
  },
  {
   "cell_type": "code",
   "execution_count": null,
   "id": "26779afd-af6e-4c7e-bb4f-54b0e9fa81dd",
   "metadata": {},
   "outputs": [],
   "source": []
  },
  {
   "cell_type": "code",
   "execution_count": 207,
   "id": "0a2b3bc0-952a-41ad-8f6c-de257c227c57",
   "metadata": {
    "tags": []
   },
   "outputs": [],
   "source": [
    "# Create an empty GeoDataFrame to store the intersection results\n",
    "new_unit_df = gpd.GeoDataFrame(columns=['geographic_unit_id', 'censusBlockGroupFips', 'latitude', 'longitude', 'geometry', 'year', 'state'])\n",
    "\n",
    "# Iterate through each row in BG_df_1990 and each row in lat_long_df to find intersections\n",
    "for idx_unit, row_unit in visualize_NC_1.iterrows():\n",
    "    year = row_unit['yearOfLoss_1990_2021']\n",
    "    bg_id = row_unit['censusBlockGroupFips']\n",
    "    bg_geometry = row_unit['geometry_BG']\n",
    "    state = row_unit['state']\n",
    "    lat_long_geometry = row_unit['geometry_lat_long']\n",
    "    lat = row_unit['latitude']\n",
    "    long = row_unit['longitude']\n",
    "    \n",
    "    # Compute intersection geometry\n",
    "\n",
    "    intersection_geometry = bg_geometry.intersection(lat_long_geometry)\n",
    "\n",
    "    # Check if the intersection result is valid\n",
    "    # Create a unique ID for the intersection using the year and indices\n",
    "    geographic_unit_id = f\"{year}_{bg_id}_{int(abs(lat) * 10)}_{int(abs(long) * 10)}\"\n",
    "\n",
    "    # Append intersection information to a list\n",
    "    new_unit_df = pd.concat([new_unit_df, pd.DataFrame({\n",
    "        'geographic_unit_id': [geographic_unit_id],\n",
    "        'censusBlockGroupFips': [bg_id],\n",
    "        'latitude': [lat],\n",
    "        'longitude': [long],\n",
    "        'geometry': [intersection_geometry],\n",
    "        'year': [year],\n",
    "        'state': [state]\n",
    "    })], ignore_index=True)"
   ]
  },
  {
   "cell_type": "code",
   "execution_count": 208,
   "id": "18130382-684d-421e-958b-3b4fd7f02b89",
   "metadata": {
    "tags": []
   },
   "outputs": [
    {
     "data": {
      "text/plain": [
       "429"
      ]
     },
     "execution_count": 208,
     "metadata": {},
     "output_type": "execute_result"
    }
   ],
   "source": [
    "sum(new_unit_df['geometry'].is_empty)"
   ]
  },
  {
   "cell_type": "code",
   "execution_count": 216,
   "id": "6109269e-a97e-48a9-91c0-80323a75c54c",
   "metadata": {
    "tags": []
   },
   "outputs": [
    {
     "data": {
      "text/html": [
       "<div>\n",
       "<style scoped>\n",
       "    .dataframe tbody tr th:only-of-type {\n",
       "        vertical-align: middle;\n",
       "    }\n",
       "\n",
       "    .dataframe tbody tr th {\n",
       "        vertical-align: top;\n",
       "    }\n",
       "\n",
       "    .dataframe thead th {\n",
       "        text-align: right;\n",
       "    }\n",
       "</style>\n",
       "<table border=\"1\" class=\"dataframe\">\n",
       "  <thead>\n",
       "    <tr style=\"text-align: right;\">\n",
       "      <th></th>\n",
       "      <th>geographic_unit_id</th>\n",
       "      <th>censusBlockGroupFips</th>\n",
       "      <th>latitude</th>\n",
       "      <th>longitude</th>\n",
       "      <th>geometry</th>\n",
       "      <th>year</th>\n",
       "      <th>state</th>\n",
       "    </tr>\n",
       "  </thead>\n",
       "  <tbody>\n",
       "    <tr>\n",
       "      <th>2</th>\n",
       "      <td>2000_370559705022_353_755</td>\n",
       "      <td>370559705022</td>\n",
       "      <td>35.3</td>\n",
       "      <td>-75.5</td>\n",
       "      <td>POLYGON EMPTY</td>\n",
       "      <td>2000</td>\n",
       "      <td>NC</td>\n",
       "    </tr>\n",
       "    <tr>\n",
       "      <th>27</th>\n",
       "      <td>1990_370531104011_364_759</td>\n",
       "      <td>370531104011</td>\n",
       "      <td>36.4</td>\n",
       "      <td>-75.9</td>\n",
       "      <td>POLYGON EMPTY</td>\n",
       "      <td>1990</td>\n",
       "      <td>NC</td>\n",
       "    </tr>\n",
       "    <tr>\n",
       "      <th>40</th>\n",
       "      <td>1990_370319701021_350_766</td>\n",
       "      <td>370319701021</td>\n",
       "      <td>35.0</td>\n",
       "      <td>-76.6</td>\n",
       "      <td>POLYGON EMPTY</td>\n",
       "      <td>1990</td>\n",
       "      <td>NC</td>\n",
       "    </tr>\n",
       "    <tr>\n",
       "      <th>133</th>\n",
       "      <td>1990_370139306002_355_770</td>\n",
       "      <td>370139306002</td>\n",
       "      <td>35.5</td>\n",
       "      <td>-77.0</td>\n",
       "      <td>POLYGON EMPTY</td>\n",
       "      <td>1990</td>\n",
       "      <td>NC</td>\n",
       "    </tr>\n",
       "    <tr>\n",
       "      <th>174</th>\n",
       "      <td>2000_370319701022_348_765</td>\n",
       "      <td>370319701022</td>\n",
       "      <td>34.8</td>\n",
       "      <td>-76.5</td>\n",
       "      <td>POLYGON EMPTY</td>\n",
       "      <td>2000</td>\n",
       "      <td>NC</td>\n",
       "    </tr>\n",
       "    <tr>\n",
       "      <th>...</th>\n",
       "      <td>...</td>\n",
       "      <td>...</td>\n",
       "      <td>...</td>\n",
       "      <td>...</td>\n",
       "      <td>...</td>\n",
       "      <td>...</td>\n",
       "      <td>...</td>\n",
       "    </tr>\n",
       "    <tr>\n",
       "      <th>15870</th>\n",
       "      <td>2020_371879501006_359_767</td>\n",
       "      <td>371879501006</td>\n",
       "      <td>35.9</td>\n",
       "      <td>-76.7</td>\n",
       "      <td>POLYGON EMPTY</td>\n",
       "      <td>2020</td>\n",
       "      <td>NC</td>\n",
       "    </tr>\n",
       "    <tr>\n",
       "      <th>15939</th>\n",
       "      <td>2020_370319701022_348_765</td>\n",
       "      <td>370319701022</td>\n",
       "      <td>34.8</td>\n",
       "      <td>-76.5</td>\n",
       "      <td>POLYGON EMPTY</td>\n",
       "      <td>2020</td>\n",
       "      <td>NC</td>\n",
       "    </tr>\n",
       "    <tr>\n",
       "      <th>15945</th>\n",
       "      <td>2020_370139306002_355_770</td>\n",
       "      <td>370139306002</td>\n",
       "      <td>35.5</td>\n",
       "      <td>-77.0</td>\n",
       "      <td>POLYGON EMPTY</td>\n",
       "      <td>2020</td>\n",
       "      <td>NC</td>\n",
       "    </tr>\n",
       "    <tr>\n",
       "      <th>15977</th>\n",
       "      <td>2020_370319701022_348_765</td>\n",
       "      <td>370319701022</td>\n",
       "      <td>34.8</td>\n",
       "      <td>-76.5</td>\n",
       "      <td>POLYGON EMPTY</td>\n",
       "      <td>2020</td>\n",
       "      <td>NC</td>\n",
       "    </tr>\n",
       "    <tr>\n",
       "      <th>15982</th>\n",
       "      <td>2020_370319701021_350_767</td>\n",
       "      <td>370319701021</td>\n",
       "      <td>35.0</td>\n",
       "      <td>-76.7</td>\n",
       "      <td>POLYGON EMPTY</td>\n",
       "      <td>2020</td>\n",
       "      <td>NC</td>\n",
       "    </tr>\n",
       "  </tbody>\n",
       "</table>\n",
       "<p>429 rows × 7 columns</p>\n",
       "</div>"
      ],
      "text/plain": [
       "              geographic_unit_id censusBlockGroupFips  latitude  longitude  \\\n",
       "2      2000_370559705022_353_755         370559705022      35.3      -75.5   \n",
       "27     1990_370531104011_364_759         370531104011      36.4      -75.9   \n",
       "40     1990_370319701021_350_766         370319701021      35.0      -76.6   \n",
       "133    1990_370139306002_355_770         370139306002      35.5      -77.0   \n",
       "174    2000_370319701022_348_765         370319701022      34.8      -76.5   \n",
       "...                          ...                  ...       ...        ...   \n",
       "15870  2020_371879501006_359_767         371879501006      35.9      -76.7   \n",
       "15939  2020_370319701022_348_765         370319701022      34.8      -76.5   \n",
       "15945  2020_370139306002_355_770         370139306002      35.5      -77.0   \n",
       "15977  2020_370319701022_348_765         370319701022      34.8      -76.5   \n",
       "15982  2020_370319701021_350_767         370319701021      35.0      -76.7   \n",
       "\n",
       "            geometry  year state  \n",
       "2      POLYGON EMPTY  2000    NC  \n",
       "27     POLYGON EMPTY  1990    NC  \n",
       "40     POLYGON EMPTY  1990    NC  \n",
       "133    POLYGON EMPTY  1990    NC  \n",
       "174    POLYGON EMPTY  2000    NC  \n",
       "...              ...   ...   ...  \n",
       "15870  POLYGON EMPTY  2020    NC  \n",
       "15939  POLYGON EMPTY  2020    NC  \n",
       "15945  POLYGON EMPTY  2020    NC  \n",
       "15977  POLYGON EMPTY  2020    NC  \n",
       "15982  POLYGON EMPTY  2020    NC  \n",
       "\n",
       "[429 rows x 7 columns]"
      ]
     },
     "execution_count": 216,
     "metadata": {},
     "output_type": "execute_result"
    }
   ],
   "source": [
    "new_unit_df[new_unit_df['geometry'].is_empty]"
   ]
  },
  {
   "cell_type": "code",
   "execution_count": 213,
   "id": "0f07e11a-5f97-48b2-b199-b209d28a5599",
   "metadata": {
    "tags": []
   },
   "outputs": [
    {
     "data": {
      "text/plain": [
       "16016"
      ]
     },
     "execution_count": 213,
     "metadata": {},
     "output_type": "execute_result"
    }
   ],
   "source": [
    "visualize_NC_1.shape[0]"
   ]
  },
  {
   "cell_type": "code",
   "execution_count": 214,
   "id": "416319ac-90e7-4fa9-b511-0c860c6e8e9b",
   "metadata": {
    "tags": []
   },
   "outputs": [
    {
     "data": {
      "text/plain": [
       "16016"
      ]
     },
     "execution_count": 214,
     "metadata": {},
     "output_type": "execute_result"
    }
   ],
   "source": [
    "new_unit_df.shape[0]"
   ]
  },
  {
   "cell_type": "code",
   "execution_count": 209,
   "id": "5733e5b7-0fa6-420c-b894-0e2ca483a605",
   "metadata": {
    "tags": []
   },
   "outputs": [],
   "source": [
    "# Create an empty GeoDataFrame to store the intersection results\n",
    "new_unit_df2 = gpd.GeoDataFrame(columns=['geographic_unit_id', 'ZipCode', 'censusBlockGroupFips', 'latitude', 'longitude', 'geometry', 'year', 'state'])\n",
    "\n",
    "# Iterate through each row in BG_df_1990 and each row in lat_long_df to find intersections\n",
    "for idx_unit, row_unit in visualize_NC_1.iterrows():\n",
    "    year = row_unit['yearOfLoss_1990_2021']\n",
    "    bg_id = row_unit['censusBlockGroupFips']\n",
    "    bg_geometry = row_unit['geometry_BG']\n",
    "    state = row_unit['state']\n",
    "    lat_long_geometry = row_unit['geometry_lat_long']\n",
    "    lat = row_unit['latitude']\n",
    "    long = row_unit['longitude']\n",
    "    zipcode_geometry = row_unit['geometry_zipcode']\n",
    "    zipcode = row_unit['reportedZipCode']\n",
    "    \n",
    "    # Compute intersection geometry\n",
    "    intersection_geometry = bg_geometry.intersection(lat_long_geometry).intersection(zipcode_geometry)\n",
    "\n",
    "    # Check if intersection_geometry is not None and if the intersection result is valid\n",
    "    if intersection_geometry is not None:\n",
    "        # Create a unique ID for the intersection using the year and indices\n",
    "        geographic_unit_id = f\"{year}_{zipcode}_{bg_id}_{int(abs(lat) * 10)}_{int(abs(long) * 10)}\"\n",
    "\n",
    "        # Append intersection information to a list\n",
    "        new_unit_df2 = pd.concat([new_unit_df2, pd.DataFrame({\n",
    "            'geographic_unit_id': [geographic_unit_id],\n",
    "            'ZipCode': [zipcode],\n",
    "            'censusBlockGroupFips': [bg_id],\n",
    "            'latitude': [lat],\n",
    "            'longitude': [long],\n",
    "            'geometry': [intersection_geometry],\n",
    "            'year': [year],\n",
    "            'state': [state]\n",
    "        })], ignore_index=True)\n"
   ]
  },
  {
   "cell_type": "code",
   "execution_count": 210,
   "id": "99418a0f-2cbf-40dc-a8b5-53d5e14efaf3",
   "metadata": {
    "tags": []
   },
   "outputs": [
    {
     "data": {
      "text/plain": [
       "1394"
      ]
     },
     "execution_count": 210,
     "metadata": {},
     "output_type": "execute_result"
    }
   ],
   "source": [
    "sum(new_unit_df2['geometry'].is_empty)"
   ]
  },
  {
   "cell_type": "code",
   "execution_count": 215,
   "id": "07f6eb77-f142-4c20-8711-02d0ad6eda99",
   "metadata": {
    "tags": []
   },
   "outputs": [
    {
     "data": {
      "text/plain": [
       "15679"
      ]
     },
     "execution_count": 215,
     "metadata": {},
     "output_type": "execute_result"
    }
   ],
   "source": [
    " new_unit_df2.shape[0]"
   ]
  },
  {
   "cell_type": "code",
   "execution_count": null,
   "id": "be6bedd4-79e6-43ec-83f3-c0119b65aec9",
   "metadata": {},
   "outputs": [],
   "source": []
  }
 ],
 "metadata": {
  "kernelspec": {
   "display_name": "Python 3 (ipykernel)",
   "language": "python",
   "name": "python3"
  },
  "language_info": {
   "codemirror_mode": {
    "name": "ipython",
    "version": 3
   },
   "file_extension": ".py",
   "mimetype": "text/x-python",
   "name": "python",
   "nbconvert_exporter": "python",
   "pygments_lexer": "ipython3",
   "version": "3.8.17"
  }
 },
 "nbformat": 4,
 "nbformat_minor": 5
}
