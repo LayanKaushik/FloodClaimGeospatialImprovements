{
 "cells": [
  {
   "cell_type": "code",
   "execution_count": 1,
   "id": "71dfb328-4441-46b1-95e5-fa68679bede6",
   "metadata": {
    "tags": []
   },
   "outputs": [],
   "source": [
    "import pandas as pd\n",
    "import numpy as np\n",
    "import matplotlib.pyplot as plt\n",
    "import pyarrow as pa\n",
    "import pyarrow.parquet as pq\n",
    "import geopandas as gpd\n",
    "import seaborn as sns\n",
    "\n",
    "#Packages\n",
    "import pandas as pd\n",
    "import matplotlib.pyplot as plt\n",
    "import matplotlib.ticker as mtick\n",
    "import numpy as np\n",
    "from scipy import stats\n",
    "pd.set_option('display.max_columns', None)\n",
    "\n",
    "from scipy.stats import skew, kurtosis\n",
    "\n",
    "import pygris\n",
    "from shapely.geometry import Polygon\n",
    "\n",
    "import shapely"
   ]
  },
  {
   "cell_type": "code",
   "execution_count": 2,
   "id": "a6966571-568c-42dd-9531-8822b2ac50b9",
   "metadata": {
    "tags": []
   },
   "outputs": [],
   "source": [
    "df = pd.read_parquet(\"C:/Users/Asus/Box/Flood Damage PredictionProject/Dataset/FimaNfipClaims.parquet.gzip\")"
   ]
  },
  {
   "cell_type": "code",
   "execution_count": 3,
   "id": "bf958929-b437-4ec7-b7b0-d1df0609e65d",
   "metadata": {
    "tags": []
   },
   "outputs": [],
   "source": [
    "df_geographic_unique = df[['state', 'reportedZipCode', 'countyCode', 'censusTract', 'censusBlockGroupFips', 'latitude', 'longitude', 'yearOfLoss']].drop_duplicates()"
   ]
  },
  {
   "cell_type": "code",
   "execution_count": 4,
   "id": "e35267e8-0c2d-4054-bd83-ffd9e734a3cb",
   "metadata": {
    "tags": []
   },
   "outputs": [],
   "source": [
    "df_geographic_unique = df_geographic_unique.dropna(subset=['censusBlockGroupFips', 'reportedZipCode', 'countyCode'])"
   ]
  },
  {
   "cell_type": "code",
   "execution_count": 5,
   "id": "5df87aae-997f-4e54-a167-4dc4b7c3b3ff",
   "metadata": {
    "tags": []
   },
   "outputs": [],
   "source": [
    "df_geographic_unique['reportedZipCode'] = df_geographic_unique['reportedZipCode'].dropna().astype(int).astype(str)\n",
    "df_geographic_unique['reportedZipCode'] = [zipcode.zfill(5) for zipcode in df_geographic_unique['reportedZipCode']]\n",
    "\n",
    "df_geographic_unique['censusBlockGroupFips'] = [str(int(float(i))) for i in df_geographic_unique['censusBlockGroupFips']]\n",
    "df_geographic_unique['censusBlockGroupFips'] = [censusBG.zfill(12) for censusBG in df_geographic_unique['censusBlockGroupFips']]\n",
    "\n",
    "df_geographic_unique['countyCode'] = [str(int(float(i))) for i in df_geographic_unique['countyCode']]\n",
    "df_geographic_unique['countyCode'] = [censusBG.zfill(5) for censusBG in df_geographic_unique['countyCode']]\n",
    "\n",
    "df_geographic_unique['censusTract'] = [str(int(float(i))) for i in df_geographic_unique['censusTract']]\n",
    "df_geographic_unique['censusTract'] = [censusBG.zfill(11) for censusBG in df_geographic_unique['censusTract']]"
   ]
  },
  {
   "cell_type": "code",
   "execution_count": 6,
   "id": "2736cf90-af6f-4fcc-8f68-42529db84bf3",
   "metadata": {
    "tags": []
   },
   "outputs": [],
   "source": [
    "# Define bins and labels for yearOfLoss_2000_2021\n",
    "bins_2000_2021 = [df_geographic_unique['yearOfLoss'].min(), 2010, 2020, df_geographic_unique['yearOfLoss'].max() + 1]\n",
    "labels_2000_2021 = [2000, 2010, 2020]\n",
    "\n",
    "df_geographic_unique['yearOfLoss_2000_2021'] = pd.cut(df_geographic_unique['yearOfLoss'], bins=bins_2000_2021, labels=labels_2000_2021, right=False).astype(int)\n",
    "\n",
    "# Define bins and labels for yearOfLoss_1990_2021\n",
    "bins_1990_2021 = [df_geographic_unique['yearOfLoss'].min(), 2000, 2010, 2020, df_geographic_unique['yearOfLoss'].max() + 1]\n",
    "labels_1990_2021 = [1990, 2000, 2010, 2020]\n",
    "\n",
    "df_geographic_unique['yearOfLoss_1990_2021'] = pd.cut(df_geographic_unique['yearOfLoss'], bins=bins_1990_2021, labels=labels_1990_2021, right=False).astype(int)\n",
    "\n",
    "df_geographic_unique = df_geographic_unique.drop(columns='yearOfLoss')"
   ]
  },
  {
   "cell_type": "code",
   "execution_count": 7,
   "id": "1a99da85-17d6-4acf-850f-972b290a5b32",
   "metadata": {
    "tags": []
   },
   "outputs": [
    {
     "data": {
      "text/html": [
       "<div>\n",
       "<style scoped>\n",
       "    .dataframe tbody tr th:only-of-type {\n",
       "        vertical-align: middle;\n",
       "    }\n",
       "\n",
       "    .dataframe tbody tr th {\n",
       "        vertical-align: top;\n",
       "    }\n",
       "\n",
       "    .dataframe thead th {\n",
       "        text-align: right;\n",
       "    }\n",
       "</style>\n",
       "<table border=\"1\" class=\"dataframe\">\n",
       "  <thead>\n",
       "    <tr style=\"text-align: right;\">\n",
       "      <th></th>\n",
       "      <th>state</th>\n",
       "      <th>reportedZipCode</th>\n",
       "      <th>countyCode</th>\n",
       "      <th>censusTract</th>\n",
       "      <th>censusBlockGroupFips</th>\n",
       "      <th>latitude</th>\n",
       "      <th>longitude</th>\n",
       "      <th>yearOfLoss_2000_2021</th>\n",
       "      <th>yearOfLoss_1990_2021</th>\n",
       "    </tr>\n",
       "  </thead>\n",
       "  <tbody>\n",
       "    <tr>\n",
       "      <th>0</th>\n",
       "      <td>CA</td>\n",
       "      <td>92056</td>\n",
       "      <td>06073</td>\n",
       "      <td>06073018512</td>\n",
       "      <td>060730185123</td>\n",
       "      <td>33.2</td>\n",
       "      <td>-117.3</td>\n",
       "      <td>2000</td>\n",
       "      <td>1990</td>\n",
       "    </tr>\n",
       "    <tr>\n",
       "      <th>1</th>\n",
       "      <td>LA</td>\n",
       "      <td>70131</td>\n",
       "      <td>22071</td>\n",
       "      <td>22071000616</td>\n",
       "      <td>220710006163</td>\n",
       "      <td>29.9</td>\n",
       "      <td>-90.0</td>\n",
       "      <td>2000</td>\n",
       "      <td>2000</td>\n",
       "    </tr>\n",
       "    <tr>\n",
       "      <th>2</th>\n",
       "      <td>FL</td>\n",
       "      <td>32566</td>\n",
       "      <td>12113</td>\n",
       "      <td>12113010815</td>\n",
       "      <td>121130108152</td>\n",
       "      <td>30.4</td>\n",
       "      <td>-86.9</td>\n",
       "      <td>2000</td>\n",
       "      <td>1990</td>\n",
       "    </tr>\n",
       "    <tr>\n",
       "      <th>3</th>\n",
       "      <td>SC</td>\n",
       "      <td>29902</td>\n",
       "      <td>45013</td>\n",
       "      <td>45013000700</td>\n",
       "      <td>450130007002</td>\n",
       "      <td>32.4</td>\n",
       "      <td>-80.7</td>\n",
       "      <td>2000</td>\n",
       "      <td>1990</td>\n",
       "    </tr>\n",
       "    <tr>\n",
       "      <th>4</th>\n",
       "      <td>FL</td>\n",
       "      <td>32940</td>\n",
       "      <td>12009</td>\n",
       "      <td>12009063107</td>\n",
       "      <td>120090631073</td>\n",
       "      <td>28.3</td>\n",
       "      <td>-80.7</td>\n",
       "      <td>2000</td>\n",
       "      <td>1990</td>\n",
       "    </tr>\n",
       "  </tbody>\n",
       "</table>\n",
       "</div>"
      ],
      "text/plain": [
       "  state reportedZipCode countyCode  censusTract censusBlockGroupFips  \\\n",
       "0    CA           92056      06073  06073018512         060730185123   \n",
       "1    LA           70131      22071  22071000616         220710006163   \n",
       "2    FL           32566      12113  12113010815         121130108152   \n",
       "3    SC           29902      45013  45013000700         450130007002   \n",
       "4    FL           32940      12009  12009063107         120090631073   \n",
       "\n",
       "   latitude  longitude  yearOfLoss_2000_2021  yearOfLoss_1990_2021  \n",
       "0      33.2     -117.3                  2000                  1990  \n",
       "1      29.9      -90.0                  2000                  2000  \n",
       "2      30.4      -86.9                  2000                  1990  \n",
       "3      32.4      -80.7                  2000                  1990  \n",
       "4      28.3      -80.7                  2000                  1990  "
      ]
     },
     "execution_count": 7,
     "metadata": {},
     "output_type": "execute_result"
    }
   ],
   "source": [
    "df_geographic_unique.head()"
   ]
  },
  {
   "cell_type": "markdown",
   "id": "cb09ee45-ff8b-4aa1-a9d0-05d5732f785c",
   "metadata": {},
   "source": [
    "## Read shapefiles"
   ]
  },
  {
   "cell_type": "code",
   "execution_count": 8,
   "id": "c081d3eb-d90d-4e7d-aff8-cc93e50c14c3",
   "metadata": {
    "tags": []
   },
   "outputs": [
    {
     "name": "stdout",
     "output_type": "stream",
     "text": [
      "Using the default year of 2021\n"
     ]
    }
   ],
   "source": [
    "states = pygris.states()\n",
    "\n",
    "state_df = states[['STUSPS', 'NAME', 'geometry']]"
   ]
  },
  {
   "cell_type": "code",
   "execution_count": 9,
   "id": "cdc5f1b5-1af9-44c8-bdd2-cfd21c345695",
   "metadata": {
    "tags": []
   },
   "outputs": [
    {
     "data": {
      "text/plain": [
       "True"
      ]
     },
     "execution_count": 9,
     "metadata": {},
     "output_type": "execute_result"
    }
   ],
   "source": [
    "#Checking if all states found in our dataset are in the US Census Bureau TIGER/Line and cartographic boundary shapefiles\n",
    "\n",
    "unique_states = df_geographic_unique['state'].unique()\n",
    "state_STUSPS_unique = state_df['STUSPS'].unique()\n",
    "\n",
    "np.all(np.isin(unique_states, state_STUSPS_unique))"
   ]
  },
  {
   "cell_type": "code",
   "execution_count": 10,
   "id": "7a4424a5-b6f5-4e02-bcad-59ac07315aaa",
   "metadata": {
    "tags": []
   },
   "outputs": [],
   "source": [
    "# Read the parquet file\n",
    "df_read = pd.read_parquet(\"C:/Users/Asus/Box/Flood Damage PredictionProject/Dataset/lat_long_geometry.parquet.gzip\")\n",
    "\n",
    "# Convert the WKT strings back to geometries\n",
    "lat_long_df = gpd.GeoDataFrame(df_read, geometry=df_read['geometry'].apply(lambda x: shapely.wkt.loads(x)))"
   ]
  },
  {
   "cell_type": "code",
   "execution_count": 11,
   "id": "73326128-7e5e-42a6-b6a8-8416cd52d3f2",
   "metadata": {
    "tags": []
   },
   "outputs": [],
   "source": [
    "chunk_size = 25000  # adjust based on your system's capabilities\n",
    "chunks = [x for x in range(0, 400000, chunk_size)]\n",
    "\n",
    "gdf_list = []\n",
    "\n",
    "for start in chunks:\n",
    "    end = start + chunk_size\n",
    "    temp_df = pd.read_parquet(f\"C:/Users/Asus/Box/Flood Damage PredictionProject/Dataset/BG_geometry_{start}_{end}.parquet.gzip\")\n",
    "    gdf_read = gpd.GeoDataFrame(temp_df, geometry=temp_df['geometry'].apply(lambda x: shapely.wkt.loads(x)))\n",
    "    gdf_list.append(gdf_read)\n",
    "\n",
    "# Concatenate all GeoDataFrames in the list into a single GeoDataFrame\n",
    "BG_df = pd.concat(gdf_list, ignore_index=True)\n",
    "\n",
    "BG_df['year'] = BG_df['year'].replace({2012: 2010, 2021: 2020})\n",
    "BG_df = BG_df.drop_duplicates(subset=['GEOID', 'year'])"
   ]
  },
  {
   "cell_type": "code",
   "execution_count": 12,
   "id": "d6d0c44b-aa61-4397-83c9-8b9821177ee7",
   "metadata": {
    "tags": []
   },
   "outputs": [],
   "source": [
    "chunk_size = 25000  # adjust based on your system's capabilities\n",
    "chunks = [x for x in range(0, 100000, chunk_size)]\n",
    "\n",
    "gdf_list = []\n",
    "\n",
    "for start in chunks:\n",
    "    end = start + chunk_size\n",
    "    temp_df = pd.read_parquet(f\"C:/Users/Asus/Box/Flood Damage PredictionProject/Dataset/zipcode_geometry_{start}_{end}.parquet.gzip\")\n",
    "    gdf_read = gpd.GeoDataFrame(temp_df, geometry=temp_df['geometry'].apply(lambda x: shapely.wkt.loads(x)))\n",
    "    gdf_list.append(gdf_read)\n",
    "    \n",
    "# Concatenate all GeoDataFrames in the list into a single GeoDataFrame\n",
    "zipcode_df = pd.concat(gdf_list, ignore_index=True)\n",
    "\n",
    "zipcode_df['year'] = zipcode_df['year'].replace({2012: 2010, 2021: 2020})\n",
    "zipcode_df = zipcode_df.drop_duplicates(subset=['ZIPcode', 'year'])"
   ]
  },
  {
   "cell_type": "code",
   "execution_count": 13,
   "id": "dfe9c788-308b-4f53-961e-b2e33beab719",
   "metadata": {
    "tags": []
   },
   "outputs": [],
   "source": [
    "# Read the parquet file\n",
    "df_read = pd.read_parquet(\"C:/Users/Asus/Box/Flood Damage PredictionProject/Dataset/County_geometry.parquet.gzip\")\n",
    "\n",
    "# Convert the WKT strings back to geometries\n",
    "County_df = gpd.GeoDataFrame(df_read, geometry=df_read['geometry'].apply(lambda x: shapely.wkt.loads(x)))\n",
    "\n",
    "County_df['year'] = County_df['year'].replace({2012: 2010, 2021: 2020})\n",
    "County_df = County_df.drop_duplicates(subset=['CountyID', 'year'])"
   ]
  },
  {
   "cell_type": "code",
   "execution_count": 14,
   "id": "b3ce3880-d5b7-49de-929e-ac6a967d177b",
   "metadata": {
    "tags": []
   },
   "outputs": [],
   "source": [
    "# Read the parquet file\n",
    "df_read = pd.read_parquet(\"C:/Users/Asus/Box/Flood Damage PredictionProject/Dataset/Tract_geometry.parquet.gzip\")\n",
    "\n",
    "# Convert the WKT strings back to geometries\n",
    "Tract_df = gpd.GeoDataFrame(df_read, geometry=df_read['geometry'].apply(lambda x: shapely.wkt.loads(x)))\n",
    "Tract_df['year'] = Tract_df['year'].replace({2012: 2010, 2021: 2020})\n",
    "Tract_df = Tract_df.drop_duplicates(subset=['censusTractID', 'year'])"
   ]
  },
  {
   "cell_type": "markdown",
   "id": "ab7d5267-d86f-4224-9783-7ff3158ed375",
   "metadata": {},
   "source": [
    "## Create centroid"
   ]
  },
  {
   "cell_type": "code",
   "execution_count": 15,
   "id": "7e5c980b-dd9d-47e1-ba1e-7c575cf4985c",
   "metadata": {
    "tags": []
   },
   "outputs": [],
   "source": [
    "# 1. Calculate centroids\n",
    "\n",
    "lat_long_df.loc[:, 'centroid_lat_long'] = lat_long_df['geometry'].centroid\n",
    "\n",
    "BG_df.loc[:, 'centroid_BG'] = BG_df['geometry'].centroid\n",
    "\n",
    "zipcode_df.loc[:, 'centroid_zipcode'] = zipcode_df['geometry'].centroid\n",
    "\n",
    "County_df.loc[:, 'centroid_county'] = County_df['geometry'].centroid\n",
    "\n",
    "Tract_df.loc[:, 'centroid_tract'] = Tract_df['geometry'].centroid"
   ]
  },
  {
   "cell_type": "markdown",
   "id": "3d3b1d56-79aa-4b87-b250-ed1ef332d3dd",
   "metadata": {},
   "source": [
    "##  Spatial join: for each centroid, determine which state it intersects (either falls within or on the boundary)"
   ]
  },
  {
   "cell_type": "code",
   "execution_count": 16,
   "id": "04ad673d-09d8-47d6-a3e3-95a9ea81386f",
   "metadata": {
    "tags": []
   },
   "outputs": [],
   "source": [
    "# 2. Spatial join: for each centroid, determine which state it intersects (either falls within or on the boundary)\n",
    "\n",
    "lat_long_df.set_geometry('centroid_lat_long', inplace=True)\n",
    "lat_long_df.crs = \"EPSG:4269\"\n",
    "\n",
    "lat_long_df = lat_long_df.to_crs(state_df.crs)\n",
    "\n",
    "joined = gpd.sjoin(lat_long_df, state_df, predicate='within')\n",
    "\n",
    "# 3. Create the 'corrected_state' column using the 'STUSPS' column from the join operation\n",
    "lat_long_df['corrected_state_lat_long'] = joined['STUSPS']\n",
    "lat_long_df['corrected_state_lat_long'] = lat_long_df['corrected_state_lat_long'].fillna('Not_within_any_state')\n",
    "\n",
    "#-------------\n",
    "\n",
    "BG_df.set_geometry('centroid_BG', inplace=True)\n",
    "BG_df.crs = \"EPSG:4269\"\n",
    "\n",
    "BG_df = BG_df.to_crs(state_df.crs)\n",
    "\n",
    "joined = gpd.sjoin(BG_df.set_geometry('centroid_BG'), state_df, predicate='within')\n",
    "\n",
    "BG_df['corrected_state_BG'] = joined['STUSPS']\n",
    "BG_df['corrected_state_BG'] = BG_df['corrected_state_BG'].fillna('Not_within_any_state')\n",
    "\n",
    "#-------------\n",
    "\n",
    "zipcode_df.set_geometry('centroid_zipcode', inplace=True)\n",
    "zipcode_df.crs = \"EPSG:4269\"\n",
    "\n",
    "zipcode_df = zipcode_df.to_crs(state_df.crs)\n",
    "\n",
    "joined = gpd.sjoin(zipcode_df.set_geometry('centroid_zipcode'), state_df, predicate='within')\n",
    "\n",
    "zipcode_df['corrected_state_zipcode'] = joined['STUSPS']\n",
    "zipcode_df['corrected_state_zipcode'] = zipcode_df['corrected_state_zipcode'].fillna('Not_within_any_state')\n",
    "\n",
    "#-------------\n",
    "\n",
    "County_df.set_geometry('centroid_county', inplace=True)\n",
    "County_df.crs = \"EPSG:4269\"\n",
    "\n",
    "County_df = County_df.to_crs(state_df.crs)\n",
    "\n",
    "joined = gpd.sjoin(County_df.set_geometry('centroid_county'), state_df, predicate='within')\n",
    "\n",
    "County_df['corrected_state_county'] = joined['STUSPS']\n",
    "County_df['corrected_state_county'] = County_df['corrected_state_county'].fillna('Not_within_any_state')\n",
    "\n",
    "#-------------\n",
    "\n",
    "Tract_df.set_geometry('centroid_tract', inplace=True)\n",
    "Tract_df.crs = \"EPSG:4269\"\n",
    "\n",
    "Tract_df = Tract_df.to_crs(state_df.crs)\n",
    "\n",
    "joined = gpd.sjoin(Tract_df.set_geometry('centroid_tract'), state_df, predicate='within')\n",
    "\n",
    "Tract_df['corrected_state_tract'] = joined['STUSPS']\n",
    "Tract_df['corrected_state_tract'] = Tract_df['corrected_state_tract'].fillna('Not_within_any_state')"
   ]
  },
  {
   "cell_type": "markdown",
   "id": "f7703871-2951-430c-87db-c5e71543cbb9",
   "metadata": {},
   "source": [
    "## Combining with the original dataframe"
   ]
  },
  {
   "cell_type": "code",
   "execution_count": 17,
   "id": "f44f266f-3174-459c-b5a5-ef6a52574254",
   "metadata": {
    "tags": []
   },
   "outputs": [],
   "source": [
    "# Setting the multi-index on lat_long_df\n",
    "lat_long_df.set_index(['latitude', 'longitude'], inplace=True)\n",
    "\n",
    "# Mapping the values\n",
    "df_geographic_unique['corrected_state_lat_long'] = df_geographic_unique.set_index(['latitude', 'longitude']).index.map(lat_long_df['corrected_state_lat_long'])\n",
    "\n",
    "# Resetting the index of lat_long_df (optional, but good practice)\n",
    "lat_long_df.reset_index(inplace=True)"
   ]
  },
  {
   "cell_type": "code",
   "execution_count": 18,
   "id": "914a74c5-f497-401b-a6bf-6ff43cfd4353",
   "metadata": {
    "tags": []
   },
   "outputs": [],
   "source": [
    "# Initial mapping with multi-index\n",
    "BG_df.set_index(['GEOID', 'year'], inplace=True)\n",
    "df_geographic_unique['corrected_state_BG'] = df_geographic_unique.set_index(['censusBlockGroupFips', 'yearOfLoss_1990_2021']).index.map(BG_df['corrected_state_BG'])\n",
    "\n",
    "# Find rows with NaN values in 'corrected_state_BG'\n",
    "na_rows = df_geographic_unique['corrected_state_BG'].isna()\n",
    "\n",
    "# Reset index of BG_df\n",
    "df_single_index = BG_df.reset_index()\n",
    "\n",
    "# Sort by 'year' in descending order\n",
    "df_single_index = df_single_index.sort_values(by='year', ascending=False)\n",
    "\n",
    "# Drop duplicates based on the 'GEOID' column. Keep the first occurrence.\n",
    "df_single_index = df_single_index.drop_duplicates(subset='GEOID', keep='first')\n",
    "\n",
    "# Map these rows using only the 'GEOID'\n",
    "df_geographic_unique.loc[na_rows, 'corrected_state_BG'] = df_geographic_unique.loc[na_rows, 'censusBlockGroupFips'].map(df_single_index.set_index('GEOID')['corrected_state_BG'])\n",
    "\n",
    "# Resetting the index of BG_df (return to multi-index)\n",
    "BG_df.reset_index(inplace=True)"
   ]
  },
  {
   "cell_type": "code",
   "execution_count": 19,
   "id": "9c92ac88-263d-4f1b-a0a1-fb35e5b69efb",
   "metadata": {
    "tags": []
   },
   "outputs": [],
   "source": [
    "# Initial mapping with multi-index\n",
    "zipcode_df.set_index(['ZIPcode', 'year'], inplace=True)\n",
    "df_geographic_unique['corrected_state_zipcode'] = df_geographic_unique.set_index(['reportedZipCode', 'yearOfLoss_2000_2021']).index.map(zipcode_df['corrected_state_zipcode'])\n",
    "\n",
    "# Find rows with NaN values in 'corrected_state'\n",
    "na_rows = df_geographic_unique['corrected_state_zipcode'].isna()\n",
    "\n",
    "# Reset index\n",
    "df_single_index = zipcode_df.reset_index()\n",
    "\n",
    "# Sort by 'year' in descending order\n",
    "df_single_index = df_single_index.sort_values(by='year', ascending=False)\n",
    "\n",
    "# Drop duplicates based on the 'ZIPcode' column. Keep the first occurrence.\n",
    "df_single_index = df_single_index.drop_duplicates(subset='ZIPcode', keep='first')\n",
    "\n",
    "# Map these rows using only the 'ZIPcode'\n",
    "df_geographic_unique.loc[na_rows, 'corrected_state_zipcode'] = df_geographic_unique.loc[na_rows, 'reportedZipCode'].map(df_single_index.set_index('ZIPcode')['corrected_state_zipcode'])\n",
    "\n",
    "# Resetting the index (return to multi-index)\n",
    "zipcode_df.reset_index(inplace=True)"
   ]
  },
  {
   "cell_type": "code",
   "execution_count": 20,
   "id": "8f5a6100-8b81-4277-afcf-a12e93971cc3",
   "metadata": {
    "tags": []
   },
   "outputs": [],
   "source": [
    "# Initial mapping with multi-index\n",
    "County_df.set_index(['CountyID', 'year'], inplace=True)\n",
    "df_geographic_unique['corrected_state_county'] = df_geographic_unique.set_index(['countyCode', 'yearOfLoss_1990_2021']).index.map(County_df['corrected_state_county'])\n",
    "\n",
    "# Find rows with NaN values in 'corrected_state'\n",
    "na_rows = df_geographic_unique['corrected_state_county'].isna()\n",
    "\n",
    "# Reset index\n",
    "df_single_index = County_df.reset_index()\n",
    "\n",
    "# Sort by 'year' in descending order\n",
    "df_single_index = df_single_index.sort_values(by='year', ascending=False)\n",
    "\n",
    "# Drop duplicates based on the 'CountyID' column. Keep the first occurrence.\n",
    "df_single_index = df_single_index.drop_duplicates(subset='CountyID', keep='first')\n",
    "\n",
    "# Map these rows using only the 'CountyID'\n",
    "df_geographic_unique.loc[na_rows, 'corrected_state_county'] = df_geographic_unique.loc[na_rows, 'countyCode'].map(df_single_index.set_index('CountyID')['corrected_state_county'])\n",
    "\n",
    "# Resetting the index (return to multi-index)\n",
    "County_df.reset_index(inplace=True)"
   ]
  },
  {
   "cell_type": "code",
   "execution_count": 21,
   "id": "63ac7a64-db3c-4df6-8b11-5bd6240512cf",
   "metadata": {
    "tags": []
   },
   "outputs": [],
   "source": [
    "# Initial mapping with multi-index\n",
    "Tract_df.set_index(['censusTractID', 'year'], inplace=True)\n",
    "df_geographic_unique['corrected_state_tract'] = df_geographic_unique.set_index(['censusTract', 'yearOfLoss_2000_2021']).index.map(Tract_df['corrected_state_tract'])\n",
    "\n",
    "# Find rows with NaN values in 'corrected_state'\n",
    "na_rows = df_geographic_unique['corrected_state_tract'].isna()\n",
    "\n",
    "# Reset index\n",
    "df_single_index = Tract_df.reset_index()\n",
    "\n",
    "# Sort by 'year' in descending order\n",
    "df_single_index = df_single_index.sort_values(by='year', ascending=False)\n",
    "\n",
    "# Drop duplicates based on the 'CountyID' column. Keep the first occurrence.\n",
    "df_single_index = df_single_index.drop_duplicates(subset='censusTractID', keep='first')\n",
    "\n",
    "# Map these rows using only the 'CountyID'\n",
    "df_geographic_unique.loc[na_rows, 'corrected_state_tract'] = df_geographic_unique.loc[na_rows, 'censusTract'].map(df_single_index.set_index('censusTractID')['corrected_state_tract'])\n",
    "\n",
    "# Resetting the index (return to multi-index)\n",
    "Tract_df.reset_index(inplace=True)"
   ]
  },
  {
   "cell_type": "code",
   "execution_count": 22,
   "id": "991971d4-1b5a-4444-a2f4-357c6bf8de3b",
   "metadata": {
    "tags": []
   },
   "outputs": [
    {
     "data": {
      "text/html": [
       "<div>\n",
       "<style scoped>\n",
       "    .dataframe tbody tr th:only-of-type {\n",
       "        vertical-align: middle;\n",
       "    }\n",
       "\n",
       "    .dataframe tbody tr th {\n",
       "        vertical-align: top;\n",
       "    }\n",
       "\n",
       "    .dataframe thead th {\n",
       "        text-align: right;\n",
       "    }\n",
       "</style>\n",
       "<table border=\"1\" class=\"dataframe\">\n",
       "  <thead>\n",
       "    <tr style=\"text-align: right;\">\n",
       "      <th></th>\n",
       "      <th>state</th>\n",
       "      <th>reportedZipCode</th>\n",
       "      <th>countyCode</th>\n",
       "      <th>censusTract</th>\n",
       "      <th>censusBlockGroupFips</th>\n",
       "      <th>latitude</th>\n",
       "      <th>longitude</th>\n",
       "      <th>yearOfLoss_2000_2021</th>\n",
       "      <th>yearOfLoss_1990_2021</th>\n",
       "      <th>corrected_state_lat_long</th>\n",
       "      <th>corrected_state_BG</th>\n",
       "      <th>corrected_state_zipcode</th>\n",
       "      <th>corrected_state_county</th>\n",
       "      <th>corrected_state_tract</th>\n",
       "    </tr>\n",
       "  </thead>\n",
       "  <tbody>\n",
       "    <tr>\n",
       "      <th>0</th>\n",
       "      <td>CA</td>\n",
       "      <td>92056</td>\n",
       "      <td>06073</td>\n",
       "      <td>06073018512</td>\n",
       "      <td>060730185123</td>\n",
       "      <td>33.2</td>\n",
       "      <td>-117.3</td>\n",
       "      <td>2000</td>\n",
       "      <td>1990</td>\n",
       "      <td>CA</td>\n",
       "      <td>CA</td>\n",
       "      <td>CA</td>\n",
       "      <td>CA</td>\n",
       "      <td>CA</td>\n",
       "    </tr>\n",
       "    <tr>\n",
       "      <th>1</th>\n",
       "      <td>LA</td>\n",
       "      <td>70131</td>\n",
       "      <td>22071</td>\n",
       "      <td>22071000616</td>\n",
       "      <td>220710006163</td>\n",
       "      <td>29.9</td>\n",
       "      <td>-90.0</td>\n",
       "      <td>2000</td>\n",
       "      <td>2000</td>\n",
       "      <td>LA</td>\n",
       "      <td>LA</td>\n",
       "      <td>LA</td>\n",
       "      <td>LA</td>\n",
       "      <td>LA</td>\n",
       "    </tr>\n",
       "    <tr>\n",
       "      <th>2</th>\n",
       "      <td>FL</td>\n",
       "      <td>32566</td>\n",
       "      <td>12113</td>\n",
       "      <td>12113010815</td>\n",
       "      <td>121130108152</td>\n",
       "      <td>30.4</td>\n",
       "      <td>-86.9</td>\n",
       "      <td>2000</td>\n",
       "      <td>1990</td>\n",
       "      <td>FL</td>\n",
       "      <td>FL</td>\n",
       "      <td>FL</td>\n",
       "      <td>FL</td>\n",
       "      <td>FL</td>\n",
       "    </tr>\n",
       "    <tr>\n",
       "      <th>3</th>\n",
       "      <td>SC</td>\n",
       "      <td>29902</td>\n",
       "      <td>45013</td>\n",
       "      <td>45013000700</td>\n",
       "      <td>450130007002</td>\n",
       "      <td>32.4</td>\n",
       "      <td>-80.7</td>\n",
       "      <td>2000</td>\n",
       "      <td>1990</td>\n",
       "      <td>SC</td>\n",
       "      <td>SC</td>\n",
       "      <td>SC</td>\n",
       "      <td>SC</td>\n",
       "      <td>SC</td>\n",
       "    </tr>\n",
       "    <tr>\n",
       "      <th>4</th>\n",
       "      <td>FL</td>\n",
       "      <td>32940</td>\n",
       "      <td>12009</td>\n",
       "      <td>12009063107</td>\n",
       "      <td>120090631073</td>\n",
       "      <td>28.3</td>\n",
       "      <td>-80.7</td>\n",
       "      <td>2000</td>\n",
       "      <td>1990</td>\n",
       "      <td>FL</td>\n",
       "      <td>FL</td>\n",
       "      <td>FL</td>\n",
       "      <td>FL</td>\n",
       "      <td>FL</td>\n",
       "    </tr>\n",
       "    <tr>\n",
       "      <th>...</th>\n",
       "      <td>...</td>\n",
       "      <td>...</td>\n",
       "      <td>...</td>\n",
       "      <td>...</td>\n",
       "      <td>...</td>\n",
       "      <td>...</td>\n",
       "      <td>...</td>\n",
       "      <td>...</td>\n",
       "      <td>...</td>\n",
       "      <td>...</td>\n",
       "      <td>...</td>\n",
       "      <td>...</td>\n",
       "      <td>...</td>\n",
       "      <td>...</td>\n",
       "    </tr>\n",
       "    <tr>\n",
       "      <th>2584234</th>\n",
       "      <td>MI</td>\n",
       "      <td>49306</td>\n",
       "      <td>26081</td>\n",
       "      <td>26081011001</td>\n",
       "      <td>260810110013</td>\n",
       "      <td>43.1</td>\n",
       "      <td>-85.6</td>\n",
       "      <td>2020</td>\n",
       "      <td>2020</td>\n",
       "      <td>MI</td>\n",
       "      <td>MI</td>\n",
       "      <td>MI</td>\n",
       "      <td>MI</td>\n",
       "      <td>MI</td>\n",
       "    </tr>\n",
       "    <tr>\n",
       "      <th>2584235</th>\n",
       "      <td>MI</td>\n",
       "      <td>49073</td>\n",
       "      <td>26015</td>\n",
       "      <td>26015010100</td>\n",
       "      <td>260150101004</td>\n",
       "      <td>42.6</td>\n",
       "      <td>-85.2</td>\n",
       "      <td>2020</td>\n",
       "      <td>2020</td>\n",
       "      <td>MI</td>\n",
       "      <td>MI</td>\n",
       "      <td>MI</td>\n",
       "      <td>MI</td>\n",
       "      <td>MI</td>\n",
       "    </tr>\n",
       "    <tr>\n",
       "      <th>2584236</th>\n",
       "      <td>ND</td>\n",
       "      <td>58801</td>\n",
       "      <td>38105</td>\n",
       "      <td>38105953500</td>\n",
       "      <td>381059535001</td>\n",
       "      <td>48.4</td>\n",
       "      <td>-103.7</td>\n",
       "      <td>2020</td>\n",
       "      <td>2020</td>\n",
       "      <td>ND</td>\n",
       "      <td>ND</td>\n",
       "      <td>ND</td>\n",
       "      <td>ND</td>\n",
       "      <td>ND</td>\n",
       "    </tr>\n",
       "    <tr>\n",
       "      <th>2584238</th>\n",
       "      <td>TX</td>\n",
       "      <td>75211</td>\n",
       "      <td>48113</td>\n",
       "      <td>48113021200</td>\n",
       "      <td>481130212001</td>\n",
       "      <td>32.7</td>\n",
       "      <td>-96.9</td>\n",
       "      <td>2020</td>\n",
       "      <td>2020</td>\n",
       "      <td>TX</td>\n",
       "      <td>TX</td>\n",
       "      <td>TX</td>\n",
       "      <td>TX</td>\n",
       "      <td>TX</td>\n",
       "    </tr>\n",
       "    <tr>\n",
       "      <th>2584239</th>\n",
       "      <td>FL</td>\n",
       "      <td>33024</td>\n",
       "      <td>12011</td>\n",
       "      <td>12011091202</td>\n",
       "      <td>120110912021</td>\n",
       "      <td>26.0</td>\n",
       "      <td>-80.2</td>\n",
       "      <td>2020</td>\n",
       "      <td>2020</td>\n",
       "      <td>FL</td>\n",
       "      <td>FL</td>\n",
       "      <td>FL</td>\n",
       "      <td>FL</td>\n",
       "      <td>FL</td>\n",
       "    </tr>\n",
       "  </tbody>\n",
       "</table>\n",
       "<p>522921 rows × 14 columns</p>\n",
       "</div>"
      ],
      "text/plain": [
       "        state reportedZipCode countyCode  censusTract censusBlockGroupFips  \\\n",
       "0          CA           92056      06073  06073018512         060730185123   \n",
       "1          LA           70131      22071  22071000616         220710006163   \n",
       "2          FL           32566      12113  12113010815         121130108152   \n",
       "3          SC           29902      45013  45013000700         450130007002   \n",
       "4          FL           32940      12009  12009063107         120090631073   \n",
       "...       ...             ...        ...          ...                  ...   \n",
       "2584234    MI           49306      26081  26081011001         260810110013   \n",
       "2584235    MI           49073      26015  26015010100         260150101004   \n",
       "2584236    ND           58801      38105  38105953500         381059535001   \n",
       "2584238    TX           75211      48113  48113021200         481130212001   \n",
       "2584239    FL           33024      12011  12011091202         120110912021   \n",
       "\n",
       "         latitude  longitude  yearOfLoss_2000_2021  yearOfLoss_1990_2021  \\\n",
       "0            33.2     -117.3                  2000                  1990   \n",
       "1            29.9      -90.0                  2000                  2000   \n",
       "2            30.4      -86.9                  2000                  1990   \n",
       "3            32.4      -80.7                  2000                  1990   \n",
       "4            28.3      -80.7                  2000                  1990   \n",
       "...           ...        ...                   ...                   ...   \n",
       "2584234      43.1      -85.6                  2020                  2020   \n",
       "2584235      42.6      -85.2                  2020                  2020   \n",
       "2584236      48.4     -103.7                  2020                  2020   \n",
       "2584238      32.7      -96.9                  2020                  2020   \n",
       "2584239      26.0      -80.2                  2020                  2020   \n",
       "\n",
       "        corrected_state_lat_long corrected_state_BG corrected_state_zipcode  \\\n",
       "0                             CA                 CA                      CA   \n",
       "1                             LA                 LA                      LA   \n",
       "2                             FL                 FL                      FL   \n",
       "3                             SC                 SC                      SC   \n",
       "4                             FL                 FL                      FL   \n",
       "...                          ...                ...                     ...   \n",
       "2584234                       MI                 MI                      MI   \n",
       "2584235                       MI                 MI                      MI   \n",
       "2584236                       ND                 ND                      ND   \n",
       "2584238                       TX                 TX                      TX   \n",
       "2584239                       FL                 FL                      FL   \n",
       "\n",
       "        corrected_state_county corrected_state_tract  \n",
       "0                           CA                    CA  \n",
       "1                           LA                    LA  \n",
       "2                           FL                    FL  \n",
       "3                           SC                    SC  \n",
       "4                           FL                    FL  \n",
       "...                        ...                   ...  \n",
       "2584234                     MI                    MI  \n",
       "2584235                     MI                    MI  \n",
       "2584236                     ND                    ND  \n",
       "2584238                     TX                    TX  \n",
       "2584239                     FL                    FL  \n",
       "\n",
       "[522921 rows x 14 columns]"
      ]
     },
     "execution_count": 22,
     "metadata": {},
     "output_type": "execute_result"
    }
   ],
   "source": [
    "df_geographic_unique"
   ]
  },
  {
   "cell_type": "markdown",
   "id": "8717a8fe-dc8a-4600-b881-78c263a21cfc",
   "metadata": {},
   "source": [
    "## Finding Mismatches and tagging those"
   ]
  },
  {
   "cell_type": "code",
   "execution_count": 23,
   "id": "c5a4191c-7e49-47fd-91de-3dc4eb45c3c2",
   "metadata": {
    "tags": []
   },
   "outputs": [],
   "source": [
    "df_copy = df.copy()"
   ]
  },
  {
   "cell_type": "code",
   "execution_count": 24,
   "id": "07e7bf27-fe47-40bf-a930-40f1911af49c",
   "metadata": {
    "tags": []
   },
   "outputs": [],
   "source": [
    "df_copy = df_copy.dropna(subset=['censusBlockGroupFips', 'reportedZipCode', 'countyCode'])"
   ]
  },
  {
   "cell_type": "code",
   "execution_count": 25,
   "id": "56390e7e-c0a2-4f94-8b1c-724b36aacf9d",
   "metadata": {
    "tags": []
   },
   "outputs": [],
   "source": [
    "df_copy['reportedZipCode'] = df_copy['reportedZipCode'].dropna().astype(int).astype(str)\n",
    "df_copy['reportedZipCode'] = [zipcode.zfill(5) for zipcode in df_copy['reportedZipCode']]\n",
    "\n",
    "df_copy['censusBlockGroupFips'] = [str(int(float(i))) for i in df_copy['censusBlockGroupFips']]\n",
    "df_copy['censusBlockGroupFips'] = [censusBG.zfill(12) for censusBG in df_copy['censusBlockGroupFips']]\n",
    "\n",
    "df_copy['countyCode'] = [str(int(float(i))) for i in df_copy['countyCode']]\n",
    "df_copy['countyCode'] = [censusBG.zfill(5) for censusBG in df_copy['countyCode']]\n",
    "\n",
    "df_copy['censusTract'] = [str(int(float(i))) for i in df_copy['censusTract']]\n",
    "df_copy['censusTract'] = [censusBG.zfill(11) for censusBG in df_copy['censusTract']]"
   ]
  },
  {
   "cell_type": "markdown",
   "id": "88b0acfa-bf78-47ac-9ab6-255e31799395",
   "metadata": {},
   "source": [
    "#### LAT LONG"
   ]
  },
  {
   "cell_type": "code",
   "execution_count": 26,
   "id": "931287ab-0574-4385-a446-8f43f45bfbb3",
   "metadata": {
    "tags": []
   },
   "outputs": [],
   "source": [
    "# Filter out rows where 'state' is not equal to 'corrected_state'\n",
    "mismatched_df_latlong = df_geographic_unique[df_geographic_unique['state'] != df_geographic_unique['corrected_state_lat_long']]"
   ]
  },
  {
   "cell_type": "code",
   "execution_count": 27,
   "id": "f41e7395-44c9-43bb-afac-da5ed06e87dd",
   "metadata": {
    "tags": []
   },
   "outputs": [
    {
     "data": {
      "text/html": [
       "<div>\n",
       "<style scoped>\n",
       "    .dataframe tbody tr th:only-of-type {\n",
       "        vertical-align: middle;\n",
       "    }\n",
       "\n",
       "    .dataframe tbody tr th {\n",
       "        vertical-align: top;\n",
       "    }\n",
       "\n",
       "    .dataframe thead th {\n",
       "        text-align: right;\n",
       "    }\n",
       "</style>\n",
       "<table border=\"1\" class=\"dataframe\">\n",
       "  <thead>\n",
       "    <tr style=\"text-align: right;\">\n",
       "      <th></th>\n",
       "      <th>state</th>\n",
       "      <th>reportedZipCode</th>\n",
       "      <th>countyCode</th>\n",
       "      <th>censusTract</th>\n",
       "      <th>censusBlockGroupFips</th>\n",
       "      <th>latitude</th>\n",
       "      <th>longitude</th>\n",
       "      <th>yearOfLoss_2000_2021</th>\n",
       "      <th>yearOfLoss_1990_2021</th>\n",
       "      <th>corrected_state_lat_long</th>\n",
       "      <th>corrected_state_BG</th>\n",
       "      <th>corrected_state_zipcode</th>\n",
       "      <th>corrected_state_county</th>\n",
       "      <th>corrected_state_tract</th>\n",
       "    </tr>\n",
       "  </thead>\n",
       "  <tbody>\n",
       "    <tr>\n",
       "      <th>7</th>\n",
       "      <td>HI</td>\n",
       "      <td>96792</td>\n",
       "      <td>15003</td>\n",
       "      <td>15003009703</td>\n",
       "      <td>150030097031</td>\n",
       "      <td>21.4</td>\n",
       "      <td>-158.2</td>\n",
       "      <td>2000</td>\n",
       "      <td>1990</td>\n",
       "      <td>Not_within_any_state</td>\n",
       "      <td>Not_within_any_state</td>\n",
       "      <td>HI</td>\n",
       "      <td>Not_within_any_state</td>\n",
       "      <td>HI</td>\n",
       "    </tr>\n",
       "    <tr>\n",
       "      <th>21</th>\n",
       "      <td>SC</td>\n",
       "      <td>29577</td>\n",
       "      <td>45051</td>\n",
       "      <td>45051050500</td>\n",
       "      <td>450510505002</td>\n",
       "      <td>33.7</td>\n",
       "      <td>-78.8</td>\n",
       "      <td>2000</td>\n",
       "      <td>1990</td>\n",
       "      <td>Not_within_any_state</td>\n",
       "      <td>SC</td>\n",
       "      <td>SC</td>\n",
       "      <td>SC</td>\n",
       "      <td>SC</td>\n",
       "    </tr>\n",
       "    <tr>\n",
       "      <th>26</th>\n",
       "      <td>FL</td>\n",
       "      <td>32507</td>\n",
       "      <td>12033</td>\n",
       "      <td>12033002603</td>\n",
       "      <td>120330026031</td>\n",
       "      <td>30.3</td>\n",
       "      <td>-87.4</td>\n",
       "      <td>2000</td>\n",
       "      <td>1990</td>\n",
       "      <td>Not_within_any_state</td>\n",
       "      <td>FL</td>\n",
       "      <td>FL</td>\n",
       "      <td>FL</td>\n",
       "      <td>FL</td>\n",
       "    </tr>\n",
       "    <tr>\n",
       "      <th>46</th>\n",
       "      <td>FL</td>\n",
       "      <td>32507</td>\n",
       "      <td>12033</td>\n",
       "      <td>12033002603</td>\n",
       "      <td>120330026032</td>\n",
       "      <td>30.3</td>\n",
       "      <td>-87.4</td>\n",
       "      <td>2000</td>\n",
       "      <td>2000</td>\n",
       "      <td>Not_within_any_state</td>\n",
       "      <td>FL</td>\n",
       "      <td>FL</td>\n",
       "      <td>FL</td>\n",
       "      <td>FL</td>\n",
       "    </tr>\n",
       "    <tr>\n",
       "      <th>50</th>\n",
       "      <td>FL</td>\n",
       "      <td>32931</td>\n",
       "      <td>12009</td>\n",
       "      <td>12009068300</td>\n",
       "      <td>120090683002</td>\n",
       "      <td>28.3</td>\n",
       "      <td>-80.6</td>\n",
       "      <td>2000</td>\n",
       "      <td>1990</td>\n",
       "      <td>Not_within_any_state</td>\n",
       "      <td>FL</td>\n",
       "      <td>FL</td>\n",
       "      <td>FL</td>\n",
       "      <td>Not_within_any_state</td>\n",
       "    </tr>\n",
       "    <tr>\n",
       "      <th>...</th>\n",
       "      <td>...</td>\n",
       "      <td>...</td>\n",
       "      <td>...</td>\n",
       "      <td>...</td>\n",
       "      <td>...</td>\n",
       "      <td>...</td>\n",
       "      <td>...</td>\n",
       "      <td>...</td>\n",
       "      <td>...</td>\n",
       "      <td>...</td>\n",
       "      <td>...</td>\n",
       "      <td>...</td>\n",
       "      <td>...</td>\n",
       "      <td>...</td>\n",
       "    </tr>\n",
       "    <tr>\n",
       "      <th>2584136</th>\n",
       "      <td>WA</td>\n",
       "      <td>98332</td>\n",
       "      <td>53053</td>\n",
       "      <td>53053072504</td>\n",
       "      <td>530530725041</td>\n",
       "      <td>47.3</td>\n",
       "      <td>-122.7</td>\n",
       "      <td>2020</td>\n",
       "      <td>2020</td>\n",
       "      <td>Not_within_any_state</td>\n",
       "      <td>WA</td>\n",
       "      <td>WA</td>\n",
       "      <td>WA</td>\n",
       "      <td>WA</td>\n",
       "    </tr>\n",
       "    <tr>\n",
       "      <th>2584187</th>\n",
       "      <td>GA</td>\n",
       "      <td>31833</td>\n",
       "      <td>13285</td>\n",
       "      <td>13285961000</td>\n",
       "      <td>132859610002</td>\n",
       "      <td>32.9</td>\n",
       "      <td>-85.2</td>\n",
       "      <td>2020</td>\n",
       "      <td>2020</td>\n",
       "      <td>AL</td>\n",
       "      <td>GA</td>\n",
       "      <td>GA</td>\n",
       "      <td>GA</td>\n",
       "      <td>GA</td>\n",
       "    </tr>\n",
       "    <tr>\n",
       "      <th>2584200</th>\n",
       "      <td>NC</td>\n",
       "      <td>27954</td>\n",
       "      <td>37055</td>\n",
       "      <td>37055970602</td>\n",
       "      <td>370559706021</td>\n",
       "      <td>35.9</td>\n",
       "      <td>-75.7</td>\n",
       "      <td>2020</td>\n",
       "      <td>2020</td>\n",
       "      <td>Not_within_any_state</td>\n",
       "      <td>NC</td>\n",
       "      <td>NC</td>\n",
       "      <td>Not_within_any_state</td>\n",
       "      <td>NC</td>\n",
       "    </tr>\n",
       "    <tr>\n",
       "      <th>2584203</th>\n",
       "      <td>FL</td>\n",
       "      <td>33190</td>\n",
       "      <td>12086</td>\n",
       "      <td>12086010612</td>\n",
       "      <td>120860106121</td>\n",
       "      <td>25.6</td>\n",
       "      <td>-80.3</td>\n",
       "      <td>2020</td>\n",
       "      <td>2020</td>\n",
       "      <td>Not_within_any_state</td>\n",
       "      <td>FL</td>\n",
       "      <td>FL</td>\n",
       "      <td>FL</td>\n",
       "      <td>FL</td>\n",
       "    </tr>\n",
       "    <tr>\n",
       "      <th>2584208</th>\n",
       "      <td>WA</td>\n",
       "      <td>98535</td>\n",
       "      <td>53027</td>\n",
       "      <td>53027000200</td>\n",
       "      <td>530270002005</td>\n",
       "      <td>47.1</td>\n",
       "      <td>-124.2</td>\n",
       "      <td>2020</td>\n",
       "      <td>2020</td>\n",
       "      <td>Not_within_any_state</td>\n",
       "      <td>WA</td>\n",
       "      <td>WA</td>\n",
       "      <td>WA</td>\n",
       "      <td>WA</td>\n",
       "    </tr>\n",
       "  </tbody>\n",
       "</table>\n",
       "<p>45157 rows × 14 columns</p>\n",
       "</div>"
      ],
      "text/plain": [
       "        state reportedZipCode countyCode  censusTract censusBlockGroupFips  \\\n",
       "7          HI           96792      15003  15003009703         150030097031   \n",
       "21         SC           29577      45051  45051050500         450510505002   \n",
       "26         FL           32507      12033  12033002603         120330026031   \n",
       "46         FL           32507      12033  12033002603         120330026032   \n",
       "50         FL           32931      12009  12009068300         120090683002   \n",
       "...       ...             ...        ...          ...                  ...   \n",
       "2584136    WA           98332      53053  53053072504         530530725041   \n",
       "2584187    GA           31833      13285  13285961000         132859610002   \n",
       "2584200    NC           27954      37055  37055970602         370559706021   \n",
       "2584203    FL           33190      12086  12086010612         120860106121   \n",
       "2584208    WA           98535      53027  53027000200         530270002005   \n",
       "\n",
       "         latitude  longitude  yearOfLoss_2000_2021  yearOfLoss_1990_2021  \\\n",
       "7            21.4     -158.2                  2000                  1990   \n",
       "21           33.7      -78.8                  2000                  1990   \n",
       "26           30.3      -87.4                  2000                  1990   \n",
       "46           30.3      -87.4                  2000                  2000   \n",
       "50           28.3      -80.6                  2000                  1990   \n",
       "...           ...        ...                   ...                   ...   \n",
       "2584136      47.3     -122.7                  2020                  2020   \n",
       "2584187      32.9      -85.2                  2020                  2020   \n",
       "2584200      35.9      -75.7                  2020                  2020   \n",
       "2584203      25.6      -80.3                  2020                  2020   \n",
       "2584208      47.1     -124.2                  2020                  2020   \n",
       "\n",
       "        corrected_state_lat_long    corrected_state_BG  \\\n",
       "7           Not_within_any_state  Not_within_any_state   \n",
       "21          Not_within_any_state                    SC   \n",
       "26          Not_within_any_state                    FL   \n",
       "46          Not_within_any_state                    FL   \n",
       "50          Not_within_any_state                    FL   \n",
       "...                          ...                   ...   \n",
       "2584136     Not_within_any_state                    WA   \n",
       "2584187                       AL                    GA   \n",
       "2584200     Not_within_any_state                    NC   \n",
       "2584203     Not_within_any_state                    FL   \n",
       "2584208     Not_within_any_state                    WA   \n",
       "\n",
       "        corrected_state_zipcode corrected_state_county corrected_state_tract  \n",
       "7                            HI   Not_within_any_state                    HI  \n",
       "21                           SC                     SC                    SC  \n",
       "26                           FL                     FL                    FL  \n",
       "46                           FL                     FL                    FL  \n",
       "50                           FL                     FL  Not_within_any_state  \n",
       "...                         ...                    ...                   ...  \n",
       "2584136                      WA                     WA                    WA  \n",
       "2584187                      GA                     GA                    GA  \n",
       "2584200                      NC   Not_within_any_state                    NC  \n",
       "2584203                      FL                     FL                    FL  \n",
       "2584208                      WA                     WA                    WA  \n",
       "\n",
       "[45157 rows x 14 columns]"
      ]
     },
     "execution_count": 27,
     "metadata": {},
     "output_type": "execute_result"
    }
   ],
   "source": [
    "mismatched_df_latlong"
   ]
  },
  {
   "cell_type": "code",
   "execution_count": 28,
   "id": "fde6942f-6b2e-437a-87a9-92209d8b619e",
   "metadata": {
    "tags": []
   },
   "outputs": [],
   "source": [
    "list_df_lat_long = list(mismatched_df_latlong[['latitude', 'longitude']].drop_duplicates().itertuples(index=False, name=None))"
   ]
  },
  {
   "cell_type": "code",
   "execution_count": 29,
   "id": "429c0f75-b41e-4a5c-9db7-561a7a086718",
   "metadata": {
    "tags": []
   },
   "outputs": [
    {
     "data": {
      "text/plain": [
       "399288"
      ]
     },
     "execution_count": 29,
     "metadata": {},
     "output_type": "execute_result"
    }
   ],
   "source": [
    "# Filter df_copy based on the list of tuples and get the number of rows\n",
    "df_copy[df_copy.set_index(['latitude', 'longitude']).index.isin(list_df_lat_long)].shape[0]"
   ]
  },
  {
   "cell_type": "markdown",
   "id": "b8078d58-e552-4292-ae2b-3cc3cbb5517e",
   "metadata": {},
   "source": [
    "#### BG"
   ]
  },
  {
   "cell_type": "code",
   "execution_count": 30,
   "id": "ecf05d6b-0eb0-4fdc-ac04-6c9ea0bf2109",
   "metadata": {},
   "outputs": [],
   "source": [
    "# Filter out rows where 'state' is not equal to 'corrected_state'\n",
    "mismatched_df_BG= df_geographic_unique[df_geographic_unique['state'] != df_geographic_unique['corrected_state_BG']]"
   ]
  },
  {
   "cell_type": "code",
   "execution_count": 31,
   "id": "5ef6a817-6fcd-4780-82f4-d38cb55ffe53",
   "metadata": {},
   "outputs": [],
   "source": [
    "list_df_BG = mismatched_df_BG['censusBlockGroupFips'].drop_duplicates().to_list()"
   ]
  },
  {
   "cell_type": "code",
   "execution_count": 32,
   "id": "0fd83bab-0275-489d-a5e1-08f9a6146102",
   "metadata": {},
   "outputs": [
    {
     "data": {
      "text/plain": [
       "155976"
      ]
     },
     "execution_count": 32,
     "metadata": {},
     "output_type": "execute_result"
    }
   ],
   "source": [
    "df_copy[df_copy['censusBlockGroupFips'].isin(list_df_BG)].shape[0]"
   ]
  },
  {
   "cell_type": "markdown",
   "id": "a1d98caf-36a5-4363-a514-5b0d796f5ca4",
   "metadata": {},
   "source": [
    "#### Zipcode"
   ]
  },
  {
   "cell_type": "code",
   "execution_count": 33,
   "id": "3c83f2cd-7186-4c99-b26a-61e47b9ea6f4",
   "metadata": {},
   "outputs": [],
   "source": [
    "# Filter out rows where 'state' is not equal to 'corrected_state'\n",
    "mismatched_df_ZipCode= df_geographic_unique[df_geographic_unique['state'] != df_geographic_unique['corrected_state_zipcode']]"
   ]
  },
  {
   "cell_type": "code",
   "execution_count": 34,
   "id": "b8c9a08e-39a8-491b-a191-7ee2f3fe40eb",
   "metadata": {},
   "outputs": [],
   "source": [
    "list_df_ZipCode = mismatched_df_ZipCode['reportedZipCode'].drop_duplicates().to_list()"
   ]
  },
  {
   "cell_type": "code",
   "execution_count": 35,
   "id": "b1d22b83-1012-4f2a-af22-a94d9d5f7999",
   "metadata": {},
   "outputs": [
    {
     "data": {
      "text/plain": [
       "106296"
      ]
     },
     "execution_count": 35,
     "metadata": {},
     "output_type": "execute_result"
    }
   ],
   "source": [
    "df_copy[df_copy['reportedZipCode'].isin(list_df_ZipCode)].shape[0]"
   ]
  },
  {
   "cell_type": "markdown",
   "id": "4a9b3491-47f4-4c8a-ac9c-eb109a442fd2",
   "metadata": {},
   "source": [
    "#### County"
   ]
  },
  {
   "cell_type": "code",
   "execution_count": 36,
   "id": "15c3781d-5995-4166-9c74-714d9003e0de",
   "metadata": {},
   "outputs": [],
   "source": [
    "# Filter out rows where 'state' is not equal to 'corrected_state'\n",
    "mismatched_df_County= df_geographic_unique[df_geographic_unique['state'] != df_geographic_unique['corrected_state_county']]"
   ]
  },
  {
   "cell_type": "code",
   "execution_count": 37,
   "id": "eb7cd7f7-3cde-441f-9a86-9395a4db9e9e",
   "metadata": {},
   "outputs": [],
   "source": [
    "list_df_County = mismatched_df_County['countyCode'].drop_duplicates().to_list()"
   ]
  },
  {
   "cell_type": "code",
   "execution_count": 38,
   "id": "af6bd17f-88da-4c75-81cf-e28e205ee98f",
   "metadata": {},
   "outputs": [
    {
     "data": {
      "text/plain": [
       "161952"
      ]
     },
     "execution_count": 38,
     "metadata": {},
     "output_type": "execute_result"
    }
   ],
   "source": [
    "df_copy[df_copy['countyCode'].isin(list_df_County)].shape[0]"
   ]
  },
  {
   "cell_type": "markdown",
   "id": "e768f3c7-1375-4d54-b3e1-ea600366e6cb",
   "metadata": {},
   "source": [
    "#### Tracts"
   ]
  },
  {
   "cell_type": "code",
   "execution_count": 39,
   "id": "ce3bc426-bf01-4362-8d63-07fe58b8f782",
   "metadata": {},
   "outputs": [],
   "source": [
    "# Filter out rows where 'state' is not equal to 'corrected_state'\n",
    "mismatched_df_Tract= df_geographic_unique[df_geographic_unique['state'] != df_geographic_unique['corrected_state_tract']]"
   ]
  },
  {
   "cell_type": "code",
   "execution_count": 40,
   "id": "f1a528af-df92-4f81-ad4f-d1973c693011",
   "metadata": {
    "tags": []
   },
   "outputs": [],
   "source": [
    "list_df_Tract = mismatched_df_Tract['censusTract'].drop_duplicates().to_list()"
   ]
  },
  {
   "cell_type": "code",
   "execution_count": 41,
   "id": "fe791df1-09d4-41c6-b8a0-6051cad54f1a",
   "metadata": {
    "tags": []
   },
   "outputs": [
    {
     "data": {
      "text/plain": [
       "173363"
      ]
     },
     "execution_count": 41,
     "metadata": {},
     "output_type": "execute_result"
    }
   ],
   "source": [
    "df_copy[df_copy['censusTract'].isin(list_df_Tract)].shape[0]"
   ]
  },
  {
   "cell_type": "code",
   "execution_count": null,
   "id": "899ddd8e-ffde-46f8-98fd-c0b3cdd1332a",
   "metadata": {},
   "outputs": [],
   "source": []
  },
  {
   "cell_type": "code",
   "execution_count": null,
   "id": "8eb4dd64-1cfa-4e1f-b06f-79ea62ee4478",
   "metadata": {},
   "outputs": [],
   "source": []
  },
  {
   "cell_type": "code",
   "execution_count": null,
   "id": "0623f7e2-125d-49f8-8fe1-6a2f3d2652c6",
   "metadata": {},
   "outputs": [],
   "source": []
  },
  {
   "cell_type": "code",
   "execution_count": null,
   "id": "4b668e6c-07eb-4717-9e5c-d5d90bfa1f0b",
   "metadata": {},
   "outputs": [],
   "source": []
  },
  {
   "cell_type": "code",
   "execution_count": null,
   "id": "49c8bd35-07ce-4c0d-a6f0-f2c1f4c3b12b",
   "metadata": {},
   "outputs": [],
   "source": []
  },
  {
   "cell_type": "code",
   "execution_count": null,
   "id": "97768a8b-6aa4-42d2-b757-06cf7e9524a2",
   "metadata": {},
   "outputs": [],
   "source": []
  },
  {
   "cell_type": "code",
   "execution_count": null,
   "id": "cb06808d-8230-4b41-817e-80dd19f3d418",
   "metadata": {},
   "outputs": [],
   "source": []
  },
  {
   "cell_type": "code",
   "execution_count": null,
   "id": "2fe75dee-8f63-41d8-8302-ada2a1ba2ece",
   "metadata": {},
   "outputs": [],
   "source": []
  },
  {
   "cell_type": "code",
   "execution_count": null,
   "id": "23ec6c24-b8b8-4110-b3bc-f5c86111cfa7",
   "metadata": {},
   "outputs": [],
   "source": []
  },
  {
   "cell_type": "markdown",
   "id": "b94eedd0-3421-4076-82af-5bdac54655e3",
   "metadata": {},
   "source": [
    "## Geometry for NC"
   ]
  },
  {
   "cell_type": "code",
   "execution_count": 45,
   "id": "ee713797-3214-4a9e-b2f4-6f0125722ea9",
   "metadata": {
    "tags": []
   },
   "outputs": [],
   "source": [
    "lat_long_df.rename(columns={'geometry_latlong': 'geometry_lat_long'}, inplace=True)"
   ]
  },
  {
   "cell_type": "code",
   "execution_count": 47,
   "id": "0397905c-aa3e-4ce0-b25a-1f3975e753f4",
   "metadata": {
    "tags": []
   },
   "outputs": [],
   "source": [
    "# Setting the multi-index on lat_long_df\n",
    "lat_long_df.set_index(['latitude', 'longitude'], inplace=True)\n",
    "\n",
    "# Mapping the values\n",
    "df_geographic_unique['geometry_lat_long'] = df_geographic_unique.set_index(['latitude', 'longitude']).index.map(lat_long_df['geometry_lat_long'])\n",
    "\n",
    "# Resetting the index of lat_long_df (optional, but good practice)\n",
    "lat_long_df.reset_index(inplace=True)"
   ]
  },
  {
   "cell_type": "code",
   "execution_count": 49,
   "id": "1dd1a59c-5339-41b2-9675-bf60cd4a1427",
   "metadata": {
    "tags": []
   },
   "outputs": [],
   "source": [
    "BG_df.rename(columns={'geometry': 'geometry_BG'}, inplace=True)"
   ]
  },
  {
   "cell_type": "code",
   "execution_count": 50,
   "id": "93e937fb-2b83-49de-8a2b-b9fb7ace9fbb",
   "metadata": {
    "tags": []
   },
   "outputs": [],
   "source": [
    "# Initial mapping with multi-index\n",
    "BG_df.set_index(['GEOID', 'year'], inplace=True)\n",
    "df_geographic_unique['geometry_BG'] = df_geographic_unique.set_index(['censusBlockGroupFips', 'yearOfLoss_1990_2021']).index.map(BG_df['geometry_BG'])\n",
    "\n",
    "# Find rows with NaN values in 'corrected_state_BG'\n",
    "na_rows = df_geographic_unique['geometry_BG'].isna()\n",
    "\n",
    "# Reset index of BG_df\n",
    "df_single_index = BG_df.reset_index()\n",
    "\n",
    "# Sort by 'year' in descending order\n",
    "df_single_index = df_single_index.sort_values(by='year', ascending=False)\n",
    "\n",
    "# Drop duplicates based on the 'GEOID' column. Keep the first occurrence.\n",
    "df_single_index = df_single_index.drop_duplicates(subset='GEOID', keep='first')\n",
    "\n",
    "# Map these rows using only the 'GEOID'\n",
    "df_geographic_unique.loc[na_rows, 'geometry_BG'] = df_geographic_unique.loc[na_rows, 'censusBlockGroupFips'].map(df_single_index.set_index('GEOID')['geometry_BG'])\n",
    "\n",
    "# Resetting the index of BG_df (return to multi-index)\n",
    "BG_df.reset_index(inplace=True)"
   ]
  },
  {
   "cell_type": "code",
   "execution_count": 52,
   "id": "7420d2d4-a009-4a9e-a55f-546485b19fed",
   "metadata": {
    "tags": []
   },
   "outputs": [],
   "source": [
    "import geopandas as gpd\n",
    "from shapely.geometry import Polygon\n",
    "from itertools import product\n",
    "import warnings\n",
    "warnings.filterwarnings(\"ignore\")"
   ]
  },
  {
   "cell_type": "code",
   "execution_count": 53,
   "id": "f1058a64-0987-4c8c-a34b-e77de79324e0",
   "metadata": {
    "tags": []
   },
   "outputs": [],
   "source": [
    "visualize_NC_1 = df_geographic_unique[(df_geographic_unique['state'] == 'NC')]\n",
    "visualize_NC_1 = visualize_NC[['state', 'censusBlockGroupFips', 'latitude', 'longitude', 'yearOfLoss_1990_2021', 'geometry_lat_long', 'geometry_BG']]"
   ]
  },
  {
   "cell_type": "code",
   "execution_count": 58,
   "id": "6cf99104-478d-48e3-8aac-f6980b1c06de",
   "metadata": {
    "tags": []
   },
   "outputs": [
    {
     "data": {
      "text/html": [
       "<div>\n",
       "<style scoped>\n",
       "    .dataframe tbody tr th:only-of-type {\n",
       "        vertical-align: middle;\n",
       "    }\n",
       "\n",
       "    .dataframe tbody tr th {\n",
       "        vertical-align: top;\n",
       "    }\n",
       "\n",
       "    .dataframe thead th {\n",
       "        text-align: right;\n",
       "    }\n",
       "</style>\n",
       "<table border=\"1\" class=\"dataframe\">\n",
       "  <thead>\n",
       "    <tr style=\"text-align: right;\">\n",
       "      <th></th>\n",
       "      <th>state</th>\n",
       "      <th>censusBlockGroupFips</th>\n",
       "      <th>latitude</th>\n",
       "      <th>longitude</th>\n",
       "      <th>yearOfLoss_1990_2021</th>\n",
       "      <th>geometry_lat_long</th>\n",
       "      <th>geometry_BG</th>\n",
       "    </tr>\n",
       "  </thead>\n",
       "  <tbody>\n",
       "    <tr>\n",
       "      <th>25</th>\n",
       "      <td>NC</td>\n",
       "      <td>370319706051</td>\n",
       "      <td>34.7</td>\n",
       "      <td>-76.8</td>\n",
       "      <td>1990</td>\n",
       "      <td>POLYGON ((-76.85000 34.65000, -76.75000 34.650...</td>\n",
       "      <td>POLYGON ((-76.80839 34.73407, -76.80643 34.734...</td>\n",
       "    </tr>\n",
       "    <tr>\n",
       "      <th>31</th>\n",
       "      <td>NC</td>\n",
       "      <td>370119302003</td>\n",
       "      <td>36.0</td>\n",
       "      <td>-81.9</td>\n",
       "      <td>2000</td>\n",
       "      <td>POLYGON ((-81.95000 35.95000, -81.85000 35.950...</td>\n",
       "      <td>POLYGON ((-81.92090 36.06335, -81.92060 36.063...</td>\n",
       "    </tr>\n",
       "    <tr>\n",
       "      <th>90</th>\n",
       "      <td>NC</td>\n",
       "      <td>370559705022</td>\n",
       "      <td>35.3</td>\n",
       "      <td>-75.5</td>\n",
       "      <td>2000</td>\n",
       "      <td>POLYGON ((-75.55000 35.25000, -75.45000 35.250...</td>\n",
       "      <td>POLYGON ((-75.75293 35.19666, -75.75154 35.196...</td>\n",
       "    </tr>\n",
       "    <tr>\n",
       "      <th>92</th>\n",
       "      <td>NC</td>\n",
       "      <td>371290118003</td>\n",
       "      <td>34.2</td>\n",
       "      <td>-77.8</td>\n",
       "      <td>1990</td>\n",
       "      <td>POLYGON ((-77.85000 34.15000, -77.75000 34.150...</td>\n",
       "      <td>POLYGON ((-77.81240 34.21731, -77.79851 34.209...</td>\n",
       "    </tr>\n",
       "    <tr>\n",
       "      <th>94</th>\n",
       "      <td>NC</td>\n",
       "      <td>371290118003</td>\n",
       "      <td>34.2</td>\n",
       "      <td>-77.8</td>\n",
       "      <td>1990</td>\n",
       "      <td>POLYGON ((-77.85000 34.15000, -77.75000 34.150...</td>\n",
       "      <td>POLYGON ((-77.81240 34.21731, -77.79851 34.209...</td>\n",
       "    </tr>\n",
       "  </tbody>\n",
       "</table>\n",
       "</div>"
      ],
      "text/plain": [
       "   state censusBlockGroupFips  latitude  longitude  yearOfLoss_1990_2021  \\\n",
       "25    NC         370319706051      34.7      -76.8                  1990   \n",
       "31    NC         370119302003      36.0      -81.9                  2000   \n",
       "90    NC         370559705022      35.3      -75.5                  2000   \n",
       "92    NC         371290118003      34.2      -77.8                  1990   \n",
       "94    NC         371290118003      34.2      -77.8                  1990   \n",
       "\n",
       "                                    geometry_lat_long  \\\n",
       "25  POLYGON ((-76.85000 34.65000, -76.75000 34.650...   \n",
       "31  POLYGON ((-81.95000 35.95000, -81.85000 35.950...   \n",
       "90  POLYGON ((-75.55000 35.25000, -75.45000 35.250...   \n",
       "92  POLYGON ((-77.85000 34.15000, -77.75000 34.150...   \n",
       "94  POLYGON ((-77.85000 34.15000, -77.75000 34.150...   \n",
       "\n",
       "                                          geometry_BG  \n",
       "25  POLYGON ((-76.80839 34.73407, -76.80643 34.734...  \n",
       "31  POLYGON ((-81.92090 36.06335, -81.92060 36.063...  \n",
       "90  POLYGON ((-75.75293 35.19666, -75.75154 35.196...  \n",
       "92  POLYGON ((-77.81240 34.21731, -77.79851 34.209...  \n",
       "94  POLYGON ((-77.81240 34.21731, -77.79851 34.209...  "
      ]
     },
     "execution_count": 58,
     "metadata": {},
     "output_type": "execute_result"
    }
   ],
   "source": [
    "visualize_NC_1.head()"
   ]
  },
  {
   "cell_type": "code",
   "execution_count": 59,
   "id": "b4916bb6-b490-4f19-ba78-7367ce7a829d",
   "metadata": {
    "tags": []
   },
   "outputs": [],
   "source": [
    "# Create an empty GeoDataFrame to store the intersection results\n",
    "new_unit_df = gpd.GeoDataFrame(columns=['geographic_unit_id', 'censusBlockGroupFips', 'latitude', 'longitude', 'geometry', 'year', 'state'])\n",
    "\n",
    "# Iterate through each row in BG_df_1990 and each row in lat_long_df to find intersections\n",
    "for idx_unit, row_unit in visualize_NC_1.iterrows():\n",
    "    year = row_unit['yearOfLoss_1990_2021']\n",
    "    bg_id = row_unit['censusBlockGroupFips']\n",
    "    bg_geometry = row_unit['geometry_BG']\n",
    "    state = row_unit['state']\n",
    "    lat_long_geometry = row_unit['geometry_lat_long']\n",
    "    lat = row_unit['latitude']\n",
    "    long = row_unit['longitude']\n",
    "    \n",
    "    # Compute intersection geometry\n",
    "\n",
    "    intersection_geometry = bg_geometry.intersection(lat_long_geometry)\n",
    "\n",
    "    # Check if the intersection result is valid\n",
    "    if not intersection_geometry.is_empty:\n",
    "        # Create a unique ID for the intersection using the year and indices\n",
    "        geographic_unit_id = f\"{year}_{bg_id}_{int(abs(lat) * 10)}_{int(abs(long) * 10)}\"\n",
    "\n",
    "        # Append intersection information to a list\n",
    "        new_unit_df = pd.concat([new_unit_df, pd.DataFrame({\n",
    "            'geographic_unit_id': [geographic_unit_id],\n",
    "            'censusBlockGroupFips': [bg_id],\n",
    "            'latitude': [lat],\n",
    "            'longitude': [long],\n",
    "            'geometry': [intersection_geometry],\n",
    "            'year': [year],\n",
    "            'state': [state]\n",
    "        })], ignore_index=True)"
   ]
  },
  {
   "cell_type": "code",
   "execution_count": 74,
   "id": "586d2bff-7f66-4948-94ce-238055b8abb0",
   "metadata": {
    "tags": []
   },
   "outputs": [
    {
     "name": "stdout",
     "output_type": "stream",
     "text": [
      "Average Area: 22.222149189024975 square kilometers\n"
     ]
    },
    {
     "data": {
      "image/png": "[encoded data removed]",
      "text/plain": [
       "<Figure size 1000x1000 with 1 Axes>"
      ]
     },
     "metadata": {},
     "output_type": "display_data"
    }
   ],
   "source": [
    "visualize_NC = new_unit_df[(new_unit_df['state'] == 'NC') & (new_unit_df['year'] == 2010)]\n",
    "\n",
    "# centroids = visualize_NC.geometry.centroid\n",
    "\n",
    "# # Filter the rows where the y-coordinate (latitude) of the centroid is greater than 42\n",
    "# visualize_NC = visualize_NC[centroids.y < 37]\n",
    "# Convert the DataFrame to a GeoDataFrame\n",
    "gdf = gpd.GeoDataFrame(visualize_NC, geometry='geometry')\n",
    "\n",
    "# Set the current CRS to WGS 84 (assuming your data is in latitude and longitude)\n",
    "gdf.crs = \"EPSG:4326\"\n",
    "\n",
    "# Project the GeoDataFrame to a suitable CRS (using Web Mercator here for demonstration)\n",
    "gdf_projected = gdf.to_crs(epsg=3857)\n",
    "\n",
    "# Compute the average area in square meters\n",
    "average_area_m2 = gdf_projected.geometry.area.mean()\n",
    "# Convert the area from square meters to square kilometers\n",
    "average_area_km2 = average_area_m2 / 1e6\n",
    "print(f\"Average Area: {average_area_km2} square kilometers\")\n",
    "\n",
    "# Plot using the 'viridis' colormap\n",
    "gdf.plot(edgecolor=\"black\", cmap='Reds', figsize=(10, 10))\n",
    "\n",
    "plt.xlabel('Longitude')\n",
    "plt.ylabel('Latitude')\n",
    "plt.title('NC Boundary: Using New Geographic unit geometries for 2010')\n",
    "\n",
    "plt.show()"
   ]
  },
  {
   "cell_type": "code",
   "execution_count": null,
   "id": "c081942a-cbce-432e-8b77-ce64b8f73b3d",
   "metadata": {},
   "outputs": [],
   "source": []
  }
 ],
 "metadata": {
  "kernelspec": {
   "display_name": "Python 3 (ipykernel)",
   "language": "python",
   "name": "python3"
  },
  "language_info": {
   "codemirror_mode": {
    "name": "ipython",
    "version": 3
   },
   "file_extension": ".py",
   "mimetype": "text/x-python",
   "name": "python",
   "nbconvert_exporter": "python",
   "pygments_lexer": "ipython3",
   "version": "3.8.17"
  }
 },
 "nbformat": 4,
 "nbformat_minor": 5
}
