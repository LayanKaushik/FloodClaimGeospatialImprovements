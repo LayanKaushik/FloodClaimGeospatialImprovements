{
 "cells": [
  {
   "cell_type": "code",
   "execution_count": 1,
   "id": "5e6a33fa-936f-4abe-98dd-197343e523df",
   "metadata": {
    "tags": []
   },
   "outputs": [],
   "source": [
    "import pandas as pd\n",
    "import numpy as np\n",
    "import matplotlib.pyplot as plt\n",
    "import pyarrow as pa\n",
    "import pyarrow.parquet as pq\n",
    "import geopandas as gpd\n",
    "import seaborn as sns\n",
    "\n",
    "#Packages\n",
    "import matplotlib.ticker as mtick\n",
    "from scipy import stats\n",
    "pd.set_option('display.max_columns', None)\n",
    "\n",
    "from scipy.stats import skew, kurtosis\n",
    "\n",
    "import pygris\n",
    "from shapely.geometry import Polygon\n",
    "\n",
    "import shapely"
   ]
  },
  {
   "cell_type": "code",
   "execution_count": 2,
   "id": "3276995e-b191-495a-a279-935ed0fe65b3",
   "metadata": {
    "tags": []
   },
   "outputs": [],
   "source": [
    "df = pd.read_parquet(\"C:/Users/Jorda/Box/Flood Damage PredictionProject/Dataset/FimaNfipClaims.parquet.gzip\")"
   ]
  },
  {
   "cell_type": "markdown",
   "id": "594186ed-291b-4962-a2de-f86b586a617a",
   "metadata": {
    "tags": []
   },
   "source": [
    "## Third Dataset [NA County, post 2000]\n",
    "## No geographic values missing, no shapefiles missing, post 2000"
   ]
  },
  {
   "cell_type": "code",
   "execution_count": 3,
   "id": "259aa2a8-afb3-47d8-bcfd-32b053e0e958",
   "metadata": {
    "tags": []
   },
   "outputs": [],
   "source": [
    "df_geographic_unique = df[['state', 'reportedZipCode', 'countyCode', 'censusTract', 'censusBlockGroupFips', 'latitude', 'longitude', 'yearOfLoss']].drop_duplicates()"
   ]
  },
  {
   "cell_type": "code",
   "execution_count": 4,
   "id": "d9f82936-6fe6-467d-b27e-d0b5e43104ae",
   "metadata": {
    "tags": []
   },
   "outputs": [],
   "source": [
    "# Defining conditions\n",
    "condition1 = (df_geographic_unique['latitude'].notna() & \n",
    "              df_geographic_unique['censusBlockGroupFips'].notna() & \n",
    "              df_geographic_unique['countyCode'].isna() & \n",
    "              df_geographic_unique['reportedZipCode'].notna())\n",
    "\n",
    "# Filtering the dataframe based on the combined conditions\n",
    "df_geographic_unique = df_geographic_unique[condition1]"
   ]
  },
  {
   "cell_type": "code",
   "execution_count": 5,
   "id": "a7262b4c-9f66-487c-9ac1-8eb07cb35388",
   "metadata": {
    "tags": []
   },
   "outputs": [
    {
     "data": {
      "text/html": [
       "<div>\n",
       "<style scoped>\n",
       "    .dataframe tbody tr th:only-of-type {\n",
       "        vertical-align: middle;\n",
       "    }\n",
       "\n",
       "    .dataframe tbody tr th {\n",
       "        vertical-align: top;\n",
       "    }\n",
       "\n",
       "    .dataframe thead th {\n",
       "        text-align: right;\n",
       "    }\n",
       "</style>\n",
       "<table border=\"1\" class=\"dataframe\">\n",
       "  <thead>\n",
       "    <tr style=\"text-align: right;\">\n",
       "      <th></th>\n",
       "      <th>state</th>\n",
       "      <th>reportedZipCode</th>\n",
       "      <th>countyCode</th>\n",
       "      <th>censusTract</th>\n",
       "      <th>censusBlockGroupFips</th>\n",
       "      <th>latitude</th>\n",
       "      <th>longitude</th>\n",
       "      <th>yearOfLoss</th>\n",
       "    </tr>\n",
       "  </thead>\n",
       "  <tbody>\n",
       "    <tr>\n",
       "      <th>21824</th>\n",
       "      <td>FL</td>\n",
       "      <td>25302.0</td>\n",
       "      <td>NaN</td>\n",
       "      <td>5.403900e+10</td>\n",
       "      <td>5.403900e+11</td>\n",
       "      <td>38.3</td>\n",
       "      <td>-81.6</td>\n",
       "      <td>2004</td>\n",
       "    </tr>\n",
       "    <tr>\n",
       "      <th>23323</th>\n",
       "      <td>VA</td>\n",
       "      <td>24112.0</td>\n",
       "      <td>NaN</td>\n",
       "      <td>5.169000e+10</td>\n",
       "      <td>5.169000e+11</td>\n",
       "      <td>36.7</td>\n",
       "      <td>-79.8</td>\n",
       "      <td>2018</td>\n",
       "    </tr>\n",
       "    <tr>\n",
       "      <th>70859</th>\n",
       "      <td>AL</td>\n",
       "      <td>35766.0</td>\n",
       "      <td>NaN</td>\n",
       "      <td>7.212700e+10</td>\n",
       "      <td>7.212700e+11</td>\n",
       "      <td>18.4</td>\n",
       "      <td>-66.0</td>\n",
       "      <td>1990</td>\n",
       "    </tr>\n",
       "    <tr>\n",
       "      <th>81466</th>\n",
       "      <td>CA</td>\n",
       "      <td>95901.0</td>\n",
       "      <td>NaN</td>\n",
       "      <td>2.011706e+10</td>\n",
       "      <td>2.011706e+11</td>\n",
       "      <td>39.8</td>\n",
       "      <td>-96.6</td>\n",
       "      <td>1997</td>\n",
       "    </tr>\n",
       "    <tr>\n",
       "      <th>92161</th>\n",
       "      <td>NC</td>\n",
       "      <td>28401.0</td>\n",
       "      <td>NaN</td>\n",
       "      <td>2.404795e+10</td>\n",
       "      <td>2.404795e+11</td>\n",
       "      <td>38.4</td>\n",
       "      <td>-75.1</td>\n",
       "      <td>1996</td>\n",
       "    </tr>\n",
       "  </tbody>\n",
       "</table>\n",
       "</div>"
      ],
      "text/plain": [
       "      state  reportedZipCode  countyCode   censusTract  censusBlockGroupFips  \\\n",
       "21824    FL          25302.0         NaN  5.403900e+10          5.403900e+11   \n",
       "23323    VA          24112.0         NaN  5.169000e+10          5.169000e+11   \n",
       "70859    AL          35766.0         NaN  7.212700e+10          7.212700e+11   \n",
       "81466    CA          95901.0         NaN  2.011706e+10          2.011706e+11   \n",
       "92161    NC          28401.0         NaN  2.404795e+10          2.404795e+11   \n",
       "\n",
       "       latitude  longitude  yearOfLoss  \n",
       "21824      38.3      -81.6        2004  \n",
       "23323      36.7      -79.8        2018  \n",
       "70859      18.4      -66.0        1990  \n",
       "81466      39.8      -96.6        1997  \n",
       "92161      38.4      -75.1        1996  "
      ]
     },
     "execution_count": 5,
     "metadata": {},
     "output_type": "execute_result"
    }
   ],
   "source": [
    "df_geographic_unique.head()"
   ]
  },
  {
   "cell_type": "code",
   "execution_count": 6,
   "id": "6fefcacd-91e5-4c57-90ae-a5b478ae7a6c",
   "metadata": {
    "tags": []
   },
   "outputs": [
    {
     "name": "stdout",
     "output_type": "stream",
     "text": [
      "0\n",
      "0\n",
      "4964\n",
      "0\n",
      "0\n",
      "0\n",
      "0\n"
     ]
    }
   ],
   "source": [
    "print(sum(df_geographic_unique['state'].isna()))\n",
    "print(sum(df_geographic_unique['reportedZipCode'].isna()))\n",
    "print(sum(df_geographic_unique['countyCode'].isna()))\n",
    "print(sum(df_geographic_unique['censusTract'].isna()))\n",
    "print(sum(df_geographic_unique['censusBlockGroupFips'].isna()))\n",
    "print(sum(df_geographic_unique['latitude'].isna()))\n",
    "print(sum(df_geographic_unique['yearOfLoss'].isna()))"
   ]
  },
  {
   "cell_type": "code",
   "execution_count": 7,
   "id": "472bcc5a-7601-45f0-a129-d3511ab53afd",
   "metadata": {
    "tags": []
   },
   "outputs": [],
   "source": [
    "df_geographic_unique['reportedZipCode'] = df_geographic_unique['reportedZipCode'].dropna().astype(int).astype(str)\n",
    "df_geographic_unique['reportedZipCode'] = [zipcode.zfill(5) for zipcode in df_geographic_unique['reportedZipCode']]\n",
    "\n",
    "df_geographic_unique['censusBlockGroupFips'] = [str(int(float(i))) for i in df_geographic_unique['censusBlockGroupFips']]\n",
    "df_geographic_unique['censusBlockGroupFips'] = [censusBG.zfill(12) for censusBG in df_geographic_unique['censusBlockGroupFips']]\n",
    "\n",
    "df_geographic_unique['censusTract'] = [str(int(float(i))) for i in df_geographic_unique['censusTract']]\n",
    "df_geographic_unique['censusTract'] = [censusBG.zfill(11) for censusBG in df_geographic_unique['censusTract']]"
   ]
  },
  {
   "cell_type": "code",
   "execution_count": 8,
   "id": "59938e49-19f4-4a5d-9c40-539c166d91e3",
   "metadata": {},
   "outputs": [],
   "source": [
    "# # Define bins and labels for yearOfLoss_1980_2020\n",
    "# bins_1980_2020 = [df_geographic_unique['yearOfLoss'].min(), 1990, 2000, 2010, 2020, df_geographic_unique['yearOfLoss'].max() + 1]\n",
    "# labels_1980_2020 = [1980, 1990, 2000, 2010, 2020]\n",
    "\n",
    "# df_geographic_unique['yearOfLoss_1980_2020'] = pd.cut(df_geographic_unique['yearOfLoss'], bins=bins_1980_2020, labels=labels_1980_2020, right=False).astype(int)"
   ]
  },
  {
   "cell_type": "code",
   "execution_count": 9,
   "id": "ced408b4-673a-4332-8bc1-fb789767a246",
   "metadata": {
    "tags": []
   },
   "outputs": [],
   "source": [
    "# Define bins and labels for yearOfLoss_1990_2021\n",
    "\n",
    "bins_1990_2021 = [df_geographic_unique['yearOfLoss'].min(), 2000, 2010, 2020, df_geographic_unique['yearOfLoss'].max() + 1]\n",
    "labels_1990_2021 = [1990, 2000, 2010, 2020]\n",
    "\n",
    "df_geographic_unique['yearOfLoss_1990_2021'] = pd.cut(df_geographic_unique['yearOfLoss'], bins=bins_1990_2021, labels=labels_1990_2021, right=False).astype(int)\n",
    "\n",
    "bins_2000_2021 = [df_geographic_unique['yearOfLoss'].min(), 2000, 2010, 2020, df_geographic_unique['yearOfLoss'].max() + 1]\n",
    "labels_2000_2021 = [1990, 2000, 2010, 2020]\n",
    "\n",
    "df_geographic_unique['yearOfLoss_2000_2021'] = pd.cut(df_geographic_unique['yearOfLoss'], bins=bins_2000_2021, labels=labels_2000_2021, right=False).astype(int)\n",
    "\n",
    "\n",
    "df_geographic_unique = df_geographic_unique.drop_duplicates()"
   ]
  },
  {
   "cell_type": "code",
   "execution_count": 10,
   "id": "c5d2d822",
   "metadata": {},
   "outputs": [],
   "source": [
    "# (The initial part of the script remains unchanged; assuming 'df_geographic_unique' and 'yearOfLoss' are already defined.)\n",
    "\n",
    "# Step 1: Define the bins.\n",
    "# The last bin edge is exclusive with 'right=False', so we need 2024 as the edge to include 2023 in the previous bin.\n",
    "custom_bins = [0, 2000, 2010, 2011] + list(range(2012, 2023)) + [2024]\n",
    "\n",
    "# Step 2: Define the labels.\n",
    "# We only need one label for 2022 that covers both 2022 and 2023.\n",
    "custom_labels = [0, 2000, 2010] + list(range(2011, 2023))  # The label 2022 will apply to both 2022 and 2023.\n",
    "\n",
    "# Ensure the number of labels is one less than the number of bin edges.\n",
    "assert len(custom_bins) == len(custom_labels) + 1, \"Number of bin labels must be one fewer than the number of bin edges.\"\n",
    "\n",
    "# Step 3: Apply the custom binning and create the 'zip_year_bin' column.\n",
    "df_geographic_unique['zip_year_bin'] = pd.cut(\n",
    "    df_geographic_unique['yearOfLoss'],\n",
    "    bins=custom_bins,\n",
    "    labels=custom_labels,\n",
    "    right=False,  # Ensuring the rightmost edge is exclusive.\n",
    "    include_lowest=True,  # Including the leftmost edge.\n",
    ").astype(int)  # Converting the resulting categories to integers for convenience.\n",
    "\n",
    "# After this, if you wish, you can proceed with cleaning up the DataFrame by removing the 'yearOfLoss' column and duplicates.\n"
   ]
  },
  {
   "cell_type": "code",
   "execution_count": 11,
   "id": "a3342268-f6c3-41a0-b21a-4f6f4efd66db",
   "metadata": {
    "tags": []
   },
   "outputs": [
    {
     "data": {
      "text/html": [
       "<div>\n",
       "<style scoped>\n",
       "    .dataframe tbody tr th:only-of-type {\n",
       "        vertical-align: middle;\n",
       "    }\n",
       "\n",
       "    .dataframe tbody tr th {\n",
       "        vertical-align: top;\n",
       "    }\n",
       "\n",
       "    .dataframe thead th {\n",
       "        text-align: right;\n",
       "    }\n",
       "</style>\n",
       "<table border=\"1\" class=\"dataframe\">\n",
       "  <thead>\n",
       "    <tr style=\"text-align: right;\">\n",
       "      <th></th>\n",
       "      <th>state</th>\n",
       "      <th>reportedZipCode</th>\n",
       "      <th>countyCode</th>\n",
       "      <th>censusTract</th>\n",
       "      <th>censusBlockGroupFips</th>\n",
       "      <th>latitude</th>\n",
       "      <th>longitude</th>\n",
       "      <th>yearOfLoss</th>\n",
       "      <th>yearOfLoss_1990_2021</th>\n",
       "      <th>yearOfLoss_2000_2021</th>\n",
       "      <th>zip_year_bin</th>\n",
       "    </tr>\n",
       "  </thead>\n",
       "  <tbody>\n",
       "    <tr>\n",
       "      <th>21824</th>\n",
       "      <td>FL</td>\n",
       "      <td>25302</td>\n",
       "      <td>NaN</td>\n",
       "      <td>54039001100</td>\n",
       "      <td>540390011006</td>\n",
       "      <td>38.3</td>\n",
       "      <td>-81.6</td>\n",
       "      <td>2004</td>\n",
       "      <td>2000</td>\n",
       "      <td>2000</td>\n",
       "      <td>2000</td>\n",
       "    </tr>\n",
       "    <tr>\n",
       "      <th>23323</th>\n",
       "      <td>VA</td>\n",
       "      <td>24112</td>\n",
       "      <td>NaN</td>\n",
       "      <td>51690000500</td>\n",
       "      <td>516900005003</td>\n",
       "      <td>36.7</td>\n",
       "      <td>-79.8</td>\n",
       "      <td>2018</td>\n",
       "      <td>2010</td>\n",
       "      <td>2010</td>\n",
       "      <td>2018</td>\n",
       "    </tr>\n",
       "    <tr>\n",
       "      <th>70859</th>\n",
       "      <td>AL</td>\n",
       "      <td>35766</td>\n",
       "      <td>NaN</td>\n",
       "      <td>72127004600</td>\n",
       "      <td>721270046004</td>\n",
       "      <td>18.4</td>\n",
       "      <td>-66.0</td>\n",
       "      <td>1990</td>\n",
       "      <td>1990</td>\n",
       "      <td>1990</td>\n",
       "      <td>0</td>\n",
       "    </tr>\n",
       "    <tr>\n",
       "      <th>81466</th>\n",
       "      <td>CA</td>\n",
       "      <td>95901</td>\n",
       "      <td>NaN</td>\n",
       "      <td>20117060510</td>\n",
       "      <td>201170605103</td>\n",
       "      <td>39.8</td>\n",
       "      <td>-96.6</td>\n",
       "      <td>1997</td>\n",
       "      <td>1990</td>\n",
       "      <td>1990</td>\n",
       "      <td>0</td>\n",
       "    </tr>\n",
       "    <tr>\n",
       "      <th>92161</th>\n",
       "      <td>NC</td>\n",
       "      <td>28401</td>\n",
       "      <td>NaN</td>\n",
       "      <td>24047950300</td>\n",
       "      <td>240479503002</td>\n",
       "      <td>38.4</td>\n",
       "      <td>-75.1</td>\n",
       "      <td>1996</td>\n",
       "      <td>1990</td>\n",
       "      <td>1990</td>\n",
       "      <td>0</td>\n",
       "    </tr>\n",
       "  </tbody>\n",
       "</table>\n",
       "</div>"
      ],
      "text/plain": [
       "      state reportedZipCode  countyCode  censusTract censusBlockGroupFips  \\\n",
       "21824    FL           25302         NaN  54039001100         540390011006   \n",
       "23323    VA           24112         NaN  51690000500         516900005003   \n",
       "70859    AL           35766         NaN  72127004600         721270046004   \n",
       "81466    CA           95901         NaN  20117060510         201170605103   \n",
       "92161    NC           28401         NaN  24047950300         240479503002   \n",
       "\n",
       "       latitude  longitude  yearOfLoss  yearOfLoss_1990_2021  \\\n",
       "21824      38.3      -81.6        2004                  2000   \n",
       "23323      36.7      -79.8        2018                  2010   \n",
       "70859      18.4      -66.0        1990                  1990   \n",
       "81466      39.8      -96.6        1997                  1990   \n",
       "92161      38.4      -75.1        1996                  1990   \n",
       "\n",
       "       yearOfLoss_2000_2021  zip_year_bin  \n",
       "21824                  2000          2000  \n",
       "23323                  2010          2018  \n",
       "70859                  1990             0  \n",
       "81466                  1990             0  \n",
       "92161                  1990             0  "
      ]
     },
     "execution_count": 11,
     "metadata": {},
     "output_type": "execute_result"
    }
   ],
   "source": [
    "df_geographic_unique.head()"
   ]
  },
  {
   "cell_type": "markdown",
   "id": "4783b44a-b8be-476a-9d41-89d5172f3f56",
   "metadata": {},
   "source": [
    "## Read shapefiles"
   ]
  },
  {
   "cell_type": "code",
   "execution_count": 12,
   "id": "5dc2e6cf-9e37-4974-825f-24398be296b3",
   "metadata": {
    "tags": []
   },
   "outputs": [
    {
     "name": "stdout",
     "output_type": "stream",
     "text": [
      "Using the default year of 2021\n"
     ]
    }
   ],
   "source": [
    "states = pygris.states()\n",
    "\n",
    "state_df = states[['STUSPS', 'NAME', 'geometry']]"
   ]
  },
  {
   "cell_type": "code",
   "execution_count": 13,
   "id": "2cced178-934a-411f-be8f-bf65fc418e10",
   "metadata": {
    "tags": []
   },
   "outputs": [
    {
     "data": {
      "text/plain": [
       "False"
      ]
     },
     "execution_count": 13,
     "metadata": {},
     "output_type": "execute_result"
    }
   ],
   "source": [
    "#Checking if all states found in our dataset are in the US Census Bureau TIGER/Line and cartographic boundary shapefiles\n",
    "\n",
    "unique_states = df_geographic_unique['state'].unique()\n",
    "state_STUSPS_unique = state_df['STUSPS'].unique()\n",
    "\n",
    "np.all(np.isin(unique_states, state_STUSPS_unique))"
   ]
  },
  {
   "cell_type": "code",
   "execution_count": 14,
   "id": "ce3582a8-cb16-48e5-9742-5fba90c5a8e9",
   "metadata": {
    "tags": []
   },
   "outputs": [],
   "source": [
    "# Read the parquet file\n",
    "df_read = pd.read_parquet(\"C:/Users/Jorda/Box/Flood Damage PredictionProject/Dataset/lat_long_geometry.parquet.gzip\")\n",
    "\n",
    "# Convert the WKT strings back to geometries\n",
    "lat_long_df = gpd.GeoDataFrame(df_read, geometry=df_read['geometry'].apply(lambda x: shapely.wkt.loads(x)))"
   ]
  },
  {
   "cell_type": "code",
   "execution_count": 15,
   "id": "672d4d27-e73b-45bd-9638-296e91da2ecc",
   "metadata": {
    "tags": []
   },
   "outputs": [],
   "source": [
    "# Blockgroup shapefile\n",
    "\n",
    "chunk_size = 40000 \n",
    "chunks = [x for x in range(0, 120000, chunk_size)]\n",
    "\n",
    "gdf_list = []\n",
    "\n",
    "for start in chunks:\n",
    "    end = start + chunk_size\n",
    "    temp_df = pd.read_parquet(f\"C:/Users/Jorda/Box/Flood Damage PredictionProject/Dataset/BG_geometry_{start}_{end}.parquet.gzip\")\n",
    "    gdf_read = gpd.GeoDataFrame(temp_df, geometry=temp_df['geometry'].apply(lambda x: shapely.wkt.loads(x)))\n",
    "    gdf_list.append(gdf_read)\n",
    "\n",
    "# Concatenate all GeoDataFrames in the list into a single GeoDataFrame\n",
    "BG_df= pd.concat(gdf_list, ignore_index=True)"
   ]
  },
  {
   "cell_type": "code",
   "execution_count": 16,
   "id": "c53f7688-096e-4f05-a325-37ab0c476fad",
   "metadata": {
    "tags": []
   },
   "outputs": [],
   "source": [
    "chunk_size = 50000  # adjust based on your system's capabilities\n",
    "chunks = [x for x in range(0, 300000, chunk_size)]\n",
    "\n",
    "gdf_list = []\n",
    "\n",
    "for start in chunks:\n",
    "    end = start + chunk_size\n",
    "    temp_df = pd.read_parquet(f\"C:/Users/Jorda/Box/Flood Damage PredictionProject/Dataset/zipcode_geometry_{start}_{end}.parquet.gzip\")\n",
    "    gdf_read = gpd.GeoDataFrame(temp_df, geometry=temp_df['geometry'].apply(lambda x: shapely.wkt.loads(x)))\n",
    "    gdf_list.append(gdf_read)\n",
    "    \n",
    "# Concatenate all GeoDataFrames in the list into a single GeoDataFrame\n",
    "zipcode_df = pd.concat(gdf_list, ignore_index=True)"
   ]
  },
  {
   "cell_type": "code",
   "execution_count": 17,
   "id": "e179eb72-60d4-46b2-a158-dd020d882ce3",
   "metadata": {
    "tags": []
   },
   "outputs": [],
   "source": [
    "# Read shapefile of census tract code\n",
    "chunk_size = 30000 \n",
    "chunks = [x for x in range(0, 60000, chunk_size)]\n",
    "\n",
    "gdf_list = []\n",
    "\n",
    "for start in chunks:\n",
    "    end = start + chunk_size\n",
    "    temp_df = pd.read_parquet(f\"C:/Users/Jorda/Box/Flood Damage PredictionProject/Dataset/Tract_geometry_{start}_{end}.parquet.gzip\")\n",
    "    gdf_read = gpd.GeoDataFrame(temp_df, geometry=temp_df['geometry'].apply(lambda x: shapely.wkt.loads(x)))\n",
    "    gdf_list.append(gdf_read)\n",
    "\n",
    "# Concatenate all GeoDataFrames in the list into a single GeoDataFrame\n",
    "Tract_df= pd.concat(gdf_list, ignore_index=True)"
   ]
  },
  {
   "cell_type": "markdown",
   "id": "1e939c53-2c45-4c6b-b263-2b73f8eaf43e",
   "metadata": {},
   "source": [
    "## Geometry Intersection creation"
   ]
  },
  {
   "cell_type": "code",
   "execution_count": 18,
   "id": "bfe7ff21-cf1d-4725-8e60-6f604c6f0a00",
   "metadata": {
    "tags": []
   },
   "outputs": [
    {
     "name": "stderr",
     "output_type": "stream",
     "text": [
      "C:\\Users\\jorda\\AppData\\Local\\Temp\\ipykernel_7972\\161085960.py:1: SettingWithCopyWarning: \n",
      "A value is trying to be set on a copy of a slice from a DataFrame\n",
      "\n",
      "See the caveats in the documentation: https://pandas.pydata.org/pandas-docs/stable/user_guide/indexing.html#returning-a-view-versus-a-copy\n",
      "  state_df.rename(columns={'geometry': 'geometry_state'}, inplace=True)\n"
     ]
    }
   ],
   "source": [
    "state_df.rename(columns={'geometry': 'geometry_state'}, inplace=True)\n",
    "lat_long_df.rename(columns={'geometry': 'geometry_lat_long'}, inplace=True)\n",
    "BG_df.rename(columns={'geometry': 'geometry_BG'}, inplace=True)\n",
    "zipcode_df.rename(columns={'geometry': 'geometry_zipcode'}, inplace=True)\n",
    "Tract_df.rename(columns={'geometry': 'geometry_tract'}, inplace=True)"
   ]
  },
  {
   "cell_type": "code",
   "execution_count": null,
   "id": "03cdc591",
   "metadata": {},
   "outputs": [],
   "source": [
    "\n"
   ]
  },
  {
   "cell_type": "code",
   "execution_count": 19,
   "id": "9101cac4-cc10-407c-9c5b-14119f8f6ed2",
   "metadata": {
    "tags": []
   },
   "outputs": [],
   "source": [
    "# Filter for post 2000\n",
    "# df_geographic_unique = df_geographic_unique[(df_geographic_unique['yearOfLoss_1980_2020']!=1980) & (df_geographic_unique['yearOfLoss_1980_2020']!=1980)]\n",
    "\n",
    "df_geographic_unique = df_geographic_unique[df_geographic_unique['yearOfLoss_2000_2021']!=0]"
   ]
  },
  {
   "cell_type": "code",
   "execution_count": 20,
   "id": "af4b1b6b-205a-4c13-9385-c089dcfb2136",
   "metadata": {
    "tags": []
   },
   "outputs": [],
   "source": [
    "# Setting the multi-index on lat_long_df\n",
    "lat_long_df.set_index(['latitude', 'longitude'], inplace=True)\n",
    "\n",
    "# Mapping the values\n",
    "df_geographic_unique['geometry_lat_long'] = df_geographic_unique.set_index(['latitude', 'longitude']).index.map(lat_long_df['geometry_lat_long'])\n",
    "\n",
    "# Resetting the index of lat_long_df (optional, but good practice)\n",
    "lat_long_df.reset_index(inplace=True)"
   ]
  },
  {
   "cell_type": "code",
   "execution_count": 21,
   "id": "462231ec-209d-468c-bdd6-49e5fd648d92",
   "metadata": {
    "tags": []
   },
   "outputs": [],
   "source": [
    "# Initial mapping with multi-index\n",
    "BG_df.set_index(['GEOID'], inplace=True)\n",
    "df_geographic_unique['geometry_BG'] = df_geographic_unique.set_index(['censusBlockGroupFips']).index.map(BG_df['geometry_BG'])\n",
    "\n",
    "# Resetting the index of BG_df (return to multi-index)\n",
    "BG_df.reset_index(inplace=True)"
   ]
  },
  {
   "cell_type": "code",
   "execution_count": 22,
   "id": "6953d555-0408-41e3-8859-c04d1f9bacfc",
   "metadata": {
    "tags": []
   },
   "outputs": [],
   "source": [
    "# Initial mapping with multi-index\n",
    "zipcode_df.set_index(['ZIPcode', 'year'], inplace=True)\n",
    "df_geographic_unique['geometry_zipcode'] = df_geographic_unique.set_index(['reportedZipCode', 'zip_year_bin']).index.map(zipcode_df['geometry_zipcode'])\n",
    "\n",
    "# Resetting the index of zipcode_df (return to multi-index)\n",
    "zipcode_df.reset_index(inplace=True)"
   ]
  },
  {
   "cell_type": "code",
   "execution_count": 23,
   "id": "be627ecc-f569-41e8-961d-bf53859f69c5",
   "metadata": {
    "tags": []
   },
   "outputs": [],
   "source": [
    "# Setting the multi-index on lat_long_df\n",
    "state_df.set_index(['STUSPS'], inplace=True)\n",
    "\n",
    "# Mapping the values\n",
    "df_geographic_unique['geometry_state'] = df_geographic_unique.set_index(['state']).index.map(state_df['geometry_state'])\n",
    "\n",
    "# Resetting the index of lat_long_df (optional, but good practice)\n",
    "state_df.reset_index(inplace=True)"
   ]
  },
  {
   "cell_type": "code",
   "execution_count": 24,
   "id": "08db5e3b-9af9-4668-a2bc-fa037da2e7d1",
   "metadata": {
    "tags": []
   },
   "outputs": [],
   "source": [
    "# Initial mapping with multi-index\n",
    "Tract_df.set_index(['censusTractID'], inplace=True)\n",
    "df_geographic_unique['geometry_tract'] = df_geographic_unique.set_index(['censusTract']).index.map(Tract_df['geometry_tract'])\n",
    "\n",
    "# Resetting the index of Tract_df (return to multi-index)\n",
    "Tract_df.reset_index(inplace=True)"
   ]
  },
  {
   "cell_type": "markdown",
   "id": "270dea85-62ce-400f-95f6-2379579f336d",
   "metadata": {},
   "source": [
    "## Drop rows with missing shapefiles"
   ]
  },
  {
   "cell_type": "code",
   "execution_count": 25,
   "id": "81019b69-3b25-47e4-960d-5b4fee6ad0cf",
   "metadata": {
    "tags": []
   },
   "outputs": [],
   "source": [
    "df_geographic_unique = df_geographic_unique[(df_geographic_unique['geometry_BG'].notna())\n",
    "                              & (df_geographic_unique['geometry_zipcode'].notna())\n",
    "                              & (df_geographic_unique['geometry_tract'].notna())]\n",
    "#df_geographic_unique = df_geographic_unique[df_geographic_unique['state'] != 'UN']"
   ]
  },
  {
   "cell_type": "markdown",
   "id": "402b9c2f-9ee8-4171-98c3-42fab1681427",
   "metadata": {},
   "source": [
    "## Creating the intersections"
   ]
  },
  {
   "cell_type": "code",
   "execution_count": 26,
   "id": "8b2a5852-d041-4253-a1be-4b88fe46764a",
   "metadata": {
    "tags": []
   },
   "outputs": [],
   "source": [
    "import geopandas as gpd\n",
    "from shapely.geometry import Polygon\n",
    "from itertools import product\n",
    "import warnings\n",
    "warnings.filterwarnings(\"ignore\")"
   ]
  },
  {
   "cell_type": "code",
   "execution_count": 27,
   "id": "a4686bd6-122f-452f-b086-6e3656b187f8",
   "metadata": {
    "tags": []
   },
   "outputs": [
    {
     "data": {
      "text/plain": [
       "1503"
      ]
     },
     "execution_count": 27,
     "metadata": {},
     "output_type": "execute_result"
    }
   ],
   "source": [
    "len(df_geographic_unique)"
   ]
  },
  {
   "cell_type": "code",
   "execution_count": 28,
   "id": "b24d460c-adb5-43bb-ad21-1181ff876ca7",
   "metadata": {
    "tags": []
   },
   "outputs": [],
   "source": [
    "# Create an empty GeoDataFrame to store the intersection results\n",
    "new_unit_df = gpd.GeoDataFrame(columns=['reportedZipCode', 'countyCode', 'censusTract',\n",
    "                                       'censusBlockGroupFips', 'latitude', 'longitude', 'year', 'year_zipcode', 'state', 'geometry_zipcode',\n",
    "                                        'geometry_tract','geometry_BG','geometry_lat_long','geometry_state',\n",
    "                                         'cbgInconsistent', 'tractInconsistent', 'countyInconsistent', 'stateInconsistent', 'latlongInconsistent', 'multiple', 'noOverlap', 'oneWrong'])\n",
    "\n",
    "# Iterate through each row in BG_df_1990 and each row in lat_long_df to find intersections\n",
    "for idx_unit, row_unit in df_geographic_unique.iterrows():\n",
    "    year = row_unit['yearOfLoss_1990_2021']\n",
    "    year_zipcode = row_unit['zip_year_bin']\n",
    "    bg_id = row_unit['censusBlockGroupFips']\n",
    "    bg_geometry = row_unit['geometry_BG']\n",
    "    tract_id = row_unit['censusTract']\n",
    "    tract_geometry = row_unit['geometry_tract']\n",
    "    county_id = row_unit['countyCode']\n",
    "    state = row_unit['state']\n",
    "    state_geometry = row_unit['geometry_state']\n",
    "    lat_long_geometry = row_unit['geometry_lat_long']\n",
    "    lat = row_unit['latitude']\n",
    "    long = row_unit['longitude']\n",
    "    zipcode_geometry = row_unit['geometry_zipcode']\n",
    "    zipcode = row_unit['reportedZipCode']\n",
    "    \n",
    "    # Compute intersection geometry\n",
    "    #intersection_geometry = bg_geometry.intersection(lat_long_geometry).intersection(zipcode_geometry).intersection(county_geometry).intersection(state_geometry).intersection(tract_geometry)\n",
    "    \n",
    "    # First intersection\n",
    "    intersection_1 = bg_geometry.intersection(lat_long_geometry)\n",
    "\n",
    "    # Second intersection\n",
    "    intersection_2 = intersection_1.intersection(zipcode_geometry)\n",
    "\n",
    "    \n",
    "    # Third intersection\n",
    "    # Fourth intersection\n",
    "    intersection_4 = intersection_2.intersection(tract_geometry)\n",
    "\n",
    "    # Fifth intersection\n",
    "    intersection_geometry = intersection_4.intersection(state_geometry)\n",
    "    if intersection_geometry is None or intersection_geometry.is_empty:\n",
    "        new_unit_df = pd.concat([new_unit_df, pd.DataFrame({\n",
    "            'reportedZipCode': [zipcode],\n",
    "            'countyCode': [county_id],\n",
    "            'censusTract': [tract_id],\n",
    "            'censusBlockGroupFips': [bg_id],\n",
    "            'latitude': [lat],\n",
    "            'longitude': [long],\n",
    "            'year': [year],\n",
    "            'state': [state],\n",
    "            'geometry_zipcode': [zipcode_geometry],\n",
    "            'geometry_tract': [tract_geometry],\n",
    "            'geometry_BG': [bg_geometry],\n",
    "            'geometry_lat_long': [lat_long_geometry],\n",
    "            'geometry_state': [state_geometry]\n",
    "        })], ignore_index=True)"
   ]
  },
  {
   "cell_type": "code",
   "execution_count": 29,
   "id": "e9518b68",
   "metadata": {
    "tags": []
   },
   "outputs": [
    {
     "data": {
      "text/plain": [
       "212"
      ]
     },
     "execution_count": 29,
     "metadata": {},
     "output_type": "execute_result"
    }
   ],
   "source": [
    "len(new_unit_df)"
   ]
  },
  {
   "cell_type": "code",
   "execution_count": 30,
   "id": "72508938-9d19-4321-aaa1-387c5a743c64",
   "metadata": {
    "tags": []
   },
   "outputs": [],
   "source": [
    "for idx_unit, row_unit in new_unit_df.iterrows():\n",
    "    year = row_unit['year']\n",
    "    bg_id = row_unit['censusBlockGroupFips']\n",
    "    bg_geometry = row_unit['geometry_BG']\n",
    "    tract_id = row_unit['censusTract']\n",
    "    tract_geometry = row_unit['geometry_tract']\n",
    "    county_id = row_unit['countyCode']\n",
    "    state = row_unit['state']\n",
    "    state_geometry = row_unit['geometry_state']\n",
    "    lat_long_geometry = row_unit['geometry_lat_long']\n",
    "    lat = row_unit['latitude']\n",
    "    long = row_unit['longitude']\n",
    "    zipcode_geometry = row_unit['geometry_zipcode']\n",
    "    zipcode = row_unit['reportedZipCode']\n",
    "    \n",
    "\n",
    "    intersection_geometry = lat_long_geometry.intersection(tract_geometry).intersection(zipcode_geometry).intersection(state_geometry)\n",
    "\n",
    "    if intersection_geometry is None or intersection_geometry.is_empty:\n",
    "        new_unit_df.at[idx_unit, 'cbgInconsistent'] = 0\n",
    "    else:\n",
    "        new_unit_df.at[idx_unit, 'cbgInconsistent'] = 1   "
   ]
  },
  {
   "cell_type": "code",
   "execution_count": 31,
   "id": "96f4948e",
   "metadata": {
    "tags": []
   },
   "outputs": [
    {
     "data": {
      "text/plain": [
       "14"
      ]
     },
     "execution_count": 31,
     "metadata": {},
     "output_type": "execute_result"
    }
   ],
   "source": [
    "new_unit_df['cbgInconsistent'].sum()"
   ]
  },
  {
   "cell_type": "code",
   "execution_count": 32,
   "id": "27bf67d9",
   "metadata": {
    "tags": []
   },
   "outputs": [],
   "source": [
    "for idx_unit, row_unit in new_unit_df.iterrows():\n",
    "    year = row_unit['year']\n",
    "    bg_id = row_unit['censusBlockGroupFips']\n",
    "    bg_geometry = row_unit['geometry_BG']\n",
    "    tract_id = row_unit['censusTract']\n",
    "    tract_geometry = row_unit['geometry_tract']\n",
    "    county_id = row_unit['countyCode']\n",
    "    state = row_unit['state']\n",
    "    state_geometry = row_unit['geometry_state']\n",
    "    lat_long_geometry = row_unit['geometry_lat_long']\n",
    "    lat = row_unit['latitude']\n",
    "    long = row_unit['longitude']\n",
    "    zipcode_geometry = row_unit['geometry_zipcode']\n",
    "    zipcode = row_unit['reportedZipCode']\n",
    "    \n",
    "    intersection_geometry = bg_geometry.intersection(zipcode_geometry).intersection(lat_long_geometry).intersection(state_geometry)\n",
    "\n",
    "    if intersection_geometry is None or intersection_geometry.is_empty:\n",
    "        new_unit_df.at[idx_unit,'tractInconsistent'] = 0\n",
    "    else:\n",
    "        new_unit_df.at[idx_unit,'tractInconsistent'] = 1"
   ]
  },
  {
   "cell_type": "code",
   "execution_count": 33,
   "id": "f4e027cc",
   "metadata": {
    "tags": []
   },
   "outputs": [
    {
     "data": {
      "text/plain": [
       "0"
      ]
     },
     "execution_count": 33,
     "metadata": {},
     "output_type": "execute_result"
    }
   ],
   "source": [
    "new_unit_df['tractInconsistent'].sum()"
   ]
  },
  {
   "cell_type": "code",
   "execution_count": 34,
   "id": "0c0e87c0-73df-4bf7-866a-d7c62547ca2d",
   "metadata": {
    "tags": []
   },
   "outputs": [],
   "source": [
    "for idx_unit, row_unit in new_unit_df.iterrows():\n",
    "    year = row_unit['year']\n",
    "    bg_id = row_unit['censusBlockGroupFips']\n",
    "    bg_geometry = row_unit['geometry_BG']\n",
    "    tract_id = row_unit['censusTract']\n",
    "    tract_geometry = row_unit['geometry_tract']\n",
    "    county_id = row_unit['countyCode']\n",
    "    state = row_unit['state']\n",
    "    state_geometry = row_unit['geometry_state']\n",
    "    lat_long_geometry = row_unit['geometry_lat_long']\n",
    "    lat = row_unit['latitude']\n",
    "    long = row_unit['longitude']\n",
    "    zipcode_geometry = row_unit['geometry_zipcode']\n",
    "    zipcode = row_unit['reportedZipCode']\n",
    "    \n",
    "    intersection_geometry = bg_geometry.intersection(lat_long_geometry).intersection(zipcode_geometry).intersection(tract_geometry).intersection(state_geometry)\n",
    "\n",
    "    if intersection_geometry is None or intersection_geometry.is_empty:\n",
    "        new_unit_df.at[idx_unit,'countyInconsistent'] = 0\n",
    "    else:\n",
    "        new_unit_df.at[idx_unit,'countyInconsistent'] = 1"
   ]
  },
  {
   "cell_type": "code",
   "execution_count": 35,
   "id": "4b3e7f6d",
   "metadata": {
    "tags": []
   },
   "outputs": [
    {
     "data": {
      "text/plain": [
       "0"
      ]
     },
     "execution_count": 35,
     "metadata": {},
     "output_type": "execute_result"
    }
   ],
   "source": [
    "new_unit_df['countyInconsistent'].sum()"
   ]
  },
  {
   "cell_type": "code",
   "execution_count": 36,
   "id": "7ae01b2a",
   "metadata": {
    "tags": []
   },
   "outputs": [],
   "source": [
    "for idx_unit, row_unit in new_unit_df.iterrows():\n",
    "    year = row_unit['year']\n",
    "    bg_id = row_unit['censusBlockGroupFips']\n",
    "    bg_geometry = row_unit['geometry_BG']\n",
    "    tract_id = row_unit['censusTract']\n",
    "    tract_geometry = row_unit['geometry_tract']\n",
    "    county_id = row_unit['countyCode']\n",
    "    state = row_unit['state']\n",
    "    state_geometry = row_unit['geometry_state']\n",
    "    lat_long_geometry = row_unit['geometry_lat_long']\n",
    "    lat = row_unit['latitude']\n",
    "    long = row_unit['longitude']\n",
    "    zipcode_geometry = row_unit['geometry_zipcode']\n",
    "    zipcode = row_unit['reportedZipCode']\n",
    "\n",
    "    intersection_geometry = bg_geometry.intersection(zipcode_geometry).intersection(tract_geometry).intersection(lat_long_geometry)\n",
    "\n",
    "    if intersection_geometry is None or intersection_geometry.is_empty:\n",
    "        new_unit_df.at[idx_unit,'stateInconsistent'] = 0\n",
    "    else:\n",
    "        new_unit_df.at[idx_unit,'stateInconsistent'] = 1"
   ]
  },
  {
   "cell_type": "code",
   "execution_count": 37,
   "id": "c30abd1e",
   "metadata": {
    "tags": []
   },
   "outputs": [
    {
     "data": {
      "text/plain": [
       "13"
      ]
     },
     "execution_count": 37,
     "metadata": {},
     "output_type": "execute_result"
    }
   ],
   "source": [
    "new_unit_df['stateInconsistent'].sum()"
   ]
  },
  {
   "cell_type": "code",
   "execution_count": 38,
   "id": "88107cec",
   "metadata": {
    "tags": []
   },
   "outputs": [],
   "source": [
    "for idx_unit, row_unit in new_unit_df.iterrows():\n",
    "    year = row_unit['year']\n",
    "    bg_id = row_unit['censusBlockGroupFips']\n",
    "    bg_geometry = row_unit['geometry_BG']\n",
    "    tract_id = row_unit['censusTract']\n",
    "    tract_geometry = row_unit['geometry_tract']\n",
    "    county_id = row_unit['countyCode']\n",
    "    state = row_unit['state']\n",
    "    state_geometry = row_unit['geometry_state']\n",
    "    lat_long_geometry = row_unit['geometry_lat_long']\n",
    "    lat = row_unit['latitude']\n",
    "    long = row_unit['longitude']\n",
    "    zipcode_geometry = row_unit['geometry_zipcode']\n",
    "    zipcode = row_unit['reportedZipCode']\n",
    "    \n",
    "    intersection_geometry = bg_geometry.intersection(zipcode_geometry).intersection(tract_geometry).intersection(state_geometry)\n",
    "\n",
    "    if intersection_geometry is None or intersection_geometry.is_empty:\n",
    "        new_unit_df.at[idx_unit,'latlongInconsistent'] = 0\n",
    "    else:\n",
    "        new_unit_df.at[idx_unit,'latlongInconsistent'] = 1"
   ]
  },
  {
   "cell_type": "code",
   "execution_count": 39,
   "id": "07dd920c",
   "metadata": {
    "tags": []
   },
   "outputs": [
    {
     "data": {
      "text/plain": [
       "3"
      ]
     },
     "execution_count": 39,
     "metadata": {},
     "output_type": "execute_result"
    }
   ],
   "source": [
    "new_unit_df['latlongInconsistent'].sum()"
   ]
  },
  {
   "cell_type": "code",
   "execution_count": 40,
   "id": "63ff2566",
   "metadata": {
    "tags": []
   },
   "outputs": [],
   "source": [
    "for idx_unit, row_unit in new_unit_df.iterrows():\n",
    "    year = row_unit['year']\n",
    "    bg_id = row_unit['censusBlockGroupFips']\n",
    "    bg_geometry = row_unit['geometry_BG']\n",
    "    tract_id = row_unit['censusTract']\n",
    "    tract_geometry = row_unit['geometry_tract']\n",
    "    county_id = row_unit['countyCode']\n",
    "    state = row_unit['state']\n",
    "    state_geometry = row_unit['geometry_state']\n",
    "    lat_long_geometry = row_unit['geometry_lat_long']\n",
    "    lat = row_unit['latitude']\n",
    "    long = row_unit['longitude']\n",
    "    zipcode_geometry = row_unit['geometry_zipcode']\n",
    "    zipcode = row_unit['reportedZipCode']\n",
    "    \n",
    "    intersection_geometry = bg_geometry.intersection(lat_long_geometry).intersection(tract_geometry).intersection(state_geometry)\n",
    "\n",
    "    if intersection_geometry is None or intersection_geometry.is_empty:\n",
    "        new_unit_df.at[idx_unit,'zipInconsistent'] = 0\n",
    "    else:\n",
    "        new_unit_df.at[idx_unit,'zipInconsistent'] = 1"
   ]
  },
  {
   "cell_type": "code",
   "execution_count": 41,
   "id": "482c1070",
   "metadata": {
    "tags": []
   },
   "outputs": [
    {
     "name": "stdout",
     "output_type": "stream",
     "text": [
      "183.0\n"
     ]
    }
   ],
   "source": [
    "print(new_unit_df['zipInconsistent'].sum())"
   ]
  },
  {
   "cell_type": "code",
   "execution_count": 42,
   "id": "b09fb104",
   "metadata": {
    "tags": []
   },
   "outputs": [
    {
     "name": "stdout",
     "output_type": "stream",
     "text": [
      "17\n"
     ]
    }
   ],
   "source": [
    "mask = (new_unit_df['latlongInconsistent'] +  new_unit_df['zipInconsistent']+ new_unit_df['stateInconsistent'] + new_unit_df['countyInconsistent'] + new_unit_df['tractInconsistent'] + new_unit_df['cbgInconsistent']) > 1\n",
    "new_unit_df.loc[mask, 'multiple'] = 1\n",
    "new_unit_df.loc[~mask, 'multiple'] = 0\n",
    "\n",
    "print(sum(new_unit_df['multiple']))"
   ]
  },
  {
   "cell_type": "code",
   "execution_count": 43,
   "id": "6fb224d7",
   "metadata": {
    "tags": []
   },
   "outputs": [
    {
     "data": {
      "text/html": [
       "<div>\n",
       "<style scoped>\n",
       "    .dataframe tbody tr th:only-of-type {\n",
       "        vertical-align: middle;\n",
       "    }\n",
       "\n",
       "    .dataframe tbody tr th {\n",
       "        vertical-align: top;\n",
       "    }\n",
       "\n",
       "    .dataframe thead th {\n",
       "        text-align: right;\n",
       "    }\n",
       "</style>\n",
       "<table border=\"1\" class=\"dataframe\">\n",
       "  <thead>\n",
       "    <tr style=\"text-align: right;\">\n",
       "      <th></th>\n",
       "      <th>reportedZipCode</th>\n",
       "      <th>countyCode</th>\n",
       "      <th>censusTract</th>\n",
       "      <th>censusBlockGroupFips</th>\n",
       "      <th>latitude</th>\n",
       "      <th>longitude</th>\n",
       "      <th>year</th>\n",
       "      <th>state</th>\n",
       "      <th>geometry_zipcode</th>\n",
       "      <th>geometry_tract</th>\n",
       "      <th>geometry_BG</th>\n",
       "      <th>geometry_lat_long</th>\n",
       "      <th>geometry_state</th>\n",
       "      <th>cbgInconsistent</th>\n",
       "      <th>tractInconsistent</th>\n",
       "      <th>countyInconsistent</th>\n",
       "      <th>stateInconsistent</th>\n",
       "      <th>latlongInconsistent</th>\n",
       "      <th>multiple</th>\n",
       "      <th>noOverlap</th>\n",
       "      <th>oneWrong</th>\n",
       "      <th>zipInconsistent</th>\n",
       "    </tr>\n",
       "  </thead>\n",
       "  <tbody>\n",
       "    <tr>\n",
       "      <th>0</th>\n",
       "      <td>25302</td>\n",
       "      <td>NaN</td>\n",
       "      <td>54039001100</td>\n",
       "      <td>540390011006</td>\n",
       "      <td>38.3</td>\n",
       "      <td>-81.6</td>\n",
       "      <td>2000</td>\n",
       "      <td>FL</td>\n",
       "      <td>MULTIPOLYGON (((-81.64939799999999 38.356864, ...</td>\n",
       "      <td>POLYGON ((-81.63011499999999 38.358089, -81.62...</td>\n",
       "      <td>POLYGON ((-81.617299 38.335322, -81.6168079999...</td>\n",
       "      <td>POLYGON ((-81.64999999999999 38.25, -81.55 38....</td>\n",
       "      <td>MULTIPOLYGON (((-80.627171 25.000401, -80.6260...</td>\n",
       "      <td>0</td>\n",
       "      <td>0</td>\n",
       "      <td>0</td>\n",
       "      <td>0</td>\n",
       "      <td>0</td>\n",
       "      <td>0</td>\n",
       "      <td>NaN</td>\n",
       "      <td>NaN</td>\n",
       "      <td>0.0</td>\n",
       "    </tr>\n",
       "    <tr>\n",
       "      <th>1</th>\n",
       "      <td>67301</td>\n",
       "      <td>NaN</td>\n",
       "      <td>20125950500</td>\n",
       "      <td>201259505001</td>\n",
       "      <td>37.2</td>\n",
       "      <td>-95.7</td>\n",
       "      <td>2000</td>\n",
       "      <td>LA</td>\n",
       "      <td>MULTIPOLYGON (((-95.855458 37.25422, -95.85564...</td>\n",
       "      <td>POLYGON ((-95.766331 37.185190999999996, -95.7...</td>\n",
       "      <td>POLYGON ((-95.766331 37.185190999999996, -95.7...</td>\n",
       "      <td>POLYGON ((-95.75 37.150000000000006, -95.65 37...</td>\n",
       "      <td>MULTIPOLYGON (((-88.8677 29.861551, -88.865659...</td>\n",
       "      <td>0</td>\n",
       "      <td>0</td>\n",
       "      <td>0</td>\n",
       "      <td>1</td>\n",
       "      <td>0</td>\n",
       "      <td>0</td>\n",
       "      <td>NaN</td>\n",
       "      <td>NaN</td>\n",
       "      <td>0.0</td>\n",
       "    </tr>\n",
       "    <tr>\n",
       "      <th>2</th>\n",
       "      <td>41074</td>\n",
       "      <td>NaN</td>\n",
       "      <td>34023008503</td>\n",
       "      <td>340230085033</td>\n",
       "      <td>40.4</td>\n",
       "      <td>-74.5</td>\n",
       "      <td>2000</td>\n",
       "      <td>KY</td>\n",
       "      <td>POLYGON ((-84.438559 39.080494, -84.438484 39....</td>\n",
       "      <td>POLYGON ((-74.54847199999999 40.383699, -74.54...</td>\n",
       "      <td>POLYGON ((-74.523449 40.395499, -74.523393 40....</td>\n",
       "      <td>POLYGON ((-74.55 40.35, -74.45 40.35, -74.45 4...</td>\n",
       "      <td>MULTIPOLYGON (((-89.405654 36.528165, -89.3986...</td>\n",
       "      <td>0</td>\n",
       "      <td>0</td>\n",
       "      <td>0</td>\n",
       "      <td>0</td>\n",
       "      <td>0</td>\n",
       "      <td>0</td>\n",
       "      <td>NaN</td>\n",
       "      <td>NaN</td>\n",
       "      <td>0.0</td>\n",
       "    </tr>\n",
       "    <tr>\n",
       "      <th>3</th>\n",
       "      <td>00920</td>\n",
       "      <td>NaN</td>\n",
       "      <td>72127003200</td>\n",
       "      <td>721270032002</td>\n",
       "      <td>18.4</td>\n",
       "      <td>-66.1</td>\n",
       "      <td>2010</td>\n",
       "      <td>PR</td>\n",
       "      <td>POLYGON ((-66.108491 18.398875999999998, -66.1...</td>\n",
       "      <td>POLYGON ((-66.050292 18.44052, -66.049891 18.4...</td>\n",
       "      <td>POLYGON ((-66.053611 18.442241, -66.0534579999...</td>\n",
       "      <td>POLYGON ((-66.14999999999999 18.34999999999999...</td>\n",
       "      <td>MULTIPOLYGON (((-65.238053 18.321667, -65.2346...</td>\n",
       "      <td>0</td>\n",
       "      <td>0</td>\n",
       "      <td>0</td>\n",
       "      <td>0</td>\n",
       "      <td>0</td>\n",
       "      <td>0</td>\n",
       "      <td>NaN</td>\n",
       "      <td>NaN</td>\n",
       "      <td>1.0</td>\n",
       "    </tr>\n",
       "    <tr>\n",
       "      <th>4</th>\n",
       "      <td>43961</td>\n",
       "      <td>NaN</td>\n",
       "      <td>39081011000</td>\n",
       "      <td>390810110001</td>\n",
       "      <td>40.5</td>\n",
       "      <td>-80.6</td>\n",
       "      <td>2000</td>\n",
       "      <td>UN</td>\n",
       "      <td>POLYGON ((-80.634776 40.532736, -80.634963 40....</td>\n",
       "      <td>POLYGON ((-80.86399 40.543869, -80.86392099999...</td>\n",
       "      <td>POLYGON ((-80.748396 40.527369, -80.7482129999...</td>\n",
       "      <td>POLYGON ((-80.64999999999999 40.45, -80.55 40....</td>\n",
       "      <td>None</td>\n",
       "      <td>0</td>\n",
       "      <td>0</td>\n",
       "      <td>0</td>\n",
       "      <td>1</td>\n",
       "      <td>0</td>\n",
       "      <td>0</td>\n",
       "      <td>NaN</td>\n",
       "      <td>NaN</td>\n",
       "      <td>0.0</td>\n",
       "    </tr>\n",
       "  </tbody>\n",
       "</table>\n",
       "</div>"
      ],
      "text/plain": [
       "  reportedZipCode countyCode  censusTract censusBlockGroupFips  latitude  \\\n",
       "0           25302        NaN  54039001100         540390011006      38.3   \n",
       "1           67301        NaN  20125950500         201259505001      37.2   \n",
       "2           41074        NaN  34023008503         340230085033      40.4   \n",
       "3           00920        NaN  72127003200         721270032002      18.4   \n",
       "4           43961        NaN  39081011000         390810110001      40.5   \n",
       "\n",
       "   longitude  year state                                   geometry_zipcode  \\\n",
       "0      -81.6  2000    FL  MULTIPOLYGON (((-81.64939799999999 38.356864, ...   \n",
       "1      -95.7  2000    LA  MULTIPOLYGON (((-95.855458 37.25422, -95.85564...   \n",
       "2      -74.5  2000    KY  POLYGON ((-84.438559 39.080494, -84.438484 39....   \n",
       "3      -66.1  2010    PR  POLYGON ((-66.108491 18.398875999999998, -66.1...   \n",
       "4      -80.6  2000    UN  POLYGON ((-80.634776 40.532736, -80.634963 40....   \n",
       "\n",
       "                                      geometry_tract  \\\n",
       "0  POLYGON ((-81.63011499999999 38.358089, -81.62...   \n",
       "1  POLYGON ((-95.766331 37.185190999999996, -95.7...   \n",
       "2  POLYGON ((-74.54847199999999 40.383699, -74.54...   \n",
       "3  POLYGON ((-66.050292 18.44052, -66.049891 18.4...   \n",
       "4  POLYGON ((-80.86399 40.543869, -80.86392099999...   \n",
       "\n",
       "                                         geometry_BG  \\\n",
       "0  POLYGON ((-81.617299 38.335322, -81.6168079999...   \n",
       "1  POLYGON ((-95.766331 37.185190999999996, -95.7...   \n",
       "2  POLYGON ((-74.523449 40.395499, -74.523393 40....   \n",
       "3  POLYGON ((-66.053611 18.442241, -66.0534579999...   \n",
       "4  POLYGON ((-80.748396 40.527369, -80.7482129999...   \n",
       "\n",
       "                                   geometry_lat_long  \\\n",
       "0  POLYGON ((-81.64999999999999 38.25, -81.55 38....   \n",
       "1  POLYGON ((-95.75 37.150000000000006, -95.65 37...   \n",
       "2  POLYGON ((-74.55 40.35, -74.45 40.35, -74.45 4...   \n",
       "3  POLYGON ((-66.14999999999999 18.34999999999999...   \n",
       "4  POLYGON ((-80.64999999999999 40.45, -80.55 40....   \n",
       "\n",
       "                                      geometry_state cbgInconsistent  \\\n",
       "0  MULTIPOLYGON (((-80.627171 25.000401, -80.6260...               0   \n",
       "1  MULTIPOLYGON (((-88.8677 29.861551, -88.865659...               0   \n",
       "2  MULTIPOLYGON (((-89.405654 36.528165, -89.3986...               0   \n",
       "3  MULTIPOLYGON (((-65.238053 18.321667, -65.2346...               0   \n",
       "4                                               None               0   \n",
       "\n",
       "  tractInconsistent countyInconsistent stateInconsistent latlongInconsistent  \\\n",
       "0                 0                  0                 0                   0   \n",
       "1                 0                  0                 1                   0   \n",
       "2                 0                  0                 0                   0   \n",
       "3                 0                  0                 0                   0   \n",
       "4                 0                  0                 1                   0   \n",
       "\n",
       "  multiple noOverlap oneWrong  zipInconsistent  \n",
       "0        0       NaN      NaN              0.0  \n",
       "1        0       NaN      NaN              0.0  \n",
       "2        0       NaN      NaN              0.0  \n",
       "3        0       NaN      NaN              1.0  \n",
       "4        0       NaN      NaN              0.0  "
      ]
     },
     "execution_count": 43,
     "metadata": {},
     "output_type": "execute_result"
    }
   ],
   "source": [
    "new_unit_df.head()"
   ]
  },
  {
   "cell_type": "code",
   "execution_count": 44,
   "id": "f153d7db",
   "metadata": {
    "tags": []
   },
   "outputs": [
    {
     "name": "stdout",
     "output_type": "stream",
     "text": [
      "16\n"
     ]
    }
   ],
   "source": [
    "condition = (new_unit_df['latlongInconsistent'] + \n",
    "             new_unit_df['stateInconsistent'] + \n",
    "             new_unit_df['countyInconsistent'] + \n",
    "             new_unit_df['tractInconsistent'] + \n",
    "             new_unit_df['cbgInconsistent'] +\n",
    "             new_unit_df['zipInconsistent']) == 0\n",
    "\n",
    "new_unit_df['noOverlap'] = 0  # Default to 0\n",
    "new_unit_df.loc[condition, 'noOverlap'] = 1\n",
    "\n",
    "print(sum(new_unit_df['noOverlap']))"
   ]
  },
  {
   "cell_type": "code",
   "execution_count": 45,
   "id": "9844e60c",
   "metadata": {
    "tags": []
   },
   "outputs": [
    {
     "name": "stdout",
     "output_type": "stream",
     "text": [
      "179\n"
     ]
    }
   ],
   "source": [
    "condition = (new_unit_df['latlongInconsistent'] + \n",
    "             new_unit_df['stateInconsistent'] + \n",
    "             new_unit_df['countyInconsistent'] + \n",
    "             new_unit_df['tractInconsistent'] + \n",
    "             new_unit_df['cbgInconsistent'] +\n",
    "             new_unit_df['zipInconsistent']) == 1\n",
    "\n",
    "new_unit_df['oneWrong'] = 0  # Default to 0\n",
    "new_unit_df.loc[condition, 'oneWrong'] = 1\n",
    "\n",
    "print(sum(new_unit_df['oneWrong']))\n"
   ]
  },
  {
   "cell_type": "code",
   "execution_count": 46,
   "id": "7280443c",
   "metadata": {
    "tags": []
   },
   "outputs": [
    {
     "name": "stdout",
     "output_type": "stream",
     "text": [
      "lat_long_geometry: 0 'Wrong' values\n",
      "state_geometry: 12 'Wrong' values\n",
      "county_geometry: 0 'Wrong' values\n",
      "tract_geometry: 0 'Wrong' values\n",
      "bg_geometry: 0 'Wrong' values\n",
      "zip_geometry: 167 'Wrong' values\n"
     ]
    }
   ],
   "source": [
    "# Initialize the count dictionary for 'Wrong' values\n",
    "wrong_counts = {\n",
    "    'lat_long_geometry': 0,\n",
    "    'state_geometry': 0,\n",
    "    'county_geometry': 0,\n",
    "    'tract_geometry': 0,\n",
    "    'bg_geometry': 0,\n",
    "    'zip_geometry': 0  # added for zip codes\n",
    "}\n",
    "\n",
    "# Iterate through the DataFrame\n",
    "for idx_unit, row_unit in new_unit_df.iterrows():\n",
    "    if row_unit['oneWrong'] == 1:\n",
    "        if row_unit['latlongInconsistent'] == 1:\n",
    "            new_unit_df.at[idx_unit, 'lat_long_geometry'] = 'Wrong'\n",
    "            wrong_counts['lat_long_geometry'] += 1\n",
    "        if row_unit['stateInconsistent'] == 1:\n",
    "            new_unit_df.at[idx_unit, 'state_geometry'] = 'Wrong'\n",
    "            wrong_counts['state_geometry'] += 1\n",
    "        if row_unit['tractInconsistent'] == 1:\n",
    "            new_unit_df.at[idx_unit, 'tract_geometry'] = 'Wrong'\n",
    "            wrong_counts['tract_geometry'] += 1\n",
    "        if row_unit['cbgInconsistent'] == 1:\n",
    "            new_unit_df.at[idx_unit, 'bg_geometry'] = 'Wrong'\n",
    "            wrong_counts['bg_geometry'] += 1\n",
    "        if row_unit['zipInconsistent'] == 1:  # added for zip codes\n",
    "            new_unit_df.at[idx_unit, 'zip_geometry'] = 'Wrong'\n",
    "            wrong_counts['zip_geometry'] += 1\n",
    "\n",
    "# Print the 'Wrong' counts\n",
    "for category, count in wrong_counts.items():\n",
    "    print(f\"{category}: {count} 'Wrong' values\")\n"
   ]
  },
  {
   "cell_type": "code",
   "execution_count": 47,
   "id": "aeb8ec5c",
   "metadata": {},
   "outputs": [],
   "source": [
    "new_unit_df['CBG_Zip_Mutually_Inconsistent'] = np.where(\n",
    "    (new_unit_df['latlongInconsistent'] == 0) & \n",
    "    (new_unit_df['cbgInconsistent'] == 1) & \n",
    "    (new_unit_df['zipInconsistent'] == 1), 1, 0)"
   ]
  },
  {
   "cell_type": "code",
   "execution_count": 48,
   "id": "a9d83aaa",
   "metadata": {},
   "outputs": [
    {
     "data": {
      "text/plain": [
       "14"
      ]
     },
     "execution_count": 48,
     "metadata": {},
     "output_type": "execute_result"
    }
   ],
   "source": [
    "sum(new_unit_df['CBG_Zip_Mutually_Inconsistent'] == 1)"
   ]
  },
  {
   "cell_type": "code",
   "execution_count": 49,
   "id": "2840d639",
   "metadata": {
    "tags": []
   },
   "outputs": [
    {
     "data": {
      "text/plain": [
       "0"
      ]
     },
     "execution_count": 49,
     "metadata": {},
     "output_type": "execute_result"
    }
   ],
   "source": [
    "len(new_unit_df[(new_unit_df['latlongInconsistent'] == 1) &(new_unit_df['cbgInconsistent'] == 1) & ((new_unit_df['latlongInconsistent'] + \n",
    "             new_unit_df['stateInconsistent'] + \n",
    "             new_unit_df['countyInconsistent'] + \n",
    "             new_unit_df['tractInconsistent'] + \n",
    "             new_unit_df['cbgInconsistent'] +\n",
    "             new_unit_df['zipInconsistent'])  == 2)])"
   ]
  },
  {
   "cell_type": "code",
   "execution_count": 50,
   "id": "f4ad91a6",
   "metadata": {},
   "outputs": [],
   "source": [
    "columns_to_drop = [\n",
    "    'geometry_tract', 'geometry_BG', 'geometry_zipcode', 'geometry_state', 'geometry_lat_long'\n",
    "]\n",
    "\n",
    "# Drop the columns\n",
    "new_unit_df = new_unit_df.drop(columns= columns_to_drop)"
   ]
  },
  {
   "cell_type": "code",
   "execution_count": 51,
   "id": "ec739f86",
   "metadata": {},
   "outputs": [],
   "source": [
    "# Convert 'zipInconsistent' column to integer type.\n",
    "new_unit_df['zipInconsistent'] = new_unit_df['zipInconsistent'].astype(int)\n",
    "\n",
    "# Save to CSV without index.\n",
    "new_unit_df.to_parquet(r'C:\\Users\\jorda\\Box\\Flood Damage PredictionProject\\Dataset\\InconsistencyDataframes\\inconsistency_dataframe_3.parquet.gzip', compression = 'gzip', index=False)"
   ]
  },
  {
   "cell_type": "code",
   "execution_count": 52,
   "id": "480e0949",
   "metadata": {},
   "outputs": [
    {
     "data": {
      "text/plain": [
       "212"
      ]
     },
     "execution_count": 52,
     "metadata": {},
     "output_type": "execute_result"
    }
   ],
   "source": [
    "len(new_unit_df)"
   ]
  },
  {
   "cell_type": "code",
   "execution_count": 53,
   "id": "d45e23e5",
   "metadata": {},
   "outputs": [
    {
     "name": "stdout",
     "output_type": "stream",
     "text": [
      "    reportedZipCode countyCode  censusTract censusBlockGroupFips  latitude  \\\n",
      "11            00680        NaN  72097082102         720970821023      18.2   \n",
      "13            00680        NaN  72097082102         720970821023      18.2   \n",
      "20            37212        NaN  47037019500         470370195004      36.2   \n",
      "21            37212        NaN  47037019500         470370195004      36.2   \n",
      "22            37212        NaN  47037019500         470370195004      36.2   \n",
      "27            00925        NaN  72127007004         721270070042      18.4   \n",
      "28            00925        NaN  72127009903         721270099034      18.4   \n",
      "29            00925        NaN  72127009903         721270099034      18.4   \n",
      "30            00925        NaN  72127009903         721270099034      18.4   \n",
      "39            00920        NaN  72127009400         721270094002      18.4   \n",
      "40            00920        NaN  72127009400         721270094002      18.4   \n",
      "45            00936        NaN  72127008900         721270089003      18.4   \n",
      "46            00936        NaN  72127008900         721270089003      18.4   \n",
      "48            00920        NaN  72127005401         721270054012      18.4   \n",
      "49            00920        NaN  72127005401         721270054012      18.4   \n",
      "51            00936        NaN  72127005401         721270054014      18.4   \n",
      "53            00936        NaN  72127005401         721270054014      18.4   \n",
      "54            00901        NaN  72127006600         721270066001      18.4   \n",
      "58            00962        NaN  72127003501         721270035012      18.4   \n",
      "60            00927        NaN  72127007004         721270070042      18.4   \n",
      "63            00926        NaN  72127008602         721270086022      18.4   \n",
      "64            00926        NaN  72127008602         721270086022      18.4   \n",
      "66            00757        NaN  72071410702         720714107022      18.5   \n",
      "68            00920        NaN  72127005102         721270051021      18.4   \n",
      "71            00921        NaN  72127000900         721270009001      18.5   \n",
      "75            00926        NaN  72127005403         721270054031      18.4   \n",
      "76            00926        NaN  72127005403         721270054031      18.4   \n",
      "89            00901        NaN  72127001200         721270012002      18.5   \n",
      "92            00920        NaN  72127001100         721270011002      18.5   \n",
      "94            00920        NaN  72127006200         721270062001      18.4   \n",
      "95            00920        NaN  72127006200         721270062001      18.4   \n",
      "96            00920        NaN  72127001100         721270011002      18.5   \n",
      "101           00921        NaN  72127000900         721270009001      18.5   \n",
      "109           00921        NaN  72127008601         721270086012      18.4   \n",
      "110           00921        NaN  72127008601         721270086012      18.4   \n",
      "129           00901        NaN  72127001200         721270012002      18.5   \n",
      "139           00926        NaN  72127008602         721270086022      18.4   \n",
      "142           00962        NaN  72127003501         721270035012      18.4   \n",
      "152           00901        NaN  72127006600         721270066001      18.4   \n",
      "158           00920        NaN  72127005102         721270051021      18.4   \n",
      "163           00920        NaN  72127005401         721270054012      18.4   \n",
      "164           00920        NaN  72127005401         721270054012      18.4   \n",
      "165           00920        NaN  72127005401         721270054012      18.4   \n",
      "167           00623        NaN  72075710301         720757103011      18.0   \n",
      "168           00623        NaN  72075710301         720757103011      18.0   \n",
      "178           00757        NaN  72071410702         720714107022      18.5   \n",
      "182           08825        NaN  34019010600         340190106002      40.5   \n",
      "183           08825        NaN  34019010600         340190106002      40.5   \n",
      "184           08825        NaN  34019010600         340190106002      40.5   \n",
      "192           00925        NaN  72127007004         721270070042      18.4   \n",
      "193           00927        NaN  72127007004         721270070042      18.4   \n",
      "195           00921        NaN  72127009300         721270093002      18.4   \n",
      "196           00921        NaN  72127009300         721270093002      18.4   \n",
      "197           00927        NaN  72127007004         721270070042      18.4   \n",
      "198           00925        NaN  72127009903         721270099034      18.4   \n",
      "201           00682        NaN  72097081900         720970819004      18.2   \n",
      "202           00680        NaN  72097082102         720970821023      18.2   \n",
      "208           00682        NaN  72097081900         720970819004      18.2   \n",
      "209           00680        NaN  72097082102         720970821023      18.2   \n",
      "\n",
      "     longitude  year state cbgInconsistent tractInconsistent  \\\n",
      "11       -67.2  2000    PR               1                 0   \n",
      "13       -67.2  2000    PR               1                 0   \n",
      "20       -86.8  2000    UN               0                 0   \n",
      "21       -86.8  2000    UN               0                 0   \n",
      "22       -86.8  2000    UN               0                 0   \n",
      "27       -66.1  2000    PR               0                 0   \n",
      "28       -66.1  2000    PR               0                 0   \n",
      "29       -66.1  2000    PR               0                 0   \n",
      "30       -66.1  2000    PR               0                 0   \n",
      "39       -66.1  2000    PR               0                 0   \n",
      "40       -66.1  2000    PR               0                 0   \n",
      "45       -66.0  2010    PR               0                 0   \n",
      "46       -66.0  2010    PR               0                 0   \n",
      "48       -66.0  2000    PR               0                 0   \n",
      "49       -66.0  2000    PR               0                 0   \n",
      "51       -66.0  2010    PR               0                 0   \n",
      "53       -66.0  2010    PR               0                 0   \n",
      "54       -66.1  2010    PR               0                 0   \n",
      "58       -66.0  2000    PR               0                 0   \n",
      "60       -66.1  2000    PR               0                 0   \n",
      "63       -66.1  2000    PR               0                 0   \n",
      "64       -66.1  2000    PR               0                 0   \n",
      "66       -67.0  2000    PR               0                 0   \n",
      "68       -66.0  2000    PR               0                 0   \n",
      "71       -66.1  2000    PR               0                 0   \n",
      "75       -66.0  2000    PR               1                 0   \n",
      "76       -66.0  2000    PR               1                 0   \n",
      "89       -66.0  2010    PR               0                 0   \n",
      "92       -66.1  2010    PR               0                 0   \n",
      "94       -66.0  2010    PR               0                 0   \n",
      "95       -66.0  2010    PR               0                 0   \n",
      "96       -66.1  2010    PR               0                 0   \n",
      "101      -66.1  2000    PR               0                 0   \n",
      "109      -66.1  2010    PR               0                 0   \n",
      "110      -66.1  2010    PR               0                 0   \n",
      "129      -66.0  2010    PR               0                 0   \n",
      "139      -66.1  2000    PR               0                 0   \n",
      "142      -66.0  2000    PR               0                 0   \n",
      "152      -66.1  2010    PR               0                 0   \n",
      "158      -66.0  2000    PR               0                 0   \n",
      "163      -66.0  2000    PR               0                 0   \n",
      "164      -66.0  2000    PR               0                 0   \n",
      "165      -66.0  2000    PR               0                 0   \n",
      "167      -66.5  2000    PR               0                 0   \n",
      "168      -66.5  2000    PR               0                 0   \n",
      "178      -67.0  2000    PR               0                 0   \n",
      "182      -75.1  2000    UN               0                 0   \n",
      "183      -75.1  2000    UN               0                 0   \n",
      "184      -75.1  2000    UN               0                 0   \n",
      "192      -66.1  2000    PR               0                 0   \n",
      "193      -66.1  2000    PR               0                 0   \n",
      "195      -66.0  2010    PR               0                 0   \n",
      "196      -66.0  2010    PR               0                 0   \n",
      "197      -66.1  2000    PR               0                 0   \n",
      "198      -66.1  2000    PR               0                 0   \n",
      "201      -67.0  2020    PR               0                 0   \n",
      "202      -67.2  2020    PR               1                 0   \n",
      "208      -67.0  2020    PR               0                 0   \n",
      "209      -67.2  2020    PR               1                 0   \n",
      "\n",
      "    countyInconsistent stateInconsistent latlongInconsistent multiple  \\\n",
      "11                   0                 0                   0        1   \n",
      "13                   0                 0                   0        1   \n",
      "20                   0                 0                   0        0   \n",
      "21                   0                 0                   0        0   \n",
      "22                   0                 0                   0        0   \n",
      "27                   0                 0                   0        0   \n",
      "28                   0                 0                   0        0   \n",
      "29                   0                 0                   0        0   \n",
      "30                   0                 0                   0        0   \n",
      "39                   0                 0                   0        0   \n",
      "40                   0                 0                   0        0   \n",
      "45                   0                 0                   0        0   \n",
      "46                   0                 0                   0        0   \n",
      "48                   0                 0                   0        0   \n",
      "49                   0                 0                   0        0   \n",
      "51                   0                 0                   0        0   \n",
      "53                   0                 0                   0        0   \n",
      "54                   0                 0                   0        0   \n",
      "58                   0                 0                   0        0   \n",
      "60                   0                 0                   0        0   \n",
      "63                   0                 0                   0        0   \n",
      "64                   0                 0                   0        0   \n",
      "66                   0                 0                   0        0   \n",
      "68                   0                 0                   0        0   \n",
      "71                   0                 0                   0        0   \n",
      "75                   0                 0                   0        1   \n",
      "76                   0                 0                   0        1   \n",
      "89                   0                 0                   0        0   \n",
      "92                   0                 0                   0        0   \n",
      "94                   0                 0                   0        0   \n",
      "95                   0                 0                   0        0   \n",
      "96                   0                 0                   0        0   \n",
      "101                  0                 0                   0        0   \n",
      "109                  0                 0                   0        0   \n",
      "110                  0                 0                   0        0   \n",
      "129                  0                 0                   0        0   \n",
      "139                  0                 0                   0        0   \n",
      "142                  0                 0                   0        0   \n",
      "152                  0                 0                   0        0   \n",
      "158                  0                 0                   0        0   \n",
      "163                  0                 0                   0        0   \n",
      "164                  0                 0                   0        0   \n",
      "165                  0                 0                   0        0   \n",
      "167                  0                 0                   0        0   \n",
      "168                  0                 0                   0        0   \n",
      "178                  0                 0                   0        0   \n",
      "182                  0                 1                   0        0   \n",
      "183                  0                 1                   0        0   \n",
      "184                  0                 1                   0        0   \n",
      "192                  0                 0                   0        0   \n",
      "193                  0                 0                   0        0   \n",
      "195                  0                 0                   0        0   \n",
      "196                  0                 0                   0        0   \n",
      "197                  0                 0                   0        0   \n",
      "198                  0                 0                   0        0   \n",
      "201                  0                 0                   0        0   \n",
      "202                  0                 0                   0        1   \n",
      "208                  0                 0                   0        0   \n",
      "209                  0                 0                   0        1   \n",
      "\n",
      "     noOverlap  oneWrong  zipInconsistent state_geometry zip_geometry  \\\n",
      "11           0         0                1            NaN          NaN   \n",
      "13           0         0                1            NaN          NaN   \n",
      "20           1         0                0            NaN          NaN   \n",
      "21           1         0                0            NaN          NaN   \n",
      "22           1         0                0            NaN          NaN   \n",
      "27           0         1                1            NaN        Wrong   \n",
      "28           0         1                1            NaN        Wrong   \n",
      "29           0         1                1            NaN        Wrong   \n",
      "30           0         1                1            NaN        Wrong   \n",
      "39           0         1                1            NaN        Wrong   \n",
      "40           0         1                1            NaN        Wrong   \n",
      "45           0         1                1            NaN        Wrong   \n",
      "46           0         1                1            NaN        Wrong   \n",
      "48           0         1                1            NaN        Wrong   \n",
      "49           0         1                1            NaN        Wrong   \n",
      "51           0         1                1            NaN        Wrong   \n",
      "53           0         1                1            NaN        Wrong   \n",
      "54           0         1                1            NaN        Wrong   \n",
      "58           0         1                1            NaN        Wrong   \n",
      "60           0         1                1            NaN        Wrong   \n",
      "63           0         1                1            NaN        Wrong   \n",
      "64           0         1                1            NaN        Wrong   \n",
      "66           0         1                1            NaN        Wrong   \n",
      "68           0         1                1            NaN        Wrong   \n",
      "71           0         1                1            NaN        Wrong   \n",
      "75           0         0                1            NaN          NaN   \n",
      "76           0         0                1            NaN          NaN   \n",
      "89           0         1                1            NaN        Wrong   \n",
      "92           0         1                1            NaN        Wrong   \n",
      "94           0         1                1            NaN        Wrong   \n",
      "95           0         1                1            NaN        Wrong   \n",
      "96           0         1                1            NaN        Wrong   \n",
      "101          0         1                1            NaN        Wrong   \n",
      "109          0         1                1            NaN        Wrong   \n",
      "110          0         1                1            NaN        Wrong   \n",
      "129          0         1                1            NaN        Wrong   \n",
      "139          0         1                1            NaN        Wrong   \n",
      "142          0         1                1            NaN        Wrong   \n",
      "152          0         1                1            NaN        Wrong   \n",
      "158          0         1                1            NaN        Wrong   \n",
      "163          0         1                1            NaN        Wrong   \n",
      "164          0         1                1            NaN        Wrong   \n",
      "165          0         1                1            NaN        Wrong   \n",
      "167          0         1                1            NaN        Wrong   \n",
      "168          0         1                1            NaN        Wrong   \n",
      "178          0         1                1            NaN        Wrong   \n",
      "182          0         1                0          Wrong          NaN   \n",
      "183          0         1                0          Wrong          NaN   \n",
      "184          0         1                0          Wrong          NaN   \n",
      "192          0         1                1            NaN        Wrong   \n",
      "193          0         1                1            NaN        Wrong   \n",
      "195          0         1                1            NaN        Wrong   \n",
      "196          0         1                1            NaN        Wrong   \n",
      "197          0         1                1            NaN        Wrong   \n",
      "198          0         1                1            NaN        Wrong   \n",
      "201          0         1                1            NaN        Wrong   \n",
      "202          0         0                1            NaN          NaN   \n",
      "208          0         1                1            NaN        Wrong   \n",
      "209          0         0                1            NaN          NaN   \n",
      "\n",
      "     CBG_Zip_Mutually_Inconsistent  \n",
      "11                               1  \n",
      "13                               1  \n",
      "20                               0  \n",
      "21                               0  \n",
      "22                               0  \n",
      "27                               0  \n",
      "28                               0  \n",
      "29                               0  \n",
      "30                               0  \n",
      "39                               0  \n",
      "40                               0  \n",
      "45                               0  \n",
      "46                               0  \n",
      "48                               0  \n",
      "49                               0  \n",
      "51                               0  \n",
      "53                               0  \n",
      "54                               0  \n",
      "58                               0  \n",
      "60                               0  \n",
      "63                               0  \n",
      "64                               0  \n",
      "66                               0  \n",
      "68                               0  \n",
      "71                               0  \n",
      "75                               1  \n",
      "76                               1  \n",
      "89                               0  \n",
      "92                               0  \n",
      "94                               0  \n",
      "95                               0  \n",
      "96                               0  \n",
      "101                              0  \n",
      "109                              0  \n",
      "110                              0  \n",
      "129                              0  \n",
      "139                              0  \n",
      "142                              0  \n",
      "152                              0  \n",
      "158                              0  \n",
      "163                              0  \n",
      "164                              0  \n",
      "165                              0  \n",
      "167                              0  \n",
      "168                              0  \n",
      "178                              0  \n",
      "182                              0  \n",
      "183                              0  \n",
      "184                              0  \n",
      "192                              0  \n",
      "193                              0  \n",
      "195                              0  \n",
      "196                              0  \n",
      "197                              0  \n",
      "198                              0  \n",
      "201                              0  \n",
      "202                              1  \n",
      "208                              0  \n",
      "209                              1  \n"
     ]
    }
   ],
   "source": [
    "# Check for duplicates\n",
    "duplicates = new_unit_df[new_unit_df.duplicated(keep=False)]\n",
    "\n",
    "print(duplicates)"
   ]
  },
  {
   "cell_type": "code",
   "execution_count": null,
   "id": "c929d857",
   "metadata": {},
   "outputs": [],
   "source": []
  },
  {
   "cell_type": "code",
   "execution_count": null,
   "id": "9c3de690",
   "metadata": {},
   "outputs": [],
   "source": []
  }
 ],
 "metadata": {
  "kernelspec": {
   "display_name": "Python 3 (ipykernel)",
   "language": "python",
   "name": "python3"
  },
  "language_info": {
   "codemirror_mode": {
    "name": "ipython",
    "version": 3
   },
   "file_extension": ".py",
   "mimetype": "text/x-python",
   "name": "python",
   "nbconvert_exporter": "python",
   "pygments_lexer": "ipython3",
   "version": "3.8.17"
  }
 },
 "nbformat": 4,
 "nbformat_minor": 5
}
