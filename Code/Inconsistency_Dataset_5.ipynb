{
 "cells": [
  {
   "cell_type": "code",
   "execution_count": 7,
   "id": "5e6a33fa-936f-4abe-98dd-197343e523df",
   "metadata": {
    "tags": []
   },
   "outputs": [],
   "source": [
    "import pandas as pd\n",
    "import numpy as np\n",
    "import matplotlib.pyplot as plt\n",
    "import pyarrow as pa\n",
    "import pyarrow.parquet as pq\n",
    "import geopandas as gpd\n",
    "import seaborn as sns\n",
    "\n",
    "#Packages\n",
    "import matplotlib.ticker as mtick\n",
    "from scipy import stats\n",
    "pd.set_option('display.max_columns', None)\n",
    "\n",
    "from scipy.stats import skew, kurtosis\n",
    "\n",
    "import pygris\n",
    "from shapely.geometry import Polygon\n",
    "\n",
    "import shapely"
   ]
  },
  {
   "cell_type": "code",
   "execution_count": 8,
   "id": "3276995e-b191-495a-a279-935ed0fe65b3",
   "metadata": {
    "tags": []
   },
   "outputs": [],
   "source": [
    "df = pd.read_parquet(\"C:/Users/Asus/Box/Flood Damage PredictionProject/Dataset/FimaNfipClaims.parquet.gzip\")"
   ]
  },
  {
   "cell_type": "markdown",
   "id": "3db5fd6b-3ed9-49e4-9ace-788d0cc23082",
   "metadata": {},
   "source": [
    "## Fifth Dataset [censusBlockGroupFips and Tract NA (Missing together)]\n",
    "## No geographic values missing, no shapefiles missing"
   ]
  },
  {
   "cell_type": "code",
   "execution_count": 9,
   "id": "259aa2a8-afb3-47d8-bcfd-32b053e0e958",
   "metadata": {
    "tags": []
   },
   "outputs": [],
   "source": [
    "df_geographic_unique = df[['state', 'reportedZipCode', 'countyCode', 'censusTract', 'censusBlockGroupFips', 'latitude', 'longitude', 'yearOfLoss']].drop_duplicates()"
   ]
  },
  {
   "cell_type": "code",
   "execution_count": 10,
   "id": "d9f82936-6fe6-467d-b27e-d0b5e43104ae",
   "metadata": {
    "tags": []
   },
   "outputs": [],
   "source": [
    "# Defining conditions\n",
    "condition1 = (df_geographic_unique['latitude'].notna() & \n",
    "              df_geographic_unique['censusBlockGroupFips'].isna() & \n",
    "              df_geographic_unique['countyCode'].notna() & \n",
    "              df_geographic_unique['reportedZipCode'].notna())\n",
    "\n",
    "# Filtering the dataframe based on the combined conditions\n",
    "df_geographic_unique = df_geographic_unique[condition1]"
   ]
  },
  {
   "cell_type": "code",
   "execution_count": 11,
   "id": "a7262b4c-9f66-487c-9ac1-8eb07cb35388",
   "metadata": {
    "tags": []
   },
   "outputs": [
    {
     "data": {
      "text/html": [
       "<div>\n",
       "<style scoped>\n",
       "    .dataframe tbody tr th:only-of-type {\n",
       "        vertical-align: middle;\n",
       "    }\n",
       "\n",
       "    .dataframe tbody tr th {\n",
       "        vertical-align: top;\n",
       "    }\n",
       "\n",
       "    .dataframe thead th {\n",
       "        text-align: right;\n",
       "    }\n",
       "</style>\n",
       "<table border=\"1\" class=\"dataframe\">\n",
       "  <thead>\n",
       "    <tr style=\"text-align: right;\">\n",
       "      <th></th>\n",
       "      <th>state</th>\n",
       "      <th>reportedZipCode</th>\n",
       "      <th>countyCode</th>\n",
       "      <th>censusTract</th>\n",
       "      <th>censusBlockGroupFips</th>\n",
       "      <th>latitude</th>\n",
       "      <th>longitude</th>\n",
       "      <th>yearOfLoss</th>\n",
       "    </tr>\n",
       "  </thead>\n",
       "  <tbody>\n",
       "    <tr>\n",
       "      <th>207</th>\n",
       "      <td>FL</td>\n",
       "      <td>32569.0</td>\n",
       "      <td>12091.0</td>\n",
       "      <td>NaN</td>\n",
       "      <td>NaN</td>\n",
       "      <td>30.4</td>\n",
       "      <td>-86.7</td>\n",
       "      <td>1995</td>\n",
       "    </tr>\n",
       "    <tr>\n",
       "      <th>310</th>\n",
       "      <td>SC</td>\n",
       "      <td>29902.0</td>\n",
       "      <td>45013.0</td>\n",
       "      <td>NaN</td>\n",
       "      <td>NaN</td>\n",
       "      <td>32.4</td>\n",
       "      <td>-80.7</td>\n",
       "      <td>1994</td>\n",
       "    </tr>\n",
       "    <tr>\n",
       "      <th>312</th>\n",
       "      <td>SC</td>\n",
       "      <td>29902.0</td>\n",
       "      <td>45013.0</td>\n",
       "      <td>NaN</td>\n",
       "      <td>NaN</td>\n",
       "      <td>32.4</td>\n",
       "      <td>-80.7</td>\n",
       "      <td>1996</td>\n",
       "    </tr>\n",
       "    <tr>\n",
       "      <th>331</th>\n",
       "      <td>VT</td>\n",
       "      <td>5158.0</td>\n",
       "      <td>50025.0</td>\n",
       "      <td>NaN</td>\n",
       "      <td>NaN</td>\n",
       "      <td>43.1</td>\n",
       "      <td>-72.5</td>\n",
       "      <td>1999</td>\n",
       "    </tr>\n",
       "    <tr>\n",
       "      <th>332</th>\n",
       "      <td>VT</td>\n",
       "      <td>5158.0</td>\n",
       "      <td>50025.0</td>\n",
       "      <td>NaN</td>\n",
       "      <td>NaN</td>\n",
       "      <td>43.1</td>\n",
       "      <td>-72.5</td>\n",
       "      <td>2011</td>\n",
       "    </tr>\n",
       "  </tbody>\n",
       "</table>\n",
       "</div>"
      ],
      "text/plain": [
       "    state  reportedZipCode  countyCode  censusTract  censusBlockGroupFips  \\\n",
       "207    FL          32569.0     12091.0          NaN                   NaN   \n",
       "310    SC          29902.0     45013.0          NaN                   NaN   \n",
       "312    SC          29902.0     45013.0          NaN                   NaN   \n",
       "331    VT           5158.0     50025.0          NaN                   NaN   \n",
       "332    VT           5158.0     50025.0          NaN                   NaN   \n",
       "\n",
       "     latitude  longitude  yearOfLoss  \n",
       "207      30.4      -86.7        1995  \n",
       "310      32.4      -80.7        1994  \n",
       "312      32.4      -80.7        1996  \n",
       "331      43.1      -72.5        1999  \n",
       "332      43.1      -72.5        2011  "
      ]
     },
     "execution_count": 11,
     "metadata": {},
     "output_type": "execute_result"
    }
   ],
   "source": [
    "df_geographic_unique.head()"
   ]
  },
  {
   "cell_type": "code",
   "execution_count": 12,
   "id": "6fefcacd-91e5-4c57-90ae-a5b478ae7a6c",
   "metadata": {
    "tags": []
   },
   "outputs": [
    {
     "name": "stdout",
     "output_type": "stream",
     "text": [
      "0\n",
      "0\n",
      "0\n",
      "32761\n",
      "32761\n",
      "0\n",
      "0\n"
     ]
    }
   ],
   "source": [
    "print(sum(df_geographic_unique['state'].isna()))\n",
    "print(sum(df_geographic_unique['reportedZipCode'].isna()))\n",
    "print(sum(df_geographic_unique['countyCode'].isna()))\n",
    "print(sum(df_geographic_unique['censusTract'].isna()))\n",
    "print(sum(df_geographic_unique['censusBlockGroupFips'].isna()))\n",
    "print(sum(df_geographic_unique['latitude'].isna()))\n",
    "print(sum(df_geographic_unique['yearOfLoss'].isna()))"
   ]
  },
  {
   "cell_type": "code",
   "execution_count": 13,
   "id": "472bcc5a-7601-45f0-a129-d3511ab53afd",
   "metadata": {
    "tags": []
   },
   "outputs": [],
   "source": [
    "df_geographic_unique['reportedZipCode'] = df_geographic_unique['reportedZipCode'].dropna().astype(int).astype(str)\n",
    "df_geographic_unique['reportedZipCode'] = [zipcode.zfill(5) for zipcode in df_geographic_unique['reportedZipCode']]\n",
    "\n",
    "df_geographic_unique['countyCode'] = [str(int(float(i))) for i in df_geographic_unique['countyCode']]\n",
    "df_geographic_unique['countyCode'] = [censusBG.zfill(5) for censusBG in df_geographic_unique['countyCode']]"
   ]
  },
  {
   "cell_type": "code",
   "execution_count": 14,
   "id": "f505ccbf-e2d4-42af-b28f-7e0abd4ff913",
   "metadata": {},
   "outputs": [],
   "source": [
    "# # Define bins and labels for yearOfLoss_1980_2020\n",
    "# bins_1980_2020 = [df_geographic_unique['yearOfLoss'].min(), 1990, 2000, 2010, 2020, df_geographic_unique['yearOfLoss'].max() + 1]\n",
    "# labels_1980_2020 = [1980, 1990, 2000, 2010, 2020]\n",
    "\n",
    "# df_geographic_unique['yearOfLoss_1980_2020'] = pd.cut(df_geographic_unique['yearOfLoss'], bins=bins_1980_2020, labels=labels_1980_2020, right=False).astype(int)"
   ]
  },
  {
   "cell_type": "code",
   "execution_count": 15,
   "id": "ced408b4-673a-4332-8bc1-fb789767a246",
   "metadata": {
    "tags": []
   },
   "outputs": [],
   "source": [
    "# Define bins and labels for yearOfLoss_1990_2021\n",
    "\n",
    "bins_1990_2021 = [df_geographic_unique['yearOfLoss'].min(), 2000, 2010, 2020, df_geographic_unique['yearOfLoss'].max() + 1]\n",
    "labels_1990_2021 = [1990, 2000, 2010, 2020]\n",
    "\n",
    "df_geographic_unique['yearOfLoss_1990_2021'] = pd.cut(df_geographic_unique['yearOfLoss'], bins=bins_1990_2021, labels=labels_1990_2021, right=False).astype(int)\n",
    "\n",
    "bins_2000_2021 = [df_geographic_unique['yearOfLoss'].min(), 2000, 2010, 2020, df_geographic_unique['yearOfLoss'].max() + 1]\n",
    "labels_2000_2021 = [1990, 2000, 2010, 2020]\n",
    "\n",
    "df_geographic_unique['yearOfLoss_2000_2021'] = pd.cut(df_geographic_unique['yearOfLoss'], bins=bins_2000_2021, labels=labels_2000_2021, right=False).astype(int)\n",
    "\n",
    "\n",
    "df_geographic_unique = df_geographic_unique.drop_duplicates()"
   ]
  },
  {
   "cell_type": "code",
   "execution_count": 16,
   "id": "e5714777",
   "metadata": {},
   "outputs": [],
   "source": [
    "import pandas as pd\n",
    "\n",
    "# Step 1: Define the bins.\n",
    "# Adjusting the bins so that 2011 falls into the 2012 bin\n",
    "custom_bins = [0, 2000, 2010, 2012] + list(range(2013, 2023)) + [2024]\n",
    "\n",
    "# Step 2: Define the labels.\n",
    "# Adjusting the labels to reflect the new bin structure\n",
    "custom_labels = [0, 2000, 2010] + list(range(2012, 2023))  # The label 2022 will apply to both 2022 and 2023.\n",
    "\n",
    "# Ensure the number of labels is one less than the number of bin edges.\n",
    "assert len(custom_bins) == len(custom_labels) + 1, \"Number of bin labels must be one fewer than the number of bin edges.\"\n",
    "\n",
    "# Step 3: Apply the custom binning and create the 'zip_year_bin' column.\n",
    "df_geographic_unique['zip_year_bin'] = pd.cut(\n",
    "    df_geographic_unique['yearOfLoss'],\n",
    "    bins=custom_bins,\n",
    "    labels=custom_labels,\n",
    "    right=False,  # Ensuring the rightmost edge is exclusive.\n",
    "    include_lowest=True,  # Including the leftmost edge.\n",
    ").astype(int)  # Converting the resulting categories to integers for convenience."
   ]
  },
  {
   "cell_type": "code",
   "execution_count": 17,
   "id": "a3342268-f6c3-41a0-b21a-4f6f4efd66db",
   "metadata": {
    "tags": []
   },
   "outputs": [
    {
     "data": {
      "text/html": [
       "<div>\n",
       "<style scoped>\n",
       "    .dataframe tbody tr th:only-of-type {\n",
       "        vertical-align: middle;\n",
       "    }\n",
       "\n",
       "    .dataframe tbody tr th {\n",
       "        vertical-align: top;\n",
       "    }\n",
       "\n",
       "    .dataframe thead th {\n",
       "        text-align: right;\n",
       "    }\n",
       "</style>\n",
       "<table border=\"1\" class=\"dataframe\">\n",
       "  <thead>\n",
       "    <tr style=\"text-align: right;\">\n",
       "      <th></th>\n",
       "      <th>state</th>\n",
       "      <th>reportedZipCode</th>\n",
       "      <th>countyCode</th>\n",
       "      <th>censusTract</th>\n",
       "      <th>censusBlockGroupFips</th>\n",
       "      <th>latitude</th>\n",
       "      <th>longitude</th>\n",
       "      <th>yearOfLoss</th>\n",
       "      <th>yearOfLoss_1990_2021</th>\n",
       "      <th>yearOfLoss_2000_2021</th>\n",
       "      <th>zip_year_bin</th>\n",
       "    </tr>\n",
       "  </thead>\n",
       "  <tbody>\n",
       "    <tr>\n",
       "      <th>207</th>\n",
       "      <td>FL</td>\n",
       "      <td>32569</td>\n",
       "      <td>12091</td>\n",
       "      <td>NaN</td>\n",
       "      <td>NaN</td>\n",
       "      <td>30.4</td>\n",
       "      <td>-86.7</td>\n",
       "      <td>1995</td>\n",
       "      <td>1990</td>\n",
       "      <td>1990</td>\n",
       "      <td>0</td>\n",
       "    </tr>\n",
       "    <tr>\n",
       "      <th>310</th>\n",
       "      <td>SC</td>\n",
       "      <td>29902</td>\n",
       "      <td>45013</td>\n",
       "      <td>NaN</td>\n",
       "      <td>NaN</td>\n",
       "      <td>32.4</td>\n",
       "      <td>-80.7</td>\n",
       "      <td>1994</td>\n",
       "      <td>1990</td>\n",
       "      <td>1990</td>\n",
       "      <td>0</td>\n",
       "    </tr>\n",
       "    <tr>\n",
       "      <th>312</th>\n",
       "      <td>SC</td>\n",
       "      <td>29902</td>\n",
       "      <td>45013</td>\n",
       "      <td>NaN</td>\n",
       "      <td>NaN</td>\n",
       "      <td>32.4</td>\n",
       "      <td>-80.7</td>\n",
       "      <td>1996</td>\n",
       "      <td>1990</td>\n",
       "      <td>1990</td>\n",
       "      <td>0</td>\n",
       "    </tr>\n",
       "    <tr>\n",
       "      <th>331</th>\n",
       "      <td>VT</td>\n",
       "      <td>05158</td>\n",
       "      <td>50025</td>\n",
       "      <td>NaN</td>\n",
       "      <td>NaN</td>\n",
       "      <td>43.1</td>\n",
       "      <td>-72.5</td>\n",
       "      <td>1999</td>\n",
       "      <td>1990</td>\n",
       "      <td>1990</td>\n",
       "      <td>0</td>\n",
       "    </tr>\n",
       "    <tr>\n",
       "      <th>332</th>\n",
       "      <td>VT</td>\n",
       "      <td>05158</td>\n",
       "      <td>50025</td>\n",
       "      <td>NaN</td>\n",
       "      <td>NaN</td>\n",
       "      <td>43.1</td>\n",
       "      <td>-72.5</td>\n",
       "      <td>2011</td>\n",
       "      <td>2010</td>\n",
       "      <td>2010</td>\n",
       "      <td>2011</td>\n",
       "    </tr>\n",
       "  </tbody>\n",
       "</table>\n",
       "</div>"
      ],
      "text/plain": [
       "    state reportedZipCode countyCode  censusTract  censusBlockGroupFips  \\\n",
       "207    FL           32569      12091          NaN                   NaN   \n",
       "310    SC           29902      45013          NaN                   NaN   \n",
       "312    SC           29902      45013          NaN                   NaN   \n",
       "331    VT           05158      50025          NaN                   NaN   \n",
       "332    VT           05158      50025          NaN                   NaN   \n",
       "\n",
       "     latitude  longitude  yearOfLoss  yearOfLoss_1990_2021  \\\n",
       "207      30.4      -86.7        1995                  1990   \n",
       "310      32.4      -80.7        1994                  1990   \n",
       "312      32.4      -80.7        1996                  1990   \n",
       "331      43.1      -72.5        1999                  1990   \n",
       "332      43.1      -72.5        2011                  2010   \n",
       "\n",
       "     yearOfLoss_2000_2021  zip_year_bin  \n",
       "207                  1990             0  \n",
       "310                  1990             0  \n",
       "312                  1990             0  \n",
       "331                  1990             0  \n",
       "332                  2010          2011  "
      ]
     },
     "execution_count": 17,
     "metadata": {},
     "output_type": "execute_result"
    }
   ],
   "source": [
    "df_geographic_unique.head()"
   ]
  },
  {
   "cell_type": "markdown",
   "id": "4783b44a-b8be-476a-9d41-89d5172f3f56",
   "metadata": {},
   "source": [
    "## Read shapefiles"
   ]
  },
  {
   "cell_type": "code",
   "execution_count": 18,
   "id": "5dc2e6cf-9e37-4974-825f-24398be296b3",
   "metadata": {
    "tags": []
   },
   "outputs": [
    {
     "name": "stdout",
     "output_type": "stream",
     "text": [
      "Using the default year of 2021\n"
     ]
    }
   ],
   "source": [
    "states = pygris.states()\n",
    "\n",
    "state_df = states[['STUSPS', 'NAME', 'geometry']]"
   ]
  },
  {
   "cell_type": "code",
   "execution_count": 19,
   "id": "2cced178-934a-411f-be8f-bf65fc418e10",
   "metadata": {
    "tags": []
   },
   "outputs": [
    {
     "data": {
      "text/plain": [
       "True"
      ]
     },
     "execution_count": 19,
     "metadata": {},
     "output_type": "execute_result"
    }
   ],
   "source": [
    "#Checking if all states found in our dataset are in the US Census Bureau TIGER/Line and cartographic boundary shapefiles\n",
    "\n",
    "unique_states = df_geographic_unique['state'].unique()\n",
    "state_STUSPS_unique = state_df['STUSPS'].unique()\n",
    "\n",
    "np.all(np.isin(unique_states, state_STUSPS_unique))"
   ]
  },
  {
   "cell_type": "code",
   "execution_count": 20,
   "id": "ce3582a8-cb16-48e5-9742-5fba90c5a8e9",
   "metadata": {
    "tags": []
   },
   "outputs": [],
   "source": [
    "# Read the parquet file\n",
    "df_read = pd.read_parquet(\"C:/Users/Asus/Box/Flood Damage PredictionProject/Dataset/lat_long_geometry.parquet.gzip\")\n",
    "\n",
    "# Convert the WKT strings back to geometries\n",
    "lat_long_df = gpd.GeoDataFrame(df_read, geometry=df_read['geometry'].apply(lambda x: shapely.wkt.loads(x)))"
   ]
  },
  {
   "cell_type": "code",
   "execution_count": 21,
   "id": "c53f7688-096e-4f05-a325-37ab0c476fad",
   "metadata": {
    "tags": []
   },
   "outputs": [],
   "source": [
    "chunk_size = 50000  # adjust based on your system's capabilities\n",
    "chunks = [x for x in range(0, 300000, chunk_size)]\n",
    "\n",
    "gdf_list = []\n",
    "\n",
    "for start in chunks:\n",
    "    end = start + chunk_size\n",
    "    temp_df = pd.read_parquet(f\"C:/Users/Asus/Box/Flood Damage PredictionProject/Dataset/zipcode_geometry_{start}_{end}.parquet.gzip\")\n",
    "    gdf_read = gpd.GeoDataFrame(temp_df, geometry=temp_df['geometry'].apply(lambda x: shapely.wkt.loads(x)))\n",
    "    gdf_list.append(gdf_read)\n",
    "    \n",
    "# Concatenate all GeoDataFrames in the list into a single GeoDataFrame\n",
    "zipcode_df = pd.concat(gdf_list, ignore_index=True)"
   ]
  },
  {
   "cell_type": "code",
   "execution_count": 22,
   "id": "5aba7080-fa52-4e5b-b61c-4f7817bd031c",
   "metadata": {
    "tags": []
   },
   "outputs": [],
   "source": [
    "# Read the parquet file\n",
    "df_read = pd.read_parquet(\"C:/Users/Asus/Box/Flood Damage PredictionProject/Dataset/County_geometry.parquet.gzip\")\n",
    "\n",
    "# Convert the WKT strings back to geometries\n",
    "County_df = gpd.GeoDataFrame(df_read, geometry=df_read['geometry'].apply(lambda x: shapely.wkt.loads(x)))\n",
    "\n"
   ]
  },
  {
   "cell_type": "markdown",
   "id": "1e939c53-2c45-4c6b-b263-2b73f8eaf43e",
   "metadata": {},
   "source": [
    "## Geometry Intersection creation"
   ]
  },
  {
   "cell_type": "code",
   "execution_count": 23,
   "id": "bfe7ff21-cf1d-4725-8e60-6f604c6f0a00",
   "metadata": {
    "collapsed": true,
    "jupyter": {
     "outputs_hidden": true
    },
    "tags": []
   },
   "outputs": [
    {
     "name": "stderr",
     "output_type": "stream",
     "text": [
      "C:\\Users\\jorda\\AppData\\Local\\Temp\\ipykernel_12272\\2800662510.py:1: SettingWithCopyWarning: \n",
      "A value is trying to be set on a copy of a slice from a DataFrame\n",
      "\n",
      "See the caveats in the documentation: https://pandas.pydata.org/pandas-docs/stable/user_guide/indexing.html#returning-a-view-versus-a-copy\n",
      "  state_df.rename(columns={'geometry': 'geometry_state'}, inplace=True)\n"
     ]
    }
   ],
   "source": [
    "state_df.rename(columns={'geometry': 'geometry_state'}, inplace=True)\n",
    "lat_long_df.rename(columns={'geometry': 'geometry_lat_long'}, inplace=True)\n",
    "zipcode_df.rename(columns={'geometry': 'geometry_zipcode'}, inplace=True)\n",
    "County_df.rename(columns={'geometry': 'geometry_county'}, inplace=True)\n"
   ]
  },
  {
   "cell_type": "code",
   "execution_count": 24,
   "id": "60b99de0",
   "metadata": {},
   "outputs": [
    {
     "data": {
      "text/plain": [
       "Index(['state', 'reportedZipCode', 'countyCode', 'censusTract',\n",
       "       'censusBlockGroupFips', 'latitude', 'longitude', 'yearOfLoss',\n",
       "       'yearOfLoss_1990_2021', 'yearOfLoss_2000_2021', 'zip_year_bin'],\n",
       "      dtype='object')"
      ]
     },
     "execution_count": 24,
     "metadata": {},
     "output_type": "execute_result"
    }
   ],
   "source": [
    "df_geographic_unique.columns"
   ]
  },
  {
   "cell_type": "code",
   "execution_count": 25,
   "id": "54340e22",
   "metadata": {},
   "outputs": [
    {
     "data": {
      "text/plain": [
       "1990    26129\n",
       "2000     4863\n",
       "2010     1486\n",
       "2020      283\n",
       "Name: yearOfLoss_2000_2021, dtype: int64"
      ]
     },
     "execution_count": 25,
     "metadata": {},
     "output_type": "execute_result"
    }
   ],
   "source": [
    "df_geographic_unique['yearOfLoss_2000_2021'].value_counts()"
   ]
  },
  {
   "cell_type": "code",
   "execution_count": 26,
   "id": "9101cac4-cc10-407c-9c5b-14119f8f6ed2",
   "metadata": {
    "tags": []
   },
   "outputs": [],
   "source": [
    "# Filter for post 2000\n",
    "# df_geographic_unique = df_geographic_unique[(df_geographic_unique['yearOfLoss_1980_2020']!=1980) & (df_geographic_unique['yearOfLoss_1980_2020']!=1980)]\n",
    "\n",
    "df_geographic_unique = df_geographic_unique[df_geographic_unique['yearOfLoss_2000_2021']!=1990]"
   ]
  },
  {
   "cell_type": "code",
   "execution_count": 27,
   "id": "af4b1b6b-205a-4c13-9385-c089dcfb2136",
   "metadata": {
    "collapsed": true,
    "jupyter": {
     "outputs_hidden": true
    },
    "tags": []
   },
   "outputs": [],
   "source": [
    "# Setting the multi-index on lat_long_df\n",
    "lat_long_df.set_index(['latitude', 'longitude'], inplace=True)\n",
    "\n",
    "# Mapping the values\n",
    "df_geographic_unique['geometry_lat_long'] = df_geographic_unique.set_index(['latitude', 'longitude']).index.map(lat_long_df['geometry_lat_long'])\n",
    "\n",
    "# Resetting the index of lat_long_df (optional, but good practice)\n",
    "lat_long_df.reset_index(inplace=True)"
   ]
  },
  {
   "cell_type": "code",
   "execution_count": 28,
   "id": "6953d555-0408-41e3-8859-c04d1f9bacfc",
   "metadata": {
    "collapsed": true,
    "jupyter": {
     "outputs_hidden": true
    },
    "tags": []
   },
   "outputs": [],
   "source": [
    "# Initial mapping with multi-index\n",
    "zipcode_df.set_index(['ZIPcode', 'year'], inplace=True)\n",
    "df_geographic_unique['geometry_zipcode'] = df_geographic_unique.set_index(['reportedZipCode', 'zip_year_bin']).index.map(zipcode_df['geometry_zipcode'])\n",
    "\n",
    "# Resetting the index of BG_df (return to multi-index)\n",
    "zipcode_df.reset_index(inplace=True)"
   ]
  },
  {
   "cell_type": "code",
   "execution_count": 29,
   "id": "be627ecc-f569-41e8-961d-bf53859f69c5",
   "metadata": {
    "collapsed": true,
    "jupyter": {
     "outputs_hidden": true
    },
    "tags": []
   },
   "outputs": [],
   "source": [
    "# Setting the multi-index on lat_long_df\n",
    "state_df.set_index(['STUSPS'], inplace=True)\n",
    "\n",
    "# Mapping the values\n",
    "df_geographic_unique['geometry_state'] = df_geographic_unique.set_index(['state']).index.map(state_df['geometry_state'])\n",
    "\n",
    "# Resetting the index of lat_long_df (optional, but good practice)\n",
    "state_df.reset_index(inplace=True)"
   ]
  },
  {
   "cell_type": "code",
   "execution_count": 30,
   "id": "09afc65a-c58f-4a20-8c94-ae0a572e2436",
   "metadata": {
    "collapsed": true,
    "jupyter": {
     "outputs_hidden": true
    },
    "tags": []
   },
   "outputs": [],
   "source": [
    "# Initial mapping with multi-index\n",
    "County_df.set_index(['CountyID'], inplace=True)\n",
    "df_geographic_unique['geometry_county'] = df_geographic_unique.set_index(['countyCode']).index.map(County_df['geometry_county'])\n",
    "\n",
    "# Resetting the index of County_df (return to multi-index)\n",
    "County_df.reset_index(inplace=True)"
   ]
  },
  {
   "cell_type": "markdown",
   "id": "270dea85-62ce-400f-95f6-2379579f336d",
   "metadata": {},
   "source": [
    "## Drop rows with missing shapefiles"
   ]
  },
  {
   "cell_type": "code",
   "execution_count": 31,
   "id": "81019b69-3b25-47e4-960d-5b4fee6ad0cf",
   "metadata": {
    "tags": []
   },
   "outputs": [],
   "source": [
    "df_geographic_unique = df_geographic_unique[(df_geographic_unique['geometry_county'].notna())\n",
    "                              & (df_geographic_unique['geometry_zipcode'].notna())]"
   ]
  },
  {
   "cell_type": "markdown",
   "id": "402b9c2f-9ee8-4171-98c3-42fab1681427",
   "metadata": {},
   "source": [
    "## Creating the intersections"
   ]
  },
  {
   "cell_type": "code",
   "execution_count": 32,
   "id": "8b2a5852-d041-4253-a1be-4b88fe46764a",
   "metadata": {
    "tags": []
   },
   "outputs": [],
   "source": [
    "import geopandas as gpd\n",
    "from shapely.geometry import Polygon\n",
    "from itertools import product\n",
    "import warnings\n",
    "warnings.filterwarnings(\"ignore\")"
   ]
  },
  {
   "cell_type": "code",
   "execution_count": 33,
   "id": "a4686bd6-122f-452f-b086-6e3656b187f8",
   "metadata": {
    "tags": []
   },
   "outputs": [
    {
     "data": {
      "text/plain": [
       "5620"
      ]
     },
     "execution_count": 33,
     "metadata": {},
     "output_type": "execute_result"
    }
   ],
   "source": [
    "len(df_geographic_unique)"
   ]
  },
  {
   "cell_type": "code",
   "execution_count": 34,
   "id": "b24d460c-adb5-43bb-ad21-1181ff876ca7",
   "metadata": {
    "tags": []
   },
   "outputs": [],
   "source": [
    "# Create an empty GeoDataFrame to store the intersection results\n",
    "new_unit_df = gpd.GeoDataFrame(columns=['reportedZipCode', 'countyCode', 'censusTract',\n",
    "                                       'censusBlockGroupFips', 'latitude', 'longitude', 'year','year_zipcode', 'state', 'geometry_zipcode',\n",
    "                                       'geometry_county', 'geometry_lat_long','geometry_state',\n",
    "                                         'cbgInconsistent', 'tractInconsistent', 'countyInconsistent', 'stateInconsistent', 'latlongInconsistent', 'multiple', 'noOverlap', 'oneWrong'])\n",
    "\n",
    "# Iterate through each row in BG_df_1990 and each row in lat_long_df to find intersections\n",
    "for idx_unit, row_unit in df_geographic_unique.iterrows():\n",
    "    year = row_unit['yearOfLoss_1990_2021']\n",
    "    year_zipcode = row_unit['zip_year_bin']\n",
    "    bg_id = row_unit['censusBlockGroupFips']\n",
    "    tract_id = row_unit['censusTract']\n",
    "    county_id = row_unit['countyCode']\n",
    "    county_geometry = row_unit['geometry_county']\n",
    "    state = row_unit['state']\n",
    "    state_geometry = row_unit['geometry_state']\n",
    "    lat_long_geometry = row_unit['geometry_lat_long']\n",
    "    lat = row_unit['latitude']\n",
    "    long = row_unit['longitude']\n",
    "    zipcode_geometry = row_unit['geometry_zipcode']\n",
    "    zipcode = row_unit['reportedZipCode']\n",
    "    \n",
    "    # Compute intersection geometry\n",
    "    #intersection_geometry = bg_geometry.intersection(lat_long_geometry).intersection(zipcode_geometry).intersection(county_geometry).intersection(state_geometry).intersection(tract_geometry)\n",
    "    \n",
    "    # First intersection\n",
    "    intersection_1 = lat_long_geometry.intersection(zipcode_geometry)\n",
    "\n",
    "\n",
    "    intersection_3 = intersection_1.intersection(county_geometry)\n",
    "\n",
    "    # Fourth intersection\n",
    "    intersection_geometry = intersection_3.intersection(state_geometry)\n",
    "\n",
    "\n",
    "    \n",
    "    if intersection_geometry is None or intersection_geometry.is_empty:\n",
    "        new_unit_df = pd.concat([new_unit_df, pd.DataFrame({\n",
    "            'reportedZipCode': [zipcode],\n",
    "            'countyCode': [county_id],\n",
    "            'censusTract': [tract_id],\n",
    "            'censusBlockGroupFips': [bg_id],\n",
    "            'latitude': [lat],\n",
    "            'longitude': [long],\n",
    "            'year': [year],\n",
    "            'year_zipcode': [year_zipcode],\n",
    "            'state': [state],\n",
    "            'geometry_zipcode': [zipcode_geometry],\n",
    "            'geometry_county': [county_geometry],\n",
    "            'geometry_lat_long': [lat_long_geometry],\n",
    "            'geometry_state': [state_geometry]\n",
    "        })], ignore_index=True)"
   ]
  },
  {
   "cell_type": "code",
   "execution_count": 35,
   "id": "e9518b68",
   "metadata": {},
   "outputs": [
    {
     "data": {
      "text/plain": [
       "147"
      ]
     },
     "execution_count": 35,
     "metadata": {},
     "output_type": "execute_result"
    }
   ],
   "source": [
    "len(new_unit_df)"
   ]
  },
  {
   "cell_type": "code",
   "execution_count": 36,
   "id": "0c0e87c0-73df-4bf7-866a-d7c62547ca2d",
   "metadata": {},
   "outputs": [],
   "source": [
    "for idx_unit, row_unit in new_unit_df.iterrows():\n",
    "    year = row_unit['year']\n",
    "    bg_id = row_unit['censusBlockGroupFips']\n",
    "    tract_id = row_unit['censusTract']\n",
    "    county_id = row_unit['countyCode']\n",
    "    county_geometry = row_unit['geometry_county']\n",
    "    state = row_unit['state']\n",
    "    state_geometry = row_unit['geometry_state']\n",
    "    lat_long_geometry = row_unit['geometry_lat_long']\n",
    "    lat = row_unit['latitude']\n",
    "    long = row_unit['longitude']\n",
    "    zipcode_geometry = row_unit['geometry_zipcode']\n",
    "    zipcode = row_unit['reportedZipCode']\n",
    "\n",
    "    intersection_geometry = zipcode_geometry.intersection(state_geometry).intersection(lat_long_geometry)\n",
    "\n",
    "    if intersection_geometry is None or intersection_geometry.is_empty:\n",
    "        new_unit_df.at[idx_unit,'countyInconsistent'] = 0\n",
    "    else:\n",
    "        new_unit_df.at[idx_unit,'countyInconsistent'] = 1"
   ]
  },
  {
   "cell_type": "code",
   "execution_count": 37,
   "id": "4b3e7f6d",
   "metadata": {},
   "outputs": [
    {
     "data": {
      "text/plain": [
       "1"
      ]
     },
     "execution_count": 37,
     "metadata": {},
     "output_type": "execute_result"
    }
   ],
   "source": [
    "new_unit_df['countyInconsistent'].sum()"
   ]
  },
  {
   "cell_type": "code",
   "execution_count": 38,
   "id": "7ae01b2a",
   "metadata": {},
   "outputs": [],
   "source": [
    "for idx_unit, row_unit in new_unit_df.iterrows():\n",
    "    year = row_unit['year']\n",
    "    bg_id = row_unit['censusBlockGroupFips']\n",
    "    tract_id = row_unit['censusTract']\n",
    "    county_id = row_unit['countyCode']\n",
    "    county_geometry = row_unit['geometry_county']\n",
    "    state = row_unit['state']\n",
    "    state_geometry = row_unit['geometry_state']\n",
    "    lat_long_geometry = row_unit['geometry_lat_long']\n",
    "    lat = row_unit['latitude']\n",
    "    long = row_unit['longitude']\n",
    "    zipcode_geometry = row_unit['geometry_zipcode']\n",
    "    zipcode = row_unit['reportedZipCode']\n",
    "\n",
    "    intersection_geometry = zipcode_geometry.intersection(county_geometry).intersection(lat_long_geometry)\n",
    "\n",
    "    if intersection_geometry is None or intersection_geometry.is_empty:\n",
    "        new_unit_df.at[idx_unit,'stateInconsistent'] = 0\n",
    "    else:\n",
    "        new_unit_df.at[idx_unit,'stateInconsistent'] = 1"
   ]
  },
  {
   "cell_type": "code",
   "execution_count": 39,
   "id": "c30abd1e",
   "metadata": {},
   "outputs": [
    {
     "data": {
      "text/plain": [
       "0"
      ]
     },
     "execution_count": 39,
     "metadata": {},
     "output_type": "execute_result"
    }
   ],
   "source": [
    "new_unit_df['stateInconsistent'].sum()"
   ]
  },
  {
   "cell_type": "code",
   "execution_count": 40,
   "id": "88107cec",
   "metadata": {},
   "outputs": [],
   "source": [
    "for idx_unit, row_unit in new_unit_df.iterrows():\n",
    "    year = row_unit['year']\n",
    "    bg_id = row_unit['censusBlockGroupFips']\n",
    "    tract_id = row_unit['censusTract']\n",
    "    county_id = row_unit['countyCode']\n",
    "    county_geometry = row_unit['geometry_county']\n",
    "    state = row_unit['state']\n",
    "    state_geometry = row_unit['geometry_state']\n",
    "    lat_long_geometry = row_unit['geometry_lat_long']\n",
    "    lat = row_unit['latitude']\n",
    "    long = row_unit['longitude']\n",
    "    zipcode_geometry = row_unit['geometry_zipcode']\n",
    "    zipcode = row_unit['reportedZipCode']\n",
    "\n",
    "    intersection_geometry = zipcode_geometry.intersection(county_geometry).intersection(state_geometry)\n",
    "\n",
    "    if intersection_geometry is None or intersection_geometry.is_empty:\n",
    "        new_unit_df.at[idx_unit,'latlongInconsistent'] = 0\n",
    "    else:\n",
    "        new_unit_df.at[idx_unit,'latlongInconsistent'] = 1"
   ]
  },
  {
   "cell_type": "code",
   "execution_count": 41,
   "id": "07dd920c",
   "metadata": {},
   "outputs": [
    {
     "data": {
      "text/plain": [
       "118"
      ]
     },
     "execution_count": 41,
     "metadata": {},
     "output_type": "execute_result"
    }
   ],
   "source": [
    "new_unit_df['latlongInconsistent'].sum()"
   ]
  },
  {
   "cell_type": "code",
   "execution_count": 42,
   "id": "63ff2566",
   "metadata": {},
   "outputs": [],
   "source": [
    "for idx_unit, row_unit in new_unit_df.iterrows():\n",
    "    year = row_unit['year']\n",
    "    bg_id = row_unit['censusBlockGroupFips']\n",
    "    tract_id = row_unit['censusTract']\n",
    "    county_id = row_unit['countyCode']\n",
    "    county_geometry = row_unit['geometry_county']\n",
    "    state = row_unit['state']\n",
    "    state_geometry = row_unit['geometry_state']\n",
    "    lat_long_geometry = row_unit['geometry_lat_long']\n",
    "    lat = row_unit['latitude']\n",
    "    long = row_unit['longitude']\n",
    "    zipcode_geometry = row_unit['geometry_zipcode']\n",
    "    zipcode = row_unit['reportedZipCode']\n",
    "    \n",
    "    intersection_geometry = lat_long_geometry.intersection(county_geometry).intersection(state_geometry)\n",
    "\n",
    "    if intersection_geometry is None or intersection_geometry.is_empty:\n",
    "        new_unit_df.at[idx_unit,'zipInconsistent'] = 0\n",
    "    else:\n",
    "        new_unit_df.at[idx_unit,'zipInconsistent'] = 1"
   ]
  },
  {
   "cell_type": "code",
   "execution_count": 43,
   "id": "463c039d",
   "metadata": {},
   "outputs": [
    {
     "data": {
      "text/html": [
       "<div>\n",
       "<style scoped>\n",
       "    .dataframe tbody tr th:only-of-type {\n",
       "        vertical-align: middle;\n",
       "    }\n",
       "\n",
       "    .dataframe tbody tr th {\n",
       "        vertical-align: top;\n",
       "    }\n",
       "\n",
       "    .dataframe thead th {\n",
       "        text-align: right;\n",
       "    }\n",
       "</style>\n",
       "<table border=\"1\" class=\"dataframe\">\n",
       "  <thead>\n",
       "    <tr style=\"text-align: right;\">\n",
       "      <th></th>\n",
       "      <th>reportedZipCode</th>\n",
       "      <th>countyCode</th>\n",
       "      <th>censusTract</th>\n",
       "      <th>censusBlockGroupFips</th>\n",
       "      <th>latitude</th>\n",
       "      <th>longitude</th>\n",
       "      <th>year</th>\n",
       "      <th>state</th>\n",
       "      <th>geometry_zipcode</th>\n",
       "      <th>geometry_county</th>\n",
       "      <th>geometry_lat_long</th>\n",
       "      <th>geometry_state</th>\n",
       "      <th>cbgInconsistent</th>\n",
       "      <th>tractInconsistent</th>\n",
       "      <th>countyInconsistent</th>\n",
       "      <th>stateInconsistent</th>\n",
       "      <th>latlongInconsistent</th>\n",
       "      <th>multiple</th>\n",
       "      <th>noOverlap</th>\n",
       "      <th>oneWrong</th>\n",
       "      <th>zipInconsistent</th>\n",
       "    </tr>\n",
       "  </thead>\n",
       "  <tbody>\n",
       "    <tr>\n",
       "      <th>0</th>\n",
       "      <td>98852</td>\n",
       "      <td>53007</td>\n",
       "      <td>NaN</td>\n",
       "      <td>NaN</td>\n",
       "      <td>48.2</td>\n",
       "      <td>-120.6</td>\n",
       "      <td>2000</td>\n",
       "      <td>WA</td>\n",
       "      <td>POLYGON ((-120.94138 48.530144, -120.941046 48...</td>\n",
       "      <td>POLYGON ((-120.907425 48.163184, -120.907399 4...</td>\n",
       "      <td>POLYGON ((-120.64999999999999 48.1500000000000...</td>\n",
       "      <td>MULTIPOLYGON (((-122.33164 48.020556, -122.328...</td>\n",
       "      <td>NaN</td>\n",
       "      <td>NaN</td>\n",
       "      <td>0</td>\n",
       "      <td>0</td>\n",
       "      <td>1</td>\n",
       "      <td>NaN</td>\n",
       "      <td>NaN</td>\n",
       "      <td>NaN</td>\n",
       "      <td>1.0</td>\n",
       "    </tr>\n",
       "    <tr>\n",
       "      <th>1</th>\n",
       "      <td>27968</td>\n",
       "      <td>37055</td>\n",
       "      <td>NaN</td>\n",
       "      <td>NaN</td>\n",
       "      <td>36.0</td>\n",
       "      <td>-75.6</td>\n",
       "      <td>2000</td>\n",
       "      <td>NC</td>\n",
       "      <td>MULTIPOLYGON (((-75.485614 35.649355, -75.4856...</td>\n",
       "      <td>POLYGON ((-75.77358699999999 36.050824, -75.77...</td>\n",
       "      <td>POLYGON ((-75.64999999999999 35.95, -75.55 35....</td>\n",
       "      <td>MULTIPOLYGON (((-75.726807 35.935844, -75.7182...</td>\n",
       "      <td>NaN</td>\n",
       "      <td>NaN</td>\n",
       "      <td>0</td>\n",
       "      <td>0</td>\n",
       "      <td>1</td>\n",
       "      <td>NaN</td>\n",
       "      <td>NaN</td>\n",
       "      <td>NaN</td>\n",
       "      <td>1.0</td>\n",
       "    </tr>\n",
       "    <tr>\n",
       "      <th>2</th>\n",
       "      <td>71373</td>\n",
       "      <td>22041</td>\n",
       "      <td>NaN</td>\n",
       "      <td>NaN</td>\n",
       "      <td>30.6</td>\n",
       "      <td>-96.3</td>\n",
       "      <td>2010</td>\n",
       "      <td>LA</td>\n",
       "      <td>POLYGON ((-91.77152 31.329504, -91.77094199999...</td>\n",
       "      <td>POLYGON ((-91.800598 32.223563999999996, -91.8...</td>\n",
       "      <td>POLYGON ((-96.35 30.55, -96.25 30.55, -96.25 3...</td>\n",
       "      <td>MULTIPOLYGON (((-88.8677 29.861551, -88.865659...</td>\n",
       "      <td>NaN</td>\n",
       "      <td>NaN</td>\n",
       "      <td>0</td>\n",
       "      <td>0</td>\n",
       "      <td>0</td>\n",
       "      <td>NaN</td>\n",
       "      <td>NaN</td>\n",
       "      <td>NaN</td>\n",
       "      <td>0.0</td>\n",
       "    </tr>\n",
       "    <tr>\n",
       "      <th>3</th>\n",
       "      <td>18827</td>\n",
       "      <td>42115</td>\n",
       "      <td>NaN</td>\n",
       "      <td>NaN</td>\n",
       "      <td>41.9</td>\n",
       "      <td>-75.6</td>\n",
       "      <td>2000</td>\n",
       "      <td>PA</td>\n",
       "      <td>POLYGON ((-75.58524 41.96456, -75.585473 41.96...</td>\n",
       "      <td>POLYGON ((-75.782461 41.642848, -75.782652 41....</td>\n",
       "      <td>POLYGON ((-75.64999999999999 41.85, -75.55 41....</td>\n",
       "      <td>POLYGON ((-80.519891 40.906661, -80.5196264947...</td>\n",
       "      <td>NaN</td>\n",
       "      <td>NaN</td>\n",
       "      <td>0</td>\n",
       "      <td>0</td>\n",
       "      <td>1</td>\n",
       "      <td>NaN</td>\n",
       "      <td>NaN</td>\n",
       "      <td>NaN</td>\n",
       "      <td>1.0</td>\n",
       "    </tr>\n",
       "    <tr>\n",
       "      <th>4</th>\n",
       "      <td>52767</td>\n",
       "      <td>19163</td>\n",
       "      <td>NaN</td>\n",
       "      <td>NaN</td>\n",
       "      <td>41.5</td>\n",
       "      <td>-90.5</td>\n",
       "      <td>2000</td>\n",
       "      <td>IA</td>\n",
       "      <td>MULTIPOLYGON (((-90.423531 41.559033, -90.4232...</td>\n",
       "      <td>POLYGON ((-90.899091 41.684182, -90.899067 41....</td>\n",
       "      <td>POLYGON ((-90.55 41.45, -90.45 41.45, -90.45 4...</td>\n",
       "      <td>POLYGON ((-96.6383589571896 42.735496024784, -...</td>\n",
       "      <td>NaN</td>\n",
       "      <td>NaN</td>\n",
       "      <td>0</td>\n",
       "      <td>0</td>\n",
       "      <td>1</td>\n",
       "      <td>NaN</td>\n",
       "      <td>NaN</td>\n",
       "      <td>NaN</td>\n",
       "      <td>1.0</td>\n",
       "    </tr>\n",
       "  </tbody>\n",
       "</table>\n",
       "</div>"
      ],
      "text/plain": [
       "  reportedZipCode countyCode  censusTract  censusBlockGroupFips  latitude  \\\n",
       "0           98852      53007          NaN                   NaN      48.2   \n",
       "1           27968      37055          NaN                   NaN      36.0   \n",
       "2           71373      22041          NaN                   NaN      30.6   \n",
       "3           18827      42115          NaN                   NaN      41.9   \n",
       "4           52767      19163          NaN                   NaN      41.5   \n",
       "\n",
       "   longitude  year state                                   geometry_zipcode  \\\n",
       "0     -120.6  2000    WA  POLYGON ((-120.94138 48.530144, -120.941046 48...   \n",
       "1      -75.6  2000    NC  MULTIPOLYGON (((-75.485614 35.649355, -75.4856...   \n",
       "2      -96.3  2010    LA  POLYGON ((-91.77152 31.329504, -91.77094199999...   \n",
       "3      -75.6  2000    PA  POLYGON ((-75.58524 41.96456, -75.585473 41.96...   \n",
       "4      -90.5  2000    IA  MULTIPOLYGON (((-90.423531 41.559033, -90.4232...   \n",
       "\n",
       "                                     geometry_county  \\\n",
       "0  POLYGON ((-120.907425 48.163184, -120.907399 4...   \n",
       "1  POLYGON ((-75.77358699999999 36.050824, -75.77...   \n",
       "2  POLYGON ((-91.800598 32.223563999999996, -91.8...   \n",
       "3  POLYGON ((-75.782461 41.642848, -75.782652 41....   \n",
       "4  POLYGON ((-90.899091 41.684182, -90.899067 41....   \n",
       "\n",
       "                                   geometry_lat_long  \\\n",
       "0  POLYGON ((-120.64999999999999 48.1500000000000...   \n",
       "1  POLYGON ((-75.64999999999999 35.95, -75.55 35....   \n",
       "2  POLYGON ((-96.35 30.55, -96.25 30.55, -96.25 3...   \n",
       "3  POLYGON ((-75.64999999999999 41.85, -75.55 41....   \n",
       "4  POLYGON ((-90.55 41.45, -90.45 41.45, -90.45 4...   \n",
       "\n",
       "                                      geometry_state cbgInconsistent  \\\n",
       "0  MULTIPOLYGON (((-122.33164 48.020556, -122.328...             NaN   \n",
       "1  MULTIPOLYGON (((-75.726807 35.935844, -75.7182...             NaN   \n",
       "2  MULTIPOLYGON (((-88.8677 29.861551, -88.865659...             NaN   \n",
       "3  POLYGON ((-80.519891 40.906661, -80.5196264947...             NaN   \n",
       "4  POLYGON ((-96.6383589571896 42.735496024784, -...             NaN   \n",
       "\n",
       "  tractInconsistent countyInconsistent stateInconsistent latlongInconsistent  \\\n",
       "0               NaN                  0                 0                   1   \n",
       "1               NaN                  0                 0                   1   \n",
       "2               NaN                  0                 0                   0   \n",
       "3               NaN                  0                 0                   1   \n",
       "4               NaN                  0                 0                   1   \n",
       "\n",
       "  multiple noOverlap oneWrong  zipInconsistent  \n",
       "0      NaN       NaN      NaN              1.0  \n",
       "1      NaN       NaN      NaN              1.0  \n",
       "2      NaN       NaN      NaN              0.0  \n",
       "3      NaN       NaN      NaN              1.0  \n",
       "4      NaN       NaN      NaN              1.0  "
      ]
     },
     "execution_count": 43,
     "metadata": {},
     "output_type": "execute_result"
    }
   ],
   "source": [
    "new_unit_df.head()"
   ]
  },
  {
   "cell_type": "code",
   "execution_count": 44,
   "id": "482c1070",
   "metadata": {
    "collapsed": true,
    "jupyter": {
     "outputs_hidden": true
    },
    "tags": []
   },
   "outputs": [
    {
     "data": {
      "text/plain": [
       "144.0"
      ]
     },
     "execution_count": 44,
     "metadata": {},
     "output_type": "execute_result"
    }
   ],
   "source": [
    "new_unit_df['zipInconsistent'].sum()"
   ]
  },
  {
   "cell_type": "code",
   "execution_count": 45,
   "id": "b09fb104",
   "metadata": {},
   "outputs": [
    {
     "name": "stdout",
     "output_type": "stream",
     "text": [
      "0\n"
     ]
    }
   ],
   "source": [
    "mask = (new_unit_df['latlongInconsistent'] +  new_unit_df['zipInconsistent']+ new_unit_df['stateInconsistent'] + new_unit_df['countyInconsistent'] + new_unit_df['tractInconsistent'] + new_unit_df['cbgInconsistent']) > 1\n",
    "new_unit_df.loc[mask, 'multiple'] = 1\n",
    "new_unit_df.loc[~mask, 'multiple'] = 0\n",
    "\n",
    "print(sum(new_unit_df['multiple']))"
   ]
  },
  {
   "cell_type": "code",
   "execution_count": 46,
   "id": "f153d7db",
   "metadata": {},
   "outputs": [
    {
     "name": "stdout",
     "output_type": "stream",
     "text": [
      "0\n"
     ]
    }
   ],
   "source": [
    "condition = (new_unit_df['latlongInconsistent'] + \n",
    "             new_unit_df['stateInconsistent'] + \n",
    "             new_unit_df['countyInconsistent'] + \n",
    "             new_unit_df['tractInconsistent'] + \n",
    "             new_unit_df['cbgInconsistent'] +\n",
    "             new_unit_df['zipInconsistent']) == 0\n",
    "\n",
    "new_unit_df['noOverlap'] = 0  # Default to 0\n",
    "new_unit_df.loc[condition, 'noOverlap'] = 1\n",
    "\n",
    "print(sum(new_unit_df['noOverlap']))"
   ]
  },
  {
   "cell_type": "code",
   "execution_count": 47,
   "id": "9844e60c",
   "metadata": {},
   "outputs": [
    {
     "name": "stdout",
     "output_type": "stream",
     "text": [
      "0\n"
     ]
    }
   ],
   "source": [
    "condition = (new_unit_df['latlongInconsistent'] + \n",
    "             new_unit_df['stateInconsistent'] + \n",
    "             new_unit_df['countyInconsistent'] + \n",
    "             new_unit_df['tractInconsistent'] + \n",
    "             new_unit_df['cbgInconsistent'] +\n",
    "             new_unit_df['zipInconsistent']) == 1\n",
    "\n",
    "new_unit_df['oneWrong'] = 0  # Default to 0\n",
    "new_unit_df.loc[condition, 'oneWrong'] = 1\n",
    "\n",
    "print(sum(new_unit_df['oneWrong']))\n"
   ]
  },
  {
   "cell_type": "code",
   "execution_count": 48,
   "id": "7280443c",
   "metadata": {},
   "outputs": [
    {
     "name": "stdout",
     "output_type": "stream",
     "text": [
      "lat_long_geometry: 0 'Wrong' values\n",
      "geometry_state: 0 'Wrong' values\n",
      "county_geometry: 0 'Wrong' values\n",
      "tract_geometry: 0 'Wrong' values\n",
      "bg_geometry: 0 'Wrong' values\n",
      "zip_geometry: 0 'Wrong' values\n"
     ]
    }
   ],
   "source": [
    "# Initialize the count dictionary for 'Wrong' values\n",
    "wrong_counts = {\n",
    "    'lat_long_geometry': 0,\n",
    "    'geometry_state': 0,\n",
    "    'county_geometry': 0,\n",
    "    'tract_geometry': 0,\n",
    "    'bg_geometry': 0,\n",
    "    'zip_geometry': 0  # added for zip codes\n",
    "}\n",
    "\n",
    "# Iterate through the DataFrame\n",
    "for idx_unit, row_unit in new_unit_df.iterrows():\n",
    "    if row_unit['oneWrong'] == 1:\n",
    "        if row_unit['latlongInconsistent'] == 1:\n",
    "            new_unit_df.at[idx_unit, 'lat_long_geometry'] = 'Wrong'\n",
    "            wrong_counts['lat_long_geometry'] += 1\n",
    "        if row_unit['stateInconsistent'] == 1:\n",
    "            new_unit_df.at[idx_unit, 'state_geometry'] = 'Wrong'\n",
    "            wrong_counts['state_geometry'] += 1\n",
    "        if row_unit['countyInconsistent'] == 1:\n",
    "            new_unit_df.at[idx_unit, 'county_geometry'] = 'Wrong'\n",
    "            wrong_counts['county_geometry'] += 1\n",
    "        if row_unit['tractInconsistent'] == 1:\n",
    "            new_unit_df.at[idx_unit, 'tract_geometry'] = 'Wrong'\n",
    "            wrong_counts['tract_geometry'] += 1\n",
    "        if row_unit['cbgInconsistent'] == 1:\n",
    "            new_unit_df.at[idx_unit, 'bg_geometry'] = 'Wrong'\n",
    "            wrong_counts['bg_geometry'] += 1\n",
    "        if row_unit['zipInconsistent'] == 1:  # added for zip codes\n",
    "            new_unit_df.at[idx_unit, 'zip_geometry'] = 'Wrong'\n",
    "            wrong_counts['zip_geometry'] += 1\n",
    "\n",
    "# Print the 'Wrong' counts\n",
    "for category, count in wrong_counts.items():\n",
    "    print(f\"{category}: {count} 'Wrong' values\")"
   ]
  },
  {
   "cell_type": "code",
   "execution_count": 49,
   "id": "8369e4c4",
   "metadata": {},
   "outputs": [],
   "source": [
    "new_unit_df['CBG_Zip_Mutually_Inconsistent'] = np.where(\n",
    "    (new_unit_df['latlongInconsistent'] == 0) & \n",
    "    (new_unit_df['cbgInconsistent'] == 1) & \n",
    "    (new_unit_df['zipInconsistent'] == 1), 1, 0)"
   ]
  },
  {
   "cell_type": "code",
   "execution_count": 50,
   "id": "971542be",
   "metadata": {},
   "outputs": [
    {
     "data": {
      "text/plain": [
       "0"
      ]
     },
     "execution_count": 50,
     "metadata": {},
     "output_type": "execute_result"
    }
   ],
   "source": [
    "sum(new_unit_df['CBG_Zip_Mutually_Inconsistent'] == 1)"
   ]
  },
  {
   "cell_type": "code",
   "execution_count": 51,
   "id": "2840d639",
   "metadata": {
    "tags": []
   },
   "outputs": [
    {
     "data": {
      "text/plain": [
       "0"
      ]
     },
     "execution_count": 51,
     "metadata": {},
     "output_type": "execute_result"
    }
   ],
   "source": [
    "len(new_unit_df[(new_unit_df['latlongInconsistent'] == 1) &(new_unit_df['cbgInconsistent'] == 1) & ((new_unit_df['latlongInconsistent'] + \n",
    "             new_unit_df['stateInconsistent'] + \n",
    "             new_unit_df['countyInconsistent'] + \n",
    "             new_unit_df['tractInconsistent'] + \n",
    "             new_unit_df['cbgInconsistent'] +\n",
    "             new_unit_df['zipInconsistent'])  == 2)])"
   ]
  },
  {
   "cell_type": "code",
   "execution_count": 52,
   "id": "ea14edaf",
   "metadata": {},
   "outputs": [],
   "source": [
    "columns_to_drop = [\n",
    "     'geometry_zipcode',\n",
    "    'geometry_county', 'geometry_state', 'geometry_lat_long'\n",
    "]\n",
    "\n",
    "# Drop the columns\n",
    "new_unit_df = new_unit_df.drop(columns= columns_to_drop)"
   ]
  },
  {
   "cell_type": "code",
   "execution_count": 53,
   "id": "7f526ad0",
   "metadata": {},
   "outputs": [],
   "source": [
    "# Convert 'zipInconsistent' column to integer type.\n",
    "new_unit_df['zipInconsistent'] = new_unit_df['zipInconsistent'].astype(int)\n",
    "\n",
    "# Save to CSV without index.\n",
    "new_unit_df.to_parquet(r'C:\\Users\\Asus\\Box\\Flood Damage PredictionProject\\Dataset\\InconsistencyDataframes\\inconsistency_dataframe_5.parquet.gzip', compression = 'gzip', index=False)"
   ]
  },
  {
   "cell_type": "code",
   "execution_count": 54,
   "id": "c7c32761",
   "metadata": {},
   "outputs": [
    {
     "data": {
      "text/plain": [
       "147"
      ]
     },
     "execution_count": 54,
     "metadata": {},
     "output_type": "execute_result"
    }
   ],
   "source": [
    "len(new_unit_df)"
   ]
  },
  {
   "cell_type": "code",
   "execution_count": 55,
   "id": "6c789994",
   "metadata": {},
   "outputs": [
    {
     "name": "stdout",
     "output_type": "stream",
     "text": [
      "    reportedZipCode countyCode  censusTract  censusBlockGroupFips  latitude  \\\n",
      "0             98852      53007          NaN                   NaN      48.2   \n",
      "4             52767      19163          NaN                   NaN      41.5   \n",
      "5             98852      53007          NaN                   NaN      48.2   \n",
      "10            25152      54039          NaN                   NaN      38.2   \n",
      "11            25152      54039          NaN                   NaN      38.2   \n",
      "..              ...        ...          ...                   ...       ...   \n",
      "134           18473      42127          NaN                   NaN      41.6   \n",
      "141           52767      19163          NaN                   NaN      41.5   \n",
      "142           52767      19163          NaN                   NaN      41.5   \n",
      "143           38644      28027          NaN                   NaN      34.5   \n",
      "144           38644      28027          NaN                   NaN      34.5   \n",
      "\n",
      "     longitude  year state cbgInconsistent tractInconsistent  \\\n",
      "0       -120.6  2000    WA             NaN               NaN   \n",
      "4        -90.5  2000    IA             NaN               NaN   \n",
      "5       -120.6  2000    WA             NaN               NaN   \n",
      "10       -81.3  2000    WV             NaN               NaN   \n",
      "11       -81.3  2000    WV             NaN               NaN   \n",
      "..         ...   ...   ...             ...               ...   \n",
      "134      -75.3  2000    PA             NaN               NaN   \n",
      "141      -90.5  2010    IA             NaN               NaN   \n",
      "142      -90.5  2010    IA             NaN               NaN   \n",
      "143      -90.6  2010    MS             NaN               NaN   \n",
      "144      -90.6  2010    MS             NaN               NaN   \n",
      "\n",
      "    countyInconsistent stateInconsistent latlongInconsistent multiple  \\\n",
      "0                    0                 0                   1        0   \n",
      "4                    0                 0                   1        0   \n",
      "5                    0                 0                   1        0   \n",
      "10                   0                 0                   0        0   \n",
      "11                   0                 0                   0        0   \n",
      "..                 ...               ...                 ...      ...   \n",
      "134                  0                 0                   1        0   \n",
      "141                  0                 0                   1        0   \n",
      "142                  0                 0                   1        0   \n",
      "143                  0                 0                   1        0   \n",
      "144                  0                 0                   1        0   \n",
      "\n",
      "     noOverlap  oneWrong  zipInconsistent  CBG_Zip_Mutually_Inconsistent  \n",
      "0            0         0                1                              0  \n",
      "4            0         0                1                              0  \n",
      "5            0         0                1                              0  \n",
      "10           0         0                1                              0  \n",
      "11           0         0                1                              0  \n",
      "..         ...       ...              ...                            ...  \n",
      "134          0         0                1                              0  \n",
      "141          0         0                1                              0  \n",
      "142          0         0                1                              0  \n",
      "143          0         0                1                              0  \n",
      "144          0         0                1                              0  \n",
      "\n",
      "[64 rows x 18 columns]\n"
     ]
    }
   ],
   "source": [
    "# Check for duplicates\n",
    "duplicates = new_unit_df[new_unit_df.duplicated(keep=False)]\n",
    "\n",
    "print(duplicates)"
   ]
  },
  {
   "cell_type": "code",
   "execution_count": 56,
   "id": "1b239704",
   "metadata": {},
   "outputs": [],
   "source": [
    "# Convert 'zipInconsistent' column to integer type.\n",
    "new_unit_df['zipInconsistent'] = new_unit_df['zipInconsistent'].astype(int)\n",
    "\n",
    "# Save to CSV without index.\n",
    "new_unit_df.to_parquet(r'C:\\Users\\Asus\\Box\\Flood Damage PredictionProject\\Dataset\\InconsistencyDataframes\\inconsistency_dataframe_5.parquet.gzip', compression = 'gzip',  index=False)"
   ]
  },
  {
   "cell_type": "code",
   "execution_count": null,
   "id": "7cf7d583",
   "metadata": {},
   "outputs": [],
   "source": []
  },
  {
   "cell_type": "code",
   "execution_count": null,
   "id": "c9df0f1e",
   "metadata": {},
   "outputs": [],
   "source": []
  },
  {
   "cell_type": "code",
   "execution_count": null,
   "id": "7696f037",
   "metadata": {},
   "outputs": [],
   "source": []
  },
  {
   "cell_type": "code",
   "execution_count": null,
   "id": "cdd938b4",
   "metadata": {},
   "outputs": [],
   "source": []
  },
  {
   "cell_type": "code",
   "execution_count": null,
   "id": "24981ad7",
   "metadata": {},
   "outputs": [],
   "source": []
  },
  {
   "cell_type": "code",
   "execution_count": null,
   "id": "6f0ace7b",
   "metadata": {},
   "outputs": [],
   "source": []
  },
  {
   "cell_type": "code",
   "execution_count": null,
   "id": "5aa2090c",
   "metadata": {},
   "outputs": [],
   "source": []
  }
 ],
 "metadata": {
  "kernelspec": {
   "display_name": "Python 3 (ipykernel)",
   "language": "python",
   "name": "python3"
  },
  "language_info": {
   "codemirror_mode": {
    "name": "ipython",
    "version": 3
   },
   "file_extension": ".py",
   "mimetype": "text/x-python",
   "name": "python",
   "nbconvert_exporter": "python",
   "pygments_lexer": "ipython3",
   "version": "3.8.17"
  }
 },
 "nbformat": 4,
 "nbformat_minor": 5
}
