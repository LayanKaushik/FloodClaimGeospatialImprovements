{
 "cells": [
  {
   "cell_type": "code",
   "execution_count": 1,
   "id": "cf4f6b99-fc75-481a-9d8b-3abc9bcfdadb",
   "metadata": {},
   "outputs": [],
   "source": [
    "import pandas as pd\n",
    "import numpy as np\n",
    "import pyarrow as pa\n",
    "import pyarrow.parquet as pq\n",
    "import geopandas as gpd\n",
    "from scipy import stats\n",
    "pd.set_option('display.max_columns', None)\n",
    "from scipy.stats import skew, kurtosis\n",
    "import pygris\n",
    "from shapely.geometry import Polygon\n",
    "import shapely\n",
    "from inconsistency_utils import *"
   ]
  },
  {
   "cell_type": "code",
   "execution_count": 2,
   "id": "9b7b00c9-7c89-46cf-bd7a-35741ca7c746",
   "metadata": {},
   "outputs": [],
   "source": [
    "#Read the original dataset\n",
    "\n",
    "df = pd.read_parquet(\"C:/Users/Asus/Box/Flood Damage PredictionProject/Dataset/FimaNfipClaims.parquet.gzip\")"
   ]
  },
  {
   "cell_type": "markdown",
   "id": "0fb9c85e-a658-4c04-8b30-88a00a892a79",
   "metadata": {},
   "source": [
    "## Second Dataset [Donot use Zip Code]\n",
    "## Zipcode NA or geometry unavailable"
   ]
  },
  {
   "cell_type": "code",
   "execution_count": 3,
   "id": "427a0ce8-98bc-4ebd-af71-6a1095d002d4",
   "metadata": {},
   "outputs": [],
   "source": [
    "df_geographic_unique = df[['state', 'reportedZipCode', 'countyCode', 'censusTract', 'censusBlockGroupFips', 'latitude', 'longitude', 'yearOfLoss']].drop_duplicates()"
   ]
  },
  {
   "cell_type": "code",
   "execution_count": 4,
   "id": "abe32405-33c4-4ebe-bd2d-ba2b945a1559",
   "metadata": {},
   "outputs": [],
   "source": [
    "# Defining conditions\n",
    "condition1 = (df_geographic_unique['latitude'].notna() & \n",
    "              df_geographic_unique['censusBlockGroupFips'].notna() & \n",
    "              df_geographic_unique['countyCode'].notna() & \n",
    "              df_geographic_unique['reportedZipCode'].isna())\n",
    "\n",
    "condition2 = (df_geographic_unique['latitude'].notna() & \n",
    "              df_geographic_unique['censusBlockGroupFips'].notna() & \n",
    "              df_geographic_unique['countyCode'].notna() & \n",
    "              df_geographic_unique['reportedZipCode'].notna() &\n",
    "              (df_geographic_unique['yearOfLoss'] < 1980))\n",
    "\n",
    "# Filtering the dataframe based on the combined conditions\n",
    "df_geographic_unique = df_geographic_unique[condition1 | condition2]"
   ]
  },
  {
   "cell_type": "code",
   "execution_count": 5,
   "id": "ee00effa-8b12-4f9f-9860-53feafd6ca03",
   "metadata": {},
   "outputs": [
    {
     "data": {
      "text/html": [
       "<div>\n",
       "<style scoped>\n",
       "    .dataframe tbody tr th:only-of-type {\n",
       "        vertical-align: middle;\n",
       "    }\n",
       "\n",
       "    .dataframe tbody tr th {\n",
       "        vertical-align: top;\n",
       "    }\n",
       "\n",
       "    .dataframe thead th {\n",
       "        text-align: right;\n",
       "    }\n",
       "</style>\n",
       "<table border=\"1\" class=\"dataframe\">\n",
       "  <thead>\n",
       "    <tr style=\"text-align: right;\">\n",
       "      <th></th>\n",
       "      <th>state</th>\n",
       "      <th>reportedZipCode</th>\n",
       "      <th>countyCode</th>\n",
       "      <th>censusTract</th>\n",
       "      <th>censusBlockGroupFips</th>\n",
       "      <th>latitude</th>\n",
       "      <th>longitude</th>\n",
       "      <th>yearOfLoss</th>\n",
       "    </tr>\n",
       "  </thead>\n",
       "  <tbody>\n",
       "    <tr>\n",
       "      <th>31347</th>\n",
       "      <td>FL</td>\n",
       "      <td>NaN</td>\n",
       "      <td>12031.0</td>\n",
       "      <td>1.203101e+10</td>\n",
       "      <td>1.203101e+11</td>\n",
       "      <td>30.3</td>\n",
       "      <td>-81.4</td>\n",
       "      <td>1989</td>\n",
       "    </tr>\n",
       "    <tr>\n",
       "      <th>35694</th>\n",
       "      <td>TX</td>\n",
       "      <td>NaN</td>\n",
       "      <td>48167.0</td>\n",
       "      <td>4.816772e+10</td>\n",
       "      <td>4.816772e+11</td>\n",
       "      <td>29.5</td>\n",
       "      <td>-95.0</td>\n",
       "      <td>1989</td>\n",
       "    </tr>\n",
       "    <tr>\n",
       "      <th>35867</th>\n",
       "      <td>LA</td>\n",
       "      <td>NaN</td>\n",
       "      <td>22071.0</td>\n",
       "      <td>2.207101e+10</td>\n",
       "      <td>2.207101e+11</td>\n",
       "      <td>30.0</td>\n",
       "      <td>-90.1</td>\n",
       "      <td>2005</td>\n",
       "    </tr>\n",
       "    <tr>\n",
       "      <th>36539</th>\n",
       "      <td>FL</td>\n",
       "      <td>NaN</td>\n",
       "      <td>12031.0</td>\n",
       "      <td>1.203101e+10</td>\n",
       "      <td>1.203101e+11</td>\n",
       "      <td>30.3</td>\n",
       "      <td>-81.4</td>\n",
       "      <td>1993</td>\n",
       "    </tr>\n",
       "    <tr>\n",
       "      <th>36540</th>\n",
       "      <td>FL</td>\n",
       "      <td>NaN</td>\n",
       "      <td>12031.0</td>\n",
       "      <td>1.203101e+10</td>\n",
       "      <td>1.203101e+11</td>\n",
       "      <td>30.3</td>\n",
       "      <td>-81.4</td>\n",
       "      <td>1998</td>\n",
       "    </tr>\n",
       "  </tbody>\n",
       "</table>\n",
       "</div>"
      ],
      "text/plain": [
       "      state  reportedZipCode  countyCode   censusTract  censusBlockGroupFips  \\\n",
       "31347    FL              NaN     12031.0  1.203101e+10          1.203101e+11   \n",
       "35694    TX              NaN     48167.0  4.816772e+10          4.816772e+11   \n",
       "35867    LA              NaN     22071.0  2.207101e+10          2.207101e+11   \n",
       "36539    FL              NaN     12031.0  1.203101e+10          1.203101e+11   \n",
       "36540    FL              NaN     12031.0  1.203101e+10          1.203101e+11   \n",
       "\n",
       "       latitude  longitude  yearOfLoss  \n",
       "31347      30.3      -81.4        1989  \n",
       "35694      29.5      -95.0        1989  \n",
       "35867      30.0      -90.1        2005  \n",
       "36539      30.3      -81.4        1993  \n",
       "36540      30.3      -81.4        1998  "
      ]
     },
     "execution_count": 5,
     "metadata": {},
     "output_type": "execute_result"
    }
   ],
   "source": [
    "df_geographic_unique.head()"
   ]
  },
  {
   "cell_type": "code",
   "execution_count": 6,
   "id": "049d33a5-d6aa-4321-b9a3-57a9e027dab5",
   "metadata": {},
   "outputs": [
    {
     "name": "stdout",
     "output_type": "stream",
     "text": [
      "0\n",
      "9356\n",
      "0\n",
      "0\n",
      "0\n",
      "0\n",
      "0\n"
     ]
    }
   ],
   "source": [
    "print(sum(df_geographic_unique['state'].isna()))\n",
    "print(sum(df_geographic_unique['reportedZipCode'].isna()))\n",
    "print(sum(df_geographic_unique['countyCode'].isna()))\n",
    "print(sum(df_geographic_unique['censusTract'].isna()))\n",
    "print(sum(df_geographic_unique['censusBlockGroupFips'].isna()))\n",
    "print(sum(df_geographic_unique['latitude'].isna()))\n",
    "print(sum(df_geographic_unique['yearOfLoss'].isna()))"
   ]
  },
  {
   "cell_type": "code",
   "execution_count": 7,
   "id": "594f412b-43a6-4f10-a5b3-69e2a4a4310e",
   "metadata": {},
   "outputs": [],
   "source": [
    "#convert units to string type to easily map\n",
    "\n",
    "columns_to_format = {\n",
    "    'censusBlockGroupFips': 12,\n",
    "    'countyCode': 5,\n",
    "    'censusTract': 11\n",
    "}\n",
    "\n",
    "df_geographic_unique = format_geographic_units(df_geographic_unique, columns_to_format)"
   ]
  },
  {
   "cell_type": "code",
   "execution_count": 8,
   "id": "2ca3d4c0-1d0d-4d93-a0f0-52f1079d8b9e",
   "metadata": {},
   "outputs": [],
   "source": [
    "# Creating year bins to map (NEED TO UPDATE IT ONCE WE HAVE 2023 ZIPCODE SHAPEFILE DATA AND THE LATEST ORIGINAL FEMA DATASET) \n",
    "\n",
    "bins_1980_2021 = [df['yearOfLoss'].min(), 1980, 1990, 2000, 2010, 2020, df['yearOfLoss'].max() + 1]\n",
    "labels_1980_2021 = [0, 1980, 1990, 2000, 2010, 2020]\n",
    "\n",
    "custom_bins = [0, 2000] + list(range(2010, 2023)) + [2024]\n",
    "custom_labels = [0, 2000] + list(range(2010, 2023))\n",
    "\n",
    "df_geographic_unique = process_year_of_loss(df_geographic_unique, bins_1980_2021, labels_1980_2021, custom_bins, custom_labels)"
   ]
  },
  {
   "cell_type": "code",
   "execution_count": 9,
   "id": "c879d966-e785-4bd9-bbc2-bd200b27e80c",
   "metadata": {},
   "outputs": [
    {
     "data": {
      "text/html": [
       "<div>\n",
       "<style scoped>\n",
       "    .dataframe tbody tr th:only-of-type {\n",
       "        vertical-align: middle;\n",
       "    }\n",
       "\n",
       "    .dataframe tbody tr th {\n",
       "        vertical-align: top;\n",
       "    }\n",
       "\n",
       "    .dataframe thead th {\n",
       "        text-align: right;\n",
       "    }\n",
       "</style>\n",
       "<table border=\"1\" class=\"dataframe\">\n",
       "  <thead>\n",
       "    <tr style=\"text-align: right;\">\n",
       "      <th></th>\n",
       "      <th>state</th>\n",
       "      <th>reportedZipCode</th>\n",
       "      <th>countyCode</th>\n",
       "      <th>censusTract</th>\n",
       "      <th>censusBlockGroupFips</th>\n",
       "      <th>latitude</th>\n",
       "      <th>longitude</th>\n",
       "      <th>yearOfLoss</th>\n",
       "      <th>yearOfLoss_1980_2021</th>\n",
       "      <th>zip_year_bin</th>\n",
       "    </tr>\n",
       "  </thead>\n",
       "  <tbody>\n",
       "    <tr>\n",
       "      <th>31347</th>\n",
       "      <td>FL</td>\n",
       "      <td>NaN</td>\n",
       "      <td>12031</td>\n",
       "      <td>12031014001</td>\n",
       "      <td>120310140011</td>\n",
       "      <td>30.3</td>\n",
       "      <td>-81.4</td>\n",
       "      <td>1989</td>\n",
       "      <td>1980</td>\n",
       "      <td>0</td>\n",
       "    </tr>\n",
       "    <tr>\n",
       "      <th>35694</th>\n",
       "      <td>TX</td>\n",
       "      <td>NaN</td>\n",
       "      <td>48167</td>\n",
       "      <td>48167721400</td>\n",
       "      <td>481677214003</td>\n",
       "      <td>29.5</td>\n",
       "      <td>-95.0</td>\n",
       "      <td>1989</td>\n",
       "      <td>1980</td>\n",
       "      <td>0</td>\n",
       "    </tr>\n",
       "    <tr>\n",
       "      <th>35867</th>\n",
       "      <td>LA</td>\n",
       "      <td>NaN</td>\n",
       "      <td>22071</td>\n",
       "      <td>22071005500</td>\n",
       "      <td>220710055001</td>\n",
       "      <td>30.0</td>\n",
       "      <td>-90.1</td>\n",
       "      <td>2005</td>\n",
       "      <td>2000</td>\n",
       "      <td>2000</td>\n",
       "    </tr>\n",
       "    <tr>\n",
       "      <th>36539</th>\n",
       "      <td>FL</td>\n",
       "      <td>NaN</td>\n",
       "      <td>12031</td>\n",
       "      <td>12031014001</td>\n",
       "      <td>120310140012</td>\n",
       "      <td>30.3</td>\n",
       "      <td>-81.4</td>\n",
       "      <td>1993</td>\n",
       "      <td>1990</td>\n",
       "      <td>0</td>\n",
       "    </tr>\n",
       "    <tr>\n",
       "      <th>36540</th>\n",
       "      <td>FL</td>\n",
       "      <td>NaN</td>\n",
       "      <td>12031</td>\n",
       "      <td>12031014001</td>\n",
       "      <td>120310140012</td>\n",
       "      <td>30.3</td>\n",
       "      <td>-81.4</td>\n",
       "      <td>1998</td>\n",
       "      <td>1990</td>\n",
       "      <td>0</td>\n",
       "    </tr>\n",
       "  </tbody>\n",
       "</table>\n",
       "</div>"
      ],
      "text/plain": [
       "      state  reportedZipCode countyCode  censusTract censusBlockGroupFips  \\\n",
       "31347    FL              NaN      12031  12031014001         120310140011   \n",
       "35694    TX              NaN      48167  48167721400         481677214003   \n",
       "35867    LA              NaN      22071  22071005500         220710055001   \n",
       "36539    FL              NaN      12031  12031014001         120310140012   \n",
       "36540    FL              NaN      12031  12031014001         120310140012   \n",
       "\n",
       "       latitude  longitude  yearOfLoss  yearOfLoss_1980_2021  zip_year_bin  \n",
       "31347      30.3      -81.4        1989                  1980             0  \n",
       "35694      29.5      -95.0        1989                  1980             0  \n",
       "35867      30.0      -90.1        2005                  2000          2000  \n",
       "36539      30.3      -81.4        1993                  1990             0  \n",
       "36540      30.3      -81.4        1998                  1990             0  "
      ]
     },
     "execution_count": 9,
     "metadata": {},
     "output_type": "execute_result"
    }
   ],
   "source": [
    "df_geographic_unique.head()"
   ]
  },
  {
   "cell_type": "markdown",
   "id": "399e99f2-ec3b-4a16-bcc8-d6d528e8f24c",
   "metadata": {},
   "source": [
    "## Read shapefiles"
   ]
  },
  {
   "cell_type": "code",
   "execution_count": 10,
   "id": "ccd85583-3081-4c50-93bc-597217e0a4b1",
   "metadata": {},
   "outputs": [
    {
     "name": "stdout",
     "output_type": "stream",
     "text": [
      "Using the default year of 2021\n"
     ]
    },
    {
     "name": "stderr",
     "output_type": "stream",
     "text": [
      "C:\\Users\\Asus\\Box\\Home Folder lk220\\Private\\Duke\\Duke Courses\\Research\\FloodDamagePrediction\\Code\\inconsistency_utils.py:78: SettingWithCopyWarning: \n",
      "A value is trying to be set on a copy of a slice from a DataFrame\n",
      "\n",
      "See the caveats in the documentation: https://pandas.pydata.org/pandas-docs/stable/user_guide/indexing.html#returning-a-view-versus-a-copy\n",
      "  state_df.rename(columns={'geometry': 'geometry_state'}, inplace=True)\n"
     ]
    }
   ],
   "source": [
    "units = ['state', 'lat_long', 'BG', 'County', 'Tract']\n",
    "base_path = \"C:/Users/Asus/Box/Flood Damage PredictionProject/Dataset/\"\n",
    "df_shapefiles = load_and_rename_geographic_data_whole(units, base_path)\n",
    "\n",
    "state_df = df_shapefiles['state']\n",
    "lat_long_df = df_shapefiles['lat_long']\n",
    "BG_df = df_shapefiles['BG']\n",
    "County_df = df_shapefiles['County']\n",
    "Tract_df = df_shapefiles['Tract']"
   ]
  },
  {
   "cell_type": "markdown",
   "id": "fd33d3a5-97ad-4b0a-b1f4-b5924fac364f",
   "metadata": {},
   "source": [
    "## Geometry Intersection creation"
   ]
  },
  {
   "cell_type": "code",
   "execution_count": 11,
   "id": "b3c169d7-341d-4860-bd38-c06948c7c068",
   "metadata": {},
   "outputs": [],
   "source": [
    "# Setting the multi-index on lat_long_df\n",
    "lat_long_df.set_index(['latitude', 'longitude'], inplace=True)\n",
    "\n",
    "# Mapping the values\n",
    "df_geographic_unique['geometry_lat_long'] = df_geographic_unique.set_index(['latitude', 'longitude']).index.map(lat_long_df['geometry_lat_long'])\n",
    "\n",
    "# Resetting the index of lat_long_df (return to multi-index)\n",
    "lat_long_df.reset_index(inplace=True)"
   ]
  },
  {
   "cell_type": "code",
   "execution_count": 12,
   "id": "76f4ea6b-2799-4738-93b2-59fe73babc4e",
   "metadata": {},
   "outputs": [],
   "source": [
    "# Initial mapping with multi-index\n",
    "BG_df.set_index(['GEOID'], inplace=True)\n",
    "df_geographic_unique['geometry_BG'] = df_geographic_unique.set_index(['censusBlockGroupFips']).index.map(BG_df['geometry_BG'])\n",
    "\n",
    "BG_df.reset_index(inplace=True)"
   ]
  },
  {
   "cell_type": "code",
   "execution_count": 13,
   "id": "3aa82097-9154-43c9-b56b-5edbf1787965",
   "metadata": {},
   "outputs": [],
   "source": [
    "# Setting the multi-index on state_df\n",
    "state_df.set_index(['STUSPS'], inplace=True)\n",
    "\n",
    "# Mapping the values\n",
    "df_geographic_unique['geometry_state'] = df_geographic_unique.set_index(['state']).index.map(state_df['geometry_state'])\n",
    "\n",
    "state_df.reset_index(inplace=True)"
   ]
  },
  {
   "cell_type": "code",
   "execution_count": 14,
   "id": "b5f1a28e-d239-41bd-b53e-9d7fd5e37502",
   "metadata": {},
   "outputs": [],
   "source": [
    "# Initial mapping with multi-index\n",
    "County_df.set_index(['CountyID'], inplace=True)\n",
    "df_geographic_unique['geometry_county'] = df_geographic_unique.set_index(['countyCode']).index.map(County_df['geometry_county'])\n",
    "\n",
    "# Resetting the index of County_df (return to multi-index)\n",
    "County_df.reset_index(inplace=True)"
   ]
  },
  {
   "cell_type": "code",
   "execution_count": 15,
   "id": "18151df3-a801-46c0-aebe-5333fcaa4592",
   "metadata": {},
   "outputs": [],
   "source": [
    "# Initial mapping with multi-index\n",
    "Tract_df.set_index(['censusTractID'], inplace=True)\n",
    "df_geographic_unique['geometry_tract'] = df_geographic_unique.set_index(['censusTract']).index.map(Tract_df['geometry_tract'])\n",
    "\n",
    "# Resetting the index of Tract_df (return to multi-index)\n",
    "Tract_df.reset_index(inplace=True)"
   ]
  },
  {
   "cell_type": "markdown",
   "id": "1d58fab8-f41b-4f44-8901-222a4b1dbd47",
   "metadata": {},
   "source": [
    "#### Drop rows with missing shapefiles"
   ]
  },
  {
   "cell_type": "code",
   "execution_count": 16,
   "id": "73c5249a-b6e1-42a4-929c-0e1e93f76bb3",
   "metadata": {},
   "outputs": [],
   "source": [
    "df_geographic_unique = df_geographic_unique[(df_geographic_unique['geometry_BG'].notna())\n",
    "                              & (df_geographic_unique['geometry_county'].notna())\n",
    "                              & (df_geographic_unique['geometry_tract'].notna())]"
   ]
  },
  {
   "cell_type": "markdown",
   "id": "70c9e751-9c0a-470a-b165-cfa942b892a2",
   "metadata": {},
   "source": [
    "#### Creating the intersections"
   ]
  },
  {
   "cell_type": "code",
   "execution_count": 17,
   "id": "0b72b6e5-36af-4d87-aad3-7d42da6730bb",
   "metadata": {},
   "outputs": [
    {
     "name": "stderr",
     "output_type": "stream",
     "text": [
      "C:\\Users\\Asus\\anaconda3\\lib\\site-packages\\shapely\\set_operations.py:133: RuntimeWarning: invalid value encountered in intersection\n",
      "  return lib.intersection(a, b, **kwargs)\n",
      "C:\\Users\\Asus\\anaconda3\\lib\\site-packages\\shapely\\set_operations.py:133: RuntimeWarning: invalid value encountered in intersection\n",
      "  return lib.intersection(a, b, **kwargs)\n",
      "C:\\Users\\Asus\\anaconda3\\lib\\site-packages\\shapely\\set_operations.py:133: RuntimeWarning: invalid value encountered in intersection\n",
      "  return lib.intersection(a, b, **kwargs)\n",
      "C:\\Users\\Asus\\anaconda3\\lib\\site-packages\\shapely\\set_operations.py:133: RuntimeWarning: invalid value encountered in intersection\n",
      "  return lib.intersection(a, b, **kwargs)\n",
      "C:\\Users\\Asus\\anaconda3\\lib\\site-packages\\shapely\\set_operations.py:133: RuntimeWarning: invalid value encountered in intersection\n",
      "  return lib.intersection(a, b, **kwargs)\n",
      "C:\\Users\\Asus\\anaconda3\\lib\\site-packages\\shapely\\set_operations.py:133: RuntimeWarning: invalid value encountered in intersection\n",
      "  return lib.intersection(a, b, **kwargs)\n"
     ]
    }
   ],
   "source": [
    "# Create an empty GeoDataFrame to store the intersection results\n",
    "new_unit_df = gpd.GeoDataFrame(columns=['reportedZipCode', 'countyCode', 'censusTract',\n",
    "                                       'censusBlockGroupFips', 'latitude', 'longitude', 'year', 'state',\n",
    "                                       'geometry_county', 'geometry_tract','geometry_BG','geometry_lat_long','geometry_state',\n",
    "                                         'cbgInconsistent', 'tractInconsistent', 'countyInconsistent', 'stateInconsistent', 'latlongInconsistent', 'multiple', 'noOverlap', 'oneWrong'])\n",
    "\n",
    "for idx_unit, row_unit in df_geographic_unique.iterrows():\n",
    "    year = row_unit['yearOfLoss_1980_2021']\n",
    "    bg_id = row_unit['censusBlockGroupFips']\n",
    "    bg_geometry = row_unit['geometry_BG']\n",
    "    tract_id = row_unit['censusTract']\n",
    "    tract_geometry = row_unit['geometry_tract']\n",
    "    county_id = row_unit['countyCode']\n",
    "    county_geometry = row_unit['geometry_county']\n",
    "    state = row_unit['state']\n",
    "    state_geometry = row_unit['geometry_state']\n",
    "    lat_long_geometry = row_unit['geometry_lat_long']\n",
    "    lat = row_unit['latitude']\n",
    "    long = row_unit['longitude']\n",
    "    zipcode = row_unit['reportedZipCode']\n",
    "    \n",
    "    # Compute intersection geometry\n",
    "    intersection_geometry = bg_geometry.intersection(lat_long_geometry).intersection(county_geometry).intersection(state_geometry).intersection(tract_geometry)\n",
    "\n",
    "    if intersection_geometry is None or intersection_geometry.is_empty:\n",
    "        new_unit_df = pd.concat([new_unit_df, pd.DataFrame({\n",
    "            'reportedZipCode': [zipcode],\n",
    "            'countyCode': [county_id],\n",
    "            'censusTract': [tract_id],\n",
    "            'censusBlockGroupFips': [bg_id],\n",
    "            'latitude': [lat],\n",
    "            'longitude': [long],\n",
    "            'year': [year],\n",
    "            'state': [state],\n",
    "            'geometry_county': [county_geometry],\n",
    "            'geometry_tract': [tract_geometry],\n",
    "            'geometry_BG': [bg_geometry],\n",
    "            'geometry_lat_long': [lat_long_geometry],\n",
    "            'geometry_state': [state_geometry]\n",
    "        })], ignore_index=True)"
   ]
  },
  {
   "cell_type": "code",
   "execution_count": 18,
   "id": "717f4689-9724-4f4f-b915-4628256958d7",
   "metadata": {},
   "outputs": [
    {
     "data": {
      "text/plain": [
       "7"
      ]
     },
     "execution_count": 18,
     "metadata": {},
     "output_type": "execute_result"
    }
   ],
   "source": [
    "len(new_unit_df)"
   ]
  },
  {
   "cell_type": "code",
   "execution_count": 19,
   "id": "c828def5-907b-4740-be47-032d7799ff42",
   "metadata": {},
   "outputs": [
    {
     "name": "stderr",
     "output_type": "stream",
     "text": [
      "C:\\Users\\Asus\\anaconda3\\lib\\site-packages\\shapely\\set_operations.py:133: RuntimeWarning: invalid value encountered in intersection\n",
      "  return lib.intersection(a, b, **kwargs)\n"
     ]
    }
   ],
   "source": [
    "for idx_unit, row_unit in new_unit_df.iterrows():\n",
    "    year = row_unit['year']\n",
    "    bg_id = row_unit['censusBlockGroupFips']\n",
    "    bg_geometry = row_unit['geometry_BG']\n",
    "    tract_id = row_unit['censusTract']\n",
    "    tract_geometry = row_unit['geometry_tract']\n",
    "    county_id = row_unit['countyCode']\n",
    "    county_geometry = row_unit['geometry_county']\n",
    "    state = row_unit['state']\n",
    "    state_geometry = row_unit['geometry_state']\n",
    "    lat_long_geometry = row_unit['geometry_lat_long']\n",
    "    lat = row_unit['latitude']\n",
    "    long = row_unit['longitude']\n",
    "    zipcode = row_unit['reportedZipCode']\n",
    "    \n",
    "\n",
    "    intersection_geometry = lat_long_geometry.intersection(county_geometry).intersection(state_geometry).intersection(tract_geometry)\n",
    "\n",
    "    if intersection_geometry is None or intersection_geometry.is_empty:\n",
    "        new_unit_df.at[idx_unit, 'cbgInconsistent'] = 0\n",
    "    else:\n",
    "        new_unit_df.at[idx_unit, 'cbgInconsistent'] = 1"
   ]
  },
  {
   "cell_type": "code",
   "execution_count": 20,
   "id": "0f00c29b-c171-48db-ba06-536e24d11842",
   "metadata": {},
   "outputs": [
    {
     "data": {
      "text/plain": [
       "2"
      ]
     },
     "execution_count": 20,
     "metadata": {},
     "output_type": "execute_result"
    }
   ],
   "source": [
    "new_unit_df['cbgInconsistent'].sum()"
   ]
  },
  {
   "cell_type": "code",
   "execution_count": 21,
   "id": "f0cd6f41-2564-4060-81b4-c132004331ba",
   "metadata": {},
   "outputs": [],
   "source": [
    "for idx_unit, row_unit in new_unit_df.iterrows():\n",
    "    year = row_unit['year']\n",
    "    bg_id = row_unit['censusBlockGroupFips']\n",
    "    bg_geometry = row_unit['geometry_BG']\n",
    "    tract_id = row_unit['censusTract']\n",
    "    tract_geometry = row_unit['geometry_tract']\n",
    "    county_id = row_unit['countyCode']\n",
    "    county_geometry = row_unit['geometry_county']\n",
    "    state = row_unit['state']\n",
    "    state_geometry = row_unit['geometry_state']\n",
    "    lat_long_geometry = row_unit['geometry_lat_long']\n",
    "    lat = row_unit['latitude']\n",
    "    long = row_unit['longitude']\n",
    "    zipcode = row_unit['reportedZipCode']\n",
    "    \n",
    "    intersection_geometry = bg_geometry.intersection(county_geometry).intersection(state_geometry).intersection(lat_long_geometry)\n",
    "\n",
    "    if intersection_geometry is None or intersection_geometry.is_empty:\n",
    "        new_unit_df.at[idx_unit,'tractInconsistent'] = 0\n",
    "    else:\n",
    "        new_unit_df.at[idx_unit,'tractInconsistent'] = 1"
   ]
  },
  {
   "cell_type": "code",
   "execution_count": 22,
   "id": "8373c76e-ee90-49c2-a08a-16f5f1d0425a",
   "metadata": {},
   "outputs": [
    {
     "data": {
      "text/plain": [
       "0"
      ]
     },
     "execution_count": 22,
     "metadata": {},
     "output_type": "execute_result"
    }
   ],
   "source": [
    "new_unit_df['tractInconsistent'].sum()"
   ]
  },
  {
   "cell_type": "code",
   "execution_count": 23,
   "id": "49d9b40f-edb4-468d-9056-3043586aae3b",
   "metadata": {},
   "outputs": [],
   "source": [
    "for idx_unit, row_unit in new_unit_df.iterrows():\n",
    "    year = row_unit['year']\n",
    "    bg_id = row_unit['censusBlockGroupFips']\n",
    "    bg_geometry = row_unit['geometry_BG']\n",
    "    tract_id = row_unit['censusTract']\n",
    "    tract_geometry = row_unit['geometry_tract']\n",
    "    county_id = row_unit['countyCode']\n",
    "    county_geometry = row_unit['geometry_county']\n",
    "    state = row_unit['state']\n",
    "    state_geometry = row_unit['geometry_state']\n",
    "    lat_long_geometry = row_unit['geometry_lat_long']\n",
    "    lat = row_unit['latitude']\n",
    "    long = row_unit['longitude']\n",
    "    zipcode = row_unit['reportedZipCode']\n",
    "\n",
    "    intersection_geometry = bg_geometry.intersection(tract_geometry).intersection(state_geometry).intersection(lat_long_geometry)\n",
    "\n",
    "    if intersection_geometry is None or intersection_geometry.is_empty:\n",
    "        new_unit_df.at[idx_unit,'countyInconsistent'] = 0\n",
    "    else:\n",
    "        new_unit_df.at[idx_unit,'countyInconsistent'] = 1"
   ]
  },
  {
   "cell_type": "code",
   "execution_count": 24,
   "id": "a7f5681d-5cc6-42a4-a775-483bccfc5862",
   "metadata": {},
   "outputs": [
    {
     "data": {
      "text/plain": [
       "1"
      ]
     },
     "execution_count": 24,
     "metadata": {},
     "output_type": "execute_result"
    }
   ],
   "source": [
    "new_unit_df['countyInconsistent'].sum()"
   ]
  },
  {
   "cell_type": "code",
   "execution_count": 25,
   "id": "5f93b5c5-6286-40f6-aaf9-3d5fb0d96ac9",
   "metadata": {},
   "outputs": [],
   "source": [
    "for idx_unit, row_unit in new_unit_df.iterrows():\n",
    "    year = row_unit['year']\n",
    "    bg_id = row_unit['censusBlockGroupFips']\n",
    "    bg_geometry = row_unit['geometry_BG']\n",
    "    tract_id = row_unit['censusTract']\n",
    "    tract_geometry = row_unit['geometry_tract']\n",
    "    county_id = row_unit['countyCode']\n",
    "    county_geometry = row_unit['geometry_county']\n",
    "    state = row_unit['state']\n",
    "    state_geometry = row_unit['geometry_state']\n",
    "    lat_long_geometry = row_unit['geometry_lat_long']\n",
    "    lat = row_unit['latitude']\n",
    "    long = row_unit['longitude']\n",
    "    zipcode = row_unit['reportedZipCode']\n",
    "    \n",
    "    intersection_geometry = bg_geometry.intersection(tract_geometry).intersection(county_geometry).intersection(lat_long_geometry)\n",
    "\n",
    "    if intersection_geometry is None or intersection_geometry.is_empty:\n",
    "        new_unit_df.at[idx_unit,'stateInconsistent'] = 0\n",
    "    else:\n",
    "        new_unit_df.at[idx_unit,'stateInconsistent'] = 1"
   ]
  },
  {
   "cell_type": "code",
   "execution_count": 26,
   "id": "0c8afe5d-81f0-4846-accb-614c24a03fff",
   "metadata": {},
   "outputs": [
    {
     "data": {
      "text/plain": [
       "0"
      ]
     },
     "execution_count": 26,
     "metadata": {},
     "output_type": "execute_result"
    }
   ],
   "source": [
    "new_unit_df['stateInconsistent'].sum()"
   ]
  },
  {
   "cell_type": "code",
   "execution_count": 27,
   "id": "df030254-5406-414b-b53e-b0fef214f9d8",
   "metadata": {},
   "outputs": [],
   "source": [
    "for idx_unit, row_unit in new_unit_df.iterrows():\n",
    "    year = row_unit['year']\n",
    "    bg_id = row_unit['censusBlockGroupFips']\n",
    "    bg_geometry = row_unit['geometry_BG']\n",
    "    tract_id = row_unit['censusTract']\n",
    "    tract_geometry = row_unit['geometry_tract']\n",
    "    county_id = row_unit['countyCode']\n",
    "    county_geometry = row_unit['geometry_county']\n",
    "    state = row_unit['state']\n",
    "    state_geometry = row_unit['geometry_state']\n",
    "    lat_long_geometry = row_unit['geometry_lat_long']\n",
    "    lat = row_unit['latitude']\n",
    "    long = row_unit['longitude']\n",
    "    zipcode = row_unit['reportedZipCode']\n",
    "    \n",
    "    intersection_geometry = bg_geometry.intersection(tract_geometry).intersection(county_geometry).intersection(state_geometry)\n",
    "\n",
    "    if intersection_geometry is None or intersection_geometry.is_empty:\n",
    "        new_unit_df.at[idx_unit,'latlongInconsistent'] = 0\n",
    "    else:\n",
    "        new_unit_df.at[idx_unit,'latlongInconsistent'] = 1"
   ]
  },
  {
   "cell_type": "code",
   "execution_count": 28,
   "id": "0588282b-776f-401f-b066-89b2a3f5ed5f",
   "metadata": {},
   "outputs": [
    {
     "data": {
      "text/plain": [
       "4"
      ]
     },
     "execution_count": 28,
     "metadata": {},
     "output_type": "execute_result"
    }
   ],
   "source": [
    "new_unit_df['latlongInconsistent'].sum()"
   ]
  },
  {
   "cell_type": "code",
   "execution_count": 29,
   "id": "7f7d4692-cc29-4a25-9b23-87ff17c4c15a",
   "metadata": {},
   "outputs": [
    {
     "name": "stdout",
     "output_type": "stream",
     "text": [
      "2\n"
     ]
    }
   ],
   "source": [
    "mask = (new_unit_df['latlongInconsistent'] + new_unit_df['stateInconsistent'] + new_unit_df['countyInconsistent'] + new_unit_df['tractInconsistent'] + new_unit_df['cbgInconsistent']) > 1\n",
    "new_unit_df.loc[mask, 'multiple'] = 1\n",
    "new_unit_df.loc[~mask, 'multiple'] = 0\n",
    "\n",
    "print(sum(new_unit_df['multiple']))"
   ]
  },
  {
   "cell_type": "code",
   "execution_count": 30,
   "id": "ac1be739-4d16-40f0-8cf4-7b974d79f2e0",
   "metadata": {},
   "outputs": [
    {
     "name": "stdout",
     "output_type": "stream",
     "text": [
      "2\n"
     ]
    }
   ],
   "source": [
    "condition = (new_unit_df['latlongInconsistent'] + \n",
    "             new_unit_df['stateInconsistent'] + \n",
    "             new_unit_df['countyInconsistent'] + \n",
    "             new_unit_df['tractInconsistent'] + \n",
    "             new_unit_df['cbgInconsistent'] ) == 0\n",
    "\n",
    "new_unit_df['noOverlap'] = 0  # Default to 0\n",
    "new_unit_df.loc[condition, 'noOverlap'] = 1\n",
    "\n",
    "print(sum(new_unit_df['noOverlap']))"
   ]
  },
  {
   "cell_type": "code",
   "execution_count": 31,
   "id": "5822babc-f29b-43cd-9f44-9df483a101d6",
   "metadata": {},
   "outputs": [
    {
     "name": "stdout",
     "output_type": "stream",
     "text": [
      "3\n"
     ]
    }
   ],
   "source": [
    "condition = (new_unit_df['latlongInconsistent'] + \n",
    "             new_unit_df['stateInconsistent'] + \n",
    "             new_unit_df['countyInconsistent'] + \n",
    "             new_unit_df['tractInconsistent'] + \n",
    "             new_unit_df['cbgInconsistent'])  == 1\n",
    "\n",
    "new_unit_df['oneWrong'] = 0  # Default to 0\n",
    "new_unit_df.loc[condition, 'oneWrong'] = 1\n",
    "\n",
    "print(sum(new_unit_df['oneWrong']))"
   ]
  },
  {
   "cell_type": "code",
   "execution_count": 32,
   "id": "c5b1223d-ea6a-4ae1-a6d7-9608d4313e56",
   "metadata": {},
   "outputs": [
    {
     "name": "stdout",
     "output_type": "stream",
     "text": [
      "lat_long_geometry: 2 'Wrong' values\n",
      "state_geometry: 0 'Wrong' values\n",
      "county_geometry: 1 'Wrong' values\n",
      "tract_geometry: 0 'Wrong' values\n",
      "bg_geometry: 0 'Wrong' values\n",
      "zip_geometry: 0 'Wrong' values\n"
     ]
    }
   ],
   "source": [
    "# Initialize the count dictionary for 'Wrong' values\n",
    "wrong_counts = {\n",
    "    'lat_long_geometry': 0,\n",
    "    'state_geometry': 0,\n",
    "    'county_geometry': 0,\n",
    "    'tract_geometry': 0,\n",
    "    'bg_geometry': 0,\n",
    "    'zip_geometry': 0  # added for zip codes\n",
    "}\n",
    "\n",
    "# Iterate through the DataFrame\n",
    "for idx_unit, row_unit in new_unit_df.iterrows():\n",
    "    if row_unit['oneWrong'] == 1:\n",
    "        if row_unit['latlongInconsistent'] == 1:\n",
    "            new_unit_df.at[idx_unit, 'lat_long_geometry'] = 'Wrong'\n",
    "            wrong_counts['lat_long_geometry'] += 1\n",
    "        if row_unit['stateInconsistent'] == 1:\n",
    "            new_unit_df.at[idx_unit, 'state_geometry'] = 'Wrong'\n",
    "            wrong_counts['state_geometry'] += 1\n",
    "        if row_unit['countyInconsistent'] == 1:\n",
    "            new_unit_df.at[idx_unit, 'county_geometry'] = 'Wrong'\n",
    "            wrong_counts['county_geometry'] += 1\n",
    "        if row_unit['tractInconsistent'] == 1:\n",
    "            new_unit_df.at[idx_unit, 'tract_geometry'] = 'Wrong'\n",
    "            wrong_counts['tract_geometry'] += 1\n",
    "        if row_unit['cbgInconsistent'] == 1:\n",
    "            new_unit_df.at[idx_unit, 'bg_geometry'] = 'Wrong'\n",
    "            wrong_counts['bg_geometry'] += 1\n",
    "\n",
    "# Print the 'Wrong' counts\n",
    "for category, count in wrong_counts.items():\n",
    "    print(f\"{category}: {count} 'Wrong' values\")"
   ]
  },
  {
   "cell_type": "code",
   "execution_count": 33,
   "id": "ecdfc846-8eb1-449c-bb52-8b228b5e6396",
   "metadata": {},
   "outputs": [],
   "source": [
    "columns_to_drop = [\n",
    "    'geometry_tract', 'geometry_BG',\n",
    "    'geometry_county', 'geometry_state', 'geometry_lat_long'\n",
    "]\n",
    "\n",
    "# Drop the columns\n",
    "new_unit_df = new_unit_df.drop(columns= columns_to_drop)"
   ]
  },
  {
   "cell_type": "code",
   "execution_count": 34,
   "id": "5dc3b709-5dd4-4e58-93d0-7da06638fc13",
   "metadata": {},
   "outputs": [],
   "source": [
    "new_unit_df= new_unit_df.drop_duplicates()\n",
    "\n",
    "new_unit_df.to_parquet('C:/Users/Asus/Box/Flood Damage PredictionProject/Dataset/inconsistency_dataframe_2.parquet.gzip', compression = 'gzip',  index=False)"
   ]
  }
 ],
 "metadata": {
  "kernelspec": {
   "display_name": "Python 3 (ipykernel)",
   "language": "python",
   "name": "python3"
  },
  "language_info": {
   "codemirror_mode": {
    "name": "ipython",
    "version": 3
   },
   "file_extension": ".py",
   "mimetype": "text/x-python",
   "name": "python",
   "nbconvert_exporter": "python",
   "pygments_lexer": "ipython3",
   "version": "3.8.17"
  }
 },
 "nbformat": 4,
 "nbformat_minor": 5
}
