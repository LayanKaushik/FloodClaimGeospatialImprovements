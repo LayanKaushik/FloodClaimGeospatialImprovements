{
 "cells": [
  {
   "cell_type": "code",
   "execution_count": null,
   "id": "9c9b2f0c",
   "metadata": {},
   "outputs": [],
   "source": [
    "import pandas as pd\n",
    "import numpy as np\n",
    "from sklearn.ensemble import RandomForestRegressor\n",
    "from sklearn.model_selection import cross_validate\n",
    "from utils_python import *\n",
    "\n",
    "#plotting\n",
    "import matplotlib.pyplot as plt\n",
    "import seaborn as sns\n",
    "\n",
    "np.random.seed(420)\n",
    "pd.set_option('display.max_columns', None)  # To show all columns"
   ]
  },
  {
   "cell_type": "code",
   "execution_count": null,
   "id": "ed1c2f3b",
   "metadata": {},
   "outputs": [],
   "source": [
    "# Read dataset with encoding\n",
    "df = pd.read_parquet(\"C:/Users/Asus/Box/Flood Damage PredictionProject/Dataset/filtered_dataset_with_geo_info_with_encoding.parquet.gzip\")"
   ]
  },
  {
   "cell_type": "code",
   "execution_count": null,
   "id": "7c5a4687-bfdc-4834-9076-d8360f186dfd",
   "metadata": {},
   "outputs": [],
   "source": [
    "df.head()"
   ]
  },
  {
   "cell_type": "markdown",
   "id": "4c607c1d-017a-445c-b6df-4c0c333d8bd4",
   "metadata": {},
   "source": [
    "### Drop all county and yearOfLoss columns"
   ]
  },
  {
   "cell_type": "code",
   "execution_count": null,
   "id": "51b66cab",
   "metadata": {},
   "outputs": [],
   "source": [
    "# Identify columns that start with \"countyCode\"\n",
    "columns_to_remove = [col for col in df.columns if col.startswith(\"countyCode_\")]\n",
    "\n",
    "# Combine these columns \"yearOfLoss\" for removal\n",
    "columns_to_drop = columns_to_remove + [\"yearOfLoss\"]\n",
    "\n",
    "df = drop_columns(df, columns_to_drop)"
   ]
  },
  {
   "cell_type": "markdown",
   "id": "84a4c3d5-8309-4d96-a390-920646d1f2ff",
   "metadata": {},
   "source": [
    "### Scale the numeric columns and get sample df if needed "
   ]
  },
  {
   "cell_type": "code",
   "execution_count": null,
   "id": "4208a653-2a1c-4190-b750-df79a12fdd4f",
   "metadata": {},
   "outputs": [],
   "source": [
    "# Scale if needed\n",
    "df = scale_variables(df, \"buildingrelativeDamage\", scale=False)\n",
    "\n",
    "# Sample if needed\n",
    "df = sample_dataframe(df, 10000, sampling_required=True)"
   ]
  },
  {
   "cell_type": "markdown",
   "id": "5f26a56c-0710-4381-84c0-aac52de59a71",
   "metadata": {},
   "source": [
    "### Data creation for modeling"
   ]
  },
  {
   "cell_type": "code",
   "execution_count": null,
   "id": "4419c3f9",
   "metadata": {},
   "outputs": [],
   "source": [
    "# Create a list of the SVD column names\n",
    "svd_columns = [f'svd_{i}' for i in range(1, 31)]\n",
    "\n",
    "# Create a new DataFrame with only the SVD columns\n",
    "svd_df = df[svd_columns].copy()\n",
    "\n",
    "# Drop the SVD columns from the original DataFrame\n",
    "df.drop(columns=svd_columns, inplace=True)"
   ]
  },
  {
   "cell_type": "code",
   "execution_count": null,
   "id": "998758b2",
   "metadata": {},
   "outputs": [],
   "source": [
    "# Create baseline dataframes\n",
    "Y = df['buildingrelativeDamage'].values\n",
    "X = df.drop(columns='buildingrelativeDamage').values\n",
    "\n",
    "# Initialize a dictionary to store the MAE for baseline and each SVD variable inclusion\n",
    "# Setting the baseline MAE to 0 and each SVD variable's MAE to 0 initially\n",
    "mae_scores = {'Baseline': 0}\n",
    "mae_scores.update({col: 0 for col in svd_columns})"
   ]
  },
  {
   "cell_type": "markdown",
   "id": "20fb8285-aa78-4ce4-b8d1-ad55fa5f7076",
   "metadata": {},
   "source": [
    "### Baseline Model"
   ]
  },
  {
   "cell_type": "code",
   "execution_count": null,
   "id": "76ff5b30-a203-447a-9684-13c4c1b1c200",
   "metadata": {},
   "outputs": [],
   "source": [
    "# Perform 5 fold cross-validation\n",
    "regr = RandomForestRegressor(criterion='absolute_error',  random_state=420)\n",
    "cv_results = cross_validate(regr, X, Y, cv=5, scoring='neg_mean_absolute_error')\n",
    "mae_scores['Baseline'] = -np.mean(cv_results['test_score'])\n",
    "\n",
    "print(f\"Baseline MAE: {mae_scores['Baseline']}\")"
   ]
  },
  {
   "cell_type": "markdown",
   "id": "9af47fc8-a866-45f5-a15a-91c082823824",
   "metadata": {},
   "source": [
    "### Check geoinfo column inclusion"
   ]
  },
  {
   "cell_type": "code",
   "execution_count": null,
   "id": "d08dc584-0d42-4244-a270-ed36a886b532",
   "metadata": {},
   "outputs": [],
   "source": [
    "# Initialize an array to store the MAE for each selection round\n",
    "svd_selection_cv_scores = np.zeros(30)\n",
    "\n",
    "# Variable selection and iterative cross-validation\n",
    "for i in range(1, 31):\n",
    "    # Identify the SVD variable with the lowest MAE\n",
    "    best_svd_var, svd_selection_cv_scores[i-1] = svd_selection_rf(X, svd_df, Y)\n",
    "\n",
    "    # Add the best_svd_var to X\n",
    "    X = np.concatenate([X, svd_df[[best_svd_var]].values], axis=1)\n",
    "    \n",
    "    # Drop the included svd column from the svd dataframe\n",
    "    svd_df = svd_df.drop(columns=best_svd_var)\n",
    "    \n",
    "    # Rerun 5-fold CV with the newly included SVD variable\n",
    "    regr = RandomForestRegressor(criterion='absolute_error', random_state=420)\n",
    "    cv_results = cross_validate(regr, X, Y, cv=5, scoring='neg_mean_absolute_error')\n",
    "    mae_scores[best_svd_var] = -np.mean(cv_results['test_score'])\n",
    "    print(f\"Iteration: {i}, Best SVD Var: {best_svd_var}, MAE: {mae_scores[best_svd_var]}\")"
   ]
  },
  {
   "cell_type": "markdown",
   "id": "dda624ac-1576-463b-9ab0-7f62ffdebcca",
   "metadata": {},
   "source": [
    "### Plots"
   ]
  },
  {
   "cell_type": "code",
   "execution_count": null,
   "id": "139d5140",
   "metadata": {},
   "outputs": [],
   "source": [
    "# Convert mae_scores to a pandas DataFrame\n",
    "mae_df = pd.DataFrame(list(mae_scores.items()), columns=['Variable', 'MAE'])\n",
    "\n",
    "# Plotting\n",
    "plt.figure(figsize=(10, 6))\n",
    "sns.lineplot(data=mae_df, x='Variable', y='MAE', marker='o', color='darkgreen', markersize=8)\n",
    "\n",
    "plt.xticks(rotation=45, ha='right')\n",
    "plt.title('MAE Across Models with SVD Variable Inclusion (RandomForest Regressor)', fontsize=14)\n",
    "plt.xlabel('SVD Variable Included', fontsize=12)\n",
    "plt.ylabel('Mean Absolute Error (MAE)', fontsize=12)\n",
    "sns.despine()  # Removes the top and right spines\n",
    "plt.grid(True, which='major', linestyle='--', linewidth='0.5', color='gray')  # Adds a grid\n",
    "plt.tight_layout()  # Adjusts subplots to fit into the figure area.\n",
    "\n",
    "plt.show()"
   ]
  }
 ],
 "metadata": {
  "kernelspec": {
   "display_name": "Python 3 (ipykernel)",
   "language": "python",
   "name": "python3"
  },
  "language_info": {
   "codemirror_mode": {
    "name": "ipython",
    "version": 3
   },
   "file_extension": ".py",
   "mimetype": "text/x-python",
   "name": "python",
   "nbconvert_exporter": "python",
   "pygments_lexer": "ipython3",
   "version": "3.8.17"
  }
 },
 "nbformat": 4,
 "nbformat_minor": 5
}
