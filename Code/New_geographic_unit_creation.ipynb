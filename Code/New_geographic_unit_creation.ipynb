{
 "cells": [
  {
   "cell_type": "code",
   "execution_count": 2,
   "id": "f71a2dfd-51ff-419f-bd67-f9d6b94d0377",
   "metadata": {
    "tags": []
   },
   "outputs": [],
   "source": [
    "import pandas as pd\n",
    "import numpy as np\n",
    "import matplotlib.pyplot as plt\n",
    "import pyarrow as pa\n",
    "import pyarrow.parquet as pq\n",
    "import geopandas as gpd\n",
    "import seaborn as sns\n",
    "\n",
    "#Packages\n",
    "import pandas as pd\n",
    "import matplotlib.pyplot as plt\n",
    "import matplotlib.ticker as mtick\n",
    "import numpy as np\n",
    "from scipy import stats\n",
    "pd.set_option('display.max_columns', None)\n",
    "\n",
    "from scipy.stats import skew, kurtosis\n",
    "\n",
    "import pygris\n",
    "from shapely.geometry import Polygon\n",
    "\n",
    "import shapely"
   ]
  },
  {
   "cell_type": "code",
   "execution_count": 3,
   "id": "4412cfb7-312e-4011-876e-842c2d361c79",
   "metadata": {
    "tags": []
   },
   "outputs": [],
   "source": [
    "# Read the parquet file\n",
    "df_read = pd.read_parquet(\"C:/Users/Asus/Box/Flood Damage PredictionProject/Dataset/lat_long_geometry.parquet.gzip\")\n",
    "\n",
    "# Convert the WKT strings back to geometries\n",
    "lat_long_df = gpd.GeoDataFrame(df_read, geometry=df_read['geometry'].apply(lambda x: shapely.wkt.loads(x)))"
   ]
  },
  {
   "cell_type": "code",
   "execution_count": 7,
   "id": "48003008-1a2a-4ad4-a67d-4089a23ea76a",
   "metadata": {
    "tags": []
   },
   "outputs": [],
   "source": [
    "chunk_size = 25000  # adjust based on your system's capabilities\n",
    "chunks = [x for x in range(0, 400000, chunk_size)]\n",
    "\n",
    "gdf_list = []\n",
    "\n",
    "for start in chunks:\n",
    "    end = start + chunk_size\n",
    "    temp_df = pd.read_parquet(f\"C:/Users/Asus/Box/Flood Damage PredictionProject/Dataset/BG_geometry_{start}_{end}.parquet.gzip\")\n",
    "    gdf_read = gpd.GeoDataFrame(temp_df, geometry=temp_df['geometry'].apply(lambda x: shapely.wkt.loads(x)))\n",
    "    gdf_list.append(gdf_read)\n",
    "\n",
    "# Concatenate all GeoDataFrames in the list into a single GeoDataFrame\n",
    "BG_df = pd.concat(gdf_list, ignore_index=True)"
   ]
  },
  {
   "cell_type": "code",
   "execution_count": 8,
   "id": "ee0ae2c2-b10a-474e-9010-fe9b88389e64",
   "metadata": {
    "tags": []
   },
   "outputs": [],
   "source": [
    "chunk_size = 25000  # adjust based on your system's capabilities\n",
    "chunks = [x for x in range(0, 100000, chunk_size)]\n",
    "\n",
    "gdf_list = []\n",
    "\n",
    "for start in chunks:\n",
    "    end = start + chunk_size\n",
    "    temp_df = pd.read_parquet(f\"C:/Users/Asus/Box/Flood Damage PredictionProject/Dataset/zipcode_geometry_{start}_{end}.parquet.gzip\")\n",
    "    gdf_read = gpd.GeoDataFrame(temp_df, geometry=temp_df['geometry'].apply(lambda x: shapely.wkt.loads(x)))\n",
    "    gdf_list.append(gdf_read)\n",
    "    \n",
    "# Concatenate all GeoDataFrames in the list into a single GeoDataFrame\n",
    "zipcode_df = pd.concat(gdf_list, ignore_index=True)"
   ]
  },
  {
   "cell_type": "code",
   "execution_count": 9,
   "id": "efbab3f7-ff20-4102-a5c7-e98a6220807f",
   "metadata": {
    "tags": []
   },
   "outputs": [
    {
     "name": "stdout",
     "output_type": "stream",
     "text": [
      "90165\n",
      "386324\n"
     ]
    }
   ],
   "source": [
    "print(zipcode_df.shape[0])\n",
    "print(BG_df.shape[0])"
   ]
  },
  {
   "cell_type": "code",
   "execution_count": 10,
   "id": "cc07f523-a02f-4a4f-9ac0-af2adae02a05",
   "metadata": {
    "tags": []
   },
   "outputs": [],
   "source": [
    "zipcode_df = zipcode_df.drop_duplicates(subset=['ZIPcode', 'year'])\n",
    "BG_df = BG_df.drop_duplicates(subset=['GEOID', 'year'])"
   ]
  },
  {
   "cell_type": "code",
   "execution_count": 13,
   "id": "d87e6f39-cc6d-4cbf-a4bb-0b2ad509135d",
   "metadata": {
    "tags": []
   },
   "outputs": [
    {
     "name": "stdout",
     "output_type": "stream",
     "text": [
      "90165\n",
      "386239\n",
      "25127\n"
     ]
    }
   ],
   "source": [
    "print(zipcode_df.shape[0])\n",
    "print(BG_df.shape[0])\n",
    "print(lat_long_df.shape[0])"
   ]
  },
  {
   "cell_type": "code",
   "execution_count": 17,
   "id": "d130301c-2873-49a1-9579-25074f8f8d67",
   "metadata": {
    "tags": []
   },
   "outputs": [],
   "source": [
    "BG_df_yearwise = {}\n",
    "\n",
    "# Iterate through unique years and create separate DataFrames\n",
    "for year in BG_df['year'].unique():\n",
    "    BG_df_yearwise[year] = BG_df[BG_df['year'] == year].copy()\n",
    "\n",
    "BG_df_2021 = BG_df_yearwise[2021]\n",
    "BG_df_2012 = BG_df_yearwise[2012]\n",
    "BG_df_2010 = BG_df_yearwise[2010]\n",
    "BG_df_2000 = BG_df_yearwise[2000]\n",
    "BG_df_1990 = BG_df_yearwise[1990]"
   ]
  },
  {
   "cell_type": "code",
   "execution_count": 29,
   "id": "9dbd85ce-5ade-4d6a-9519-a349ae418a0e",
   "metadata": {
    "tags": []
   },
   "outputs": [],
   "source": [
    "import geopandas as gpd\n",
    "from shapely.geometry import Polygon\n",
    "from itertools import product\n",
    "import warnings\n",
    "warnings.filterwarnings(\"ignore\")"
   ]
  },
  {
   "cell_type": "code",
   "execution_count": 42,
   "id": "3c637a2d-75ab-4168-85f7-58c53d1c1018",
   "metadata": {
    "tags": []
   },
   "outputs": [],
   "source": [
    "# Create an empty GeoDataFrame to store the intersection results\n",
    "new_unit_df_2021 = gpd.GeoDataFrame(columns=['geographic_unit_id', 'BG_id', 'latitude', 'longitude', 'geometry', 'year'])\n",
    "\n",
    "# Iterate through each row in BG_df_2021 and each row in lat_long_df to find intersections\n",
    "for idx_bg, row_bg in BG_df_2021.iterrows():\n",
    "    year = row_bg['year']\n",
    "    bg_id = row_bg['GEOID']\n",
    "    bg_geometry = row_bg['geometry']\n",
    "    \n",
    "    for idx_lat_long, row_lat_long in lat_long_df.iterrows():\n",
    "        \n",
    "        lat_long_geometry = row_lat_long['geometry']\n",
    "        lat = row_lat_long['latitude']\n",
    "        long = row_lat_long['longitude']\n",
    "        # Compute intersection geometry\n",
    "\n",
    "        intersection_geometry = bg_geometry.intersection(lat_long_geometry)\n",
    "            \n",
    "        # Check if the intersection result is valid\n",
    "        if not intersection_geometry.is_empty:\n",
    "            # Create a unique ID for the intersection using the year and indices\n",
    "            geographic_unit_id = f\"{year}_{bg_id}_{lat}_{long}\"\n",
    "\n",
    "            # Append intersection information to a list\n",
    "            new_unit_df_2021 = pd.concat([new_unit_df_2021, pd.DataFrame({\n",
    "                'geographic_unit_id': [geographic_unit_id],\n",
    "                'BG_id': [bg_id],\n",
    "                'latitude': [lat],\n",
    "                'longitude': [long],\n",
    "                'geometry': [intersection_geometry],\n",
    "                'year': [year]\n",
    "            })], ignore_index=True)"
   ]
  },
  {
   "cell_type": "code",
   "execution_count": 43,
   "id": "7ee0dff6-ccf7-4ac2-99df-4bc86da67059",
   "metadata": {
    "tags": []
   },
   "outputs": [
    {
     "data": {
      "text/html": [
       "<div>\n",
       "<style scoped>\n",
       "    .dataframe tbody tr th:only-of-type {\n",
       "        vertical-align: middle;\n",
       "    }\n",
       "\n",
       "    .dataframe tbody tr th {\n",
       "        vertical-align: top;\n",
       "    }\n",
       "\n",
       "    .dataframe thead th {\n",
       "        text-align: right;\n",
       "    }\n",
       "</style>\n",
       "<table border=\"1\" class=\"dataframe\">\n",
       "  <thead>\n",
       "    <tr style=\"text-align: right;\">\n",
       "      <th></th>\n",
       "      <th>geographic_unit_id</th>\n",
       "      <th>BG_id</th>\n",
       "      <th>latitude</th>\n",
       "      <th>longitude</th>\n",
       "      <th>geometry</th>\n",
       "    </tr>\n",
       "  </thead>\n",
       "  <tbody>\n",
       "    <tr>\n",
       "      <th>0</th>\n",
       "      <td>2021_010030114121_30.3_-87.7</td>\n",
       "      <td>010030114121</td>\n",
       "      <td>30.3</td>\n",
       "      <td>-87.7</td>\n",
       "      <td>POLYGON ((-87.74999 30.29132, -87.74964 30.292...</td>\n",
       "    </tr>\n",
       "    <tr>\n",
       "      <th>1</th>\n",
       "      <td>2021_010030114182_30.3_-87.6</td>\n",
       "      <td>010030114182</td>\n",
       "      <td>30.3</td>\n",
       "      <td>-87.6</td>\n",
       "      <td>POLYGON ((-87.64990 30.26746, -87.64948 30.266...</td>\n",
       "    </tr>\n",
       "    <tr>\n",
       "      <th>2</th>\n",
       "      <td>2021_010030114182_30.3_-87.7</td>\n",
       "      <td>010030114182</td>\n",
       "      <td>30.3</td>\n",
       "      <td>-87.7</td>\n",
       "      <td>POLYGON ((-87.68949 30.25035, -87.68947 30.250...</td>\n",
       "    </tr>\n",
       "    <tr>\n",
       "      <th>3</th>\n",
       "      <td>2021_010030114182_30.2_-87.7</td>\n",
       "      <td>010030114182</td>\n",
       "      <td>30.2</td>\n",
       "      <td>-87.7</td>\n",
       "      <td>POLYGON ((-87.69136 30.24822, -87.69058 30.248...</td>\n",
       "    </tr>\n",
       "    <tr>\n",
       "      <th>4</th>\n",
       "      <td>2021_010030114151_30.3_-87.6</td>\n",
       "      <td>010030114151</td>\n",
       "      <td>30.3</td>\n",
       "      <td>-87.6</td>\n",
       "      <td>POLYGON ((-87.58050 30.26948, -87.58059 30.270...</td>\n",
       "    </tr>\n",
       "  </tbody>\n",
       "</table>\n",
       "</div>"
      ],
      "text/plain": [
       "             geographic_unit_id         BG_id  latitude  longitude  \\\n",
       "0  2021_010030114121_30.3_-87.7  010030114121      30.3      -87.7   \n",
       "1  2021_010030114182_30.3_-87.6  010030114182      30.3      -87.6   \n",
       "2  2021_010030114182_30.3_-87.7  010030114182      30.3      -87.7   \n",
       "3  2021_010030114182_30.2_-87.7  010030114182      30.2      -87.7   \n",
       "4  2021_010030114151_30.3_-87.6  010030114151      30.3      -87.6   \n",
       "\n",
       "                                            geometry  \n",
       "0  POLYGON ((-87.74999 30.29132, -87.74964 30.292...  \n",
       "1  POLYGON ((-87.64990 30.26746, -87.64948 30.266...  \n",
       "2  POLYGON ((-87.68949 30.25035, -87.68947 30.250...  \n",
       "3  POLYGON ((-87.69136 30.24822, -87.69058 30.248...  \n",
       "4  POLYGON ((-87.58050 30.26948, -87.58059 30.270...  "
      ]
     },
     "execution_count": 43,
     "metadata": {},
     "output_type": "execute_result"
    }
   ],
   "source": [
    "# Create an empty GeoDataFrame to store the intersection results\n",
    "new_unit_df_2012 = gpd.GeoDataFrame(columns=['geographic_unit_id', 'BG_id', 'latitude', 'longitude', 'geometry', 'year'])\n",
    "\n",
    "# Iterate through each row in BG_df_2012 and each row in lat_long_df to find intersections\n",
    "for idx_bg, row_bg in BG_df_2012.iterrows():\n",
    "    year = row_bg['year']\n",
    "    bg_id = row_bg['GEOID']\n",
    "    bg_geometry = row_bg['geometry']\n",
    "    \n",
    "    for idx_lat_long, row_lat_long in lat_long_df.iterrows():\n",
    "        \n",
    "        lat_long_geometry = row_lat_long['geometry']\n",
    "        lat = row_lat_long['latitude']\n",
    "        long = row_lat_long['longitude']\n",
    "        # Compute intersection geometry\n",
    "\n",
    "        intersection_geometry = bg_geometry.intersection(lat_long_geometry)\n",
    "            \n",
    "        # Check if the intersection result is valid\n",
    "        if not intersection_geometry.is_empty:\n",
    "            # Create a unique ID for the intersection using the year and indices\n",
    "            geographic_unit_id = f\"{year}_{bg_id}_{lat}_{long}\"\n",
    "\n",
    "            # Append intersection information to a list\n",
    "            new_unit_df_2012 = pd.concat([new_unit_df_2012, pd.DataFrame({\n",
    "                'geographic_unit_id': [geographic_unit_id],\n",
    "                'BG_id': [bg_id],\n",
    "                'latitude': [lat],\n",
    "                'longitude': [long],\n",
    "                'geometry': [intersection_geometry],\n",
    "                'year': [year]\n",
    "            })], ignore_index=True)"
   ]
  },
  {
   "cell_type": "code",
   "execution_count": null,
   "id": "b9da5f78-a41e-4661-846c-6ab34333aeb7",
   "metadata": {},
   "outputs": [],
   "source": [
    "# Create an empty GeoDataFrame to store the intersection results\n",
    "new_unit_df_2010 = gpd.GeoDataFrame(columns=['geographic_unit_id', 'BG_id', 'latitude', 'longitude', 'geometry', 'year'])\n",
    "\n",
    "# Iterate through each row in BG_df_2010 and each row in lat_long_df to find intersections\n",
    "for idx_bg, row_bg in BG_df_2010.iterrows():\n",
    "    year = row_bg['year']\n",
    "    bg_id = row_bg['GEOID']\n",
    "    bg_geometry = row_bg['geometry']\n",
    "    \n",
    "    for idx_lat_long, row_lat_long in lat_long_df.iterrows():\n",
    "        \n",
    "        lat_long_geometry = row_lat_long['geometry']\n",
    "        lat = row_lat_long['latitude']\n",
    "        long = row_lat_long['longitude']\n",
    "        # Compute intersection geometry\n",
    "\n",
    "        intersection_geometry = bg_geometry.intersection(lat_long_geometry)\n",
    "            \n",
    "        # Check if the intersection result is valid\n",
    "        if not intersection_geometry.is_empty:\n",
    "            # Create a unique ID for the intersection using the year and indices\n",
    "            geographic_unit_id = f\"{year}_{bg_id}_{lat}_{long}\"\n",
    "\n",
    "            # Append intersection information to a list\n",
    "            new_unit_df_2010 = pd.concat([new_unit_df_2010, pd.DataFrame({\n",
    "                'geographic_unit_id': [geographic_unit_id],\n",
    "                'BG_id': [bg_id],\n",
    "                'latitude': [lat],\n",
    "                'longitude': [long],\n",
    "                'geometry': [intersection_geometry],\n",
    "                'year': [year]\n",
    "            })], ignore_index=True)"
   ]
  },
  {
   "cell_type": "code",
   "execution_count": null,
   "id": "31db8fd5-a3e1-45fc-803c-cbf1b88d6a8a",
   "metadata": {},
   "outputs": [],
   "source": [
    "# Create an empty GeoDataFrame to store the intersection results\n",
    "new_unit_df_2000 = gpd.GeoDataFrame(columns=['geographic_unit_id', 'BG_id', 'latitude', 'longitude', 'geometry', 'year'])\n",
    "\n",
    "# Iterate through each row in BG_df_2000 and each row in lat_long_df to find intersections\n",
    "for idx_bg, row_bg in BG_df_2000.iterrows():\n",
    "    year = row_bg['year']\n",
    "    bg_id = row_bg['GEOID']\n",
    "    bg_geometry = row_bg['geometry']\n",
    "    \n",
    "    for idx_lat_long, row_lat_long in lat_long_df.iterrows():\n",
    "        \n",
    "        lat_long_geometry = row_lat_long['geometry']\n",
    "        lat = row_lat_long['latitude']\n",
    "        long = row_lat_long['longitude']\n",
    "        # Compute intersection geometry\n",
    "\n",
    "        intersection_geometry = bg_geometry.intersection(lat_long_geometry)\n",
    "            \n",
    "        # Check if the intersection result is valid\n",
    "        if not intersection_geometry.is_empty:\n",
    "            # Create a unique ID for the intersection using the year and indices\n",
    "            geographic_unit_id = f\"{year}_{bg_id}_{lat}_{long}\"\n",
    "\n",
    "            # Append intersection information to a list\n",
    "            new_unit_df_2000 = pd.concat([new_unit_df_2000, pd.DataFrame({\n",
    "                'geographic_unit_id': [geographic_unit_id],\n",
    "                'BG_id': [bg_id],\n",
    "                'latitude': [lat],\n",
    "                'longitude': [long],\n",
    "                'geometry': [intersection_geometry],\n",
    "                'year': [year]\n",
    "            })], ignore_index=True)"
   ]
  },
  {
   "cell_type": "code",
   "execution_count": null,
   "id": "a58c6de0-e170-437d-abaa-0a46a112f429",
   "metadata": {},
   "outputs": [],
   "source": [
    "# Create an empty GeoDataFrame to store the intersection results\n",
    "new_unit_df_1990 = gpd.GeoDataFrame(columns=['geographic_unit_id', 'BG_id', 'latitude', 'longitude', 'geometry', 'year'])\n",
    "\n",
    "# Iterate through each row in BG_df_1990 and each row in lat_long_df to find intersections\n",
    "for idx_bg, row_bg in BG_df_1990.iterrows():\n",
    "    year = row_bg['year']\n",
    "    bg_id = row_bg['GEOID']\n",
    "    bg_geometry = row_bg['geometry']\n",
    "    \n",
    "    for idx_lat_long, row_lat_long in lat_long_df.iterrows():\n",
    "        \n",
    "        lat_long_geometry = row_lat_long['geometry']\n",
    "        lat = row_lat_long['latitude']\n",
    "        long = row_lat_long['longitude']\n",
    "        # Compute intersection geometry\n",
    "\n",
    "        intersection_geometry = bg_geometry.intersection(lat_long_geometry)\n",
    "            \n",
    "        # Check if the intersection result is valid\n",
    "        if not intersection_geometry.is_empty:\n",
    "            # Create a unique ID for the intersection using the year and indices\n",
    "            geographic_unit_id = f\"{year}_{bg_id}_{lat}_{long}\"\n",
    "\n",
    "            # Append intersection information to a list\n",
    "            new_unit_df_1990 = pd.concat([new_unit_df_1990, pd.DataFrame({\n",
    "                'geographic_unit_id': [geographic_unit_id],\n",
    "                'BG_id': [bg_id],\n",
    "                'latitude': [lat],\n",
    "                'longitude': [long],\n",
    "                'geometry': [intersection_geometry],\n",
    "                'year': [year]\n",
    "            })], ignore_index=True)"
   ]
  },
  {
   "cell_type": "code",
   "execution_count": 44,
   "id": "deab0de1-ac4b-4213-a88d-43a1d58f8c35",
   "metadata": {
    "tags": []
   },
   "outputs": [
    {
     "data": {
      "image/png": "[encoded data removed]",
      "text/plain": [
       "<Figure size 1000x1000 with 1 Axes>"
      ]
     },
     "metadata": {},
     "output_type": "display_data"
    }
   ],
   "source": [
    "# Convert the DataFrame to a GeoDataFrame\n",
    "gdf = gpd.GeoDataFrame(new_unit_df_2021, geometry='geometry')\n",
    "\n",
    "gdf.plot(edgecolor=\"black\", facecolor=\"none\", figsize=(10, 10))\n",
    "\n",
    "plt.xlabel('Longitude')\n",
    "plt.ylabel('Latitude')\n",
    "plt.title('Squares around Latitude-Longitude Points')\n",
    "\n",
    "plt.show()"
   ]
  },
  {
   "cell_type": "code",
   "execution_count": null,
   "id": "5b0d09c0-0f11-40fe-a5e3-2f77ffdee4af",
   "metadata": {},
   "outputs": [],
   "source": []
  }
 ],
 "metadata": {
  "kernelspec": {
   "display_name": "Python 3 (ipykernel)",
   "language": "python",
   "name": "python3"
  },
  "language_info": {
   "codemirror_mode": {
    "name": "ipython",
    "version": 3
   },
   "file_extension": ".py",
   "mimetype": "text/x-python",
   "name": "python",
   "nbconvert_exporter": "python",
   "pygments_lexer": "ipython3",
   "version": "3.8.17"
  }
 },
 "nbformat": 4,
 "nbformat_minor": 5
}
