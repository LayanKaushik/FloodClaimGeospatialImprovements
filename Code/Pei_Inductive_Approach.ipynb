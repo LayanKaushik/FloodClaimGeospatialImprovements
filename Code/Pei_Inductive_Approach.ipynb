{
 "cells": [
  {
   "cell_type": "code",
   "execution_count": 1,
   "id": "bf2264f1-0e70-4e19-8a04-f873b89fddba",
   "metadata": {},
   "outputs": [],
   "source": [
    "import pandas as pd\n",
    "import numpy as np\n",
    "import matplotlib.pyplot as plt\n",
    "import pyarrow as pa\n",
    "import pyarrow.parquet as pq\n",
    "import geopandas as gpd\n",
    "import seaborn as sns\n",
    "import datetime as dt\n",
    "from sklearn.cluster import KMeans\n",
    "import pandas as pd\n",
    "import matplotlib.pyplot as plt\n",
    "import matplotlib.ticker as mtick\n",
    "import numpy as np\n",
    "from scipy import stats\n",
    "pd.set_option('display.max_columns', None)\n",
    "from sklearn.preprocessing import StandardScaler"
   ]
  },
  {
   "cell_type": "code",
   "execution_count": 2,
   "id": "96457e42-3332-4e5b-bc5e-4975415bb699",
   "metadata": {},
   "outputs": [],
   "source": [
    "df = pd.read_parquet('FemaDataWithWaterDepthStatistics2.parquet.gzip')"
   ]
  },
  {
   "cell_type": "code",
   "execution_count": 5,
   "id": "ecec82a2-30c2-4346-8497-46883537b768",
   "metadata": {},
   "outputs": [],
   "source": [
    "#get rid of NaNs for proportionLeqOne\n",
    "df = df[~df['proportionLeqOne'].isna()]"
   ]
  },
  {
   "cell_type": "markdown",
   "id": "d103fe19-1997-48d1-8ee0-c1cae04b57eb",
   "metadata": {},
   "source": [
    "## K Means"
   ]
  },
  {
   "cell_type": "code",
   "execution_count": 34,
   "id": "de13e2cc-adda-40fa-bf11-a2f4fc30c7c7",
   "metadata": {},
   "outputs": [],
   "source": [
    "df_zero = df[df['waterDepth'] == 0]"
   ]
  },
  {
   "cell_type": "code",
   "execution_count": 35,
   "id": "89a5d738-fc8c-4a62-9546-b33a1066fd16",
   "metadata": {},
   "outputs": [
    {
     "data": {
      "text/plain": [
       "KMeans(n_clusters=3, random_state=42)"
      ]
     },
     "execution_count": 35,
     "metadata": {},
     "output_type": "execute_result"
    }
   ],
   "source": [
    "# Data preparation\n",
    "X = df_zero[['proportionLeqOne', 'relativeDamage', 'elevationDifferenceImp']]\n",
    "\n",
    "# Standardize\n",
    "scaler = StandardScaler()\n",
    "X_scaled = scaler.fit_transform(X)\n",
    "\n",
    "# KMeans clustering\n",
    "kmeans0 = KMeans(n_clusters=3, random_state=42, n_init=10)\n",
    "kmeans0.fit(X_scaled)"
   ]
  },
  {
   "cell_type": "code",
   "execution_count": 36,
   "id": "f8bcbd12-40c4-4b96-adf2-6f5efb4ecc41",
   "metadata": {},
   "outputs": [],
   "source": [
    "# Get boolean masks for each cluster\n",
    "mask_cluster_one = kmeans0.labels_ == 0\n",
    "mask_cluster_two = kmeans0.labels_ == 1\n",
    "mask_cluster_three = kmeans0.labels_ == 2\n",
    "\n",
    "\n",
    "cluster_one0 = df_zero[mask_cluster_one]\n",
    "cluster_two0 = df_zero[mask_cluster_two]\n",
    "cluster_three0 = df_zero[mask_cluster_three]\n"
   ]
  },
  {
   "cell_type": "code",
   "execution_count": 37,
   "id": "6c5633e6-9e63-4440-8de2-3405bd9d1481",
   "metadata": {},
   "outputs": [],
   "source": [
    "df_one = df[df['waterDepth'] == 1]"
   ]
  },
  {
   "cell_type": "code",
   "execution_count": 38,
   "id": "922ee01d-d2f8-4efa-ae84-2c049e4521fb",
   "metadata": {},
   "outputs": [
    {
     "data": {
      "text/plain": [
       "KMeans(n_clusters=3, random_state=42)"
      ]
     },
     "execution_count": 38,
     "metadata": {},
     "output_type": "execute_result"
    }
   ],
   "source": [
    "# Data preparation\n",
    "X = df_one[['proportionLeqOne', 'relativeDamage', 'elevationDifferenceImp']]\n",
    "\n",
    "# Standardize\n",
    "scaler = StandardScaler()\n",
    "X_scaled = scaler.fit_transform(X)\n",
    "\n",
    "# KMeans clustering\n",
    "kmeans1 = KMeans(n_clusters=3, random_state=42, n_init=10)\n",
    "kmeans1.fit(X_scaled)"
   ]
  },
  {
   "cell_type": "code",
   "execution_count": 39,
   "id": "6fe0dbfa-5357-48af-b818-fee085adff1e",
   "metadata": {},
   "outputs": [],
   "source": [
    "# Get boolean masks for each cluster from kmeans1\n",
    "mask_cluster_one = kmeans1.labels_ == 0\n",
    "mask_cluster_two = kmeans1.labels_ == 1\n",
    "mask_cluster_three = kmeans1.labels_ == 2\n",
    "\n",
    "cluster_one1 = df_one[mask_cluster_one]\n",
    "cluster_two1 = df_one[mask_cluster_two]\n",
    "cluster_three1 = df_one[mask_cluster_three]"
   ]
  },
  {
   "cell_type": "code",
   "execution_count": 40,
   "id": "99bfa037-f8dd-48b7-bfca-05f4de746350",
   "metadata": {},
   "outputs": [],
   "source": [
    "df_two = df[df['waterDepth'] == 2]"
   ]
  },
  {
   "cell_type": "code",
   "execution_count": 41,
   "id": "4628bb24-6a42-4962-be23-91cf589464bb",
   "metadata": {},
   "outputs": [
    {
     "data": {
      "text/plain": [
       "KMeans(n_clusters=3, random_state=42)"
      ]
     },
     "execution_count": 41,
     "metadata": {},
     "output_type": "execute_result"
    }
   ],
   "source": [
    "# Data preparation\n",
    "X = df_two[['proportionLeqOne', 'relativeDamage', 'elevationDifferenceImp']]\n",
    "\n",
    "# Standardize\n",
    "scaler = StandardScaler()\n",
    "X_scaled = scaler.fit_transform(X)\n",
    "\n",
    "# KMeans clustering\n",
    "kmeans2 = KMeans(n_clusters=3, random_state=42, n_init=10)\n",
    "kmeans2.fit(X_scaled)"
   ]
  },
  {
   "cell_type": "code",
   "execution_count": 42,
   "id": "249c0d6a-efac-4a83-954c-6d12869fcafa",
   "metadata": {},
   "outputs": [],
   "source": [
    "# Get boolean masks for each cluster\n",
    "mask_cluster_one = kmeans2.labels_ == 0\n",
    "mask_cluster_two = kmeans2.labels_ == 1\n",
    "mask_cluster_three = kmeans2.labels_ == 2\n",
    "\n",
    "\n",
    "cluster_one2 = df_two[mask_cluster_one]\n",
    "cluster_two2 = df_two[mask_cluster_two]\n",
    "cluster_three2 = df_two[mask_cluster_three]\n"
   ]
  },
  {
   "cell_type": "code",
   "execution_count": 46,
   "id": "eb375dad-51ad-44fa-9185-c0a366e6457e",
   "metadata": {},
   "outputs": [],
   "source": [
    "df_six = df[df['waterDepth'] == 6]"
   ]
  },
  {
   "cell_type": "code",
   "execution_count": 47,
   "id": "6fa86267-f2aa-4715-8a54-890ceefcbb65",
   "metadata": {},
   "outputs": [
    {
     "data": {
      "text/plain": [
       "KMeans(n_clusters=3, random_state=42)"
      ]
     },
     "execution_count": 47,
     "metadata": {},
     "output_type": "execute_result"
    }
   ],
   "source": [
    "# Data preparation\n",
    "X = df_six[['proportionLeqOne', 'relativeDamage', 'elevationDifferenceImp']]\n",
    "\n",
    "# Standardize\n",
    "scaler = StandardScaler()\n",
    "X_scaled = scaler.fit_transform(X)\n",
    "\n",
    "# KMeans clustering\n",
    "kmeans6 = KMeans(n_clusters=3, random_state=42, n_init=10)\n",
    "kmeans6.fit(X_scaled)"
   ]
  },
  {
   "cell_type": "code",
   "execution_count": 48,
   "id": "7a7a73c8-a897-4345-b967-68b33830ab4c",
   "metadata": {},
   "outputs": [],
   "source": [
    "# Get boolean masks for each cluster\n",
    "mask_cluster_one = kmeans6.labels_ == 0\n",
    "mask_cluster_two = kmeans6.labels_ == 1\n",
    "mask_cluster_three = kmeans6.labels_ == 2\n",
    "\n",
    "\n",
    "cluster_one6 = df_six[mask_cluster_one]\n",
    "cluster_two6 = df_six[mask_cluster_two]\n",
    "cluster_three6 = df_six[mask_cluster_three]\n"
   ]
  },
  {
   "cell_type": "code",
   "execution_count": 60,
   "id": "2d1d339b-33c4-4255-8b00-9463c8ded99b",
   "metadata": {},
   "outputs": [
    {
     "name": "stdout",
     "output_type": "stream",
     "text": [
      "Cluster 0 in df_zero is most similar to Cluster 2 in df_one.\n",
      "Cluster 1 in df_zero is most similar to Cluster 0 in df_one.\n",
      "Cluster 2 in df_zero is most similar to Cluster 1 in df_one.\n"
     ]
    }
   ],
   "source": [
    "from scipy.spatial import distance\n",
    "\n",
    "# Get cluster centroids for df_zero (waterDepth = 0)\n",
    "centroids_0 = kmeans0.cluster_centers_\n",
    "\n",
    "# Get cluster centroids for df_one (waterDepth = 1)\n",
    "centroids_1 = kmeans1.cluster_centers_\n",
    "\n",
    "# Measure distances between centroids from different subsets\n",
    "distances = distance.cdist(centroids_0, centroids_1, 'euclidean')\n",
    "\n",
    "# Get the index of the closest cluster in df_one for each cluster in df_zero\n",
    "similar_clusters = distances.argmin(axis=1)\n",
    "\n",
    "# Print out the similar clusters\n",
    "for i, idx in enumerate(similar_clusters):\n",
    "    print(f\"Cluster {i} in df_zero is most similar to Cluster {idx} in df_one.\")\n"
   ]
  },
  {
   "cell_type": "code",
   "execution_count": 61,
   "id": "a9929970-70e5-4733-a5d4-4f2b22008c08",
   "metadata": {},
   "outputs": [
    {
     "data": {
      "image/png": "[encoded data removed]",
      "text/plain": [
       "<Figure size 432x288 with 2 Axes>"
      ]
     },
     "metadata": {
      "needs_background": "light"
     },
     "output_type": "display_data"
    }
   ],
   "source": [
    "import seaborn as sns\n",
    "\n",
    "sns.heatmap(distances, annot=True, cmap='YlGnBu')\n",
    "plt.xlabel('Centroids from df_one')\n",
    "plt.ylabel('Centroids from df_zero')\n",
    "plt.show()\n"
   ]
  },
  {
   "cell_type": "code",
   "execution_count": 62,
   "id": "997ed2d2-aab3-4437-8d95-e50187449264",
   "metadata": {},
   "outputs": [
    {
     "name": "stdout",
     "output_type": "stream",
     "text": [
      "Cluster 0 in df_zero is most similar to Cluster 2 in df_one.\n",
      "Cluster 1 in df_zero is most similar to Cluster 0 in df_one.\n",
      "Cluster 2 in df_zero is most similar to Cluster 1 in df_one.\n"
     ]
    }
   ],
   "source": [
    "from scipy.spatial import distance\n",
    "\n",
    "# Get cluster centroids for df_zero (waterDepth = 0)\n",
    "centroids_0 = kmeans1.cluster_centers_\n",
    "\n",
    "# Get cluster centroids for df_one (waterDepth = 1)\n",
    "centroids_1 = kmeans2.cluster_centers_\n",
    "\n",
    "# Measure distances between centroids from different subsets\n",
    "distances = distance.cdist(centroids_0, centroids_1, 'euclidean')\n",
    "\n",
    "# Get the index of the closest cluster in df_one for each cluster in df_zero\n",
    "similar_clusters = distances.argmin(axis=1)\n",
    "\n",
    "# Print out the similar clusters\n",
    "for i, idx in enumerate(similar_clusters):\n",
    "    print(f\"Cluster {i} in df_zero is most similar to Cluster {idx} in df_one.\")\n"
   ]
  },
  {
   "cell_type": "code",
   "execution_count": 63,
   "id": "9894b3a9-01a3-409e-aba0-ef9c68b7891e",
   "metadata": {},
   "outputs": [
    {
     "data": {
      "image/png": "[encoded data removed]",
      "text/plain": [
       "<Figure size 432x288 with 2 Axes>"
      ]
     },
     "metadata": {
      "needs_background": "light"
     },
     "output_type": "display_data"
    }
   ],
   "source": [
    "import seaborn as sns\n",
    "\n",
    "sns.heatmap(distances, annot=True, cmap='YlGnBu')\n",
    "plt.xlabel('Centroids from df_two')\n",
    "plt.ylabel('Centroids from df_one')\n",
    "plt.show()\n"
   ]
  },
  {
   "cell_type": "code",
   "execution_count": 64,
   "id": "4f3e210e-e74b-4772-91fa-c1e62e22e584",
   "metadata": {},
   "outputs": [
    {
     "name": "stdout",
     "output_type": "stream",
     "text": [
      "Cluster 0 in df_zero is most similar to Cluster 1 in df_one.\n",
      "Cluster 1 in df_zero is most similar to Cluster 0 in df_one.\n",
      "Cluster 2 in df_zero is most similar to Cluster 2 in df_one.\n"
     ]
    }
   ],
   "source": [
    "from scipy.spatial import distance\n",
    "\n",
    "# Get cluster centroids for df_zero (waterDepth = 0)\n",
    "centroids_0 = kmeans0.cluster_centers_\n",
    "\n",
    "# Get cluster centroids for df_one (waterDepth = 1)\n",
    "centroids_1 = kmeans6.cluster_centers_\n",
    "\n",
    "# Measure distances between centroids from different subsets\n",
    "distances = distance.cdist(centroids_0, centroids_1, 'euclidean')\n",
    "\n",
    "# Get the index of the closest cluster in df_one for each cluster in df_zero\n",
    "similar_clusters = distances.argmin(axis=1)\n",
    "\n",
    "# Print out the similar clusters\n",
    "for i, idx in enumerate(similar_clusters):\n",
    "    print(f\"Cluster {i} in df_zero is most similar to Cluster {idx} in df_one.\")\n"
   ]
  },
  {
   "cell_type": "code",
   "execution_count": 65,
   "id": "d9f8226d-a3cb-4baf-8b16-024383075a9b",
   "metadata": {},
   "outputs": [
    {
     "data": {
      "image/png": "[encoded data removed]",
      "text/plain": [
       "<Figure size 432x288 with 2 Axes>"
      ]
     },
     "metadata": {
      "needs_background": "light"
     },
     "output_type": "display_data"
    }
   ],
   "source": [
    "import seaborn as sns\n",
    "\n",
    "sns.heatmap(distances, annot=True, cmap='YlGnBu')\n",
    "plt.xlabel('Centroids from df_six')\n",
    "plt.ylabel('Centroids from df_zero')\n",
    "plt.show()\n"
   ]
  },
  {
   "cell_type": "code",
   "execution_count": 66,
   "id": "64670bcd-fa63-47d2-af10-42c24bf54c02",
   "metadata": {},
   "outputs": [
    {
     "name": "stdout",
     "output_type": "stream",
     "text": [
      "Cluster 0 in df_zero is most similar to Cluster 0 in df_one.\n",
      "Cluster 1 in df_zero is most similar to Cluster 2 in df_one.\n",
      "Cluster 2 in df_zero is most similar to Cluster 1 in df_one.\n"
     ]
    }
   ],
   "source": [
    "from scipy.spatial import distance\n",
    "\n",
    "# Get cluster centroids for df_zero (waterDepth = 0)\n",
    "centroids_0 = kmeans1.cluster_centers_\n",
    "\n",
    "# Get cluster centroids for df_one (waterDepth = 1)\n",
    "centroids_1 = kmeans6.cluster_centers_\n",
    "\n",
    "# Measure distances between centroids from different subsets\n",
    "distances = distance.cdist(centroids_0, centroids_1, 'euclidean')\n",
    "\n",
    "# Get the index of the closest cluster in df_one for each cluster in df_zero\n",
    "similar_clusters = distances.argmin(axis=1)\n",
    "\n",
    "# Print out the similar clusters\n",
    "for i, idx in enumerate(similar_clusters):\n",
    "    print(f\"Cluster {i} in df_zero is most similar to Cluster {idx} in df_one.\")\n"
   ]
  },
  {
   "cell_type": "code",
   "execution_count": 67,
   "id": "c8d3fe8d-2a98-441f-9ee8-6b8e2ae2807d",
   "metadata": {},
   "outputs": [
    {
     "data": {
      "image/png": "[encoded data removed]",
      "text/plain": [
       "<Figure size 432x288 with 2 Axes>"
      ]
     },
     "metadata": {
      "needs_background": "light"
     },
     "output_type": "display_data"
    }
   ],
   "source": [
    "import seaborn as sns\n",
    "\n",
    "sns.heatmap(distances, annot=True, cmap='YlGnBu')\n",
    "plt.xlabel('Centroids from df_six')\n",
    "plt.ylabel('Centroids from df_one')\n",
    "plt.show()\n"
   ]
  },
  {
   "cell_type": "code",
   "execution_count": 68,
   "id": "f8adf543-601b-4d4a-a0b1-ce3f4955282e",
   "metadata": {},
   "outputs": [
    {
     "name": "stderr",
     "output_type": "stream",
     "text": [
      "/tmp/ipykernel_453775/2377673685.py:8: UserWarning: You passed a edgecolor/edgecolors ('black') for an unfilled marker ('x').  Matplotlib is ignoring the edgecolor in favor of the facecolor.  This behavior may change in the future.\n",
      "  plt.scatter(centroids_0[:, 0], centroids_0[:, 1], marker='x', s=200, c='green', label='Centroids 0', edgecolors='black')\n",
      "/opt/conda/lib/python3.9/site-packages/IPython/core/pylabtools.py:151: UserWarning: Creating legend with loc=\"best\" can be slow with large amounts of data.\n",
      "  fig.canvas.print_figure(bytes_io, **kw)\n"
     ]
    },
    {
     "data": {
      "image/png": "[encoded data removed]",
      "text/plain": [
       "<Figure size 432x288 with 1 Axes>"
      ]
     },
     "metadata": {
      "needs_background": "light"
     },
     "output_type": "display_data"
    }
   ],
   "source": [
    "import matplotlib.pyplot as plt\n",
    "\n",
    "# Standardize and plot df_zero first\n",
    "X_zero = df_zero[['proportionLeqOne', 'relativeDamage', 'elevationDifferenceImp']]\n",
    "X_zero_scaled = scaler.fit_transform(X_zero)\n",
    "\n",
    "plt.scatter(X_zero_scaled[:, 0], X_zero_scaled[:, 1], c=kmeans0.labels_, cmap='viridis', alpha=0.5)\n",
    "plt.scatter(centroids_0[:, 0], centroids_0[:, 1], marker='x', s=200, c='green', label='Centroids 0', edgecolors='black')\n",
    "\n",
    "# Standardize and plot df_one\n",
    "X_one = df_one[['proportionLeqOne', 'relativeDamage', 'elevationDifferenceImp']]\n",
    "X_one_scaled = scaler.fit_transform(X_one)\n",
    "\n",
    "plt.scatter(X_one_scaled[:, 0], X_one_scaled[:, 1], c=kmeans1.labels_, cmap='plasma', alpha=0.5)\n",
    "plt.scatter(centroids_1[:, 0], centroids_1[:, 1], marker='o', s=200, c='blue', label='Centroids 1', edgecolors='black')\n",
    "\n",
    "plt.legend()\n",
    "plt.show()\n"
   ]
  },
  {
   "cell_type": "code",
   "execution_count": null,
   "id": "87abfaeb-c3a5-432d-aab4-8f5d88751a1f",
   "metadata": {},
   "outputs": [],
   "source": []
  }
 ],
 "metadata": {
  "kernelspec": {
   "display_name": "Python 3 (ipykernel)",
   "language": "python",
   "name": "python3"
  },
  "language_info": {
   "codemirror_mode": {
    "name": "ipython",
    "version": 3
   },
   "file_extension": ".py",
   "mimetype": "text/x-python",
   "name": "python",
   "nbconvert_exporter": "python",
   "pygments_lexer": "ipython3",
   "version": "3.9.12"
  }
 },
 "nbformat": 4,
 "nbformat_minor": 5
}
