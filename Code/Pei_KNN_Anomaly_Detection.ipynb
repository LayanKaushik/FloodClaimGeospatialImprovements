{
 "cells": [
  {
   "cell_type": "code",
   "execution_count": 4,
   "id": "27b9d8ea",
   "metadata": {
    "tags": []
   },
   "outputs": [],
   "source": [
    "import pandas as pd\n",
    "import numpy as np\n",
    "import matplotlib.pyplot as plt\n",
    "import pyarrow as pa\n",
    "import pyarrow.parquet as pq\n",
    "import geopandas as gpd\n",
    "import seaborn as sns\n",
    "import datetime as dt\n",
    "from sklearn.cluster import KMeans\n",
    "import pandas as pd\n",
    "import matplotlib.pyplot as plt\n",
    "import matplotlib.ticker as mtick\n",
    "import numpy as np\n",
    "from scipy import stats\n",
    "pd.set_option('display.max_columns', None)"
   ]
  },
  {
   "cell_type": "code",
   "execution_count": 5,
   "id": "3ff0ce7a",
   "metadata": {
    "tags": []
   },
   "outputs": [],
   "source": [
    "df = pd.read_parquet('C:/Users/Asus/Box/Flood Damage PredictionProject/Dataset/FemaDataWithWaterDepthStatistics2.parquet.gzip')"
   ]
  },
  {
   "cell_type": "code",
   "execution_count": 6,
   "id": "3bac3f20",
   "metadata": {
    "tags": []
   },
   "outputs": [
    {
     "data": {
      "text/plain": [
       "Index(['Unnamed: 0', 'agricultureStructureIndicator', 'asOfDate',\n",
       "       'basementEnclosureCrawlspaceType', 'policyCount',\n",
       "       'crsClassificationCode', 'dateOfLoss', 'elevatedBuildingIndicator',\n",
       "       'elevationCertificateIndicator', 'elevationDifference_x',\n",
       "       'baseFloodElevation', 'ratedFloodZone', 'houseWorship',\n",
       "       'locationOfContents', 'lowestAdjacentGrade', 'lowestFloorElevation',\n",
       "       'numberOfFloorsInTheInsuredBuilding', 'nonProfitIndicator',\n",
       "       'obstructionType', 'occupancyType', 'originalConstructionDate',\n",
       "       'originalNBDate', 'amountPaidOnBuildingClaim',\n",
       "       'amountPaidOnContentsClaim',\n",
       "       'amountPaidOnIncreasedCostOfComplianceClaim',\n",
       "       'postFIRMConstructionIndicator', 'rateMethod',\n",
       "       'smallBusinessIndicatorBuilding', 'totalBuildingInsuranceCoverage',\n",
       "       'totalContentsInsuranceCoverage', 'yearOfLoss',\n",
       "       'primaryResidenceIndicator', 'buildingDamageAmount',\n",
       "       'buildingDeductibleCode', 'netBuildingPaymentAmount',\n",
       "       'buildingPropertyValue', 'causeOfDamage', 'condominiumCoverageTypeCode',\n",
       "       'contentsDamageAmount', 'contentsDeductibleCode',\n",
       "       'netContentsPaymentAmount', 'contentsPropertyValue',\n",
       "       'disasterAssistanceCoverageRequired', 'eventDesignationNumber',\n",
       "       'ficoNumber', 'floodCharacteristicsIndicator', 'floodWaterDuration',\n",
       "       'floodproofedIndicator', 'floodEvent', 'iccCoverage',\n",
       "       'netIccPaymentAmount', 'nfipRatedCommunityNumber',\n",
       "       'nfipCommunityNumberCurrent', 'nfipCommunityName',\n",
       "       'nonPaymentReasonContents', 'nonPaymentReasonBuilding', 'numberOfUnits',\n",
       "       'buildingReplacementCost', 'contentsReplacementCost',\n",
       "       'replacementCostBasis', 'stateOwnedIndicator', 'waterDepth',\n",
       "       'floodZoneCurrent', 'buildingDescriptionCode',\n",
       "       'rentalPropertyIndicator', 'state', 'reportedCity', 'reportedZipCode',\n",
       "       'countyCode', 'censusTract', 'censusBlockGroupFips', 'latitude',\n",
       "       'longitude', 'id', 'proportionLeqOne', 'proportionLeqTwo',\n",
       "       'proportionLeqThree', 'proportionLeqFour', 'proportionLeqFive',\n",
       "       'proportionLeqSix', 'medWaterDepth', 'p25WaterDepth', 'p75WaterDepth',\n",
       "       'p90WaterDepth', 'diffMedWaterDepth', 'diff90WaterDepth',\n",
       "       'elevationDifference_y', 'avElevation', 'elevationDifferenceImp',\n",
       "       'elevationDifference_category', 'relativeDamage'],\n",
       "      dtype='object')"
      ]
     },
     "execution_count": 6,
     "metadata": {},
     "output_type": "execute_result"
    }
   ],
   "source": [
    "df.columns"
   ]
  },
  {
   "cell_type": "code",
   "execution_count": 7,
   "id": "fb8f1157",
   "metadata": {
    "tags": []
   },
   "outputs": [],
   "source": [
    "#get rid of NaNs for proportionLeqOne\n",
    "df = df[~df['proportionLeqOne'].isna()]\n"
   ]
  },
  {
   "cell_type": "markdown",
   "id": "35d98000",
   "metadata": {},
   "source": [
    "# Variables related to water depth: proportionLeqOne, relativeDamage, elevationDifference"
   ]
  },
  {
   "cell_type": "code",
   "execution_count": 8,
   "id": "6a513f31",
   "metadata": {
    "tags": []
   },
   "outputs": [],
   "source": [
    "df_six = df[df['waterDepth'] == 6]\n",
    "\n"
   ]
  },
  {
   "cell_type": "code",
   "execution_count": 36,
   "id": "19167542",
   "metadata": {},
   "outputs": [
    {
     "data": {
      "text/html": [
       "<style>#sk-container-id-2 {color: black;background-color: white;}#sk-container-id-2 pre{padding: 0;}#sk-container-id-2 div.sk-toggleable {background-color: white;}#sk-container-id-2 label.sk-toggleable__label {cursor: pointer;display: block;width: 100%;margin-bottom: 0;padding: 0.3em;box-sizing: border-box;text-align: center;}#sk-container-id-2 label.sk-toggleable__label-arrow:before {content: \"▸\";float: left;margin-right: 0.25em;color: #696969;}#sk-container-id-2 label.sk-toggleable__label-arrow:hover:before {color: black;}#sk-container-id-2 div.sk-estimator:hover label.sk-toggleable__label-arrow:before {color: black;}#sk-container-id-2 div.sk-toggleable__content {max-height: 0;max-width: 0;overflow: hidden;text-align: left;background-color: #f0f8ff;}#sk-container-id-2 div.sk-toggleable__content pre {margin: 0.2em;color: black;border-radius: 0.25em;background-color: #f0f8ff;}#sk-container-id-2 input.sk-toggleable__control:checked~div.sk-toggleable__content {max-height: 200px;max-width: 100%;overflow: auto;}#sk-container-id-2 input.sk-toggleable__control:checked~label.sk-toggleable__label-arrow:before {content: \"▾\";}#sk-container-id-2 div.sk-estimator input.sk-toggleable__control:checked~label.sk-toggleable__label {background-color: #d4ebff;}#sk-container-id-2 div.sk-label input.sk-toggleable__control:checked~label.sk-toggleable__label {background-color: #d4ebff;}#sk-container-id-2 input.sk-hidden--visually {border: 0;clip: rect(1px 1px 1px 1px);clip: rect(1px, 1px, 1px, 1px);height: 1px;margin: -1px;overflow: hidden;padding: 0;position: absolute;width: 1px;}#sk-container-id-2 div.sk-estimator {font-family: monospace;background-color: #f0f8ff;border: 1px dotted black;border-radius: 0.25em;box-sizing: border-box;margin-bottom: 0.5em;}#sk-container-id-2 div.sk-estimator:hover {background-color: #d4ebff;}#sk-container-id-2 div.sk-parallel-item::after {content: \"\";width: 100%;border-bottom: 1px solid gray;flex-grow: 1;}#sk-container-id-2 div.sk-label:hover label.sk-toggleable__label {background-color: #d4ebff;}#sk-container-id-2 div.sk-serial::before {content: \"\";position: absolute;border-left: 1px solid gray;box-sizing: border-box;top: 0;bottom: 0;left: 50%;z-index: 0;}#sk-container-id-2 div.sk-serial {display: flex;flex-direction: column;align-items: center;background-color: white;padding-right: 0.2em;padding-left: 0.2em;position: relative;}#sk-container-id-2 div.sk-item {position: relative;z-index: 1;}#sk-container-id-2 div.sk-parallel {display: flex;align-items: stretch;justify-content: center;background-color: white;position: relative;}#sk-container-id-2 div.sk-item::before, #sk-container-id-2 div.sk-parallel-item::before {content: \"\";position: absolute;border-left: 1px solid gray;box-sizing: border-box;top: 0;bottom: 0;left: 50%;z-index: -1;}#sk-container-id-2 div.sk-parallel-item {display: flex;flex-direction: column;z-index: 1;position: relative;background-color: white;}#sk-container-id-2 div.sk-parallel-item:first-child::after {align-self: flex-end;width: 50%;}#sk-container-id-2 div.sk-parallel-item:last-child::after {align-self: flex-start;width: 50%;}#sk-container-id-2 div.sk-parallel-item:only-child::after {width: 0;}#sk-container-id-2 div.sk-dashed-wrapped {border: 1px dashed gray;margin: 0 0.4em 0.5em 0.4em;box-sizing: border-box;padding-bottom: 0.4em;background-color: white;}#sk-container-id-2 div.sk-label label {font-family: monospace;font-weight: bold;display: inline-block;line-height: 1.2em;}#sk-container-id-2 div.sk-label-container {text-align: center;}#sk-container-id-2 div.sk-container {/* jupyter's `normalize.less` sets `[hidden] { display: none; }` but bootstrap.min.css set `[hidden] { display: none !important; }` so we also need the `!important` here to be able to override the default hidden behavior on the sphinx rendered scikit-learn.org. See: https://github.com/scikit-learn/scikit-learn/issues/21755 */display: inline-block !important;position: relative;}#sk-container-id-2 div.sk-text-repr-fallback {display: none;}</style><div id=\"sk-container-id-2\" class=\"sk-top-container\"><div class=\"sk-text-repr-fallback\"><pre>KMeans(n_clusters=2, random_state=42)</pre><b>In a Jupyter environment, please rerun this cell to show the HTML representation or trust the notebook. <br />On GitHub, the HTML representation is unable to render, please try loading this page with nbviewer.org.</b></div><div class=\"sk-container\" hidden><div class=\"sk-item\"><div class=\"sk-estimator sk-toggleable\"><input class=\"sk-toggleable__control sk-hidden--visually\" id=\"sk-estimator-id-2\" type=\"checkbox\" checked><label for=\"sk-estimator-id-2\" class=\"sk-toggleable__label sk-toggleable__label-arrow\">KMeans</label><div class=\"sk-toggleable__content\"><pre>KMeans(n_clusters=2, random_state=42)</pre></div></div></div></div></div>"
      ],
      "text/plain": [
       "KMeans(n_clusters=2, random_state=42)"
      ]
     },
     "execution_count": 36,
     "metadata": {},
     "output_type": "execute_result"
    }
   ],
   "source": [
    "kmeans = KMeans(n_clusters = 2, random_state = 42)\n",
    "X = df_six[['proportionLeqOne', 'relativeDamage']]\n",
    "# Compute means and standard deviations for each column\n",
    "means = np.mean(X, axis=0)\n",
    "std_devs = np.std(X, axis=0)\n",
    "\n",
    "# Standardize\n",
    "X = (X - means) / std_devs\n",
    "kmeans.fit(X)"
   ]
  },
  {
   "cell_type": "code",
   "execution_count": 37,
   "id": "0ea14b0f",
   "metadata": {},
   "outputs": [],
   "source": [
    "# Get boolean masks for each cluster\n",
    "mask_cluster_one = kmeans.labels_ == 0\n",
    "mask_cluster_two = kmeans.labels_ == 1\n",
    "\n",
    "cluster_one = df_six[mask_cluster_one]\n",
    "cluster_two = df_six[mask_cluster_two]"
   ]
  },
  {
   "cell_type": "code",
   "execution_count": 38,
   "id": "d4835052",
   "metadata": {},
   "outputs": [
    {
     "data": {
      "text/plain": [
       "0.8615553653876771"
      ]
     },
     "execution_count": 38,
     "metadata": {},
     "output_type": "execute_result"
    }
   ],
   "source": [
    "cluster_one['relativeDamage'].median()"
   ]
  },
  {
   "cell_type": "code",
   "execution_count": 39,
   "id": "056f6067",
   "metadata": {},
   "outputs": [
    {
     "data": {
      "text/plain": [
       "0.3480618918487797"
      ]
     },
     "execution_count": 39,
     "metadata": {},
     "output_type": "execute_result"
    }
   ],
   "source": [
    "len(cluster_one) / (len(X))"
   ]
  },
  {
   "cell_type": "code",
   "execution_count": 40,
   "id": "e0a2f02a",
   "metadata": {},
   "outputs": [
    {
     "data": {
      "text/plain": [
       "0.6519381081512203"
      ]
     },
     "execution_count": 40,
     "metadata": {},
     "output_type": "execute_result"
    }
   ],
   "source": [
    "len(cluster_two) / (len(X))"
   ]
  },
  {
   "cell_type": "code",
   "execution_count": 41,
   "id": "0677880d",
   "metadata": {},
   "outputs": [
    {
     "data": {
      "text/plain": [
       "0.10996550756557705"
      ]
     },
     "execution_count": 41,
     "metadata": {},
     "output_type": "execute_result"
    }
   ],
   "source": [
    "cluster_two['relativeDamage'].median()"
   ]
  },
  {
   "cell_type": "code",
   "execution_count": 42,
   "id": "176dd4d4",
   "metadata": {},
   "outputs": [
    {
     "data": {
      "text/plain": [
       "0.26565696712782594"
      ]
     },
     "execution_count": 42,
     "metadata": {},
     "output_type": "execute_result"
    }
   ],
   "source": [
    "df_six['relativeDamage'].median()"
   ]
  },
  {
   "cell_type": "code",
   "execution_count": 43,
   "id": "af007c0b",
   "metadata": {},
   "outputs": [],
   "source": [
    "df_zero_and_one = df[(df['waterDepth'] == 0) | (df['waterDepth'] == 1)]\n",
    "X_2 = df_zero_and_one[['proportionLeqOne', 'relativeDamage']]\n",
    "new_labels = kmeans.predict(X_2)"
   ]
  },
  {
   "cell_type": "code",
   "execution_count": 44,
   "id": "1fbe7739",
   "metadata": {},
   "outputs": [
    {
     "data": {
      "text/plain": [
       "906358"
      ]
     },
     "execution_count": 44,
     "metadata": {},
     "output_type": "execute_result"
    }
   ],
   "source": [
    "sum(new_labels)"
   ]
  },
  {
   "cell_type": "code",
   "execution_count": 45,
   "id": "0ee21a2c",
   "metadata": {},
   "outputs": [
    {
     "data": {
      "text/plain": [
       "974334"
      ]
     },
     "execution_count": 45,
     "metadata": {},
     "output_type": "execute_result"
    }
   ],
   "source": [
    "len(df_zero_and_one)"
   ]
  },
  {
   "cell_type": "code",
   "execution_count": 46,
   "id": "afd6c7fc",
   "metadata": {},
   "outputs": [
    {
     "data": {
      "text/plain": [
       "13092"
      ]
     },
     "execution_count": 46,
     "metadata": {},
     "output_type": "execute_result"
    }
   ],
   "source": [
    "len(cluster_one)"
   ]
  },
  {
   "cell_type": "code",
   "execution_count": 47,
   "id": "8462c3c3",
   "metadata": {},
   "outputs": [
    {
     "data": {
      "text/plain": [
       "0.9302333696658436"
      ]
     },
     "execution_count": 47,
     "metadata": {},
     "output_type": "execute_result"
    }
   ],
   "source": [
    "906358 / 974334"
   ]
  },
  {
   "cell_type": "markdown",
   "id": "0886d6b8",
   "metadata": {},
   "source": [
    "# Three Variables"
   ]
  },
  {
   "cell_type": "code",
   "execution_count": 81,
   "id": "e1c7af9b",
   "metadata": {},
   "outputs": [
    {
     "data": {
      "text/html": [
       "<style>#sk-container-id-4 {color: black;background-color: white;}#sk-container-id-4 pre{padding: 0;}#sk-container-id-4 div.sk-toggleable {background-color: white;}#sk-container-id-4 label.sk-toggleable__label {cursor: pointer;display: block;width: 100%;margin-bottom: 0;padding: 0.3em;box-sizing: border-box;text-align: center;}#sk-container-id-4 label.sk-toggleable__label-arrow:before {content: \"▸\";float: left;margin-right: 0.25em;color: #696969;}#sk-container-id-4 label.sk-toggleable__label-arrow:hover:before {color: black;}#sk-container-id-4 div.sk-estimator:hover label.sk-toggleable__label-arrow:before {color: black;}#sk-container-id-4 div.sk-toggleable__content {max-height: 0;max-width: 0;overflow: hidden;text-align: left;background-color: #f0f8ff;}#sk-container-id-4 div.sk-toggleable__content pre {margin: 0.2em;color: black;border-radius: 0.25em;background-color: #f0f8ff;}#sk-container-id-4 input.sk-toggleable__control:checked~div.sk-toggleable__content {max-height: 200px;max-width: 100%;overflow: auto;}#sk-container-id-4 input.sk-toggleable__control:checked~label.sk-toggleable__label-arrow:before {content: \"▾\";}#sk-container-id-4 div.sk-estimator input.sk-toggleable__control:checked~label.sk-toggleable__label {background-color: #d4ebff;}#sk-container-id-4 div.sk-label input.sk-toggleable__control:checked~label.sk-toggleable__label {background-color: #d4ebff;}#sk-container-id-4 input.sk-hidden--visually {border: 0;clip: rect(1px 1px 1px 1px);clip: rect(1px, 1px, 1px, 1px);height: 1px;margin: -1px;overflow: hidden;padding: 0;position: absolute;width: 1px;}#sk-container-id-4 div.sk-estimator {font-family: monospace;background-color: #f0f8ff;border: 1px dotted black;border-radius: 0.25em;box-sizing: border-box;margin-bottom: 0.5em;}#sk-container-id-4 div.sk-estimator:hover {background-color: #d4ebff;}#sk-container-id-4 div.sk-parallel-item::after {content: \"\";width: 100%;border-bottom: 1px solid gray;flex-grow: 1;}#sk-container-id-4 div.sk-label:hover label.sk-toggleable__label {background-color: #d4ebff;}#sk-container-id-4 div.sk-serial::before {content: \"\";position: absolute;border-left: 1px solid gray;box-sizing: border-box;top: 0;bottom: 0;left: 50%;z-index: 0;}#sk-container-id-4 div.sk-serial {display: flex;flex-direction: column;align-items: center;background-color: white;padding-right: 0.2em;padding-left: 0.2em;position: relative;}#sk-container-id-4 div.sk-item {position: relative;z-index: 1;}#sk-container-id-4 div.sk-parallel {display: flex;align-items: stretch;justify-content: center;background-color: white;position: relative;}#sk-container-id-4 div.sk-item::before, #sk-container-id-4 div.sk-parallel-item::before {content: \"\";position: absolute;border-left: 1px solid gray;box-sizing: border-box;top: 0;bottom: 0;left: 50%;z-index: -1;}#sk-container-id-4 div.sk-parallel-item {display: flex;flex-direction: column;z-index: 1;position: relative;background-color: white;}#sk-container-id-4 div.sk-parallel-item:first-child::after {align-self: flex-end;width: 50%;}#sk-container-id-4 div.sk-parallel-item:last-child::after {align-self: flex-start;width: 50%;}#sk-container-id-4 div.sk-parallel-item:only-child::after {width: 0;}#sk-container-id-4 div.sk-dashed-wrapped {border: 1px dashed gray;margin: 0 0.4em 0.5em 0.4em;box-sizing: border-box;padding-bottom: 0.4em;background-color: white;}#sk-container-id-4 div.sk-label label {font-family: monospace;font-weight: bold;display: inline-block;line-height: 1.2em;}#sk-container-id-4 div.sk-label-container {text-align: center;}#sk-container-id-4 div.sk-container {/* jupyter's `normalize.less` sets `[hidden] { display: none; }` but bootstrap.min.css set `[hidden] { display: none !important; }` so we also need the `!important` here to be able to override the default hidden behavior on the sphinx rendered scikit-learn.org. See: https://github.com/scikit-learn/scikit-learn/issues/21755 */display: inline-block !important;position: relative;}#sk-container-id-4 div.sk-text-repr-fallback {display: none;}</style><div id=\"sk-container-id-4\" class=\"sk-top-container\"><div class=\"sk-text-repr-fallback\"><pre>KMeans(n_clusters=2, random_state=42)</pre><b>In a Jupyter environment, please rerun this cell to show the HTML representation or trust the notebook. <br />On GitHub, the HTML representation is unable to render, please try loading this page with nbviewer.org.</b></div><div class=\"sk-container\" hidden><div class=\"sk-item\"><div class=\"sk-estimator sk-toggleable\"><input class=\"sk-toggleable__control sk-hidden--visually\" id=\"sk-estimator-id-4\" type=\"checkbox\" checked><label for=\"sk-estimator-id-4\" class=\"sk-toggleable__label sk-toggleable__label-arrow\">KMeans</label><div class=\"sk-toggleable__content\"><pre>KMeans(n_clusters=2, random_state=42)</pre></div></div></div></div></div>"
      ],
      "text/plain": [
       "KMeans(n_clusters=2, random_state=42)"
      ]
     },
     "execution_count": 81,
     "metadata": {},
     "output_type": "execute_result"
    }
   ],
   "source": [
    "kmeans = KMeans(n_clusters = 2, random_state = 42)\n",
    "X = df_six[['proportionLeqOne', 'relativeDamage', 'elevationDifferenceImp']]\n",
    "# Compute means and standard deviations for each column\n",
    "means = np.mean(X, axis=0)\n",
    "std_devs = np.std(X, axis=0)\n",
    "\n",
    "# Standardize\n",
    "X = (X - means) / std_devs\n",
    "kmeans.fit(X)"
   ]
  },
  {
   "cell_type": "code",
   "execution_count": 83,
   "id": "a43da5af",
   "metadata": {},
   "outputs": [],
   "source": [
    "# Get boolean masks for each cluster\n",
    "mask_cluster_one = kmeans.labels_ == 0\n",
    "mask_cluster_two = kmeans.labels_ == 1\n",
    "\n",
    "cluster_one = df_six[mask_cluster_one]\n",
    "cluster_two = df_six[mask_cluster_two]"
   ]
  },
  {
   "cell_type": "code",
   "execution_count": 84,
   "id": "21e527f6",
   "metadata": {},
   "outputs": [
    {
     "data": {
      "text/plain": [
       "0.1100451127819548"
      ]
     },
     "execution_count": 84,
     "metadata": {},
     "output_type": "execute_result"
    }
   ],
   "source": [
    "cluster_one['relativeDamage'].median()"
   ]
  },
  {
   "cell_type": "code",
   "execution_count": 85,
   "id": "ea0dc079",
   "metadata": {},
   "outputs": [
    {
     "data": {
      "text/plain": [
       "0.8618181818181818"
      ]
     },
     "execution_count": 85,
     "metadata": {},
     "output_type": "execute_result"
    }
   ],
   "source": [
    "cluster_two['relativeDamage'].median()"
   ]
  },
  {
   "cell_type": "code",
   "execution_count": 86,
   "id": "3976eb54",
   "metadata": {},
   "outputs": [
    {
     "data": {
      "text/plain": [
       "0.26565696712782594"
      ]
     },
     "execution_count": 86,
     "metadata": {},
     "output_type": "execute_result"
    }
   ],
   "source": [
    "df_six['relativeDamage'].median()"
   ]
  },
  {
   "cell_type": "code",
   "execution_count": 89,
   "id": "379b11b2",
   "metadata": {},
   "outputs": [],
   "source": [
    "df_zero_and_one = df[(df['waterDepth'] == 0) | (df['waterDepth'] == 1)]\n",
    "X_2 = df_zero_and_one[['proportionLeqOne', 'relativeDamage', 'elevationDifferenceImp']]\n",
    "new_labels = kmeans.predict(X_2)"
   ]
  },
  {
   "cell_type": "code",
   "execution_count": 90,
   "id": "e2d77d36",
   "metadata": {},
   "outputs": [
    {
     "data": {
      "text/plain": [
       "93971"
      ]
     },
     "execution_count": 90,
     "metadata": {},
     "output_type": "execute_result"
    }
   ],
   "source": [
    "sum(new_labels)"
   ]
  },
  {
   "cell_type": "code",
   "execution_count": 91,
   "id": "68ecf68b",
   "metadata": {},
   "outputs": [
    {
     "data": {
      "text/plain": [
       "974334"
      ]
     },
     "execution_count": 91,
     "metadata": {},
     "output_type": "execute_result"
    }
   ],
   "source": [
    "len(df_zero_and_one)"
   ]
  },
  {
   "cell_type": "code",
   "execution_count": 92,
   "id": "bb80c92c",
   "metadata": {},
   "outputs": [
    {
     "data": {
      "text/plain": [
       "24533"
      ]
     },
     "execution_count": 92,
     "metadata": {},
     "output_type": "execute_result"
    }
   ],
   "source": [
    "len(cluster_one)"
   ]
  },
  {
   "cell_type": "code",
   "execution_count": 93,
   "id": "d05845b1",
   "metadata": {},
   "outputs": [
    {
     "data": {
      "text/plain": [
       "37614"
      ]
     },
     "execution_count": 93,
     "metadata": {},
     "output_type": "execute_result"
    }
   ],
   "source": [
    "len(df_six)"
   ]
  },
  {
   "cell_type": "markdown",
   "id": "b5196494",
   "metadata": {},
   "source": [
    "# Three Variables and Three Clusters"
   ]
  },
  {
   "cell_type": "code",
   "execution_count": 94,
   "id": "f493c086",
   "metadata": {},
   "outputs": [
    {
     "data": {
      "text/html": [
       "<style>#sk-container-id-5 {color: black;background-color: white;}#sk-container-id-5 pre{padding: 0;}#sk-container-id-5 div.sk-toggleable {background-color: white;}#sk-container-id-5 label.sk-toggleable__label {cursor: pointer;display: block;width: 100%;margin-bottom: 0;padding: 0.3em;box-sizing: border-box;text-align: center;}#sk-container-id-5 label.sk-toggleable__label-arrow:before {content: \"▸\";float: left;margin-right: 0.25em;color: #696969;}#sk-container-id-5 label.sk-toggleable__label-arrow:hover:before {color: black;}#sk-container-id-5 div.sk-estimator:hover label.sk-toggleable__label-arrow:before {color: black;}#sk-container-id-5 div.sk-toggleable__content {max-height: 0;max-width: 0;overflow: hidden;text-align: left;background-color: #f0f8ff;}#sk-container-id-5 div.sk-toggleable__content pre {margin: 0.2em;color: black;border-radius: 0.25em;background-color: #f0f8ff;}#sk-container-id-5 input.sk-toggleable__control:checked~div.sk-toggleable__content {max-height: 200px;max-width: 100%;overflow: auto;}#sk-container-id-5 input.sk-toggleable__control:checked~label.sk-toggleable__label-arrow:before {content: \"▾\";}#sk-container-id-5 div.sk-estimator input.sk-toggleable__control:checked~label.sk-toggleable__label {background-color: #d4ebff;}#sk-container-id-5 div.sk-label input.sk-toggleable__control:checked~label.sk-toggleable__label {background-color: #d4ebff;}#sk-container-id-5 input.sk-hidden--visually {border: 0;clip: rect(1px 1px 1px 1px);clip: rect(1px, 1px, 1px, 1px);height: 1px;margin: -1px;overflow: hidden;padding: 0;position: absolute;width: 1px;}#sk-container-id-5 div.sk-estimator {font-family: monospace;background-color: #f0f8ff;border: 1px dotted black;border-radius: 0.25em;box-sizing: border-box;margin-bottom: 0.5em;}#sk-container-id-5 div.sk-estimator:hover {background-color: #d4ebff;}#sk-container-id-5 div.sk-parallel-item::after {content: \"\";width: 100%;border-bottom: 1px solid gray;flex-grow: 1;}#sk-container-id-5 div.sk-label:hover label.sk-toggleable__label {background-color: #d4ebff;}#sk-container-id-5 div.sk-serial::before {content: \"\";position: absolute;border-left: 1px solid gray;box-sizing: border-box;top: 0;bottom: 0;left: 50%;z-index: 0;}#sk-container-id-5 div.sk-serial {display: flex;flex-direction: column;align-items: center;background-color: white;padding-right: 0.2em;padding-left: 0.2em;position: relative;}#sk-container-id-5 div.sk-item {position: relative;z-index: 1;}#sk-container-id-5 div.sk-parallel {display: flex;align-items: stretch;justify-content: center;background-color: white;position: relative;}#sk-container-id-5 div.sk-item::before, #sk-container-id-5 div.sk-parallel-item::before {content: \"\";position: absolute;border-left: 1px solid gray;box-sizing: border-box;top: 0;bottom: 0;left: 50%;z-index: -1;}#sk-container-id-5 div.sk-parallel-item {display: flex;flex-direction: column;z-index: 1;position: relative;background-color: white;}#sk-container-id-5 div.sk-parallel-item:first-child::after {align-self: flex-end;width: 50%;}#sk-container-id-5 div.sk-parallel-item:last-child::after {align-self: flex-start;width: 50%;}#sk-container-id-5 div.sk-parallel-item:only-child::after {width: 0;}#sk-container-id-5 div.sk-dashed-wrapped {border: 1px dashed gray;margin: 0 0.4em 0.5em 0.4em;box-sizing: border-box;padding-bottom: 0.4em;background-color: white;}#sk-container-id-5 div.sk-label label {font-family: monospace;font-weight: bold;display: inline-block;line-height: 1.2em;}#sk-container-id-5 div.sk-label-container {text-align: center;}#sk-container-id-5 div.sk-container {/* jupyter's `normalize.less` sets `[hidden] { display: none; }` but bootstrap.min.css set `[hidden] { display: none !important; }` so we also need the `!important` here to be able to override the default hidden behavior on the sphinx rendered scikit-learn.org. See: https://github.com/scikit-learn/scikit-learn/issues/21755 */display: inline-block !important;position: relative;}#sk-container-id-5 div.sk-text-repr-fallback {display: none;}</style><div id=\"sk-container-id-5\" class=\"sk-top-container\"><div class=\"sk-text-repr-fallback\"><pre>KMeans(n_clusters=3, random_state=42)</pre><b>In a Jupyter environment, please rerun this cell to show the HTML representation or trust the notebook. <br />On GitHub, the HTML representation is unable to render, please try loading this page with nbviewer.org.</b></div><div class=\"sk-container\" hidden><div class=\"sk-item\"><div class=\"sk-estimator sk-toggleable\"><input class=\"sk-toggleable__control sk-hidden--visually\" id=\"sk-estimator-id-5\" type=\"checkbox\" checked><label for=\"sk-estimator-id-5\" class=\"sk-toggleable__label sk-toggleable__label-arrow\">KMeans</label><div class=\"sk-toggleable__content\"><pre>KMeans(n_clusters=3, random_state=42)</pre></div></div></div></div></div>"
      ],
      "text/plain": [
       "KMeans(n_clusters=3, random_state=42)"
      ]
     },
     "execution_count": 94,
     "metadata": {},
     "output_type": "execute_result"
    }
   ],
   "source": [
    "kmeans = KMeans(n_clusters = 3, random_state = 42)\n",
    "X = df_six[['proportionLeqOne', 'relativeDamage', 'elevationDifferenceImp', 'buildingDamageAmount', 'proportionLeqSix']]\n",
    "# Compute means and standard deviations for each column\n",
    "means = np.mean(X, axis=0)\n",
    "std_devs = np.std(X, axis=0)\n",
    "\n",
    "# Standardize\n",
    "X = (X - means) / std_devs\n",
    "kmeans.fit(X)"
   ]
  },
  {
   "cell_type": "code",
   "execution_count": 95,
   "id": "3c25b94d",
   "metadata": {},
   "outputs": [],
   "source": [
    "# Get boolean masks for each cluster\n",
    "mask_cluster_one = kmeans.labels_ == 0\n",
    "mask_cluster_two = kmeans.labels_ == 1\n",
    "mask_cluster_three = kmeans.labels_ == 2\n",
    "\n",
    "\n",
    "cluster_one = df_six[mask_cluster_one]\n",
    "cluster_two = df_six[mask_cluster_two]\n",
    "cluster_three = df_six[mask_cluster_three]"
   ]
  },
  {
   "cell_type": "code",
   "execution_count": 96,
   "id": "1b29b1cc",
   "metadata": {},
   "outputs": [
    {
     "data": {
      "text/plain": [
       "0.1091633574498177"
      ]
     },
     "execution_count": 96,
     "metadata": {},
     "output_type": "execute_result"
    }
   ],
   "source": [
    "cluster_one['relativeDamage'].median()"
   ]
  },
  {
   "cell_type": "code",
   "execution_count": 97,
   "id": "658108b0",
   "metadata": {},
   "outputs": [
    {
     "data": {
      "text/plain": [
       "0.8968304835935204"
      ]
     },
     "execution_count": 97,
     "metadata": {},
     "output_type": "execute_result"
    }
   ],
   "source": [
    "cluster_two['relativeDamage'].median()"
   ]
  },
  {
   "cell_type": "code",
   "execution_count": 98,
   "id": "4076c08a",
   "metadata": {},
   "outputs": [
    {
     "data": {
      "text/plain": [
       "0.1377024178943243"
      ]
     },
     "execution_count": 98,
     "metadata": {},
     "output_type": "execute_result"
    }
   ],
   "source": [
    "cluster_three['relativeDamage'].median()"
   ]
  },
  {
   "cell_type": "code",
   "execution_count": 99,
   "id": "29c3a540",
   "metadata": {},
   "outputs": [
    {
     "data": {
      "text/plain": [
       "0.26565696712782594"
      ]
     },
     "execution_count": 99,
     "metadata": {},
     "output_type": "execute_result"
    }
   ],
   "source": [
    "df_six['relativeDamage'].median()"
   ]
  },
  {
   "cell_type": "code",
   "execution_count": 100,
   "id": "d16a9414",
   "metadata": {},
   "outputs": [],
   "source": [
    "df_zero_and_one = df[(df['waterDepth'] == 0) | (df['waterDepth'] == 1)]\n",
    "X_2 = df_zero_and_one[['proportionLeqOne', 'relativeDamage', 'elevationDifferenceImp', 'buildingDamageAmount', 'proportionLeqSix']]\n",
    "new_labels = kmeans.predict(X_2)"
   ]
  },
  {
   "cell_type": "code",
   "execution_count": 107,
   "id": "db188151",
   "metadata": {},
   "outputs": [
    {
     "data": {
      "text/plain": [
       "81250"
      ]
     },
     "execution_count": 107,
     "metadata": {},
     "output_type": "execute_result"
    }
   ],
   "source": [
    "sum(new_labels == 0)"
   ]
  },
  {
   "cell_type": "code",
   "execution_count": 102,
   "id": "247312c6",
   "metadata": {},
   "outputs": [
    {
     "data": {
      "text/plain": [
       "35786"
      ]
     },
     "execution_count": 102,
     "metadata": {},
     "output_type": "execute_result"
    }
   ],
   "source": [
    "sum(new_labels == 1)"
   ]
  },
  {
   "cell_type": "code",
   "execution_count": 103,
   "id": "be29caea",
   "metadata": {},
   "outputs": [
    {
     "data": {
      "text/plain": [
       "857298"
      ]
     },
     "execution_count": 103,
     "metadata": {},
     "output_type": "execute_result"
    }
   ],
   "source": [
    "sum(new_labels == 2)"
   ]
  },
  {
   "cell_type": "code",
   "execution_count": 105,
   "id": "751d82f5",
   "metadata": {},
   "outputs": [
    {
     "data": {
      "text/plain": [
       "0.3611687137767852"
      ]
     },
     "execution_count": 105,
     "metadata": {},
     "output_type": "execute_result"
    }
   ],
   "source": [
    "len(cluster_three) / len(df_six)"
   ]
  },
  {
   "cell_type": "markdown",
   "id": "463c3f99",
   "metadata": {},
   "source": [
    "# Three Variables and Four Clusters"
   ]
  },
  {
   "cell_type": "code",
   "execution_count": 112,
   "id": "273e9a88",
   "metadata": {},
   "outputs": [
    {
     "data": {
      "text/html": [
       "<style>#sk-container-id-6 {color: black;background-color: white;}#sk-container-id-6 pre{padding: 0;}#sk-container-id-6 div.sk-toggleable {background-color: white;}#sk-container-id-6 label.sk-toggleable__label {cursor: pointer;display: block;width: 100%;margin-bottom: 0;padding: 0.3em;box-sizing: border-box;text-align: center;}#sk-container-id-6 label.sk-toggleable__label-arrow:before {content: \"▸\";float: left;margin-right: 0.25em;color: #696969;}#sk-container-id-6 label.sk-toggleable__label-arrow:hover:before {color: black;}#sk-container-id-6 div.sk-estimator:hover label.sk-toggleable__label-arrow:before {color: black;}#sk-container-id-6 div.sk-toggleable__content {max-height: 0;max-width: 0;overflow: hidden;text-align: left;background-color: #f0f8ff;}#sk-container-id-6 div.sk-toggleable__content pre {margin: 0.2em;color: black;border-radius: 0.25em;background-color: #f0f8ff;}#sk-container-id-6 input.sk-toggleable__control:checked~div.sk-toggleable__content {max-height: 200px;max-width: 100%;overflow: auto;}#sk-container-id-6 input.sk-toggleable__control:checked~label.sk-toggleable__label-arrow:before {content: \"▾\";}#sk-container-id-6 div.sk-estimator input.sk-toggleable__control:checked~label.sk-toggleable__label {background-color: #d4ebff;}#sk-container-id-6 div.sk-label input.sk-toggleable__control:checked~label.sk-toggleable__label {background-color: #d4ebff;}#sk-container-id-6 input.sk-hidden--visually {border: 0;clip: rect(1px 1px 1px 1px);clip: rect(1px, 1px, 1px, 1px);height: 1px;margin: -1px;overflow: hidden;padding: 0;position: absolute;width: 1px;}#sk-container-id-6 div.sk-estimator {font-family: monospace;background-color: #f0f8ff;border: 1px dotted black;border-radius: 0.25em;box-sizing: border-box;margin-bottom: 0.5em;}#sk-container-id-6 div.sk-estimator:hover {background-color: #d4ebff;}#sk-container-id-6 div.sk-parallel-item::after {content: \"\";width: 100%;border-bottom: 1px solid gray;flex-grow: 1;}#sk-container-id-6 div.sk-label:hover label.sk-toggleable__label {background-color: #d4ebff;}#sk-container-id-6 div.sk-serial::before {content: \"\";position: absolute;border-left: 1px solid gray;box-sizing: border-box;top: 0;bottom: 0;left: 50%;z-index: 0;}#sk-container-id-6 div.sk-serial {display: flex;flex-direction: column;align-items: center;background-color: white;padding-right: 0.2em;padding-left: 0.2em;position: relative;}#sk-container-id-6 div.sk-item {position: relative;z-index: 1;}#sk-container-id-6 div.sk-parallel {display: flex;align-items: stretch;justify-content: center;background-color: white;position: relative;}#sk-container-id-6 div.sk-item::before, #sk-container-id-6 div.sk-parallel-item::before {content: \"\";position: absolute;border-left: 1px solid gray;box-sizing: border-box;top: 0;bottom: 0;left: 50%;z-index: -1;}#sk-container-id-6 div.sk-parallel-item {display: flex;flex-direction: column;z-index: 1;position: relative;background-color: white;}#sk-container-id-6 div.sk-parallel-item:first-child::after {align-self: flex-end;width: 50%;}#sk-container-id-6 div.sk-parallel-item:last-child::after {align-self: flex-start;width: 50%;}#sk-container-id-6 div.sk-parallel-item:only-child::after {width: 0;}#sk-container-id-6 div.sk-dashed-wrapped {border: 1px dashed gray;margin: 0 0.4em 0.5em 0.4em;box-sizing: border-box;padding-bottom: 0.4em;background-color: white;}#sk-container-id-6 div.sk-label label {font-family: monospace;font-weight: bold;display: inline-block;line-height: 1.2em;}#sk-container-id-6 div.sk-label-container {text-align: center;}#sk-container-id-6 div.sk-container {/* jupyter's `normalize.less` sets `[hidden] { display: none; }` but bootstrap.min.css set `[hidden] { display: none !important; }` so we also need the `!important` here to be able to override the default hidden behavior on the sphinx rendered scikit-learn.org. See: https://github.com/scikit-learn/scikit-learn/issues/21755 */display: inline-block !important;position: relative;}#sk-container-id-6 div.sk-text-repr-fallback {display: none;}</style><div id=\"sk-container-id-6\" class=\"sk-top-container\"><div class=\"sk-text-repr-fallback\"><pre>KMeans(n_clusters=4, random_state=42)</pre><b>In a Jupyter environment, please rerun this cell to show the HTML representation or trust the notebook. <br />On GitHub, the HTML representation is unable to render, please try loading this page with nbviewer.org.</b></div><div class=\"sk-container\" hidden><div class=\"sk-item\"><div class=\"sk-estimator sk-toggleable\"><input class=\"sk-toggleable__control sk-hidden--visually\" id=\"sk-estimator-id-6\" type=\"checkbox\" checked><label for=\"sk-estimator-id-6\" class=\"sk-toggleable__label sk-toggleable__label-arrow\">KMeans</label><div class=\"sk-toggleable__content\"><pre>KMeans(n_clusters=4, random_state=42)</pre></div></div></div></div></div>"
      ],
      "text/plain": [
       "KMeans(n_clusters=4, random_state=42)"
      ]
     },
     "execution_count": 112,
     "metadata": {},
     "output_type": "execute_result"
    }
   ],
   "source": [
    "kmeans = KMeans(n_clusters = 4, random_state = 42)\n",
    "X = df_six[['proportionLeqOne', 'relativeDamage', 'elevationDifferenceImp', 'buildingDamageAmount', 'proportionLeqSix']]\n",
    "# Compute means and standard deviations for each column\n",
    "means = np.mean(X, axis=0)\n",
    "std_devs = np.std(X, axis=0)\n",
    "\n",
    "# Standardize\n",
    "X = (X - means) / std_devs\n",
    "kmeans.fit(X)"
   ]
  },
  {
   "cell_type": "code",
   "execution_count": 113,
   "id": "6d1d6d2c",
   "metadata": {},
   "outputs": [],
   "source": [
    "# Get boolean masks for each cluster\n",
    "mask_cluster_one = kmeans.labels_ == 0\n",
    "mask_cluster_two = kmeans.labels_ == 1\n",
    "mask_cluster_three = kmeans.labels_ == 2\n",
    "mask_cluster_four = kmeans.labels_ == 3\n",
    "\n",
    "\n",
    "cluster_one = df_six[mask_cluster_one]\n",
    "cluster_two = df_six[mask_cluster_two]\n",
    "cluster_three = df_six[mask_cluster_three]\n",
    "cluster_four = df_six[mask_cluster_three]\n"
   ]
  },
  {
   "cell_type": "code",
   "execution_count": 114,
   "id": "8eab4894",
   "metadata": {},
   "outputs": [
    {
     "data": {
      "text/plain": [
       "0.9080107477000182"
      ]
     },
     "execution_count": 114,
     "metadata": {},
     "output_type": "execute_result"
    }
   ],
   "source": [
    "cluster_one['relativeDamage'].median()"
   ]
  },
  {
   "cell_type": "code",
   "execution_count": 115,
   "id": "94639d83",
   "metadata": {},
   "outputs": [
    {
     "data": {
      "text/plain": [
       "0.11583668925409556"
      ]
     },
     "execution_count": 115,
     "metadata": {},
     "output_type": "execute_result"
    }
   ],
   "source": [
    "cluster_two['relativeDamage'].median()"
   ]
  },
  {
   "cell_type": "code",
   "execution_count": 116,
   "id": "ef3ad261",
   "metadata": {},
   "outputs": [
    {
     "data": {
      "text/plain": [
       "0.14489720647980975"
      ]
     },
     "execution_count": 116,
     "metadata": {},
     "output_type": "execute_result"
    }
   ],
   "source": [
    "cluster_three['relativeDamage'].median()"
   ]
  },
  {
   "cell_type": "code",
   "execution_count": 117,
   "id": "2d313034",
   "metadata": {},
   "outputs": [
    {
     "data": {
      "text/plain": [
       "0.26565696712782594"
      ]
     },
     "execution_count": 117,
     "metadata": {},
     "output_type": "execute_result"
    }
   ],
   "source": [
    "df_six['relativeDamage'].median()"
   ]
  },
  {
   "cell_type": "code",
   "execution_count": 118,
   "id": "4becf41c",
   "metadata": {},
   "outputs": [],
   "source": [
    "df_zero_and_one = df[(df['waterDepth'] == 0) | (df['waterDepth'] == 1)]\n",
    "X_2 = df_zero_and_one[['proportionLeqOne', 'relativeDamage', 'elevationDifferenceImp']].sample(n=10000, random_state=42)\n",
    "new_labels = kmeans.predict(X_2)"
   ]
  },
  {
   "cell_type": "code",
   "execution_count": 119,
   "id": "cf83145b",
   "metadata": {},
   "outputs": [
    {
     "data": {
      "text/plain": [
       "2    8674\n",
       "3    1022\n",
       "0     303\n",
       "1       1\n",
       "dtype: int64"
      ]
     },
     "execution_count": 119,
     "metadata": {},
     "output_type": "execute_result"
    }
   ],
   "source": [
    "new_labels = pd.DataFrame(new_labels)\n",
    "new_labels.value_counts()"
   ]
  },
  {
   "cell_type": "code",
   "execution_count": 120,
   "id": "af0e0b09",
   "metadata": {},
   "outputs": [
    {
     "data": {
      "text/plain": [
       "0.3392885627691817"
      ]
     },
     "execution_count": 120,
     "metadata": {},
     "output_type": "execute_result"
    }
   ],
   "source": [
    "len(cluster_three) / len(df_six)"
   ]
  },
  {
   "cell_type": "markdown",
   "id": "042003f5",
   "metadata": {},
   "source": [
    "# Three Variables and Five Clusters"
   ]
  },
  {
   "cell_type": "code",
   "execution_count": 121,
   "id": "72dbfeb7",
   "metadata": {},
   "outputs": [
    {
     "data": {
      "text/html": [
       "<style>#sk-container-id-7 {color: black;background-color: white;}#sk-container-id-7 pre{padding: 0;}#sk-container-id-7 div.sk-toggleable {background-color: white;}#sk-container-id-7 label.sk-toggleable__label {cursor: pointer;display: block;width: 100%;margin-bottom: 0;padding: 0.3em;box-sizing: border-box;text-align: center;}#sk-container-id-7 label.sk-toggleable__label-arrow:before {content: \"▸\";float: left;margin-right: 0.25em;color: #696969;}#sk-container-id-7 label.sk-toggleable__label-arrow:hover:before {color: black;}#sk-container-id-7 div.sk-estimator:hover label.sk-toggleable__label-arrow:before {color: black;}#sk-container-id-7 div.sk-toggleable__content {max-height: 0;max-width: 0;overflow: hidden;text-align: left;background-color: #f0f8ff;}#sk-container-id-7 div.sk-toggleable__content pre {margin: 0.2em;color: black;border-radius: 0.25em;background-color: #f0f8ff;}#sk-container-id-7 input.sk-toggleable__control:checked~div.sk-toggleable__content {max-height: 200px;max-width: 100%;overflow: auto;}#sk-container-id-7 input.sk-toggleable__control:checked~label.sk-toggleable__label-arrow:before {content: \"▾\";}#sk-container-id-7 div.sk-estimator input.sk-toggleable__control:checked~label.sk-toggleable__label {background-color: #d4ebff;}#sk-container-id-7 div.sk-label input.sk-toggleable__control:checked~label.sk-toggleable__label {background-color: #d4ebff;}#sk-container-id-7 input.sk-hidden--visually {border: 0;clip: rect(1px 1px 1px 1px);clip: rect(1px, 1px, 1px, 1px);height: 1px;margin: -1px;overflow: hidden;padding: 0;position: absolute;width: 1px;}#sk-container-id-7 div.sk-estimator {font-family: monospace;background-color: #f0f8ff;border: 1px dotted black;border-radius: 0.25em;box-sizing: border-box;margin-bottom: 0.5em;}#sk-container-id-7 div.sk-estimator:hover {background-color: #d4ebff;}#sk-container-id-7 div.sk-parallel-item::after {content: \"\";width: 100%;border-bottom: 1px solid gray;flex-grow: 1;}#sk-container-id-7 div.sk-label:hover label.sk-toggleable__label {background-color: #d4ebff;}#sk-container-id-7 div.sk-serial::before {content: \"\";position: absolute;border-left: 1px solid gray;box-sizing: border-box;top: 0;bottom: 0;left: 50%;z-index: 0;}#sk-container-id-7 div.sk-serial {display: flex;flex-direction: column;align-items: center;background-color: white;padding-right: 0.2em;padding-left: 0.2em;position: relative;}#sk-container-id-7 div.sk-item {position: relative;z-index: 1;}#sk-container-id-7 div.sk-parallel {display: flex;align-items: stretch;justify-content: center;background-color: white;position: relative;}#sk-container-id-7 div.sk-item::before, #sk-container-id-7 div.sk-parallel-item::before {content: \"\";position: absolute;border-left: 1px solid gray;box-sizing: border-box;top: 0;bottom: 0;left: 50%;z-index: -1;}#sk-container-id-7 div.sk-parallel-item {display: flex;flex-direction: column;z-index: 1;position: relative;background-color: white;}#sk-container-id-7 div.sk-parallel-item:first-child::after {align-self: flex-end;width: 50%;}#sk-container-id-7 div.sk-parallel-item:last-child::after {align-self: flex-start;width: 50%;}#sk-container-id-7 div.sk-parallel-item:only-child::after {width: 0;}#sk-container-id-7 div.sk-dashed-wrapped {border: 1px dashed gray;margin: 0 0.4em 0.5em 0.4em;box-sizing: border-box;padding-bottom: 0.4em;background-color: white;}#sk-container-id-7 div.sk-label label {font-family: monospace;font-weight: bold;display: inline-block;line-height: 1.2em;}#sk-container-id-7 div.sk-label-container {text-align: center;}#sk-container-id-7 div.sk-container {/* jupyter's `normalize.less` sets `[hidden] { display: none; }` but bootstrap.min.css set `[hidden] { display: none !important; }` so we also need the `!important` here to be able to override the default hidden behavior on the sphinx rendered scikit-learn.org. See: https://github.com/scikit-learn/scikit-learn/issues/21755 */display: inline-block !important;position: relative;}#sk-container-id-7 div.sk-text-repr-fallback {display: none;}</style><div id=\"sk-container-id-7\" class=\"sk-top-container\"><div class=\"sk-text-repr-fallback\"><pre>KMeans(n_clusters=5, random_state=42)</pre><b>In a Jupyter environment, please rerun this cell to show the HTML representation or trust the notebook. <br />On GitHub, the HTML representation is unable to render, please try loading this page with nbviewer.org.</b></div><div class=\"sk-container\" hidden><div class=\"sk-item\"><div class=\"sk-estimator sk-toggleable\"><input class=\"sk-toggleable__control sk-hidden--visually\" id=\"sk-estimator-id-7\" type=\"checkbox\" checked><label for=\"sk-estimator-id-7\" class=\"sk-toggleable__label sk-toggleable__label-arrow\">KMeans</label><div class=\"sk-toggleable__content\"><pre>KMeans(n_clusters=5, random_state=42)</pre></div></div></div></div></div>"
      ],
      "text/plain": [
       "KMeans(n_clusters=5, random_state=42)"
      ]
     },
     "execution_count": 121,
     "metadata": {},
     "output_type": "execute_result"
    }
   ],
   "source": [
    "kmeans = KMeans(n_clusters = 5, random_state = 42)\n",
    "X = df_six[['proportionLeqOne', 'relativeDamage', 'elevationDifferenceImp']]\n",
    "# Compute means and standard deviations for each column\n",
    "means = np.mean(X, axis=0)\n",
    "std_devs = np.std(X, axis=0)\n",
    "\n",
    "# Standardize\n",
    "X = (X - means) / std_devs\n",
    "kmeans.fit(X)"
   ]
  },
  {
   "cell_type": "code",
   "execution_count": 122,
   "id": "fd072ff1",
   "metadata": {},
   "outputs": [],
   "source": [
    "# Get boolean masks for each cluster\n",
    "mask_cluster_one = kmeans.labels_ == 0\n",
    "mask_cluster_two = kmeans.labels_ == 1\n",
    "mask_cluster_three = kmeans.labels_ == 2\n",
    "mask_cluster_four = kmeans.labels_ == 3\n",
    "\n",
    "\n",
    "cluster_one = df_six[mask_cluster_one]\n",
    "cluster_two = df_six[mask_cluster_two]\n",
    "cluster_three = df_six[mask_cluster_three]\n",
    "cluster_four = df_six[mask_cluster_three]\n"
   ]
  },
  {
   "cell_type": "code",
   "execution_count": 123,
   "id": "9061bf79",
   "metadata": {},
   "outputs": [
    {
     "data": {
      "text/plain": [
       "0.0962512403897729"
      ]
     },
     "execution_count": 123,
     "metadata": {},
     "output_type": "execute_result"
    }
   ],
   "source": [
    "cluster_one['relativeDamage'].median()"
   ]
  },
  {
   "cell_type": "code",
   "execution_count": 124,
   "id": "8442d29c",
   "metadata": {},
   "outputs": [
    {
     "data": {
      "text/plain": [
       "0.15214155671014315"
      ]
     },
     "execution_count": 124,
     "metadata": {},
     "output_type": "execute_result"
    }
   ],
   "source": [
    "cluster_two['relativeDamage'].median()"
   ]
  },
  {
   "cell_type": "code",
   "execution_count": 125,
   "id": "fe1c0b06",
   "metadata": {},
   "outputs": [
    {
     "data": {
      "text/plain": [
       "0.9112426897041765"
      ]
     },
     "execution_count": 125,
     "metadata": {},
     "output_type": "execute_result"
    }
   ],
   "source": [
    "cluster_three['relativeDamage'].median()"
   ]
  },
  {
   "cell_type": "code",
   "execution_count": 126,
   "id": "195f9139",
   "metadata": {},
   "outputs": [
    {
     "data": {
      "text/plain": [
       "0.26565696712782594"
      ]
     },
     "execution_count": 126,
     "metadata": {},
     "output_type": "execute_result"
    }
   ],
   "source": [
    "df_six['relativeDamage'].median()"
   ]
  },
  {
   "cell_type": "code",
   "execution_count": 127,
   "id": "9e1e1248",
   "metadata": {},
   "outputs": [],
   "source": [
    "df_zero_and_one = df[(df['waterDepth'] == 0) | (df['waterDepth'] == 1)]\n",
    "X_2 = df_zero_and_one[['proportionLeqOne', 'relativeDamage', 'elevationDifferenceImp']].sample(n=10000, random_state=42)\n",
    "new_labels = kmeans.predict(X_2)"
   ]
  },
  {
   "cell_type": "code",
   "execution_count": 128,
   "id": "8a47cead",
   "metadata": {},
   "outputs": [
    {
     "data": {
      "text/plain": [
       "1    5920\n",
       "0    2876\n",
       "3     944\n",
       "2     259\n",
       "4       1\n",
       "dtype: int64"
      ]
     },
     "execution_count": 128,
     "metadata": {},
     "output_type": "execute_result"
    }
   ],
   "source": [
    "new_labels = pd.DataFrame(new_labels)\n",
    "new_labels.value_counts()"
   ]
  },
  {
   "cell_type": "code",
   "execution_count": 133,
   "id": "b87f8568",
   "metadata": {},
   "outputs": [
    {
     "data": {
      "text/plain": [
       "0.2809060456213112"
      ]
     },
     "execution_count": 133,
     "metadata": {},
     "output_type": "execute_result"
    }
   ],
   "source": [
    "len(cluster_two) / len(df_six)"
   ]
  },
  {
   "cell_type": "markdown",
   "id": "aaaf09de",
   "metadata": {},
   "source": [
    "# Two Variables and Five Clusters"
   ]
  },
  {
   "cell_type": "code",
   "execution_count": 143,
   "id": "69d1a112",
   "metadata": {},
   "outputs": [
    {
     "data": {
      "text/html": [
       "<style>#sk-container-id-9 {color: black;background-color: white;}#sk-container-id-9 pre{padding: 0;}#sk-container-id-9 div.sk-toggleable {background-color: white;}#sk-container-id-9 label.sk-toggleable__label {cursor: pointer;display: block;width: 100%;margin-bottom: 0;padding: 0.3em;box-sizing: border-box;text-align: center;}#sk-container-id-9 label.sk-toggleable__label-arrow:before {content: \"▸\";float: left;margin-right: 0.25em;color: #696969;}#sk-container-id-9 label.sk-toggleable__label-arrow:hover:before {color: black;}#sk-container-id-9 div.sk-estimator:hover label.sk-toggleable__label-arrow:before {color: black;}#sk-container-id-9 div.sk-toggleable__content {max-height: 0;max-width: 0;overflow: hidden;text-align: left;background-color: #f0f8ff;}#sk-container-id-9 div.sk-toggleable__content pre {margin: 0.2em;color: black;border-radius: 0.25em;background-color: #f0f8ff;}#sk-container-id-9 input.sk-toggleable__control:checked~div.sk-toggleable__content {max-height: 200px;max-width: 100%;overflow: auto;}#sk-container-id-9 input.sk-toggleable__control:checked~label.sk-toggleable__label-arrow:before {content: \"▾\";}#sk-container-id-9 div.sk-estimator input.sk-toggleable__control:checked~label.sk-toggleable__label {background-color: #d4ebff;}#sk-container-id-9 div.sk-label input.sk-toggleable__control:checked~label.sk-toggleable__label {background-color: #d4ebff;}#sk-container-id-9 input.sk-hidden--visually {border: 0;clip: rect(1px 1px 1px 1px);clip: rect(1px, 1px, 1px, 1px);height: 1px;margin: -1px;overflow: hidden;padding: 0;position: absolute;width: 1px;}#sk-container-id-9 div.sk-estimator {font-family: monospace;background-color: #f0f8ff;border: 1px dotted black;border-radius: 0.25em;box-sizing: border-box;margin-bottom: 0.5em;}#sk-container-id-9 div.sk-estimator:hover {background-color: #d4ebff;}#sk-container-id-9 div.sk-parallel-item::after {content: \"\";width: 100%;border-bottom: 1px solid gray;flex-grow: 1;}#sk-container-id-9 div.sk-label:hover label.sk-toggleable__label {background-color: #d4ebff;}#sk-container-id-9 div.sk-serial::before {content: \"\";position: absolute;border-left: 1px solid gray;box-sizing: border-box;top: 0;bottom: 0;left: 50%;z-index: 0;}#sk-container-id-9 div.sk-serial {display: flex;flex-direction: column;align-items: center;background-color: white;padding-right: 0.2em;padding-left: 0.2em;position: relative;}#sk-container-id-9 div.sk-item {position: relative;z-index: 1;}#sk-container-id-9 div.sk-parallel {display: flex;align-items: stretch;justify-content: center;background-color: white;position: relative;}#sk-container-id-9 div.sk-item::before, #sk-container-id-9 div.sk-parallel-item::before {content: \"\";position: absolute;border-left: 1px solid gray;box-sizing: border-box;top: 0;bottom: 0;left: 50%;z-index: -1;}#sk-container-id-9 div.sk-parallel-item {display: flex;flex-direction: column;z-index: 1;position: relative;background-color: white;}#sk-container-id-9 div.sk-parallel-item:first-child::after {align-self: flex-end;width: 50%;}#sk-container-id-9 div.sk-parallel-item:last-child::after {align-self: flex-start;width: 50%;}#sk-container-id-9 div.sk-parallel-item:only-child::after {width: 0;}#sk-container-id-9 div.sk-dashed-wrapped {border: 1px dashed gray;margin: 0 0.4em 0.5em 0.4em;box-sizing: border-box;padding-bottom: 0.4em;background-color: white;}#sk-container-id-9 div.sk-label label {font-family: monospace;font-weight: bold;display: inline-block;line-height: 1.2em;}#sk-container-id-9 div.sk-label-container {text-align: center;}#sk-container-id-9 div.sk-container {/* jupyter's `normalize.less` sets `[hidden] { display: none; }` but bootstrap.min.css set `[hidden] { display: none !important; }` so we also need the `!important` here to be able to override the default hidden behavior on the sphinx rendered scikit-learn.org. See: https://github.com/scikit-learn/scikit-learn/issues/21755 */display: inline-block !important;position: relative;}#sk-container-id-9 div.sk-text-repr-fallback {display: none;}</style><div id=\"sk-container-id-9\" class=\"sk-top-container\"><div class=\"sk-text-repr-fallback\"><pre>KMeans(n_clusters=5, random_state=42)</pre><b>In a Jupyter environment, please rerun this cell to show the HTML representation or trust the notebook. <br />On GitHub, the HTML representation is unable to render, please try loading this page with nbviewer.org.</b></div><div class=\"sk-container\" hidden><div class=\"sk-item\"><div class=\"sk-estimator sk-toggleable\"><input class=\"sk-toggleable__control sk-hidden--visually\" id=\"sk-estimator-id-9\" type=\"checkbox\" checked><label for=\"sk-estimator-id-9\" class=\"sk-toggleable__label sk-toggleable__label-arrow\">KMeans</label><div class=\"sk-toggleable__content\"><pre>KMeans(n_clusters=5, random_state=42)</pre></div></div></div></div></div>"
      ],
      "text/plain": [
       "KMeans(n_clusters=5, random_state=42)"
      ]
     },
     "execution_count": 143,
     "metadata": {},
     "output_type": "execute_result"
    }
   ],
   "source": [
    "kmeans = KMeans(n_clusters = 5, random_state = 42)\n",
    "X = df_six[['proportionLeqOne', 'relativeDamage']]\n",
    "# Compute means and standard deviations for each column\n",
    "means = np.mean(X, axis=0)\n",
    "std_devs = np.std(X, axis=0)\n",
    "\n",
    "# Standardize\n",
    "X = (X - means) / std_devs\n",
    "kmeans.fit(X)"
   ]
  },
  {
   "cell_type": "code",
   "execution_count": 144,
   "id": "a2adb94b",
   "metadata": {},
   "outputs": [],
   "source": [
    "# Get boolean masks for each cluster\n",
    "mask_cluster_one = kmeans.labels_ == 0\n",
    "mask_cluster_two = kmeans.labels_ == 1\n",
    "mask_cluster_three = kmeans.labels_ == 2\n",
    "mask_cluster_four = kmeans.labels_ == 3\n",
    "\n",
    "\n",
    "cluster_one = df_six[mask_cluster_one]\n",
    "cluster_two = df_six[mask_cluster_two]\n",
    "cluster_three = df_six[mask_cluster_three]\n",
    "cluster_four = df_six[mask_cluster_three]\n"
   ]
  },
  {
   "cell_type": "code",
   "execution_count": 145,
   "id": "20950175",
   "metadata": {},
   "outputs": [
    {
     "data": {
      "text/plain": [
       "0.660762569066186"
      ]
     },
     "execution_count": 145,
     "metadata": {},
     "output_type": "execute_result"
    }
   ],
   "source": [
    "cluster_one['relativeDamage'].median()"
   ]
  },
  {
   "cell_type": "code",
   "execution_count": 146,
   "id": "ec854fa3",
   "metadata": {},
   "outputs": [
    {
     "data": {
      "text/plain": [
       "0.9304205829276448"
      ]
     },
     "execution_count": 146,
     "metadata": {},
     "output_type": "execute_result"
    }
   ],
   "source": [
    "cluster_two['relativeDamage'].median()"
   ]
  },
  {
   "cell_type": "code",
   "execution_count": 147,
   "id": "c5439dfa",
   "metadata": {},
   "outputs": [
    {
     "data": {
      "text/plain": [
       "0.1046181818181818"
      ]
     },
     "execution_count": 147,
     "metadata": {},
     "output_type": "execute_result"
    }
   ],
   "source": [
    "cluster_three['relativeDamage'].median()"
   ]
  },
  {
   "cell_type": "code",
   "execution_count": 148,
   "id": "f27bd17c",
   "metadata": {
    "scrolled": true
   },
   "outputs": [
    {
     "data": {
      "text/plain": [
       "0.26565696712782594"
      ]
     },
     "execution_count": 148,
     "metadata": {},
     "output_type": "execute_result"
    }
   ],
   "source": [
    "df_six['relativeDamage'].median()"
   ]
  },
  {
   "cell_type": "code",
   "execution_count": 152,
   "id": "e1b6c74c",
   "metadata": {},
   "outputs": [
    {
     "data": {
      "text/plain": [
       "3    9693\n",
       "2    9241\n",
       "1    9220\n",
       "4    5303\n",
       "0    4157\n",
       "dtype: int64"
      ]
     },
     "execution_count": 152,
     "metadata": {},
     "output_type": "execute_result"
    }
   ],
   "source": [
    "labels = pd.DataFrame(kmeans.labels_)\n",
    "labels.value_counts()"
   ]
  },
  {
   "cell_type": "code",
   "execution_count": 149,
   "id": "00f36d23",
   "metadata": {},
   "outputs": [],
   "source": [
    "df_zero_and_one = df[(df['waterDepth'] == 0) | (df['waterDepth'] == 1)]\n",
    "X_2 = df_zero_and_one[['proportionLeqOne', 'relativeDamage']].sample(n=10000, random_state=42)\n",
    "new_labels = kmeans.predict(X_2)"
   ]
  },
  {
   "cell_type": "code",
   "execution_count": 150,
   "id": "67227a06",
   "metadata": {},
   "outputs": [
    {
     "data": {
      "text/plain": [
       "0    7414\n",
       "3    2586\n",
       "dtype: int64"
      ]
     },
     "execution_count": 150,
     "metadata": {},
     "output_type": "execute_result"
    }
   ],
   "source": [
    "new_labels = pd.DataFrame(new_labels)\n",
    "new_labels.value_counts()"
   ]
  },
  {
   "cell_type": "code",
   "execution_count": 151,
   "id": "4b349cb3",
   "metadata": {},
   "outputs": [
    {
     "data": {
      "text/plain": [
       "0.24512149731482957"
      ]
     },
     "execution_count": 151,
     "metadata": {},
     "output_type": "execute_result"
    }
   ],
   "source": [
    "len(cluster_two) / len(df_six)"
   ]
  },
  {
   "cell_type": "markdown",
   "id": "a6826de7",
   "metadata": {},
   "source": [
    "# Three Variables and Six Clusters"
   ]
  },
  {
   "cell_type": "code",
   "execution_count": 153,
   "id": "80f307f7",
   "metadata": {},
   "outputs": [
    {
     "data": {
      "text/html": [
       "<style>#sk-container-id-10 {color: black;background-color: white;}#sk-container-id-10 pre{padding: 0;}#sk-container-id-10 div.sk-toggleable {background-color: white;}#sk-container-id-10 label.sk-toggleable__label {cursor: pointer;display: block;width: 100%;margin-bottom: 0;padding: 0.3em;box-sizing: border-box;text-align: center;}#sk-container-id-10 label.sk-toggleable__label-arrow:before {content: \"▸\";float: left;margin-right: 0.25em;color: #696969;}#sk-container-id-10 label.sk-toggleable__label-arrow:hover:before {color: black;}#sk-container-id-10 div.sk-estimator:hover label.sk-toggleable__label-arrow:before {color: black;}#sk-container-id-10 div.sk-toggleable__content {max-height: 0;max-width: 0;overflow: hidden;text-align: left;background-color: #f0f8ff;}#sk-container-id-10 div.sk-toggleable__content pre {margin: 0.2em;color: black;border-radius: 0.25em;background-color: #f0f8ff;}#sk-container-id-10 input.sk-toggleable__control:checked~div.sk-toggleable__content {max-height: 200px;max-width: 100%;overflow: auto;}#sk-container-id-10 input.sk-toggleable__control:checked~label.sk-toggleable__label-arrow:before {content: \"▾\";}#sk-container-id-10 div.sk-estimator input.sk-toggleable__control:checked~label.sk-toggleable__label {background-color: #d4ebff;}#sk-container-id-10 div.sk-label input.sk-toggleable__control:checked~label.sk-toggleable__label {background-color: #d4ebff;}#sk-container-id-10 input.sk-hidden--visually {border: 0;clip: rect(1px 1px 1px 1px);clip: rect(1px, 1px, 1px, 1px);height: 1px;margin: -1px;overflow: hidden;padding: 0;position: absolute;width: 1px;}#sk-container-id-10 div.sk-estimator {font-family: monospace;background-color: #f0f8ff;border: 1px dotted black;border-radius: 0.25em;box-sizing: border-box;margin-bottom: 0.5em;}#sk-container-id-10 div.sk-estimator:hover {background-color: #d4ebff;}#sk-container-id-10 div.sk-parallel-item::after {content: \"\";width: 100%;border-bottom: 1px solid gray;flex-grow: 1;}#sk-container-id-10 div.sk-label:hover label.sk-toggleable__label {background-color: #d4ebff;}#sk-container-id-10 div.sk-serial::before {content: \"\";position: absolute;border-left: 1px solid gray;box-sizing: border-box;top: 0;bottom: 0;left: 50%;z-index: 0;}#sk-container-id-10 div.sk-serial {display: flex;flex-direction: column;align-items: center;background-color: white;padding-right: 0.2em;padding-left: 0.2em;position: relative;}#sk-container-id-10 div.sk-item {position: relative;z-index: 1;}#sk-container-id-10 div.sk-parallel {display: flex;align-items: stretch;justify-content: center;background-color: white;position: relative;}#sk-container-id-10 div.sk-item::before, #sk-container-id-10 div.sk-parallel-item::before {content: \"\";position: absolute;border-left: 1px solid gray;box-sizing: border-box;top: 0;bottom: 0;left: 50%;z-index: -1;}#sk-container-id-10 div.sk-parallel-item {display: flex;flex-direction: column;z-index: 1;position: relative;background-color: white;}#sk-container-id-10 div.sk-parallel-item:first-child::after {align-self: flex-end;width: 50%;}#sk-container-id-10 div.sk-parallel-item:last-child::after {align-self: flex-start;width: 50%;}#sk-container-id-10 div.sk-parallel-item:only-child::after {width: 0;}#sk-container-id-10 div.sk-dashed-wrapped {border: 1px dashed gray;margin: 0 0.4em 0.5em 0.4em;box-sizing: border-box;padding-bottom: 0.4em;background-color: white;}#sk-container-id-10 div.sk-label label {font-family: monospace;font-weight: bold;display: inline-block;line-height: 1.2em;}#sk-container-id-10 div.sk-label-container {text-align: center;}#sk-container-id-10 div.sk-container {/* jupyter's `normalize.less` sets `[hidden] { display: none; }` but bootstrap.min.css set `[hidden] { display: none !important; }` so we also need the `!important` here to be able to override the default hidden behavior on the sphinx rendered scikit-learn.org. See: https://github.com/scikit-learn/scikit-learn/issues/21755 */display: inline-block !important;position: relative;}#sk-container-id-10 div.sk-text-repr-fallback {display: none;}</style><div id=\"sk-container-id-10\" class=\"sk-top-container\"><div class=\"sk-text-repr-fallback\"><pre>KMeans(n_clusters=6, random_state=42)</pre><b>In a Jupyter environment, please rerun this cell to show the HTML representation or trust the notebook. <br />On GitHub, the HTML representation is unable to render, please try loading this page with nbviewer.org.</b></div><div class=\"sk-container\" hidden><div class=\"sk-item\"><div class=\"sk-estimator sk-toggleable\"><input class=\"sk-toggleable__control sk-hidden--visually\" id=\"sk-estimator-id-10\" type=\"checkbox\" checked><label for=\"sk-estimator-id-10\" class=\"sk-toggleable__label sk-toggleable__label-arrow\">KMeans</label><div class=\"sk-toggleable__content\"><pre>KMeans(n_clusters=6, random_state=42)</pre></div></div></div></div></div>"
      ],
      "text/plain": [
       "KMeans(n_clusters=6, random_state=42)"
      ]
     },
     "execution_count": 153,
     "metadata": {},
     "output_type": "execute_result"
    }
   ],
   "source": [
    "kmeans = KMeans(n_clusters = 6, random_state = 42)\n",
    "X = df_six[['proportionLeqOne', 'relativeDamage', 'elevationDifferenceImp']]\n",
    "# Compute means and standard deviations for each column\n",
    "means = np.mean(X, axis=0)\n",
    "std_devs = np.std(X, axis=0)\n",
    "\n",
    "# Standardize\n",
    "X = (X - means) / std_devs\n",
    "kmeans.fit(X)"
   ]
  },
  {
   "cell_type": "code",
   "execution_count": 154,
   "id": "c582c9b0",
   "metadata": {},
   "outputs": [],
   "source": [
    "# Get boolean masks for each cluster\n",
    "mask_cluster_one = kmeans.labels_ == 0\n",
    "mask_cluster_two = kmeans.labels_ == 1\n",
    "mask_cluster_three = kmeans.labels_ == 2\n",
    "mask_cluster_four = kmeans.labels_ == 3\n",
    "\n",
    "\n",
    "cluster_one = df_six[mask_cluster_one]\n",
    "cluster_two = df_six[mask_cluster_two]\n",
    "cluster_three = df_six[mask_cluster_three]\n",
    "cluster_four = df_six[mask_cluster_three]\n"
   ]
  },
  {
   "cell_type": "code",
   "execution_count": 155,
   "id": "588b4c8e",
   "metadata": {},
   "outputs": [
    {
     "data": {
      "text/plain": [
       "0.1174671231697031"
      ]
     },
     "execution_count": 155,
     "metadata": {},
     "output_type": "execute_result"
    }
   ],
   "source": [
    "cluster_one['relativeDamage'].median()"
   ]
  },
  {
   "cell_type": "code",
   "execution_count": 156,
   "id": "7805c23e",
   "metadata": {},
   "outputs": [
    {
     "data": {
      "text/plain": [
       "0.1042330381232565"
      ]
     },
     "execution_count": 156,
     "metadata": {},
     "output_type": "execute_result"
    }
   ],
   "source": [
    "cluster_two['relativeDamage'].median()"
   ]
  },
  {
   "cell_type": "code",
   "execution_count": 157,
   "id": "4b1a5f43",
   "metadata": {},
   "outputs": [
    {
     "data": {
      "text/plain": [
       "0.0886558627264061"
      ]
     },
     "execution_count": 157,
     "metadata": {},
     "output_type": "execute_result"
    }
   ],
   "source": [
    "cluster_three['relativeDamage'].median()"
   ]
  },
  {
   "cell_type": "code",
   "execution_count": 158,
   "id": "d1f837e1",
   "metadata": {},
   "outputs": [
    {
     "data": {
      "text/plain": [
       "0.26565696712782594"
      ]
     },
     "execution_count": 158,
     "metadata": {},
     "output_type": "execute_result"
    }
   ],
   "source": [
    "df_six['relativeDamage'].median()"
   ]
  },
  {
   "cell_type": "code",
   "execution_count": 159,
   "id": "ea37e8c2",
   "metadata": {
    "scrolled": true
   },
   "outputs": [
    {
     "data": {
      "text/plain": [
       "0    9972\n",
       "1    9743\n",
       "4    8983\n",
       "3    4315\n",
       "5    2958\n",
       "2    1643\n",
       "dtype: int64"
      ]
     },
     "execution_count": 159,
     "metadata": {},
     "output_type": "execute_result"
    }
   ],
   "source": [
    "labels = pd.DataFrame(kmeans.labels_)\n",
    "labels.value_counts()"
   ]
  },
  {
   "cell_type": "code",
   "execution_count": 160,
   "id": "fb877896",
   "metadata": {},
   "outputs": [],
   "source": [
    "df_zero_and_one = df[(df['waterDepth'] == 0) | (df['waterDepth'] == 1)]\n",
    "X_2 = df_zero_and_one[['proportionLeqOne', 'relativeDamage', 'elevationDifferenceImp']].sample(n=10000, random_state=42)\n",
    "new_labels = kmeans.predict(X_2)"
   ]
  },
  {
   "cell_type": "code",
   "execution_count": 161,
   "id": "0d530d2c",
   "metadata": {},
   "outputs": [
    {
     "data": {
      "text/plain": [
       "3    5977\n",
       "2    2594\n",
       "5     937\n",
       "1     492\n",
       "dtype: int64"
      ]
     },
     "execution_count": 161,
     "metadata": {},
     "output_type": "execute_result"
    }
   ],
   "source": [
    "new_labels = pd.DataFrame(new_labels)\n",
    "new_labels.value_counts()"
   ]
  },
  {
   "cell_type": "code",
   "execution_count": 162,
   "id": "a543ce2c",
   "metadata": {},
   "outputs": [
    {
     "data": {
      "text/plain": [
       "0.2590258946137077"
      ]
     },
     "execution_count": 162,
     "metadata": {},
     "output_type": "execute_result"
    }
   ],
   "source": [
    "len(cluster_two) / len(df_six)"
   ]
  },
  {
   "cell_type": "markdown",
   "id": "eebe4eb0",
   "metadata": {},
   "source": [
    "# Three Variables and Seven Clusters"
   ]
  },
  {
   "cell_type": "code",
   "execution_count": 163,
   "id": "16862af8",
   "metadata": {},
   "outputs": [
    {
     "data": {
      "text/html": [
       "<style>#sk-container-id-11 {color: black;background-color: white;}#sk-container-id-11 pre{padding: 0;}#sk-container-id-11 div.sk-toggleable {background-color: white;}#sk-container-id-11 label.sk-toggleable__label {cursor: pointer;display: block;width: 100%;margin-bottom: 0;padding: 0.3em;box-sizing: border-box;text-align: center;}#sk-container-id-11 label.sk-toggleable__label-arrow:before {content: \"▸\";float: left;margin-right: 0.25em;color: #696969;}#sk-container-id-11 label.sk-toggleable__label-arrow:hover:before {color: black;}#sk-container-id-11 div.sk-estimator:hover label.sk-toggleable__label-arrow:before {color: black;}#sk-container-id-11 div.sk-toggleable__content {max-height: 0;max-width: 0;overflow: hidden;text-align: left;background-color: #f0f8ff;}#sk-container-id-11 div.sk-toggleable__content pre {margin: 0.2em;color: black;border-radius: 0.25em;background-color: #f0f8ff;}#sk-container-id-11 input.sk-toggleable__control:checked~div.sk-toggleable__content {max-height: 200px;max-width: 100%;overflow: auto;}#sk-container-id-11 input.sk-toggleable__control:checked~label.sk-toggleable__label-arrow:before {content: \"▾\";}#sk-container-id-11 div.sk-estimator input.sk-toggleable__control:checked~label.sk-toggleable__label {background-color: #d4ebff;}#sk-container-id-11 div.sk-label input.sk-toggleable__control:checked~label.sk-toggleable__label {background-color: #d4ebff;}#sk-container-id-11 input.sk-hidden--visually {border: 0;clip: rect(1px 1px 1px 1px);clip: rect(1px, 1px, 1px, 1px);height: 1px;margin: -1px;overflow: hidden;padding: 0;position: absolute;width: 1px;}#sk-container-id-11 div.sk-estimator {font-family: monospace;background-color: #f0f8ff;border: 1px dotted black;border-radius: 0.25em;box-sizing: border-box;margin-bottom: 0.5em;}#sk-container-id-11 div.sk-estimator:hover {background-color: #d4ebff;}#sk-container-id-11 div.sk-parallel-item::after {content: \"\";width: 100%;border-bottom: 1px solid gray;flex-grow: 1;}#sk-container-id-11 div.sk-label:hover label.sk-toggleable__label {background-color: #d4ebff;}#sk-container-id-11 div.sk-serial::before {content: \"\";position: absolute;border-left: 1px solid gray;box-sizing: border-box;top: 0;bottom: 0;left: 50%;z-index: 0;}#sk-container-id-11 div.sk-serial {display: flex;flex-direction: column;align-items: center;background-color: white;padding-right: 0.2em;padding-left: 0.2em;position: relative;}#sk-container-id-11 div.sk-item {position: relative;z-index: 1;}#sk-container-id-11 div.sk-parallel {display: flex;align-items: stretch;justify-content: center;background-color: white;position: relative;}#sk-container-id-11 div.sk-item::before, #sk-container-id-11 div.sk-parallel-item::before {content: \"\";position: absolute;border-left: 1px solid gray;box-sizing: border-box;top: 0;bottom: 0;left: 50%;z-index: -1;}#sk-container-id-11 div.sk-parallel-item {display: flex;flex-direction: column;z-index: 1;position: relative;background-color: white;}#sk-container-id-11 div.sk-parallel-item:first-child::after {align-self: flex-end;width: 50%;}#sk-container-id-11 div.sk-parallel-item:last-child::after {align-self: flex-start;width: 50%;}#sk-container-id-11 div.sk-parallel-item:only-child::after {width: 0;}#sk-container-id-11 div.sk-dashed-wrapped {border: 1px dashed gray;margin: 0 0.4em 0.5em 0.4em;box-sizing: border-box;padding-bottom: 0.4em;background-color: white;}#sk-container-id-11 div.sk-label label {font-family: monospace;font-weight: bold;display: inline-block;line-height: 1.2em;}#sk-container-id-11 div.sk-label-container {text-align: center;}#sk-container-id-11 div.sk-container {/* jupyter's `normalize.less` sets `[hidden] { display: none; }` but bootstrap.min.css set `[hidden] { display: none !important; }` so we also need the `!important` here to be able to override the default hidden behavior on the sphinx rendered scikit-learn.org. See: https://github.com/scikit-learn/scikit-learn/issues/21755 */display: inline-block !important;position: relative;}#sk-container-id-11 div.sk-text-repr-fallback {display: none;}</style><div id=\"sk-container-id-11\" class=\"sk-top-container\"><div class=\"sk-text-repr-fallback\"><pre>KMeans(n_clusters=7, random_state=42)</pre><b>In a Jupyter environment, please rerun this cell to show the HTML representation or trust the notebook. <br />On GitHub, the HTML representation is unable to render, please try loading this page with nbviewer.org.</b></div><div class=\"sk-container\" hidden><div class=\"sk-item\"><div class=\"sk-estimator sk-toggleable\"><input class=\"sk-toggleable__control sk-hidden--visually\" id=\"sk-estimator-id-11\" type=\"checkbox\" checked><label for=\"sk-estimator-id-11\" class=\"sk-toggleable__label sk-toggleable__label-arrow\">KMeans</label><div class=\"sk-toggleable__content\"><pre>KMeans(n_clusters=7, random_state=42)</pre></div></div></div></div></div>"
      ],
      "text/plain": [
       "KMeans(n_clusters=7, random_state=42)"
      ]
     },
     "execution_count": 163,
     "metadata": {},
     "output_type": "execute_result"
    }
   ],
   "source": [
    "kmeans = KMeans(n_clusters = 7, random_state = 42)\n",
    "X = df_six[['proportionLeqOne', 'relativeDamage', 'elevationDifferenceImp']]\n",
    "# Compute means and standard deviations for each column\n",
    "means = np.mean(X, axis=0)\n",
    "std_devs = np.std(X, axis=0)\n",
    "\n",
    "# Standardize\n",
    "X = (X - means) / std_devs\n",
    "kmeans.fit(X)"
   ]
  },
  {
   "cell_type": "code",
   "execution_count": 164,
   "id": "bc7ac935",
   "metadata": {},
   "outputs": [],
   "source": [
    "# Get boolean masks for each cluster\n",
    "mask_cluster_one = kmeans.labels_ == 0\n",
    "mask_cluster_two = kmeans.labels_ == 1\n",
    "mask_cluster_three = kmeans.labels_ == 2\n",
    "mask_cluster_four = kmeans.labels_ == 3\n",
    "\n",
    "\n",
    "cluster_one = df_six[mask_cluster_one]\n",
    "cluster_two = df_six[mask_cluster_two]\n",
    "cluster_three = df_six[mask_cluster_three]\n",
    "cluster_four = df_six[mask_cluster_three]\n"
   ]
  },
  {
   "cell_type": "code",
   "execution_count": 165,
   "id": "8d05cf88",
   "metadata": {},
   "outputs": [
    {
     "data": {
      "text/plain": [
       "0.10584623175028805"
      ]
     },
     "execution_count": 165,
     "metadata": {},
     "output_type": "execute_result"
    }
   ],
   "source": [
    "cluster_one['relativeDamage'].median()"
   ]
  },
  {
   "cell_type": "code",
   "execution_count": 166,
   "id": "9d5a9ef8",
   "metadata": {},
   "outputs": [
    {
     "data": {
      "text/plain": [
       "0.11013551741323865"
      ]
     },
     "execution_count": 166,
     "metadata": {},
     "output_type": "execute_result"
    }
   ],
   "source": [
    "cluster_two['relativeDamage'].median()"
   ]
  },
  {
   "cell_type": "code",
   "execution_count": 167,
   "id": "2764b8dd",
   "metadata": {},
   "outputs": [
    {
     "data": {
      "text/plain": [
       "0.0872527472527472"
      ]
     },
     "execution_count": 167,
     "metadata": {},
     "output_type": "execute_result"
    }
   ],
   "source": [
    "cluster_three['relativeDamage'].median()"
   ]
  },
  {
   "cell_type": "code",
   "execution_count": 168,
   "id": "3c36ca9a",
   "metadata": {},
   "outputs": [
    {
     "data": {
      "text/plain": [
       "0.26565696712782594"
      ]
     },
     "execution_count": 168,
     "metadata": {},
     "output_type": "execute_result"
    }
   ],
   "source": [
    "df_six['relativeDamage'].median()"
   ]
  },
  {
   "cell_type": "code",
   "execution_count": 169,
   "id": "783a5608",
   "metadata": {},
   "outputs": [
    {
     "data": {
      "text/plain": [
       "4    8976\n",
       "0    8166\n",
       "3    7889\n",
       "1    4650\n",
       "6    3637\n",
       "5    2989\n",
       "2    1307\n",
       "dtype: int64"
      ]
     },
     "execution_count": 169,
     "metadata": {},
     "output_type": "execute_result"
    }
   ],
   "source": [
    "labels = pd.DataFrame(kmeans.labels_)\n",
    "labels.value_counts()"
   ]
  },
  {
   "cell_type": "code",
   "execution_count": 170,
   "id": "3dad6be4",
   "metadata": {},
   "outputs": [],
   "source": [
    "df_zero_and_one = df[(df['waterDepth'] == 0) | (df['waterDepth'] == 1)]\n",
    "X_2 = df_zero_and_one[['proportionLeqOne', 'relativeDamage', 'elevationDifferenceImp']].sample(n=10000, random_state=42)\n",
    "new_labels = kmeans.predict(X_2)"
   ]
  },
  {
   "cell_type": "code",
   "execution_count": 171,
   "id": "db4eff3d",
   "metadata": {},
   "outputs": [
    {
     "data": {
      "text/plain": [
       "6    4059\n",
       "2    2590\n",
       "3    2415\n",
       "5     936\n",
       "dtype: int64"
      ]
     },
     "execution_count": 171,
     "metadata": {},
     "output_type": "execute_result"
    }
   ],
   "source": [
    "new_labels = pd.DataFrame(new_labels)\n",
    "new_labels.value_counts()"
   ]
  },
  {
   "cell_type": "code",
   "execution_count": 172,
   "id": "340a2b7c",
   "metadata": {},
   "outputs": [
    {
     "data": {
      "text/plain": [
       "0.12362418248524486"
      ]
     },
     "execution_count": 172,
     "metadata": {},
     "output_type": "execute_result"
    }
   ],
   "source": [
    "len(cluster_two) / len(df_six)"
   ]
  },
  {
   "cell_type": "markdown",
   "id": "7715d7a0",
   "metadata": {},
   "source": [
    "# Three Variables and Eight Clusters"
   ]
  },
  {
   "cell_type": "code",
   "execution_count": 173,
   "id": "75452757",
   "metadata": {},
   "outputs": [
    {
     "data": {
      "text/html": [
       "<style>#sk-container-id-12 {color: black;background-color: white;}#sk-container-id-12 pre{padding: 0;}#sk-container-id-12 div.sk-toggleable {background-color: white;}#sk-container-id-12 label.sk-toggleable__label {cursor: pointer;display: block;width: 100%;margin-bottom: 0;padding: 0.3em;box-sizing: border-box;text-align: center;}#sk-container-id-12 label.sk-toggleable__label-arrow:before {content: \"▸\";float: left;margin-right: 0.25em;color: #696969;}#sk-container-id-12 label.sk-toggleable__label-arrow:hover:before {color: black;}#sk-container-id-12 div.sk-estimator:hover label.sk-toggleable__label-arrow:before {color: black;}#sk-container-id-12 div.sk-toggleable__content {max-height: 0;max-width: 0;overflow: hidden;text-align: left;background-color: #f0f8ff;}#sk-container-id-12 div.sk-toggleable__content pre {margin: 0.2em;color: black;border-radius: 0.25em;background-color: #f0f8ff;}#sk-container-id-12 input.sk-toggleable__control:checked~div.sk-toggleable__content {max-height: 200px;max-width: 100%;overflow: auto;}#sk-container-id-12 input.sk-toggleable__control:checked~label.sk-toggleable__label-arrow:before {content: \"▾\";}#sk-container-id-12 div.sk-estimator input.sk-toggleable__control:checked~label.sk-toggleable__label {background-color: #d4ebff;}#sk-container-id-12 div.sk-label input.sk-toggleable__control:checked~label.sk-toggleable__label {background-color: #d4ebff;}#sk-container-id-12 input.sk-hidden--visually {border: 0;clip: rect(1px 1px 1px 1px);clip: rect(1px, 1px, 1px, 1px);height: 1px;margin: -1px;overflow: hidden;padding: 0;position: absolute;width: 1px;}#sk-container-id-12 div.sk-estimator {font-family: monospace;background-color: #f0f8ff;border: 1px dotted black;border-radius: 0.25em;box-sizing: border-box;margin-bottom: 0.5em;}#sk-container-id-12 div.sk-estimator:hover {background-color: #d4ebff;}#sk-container-id-12 div.sk-parallel-item::after {content: \"\";width: 100%;border-bottom: 1px solid gray;flex-grow: 1;}#sk-container-id-12 div.sk-label:hover label.sk-toggleable__label {background-color: #d4ebff;}#sk-container-id-12 div.sk-serial::before {content: \"\";position: absolute;border-left: 1px solid gray;box-sizing: border-box;top: 0;bottom: 0;left: 50%;z-index: 0;}#sk-container-id-12 div.sk-serial {display: flex;flex-direction: column;align-items: center;background-color: white;padding-right: 0.2em;padding-left: 0.2em;position: relative;}#sk-container-id-12 div.sk-item {position: relative;z-index: 1;}#sk-container-id-12 div.sk-parallel {display: flex;align-items: stretch;justify-content: center;background-color: white;position: relative;}#sk-container-id-12 div.sk-item::before, #sk-container-id-12 div.sk-parallel-item::before {content: \"\";position: absolute;border-left: 1px solid gray;box-sizing: border-box;top: 0;bottom: 0;left: 50%;z-index: -1;}#sk-container-id-12 div.sk-parallel-item {display: flex;flex-direction: column;z-index: 1;position: relative;background-color: white;}#sk-container-id-12 div.sk-parallel-item:first-child::after {align-self: flex-end;width: 50%;}#sk-container-id-12 div.sk-parallel-item:last-child::after {align-self: flex-start;width: 50%;}#sk-container-id-12 div.sk-parallel-item:only-child::after {width: 0;}#sk-container-id-12 div.sk-dashed-wrapped {border: 1px dashed gray;margin: 0 0.4em 0.5em 0.4em;box-sizing: border-box;padding-bottom: 0.4em;background-color: white;}#sk-container-id-12 div.sk-label label {font-family: monospace;font-weight: bold;display: inline-block;line-height: 1.2em;}#sk-container-id-12 div.sk-label-container {text-align: center;}#sk-container-id-12 div.sk-container {/* jupyter's `normalize.less` sets `[hidden] { display: none; }` but bootstrap.min.css set `[hidden] { display: none !important; }` so we also need the `!important` here to be able to override the default hidden behavior on the sphinx rendered scikit-learn.org. See: https://github.com/scikit-learn/scikit-learn/issues/21755 */display: inline-block !important;position: relative;}#sk-container-id-12 div.sk-text-repr-fallback {display: none;}</style><div id=\"sk-container-id-12\" class=\"sk-top-container\"><div class=\"sk-text-repr-fallback\"><pre>KMeans(random_state=42)</pre><b>In a Jupyter environment, please rerun this cell to show the HTML representation or trust the notebook. <br />On GitHub, the HTML representation is unable to render, please try loading this page with nbviewer.org.</b></div><div class=\"sk-container\" hidden><div class=\"sk-item\"><div class=\"sk-estimator sk-toggleable\"><input class=\"sk-toggleable__control sk-hidden--visually\" id=\"sk-estimator-id-12\" type=\"checkbox\" checked><label for=\"sk-estimator-id-12\" class=\"sk-toggleable__label sk-toggleable__label-arrow\">KMeans</label><div class=\"sk-toggleable__content\"><pre>KMeans(random_state=42)</pre></div></div></div></div></div>"
      ],
      "text/plain": [
       "KMeans(random_state=42)"
      ]
     },
     "execution_count": 173,
     "metadata": {},
     "output_type": "execute_result"
    }
   ],
   "source": [
    "kmeans = KMeans(n_clusters = 8, random_state = 42)\n",
    "X = df_six[['proportionLeqOne', 'relativeDamage', 'elevationDifferenceImp']]\n",
    "# Compute means and standard deviations for each column\n",
    "means = np.mean(X, axis=0)\n",
    "std_devs = np.std(X, axis=0)\n",
    "\n",
    "# Standardize\n",
    "X = (X - means) / std_devs\n",
    "kmeans.fit(X)"
   ]
  },
  {
   "cell_type": "code",
   "execution_count": 174,
   "id": "2cdcf1aa",
   "metadata": {},
   "outputs": [],
   "source": [
    "# Get boolean masks for each cluster\n",
    "mask_cluster_one = kmeans.labels_ == 0\n",
    "mask_cluster_two = kmeans.labels_ == 1\n",
    "mask_cluster_three = kmeans.labels_ == 2\n",
    "mask_cluster_four = kmeans.labels_ == 3\n",
    "\n",
    "\n",
    "cluster_one = df_six[mask_cluster_one]\n",
    "cluster_two = df_six[mask_cluster_two]\n",
    "cluster_three = df_six[mask_cluster_three]\n",
    "cluster_four = df_six[mask_cluster_three]\n"
   ]
  },
  {
   "cell_type": "code",
   "execution_count": 175,
   "id": "a1f51ec1",
   "metadata": {},
   "outputs": [
    {
     "data": {
      "text/plain": [
       "0.7201290493604362"
      ]
     },
     "execution_count": 175,
     "metadata": {},
     "output_type": "execute_result"
    }
   ],
   "source": [
    "cluster_one['relativeDamage'].median()"
   ]
  },
  {
   "cell_type": "code",
   "execution_count": 176,
   "id": "376f5461",
   "metadata": {},
   "outputs": [
    {
     "data": {
      "text/plain": [
       "0.1191087249068386"
      ]
     },
     "execution_count": 176,
     "metadata": {},
     "output_type": "execute_result"
    }
   ],
   "source": [
    "cluster_two['relativeDamage'].median()"
   ]
  },
  {
   "cell_type": "code",
   "execution_count": 177,
   "id": "eadc91d8",
   "metadata": {},
   "outputs": [
    {
     "data": {
      "text/plain": [
       "0.0694171529881066"
      ]
     },
     "execution_count": 177,
     "metadata": {},
     "output_type": "execute_result"
    }
   ],
   "source": [
    "cluster_three['relativeDamage'].median()"
   ]
  },
  {
   "cell_type": "code",
   "execution_count": 178,
   "id": "e09609fb",
   "metadata": {},
   "outputs": [
    {
     "data": {
      "text/plain": [
       "0.26565696712782594"
      ]
     },
     "execution_count": 178,
     "metadata": {},
     "output_type": "execute_result"
    }
   ],
   "source": [
    "df_six['relativeDamage'].median()"
   ]
  },
  {
   "cell_type": "code",
   "execution_count": 179,
   "id": "b0cccb54",
   "metadata": {},
   "outputs": [
    {
     "data": {
      "text/plain": [
       "1    7674\n",
       "6    7247\n",
       "2    6391\n",
       "7    4472\n",
       "5    4410\n",
       "0    3152\n",
       "3    2968\n",
       "4    1300\n",
       "dtype: int64"
      ]
     },
     "execution_count": 179,
     "metadata": {},
     "output_type": "execute_result"
    }
   ],
   "source": [
    "labels = pd.DataFrame(kmeans.labels_)\n",
    "labels.value_counts()"
   ]
  },
  {
   "cell_type": "code",
   "execution_count": 180,
   "id": "3f60d143",
   "metadata": {},
   "outputs": [],
   "source": [
    "df_zero_and_one = df[(df['waterDepth'] == 0) | (df['waterDepth'] == 1)]\n",
    "X_2 = df_zero_and_one[['proportionLeqOne', 'relativeDamage', 'elevationDifferenceImp']].sample(n=10000, random_state=42)\n",
    "new_labels = kmeans.predict(X_2)"
   ]
  },
  {
   "cell_type": "code",
   "execution_count": 181,
   "id": "aac2ffcc",
   "metadata": {},
   "outputs": [
    {
     "data": {
      "text/plain": [
       "0    3413\n",
       "1    3022\n",
       "4    2590\n",
       "3     936\n",
       "5      39\n",
       "dtype: int64"
      ]
     },
     "execution_count": 181,
     "metadata": {},
     "output_type": "execute_result"
    }
   ],
   "source": [
    "new_labels = pd.DataFrame(new_labels)\n",
    "new_labels.value_counts()"
   ]
  },
  {
   "cell_type": "code",
   "execution_count": 182,
   "id": "a2d08526",
   "metadata": {},
   "outputs": [
    {
     "data": {
      "text/plain": [
       "0.20401977986919764"
      ]
     },
     "execution_count": 182,
     "metadata": {},
     "output_type": "execute_result"
    }
   ],
   "source": [
    "len(cluster_two) / len(df_six)"
   ]
  },
  {
   "cell_type": "markdown",
   "id": "57016eda",
   "metadata": {},
   "source": [
    "# Three Variables and Nine Clusters"
   ]
  },
  {
   "cell_type": "code",
   "execution_count": 183,
   "id": "251d37a8",
   "metadata": {},
   "outputs": [
    {
     "data": {
      "text/html": [
       "<style>#sk-container-id-13 {color: black;background-color: white;}#sk-container-id-13 pre{padding: 0;}#sk-container-id-13 div.sk-toggleable {background-color: white;}#sk-container-id-13 label.sk-toggleable__label {cursor: pointer;display: block;width: 100%;margin-bottom: 0;padding: 0.3em;box-sizing: border-box;text-align: center;}#sk-container-id-13 label.sk-toggleable__label-arrow:before {content: \"▸\";float: left;margin-right: 0.25em;color: #696969;}#sk-container-id-13 label.sk-toggleable__label-arrow:hover:before {color: black;}#sk-container-id-13 div.sk-estimator:hover label.sk-toggleable__label-arrow:before {color: black;}#sk-container-id-13 div.sk-toggleable__content {max-height: 0;max-width: 0;overflow: hidden;text-align: left;background-color: #f0f8ff;}#sk-container-id-13 div.sk-toggleable__content pre {margin: 0.2em;color: black;border-radius: 0.25em;background-color: #f0f8ff;}#sk-container-id-13 input.sk-toggleable__control:checked~div.sk-toggleable__content {max-height: 200px;max-width: 100%;overflow: auto;}#sk-container-id-13 input.sk-toggleable__control:checked~label.sk-toggleable__label-arrow:before {content: \"▾\";}#sk-container-id-13 div.sk-estimator input.sk-toggleable__control:checked~label.sk-toggleable__label {background-color: #d4ebff;}#sk-container-id-13 div.sk-label input.sk-toggleable__control:checked~label.sk-toggleable__label {background-color: #d4ebff;}#sk-container-id-13 input.sk-hidden--visually {border: 0;clip: rect(1px 1px 1px 1px);clip: rect(1px, 1px, 1px, 1px);height: 1px;margin: -1px;overflow: hidden;padding: 0;position: absolute;width: 1px;}#sk-container-id-13 div.sk-estimator {font-family: monospace;background-color: #f0f8ff;border: 1px dotted black;border-radius: 0.25em;box-sizing: border-box;margin-bottom: 0.5em;}#sk-container-id-13 div.sk-estimator:hover {background-color: #d4ebff;}#sk-container-id-13 div.sk-parallel-item::after {content: \"\";width: 100%;border-bottom: 1px solid gray;flex-grow: 1;}#sk-container-id-13 div.sk-label:hover label.sk-toggleable__label {background-color: #d4ebff;}#sk-container-id-13 div.sk-serial::before {content: \"\";position: absolute;border-left: 1px solid gray;box-sizing: border-box;top: 0;bottom: 0;left: 50%;z-index: 0;}#sk-container-id-13 div.sk-serial {display: flex;flex-direction: column;align-items: center;background-color: white;padding-right: 0.2em;padding-left: 0.2em;position: relative;}#sk-container-id-13 div.sk-item {position: relative;z-index: 1;}#sk-container-id-13 div.sk-parallel {display: flex;align-items: stretch;justify-content: center;background-color: white;position: relative;}#sk-container-id-13 div.sk-item::before, #sk-container-id-13 div.sk-parallel-item::before {content: \"\";position: absolute;border-left: 1px solid gray;box-sizing: border-box;top: 0;bottom: 0;left: 50%;z-index: -1;}#sk-container-id-13 div.sk-parallel-item {display: flex;flex-direction: column;z-index: 1;position: relative;background-color: white;}#sk-container-id-13 div.sk-parallel-item:first-child::after {align-self: flex-end;width: 50%;}#sk-container-id-13 div.sk-parallel-item:last-child::after {align-self: flex-start;width: 50%;}#sk-container-id-13 div.sk-parallel-item:only-child::after {width: 0;}#sk-container-id-13 div.sk-dashed-wrapped {border: 1px dashed gray;margin: 0 0.4em 0.5em 0.4em;box-sizing: border-box;padding-bottom: 0.4em;background-color: white;}#sk-container-id-13 div.sk-label label {font-family: monospace;font-weight: bold;display: inline-block;line-height: 1.2em;}#sk-container-id-13 div.sk-label-container {text-align: center;}#sk-container-id-13 div.sk-container {/* jupyter's `normalize.less` sets `[hidden] { display: none; }` but bootstrap.min.css set `[hidden] { display: none !important; }` so we also need the `!important` here to be able to override the default hidden behavior on the sphinx rendered scikit-learn.org. See: https://github.com/scikit-learn/scikit-learn/issues/21755 */display: inline-block !important;position: relative;}#sk-container-id-13 div.sk-text-repr-fallback {display: none;}</style><div id=\"sk-container-id-13\" class=\"sk-top-container\"><div class=\"sk-text-repr-fallback\"><pre>KMeans(n_clusters=9, random_state=42)</pre><b>In a Jupyter environment, please rerun this cell to show the HTML representation or trust the notebook. <br />On GitHub, the HTML representation is unable to render, please try loading this page with nbviewer.org.</b></div><div class=\"sk-container\" hidden><div class=\"sk-item\"><div class=\"sk-estimator sk-toggleable\"><input class=\"sk-toggleable__control sk-hidden--visually\" id=\"sk-estimator-id-13\" type=\"checkbox\" checked><label for=\"sk-estimator-id-13\" class=\"sk-toggleable__label sk-toggleable__label-arrow\">KMeans</label><div class=\"sk-toggleable__content\"><pre>KMeans(n_clusters=9, random_state=42)</pre></div></div></div></div></div>"
      ],
      "text/plain": [
       "KMeans(n_clusters=9, random_state=42)"
      ]
     },
     "execution_count": 183,
     "metadata": {},
     "output_type": "execute_result"
    }
   ],
   "source": [
    "kmeans = KMeans(n_clusters = 9, random_state = 42)\n",
    "X = df_six[['proportionLeqOne', 'relativeDamage', 'elevationDifferenceImp']]\n",
    "# Compute means and standard deviations for each column\n",
    "means = np.mean(X, axis=0)\n",
    "std_devs = np.std(X, axis=0)\n",
    "\n",
    "# Standardize\n",
    "X = (X - means) / std_devs\n",
    "kmeans.fit(X)"
   ]
  },
  {
   "cell_type": "code",
   "execution_count": 184,
   "id": "6668a11a",
   "metadata": {},
   "outputs": [],
   "source": [
    "# Get boolean masks for each cluster\n",
    "mask_cluster_one = kmeans.labels_ == 0\n",
    "mask_cluster_two = kmeans.labels_ == 1\n",
    "mask_cluster_three = kmeans.labels_ == 2\n",
    "mask_cluster_four = kmeans.labels_ == 3\n",
    "\n",
    "\n",
    "cluster_one = df_six[mask_cluster_one]\n",
    "cluster_two = df_six[mask_cluster_two]\n",
    "cluster_three = df_six[mask_cluster_three]\n",
    "cluster_four = df_six[mask_cluster_three]\n"
   ]
  },
  {
   "cell_type": "code",
   "execution_count": 185,
   "id": "54d628b2",
   "metadata": {},
   "outputs": [
    {
     "data": {
      "text/plain": [
       "0.1147551015866657"
      ]
     },
     "execution_count": 185,
     "metadata": {},
     "output_type": "execute_result"
    }
   ],
   "source": [
    "cluster_one['relativeDamage'].median()"
   ]
  },
  {
   "cell_type": "code",
   "execution_count": 186,
   "id": "6549fd71",
   "metadata": {},
   "outputs": [
    {
     "data": {
      "text/plain": [
       "0.5069444444444444"
      ]
     },
     "execution_count": 186,
     "metadata": {},
     "output_type": "execute_result"
    }
   ],
   "source": [
    "cluster_two['relativeDamage'].median()"
   ]
  },
  {
   "cell_type": "code",
   "execution_count": 187,
   "id": "df6bec07",
   "metadata": {},
   "outputs": [
    {
     "data": {
      "text/plain": [
       "0.06867827776655215"
      ]
     },
     "execution_count": 187,
     "metadata": {},
     "output_type": "execute_result"
    }
   ],
   "source": [
    "cluster_three['relativeDamage'].median()"
   ]
  },
  {
   "cell_type": "code",
   "execution_count": 188,
   "id": "f97d324a",
   "metadata": {},
   "outputs": [
    {
     "data": {
      "text/plain": [
       "0.26565696712782594"
      ]
     },
     "execution_count": 188,
     "metadata": {},
     "output_type": "execute_result"
    }
   ],
   "source": [
    "df_six['relativeDamage'].median()"
   ]
  },
  {
   "cell_type": "code",
   "execution_count": 189,
   "id": "e14e440d",
   "metadata": {},
   "outputs": [
    {
     "data": {
      "text/plain": [
       "6    7416\n",
       "4    7219\n",
       "2    6442\n",
       "1    4385\n",
       "0    4351\n",
       "8    3120\n",
       "5    2228\n",
       "7    1286\n",
       "3    1167\n",
       "dtype: int64"
      ]
     },
     "execution_count": 189,
     "metadata": {},
     "output_type": "execute_result"
    }
   ],
   "source": [
    "labels = pd.DataFrame(kmeans.labels_)\n",
    "labels.value_counts()"
   ]
  },
  {
   "cell_type": "code",
   "execution_count": 190,
   "id": "6e3128cc",
   "metadata": {},
   "outputs": [],
   "source": [
    "df_zero_and_one = df[(df['waterDepth'] == 0) | (df['waterDepth'] == 1)]\n",
    "X_2 = df_zero_and_one[['proportionLeqOne', 'relativeDamage', 'elevationDifferenceImp']].sample(n=10000, random_state=42)\n",
    "new_labels = kmeans.predict(X_2)"
   ]
  },
  {
   "cell_type": "code",
   "execution_count": 191,
   "id": "e2b746c4",
   "metadata": {},
   "outputs": [
    {
     "data": {
      "text/plain": [
       "8    3116\n",
       "6    3090\n",
       "7    2588\n",
       "3     707\n",
       "5     474\n",
       "1      25\n",
       "dtype: int64"
      ]
     },
     "execution_count": 191,
     "metadata": {},
     "output_type": "execute_result"
    }
   ],
   "source": [
    "new_labels = pd.DataFrame(new_labels)\n",
    "new_labels.value_counts()"
   ]
  },
  {
   "cell_type": "code",
   "execution_count": 192,
   "id": "a0ec5689",
   "metadata": {},
   "outputs": [
    {
     "data": {
      "text/plain": [
       "0.11657893337587069"
      ]
     },
     "execution_count": 192,
     "metadata": {},
     "output_type": "execute_result"
    }
   ],
   "source": [
    "len(cluster_two) / len(df_six)"
   ]
  },
  {
   "cell_type": "markdown",
   "id": "3be8180c",
   "metadata": {},
   "source": [
    "# Three Variables and Ten Clusters"
   ]
  },
  {
   "cell_type": "code",
   "execution_count": 193,
   "id": "ba92f314",
   "metadata": {},
   "outputs": [
    {
     "data": {
      "text/html": [
       "<style>#sk-container-id-14 {color: black;background-color: white;}#sk-container-id-14 pre{padding: 0;}#sk-container-id-14 div.sk-toggleable {background-color: white;}#sk-container-id-14 label.sk-toggleable__label {cursor: pointer;display: block;width: 100%;margin-bottom: 0;padding: 0.3em;box-sizing: border-box;text-align: center;}#sk-container-id-14 label.sk-toggleable__label-arrow:before {content: \"▸\";float: left;margin-right: 0.25em;color: #696969;}#sk-container-id-14 label.sk-toggleable__label-arrow:hover:before {color: black;}#sk-container-id-14 div.sk-estimator:hover label.sk-toggleable__label-arrow:before {color: black;}#sk-container-id-14 div.sk-toggleable__content {max-height: 0;max-width: 0;overflow: hidden;text-align: left;background-color: #f0f8ff;}#sk-container-id-14 div.sk-toggleable__content pre {margin: 0.2em;color: black;border-radius: 0.25em;background-color: #f0f8ff;}#sk-container-id-14 input.sk-toggleable__control:checked~div.sk-toggleable__content {max-height: 200px;max-width: 100%;overflow: auto;}#sk-container-id-14 input.sk-toggleable__control:checked~label.sk-toggleable__label-arrow:before {content: \"▾\";}#sk-container-id-14 div.sk-estimator input.sk-toggleable__control:checked~label.sk-toggleable__label {background-color: #d4ebff;}#sk-container-id-14 div.sk-label input.sk-toggleable__control:checked~label.sk-toggleable__label {background-color: #d4ebff;}#sk-container-id-14 input.sk-hidden--visually {border: 0;clip: rect(1px 1px 1px 1px);clip: rect(1px, 1px, 1px, 1px);height: 1px;margin: -1px;overflow: hidden;padding: 0;position: absolute;width: 1px;}#sk-container-id-14 div.sk-estimator {font-family: monospace;background-color: #f0f8ff;border: 1px dotted black;border-radius: 0.25em;box-sizing: border-box;margin-bottom: 0.5em;}#sk-container-id-14 div.sk-estimator:hover {background-color: #d4ebff;}#sk-container-id-14 div.sk-parallel-item::after {content: \"\";width: 100%;border-bottom: 1px solid gray;flex-grow: 1;}#sk-container-id-14 div.sk-label:hover label.sk-toggleable__label {background-color: #d4ebff;}#sk-container-id-14 div.sk-serial::before {content: \"\";position: absolute;border-left: 1px solid gray;box-sizing: border-box;top: 0;bottom: 0;left: 50%;z-index: 0;}#sk-container-id-14 div.sk-serial {display: flex;flex-direction: column;align-items: center;background-color: white;padding-right: 0.2em;padding-left: 0.2em;position: relative;}#sk-container-id-14 div.sk-item {position: relative;z-index: 1;}#sk-container-id-14 div.sk-parallel {display: flex;align-items: stretch;justify-content: center;background-color: white;position: relative;}#sk-container-id-14 div.sk-item::before, #sk-container-id-14 div.sk-parallel-item::before {content: \"\";position: absolute;border-left: 1px solid gray;box-sizing: border-box;top: 0;bottom: 0;left: 50%;z-index: -1;}#sk-container-id-14 div.sk-parallel-item {display: flex;flex-direction: column;z-index: 1;position: relative;background-color: white;}#sk-container-id-14 div.sk-parallel-item:first-child::after {align-self: flex-end;width: 50%;}#sk-container-id-14 div.sk-parallel-item:last-child::after {align-self: flex-start;width: 50%;}#sk-container-id-14 div.sk-parallel-item:only-child::after {width: 0;}#sk-container-id-14 div.sk-dashed-wrapped {border: 1px dashed gray;margin: 0 0.4em 0.5em 0.4em;box-sizing: border-box;padding-bottom: 0.4em;background-color: white;}#sk-container-id-14 div.sk-label label {font-family: monospace;font-weight: bold;display: inline-block;line-height: 1.2em;}#sk-container-id-14 div.sk-label-container {text-align: center;}#sk-container-id-14 div.sk-container {/* jupyter's `normalize.less` sets `[hidden] { display: none; }` but bootstrap.min.css set `[hidden] { display: none !important; }` so we also need the `!important` here to be able to override the default hidden behavior on the sphinx rendered scikit-learn.org. See: https://github.com/scikit-learn/scikit-learn/issues/21755 */display: inline-block !important;position: relative;}#sk-container-id-14 div.sk-text-repr-fallback {display: none;}</style><div id=\"sk-container-id-14\" class=\"sk-top-container\"><div class=\"sk-text-repr-fallback\"><pre>KMeans(n_clusters=10, random_state=42)</pre><b>In a Jupyter environment, please rerun this cell to show the HTML representation or trust the notebook. <br />On GitHub, the HTML representation is unable to render, please try loading this page with nbviewer.org.</b></div><div class=\"sk-container\" hidden><div class=\"sk-item\"><div class=\"sk-estimator sk-toggleable\"><input class=\"sk-toggleable__control sk-hidden--visually\" id=\"sk-estimator-id-14\" type=\"checkbox\" checked><label for=\"sk-estimator-id-14\" class=\"sk-toggleable__label sk-toggleable__label-arrow\">KMeans</label><div class=\"sk-toggleable__content\"><pre>KMeans(n_clusters=10, random_state=42)</pre></div></div></div></div></div>"
      ],
      "text/plain": [
       "KMeans(n_clusters=10, random_state=42)"
      ]
     },
     "execution_count": 193,
     "metadata": {},
     "output_type": "execute_result"
    }
   ],
   "source": [
    "kmeans = KMeans(n_clusters = 10, random_state = 42)\n",
    "X = df_six[['proportionLeqOne', 'relativeDamage', 'elevationDifferenceImp']]\n",
    "# Compute means and standard deviations for each column\n",
    "means = np.mean(X, axis=0)\n",
    "std_devs = np.std(X, axis=0)\n",
    "\n",
    "# Standardize\n",
    "X = (X - means) / std_devs\n",
    "kmeans.fit(X)"
   ]
  },
  {
   "cell_type": "code",
   "execution_count": 194,
   "id": "defa4dd7",
   "metadata": {},
   "outputs": [],
   "source": [
    "# Get boolean masks for each cluster\n",
    "mask_cluster_one = kmeans.labels_ == 0\n",
    "mask_cluster_two = kmeans.labels_ == 1\n",
    "mask_cluster_three = kmeans.labels_ == 2\n",
    "mask_cluster_four = kmeans.labels_ == 3\n",
    "\n",
    "\n",
    "cluster_one = df_six[mask_cluster_one]\n",
    "cluster_two = df_six[mask_cluster_two]\n",
    "cluster_three = df_six[mask_cluster_three]\n",
    "cluster_four = df_six[mask_cluster_three]\n"
   ]
  },
  {
   "cell_type": "code",
   "execution_count": 195,
   "id": "9756249f",
   "metadata": {},
   "outputs": [
    {
     "data": {
      "text/plain": [
       "0.505616428058082"
      ]
     },
     "execution_count": 195,
     "metadata": {},
     "output_type": "execute_result"
    }
   ],
   "source": [
    "cluster_one['relativeDamage'].median()"
   ]
  },
  {
   "cell_type": "code",
   "execution_count": 196,
   "id": "8d245042",
   "metadata": {},
   "outputs": [
    {
     "data": {
      "text/plain": [
       "0.1193867663344407"
      ]
     },
     "execution_count": 196,
     "metadata": {},
     "output_type": "execute_result"
    }
   ],
   "source": [
    "cluster_two['relativeDamage'].median()"
   ]
  },
  {
   "cell_type": "code",
   "execution_count": 197,
   "id": "9316d172",
   "metadata": {},
   "outputs": [
    {
     "data": {
      "text/plain": [
       "0.12302616435976274"
      ]
     },
     "execution_count": 197,
     "metadata": {},
     "output_type": "execute_result"
    }
   ],
   "source": [
    "cluster_three['relativeDamage'].median()"
   ]
  },
  {
   "cell_type": "code",
   "execution_count": 198,
   "id": "cfa3ef93",
   "metadata": {},
   "outputs": [
    {
     "data": {
      "text/plain": [
       "0.26565696712782594"
      ]
     },
     "execution_count": 198,
     "metadata": {},
     "output_type": "execute_result"
    }
   ],
   "source": [
    "df_six['relativeDamage'].median()"
   ]
  },
  {
   "cell_type": "code",
   "execution_count": 199,
   "id": "71c26823",
   "metadata": {},
   "outputs": [
    {
     "data": {
      "text/plain": [
       "1    7435\n",
       "8    7216\n",
       "3    6210\n",
       "0    4324\n",
       "4    4283\n",
       "7    3098\n",
       "6    1863\n",
       "5    1474\n",
       "9    1271\n",
       "2     440\n",
       "dtype: int64"
      ]
     },
     "execution_count": 199,
     "metadata": {},
     "output_type": "execute_result"
    }
   ],
   "source": [
    "labels = pd.DataFrame(kmeans.labels_)\n",
    "labels.value_counts()"
   ]
  },
  {
   "cell_type": "code",
   "execution_count": 200,
   "id": "40be5b8a",
   "metadata": {},
   "outputs": [],
   "source": [
    "df_zero_and_one = df[(df['waterDepth'] == 0) | (df['waterDepth'] == 1)]\n",
    "X_2 = df_zero_and_one[['proportionLeqOne', 'relativeDamage', 'elevationDifferenceImp']].sample(n=10000, random_state=42)\n",
    "new_labels = kmeans.predict(X_2)"
   ]
  },
  {
   "cell_type": "code",
   "execution_count": 201,
   "id": "7d16f063",
   "metadata": {},
   "outputs": [
    {
     "data": {
      "text/plain": [
       "7    3134\n",
       "1    3065\n",
       "9    2588\n",
       "2     642\n",
       "6     518\n",
       "0      45\n",
       "5       8\n",
       "dtype: int64"
      ]
     },
     "execution_count": 201,
     "metadata": {},
     "output_type": "execute_result"
    }
   ],
   "source": [
    "new_labels = pd.DataFrame(new_labels)\n",
    "new_labels.value_counts()"
   ]
  },
  {
   "cell_type": "code",
   "execution_count": 202,
   "id": "7b40242f",
   "metadata": {},
   "outputs": [
    {
     "data": {
      "text/plain": [
       "0.197665762747913"
      ]
     },
     "execution_count": 202,
     "metadata": {},
     "output_type": "execute_result"
    }
   ],
   "source": [
    "len(cluster_two) / len(df_six)"
   ]
  },
  {
   "cell_type": "code",
   "execution_count": 203,
   "id": "bd2c6e6c",
   "metadata": {},
   "outputs": [
    {
     "data": {
      "text/plain": [
       "0.12362418248524486"
      ]
     },
     "execution_count": 203,
     "metadata": {},
     "output_type": "execute_result"
    }
   ],
   "source": [
    "# Three Variables and Seven Clusters\n",
    "\n",
    "kmeans = KMeans(n_clusters = 7, random_state = 42)\n",
    "X = df_six[['proportionLeqOne', 'relativeDamage', 'elevationDifferenceImp']]\n",
    "# Compute means and standard deviations for each column\n",
    "means = np.mean(X, axis=0)\n",
    "std_devs = np.std(X, axis=0)\n",
    "\n",
    "# Standardize\n",
    "X = (X - means) / std_devs\n",
    "kmeans.fit(X)\n",
    "\n",
    "# Get boolean masks for each cluster\n",
    "mask_cluster_one = kmeans.labels_ == 0\n",
    "mask_cluster_two = kmeans.labels_ == 1\n",
    "mask_cluster_three = kmeans.labels_ == 2\n",
    "mask_cluster_four = kmeans.labels_ == 3\n",
    "\n",
    "\n",
    "cluster_one = df_six[mask_cluster_one]\n",
    "cluster_two = df_six[mask_cluster_two]\n",
    "cluster_three = df_six[mask_cluster_three]\n",
    "cluster_four = df_six[mask_cluster_three]\n",
    "\n",
    "\n",
    "cluster_one['relativeDamage'].median()\n",
    "\n",
    "cluster_two['relativeDamage'].median()\n",
    "\n",
    "cluster_three['relativeDamage'].median()\n",
    "\n",
    "df_six['relativeDamage'].median()\n",
    "\n",
    "labels = pd.DataFrame(kmeans.labels_)\n",
    "labels.value_counts()\n",
    "\n",
    "df_zero_and_one = df[(df['waterDepth'] == 0) | (df['waterDepth'] == 1)]\n",
    "X_2 = df_zero_and_one[['proportionLeqOne', 'relativeDamage', 'elevationDifferenceImp']].sample(n=10000, random_state=42)\n",
    "new_labels = kmeans.predict(X_2)\n",
    "\n",
    "new_labels = pd.DataFrame(new_labels)\n",
    "new_labels.value_counts()\n",
    "\n",
    "len(cluster_two) / len(df_six)"
   ]
  },
  {
   "cell_type": "markdown",
   "id": "2ba9b8a2",
   "metadata": {},
   "source": [
    "# Three Variables and Eleven Clusters"
   ]
  },
  {
   "cell_type": "code",
   "execution_count": 204,
   "id": "51b8cd8f",
   "metadata": {},
   "outputs": [
    {
     "data": {
      "text/html": [
       "<style>#sk-container-id-15 {color: black;background-color: white;}#sk-container-id-15 pre{padding: 0;}#sk-container-id-15 div.sk-toggleable {background-color: white;}#sk-container-id-15 label.sk-toggleable__label {cursor: pointer;display: block;width: 100%;margin-bottom: 0;padding: 0.3em;box-sizing: border-box;text-align: center;}#sk-container-id-15 label.sk-toggleable__label-arrow:before {content: \"▸\";float: left;margin-right: 0.25em;color: #696969;}#sk-container-id-15 label.sk-toggleable__label-arrow:hover:before {color: black;}#sk-container-id-15 div.sk-estimator:hover label.sk-toggleable__label-arrow:before {color: black;}#sk-container-id-15 div.sk-toggleable__content {max-height: 0;max-width: 0;overflow: hidden;text-align: left;background-color: #f0f8ff;}#sk-container-id-15 div.sk-toggleable__content pre {margin: 0.2em;color: black;border-radius: 0.25em;background-color: #f0f8ff;}#sk-container-id-15 input.sk-toggleable__control:checked~div.sk-toggleable__content {max-height: 200px;max-width: 100%;overflow: auto;}#sk-container-id-15 input.sk-toggleable__control:checked~label.sk-toggleable__label-arrow:before {content: \"▾\";}#sk-container-id-15 div.sk-estimator input.sk-toggleable__control:checked~label.sk-toggleable__label {background-color: #d4ebff;}#sk-container-id-15 div.sk-label input.sk-toggleable__control:checked~label.sk-toggleable__label {background-color: #d4ebff;}#sk-container-id-15 input.sk-hidden--visually {border: 0;clip: rect(1px 1px 1px 1px);clip: rect(1px, 1px, 1px, 1px);height: 1px;margin: -1px;overflow: hidden;padding: 0;position: absolute;width: 1px;}#sk-container-id-15 div.sk-estimator {font-family: monospace;background-color: #f0f8ff;border: 1px dotted black;border-radius: 0.25em;box-sizing: border-box;margin-bottom: 0.5em;}#sk-container-id-15 div.sk-estimator:hover {background-color: #d4ebff;}#sk-container-id-15 div.sk-parallel-item::after {content: \"\";width: 100%;border-bottom: 1px solid gray;flex-grow: 1;}#sk-container-id-15 div.sk-label:hover label.sk-toggleable__label {background-color: #d4ebff;}#sk-container-id-15 div.sk-serial::before {content: \"\";position: absolute;border-left: 1px solid gray;box-sizing: border-box;top: 0;bottom: 0;left: 50%;z-index: 0;}#sk-container-id-15 div.sk-serial {display: flex;flex-direction: column;align-items: center;background-color: white;padding-right: 0.2em;padding-left: 0.2em;position: relative;}#sk-container-id-15 div.sk-item {position: relative;z-index: 1;}#sk-container-id-15 div.sk-parallel {display: flex;align-items: stretch;justify-content: center;background-color: white;position: relative;}#sk-container-id-15 div.sk-item::before, #sk-container-id-15 div.sk-parallel-item::before {content: \"\";position: absolute;border-left: 1px solid gray;box-sizing: border-box;top: 0;bottom: 0;left: 50%;z-index: -1;}#sk-container-id-15 div.sk-parallel-item {display: flex;flex-direction: column;z-index: 1;position: relative;background-color: white;}#sk-container-id-15 div.sk-parallel-item:first-child::after {align-self: flex-end;width: 50%;}#sk-container-id-15 div.sk-parallel-item:last-child::after {align-self: flex-start;width: 50%;}#sk-container-id-15 div.sk-parallel-item:only-child::after {width: 0;}#sk-container-id-15 div.sk-dashed-wrapped {border: 1px dashed gray;margin: 0 0.4em 0.5em 0.4em;box-sizing: border-box;padding-bottom: 0.4em;background-color: white;}#sk-container-id-15 div.sk-label label {font-family: monospace;font-weight: bold;display: inline-block;line-height: 1.2em;}#sk-container-id-15 div.sk-label-container {text-align: center;}#sk-container-id-15 div.sk-container {/* jupyter's `normalize.less` sets `[hidden] { display: none; }` but bootstrap.min.css set `[hidden] { display: none !important; }` so we also need the `!important` here to be able to override the default hidden behavior on the sphinx rendered scikit-learn.org. See: https://github.com/scikit-learn/scikit-learn/issues/21755 */display: inline-block !important;position: relative;}#sk-container-id-15 div.sk-text-repr-fallback {display: none;}</style><div id=\"sk-container-id-15\" class=\"sk-top-container\"><div class=\"sk-text-repr-fallback\"><pre>KMeans(n_clusters=11, random_state=42)</pre><b>In a Jupyter environment, please rerun this cell to show the HTML representation or trust the notebook. <br />On GitHub, the HTML representation is unable to render, please try loading this page with nbviewer.org.</b></div><div class=\"sk-container\" hidden><div class=\"sk-item\"><div class=\"sk-estimator sk-toggleable\"><input class=\"sk-toggleable__control sk-hidden--visually\" id=\"sk-estimator-id-15\" type=\"checkbox\" checked><label for=\"sk-estimator-id-15\" class=\"sk-toggleable__label sk-toggleable__label-arrow\">KMeans</label><div class=\"sk-toggleable__content\"><pre>KMeans(n_clusters=11, random_state=42)</pre></div></div></div></div></div>"
      ],
      "text/plain": [
       "KMeans(n_clusters=11, random_state=42)"
      ]
     },
     "execution_count": 204,
     "metadata": {},
     "output_type": "execute_result"
    }
   ],
   "source": [
    "kmeans = KMeans(n_clusters = 11, random_state = 42)\n",
    "X = df_six[['proportionLeqOne', 'relativeDamage', 'elevationDifferenceImp']]\n",
    "# Compute means and standard deviations for each column\n",
    "means = np.mean(X, axis=0)\n",
    "std_devs = np.std(X, axis=0)\n",
    "\n",
    "# Standardize\n",
    "X = (X - means) / std_devs\n",
    "kmeans.fit(X)"
   ]
  },
  {
   "cell_type": "code",
   "execution_count": 205,
   "id": "a13ba678",
   "metadata": {},
   "outputs": [],
   "source": [
    "# Get boolean masks for each cluster\n",
    "mask_cluster_one = kmeans.labels_ == 0\n",
    "mask_cluster_two = kmeans.labels_ == 1\n",
    "mask_cluster_three = kmeans.labels_ == 2\n",
    "mask_cluster_four = kmeans.labels_ == 3\n",
    "\n",
    "\n",
    "cluster_one = df_six[mask_cluster_one]\n",
    "cluster_two = df_six[mask_cluster_two]\n",
    "cluster_three = df_six[mask_cluster_three]\n",
    "cluster_four = df_six[mask_cluster_three]\n"
   ]
  },
  {
   "cell_type": "code",
   "execution_count": 206,
   "id": "609c94d2",
   "metadata": {
    "scrolled": true
   },
   "outputs": [
    {
     "data": {
      "text/plain": [
       "0.7237564676380027"
      ]
     },
     "execution_count": 206,
     "metadata": {},
     "output_type": "execute_result"
    }
   ],
   "source": [
    "cluster_one['relativeDamage'].median()"
   ]
  },
  {
   "cell_type": "code",
   "execution_count": 207,
   "id": "c5a097e7",
   "metadata": {},
   "outputs": [
    {
     "data": {
      "text/plain": [
       "0.11975353682172934"
      ]
     },
     "execution_count": 207,
     "metadata": {},
     "output_type": "execute_result"
    }
   ],
   "source": [
    "cluster_two['relativeDamage'].median()"
   ]
  },
  {
   "cell_type": "code",
   "execution_count": 208,
   "id": "37809bad",
   "metadata": {},
   "outputs": [
    {
     "data": {
      "text/plain": [
       "0.9871670788973724"
      ]
     },
     "execution_count": 208,
     "metadata": {},
     "output_type": "execute_result"
    }
   ],
   "source": [
    "cluster_three['relativeDamage'].median()"
   ]
  },
  {
   "cell_type": "code",
   "execution_count": 209,
   "id": "60d1d3b4",
   "metadata": {},
   "outputs": [
    {
     "data": {
      "text/plain": [
       "0.26565696712782594"
      ]
     },
     "execution_count": 209,
     "metadata": {},
     "output_type": "execute_result"
    }
   ],
   "source": [
    "df_six['relativeDamage'].median()"
   ]
  },
  {
   "cell_type": "code",
   "execution_count": 210,
   "id": "8be678e5",
   "metadata": {
    "scrolled": true
   },
   "outputs": [
    {
     "data": {
      "text/plain": [
       "1     7480\n",
       "2     7211\n",
       "3     6211\n",
       "8     4301\n",
       "6     4279\n",
       "0     3087\n",
       "4     1818\n",
       "7     1487\n",
       "10    1295\n",
       "5      431\n",
       "9       14\n",
       "dtype: int64"
      ]
     },
     "execution_count": 210,
     "metadata": {},
     "output_type": "execute_result"
    }
   ],
   "source": [
    "labels = pd.DataFrame(kmeans.labels_)\n",
    "labels.value_counts()"
   ]
  },
  {
   "cell_type": "code",
   "execution_count": 211,
   "id": "caef0341",
   "metadata": {},
   "outputs": [],
   "source": [
    "df_zero_and_one = df[(df['waterDepth'] == 0) | (df['waterDepth'] == 1)]\n",
    "X_2 = df_zero_and_one[['proportionLeqOne', 'relativeDamage', 'elevationDifferenceImp']].sample(n=10000, random_state=42)\n",
    "new_labels = kmeans.predict(X_2)"
   ]
  },
  {
   "cell_type": "code",
   "execution_count": 212,
   "id": "3b519ddb",
   "metadata": {
    "scrolled": true
   },
   "outputs": [
    {
     "data": {
      "text/plain": [
       "0     3166\n",
       "1     3034\n",
       "10    2446\n",
       "5      628\n",
       "4      524\n",
       "9      148\n",
       "8       43\n",
       "7       11\n",
       "dtype: int64"
      ]
     },
     "execution_count": 212,
     "metadata": {},
     "output_type": "execute_result"
    }
   ],
   "source": [
    "new_labels = pd.DataFrame(new_labels)\n",
    "new_labels.value_counts()"
   ]
  },
  {
   "cell_type": "code",
   "execution_count": 213,
   "id": "c1d5eab0",
   "metadata": {},
   "outputs": [
    {
     "data": {
      "text/plain": [
       "0.19886212580422183"
      ]
     },
     "execution_count": 213,
     "metadata": {},
     "output_type": "execute_result"
    }
   ],
   "source": [
    "len(cluster_two) / len(df_six)"
   ]
  },
  {
   "cell_type": "code",
   "execution_count": 214,
   "id": "5ff32735",
   "metadata": {},
   "outputs": [
    {
     "data": {
      "text/plain": [
       "0.12362418248524486"
      ]
     },
     "execution_count": 214,
     "metadata": {},
     "output_type": "execute_result"
    }
   ],
   "source": [
    "# Three Variables and Seven Clusters\n",
    "\n",
    "kmeans = KMeans(n_clusters = 7, random_state = 42)\n",
    "X = df_six[['proportionLeqOne', 'relativeDamage', 'elevationDifferenceImp']]\n",
    "# Compute means and standard deviations for each column\n",
    "means = np.mean(X, axis=0)\n",
    "std_devs = np.std(X, axis=0)\n",
    "\n",
    "# Standardize\n",
    "X = (X - means) / std_devs\n",
    "kmeans.fit(X)\n",
    "\n",
    "# Get boolean masks for each cluster\n",
    "mask_cluster_one = kmeans.labels_ == 0\n",
    "mask_cluster_two = kmeans.labels_ == 1\n",
    "mask_cluster_three = kmeans.labels_ == 2\n",
    "mask_cluster_four = kmeans.labels_ == 3\n",
    "\n",
    "\n",
    "cluster_one = df_six[mask_cluster_one]\n",
    "cluster_two = df_six[mask_cluster_two]\n",
    "cluster_three = df_six[mask_cluster_three]\n",
    "cluster_four = df_six[mask_cluster_three]\n",
    "\n",
    "\n",
    "cluster_one['relativeDamage'].median()\n",
    "\n",
    "cluster_two['relativeDamage'].median()\n",
    "\n",
    "cluster_three['relativeDamage'].median()\n",
    "\n",
    "df_six['relativeDamage'].median()\n",
    "\n",
    "labels = pd.DataFrame(kmeans.labels_)\n",
    "labels.value_counts()\n",
    "\n",
    "df_zero_and_one = df[(df['waterDepth'] == 0) | (df['waterDepth'] == 1)]\n",
    "X_2 = df_zero_and_one[['proportionLeqOne', 'relativeDamage', 'elevationDifferenceImp']].sample(n=10000, random_state=42)\n",
    "new_labels = kmeans.predict(X_2)\n",
    "\n",
    "new_labels = pd.DataFrame(new_labels)\n",
    "new_labels.value_counts()\n",
    "\n",
    "len(cluster_two) / len(df_six)"
   ]
  },
  {
   "cell_type": "code",
   "execution_count": null,
   "id": "8adf95a8",
   "metadata": {},
   "outputs": [],
   "source": []
  },
  {
   "cell_type": "markdown",
   "id": "a5a69fe2",
   "metadata": {},
   "source": [
    "# 2 Variables and 2 Clusters"
   ]
  },
  {
   "cell_type": "code",
   "execution_count": 490,
   "id": "55dec11a",
   "metadata": {},
   "outputs": [
    {
     "data": {
      "text/html": [
       "<style>#sk-container-id-39 {color: black;background-color: white;}#sk-container-id-39 pre{padding: 0;}#sk-container-id-39 div.sk-toggleable {background-color: white;}#sk-container-id-39 label.sk-toggleable__label {cursor: pointer;display: block;width: 100%;margin-bottom: 0;padding: 0.3em;box-sizing: border-box;text-align: center;}#sk-container-id-39 label.sk-toggleable__label-arrow:before {content: \"▸\";float: left;margin-right: 0.25em;color: #696969;}#sk-container-id-39 label.sk-toggleable__label-arrow:hover:before {color: black;}#sk-container-id-39 div.sk-estimator:hover label.sk-toggleable__label-arrow:before {color: black;}#sk-container-id-39 div.sk-toggleable__content {max-height: 0;max-width: 0;overflow: hidden;text-align: left;background-color: #f0f8ff;}#sk-container-id-39 div.sk-toggleable__content pre {margin: 0.2em;color: black;border-radius: 0.25em;background-color: #f0f8ff;}#sk-container-id-39 input.sk-toggleable__control:checked~div.sk-toggleable__content {max-height: 200px;max-width: 100%;overflow: auto;}#sk-container-id-39 input.sk-toggleable__control:checked~label.sk-toggleable__label-arrow:before {content: \"▾\";}#sk-container-id-39 div.sk-estimator input.sk-toggleable__control:checked~label.sk-toggleable__label {background-color: #d4ebff;}#sk-container-id-39 div.sk-label input.sk-toggleable__control:checked~label.sk-toggleable__label {background-color: #d4ebff;}#sk-container-id-39 input.sk-hidden--visually {border: 0;clip: rect(1px 1px 1px 1px);clip: rect(1px, 1px, 1px, 1px);height: 1px;margin: -1px;overflow: hidden;padding: 0;position: absolute;width: 1px;}#sk-container-id-39 div.sk-estimator {font-family: monospace;background-color: #f0f8ff;border: 1px dotted black;border-radius: 0.25em;box-sizing: border-box;margin-bottom: 0.5em;}#sk-container-id-39 div.sk-estimator:hover {background-color: #d4ebff;}#sk-container-id-39 div.sk-parallel-item::after {content: \"\";width: 100%;border-bottom: 1px solid gray;flex-grow: 1;}#sk-container-id-39 div.sk-label:hover label.sk-toggleable__label {background-color: #d4ebff;}#sk-container-id-39 div.sk-serial::before {content: \"\";position: absolute;border-left: 1px solid gray;box-sizing: border-box;top: 0;bottom: 0;left: 50%;z-index: 0;}#sk-container-id-39 div.sk-serial {display: flex;flex-direction: column;align-items: center;background-color: white;padding-right: 0.2em;padding-left: 0.2em;position: relative;}#sk-container-id-39 div.sk-item {position: relative;z-index: 1;}#sk-container-id-39 div.sk-parallel {display: flex;align-items: stretch;justify-content: center;background-color: white;position: relative;}#sk-container-id-39 div.sk-item::before, #sk-container-id-39 div.sk-parallel-item::before {content: \"\";position: absolute;border-left: 1px solid gray;box-sizing: border-box;top: 0;bottom: 0;left: 50%;z-index: -1;}#sk-container-id-39 div.sk-parallel-item {display: flex;flex-direction: column;z-index: 1;position: relative;background-color: white;}#sk-container-id-39 div.sk-parallel-item:first-child::after {align-self: flex-end;width: 50%;}#sk-container-id-39 div.sk-parallel-item:last-child::after {align-self: flex-start;width: 50%;}#sk-container-id-39 div.sk-parallel-item:only-child::after {width: 0;}#sk-container-id-39 div.sk-dashed-wrapped {border: 1px dashed gray;margin: 0 0.4em 0.5em 0.4em;box-sizing: border-box;padding-bottom: 0.4em;background-color: white;}#sk-container-id-39 div.sk-label label {font-family: monospace;font-weight: bold;display: inline-block;line-height: 1.2em;}#sk-container-id-39 div.sk-label-container {text-align: center;}#sk-container-id-39 div.sk-container {/* jupyter's `normalize.less` sets `[hidden] { display: none; }` but bootstrap.min.css set `[hidden] { display: none !important; }` so we also need the `!important` here to be able to override the default hidden behavior on the sphinx rendered scikit-learn.org. See: https://github.com/scikit-learn/scikit-learn/issues/21755 */display: inline-block !important;position: relative;}#sk-container-id-39 div.sk-text-repr-fallback {display: none;}</style><div id=\"sk-container-id-39\" class=\"sk-top-container\"><div class=\"sk-text-repr-fallback\"><pre>KMeans(n_clusters=6, random_state=42)</pre><b>In a Jupyter environment, please rerun this cell to show the HTML representation or trust the notebook. <br />On GitHub, the HTML representation is unable to render, please try loading this page with nbviewer.org.</b></div><div class=\"sk-container\" hidden><div class=\"sk-item\"><div class=\"sk-estimator sk-toggleable\"><input class=\"sk-toggleable__control sk-hidden--visually\" id=\"sk-estimator-id-39\" type=\"checkbox\" checked><label for=\"sk-estimator-id-39\" class=\"sk-toggleable__label sk-toggleable__label-arrow\">KMeans</label><div class=\"sk-toggleable__content\"><pre>KMeans(n_clusters=6, random_state=42)</pre></div></div></div></div></div>"
      ],
      "text/plain": [
       "KMeans(n_clusters=6, random_state=42)"
      ]
     },
     "execution_count": 490,
     "metadata": {},
     "output_type": "execute_result"
    }
   ],
   "source": [
    "kmeans = KMeans(n_clusters = 6, random_state = 42)\n",
    "df_six =df_six[ ~df_six['numberOfFloorsInTheInsuredBuilding'].isna() & (~df_six['buildingPropertyValue'].isna())]\n",
    "X = df_six[['proportionLeqOne', 'relativeDamage', 'elevationDifferenceImp', 'buildingDamageAmount', 'proportionLeqSix', 'numberOfFloorsInTheInsuredBuilding', 'buildingPropertyValue']]\n",
    "# Compute means and standard deviations for each column\n",
    "means = np.mean(X, axis=0)\n",
    "std_devs = np.std(X, axis=0)\n",
    "\n",
    "# Standardize\n",
    "X = (X - means) / std_devs\n",
    "kmeans.fit(X)"
   ]
  },
  {
   "cell_type": "code",
   "execution_count": 491,
   "id": "cb71d0af",
   "metadata": {},
   "outputs": [],
   "source": [
    "# Get boolean masks for each cluster\n",
    "mask_cluster_one = kmeans.labels_ == 0\n",
    "mask_cluster_two = kmeans.labels_ == 1\n",
    "\n",
    "\n",
    "\n",
    "cluster_one = df_six[mask_cluster_one]\n",
    "cluster_two = df_six[mask_cluster_two]\n",
    "\n"
   ]
  },
  {
   "cell_type": "code",
   "execution_count": 492,
   "id": "9ea40371",
   "metadata": {
    "scrolled": true
   },
   "outputs": [
    {
     "data": {
      "text/plain": [
       "0    11859\n",
       "2    11452\n",
       "1     7502\n",
       "5     6649\n",
       "3        5\n",
       "4        1\n",
       "dtype: int64"
      ]
     },
     "execution_count": 492,
     "metadata": {},
     "output_type": "execute_result"
    }
   ],
   "source": [
    "labels = pd.DataFrame(kmeans.labels_)\n",
    "labels.value_counts()"
   ]
  },
  {
   "cell_type": "code",
   "execution_count": 493,
   "id": "f662ef27",
   "metadata": {},
   "outputs": [
    {
     "data": {
      "text/plain": [
       "0.6220775061385716"
      ]
     },
     "execution_count": 493,
     "metadata": {},
     "output_type": "execute_result"
    }
   ],
   "source": [
    "(11859+11452)/len(df_six)"
   ]
  },
  {
   "cell_type": "code",
   "execution_count": 494,
   "id": "ae799fce",
   "metadata": {},
   "outputs": [],
   "source": [
    "df_zero_and_one = df[(df['waterDepth'] == 0) | (df['waterDepth'] == 1)]\n",
    "df_zero_and_one =df_zero_and_one[ ~df_zero_and_one['numberOfFloorsInTheInsuredBuilding'].isna() & (~df_zero_and_one['buildingPropertyValue'].isna())]\n",
    "\n",
    "X_2 = df_zero_and_one[['proportionLeqOne', 'relativeDamage', 'elevationDifferenceImp', 'buildingDamageAmount', 'proportionLeqSix', 'numberOfFloorsInTheInsuredBuilding', 'buildingPropertyValue']].sample(n=10000, random_state=42)\n",
    "\n",
    "# Compute means and standard deviations for each column\n",
    "means = np.mean(X_2, axis=0)\n",
    "std_devs = np.std(X_2, axis=0)\n",
    "X_2 = (X_2 - means) / std_devs\n",
    "\n",
    "new_labels = kmeans.predict(X_2)"
   ]
  },
  {
   "cell_type": "code",
   "execution_count": 495,
   "id": "fd24f648",
   "metadata": {
    "scrolled": true
   },
   "outputs": [
    {
     "data": {
      "text/plain": [
       "0    4361\n",
       "2    2641\n",
       "5    1753\n",
       "1    1245\n",
       "dtype: int64"
      ]
     },
     "execution_count": 495,
     "metadata": {},
     "output_type": "execute_result"
    }
   ],
   "source": [
    "new_labels = pd.DataFrame(new_labels)\n",
    "new_labels.value_counts()"
   ]
  },
  {
   "cell_type": "code",
   "execution_count": 500,
   "id": "1c494783",
   "metadata": {},
   "outputs": [
    {
     "data": {
      "text/plain": [
       "0.7002"
      ]
     },
     "execution_count": 500,
     "metadata": {},
     "output_type": "execute_result"
    }
   ],
   "source": [
    "(4361+2641)/10000"
   ]
  },
  {
   "cell_type": "code",
   "execution_count": 497,
   "id": "95b64875",
   "metadata": {},
   "outputs": [],
   "source": [
    "df_five = df[(df['waterDepth'] == 5)]\n",
    "df_five =df_five[ ~df_five['numberOfFloorsInTheInsuredBuilding'].isna() & (~df_five['buildingPropertyValue'].isna())]\n",
    "\n",
    "X_3 = df_five[['proportionLeqOne', 'relativeDamage','elevationDifferenceImp', 'buildingDamageAmount', 'proportionLeqSix', 'numberOfFloorsInTheInsuredBuilding', 'buildingPropertyValue']].sample(n=10000, random_state=42)\n",
    "means = np.mean(X_3, axis=0)\n",
    "std_devs = np.std(X_3, axis=0)\n",
    "X_3 = (X_3 - means) / std_devs\n",
    "\n",
    "new_labels = kmeans.predict(X_3)"
   ]
  },
  {
   "cell_type": "code",
   "execution_count": 498,
   "id": "c0fe5eee",
   "metadata": {},
   "outputs": [
    {
     "data": {
      "text/plain": [
       "2    3233\n",
       "0    3061\n",
       "1    1890\n",
       "5    1815\n",
       "3       1\n",
       "dtype: int64"
      ]
     },
     "execution_count": 498,
     "metadata": {},
     "output_type": "execute_result"
    }
   ],
   "source": [
    "new_new_labels = pd.DataFrame(new_labels)\n",
    "new_new_labels.value_counts()"
   ]
  },
  {
   "cell_type": "code",
   "execution_count": 501,
   "id": "a3ee3a6c",
   "metadata": {},
   "outputs": [
    {
     "data": {
      "text/plain": [
       "0.6294"
      ]
     },
     "execution_count": 501,
     "metadata": {},
     "output_type": "execute_result"
    }
   ],
   "source": [
    "(3061+3233 )/10000"
   ]
  },
  {
   "cell_type": "code",
   "execution_count": null,
   "id": "b44d9556",
   "metadata": {},
   "outputs": [],
   "source": []
  },
  {
   "cell_type": "code",
   "execution_count": 523,
   "id": "a46881c9",
   "metadata": {},
   "outputs": [],
   "source": [
    "bins = [0, 1, 2, 3, 4, 5]  # Define your bins as required\n",
    "labels = ['0-1', '1-2', '2-3', '3-4', '4-5']  # Labels for the bin intervals\n",
    "df = df[abs(df['waterDepth']) <7 ]\n",
    "df = df[abs(df['elevationDifferenceImp']) <10 ]\n",
    "df['elevationDifferenceImp_bin'] = pd.cut(df['elevationDifferenceImp'], bins=bins, labels=labels, right=False)\n"
   ]
  },
  {
   "cell_type": "code",
   "execution_count": 516,
   "id": "6e054a67",
   "metadata": {},
   "outputs": [
    {
     "data": {
      "image/png": "[encoded data removed]",
      "text/plain": [
       "<Figure size 1000x600 with 1 Axes>"
      ]
     },
     "metadata": {},
     "output_type": "display_data"
    }
   ],
   "source": [
    "plt.figure(figsize=(10, 6))\n",
    "sns.boxplot(x='elevationDifferenceImp_bin', y='waterDepth', data=df)\n",
    "plt.title('Boxplot of binned elevationDifferenceImp vs. waterDepth')\n",
    "plt.show()\n"
   ]
  },
  {
   "cell_type": "code",
   "execution_count": 519,
   "id": "c975d511",
   "metadata": {},
   "outputs": [
    {
     "data": {
      "image/png": "[encoded data removed]",
      "text/plain": [
       "<Figure size 1000x600 with 1 Axes>"
      ]
     },
     "metadata": {},
     "output_type": "display_data"
    }
   ],
   "source": [
    "\n",
    "\n",
    "# Determine the number of bins\n",
    "n_bins = 6\n",
    "\n",
    "# Calculate quantile bin edges\n",
    "quantiles = df['elevationDifferenceImp'].quantile([i/n_bins for i in range(n_bins+1)])\n",
    "\n",
    "# Bin the data using quantiles\n",
    "df['elevationDifferenceImp_bin'] = pd.cut(df['elevationDifferenceImp'], bins=quantiles, include_lowest=True, precision=2, duplicates='drop')\n",
    "\n",
    "# Create the boxplot\n",
    "plt.figure(figsize=(10, 6))\n",
    "sns.boxplot(x='elevationDifferenceImp_bin', y='waterDepth', data=df)\n",
    "plt.title('Boxplot of binned elevationDifferenceImp vs. waterDepth')\n",
    "plt.show()"
   ]
  },
  {
   "cell_type": "code",
   "execution_count": 524,
   "id": "8826dbb2",
   "metadata": {},
   "outputs": [
    {
     "data": {
      "image/png": "[encoded data removed]",
      "text/plain": [
       "<Figure size 1000x600 with 1 Axes>"
      ]
     },
     "metadata": {},
     "output_type": "display_data"
    }
   ],
   "source": [
    "\n",
    "\n",
    "# Define bins from -5 to 5 in 1 unit increments\n",
    "bins = list(range(-5, 6))\n",
    "\n",
    "# Bin the data\n",
    "df['elevationDifferenceImp_bin'] = pd.cut(df['elevationDifferenceImp'], bins=bins, include_lowest=True, right=False)\n",
    "\n",
    "# Create the boxplot\n",
    "plt.figure(figsize=(10, 6))\n",
    "sns.boxplot(x='elevationDifferenceImp_bin', y='waterDepth', data=df)\n",
    "plt.title('Boxplot of binned elevationDifferenceImp vs. waterDepth')\n",
    "plt.show()"
   ]
  },
  {
   "cell_type": "code",
   "execution_count": null,
   "id": "cdd51066",
   "metadata": {},
   "outputs": [],
   "source": []
  },
  {
   "cell_type": "code",
   "execution_count": null,
   "id": "f6b6de83",
   "metadata": {},
   "outputs": [],
   "source": []
  },
  {
   "cell_type": "code",
   "execution_count": null,
   "id": "1e639d7c",
   "metadata": {},
   "outputs": [],
   "source": []
  },
  {
   "cell_type": "code",
   "execution_count": null,
   "id": "fce3d309",
   "metadata": {},
   "outputs": [],
   "source": []
  }
 ],
 "metadata": {
  "kernelspec": {
   "display_name": "Python 3 (ipykernel)",
   "language": "python",
   "name": "python3"
  },
  "language_info": {
   "codemirror_mode": {
    "name": "ipython",
    "version": 3
   },
   "file_extension": ".py",
   "mimetype": "text/x-python",
   "name": "python",
   "nbconvert_exporter": "python",
   "pygments_lexer": "ipython3",
   "version": "3.8.17"
  }
 },
 "nbformat": 4,
 "nbformat_minor": 5
}
