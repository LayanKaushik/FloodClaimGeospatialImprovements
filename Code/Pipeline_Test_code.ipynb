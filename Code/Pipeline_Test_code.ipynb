{
 "cells": [
  {
   "cell_type": "markdown",
   "id": "3e85c6e7-e8fd-46d7-9a76-6da53cbec0f5",
   "metadata": {},
   "source": [
    "### Downloading latest dataset using url requests"
   ]
  },
  {
   "cell_type": "code",
   "execution_count": 17,
   "id": "eec0241e-a051-45ac-ba65-12f53be0b358",
   "metadata": {},
   "outputs": [
    {
     "name": "stdout",
     "output_type": "stream",
     "text": [
      "CSV download complete.\n",
      "Converted to Parquet file: FimaNfipClaims.parquet.gzip\n",
      "Deleted CSV file: FimaNfipClaims.csv\n"
     ]
    }
   ],
   "source": [
    "import requests\n",
    "import pandas as pd\n",
    "import os\n",
    "\n",
    "# URL to the CSV file\n",
    "csv_url = \"https://www.fema.gov/about/reports-and-data/openfema/FimaNfipClaims.csv\"\n",
    "\n",
    "# Download the CSV file\n",
    "response = requests.get(csv_url, stream=True)\n",
    "\n",
    "# Ensure the request was successful\n",
    "if response.status_code == 200:\n",
    "    csv_filename = \"FimaNfipClaims.csv\"\n",
    "\n",
    "    # Stream the content to a file\n",
    "    with open(csv_filename, \"wb\") as file:\n",
    "        for chunk in response.iter_content(chunk_size=10000):\n",
    "            file.write(chunk)\n",
    "    print(\"CSV download complete.\")\n",
    "\n",
    "    # Now read the downloaded CSV file into a DataFrame\n",
    "    df = pd.read_csv(csv_filename, low_memory = False)\n",
    "\n",
    "    # Convert the DataFrame to a Parquet file\n",
    "    parquet_filename = 'FimaNfipClaims.parquet.gzip'\n",
    "    df.to_parquet(parquet_filename, compression='gzip')\n",
    "    print(f\"Converted to Parquet file: {parquet_filename}\")\n",
    "\n",
    "    # Delete the CSV file\n",
    "    os.remove(csv_filename)\n",
    "    print(f\"Deleted CSV file: {csv_filename}\")\n",
    "\n",
    "else:\n",
    "    print(f\"Failed to download the file: Status code {response.status_code}\")"
   ]
  },
  {
   "cell_type": "code",
   "execution_count": 21,
   "id": "6ed6fbce-f0b7-48e8-aab4-ea65dfb0ac03",
   "metadata": {},
   "outputs": [],
   "source": [
    "# Some preliminary checks\n",
    "\n",
    "import datetime\n",
    "\n",
    "# Function to get max 'asOfDate' from a DataFrame\n",
    "def get_max_asOfDate(df):\n",
    "    df['asOfDate'] = pd.to_datetime(df['asOfDate'])\n",
    "    return df['asOfDate'].max()\n",
    "\n",
    "# Function to check if new file is larger than the previous file\n",
    "def is_file_larger(new_file, old_file):\n",
    "    return os.path.getsize(new_file) > os.path.getsize(old_file)"
   ]
  },
  {
   "cell_type": "code",
   "execution_count": 18,
   "id": "a6ffce68-543b-4ec1-b0f7-0c388ad73bad",
   "metadata": {},
   "outputs": [
    {
     "data": {
      "text/plain": [
       "2600579"
      ]
     },
     "execution_count": 18,
     "metadata": {},
     "output_type": "execute_result"
    }
   ],
   "source": [
    "df.shape[0]"
   ]
  }
 ],
 "metadata": {
  "kernelspec": {
   "display_name": "Python 3 (ipykernel)",
   "language": "python",
   "name": "python3"
  },
  "language_info": {
   "codemirror_mode": {
    "name": "ipython",
    "version": 3
   },
   "file_extension": ".py",
   "mimetype": "text/x-python",
   "name": "python",
   "nbconvert_exporter": "python",
   "pygments_lexer": "ipython3",
   "version": "3.8.17"
  }
 },
 "nbformat": 4,
 "nbformat_minor": 5
}
