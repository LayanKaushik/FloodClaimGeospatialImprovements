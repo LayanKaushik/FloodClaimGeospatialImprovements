{
 "cells": [
  {
   "cell_type": "code",
   "execution_count": 1,
   "id": "3df8d5f1-686a-4c79-a166-c66d4d3280c5",
   "metadata": {
    "tags": []
   },
   "outputs": [],
   "source": [
    "import pandas as pd\n",
    "import numpy as np\n",
    "import matplotlib.pyplot as plt\n",
    "import pyarrow as pa\n",
    "import pyarrow.parquet as pq\n",
    "import geopandas as gpd\n",
    "import seaborn as sns\n",
    "\n",
    "#Packages\n",
    "import pandas as pd\n",
    "import matplotlib.pyplot as plt\n",
    "import matplotlib.ticker as mtick\n",
    "import numpy as np\n",
    "from scipy import stats\n",
    "pd.set_option('display.max_columns', None)\n",
    "\n",
    "from scipy.stats import skew, kurtosis\n",
    "\n",
    "import pygris\n",
    "import shapely"
   ]
  },
  {
   "cell_type": "code",
   "execution_count": 2,
   "id": "3cdf133f-7503-4c30-ac9d-83dd5885951e",
   "metadata": {},
   "outputs": [],
   "source": [
    "df = pd.read_parquet(\"C:/Users/Asus/Box/Flood Damage PredictionProject/Dataset/FimaNfipClaims.parquet.gzip\")"
   ]
  },
  {
   "cell_type": "code",
   "execution_count": 3,
   "id": "20249081-f7b7-4bf3-a089-0b7ef03a6905",
   "metadata": {},
   "outputs": [],
   "source": [
    "df_copy = df[['state', 'reportedZipCode', 'countyCode', 'censusTract', 'censusBlockGroupFips', 'latitude', 'longitude', 'yearOfLoss']].drop_duplicates()"
   ]
  },
  {
   "cell_type": "markdown",
   "id": "f29adafd-6ef2-4608-85e5-2dc868626c02",
   "metadata": {},
   "source": [
    "## Using Pygris"
   ]
  },
  {
   "cell_type": "code",
   "execution_count": 4,
   "id": "8f7397e8-42db-4082-baf4-bf347799c935",
   "metadata": {
    "tags": []
   },
   "outputs": [
    {
     "name": "stdout",
     "output_type": "stream",
     "text": [
      "Using the default year of 2021\n"
     ]
    }
   ],
   "source": [
    "states = pygris.states()\n",
    "states_list = sorted(states['STUSPS'].unique())"
   ]
  },
  {
   "cell_type": "markdown",
   "id": "3db7b8e6-0cd6-435e-b993-bdfb7782955d",
   "metadata": {},
   "source": [
    "## BlockGroup Shapefile"
   ]
  },
  {
   "cell_type": "code",
   "execution_count": 5,
   "id": "64f06bf5-c7a5-49e6-a248-6860a7a698a7",
   "metadata": {
    "collapsed": true,
    "jupyter": {
     "outputs_hidden": true
    },
    "tags": []
   },
   "outputs": [
    {
     "name": "stdout",
     "output_type": "stream",
     "text": [
      "Using FIPS code '02' for input 'AK'\n",
      "Using FIPS code '01' for input 'AL'\n",
      "Using FIPS code '05' for input 'AR'\n",
      "Using FIPS code '60' for input 'AS'\n",
      "Using FIPS code '04' for input 'AZ'\n",
      "Using FIPS code '06' for input 'CA'\n",
      "Using FIPS code '08' for input 'CO'\n",
      "Using FIPS code '09' for input 'CT'\n",
      "Using FIPS code '11' for input 'DC'\n",
      "Using FIPS code '10' for input 'DE'\n",
      "Using FIPS code '12' for input 'FL'\n",
      "Using FIPS code '13' for input 'GA'\n",
      "Using FIPS code '66' for input 'GU'\n",
      "Using FIPS code '15' for input 'HI'\n",
      "Using FIPS code '19' for input 'IA'\n",
      "Using FIPS code '16' for input 'ID'\n",
      "Using FIPS code '17' for input 'IL'\n",
      "Using FIPS code '18' for input 'IN'\n",
      "Using FIPS code '20' for input 'KS'\n",
      "Using FIPS code '21' for input 'KY'\n",
      "Using FIPS code '22' for input 'LA'\n",
      "Using FIPS code '25' for input 'MA'\n",
      "Using FIPS code '24' for input 'MD'\n",
      "Using FIPS code '23' for input 'ME'\n",
      "Using FIPS code '26' for input 'MI'\n",
      "Using FIPS code '27' for input 'MN'\n",
      "Using FIPS code '29' for input 'MO'\n",
      "Using FIPS code '69' for input 'MP'\n",
      "Using FIPS code '28' for input 'MS'\n",
      "Using FIPS code '30' for input 'MT'\n",
      "Using FIPS code '37' for input 'NC'\n",
      "Using FIPS code '38' for input 'ND'\n",
      "Using FIPS code '31' for input 'NE'\n",
      "Using FIPS code '33' for input 'NH'\n",
      "Using FIPS code '34' for input 'NJ'\n",
      "Using FIPS code '35' for input 'NM'\n",
      "Using FIPS code '32' for input 'NV'\n",
      "Using FIPS code '36' for input 'NY'\n",
      "Using FIPS code '39' for input 'OH'\n",
      "Using FIPS code '40' for input 'OK'\n",
      "Using FIPS code '41' for input 'OR'\n",
      "Using FIPS code '42' for input 'PA'\n",
      "Using FIPS code '72' for input 'PR'\n",
      "Using FIPS code '44' for input 'RI'\n",
      "Using FIPS code '45' for input 'SC'\n",
      "Using FIPS code '46' for input 'SD'\n",
      "Using FIPS code '47' for input 'TN'\n",
      "Using FIPS code '48' for input 'TX'\n",
      "Using FIPS code '49' for input 'UT'\n",
      "Using FIPS code '51' for input 'VA'\n",
      "Using FIPS code '78' for input 'VI'\n",
      "Using FIPS code '50' for input 'VT'\n",
      "Using FIPS code '53' for input 'WA'\n",
      "Using FIPS code '55' for input 'WI'\n",
      "Using FIPS code '54' for input 'WV'\n",
      "Using FIPS code '56' for input 'WY'\n"
     ]
    }
   ],
   "source": [
    "BG_list_2022 = []\n",
    "\n",
    "for i in states_list:\n",
    "    BG_list_2022.append(pygris.block_groups(state = i, year = 2022))"
   ]
  },
  {
   "cell_type": "code",
   "execution_count": 6,
   "id": "aa93d196-65ab-46aa-81dd-004f8587c789",
   "metadata": {
    "collapsed": true,
    "jupyter": {
     "outputs_hidden": true
    },
    "tags": []
   },
   "outputs": [
    {
     "name": "stdout",
     "output_type": "stream",
     "text": [
      "Using FIPS code '02' for input 'AK'\n",
      "Using FIPS code '01' for input 'AL'\n",
      "Using FIPS code '05' for input 'AR'\n",
      "Using FIPS code '60' for input 'AS'\n",
      "Using FIPS code '04' for input 'AZ'\n",
      "Using FIPS code '06' for input 'CA'\n",
      "Using FIPS code '08' for input 'CO'\n",
      "Using FIPS code '09' for input 'CT'\n",
      "Using FIPS code '11' for input 'DC'\n",
      "Using FIPS code '10' for input 'DE'\n",
      "Using FIPS code '12' for input 'FL'\n",
      "Using FIPS code '13' for input 'GA'\n",
      "Using FIPS code '66' for input 'GU'\n",
      "Using FIPS code '15' for input 'HI'\n",
      "Using FIPS code '19' for input 'IA'\n",
      "Using FIPS code '16' for input 'ID'\n",
      "Using FIPS code '17' for input 'IL'\n",
      "Using FIPS code '18' for input 'IN'\n",
      "Using FIPS code '20' for input 'KS'\n",
      "Using FIPS code '21' for input 'KY'\n",
      "Using FIPS code '22' for input 'LA'\n",
      "Using FIPS code '25' for input 'MA'\n",
      "Using FIPS code '24' for input 'MD'\n",
      "Using FIPS code '23' for input 'ME'\n",
      "Using FIPS code '26' for input 'MI'\n",
      "Using FIPS code '27' for input 'MN'\n",
      "Using FIPS code '29' for input 'MO'\n",
      "Using FIPS code '69' for input 'MP'\n",
      "Using FIPS code '28' for input 'MS'\n",
      "Using FIPS code '30' for input 'MT'\n",
      "Using FIPS code '37' for input 'NC'\n",
      "Using FIPS code '38' for input 'ND'\n",
      "Using FIPS code '31' for input 'NE'\n",
      "Using FIPS code '33' for input 'NH'\n",
      "Using FIPS code '34' for input 'NJ'\n",
      "Using FIPS code '35' for input 'NM'\n",
      "Using FIPS code '32' for input 'NV'\n",
      "Using FIPS code '36' for input 'NY'\n",
      "Using FIPS code '39' for input 'OH'\n",
      "Using FIPS code '40' for input 'OK'\n",
      "Using FIPS code '41' for input 'OR'\n",
      "Using FIPS code '42' for input 'PA'\n",
      "Using FIPS code '72' for input 'PR'\n",
      "Using FIPS code '44' for input 'RI'\n",
      "Using FIPS code '45' for input 'SC'\n",
      "Using FIPS code '46' for input 'SD'\n",
      "Using FIPS code '47' for input 'TN'\n",
      "Using FIPS code '48' for input 'TX'\n",
      "Using FIPS code '49' for input 'UT'\n",
      "Using FIPS code '51' for input 'VA'\n",
      "Using FIPS code '78' for input 'VI'\n",
      "Using FIPS code '50' for input 'VT'\n",
      "Using FIPS code '53' for input 'WA'\n",
      "Using FIPS code '55' for input 'WI'\n",
      "Using FIPS code '54' for input 'WV'\n",
      "Using FIPS code '56' for input 'WY'\n"
     ]
    }
   ],
   "source": [
    "BG_list_2020 = []\n",
    "\n",
    "for i in states_list:\n",
    "    BG_list_2020.append(pygris.block_groups(state = i, year = 2020))"
   ]
  },
  {
   "cell_type": "code",
   "execution_count": 7,
   "id": "04f59a54-380a-499c-82ae-66650f69e433",
   "metadata": {
    "collapsed": true,
    "jupyter": {
     "outputs_hidden": true
    },
    "tags": []
   },
   "outputs": [
    {
     "name": "stdout",
     "output_type": "stream",
     "text": [
      "Using FIPS code '02' for input 'AK'\n",
      "Using FIPS code '01' for input 'AL'\n",
      "Using FIPS code '05' for input 'AR'\n",
      "Using FIPS code '60' for input 'AS'\n",
      "Using FIPS code '04' for input 'AZ'\n",
      "Using FIPS code '06' for input 'CA'\n",
      "Using FIPS code '08' for input 'CO'\n",
      "Using FIPS code '09' for input 'CT'\n",
      "Using FIPS code '11' for input 'DC'\n",
      "Using FIPS code '10' for input 'DE'\n",
      "Using FIPS code '12' for input 'FL'\n",
      "Using FIPS code '13' for input 'GA'\n",
      "Using FIPS code '66' for input 'GU'\n",
      "Using FIPS code '15' for input 'HI'\n",
      "Using FIPS code '19' for input 'IA'\n",
      "Using FIPS code '16' for input 'ID'\n",
      "Using FIPS code '17' for input 'IL'\n",
      "Using FIPS code '18' for input 'IN'\n",
      "Using FIPS code '20' for input 'KS'\n",
      "Using FIPS code '21' for input 'KY'\n",
      "Using FIPS code '22' for input 'LA'\n",
      "Using FIPS code '25' for input 'MA'\n",
      "Using FIPS code '24' for input 'MD'\n",
      "Using FIPS code '23' for input 'ME'\n",
      "Using FIPS code '26' for input 'MI'\n",
      "Using FIPS code '27' for input 'MN'\n",
      "Using FIPS code '29' for input 'MO'\n",
      "Using FIPS code '69' for input 'MP'\n",
      "Using FIPS code '28' for input 'MS'\n",
      "Using FIPS code '30' for input 'MT'\n",
      "Using FIPS code '37' for input 'NC'\n",
      "Using FIPS code '38' for input 'ND'\n",
      "Using FIPS code '31' for input 'NE'\n",
      "Using FIPS code '33' for input 'NH'\n",
      "Using FIPS code '34' for input 'NJ'\n",
      "Using FIPS code '35' for input 'NM'\n",
      "Using FIPS code '32' for input 'NV'\n",
      "Using FIPS code '36' for input 'NY'\n",
      "Using FIPS code '39' for input 'OH'\n",
      "Using FIPS code '40' for input 'OK'\n",
      "Using FIPS code '41' for input 'OR'\n",
      "Using FIPS code '42' for input 'PA'\n",
      "Using FIPS code '72' for input 'PR'\n",
      "Using FIPS code '44' for input 'RI'\n",
      "Using FIPS code '45' for input 'SC'\n",
      "Using FIPS code '46' for input 'SD'\n",
      "Using FIPS code '47' for input 'TN'\n",
      "Using FIPS code '48' for input 'TX'\n",
      "Using FIPS code '49' for input 'UT'\n",
      "Using FIPS code '51' for input 'VA'\n",
      "Using FIPS code '78' for input 'VI'\n",
      "Using FIPS code '50' for input 'VT'\n",
      "Using FIPS code '53' for input 'WA'\n",
      "Using FIPS code '55' for input 'WI'\n",
      "Using FIPS code '54' for input 'WV'\n",
      "Using FIPS code '56' for input 'WY'\n"
     ]
    }
   ],
   "source": [
    "BG_list_2019 = []\n",
    "\n",
    "for i in states_list:\n",
    "    BG_list_2019.append(pygris.block_groups(state = i, year = 2019))"
   ]
  },
  {
   "cell_type": "code",
   "execution_count": 8,
   "id": "2959e488-8875-41fe-baa6-f4b86a0609cb",
   "metadata": {
    "collapsed": true,
    "jupyter": {
     "outputs_hidden": true
    },
    "tags": []
   },
   "outputs": [
    {
     "name": "stdout",
     "output_type": "stream",
     "text": [
      "Using FIPS code '02' for input 'AK'\n",
      "Using FIPS code '01' for input 'AL'\n",
      "Using FIPS code '05' for input 'AR'\n",
      "Using FIPS code '60' for input 'AS'\n",
      "Using FIPS code '04' for input 'AZ'\n",
      "Using FIPS code '06' for input 'CA'\n",
      "Using FIPS code '08' for input 'CO'\n",
      "Using FIPS code '09' for input 'CT'\n",
      "Using FIPS code '11' for input 'DC'\n",
      "Using FIPS code '10' for input 'DE'\n",
      "Using FIPS code '12' for input 'FL'\n",
      "Using FIPS code '13' for input 'GA'\n",
      "Using FIPS code '66' for input 'GU'\n",
      "Using FIPS code '15' for input 'HI'\n",
      "Using FIPS code '19' for input 'IA'\n",
      "Using FIPS code '16' for input 'ID'\n",
      "Using FIPS code '17' for input 'IL'\n",
      "Using FIPS code '18' for input 'IN'\n",
      "Using FIPS code '20' for input 'KS'\n",
      "Using FIPS code '21' for input 'KY'\n",
      "Using FIPS code '22' for input 'LA'\n",
      "Using FIPS code '25' for input 'MA'\n",
      "Using FIPS code '24' for input 'MD'\n",
      "Using FIPS code '23' for input 'ME'\n",
      "Using FIPS code '26' for input 'MI'\n",
      "Using FIPS code '27' for input 'MN'\n",
      "Using FIPS code '29' for input 'MO'\n",
      "Using FIPS code '69' for input 'MP'\n",
      "Using FIPS code '28' for input 'MS'\n",
      "Using FIPS code '30' for input 'MT'\n",
      "Using FIPS code '37' for input 'NC'\n",
      "Using FIPS code '38' for input 'ND'\n",
      "Using FIPS code '31' for input 'NE'\n",
      "Using FIPS code '33' for input 'NH'\n",
      "Using FIPS code '34' for input 'NJ'\n",
      "Using FIPS code '35' for input 'NM'\n",
      "Using FIPS code '32' for input 'NV'\n",
      "Using FIPS code '36' for input 'NY'\n",
      "Using FIPS code '39' for input 'OH'\n",
      "Using FIPS code '40' for input 'OK'\n",
      "Using FIPS code '41' for input 'OR'\n",
      "Using FIPS code '42' for input 'PA'\n",
      "Using FIPS code '72' for input 'PR'\n",
      "Using FIPS code '44' for input 'RI'\n",
      "Using FIPS code '45' for input 'SC'\n",
      "Using FIPS code '46' for input 'SD'\n",
      "Using FIPS code '47' for input 'TN'\n",
      "Using FIPS code '48' for input 'TX'\n",
      "Using FIPS code '49' for input 'UT'\n",
      "Using FIPS code '51' for input 'VA'\n",
      "Using FIPS code '78' for input 'VI'\n",
      "Using FIPS code '50' for input 'VT'\n",
      "Using FIPS code '53' for input 'WA'\n",
      "Using FIPS code '55' for input 'WI'\n",
      "Using FIPS code '54' for input 'WV'\n",
      "Using FIPS code '56' for input 'WY'\n"
     ]
    }
   ],
   "source": [
    "BG_list_2018 = []\n",
    "\n",
    "for i in states_list:\n",
    "    BG_list_2018.append(pygris.block_groups(state = i, year = 2018))"
   ]
  },
  {
   "cell_type": "code",
   "execution_count": null,
   "id": "53298757-e35e-44c7-ae6c-5a4a79cac0f5",
   "metadata": {
    "tags": []
   },
   "outputs": [],
   "source": [
    "BG_list_2017 = []\n",
    "\n",
    "for i in states_list:\n",
    "    BG_list_2017.append(pygris.block_groups(state = i, year = 2017))"
   ]
  },
  {
   "cell_type": "code",
   "execution_count": null,
   "id": "01fcd178-a1f1-4f8e-8406-8e68b6dcd9af",
   "metadata": {
    "tags": []
   },
   "outputs": [],
   "source": [
    "BG_list_2016 = []\n",
    "\n",
    "for i in states_list:\n",
    "    BG_list_2016.append(pygris.block_groups(state = i, year = 2016))"
   ]
  },
  {
   "cell_type": "code",
   "execution_count": null,
   "id": "9950b492-99a9-4c87-b43d-3369ce7fc5e5",
   "metadata": {
    "tags": []
   },
   "outputs": [],
   "source": [
    "BG_list_2015 = []\n",
    "\n",
    "for i in states_list:\n",
    "    BG_list_2015.append(pygris.block_groups(state = i, year = 2015))"
   ]
  },
  {
   "cell_type": "code",
   "execution_count": null,
   "id": "ab158da6-f0d5-4305-bf12-8b6f32430b81",
   "metadata": {
    "tags": []
   },
   "outputs": [],
   "source": [
    "BG_list_2014 = []\n",
    "\n",
    "for i in states_list:\n",
    "    BG_list_2014.append(pygris.block_groups(state = i, year = 2014))"
   ]
  },
  {
   "cell_type": "code",
   "execution_count": null,
   "id": "3d75fd2c-8975-4713-bb69-1d7e83dcb0e9",
   "metadata": {
    "tags": []
   },
   "outputs": [],
   "source": [
    "BG_list_2013 = []\n",
    "\n",
    "for i in states_list:\n",
    "    BG_list_2013.append(pygris.block_groups(state = i, year = 2013))"
   ]
  },
  {
   "cell_type": "code",
   "execution_count": null,
   "id": "cdb08c00-5e97-4d96-845f-424fd8df1577",
   "metadata": {
    "tags": []
   },
   "outputs": [],
   "source": [
    "BG_list_2012 = []\n",
    "\n",
    "for i in states_list:\n",
    "    BG_list_2012.append(pygris.block_groups(state = i, year = 2012))"
   ]
  },
  {
   "cell_type": "code",
   "execution_count": null,
   "id": "be475ee4-1b86-45da-a4d4-95a946f74284",
   "metadata": {
    "tags": []
   },
   "outputs": [],
   "source": [
    "BG_list_2011 = []\n",
    "\n",
    "for i in states_list:\n",
    "    BG_list_2011.append(pygris.block_groups(state = i, year = 2011))"
   ]
  },
  {
   "cell_type": "code",
   "execution_count": null,
   "id": "81529b46-2877-4bf4-baa7-7ab143abff6e",
   "metadata": {
    "tags": []
   },
   "outputs": [],
   "source": [
    "BG_list_2010 = []\n",
    "\n",
    "for i in states_list:\n",
    "    BG_list_2010.append(pygris.block_groups(state = i, year = 2010))"
   ]
  },
  {
   "cell_type": "code",
   "execution_count": null,
   "id": "df388fc6-33cb-4b6d-a941-3edb1f60ee53",
   "metadata": {
    "tags": []
   },
   "outputs": [],
   "source": [
    "BG_list_2000 = []\n",
    "\n",
    "for i in states_list:\n",
    "    BG_list_2000.append(pygris.block_groups(state = i, year = 2000))"
   ]
  },
  {
   "cell_type": "code",
   "execution_count": null,
   "id": "7bc6cbac-9139-41f4-bfd5-7a616c128c9c",
   "metadata": {
    "tags": []
   },
   "outputs": [],
   "source": [
    "BG_list_1990 = []\n",
    "\n",
    "for i in states_list:\n",
    "    BG_list_1990.append(pygris.block_groups(state = i, year = 1990, cb = True))"
   ]
  },
  {
   "cell_type": "code",
   "execution_count": null,
   "id": "234be5f0-d951-4445-b668-b75bd4df652a",
   "metadata": {},
   "outputs": [],
   "source": [
    "temp2022 = pd.concat(BG_list_2022, ignore_index=True)\n",
    "temp2020 = pd.concat(BG_list_2020, ignore_index=True)\n",
    "temp2019 = pd.concat(BG_list_2019, ignore_index=True)\n",
    "temp2018 = pd.concat(BG_list_2018, ignore_index=True)\n",
    "temp2017 = pd.concat(BG_list_2017, ignore_index=True)\n",
    "temp2016 = pd.concat(BG_list_2016, ignore_index=True)\n",
    "temp2015 = pd.concat(BG_list_2015, ignore_index=True)\n",
    "temp2014 = pd.concat(BG_list_2014, ignore_index=True)\n",
    "temp2013 = pd.concat(BG_list_2013, ignore_index=True)\n",
    "temp2012 = pd.concat(BG_list_2012, ignore_index=True)\n",
    "temp2011 = pd.concat(BG_list_2011, ignore_index=True)\n",
    "temp2010 = pd.concat(BG_list_2010, ignore_index=True)\n",
    "temp2000 = pd.concat(BG_list_2000, ignore_index=True)\n",
    "temp1990 = pd.concat(BG_list_1990, ignore_index=True)"
   ]
  },
  {
   "cell_type": "code",
   "execution_count": null,
   "id": "9c0afebc-e92e-4258-b93d-44ad9a6dce42",
   "metadata": {
    "tags": []
   },
   "outputs": [],
   "source": [
    "temp2022 = temp2022[['GEOID', 'geometry']]\n",
    "temp2022['year'] = 2020\n",
    "\n",
    "temp2020 = temp2020[['GEOID', 'geometry']]\n",
    "temp2020['year'] = 2020\n",
    "\n",
    "temp2019 = temp2019[['GEOID', 'geometry']]\n",
    "temp2019['year'] = 2010\n",
    "\n",
    "temp2018 = temp2018[['GEOID', 'geometry']]\n",
    "temp2018['year'] = 2010\n",
    "\n",
    "temp2017 = temp2017[['GEOID', 'geometry']]\n",
    "temp2017['year'] = 2010\n",
    "\n",
    "temp2016 = temp2016[['GEOID', 'geometry']]\n",
    "temp2016['year'] = 2010\n",
    "\n",
    "temp2015 = temp2015[['GEOID', 'geometry']]\n",
    "temp2015['year'] = 2010\n",
    "\n",
    "temp2014 = temp2014[['GEOID', 'geometry']]\n",
    "temp2014['year'] = 2010\n",
    "\n",
    "temp2013 = temp2013[['GEOID', 'geometry']]\n",
    "temp2013['year'] = 2010\n",
    "\n",
    "temp2012 = temp2012[['GEOID', 'geometry']]\n",
    "temp2012['year'] = 2010\n",
    "\n",
    "temp2011 = temp2011[['GEOID', 'geometry']]\n",
    "temp2011['year'] = 2010\n",
    "\n",
    "temp2010 = temp2010[['GEOID10', 'geometry']]\n",
    "temp2010['year'] = 2010\n",
    "\n",
    "temp2010 = temp2010.rename(columns={\"GEOID10\": \"GEOID\"})\n",
    "\n",
    "temp2000 = temp2000[['BKGPIDFP00', 'geometry']]\n",
    "temp2000['year'] = 2000\n",
    "\n",
    "temp2000 = temp2000.rename(columns={\"BKGPIDFP00\": \"GEOID\"})\n",
    "\n",
    "temp1990 = temp1990[['GEOID', 'geometry']]\n",
    "temp1990['year'] = 1990"
   ]
  },
  {
   "cell_type": "code",
   "execution_count": null,
   "id": "d5ba0c8d-3ab7-4f6e-91c8-98125ffe7591",
   "metadata": {},
   "outputs": [],
   "source": [
    "list_censusBG = temp1990['GEOID'].dropna().drop_duplicates().astype(str).tolist()\n",
    "\n",
    "# add preceding 0 to make 4-digit zip codes into 5-digit\n",
    "list_censusBG = [censusBG.zfill(12) for censusBG in list_censusBG]"
   ]
  },
  {
   "cell_type": "code",
   "execution_count": 152,
   "id": "75896e94-2ae7-498b-873f-83e34f7dda48",
   "metadata": {
    "tags": []
   },
   "outputs": [
    {
     "data": {
      "text/plain": [
       "228588"
      ]
     },
     "execution_count": 152,
     "metadata": {},
     "output_type": "execute_result"
    }
   ],
   "source": [
    "len(list_censusBG)"
   ]
  },
  {
   "cell_type": "code",
   "execution_count": 153,
   "id": "94d2d203-8d4b-4306-bc65-76f1aa75f5d4",
   "metadata": {
    "tags": []
   },
   "outputs": [],
   "source": [
    "list_censusBG_2 = list_censusBG_2 + list_censusBG"
   ]
  },
  {
   "cell_type": "code",
   "execution_count": 154,
   "id": "7f2212ee-0bfb-4fbd-bd31-ee4313646dba",
   "metadata": {
    "tags": []
   },
   "outputs": [
    {
     "data": {
      "text/plain": [
       "580196"
      ]
     },
     "execution_count": 154,
     "metadata": {},
     "output_type": "execute_result"
    }
   ],
   "source": [
    "len(list_censusBG_2)"
   ]
  },
  {
   "cell_type": "code",
   "execution_count": 155,
   "id": "de9f58f7-3826-4d7e-82f0-c48083b1cc8e",
   "metadata": {
    "tags": []
   },
   "outputs": [],
   "source": [
    "list_censusBG_2 = list(set(list_censusBG_2))"
   ]
  },
  {
   "cell_type": "code",
   "execution_count": 156,
   "id": "5f8992fa-30c6-4899-8604-c74c6d1b0eec",
   "metadata": {
    "tags": []
   },
   "outputs": [
    {
     "data": {
      "text/plain": [
       "413519"
      ]
     },
     "execution_count": 156,
     "metadata": {},
     "output_type": "execute_result"
    }
   ],
   "source": [
    "len(list_censusBG_2)"
   ]
  },
  {
   "cell_type": "code",
   "execution_count": 157,
   "id": "08d9c808-8dcc-498d-9de8-57adb473ef9d",
   "metadata": {
    "tags": []
   },
   "outputs": [],
   "source": [
    "#CensusBG list for NC\n",
    "\n",
    "list_censusBG = df['censusBlockGroupFips'].dropna().drop_duplicates().tolist()\n",
    "\n",
    "list_censusBG = [str(int(float(i))) for i in list_censusBG]\n",
    "\n",
    "# add preceding 0 to make 4-digit zip codes into 5-digit\n",
    "list_censusBG = [censusBG.zfill(12) for censusBG in list_censusBG]"
   ]
  },
  {
   "cell_type": "code",
   "execution_count": 158,
   "id": "793735d1-895d-4f43-9189-b95f3804aa40",
   "metadata": {
    "tags": []
   },
   "outputs": [
    {
     "name": "stdout",
     "output_type": "stream",
     "text": [
      "Number of common BG: 106781\n"
     ]
    }
   ],
   "source": [
    "# Convert both lists to sets\n",
    "set_bg = set(list_censusBG)\n",
    "set_bg_2 = set(list_censusBG_2)\n",
    "\n",
    "# Find the intersection of the two sets\n",
    "common_bg = set_bg.intersection(set_bg_2)\n",
    "\n",
    "# Print the number of common zip codes\n",
    "print(\"Number of common BG:\", len(common_bg))"
   ]
  },
  {
   "cell_type": "code",
   "execution_count": 159,
   "id": "360a0c76-34ab-492f-b7e4-e0673af2ea9a",
   "metadata": {
    "tags": []
   },
   "outputs": [
    {
     "data": {
      "text/plain": [
       "0.999953177382803"
      ]
     },
     "execution_count": 159,
     "metadata": {},
     "output_type": "execute_result"
    }
   ],
   "source": [
    "len(common_bg)/len(list_censusBG)"
   ]
  },
  {
   "cell_type": "code",
   "execution_count": 160,
   "id": "77d983b4-e4df-4c9f-9c51-8c6e6963a804",
   "metadata": {
    "tags": []
   },
   "outputs": [
    {
     "data": {
      "text/plain": [
       "106781"
      ]
     },
     "execution_count": 160,
     "metadata": {},
     "output_type": "execute_result"
    }
   ],
   "source": [
    "len(common_bg)"
   ]
  },
  {
   "cell_type": "code",
   "execution_count": 162,
   "id": "72c74543-6b78-4cca-a445-2a0cb770eb3a",
   "metadata": {
    "tags": []
   },
   "outputs": [],
   "source": [
    "BG_list_df2022 = temp2022[temp2022['GEOID'].isin(common_bg)]\n",
    "BG_list_df2020 = temp2020[temp2020['GEOID'].isin(common_bg)]\n",
    "BG_list_df2019 = temp2019[temp2019['GEOID'].isin(common_bg)]\n",
    "BG_list_df2018 = temp2018[temp2018['GEOID'].isin(common_bg)]\n",
    "BG_list_df2017 = temp2017[temp2017['GEOID'].isin(common_bg)]\n",
    "BG_list_df2016 = temp2016[temp2016['GEOID'].isin(common_bg)]\n",
    "BG_list_df2015 = temp2015[temp2015['GEOID'].isin(common_bg)]\n",
    "BG_list_df2014 = temp2014[temp2014['GEOID'].isin(common_bg)]\n",
    "BG_list_df2013 = temp2013[temp2013['GEOID'].isin(common_bg)]\n",
    "BG_list_df2012 = temp2012[temp2012['GEOID'].isin(common_bg)]\n",
    "BG_list_df2011 = temp2011[temp2011['GEOID'].isin(common_bg)]\n",
    "BG_list_df2010 = temp2010[temp2010['GEOID'].isin(common_bg)]\n",
    "BG_list_df2000 = temp2000[temp2000['GEOID'].isin(common_bg)]\n",
    "BG_list_df1990 = temp1990[temp1990['GEOID'].isin(common_bg)]"
   ]
  },
  {
   "cell_type": "code",
   "execution_count": 163,
   "id": "e38ed896-d00b-4958-b2ed-cde7ea7a6728",
   "metadata": {
    "tags": []
   },
   "outputs": [
    {
     "name": "stderr",
     "output_type": "stream",
     "text": [
      "C:\\Users\\Asus\\anaconda3\\lib\\site-packages\\geopandas\\array.py:1486: UserWarning: CRS not set for some of the concatenation inputs. Setting output's CRS as NAD83 (the single non-null crs provided).\n",
      "  warnings.warn(\n"
     ]
    }
   ],
   "source": [
    "BG_df = pd.concat([BG_list_df2022, BG_list_df2020, BG_list_df2019, BG_list_df2018,BG_list_df2017,BG_list_df2016,BG_list_df2015,\n",
    "                   BG_list_df2014,BG_list_df2013,BG_list_df2012, BG_list_df2011, BG_list_df2010, BG_list_df2000, BG_list_df1990], ignore_index=True)"
   ]
  },
  {
   "cell_type": "code",
   "execution_count": null,
   "id": "e320c971-1640-46dd-80d9-cd3eb3c76bdd",
   "metadata": {
    "tags": []
   },
   "outputs": [],
   "source": [
    "BG_df2 = BG_df.drop_duplicates()"
   ]
  },
  {
   "cell_type": "code",
   "execution_count": null,
   "id": "a018b632-814a-42fe-863e-06655ca55609",
   "metadata": {
    "tags": []
   },
   "outputs": [],
   "source": [
    "BG_df.shape[0] "
   ]
  },
  {
   "cell_type": "code",
   "execution_count": null,
   "id": "89a7beb4-f5ff-4c89-bc04-a95efc8e5fda",
   "metadata": {
    "tags": []
   },
   "outputs": [],
   "source": [
    "BG_df2.shape[0]"
   ]
  },
  {
   "cell_type": "code",
   "execution_count": null,
   "id": "8c49eb5f-86b8-4ec6-8788-14ba6d7e041a",
   "metadata": {},
   "outputs": [],
   "source": [
    "chunk_size = 25000  # adjust based on your system's capabilities\n",
    "chunks = [x for x in range(0, len(BG_df), chunk_size)]\n",
    "\n",
    "for start in chunks:\n",
    "    end = start + chunk_size\n",
    "    temp_df = BG_df.iloc[start:end].copy()\n",
    "    temp_df['geometry'] = temp_df['geometry'].apply(lambda geom: geom.wkt)\n",
    "    temp_df.to_parquet(f\"C:/Users/Asus/Box/Flood Damage PredictionProject/Dataset/BG_geometry_{start}_{end}.parquet.gzip\", compression='gzip')"
   ]
  },
  {
   "cell_type": "markdown",
   "id": "e2d1b545-1d97-4a70-a8ba-f693c7666438",
   "metadata": {},
   "source": [
    "## Shapefile Download addition"
   ]
  },
  {
   "cell_type": "code",
   "execution_count": 18,
   "id": "031989e9-b5d6-464b-a03c-a4f78333b218",
   "metadata": {
    "tags": []
   },
   "outputs": [],
   "source": [
    "chunk_size = 40000  # adjust based on your system's capabilities\n",
    "chunks = [x for x in range(0, 320000, chunk_size)]\n",
    "\n",
    "gdf_list = []\n",
    "\n",
    "for start in chunks:\n",
    "    end = start + chunk_size\n",
    "    temp_df = pd.read_parquet(f\"C:/Users/Asus/Box/Flood Damage PredictionProject/Dataset/BG_geometry_{start}_{end}.parquet.gzip\")\n",
    "    gdf_read = gpd.GeoDataFrame(temp_df, geometry=temp_df['geometry'].apply(lambda x: shapely.wkt.loads(x)))\n",
    "    gdf_list.append(gdf_read)\n",
    "\n",
    "# Concatenate all GeoDataFrames in the list into a single GeoDataFrame\n",
    "BG_df= pd.concat(gdf_list, ignore_index=True)"
   ]
  },
  {
   "cell_type": "code",
   "execution_count": 19,
   "id": "83ee8431-dbf4-44db-8501-070d7bea342e",
   "metadata": {
    "tags": []
   },
   "outputs": [],
   "source": [
    "shapefile = gpd.read_file('C:/Users/Asus/Box/Flood Damage PredictionProject/Dataset/nhgis0001_shapefile_tl2000_us_blck_grp_2000/US_blck_grp_2000.shp')"
   ]
  },
  {
   "cell_type": "code",
   "execution_count": 25,
   "id": "b808af26-9bbd-4052-a897-6cf5745d3e60",
   "metadata": {
    "tags": []
   },
   "outputs": [
    {
     "data": {
      "text/html": [
       "<div>\n",
       "<style scoped>\n",
       "    .dataframe tbody tr th:only-of-type {\n",
       "        vertical-align: middle;\n",
       "    }\n",
       "\n",
       "    .dataframe tbody tr th {\n",
       "        vertical-align: top;\n",
       "    }\n",
       "\n",
       "    .dataframe thead th {\n",
       "        text-align: right;\n",
       "    }\n",
       "</style>\n",
       "<table border=\"1\" class=\"dataframe\">\n",
       "  <thead>\n",
       "    <tr style=\"text-align: right;\">\n",
       "      <th></th>\n",
       "      <th>FIPSSTCO</th>\n",
       "      <th>TRACT</th>\n",
       "      <th>GROUP</th>\n",
       "      <th>STFID</th>\n",
       "      <th>GISJOIN</th>\n",
       "      <th>GISJOIN2</th>\n",
       "      <th>SHAPE_AREA</th>\n",
       "      <th>SHAPE_LEN</th>\n",
       "      <th>geometry</th>\n",
       "    </tr>\n",
       "  </thead>\n",
       "  <tbody>\n",
       "    <tr>\n",
       "      <th>0</th>\n",
       "      <td>02013</td>\n",
       "      <td>000100</td>\n",
       "      <td>1</td>\n",
       "      <td>020130001001</td>\n",
       "      <td>G02001300001001</td>\n",
       "      <td>02001300001001</td>\n",
       "      <td>6.227325e+09</td>\n",
       "      <td>1.651001e+06</td>\n",
       "      <td>MULTIPOLYGON (((-4346585.491 3487194.297, -434...</td>\n",
       "    </tr>\n",
       "    <tr>\n",
       "      <th>1</th>\n",
       "      <td>02013</td>\n",
       "      <td>000100</td>\n",
       "      <td>2</td>\n",
       "      <td>020130001002</td>\n",
       "      <td>G02001300001002</td>\n",
       "      <td>02001300001002</td>\n",
       "      <td>1.079429e+10</td>\n",
       "      <td>2.098579e+06</td>\n",
       "      <td>MULTIPOLYGON (((-4123589.882 3385462.504, -412...</td>\n",
       "    </tr>\n",
       "    <tr>\n",
       "      <th>2</th>\n",
       "      <td>02013</td>\n",
       "      <td>000100</td>\n",
       "      <td>3</td>\n",
       "      <td>020130001003</td>\n",
       "      <td>G02001300001003</td>\n",
       "      <td>02001300001003</td>\n",
       "      <td>1.192465e+09</td>\n",
       "      <td>9.607153e+05</td>\n",
       "      <td>MULTIPOLYGON (((-3976134.477 3293346.269, -397...</td>\n",
       "    </tr>\n",
       "    <tr>\n",
       "      <th>3</th>\n",
       "      <td>02016</td>\n",
       "      <td>000100</td>\n",
       "      <td>1</td>\n",
       "      <td>020160001001</td>\n",
       "      <td>G02001600001001</td>\n",
       "      <td>02001600001001</td>\n",
       "      <td>8.580411e+09</td>\n",
       "      <td>4.101850e+06</td>\n",
       "      <td>MULTIPOLYGON (((-5208962.657 3967672.915, -520...</td>\n",
       "    </tr>\n",
       "    <tr>\n",
       "      <th>4</th>\n",
       "      <td>02016</td>\n",
       "      <td>000200</td>\n",
       "      <td>1</td>\n",
       "      <td>020160002001</td>\n",
       "      <td>G02001600002001</td>\n",
       "      <td>02001600002001</td>\n",
       "      <td>7.742605e+08</td>\n",
       "      <td>2.016543e+05</td>\n",
       "      <td>MULTIPOLYGON (((-4401413.493 3526122.509, -440...</td>\n",
       "    </tr>\n",
       "    <tr>\n",
       "      <th>...</th>\n",
       "      <td>...</td>\n",
       "      <td>...</td>\n",
       "      <td>...</td>\n",
       "      <td>...</td>\n",
       "      <td>...</td>\n",
       "      <td>...</td>\n",
       "      <td>...</td>\n",
       "      <td>...</td>\n",
       "      <td>...</td>\n",
       "    </tr>\n",
       "    <tr>\n",
       "      <th>208667</th>\n",
       "      <td>56045</td>\n",
       "      <td>951100</td>\n",
       "      <td>1</td>\n",
       "      <td>560459511001</td>\n",
       "      <td>G56004509511001</td>\n",
       "      <td>56004509511001</td>\n",
       "      <td>1.995668e+09</td>\n",
       "      <td>2.153897e+05</td>\n",
       "      <td>POLYGON ((-673495.535 777687.943, -673509.043 ...</td>\n",
       "    </tr>\n",
       "    <tr>\n",
       "      <th>208668</th>\n",
       "      <td>56045</td>\n",
       "      <td>951100</td>\n",
       "      <td>2</td>\n",
       "      <td>560459511002</td>\n",
       "      <td>G56004509511002</td>\n",
       "      <td>56004509511002</td>\n",
       "      <td>4.109217e+09</td>\n",
       "      <td>4.080813e+05</td>\n",
       "      <td>POLYGON ((-666683.155 777180.823, -666112.758 ...</td>\n",
       "    </tr>\n",
       "    <tr>\n",
       "      <th>208669</th>\n",
       "      <td>56045</td>\n",
       "      <td>951300</td>\n",
       "      <td>1</td>\n",
       "      <td>560459513001</td>\n",
       "      <td>G56004509513001</td>\n",
       "      <td>56004509513001</td>\n",
       "      <td>4.077028e+07</td>\n",
       "      <td>2.823979e+04</td>\n",
       "      <td>POLYGON ((-656280.667 742636.776, -656189.910 ...</td>\n",
       "    </tr>\n",
       "    <tr>\n",
       "      <th>208670</th>\n",
       "      <td>56045</td>\n",
       "      <td>951300</td>\n",
       "      <td>2</td>\n",
       "      <td>560459513002</td>\n",
       "      <td>G56004509513002</td>\n",
       "      <td>56004509513002</td>\n",
       "      <td>1.051464e+07</td>\n",
       "      <td>1.642410e+04</td>\n",
       "      <td>POLYGON ((-652586.553 739091.436, -652061.378 ...</td>\n",
       "    </tr>\n",
       "    <tr>\n",
       "      <th>208671</th>\n",
       "      <td>56045</td>\n",
       "      <td>951300</td>\n",
       "      <td>3</td>\n",
       "      <td>560459513003</td>\n",
       "      <td>G56004509513003</td>\n",
       "      <td>56004509513003</td>\n",
       "      <td>5.988151e+07</td>\n",
       "      <td>5.130180e+04</td>\n",
       "      <td>POLYGON ((-665254.617 744707.359, -664518.973 ...</td>\n",
       "    </tr>\n",
       "  </tbody>\n",
       "</table>\n",
       "<p>208672 rows × 9 columns</p>\n",
       "</div>"
      ],
      "text/plain": [
       "       FIPSSTCO   TRACT GROUP         STFID          GISJOIN        GISJOIN2  \\\n",
       "0         02013  000100     1  020130001001  G02001300001001  02001300001001   \n",
       "1         02013  000100     2  020130001002  G02001300001002  02001300001002   \n",
       "2         02013  000100     3  020130001003  G02001300001003  02001300001003   \n",
       "3         02016  000100     1  020160001001  G02001600001001  02001600001001   \n",
       "4         02016  000200     1  020160002001  G02001600002001  02001600002001   \n",
       "...         ...     ...   ...           ...              ...             ...   \n",
       "208667    56045  951100     1  560459511001  G56004509511001  56004509511001   \n",
       "208668    56045  951100     2  560459511002  G56004509511002  56004509511002   \n",
       "208669    56045  951300     1  560459513001  G56004509513001  56004509513001   \n",
       "208670    56045  951300     2  560459513002  G56004509513002  56004509513002   \n",
       "208671    56045  951300     3  560459513003  G56004509513003  56004509513003   \n",
       "\n",
       "          SHAPE_AREA     SHAPE_LEN  \\\n",
       "0       6.227325e+09  1.651001e+06   \n",
       "1       1.079429e+10  2.098579e+06   \n",
       "2       1.192465e+09  9.607153e+05   \n",
       "3       8.580411e+09  4.101850e+06   \n",
       "4       7.742605e+08  2.016543e+05   \n",
       "...              ...           ...   \n",
       "208667  1.995668e+09  2.153897e+05   \n",
       "208668  4.109217e+09  4.080813e+05   \n",
       "208669  4.077028e+07  2.823979e+04   \n",
       "208670  1.051464e+07  1.642410e+04   \n",
       "208671  5.988151e+07  5.130180e+04   \n",
       "\n",
       "                                                 geometry  \n",
       "0       MULTIPOLYGON (((-4346585.491 3487194.297, -434...  \n",
       "1       MULTIPOLYGON (((-4123589.882 3385462.504, -412...  \n",
       "2       MULTIPOLYGON (((-3976134.477 3293346.269, -397...  \n",
       "3       MULTIPOLYGON (((-5208962.657 3967672.915, -520...  \n",
       "4       MULTIPOLYGON (((-4401413.493 3526122.509, -440...  \n",
       "...                                                   ...  \n",
       "208667  POLYGON ((-673495.535 777687.943, -673509.043 ...  \n",
       "208668  POLYGON ((-666683.155 777180.823, -666112.758 ...  \n",
       "208669  POLYGON ((-656280.667 742636.776, -656189.910 ...  \n",
       "208670  POLYGON ((-652586.553 739091.436, -652061.378 ...  \n",
       "208671  POLYGON ((-665254.617 744707.359, -664518.973 ...  \n",
       "\n",
       "[208672 rows x 9 columns]"
      ]
     },
     "execution_count": 25,
     "metadata": {},
     "output_type": "execute_result"
    }
   ],
   "source": [
    "shapefile"
   ]
  },
  {
   "cell_type": "code",
   "execution_count": 26,
   "id": "c233a5c7-bc60-4c4d-a419-8d04117897e1",
   "metadata": {
    "tags": []
   },
   "outputs": [],
   "source": [
    "temp2000 = shapefile[['STFID', 'geometry']]\n",
    "temp2000['year'] = 2000\n",
    "temp2000 = temp2000.rename(columns={\"STFID\": \"GEOID\"})"
   ]
  },
  {
   "cell_type": "code",
   "execution_count": 7,
   "id": "641b5233-a3aa-4cae-94b2-0f55016c29ac",
   "metadata": {
    "tags": []
   },
   "outputs": [],
   "source": [
    "list_censusBG1 = temp2000['GEOID'].dropna().drop_duplicates().astype(str).tolist()\n",
    "\n",
    "# add preceding 0 to make 4-digit zip codes into 5-digit\n",
    "list_censusBG1 = [censusBG.zfill(12) for censusBG in list_censusBG1]"
   ]
  },
  {
   "cell_type": "code",
   "execution_count": 8,
   "id": "0d6cdb31-b84f-49ff-ab95-f21c7b30e5ec",
   "metadata": {
    "tags": []
   },
   "outputs": [],
   "source": [
    "#CensusBG list for NC\n",
    "\n",
    "list_censusBG = df['censusBlockGroupFips'].dropna().drop_duplicates().tolist()\n",
    "\n",
    "list_censusBG = [str(int(float(i))) for i in list_censusBG]\n",
    "\n",
    "# add preceding 0 to make 4-digit zip codes into 5-digit\n",
    "list_censusBG = [censusBG.zfill(12) for censusBG in list_censusBG]"
   ]
  },
  {
   "cell_type": "code",
   "execution_count": 9,
   "id": "8488c2c0-1e41-4691-8674-831aae56aab6",
   "metadata": {
    "tags": []
   },
   "outputs": [
    {
     "name": "stdout",
     "output_type": "stream",
     "text": [
      "Number of common BG: 72150\n"
     ]
    }
   ],
   "source": [
    "# Convert both lists to sets\n",
    "set_bg = set(list_censusBG)\n",
    "set_bg_2 = set(list_censusBG1)\n",
    "\n",
    "# Find the intersection of the two sets\n",
    "common_bg = set_bg.intersection(set_bg_2)\n",
    "\n",
    "# Print the number of common zip codes\n",
    "print(\"Number of common BG:\", len(common_bg))"
   ]
  },
  {
   "cell_type": "code",
   "execution_count": 10,
   "id": "a0bd8221-392d-416f-ac37-60d264f53fb5",
   "metadata": {
    "tags": []
   },
   "outputs": [],
   "source": [
    "BG_list_df2000 = temp2000[temp2000['GEOID'].isin(common_bg)]"
   ]
  },
  {
   "cell_type": "code",
   "execution_count": 11,
   "id": "ea0b1608-aed1-493b-8ffe-4d3db6d5c842",
   "metadata": {
    "tags": []
   },
   "outputs": [
    {
     "name": "stderr",
     "output_type": "stream",
     "text": [
      "C:\\Users\\Asus\\anaconda3\\lib\\site-packages\\geopandas\\array.py:1486: UserWarning: CRS not set for some of the concatenation inputs. Setting output's CRS as USA_Contiguous_Albers_Equal_Area_Conic (the single non-null crs provided).\n",
      "  warnings.warn(\n"
     ]
    }
   ],
   "source": [
    "BG_df_1 = pd.concat([BG_df, BG_list_df2000], ignore_index=True)"
   ]
  },
  {
   "cell_type": "code",
   "execution_count": 12,
   "id": "c6bb16bf-0864-44da-923e-5f06732da044",
   "metadata": {
    "tags": []
   },
   "outputs": [],
   "source": [
    "BG_df2 = BG_df_1.drop_duplicates()"
   ]
  },
  {
   "cell_type": "code",
   "execution_count": 17,
   "id": "111064fd-40c8-4f59-9e57-a1584d5de7c2",
   "metadata": {
    "tags": []
   },
   "outputs": [
    {
     "data": {
      "text/plain": [
       "318973"
      ]
     },
     "execution_count": 17,
     "metadata": {},
     "output_type": "execute_result"
    }
   ],
   "source": [
    "BG_df.shape[0]"
   ]
  },
  {
   "cell_type": "code",
   "execution_count": 13,
   "id": "346c75f9-6764-4186-a4af-289e8195d093",
   "metadata": {
    "tags": []
   },
   "outputs": [
    {
     "data": {
      "text/plain": [
       "391123"
      ]
     },
     "execution_count": 13,
     "metadata": {},
     "output_type": "execute_result"
    }
   ],
   "source": [
    "BG_df_1.shape[0] "
   ]
  },
  {
   "cell_type": "code",
   "execution_count": 14,
   "id": "598933e8-7934-4c2f-be81-fc864602df9e",
   "metadata": {
    "tags": []
   },
   "outputs": [
    {
     "data": {
      "text/plain": [
       "391123"
      ]
     },
     "execution_count": 14,
     "metadata": {},
     "output_type": "execute_result"
    }
   ],
   "source": [
    "BG_df2.shape[0]"
   ]
  },
  {
   "cell_type": "code",
   "execution_count": 15,
   "id": "7155ee48-68a9-4cce-9e96-f3c7e5671857",
   "metadata": {
    "tags": []
   },
   "outputs": [],
   "source": [
    "BG_df2 = BG_df2.drop_duplicates(subset=['GEOID', 'year'])"
   ]
  },
  {
   "cell_type": "code",
   "execution_count": 16,
   "id": "f4540610-cd40-412f-a076-10d7f1eb6575",
   "metadata": {
    "tags": []
   },
   "outputs": [
    {
     "data": {
      "text/plain": [
       "318973"
      ]
     },
     "execution_count": 16,
     "metadata": {},
     "output_type": "execute_result"
    }
   ],
   "source": [
    "BG_df2.shape[0]"
   ]
  },
  {
   "cell_type": "code",
   "execution_count": 21,
   "id": "2f6b432f-962e-400a-adfe-af8c54fba7e5",
   "metadata": {
    "tags": []
   },
   "outputs": [],
   "source": [
    "import geopandas as gpd\n",
    "from shapely.geometry import Polygon\n",
    "from itertools import product\n",
    "import warnings\n",
    "warnings.filterwarnings(\"ignore\")"
   ]
  }
 ],
 "metadata": {
  "kernelspec": {
   "display_name": "Python 3 (ipykernel)",
   "language": "python",
   "name": "python3"
  },
  "language_info": {
   "codemirror_mode": {
    "name": "ipython",
    "version": 3
   },
   "file_extension": ".py",
   "mimetype": "text/x-python",
   "name": "python",
   "nbconvert_exporter": "python",
   "pygments_lexer": "ipython3",
   "version": "3.8.17"
  }
 },
 "nbformat": 4,
 "nbformat_minor": 5
}
