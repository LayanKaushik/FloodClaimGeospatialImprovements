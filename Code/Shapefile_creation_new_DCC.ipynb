{
 "cells": [
  {
   "cell_type": "code",
   "execution_count": null,
   "id": "3df8d5f1-686a-4c79-a166-c66d4d3280c5",
   "metadata": {
    "tags": []
   },
   "outputs": [],
   "source": [
    "import pandas as pd\n",
    "import numpy as np\n",
    "import matplotlib.pyplot as plt\n",
    "import pyarrow as pa\n",
    "import pyarrow.parquet as pq\n",
    "import geopandas as gpd\n",
    "import seaborn as sns\n",
    "\n",
    "#Packages\n",
    "import pandas as pd\n",
    "import matplotlib.pyplot as plt\n",
    "import matplotlib.ticker as mtick\n",
    "import numpy as np\n",
    "from scipy import stats\n",
    "pd.set_option('display.max_columns', None)\n",
    "\n",
    "from scipy.stats import skew, kurtosis\n",
    "\n",
    "import pygris\n",
    "import shapely"
   ]
  },
  {
   "cell_type": "code",
   "execution_count": null,
   "id": "3cdf133f-7503-4c30-ac9d-83dd5885951e",
   "metadata": {},
   "outputs": [],
   "source": [
    "df = pd.read_parquet(\"FimaNfipClaims.parquet.gzip\")"
   ]
  },
  {
   "cell_type": "code",
   "execution_count": null,
   "id": "20249081-f7b7-4bf3-a089-0b7ef03a6905",
   "metadata": {
    "tags": []
   },
   "outputs": [],
   "source": [
    "df_copy = df[['state', 'reportedZipCode', 'countyCode', 'censusTract', 'censusBlockGroupFips', 'latitude', 'longitude', 'yearOfLoss']].drop_duplicates()"
   ]
  },
  {
   "cell_type": "markdown",
   "id": "f29adafd-6ef2-4608-85e5-2dc868626c02",
   "metadata": {},
   "source": [
    "## Using Pygris"
   ]
  },
  {
   "cell_type": "code",
   "execution_count": null,
   "id": "8f7397e8-42db-4082-baf4-bf347799c935",
   "metadata": {
    "tags": []
   },
   "outputs": [],
   "source": [
    "states = pygris.states()\n",
    "states_list = sorted(states['STUSPS'].unique())"
   ]
  },
  {
   "cell_type": "markdown",
   "id": "3db7b8e6-0cd6-435e-b993-bdfb7782955d",
   "metadata": {},
   "source": [
    "## BlockGroup Shapefile"
   ]
  },
  {
   "cell_type": "code",
   "execution_count": null,
   "id": "64f06bf5-c7a5-49e6-a248-6860a7a698a7",
   "metadata": {
    "tags": []
   },
   "outputs": [],
   "source": [
    "BG_list_2022 = []\n",
    "\n",
    "for i in states_list:\n",
    "    BG_list_2022.append(pygris.block_groups(state = i, year = 2022))"
   ]
  },
  {
   "cell_type": "code",
   "execution_count": null,
   "id": "aa93d196-65ab-46aa-81dd-004f8587c789",
   "metadata": {
    "tags": []
   },
   "outputs": [],
   "source": [
    "BG_list_2020 = []\n",
    "\n",
    "for i in states_list:\n",
    "    BG_list_2020.append(pygris.block_groups(state = i, year = 2020))"
   ]
  },
  {
   "cell_type": "code",
   "execution_count": null,
   "id": "04f59a54-380a-499c-82ae-66650f69e433",
   "metadata": {
    "tags": []
   },
   "outputs": [],
   "source": [
    "BG_list_2019 = []\n",
    "\n",
    "for i in states_list:\n",
    "    BG_list_2019.append(pygris.block_groups(state = i, year = 2019))"
   ]
  },
  {
   "cell_type": "code",
   "execution_count": null,
   "id": "2959e488-8875-41fe-baa6-f4b86a0609cb",
   "metadata": {
    "tags": []
   },
   "outputs": [],
   "source": [
    "BG_list_2018 = []\n",
    "\n",
    "for i in states_list:\n",
    "    BG_list_2018.append(pygris.block_groups(state = i, year = 2018))"
   ]
  },
  {
   "cell_type": "code",
   "execution_count": null,
   "id": "53298757-e35e-44c7-ae6c-5a4a79cac0f5",
   "metadata": {
    "tags": []
   },
   "outputs": [],
   "source": [
    "BG_list_2017 = []\n",
    "\n",
    "for i in states_list:\n",
    "    BG_list_2017.append(pygris.block_groups(state = i, year = 2017))"
   ]
  },
  {
   "cell_type": "code",
   "execution_count": null,
   "id": "01fcd178-a1f1-4f8e-8406-8e68b6dcd9af",
   "metadata": {
    "tags": []
   },
   "outputs": [],
   "source": [
    "BG_list_2016 = []\n",
    "\n",
    "for i in states_list:\n",
    "    BG_list_2016.append(pygris.block_groups(state = i, year = 2016))"
   ]
  },
  {
   "cell_type": "code",
   "execution_count": null,
   "id": "9950b492-99a9-4c87-b43d-3369ce7fc5e5",
   "metadata": {
    "tags": []
   },
   "outputs": [],
   "source": [
    "BG_list_2015 = []\n",
    "\n",
    "for i in states_list:\n",
    "    BG_list_2015.append(pygris.block_groups(state = i, year = 2015))"
   ]
  },
  {
   "cell_type": "code",
   "execution_count": null,
   "id": "ab158da6-f0d5-4305-bf12-8b6f32430b81",
   "metadata": {
    "tags": []
   },
   "outputs": [],
   "source": [
    "BG_list_2014 = []\n",
    "\n",
    "for i in states_list:\n",
    "    BG_list_2014.append(pygris.block_groups(state = i, year = 2014))"
   ]
  },
  {
   "cell_type": "code",
   "execution_count": null,
   "id": "3d75fd2c-8975-4713-bb69-1d7e83dcb0e9",
   "metadata": {
    "tags": []
   },
   "outputs": [],
   "source": [
    "BG_list_2013 = []\n",
    "\n",
    "for i in states_list:\n",
    "    BG_list_2013.append(pygris.block_groups(state = i, year = 2013))"
   ]
  },
  {
   "cell_type": "code",
   "execution_count": null,
   "id": "cdb08c00-5e97-4d96-845f-424fd8df1577",
   "metadata": {
    "tags": []
   },
   "outputs": [],
   "source": [
    "BG_list_2012 = []\n",
    "\n",
    "for i in states_list:\n",
    "    BG_list_2012.append(pygris.block_groups(state = i, year = 2012))"
   ]
  },
  {
   "cell_type": "code",
   "execution_count": null,
   "id": "be475ee4-1b86-45da-a4d4-95a946f74284",
   "metadata": {
    "tags": []
   },
   "outputs": [],
   "source": [
    "BG_list_2011 = []\n",
    "\n",
    "for i in states_list:\n",
    "    BG_list_2011.append(pygris.block_groups(state = i, year = 2011))"
   ]
  },
  {
   "cell_type": "code",
   "execution_count": null,
   "id": "81529b46-2877-4bf4-baa7-7ab143abff6e",
   "metadata": {
    "tags": []
   },
   "outputs": [],
   "source": [
    "BG_list_2010 = []\n",
    "\n",
    "for i in states_list:\n",
    "    BG_list_2010.append(pygris.block_groups(state = i, year = 2010))"
   ]
  },
  {
   "cell_type": "code",
   "execution_count": null,
   "id": "df388fc6-33cb-4b6d-a941-3edb1f60ee53",
   "metadata": {
    "tags": []
   },
   "outputs": [],
   "source": [
    "BG_list_2000 = []\n",
    "\n",
    "for i in states_list:\n",
    "    BG_list_2000.append(pygris.block_groups(state = i, year = 2000))"
   ]
  },
  {
   "cell_type": "code",
   "execution_count": null,
   "id": "7bc6cbac-9139-41f4-bfd5-7a616c128c9c",
   "metadata": {
    "tags": []
   },
   "outputs": [],
   "source": [
    "BG_list_1990 = []\n",
    "\n",
    "for i in states_list:\n",
    "    BG_list_1990.append(pygris.block_groups(state = i, year = 1990, cb = True))"
   ]
  },
  {
   "cell_type": "code",
   "execution_count": null,
   "id": "234be5f0-d951-4445-b668-b75bd4df652a",
   "metadata": {},
   "outputs": [],
   "source": [
    "temp2022 = pd.concat(BG_list_2022, ignore_index=True)\n",
    "temp2020 = pd.concat(BG_list_2020, ignore_index=True)\n",
    "temp2019 = pd.concat(BG_list_2019, ignore_index=True)\n",
    "temp2018 = pd.concat(BG_list_2018, ignore_index=True)\n",
    "temp2017 = pd.concat(BG_list_2017, ignore_index=True)\n",
    "temp2016 = pd.concat(BG_list_2016, ignore_index=True)\n",
    "temp2015 = pd.concat(BG_list_2015, ignore_index=True)\n",
    "temp2014 = pd.concat(BG_list_2014, ignore_index=True)\n",
    "temp2013 = pd.concat(BG_list_2013, ignore_index=True)\n",
    "temp2012 = pd.concat(BG_list_2012, ignore_index=True)\n",
    "temp2011 = pd.concat(BG_list_2011, ignore_index=True)\n",
    "temp2010 = pd.concat(BG_list_2010, ignore_index=True)\n",
    "temp2000 = pd.concat(BG_list_2000, ignore_index=True)\n",
    "temp1990 = pd.concat(BG_list_1990, ignore_index=True)"
   ]
  },
  {
   "cell_type": "code",
   "execution_count": null,
   "id": "9c0afebc-e92e-4258-b93d-44ad9a6dce42",
   "metadata": {
    "tags": []
   },
   "outputs": [],
   "source": [
    "temp2022 = temp2022[['GEOID', 'geometry']]\n",
    "temp2022['year'] = 2020\n",
    "\n",
    "temp2020 = temp2020[['GEOID', 'geometry']]\n",
    "temp2020['year'] = 2020\n",
    "\n",
    "temp2019 = temp2019[['GEOID', 'geometry']]\n",
    "temp2019['year'] = 2010\n",
    "\n",
    "temp2018 = temp2018[['GEOID', 'geometry']]\n",
    "temp2018['year'] = 2010\n",
    "\n",
    "temp2017 = temp2017[['GEOID', 'geometry']]\n",
    "temp2017['year'] = 2010\n",
    "\n",
    "temp2016 = temp2016[['GEOID', 'geometry']]\n",
    "temp2016['year'] = 2010\n",
    "\n",
    "temp2015 = temp2015[['GEOID', 'geometry']]\n",
    "temp2015['year'] = 2010\n",
    "\n",
    "temp2014 = temp2014[['GEOID', 'geometry']]\n",
    "temp2014['year'] = 2010\n",
    "\n",
    "temp2013 = temp2013[['GEOID', 'geometry']]\n",
    "temp2013['year'] = 2010\n",
    "\n",
    "temp2012 = temp2012[['GEOID', 'geometry']]\n",
    "temp2012['year'] = 2010\n",
    "\n",
    "temp2011 = temp2011[['GEOID', 'geometry']]\n",
    "temp2011['year'] = 2010\n",
    "\n",
    "temp2010 = temp2010[['GEOID10', 'geometry']]\n",
    "temp2010['year'] = 2010\n",
    "\n",
    "temp2010 = temp2010.rename(columns={\"GEOID10\": \"GEOID\"})\n",
    "\n",
    "temp2000 = temp2000[['BKGPIDFP00', 'geometry']]\n",
    "temp2000['year'] = 2000\n",
    "\n",
    "temp2000 = temp2000.rename(columns={\"BKGPIDFP00\": \"GEOID\"})\n",
    "\n",
    "temp1990 = temp1990[['GEOID', 'geometry']]\n",
    "temp1990['year'] = 1990"
   ]
  },
  {
   "cell_type": "code",
   "execution_count": null,
   "id": "d5ba0c8d-3ab7-4f6e-91c8-98125ffe7591",
   "metadata": {},
   "outputs": [],
   "source": [
    "list_censusBG = temp2022['GEOID'].dropna().drop_duplicates().astype(str).tolist()\n",
    "\n",
    "# add preceding 0 to make 4-digit zip codes into 5-digit\n",
    "list_censusBG = [censusBG.zfill(12) for censusBG in list_censusBG]"
   ]
  },
  {
   "cell_type": "code",
   "execution_count": null,
   "id": "75896e94-2ae7-498b-873f-83e34f7dda48",
   "metadata": {
    "tags": []
   },
   "outputs": [],
   "source": [
    "len(list_censusBG)"
   ]
  },
  {
   "cell_type": "code",
   "execution_count": null,
   "id": "94d2d203-8d4b-4306-bc65-76f1aa75f5d4",
   "metadata": {
    "tags": []
   },
   "outputs": [],
   "source": [
    "list_censusBG_2 = list_censusBG_2 + list_censusBG"
   ]
  },
  {
   "cell_type": "code",
   "execution_count": null,
   "id": "7f2212ee-0bfb-4fbd-bd31-ee4313646dba",
   "metadata": {
    "tags": []
   },
   "outputs": [],
   "source": [
    "len(list_censusBG_2)"
   ]
  },
  {
   "cell_type": "code",
   "execution_count": null,
   "id": "de9f58f7-3826-4d7e-82f0-c48083b1cc8e",
   "metadata": {
    "tags": []
   },
   "outputs": [],
   "source": [
    "list_censusBG_2 = list(set(list_censusBG_2))"
   ]
  },
  {
   "cell_type": "code",
   "execution_count": null,
   "id": "5f8992fa-30c6-4899-8604-c74c6d1b0eec",
   "metadata": {
    "tags": []
   },
   "outputs": [],
   "source": [
    "len(list_censusBG_2)"
   ]
  },
  {
   "cell_type": "code",
   "execution_count": null,
   "id": "08d9c808-8dcc-498d-9de8-57adb473ef9d",
   "metadata": {
    "tags": []
   },
   "outputs": [],
   "source": [
    "#CensusBG list for NC\n",
    "\n",
    "list_censusBG = df['censusBlockGroupFips'].dropna().drop_duplicates().tolist()\n",
    "\n",
    "list_censusBG = [str(int(float(i))) for i in list_censusBG]\n",
    "\n",
    "# add preceding 0 to make 4-digit zip codes into 5-digit\n",
    "list_censusBG = [censusBG.zfill(12) for censusBG in list_censusBG]"
   ]
  },
  {
   "cell_type": "code",
   "execution_count": null,
   "id": "793735d1-895d-4f43-9189-b95f3804aa40",
   "metadata": {
    "tags": []
   },
   "outputs": [],
   "source": [
    "# Convert both lists to sets\n",
    "set_bg = set(list_censusBG)\n",
    "set_bg_2 = set(list_censusBG_2)\n",
    "\n",
    "# Find the intersection of the two sets\n",
    "common_bg = set_bg.intersection(set_bg_2)\n",
    "\n",
    "# Print the number of common zip codes\n",
    "print(\"Number of common BG:\", len(common_bg))"
   ]
  },
  {
   "cell_type": "code",
   "execution_count": null,
   "id": "360a0c76-34ab-492f-b7e4-e0673af2ea9a",
   "metadata": {
    "tags": []
   },
   "outputs": [],
   "source": [
    "len(common_bg)/len(list_censusBG)"
   ]
  },
  {
   "cell_type": "code",
   "execution_count": null,
   "id": "77d983b4-e4df-4c9f-9c51-8c6e6963a804",
   "metadata": {
    "tags": []
   },
   "outputs": [],
   "source": [
    "len(common_bg)"
   ]
  },
  {
   "cell_type": "code",
   "execution_count": null,
   "id": "72c74543-6b78-4cca-a445-2a0cb770eb3a",
   "metadata": {
    "tags": []
   },
   "outputs": [],
   "source": [
    "BG_list_df2022 = temp2022[temp2022['GEOID'].isin(common_bg)]\n",
    "BG_list_df2020 = temp2020[temp2020['GEOID'].isin(common_bg)]\n",
    "BG_list_df2019 = temp2019[temp2019['GEOID'].isin(common_bg)]\n",
    "BG_list_df2018 = temp2018[temp2018['GEOID'].isin(common_bg)]\n",
    "BG_list_df2017 = temp2017[temp2017['GEOID'].isin(common_bg)]\n",
    "BG_list_df2016 = temp2016[temp2016['GEOID'].isin(common_bg)]\n",
    "BG_list_df2015 = temp2015[temp2015['GEOID'].isin(common_bg)]\n",
    "BG_list_df2014 = temp2014[temp2014['GEOID'].isin(common_bg)]\n",
    "BG_list_df2013 = temp2013[temp2013['GEOID'].isin(common_bg)]\n",
    "BG_list_df2012 = temp2012[temp2012['GEOID'].isin(common_bg)]\n",
    "BG_list_df2011 = temp2011[temp2011['GEOID'].isin(common_bg)]\n",
    "BG_list_df2010 = temp2010[temp2010['GEOID'].isin(common_bg)]\n",
    "BG_list_df2000 = temp2000[temp2000['GEOID'].isin(common_bg)]\n",
    "BG_list_df1990 = temp1990[temp1990['GEOID'].isin(common_bg)]"
   ]
  },
  {
   "cell_type": "code",
   "execution_count": null,
   "id": "e38ed896-d00b-4958-b2ed-cde7ea7a6728",
   "metadata": {
    "tags": []
   },
   "outputs": [],
   "source": [
    "BG_df = pd.concat([BG_list_df2022, BG_list_df2020, BG_list_df2019,BG_list_df2013,BG_list_df2012, BG_list_df2011, BG_list_df2010, BG_list_df2000, BG_list_df1990], ignore_index=True)"
   ]
  },
  {
   "cell_type": "code",
   "execution_count": null,
   "id": "e320c971-1640-46dd-80d9-cd3eb3c76bdd",
   "metadata": {
    "tags": []
   },
   "outputs": [],
   "source": [
    "BG_df2 = BG_df.drop_duplicates()"
   ]
  },
  {
   "cell_type": "code",
   "execution_count": null,
   "id": "a018b632-814a-42fe-863e-06655ca55609",
   "metadata": {
    "tags": []
   },
   "outputs": [],
   "source": [
    "BG_df.shape[0] "
   ]
  },
  {
   "cell_type": "code",
   "execution_count": null,
   "id": "89a7beb4-f5ff-4c89-bc04-a95efc8e5fda",
   "metadata": {
    "tags": []
   },
   "outputs": [],
   "source": [
    "BG_df2.shape[0]"
   ]
  },
  {
   "cell_type": "code",
   "execution_count": null,
   "id": "4857c91f-4270-4576-bc3a-2a9138c9c70f",
   "metadata": {},
   "outputs": [],
   "source": [
    "BG_df2 = BG_df2.drop_duplicates(subset=['GEOID', 'year'])"
   ]
  },
  {
   "cell_type": "code",
   "execution_count": null,
   "id": "39c6901e-939b-43e1-807e-8c99c4041eb0",
   "metadata": {},
   "outputs": [],
   "source": [
    "BG_df2.shape[0]"
   ]
  },
  {
   "cell_type": "code",
   "execution_count": null,
   "id": "8c49eb5f-86b8-4ec6-8788-14ba6d7e041a",
   "metadata": {
    "tags": []
   },
   "outputs": [],
   "source": [
    "chunk_size = 40000  # adjust based on your system's capabilities\n",
    "chunks = [x for x in range(0, len(BG_df2), chunk_size)]\n",
    "\n",
    "for start in chunks:\n",
    "    end = start + chunk_size\n",
    "    temp_df = BG_df2.iloc[start:end].copy()\n",
    "    temp_df['geometry'] = temp_df['geometry'].apply(lambda geom: geom.wkt)\n",
    "    temp_df.to_parquet(f\"BG_geometry_{start}_{end}.parquet.gzip\", compression='gzip')"
   ]
  },
  {
   "cell_type": "markdown",
   "id": "98b3789a-4b92-48bf-a8cd-5b2013c1a65d",
   "metadata": {},
   "source": [
    "## Census Tract Shapefile"
   ]
  },
  {
   "cell_type": "code",
   "execution_count": null,
   "id": "f56de603-2be2-4f55-8df9-84d66f0d6c7d",
   "metadata": {
    "tags": []
   },
   "outputs": [],
   "source": [
    "Tracts_list_1990 = []\n",
    "\n",
    "for i in states_list:\n",
    "    Tracts_list_1990.append(pygris.tracts(state = i, year = 1990, cb = True))"
   ]
  },
  {
   "cell_type": "code",
   "execution_count": null,
   "id": "ad1c6501-10d9-46a2-9817-ed3e84592f26",
   "metadata": {},
   "outputs": [],
   "source": [
    "Tracts_list_2000 = []\n",
    "\n",
    "for i in states_list:\n",
    "    Tracts_list_2000.append(pygris.tracts(state = i, year = 2000))"
   ]
  },
  {
   "cell_type": "code",
   "execution_count": null,
   "id": "b4af0f1e-7650-4cb6-ad04-6f8b8684b94e",
   "metadata": {},
   "outputs": [],
   "source": [
    "Tracts_list_2010 = []\n",
    "\n",
    "for i in states_list:\n",
    "    Tracts_list_2010.append(pygris.tracts(state = i, year = 2010))"
   ]
  },
  {
   "cell_type": "code",
   "execution_count": null,
   "id": "c291079d-50a5-4f17-8702-6a8b1fa39398",
   "metadata": {},
   "outputs": [],
   "source": [
    "Tracts_list_2011 = []\n",
    "\n",
    "for i in states_list:\n",
    "    Tracts_list_2011.append(pygris.tracts(state = i, year = 2011))"
   ]
  },
  {
   "cell_type": "code",
   "execution_count": null,
   "id": "ab9458a6-a723-4db8-80fb-bf013c8f1f34",
   "metadata": {},
   "outputs": [],
   "source": [
    "Tracts_list_2012 = []\n",
    "\n",
    "for i in states_list:\n",
    "    Tracts_list_2012.append(pygris.tracts(state = i, year = 2012))"
   ]
  },
  {
   "cell_type": "code",
   "execution_count": null,
   "id": "5bf3b189-ccb4-4f55-a1eb-d6e592048584",
   "metadata": {},
   "outputs": [],
   "source": [
    "Tracts_list_2013 = []\n",
    "\n",
    "for i in states_list:\n",
    "    Tracts_list_2013.append(pygris.tracts(state = i, year = 2013))"
   ]
  },
  {
   "cell_type": "code",
   "execution_count": null,
   "id": "85169c88-583c-47ba-8687-95d21ebabd81",
   "metadata": {},
   "outputs": [],
   "source": [
    "Tracts_list_2014 = []\n",
    "\n",
    "for i in states_list:\n",
    "    Tracts_list_2014.append(pygris.tracts(state = i, year = 2014))"
   ]
  },
  {
   "cell_type": "code",
   "execution_count": null,
   "id": "e9509785-a3e2-4799-b12c-f0f213995e8d",
   "metadata": {},
   "outputs": [],
   "source": [
    "Tracts_list_2015 = []\n",
    "\n",
    "for i in states_list:\n",
    "    Tracts_list_2015.append(pygris.tracts(state = i, year = 2015))"
   ]
  },
  {
   "cell_type": "code",
   "execution_count": null,
   "id": "6fe68642-2ade-4f85-89a5-b08eff6c739f",
   "metadata": {},
   "outputs": [],
   "source": [
    "Tracts_list_2016 = []\n",
    "\n",
    "for i in states_list:\n",
    "    Tracts_list_2016.append(pygris.tracts(state = i, year = 2016))"
   ]
  },
  {
   "cell_type": "code",
   "execution_count": null,
   "id": "f9db0fe7-c03b-4913-b6ec-7be861326fdc",
   "metadata": {},
   "outputs": [],
   "source": [
    "Tracts_list_2017 = []\n",
    "\n",
    "for i in states_list:\n",
    "    Tracts_list_2017.append(pygris.tracts(state = i, year = 2017))"
   ]
  },
  {
   "cell_type": "code",
   "execution_count": null,
   "id": "c69ceb8c-eff8-4123-a01d-bfa539167b3e",
   "metadata": {},
   "outputs": [],
   "source": [
    "Tracts_list_2018 = []\n",
    "\n",
    "for i in states_list:\n",
    "    Tracts_list_2018.append(pygris.tracts(state = i, year = 2018))"
   ]
  },
  {
   "cell_type": "code",
   "execution_count": null,
   "id": "ea66731f-44fe-457b-999b-08e76ee8d0ef",
   "metadata": {},
   "outputs": [],
   "source": [
    "Tracts_list_2019 = []\n",
    "\n",
    "for i in states_list:\n",
    "    Tracts_list_2019.append(pygris.tracts(state = i, year = 2019))"
   ]
  },
  {
   "cell_type": "code",
   "execution_count": null,
   "id": "04faf610-e754-47e7-8f96-01bbe1fadf44",
   "metadata": {},
   "outputs": [],
   "source": [
    "Tracts_list_2020 = []\n",
    "\n",
    "for i in states_list:\n",
    "    Tracts_list_2020.append(pygris.tracts(state = i, year = 2020))"
   ]
  },
  {
   "cell_type": "code",
   "execution_count": null,
   "id": "c02272e9-29d3-4c55-8f05-5b20f3e786f5",
   "metadata": {},
   "outputs": [],
   "source": [
    "Tracts_list_2022 = []\n",
    "\n",
    "for i in states_list:\n",
    "    Tracts_list_2022.append(pygris.tracts(state = i, year = 2022))"
   ]
  },
  {
   "cell_type": "code",
   "execution_count": null,
   "id": "aa588cb6-6839-4e0e-abb0-3287d6849ef8",
   "metadata": {},
   "outputs": [],
   "source": [
    "temp2022 = pd.concat(Tracts_list_2022, ignore_index=True)\n",
    "temp2020 = pd.concat(Tracts_list_2020, ignore_index=True)\n",
    "temp2019 = pd.concat(Tracts_list_2019, ignore_index=True)\n",
    "temp2018 = pd.concat(Tracts_list_2018, ignore_index=True)\n",
    "temp2017 = pd.concat(Tracts_list_2017, ignore_index=True)\n",
    "temp2016 = pd.concat(Tracts_list_2016, ignore_index=True)\n",
    "temp2015 = pd.concat(Tracts_list_2015, ignore_index=True)\n",
    "temp2014 = pd.concat(Tracts_list_2014, ignore_index=True)\n",
    "temp2013 = pd.concat(Tracts_list_2013, ignore_index=True)\n",
    "temp2012 = pd.concat(Tracts_list_2012, ignore_index=True)\n",
    "temp2011 = pd.concat(Tracts_list_2011, ignore_index=True)\n",
    "temp2010 = pd.concat(Tracts_list_2010, ignore_index=True)\n",
    "temp2000 = pd.concat(Tracts_list_2000, ignore_index=True)\n",
    "temp1990 = pd.concat(Tracts_list_1990, ignore_index=True)"
   ]
  },
  {
   "cell_type": "code",
   "execution_count": null,
   "id": "59624a30-8ff2-43e2-ba04-30018b22ff4c",
   "metadata": {},
   "outputs": [],
   "source": [
    "temp2022 = temp2022[['GEOID', 'geometry']]\n",
    "temp2022['year'] = 2020\n",
    "\n",
    "temp2020 = temp2020[['GEOID', 'geometry']]\n",
    "temp2020['year'] = 2020\n",
    "\n",
    "temp2019 = temp2019[['GEOID', 'geometry']]\n",
    "temp2019['year'] = 2010\n",
    "\n",
    "temp2018 = temp2018[['GEOID', 'geometry']]\n",
    "temp2018['year'] = 2010\n",
    "\n",
    "temp2017 = temp2017[['GEOID', 'geometry']]\n",
    "temp2017['year'] = 2010\n",
    "\n",
    "temp2016 = temp2016[['GEOID', 'geometry']]\n",
    "temp2016['year'] = 2010\n",
    "\n",
    "temp2015 = temp2015[['GEOID', 'geometry']]\n",
    "temp2015['year'] = 2010\n",
    "\n",
    "temp2014 = temp2014[['GEOID', 'geometry']]\n",
    "temp2014['year'] = 2010\n",
    "\n",
    "temp2013 = temp2013[['GEOID', 'geometry']]\n",
    "temp2013['year'] = 2010\n",
    "\n",
    "temp2012 = temp2012[['GEOID', 'geometry']]\n",
    "temp2012['year'] = 2010\n",
    "\n",
    "temp2011 = temp2011[['GEOID', 'geometry']]\n",
    "temp2011['year'] = 2010\n",
    "\n",
    "temp2010 = temp2010[['GEOID10', 'geometry']]\n",
    "temp2010['year'] = 2010\n",
    "\n",
    "temp2010 = temp2010.rename(columns={\"GEOID10\": \"GEOID\"})\n",
    "\n",
    "temp2000 = temp2000[['BKGPIDFP00', 'geometry']]\n",
    "temp2000['year'] = 2000\n",
    "\n",
    "temp2000 = temp2000.rename(columns={\"BKGPIDFP00\": \"GEOID\"})\n",
    "\n",
    "temp1990['TRACTSUF'].replace(np.nan, '000', inplace=True)\n",
    "\n",
    "# Create 'GEOID' column by concatenating 'ST', 'CO', 'TRACTBASE', and 'TRACTSUF'\n",
    "temp1990['GEOID'] = temp1990['ST'] + temp1990['CO'] + temp1990['TRACTBASE'] + temp1990['TRACTSUF']\n",
    "\n",
    "temp1990 = temp1990[['GEOID', 'geometry']]\n",
    "temp1990['year'] = 1990"
   ]
  },
  {
   "cell_type": "code",
   "execution_count": null,
   "id": "16005117-27ca-447a-9417-d826ea47c7b7",
   "metadata": {},
   "outputs": [],
   "source": [
    "list_censusBG_2 = []"
   ]
  },
  {
   "cell_type": "code",
   "execution_count": null,
   "id": "34e97bdc-464c-44e8-ac02-90f4df7b12fe",
   "metadata": {},
   "outputs": [],
   "source": [
    "list_censusBG = temp1990['GEOID'].dropna().drop_duplicates().astype(str).tolist()\n",
    "\n",
    "# add preceding 0 to make 4-digit zip codes into 5-digit\n",
    "list_censusBG = [censusBG.zfill(12) for censusBG in list_censusBG]"
   ]
  },
  {
   "cell_type": "code",
   "execution_count": null,
   "id": "9c8a936f-a5ff-4de8-b7d3-59c7185ddae7",
   "metadata": {},
   "outputs": [],
   "source": [
    "len(list_censusBG)"
   ]
  },
  {
   "cell_type": "code",
   "execution_count": null,
   "id": "620967cc-411d-4493-9138-7265019a9be0",
   "metadata": {},
   "outputs": [],
   "source": [
    "list_censusBG_2 = list_censusBG_2 + list_censusBG"
   ]
  },
  {
   "cell_type": "code",
   "execution_count": null,
   "id": "84cb32fe-ef16-4030-bb93-8088298032d6",
   "metadata": {},
   "outputs": [],
   "source": [
    "len(list_censusBG_2)"
   ]
  },
  {
   "cell_type": "code",
   "execution_count": null,
   "id": "8b71c1b9-2dae-4f7f-b89d-c0e9ba1789ec",
   "metadata": {},
   "outputs": [],
   "source": [
    "list_censusBG_2 = list(set(list_censusBG_2))"
   ]
  },
  {
   "cell_type": "code",
   "execution_count": null,
   "id": "cbbde661-d2d0-41e0-9595-7e292a795d02",
   "metadata": {},
   "outputs": [],
   "source": [
    "len(list_censusBG_2)"
   ]
  },
  {
   "cell_type": "code",
   "execution_count": null,
   "id": "900378f3-6af5-4a28-b2ae-67bb3d12d4fe",
   "metadata": {},
   "outputs": [],
   "source": [
    "#CensusBG list for NC\n",
    "\n",
    "list_censusBG = df['censusBlockGroupFips'].dropna().drop_duplicates().tolist()\n",
    "\n",
    "list_censusBG = [str(int(float(i))) for i in list_censusBG]\n",
    "\n",
    "# add preceding 0 to make 4-digit zip codes into 5-digit\n",
    "list_censusBG = [censusBG.zfill(12) for censusBG in list_censusBG]"
   ]
  },
  {
   "cell_type": "code",
   "execution_count": null,
   "id": "37323529-1b75-45eb-8336-9edf5ea0ee6f",
   "metadata": {},
   "outputs": [],
   "source": [
    "# Convert both lists to sets\n",
    "set_bg = set(list_censusBG)\n",
    "set_bg_2 = set(list_censusBG_2)\n",
    "\n",
    "# Find the intersection of the two sets\n",
    "common_bg = set_bg.intersection(set_bg_2)\n",
    "\n",
    "# Print the number of common zip codes\n",
    "print(\"Number of common BG:\", len(common_bg))"
   ]
  },
  {
   "cell_type": "code",
   "execution_count": null,
   "id": "1d6ce796-628d-4606-9640-edd43730f2a8",
   "metadata": {},
   "outputs": [],
   "source": [
    "len(common_bg)/len(list_censusBG)"
   ]
  },
  {
   "cell_type": "code",
   "execution_count": null,
   "id": "219f9975-bbbd-4be2-99e9-61c11ccf73e4",
   "metadata": {},
   "outputs": [],
   "source": [
    "len(common_bg)"
   ]
  },
  {
   "cell_type": "code",
   "execution_count": null,
   "id": "798e8b67-4097-4509-a2ce-6444b348ac2d",
   "metadata": {},
   "outputs": [],
   "source": [
    "Tract_list_df2022 = temp2022[temp2022['GEOID'].isin(common_bg)]\n",
    "Tract_list_df2020 = temp2020[temp2020['GEOID'].isin(common_bg)]\n",
    "Tract_list_df2019 = temp2019[temp2019['GEOID'].isin(common_bg)]\n",
    "Tract_list_df2018 = temp2018[temp2018['GEOID'].isin(common_bg)]\n",
    "Tract_list_df2017 = temp2017[temp2017['GEOID'].isin(common_bg)]\n",
    "Tract_list_df2016 = temp2016[temp2016['GEOID'].isin(common_bg)]\n",
    "Tract_list_df2015 = temp2015[temp2015['GEOID'].isin(common_bg)]\n",
    "Tract_list_df2014 = temp2014[temp2014['GEOID'].isin(common_bg)]\n",
    "Tract_list_df2013 = temp2013[temp2013['GEOID'].isin(common_bg)]\n",
    "Tract_list_df2012 = temp2012[temp2012['GEOID'].isin(common_bg)]\n",
    "Tract_list_df2011 = temp2011[temp2011['GEOID'].isin(common_bg)]\n",
    "Tract_list_df2010 = temp2010[temp2010['GEOID'].isin(common_bg)]\n",
    "Tract_list_df2000 = temp2000[temp2000['GEOID'].isin(common_bg)]\n",
    "Tract_list_df1990 = temp1990[temp1990['GEOID'].isin(common_bg)]"
   ]
  },
  {
   "cell_type": "code",
   "execution_count": null,
   "id": "cf4ef39c-75b4-45d2-8657-5a1bb08a365c",
   "metadata": {},
   "outputs": [],
   "source": [
    "Tract_df = pd.concat([Tract_list_df2022, Tract_list_df2020, Tract_list_df2019,Tract_list_df2013,Tract_list_df2012, Tract_list_df2011, Tract_list_df2010, Tract_list_df2000, Tract_list_df1990], ignore_index=True)"
   ]
  },
  {
   "cell_type": "code",
   "execution_count": null,
   "id": "dd5c6851-4655-4291-bee4-cc85adc299ee",
   "metadata": {},
   "outputs": [],
   "source": [
    "Tract_df2 = Tract_df.drop_duplicates()"
   ]
  },
  {
   "cell_type": "code",
   "execution_count": null,
   "id": "c1443f3c-c820-4771-b0ed-7841d42b61d8",
   "metadata": {},
   "outputs": [],
   "source": [
    "Tract_df.shape[0] "
   ]
  },
  {
   "cell_type": "code",
   "execution_count": null,
   "id": "959e8944-69ec-4785-b1f3-c4df81993f5f",
   "metadata": {},
   "outputs": [],
   "source": [
    "Tract_df2.shape[0] "
   ]
  },
  {
   "cell_type": "code",
   "execution_count": null,
   "id": "7c173341-e26b-47ca-a60e-c3e2feffca0f",
   "metadata": {},
   "outputs": [],
   "source": [
    "Tract_df2 = Tract_df2.drop_duplicates(subset=['GEOID', 'year'])"
   ]
  },
  {
   "cell_type": "code",
   "execution_count": null,
   "id": "52b1524b-fe11-4544-b1ab-50a8c7bbb44b",
   "metadata": {},
   "outputs": [],
   "source": [
    "Tract_df2.shape[0] "
   ]
  },
  {
   "cell_type": "code",
   "execution_count": null,
   "id": "605f2247-1597-48e9-b024-18ff64987478",
   "metadata": {},
   "outputs": [],
   "source": [
    "chunk_size = 40000  # adjust based on your system's capabilities\n",
    "chunks = [x for x in range(0, len(Tract_df2), chunk_size)]\n",
    "\n",
    "for start in chunks:\n",
    "    end = start + chunk_size\n",
    "    temp_df = Tract_df2.iloc[start:end].copy()\n",
    "    temp_df['geometry'] = temp_df['geometry'].apply(lambda geom: geom.wkt)\n",
    "    temp_df.to_parquet(f\"Tract_geometry_{start}_{end}.parquet.gzip\", compression='gzip')"
   ]
  }
 ],
 "metadata": {
  "kernelspec": {
   "display_name": "Python 3 (ipykernel)",
   "language": "python",
   "name": "python3"
  },
  "language_info": {
   "codemirror_mode": {
    "name": "ipython",
    "version": 3
   },
   "file_extension": ".py",
   "mimetype": "text/x-python",
   "name": "python",
   "nbconvert_exporter": "python",
   "pygments_lexer": "ipython3",
   "version": "3.8.17"
  }
 },
 "nbformat": 4,
 "nbformat_minor": 5
}
