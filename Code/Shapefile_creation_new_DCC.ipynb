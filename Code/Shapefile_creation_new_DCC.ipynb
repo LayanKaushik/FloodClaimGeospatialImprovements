{
 "cells": [
  {
   "cell_type": "code",
   "execution_count": 1,
   "id": "3df8d5f1-686a-4c79-a166-c66d4d3280c5",
   "metadata": {
    "tags": []
   },
   "outputs": [],
   "source": [
    "import pandas as pd\n",
    "import numpy as np\n",
    "import matplotlib.pyplot as plt\n",
    "import pyarrow as pa\n",
    "import pyarrow.parquet as pq\n",
    "import geopandas as gpd\n",
    "import seaborn as sns\n",
    "\n",
    "#Packages\n",
    "import matplotlib.ticker as mtick\n",
    "from scipy import stats\n",
    "pd.set_option('display.max_columns', None)\n",
    "\n",
    "from scipy.stats import skew, kurtosis\n",
    "\n",
    "import pygris\n",
    "import shapely"
   ]
  },
  {
   "cell_type": "code",
   "execution_count": 2,
   "id": "3cdf133f-7503-4c30-ac9d-83dd5885951e",
   "metadata": {},
   "outputs": [],
   "source": [
    "df = pd.read_parquet(\"FimaNfipClaims.parquet.gzip\")"
   ]
  },
  {
   "cell_type": "code",
   "execution_count": 3,
   "id": "20249081-f7b7-4bf3-a089-0b7ef03a6905",
   "metadata": {
    "tags": []
   },
   "outputs": [],
   "source": [
    "df_copy = df[['state', 'reportedZipCode', 'countyCode', 'censusTract', 'censusBlockGroupFips', 'latitude', 'longitude', 'yearOfLoss']].drop_duplicates()"
   ]
  },
  {
   "cell_type": "markdown",
   "id": "f29adafd-6ef2-4608-85e5-2dc868626c02",
   "metadata": {},
   "source": [
    "## Using Pygris"
   ]
  },
  {
   "cell_type": "code",
   "execution_count": 4,
   "id": "8f7397e8-42db-4082-baf4-bf347799c935",
   "metadata": {
    "tags": []
   },
   "outputs": [
    {
     "name": "stdout",
     "output_type": "stream",
     "text": [
      "Using the default year of 2021\n"
     ]
    }
   ],
   "source": [
    "states = pygris.states()\n",
    "states_list = sorted(states['STUSPS'].unique())"
   ]
  },
  {
   "cell_type": "markdown",
   "id": "3db7b8e6-0cd6-435e-b993-bdfb7782955d",
   "metadata": {},
   "source": [
    "## BlockGroup Shapefile"
   ]
  },
  {
   "cell_type": "code",
   "execution_count": 5,
   "id": "2959e488-8875-41fe-baa6-f4b86a0609cb",
   "metadata": {
    "collapsed": true,
    "jupyter": {
     "outputs_hidden": true
    },
    "tags": []
   },
   "outputs": [
    {
     "name": "stdout",
     "output_type": "stream",
     "text": [
      "Using FIPS code '02' for input 'AK'\n",
      "Using FIPS code '01' for input 'AL'\n",
      "Using FIPS code '05' for input 'AR'\n",
      "Using FIPS code '60' for input 'AS'\n",
      "Using FIPS code '04' for input 'AZ'\n",
      "Using FIPS code '06' for input 'CA'\n",
      "Using FIPS code '08' for input 'CO'\n",
      "Using FIPS code '09' for input 'CT'\n",
      "Using FIPS code '11' for input 'DC'\n",
      "Using FIPS code '10' for input 'DE'\n",
      "Using FIPS code '12' for input 'FL'\n",
      "Using FIPS code '13' for input 'GA'\n",
      "Using FIPS code '66' for input 'GU'\n",
      "Using FIPS code '15' for input 'HI'\n",
      "Using FIPS code '19' for input 'IA'\n",
      "Using FIPS code '16' for input 'ID'\n",
      "Using FIPS code '17' for input 'IL'\n",
      "Using FIPS code '18' for input 'IN'\n",
      "Using FIPS code '20' for input 'KS'\n",
      "Using FIPS code '21' for input 'KY'\n",
      "Using FIPS code '22' for input 'LA'\n",
      "Using FIPS code '25' for input 'MA'\n",
      "Using FIPS code '24' for input 'MD'\n",
      "Using FIPS code '23' for input 'ME'\n",
      "Using FIPS code '26' for input 'MI'\n",
      "Using FIPS code '27' for input 'MN'\n",
      "Using FIPS code '29' for input 'MO'\n",
      "Using FIPS code '69' for input 'MP'\n",
      "Using FIPS code '28' for input 'MS'\n",
      "Using FIPS code '30' for input 'MT'\n",
      "Using FIPS code '37' for input 'NC'\n",
      "Using FIPS code '38' for input 'ND'\n",
      "Using FIPS code '31' for input 'NE'\n",
      "Using FIPS code '33' for input 'NH'\n",
      "Using FIPS code '34' for input 'NJ'\n",
      "Using FIPS code '35' for input 'NM'\n",
      "Using FIPS code '32' for input 'NV'\n",
      "Using FIPS code '36' for input 'NY'\n",
      "Using FIPS code '39' for input 'OH'\n",
      "Using FIPS code '40' for input 'OK'\n",
      "Using FIPS code '41' for input 'OR'\n",
      "Using FIPS code '42' for input 'PA'\n",
      "Using FIPS code '72' for input 'PR'\n",
      "Using FIPS code '44' for input 'RI'\n",
      "Using FIPS code '45' for input 'SC'\n",
      "Using FIPS code '46' for input 'SD'\n",
      "Using FIPS code '47' for input 'TN'\n",
      "Using FIPS code '48' for input 'TX'\n",
      "Using FIPS code '49' for input 'UT'\n",
      "Using FIPS code '51' for input 'VA'\n",
      "Using FIPS code '78' for input 'VI'\n",
      "Using FIPS code '50' for input 'VT'\n",
      "Using FIPS code '53' for input 'WA'\n",
      "Using FIPS code '55' for input 'WI'\n",
      "Using FIPS code '54' for input 'WV'\n",
      "Using FIPS code '56' for input 'WY'\n"
     ]
    }
   ],
   "source": [
    "BG_list_2018 = []\n",
    "\n",
    "for i in states_list:\n",
    "    BG_list_2018.append(pygris.block_groups(state = i, year = 2018))"
   ]
  },
  {
   "cell_type": "code",
   "execution_count": 6,
   "id": "81529b46-2877-4bf4-baa7-7ab143abff6e",
   "metadata": {
    "collapsed": true,
    "jupyter": {
     "outputs_hidden": true
    },
    "tags": []
   },
   "outputs": [
    {
     "name": "stdout",
     "output_type": "stream",
     "text": [
      "Using FIPS code '02' for input 'AK'\n",
      "Using FIPS code '01' for input 'AL'\n",
      "Using FIPS code '05' for input 'AR'\n",
      "Using FIPS code '60' for input 'AS'\n",
      "Using FIPS code '04' for input 'AZ'\n",
      "Using FIPS code '06' for input 'CA'\n",
      "Using FIPS code '08' for input 'CO'\n",
      "Using FIPS code '09' for input 'CT'\n",
      "Using FIPS code '11' for input 'DC'\n",
      "Using FIPS code '10' for input 'DE'\n",
      "Using FIPS code '12' for input 'FL'\n",
      "Using FIPS code '13' for input 'GA'\n",
      "Using FIPS code '66' for input 'GU'\n",
      "Using FIPS code '15' for input 'HI'\n",
      "Using FIPS code '19' for input 'IA'\n",
      "Using FIPS code '16' for input 'ID'\n",
      "Using FIPS code '17' for input 'IL'\n",
      "Using FIPS code '18' for input 'IN'\n",
      "Using FIPS code '20' for input 'KS'\n",
      "Using FIPS code '21' for input 'KY'\n",
      "Using FIPS code '22' for input 'LA'\n",
      "Using FIPS code '25' for input 'MA'\n",
      "Using FIPS code '24' for input 'MD'\n",
      "Using FIPS code '23' for input 'ME'\n",
      "Using FIPS code '26' for input 'MI'\n",
      "Using FIPS code '27' for input 'MN'\n",
      "Using FIPS code '29' for input 'MO'\n",
      "Using FIPS code '69' for input 'MP'\n",
      "Using FIPS code '28' for input 'MS'\n",
      "Using FIPS code '30' for input 'MT'\n",
      "Using FIPS code '37' for input 'NC'\n",
      "Using FIPS code '38' for input 'ND'\n",
      "Using FIPS code '31' for input 'NE'\n",
      "Using FIPS code '33' for input 'NH'\n",
      "Using FIPS code '34' for input 'NJ'\n",
      "Using FIPS code '35' for input 'NM'\n",
      "Using FIPS code '32' for input 'NV'\n",
      "Using FIPS code '36' for input 'NY'\n",
      "Using FIPS code '39' for input 'OH'\n",
      "Using FIPS code '40' for input 'OK'\n",
      "Using FIPS code '41' for input 'OR'\n",
      "Using FIPS code '42' for input 'PA'\n",
      "Using FIPS code '72' for input 'PR'\n",
      "Using FIPS code '44' for input 'RI'\n",
      "Using FIPS code '45' for input 'SC'\n",
      "Using FIPS code '46' for input 'SD'\n",
      "Using FIPS code '47' for input 'TN'\n",
      "Using FIPS code '48' for input 'TX'\n",
      "Using FIPS code '49' for input 'UT'\n",
      "Using FIPS code '51' for input 'VA'\n",
      "Using FIPS code '78' for input 'VI'\n",
      "Using FIPS code '50' for input 'VT'\n",
      "Using FIPS code '53' for input 'WA'\n",
      "Using FIPS code '55' for input 'WI'\n",
      "Using FIPS code '54' for input 'WV'\n",
      "Using FIPS code '56' for input 'WY'\n"
     ]
    }
   ],
   "source": [
    "BG_list_2010 = []\n",
    "\n",
    "for i in states_list:\n",
    "    BG_list_2010.append(pygris.block_groups(state = i, year = 2010))"
   ]
  },
  {
   "cell_type": "code",
   "execution_count": 17,
   "id": "234be5f0-d951-4445-b668-b75bd4df652a",
   "metadata": {},
   "outputs": [],
   "source": [
    "temp2018 = pd.concat(BG_list_2018, ignore_index=True)\n",
    "temp2010 = pd.concat(BG_list_2010, ignore_index=True)"
   ]
  },
  {
   "cell_type": "code",
   "execution_count": 18,
   "id": "9c0afebc-e92e-4258-b93d-44ad9a6dce42",
   "metadata": {
    "tags": []
   },
   "outputs": [],
   "source": [
    "temp2018 = temp2018[['GEOID', 'geometry']]\n",
    "\n",
    "temp2010 = temp2010[['GEOID10', 'geometry']]\n",
    "\n",
    "temp2010 = temp2010.rename(columns={\"GEOID10\": \"GEOID\"})"
   ]
  },
  {
   "cell_type": "code",
   "execution_count": 19,
   "id": "803a7900-099e-4d54-b3d8-7e61ae9f2e14",
   "metadata": {},
   "outputs": [],
   "source": [
    "list_censusBG_2 = []"
   ]
  },
  {
   "cell_type": "code",
   "execution_count": 40,
   "id": "d5ba0c8d-3ab7-4f6e-91c8-98125ffe7591",
   "metadata": {},
   "outputs": [],
   "source": [
    "list_censusBG = temp2010['GEOID'].dropna().drop_duplicates().astype(str).tolist()\n",
    "\n",
    "# add preceding 0 to make 4-digit zip codes into 5-digit\n",
    "list_censusBG = [censusBG.zfill(12) for censusBG in list_censusBG]"
   ]
  },
  {
   "cell_type": "code",
   "execution_count": 41,
   "id": "75896e94-2ae7-498b-873f-83e34f7dda48",
   "metadata": {
    "tags": []
   },
   "outputs": [
    {
     "data": {
      "text/plain": [
       "220742"
      ]
     },
     "execution_count": 41,
     "metadata": {},
     "output_type": "execute_result"
    }
   ],
   "source": [
    "len(list_censusBG)"
   ]
  },
  {
   "cell_type": "code",
   "execution_count": 42,
   "id": "94d2d203-8d4b-4306-bc65-76f1aa75f5d4",
   "metadata": {
    "tags": []
   },
   "outputs": [],
   "source": [
    "list_censusBG_2 = list_censusBG_2 + list_censusBG"
   ]
  },
  {
   "cell_type": "code",
   "execution_count": 43,
   "id": "7f2212ee-0bfb-4fbd-bd31-ee4313646dba",
   "metadata": {
    "tags": []
   },
   "outputs": [
    {
     "data": {
      "text/plain": [
       "441482"
      ]
     },
     "execution_count": 43,
     "metadata": {},
     "output_type": "execute_result"
    }
   ],
   "source": [
    "len(list_censusBG_2)"
   ]
  },
  {
   "cell_type": "code",
   "execution_count": 44,
   "id": "de9f58f7-3826-4d7e-82f0-c48083b1cc8e",
   "metadata": {
    "tags": []
   },
   "outputs": [],
   "source": [
    "list_censusBG_2 = list(set(list_censusBG_2))"
   ]
  },
  {
   "cell_type": "code",
   "execution_count": 45,
   "id": "5f8992fa-30c6-4899-8604-c74c6d1b0eec",
   "metadata": {
    "tags": []
   },
   "outputs": [
    {
     "data": {
      "text/plain": [
       "220814"
      ]
     },
     "execution_count": 45,
     "metadata": {},
     "output_type": "execute_result"
    }
   ],
   "source": [
    "len(list_censusBG_2)"
   ]
  },
  {
   "cell_type": "code",
   "execution_count": 46,
   "id": "08d9c808-8dcc-498d-9de8-57adb473ef9d",
   "metadata": {
    "tags": []
   },
   "outputs": [],
   "source": [
    "#CensusBG list for NC\n",
    "\n",
    "list_censusBG = df['censusBlockGroupFips'].dropna().drop_duplicates().tolist()\n",
    "\n",
    "list_censusBG = [str(int(float(i))) for i in list_censusBG]\n",
    "\n",
    "# add preceding 0 to make 4-digit zip codes into 5-digit\n",
    "list_censusBG = [censusBG.zfill(12) for censusBG in list_censusBG]"
   ]
  },
  {
   "cell_type": "code",
   "execution_count": 47,
   "id": "793735d1-895d-4f43-9189-b95f3804aa40",
   "metadata": {
    "tags": []
   },
   "outputs": [
    {
     "name": "stdout",
     "output_type": "stream",
     "text": [
      "Number of common BG: 106275\n"
     ]
    }
   ],
   "source": [
    "# Convert both lists to sets\n",
    "set_bg = set(list_censusBG)\n",
    "set_bg_2 = set(list_censusBG_2)\n",
    "\n",
    "# Find the intersection of the two sets\n",
    "common_bg = set_bg.intersection(set_bg_2)\n",
    "\n",
    "# Print the number of common zip codes\n",
    "print(\"Number of common BG:\", len(common_bg))"
   ]
  },
  {
   "cell_type": "code",
   "execution_count": 48,
   "id": "360a0c76-34ab-492f-b7e4-e0673af2ea9a",
   "metadata": {
    "tags": []
   },
   "outputs": [
    {
     "data": {
      "text/plain": [
       "0.9912140798567391"
      ]
     },
     "execution_count": 48,
     "metadata": {},
     "output_type": "execute_result"
    }
   ],
   "source": [
    "len(common_bg)/len(list_censusBG)"
   ]
  },
  {
   "cell_type": "code",
   "execution_count": 52,
   "id": "77d983b4-e4df-4c9f-9c51-8c6e6963a804",
   "metadata": {
    "tags": []
   },
   "outputs": [
    {
     "data": {
      "text/plain": [
       "106275"
      ]
     },
     "execution_count": 52,
     "metadata": {},
     "output_type": "execute_result"
    }
   ],
   "source": [
    "len(common_bg)"
   ]
  },
  {
   "cell_type": "code",
   "execution_count": 53,
   "id": "72c74543-6b78-4cca-a445-2a0cb770eb3a",
   "metadata": {
    "tags": []
   },
   "outputs": [],
   "source": [
    "BG_list_df2018 = temp2018[temp2018['GEOID'].isin(common_bg)]\n",
    "BG_list_df2010 = temp2010[temp2010['GEOID'].isin(common_bg)]"
   ]
  },
  {
   "cell_type": "code",
   "execution_count": 54,
   "id": "e38ed896-d00b-4958-b2ed-cde7ea7a6728",
   "metadata": {
    "tags": []
   },
   "outputs": [],
   "source": [
    "BG_df = pd.concat([BG_list_df2018, BG_list_df2010], ignore_index=True)"
   ]
  },
  {
   "cell_type": "code",
   "execution_count": 55,
   "id": "e320c971-1640-46dd-80d9-cd3eb3c76bdd",
   "metadata": {
    "tags": []
   },
   "outputs": [],
   "source": [
    "BG_df2 = BG_df.drop_duplicates()"
   ]
  },
  {
   "cell_type": "code",
   "execution_count": 56,
   "id": "a018b632-814a-42fe-863e-06655ca55609",
   "metadata": {
    "tags": []
   },
   "outputs": [
    {
     "data": {
      "text/plain": [
       "212497"
      ]
     },
     "execution_count": 56,
     "metadata": {},
     "output_type": "execute_result"
    }
   ],
   "source": [
    "BG_df.shape[0] "
   ]
  },
  {
   "cell_type": "code",
   "execution_count": 57,
   "id": "89a7beb4-f5ff-4c89-bc04-a95efc8e5fda",
   "metadata": {
    "tags": []
   },
   "outputs": [
    {
     "data": {
      "text/plain": [
       "212087"
      ]
     },
     "execution_count": 57,
     "metadata": {},
     "output_type": "execute_result"
    }
   ],
   "source": [
    "BG_df2.shape[0]"
   ]
  },
  {
   "cell_type": "code",
   "execution_count": 58,
   "id": "4857c91f-4270-4576-bc3a-2a9138c9c70f",
   "metadata": {},
   "outputs": [],
   "source": [
    "BG_df2 = BG_df2.drop_duplicates(subset=['GEOID'])"
   ]
  },
  {
   "cell_type": "code",
   "execution_count": 59,
   "id": "39c6901e-939b-43e1-807e-8c99c4041eb0",
   "metadata": {},
   "outputs": [
    {
     "data": {
      "text/plain": [
       "106275"
      ]
     },
     "execution_count": 59,
     "metadata": {},
     "output_type": "execute_result"
    }
   ],
   "source": [
    "BG_df2.shape[0]"
   ]
  },
  {
   "cell_type": "code",
   "execution_count": 60,
   "id": "8c49eb5f-86b8-4ec6-8788-14ba6d7e041a",
   "metadata": {
    "tags": []
   },
   "outputs": [
    {
     "name": "stderr",
     "output_type": "stream",
     "text": [
      "/hpc/home/lk220/.local/lib/python3.9/site-packages/geopandas/geodataframe.py:1537: UserWarning: Geometry column does not contain geometry.\n",
      "  warnings.warn(\"Geometry column does not contain geometry.\")\n",
      "/hpc/home/lk220/.local/lib/python3.9/site-packages/geopandas/geodataframe.py:1537: UserWarning: Geometry column does not contain geometry.\n",
      "  warnings.warn(\"Geometry column does not contain geometry.\")\n",
      "/hpc/home/lk220/.local/lib/python3.9/site-packages/geopandas/geodataframe.py:1537: UserWarning: Geometry column does not contain geometry.\n",
      "  warnings.warn(\"Geometry column does not contain geometry.\")\n"
     ]
    }
   ],
   "source": [
    "chunk_size = 40000  # adjust based on your system's capabilities\n",
    "chunks = [x for x in range(0, len(BG_df2), chunk_size)]\n",
    "\n",
    "for start in chunks:\n",
    "    end = start + chunk_size\n",
    "    temp_df = BG_df2.iloc[start:end].copy()\n",
    "    temp_df['geometry'] = temp_df['geometry'].apply(lambda geom: geom.wkt)\n",
    "    temp_df.to_parquet(f\"BG_geometry_{start}_{end}.parquet.gzip\", compression='gzip')"
   ]
  },
  {
   "cell_type": "markdown",
   "id": "98b3789a-4b92-48bf-a8cd-5b2013c1a65d",
   "metadata": {},
   "source": [
    "## Census Tract Shapefile"
   ]
  },
  {
   "cell_type": "code",
   "execution_count": 9,
   "id": "b4af0f1e-7650-4cb6-ad04-6f8b8684b94e",
   "metadata": {
    "collapsed": true,
    "jupyter": {
     "outputs_hidden": true
    },
    "tags": []
   },
   "outputs": [
    {
     "name": "stdout",
     "output_type": "stream",
     "text": [
      "Using FIPS code '02' for input 'AK'\n",
      "Using FIPS code '01' for input 'AL'\n",
      "Using FIPS code '05' for input 'AR'\n",
      "Using FIPS code '60' for input 'AS'\n",
      "Using FIPS code '04' for input 'AZ'\n",
      "Using FIPS code '06' for input 'CA'\n",
      "Using FIPS code '08' for input 'CO'\n",
      "Using FIPS code '09' for input 'CT'\n",
      "Using FIPS code '11' for input 'DC'\n",
      "Using FIPS code '10' for input 'DE'\n",
      "Using FIPS code '12' for input 'FL'\n",
      "Using FIPS code '13' for input 'GA'\n",
      "Using FIPS code '66' for input 'GU'\n",
      "Using FIPS code '15' for input 'HI'\n",
      "Using FIPS code '19' for input 'IA'\n",
      "Using FIPS code '16' for input 'ID'\n",
      "Using FIPS code '17' for input 'IL'\n",
      "Using FIPS code '18' for input 'IN'\n",
      "Using FIPS code '20' for input 'KS'\n",
      "Using FIPS code '21' for input 'KY'\n",
      "Using FIPS code '22' for input 'LA'\n",
      "Using FIPS code '25' for input 'MA'\n",
      "Using FIPS code '24' for input 'MD'\n",
      "Using FIPS code '23' for input 'ME'\n",
      "Using FIPS code '26' for input 'MI'\n",
      "Using FIPS code '27' for input 'MN'\n",
      "Using FIPS code '29' for input 'MO'\n",
      "Using FIPS code '69' for input 'MP'\n",
      "Using FIPS code '28' for input 'MS'\n",
      "Using FIPS code '30' for input 'MT'\n",
      "Using FIPS code '37' for input 'NC'\n",
      "Using FIPS code '38' for input 'ND'\n",
      "Using FIPS code '31' for input 'NE'\n",
      "Using FIPS code '33' for input 'NH'\n",
      "Using FIPS code '34' for input 'NJ'\n",
      "Using FIPS code '35' for input 'NM'\n",
      "Using FIPS code '32' for input 'NV'\n",
      "Using FIPS code '36' for input 'NY'\n",
      "Using FIPS code '39' for input 'OH'\n",
      "Using FIPS code '40' for input 'OK'\n",
      "Using FIPS code '41' for input 'OR'\n",
      "Using FIPS code '42' for input 'PA'\n",
      "Using FIPS code '72' for input 'PR'\n",
      "Using FIPS code '44' for input 'RI'\n",
      "Using FIPS code '45' for input 'SC'\n",
      "Using FIPS code '46' for input 'SD'\n",
      "Using FIPS code '47' for input 'TN'\n",
      "Using FIPS code '48' for input 'TX'\n",
      "Using FIPS code '49' for input 'UT'\n",
      "Using FIPS code '51' for input 'VA'\n",
      "Using FIPS code '78' for input 'VI'\n",
      "Using FIPS code '50' for input 'VT'\n",
      "Using FIPS code '53' for input 'WA'\n",
      "Using FIPS code '55' for input 'WI'\n",
      "Using FIPS code '54' for input 'WV'\n",
      "Using FIPS code '56' for input 'WY'\n"
     ]
    }
   ],
   "source": [
    "Tracts_list_2010 = []\n",
    "\n",
    "for i in states_list:\n",
    "    Tracts_list_2010.append(pygris.tracts(state = i, year = 2010))"
   ]
  },
  {
   "cell_type": "code",
   "execution_count": 10,
   "id": "c69ceb8c-eff8-4123-a01d-bfa539167b3e",
   "metadata": {
    "collapsed": true,
    "jupyter": {
     "outputs_hidden": true
    },
    "tags": []
   },
   "outputs": [
    {
     "name": "stdout",
     "output_type": "stream",
     "text": [
      "Using FIPS code '02' for input 'AK'\n",
      "Using FIPS code '01' for input 'AL'\n",
      "Using FIPS code '05' for input 'AR'\n",
      "Using FIPS code '60' for input 'AS'\n",
      "Using FIPS code '04' for input 'AZ'\n",
      "Using FIPS code '06' for input 'CA'\n",
      "Using FIPS code '08' for input 'CO'\n",
      "Using FIPS code '09' for input 'CT'\n",
      "Using FIPS code '11' for input 'DC'\n",
      "Using FIPS code '10' for input 'DE'\n",
      "Using FIPS code '12' for input 'FL'\n",
      "Using FIPS code '13' for input 'GA'\n",
      "Using FIPS code '66' for input 'GU'\n",
      "Using FIPS code '15' for input 'HI'\n",
      "Using FIPS code '19' for input 'IA'\n",
      "Using FIPS code '16' for input 'ID'\n",
      "Using FIPS code '17' for input 'IL'\n",
      "Using FIPS code '18' for input 'IN'\n",
      "Using FIPS code '20' for input 'KS'\n",
      "Using FIPS code '21' for input 'KY'\n",
      "Using FIPS code '22' for input 'LA'\n",
      "Using FIPS code '25' for input 'MA'\n",
      "Using FIPS code '24' for input 'MD'\n",
      "Using FIPS code '23' for input 'ME'\n",
      "Using FIPS code '26' for input 'MI'\n",
      "Using FIPS code '27' for input 'MN'\n",
      "Using FIPS code '29' for input 'MO'\n",
      "Using FIPS code '69' for input 'MP'\n",
      "Using FIPS code '28' for input 'MS'\n",
      "Using FIPS code '30' for input 'MT'\n",
      "Using FIPS code '37' for input 'NC'\n",
      "Using FIPS code '38' for input 'ND'\n",
      "Using FIPS code '31' for input 'NE'\n",
      "Using FIPS code '33' for input 'NH'\n",
      "Using FIPS code '34' for input 'NJ'\n",
      "Using FIPS code '35' for input 'NM'\n",
      "Using FIPS code '32' for input 'NV'\n",
      "Using FIPS code '36' for input 'NY'\n",
      "Using FIPS code '39' for input 'OH'\n",
      "Using FIPS code '40' for input 'OK'\n",
      "Using FIPS code '41' for input 'OR'\n",
      "Using FIPS code '42' for input 'PA'\n",
      "Using FIPS code '72' for input 'PR'\n",
      "Using FIPS code '44' for input 'RI'\n",
      "Using FIPS code '45' for input 'SC'\n",
      "Using FIPS code '46' for input 'SD'\n",
      "Using FIPS code '47' for input 'TN'\n",
      "Using FIPS code '48' for input 'TX'\n",
      "Using FIPS code '49' for input 'UT'\n",
      "Using FIPS code '51' for input 'VA'\n",
      "Using FIPS code '78' for input 'VI'\n",
      "Using FIPS code '50' for input 'VT'\n",
      "Using FIPS code '53' for input 'WA'\n",
      "Using FIPS code '55' for input 'WI'\n",
      "Using FIPS code '54' for input 'WV'\n",
      "Using FIPS code '56' for input 'WY'\n"
     ]
    }
   ],
   "source": [
    "Tracts_list_2018 = []\n",
    "\n",
    "for i in states_list:\n",
    "    Tracts_list_2018.append(pygris.tracts(state = i, year = 2018))"
   ]
  },
  {
   "cell_type": "code",
   "execution_count": 61,
   "id": "aa588cb6-6839-4e0e-abb0-3287d6849ef8",
   "metadata": {},
   "outputs": [],
   "source": [
    "temp2018 = pd.concat(Tracts_list_2018, ignore_index=True)\n",
    "temp2010 = pd.concat(Tracts_list_2010, ignore_index=True)"
   ]
  },
  {
   "cell_type": "code",
   "execution_count": 62,
   "id": "59624a30-8ff2-43e2-ba04-30018b22ff4c",
   "metadata": {},
   "outputs": [],
   "source": [
    "temp2018 = temp2018[['GEOID', 'geometry']]\n",
    "\n",
    "temp2010 = temp2010.rename(columns={\"GEOID10\": \"GEOID\"})\n",
    "\n",
    "temp2010 = temp2010[['GEOID', 'geometry']]"
   ]
  },
  {
   "cell_type": "code",
   "execution_count": 63,
   "id": "16005117-27ca-447a-9417-d826ea47c7b7",
   "metadata": {},
   "outputs": [],
   "source": [
    "list_censusBG_2 = []"
   ]
  },
  {
   "cell_type": "code",
   "execution_count": 96,
   "id": "34e97bdc-464c-44e8-ac02-90f4df7b12fe",
   "metadata": {},
   "outputs": [],
   "source": [
    "list_censusBG = temp2010['GEOID'].dropna().drop_duplicates().astype(str).tolist()\n",
    "\n",
    "# add preceding 0 to make 4-digit zip codes into 5-digit\n",
    "list_censusBG = [censusBG.zfill(11) for censusBG in list_censusBG]"
   ]
  },
  {
   "cell_type": "code",
   "execution_count": 97,
   "id": "9c8a936f-a5ff-4de8-b7d3-59c7185ddae7",
   "metadata": {},
   "outputs": [
    {
     "data": {
      "text/plain": [
       "74133"
      ]
     },
     "execution_count": 97,
     "metadata": {},
     "output_type": "execute_result"
    }
   ],
   "source": [
    "len(list_censusBG)"
   ]
  },
  {
   "cell_type": "code",
   "execution_count": 98,
   "id": "620967cc-411d-4493-9138-7265019a9be0",
   "metadata": {},
   "outputs": [],
   "source": [
    "list_censusBG_2 = list_censusBG_2 + list_censusBG"
   ]
  },
  {
   "cell_type": "code",
   "execution_count": 99,
   "id": "84cb32fe-ef16-4030-bb93-8088298032d6",
   "metadata": {},
   "outputs": [
    {
     "data": {
      "text/plain": [
       "148292"
      ]
     },
     "execution_count": 99,
     "metadata": {},
     "output_type": "execute_result"
    }
   ],
   "source": [
    "len(list_censusBG_2)"
   ]
  },
  {
   "cell_type": "code",
   "execution_count": 100,
   "id": "8b71c1b9-2dae-4f7f-b89d-c0e9ba1789ec",
   "metadata": {},
   "outputs": [],
   "source": [
    "list_censusBG_2 = list(set(list_censusBG_2))"
   ]
  },
  {
   "cell_type": "code",
   "execution_count": 101,
   "id": "cbbde661-d2d0-41e0-9595-7e292a795d02",
   "metadata": {},
   "outputs": [
    {
     "data": {
      "text/plain": [
       "74159"
      ]
     },
     "execution_count": 101,
     "metadata": {},
     "output_type": "execute_result"
    }
   ],
   "source": [
    "len(list_censusBG_2)"
   ]
  },
  {
   "cell_type": "code",
   "execution_count": 102,
   "id": "900378f3-6af5-4a28-b2ae-67bb3d12d4fe",
   "metadata": {},
   "outputs": [],
   "source": [
    "#CensusTract\n",
    "\n",
    "list_censusBG = df['censusTract'].dropna().drop_duplicates().tolist()\n",
    "\n",
    "list_censusBG = [str(int(float(i))) for i in list_censusBG]\n",
    "\n",
    "# add preceding 0 to make 10-digit Tracts into 11-digit\n",
    "list_censusBG = [censustract.zfill(11) for censustract in list_censusBG]"
   ]
  },
  {
   "cell_type": "code",
   "execution_count": 103,
   "id": "37323529-1b75-45eb-8336-9edf5ea0ee6f",
   "metadata": {},
   "outputs": [
    {
     "name": "stdout",
     "output_type": "stream",
     "text": [
      "Number of common Tracts: 52792\n"
     ]
    }
   ],
   "source": [
    "# Convert both lists to sets\n",
    "set_bg = set(list_censusBG)\n",
    "set_bg_2 = set(list_censusBG_2)\n",
    "\n",
    "# Find the intersection of the two sets\n",
    "common_bg = set_bg.intersection(set_bg_2)\n",
    "\n",
    "# Print the number of common zip codes\n",
    "print(\"Number of common Tracts:\", len(common_bg))"
   ]
  },
  {
   "cell_type": "code",
   "execution_count": 104,
   "id": "1d6ce796-628d-4606-9640-edd43730f2a8",
   "metadata": {},
   "outputs": [
    {
     "data": {
      "text/plain": [
       "0.9873569237674871"
      ]
     },
     "execution_count": 104,
     "metadata": {},
     "output_type": "execute_result"
    }
   ],
   "source": [
    "len(common_bg)/len(list_censusBG)"
   ]
  },
  {
   "cell_type": "code",
   "execution_count": 105,
   "id": "219f9975-bbbd-4be2-99e9-61c11ccf73e4",
   "metadata": {},
   "outputs": [
    {
     "data": {
      "text/plain": [
       "53468"
      ]
     },
     "execution_count": 105,
     "metadata": {},
     "output_type": "execute_result"
    }
   ],
   "source": [
    "len(set_bg)"
   ]
  },
  {
   "cell_type": "code",
   "execution_count": 106,
   "id": "3f8726fa-499e-46c9-996f-97869d8eed9a",
   "metadata": {},
   "outputs": [
    {
     "data": {
      "text/plain": [
       "52792"
      ]
     },
     "execution_count": 106,
     "metadata": {},
     "output_type": "execute_result"
    }
   ],
   "source": [
    "len(common_bg)"
   ]
  },
  {
   "cell_type": "code",
   "execution_count": 107,
   "id": "798e8b67-4097-4509-a2ce-6444b348ac2d",
   "metadata": {},
   "outputs": [],
   "source": [
    "Tract_list_df2018 = temp2018[temp2018['GEOID'].isin(common_bg)]\n",
    "Tract_list_df2010 = temp2010[temp2010['GEOID'].isin(common_bg)]"
   ]
  },
  {
   "cell_type": "code",
   "execution_count": 108,
   "id": "cf4ef39c-75b4-45d2-8657-5a1bb08a365c",
   "metadata": {},
   "outputs": [],
   "source": [
    "Tract_df = pd.concat([Tract_list_df2018, Tract_list_df2010], ignore_index=True)"
   ]
  },
  {
   "cell_type": "code",
   "execution_count": 109,
   "id": "dd5c6851-4655-4291-bee4-cc85adc299ee",
   "metadata": {},
   "outputs": [],
   "source": [
    "Tract_df2 = Tract_df.drop_duplicates()"
   ]
  },
  {
   "cell_type": "code",
   "execution_count": 110,
   "id": "c1443f3c-c820-4771-b0ed-7841d42b61d8",
   "metadata": {},
   "outputs": [
    {
     "data": {
      "text/plain": [
       "105556"
      ]
     },
     "execution_count": 110,
     "metadata": {},
     "output_type": "execute_result"
    }
   ],
   "source": [
    "Tract_df.shape[0] "
   ]
  },
  {
   "cell_type": "code",
   "execution_count": 111,
   "id": "959e8944-69ec-4785-b1f3-c4df81993f5f",
   "metadata": {},
   "outputs": [
    {
     "data": {
      "text/plain": [
       "105484"
      ]
     },
     "execution_count": 111,
     "metadata": {},
     "output_type": "execute_result"
    }
   ],
   "source": [
    "Tract_df2.shape[0] "
   ]
  },
  {
   "cell_type": "code",
   "execution_count": 112,
   "id": "7c173341-e26b-47ca-a60e-c3e2feffca0f",
   "metadata": {},
   "outputs": [],
   "source": [
    "Tract_df2 = Tract_df2.drop_duplicates(subset=['GEOID'])"
   ]
  },
  {
   "cell_type": "code",
   "execution_count": 113,
   "id": "52b1524b-fe11-4544-b1ab-50a8c7bbb44b",
   "metadata": {},
   "outputs": [
    {
     "data": {
      "text/plain": [
       "52792"
      ]
     },
     "execution_count": 113,
     "metadata": {},
     "output_type": "execute_result"
    }
   ],
   "source": [
    "Tract_df2.shape[0] "
   ]
  },
  {
   "cell_type": "code",
   "execution_count": 119,
   "id": "a22463fc-9b37-4ee8-bacb-2207b2c94280",
   "metadata": {},
   "outputs": [],
   "source": [
    "Tract_df2 = Tract_df2.rename(columns={\"GEOID\": \"censusTractID\"})"
   ]
  },
  {
   "cell_type": "code",
   "execution_count": 120,
   "id": "605f2247-1597-48e9-b024-18ff64987478",
   "metadata": {
    "tags": []
   },
   "outputs": [
    {
     "name": "stderr",
     "output_type": "stream",
     "text": [
      "/hpc/home/lk220/.local/lib/python3.9/site-packages/geopandas/geodataframe.py:1537: UserWarning: Geometry column does not contain geometry.\n",
      "  warnings.warn(\"Geometry column does not contain geometry.\")\n",
      "/hpc/home/lk220/.local/lib/python3.9/site-packages/geopandas/geodataframe.py:1537: UserWarning: Geometry column does not contain geometry.\n",
      "  warnings.warn(\"Geometry column does not contain geometry.\")\n"
     ]
    }
   ],
   "source": [
    "chunk_size = 30000  # adjust based on your system's capabilities\n",
    "chunks = [x for x in range(0, len(Tract_df2), chunk_size)]\n",
    "\n",
    "for start in chunks:\n",
    "    end = start + chunk_size\n",
    "    temp_df = Tract_df2.iloc[start:end].copy()\n",
    "    temp_df['geometry'] = temp_df['geometry'].apply(lambda geom: geom.wkt)\n",
    "    temp_df.to_parquet(f\"Tract_geometry_{start}_{end}.parquet.gzip\", compression='gzip')"
   ]
  },
  {
   "cell_type": "markdown",
   "id": "8caed90c-3d71-4f4e-a0a7-e28d00c6dd8b",
   "metadata": {},
   "source": [
    "### County Shapefile"
   ]
  },
  {
   "cell_type": "code",
   "execution_count": 13,
   "id": "65e7323a-c0bc-4fbd-92eb-d024148bbd30",
   "metadata": {},
   "outputs": [],
   "source": [
    "years = [2010, 2018]\n",
    "\n",
    "yearly_data = {}\n",
    "\n",
    "for i in years:\n",
    "    yearly_data[i] = pygris.counties(year=i)"
   ]
  },
  {
   "cell_type": "code",
   "execution_count": 127,
   "id": "54185a8d-1437-45c5-8c13-c4fbf980a487",
   "metadata": {},
   "outputs": [],
   "source": [
    "temp2010 = pd.DataFrame(yearly_data[2010])\n",
    "temp2018 = pd.DataFrame(yearly_data[2018])"
   ]
  },
  {
   "cell_type": "code",
   "execution_count": 128,
   "id": "67c0486b-2943-4099-89cb-314caaadac9f",
   "metadata": {
    "tags": []
   },
   "outputs": [],
   "source": [
    "temp2010 = temp2010[['GEOID10', 'geometry']]\n",
    "temp2010 = temp2010.rename(columns={\"GEOID10\": \"GEOID\"})\n",
    "\n",
    "temp2018 = temp2018[['GEOID', 'geometry']]"
   ]
  },
  {
   "cell_type": "code",
   "execution_count": 129,
   "id": "c1405833-d989-4f08-8093-d72b39d5e68d",
   "metadata": {},
   "outputs": [],
   "source": [
    "list_county_3 = []"
   ]
  },
  {
   "cell_type": "code",
   "execution_count": 140,
   "id": "def91963-ddd2-4d0c-8684-43b48dc8e185",
   "metadata": {},
   "outputs": [],
   "source": [
    "list_county_2 = temp2018['GEOID'].dropna().drop_duplicates().astype(str).tolist()\n",
    "\n",
    "# add preceding 0 to make 4-digit zip codes into 5-digit\n",
    "list_county_2 = [censusBG.zfill(5) for censusBG in list_county_2]"
   ]
  },
  {
   "cell_type": "code",
   "execution_count": 141,
   "id": "fef21c46-2c8d-4c57-9152-12a1f12593aa",
   "metadata": {},
   "outputs": [
    {
     "data": {
      "text/plain": [
       "3233"
      ]
     },
     "execution_count": 141,
     "metadata": {},
     "output_type": "execute_result"
    }
   ],
   "source": [
    "len(list_county_2)"
   ]
  },
  {
   "cell_type": "code",
   "execution_count": 142,
   "id": "668a570d-f79a-48dd-862c-46078f3c08ea",
   "metadata": {},
   "outputs": [],
   "source": [
    "list_county_3 = list_county_3 + list_county_2"
   ]
  },
  {
   "cell_type": "code",
   "execution_count": 143,
   "id": "b6f4d5c8-f101-45c6-a600-d5012b0e42d6",
   "metadata": {},
   "outputs": [
    {
     "data": {
      "text/plain": [
       "6454"
      ]
     },
     "execution_count": 143,
     "metadata": {},
     "output_type": "execute_result"
    }
   ],
   "source": [
    "len(list_county_3)"
   ]
  },
  {
   "cell_type": "code",
   "execution_count": 144,
   "id": "cc4cc318-2b6b-4d63-bf7f-9f571d8643eb",
   "metadata": {},
   "outputs": [],
   "source": [
    "list_county_3 = list(set(list_county_3))"
   ]
  },
  {
   "cell_type": "code",
   "execution_count": 145,
   "id": "b6700bf3-2633-4d24-9273-a3210d0c7af8",
   "metadata": {},
   "outputs": [
    {
     "data": {
      "text/plain": [
       "3236"
      ]
     },
     "execution_count": 145,
     "metadata": {},
     "output_type": "execute_result"
    }
   ],
   "source": [
    "len(list_county_3)"
   ]
  },
  {
   "cell_type": "code",
   "execution_count": 146,
   "id": "07dc8360-1d6c-4072-b90d-4f29a5e32893",
   "metadata": {},
   "outputs": [],
   "source": [
    "#County\n",
    "\n",
    "list_county = df['countyCode'].dropna().drop_duplicates().tolist()\n",
    "\n",
    "list_county = [str(int(float(i))) for i in list_county]\n",
    "\n",
    "# add preceding 0 to make 4-digit zip codes into 5-digit\n",
    "list_county = [county.zfill(5) for county in list_county]"
   ]
  },
  {
   "cell_type": "code",
   "execution_count": 147,
   "id": "dc190c06-af44-4f00-9697-320b7b5a89ae",
   "metadata": {},
   "outputs": [
    {
     "name": "stdout",
     "output_type": "stream",
     "text": [
      "Number of common Tract: 2924\n"
     ]
    }
   ],
   "source": [
    "# Convert both lists to sets\n",
    "set_county = set(list_county)\n",
    "set_county_2 = set(list_county_3)\n",
    "\n",
    "# Find the intersection of the two sets\n",
    "common_county = set_county.intersection(set_county_2)\n",
    "\n",
    "# Print the number of common zip codes\n",
    "print(\"Number of common Tract:\", len(common_county))"
   ]
  },
  {
   "cell_type": "code",
   "execution_count": 148,
   "id": "e99d72bb-34ab-422d-b9b9-0544bb77196a",
   "metadata": {},
   "outputs": [
    {
     "data": {
      "text/plain": [
       "1.0"
      ]
     },
     "execution_count": 148,
     "metadata": {},
     "output_type": "execute_result"
    }
   ],
   "source": [
    "len(common_county)/len(set_county)"
   ]
  },
  {
   "cell_type": "code",
   "execution_count": 149,
   "id": "f59b3511-1bdb-4c39-918f-dc05cc1a6825",
   "metadata": {},
   "outputs": [
    {
     "data": {
      "text/plain": [
       "2924"
      ]
     },
     "execution_count": 149,
     "metadata": {},
     "output_type": "execute_result"
    }
   ],
   "source": [
    "len(common_county)"
   ]
  },
  {
   "cell_type": "code",
   "execution_count": 150,
   "id": "95eb3bda-39e0-495c-80bd-30fa6e1dd784",
   "metadata": {},
   "outputs": [],
   "source": [
    "County_list_df2018 = temp2018[temp2018['GEOID'].isin(common_county)]\n",
    "County_list_df2010 = temp2010[temp2010['GEOID'].isin(common_county)]"
   ]
  },
  {
   "cell_type": "code",
   "execution_count": 151,
   "id": "79f76231-895c-4db8-9326-b05814fc6d0d",
   "metadata": {},
   "outputs": [],
   "source": [
    "County_df = pd.concat([County_list_df2018, County_list_df2010], ignore_index=True)"
   ]
  },
  {
   "cell_type": "code",
   "execution_count": 152,
   "id": "6e795e3c-7cc3-49e3-97d1-42301a75cc96",
   "metadata": {},
   "outputs": [],
   "source": [
    "County_df2 = County_df.drop_duplicates()"
   ]
  },
  {
   "cell_type": "code",
   "execution_count": 153,
   "id": "7611a8e5-7210-4f47-8911-d1fc457b7c0b",
   "metadata": {},
   "outputs": [
    {
     "data": {
      "text/plain": [
       "5842"
      ]
     },
     "execution_count": 153,
     "metadata": {},
     "output_type": "execute_result"
    }
   ],
   "source": [
    "County_df.shape[0] "
   ]
  },
  {
   "cell_type": "code",
   "execution_count": 154,
   "id": "4f664694-b449-4590-9e60-cd619d4e9632",
   "metadata": {},
   "outputs": [
    {
     "data": {
      "text/plain": [
       "5842"
      ]
     },
     "execution_count": 154,
     "metadata": {},
     "output_type": "execute_result"
    }
   ],
   "source": [
    "County_df2.shape[0] "
   ]
  },
  {
   "cell_type": "code",
   "execution_count": 155,
   "id": "5c31b9d7-7872-42af-a8d0-10a03b9a7fea",
   "metadata": {},
   "outputs": [],
   "source": [
    "County_df2 = County_df2.drop_duplicates(subset=['GEOID'])"
   ]
  },
  {
   "cell_type": "code",
   "execution_count": 156,
   "id": "830ae9c6-4861-455d-8c59-7902ec312d81",
   "metadata": {},
   "outputs": [
    {
     "data": {
      "text/plain": [
       "2924"
      ]
     },
     "execution_count": 156,
     "metadata": {},
     "output_type": "execute_result"
    }
   ],
   "source": [
    "County_df2.shape[0] "
   ]
  },
  {
   "cell_type": "code",
   "execution_count": 157,
   "id": "1d916b1b-4341-45fe-aadd-36531977e94f",
   "metadata": {},
   "outputs": [],
   "source": [
    "County_df2 = County_df2.rename(columns={\"GEOID\": \"CountyID\"})"
   ]
  },
  {
   "cell_type": "code",
   "execution_count": 158,
   "id": "03708368-e727-4aa2-ba38-aff673716c65",
   "metadata": {},
   "outputs": [],
   "source": [
    "County_df2['geometry'] = County_df2['geometry'].apply(lambda geom: geom.wkt)\n",
    "\n",
    "County_df2.to_parquet(f\"County_geometry.parquet.gzip\", compression='gzip')"
   ]
  },
  {
   "cell_type": "markdown",
   "id": "f4d66fb8-bab7-4c97-b756-d17b677506ee",
   "metadata": {},
   "source": [
    "### Zipcode Shapefile"
   ]
  },
  {
   "cell_type": "code",
   "execution_count": 16,
   "id": "4a9e65cc-1866-47c3-8186-4831c4540ec8",
   "metadata": {},
   "outputs": [],
   "source": [
    "years = [2000, 2010, 2018, 2020, 2022]\n",
    "\n",
    "yearly_data_zip = {}\n",
    "\n",
    "for i in years:\n",
    "    yearly_data_zip[i] = pygris.zctas(year=i)"
   ]
  },
  {
   "cell_type": "code",
   "execution_count": 159,
   "id": "469b9f0d-518f-48a9-bdd8-4dfc7cc90c49",
   "metadata": {},
   "outputs": [],
   "source": [
    "temp2000 = pd.DataFrame(yearly_data_zip[2000])\n",
    "temp2010 = pd.DataFrame(yearly_data_zip[2010])\n",
    "temp2018 = pd.DataFrame(yearly_data_zip[2018])\n",
    "temp2020 = pd.DataFrame(yearly_data_zip[2020])\n",
    "temp2022 = pd.DataFrame(yearly_data_zip[2022])"
   ]
  },
  {
   "cell_type": "code",
   "execution_count": 162,
   "id": "4c81f69e-a24e-4aa2-808b-ecb95b7939c7",
   "metadata": {},
   "outputs": [],
   "source": [
    "temp2022 = temp2022.rename(columns={\"ZCTA5CE20\": \"ZIPcode\"})\n",
    "temp2022 = temp2022[['ZIPcode', 'geometry']]\n",
    "temp2022['year'] = 2020\n",
    "\n",
    "temp2020 = temp2020.rename(columns={\"ZCTA5CE20\": \"ZIPcode\"})\n",
    "temp2020 = temp2020[['ZIPcode', 'geometry']]\n",
    "temp2020['year'] = 2020\n",
    "\n",
    "temp2018 = temp2018.rename(columns={\"ZCTA5CE10\": \"ZIPcode\"})\n",
    "temp2018 = temp2018[['ZIPcode', 'geometry']]\n",
    "temp2018['year'] = 2010\n",
    "\n",
    "temp2010 = temp2010.rename(columns={\"ZCTA5CE10\": \"ZIPcode\"})\n",
    "temp2010 = temp2010[['ZIPcode', 'geometry']]\n",
    "temp2010['year'] = 2010\n",
    "\n",
    "temp2000 = temp2000.rename(columns={\"ZCTA5CE00\": \"ZIPcode\"})\n",
    "temp2000 = temp2000[['ZIPcode', 'geometry']]\n",
    "temp2000['year'] = 2000"
   ]
  },
  {
   "cell_type": "code",
   "execution_count": 163,
   "id": "3d2921b1-50a0-47f6-8fa1-2e1c30622876",
   "metadata": {},
   "outputs": [],
   "source": [
    "list_zipcode_3 = []"
   ]
  },
  {
   "cell_type": "code",
   "execution_count": 205,
   "id": "c6519d59-f7d6-4651-99e8-7d2baa26404c",
   "metadata": {},
   "outputs": [],
   "source": [
    "list_zipcode_temp = temp2000['ZIPcode'].dropna().drop_duplicates().astype(str).tolist()\n",
    "\n",
    "# add preceding 0 to make 4-digit zip codes into 5-digit\n",
    "list_zipcode_temp = [zipcode.zfill(5) for zipcode in list_zipcode_temp]"
   ]
  },
  {
   "cell_type": "code",
   "execution_count": 206,
   "id": "f7dbaa17-9514-4e8f-b790-6ff84f9fda99",
   "metadata": {},
   "outputs": [
    {
     "data": {
      "text/plain": [
       "32038"
      ]
     },
     "execution_count": 206,
     "metadata": {},
     "output_type": "execute_result"
    }
   ],
   "source": [
    "len(list_zipcode_temp)"
   ]
  },
  {
   "cell_type": "code",
   "execution_count": 207,
   "id": "7941becd-0aa4-4e66-b47c-33e11daee8b6",
   "metadata": {},
   "outputs": [],
   "source": [
    "list_zipcode_3 = list_zipcode_3 + list_zipcode_temp"
   ]
  },
  {
   "cell_type": "code",
   "execution_count": 208,
   "id": "55e7872c-a4d1-4f2b-81e4-851702f75acf",
   "metadata": {},
   "outputs": [
    {
     "data": {
      "text/plain": [
       "66033"
      ]
     },
     "execution_count": 208,
     "metadata": {},
     "output_type": "execute_result"
    }
   ],
   "source": [
    "len(list_zipcode_3)"
   ]
  },
  {
   "cell_type": "code",
   "execution_count": 209,
   "id": "84db2200-e5fd-4794-852b-0502ad932bd6",
   "metadata": {},
   "outputs": [],
   "source": [
    "list_zipcode_3 = list(set(list_zipcode_3))"
   ]
  },
  {
   "cell_type": "code",
   "execution_count": 210,
   "id": "3631f244-d02e-4df8-a4ea-22853bd7f259",
   "metadata": {},
   "outputs": [
    {
     "data": {
      "text/plain": [
       "34439"
      ]
     },
     "execution_count": 210,
     "metadata": {},
     "output_type": "execute_result"
    }
   ],
   "source": [
    "len(list_zipcode_3)"
   ]
  },
  {
   "cell_type": "code",
   "execution_count": 211,
   "id": "a3d27ac8-5cd5-4297-a8ba-c7a67368ef53",
   "metadata": {},
   "outputs": [],
   "source": [
    "#County\n",
    "\n",
    "list_zipcode = df['reportedZipCode'].dropna().drop_duplicates().tolist()\n",
    "\n",
    "list_zipcode = [str(int(float(i))) for i in list_zipcode]\n",
    "\n",
    "# add preceding 0 to make 4-digit zip codes into 5-digit\n",
    "list_zipcode = [zipcode.zfill(5) for zipcode in list_zipcode]"
   ]
  },
  {
   "cell_type": "code",
   "execution_count": 212,
   "id": "eb28de79-f843-438f-a8fa-f3c57c37778a",
   "metadata": {},
   "outputs": [
    {
     "name": "stdout",
     "output_type": "stream",
     "text": [
      "Number of common zip codes: 22887\n"
     ]
    }
   ],
   "source": [
    "set_zipcode = set(list_zipcode)\n",
    "set_zipcode_3 = set(list_zipcode_3)\n",
    "\n",
    "# Find the intersection of the two sets\n",
    "common_zipcodes = set_zipcode.intersection(set_zipcode_3)\n",
    "\n",
    "# Print the number of common zip codes\n",
    "print(\"Number of common zip codes:\", len(common_zipcodes))"
   ]
  },
  {
   "cell_type": "code",
   "execution_count": 213,
   "id": "0cf86a1b-7506-495e-abab-5c51de3d1e1f",
   "metadata": {},
   "outputs": [
    {
     "data": {
      "text/plain": [
       "0.8804724167115489"
      ]
     },
     "execution_count": 213,
     "metadata": {},
     "output_type": "execute_result"
    }
   ],
   "source": [
    "len(common_zipcodes)/len(list_zipcode)"
   ]
  },
  {
   "cell_type": "code",
   "execution_count": 214,
   "id": "66151fa6-cc68-48b4-979d-c5742ef779d9",
   "metadata": {},
   "outputs": [
    {
     "data": {
      "text/plain": [
       "22887"
      ]
     },
     "execution_count": 214,
     "metadata": {},
     "output_type": "execute_result"
    }
   ],
   "source": [
    "len(common_zipcodes)"
   ]
  },
  {
   "cell_type": "code",
   "execution_count": 215,
   "id": "515efbf6-6e45-4398-8fe8-50c1e23d7313",
   "metadata": {},
   "outputs": [],
   "source": [
    "Zipcode_list_df2022 = temp2022[temp2022['ZIPcode'].isin(common_zipcodes)]\n",
    "Zipcode_list_df2020 = temp2020[temp2020['ZIPcode'].isin(common_zipcodes)]\n",
    "Zipcode_list_df2018 = temp2018[temp2018['ZIPcode'].isin(common_zipcodes)]\n",
    "Zipcode_list_df2010 = temp2010[temp2010['ZIPcode'].isin(common_zipcodes)]\n",
    "Zipcode_list_df2000 = temp2000[temp2000['ZIPcode'].isin(common_zipcodes)]"
   ]
  },
  {
   "cell_type": "code",
   "execution_count": 216,
   "id": "ee48a518-e512-4673-9eef-674b1f262ea3",
   "metadata": {},
   "outputs": [],
   "source": [
    "Zipcode_df = pd.concat([Zipcode_list_df2022, Zipcode_list_df2020 , Zipcode_list_df2018, Zipcode_list_df2010, Zipcode_list_df2000], ignore_index=True)"
   ]
  },
  {
   "cell_type": "code",
   "execution_count": 217,
   "id": "8351f7bd-2a3b-4da7-ae26-874bb519d90a",
   "metadata": {},
   "outputs": [],
   "source": [
    "Zipcode_df2 = Zipcode_df.drop_duplicates()"
   ]
  },
  {
   "cell_type": "code",
   "execution_count": 218,
   "id": "51132917-d130-428c-9032-97dd6f7805ca",
   "metadata": {},
   "outputs": [
    {
     "data": {
      "text/plain": [
       "112329"
      ]
     },
     "execution_count": 218,
     "metadata": {},
     "output_type": "execute_result"
    }
   ],
   "source": [
    "Zipcode_df.shape[0] "
   ]
  },
  {
   "cell_type": "code",
   "execution_count": 219,
   "id": "3da963c3-3a42-42a6-a1cf-a5b7b2afb72a",
   "metadata": {},
   "outputs": [
    {
     "data": {
      "text/plain": [
       "94615"
      ]
     },
     "execution_count": 219,
     "metadata": {},
     "output_type": "execute_result"
    }
   ],
   "source": [
    "Zipcode_df2.shape[0] "
   ]
  },
  {
   "cell_type": "code",
   "execution_count": 220,
   "id": "1533d0f4-58fe-4673-8557-8735db404a7a",
   "metadata": {},
   "outputs": [],
   "source": [
    "Zipcode_df2 = Zipcode_df2.drop_duplicates(subset=['ZIPcode', 'year'])"
   ]
  },
  {
   "cell_type": "code",
   "execution_count": 221,
   "id": "1fcfc084-5ca8-4fbf-9c6d-1c6c5ffa17e1",
   "metadata": {},
   "outputs": [
    {
     "data": {
      "text/plain": [
       "67147"
      ]
     },
     "execution_count": 221,
     "metadata": {},
     "output_type": "execute_result"
    }
   ],
   "source": [
    "Zipcode_df2.shape[0] "
   ]
  },
  {
   "cell_type": "code",
   "execution_count": 222,
   "id": "e1fbd71f-3763-48cb-b5dc-ab186ed89801",
   "metadata": {},
   "outputs": [],
   "source": [
    "chunk_size = 40000  # adjust based on your system's capabilities\n",
    "chunks = [x for x in range(0, len(Zipcode_df2), chunk_size)]\n",
    "\n",
    "for start in chunks:\n",
    "    end = start + chunk_size\n",
    "    temp_df = Zipcode_df2.iloc[start:end].copy()\n",
    "    temp_df['geometry'] = temp_df['geometry'].apply(lambda geom: geom.wkt)\n",
    "    temp_df.to_parquet(f\"zipcode_geometry_{start}_{end}.parquet.gzip\", compression='gzip')"
   ]
  }
 ],
 "metadata": {
  "kernelspec": {
   "display_name": "Python 3 (ipykernel)",
   "language": "python",
   "name": "python3"
  },
  "language_info": {
   "codemirror_mode": {
    "name": "ipython",
    "version": 3
   },
   "file_extension": ".py",
   "mimetype": "text/x-python",
   "name": "python",
   "nbconvert_exporter": "python",
   "pygments_lexer": "ipython3",
   "version": "3.8.17"
  },
  "toc-showcode": false
 },
 "nbformat": 4,
 "nbformat_minor": 5
}
