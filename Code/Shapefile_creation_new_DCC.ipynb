{
 "cells": [
  {
   "cell_type": "code",
   "execution_count": 3,
   "id": "3df8d5f1-686a-4c79-a166-c66d4d3280c5",
   "metadata": {
    "tags": []
   },
   "outputs": [],
   "source": [
    "import pandas as pd\n",
    "import numpy as np\n",
    "import matplotlib.pyplot as plt\n",
    "import pyarrow as pa\n",
    "import pyarrow.parquet as pq\n",
    "import geopandas as gpd\n",
    "import seaborn as sns\n",
    "\n",
    "#Packages\n",
    "import pandas as pd\n",
    "import matplotlib.pyplot as plt\n",
    "import matplotlib.ticker as mtick\n",
    "import numpy as np\n",
    "from scipy import stats\n",
    "pd.set_option('display.max_columns', None)\n",
    "\n",
    "from scipy.stats import skew, kurtosis\n",
    "\n",
    "import pygris\n",
    "import shapely"
   ]
  },
  {
   "cell_type": "code",
   "execution_count": 4,
   "id": "3cdf133f-7503-4c30-ac9d-83dd5885951e",
   "metadata": {},
   "outputs": [],
   "source": [
    "df = pd.read_parquet(\"FimaNfipClaims.parquet.gzip\")"
   ]
  },
  {
   "cell_type": "code",
   "execution_count": 5,
   "id": "20249081-f7b7-4bf3-a089-0b7ef03a6905",
   "metadata": {},
   "outputs": [],
   "source": [
    "df_copy = df[['state', 'reportedZipCode', 'countyCode', 'censusTract', 'censusBlockGroupFips', 'latitude', 'longitude', 'yearOfLoss']].drop_duplicates()"
   ]
  },
  {
   "cell_type": "markdown",
   "id": "f29adafd-6ef2-4608-85e5-2dc868626c02",
   "metadata": {},
   "source": [
    "## Using Pygris"
   ]
  },
  {
   "cell_type": "code",
   "execution_count": 6,
   "id": "8f7397e8-42db-4082-baf4-bf347799c935",
   "metadata": {
    "tags": []
   },
   "outputs": [
    {
     "name": "stdout",
     "output_type": "stream",
     "text": [
      "Using the default year of 2021\n"
     ]
    }
   ],
   "source": [
    "states = pygris.states()\n",
    "states_list = sorted(states['STUSPS'].unique())"
   ]
  },
  {
   "cell_type": "markdown",
   "id": "3db7b8e6-0cd6-435e-b993-bdfb7782955d",
   "metadata": {},
   "source": [
    "## BlockGroup Shapefile"
   ]
  },
  {
   "cell_type": "code",
   "execution_count": 7,
   "id": "64f06bf5-c7a5-49e6-a248-6860a7a698a7",
   "metadata": {
    "collapsed": true,
    "jupyter": {
     "outputs_hidden": true
    },
    "tags": []
   },
   "outputs": [
    {
     "name": "stdout",
     "output_type": "stream",
     "text": [
      "Using FIPS code '02' for input 'AK'\n",
      "Using FIPS code '01' for input 'AL'\n",
      "Using FIPS code '05' for input 'AR'\n",
      "Using FIPS code '60' for input 'AS'\n",
      "Using FIPS code '04' for input 'AZ'\n",
      "Using FIPS code '06' for input 'CA'\n",
      "Using FIPS code '08' for input 'CO'\n",
      "Using FIPS code '09' for input 'CT'\n",
      "Using FIPS code '11' for input 'DC'\n",
      "Using FIPS code '10' for input 'DE'\n",
      "Using FIPS code '12' for input 'FL'\n",
      "Using FIPS code '13' for input 'GA'\n",
      "Using FIPS code '66' for input 'GU'\n",
      "Using FIPS code '15' for input 'HI'\n",
      "Using FIPS code '19' for input 'IA'\n",
      "Using FIPS code '16' for input 'ID'\n",
      "Using FIPS code '17' for input 'IL'\n",
      "Using FIPS code '18' for input 'IN'\n",
      "Using FIPS code '20' for input 'KS'\n",
      "Using FIPS code '21' for input 'KY'\n",
      "Using FIPS code '22' for input 'LA'\n",
      "Using FIPS code '25' for input 'MA'\n",
      "Using FIPS code '24' for input 'MD'\n",
      "Using FIPS code '23' for input 'ME'\n",
      "Using FIPS code '26' for input 'MI'\n",
      "Using FIPS code '27' for input 'MN'\n",
      "Using FIPS code '29' for input 'MO'\n",
      "Using FIPS code '69' for input 'MP'\n",
      "Using FIPS code '28' for input 'MS'\n",
      "Using FIPS code '30' for input 'MT'\n",
      "Using FIPS code '37' for input 'NC'\n",
      "Using FIPS code '38' for input 'ND'\n",
      "Using FIPS code '31' for input 'NE'\n",
      "Using FIPS code '33' for input 'NH'\n",
      "Using FIPS code '34' for input 'NJ'\n",
      "Using FIPS code '35' for input 'NM'\n",
      "Using FIPS code '32' for input 'NV'\n",
      "Using FIPS code '36' for input 'NY'\n",
      "Using FIPS code '39' for input 'OH'\n",
      "Using FIPS code '40' for input 'OK'\n",
      "Using FIPS code '41' for input 'OR'\n",
      "Using FIPS code '42' for input 'PA'\n",
      "Using FIPS code '72' for input 'PR'\n",
      "Using FIPS code '44' for input 'RI'\n",
      "Using FIPS code '45' for input 'SC'\n",
      "Using FIPS code '46' for input 'SD'\n",
      "Using FIPS code '47' for input 'TN'\n",
      "Using FIPS code '48' for input 'TX'\n",
      "Using FIPS code '49' for input 'UT'\n",
      "Using FIPS code '51' for input 'VA'\n",
      "Using FIPS code '78' for input 'VI'\n",
      "Using FIPS code '50' for input 'VT'\n",
      "Using FIPS code '53' for input 'WA'\n",
      "Using FIPS code '55' for input 'WI'\n",
      "Using FIPS code '54' for input 'WV'\n",
      "Using FIPS code '56' for input 'WY'\n"
     ]
    }
   ],
   "source": [
    "BG_list_2022 = []\n",
    "\n",
    "for i in states_list:\n",
    "    BG_list_2022.append(pygris.block_groups(state = i, year = 2022))"
   ]
  },
  {
   "cell_type": "code",
   "execution_count": 8,
   "id": "aa93d196-65ab-46aa-81dd-004f8587c789",
   "metadata": {
    "collapsed": true,
    "jupyter": {
     "outputs_hidden": true
    },
    "tags": []
   },
   "outputs": [
    {
     "name": "stdout",
     "output_type": "stream",
     "text": [
      "Using FIPS code '02' for input 'AK'\n",
      "Using FIPS code '01' for input 'AL'\n",
      "Using FIPS code '05' for input 'AR'\n",
      "Using FIPS code '60' for input 'AS'\n",
      "Using FIPS code '04' for input 'AZ'\n",
      "Using FIPS code '06' for input 'CA'\n",
      "Using FIPS code '08' for input 'CO'\n",
      "Using FIPS code '09' for input 'CT'\n",
      "Using FIPS code '11' for input 'DC'\n",
      "Using FIPS code '10' for input 'DE'\n",
      "Using FIPS code '12' for input 'FL'\n",
      "Using FIPS code '13' for input 'GA'\n",
      "Using FIPS code '66' for input 'GU'\n",
      "Using FIPS code '15' for input 'HI'\n",
      "Using FIPS code '19' for input 'IA'\n",
      "Using FIPS code '16' for input 'ID'\n",
      "Using FIPS code '17' for input 'IL'\n",
      "Using FIPS code '18' for input 'IN'\n",
      "Using FIPS code '20' for input 'KS'\n",
      "Using FIPS code '21' for input 'KY'\n",
      "Using FIPS code '22' for input 'LA'\n",
      "Using FIPS code '25' for input 'MA'\n",
      "Using FIPS code '24' for input 'MD'\n",
      "Using FIPS code '23' for input 'ME'\n",
      "Using FIPS code '26' for input 'MI'\n",
      "Using FIPS code '27' for input 'MN'\n",
      "Using FIPS code '29' for input 'MO'\n",
      "Using FIPS code '69' for input 'MP'\n",
      "Using FIPS code '28' for input 'MS'\n",
      "Using FIPS code '30' for input 'MT'\n",
      "Using FIPS code '37' for input 'NC'\n",
      "Using FIPS code '38' for input 'ND'\n",
      "Using FIPS code '31' for input 'NE'\n",
      "Using FIPS code '33' for input 'NH'\n",
      "Using FIPS code '34' for input 'NJ'\n",
      "Using FIPS code '35' for input 'NM'\n",
      "Using FIPS code '32' for input 'NV'\n",
      "Using FIPS code '36' for input 'NY'\n",
      "Using FIPS code '39' for input 'OH'\n",
      "Using FIPS code '40' for input 'OK'\n",
      "Using FIPS code '41' for input 'OR'\n",
      "Using FIPS code '42' for input 'PA'\n",
      "Using FIPS code '72' for input 'PR'\n",
      "Using FIPS code '44' for input 'RI'\n",
      "Using FIPS code '45' for input 'SC'\n",
      "Using FIPS code '46' for input 'SD'\n",
      "Using FIPS code '47' for input 'TN'\n",
      "Using FIPS code '48' for input 'TX'\n",
      "Using FIPS code '49' for input 'UT'\n",
      "Using FIPS code '51' for input 'VA'\n",
      "Using FIPS code '78' for input 'VI'\n",
      "Using FIPS code '50' for input 'VT'\n",
      "Using FIPS code '53' for input 'WA'\n",
      "Using FIPS code '55' for input 'WI'\n",
      "Using FIPS code '54' for input 'WV'\n",
      "Using FIPS code '56' for input 'WY'\n"
     ]
    }
   ],
   "source": [
    "BG_list_2020 = []\n",
    "\n",
    "for i in states_list:\n",
    "    BG_list_2020.append(pygris.block_groups(state = i, year = 2020))"
   ]
  },
  {
   "cell_type": "code",
   "execution_count": 9,
   "id": "04f59a54-380a-499c-82ae-66650f69e433",
   "metadata": {
    "collapsed": true,
    "jupyter": {
     "outputs_hidden": true
    },
    "tags": []
   },
   "outputs": [
    {
     "name": "stdout",
     "output_type": "stream",
     "text": [
      "Using FIPS code '02' for input 'AK'\n",
      "Using FIPS code '01' for input 'AL'\n",
      "Using FIPS code '05' for input 'AR'\n",
      "Using FIPS code '60' for input 'AS'\n",
      "Using FIPS code '04' for input 'AZ'\n",
      "Using FIPS code '06' for input 'CA'\n",
      "Using FIPS code '08' for input 'CO'\n",
      "Using FIPS code '09' for input 'CT'\n",
      "Using FIPS code '11' for input 'DC'\n",
      "Using FIPS code '10' for input 'DE'\n",
      "Using FIPS code '12' for input 'FL'\n",
      "Using FIPS code '13' for input 'GA'\n",
      "Using FIPS code '66' for input 'GU'\n",
      "Using FIPS code '15' for input 'HI'\n",
      "Using FIPS code '19' for input 'IA'\n",
      "Using FIPS code '16' for input 'ID'\n",
      "Using FIPS code '17' for input 'IL'\n",
      "Using FIPS code '18' for input 'IN'\n",
      "Using FIPS code '20' for input 'KS'\n",
      "Using FIPS code '21' for input 'KY'\n",
      "Using FIPS code '22' for input 'LA'\n",
      "Using FIPS code '25' for input 'MA'\n",
      "Using FIPS code '24' for input 'MD'\n",
      "Using FIPS code '23' for input 'ME'\n",
      "Using FIPS code '26' for input 'MI'\n",
      "Using FIPS code '27' for input 'MN'\n",
      "Using FIPS code '29' for input 'MO'\n",
      "Using FIPS code '69' for input 'MP'\n",
      "Using FIPS code '28' for input 'MS'\n",
      "Using FIPS code '30' for input 'MT'\n",
      "Using FIPS code '37' for input 'NC'\n",
      "Using FIPS code '38' for input 'ND'\n",
      "Using FIPS code '31' for input 'NE'\n",
      "Using FIPS code '33' for input 'NH'\n",
      "Using FIPS code '34' for input 'NJ'\n",
      "Using FIPS code '35' for input 'NM'\n",
      "Using FIPS code '32' for input 'NV'\n",
      "Using FIPS code '36' for input 'NY'\n",
      "Using FIPS code '39' for input 'OH'\n",
      "Using FIPS code '40' for input 'OK'\n",
      "Using FIPS code '41' for input 'OR'\n",
      "Using FIPS code '42' for input 'PA'\n",
      "Using FIPS code '72' for input 'PR'\n",
      "Using FIPS code '44' for input 'RI'\n",
      "Using FIPS code '45' for input 'SC'\n",
      "Using FIPS code '46' for input 'SD'\n",
      "Using FIPS code '47' for input 'TN'\n",
      "Using FIPS code '48' for input 'TX'\n",
      "Using FIPS code '49' for input 'UT'\n",
      "Using FIPS code '51' for input 'VA'\n",
      "Using FIPS code '78' for input 'VI'\n",
      "Using FIPS code '50' for input 'VT'\n",
      "Using FIPS code '53' for input 'WA'\n",
      "Using FIPS code '55' for input 'WI'\n",
      "Using FIPS code '54' for input 'WV'\n",
      "Using FIPS code '56' for input 'WY'\n"
     ]
    }
   ],
   "source": [
    "BG_list_2019 = []\n",
    "\n",
    "for i in states_list:\n",
    "    BG_list_2019.append(pygris.block_groups(state = i, year = 2019))"
   ]
  },
  {
   "cell_type": "code",
   "execution_count": 10,
   "id": "2959e488-8875-41fe-baa6-f4b86a0609cb",
   "metadata": {
    "collapsed": true,
    "jupyter": {
     "outputs_hidden": true
    },
    "tags": []
   },
   "outputs": [
    {
     "name": "stdout",
     "output_type": "stream",
     "text": [
      "Using FIPS code '02' for input 'AK'\n",
      "Using FIPS code '01' for input 'AL'\n",
      "Using FIPS code '05' for input 'AR'\n",
      "Using FIPS code '60' for input 'AS'\n",
      "Using FIPS code '04' for input 'AZ'\n",
      "Using FIPS code '06' for input 'CA'\n",
      "Using FIPS code '08' for input 'CO'\n",
      "Using FIPS code '09' for input 'CT'\n",
      "Using FIPS code '11' for input 'DC'\n",
      "Using FIPS code '10' for input 'DE'\n",
      "Using FIPS code '12' for input 'FL'\n",
      "Using FIPS code '13' for input 'GA'\n",
      "Using FIPS code '66' for input 'GU'\n",
      "Using FIPS code '15' for input 'HI'\n",
      "Using FIPS code '19' for input 'IA'\n",
      "Using FIPS code '16' for input 'ID'\n",
      "Using FIPS code '17' for input 'IL'\n",
      "Using FIPS code '18' for input 'IN'\n",
      "Using FIPS code '20' for input 'KS'\n",
      "Using FIPS code '21' for input 'KY'\n",
      "Using FIPS code '22' for input 'LA'\n",
      "Using FIPS code '25' for input 'MA'\n",
      "Using FIPS code '24' for input 'MD'\n",
      "Using FIPS code '23' for input 'ME'\n",
      "Using FIPS code '26' for input 'MI'\n",
      "Using FIPS code '27' for input 'MN'\n",
      "Using FIPS code '29' for input 'MO'\n",
      "Using FIPS code '69' for input 'MP'\n",
      "Using FIPS code '28' for input 'MS'\n",
      "Using FIPS code '30' for input 'MT'\n",
      "Using FIPS code '37' for input 'NC'\n",
      "Using FIPS code '38' for input 'ND'\n",
      "Using FIPS code '31' for input 'NE'\n",
      "Using FIPS code '33' for input 'NH'\n",
      "Using FIPS code '34' for input 'NJ'\n",
      "Using FIPS code '35' for input 'NM'\n",
      "Using FIPS code '32' for input 'NV'\n",
      "Using FIPS code '36' for input 'NY'\n",
      "Using FIPS code '39' for input 'OH'\n",
      "Using FIPS code '40' for input 'OK'\n",
      "Using FIPS code '41' for input 'OR'\n",
      "Using FIPS code '42' for input 'PA'\n",
      "Using FIPS code '72' for input 'PR'\n",
      "Using FIPS code '44' for input 'RI'\n",
      "Using FIPS code '45' for input 'SC'\n",
      "Using FIPS code '46' for input 'SD'\n",
      "Using FIPS code '47' for input 'TN'\n",
      "Using FIPS code '48' for input 'TX'\n",
      "Using FIPS code '49' for input 'UT'\n",
      "Using FIPS code '51' for input 'VA'\n",
      "Using FIPS code '78' for input 'VI'\n",
      "Using FIPS code '50' for input 'VT'\n",
      "Using FIPS code '53' for input 'WA'\n",
      "Using FIPS code '55' for input 'WI'\n",
      "Using FIPS code '54' for input 'WV'\n",
      "Using FIPS code '56' for input 'WY'\n"
     ]
    }
   ],
   "source": [
    "BG_list_2018 = []\n",
    "\n",
    "for i in states_list:\n",
    "    BG_list_2018.append(pygris.block_groups(state = i, year = 2018))"
   ]
  },
  {
   "cell_type": "code",
   "execution_count": 11,
   "id": "53298757-e35e-44c7-ae6c-5a4a79cac0f5",
   "metadata": {
    "collapsed": true,
    "jupyter": {
     "outputs_hidden": true
    },
    "tags": []
   },
   "outputs": [
    {
     "name": "stdout",
     "output_type": "stream",
     "text": [
      "Using FIPS code '02' for input 'AK'\n",
      "Using FIPS code '01' for input 'AL'\n",
      "Using FIPS code '05' for input 'AR'\n",
      "Using FIPS code '60' for input 'AS'\n",
      "Using FIPS code '04' for input 'AZ'\n",
      "Using FIPS code '06' for input 'CA'\n",
      "Using FIPS code '08' for input 'CO'\n",
      "Using FIPS code '09' for input 'CT'\n",
      "Using FIPS code '11' for input 'DC'\n",
      "Using FIPS code '10' for input 'DE'\n",
      "Using FIPS code '12' for input 'FL'\n",
      "Using FIPS code '13' for input 'GA'\n",
      "Using FIPS code '66' for input 'GU'\n",
      "Using FIPS code '15' for input 'HI'\n",
      "Using FIPS code '19' for input 'IA'\n",
      "Using FIPS code '16' for input 'ID'\n",
      "Using FIPS code '17' for input 'IL'\n",
      "Using FIPS code '18' for input 'IN'\n",
      "Using FIPS code '20' for input 'KS'\n",
      "Using FIPS code '21' for input 'KY'\n",
      "Using FIPS code '22' for input 'LA'\n",
      "Using FIPS code '25' for input 'MA'\n",
      "Using FIPS code '24' for input 'MD'\n",
      "Using FIPS code '23' for input 'ME'\n",
      "Using FIPS code '26' for input 'MI'\n",
      "Using FIPS code '27' for input 'MN'\n",
      "Using FIPS code '29' for input 'MO'\n",
      "Using FIPS code '69' for input 'MP'\n",
      "Using FIPS code '28' for input 'MS'\n",
      "Using FIPS code '30' for input 'MT'\n",
      "Using FIPS code '37' for input 'NC'\n",
      "Using FIPS code '38' for input 'ND'\n",
      "Using FIPS code '31' for input 'NE'\n",
      "Using FIPS code '33' for input 'NH'\n",
      "Using FIPS code '34' for input 'NJ'\n",
      "Using FIPS code '35' for input 'NM'\n",
      "Using FIPS code '32' for input 'NV'\n",
      "Using FIPS code '36' for input 'NY'\n",
      "Using FIPS code '39' for input 'OH'\n",
      "Using FIPS code '40' for input 'OK'\n",
      "Using FIPS code '41' for input 'OR'\n",
      "Using FIPS code '42' for input 'PA'\n",
      "Using FIPS code '72' for input 'PR'\n",
      "Using FIPS code '44' for input 'RI'\n",
      "Using FIPS code '45' for input 'SC'\n",
      "Using FIPS code '46' for input 'SD'\n",
      "Using FIPS code '47' for input 'TN'\n",
      "Using FIPS code '48' for input 'TX'\n",
      "Using FIPS code '49' for input 'UT'\n",
      "Using FIPS code '51' for input 'VA'\n",
      "Using FIPS code '78' for input 'VI'\n",
      "Using FIPS code '50' for input 'VT'\n",
      "Using FIPS code '53' for input 'WA'\n",
      "Using FIPS code '55' for input 'WI'\n",
      "Using FIPS code '54' for input 'WV'\n",
      "Using FIPS code '56' for input 'WY'\n"
     ]
    }
   ],
   "source": [
    "BG_list_2017 = []\n",
    "\n",
    "for i in states_list:\n",
    "    BG_list_2017.append(pygris.block_groups(state = i, year = 2017))"
   ]
  },
  {
   "cell_type": "code",
   "execution_count": 12,
   "id": "01fcd178-a1f1-4f8e-8406-8e68b6dcd9af",
   "metadata": {
    "collapsed": true,
    "jupyter": {
     "outputs_hidden": true
    },
    "tags": []
   },
   "outputs": [
    {
     "name": "stdout",
     "output_type": "stream",
     "text": [
      "Using FIPS code '02' for input 'AK'\n",
      "Using FIPS code '01' for input 'AL'\n",
      "Using FIPS code '05' for input 'AR'\n",
      "Using FIPS code '60' for input 'AS'\n",
      "Using FIPS code '04' for input 'AZ'\n",
      "Using FIPS code '06' for input 'CA'\n",
      "Using FIPS code '08' for input 'CO'\n",
      "Using FIPS code '09' for input 'CT'\n",
      "Using FIPS code '11' for input 'DC'\n",
      "Using FIPS code '10' for input 'DE'\n",
      "Using FIPS code '12' for input 'FL'\n",
      "Using FIPS code '13' for input 'GA'\n",
      "Using FIPS code '66' for input 'GU'\n",
      "Using FIPS code '15' for input 'HI'\n",
      "Using FIPS code '19' for input 'IA'\n",
      "Using FIPS code '16' for input 'ID'\n",
      "Using FIPS code '17' for input 'IL'\n",
      "Using FIPS code '18' for input 'IN'\n",
      "Using FIPS code '20' for input 'KS'\n",
      "Using FIPS code '21' for input 'KY'\n",
      "Using FIPS code '22' for input 'LA'\n",
      "Using FIPS code '25' for input 'MA'\n",
      "Using FIPS code '24' for input 'MD'\n",
      "Using FIPS code '23' for input 'ME'\n",
      "Using FIPS code '26' for input 'MI'\n",
      "Using FIPS code '27' for input 'MN'\n",
      "Using FIPS code '29' for input 'MO'\n",
      "Using FIPS code '69' for input 'MP'\n",
      "Using FIPS code '28' for input 'MS'\n",
      "Using FIPS code '30' for input 'MT'\n",
      "Using FIPS code '37' for input 'NC'\n",
      "Using FIPS code '38' for input 'ND'\n",
      "Using FIPS code '31' for input 'NE'\n",
      "Using FIPS code '33' for input 'NH'\n",
      "Using FIPS code '34' for input 'NJ'\n",
      "Using FIPS code '35' for input 'NM'\n",
      "Using FIPS code '32' for input 'NV'\n",
      "Using FIPS code '36' for input 'NY'\n",
      "Using FIPS code '39' for input 'OH'\n",
      "Using FIPS code '40' for input 'OK'\n",
      "Using FIPS code '41' for input 'OR'\n",
      "Using FIPS code '42' for input 'PA'\n",
      "Using FIPS code '72' for input 'PR'\n",
      "Using FIPS code '44' for input 'RI'\n",
      "Using FIPS code '45' for input 'SC'\n",
      "Using FIPS code '46' for input 'SD'\n",
      "Using FIPS code '47' for input 'TN'\n",
      "Using FIPS code '48' for input 'TX'\n",
      "Using FIPS code '49' for input 'UT'\n",
      "Using FIPS code '51' for input 'VA'\n",
      "Using FIPS code '78' for input 'VI'\n",
      "Using FIPS code '50' for input 'VT'\n",
      "Using FIPS code '53' for input 'WA'\n",
      "Using FIPS code '55' for input 'WI'\n",
      "Using FIPS code '54' for input 'WV'\n",
      "Using FIPS code '56' for input 'WY'\n"
     ]
    }
   ],
   "source": [
    "BG_list_2016 = []\n",
    "\n",
    "for i in states_list:\n",
    "    BG_list_2016.append(pygris.block_groups(state = i, year = 2016))"
   ]
  },
  {
   "cell_type": "code",
   "execution_count": 13,
   "id": "9950b492-99a9-4c87-b43d-3369ce7fc5e5",
   "metadata": {
    "collapsed": true,
    "jupyter": {
     "outputs_hidden": true
    },
    "tags": []
   },
   "outputs": [
    {
     "name": "stdout",
     "output_type": "stream",
     "text": [
      "Using FIPS code '02' for input 'AK'\n",
      "Using FIPS code '01' for input 'AL'\n",
      "Using FIPS code '05' for input 'AR'\n",
      "Using FIPS code '60' for input 'AS'\n",
      "Using FIPS code '04' for input 'AZ'\n",
      "Using FIPS code '06' for input 'CA'\n",
      "Using FIPS code '08' for input 'CO'\n",
      "Using FIPS code '09' for input 'CT'\n",
      "Using FIPS code '11' for input 'DC'\n",
      "Using FIPS code '10' for input 'DE'\n",
      "Using FIPS code '12' for input 'FL'\n",
      "Using FIPS code '13' for input 'GA'\n",
      "Using FIPS code '66' for input 'GU'\n",
      "Using FIPS code '15' for input 'HI'\n",
      "Using FIPS code '19' for input 'IA'\n",
      "Using FIPS code '16' for input 'ID'\n",
      "Using FIPS code '17' for input 'IL'\n",
      "Using FIPS code '18' for input 'IN'\n",
      "Using FIPS code '20' for input 'KS'\n",
      "Using FIPS code '21' for input 'KY'\n",
      "Using FIPS code '22' for input 'LA'\n",
      "Using FIPS code '25' for input 'MA'\n",
      "Using FIPS code '24' for input 'MD'\n",
      "Using FIPS code '23' for input 'ME'\n",
      "Using FIPS code '26' for input 'MI'\n",
      "Using FIPS code '27' for input 'MN'\n",
      "Using FIPS code '29' for input 'MO'\n",
      "Using FIPS code '69' for input 'MP'\n",
      "Using FIPS code '28' for input 'MS'\n",
      "Using FIPS code '30' for input 'MT'\n",
      "Using FIPS code '37' for input 'NC'\n",
      "Using FIPS code '38' for input 'ND'\n",
      "Using FIPS code '31' for input 'NE'\n",
      "Using FIPS code '33' for input 'NH'\n",
      "Using FIPS code '34' for input 'NJ'\n",
      "Using FIPS code '35' for input 'NM'\n",
      "Using FIPS code '32' for input 'NV'\n",
      "Using FIPS code '36' for input 'NY'\n",
      "Using FIPS code '39' for input 'OH'\n",
      "Using FIPS code '40' for input 'OK'\n",
      "Using FIPS code '41' for input 'OR'\n",
      "Using FIPS code '42' for input 'PA'\n",
      "Using FIPS code '72' for input 'PR'\n",
      "Using FIPS code '44' for input 'RI'\n",
      "Using FIPS code '45' for input 'SC'\n",
      "Using FIPS code '46' for input 'SD'\n",
      "Using FIPS code '47' for input 'TN'\n",
      "Using FIPS code '48' for input 'TX'\n",
      "Using FIPS code '49' for input 'UT'\n",
      "Using FIPS code '51' for input 'VA'\n",
      "Using FIPS code '78' for input 'VI'\n",
      "Using FIPS code '50' for input 'VT'\n",
      "Using FIPS code '53' for input 'WA'\n",
      "Using FIPS code '55' for input 'WI'\n",
      "Using FIPS code '54' for input 'WV'\n",
      "Using FIPS code '56' for input 'WY'\n"
     ]
    }
   ],
   "source": [
    "BG_list_2015 = []\n",
    "\n",
    "for i in states_list:\n",
    "    BG_list_2015.append(pygris.block_groups(state = i, year = 2015))"
   ]
  },
  {
   "cell_type": "code",
   "execution_count": 14,
   "id": "ab158da6-f0d5-4305-bf12-8b6f32430b81",
   "metadata": {
    "collapsed": true,
    "jupyter": {
     "outputs_hidden": true
    },
    "tags": []
   },
   "outputs": [
    {
     "name": "stdout",
     "output_type": "stream",
     "text": [
      "Using FIPS code '02' for input 'AK'\n",
      "Using FIPS code '01' for input 'AL'\n",
      "Using FIPS code '05' for input 'AR'\n",
      "Using FIPS code '60' for input 'AS'\n",
      "Using FIPS code '04' for input 'AZ'\n",
      "Using FIPS code '06' for input 'CA'\n",
      "Using FIPS code '08' for input 'CO'\n",
      "Using FIPS code '09' for input 'CT'\n",
      "Using FIPS code '11' for input 'DC'\n",
      "Using FIPS code '10' for input 'DE'\n",
      "Using FIPS code '12' for input 'FL'\n",
      "Using FIPS code '13' for input 'GA'\n",
      "Using FIPS code '66' for input 'GU'\n",
      "Using FIPS code '15' for input 'HI'\n",
      "Using FIPS code '19' for input 'IA'\n",
      "Using FIPS code '16' for input 'ID'\n",
      "Using FIPS code '17' for input 'IL'\n",
      "Using FIPS code '18' for input 'IN'\n",
      "Using FIPS code '20' for input 'KS'\n",
      "Using FIPS code '21' for input 'KY'\n",
      "Using FIPS code '22' for input 'LA'\n",
      "Using FIPS code '25' for input 'MA'\n",
      "Using FIPS code '24' for input 'MD'\n",
      "Using FIPS code '23' for input 'ME'\n",
      "Using FIPS code '26' for input 'MI'\n",
      "Using FIPS code '27' for input 'MN'\n",
      "Using FIPS code '29' for input 'MO'\n",
      "Using FIPS code '69' for input 'MP'\n",
      "Using FIPS code '28' for input 'MS'\n",
      "Using FIPS code '30' for input 'MT'\n",
      "Using FIPS code '37' for input 'NC'\n",
      "Using FIPS code '38' for input 'ND'\n",
      "Using FIPS code '31' for input 'NE'\n",
      "Using FIPS code '33' for input 'NH'\n",
      "Using FIPS code '34' for input 'NJ'\n",
      "Using FIPS code '35' for input 'NM'\n",
      "Using FIPS code '32' for input 'NV'\n",
      "Using FIPS code '36' for input 'NY'\n",
      "Using FIPS code '39' for input 'OH'\n",
      "Using FIPS code '40' for input 'OK'\n",
      "Using FIPS code '41' for input 'OR'\n",
      "Using FIPS code '42' for input 'PA'\n",
      "Using FIPS code '72' for input 'PR'\n",
      "Using FIPS code '44' for input 'RI'\n",
      "Using FIPS code '45' for input 'SC'\n",
      "Using FIPS code '46' for input 'SD'\n",
      "Using FIPS code '47' for input 'TN'\n",
      "Using FIPS code '48' for input 'TX'\n",
      "Using FIPS code '49' for input 'UT'\n",
      "Using FIPS code '51' for input 'VA'\n",
      "Using FIPS code '78' for input 'VI'\n",
      "Using FIPS code '50' for input 'VT'\n",
      "Using FIPS code '53' for input 'WA'\n",
      "Using FIPS code '55' for input 'WI'\n",
      "Using FIPS code '54' for input 'WV'\n",
      "Using FIPS code '56' for input 'WY'\n"
     ]
    }
   ],
   "source": [
    "BG_list_2014 = []\n",
    "\n",
    "for i in states_list:\n",
    "    BG_list_2014.append(pygris.block_groups(state = i, year = 2014))"
   ]
  },
  {
   "cell_type": "code",
   "execution_count": 15,
   "id": "3d75fd2c-8975-4713-bb69-1d7e83dcb0e9",
   "metadata": {
    "collapsed": true,
    "jupyter": {
     "outputs_hidden": true
    },
    "tags": []
   },
   "outputs": [
    {
     "name": "stdout",
     "output_type": "stream",
     "text": [
      "Using FIPS code '02' for input 'AK'\n",
      "Using FIPS code '01' for input 'AL'\n",
      "Using FIPS code '05' for input 'AR'\n",
      "Using FIPS code '60' for input 'AS'\n",
      "Using FIPS code '04' for input 'AZ'\n",
      "Using FIPS code '06' for input 'CA'\n",
      "Using FIPS code '08' for input 'CO'\n",
      "Using FIPS code '09' for input 'CT'\n",
      "Using FIPS code '11' for input 'DC'\n",
      "Using FIPS code '10' for input 'DE'\n",
      "Using FIPS code '12' for input 'FL'\n",
      "Using FIPS code '13' for input 'GA'\n",
      "Using FIPS code '66' for input 'GU'\n",
      "Using FIPS code '15' for input 'HI'\n",
      "Using FIPS code '19' for input 'IA'\n",
      "Using FIPS code '16' for input 'ID'\n",
      "Using FIPS code '17' for input 'IL'\n",
      "Using FIPS code '18' for input 'IN'\n",
      "Using FIPS code '20' for input 'KS'\n",
      "Using FIPS code '21' for input 'KY'\n",
      "Using FIPS code '22' for input 'LA'\n",
      "Using FIPS code '25' for input 'MA'\n",
      "Using FIPS code '24' for input 'MD'\n",
      "Using FIPS code '23' for input 'ME'\n",
      "Using FIPS code '26' for input 'MI'\n",
      "Using FIPS code '27' for input 'MN'\n",
      "Using FIPS code '29' for input 'MO'\n",
      "Using FIPS code '69' for input 'MP'\n",
      "Using FIPS code '28' for input 'MS'\n",
      "Using FIPS code '30' for input 'MT'\n",
      "Using FIPS code '37' for input 'NC'\n",
      "Using FIPS code '38' for input 'ND'\n",
      "Using FIPS code '31' for input 'NE'\n",
      "Using FIPS code '33' for input 'NH'\n",
      "Using FIPS code '34' for input 'NJ'\n",
      "Using FIPS code '35' for input 'NM'\n",
      "Using FIPS code '32' for input 'NV'\n",
      "Using FIPS code '36' for input 'NY'\n",
      "Using FIPS code '39' for input 'OH'\n",
      "Using FIPS code '40' for input 'OK'\n",
      "Using FIPS code '41' for input 'OR'\n",
      "Using FIPS code '42' for input 'PA'\n",
      "Using FIPS code '72' for input 'PR'\n",
      "Using FIPS code '44' for input 'RI'\n",
      "Using FIPS code '45' for input 'SC'\n",
      "Using FIPS code '46' for input 'SD'\n",
      "Using FIPS code '47' for input 'TN'\n",
      "Using FIPS code '48' for input 'TX'\n",
      "Using FIPS code '49' for input 'UT'\n",
      "Using FIPS code '51' for input 'VA'\n",
      "Using FIPS code '78' for input 'VI'\n",
      "Using FIPS code '50' for input 'VT'\n",
      "Using FIPS code '53' for input 'WA'\n",
      "Using FIPS code '55' for input 'WI'\n",
      "Using FIPS code '54' for input 'WV'\n",
      "Using FIPS code '56' for input 'WY'\n"
     ]
    }
   ],
   "source": [
    "BG_list_2013 = []\n",
    "\n",
    "for i in states_list:\n",
    "    BG_list_2013.append(pygris.block_groups(state = i, year = 2013))"
   ]
  },
  {
   "cell_type": "code",
   "execution_count": 16,
   "id": "cdb08c00-5e97-4d96-845f-424fd8df1577",
   "metadata": {
    "collapsed": true,
    "jupyter": {
     "outputs_hidden": true
    },
    "tags": []
   },
   "outputs": [
    {
     "name": "stdout",
     "output_type": "stream",
     "text": [
      "Using FIPS code '02' for input 'AK'\n",
      "Using FIPS code '01' for input 'AL'\n",
      "Using FIPS code '05' for input 'AR'\n",
      "Using FIPS code '60' for input 'AS'\n",
      "Using FIPS code '04' for input 'AZ'\n",
      "Using FIPS code '06' for input 'CA'\n",
      "Using FIPS code '08' for input 'CO'\n",
      "Using FIPS code '09' for input 'CT'\n",
      "Using FIPS code '11' for input 'DC'\n",
      "Using FIPS code '10' for input 'DE'\n",
      "Using FIPS code '12' for input 'FL'\n",
      "Using FIPS code '13' for input 'GA'\n",
      "Using FIPS code '66' for input 'GU'\n",
      "Using FIPS code '15' for input 'HI'\n",
      "Using FIPS code '19' for input 'IA'\n",
      "Using FIPS code '16' for input 'ID'\n",
      "Using FIPS code '17' for input 'IL'\n",
      "Using FIPS code '18' for input 'IN'\n",
      "Using FIPS code '20' for input 'KS'\n",
      "Using FIPS code '21' for input 'KY'\n",
      "Using FIPS code '22' for input 'LA'\n",
      "Using FIPS code '25' for input 'MA'\n",
      "Using FIPS code '24' for input 'MD'\n",
      "Using FIPS code '23' for input 'ME'\n",
      "Using FIPS code '26' for input 'MI'\n",
      "Using FIPS code '27' for input 'MN'\n",
      "Using FIPS code '29' for input 'MO'\n",
      "Using FIPS code '69' for input 'MP'\n",
      "Using FIPS code '28' for input 'MS'\n",
      "Using FIPS code '30' for input 'MT'\n",
      "Using FIPS code '37' for input 'NC'\n",
      "Using FIPS code '38' for input 'ND'\n",
      "Using FIPS code '31' for input 'NE'\n",
      "Using FIPS code '33' for input 'NH'\n",
      "Using FIPS code '34' for input 'NJ'\n",
      "Using FIPS code '35' for input 'NM'\n",
      "Using FIPS code '32' for input 'NV'\n",
      "Using FIPS code '36' for input 'NY'\n",
      "Using FIPS code '39' for input 'OH'\n",
      "Using FIPS code '40' for input 'OK'\n",
      "Using FIPS code '41' for input 'OR'\n",
      "Using FIPS code '42' for input 'PA'\n",
      "Using FIPS code '72' for input 'PR'\n",
      "Using FIPS code '44' for input 'RI'\n",
      "Using FIPS code '45' for input 'SC'\n",
      "Using FIPS code '46' for input 'SD'\n",
      "Using FIPS code '47' for input 'TN'\n",
      "Using FIPS code '48' for input 'TX'\n",
      "Using FIPS code '49' for input 'UT'\n",
      "Using FIPS code '51' for input 'VA'\n",
      "Using FIPS code '78' for input 'VI'\n",
      "Using FIPS code '50' for input 'VT'\n",
      "Using FIPS code '53' for input 'WA'\n",
      "Using FIPS code '55' for input 'WI'\n",
      "Using FIPS code '54' for input 'WV'\n",
      "Using FIPS code '56' for input 'WY'\n"
     ]
    }
   ],
   "source": [
    "BG_list_2012 = []\n",
    "\n",
    "for i in states_list:\n",
    "    BG_list_2012.append(pygris.block_groups(state = i, year = 2012))"
   ]
  },
  {
   "cell_type": "code",
   "execution_count": 17,
   "id": "be475ee4-1b86-45da-a4d4-95a946f74284",
   "metadata": {
    "collapsed": true,
    "jupyter": {
     "outputs_hidden": true
    },
    "tags": []
   },
   "outputs": [
    {
     "name": "stdout",
     "output_type": "stream",
     "text": [
      "Using FIPS code '02' for input 'AK'\n",
      "Using FIPS code '01' for input 'AL'\n",
      "Using FIPS code '05' for input 'AR'\n",
      "Using FIPS code '60' for input 'AS'\n",
      "Using FIPS code '04' for input 'AZ'\n",
      "Using FIPS code '06' for input 'CA'\n",
      "Using FIPS code '08' for input 'CO'\n",
      "Using FIPS code '09' for input 'CT'\n",
      "Using FIPS code '11' for input 'DC'\n",
      "Using FIPS code '10' for input 'DE'\n",
      "Using FIPS code '12' for input 'FL'\n",
      "Using FIPS code '13' for input 'GA'\n",
      "Using FIPS code '66' for input 'GU'\n",
      "Using FIPS code '15' for input 'HI'\n",
      "Using FIPS code '19' for input 'IA'\n",
      "Using FIPS code '16' for input 'ID'\n",
      "Using FIPS code '17' for input 'IL'\n",
      "Using FIPS code '18' for input 'IN'\n",
      "Using FIPS code '20' for input 'KS'\n",
      "Using FIPS code '21' for input 'KY'\n",
      "Using FIPS code '22' for input 'LA'\n",
      "Using FIPS code '25' for input 'MA'\n",
      "Using FIPS code '24' for input 'MD'\n",
      "Using FIPS code '23' for input 'ME'\n",
      "Using FIPS code '26' for input 'MI'\n",
      "Using FIPS code '27' for input 'MN'\n",
      "Using FIPS code '29' for input 'MO'\n",
      "Using FIPS code '69' for input 'MP'\n",
      "Using FIPS code '28' for input 'MS'\n",
      "Using FIPS code '30' for input 'MT'\n",
      "Using FIPS code '37' for input 'NC'\n",
      "Using FIPS code '38' for input 'ND'\n",
      "Using FIPS code '31' for input 'NE'\n",
      "Using FIPS code '33' for input 'NH'\n",
      "Using FIPS code '34' for input 'NJ'\n",
      "Using FIPS code '35' for input 'NM'\n",
      "Using FIPS code '32' for input 'NV'\n",
      "Using FIPS code '36' for input 'NY'\n",
      "Using FIPS code '39' for input 'OH'\n",
      "Using FIPS code '40' for input 'OK'\n",
      "Using FIPS code '41' for input 'OR'\n",
      "Using FIPS code '42' for input 'PA'\n",
      "Using FIPS code '72' for input 'PR'\n",
      "Using FIPS code '44' for input 'RI'\n",
      "Using FIPS code '45' for input 'SC'\n",
      "Using FIPS code '46' for input 'SD'\n",
      "Using FIPS code '47' for input 'TN'\n",
      "Using FIPS code '48' for input 'TX'\n",
      "Using FIPS code '49' for input 'UT'\n",
      "Using FIPS code '51' for input 'VA'\n",
      "Using FIPS code '78' for input 'VI'\n",
      "Using FIPS code '50' for input 'VT'\n",
      "Using FIPS code '53' for input 'WA'\n",
      "Using FIPS code '55' for input 'WI'\n",
      "Using FIPS code '54' for input 'WV'\n",
      "Using FIPS code '56' for input 'WY'\n"
     ]
    }
   ],
   "source": [
    "BG_list_2011 = []\n",
    "\n",
    "for i in states_list:\n",
    "    BG_list_2011.append(pygris.block_groups(state = i, year = 2011))"
   ]
  },
  {
   "cell_type": "code",
   "execution_count": 18,
   "id": "81529b46-2877-4bf4-baa7-7ab143abff6e",
   "metadata": {
    "collapsed": true,
    "jupyter": {
     "outputs_hidden": true
    },
    "tags": []
   },
   "outputs": [
    {
     "name": "stdout",
     "output_type": "stream",
     "text": [
      "Using FIPS code '02' for input 'AK'\n",
      "Using FIPS code '01' for input 'AL'\n",
      "Using FIPS code '05' for input 'AR'\n",
      "Using FIPS code '60' for input 'AS'\n",
      "Using FIPS code '04' for input 'AZ'\n",
      "Using FIPS code '06' for input 'CA'\n",
      "Using FIPS code '08' for input 'CO'\n",
      "Using FIPS code '09' for input 'CT'\n",
      "Using FIPS code '11' for input 'DC'\n",
      "Using FIPS code '10' for input 'DE'\n",
      "Using FIPS code '12' for input 'FL'\n",
      "Using FIPS code '13' for input 'GA'\n",
      "Using FIPS code '66' for input 'GU'\n",
      "Using FIPS code '15' for input 'HI'\n",
      "Using FIPS code '19' for input 'IA'\n",
      "Using FIPS code '16' for input 'ID'\n",
      "Using FIPS code '17' for input 'IL'\n",
      "Using FIPS code '18' for input 'IN'\n",
      "Using FIPS code '20' for input 'KS'\n",
      "Using FIPS code '21' for input 'KY'\n",
      "Using FIPS code '22' for input 'LA'\n",
      "Using FIPS code '25' for input 'MA'\n",
      "Using FIPS code '24' for input 'MD'\n",
      "Using FIPS code '23' for input 'ME'\n",
      "Using FIPS code '26' for input 'MI'\n",
      "Using FIPS code '27' for input 'MN'\n",
      "Using FIPS code '29' for input 'MO'\n",
      "Using FIPS code '69' for input 'MP'\n",
      "Using FIPS code '28' for input 'MS'\n",
      "Using FIPS code '30' for input 'MT'\n",
      "Using FIPS code '37' for input 'NC'\n",
      "Using FIPS code '38' for input 'ND'\n",
      "Using FIPS code '31' for input 'NE'\n",
      "Using FIPS code '33' for input 'NH'\n",
      "Using FIPS code '34' for input 'NJ'\n",
      "Using FIPS code '35' for input 'NM'\n",
      "Using FIPS code '32' for input 'NV'\n",
      "Using FIPS code '36' for input 'NY'\n",
      "Using FIPS code '39' for input 'OH'\n",
      "Using FIPS code '40' for input 'OK'\n",
      "Using FIPS code '41' for input 'OR'\n",
      "Using FIPS code '42' for input 'PA'\n",
      "Using FIPS code '72' for input 'PR'\n",
      "Using FIPS code '44' for input 'RI'\n",
      "Using FIPS code '45' for input 'SC'\n",
      "Using FIPS code '46' for input 'SD'\n",
      "Using FIPS code '47' for input 'TN'\n",
      "Using FIPS code '48' for input 'TX'\n",
      "Using FIPS code '49' for input 'UT'\n",
      "Using FIPS code '51' for input 'VA'\n",
      "Using FIPS code '78' for input 'VI'\n",
      "Using FIPS code '50' for input 'VT'\n",
      "Using FIPS code '53' for input 'WA'\n",
      "Using FIPS code '55' for input 'WI'\n",
      "Using FIPS code '54' for input 'WV'\n",
      "Using FIPS code '56' for input 'WY'\n"
     ]
    }
   ],
   "source": [
    "BG_list_2010 = []\n",
    "\n",
    "for i in states_list:\n",
    "    BG_list_2010.append(pygris.block_groups(state = i, year = 2010))"
   ]
  },
  {
   "cell_type": "code",
   "execution_count": 19,
   "id": "df388fc6-33cb-4b6d-a941-3edb1f60ee53",
   "metadata": {
    "collapsed": true,
    "jupyter": {
     "outputs_hidden": true
    },
    "tags": []
   },
   "outputs": [
    {
     "name": "stdout",
     "output_type": "stream",
     "text": [
      "Using FIPS code '02' for input 'AK'\n",
      "Using FIPS code '01' for input 'AL'\n",
      "Using FIPS code '05' for input 'AR'\n",
      "Using FIPS code '60' for input 'AS'\n",
      "Using FIPS code '04' for input 'AZ'\n",
      "Using FIPS code '06' for input 'CA'\n",
      "Using FIPS code '08' for input 'CO'\n",
      "Using FIPS code '09' for input 'CT'\n",
      "Using FIPS code '11' for input 'DC'\n",
      "Using FIPS code '10' for input 'DE'\n",
      "Using FIPS code '12' for input 'FL'\n",
      "Using FIPS code '13' for input 'GA'\n",
      "Using FIPS code '66' for input 'GU'\n",
      "Using FIPS code '15' for input 'HI'\n",
      "Using FIPS code '19' for input 'IA'\n",
      "Using FIPS code '16' for input 'ID'\n",
      "Using FIPS code '17' for input 'IL'\n",
      "Using FIPS code '18' for input 'IN'\n",
      "Using FIPS code '20' for input 'KS'\n",
      "Using FIPS code '21' for input 'KY'\n",
      "Using FIPS code '22' for input 'LA'\n",
      "Using FIPS code '25' for input 'MA'\n",
      "Using FIPS code '24' for input 'MD'\n",
      "Using FIPS code '23' for input 'ME'\n",
      "Using FIPS code '26' for input 'MI'\n",
      "Using FIPS code '27' for input 'MN'\n",
      "Using FIPS code '29' for input 'MO'\n",
      "Using FIPS code '69' for input 'MP'\n",
      "Using FIPS code '28' for input 'MS'\n",
      "Using FIPS code '30' for input 'MT'\n",
      "Using FIPS code '37' for input 'NC'\n",
      "Using FIPS code '38' for input 'ND'\n",
      "Using FIPS code '31' for input 'NE'\n",
      "Using FIPS code '33' for input 'NH'\n",
      "Using FIPS code '34' for input 'NJ'\n",
      "Using FIPS code '35' for input 'NM'\n",
      "Using FIPS code '32' for input 'NV'\n",
      "Using FIPS code '36' for input 'NY'\n",
      "Using FIPS code '39' for input 'OH'\n",
      "Using FIPS code '40' for input 'OK'\n",
      "Using FIPS code '41' for input 'OR'\n",
      "Using FIPS code '42' for input 'PA'\n",
      "Using FIPS code '72' for input 'PR'\n",
      "Using FIPS code '44' for input 'RI'\n",
      "Using FIPS code '45' for input 'SC'\n",
      "Using FIPS code '46' for input 'SD'\n",
      "Using FIPS code '47' for input 'TN'\n",
      "Using FIPS code '48' for input 'TX'\n",
      "Using FIPS code '49' for input 'UT'\n",
      "Using FIPS code '51' for input 'VA'\n",
      "Using FIPS code '78' for input 'VI'\n",
      "Using FIPS code '50' for input 'VT'\n",
      "Using FIPS code '53' for input 'WA'\n",
      "Using FIPS code '55' for input 'WI'\n",
      "Using FIPS code '54' for input 'WV'\n",
      "Using FIPS code '56' for input 'WY'\n"
     ]
    }
   ],
   "source": [
    "BG_list_2000 = []\n",
    "\n",
    "for i in states_list:\n",
    "    BG_list_2000.append(pygris.block_groups(state = i, year = 2000))"
   ]
  },
  {
   "cell_type": "code",
   "execution_count": 20,
   "id": "7bc6cbac-9139-41f4-bfd5-7a616c128c9c",
   "metadata": {
    "collapsed": true,
    "jupyter": {
     "outputs_hidden": true
    },
    "tags": []
   },
   "outputs": [
    {
     "name": "stdout",
     "output_type": "stream",
     "text": [
      "Using FIPS code '02' for input 'AK'\n",
      "Using FIPS code '01' for input 'AL'\n",
      "Using FIPS code '05' for input 'AR'\n",
      "Using FIPS code '60' for input 'AS'\n",
      "Using FIPS code '04' for input 'AZ'\n",
      "Using FIPS code '06' for input 'CA'\n",
      "Using FIPS code '08' for input 'CO'\n",
      "Using FIPS code '09' for input 'CT'\n",
      "Using FIPS code '11' for input 'DC'\n",
      "Using FIPS code '10' for input 'DE'\n",
      "Using FIPS code '12' for input 'FL'\n",
      "Using FIPS code '13' for input 'GA'\n",
      "Using FIPS code '66' for input 'GU'\n",
      "Using FIPS code '15' for input 'HI'\n",
      "Using FIPS code '19' for input 'IA'\n",
      "Using FIPS code '16' for input 'ID'\n",
      "Using FIPS code '17' for input 'IL'\n",
      "Using FIPS code '18' for input 'IN'\n",
      "Using FIPS code '20' for input 'KS'\n",
      "Using FIPS code '21' for input 'KY'\n",
      "Using FIPS code '22' for input 'LA'\n",
      "Using FIPS code '25' for input 'MA'\n",
      "Using FIPS code '24' for input 'MD'\n",
      "Using FIPS code '23' for input 'ME'\n",
      "Using FIPS code '26' for input 'MI'\n",
      "Using FIPS code '27' for input 'MN'\n",
      "Using FIPS code '29' for input 'MO'\n",
      "Using FIPS code '69' for input 'MP'\n",
      "Using FIPS code '28' for input 'MS'\n",
      "Using FIPS code '30' for input 'MT'\n",
      "Using FIPS code '37' for input 'NC'\n",
      "Using FIPS code '38' for input 'ND'\n",
      "Using FIPS code '31' for input 'NE'\n",
      "Using FIPS code '33' for input 'NH'\n",
      "Using FIPS code '34' for input 'NJ'\n",
      "Using FIPS code '35' for input 'NM'\n",
      "Using FIPS code '32' for input 'NV'\n",
      "Using FIPS code '36' for input 'NY'\n",
      "Using FIPS code '39' for input 'OH'\n",
      "Using FIPS code '40' for input 'OK'\n",
      "Using FIPS code '41' for input 'OR'\n",
      "Using FIPS code '42' for input 'PA'\n",
      "Using FIPS code '72' for input 'PR'\n",
      "Using FIPS code '44' for input 'RI'\n",
      "Using FIPS code '45' for input 'SC'\n",
      "Using FIPS code '46' for input 'SD'\n",
      "Using FIPS code '47' for input 'TN'\n",
      "Using FIPS code '48' for input 'TX'\n",
      "Using FIPS code '49' for input 'UT'\n",
      "Using FIPS code '51' for input 'VA'\n",
      "Using FIPS code '78' for input 'VI'\n",
      "Using FIPS code '50' for input 'VT'\n",
      "Using FIPS code '53' for input 'WA'\n",
      "Using FIPS code '55' for input 'WI'\n",
      "Using FIPS code '54' for input 'WV'\n",
      "Using FIPS code '56' for input 'WY'\n"
     ]
    }
   ],
   "source": [
    "BG_list_1990 = []\n",
    "\n",
    "for i in states_list:\n",
    "    BG_list_1990.append(pygris.block_groups(state = i, year = 1990, cb = True))"
   ]
  },
  {
   "cell_type": "code",
   "execution_count": 21,
   "id": "234be5f0-d951-4445-b668-b75bd4df652a",
   "metadata": {},
   "outputs": [],
   "source": [
    "temp2022 = pd.concat(BG_list_2022, ignore_index=True)\n",
    "temp2020 = pd.concat(BG_list_2020, ignore_index=True)\n",
    "temp2019 = pd.concat(BG_list_2019, ignore_index=True)\n",
    "temp2018 = pd.concat(BG_list_2018, ignore_index=True)\n",
    "temp2017 = pd.concat(BG_list_2017, ignore_index=True)\n",
    "temp2016 = pd.concat(BG_list_2016, ignore_index=True)\n",
    "temp2015 = pd.concat(BG_list_2015, ignore_index=True)\n",
    "temp2014 = pd.concat(BG_list_2014, ignore_index=True)\n",
    "temp2013 = pd.concat(BG_list_2013, ignore_index=True)\n",
    "temp2012 = pd.concat(BG_list_2012, ignore_index=True)\n",
    "temp2011 = pd.concat(BG_list_2011, ignore_index=True)\n",
    "temp2010 = pd.concat(BG_list_2010, ignore_index=True)\n",
    "temp2000 = pd.concat(BG_list_2000, ignore_index=True)\n",
    "temp1990 = pd.concat(BG_list_1990, ignore_index=True)"
   ]
  },
  {
   "cell_type": "code",
   "execution_count": 22,
   "id": "9c0afebc-e92e-4258-b93d-44ad9a6dce42",
   "metadata": {
    "tags": []
   },
   "outputs": [],
   "source": [
    "temp2022 = temp2022[['GEOID', 'geometry']]\n",
    "temp2022['year'] = 2020\n",
    "\n",
    "temp2020 = temp2020[['GEOID', 'geometry']]\n",
    "temp2020['year'] = 2020\n",
    "\n",
    "temp2019 = temp2019[['GEOID', 'geometry']]\n",
    "temp2019['year'] = 2010\n",
    "\n",
    "temp2018 = temp2018[['GEOID', 'geometry']]\n",
    "temp2018['year'] = 2010\n",
    "\n",
    "temp2017 = temp2017[['GEOID', 'geometry']]\n",
    "temp2017['year'] = 2010\n",
    "\n",
    "temp2016 = temp2016[['GEOID', 'geometry']]\n",
    "temp2016['year'] = 2010\n",
    "\n",
    "temp2015 = temp2015[['GEOID', 'geometry']]\n",
    "temp2015['year'] = 2010\n",
    "\n",
    "temp2014 = temp2014[['GEOID', 'geometry']]\n",
    "temp2014['year'] = 2010\n",
    "\n",
    "temp2013 = temp2013[['GEOID', 'geometry']]\n",
    "temp2013['year'] = 2010\n",
    "\n",
    "temp2012 = temp2012[['GEOID', 'geometry']]\n",
    "temp2012['year'] = 2010\n",
    "\n",
    "temp2011 = temp2011[['GEOID', 'geometry']]\n",
    "temp2011['year'] = 2010\n",
    "\n",
    "temp2010 = temp2010[['GEOID10', 'geometry']]\n",
    "temp2010['year'] = 2010\n",
    "\n",
    "temp2010 = temp2010.rename(columns={\"GEOID10\": \"GEOID\"})\n",
    "\n",
    "temp2000 = temp2000[['BKGPIDFP00', 'geometry']]\n",
    "temp2000['year'] = 2000\n",
    "\n",
    "temp2000 = temp2000.rename(columns={\"BKGPIDFP00\": \"GEOID\"})\n",
    "\n",
    "temp1990 = temp1990[['GEOID', 'geometry']]\n",
    "temp1990['year'] = 1990"
   ]
  },
  {
   "cell_type": "code",
   "execution_count": 154,
   "id": "d5ba0c8d-3ab7-4f6e-91c8-98125ffe7591",
   "metadata": {},
   "outputs": [],
   "source": [
    "list_censusBG = temp2022['GEOID'].dropna().drop_duplicates().astype(str).tolist()\n",
    "\n",
    "# add preceding 0 to make 4-digit zip codes into 5-digit\n",
    "list_censusBG = [censusBG.zfill(12) for censusBG in list_censusBG]"
   ]
  },
  {
   "cell_type": "code",
   "execution_count": 155,
   "id": "75896e94-2ae7-498b-873f-83e34f7dda48",
   "metadata": {
    "tags": []
   },
   "outputs": [
    {
     "data": {
      "text/plain": [
       "242748"
      ]
     },
     "execution_count": 155,
     "metadata": {},
     "output_type": "execute_result"
    }
   ],
   "source": [
    "len(list_censusBG)"
   ]
  },
  {
   "cell_type": "code",
   "execution_count": 156,
   "id": "94d2d203-8d4b-4306-bc65-76f1aa75f5d4",
   "metadata": {
    "tags": []
   },
   "outputs": [],
   "source": [
    "list_censusBG_2 = list_censusBG_2 + list_censusBG"
   ]
  },
  {
   "cell_type": "code",
   "execution_count": 157,
   "id": "7f2212ee-0bfb-4fbd-bd31-ee4313646dba",
   "metadata": {
    "tags": []
   },
   "outputs": [
    {
     "data": {
      "text/plain": [
       "653550"
      ]
     },
     "execution_count": 157,
     "metadata": {},
     "output_type": "execute_result"
    }
   ],
   "source": [
    "len(list_censusBG_2)"
   ]
  },
  {
   "cell_type": "code",
   "execution_count": 158,
   "id": "de9f58f7-3826-4d7e-82f0-c48083b1cc8e",
   "metadata": {
    "tags": []
   },
   "outputs": [],
   "source": [
    "list_censusBG_2 = list(set(list_censusBG_2))"
   ]
  },
  {
   "cell_type": "code",
   "execution_count": 159,
   "id": "5f8992fa-30c6-4899-8604-c74c6d1b0eec",
   "metadata": {
    "tags": []
   },
   "outputs": [
    {
     "data": {
      "text/plain": [
       "413519"
      ]
     },
     "execution_count": 159,
     "metadata": {},
     "output_type": "execute_result"
    }
   ],
   "source": [
    "len(list_censusBG_2)"
   ]
  },
  {
   "cell_type": "code",
   "execution_count": 160,
   "id": "08d9c808-8dcc-498d-9de8-57adb473ef9d",
   "metadata": {
    "tags": []
   },
   "outputs": [],
   "source": [
    "#CensusBG list for NC\n",
    "\n",
    "list_censusBG = df['censusBlockGroupFips'].dropna().drop_duplicates().tolist()\n",
    "\n",
    "list_censusBG = [str(int(float(i))) for i in list_censusBG]\n",
    "\n",
    "# add preceding 0 to make 4-digit zip codes into 5-digit\n",
    "list_censusBG = [censusBG.zfill(12) for censusBG in list_censusBG]"
   ]
  },
  {
   "cell_type": "code",
   "execution_count": 161,
   "id": "793735d1-895d-4f43-9189-b95f3804aa40",
   "metadata": {
    "tags": []
   },
   "outputs": [
    {
     "name": "stdout",
     "output_type": "stream",
     "text": [
      "Number of common BG: 106781\n"
     ]
    }
   ],
   "source": [
    "# Convert both lists to sets\n",
    "set_bg = set(list_censusBG)\n",
    "set_bg_2 = set(list_censusBG_2)\n",
    "\n",
    "# Find the intersection of the two sets\n",
    "common_bg = set_bg.intersection(set_bg_2)\n",
    "\n",
    "# Print the number of common zip codes\n",
    "print(\"Number of common BG:\", len(common_bg))"
   ]
  },
  {
   "cell_type": "code",
   "execution_count": 162,
   "id": "360a0c76-34ab-492f-b7e4-e0673af2ea9a",
   "metadata": {
    "tags": []
   },
   "outputs": [
    {
     "data": {
      "text/plain": [
       "0.999953177382803"
      ]
     },
     "execution_count": 162,
     "metadata": {},
     "output_type": "execute_result"
    }
   ],
   "source": [
    "len(common_bg)/len(list_censusBG)"
   ]
  },
  {
   "cell_type": "code",
   "execution_count": 163,
   "id": "77d983b4-e4df-4c9f-9c51-8c6e6963a804",
   "metadata": {
    "tags": []
   },
   "outputs": [
    {
     "data": {
      "text/plain": [
       "106781"
      ]
     },
     "execution_count": 163,
     "metadata": {},
     "output_type": "execute_result"
    }
   ],
   "source": [
    "len(common_bg)"
   ]
  },
  {
   "cell_type": "code",
   "execution_count": 164,
   "id": "72c74543-6b78-4cca-a445-2a0cb770eb3a",
   "metadata": {
    "tags": []
   },
   "outputs": [],
   "source": [
    "BG_list_df2022 = temp2022[temp2022['GEOID'].isin(common_bg)]\n",
    "BG_list_df2020 = temp2020[temp2020['GEOID'].isin(common_bg)]\n",
    "BG_list_df2019 = temp2019[temp2019['GEOID'].isin(common_bg)]\n",
    "BG_list_df2018 = temp2018[temp2018['GEOID'].isin(common_bg)]\n",
    "BG_list_df2017 = temp2017[temp2017['GEOID'].isin(common_bg)]\n",
    "BG_list_df2016 = temp2016[temp2016['GEOID'].isin(common_bg)]\n",
    "BG_list_df2015 = temp2015[temp2015['GEOID'].isin(common_bg)]\n",
    "BG_list_df2014 = temp2014[temp2014['GEOID'].isin(common_bg)]\n",
    "BG_list_df2013 = temp2013[temp2013['GEOID'].isin(common_bg)]\n",
    "BG_list_df2012 = temp2012[temp2012['GEOID'].isin(common_bg)]\n",
    "BG_list_df2011 = temp2011[temp2011['GEOID'].isin(common_bg)]\n",
    "BG_list_df2010 = temp2010[temp2010['GEOID'].isin(common_bg)]\n",
    "BG_list_df2000 = temp2000[temp2000['GEOID'].isin(common_bg)]\n",
    "BG_list_df1990 = temp1990[temp1990['GEOID'].isin(common_bg)]"
   ]
  },
  {
   "cell_type": "code",
   "execution_count": 166,
   "id": "e38ed896-d00b-4958-b2ed-cde7ea7a6728",
   "metadata": {
    "tags": []
   },
   "outputs": [
    {
     "name": "stderr",
     "output_type": "stream",
     "text": [
      "/hpc/home/lk220/.local/lib/python3.9/site-packages/geopandas/array.py:1486: UserWarning: CRS not set for some of the concatenation inputs. Setting output's CRS as NAD83 (the single non-null crs provided).\n",
      "  warnings.warn(\n"
     ]
    }
   ],
   "source": [
    "BG_df = pd.concat([BG_list_df2022, BG_list_df2020, BG_list_df2019,BG_list_df2013,BG_list_df2012, BG_list_df2011, BG_list_df2010, BG_list_df2000, BG_list_df1990], ignore_index=True)"
   ]
  },
  {
   "cell_type": "code",
   "execution_count": 167,
   "id": "e320c971-1640-46dd-80d9-cd3eb3c76bdd",
   "metadata": {
    "tags": []
   },
   "outputs": [],
   "source": [
    "BG_df2 = BG_df.drop_duplicates()"
   ]
  },
  {
   "cell_type": "code",
   "execution_count": 168,
   "id": "a018b632-814a-42fe-863e-06655ca55609",
   "metadata": {
    "tags": []
   },
   "outputs": [
    {
     "data": {
      "text/plain": [
       "823477"
      ]
     },
     "execution_count": 168,
     "metadata": {},
     "output_type": "execute_result"
    }
   ],
   "source": [
    "BG_df.shape[0] "
   ]
  },
  {
   "cell_type": "code",
   "execution_count": 169,
   "id": "89a7beb4-f5ff-4c89-bc04-a95efc8e5fda",
   "metadata": {
    "tags": []
   },
   "outputs": [
    {
     "data": {
      "text/plain": [
       "698348"
      ]
     },
     "execution_count": 169,
     "metadata": {},
     "output_type": "execute_result"
    }
   ],
   "source": [
    "BG_df2.shape[0]"
   ]
  },
  {
   "cell_type": "code",
   "execution_count": 171,
   "id": "4857c91f-4270-4576-bc3a-2a9138c9c70f",
   "metadata": {},
   "outputs": [],
   "source": [
    "BG_df2 = BG_df2.drop_duplicates(subset=['GEOID', 'year'])"
   ]
  },
  {
   "cell_type": "code",
   "execution_count": 172,
   "id": "39c6901e-939b-43e1-807e-8c99c4041eb0",
   "metadata": {},
   "outputs": [
    {
     "data": {
      "text/plain": [
       "318973"
      ]
     },
     "execution_count": 172,
     "metadata": {},
     "output_type": "execute_result"
    }
   ],
   "source": [
    "BG_df2.shape[0]"
   ]
  },
  {
   "cell_type": "code",
   "execution_count": 173,
   "id": "8c49eb5f-86b8-4ec6-8788-14ba6d7e041a",
   "metadata": {},
   "outputs": [
    {
     "name": "stderr",
     "output_type": "stream",
     "text": [
      "/hpc/home/lk220/.local/lib/python3.9/site-packages/geopandas/geodataframe.py:1537: UserWarning: Geometry column does not contain geometry.\n",
      "  warnings.warn(\"Geometry column does not contain geometry.\")\n",
      "/hpc/home/lk220/.local/lib/python3.9/site-packages/geopandas/geodataframe.py:1537: UserWarning: Geometry column does not contain geometry.\n",
      "  warnings.warn(\"Geometry column does not contain geometry.\")\n",
      "/hpc/home/lk220/.local/lib/python3.9/site-packages/geopandas/geodataframe.py:1537: UserWarning: Geometry column does not contain geometry.\n",
      "  warnings.warn(\"Geometry column does not contain geometry.\")\n",
      "/hpc/home/lk220/.local/lib/python3.9/site-packages/geopandas/geodataframe.py:1537: UserWarning: Geometry column does not contain geometry.\n",
      "  warnings.warn(\"Geometry column does not contain geometry.\")\n",
      "/hpc/home/lk220/.local/lib/python3.9/site-packages/geopandas/geodataframe.py:1537: UserWarning: Geometry column does not contain geometry.\n",
      "  warnings.warn(\"Geometry column does not contain geometry.\")\n",
      "/hpc/home/lk220/.local/lib/python3.9/site-packages/geopandas/geodataframe.py:1537: UserWarning: Geometry column does not contain geometry.\n",
      "  warnings.warn(\"Geometry column does not contain geometry.\")\n",
      "/hpc/home/lk220/.local/lib/python3.9/site-packages/geopandas/geodataframe.py:1537: UserWarning: Geometry column does not contain geometry.\n",
      "  warnings.warn(\"Geometry column does not contain geometry.\")\n",
      "/hpc/home/lk220/.local/lib/python3.9/site-packages/geopandas/geodataframe.py:1537: UserWarning: Geometry column does not contain geometry.\n",
      "  warnings.warn(\"Geometry column does not contain geometry.\")\n"
     ]
    }
   ],
   "source": [
    "chunk_size = 40000  # adjust based on your system's capabilities\n",
    "chunks = [x for x in range(0, len(BG_df2), chunk_size)]\n",
    "\n",
    "for start in chunks:\n",
    "    end = start + chunk_size\n",
    "    temp_df = BG_df2.iloc[start:end].copy()\n",
    "    temp_df['geometry'] = temp_df['geometry'].apply(lambda geom: geom.wkt)\n",
    "    temp_df.to_parquet(f\"BG_geometry_{start}_{end}.parquet.gzip\", compression='gzip')"
   ]
  }
 ],
 "metadata": {
  "kernelspec": {
   "display_name": "Python 3 (ipykernel)",
   "language": "python",
   "name": "python3"
  },
  "language_info": {
   "codemirror_mode": {
    "name": "ipython",
    "version": 3
   },
   "file_extension": ".py",
   "mimetype": "text/x-python",
   "name": "python",
   "nbconvert_exporter": "python",
   "pygments_lexer": "ipython3",
   "version": "3.8.17"
  }
 },
 "nbformat": 4,
 "nbformat_minor": 5
}
